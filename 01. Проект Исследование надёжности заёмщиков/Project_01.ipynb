{
 "cells": [
  {
   "cell_type": "markdown",
   "metadata": {},
   "source": [
    "# Исследование надёжности заёмщиков\n",
    "\n",
    "Заказчик — кредитный отдел банка. Нужно разобраться, влияет ли семейное положение и количество детей клиента на факт погашения кредита в срок. Входные данные от банка — статистика о платёжеспособности клиентов.\n",
    "\n",
    "Результаты исследования будут учтены при построении модели **кредитного скоринга** — специальной системы, которая оценивает способность потенциального заёмщика вернуть кредит банку."
   ]
  },
  {
   "cell_type": "markdown",
   "metadata": {},
   "source": [
    "**Сформулируем цель исследования**\n",
    "\n",
    "Цель - разобраться, влияет ли семейное положение и количество детей клиента на факт погашения кредита в срок на основе статистики о платёжеспособности клиентов.\n"
   ]
  },
  {
   "cell_type": "markdown",
   "metadata": {},
   "source": [
    "**Объект исследования**\n",
    "\n",
    "Объектом исследования выступает статистика о платёжеспособности клиентов, содержащаяся в файле `/datasets/data.csv`"
   ]
  },
  {
   "cell_type": "markdown",
   "metadata": {},
   "source": [
    "**Сформулируем задачи, которые предполагается решить для достижения цели исследования**\n",
    "\n",
    "1. Определить, есть ли зависимость между семейным положением и фактом погашения кредита в срок.\n",
    "2. Определить, есть ли зависимость между количеством детей и фактом погашения кредита в срок.\n",
    "3. Определить, есть ли зависимость между уровнем дохода и фактом погашения кредита в срок.\n",
    "4. Определить, как разные цели кредита влияют на его возврат в срок.\n"
   ]
  },
  {
   "cell_type": "markdown",
   "metadata": {},
   "source": [
    "**План исследования**\n",
    "1. [Обзор данных](#section_1)\n",
    "2. [Предобработка данных](#section_2)\n",
    "3. [Решение задач исследования](#section_3)\n",
    "4. [Выводы](#section_4)\n",
    "5. [Заполнение чек-листа](#section_5)"
   ]
  },
  {
   "cell_type": "markdown",
   "metadata": {},
   "source": [
    "<a id='section_1'></a>\n",
    "## Шаг 1. Обзор данных\n"
   ]
  },
  {
   "cell_type": "markdown",
   "metadata": {},
   "source": [
    "Импортируем `pandas`"
   ]
  },
  {
   "cell_type": "code",
   "execution_count": 1,
   "metadata": {},
   "outputs": [],
   "source": [
    "import pandas as pd"
   ]
  },
  {
   "cell_type": "markdown",
   "metadata": {},
   "source": [
    "Прочитаем файл `/datasets/data.csv` "
   ]
  },
  {
   "cell_type": "code",
   "execution_count": 2,
   "metadata": {},
   "outputs": [],
   "source": [
    "df=pd.read_csv('/datasets/data.csv')"
   ]
  },
  {
   "cell_type": "markdown",
   "metadata": {},
   "source": [
    "Выведем первые 10 строк на экран для ознакомления"
   ]
  },
  {
   "cell_type": "code",
   "execution_count": 3,
   "metadata": {},
   "outputs": [
    {
     "data": {
      "text/html": [
       "<div>\n",
       "<style scoped>\n",
       "    .dataframe tbody tr th:only-of-type {\n",
       "        vertical-align: middle;\n",
       "    }\n",
       "\n",
       "    .dataframe tbody tr th {\n",
       "        vertical-align: top;\n",
       "    }\n",
       "\n",
       "    .dataframe thead th {\n",
       "        text-align: right;\n",
       "    }\n",
       "</style>\n",
       "<table border=\"1\" class=\"dataframe\">\n",
       "  <thead>\n",
       "    <tr style=\"text-align: right;\">\n",
       "      <th></th>\n",
       "      <th>children</th>\n",
       "      <th>days_employed</th>\n",
       "      <th>dob_years</th>\n",
       "      <th>education</th>\n",
       "      <th>education_id</th>\n",
       "      <th>family_status</th>\n",
       "      <th>family_status_id</th>\n",
       "      <th>gender</th>\n",
       "      <th>income_type</th>\n",
       "      <th>debt</th>\n",
       "      <th>total_income</th>\n",
       "      <th>purpose</th>\n",
       "    </tr>\n",
       "  </thead>\n",
       "  <tbody>\n",
       "    <tr>\n",
       "      <td>0</td>\n",
       "      <td>1</td>\n",
       "      <td>-8437.673028</td>\n",
       "      <td>42</td>\n",
       "      <td>высшее</td>\n",
       "      <td>0</td>\n",
       "      <td>женат / замужем</td>\n",
       "      <td>0</td>\n",
       "      <td>F</td>\n",
       "      <td>сотрудник</td>\n",
       "      <td>0</td>\n",
       "      <td>253875.639453</td>\n",
       "      <td>покупка жилья</td>\n",
       "    </tr>\n",
       "    <tr>\n",
       "      <td>1</td>\n",
       "      <td>1</td>\n",
       "      <td>-4024.803754</td>\n",
       "      <td>36</td>\n",
       "      <td>среднее</td>\n",
       "      <td>1</td>\n",
       "      <td>женат / замужем</td>\n",
       "      <td>0</td>\n",
       "      <td>F</td>\n",
       "      <td>сотрудник</td>\n",
       "      <td>0</td>\n",
       "      <td>112080.014102</td>\n",
       "      <td>приобретение автомобиля</td>\n",
       "    </tr>\n",
       "    <tr>\n",
       "      <td>2</td>\n",
       "      <td>0</td>\n",
       "      <td>-5623.422610</td>\n",
       "      <td>33</td>\n",
       "      <td>Среднее</td>\n",
       "      <td>1</td>\n",
       "      <td>женат / замужем</td>\n",
       "      <td>0</td>\n",
       "      <td>M</td>\n",
       "      <td>сотрудник</td>\n",
       "      <td>0</td>\n",
       "      <td>145885.952297</td>\n",
       "      <td>покупка жилья</td>\n",
       "    </tr>\n",
       "    <tr>\n",
       "      <td>3</td>\n",
       "      <td>3</td>\n",
       "      <td>-4124.747207</td>\n",
       "      <td>32</td>\n",
       "      <td>среднее</td>\n",
       "      <td>1</td>\n",
       "      <td>женат / замужем</td>\n",
       "      <td>0</td>\n",
       "      <td>M</td>\n",
       "      <td>сотрудник</td>\n",
       "      <td>0</td>\n",
       "      <td>267628.550329</td>\n",
       "      <td>дополнительное образование</td>\n",
       "    </tr>\n",
       "    <tr>\n",
       "      <td>4</td>\n",
       "      <td>0</td>\n",
       "      <td>340266.072047</td>\n",
       "      <td>53</td>\n",
       "      <td>среднее</td>\n",
       "      <td>1</td>\n",
       "      <td>гражданский брак</td>\n",
       "      <td>1</td>\n",
       "      <td>F</td>\n",
       "      <td>пенсионер</td>\n",
       "      <td>0</td>\n",
       "      <td>158616.077870</td>\n",
       "      <td>сыграть свадьбу</td>\n",
       "    </tr>\n",
       "    <tr>\n",
       "      <td>5</td>\n",
       "      <td>0</td>\n",
       "      <td>-926.185831</td>\n",
       "      <td>27</td>\n",
       "      <td>высшее</td>\n",
       "      <td>0</td>\n",
       "      <td>гражданский брак</td>\n",
       "      <td>1</td>\n",
       "      <td>M</td>\n",
       "      <td>компаньон</td>\n",
       "      <td>0</td>\n",
       "      <td>255763.565419</td>\n",
       "      <td>покупка жилья</td>\n",
       "    </tr>\n",
       "    <tr>\n",
       "      <td>6</td>\n",
       "      <td>0</td>\n",
       "      <td>-2879.202052</td>\n",
       "      <td>43</td>\n",
       "      <td>высшее</td>\n",
       "      <td>0</td>\n",
       "      <td>женат / замужем</td>\n",
       "      <td>0</td>\n",
       "      <td>F</td>\n",
       "      <td>компаньон</td>\n",
       "      <td>0</td>\n",
       "      <td>240525.971920</td>\n",
       "      <td>операции с жильем</td>\n",
       "    </tr>\n",
       "    <tr>\n",
       "      <td>7</td>\n",
       "      <td>0</td>\n",
       "      <td>-152.779569</td>\n",
       "      <td>50</td>\n",
       "      <td>СРЕДНЕЕ</td>\n",
       "      <td>1</td>\n",
       "      <td>женат / замужем</td>\n",
       "      <td>0</td>\n",
       "      <td>M</td>\n",
       "      <td>сотрудник</td>\n",
       "      <td>0</td>\n",
       "      <td>135823.934197</td>\n",
       "      <td>образование</td>\n",
       "    </tr>\n",
       "    <tr>\n",
       "      <td>8</td>\n",
       "      <td>2</td>\n",
       "      <td>-6929.865299</td>\n",
       "      <td>35</td>\n",
       "      <td>ВЫСШЕЕ</td>\n",
       "      <td>0</td>\n",
       "      <td>гражданский брак</td>\n",
       "      <td>1</td>\n",
       "      <td>F</td>\n",
       "      <td>сотрудник</td>\n",
       "      <td>0</td>\n",
       "      <td>95856.832424</td>\n",
       "      <td>на проведение свадьбы</td>\n",
       "    </tr>\n",
       "    <tr>\n",
       "      <td>9</td>\n",
       "      <td>0</td>\n",
       "      <td>-2188.756445</td>\n",
       "      <td>41</td>\n",
       "      <td>среднее</td>\n",
       "      <td>1</td>\n",
       "      <td>женат / замужем</td>\n",
       "      <td>0</td>\n",
       "      <td>M</td>\n",
       "      <td>сотрудник</td>\n",
       "      <td>0</td>\n",
       "      <td>144425.938277</td>\n",
       "      <td>покупка жилья для семьи</td>\n",
       "    </tr>\n",
       "  </tbody>\n",
       "</table>\n",
       "</div>"
      ],
      "text/plain": [
       "   children  days_employed  dob_years education  education_id  \\\n",
       "0         1   -8437.673028         42    высшее             0   \n",
       "1         1   -4024.803754         36   среднее             1   \n",
       "2         0   -5623.422610         33   Среднее             1   \n",
       "3         3   -4124.747207         32   среднее             1   \n",
       "4         0  340266.072047         53   среднее             1   \n",
       "5         0    -926.185831         27    высшее             0   \n",
       "6         0   -2879.202052         43    высшее             0   \n",
       "7         0    -152.779569         50   СРЕДНЕЕ             1   \n",
       "8         2   -6929.865299         35    ВЫСШЕЕ             0   \n",
       "9         0   -2188.756445         41   среднее             1   \n",
       "\n",
       "      family_status  family_status_id gender income_type  debt   total_income  \\\n",
       "0   женат / замужем                 0      F   сотрудник     0  253875.639453   \n",
       "1   женат / замужем                 0      F   сотрудник     0  112080.014102   \n",
       "2   женат / замужем                 0      M   сотрудник     0  145885.952297   \n",
       "3   женат / замужем                 0      M   сотрудник     0  267628.550329   \n",
       "4  гражданский брак                 1      F   пенсионер     0  158616.077870   \n",
       "5  гражданский брак                 1      M   компаньон     0  255763.565419   \n",
       "6   женат / замужем                 0      F   компаньон     0  240525.971920   \n",
       "7   женат / замужем                 0      M   сотрудник     0  135823.934197   \n",
       "8  гражданский брак                 1      F   сотрудник     0   95856.832424   \n",
       "9   женат / замужем                 0      M   сотрудник     0  144425.938277   \n",
       "\n",
       "                      purpose  \n",
       "0               покупка жилья  \n",
       "1     приобретение автомобиля  \n",
       "2               покупка жилья  \n",
       "3  дополнительное образование  \n",
       "4             сыграть свадьбу  \n",
       "5               покупка жилья  \n",
       "6           операции с жильем  \n",
       "7                 образование  \n",
       "8       на проведение свадьбы  \n",
       "9     покупка жилья для семьи  "
      ]
     },
     "execution_count": 3,
     "metadata": {},
     "output_type": "execute_result"
    }
   ],
   "source": [
    "df.head(10)"
   ]
  },
  {
   "cell_type": "markdown",
   "metadata": {},
   "source": [
    "Согласно исходным данным, в стобцах содержится следующая информация:"
   ]
  },
  {
   "cell_type": "markdown",
   "metadata": {},
   "source": [
    "• `children` — количество детей в семье\n",
    "\n",
    "• `days_employed` — общий трудовой стаж в днях\n",
    "\n",
    "• `dob_years` — возраст клиента в годах\n",
    "\n",
    "• `education` — уровень образования клиента\n",
    "\n",
    "• `education_id` — идентификатор уровня образования\n",
    "\n",
    "• `family_status` — семейное положение\n",
    "\n",
    "• `family_status_id` — идентификатор семейного положения\n",
    "\n",
    "• `gender` — пол клиента\n",
    "\n",
    "• `income_type` — тип занятости\n",
    "\n",
    "• `debt` — имел ли задолженность по возврату кредитов\n",
    "\n",
    "• `total_income` — ежемесячный доход\n",
    "\n",
    "• `purpose` — цель получения кредита"
   ]
  },
  {
   "cell_type": "markdown",
   "metadata": {},
   "source": [
    "Любопытно, что в общем трудовом стаже встречаются отрицательные значения и очень большие, и с дробной частью. Возможно ошибка при заполнении таблицы, конвертации в число. Можно уточнить, но нам этот столбец не критичен, поэтому можем оставить как есть.\n",
    "\n",
    "В столбце с образованием встречаются разные варианты записей. Можем поправить, хоть нам это и не критично.\n",
    "\n",
    "В каких единицах уровень дохода - не указано. Предполагаем, что в рублях. Но пока нет подтверждения, будем считать некими условными денежными единицами (у.д.е.)"
   ]
  },
  {
   "cell_type": "markdown",
   "metadata": {},
   "source": [
    "Посмотрим общую информацию о таблице:"
   ]
  },
  {
   "cell_type": "code",
   "execution_count": 4,
   "metadata": {
    "scrolled": true
   },
   "outputs": [
    {
     "name": "stdout",
     "output_type": "stream",
     "text": [
      "<class 'pandas.core.frame.DataFrame'>\n",
      "RangeIndex: 21525 entries, 0 to 21524\n",
      "Data columns (total 12 columns):\n",
      "children            21525 non-null int64\n",
      "days_employed       19351 non-null float64\n",
      "dob_years           21525 non-null int64\n",
      "education           21525 non-null object\n",
      "education_id        21525 non-null int64\n",
      "family_status       21525 non-null object\n",
      "family_status_id    21525 non-null int64\n",
      "gender              21525 non-null object\n",
      "income_type         21525 non-null object\n",
      "debt                21525 non-null int64\n",
      "total_income        19351 non-null float64\n",
      "purpose             21525 non-null object\n",
      "dtypes: float64(2), int64(5), object(5)\n",
      "memory usage: 2.0+ MB\n"
     ]
    }
   ],
   "source": [
    "df.info()"
   ]
  },
  {
   "cell_type": "markdown",
   "metadata": {},
   "source": [
    "**Выводы**:\n",
    "\n",
    "Файл прочитался без ошибок и столбцы соответствуют описанию. Названия столбцов корректны (без пробелов, латиницей и нет заглавных букв). Важная информация о количестве детей, семейном положении присутствует, уровне доходов, целях кредита и наличии задолженности присутствует. Однако количество значений в столбцах отличается, что говорит о наличии пропусков в столбцах. В столбце со стажем, встречаются некорректые значения. В столбце с образованием встречаются разные варианты записей. С этим разберёмся на этапе предобработки данных. "
   ]
  },
  {
   "cell_type": "markdown",
   "metadata": {},
   "source": [
    "<a id='section_2'></a>\n",
    "## Шаг 2. Предобработка данных"
   ]
  },
  {
   "cell_type": "markdown",
   "metadata": {},
   "source": [
    "### Обработка пропусков\n",
    "\n",
    "Как уже определили выше, в столбцах есть явные пропуски, которые попробуем обработать"
   ]
  },
  {
   "cell_type": "code",
   "execution_count": 5,
   "metadata": {},
   "outputs": [
    {
     "data": {
      "text/plain": [
       "children               0\n",
       "days_employed       2174\n",
       "dob_years              0\n",
       "education              0\n",
       "education_id           0\n",
       "family_status          0\n",
       "family_status_id       0\n",
       "gender                 0\n",
       "income_type            0\n",
       "debt                   0\n",
       "total_income        2174\n",
       "purpose                0\n",
       "dtype: int64"
      ]
     },
     "execution_count": 5,
     "metadata": {},
     "output_type": "execute_result"
    }
   ],
   "source": [
    "df.isna().sum()"
   ]
  },
  {
   "cell_type": "markdown",
   "metadata": {},
   "source": [
    "Явные пропуски встречаются в столбцах с общим трудовым стажем в днях и ежемесячным доходом. По большому счёту для ответа на поставленные в исследовании вопросы информация о стаже не важна, однако ежемесечный доход важен и нам его желательно корректно заполнить. Возможно причина пропусков в некорректном заполнении формы. Маловероятно, что банк выдал кредит людям без дохода."
   ]
  },
  {
   "cell_type": "markdown",
   "metadata": {},
   "source": [
    "Инерес вызывает факт, что количество пропусков этих столбцах совпадает. Проверим предположение, что пропуски встречаются в одних записях. Проверим это. Определим количество строк, у которых пропуски и в `days_employed` и в `total_income`"
   ]
  },
  {
   "cell_type": "code",
   "execution_count": 6,
   "metadata": {},
   "outputs": [
    {
     "data": {
      "text/plain": [
       "2174"
      ]
     },
     "execution_count": 6,
     "metadata": {},
     "output_type": "execute_result"
    }
   ],
   "source": [
    "len(df.loc[(df['days_employed'].isna()==True) & (df['total_income'].isna()==True)])"
   ]
  },
  {
   "cell_type": "markdown",
   "metadata": {},
   "source": [
    "Цифры совпадают, что говорит о том, что наше предположение верно и пропуски одновременно в двух стобцах. Логично предположить, что такие пропуски имеют безработные. Проверим, кокой тип занятости `income_type` имеют записи с пропусками."
   ]
  },
  {
   "cell_type": "code",
   "execution_count": 7,
   "metadata": {},
   "outputs": [
    {
     "data": {
      "text/plain": [
       "сотрудник          1105\n",
       "компаньон           508\n",
       "пенсионер           413\n",
       "госслужащий         147\n",
       "предприниматель       1\n",
       "Name: income_type, dtype: int64"
      ]
     },
     "execution_count": 7,
     "metadata": {},
     "output_type": "execute_result"
    }
   ],
   "source": [
    "df.loc[(df['days_employed'].isna()==True) & (df['total_income'].isna()==True)]['income_type'].value_counts()"
   ]
  },
  {
   "cell_type": "markdown",
   "metadata": {},
   "source": [
    "Безработных нет)) Тип занятости - различный. Посмотрим, сколько вообще каких бывает типов занятости в исходной таблице"
   ]
  },
  {
   "cell_type": "code",
   "execution_count": 8,
   "metadata": {},
   "outputs": [
    {
     "data": {
      "text/plain": [
       "сотрудник          11119\n",
       "компаньон           5085\n",
       "пенсионер           3856\n",
       "госслужащий         1459\n",
       "безработный            2\n",
       "предприниматель        2\n",
       "студент                1\n",
       "в декрете              1\n",
       "Name: income_type, dtype: int64"
      ]
     },
     "execution_count": 8,
     "metadata": {},
     "output_type": "execute_result"
    }
   ],
   "source": [
    "df['income_type'].value_counts()"
   ]
  },
  {
   "cell_type": "markdown",
   "metadata": {},
   "source": [
    "Из общего перечня типов занятости в перечень с пропусками не попали студент, безработный и в декрете. Для дальнейшей обработки записей можем их отбросить, либо чем-то заменить. Если отбросить - то потеряем примерно 10% каждой категории и 50% для предпринимателя. Если не отбросим, то возможны искажения реальных цифр. Эти искажения могут возникнуть только для 3-ей задачи. "
   ]
  },
  {
   "cell_type": "markdown",
   "metadata": {},
   "source": [
    "Логичным видится следующее, пропуски в стобце `days_employed`, как несущественные, заменим 0. "
   ]
  },
  {
   "cell_type": "code",
   "execution_count": 9,
   "metadata": {},
   "outputs": [],
   "source": [
    "df.loc[df['days_employed'].isna()==True, 'days_employed'] = 0"
   ]
  },
  {
   "cell_type": "markdown",
   "metadata": {},
   "source": [
    "Проверим, что NaN ушли из столбца"
   ]
  },
  {
   "cell_type": "code",
   "execution_count": 10,
   "metadata": {},
   "outputs": [
    {
     "data": {
      "text/plain": [
       "children               0\n",
       "days_employed          0\n",
       "dob_years              0\n",
       "education              0\n",
       "education_id           0\n",
       "family_status          0\n",
       "family_status_id       0\n",
       "gender                 0\n",
       "income_type            0\n",
       "debt                   0\n",
       "total_income        2174\n",
       "purpose                0\n",
       "dtype: int64"
      ]
     },
     "execution_count": 10,
     "metadata": {},
     "output_type": "execute_result"
    }
   ],
   "source": [
    "df.isna().sum()"
   ]
  },
  {
   "cell_type": "markdown",
   "metadata": {},
   "source": [
    "Верно.Для `total_income` заменим значение средним заработком в каждом типе занятости и добавим столбец `not_trusted` с признаком, что значение взято по среднему. Этот столбец учтём, когда будем считать зависимость от заработка. Значение True столбец принимает, если значение `total_income` взято по среднему."
   ]
  },
  {
   "cell_type": "code",
   "execution_count": 11,
   "metadata": {},
   "outputs": [],
   "source": [
    "df['not_trusted'] = df['total_income'].isna()"
   ]
  },
  {
   "cell_type": "markdown",
   "metadata": {},
   "source": [
    "Проверим, совпадает ли сумма `not_trusted` с количеством пропусков в столбце `total_income`."
   ]
  },
  {
   "cell_type": "code",
   "execution_count": 12,
   "metadata": {
    "scrolled": true
   },
   "outputs": [
    {
     "data": {
      "text/plain": [
       "2174"
      ]
     },
     "execution_count": 12,
     "metadata": {},
     "output_type": "execute_result"
    }
   ],
   "source": [
    "df['not_trusted'].sum()"
   ]
  },
  {
   "cell_type": "markdown",
   "metadata": {},
   "source": [
    "Вышло. Теперь заменим пропуски средним. Для начала определим средний зарабаток в каждой категории."
   ]
  },
  {
   "cell_type": "code",
   "execution_count": 13,
   "metadata": {
    "scrolled": true
   },
   "outputs": [],
   "source": [
    "mean_incomes=df.groupby('income_type')['total_income'].mean()"
   ]
  },
  {
   "cell_type": "code",
   "execution_count": 14,
   "metadata": {
    "scrolled": true
   },
   "outputs": [
    {
     "data": {
      "text/plain": [
       "income_type\n",
       "безработный        131339.751676\n",
       "в декрете           53829.130729\n",
       "госслужащий        170898.309923\n",
       "компаньон          202417.461462\n",
       "пенсионер          137127.465690\n",
       "предприниматель    499163.144947\n",
       "сотрудник          161380.260488\n",
       "студент             98201.625314\n",
       "Name: total_income, dtype: float64"
      ]
     },
     "execution_count": 14,
     "metadata": {},
     "output_type": "execute_result"
    }
   ],
   "source": [
    "mean_incomes"
   ]
  },
  {
   "cell_type": "markdown",
   "metadata": {},
   "source": [
    "Определим уникальные значения `income_type` в таблице, имеющие пропуски"
   ]
  },
  {
   "cell_type": "code",
   "execution_count": 15,
   "metadata": {},
   "outputs": [],
   "source": [
    "incomes=df[df['total_income'].isna()==True]['income_type'].unique()"
   ]
  },
  {
   "cell_type": "code",
   "execution_count": 16,
   "metadata": {
    "scrolled": false
   },
   "outputs": [
    {
     "data": {
      "text/plain": [
       "array(['пенсионер', 'госслужащий', 'компаньон', 'сотрудник',\n",
       "       'предприниматель'], dtype=object)"
      ]
     },
     "execution_count": 16,
     "metadata": {},
     "output_type": "execute_result"
    }
   ],
   "source": [
    "incomes"
   ]
  },
  {
   "cell_type": "markdown",
   "metadata": {},
   "source": [
    "Произведём замену"
   ]
  },
  {
   "cell_type": "code",
   "execution_count": 17,
   "metadata": {
    "scrolled": true
   },
   "outputs": [],
   "source": [
    "for income in incomes:\n",
    "    df.loc[(df['total_income'].isna()==True) & (df['income_type']==income), 'total_income']=mean_incomes[income]"
   ]
  },
  {
   "cell_type": "markdown",
   "metadata": {},
   "source": [
    "Проверим, изменились ли средние заработки"
   ]
  },
  {
   "cell_type": "code",
   "execution_count": 18,
   "metadata": {
    "scrolled": true
   },
   "outputs": [
    {
     "data": {
      "text/plain": [
       "income_type\n",
       "безработный        131339.751676\n",
       "в декрете           53829.130729\n",
       "госслужащий        170898.309923\n",
       "компаньон          202417.461462\n",
       "пенсионер          137127.465690\n",
       "предприниматель    499163.144947\n",
       "сотрудник          161380.260488\n",
       "студент             98201.625314\n",
       "Name: total_income, dtype: float64"
      ]
     },
     "execution_count": 18,
     "metadata": {},
     "output_type": "execute_result"
    }
   ],
   "source": [
    "df.groupby('income_type')['total_income'].mean()"
   ]
  },
  {
   "cell_type": "markdown",
   "metadata": {},
   "source": [
    "Средние заработки не изменились. Проверим, остались ли пропуски в таблице"
   ]
  },
  {
   "cell_type": "code",
   "execution_count": 19,
   "metadata": {},
   "outputs": [
    {
     "data": {
      "text/plain": [
       "children            0\n",
       "days_employed       0\n",
       "dob_years           0\n",
       "education           0\n",
       "education_id        0\n",
       "family_status       0\n",
       "family_status_id    0\n",
       "gender              0\n",
       "income_type         0\n",
       "debt                0\n",
       "total_income        0\n",
       "purpose             0\n",
       "not_trusted         0\n",
       "dtype: int64"
      ]
     },
     "execution_count": 19,
     "metadata": {},
     "output_type": "execute_result"
    }
   ],
   "source": [
    "df.isna().sum()"
   ]
  },
  {
   "cell_type": "markdown",
   "metadata": {},
   "source": [
    "Пропуски ушли. Попробуем разобраться с другими значимыми для нас столбцами. Для начала помотрим на `debt`"
   ]
  },
  {
   "cell_type": "code",
   "execution_count": 20,
   "metadata": {},
   "outputs": [
    {
     "data": {
      "text/plain": [
       "0    19784\n",
       "1     1741\n",
       "Name: debt, dtype: int64"
      ]
     },
     "execution_count": 20,
     "metadata": {},
     "output_type": "execute_result"
    }
   ],
   "source": [
    "df['debt'].value_counts()"
   ]
  },
  {
   "cell_type": "markdown",
   "metadata": {},
   "source": [
    "Тут всё нормально. Посмотрим на семейное положение `family_status`"
   ]
  },
  {
   "cell_type": "code",
   "execution_count": 21,
   "metadata": {},
   "outputs": [
    {
     "data": {
      "text/plain": [
       "женат / замужем          12380\n",
       "гражданский брак          4177\n",
       "Не женат / не замужем     2813\n",
       "в разводе                 1195\n",
       "вдовец / вдова             960\n",
       "Name: family_status, dtype: int64"
      ]
     },
     "execution_count": 21,
     "metadata": {},
     "output_type": "execute_result"
    }
   ],
   "source": [
    "df['family_status'].value_counts()"
   ]
  },
  {
   "cell_type": "markdown",
   "metadata": {},
   "source": [
    "Тоже нас устроит. Посмотрим на уровни дохода `total_income`."
   ]
  },
  {
   "cell_type": "code",
   "execution_count": 22,
   "metadata": {},
   "outputs": [
    {
     "data": {
      "text/plain": [
       "count    2.152500e+04\n",
       "mean     1.673959e+05\n",
       "std      9.790695e+04\n",
       "min      2.066726e+04\n",
       "25%      1.077982e+05\n",
       "50%      1.519313e+05\n",
       "75%      2.024175e+05\n",
       "max      2.265604e+06\n",
       "Name: total_income, dtype: float64"
      ]
     },
     "execution_count": 22,
     "metadata": {},
     "output_type": "execute_result"
    }
   ],
   "source": [
    "df['total_income'].describe()"
   ]
  },
  {
   "cell_type": "markdown",
   "metadata": {},
   "source": [
    "Тоже более-меннее. Посмотрим количество уникальных значений в столбце `children`."
   ]
  },
  {
   "cell_type": "code",
   "execution_count": 23,
   "metadata": {},
   "outputs": [
    {
     "data": {
      "text/plain": [
       " 0     14149\n",
       " 1      4818\n",
       " 2      2055\n",
       " 3       330\n",
       " 20       76\n",
       "-1        47\n",
       " 4        41\n",
       " 5         9\n",
       "Name: children, dtype: int64"
      ]
     },
     "execution_count": 23,
     "metadata": {},
     "output_type": "execute_result"
    }
   ],
   "source": [
    "df['children'].value_counts()"
   ]
  },
  {
   "cell_type": "markdown",
   "metadata": {},
   "source": [
    "Любопытно, что встречается -1 ребёнок и 20. Здесь явная ошибка. Посмотрим на эти записи"
   ]
  },
  {
   "cell_type": "code",
   "execution_count": 24,
   "metadata": {},
   "outputs": [
    {
     "data": {
      "text/html": [
       "<div>\n",
       "<style scoped>\n",
       "    .dataframe tbody tr th:only-of-type {\n",
       "        vertical-align: middle;\n",
       "    }\n",
       "\n",
       "    .dataframe tbody tr th {\n",
       "        vertical-align: top;\n",
       "    }\n",
       "\n",
       "    .dataframe thead th {\n",
       "        text-align: right;\n",
       "    }\n",
       "</style>\n",
       "<table border=\"1\" class=\"dataframe\">\n",
       "  <thead>\n",
       "    <tr style=\"text-align: right;\">\n",
       "      <th></th>\n",
       "      <th>children</th>\n",
       "      <th>days_employed</th>\n",
       "      <th>dob_years</th>\n",
       "      <th>education</th>\n",
       "      <th>education_id</th>\n",
       "      <th>family_status</th>\n",
       "      <th>family_status_id</th>\n",
       "      <th>gender</th>\n",
       "      <th>income_type</th>\n",
       "      <th>debt</th>\n",
       "      <th>total_income</th>\n",
       "      <th>purpose</th>\n",
       "      <th>not_trusted</th>\n",
       "    </tr>\n",
       "  </thead>\n",
       "  <tbody>\n",
       "    <tr>\n",
       "      <td>14357</td>\n",
       "      <td>-1</td>\n",
       "      <td>-268.337037</td>\n",
       "      <td>23</td>\n",
       "      <td>среднее</td>\n",
       "      <td>1</td>\n",
       "      <td>в разводе</td>\n",
       "      <td>3</td>\n",
       "      <td>F</td>\n",
       "      <td>компаньон</td>\n",
       "      <td>0</td>\n",
       "      <td>92257.579312</td>\n",
       "      <td>покупка жилой недвижимости</td>\n",
       "      <td>False</td>\n",
       "    </tr>\n",
       "    <tr>\n",
       "      <td>3814</td>\n",
       "      <td>-1</td>\n",
       "      <td>-3045.290443</td>\n",
       "      <td>26</td>\n",
       "      <td>Среднее</td>\n",
       "      <td>1</td>\n",
       "      <td>гражданский брак</td>\n",
       "      <td>1</td>\n",
       "      <td>F</td>\n",
       "      <td>госслужащий</td>\n",
       "      <td>0</td>\n",
       "      <td>131892.785435</td>\n",
       "      <td>на проведение свадьбы</td>\n",
       "      <td>False</td>\n",
       "    </tr>\n",
       "    <tr>\n",
       "      <td>11617</td>\n",
       "      <td>-1</td>\n",
       "      <td>-370.827130</td>\n",
       "      <td>27</td>\n",
       "      <td>среднее</td>\n",
       "      <td>1</td>\n",
       "      <td>женат / замужем</td>\n",
       "      <td>0</td>\n",
       "      <td>F</td>\n",
       "      <td>компаньон</td>\n",
       "      <td>0</td>\n",
       "      <td>164591.260338</td>\n",
       "      <td>покупка жилья для сдачи</td>\n",
       "      <td>False</td>\n",
       "    </tr>\n",
       "    <tr>\n",
       "      <td>9574</td>\n",
       "      <td>-1</td>\n",
       "      <td>-2710.419901</td>\n",
       "      <td>28</td>\n",
       "      <td>высшее</td>\n",
       "      <td>0</td>\n",
       "      <td>женат / замужем</td>\n",
       "      <td>0</td>\n",
       "      <td>M</td>\n",
       "      <td>госслужащий</td>\n",
       "      <td>0</td>\n",
       "      <td>303137.161001</td>\n",
       "      <td>получение дополнительного образования</td>\n",
       "      <td>False</td>\n",
       "    </tr>\n",
       "    <tr>\n",
       "      <td>19417</td>\n",
       "      <td>-1</td>\n",
       "      <td>350340.760224</td>\n",
       "      <td>28</td>\n",
       "      <td>среднее</td>\n",
       "      <td>1</td>\n",
       "      <td>в разводе</td>\n",
       "      <td>3</td>\n",
       "      <td>F</td>\n",
       "      <td>пенсионер</td>\n",
       "      <td>0</td>\n",
       "      <td>52872.993654</td>\n",
       "      <td>автомобили</td>\n",
       "      <td>False</td>\n",
       "    </tr>\n",
       "  </tbody>\n",
       "</table>\n",
       "</div>"
      ],
      "text/plain": [
       "       children  days_employed  dob_years education  education_id  \\\n",
       "14357        -1    -268.337037         23   среднее             1   \n",
       "3814         -1   -3045.290443         26   Среднее             1   \n",
       "11617        -1    -370.827130         27   среднее             1   \n",
       "9574         -1   -2710.419901         28    высшее             0   \n",
       "19417        -1  350340.760224         28   среднее             1   \n",
       "\n",
       "          family_status  family_status_id gender  income_type  debt  \\\n",
       "14357         в разводе                 3      F    компаньон     0   \n",
       "3814   гражданский брак                 1      F  госслужащий     0   \n",
       "11617   женат / замужем                 0      F    компаньон     0   \n",
       "9574    женат / замужем                 0      M  госслужащий     0   \n",
       "19417         в разводе                 3      F    пенсионер     0   \n",
       "\n",
       "        total_income                                purpose  not_trusted  \n",
       "14357   92257.579312             покупка жилой недвижимости        False  \n",
       "3814   131892.785435                  на проведение свадьбы        False  \n",
       "11617  164591.260338                покупка жилья для сдачи        False  \n",
       "9574   303137.161001  получение дополнительного образования        False  \n",
       "19417   52872.993654                             автомобили        False  "
      ]
     },
     "execution_count": 24,
     "metadata": {},
     "output_type": "execute_result"
    }
   ],
   "source": [
    "df[df['children'] == -1].sort_values(by='dob_years').head()"
   ]
  },
  {
   "cell_type": "markdown",
   "metadata": {},
   "source": [
    "Видим, что -1 встречается у самого молодого человека в 23 года. Вероятно знак - возник, когда в графе дети поставили прочерк(-). Так как таких значений не много, то можем заменить это значение на 0, и на общую статистуку вляние будет не велико."
   ]
  },
  {
   "cell_type": "code",
   "execution_count": 25,
   "metadata": {},
   "outputs": [],
   "source": [
    "df.loc[df['children'] == -1, 'children'] = 0"
   ]
  },
  {
   "cell_type": "markdown",
   "metadata": {},
   "source": [
    "Теперь посмотрим на записи, у которых 20 детей."
   ]
  },
  {
   "cell_type": "code",
   "execution_count": 26,
   "metadata": {
    "scrolled": true
   },
   "outputs": [
    {
     "data": {
      "text/html": [
       "<div>\n",
       "<style scoped>\n",
       "    .dataframe tbody tr th:only-of-type {\n",
       "        vertical-align: middle;\n",
       "    }\n",
       "\n",
       "    .dataframe tbody tr th {\n",
       "        vertical-align: top;\n",
       "    }\n",
       "\n",
       "    .dataframe thead th {\n",
       "        text-align: right;\n",
       "    }\n",
       "</style>\n",
       "<table border=\"1\" class=\"dataframe\">\n",
       "  <thead>\n",
       "    <tr style=\"text-align: right;\">\n",
       "      <th></th>\n",
       "      <th>children</th>\n",
       "      <th>days_employed</th>\n",
       "      <th>dob_years</th>\n",
       "      <th>education</th>\n",
       "      <th>education_id</th>\n",
       "      <th>family_status</th>\n",
       "      <th>family_status_id</th>\n",
       "      <th>gender</th>\n",
       "      <th>income_type</th>\n",
       "      <th>debt</th>\n",
       "      <th>total_income</th>\n",
       "      <th>purpose</th>\n",
       "      <th>not_trusted</th>\n",
       "    </tr>\n",
       "  </thead>\n",
       "  <tbody>\n",
       "    <tr>\n",
       "      <td>2941</td>\n",
       "      <td>20</td>\n",
       "      <td>-2161.591519</td>\n",
       "      <td>0</td>\n",
       "      <td>среднее</td>\n",
       "      <td>1</td>\n",
       "      <td>женат / замужем</td>\n",
       "      <td>0</td>\n",
       "      <td>F</td>\n",
       "      <td>сотрудник</td>\n",
       "      <td>0</td>\n",
       "      <td>199739.941398</td>\n",
       "      <td>на покупку автомобиля</td>\n",
       "      <td>False</td>\n",
       "    </tr>\n",
       "    <tr>\n",
       "      <td>606</td>\n",
       "      <td>20</td>\n",
       "      <td>-880.221113</td>\n",
       "      <td>21</td>\n",
       "      <td>среднее</td>\n",
       "      <td>1</td>\n",
       "      <td>женат / замужем</td>\n",
       "      <td>0</td>\n",
       "      <td>M</td>\n",
       "      <td>компаньон</td>\n",
       "      <td>0</td>\n",
       "      <td>145334.865002</td>\n",
       "      <td>покупка жилья</td>\n",
       "      <td>False</td>\n",
       "    </tr>\n",
       "    <tr>\n",
       "      <td>3671</td>\n",
       "      <td>20</td>\n",
       "      <td>-913.161503</td>\n",
       "      <td>23</td>\n",
       "      <td>среднее</td>\n",
       "      <td>1</td>\n",
       "      <td>Не женат / не замужем</td>\n",
       "      <td>4</td>\n",
       "      <td>F</td>\n",
       "      <td>сотрудник</td>\n",
       "      <td>0</td>\n",
       "      <td>101255.492076</td>\n",
       "      <td>на покупку подержанного автомобиля</td>\n",
       "      <td>False</td>\n",
       "    </tr>\n",
       "    <tr>\n",
       "      <td>5315</td>\n",
       "      <td>20</td>\n",
       "      <td>-2047.754733</td>\n",
       "      <td>24</td>\n",
       "      <td>среднее</td>\n",
       "      <td>1</td>\n",
       "      <td>женат / замужем</td>\n",
       "      <td>0</td>\n",
       "      <td>F</td>\n",
       "      <td>сотрудник</td>\n",
       "      <td>0</td>\n",
       "      <td>100415.236833</td>\n",
       "      <td>покупка коммерческой недвижимости</td>\n",
       "      <td>False</td>\n",
       "    </tr>\n",
       "    <tr>\n",
       "      <td>12909</td>\n",
       "      <td>20</td>\n",
       "      <td>0.000000</td>\n",
       "      <td>25</td>\n",
       "      <td>среднее</td>\n",
       "      <td>1</td>\n",
       "      <td>женат / замужем</td>\n",
       "      <td>0</td>\n",
       "      <td>M</td>\n",
       "      <td>сотрудник</td>\n",
       "      <td>0</td>\n",
       "      <td>161380.260488</td>\n",
       "      <td>операции с жильем</td>\n",
       "      <td>True</td>\n",
       "    </tr>\n",
       "  </tbody>\n",
       "</table>\n",
       "</div>"
      ],
      "text/plain": [
       "       children  days_employed  dob_years education  education_id  \\\n",
       "2941         20   -2161.591519          0   среднее             1   \n",
       "606          20    -880.221113         21   среднее             1   \n",
       "3671         20    -913.161503         23   среднее             1   \n",
       "5315         20   -2047.754733         24   среднее             1   \n",
       "12909        20       0.000000         25   среднее             1   \n",
       "\n",
       "               family_status  family_status_id gender income_type  debt  \\\n",
       "2941         женат / замужем                 0      F   сотрудник     0   \n",
       "606          женат / замужем                 0      M   компаньон     0   \n",
       "3671   Не женат / не замужем                 4      F   сотрудник     0   \n",
       "5315         женат / замужем                 0      F   сотрудник     0   \n",
       "12909        женат / замужем                 0      M   сотрудник     0   \n",
       "\n",
       "        total_income                             purpose  not_trusted  \n",
       "2941   199739.941398               на покупку автомобиля        False  \n",
       "606    145334.865002                       покупка жилья        False  \n",
       "3671   101255.492076  на покупку подержанного автомобиля        False  \n",
       "5315   100415.236833   покупка коммерческой недвижимости        False  \n",
       "12909  161380.260488                   операции с жильем         True  "
      ]
     },
     "execution_count": 26,
     "metadata": {},
     "output_type": "execute_result"
    }
   ],
   "source": [
    "df[df['children'] == 20].sort_values(by='dob_years').head()"
   ]
  },
  {
   "cell_type": "markdown",
   "metadata": {},
   "source": [
    "Выяснили, что есть нули в графе возраст. По-хорошему их надо обработать, но для нас это не значимая графа и оставим как есть. Но к 21 году иметь 20 детей - думаю, такое невозможно. В наших реалиях, логично предположить что из-за конвертации форматов добавился 0. В любом случае, выборка снова не большая. Если заменим на 2, то существенного влияния на результат это иметь не будет."
   ]
  },
  {
   "cell_type": "code",
   "execution_count": 27,
   "metadata": {},
   "outputs": [],
   "source": [
    "df.loc[df['children'] == 20, 'children'] = 2"
   ]
  },
  {
   "cell_type": "markdown",
   "metadata": {},
   "source": [
    "Посмотрим результат"
   ]
  },
  {
   "cell_type": "code",
   "execution_count": 28,
   "metadata": {},
   "outputs": [
    {
     "data": {
      "text/plain": [
       "0    14196\n",
       "1     4818\n",
       "2     2131\n",
       "3      330\n",
       "4       41\n",
       "5        9\n",
       "Name: children, dtype: int64"
      ]
     },
     "execution_count": 28,
     "metadata": {},
     "output_type": "execute_result"
    }
   ],
   "source": [
    "df['children'].value_counts()"
   ]
  },
  {
   "cell_type": "markdown",
   "metadata": {},
   "source": [
    "Остальные значения более реальны. Оставляем так."
   ]
  },
  {
   "cell_type": "markdown",
   "metadata": {},
   "source": [
    "По большому счёту, надо разобраться с не существенными стобцами. Однако это не входит в задачи исследования. Возможно впоследствии появится информация, которая поможет корректно разобраться и с не существенными столбцами."
   ]
  },
  {
   "cell_type": "markdown",
   "metadata": {},
   "source": [
    "**Вывод**\n",
    "\n",
    "В ходе предобработки выяснилось, что есть пропуски одновременно в значимом столбце со среднемесечным доходом `total_income` и общим количеством трудового стажа `days_employed`. Возможная причина - пропуски в заполнении формы. Вместо пропусков в столбец со стажем записали 0. Столбец не критичный и этим мы просто пометили, что значений нет. В столбец со среднемесечным доходом для пропущенных значений записали средний доход по категории занятости `income_type` к которой пренадлажат записи. Дополнительно добавили столбец `not_trusted` имеющий значение True, если для записи взят средний заработок. Проверили данные о семейном положении, наличии задоженности. Исправили нестыковки в количестве детей. Втаком виде можем искать зависимости."
   ]
  },
  {
   "cell_type": "markdown",
   "metadata": {},
   "source": [
    "### Замена типа данных"
   ]
  },
  {
   "cell_type": "markdown",
   "metadata": {},
   "source": [
    "Для сокращения числовых записей в стаже логично заменить тип данных *float* на *int*. Используем `astype()`, как самое очевидное решение."
   ]
  },
  {
   "cell_type": "code",
   "execution_count": 29,
   "metadata": {},
   "outputs": [],
   "source": [
    "df['days_employed']=df['days_employed'].astype(int)"
   ]
  },
  {
   "cell_type": "code",
   "execution_count": 30,
   "metadata": {},
   "outputs": [
    {
     "name": "stdout",
     "output_type": "stream",
     "text": [
      "<class 'pandas.core.frame.DataFrame'>\n",
      "RangeIndex: 21525 entries, 0 to 21524\n",
      "Data columns (total 13 columns):\n",
      "children            21525 non-null int64\n",
      "days_employed       21525 non-null int64\n",
      "dob_years           21525 non-null int64\n",
      "education           21525 non-null object\n",
      "education_id        21525 non-null int64\n",
      "family_status       21525 non-null object\n",
      "family_status_id    21525 non-null int64\n",
      "gender              21525 non-null object\n",
      "income_type         21525 non-null object\n",
      "debt                21525 non-null int64\n",
      "total_income        21525 non-null float64\n",
      "purpose             21525 non-null object\n",
      "not_trusted         21525 non-null bool\n",
      "dtypes: bool(1), float64(1), int64(6), object(5)\n",
      "memory usage: 2.0+ MB\n"
     ]
    }
   ],
   "source": [
    "df.info()"
   ]
  },
  {
   "cell_type": "code",
   "execution_count": 31,
   "metadata": {},
   "outputs": [
    {
     "data": {
      "text/html": [
       "<div>\n",
       "<style scoped>\n",
       "    .dataframe tbody tr th:only-of-type {\n",
       "        vertical-align: middle;\n",
       "    }\n",
       "\n",
       "    .dataframe tbody tr th {\n",
       "        vertical-align: top;\n",
       "    }\n",
       "\n",
       "    .dataframe thead th {\n",
       "        text-align: right;\n",
       "    }\n",
       "</style>\n",
       "<table border=\"1\" class=\"dataframe\">\n",
       "  <thead>\n",
       "    <tr style=\"text-align: right;\">\n",
       "      <th></th>\n",
       "      <th>children</th>\n",
       "      <th>days_employed</th>\n",
       "      <th>dob_years</th>\n",
       "      <th>education</th>\n",
       "      <th>education_id</th>\n",
       "      <th>family_status</th>\n",
       "      <th>family_status_id</th>\n",
       "      <th>gender</th>\n",
       "      <th>income_type</th>\n",
       "      <th>debt</th>\n",
       "      <th>total_income</th>\n",
       "      <th>purpose</th>\n",
       "      <th>not_trusted</th>\n",
       "    </tr>\n",
       "  </thead>\n",
       "  <tbody>\n",
       "    <tr>\n",
       "      <td>0</td>\n",
       "      <td>1</td>\n",
       "      <td>-8437</td>\n",
       "      <td>42</td>\n",
       "      <td>высшее</td>\n",
       "      <td>0</td>\n",
       "      <td>женат / замужем</td>\n",
       "      <td>0</td>\n",
       "      <td>F</td>\n",
       "      <td>сотрудник</td>\n",
       "      <td>0</td>\n",
       "      <td>253875.639453</td>\n",
       "      <td>покупка жилья</td>\n",
       "      <td>False</td>\n",
       "    </tr>\n",
       "    <tr>\n",
       "      <td>1</td>\n",
       "      <td>1</td>\n",
       "      <td>-4024</td>\n",
       "      <td>36</td>\n",
       "      <td>среднее</td>\n",
       "      <td>1</td>\n",
       "      <td>женат / замужем</td>\n",
       "      <td>0</td>\n",
       "      <td>F</td>\n",
       "      <td>сотрудник</td>\n",
       "      <td>0</td>\n",
       "      <td>112080.014102</td>\n",
       "      <td>приобретение автомобиля</td>\n",
       "      <td>False</td>\n",
       "    </tr>\n",
       "    <tr>\n",
       "      <td>2</td>\n",
       "      <td>0</td>\n",
       "      <td>-5623</td>\n",
       "      <td>33</td>\n",
       "      <td>Среднее</td>\n",
       "      <td>1</td>\n",
       "      <td>женат / замужем</td>\n",
       "      <td>0</td>\n",
       "      <td>M</td>\n",
       "      <td>сотрудник</td>\n",
       "      <td>0</td>\n",
       "      <td>145885.952297</td>\n",
       "      <td>покупка жилья</td>\n",
       "      <td>False</td>\n",
       "    </tr>\n",
       "    <tr>\n",
       "      <td>3</td>\n",
       "      <td>3</td>\n",
       "      <td>-4124</td>\n",
       "      <td>32</td>\n",
       "      <td>среднее</td>\n",
       "      <td>1</td>\n",
       "      <td>женат / замужем</td>\n",
       "      <td>0</td>\n",
       "      <td>M</td>\n",
       "      <td>сотрудник</td>\n",
       "      <td>0</td>\n",
       "      <td>267628.550329</td>\n",
       "      <td>дополнительное образование</td>\n",
       "      <td>False</td>\n",
       "    </tr>\n",
       "    <tr>\n",
       "      <td>4</td>\n",
       "      <td>0</td>\n",
       "      <td>340266</td>\n",
       "      <td>53</td>\n",
       "      <td>среднее</td>\n",
       "      <td>1</td>\n",
       "      <td>гражданский брак</td>\n",
       "      <td>1</td>\n",
       "      <td>F</td>\n",
       "      <td>пенсионер</td>\n",
       "      <td>0</td>\n",
       "      <td>158616.077870</td>\n",
       "      <td>сыграть свадьбу</td>\n",
       "      <td>False</td>\n",
       "    </tr>\n",
       "  </tbody>\n",
       "</table>\n",
       "</div>"
      ],
      "text/plain": [
       "   children  days_employed  dob_years education  education_id  \\\n",
       "0         1          -8437         42    высшее             0   \n",
       "1         1          -4024         36   среднее             1   \n",
       "2         0          -5623         33   Среднее             1   \n",
       "3         3          -4124         32   среднее             1   \n",
       "4         0         340266         53   среднее             1   \n",
       "\n",
       "      family_status  family_status_id gender income_type  debt   total_income  \\\n",
       "0   женат / замужем                 0      F   сотрудник     0  253875.639453   \n",
       "1   женат / замужем                 0      F   сотрудник     0  112080.014102   \n",
       "2   женат / замужем                 0      M   сотрудник     0  145885.952297   \n",
       "3   женат / замужем                 0      M   сотрудник     0  267628.550329   \n",
       "4  гражданский брак                 1      F   пенсионер     0  158616.077870   \n",
       "\n",
       "                      purpose  not_trusted  \n",
       "0               покупка жилья        False  \n",
       "1     приобретение автомобиля        False  \n",
       "2               покупка жилья        False  \n",
       "3  дополнительное образование        False  \n",
       "4             сыграть свадьбу        False  "
      ]
     },
     "execution_count": 31,
     "metadata": {},
     "output_type": "execute_result"
    }
   ],
   "source": [
    "df.head()"
   ]
  },
  {
   "cell_type": "markdown",
   "metadata": {},
   "source": [
    "**Вывод**"
   ]
  },
  {
   "cell_type": "markdown",
   "metadata": {},
   "source": [
    "Мы привели значения в `days_employed` к типу *int*. Тем самым сократили запись и сделали её удобной для чтения. Значения в `total_income` не приводили, так как наверняка не известно, какие знаки после запятой могут быть значимы."
   ]
  },
  {
   "cell_type": "markdown",
   "metadata": {},
   "source": [
    "### Обработка дубликатов"
   ]
  },
  {
   "cell_type": "markdown",
   "metadata": {},
   "source": [
    "Найдём явные дубликаты записей. По условию не указано, возможна ли ситуация, когда записи - не дубликаты, а просто разные люди, у которых всё совпало. Считаем, что такое невозможно."
   ]
  },
  {
   "cell_type": "code",
   "execution_count": 32,
   "metadata": {},
   "outputs": [
    {
     "data": {
      "text/plain": [
       "54"
      ]
     },
     "execution_count": 32,
     "metadata": {},
     "output_type": "execute_result"
    }
   ],
   "source": [
    "df.duplicated().sum()"
   ]
  },
  {
   "cell_type": "code",
   "execution_count": 33,
   "metadata": {},
   "outputs": [],
   "source": [
    "df=df.drop_duplicates().reset_index(drop=True)"
   ]
  },
  {
   "cell_type": "markdown",
   "metadata": {},
   "source": [
    "Проверим, что удалили дубликаты"
   ]
  },
  {
   "cell_type": "code",
   "execution_count": 34,
   "metadata": {},
   "outputs": [
    {
     "data": {
      "text/plain": [
       "0"
      ]
     },
     "execution_count": 34,
     "metadata": {},
     "output_type": "execute_result"
    }
   ],
   "source": [
    "df.duplicated().sum()"
   ]
  },
  {
   "cell_type": "markdown",
   "metadata": {},
   "source": [
    "Если были явные дубликаты, то возможны и неявные, например, когда в столбце `education` запись будет записана по разному. Можно конечно удалить столбец и орентироваться по `education_id`, но постараемся оставить столбец.\n",
    "Проверим, каким образом записаны сведения об образовании"
   ]
  },
  {
   "cell_type": "code",
   "execution_count": 35,
   "metadata": {},
   "outputs": [
    {
     "data": {
      "text/plain": [
       "среднее                13705\n",
       "высшее                  4710\n",
       "СРЕДНЕЕ                  772\n",
       "Среднее                  711\n",
       "неоконченное высшее      668\n",
       "ВЫСШЕЕ                   273\n",
       "Высшее                   268\n",
       "начальное                250\n",
       "Неоконченное высшее       47\n",
       "НЕОКОНЧЕННОЕ ВЫСШЕЕ       29\n",
       "НАЧАЛЬНОЕ                 17\n",
       "Начальное                 15\n",
       "ученая степень             4\n",
       "УЧЕНАЯ СТЕПЕНЬ             1\n",
       "Ученая степень             1\n",
       "Name: education, dtype: int64"
      ]
     },
     "execution_count": 35,
     "metadata": {},
     "output_type": "execute_result"
    }
   ],
   "source": [
    "df['education'].value_counts()"
   ]
  },
  {
   "cell_type": "markdown",
   "metadata": {},
   "source": [
    "Встречаются записи в различных видах. Приведём всё к строчным буквам."
   ]
  },
  {
   "cell_type": "code",
   "execution_count": 36,
   "metadata": {},
   "outputs": [],
   "source": [
    "df['education'] = df['education'].str.lower()"
   ]
  },
  {
   "cell_type": "markdown",
   "metadata": {},
   "source": [
    "Проверим, как получилось."
   ]
  },
  {
   "cell_type": "code",
   "execution_count": 37,
   "metadata": {},
   "outputs": [
    {
     "data": {
      "text/plain": [
       "среднее                15188\n",
       "высшее                  5251\n",
       "неоконченное высшее      744\n",
       "начальное                282\n",
       "ученая степень             6\n",
       "Name: education, dtype: int64"
      ]
     },
     "execution_count": 37,
     "metadata": {},
     "output_type": "execute_result"
    }
   ],
   "source": [
    "df['education'].value_counts()"
   ]
  },
  {
   "cell_type": "markdown",
   "metadata": {},
   "source": [
    "Да, всё вышло. "
   ]
  },
  {
   "cell_type": "markdown",
   "metadata": {},
   "source": [
    "Проверим, появились ли дубликаты."
   ]
  },
  {
   "cell_type": "code",
   "execution_count": 38,
   "metadata": {},
   "outputs": [
    {
     "data": {
      "text/plain": [
       "17"
      ]
     },
     "execution_count": 38,
     "metadata": {},
     "output_type": "execute_result"
    }
   ],
   "source": [
    "df.duplicated().sum()"
   ]
  },
  {
   "cell_type": "markdown",
   "metadata": {},
   "source": [
    "Да, появились. Удаляем их и перезагружаем индекс"
   ]
  },
  {
   "cell_type": "code",
   "execution_count": 39,
   "metadata": {},
   "outputs": [],
   "source": [
    "df=df.drop_duplicates().reset_index(drop=True)"
   ]
  },
  {
   "cell_type": "markdown",
   "metadata": {},
   "source": [
    "Проверяем, что дубликатов не осталось"
   ]
  },
  {
   "cell_type": "code",
   "execution_count": 40,
   "metadata": {},
   "outputs": [
    {
     "data": {
      "text/plain": [
       "0"
      ]
     },
     "execution_count": 40,
     "metadata": {},
     "output_type": "execute_result"
    }
   ],
   "source": [
    "df.duplicated().sum()"
   ]
  },
  {
   "cell_type": "markdown",
   "metadata": {},
   "source": [
    "**Вывод**\n",
    "\n",
    "Таким образом в талице были обнаружены явные и неявные дубликаты. Неявные возникли из-за различиных записей в столбце `education`. Все дубликаты были удалены."
   ]
  },
  {
   "cell_type": "markdown",
   "metadata": {},
   "source": [
    "### Лемматизация"
   ]
  },
  {
   "cell_type": "markdown",
   "metadata": {},
   "source": [
    "Определим количество уникальных значений в столбце с целью кретита"
   ]
  },
  {
   "cell_type": "code",
   "execution_count": 41,
   "metadata": {},
   "outputs": [
    {
     "data": {
      "text/plain": [
       "38"
      ]
     },
     "execution_count": 41,
     "metadata": {},
     "output_type": "execute_result"
    }
   ],
   "source": [
    "len(df['purpose'].unique())"
   ]
  },
  {
   "cell_type": "markdown",
   "metadata": {},
   "source": [
    "Не так и много. Посмотрим их"
   ]
  },
  {
   "cell_type": "code",
   "execution_count": 42,
   "metadata": {},
   "outputs": [],
   "source": [
    "purposes=df['purpose'].unique()"
   ]
  },
  {
   "cell_type": "code",
   "execution_count": 43,
   "metadata": {},
   "outputs": [
    {
     "data": {
      "text/plain": [
       "array(['покупка жилья', 'приобретение автомобиля',\n",
       "       'дополнительное образование', 'сыграть свадьбу',\n",
       "       'операции с жильем', 'образование', 'на проведение свадьбы',\n",
       "       'покупка жилья для семьи', 'покупка недвижимости',\n",
       "       'покупка коммерческой недвижимости', 'покупка жилой недвижимости',\n",
       "       'строительство собственной недвижимости', 'недвижимость',\n",
       "       'строительство недвижимости', 'на покупку подержанного автомобиля',\n",
       "       'на покупку своего автомобиля',\n",
       "       'операции с коммерческой недвижимостью',\n",
       "       'строительство жилой недвижимости', 'жилье',\n",
       "       'операции со своей недвижимостью', 'автомобили',\n",
       "       'заняться образованием', 'сделка с подержанным автомобилем',\n",
       "       'получение образования', 'автомобиль', 'свадьба',\n",
       "       'получение дополнительного образования', 'покупка своего жилья',\n",
       "       'операции с недвижимостью', 'получение высшего образования',\n",
       "       'свой автомобиль', 'сделка с автомобилем',\n",
       "       'профильное образование', 'высшее образование',\n",
       "       'покупка жилья для сдачи', 'на покупку автомобиля', 'ремонт жилью',\n",
       "       'заняться высшим образованием'], dtype=object)"
      ]
     },
     "execution_count": 43,
     "metadata": {},
     "output_type": "execute_result"
    }
   ],
   "source": [
    "purposes"
   ]
  },
  {
   "cell_type": "markdown",
   "metadata": {},
   "source": [
    "Есть логические категории целей. Их не много. Проведём лемматизацию. Для этого список лематизируем список уникальных целей."
   ]
  },
  {
   "cell_type": "code",
   "execution_count": 44,
   "metadata": {},
   "outputs": [
    {
     "name": "stdout",
     "output_type": "stream",
     "text": [
      "[['покупка', ' ', 'жилье', '\\n'], ['приобретение', ' ', 'автомобиль', '\\n'], ['дополнительный', ' ', 'образование', '\\n'], ['сыграть', ' ', 'свадьба', '\\n'], ['операция', ' ', 'с', ' ', 'жилье', '\\n'], ['образование', '\\n'], ['на', ' ', 'проведение', ' ', 'свадьба', '\\n'], ['покупка', ' ', 'жилье', ' ', 'для', ' ', 'семья', '\\n'], ['покупка', ' ', 'недвижимость', '\\n'], ['покупка', ' ', 'коммерческий', ' ', 'недвижимость', '\\n'], ['покупка', ' ', 'жилой', ' ', 'недвижимость', '\\n'], ['строительство', ' ', 'собственный', ' ', 'недвижимость', '\\n'], ['недвижимость', '\\n'], ['строительство', ' ', 'недвижимость', '\\n'], ['на', ' ', 'покупка', ' ', 'подержать', ' ', 'автомобиль', '\\n'], ['на', ' ', 'покупка', ' ', 'свой', ' ', 'автомобиль', '\\n'], ['операция', ' ', 'с', ' ', 'коммерческий', ' ', 'недвижимость', '\\n'], ['строительство', ' ', 'жилой', ' ', 'недвижимость', '\\n'], ['жилье', '\\n'], ['операция', ' ', 'со', ' ', 'свой', ' ', 'недвижимость', '\\n'], ['автомобиль', '\\n'], ['заниматься', ' ', 'образование', '\\n'], ['сделка', ' ', 'с', ' ', 'подержанный', ' ', 'автомобиль', '\\n'], ['получение', ' ', 'образование', '\\n'], ['свадьба', '\\n'], ['получение', ' ', 'дополнительный', ' ', 'образование', '\\n'], ['покупка', ' ', 'свой', ' ', 'жилье', '\\n'], ['операция', ' ', 'с', ' ', 'недвижимость', '\\n'], ['получение', ' ', 'высокий', ' ', 'образование', '\\n'], ['свой', ' ', 'автомобиль', '\\n'], ['сделка', ' ', 'с', ' ', 'автомобиль', '\\n'], ['профильный', ' ', 'образование', '\\n'], ['высокий', ' ', 'образование', '\\n'], ['покупка', ' ', 'жилье', ' ', 'для', ' ', 'сдача', '\\n'], ['на', ' ', 'покупка', ' ', 'автомобиль', '\\n'], ['ремонт', ' ', 'жилье', '\\n'], ['заниматься', ' ', 'высокий', ' ', 'образование', '\\n']]\n"
     ]
    }
   ],
   "source": [
    "from pymystem3 import Mystem\n",
    "m = Mystem() \n",
    "lemmas=[]\n",
    "for purpose in purposes:\n",
    "    lem = m.lemmatize(purpose)\n",
    "    if lem not in lemmas:\n",
    "        lemmas.append(lem)          \n",
    "print(lemmas)"
   ]
  },
  {
   "cell_type": "markdown",
   "metadata": {},
   "source": [
    "На основании данных, можно выделить ледующие категории:\n",
    "\n",
    "\\'недвижимость\\' - сюда входят приобретение жилья и операции с недвижимостью,\n",
    "\n",
    "\\'автомобиль\\'   - сюда входят сделки с автомобилем,\n",
    "\n",
    "\\'образование\\'  - сюда входят кретиты на получение образования,\n",
    "\n",
    "\\'свадьба\\'      - сюда входят кредиты на организаццию свадьбы\n"
   ]
  },
  {
   "cell_type": "markdown",
   "metadata": {},
   "source": [
    "**Вывод**"
   ]
  },
  {
   "cell_type": "markdown",
   "metadata": {},
   "source": [
    "Мы провели лемматизацию целей кредита. Выявили, что можно выделить 4 категории целей:'недвижимость','автомобиль', 'образование','свадьба'. На основании этого проведём категоризацию целей кредита."
   ]
  },
  {
   "cell_type": "markdown",
   "metadata": {},
   "source": [
    "### Категоризация данных"
   ]
  },
  {
   "cell_type": "markdown",
   "metadata": {},
   "source": [
    "Категоризируем по целям кредита. Напишем функцию `purpose_categorize()`, которая по тексту будет возвращать категорию из перечисленных."
   ]
  },
  {
   "cell_type": "code",
   "execution_count": 45,
   "metadata": {},
   "outputs": [],
   "source": [
    "def purpose_categorize(purpose):\n",
    "    words = m.lemmatize(purpose)\n",
    "    if 'образование' in words:\n",
    "        return 'образование'\n",
    "    if 'автомобиль' in words:\n",
    "        return 'автомобиль'\n",
    "    if 'свадьба' in words:\n",
    "        return 'свадьба'\n",
    "    if 'недвижимость' in words or 'жилье' in words:\n",
    "        return 'недвижимость'\n",
    "    else:\n",
    "        return 'без категории'   "
   ]
  },
  {
   "cell_type": "markdown",
   "metadata": {},
   "source": [
    "Добавим ещё один столбец с категорией целей кредита purpose_category и заполним его."
   ]
  },
  {
   "cell_type": "code",
   "execution_count": 46,
   "metadata": {},
   "outputs": [],
   "source": [
    "df['purpose_category'] = df['purpose'].apply(purpose_categorize)"
   ]
  },
  {
   "cell_type": "markdown",
   "metadata": {},
   "source": [
    "Посмотрим на первые строки таблицы и убедимся, что всё прошло успешно."
   ]
  },
  {
   "cell_type": "code",
   "execution_count": 47,
   "metadata": {},
   "outputs": [
    {
     "data": {
      "text/html": [
       "<div>\n",
       "<style scoped>\n",
       "    .dataframe tbody tr th:only-of-type {\n",
       "        vertical-align: middle;\n",
       "    }\n",
       "\n",
       "    .dataframe tbody tr th {\n",
       "        vertical-align: top;\n",
       "    }\n",
       "\n",
       "    .dataframe thead th {\n",
       "        text-align: right;\n",
       "    }\n",
       "</style>\n",
       "<table border=\"1\" class=\"dataframe\">\n",
       "  <thead>\n",
       "    <tr style=\"text-align: right;\">\n",
       "      <th></th>\n",
       "      <th>children</th>\n",
       "      <th>days_employed</th>\n",
       "      <th>dob_years</th>\n",
       "      <th>education</th>\n",
       "      <th>education_id</th>\n",
       "      <th>family_status</th>\n",
       "      <th>family_status_id</th>\n",
       "      <th>gender</th>\n",
       "      <th>income_type</th>\n",
       "      <th>debt</th>\n",
       "      <th>total_income</th>\n",
       "      <th>purpose</th>\n",
       "      <th>not_trusted</th>\n",
       "      <th>purpose_category</th>\n",
       "    </tr>\n",
       "  </thead>\n",
       "  <tbody>\n",
       "    <tr>\n",
       "      <td>0</td>\n",
       "      <td>1</td>\n",
       "      <td>-8437</td>\n",
       "      <td>42</td>\n",
       "      <td>высшее</td>\n",
       "      <td>0</td>\n",
       "      <td>женат / замужем</td>\n",
       "      <td>0</td>\n",
       "      <td>F</td>\n",
       "      <td>сотрудник</td>\n",
       "      <td>0</td>\n",
       "      <td>253875.639453</td>\n",
       "      <td>покупка жилья</td>\n",
       "      <td>False</td>\n",
       "      <td>недвижимость</td>\n",
       "    </tr>\n",
       "    <tr>\n",
       "      <td>1</td>\n",
       "      <td>1</td>\n",
       "      <td>-4024</td>\n",
       "      <td>36</td>\n",
       "      <td>среднее</td>\n",
       "      <td>1</td>\n",
       "      <td>женат / замужем</td>\n",
       "      <td>0</td>\n",
       "      <td>F</td>\n",
       "      <td>сотрудник</td>\n",
       "      <td>0</td>\n",
       "      <td>112080.014102</td>\n",
       "      <td>приобретение автомобиля</td>\n",
       "      <td>False</td>\n",
       "      <td>автомобиль</td>\n",
       "    </tr>\n",
       "    <tr>\n",
       "      <td>2</td>\n",
       "      <td>0</td>\n",
       "      <td>-5623</td>\n",
       "      <td>33</td>\n",
       "      <td>среднее</td>\n",
       "      <td>1</td>\n",
       "      <td>женат / замужем</td>\n",
       "      <td>0</td>\n",
       "      <td>M</td>\n",
       "      <td>сотрудник</td>\n",
       "      <td>0</td>\n",
       "      <td>145885.952297</td>\n",
       "      <td>покупка жилья</td>\n",
       "      <td>False</td>\n",
       "      <td>недвижимость</td>\n",
       "    </tr>\n",
       "    <tr>\n",
       "      <td>3</td>\n",
       "      <td>3</td>\n",
       "      <td>-4124</td>\n",
       "      <td>32</td>\n",
       "      <td>среднее</td>\n",
       "      <td>1</td>\n",
       "      <td>женат / замужем</td>\n",
       "      <td>0</td>\n",
       "      <td>M</td>\n",
       "      <td>сотрудник</td>\n",
       "      <td>0</td>\n",
       "      <td>267628.550329</td>\n",
       "      <td>дополнительное образование</td>\n",
       "      <td>False</td>\n",
       "      <td>образование</td>\n",
       "    </tr>\n",
       "    <tr>\n",
       "      <td>4</td>\n",
       "      <td>0</td>\n",
       "      <td>340266</td>\n",
       "      <td>53</td>\n",
       "      <td>среднее</td>\n",
       "      <td>1</td>\n",
       "      <td>гражданский брак</td>\n",
       "      <td>1</td>\n",
       "      <td>F</td>\n",
       "      <td>пенсионер</td>\n",
       "      <td>0</td>\n",
       "      <td>158616.077870</td>\n",
       "      <td>сыграть свадьбу</td>\n",
       "      <td>False</td>\n",
       "      <td>свадьба</td>\n",
       "    </tr>\n",
       "  </tbody>\n",
       "</table>\n",
       "</div>"
      ],
      "text/plain": [
       "   children  days_employed  dob_years education  education_id  \\\n",
       "0         1          -8437         42    высшее             0   \n",
       "1         1          -4024         36   среднее             1   \n",
       "2         0          -5623         33   среднее             1   \n",
       "3         3          -4124         32   среднее             1   \n",
       "4         0         340266         53   среднее             1   \n",
       "\n",
       "      family_status  family_status_id gender income_type  debt   total_income  \\\n",
       "0   женат / замужем                 0      F   сотрудник     0  253875.639453   \n",
       "1   женат / замужем                 0      F   сотрудник     0  112080.014102   \n",
       "2   женат / замужем                 0      M   сотрудник     0  145885.952297   \n",
       "3   женат / замужем                 0      M   сотрудник     0  267628.550329   \n",
       "4  гражданский брак                 1      F   пенсионер     0  158616.077870   \n",
       "\n",
       "                      purpose  not_trusted purpose_category  \n",
       "0               покупка жилья        False     недвижимость  \n",
       "1     приобретение автомобиля        False       автомобиль  \n",
       "2               покупка жилья        False     недвижимость  \n",
       "3  дополнительное образование        False      образование  \n",
       "4             сыграть свадьбу        False          свадьба  "
      ]
     },
     "execution_count": 47,
     "metadata": {},
     "output_type": "execute_result"
    }
   ],
   "source": [
    "df.head()"
   ]
  },
  {
   "cell_type": "markdown",
   "metadata": {},
   "source": [
    "Посмотрим, сколько значений в каждой категории."
   ]
  },
  {
   "cell_type": "code",
   "execution_count": 48,
   "metadata": {},
   "outputs": [
    {
     "data": {
      "text/plain": [
       "недвижимость    10811\n",
       "автомобиль       4306\n",
       "образование      4013\n",
       "свадьба          2324\n",
       "Name: purpose_category, dtype: int64"
      ]
     },
     "execution_count": 48,
     "metadata": {},
     "output_type": "execute_result"
    }
   ],
   "source": [
    "df['purpose_category'].value_counts()"
   ]
  },
  {
   "cell_type": "markdown",
   "metadata": {},
   "source": [
    "Категоризируем по уровню доходов. Создадим столбец `income_category` и разобъем на 5 уровней доходов"
   ]
  },
  {
   "cell_type": "code",
   "execution_count": 49,
   "metadata": {},
   "outputs": [],
   "source": [
    "df['income_category']=pd.qcut(df['total_income'],5)"
   ]
  },
  {
   "cell_type": "markdown",
   "metadata": {},
   "source": [
    "Посмотрим, на какие категории разбилась таблица и сколько значений в каждой"
   ]
  },
  {
   "cell_type": "code",
   "execution_count": 50,
   "metadata": {},
   "outputs": [
    {
     "data": {
      "text/plain": [
       "(214618.469, 2265604.029]    4291\n",
       "(162639.672, 214618.469]     4291\n",
       "(98538.268, 135448.912]      4291\n",
       "(20667.263, 98538.268]       4291\n",
       "(135448.912, 162639.672]     4290\n",
       "Name: income_category, dtype: int64"
      ]
     },
     "execution_count": 50,
     "metadata": {},
     "output_type": "execute_result"
    }
   ],
   "source": [
    "df['income_category'].value_counts()"
   ]
  },
  {
   "cell_type": "markdown",
   "metadata": {},
   "source": [
    "Категоризация по уровню доходов произведена"
   ]
  },
  {
   "cell_type": "markdown",
   "metadata": {},
   "source": [
    "**Вывод**"
   ]
  },
  {
   "cell_type": "markdown",
   "metadata": {},
   "source": [
    "Мы провели категоризацию записей таблицы по целям кредита, использую данные предыдущего шага. В запроса преобладают сделки с недвижимостью. На 2 месте - сделки с автомобилем, на 3- с небольшим отставанием - расходы на образование. На 4-свадьба.\n",
    "По уровню доходов мы разбили на 5 категорий, количество записей в которых примерно одинаково."
   ]
  },
  {
   "cell_type": "markdown",
   "metadata": {},
   "source": [
    "<a id='section_3'></a>\n",
    "## Шаг 3. Ответы на задачи исследования"
   ]
  },
  {
   "cell_type": "markdown",
   "metadata": {},
   "source": [
    "- Есть ли зависимость между наличием детей и возвратом кредита в срок?"
   ]
  },
  {
   "cell_type": "code",
   "execution_count": 51,
   "metadata": {
    "scrolled": true
   },
   "outputs": [
    {
     "data": {
      "text/html": [
       "<div>\n",
       "<style scoped>\n",
       "    .dataframe tbody tr th:only-of-type {\n",
       "        vertical-align: middle;\n",
       "    }\n",
       "\n",
       "    .dataframe tbody tr th {\n",
       "        vertical-align: top;\n",
       "    }\n",
       "\n",
       "    .dataframe thead th {\n",
       "        text-align: right;\n",
       "    }\n",
       "</style>\n",
       "<table border=\"1\" class=\"dataframe\">\n",
       "  <thead>\n",
       "    <tr style=\"text-align: right;\">\n",
       "      <th></th>\n",
       "      <th>count</th>\n",
       "      <th>mean</th>\n",
       "    </tr>\n",
       "    <tr>\n",
       "      <th>children</th>\n",
       "      <th></th>\n",
       "      <th></th>\n",
       "    </tr>\n",
       "  </thead>\n",
       "  <tbody>\n",
       "    <tr>\n",
       "      <td>0</td>\n",
       "      <td>14138</td>\n",
       "      <td>0.075258</td>\n",
       "    </tr>\n",
       "    <tr>\n",
       "      <td>1</td>\n",
       "      <td>4808</td>\n",
       "      <td>0.092346</td>\n",
       "    </tr>\n",
       "    <tr>\n",
       "      <td>2</td>\n",
       "      <td>2128</td>\n",
       "      <td>0.094925</td>\n",
       "    </tr>\n",
       "    <tr>\n",
       "      <td>3</td>\n",
       "      <td>330</td>\n",
       "      <td>0.081818</td>\n",
       "    </tr>\n",
       "    <tr>\n",
       "      <td>4</td>\n",
       "      <td>41</td>\n",
       "      <td>0.097561</td>\n",
       "    </tr>\n",
       "    <tr>\n",
       "      <td>5</td>\n",
       "      <td>9</td>\n",
       "      <td>0.000000</td>\n",
       "    </tr>\n",
       "  </tbody>\n",
       "</table>\n",
       "</div>"
      ],
      "text/plain": [
       "          count      mean\n",
       "children                 \n",
       "0         14138  0.075258\n",
       "1          4808  0.092346\n",
       "2          2128  0.094925\n",
       "3           330  0.081818\n",
       "4            41  0.097561\n",
       "5             9  0.000000"
      ]
     },
     "execution_count": 51,
     "metadata": {},
     "output_type": "execute_result"
    }
   ],
   "source": [
    "df.groupby('children')['debt'].agg(['count', 'mean'])"
   ]
  },
  {
   "cell_type": "markdown",
   "metadata": {},
   "source": [
    "**Вывод**"
   ]
  },
  {
   "cell_type": "markdown",
   "metadata": {},
   "source": [
    "Видим, что с люди с количеством детей 5 не имеет задолженности. Но таких очень мало записей. Не известно, насколько показательна выборка. Если отбросить людей с 5-ю детьми, то наименьшую задолженность имеют люди без детей, а наибольшую - те у которых 4 ребёнка. Звучит логично."
   ]
  },
  {
   "cell_type": "markdown",
   "metadata": {},
   "source": [
    "- Есть ли зависимость между семейным положением и возвратом кредита в срок?"
   ]
  },
  {
   "cell_type": "code",
   "execution_count": 52,
   "metadata": {},
   "outputs": [
    {
     "data": {
      "text/html": [
       "<div>\n",
       "<style scoped>\n",
       "    .dataframe tbody tr th:only-of-type {\n",
       "        vertical-align: middle;\n",
       "    }\n",
       "\n",
       "    .dataframe tbody tr th {\n",
       "        vertical-align: top;\n",
       "    }\n",
       "\n",
       "    .dataframe thead th {\n",
       "        text-align: right;\n",
       "    }\n",
       "</style>\n",
       "<table border=\"1\" class=\"dataframe\">\n",
       "  <thead>\n",
       "    <tr style=\"text-align: right;\">\n",
       "      <th></th>\n",
       "      <th>count</th>\n",
       "      <th>mean</th>\n",
       "    </tr>\n",
       "    <tr>\n",
       "      <th>family_status</th>\n",
       "      <th></th>\n",
       "      <th></th>\n",
       "    </tr>\n",
       "  </thead>\n",
       "  <tbody>\n",
       "    <tr>\n",
       "      <td>вдовец / вдова</td>\n",
       "      <td>959</td>\n",
       "      <td>0.065693</td>\n",
       "    </tr>\n",
       "    <tr>\n",
       "      <td>в разводе</td>\n",
       "      <td>1195</td>\n",
       "      <td>0.071130</td>\n",
       "    </tr>\n",
       "    <tr>\n",
       "      <td>женат / замужем</td>\n",
       "      <td>12339</td>\n",
       "      <td>0.075452</td>\n",
       "    </tr>\n",
       "    <tr>\n",
       "      <td>гражданский брак</td>\n",
       "      <td>4151</td>\n",
       "      <td>0.093471</td>\n",
       "    </tr>\n",
       "    <tr>\n",
       "      <td>Не женат / не замужем</td>\n",
       "      <td>2810</td>\n",
       "      <td>0.097509</td>\n",
       "    </tr>\n",
       "  </tbody>\n",
       "</table>\n",
       "</div>"
      ],
      "text/plain": [
       "                       count      mean\n",
       "family_status                         \n",
       "вдовец / вдова           959  0.065693\n",
       "в разводе               1195  0.071130\n",
       "женат / замужем        12339  0.075452\n",
       "гражданский брак        4151  0.093471\n",
       "Не женат / не замужем   2810  0.097509"
      ]
     },
     "execution_count": 52,
     "metadata": {},
     "output_type": "execute_result"
    }
   ],
   "source": [
    "df.groupby('family_status')['debt'].agg(['count','mean']).sort_values(by='mean')"
   ]
  },
  {
   "cell_type": "markdown",
   "metadata": {},
   "source": [
    "**Вывод**\n",
    "\n",
    "Видим, что наименьшую задолженность имеют люди, имеющее записи вдовец/вдова. А наибольшую - те кто не женат/не замужем."
   ]
  },
  {
   "cell_type": "markdown",
   "metadata": {},
   "source": [
    "- Есть ли зависимость между уровнем дохода и возвратом кредита в срок?"
   ]
  },
  {
   "cell_type": "code",
   "execution_count": 53,
   "metadata": {},
   "outputs": [
    {
     "data": {
      "text/html": [
       "<div>\n",
       "<style scoped>\n",
       "    .dataframe tbody tr th:only-of-type {\n",
       "        vertical-align: middle;\n",
       "    }\n",
       "\n",
       "    .dataframe tbody tr th {\n",
       "        vertical-align: top;\n",
       "    }\n",
       "\n",
       "    .dataframe thead th {\n",
       "        text-align: right;\n",
       "    }\n",
       "</style>\n",
       "<table border=\"1\" class=\"dataframe\">\n",
       "  <thead>\n",
       "    <tr style=\"text-align: right;\">\n",
       "      <th></th>\n",
       "      <th>count</th>\n",
       "      <th>mean</th>\n",
       "    </tr>\n",
       "    <tr>\n",
       "      <th>income_category</th>\n",
       "      <th></th>\n",
       "      <th></th>\n",
       "    </tr>\n",
       "  </thead>\n",
       "  <tbody>\n",
       "    <tr>\n",
       "      <td>(20667.263, 98538.268]</td>\n",
       "      <td>4291</td>\n",
       "      <td>0.080168</td>\n",
       "    </tr>\n",
       "    <tr>\n",
       "      <td>(98538.268, 135448.912]</td>\n",
       "      <td>4291</td>\n",
       "      <td>0.082731</td>\n",
       "    </tr>\n",
       "    <tr>\n",
       "      <td>(135448.912, 162639.672]</td>\n",
       "      <td>4290</td>\n",
       "      <td>0.089510</td>\n",
       "    </tr>\n",
       "    <tr>\n",
       "      <td>(162639.672, 214618.469]</td>\n",
       "      <td>4291</td>\n",
       "      <td>0.083430</td>\n",
       "    </tr>\n",
       "    <tr>\n",
       "      <td>(214618.469, 2265604.029]</td>\n",
       "      <td>4291</td>\n",
       "      <td>0.069914</td>\n",
       "    </tr>\n",
       "  </tbody>\n",
       "</table>\n",
       "</div>"
      ],
      "text/plain": [
       "                           count      mean\n",
       "income_category                           \n",
       "(20667.263, 98538.268]      4291  0.080168\n",
       "(98538.268, 135448.912]     4291  0.082731\n",
       "(135448.912, 162639.672]    4290  0.089510\n",
       "(162639.672, 214618.469]    4291  0.083430\n",
       "(214618.469, 2265604.029]   4291  0.069914"
      ]
     },
     "execution_count": 53,
     "metadata": {},
     "output_type": "execute_result"
    }
   ],
   "source": [
    "df.groupby('income_category')['debt'].agg(['count', 'mean'])"
   ]
  },
  {
   "cell_type": "markdown",
   "metadata": {},
   "source": [
    "Логично, что люди с высоким уровнем дохода имеют меньшую задолженность по кредиту. В тоже время наибольшую задолженность имеют люди не с низким, а со средним уровнем доходов."
   ]
  },
  {
   "cell_type": "markdown",
   "metadata": {},
   "source": [
    "Проверим, изменится ли картина, если будем учитывать только оригинальные данные, т.е. те в которых пропуски не заполнялись."
   ]
  },
  {
   "cell_type": "code",
   "execution_count": 54,
   "metadata": {},
   "outputs": [
    {
     "data": {
      "text/html": [
       "<div>\n",
       "<style scoped>\n",
       "    .dataframe tbody tr th:only-of-type {\n",
       "        vertical-align: middle;\n",
       "    }\n",
       "\n",
       "    .dataframe tbody tr th {\n",
       "        vertical-align: top;\n",
       "    }\n",
       "\n",
       "    .dataframe thead th {\n",
       "        text-align: right;\n",
       "    }\n",
       "</style>\n",
       "<table border=\"1\" class=\"dataframe\">\n",
       "  <thead>\n",
       "    <tr style=\"text-align: right;\">\n",
       "      <th></th>\n",
       "      <th>count</th>\n",
       "      <th>mean</th>\n",
       "    </tr>\n",
       "    <tr>\n",
       "      <th>income_category</th>\n",
       "      <th></th>\n",
       "      <th></th>\n",
       "    </tr>\n",
       "  </thead>\n",
       "  <tbody>\n",
       "    <tr>\n",
       "      <td>(20667.263, 98538.268]</td>\n",
       "      <td>4291</td>\n",
       "      <td>0.080168</td>\n",
       "    </tr>\n",
       "    <tr>\n",
       "      <td>(98538.268, 135448.912]</td>\n",
       "      <td>4291</td>\n",
       "      <td>0.082731</td>\n",
       "    </tr>\n",
       "    <tr>\n",
       "      <td>(135448.912, 162639.672]</td>\n",
       "      <td>2834</td>\n",
       "      <td>0.088567</td>\n",
       "    </tr>\n",
       "    <tr>\n",
       "      <td>(162639.672, 214618.469]</td>\n",
       "      <td>3645</td>\n",
       "      <td>0.088066</td>\n",
       "    </tr>\n",
       "    <tr>\n",
       "      <td>(214618.469, 2265604.029]</td>\n",
       "      <td>4290</td>\n",
       "      <td>0.069930</td>\n",
       "    </tr>\n",
       "  </tbody>\n",
       "</table>\n",
       "</div>"
      ],
      "text/plain": [
       "                           count      mean\n",
       "income_category                           \n",
       "(20667.263, 98538.268]      4291  0.080168\n",
       "(98538.268, 135448.912]     4291  0.082731\n",
       "(135448.912, 162639.672]    2834  0.088567\n",
       "(162639.672, 214618.469]    3645  0.088066\n",
       "(214618.469, 2265604.029]   4290  0.069930"
      ]
     },
     "execution_count": 54,
     "metadata": {},
     "output_type": "execute_result"
    }
   ],
   "source": [
    "df[df['not_trusted']==False].groupby('income_category')['debt'].agg(['count', 'mean'])"
   ]
  },
  {
   "cell_type": "markdown",
   "metadata": {},
   "source": [
    "Видим, что ситуация практически не изменилась. Поэтому можно утверждать, что замена среднемесечного дохода средним значением была оправдана."
   ]
  },
  {
   "cell_type": "markdown",
   "metadata": {},
   "source": [
    "**Вывод**"
   ]
  },
  {
   "cell_type": "markdown",
   "metadata": {},
   "source": [
    "Выяснили,что люди с высоким уровнем дохода имеют меньшую задолженность по кредиту. В тоже время наибольшую задолженность имеют люди не с низким, а со средним уровнем доходов."
   ]
  },
  {
   "cell_type": "markdown",
   "metadata": {},
   "source": [
    "- Как разные цели кредита влияют на его возврат в срок?"
   ]
  },
  {
   "cell_type": "code",
   "execution_count": 55,
   "metadata": {},
   "outputs": [
    {
     "data": {
      "text/html": [
       "<div>\n",
       "<style scoped>\n",
       "    .dataframe tbody tr th:only-of-type {\n",
       "        vertical-align: middle;\n",
       "    }\n",
       "\n",
       "    .dataframe tbody tr th {\n",
       "        vertical-align: top;\n",
       "    }\n",
       "\n",
       "    .dataframe thead th {\n",
       "        text-align: right;\n",
       "    }\n",
       "</style>\n",
       "<table border=\"1\" class=\"dataframe\">\n",
       "  <thead>\n",
       "    <tr style=\"text-align: right;\">\n",
       "      <th></th>\n",
       "      <th>count</th>\n",
       "      <th>mean</th>\n",
       "    </tr>\n",
       "    <tr>\n",
       "      <th>purpose_category</th>\n",
       "      <th></th>\n",
       "      <th></th>\n",
       "    </tr>\n",
       "  </thead>\n",
       "  <tbody>\n",
       "    <tr>\n",
       "      <td>недвижимость</td>\n",
       "      <td>10811</td>\n",
       "      <td>0.072334</td>\n",
       "    </tr>\n",
       "    <tr>\n",
       "      <td>свадьба</td>\n",
       "      <td>2324</td>\n",
       "      <td>0.080034</td>\n",
       "    </tr>\n",
       "    <tr>\n",
       "      <td>образование</td>\n",
       "      <td>4013</td>\n",
       "      <td>0.092200</td>\n",
       "    </tr>\n",
       "    <tr>\n",
       "      <td>автомобиль</td>\n",
       "      <td>4306</td>\n",
       "      <td>0.093590</td>\n",
       "    </tr>\n",
       "  </tbody>\n",
       "</table>\n",
       "</div>"
      ],
      "text/plain": [
       "                  count      mean\n",
       "purpose_category                 \n",
       "недвижимость      10811  0.072334\n",
       "свадьба            2324  0.080034\n",
       "образование        4013  0.092200\n",
       "автомобиль         4306  0.093590"
      ]
     },
     "execution_count": 55,
     "metadata": {},
     "output_type": "execute_result"
    }
   ],
   "source": [
    "df.groupby('purpose_category')['debt'].agg(['count', 'mean']).sort_values(by='mean')"
   ]
  },
  {
   "cell_type": "markdown",
   "metadata": {},
   "source": [
    "**Вывод**"
   ]
  },
  {
   "cell_type": "markdown",
   "metadata": {},
   "source": [
    "Видим, что наибольее вероятная задолженности у категории кредитов на автомобиль, а наименьшая - на операции с недвижимостью. И на недвижимость берут больше кредитов."
   ]
  },
  {
   "cell_type": "markdown",
   "metadata": {},
   "source": [
    "<a id='section_4'></a>\n",
    "## Шаг 4. Общий вывод"
   ]
  },
  {
   "cell_type": "markdown",
   "metadata": {},
   "source": [
    "В ходе исследования изучили представленный файл `/datasets/data.csv`. Заполнили пропуски в значимом столбце со средним заработком. Исправили подозрительные значения в количестве детей. Провели категоризацию записей по уровню среднего заработка и целей получения кредита.\n",
    "\n",
    "Установили:\n",
    "1. Зависимость между возвратом кредита в срок и семейным положением имеется. Наименьшую задолженность имеют люди с семейным положением вдовец/вдова. Наибольшую - не женат/не замужем.\n",
    "2. Зависимость между возвратом кредита в срок и количеством детей имеется. Наименьшую задолженность имеют люди с одним ребёнком. Наибольшую - люди с 4-мя. Люди с 5-ю детьми имеют малое к-во значений, чтобы их учитывать.\n",
    "3. Зависимость между возвратом кредита в срок и уровнем дохода имеется. Люди с высоким уровнем дохода имеют меньше задолженностей. Наибольшую задолженность имеют люди со средним заработком. \n",
    "4. Зависимость между возвратом кредита в срок и целью кредита имеется. Наименьшую задолженность имеют кредиты, выданные на операции снедвижимостью. Наибольшую - на автомобиль."
   ]
  }
 ],
 "metadata": {
  "ExecuteTimeLog": [
   {
    "duration": 747,
    "start_time": "2021-11-02T07:17:12.176Z"
   },
   {
    "duration": 72,
    "start_time": "2021-11-02T07:17:22.903Z"
   },
   {
    "duration": 120,
    "start_time": "2021-11-03T05:56:57.327Z"
   },
   {
    "duration": 133,
    "start_time": "2021-11-03T05:57:46.267Z"
   },
   {
    "duration": 664,
    "start_time": "2021-11-03T05:57:55.174Z"
   },
   {
    "duration": 54,
    "start_time": "2021-11-03T05:58:10.690Z"
   },
   {
    "duration": 19,
    "start_time": "2021-11-03T05:59:07.068Z"
   },
   {
    "duration": 11,
    "start_time": "2021-11-03T06:07:22.025Z"
   },
   {
    "duration": 19,
    "start_time": "2021-11-03T06:15:17.920Z"
   },
   {
    "duration": 21,
    "start_time": "2021-11-03T06:15:26.048Z"
   },
   {
    "duration": 10,
    "start_time": "2021-11-03T06:15:28.302Z"
   },
   {
    "duration": 391,
    "start_time": "2021-11-03T06:17:05.563Z"
   },
   {
    "duration": 24,
    "start_time": "2021-11-03T06:17:16.902Z"
   },
   {
    "duration": 7,
    "start_time": "2021-11-03T06:18:04.211Z"
   },
   {
    "duration": 482,
    "start_time": "2021-11-03T06:32:01.721Z"
   },
   {
    "duration": 14,
    "start_time": "2021-11-03T06:33:03.414Z"
   },
   {
    "duration": 456,
    "start_time": "2021-11-03T06:33:20.189Z"
   },
   {
    "duration": 24,
    "start_time": "2021-11-03T06:33:25.043Z"
   },
   {
    "duration": 24,
    "start_time": "2021-11-03T06:33:53.366Z"
   },
   {
    "duration": 10,
    "start_time": "2021-11-03T06:34:04.850Z"
   },
   {
    "duration": 10,
    "start_time": "2021-11-03T06:34:35.778Z"
   },
   {
    "duration": 9,
    "start_time": "2021-11-03T06:35:01.730Z"
   },
   {
    "duration": 7,
    "start_time": "2021-11-03T06:35:07.970Z"
   },
   {
    "duration": 9,
    "start_time": "2021-11-03T06:35:21.710Z"
   },
   {
    "duration": 1559,
    "start_time": "2021-11-03T06:35:49.911Z"
   },
   {
    "duration": 7,
    "start_time": "2021-11-03T06:36:00.827Z"
   },
   {
    "duration": 8,
    "start_time": "2021-11-03T06:38:12.804Z"
   },
   {
    "duration": 9,
    "start_time": "2021-11-03T06:39:51.221Z"
   },
   {
    "duration": 5,
    "start_time": "2021-11-03T07:04:51.773Z"
   },
   {
    "duration": 9,
    "start_time": "2021-11-03T07:05:29.850Z"
   },
   {
    "duration": 19,
    "start_time": "2021-11-03T07:06:15.375Z"
   },
   {
    "duration": 361,
    "start_time": "2021-11-03T07:15:32.786Z"
   },
   {
    "duration": 23,
    "start_time": "2021-11-03T07:15:44.281Z"
   },
   {
    "duration": 11,
    "start_time": "2021-11-03T07:16:24.533Z"
   },
   {
    "duration": 37,
    "start_time": "2021-11-03T07:16:32.242Z"
   },
   {
    "duration": 380,
    "start_time": "2021-11-03T07:26:07.192Z"
   },
   {
    "duration": 10,
    "start_time": "2021-11-03T07:26:19.740Z"
   },
   {
    "duration": 9,
    "start_time": "2021-11-03T07:32:42.321Z"
   },
   {
    "duration": 328,
    "start_time": "2021-11-03T14:43:22.837Z"
   },
   {
    "duration": 802,
    "start_time": "2021-11-03T14:43:42.522Z"
   },
   {
    "duration": 65,
    "start_time": "2021-11-03T14:43:43.327Z"
   },
   {
    "duration": 32,
    "start_time": "2021-11-03T14:43:43.395Z"
   },
   {
    "duration": 16,
    "start_time": "2021-11-03T14:43:43.430Z"
   },
   {
    "duration": 18,
    "start_time": "2021-11-03T14:43:43.448Z"
   },
   {
    "duration": 10,
    "start_time": "2021-11-03T14:43:43.469Z"
   },
   {
    "duration": 50,
    "start_time": "2021-11-03T14:43:43.481Z"
   },
   {
    "duration": 10,
    "start_time": "2021-11-03T14:43:43.534Z"
   },
   {
    "duration": 8,
    "start_time": "2021-11-03T14:43:43.547Z"
   },
   {
    "duration": 104,
    "start_time": "2021-11-03T14:44:10.729Z"
   },
   {
    "duration": 10,
    "start_time": "2021-11-03T14:44:20.540Z"
   },
   {
    "duration": 6,
    "start_time": "2021-11-03T14:44:32.500Z"
   },
   {
    "duration": 318,
    "start_time": "2021-11-03T17:57:59.405Z"
   },
   {
    "duration": 731,
    "start_time": "2021-11-03T17:58:05.841Z"
   },
   {
    "duration": 62,
    "start_time": "2021-11-03T17:58:06.575Z"
   },
   {
    "duration": 30,
    "start_time": "2021-11-03T17:58:06.640Z"
   },
   {
    "duration": 14,
    "start_time": "2021-11-03T17:58:06.673Z"
   },
   {
    "duration": 40,
    "start_time": "2021-11-03T17:58:06.691Z"
   },
   {
    "duration": 9,
    "start_time": "2021-11-03T17:58:06.734Z"
   },
   {
    "duration": 12,
    "start_time": "2021-11-03T17:58:06.746Z"
   },
   {
    "duration": 9,
    "start_time": "2021-11-03T17:58:06.761Z"
   },
   {
    "duration": 8,
    "start_time": "2021-11-03T17:58:06.772Z"
   },
   {
    "duration": 11,
    "start_time": "2021-11-03T17:58:44.670Z"
   },
   {
    "duration": 9,
    "start_time": "2021-11-03T17:58:52.164Z"
   },
   {
    "duration": 11,
    "start_time": "2021-11-03T17:59:06.015Z"
   },
   {
    "duration": 13,
    "start_time": "2021-11-03T17:59:45.442Z"
   },
   {
    "duration": 37,
    "start_time": "2021-11-03T18:01:13.877Z"
   },
   {
    "duration": -4849,
    "start_time": "2021-11-03T18:01:57.377Z"
   },
   {
    "duration": 18,
    "start_time": "2021-11-03T18:02:00.482Z"
   },
   {
    "duration": 13,
    "start_time": "2021-11-03T18:02:10.548Z"
   },
   {
    "duration": 12,
    "start_time": "2021-11-03T18:03:00.525Z"
   },
   {
    "duration": 9,
    "start_time": "2021-11-03T18:03:36.247Z"
   },
   {
    "duration": 14,
    "start_time": "2021-11-03T18:03:43.522Z"
   },
   {
    "duration": 36,
    "start_time": "2021-11-03T18:04:27.458Z"
   },
   {
    "duration": 12,
    "start_time": "2021-11-03T18:04:47.939Z"
   },
   {
    "duration": 11,
    "start_time": "2021-11-03T18:04:51.451Z"
   },
   {
    "duration": 35,
    "start_time": "2021-11-03T18:05:03.787Z"
   },
   {
    "duration": 12,
    "start_time": "2021-11-03T18:05:11.795Z"
   },
   {
    "duration": 6,
    "start_time": "2021-11-03T18:05:22.808Z"
   },
   {
    "duration": 15,
    "start_time": "2021-11-03T18:05:42.167Z"
   },
   {
    "duration": 15,
    "start_time": "2021-11-03T18:05:48.926Z"
   },
   {
    "duration": 11,
    "start_time": "2021-11-03T18:08:38.687Z"
   },
   {
    "duration": 7,
    "start_time": "2021-11-03T18:08:41.256Z"
   },
   {
    "duration": 10,
    "start_time": "2021-11-03T18:08:56.805Z"
   },
   {
    "duration": 6,
    "start_time": "2021-11-03T18:09:21.588Z"
   },
   {
    "duration": 6,
    "start_time": "2021-11-03T18:09:27.745Z"
   },
   {
    "duration": 10,
    "start_time": "2021-11-03T18:12:59.041Z"
   },
   {
    "duration": 12,
    "start_time": "2021-11-03T18:13:45.516Z"
   },
   {
    "duration": 9,
    "start_time": "2021-11-03T18:13:53.975Z"
   },
   {
    "duration": 11,
    "start_time": "2021-11-03T18:14:18.369Z"
   },
   {
    "duration": 9,
    "start_time": "2021-11-03T18:15:35.978Z"
   },
   {
    "duration": 14,
    "start_time": "2021-11-03T18:16:11.102Z"
   },
   {
    "duration": 9,
    "start_time": "2021-11-03T18:16:17.510Z"
   },
   {
    "duration": 6,
    "start_time": "2021-11-03T18:16:28.667Z"
   },
   {
    "duration": 10,
    "start_time": "2021-11-03T18:16:41.729Z"
   },
   {
    "duration": 8,
    "start_time": "2021-11-03T18:18:35.317Z"
   },
   {
    "duration": 7,
    "start_time": "2021-11-03T18:18:49.992Z"
   },
   {
    "duration": 9,
    "start_time": "2021-11-03T18:18:52.704Z"
   },
   {
    "duration": 8,
    "start_time": "2021-11-03T18:19:13.210Z"
   },
   {
    "duration": 8,
    "start_time": "2021-11-03T18:22:40.031Z"
   },
   {
    "duration": 6,
    "start_time": "2021-11-03T18:22:41.973Z"
   },
   {
    "duration": 12,
    "start_time": "2021-11-03T18:23:06.023Z"
   },
   {
    "duration": 7,
    "start_time": "2021-11-03T18:23:07.947Z"
   },
   {
    "duration": 9,
    "start_time": "2021-11-03T18:23:32.736Z"
   },
   {
    "duration": 6,
    "start_time": "2021-11-03T18:23:34.603Z"
   },
   {
    "duration": 9,
    "start_time": "2021-11-03T18:24:03.654Z"
   },
   {
    "duration": 8,
    "start_time": "2021-11-03T18:24:05.185Z"
   },
   {
    "duration": 4,
    "start_time": "2021-11-03T18:25:09.878Z"
   },
   {
    "duration": 11,
    "start_time": "2021-11-03T18:25:17.174Z"
   },
   {
    "duration": 20,
    "start_time": "2021-11-03T18:26:38.615Z"
   },
   {
    "duration": 15,
    "start_time": "2021-11-03T18:26:41.837Z"
   },
   {
    "duration": 16,
    "start_time": "2021-11-03T18:26:48.091Z"
   },
   {
    "duration": 20,
    "start_time": "2021-11-03T18:26:52.614Z"
   },
   {
    "duration": 13,
    "start_time": "2021-11-03T18:27:03.372Z"
   },
   {
    "duration": 10,
    "start_time": "2021-11-03T18:27:07.398Z"
   },
   {
    "duration": 5,
    "start_time": "2021-11-03T18:28:19.901Z"
   },
   {
    "duration": 10,
    "start_time": "2021-11-03T18:28:22.115Z"
   },
   {
    "duration": 4,
    "start_time": "2021-11-03T18:28:27.032Z"
   },
   {
    "duration": 10,
    "start_time": "2021-11-03T18:28:29.301Z"
   },
   {
    "duration": 5,
    "start_time": "2021-11-03T18:28:34.946Z"
   },
   {
    "duration": 10,
    "start_time": "2021-11-03T18:28:36.960Z"
   },
   {
    "duration": 8,
    "start_time": "2021-11-03T18:29:35.023Z"
   },
   {
    "duration": 298,
    "start_time": "2021-11-03T18:30:03.262Z"
   },
   {
    "duration": 288,
    "start_time": "2021-11-03T18:30:17.301Z"
   },
   {
    "duration": 96,
    "start_time": "2021-11-03T18:30:32.144Z"
   },
   {
    "duration": 266,
    "start_time": "2021-11-03T18:30:49.053Z"
   },
   {
    "duration": 12,
    "start_time": "2021-11-03T18:30:58.605Z"
   },
   {
    "duration": 11,
    "start_time": "2021-11-03T18:31:02.005Z"
   },
   {
    "duration": 12,
    "start_time": "2021-11-03T18:31:09.934Z"
   },
   {
    "duration": 271,
    "start_time": "2021-11-03T18:31:21.030Z"
   },
   {
    "duration": 14,
    "start_time": "2021-11-03T18:31:25.927Z"
   },
   {
    "duration": 12,
    "start_time": "2021-11-03T18:31:37.333Z"
   },
   {
    "duration": 14,
    "start_time": "2021-11-03T18:31:41.085Z"
   },
   {
    "duration": 11,
    "start_time": "2021-11-03T18:31:58.001Z"
   },
   {
    "duration": 10,
    "start_time": "2021-11-03T18:32:01.681Z"
   },
   {
    "duration": 11,
    "start_time": "2021-11-03T18:32:18.341Z"
   },
   {
    "duration": 10,
    "start_time": "2021-11-03T18:32:23.467Z"
   },
   {
    "duration": 12,
    "start_time": "2021-11-03T18:33:06.842Z"
   },
   {
    "duration": 10,
    "start_time": "2021-11-03T18:33:08.279Z"
   },
   {
    "duration": 13,
    "start_time": "2021-11-03T18:33:35.392Z"
   },
   {
    "duration": 11,
    "start_time": "2021-11-03T18:33:36.511Z"
   },
   {
    "duration": 274,
    "start_time": "2021-11-03T18:34:28.594Z"
   },
   {
    "duration": 11,
    "start_time": "2021-11-03T18:34:32.251Z"
   },
   {
    "duration": 14,
    "start_time": "2021-11-03T18:34:45.889Z"
   },
   {
    "duration": 9,
    "start_time": "2021-11-03T18:34:47.050Z"
   },
   {
    "duration": 5,
    "start_time": "2021-11-03T18:35:32.548Z"
   },
   {
    "duration": 9,
    "start_time": "2021-11-03T18:35:32.721Z"
   },
   {
    "duration": 12,
    "start_time": "2021-11-03T18:35:46.361Z"
   },
   {
    "duration": 6,
    "start_time": "2021-11-03T18:35:47.535Z"
   },
   {
    "duration": 12,
    "start_time": "2021-11-03T18:35:59.223Z"
   },
   {
    "duration": 6,
    "start_time": "2021-11-03T18:35:59.942Z"
   },
   {
    "duration": 10,
    "start_time": "2021-11-03T18:36:09.859Z"
   },
   {
    "duration": 9,
    "start_time": "2021-11-03T18:37:33.736Z"
   },
   {
    "duration": 9,
    "start_time": "2021-11-03T18:37:57.167Z"
   },
   {
    "duration": 8,
    "start_time": "2021-11-03T18:37:59.797Z"
   },
   {
    "duration": 36,
    "start_time": "2021-11-03T18:38:16.274Z"
   },
   {
    "duration": 35,
    "start_time": "2021-11-03T18:38:43.520Z"
   },
   {
    "duration": 250,
    "start_time": "2021-11-03T18:38:58.955Z"
   },
   {
    "duration": 37,
    "start_time": "2021-11-03T18:39:02.178Z"
   },
   {
    "duration": 6404,
    "start_time": "2021-11-03T18:40:27.918Z"
   },
   {
    "duration": 19,
    "start_time": "2021-11-03T18:40:40.915Z"
   },
   {
    "duration": 266,
    "start_time": "2021-11-03T18:40:57.096Z"
   },
   {
    "duration": 21,
    "start_time": "2021-11-03T18:41:16.469Z"
   },
   {
    "duration": 31,
    "start_time": "2021-11-03T18:41:20.492Z"
   },
   {
    "duration": 20,
    "start_time": "2021-11-03T18:41:27.419Z"
   },
   {
    "duration": 9,
    "start_time": "2021-11-03T18:42:00.506Z"
   },
   {
    "duration": 106,
    "start_time": "2021-11-03T18:45:28.692Z"
   },
   {
    "duration": 9,
    "start_time": "2021-11-03T18:45:34.634Z"
   },
   {
    "duration": 6,
    "start_time": "2021-11-03T18:47:04.381Z"
   },
   {
    "duration": 9,
    "start_time": "2021-11-03T18:47:13.625Z"
   },
   {
    "duration": 10,
    "start_time": "2021-11-03T18:47:17.841Z"
   },
   {
    "duration": 7,
    "start_time": "2021-11-03T18:47:24.526Z"
   },
   {
    "duration": 9,
    "start_time": "2021-11-03T18:47:26.250Z"
   },
   {
    "duration": 7,
    "start_time": "2021-11-03T18:47:49.928Z"
   },
   {
    "duration": 8,
    "start_time": "2021-11-03T18:47:50.511Z"
   },
   {
    "duration": 8,
    "start_time": "2021-11-03T18:48:35.604Z"
   },
   {
    "duration": 8,
    "start_time": "2021-11-03T18:48:37.328Z"
   },
   {
    "duration": 6,
    "start_time": "2021-11-03T18:48:47.026Z"
   },
   {
    "duration": 8,
    "start_time": "2021-11-03T18:48:47.470Z"
   },
   {
    "duration": 10,
    "start_time": "2021-11-03T18:50:36.076Z"
   },
   {
    "duration": 9,
    "start_time": "2021-11-03T18:50:37.291Z"
   },
   {
    "duration": 8,
    "start_time": "2021-11-03T18:50:51.409Z"
   },
   {
    "duration": 8,
    "start_time": "2021-11-03T18:50:52.275Z"
   },
   {
    "duration": 14,
    "start_time": "2021-11-03T18:54:44.419Z"
   },
   {
    "duration": 8,
    "start_time": "2021-11-03T18:54:46.186Z"
   },
   {
    "duration": 11,
    "start_time": "2021-11-03T18:54:55.918Z"
   },
   {
    "duration": 8,
    "start_time": "2021-11-03T18:55:43.567Z"
   },
   {
    "duration": 10,
    "start_time": "2021-11-03T18:55:44.332Z"
   },
   {
    "duration": 11,
    "start_time": "2021-11-03T18:56:13.200Z"
   },
   {
    "duration": 38,
    "start_time": "2021-11-03T18:56:45.450Z"
   },
   {
    "duration": 9,
    "start_time": "2021-11-03T19:02:50.099Z"
   },
   {
    "duration": 8,
    "start_time": "2021-11-03T19:02:54.385Z"
   },
   {
    "duration": 10,
    "start_time": "2021-11-03T19:03:03.806Z"
   },
   {
    "duration": 9,
    "start_time": "2021-11-03T19:03:43.381Z"
   },
   {
    "duration": 11,
    "start_time": "2021-11-03T19:03:45.168Z"
   },
   {
    "duration": 9,
    "start_time": "2021-11-03T19:03:51.931Z"
   },
   {
    "duration": 10,
    "start_time": "2021-11-03T19:03:51.987Z"
   },
   {
    "duration": 8,
    "start_time": "2021-11-03T19:03:56.427Z"
   },
   {
    "duration": 12,
    "start_time": "2021-11-03T19:03:57.196Z"
   },
   {
    "duration": 8,
    "start_time": "2021-11-03T19:06:17.021Z"
   },
   {
    "duration": 11,
    "start_time": "2021-11-03T19:06:18.587Z"
   },
   {
    "duration": 8,
    "start_time": "2021-11-03T19:06:26.498Z"
   },
   {
    "duration": 10,
    "start_time": "2021-11-03T19:06:26.933Z"
   },
   {
    "duration": 17,
    "start_time": "2021-11-03T19:08:22.802Z"
   },
   {
    "duration": 19,
    "start_time": "2021-11-03T19:08:39.707Z"
   },
   {
    "duration": 20,
    "start_time": "2021-11-03T19:08:53.217Z"
   },
   {
    "duration": 87,
    "start_time": "2021-11-03T19:08:58.229Z"
   },
   {
    "duration": 20,
    "start_time": "2021-11-03T19:09:10.495Z"
   },
   {
    "duration": 20,
    "start_time": "2021-11-03T19:09:16.248Z"
   },
   {
    "duration": 246,
    "start_time": "2021-11-03T19:15:05.058Z"
   },
   {
    "duration": 11,
    "start_time": "2021-11-03T19:15:09.547Z"
   },
   {
    "duration": 303,
    "start_time": "2021-11-03T19:16:58.464Z"
   },
   {
    "duration": 287,
    "start_time": "2021-11-03T19:17:10.361Z"
   },
   {
    "duration": 253,
    "start_time": "2021-11-03T19:17:38.768Z"
   },
   {
    "duration": 265,
    "start_time": "2021-11-03T19:17:44.122Z"
   },
   {
    "duration": 275,
    "start_time": "2021-11-03T19:17:48.439Z"
   },
   {
    "duration": 16,
    "start_time": "2021-11-03T19:18:58.212Z"
   },
   {
    "duration": 12,
    "start_time": "2021-11-03T19:20:00.795Z"
   },
   {
    "duration": 14,
    "start_time": "2021-11-03T19:20:10.028Z"
   },
   {
    "duration": 62,
    "start_time": "2021-11-03T19:21:05.075Z"
   },
   {
    "duration": 16,
    "start_time": "2021-11-03T19:21:10.765Z"
   },
   {
    "duration": 264,
    "start_time": "2021-11-03T19:23:03.642Z"
   },
   {
    "duration": 23,
    "start_time": "2021-11-03T19:23:29.267Z"
   },
   {
    "duration": 22,
    "start_time": "2021-11-03T19:23:37.052Z"
   },
   {
    "duration": 51,
    "start_time": "2021-11-03T19:25:07.546Z"
   },
   {
    "duration": 5,
    "start_time": "2021-11-03T19:25:28.435Z"
   },
   {
    "duration": 26,
    "start_time": "2021-11-03T19:25:35.878Z"
   },
   {
    "duration": 5,
    "start_time": "2021-11-03T19:25:38.639Z"
   },
   {
    "duration": 23,
    "start_time": "2021-11-03T19:26:13.825Z"
   },
   {
    "duration": 84,
    "start_time": "2021-11-03T19:33:31.473Z"
   },
   {
    "duration": 10,
    "start_time": "2021-11-03T19:33:59.865Z"
   },
   {
    "duration": 99,
    "start_time": "2021-11-03T19:35:24.808Z"
   },
   {
    "duration": 18,
    "start_time": "2021-11-03T19:35:48.865Z"
   },
   {
    "duration": 11,
    "start_time": "2021-11-03T19:36:20.683Z"
   },
   {
    "duration": 25,
    "start_time": "2021-11-03T19:36:35.551Z"
   },
   {
    "duration": 10,
    "start_time": "2021-11-03T19:39:25.234Z"
   },
   {
    "duration": 8,
    "start_time": "2021-11-03T19:40:13.926Z"
   },
   {
    "duration": 11,
    "start_time": "2021-11-03T19:40:22.447Z"
   },
   {
    "duration": 9,
    "start_time": "2021-11-03T19:40:32.336Z"
   },
   {
    "duration": 18,
    "start_time": "2021-11-03T19:40:36.735Z"
   },
   {
    "duration": 10,
    "start_time": "2021-11-03T19:43:35.231Z"
   },
   {
    "duration": 25,
    "start_time": "2021-11-03T19:44:40.979Z"
   },
   {
    "duration": 29,
    "start_time": "2021-11-03T19:45:30.163Z"
   },
   {
    "duration": 27,
    "start_time": "2021-11-03T19:45:51.807Z"
   },
   {
    "duration": 24,
    "start_time": "2021-11-03T19:46:02.518Z"
   },
   {
    "duration": 215,
    "start_time": "2021-11-04T05:36:05.218Z"
   },
   {
    "duration": 541,
    "start_time": "2021-11-04T05:36:09.397Z"
   },
   {
    "duration": 49,
    "start_time": "2021-11-04T05:36:09.940Z"
   },
   {
    "duration": 18,
    "start_time": "2021-11-04T05:36:09.992Z"
   },
   {
    "duration": 14,
    "start_time": "2021-11-04T05:36:10.012Z"
   },
   {
    "duration": 9,
    "start_time": "2021-11-04T05:36:10.028Z"
   },
   {
    "duration": 7,
    "start_time": "2021-11-04T05:36:10.039Z"
   },
   {
    "duration": 9,
    "start_time": "2021-11-04T05:36:10.047Z"
   },
   {
    "duration": 39,
    "start_time": "2021-11-04T05:36:10.058Z"
   },
   {
    "duration": 12,
    "start_time": "2021-11-04T05:36:10.098Z"
   },
   {
    "duration": 15,
    "start_time": "2021-11-04T05:36:10.111Z"
   },
   {
    "duration": 15,
    "start_time": "2021-11-04T05:36:10.127Z"
   },
   {
    "duration": 14,
    "start_time": "2021-11-04T05:36:10.144Z"
   },
   {
    "duration": 35,
    "start_time": "2021-11-04T05:36:10.159Z"
   },
   {
    "duration": 11,
    "start_time": "2021-11-04T05:36:10.196Z"
   },
   {
    "duration": 8,
    "start_time": "2021-11-04T05:36:10.209Z"
   },
   {
    "duration": 8,
    "start_time": "2021-11-04T05:36:10.219Z"
   },
   {
    "duration": 17,
    "start_time": "2021-11-04T05:36:10.228Z"
   },
   {
    "duration": 44,
    "start_time": "2021-11-04T05:36:10.247Z"
   },
   {
    "duration": 16,
    "start_time": "2021-11-04T05:36:10.293Z"
   },
   {
    "duration": 13,
    "start_time": "2021-11-04T05:37:46.842Z"
   },
   {
    "duration": 10,
    "start_time": "2021-11-04T05:38:01.887Z"
   },
   {
    "duration": 10,
    "start_time": "2021-11-04T05:38:26.076Z"
   },
   {
    "duration": 47,
    "start_time": "2021-11-04T05:38:31.524Z"
   },
   {
    "duration": 12,
    "start_time": "2021-11-04T05:38:33.260Z"
   },
   {
    "duration": 11,
    "start_time": "2021-11-04T05:38:36.002Z"
   },
   {
    "duration": 11,
    "start_time": "2021-11-04T05:38:38.635Z"
   },
   {
    "duration": 7,
    "start_time": "2021-11-04T05:38:41.838Z"
   },
   {
    "duration": 12,
    "start_time": "2021-11-04T05:38:46.674Z"
   },
   {
    "duration": 6,
    "start_time": "2021-11-04T05:38:58.771Z"
   },
   {
    "duration": 435,
    "start_time": "2021-11-04T05:39:10.084Z"
   },
   {
    "duration": 5,
    "start_time": "2021-11-04T05:39:19.769Z"
   },
   {
    "duration": 6,
    "start_time": "2021-11-04T05:39:47.049Z"
   },
   {
    "duration": 7,
    "start_time": "2021-11-04T05:41:04.870Z"
   },
   {
    "duration": 6,
    "start_time": "2021-11-04T05:41:10.808Z"
   },
   {
    "duration": 11,
    "start_time": "2021-11-04T05:41:21.291Z"
   },
   {
    "duration": 55,
    "start_time": "2021-11-04T05:42:13.072Z"
   },
   {
    "duration": 10,
    "start_time": "2021-11-04T05:42:18.238Z"
   },
   {
    "duration": 6,
    "start_time": "2021-11-04T05:42:22.873Z"
   },
   {
    "duration": 10,
    "start_time": "2021-11-04T05:42:24.989Z"
   },
   {
    "duration": 218,
    "start_time": "2021-11-04T05:48:40.149Z"
   },
   {
    "duration": 4,
    "start_time": "2021-11-04T05:49:43.675Z"
   },
   {
    "duration": 20,
    "start_time": "2021-11-04T05:49:57.653Z"
   },
   {
    "duration": 88,
    "start_time": "2021-11-04T05:50:40.668Z"
   },
   {
    "duration": 21,
    "start_time": "2021-11-04T05:50:44.587Z"
   },
   {
    "duration": 10,
    "start_time": "2021-11-04T05:51:38.560Z"
   },
   {
    "duration": 4,
    "start_time": "2021-11-04T05:51:56.545Z"
   },
   {
    "duration": 50,
    "start_time": "2021-11-04T05:53:32.443Z"
   },
   {
    "duration": 5,
    "start_time": "2021-11-04T05:53:43.190Z"
   },
   {
    "duration": 10,
    "start_time": "2021-11-04T05:53:45.048Z"
   },
   {
    "duration": 6,
    "start_time": "2021-11-04T05:53:55.585Z"
   },
   {
    "duration": 4,
    "start_time": "2021-11-04T05:53:59.560Z"
   },
   {
    "duration": 8,
    "start_time": "2021-11-04T05:57:28.611Z"
   },
   {
    "duration": 11,
    "start_time": "2021-11-04T05:57:48.630Z"
   },
   {
    "duration": 7,
    "start_time": "2021-11-04T05:59:01.262Z"
   },
   {
    "duration": 9,
    "start_time": "2021-11-04T06:00:09.017Z"
   },
   {
    "duration": 6,
    "start_time": "2021-11-04T06:03:09.423Z"
   },
   {
    "duration": 3,
    "start_time": "2021-11-04T06:03:18.589Z"
   },
   {
    "duration": 180,
    "start_time": "2021-11-04T06:03:33.904Z"
   },
   {
    "duration": 172,
    "start_time": "2021-11-04T06:04:26.345Z"
   },
   {
    "duration": 212,
    "start_time": "2021-11-04T06:05:47.192Z"
   },
   {
    "duration": 6,
    "start_time": "2021-11-04T06:05:52.218Z"
   },
   {
    "duration": 4,
    "start_time": "2021-11-04T06:05:55.214Z"
   },
   {
    "duration": 4,
    "start_time": "2021-11-04T06:06:05.051Z"
   },
   {
    "duration": 5,
    "start_time": "2021-11-04T06:06:19.013Z"
   },
   {
    "duration": 4,
    "start_time": "2021-11-04T06:06:20.931Z"
   },
   {
    "duration": 4,
    "start_time": "2021-11-04T06:06:28.765Z"
   },
   {
    "duration": 3,
    "start_time": "2021-11-04T06:06:38.332Z"
   },
   {
    "duration": 3,
    "start_time": "2021-11-04T06:06:47.918Z"
   },
   {
    "duration": 6,
    "start_time": "2021-11-04T06:07:55.499Z"
   },
   {
    "duration": 5,
    "start_time": "2021-11-04T06:08:01.134Z"
   },
   {
    "duration": 5,
    "start_time": "2021-11-04T06:08:07.210Z"
   },
   {
    "duration": 4,
    "start_time": "2021-11-04T06:08:11.375Z"
   },
   {
    "duration": 176,
    "start_time": "2021-11-04T06:08:23.761Z"
   },
   {
    "duration": 4,
    "start_time": "2021-11-04T06:08:30.730Z"
   },
   {
    "duration": 5,
    "start_time": "2021-11-04T06:08:51.688Z"
   },
   {
    "duration": 176,
    "start_time": "2021-11-04T06:09:06.906Z"
   },
   {
    "duration": 5,
    "start_time": "2021-11-04T06:09:16.503Z"
   },
   {
    "duration": 5,
    "start_time": "2021-11-04T06:10:52.918Z"
   },
   {
    "duration": 5,
    "start_time": "2021-11-04T06:10:59.485Z"
   },
   {
    "duration": 5,
    "start_time": "2021-11-04T06:12:00.716Z"
   },
   {
    "duration": 4,
    "start_time": "2021-11-04T06:12:01.891Z"
   },
   {
    "duration": 7,
    "start_time": "2021-11-04T06:17:05.567Z"
   },
   {
    "duration": 8,
    "start_time": "2021-11-04T06:17:32.886Z"
   },
   {
    "duration": 20,
    "start_time": "2021-11-04T06:17:58.832Z"
   },
   {
    "duration": 9,
    "start_time": "2021-11-04T06:18:02.673Z"
   },
   {
    "duration": 7,
    "start_time": "2021-11-04T06:18:43.020Z"
   },
   {
    "duration": 9,
    "start_time": "2021-11-04T06:19:28.472Z"
   },
   {
    "duration": 10,
    "start_time": "2021-11-04T06:19:33.722Z"
   },
   {
    "duration": 7,
    "start_time": "2021-11-04T06:20:18.431Z"
   },
   {
    "duration": 12,
    "start_time": "2021-11-04T06:20:23.296Z"
   },
   {
    "duration": 4220,
    "start_time": "2021-11-04T06:20:35.221Z"
   },
   {
    "duration": 4183,
    "start_time": "2021-11-04T06:20:46.466Z"
   },
   {
    "duration": 4225,
    "start_time": "2021-11-04T06:20:57.526Z"
   },
   {
    "duration": 4,
    "start_time": "2021-11-04T06:21:05.650Z"
   },
   {
    "duration": 48,
    "start_time": "2021-11-04T06:25:52.555Z"
   },
   {
    "duration": 7,
    "start_time": "2021-11-04T06:25:57.960Z"
   },
   {
    "duration": 6,
    "start_time": "2021-11-04T06:26:09.452Z"
   },
   {
    "duration": 11,
    "start_time": "2021-11-04T06:26:11.121Z"
   },
   {
    "duration": 4,
    "start_time": "2021-11-04T06:26:18.905Z"
   },
   {
    "duration": 5,
    "start_time": "2021-11-04T06:26:20.796Z"
   },
   {
    "duration": 5,
    "start_time": "2021-11-04T06:26:23.082Z"
   },
   {
    "duration": 5,
    "start_time": "2021-11-04T06:26:24.476Z"
   },
   {
    "duration": 6,
    "start_time": "2021-11-04T06:26:26.825Z"
   },
   {
    "duration": 20,
    "start_time": "2021-11-04T06:26:28.673Z"
   },
   {
    "duration": 8,
    "start_time": "2021-11-04T06:26:30.462Z"
   },
   {
    "duration": 10,
    "start_time": "2021-11-04T06:26:32.959Z"
   },
   {
    "duration": 5,
    "start_time": "2021-11-04T06:34:54.994Z"
   },
   {
    "duration": 11,
    "start_time": "2021-11-04T06:35:05.218Z"
   },
   {
    "duration": 12,
    "start_time": "2021-11-04T06:35:20.617Z"
   },
   {
    "duration": 15,
    "start_time": "2021-11-04T06:38:23.418Z"
   },
   {
    "duration": 18,
    "start_time": "2021-11-04T06:38:24.974Z"
   },
   {
    "duration": 15,
    "start_time": "2021-11-04T06:38:26.655Z"
   },
   {
    "duration": 8,
    "start_time": "2021-11-04T06:38:29.224Z"
   },
   {
    "duration": 11,
    "start_time": "2021-11-04T06:38:31.224Z"
   },
   {
    "duration": 11,
    "start_time": "2021-11-04T06:38:32.698Z"
   },
   {
    "duration": 7,
    "start_time": "2021-11-04T06:38:35.226Z"
   },
   {
    "duration": 16,
    "start_time": "2021-11-04T06:38:37.037Z"
   },
   {
    "duration": 19,
    "start_time": "2021-11-04T06:38:39.173Z"
   },
   {
    "duration": 16,
    "start_time": "2021-11-04T06:38:40.972Z"
   },
   {
    "duration": 5,
    "start_time": "2021-11-04T06:42:50.254Z"
   },
   {
    "duration": 7,
    "start_time": "2021-11-04T06:43:02.860Z"
   },
   {
    "duration": 8,
    "start_time": "2021-11-04T06:45:32.399Z"
   },
   {
    "duration": 5,
    "start_time": "2021-11-04T06:46:33.179Z"
   },
   {
    "duration": 6,
    "start_time": "2021-11-04T06:46:51.356Z"
   },
   {
    "duration": 186,
    "start_time": "2021-11-04T06:47:03.952Z"
   },
   {
    "duration": 6,
    "start_time": "2021-11-04T06:47:20.815Z"
   },
   {
    "duration": 577,
    "start_time": "2021-11-04T06:49:03.459Z"
   },
   {
    "duration": 196,
    "start_time": "2021-11-04T06:49:46.634Z"
   },
   {
    "duration": 645,
    "start_time": "2021-11-04T06:50:23.392Z"
   },
   {
    "duration": 193,
    "start_time": "2021-11-04T06:50:45.045Z"
   },
   {
    "duration": 60,
    "start_time": "2021-11-04T06:51:26.936Z"
   },
   {
    "duration": 15,
    "start_time": "2021-11-04T06:52:05.476Z"
   },
   {
    "duration": 6,
    "start_time": "2021-11-04T06:52:13.704Z"
   },
   {
    "duration": 14,
    "start_time": "2021-11-04T06:52:18.703Z"
   },
   {
    "duration": 185,
    "start_time": "2021-11-04T06:57:41.827Z"
   },
   {
    "duration": 17,
    "start_time": "2021-11-04T06:57:54.104Z"
   },
   {
    "duration": 173,
    "start_time": "2021-11-04T06:58:11.969Z"
   },
   {
    "duration": 16,
    "start_time": "2021-11-04T06:58:15.564Z"
   },
   {
    "duration": 7,
    "start_time": "2021-11-04T06:58:27.933Z"
   },
   {
    "duration": 5,
    "start_time": "2021-11-04T06:58:46.642Z"
   },
   {
    "duration": 5,
    "start_time": "2021-11-04T06:59:18.496Z"
   },
   {
    "duration": 4,
    "start_time": "2021-11-04T07:01:06.805Z"
   },
   {
    "duration": 4,
    "start_time": "2021-11-04T07:01:12.255Z"
   },
   {
    "duration": 190,
    "start_time": "2021-11-04T07:01:31.394Z"
   },
   {
    "duration": 614,
    "start_time": "2021-11-04T07:01:36.947Z"
   },
   {
    "duration": 679,
    "start_time": "2021-11-04T07:02:58.761Z"
   },
   {
    "duration": 724,
    "start_time": "2021-11-04T07:06:16.398Z"
   },
   {
    "duration": 643,
    "start_time": "2021-11-04T07:06:31.441Z"
   },
   {
    "duration": 67,
    "start_time": "2021-11-04T07:07:32.628Z"
   },
   {
    "duration": 57,
    "start_time": "2021-11-04T07:07:47.296Z"
   },
   {
    "duration": 654,
    "start_time": "2021-11-04T07:07:53.937Z"
   },
   {
    "duration": 667,
    "start_time": "2021-11-04T07:09:17.175Z"
   },
   {
    "duration": 67,
    "start_time": "2021-11-04T07:10:01.216Z"
   },
   {
    "duration": 850,
    "start_time": "2021-11-04T07:10:21.556Z"
   },
   {
    "duration": 834,
    "start_time": "2021-11-04T07:10:31.513Z"
   },
   {
    "duration": 659,
    "start_time": "2021-11-04T07:10:41.885Z"
   },
   {
    "duration": 660,
    "start_time": "2021-11-04T07:10:52.179Z"
   },
   {
    "duration": 664,
    "start_time": "2021-11-04T07:11:01.027Z"
   },
   {
    "duration": 4,
    "start_time": "2021-11-04T07:25:36.559Z"
   },
   {
    "duration": 167,
    "start_time": "2021-11-04T07:26:09.127Z"
   },
   {
    "duration": 3,
    "start_time": "2021-11-04T07:26:16.451Z"
   },
   {
    "duration": 179,
    "start_time": "2021-11-04T07:26:19.974Z"
   },
   {
    "duration": 3,
    "start_time": "2021-11-04T07:26:22.931Z"
   },
   {
    "duration": 4,
    "start_time": "2021-11-04T07:26:28.494Z"
   },
   {
    "duration": 3,
    "start_time": "2021-11-04T07:26:53.893Z"
   },
   {
    "duration": 4,
    "start_time": "2021-11-04T07:26:54.846Z"
   },
   {
    "duration": 4,
    "start_time": "2021-11-04T07:27:18.904Z"
   },
   {
    "duration": 3,
    "start_time": "2021-11-04T07:27:20.878Z"
   },
   {
    "duration": 3,
    "start_time": "2021-11-04T07:27:54.140Z"
   },
   {
    "duration": 3,
    "start_time": "2021-11-04T07:27:55.668Z"
   },
   {
    "duration": 4,
    "start_time": "2021-11-04T07:27:58.210Z"
   },
   {
    "duration": 5,
    "start_time": "2021-11-04T07:28:05.100Z"
   },
   {
    "duration": 3,
    "start_time": "2021-11-04T07:28:06.258Z"
   },
   {
    "duration": 4,
    "start_time": "2021-11-04T07:28:06.765Z"
   },
   {
    "duration": 4,
    "start_time": "2021-11-04T07:28:22.321Z"
   },
   {
    "duration": 3,
    "start_time": "2021-11-04T07:28:23.245Z"
   },
   {
    "duration": 3,
    "start_time": "2021-11-04T07:28:24.064Z"
   },
   {
    "duration": 4,
    "start_time": "2021-11-04T07:29:24.064Z"
   },
   {
    "duration": 4,
    "start_time": "2021-11-04T07:29:24.812Z"
   },
   {
    "duration": 3,
    "start_time": "2021-11-04T07:29:26.712Z"
   },
   {
    "duration": 60,
    "start_time": "2021-11-04T07:31:44.750Z"
   },
   {
    "duration": 4,
    "start_time": "2021-11-04T07:31:49.104Z"
   },
   {
    "duration": 4,
    "start_time": "2021-11-04T07:31:50.704Z"
   },
   {
    "duration": 3,
    "start_time": "2021-11-04T07:31:52.523Z"
   },
   {
    "duration": 3,
    "start_time": "2021-11-04T07:33:26.760Z"
   },
   {
    "duration": 3,
    "start_time": "2021-11-04T07:33:27.808Z"
   },
   {
    "duration": 3,
    "start_time": "2021-11-04T07:33:29.340Z"
   },
   {
    "duration": 3,
    "start_time": "2021-11-04T07:33:45.530Z"
   },
   {
    "duration": 4,
    "start_time": "2021-11-04T07:33:46.380Z"
   },
   {
    "duration": 4,
    "start_time": "2021-11-04T07:33:47.063Z"
   },
   {
    "duration": 3,
    "start_time": "2021-11-04T07:34:03.698Z"
   },
   {
    "duration": 4,
    "start_time": "2021-11-04T07:34:09.542Z"
   },
   {
    "duration": 4,
    "start_time": "2021-11-04T07:34:10.276Z"
   },
   {
    "duration": 3,
    "start_time": "2021-11-04T07:34:26.735Z"
   },
   {
    "duration": 4,
    "start_time": "2021-11-04T07:34:28.108Z"
   },
   {
    "duration": 7057,
    "start_time": "2021-11-04T07:35:04.439Z"
   },
   {
    "duration": 4,
    "start_time": "2021-11-04T07:35:16.025Z"
   },
   {
    "duration": 2499,
    "start_time": "2021-11-04T07:35:18.299Z"
   },
   {
    "duration": 20,
    "start_time": "2021-11-04T07:35:27.862Z"
   },
   {
    "duration": 14,
    "start_time": "2021-11-04T07:36:05.992Z"
   },
   {
    "duration": 12,
    "start_time": "2021-11-04T07:36:20.562Z"
   },
   {
    "duration": 64,
    "start_time": "2021-11-04T07:37:11.950Z"
   },
   {
    "duration": 12,
    "start_time": "2021-11-04T07:37:17.330Z"
   },
   {
    "duration": 3,
    "start_time": "2021-11-04T07:40:33.127Z"
   },
   {
    "duration": 2767,
    "start_time": "2021-11-04T07:40:58.684Z"
   },
   {
    "duration": 12,
    "start_time": "2021-11-04T07:41:38.200Z"
   },
   {
    "duration": 7,
    "start_time": "2021-11-04T07:43:39.912Z"
   },
   {
    "duration": 7,
    "start_time": "2021-11-04T07:46:19.786Z"
   },
   {
    "duration": 6,
    "start_time": "2021-11-04T07:47:10.754Z"
   },
   {
    "duration": 24,
    "start_time": "2021-11-04T07:47:39.974Z"
   },
   {
    "duration": 26,
    "start_time": "2021-11-04T07:47:48.289Z"
   },
   {
    "duration": 7,
    "start_time": "2021-11-04T07:47:52.745Z"
   },
   {
    "duration": 24,
    "start_time": "2021-11-04T07:48:09.768Z"
   },
   {
    "duration": 22,
    "start_time": "2021-11-04T07:48:21.001Z"
   },
   {
    "duration": 15,
    "start_time": "2021-11-04T07:49:05.060Z"
   },
   {
    "duration": 8,
    "start_time": "2021-11-04T07:49:30.800Z"
   },
   {
    "duration": 13,
    "start_time": "2021-11-04T07:51:35.236Z"
   },
   {
    "duration": 65,
    "start_time": "2021-11-04T07:56:45.893Z"
   },
   {
    "duration": 168,
    "start_time": "2021-11-04T07:58:16.657Z"
   },
   {
    "duration": 173,
    "start_time": "2021-11-04T07:58:22.719Z"
   },
   {
    "duration": 10,
    "start_time": "2021-11-04T07:58:27.980Z"
   },
   {
    "duration": 41,
    "start_time": "2021-11-04T07:58:36.218Z"
   },
   {
    "duration": 9,
    "start_time": "2021-11-04T07:59:07.579Z"
   },
   {
    "duration": 7,
    "start_time": "2021-11-04T07:59:25.388Z"
   },
   {
    "duration": 8,
    "start_time": "2021-11-04T07:59:27.093Z"
   },
   {
    "duration": 9,
    "start_time": "2021-11-04T07:59:41.745Z"
   },
   {
    "duration": 61,
    "start_time": "2021-11-04T08:00:03.291Z"
   },
   {
    "duration": 8,
    "start_time": "2021-11-04T08:00:13.608Z"
   },
   {
    "duration": 9,
    "start_time": "2021-11-04T08:00:15.495Z"
   },
   {
    "duration": 12,
    "start_time": "2021-11-04T08:00:20.287Z"
   },
   {
    "duration": 9,
    "start_time": "2021-11-04T08:00:22.507Z"
   },
   {
    "duration": 10,
    "start_time": "2021-11-04T08:00:26.478Z"
   },
   {
    "duration": 9,
    "start_time": "2021-11-04T08:00:32.014Z"
   },
   {
    "duration": 10,
    "start_time": "2021-11-04T08:00:35.792Z"
   },
   {
    "duration": 9,
    "start_time": "2021-11-04T08:00:37.070Z"
   },
   {
    "duration": 9,
    "start_time": "2021-11-04T08:00:40.376Z"
   },
   {
    "duration": 9,
    "start_time": "2021-11-04T08:00:41.201Z"
   },
   {
    "duration": 10,
    "start_time": "2021-11-04T08:01:08.008Z"
   },
   {
    "duration": 8,
    "start_time": "2021-11-04T08:01:08.996Z"
   },
   {
    "duration": 9,
    "start_time": "2021-11-04T08:02:40.552Z"
   },
   {
    "duration": 7,
    "start_time": "2021-11-04T08:02:42.462Z"
   },
   {
    "duration": 8,
    "start_time": "2021-11-04T08:02:49.302Z"
   },
   {
    "duration": 9,
    "start_time": "2021-11-04T08:02:50.048Z"
   },
   {
    "duration": 11,
    "start_time": "2021-11-04T08:03:48.209Z"
   },
   {
    "duration": 183,
    "start_time": "2021-11-04T08:04:36.595Z"
   },
   {
    "duration": 8,
    "start_time": "2021-11-04T08:04:40.226Z"
   },
   {
    "duration": 62,
    "start_time": "2021-11-04T08:08:45.258Z"
   },
   {
    "duration": 12,
    "start_time": "2021-11-04T08:08:53.738Z"
   },
   {
    "duration": 12,
    "start_time": "2021-11-04T08:09:20.165Z"
   },
   {
    "duration": 9,
    "start_time": "2021-11-04T08:09:26.347Z"
   },
   {
    "duration": 12,
    "start_time": "2021-11-04T08:09:34.147Z"
   },
   {
    "duration": 7,
    "start_time": "2021-11-04T08:11:25.518Z"
   },
   {
    "duration": 8,
    "start_time": "2021-11-04T08:11:34.762Z"
   },
   {
    "duration": 56,
    "start_time": "2021-11-04T08:15:46.142Z"
   },
   {
    "duration": 64,
    "start_time": "2021-11-04T08:15:50.565Z"
   },
   {
    "duration": 182,
    "start_time": "2021-11-04T08:15:55.724Z"
   },
   {
    "duration": 12,
    "start_time": "2021-11-04T08:15:59.533Z"
   },
   {
    "duration": 67,
    "start_time": "2021-11-04T08:16:10.529Z"
   },
   {
    "duration": 181,
    "start_time": "2021-11-04T08:16:14.968Z"
   },
   {
    "duration": 11,
    "start_time": "2021-11-04T08:16:38.770Z"
   },
   {
    "duration": 11,
    "start_time": "2021-11-04T08:19:49.459Z"
   },
   {
    "duration": 47,
    "start_time": "2021-11-04T09:19:07.704Z"
   },
   {
    "duration": 3,
    "start_time": "2021-11-04T09:19:15.897Z"
   },
   {
    "duration": 51,
    "start_time": "2021-11-04T09:19:15.902Z"
   },
   {
    "duration": 12,
    "start_time": "2021-11-04T09:19:15.955Z"
   },
   {
    "duration": 12,
    "start_time": "2021-11-04T09:19:15.969Z"
   },
   {
    "duration": 10,
    "start_time": "2021-11-04T09:19:15.991Z"
   },
   {
    "duration": 9,
    "start_time": "2021-11-04T09:19:16.002Z"
   },
   {
    "duration": 10,
    "start_time": "2021-11-04T09:19:16.012Z"
   },
   {
    "duration": 6,
    "start_time": "2021-11-04T09:19:16.024Z"
   },
   {
    "duration": 7,
    "start_time": "2021-11-04T09:19:16.032Z"
   },
   {
    "duration": 12,
    "start_time": "2021-11-04T09:19:16.041Z"
   },
   {
    "duration": 5,
    "start_time": "2021-11-04T09:19:16.054Z"
   },
   {
    "duration": 32,
    "start_time": "2021-11-04T09:19:16.060Z"
   },
   {
    "duration": 5,
    "start_time": "2021-11-04T09:19:16.094Z"
   },
   {
    "duration": 6,
    "start_time": "2021-11-04T09:19:16.100Z"
   },
   {
    "duration": 7,
    "start_time": "2021-11-04T09:19:16.107Z"
   },
   {
    "duration": 4,
    "start_time": "2021-11-04T09:19:16.115Z"
   },
   {
    "duration": 24,
    "start_time": "2021-11-04T09:19:16.121Z"
   },
   {
    "duration": 6,
    "start_time": "2021-11-04T09:19:16.146Z"
   },
   {
    "duration": 13,
    "start_time": "2021-11-04T09:19:16.153Z"
   },
   {
    "duration": 23,
    "start_time": "2021-11-04T09:19:16.168Z"
   },
   {
    "duration": 14,
    "start_time": "2021-11-04T09:19:16.193Z"
   },
   {
    "duration": 11,
    "start_time": "2021-11-04T09:19:16.209Z"
   },
   {
    "duration": 17,
    "start_time": "2021-11-04T09:19:16.222Z"
   },
   {
    "duration": 17,
    "start_time": "2021-11-04T09:19:16.240Z"
   },
   {
    "duration": 39,
    "start_time": "2021-11-04T09:19:16.258Z"
   },
   {
    "duration": 6,
    "start_time": "2021-11-04T09:19:16.299Z"
   },
   {
    "duration": 13,
    "start_time": "2021-11-04T09:19:16.308Z"
   },
   {
    "duration": 16,
    "start_time": "2021-11-04T09:19:16.323Z"
   },
   {
    "duration": 10,
    "start_time": "2021-11-04T09:19:16.340Z"
   },
   {
    "duration": 21,
    "start_time": "2021-11-04T09:19:16.352Z"
   },
   {
    "duration": 31,
    "start_time": "2021-11-04T09:19:16.374Z"
   },
   {
    "duration": 14,
    "start_time": "2021-11-04T09:19:16.407Z"
   },
   {
    "duration": 4,
    "start_time": "2021-11-04T09:19:16.423Z"
   },
   {
    "duration": 7,
    "start_time": "2021-11-04T09:19:16.429Z"
   },
   {
    "duration": 6,
    "start_time": "2021-11-04T09:19:16.438Z"
   },
   {
    "duration": 697,
    "start_time": "2021-11-04T09:19:16.445Z"
   },
   {
    "duration": 5,
    "start_time": "2021-11-04T09:19:17.144Z"
   },
   {
    "duration": 2584,
    "start_time": "2021-11-04T09:19:17.151Z"
   },
   {
    "duration": 13,
    "start_time": "2021-11-04T09:19:19.736Z"
   },
   {
    "duration": 13,
    "start_time": "2021-11-04T09:19:19.751Z"
   },
   {
    "duration": 27,
    "start_time": "2021-11-04T09:19:19.766Z"
   },
   {
    "duration": 10,
    "start_time": "2021-11-04T09:19:19.794Z"
   },
   {
    "duration": 30,
    "start_time": "2021-11-04T09:19:19.805Z"
   },
   {
    "duration": 7,
    "start_time": "2021-11-04T09:19:19.836Z"
   },
   {
    "duration": 11,
    "start_time": "2021-11-04T09:19:19.844Z"
   },
   {
    "duration": 36,
    "start_time": "2021-11-04T09:19:19.856Z"
   },
   {
    "duration": 11,
    "start_time": "2021-11-04T09:19:19.894Z"
   },
   {
    "duration": 7,
    "start_time": "2021-11-04T09:19:19.907Z"
   },
   {
    "duration": 48,
    "start_time": "2021-11-04T09:22:53.176Z"
   },
   {
    "duration": 12,
    "start_time": "2021-11-04T09:22:55.896Z"
   },
   {
    "duration": 179,
    "start_time": "2021-11-04T09:23:20.073Z"
   },
   {
    "duration": 6,
    "start_time": "2021-11-04T09:23:25.712Z"
   },
   {
    "duration": 6,
    "start_time": "2021-11-04T10:04:53.447Z"
   },
   {
    "duration": 25,
    "start_time": "2021-11-04T10:07:18.023Z"
   },
   {
    "duration": 21,
    "start_time": "2021-11-04T10:07:47.344Z"
   },
   {
    "duration": 21,
    "start_time": "2021-11-04T10:08:40.073Z"
   },
   {
    "duration": 59,
    "start_time": "2021-11-04T10:11:52.384Z"
   },
   {
    "duration": 7,
    "start_time": "2021-11-04T10:12:17.384Z"
   },
   {
    "duration": 8,
    "start_time": "2021-11-04T10:13:44.773Z"
   },
   {
    "duration": 9,
    "start_time": "2021-11-04T10:15:36.824Z"
   },
   {
    "duration": 7,
    "start_time": "2021-11-04T10:16:33.664Z"
   },
   {
    "duration": 7,
    "start_time": "2021-11-04T10:17:04.704Z"
   },
   {
    "duration": 23,
    "start_time": "2021-11-04T10:17:10.304Z"
   },
   {
    "duration": 13,
    "start_time": "2021-11-04T10:17:29.335Z"
   },
   {
    "duration": 20,
    "start_time": "2021-11-04T10:17:38.545Z"
   },
   {
    "duration": 21,
    "start_time": "2021-11-04T10:18:02.328Z"
   },
   {
    "duration": 13,
    "start_time": "2021-11-04T10:18:13.434Z"
   },
   {
    "duration": 20,
    "start_time": "2021-11-04T10:19:44.453Z"
   },
   {
    "duration": 13,
    "start_time": "2021-11-04T10:20:17.014Z"
   },
   {
    "duration": 56,
    "start_time": "2021-11-04T10:22:14.048Z"
   },
   {
    "duration": 5,
    "start_time": "2021-11-04T10:22:18.833Z"
   },
   {
    "duration": 5,
    "start_time": "2021-11-04T10:22:25.703Z"
   },
   {
    "duration": 5,
    "start_time": "2021-11-04T10:22:34.687Z"
   },
   {
    "duration": 175,
    "start_time": "2021-11-04T10:22:55.173Z"
   },
   {
    "duration": 5,
    "start_time": "2021-11-04T10:23:01.785Z"
   },
   {
    "duration": 8,
    "start_time": "2021-11-04T10:23:18.024Z"
   },
   {
    "duration": 9,
    "start_time": "2021-11-04T10:24:50.560Z"
   },
   {
    "duration": 13,
    "start_time": "2021-11-04T10:24:55.437Z"
   },
   {
    "duration": 22,
    "start_time": "2021-11-04T10:25:03.944Z"
   },
   {
    "duration": 13,
    "start_time": "2021-11-04T10:25:40.214Z"
   },
   {
    "duration": 4489,
    "start_time": "2021-11-04T10:26:13.585Z"
   },
   {
    "duration": 7,
    "start_time": "2021-11-04T10:26:21.344Z"
   },
   {
    "duration": 23,
    "start_time": "2021-11-04T10:28:28.351Z"
   },
   {
    "duration": 14,
    "start_time": "2021-11-04T10:28:44.144Z"
   },
   {
    "duration": 6,
    "start_time": "2021-11-04T10:32:02.234Z"
   },
   {
    "duration": 6,
    "start_time": "2021-11-04T10:32:32.339Z"
   },
   {
    "duration": 59,
    "start_time": "2021-11-04T10:32:55.118Z"
   },
   {
    "duration": 15,
    "start_time": "2021-11-04T10:33:00.277Z"
   },
   {
    "duration": 14,
    "start_time": "2021-11-04T10:33:09.673Z"
   },
   {
    "duration": 13,
    "start_time": "2021-11-04T10:33:13.929Z"
   },
   {
    "duration": 15,
    "start_time": "2021-11-04T10:33:16.995Z"
   },
   {
    "duration": 22,
    "start_time": "2021-11-04T10:33:22.939Z"
   },
   {
    "duration": 22,
    "start_time": "2021-11-04T10:33:44.078Z"
   },
   {
    "duration": 21,
    "start_time": "2021-11-04T10:34:04.704Z"
   },
   {
    "duration": 10,
    "start_time": "2021-11-04T10:40:13.537Z"
   },
   {
    "duration": 12,
    "start_time": "2021-11-04T10:40:20.513Z"
   },
   {
    "duration": 11,
    "start_time": "2021-11-04T10:40:22.145Z"
   },
   {
    "duration": 14,
    "start_time": "2021-11-04T10:40:31.113Z"
   },
   {
    "duration": 19,
    "start_time": "2021-11-04T10:40:32.768Z"
   },
   {
    "duration": 16,
    "start_time": "2021-11-04T10:40:34.313Z"
   },
   {
    "duration": 7,
    "start_time": "2021-11-04T10:40:36.677Z"
   },
   {
    "duration": 10,
    "start_time": "2021-11-04T10:40:39.278Z"
   },
   {
    "duration": 12,
    "start_time": "2021-11-04T10:40:47.362Z"
   },
   {
    "duration": 8,
    "start_time": "2021-11-04T10:40:49.514Z"
   },
   {
    "duration": 7,
    "start_time": "2021-11-04T10:40:51.833Z"
   },
   {
    "duration": 17,
    "start_time": "2021-11-04T10:41:24.754Z"
   },
   {
    "duration": 18,
    "start_time": "2021-11-04T10:41:26.738Z"
   },
   {
    "duration": 16,
    "start_time": "2021-11-04T10:41:28.398Z"
   },
   {
    "duration": 5,
    "start_time": "2021-11-04T10:41:34.913Z"
   },
   {
    "duration": 4,
    "start_time": "2021-11-04T10:41:37.018Z"
   },
   {
    "duration": 4,
    "start_time": "2021-11-04T10:41:39.313Z"
   },
   {
    "duration": 662,
    "start_time": "2021-11-04T10:41:42.358Z"
   },
   {
    "duration": 4,
    "start_time": "2021-11-04T10:41:46.282Z"
   },
   {
    "duration": 2617,
    "start_time": "2021-11-04T10:41:48.753Z"
   },
   {
    "duration": 25,
    "start_time": "2021-11-04T10:41:51.372Z"
   },
   {
    "duration": 7,
    "start_time": "2021-11-04T10:41:55.114Z"
   },
   {
    "duration": 12,
    "start_time": "2021-11-04T10:41:57.513Z"
   },
   {
    "duration": 8,
    "start_time": "2021-11-04T10:41:59.072Z"
   },
   {
    "duration": 7,
    "start_time": "2021-11-04T10:42:18.945Z"
   },
   {
    "duration": 2,
    "start_time": "2021-11-04T10:42:36.866Z"
   },
   {
    "duration": 52,
    "start_time": "2021-11-04T10:42:36.870Z"
   },
   {
    "duration": 15,
    "start_time": "2021-11-04T10:42:36.924Z"
   },
   {
    "duration": 10,
    "start_time": "2021-11-04T10:42:36.941Z"
   },
   {
    "duration": 8,
    "start_time": "2021-11-04T10:42:36.953Z"
   },
   {
    "duration": 31,
    "start_time": "2021-11-04T10:42:36.962Z"
   },
   {
    "duration": 7,
    "start_time": "2021-11-04T10:42:36.994Z"
   },
   {
    "duration": 5,
    "start_time": "2021-11-04T10:42:37.003Z"
   },
   {
    "duration": 5,
    "start_time": "2021-11-04T10:42:37.011Z"
   },
   {
    "duration": 9,
    "start_time": "2021-11-04T10:42:37.018Z"
   },
   {
    "duration": 7,
    "start_time": "2021-11-04T10:42:37.028Z"
   },
   {
    "duration": 10,
    "start_time": "2021-11-04T10:42:37.037Z"
   },
   {
    "duration": 6,
    "start_time": "2021-11-04T10:42:37.049Z"
   },
   {
    "duration": 36,
    "start_time": "2021-11-04T10:42:37.057Z"
   },
   {
    "duration": 5,
    "start_time": "2021-11-04T10:42:37.095Z"
   },
   {
    "duration": 4,
    "start_time": "2021-11-04T10:42:37.101Z"
   },
   {
    "duration": 20,
    "start_time": "2021-11-04T10:42:37.106Z"
   },
   {
    "duration": 6,
    "start_time": "2021-11-04T10:42:37.127Z"
   },
   {
    "duration": 18,
    "start_time": "2021-11-04T10:42:37.134Z"
   },
   {
    "duration": 5,
    "start_time": "2021-11-04T10:42:37.153Z"
   },
   {
    "duration": 33,
    "start_time": "2021-11-04T10:42:37.159Z"
   },
   {
    "duration": 11,
    "start_time": "2021-11-04T10:42:37.193Z"
   },
   {
    "duration": 4,
    "start_time": "2021-11-04T10:42:37.205Z"
   },
   {
    "duration": 14,
    "start_time": "2021-11-04T10:42:37.211Z"
   },
   {
    "duration": 5,
    "start_time": "2021-11-04T10:42:37.226Z"
   },
   {
    "duration": 15,
    "start_time": "2021-11-04T10:42:37.232Z"
   },
   {
    "duration": 5,
    "start_time": "2021-11-04T10:42:37.250Z"
   },
   {
    "duration": 37,
    "start_time": "2021-11-04T10:42:37.257Z"
   },
   {
    "duration": 4,
    "start_time": "2021-11-04T10:42:37.296Z"
   },
   {
    "duration": 13,
    "start_time": "2021-11-04T10:42:37.301Z"
   },
   {
    "duration": 10,
    "start_time": "2021-11-04T10:42:37.315Z"
   },
   {
    "duration": 19,
    "start_time": "2021-11-04T10:42:37.326Z"
   },
   {
    "duration": 15,
    "start_time": "2021-11-04T10:42:37.346Z"
   },
   {
    "duration": 38,
    "start_time": "2021-11-04T10:42:37.363Z"
   },
   {
    "duration": 6,
    "start_time": "2021-11-04T10:42:37.403Z"
   },
   {
    "duration": 15,
    "start_time": "2021-11-04T10:42:37.411Z"
   },
   {
    "duration": 9,
    "start_time": "2021-11-04T10:42:37.428Z"
   },
   {
    "duration": 17,
    "start_time": "2021-11-04T10:42:37.439Z"
   },
   {
    "duration": 36,
    "start_time": "2021-11-04T10:42:37.457Z"
   },
   {
    "duration": 14,
    "start_time": "2021-11-04T10:42:37.495Z"
   },
   {
    "duration": 5,
    "start_time": "2021-11-04T10:42:37.511Z"
   },
   {
    "duration": 5,
    "start_time": "2021-11-04T10:42:37.517Z"
   },
   {
    "duration": 4,
    "start_time": "2021-11-04T10:42:37.524Z"
   },
   {
    "duration": 687,
    "start_time": "2021-11-04T10:42:37.530Z"
   },
   {
    "duration": 3,
    "start_time": "2021-11-04T10:42:38.220Z"
   },
   {
    "duration": 2569,
    "start_time": "2021-11-04T10:42:38.224Z"
   },
   {
    "duration": 13,
    "start_time": "2021-11-04T10:42:40.794Z"
   },
   {
    "duration": 9,
    "start_time": "2021-11-04T10:42:40.809Z"
   },
   {
    "duration": 10,
    "start_time": "2021-11-04T10:42:40.820Z"
   },
   {
    "duration": 5,
    "start_time": "2021-11-04T10:42:40.832Z"
   },
   {
    "duration": 12,
    "start_time": "2021-11-04T10:42:40.839Z"
   },
   {
    "duration": 6,
    "start_time": "2021-11-04T10:42:40.852Z"
   },
   {
    "duration": 39,
    "start_time": "2021-11-04T10:42:40.860Z"
   },
   {
    "duration": 6,
    "start_time": "2021-11-04T10:42:40.901Z"
   },
   {
    "duration": 10,
    "start_time": "2021-11-04T10:42:40.909Z"
   },
   {
    "duration": 6,
    "start_time": "2021-11-04T10:42:40.921Z"
   },
   {
    "duration": 8,
    "start_time": "2021-11-04T10:42:51.089Z"
   },
   {
    "duration": 6,
    "start_time": "2021-11-04T10:43:27.993Z"
   },
   {
    "duration": 11,
    "start_time": "2021-11-04T10:45:22.457Z"
   },
   {
    "duration": 12,
    "start_time": "2021-11-04T10:47:14.152Z"
   },
   {
    "duration": 11,
    "start_time": "2021-11-04T10:47:49.518Z"
   },
   {
    "duration": 14,
    "start_time": "2021-11-04T10:48:26.978Z"
   },
   {
    "duration": 11,
    "start_time": "2021-11-04T10:48:39.569Z"
   },
   {
    "duration": 15,
    "start_time": "2021-11-04T10:49:07.602Z"
   },
   {
    "duration": 8,
    "start_time": "2021-11-04T10:49:52.657Z"
   },
   {
    "duration": 9,
    "start_time": "2021-11-04T10:50:02.633Z"
   },
   {
    "duration": 10,
    "start_time": "2021-11-04T10:50:08.209Z"
   },
   {
    "duration": 11,
    "start_time": "2021-11-04T10:50:33.417Z"
   },
   {
    "duration": 631,
    "start_time": "2021-11-04T16:40:29.219Z"
   },
   {
    "duration": 52,
    "start_time": "2021-11-04T16:40:29.852Z"
   },
   {
    "duration": 19,
    "start_time": "2021-11-04T16:40:29.907Z"
   },
   {
    "duration": 15,
    "start_time": "2021-11-04T16:40:29.928Z"
   },
   {
    "duration": 10,
    "start_time": "2021-11-04T16:40:29.963Z"
   },
   {
    "duration": 8,
    "start_time": "2021-11-04T16:40:29.975Z"
   },
   {
    "duration": 8,
    "start_time": "2021-11-04T16:40:29.985Z"
   },
   {
    "duration": 7,
    "start_time": "2021-11-04T16:40:29.994Z"
   },
   {
    "duration": 16,
    "start_time": "2021-11-04T16:40:30.005Z"
   },
   {
    "duration": 21,
    "start_time": "2021-11-04T16:40:30.023Z"
   },
   {
    "duration": 4,
    "start_time": "2021-11-04T16:40:30.064Z"
   },
   {
    "duration": 10,
    "start_time": "2021-11-04T16:40:30.069Z"
   },
   {
    "duration": 14,
    "start_time": "2021-11-04T16:40:30.081Z"
   },
   {
    "duration": 10,
    "start_time": "2021-11-04T16:40:30.098Z"
   },
   {
    "duration": 17,
    "start_time": "2021-11-04T16:40:30.110Z"
   },
   {
    "duration": 12,
    "start_time": "2021-11-04T16:40:30.129Z"
   },
   {
    "duration": 42,
    "start_time": "2021-11-04T16:40:30.144Z"
   },
   {
    "duration": 9,
    "start_time": "2021-11-04T16:40:30.188Z"
   },
   {
    "duration": 28,
    "start_time": "2021-11-04T16:40:30.199Z"
   },
   {
    "duration": 15,
    "start_time": "2021-11-04T16:40:30.229Z"
   },
   {
    "duration": 20,
    "start_time": "2021-11-04T16:40:30.246Z"
   },
   {
    "duration": 19,
    "start_time": "2021-11-04T16:40:30.268Z"
   },
   {
    "duration": 14,
    "start_time": "2021-11-04T16:40:30.289Z"
   },
   {
    "duration": 20,
    "start_time": "2021-11-04T16:40:30.305Z"
   },
   {
    "duration": 13,
    "start_time": "2021-11-04T16:40:30.327Z"
   },
   {
    "duration": 28,
    "start_time": "2021-11-04T16:40:30.342Z"
   },
   {
    "duration": 7,
    "start_time": "2021-11-04T16:40:30.375Z"
   },
   {
    "duration": 13,
    "start_time": "2021-11-04T16:40:30.385Z"
   },
   {
    "duration": 7,
    "start_time": "2021-11-04T16:40:30.400Z"
   },
   {
    "duration": 25,
    "start_time": "2021-11-04T16:40:30.409Z"
   },
   {
    "duration": 12,
    "start_time": "2021-11-04T16:40:30.436Z"
   },
   {
    "duration": 16,
    "start_time": "2021-11-04T16:40:30.463Z"
   },
   {
    "duration": 20,
    "start_time": "2021-11-04T16:40:30.481Z"
   },
   {
    "duration": 16,
    "start_time": "2021-11-04T16:40:30.502Z"
   },
   {
    "duration": 10,
    "start_time": "2021-11-04T16:40:30.520Z"
   },
   {
    "duration": 39,
    "start_time": "2021-11-04T16:40:30.532Z"
   },
   {
    "duration": 8,
    "start_time": "2021-11-04T16:40:30.573Z"
   },
   {
    "duration": 34,
    "start_time": "2021-11-04T16:40:30.583Z"
   },
   {
    "duration": 20,
    "start_time": "2021-11-04T16:40:30.619Z"
   },
   {
    "duration": 34,
    "start_time": "2021-11-04T16:40:30.641Z"
   },
   {
    "duration": 7,
    "start_time": "2021-11-04T16:40:30.677Z"
   },
   {
    "duration": 29,
    "start_time": "2021-11-04T16:40:30.687Z"
   },
   {
    "duration": 23,
    "start_time": "2021-11-04T16:40:30.718Z"
   },
   {
    "duration": 677,
    "start_time": "2021-11-04T16:40:30.743Z"
   },
   {
    "duration": 5,
    "start_time": "2021-11-04T16:40:31.423Z"
   },
   {
    "duration": 3160,
    "start_time": "2021-11-04T16:40:31.430Z"
   },
   {
    "duration": 12,
    "start_time": "2021-11-04T16:40:34.592Z"
   },
   {
    "duration": 9,
    "start_time": "2021-11-04T16:40:34.606Z"
   },
   {
    "duration": 13,
    "start_time": "2021-11-04T16:40:34.616Z"
   },
   {
    "duration": 7,
    "start_time": "2021-11-04T16:40:34.631Z"
   },
   {
    "duration": 14,
    "start_time": "2021-11-04T16:40:34.664Z"
   },
   {
    "duration": 11,
    "start_time": "2021-11-04T16:40:34.680Z"
   },
   {
    "duration": 13,
    "start_time": "2021-11-04T16:40:34.693Z"
   },
   {
    "duration": 17,
    "start_time": "2021-11-04T16:40:34.707Z"
   },
   {
    "duration": 46,
    "start_time": "2021-11-04T16:40:34.725Z"
   },
   {
    "duration": 100,
    "start_time": "2021-11-04T17:39:48.334Z"
   },
   {
    "duration": 85,
    "start_time": "2021-11-04T17:40:15.950Z"
   }
  ],
  "kernelspec": {
   "display_name": "Python 3 (ipykernel)",
   "language": "python",
   "name": "python3"
  },
  "language_info": {
   "codemirror_mode": {
    "name": "ipython",
    "version": 3
   },
   "file_extension": ".py",
   "mimetype": "text/x-python",
   "name": "python",
   "nbconvert_exporter": "python",
   "pygments_lexer": "ipython3",
   "version": "3.9.5"
  },
  "toc": {
   "base_numbering": 1,
   "nav_menu": {},
   "number_sections": true,
   "sideBar": true,
   "skip_h1_title": true,
   "title_cell": "Table of Contents",
   "title_sidebar": "Contents",
   "toc_cell": false,
   "toc_position": {},
   "toc_section_display": true,
   "toc_window_display": false
  }
 },
 "nbformat": 4,
 "nbformat_minor": 2
}
