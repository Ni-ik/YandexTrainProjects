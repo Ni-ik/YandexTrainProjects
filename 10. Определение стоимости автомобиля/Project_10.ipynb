{
 "cells": [
  {
   "cell_type": "markdown",
   "metadata": {
    "toc": true
   },
   "source": [
    "<h1>Содержание<span class=\"tocSkip\"></span></h1>\n",
    "<div class=\"toc\"><ul class=\"toc-item\"><li><span><a href=\"#Постановка-задачи\" data-toc-modified-id=\"Постановка-задачи-1\"><span class=\"toc-item-num\">1&nbsp;&nbsp;</span>Постановка задачи</a></span><ul class=\"toc-item\"><li><span><a href=\"#Цель-проекта\" data-toc-modified-id=\"Цель-проекта-1.1\"><span class=\"toc-item-num\">1.1&nbsp;&nbsp;</span>Цель проекта</a></span></li><li><span><a href=\"#Задачи-проекта\" data-toc-modified-id=\"Задачи-проекта-1.2\"><span class=\"toc-item-num\">1.2&nbsp;&nbsp;</span>Задачи проекта</a></span></li></ul></li><li><span><a href=\"#Подготовка-данных\" data-toc-modified-id=\"Подготовка-данных-2\"><span class=\"toc-item-num\">2&nbsp;&nbsp;</span>Подготовка данных</a></span><ul class=\"toc-item\"><li><span><a href=\"#Выводы\" data-toc-modified-id=\"Выводы-2.1\"><span class=\"toc-item-num\">2.1&nbsp;&nbsp;</span>Выводы</a></span></li></ul></li><li><span><a href=\"#Обучение-моделей\" data-toc-modified-id=\"Обучение-моделей-3\"><span class=\"toc-item-num\">3&nbsp;&nbsp;</span>Обучение моделей</a></span><ul class=\"toc-item\"><li><span><a href=\"#Случайный-лес\" data-toc-modified-id=\"Случайный-лес-3.1\"><span class=\"toc-item-num\">3.1&nbsp;&nbsp;</span>Случайный лес</a></span></li><li><span><a href=\"#LightGBM\" data-toc-modified-id=\"LightGBM-3.2\"><span class=\"toc-item-num\">3.2&nbsp;&nbsp;</span>LightGBM</a></span></li><li><span><a href=\"#CatBoost\" data-toc-modified-id=\"CatBoost-3.3\"><span class=\"toc-item-num\">3.3&nbsp;&nbsp;</span>CatBoost</a></span></li><li><span><a href=\"#Линейная-регрессия\" data-toc-modified-id=\"Линейная-регрессия-3.4\"><span class=\"toc-item-num\">3.4&nbsp;&nbsp;</span>Линейная регрессия</a></span></li><li><span><a href=\"#Выводы\" data-toc-modified-id=\"Выводы-3.5\"><span class=\"toc-item-num\">3.5&nbsp;&nbsp;</span>Выводы</a></span></li></ul></li><li><span><a href=\"#Анализ-моделей\" data-toc-modified-id=\"Анализ-моделей-4\"><span class=\"toc-item-num\">4&nbsp;&nbsp;</span>Анализ моделей</a></span><ul class=\"toc-item\"><li><span><a href=\"#Выводы\" data-toc-modified-id=\"Выводы-4.1\"><span class=\"toc-item-num\">4.1&nbsp;&nbsp;</span>Выводы</a></span></li></ul></li><li><span><a href=\"#Общие-выводы\" data-toc-modified-id=\"Общие-выводы-5\"><span class=\"toc-item-num\">5&nbsp;&nbsp;</span>Общие выводы</a></span></li></ul></div>"
   ]
  },
  {
   "cell_type": "markdown",
   "metadata": {},
   "source": [
    "# Определение стоимости автомобилей"
   ]
  },
  {
   "cell_type": "markdown",
   "metadata": {},
   "source": [
    "## Постановка задачи"
   ]
  },
  {
   "cell_type": "markdown",
   "metadata": {},
   "source": [
    "Сервис по продаже автомобилей разрабатывает приложение для привлечения новых клиентов. В нём можно быстро узнать рыночную стоимость своего автомобиля. В вашем распоряжении исторические данные: технические характеристики, комплектации и цены автомобилей. Вам нужно построить модель для определения стоимости. \n",
    "\n",
    "Заказчику важны:\n",
    "\n",
    "- качество предсказания;\n",
    "- скорость предсказания;\n",
    "- время обучения."
   ]
  },
  {
   "cell_type": "markdown",
   "metadata": {},
   "source": [
    "### Цель проекта\n",
    "\n",
    "Построить модель для определения стоимости автомобиля"
   ]
  },
  {
   "cell_type": "markdown",
   "metadata": {},
   "source": [
    "### Задачи проекта\n",
    "Для достижения цели необходимо решить следующие задачи:\n",
    "1. Подготовить исходные данные\n",
    "    - Избавиться от незначащих признаков\n",
    "    - Удалить выбросы \n",
    "    - Проверить признаки на коллинеарность.\n",
    "2. Обучить модели\n",
    "    - Выбрать модели для сравнения (`RandomForestRegressor`, `LGBMRegressor`, `CatBoostRegressor`, `LinearRegression`)\n",
    "    - Заполнить пропуски (так как не все модели работают с пропусками)\n",
    "    - Преобразовать категориальные данные для работы моделей (не все модели могут работать с пропусками)\n",
    "    - Перебрать некоторые параметры моделей для достижения лучшей метрики *RMSE* \n",
    "3. Провести анализ работы моделей\n",
    "    - Оценить время работы моделей с лучшими параметрами из списка\n",
    "    - Сравнить время обучения лучших моделей на тренировочной и тестовой выборках\n",
    "    - Сравнить качество обучения метрикой *RMSE* на тренировочной и тестовой выборках\n",
    "    - Сделать вывод с рекомендациями какую модель лучше использовать\n",
    "\n"
   ]
  },
  {
   "cell_type": "markdown",
   "metadata": {},
   "source": [
    "## Подготовка данных"
   ]
  },
  {
   "cell_type": "markdown",
   "metadata": {},
   "source": [
    "Импортируем библиотеки"
   ]
  },
  {
   "cell_type": "code",
   "execution_count": 1,
   "metadata": {},
   "outputs": [],
   "source": [
    "import pandas as pd\n",
    "import numpy as np\n",
    "import seaborn as sns\n",
    "from sklearn.impute import SimpleImputer\n",
    "from sklearn.preprocessing import OneHotEncoder, StandardScaler, FunctionTransformer\n",
    "from sklearn.ensemble import RandomForestRegressor\n",
    "from sklearn.model_selection import train_test_split, GridSearchCV, ParameterGrid\n",
    "from catboost import CatBoostRegressor\n",
    "from lightgbm import LGBMRegressor\n",
    "from sklearn.pipeline import Pipeline\n",
    "from sklearn.linear_model import LinearRegression\n",
    "from sklearn.metrics import mean_squared_error"
   ]
  },
  {
   "cell_type": "markdown",
   "metadata": {},
   "source": [
    "Читаем файл"
   ]
  },
  {
   "cell_type": "code",
   "execution_count": 2,
   "metadata": {},
   "outputs": [],
   "source": [
    "df = pd.read_csv('/datasets/autos.csv')"
   ]
  },
  {
   "cell_type": "markdown",
   "metadata": {},
   "source": [
    "Выведем информацию о таблице"
   ]
  },
  {
   "cell_type": "code",
   "execution_count": 3,
   "metadata": {
    "scrolled": false
   },
   "outputs": [
    {
     "name": "stdout",
     "output_type": "stream",
     "text": [
      "<class 'pandas.core.frame.DataFrame'>\n",
      "RangeIndex: 354369 entries, 0 to 354368\n",
      "Data columns (total 16 columns):\n",
      " #   Column             Non-Null Count   Dtype \n",
      "---  ------             --------------   ----- \n",
      " 0   DateCrawled        354369 non-null  object\n",
      " 1   Price              354369 non-null  int64 \n",
      " 2   VehicleType        316879 non-null  object\n",
      " 3   RegistrationYear   354369 non-null  int64 \n",
      " 4   Gearbox            334536 non-null  object\n",
      " 5   Power              354369 non-null  int64 \n",
      " 6   Model              334664 non-null  object\n",
      " 7   Kilometer          354369 non-null  int64 \n",
      " 8   RegistrationMonth  354369 non-null  int64 \n",
      " 9   FuelType           321474 non-null  object\n",
      " 10  Brand              354369 non-null  object\n",
      " 11  NotRepaired        283215 non-null  object\n",
      " 12  DateCreated        354369 non-null  object\n",
      " 13  NumberOfPictures   354369 non-null  int64 \n",
      " 14  PostalCode         354369 non-null  int64 \n",
      " 15  LastSeen           354369 non-null  object\n",
      "dtypes: int64(7), object(9)\n",
      "memory usage: 43.3+ MB\n"
     ]
    }
   ],
   "source": [
    "df.info()"
   ]
  },
  {
   "cell_type": "markdown",
   "metadata": {},
   "source": [
    "В таблице 354369 записи, 16 столбцов. Есть пропуски. Типы данных  - *int64* и *object*. Даты имеют тип *object*. Даже у графы `NotRepaired` - в принципе бинарного признака строковый тип *object*.\n",
    "\n",
    "Выведем первые 5 строк таблицы."
   ]
  },
  {
   "cell_type": "code",
   "execution_count": 4,
   "metadata": {
    "scrolled": false
   },
   "outputs": [
    {
     "data": {
      "text/html": [
       "<div>\n",
       "<style scoped>\n",
       "    .dataframe tbody tr th:only-of-type {\n",
       "        vertical-align: middle;\n",
       "    }\n",
       "\n",
       "    .dataframe tbody tr th {\n",
       "        vertical-align: top;\n",
       "    }\n",
       "\n",
       "    .dataframe thead th {\n",
       "        text-align: right;\n",
       "    }\n",
       "</style>\n",
       "<table border=\"1\" class=\"dataframe\">\n",
       "  <thead>\n",
       "    <tr style=\"text-align: right;\">\n",
       "      <th></th>\n",
       "      <th>DateCrawled</th>\n",
       "      <th>Price</th>\n",
       "      <th>VehicleType</th>\n",
       "      <th>RegistrationYear</th>\n",
       "      <th>Gearbox</th>\n",
       "      <th>Power</th>\n",
       "      <th>Model</th>\n",
       "      <th>Kilometer</th>\n",
       "      <th>RegistrationMonth</th>\n",
       "      <th>FuelType</th>\n",
       "      <th>Brand</th>\n",
       "      <th>NotRepaired</th>\n",
       "      <th>DateCreated</th>\n",
       "      <th>NumberOfPictures</th>\n",
       "      <th>PostalCode</th>\n",
       "      <th>LastSeen</th>\n",
       "    </tr>\n",
       "  </thead>\n",
       "  <tbody>\n",
       "    <tr>\n",
       "      <th>0</th>\n",
       "      <td>2016-03-24 11:52:17</td>\n",
       "      <td>480</td>\n",
       "      <td>NaN</td>\n",
       "      <td>1993</td>\n",
       "      <td>manual</td>\n",
       "      <td>0</td>\n",
       "      <td>golf</td>\n",
       "      <td>150000</td>\n",
       "      <td>0</td>\n",
       "      <td>petrol</td>\n",
       "      <td>volkswagen</td>\n",
       "      <td>NaN</td>\n",
       "      <td>2016-03-24 00:00:00</td>\n",
       "      <td>0</td>\n",
       "      <td>70435</td>\n",
       "      <td>2016-04-07 03:16:57</td>\n",
       "    </tr>\n",
       "    <tr>\n",
       "      <th>1</th>\n",
       "      <td>2016-03-24 10:58:45</td>\n",
       "      <td>18300</td>\n",
       "      <td>coupe</td>\n",
       "      <td>2011</td>\n",
       "      <td>manual</td>\n",
       "      <td>190</td>\n",
       "      <td>NaN</td>\n",
       "      <td>125000</td>\n",
       "      <td>5</td>\n",
       "      <td>gasoline</td>\n",
       "      <td>audi</td>\n",
       "      <td>yes</td>\n",
       "      <td>2016-03-24 00:00:00</td>\n",
       "      <td>0</td>\n",
       "      <td>66954</td>\n",
       "      <td>2016-04-07 01:46:50</td>\n",
       "    </tr>\n",
       "    <tr>\n",
       "      <th>2</th>\n",
       "      <td>2016-03-14 12:52:21</td>\n",
       "      <td>9800</td>\n",
       "      <td>suv</td>\n",
       "      <td>2004</td>\n",
       "      <td>auto</td>\n",
       "      <td>163</td>\n",
       "      <td>grand</td>\n",
       "      <td>125000</td>\n",
       "      <td>8</td>\n",
       "      <td>gasoline</td>\n",
       "      <td>jeep</td>\n",
       "      <td>NaN</td>\n",
       "      <td>2016-03-14 00:00:00</td>\n",
       "      <td>0</td>\n",
       "      <td>90480</td>\n",
       "      <td>2016-04-05 12:47:46</td>\n",
       "    </tr>\n",
       "    <tr>\n",
       "      <th>3</th>\n",
       "      <td>2016-03-17 16:54:04</td>\n",
       "      <td>1500</td>\n",
       "      <td>small</td>\n",
       "      <td>2001</td>\n",
       "      <td>manual</td>\n",
       "      <td>75</td>\n",
       "      <td>golf</td>\n",
       "      <td>150000</td>\n",
       "      <td>6</td>\n",
       "      <td>petrol</td>\n",
       "      <td>volkswagen</td>\n",
       "      <td>no</td>\n",
       "      <td>2016-03-17 00:00:00</td>\n",
       "      <td>0</td>\n",
       "      <td>91074</td>\n",
       "      <td>2016-03-17 17:40:17</td>\n",
       "    </tr>\n",
       "    <tr>\n",
       "      <th>4</th>\n",
       "      <td>2016-03-31 17:25:20</td>\n",
       "      <td>3600</td>\n",
       "      <td>small</td>\n",
       "      <td>2008</td>\n",
       "      <td>manual</td>\n",
       "      <td>69</td>\n",
       "      <td>fabia</td>\n",
       "      <td>90000</td>\n",
       "      <td>7</td>\n",
       "      <td>gasoline</td>\n",
       "      <td>skoda</td>\n",
       "      <td>no</td>\n",
       "      <td>2016-03-31 00:00:00</td>\n",
       "      <td>0</td>\n",
       "      <td>60437</td>\n",
       "      <td>2016-04-06 10:17:21</td>\n",
       "    </tr>\n",
       "  </tbody>\n",
       "</table>\n",
       "</div>"
      ],
      "text/plain": [
       "           DateCrawled  Price VehicleType  RegistrationYear Gearbox  Power  \\\n",
       "0  2016-03-24 11:52:17    480         NaN              1993  manual      0   \n",
       "1  2016-03-24 10:58:45  18300       coupe              2011  manual    190   \n",
       "2  2016-03-14 12:52:21   9800         suv              2004    auto    163   \n",
       "3  2016-03-17 16:54:04   1500       small              2001  manual     75   \n",
       "4  2016-03-31 17:25:20   3600       small              2008  manual     69   \n",
       "\n",
       "   Model  Kilometer  RegistrationMonth  FuelType       Brand NotRepaired  \\\n",
       "0   golf     150000                  0    petrol  volkswagen         NaN   \n",
       "1    NaN     125000                  5  gasoline        audi         yes   \n",
       "2  grand     125000                  8  gasoline        jeep         NaN   \n",
       "3   golf     150000                  6    petrol  volkswagen          no   \n",
       "4  fabia      90000                  7  gasoline       skoda          no   \n",
       "\n",
       "           DateCreated  NumberOfPictures  PostalCode             LastSeen  \n",
       "0  2016-03-24 00:00:00                 0       70435  2016-04-07 03:16:57  \n",
       "1  2016-03-24 00:00:00                 0       66954  2016-04-07 01:46:50  \n",
       "2  2016-03-14 00:00:00                 0       90480  2016-04-05 12:47:46  \n",
       "3  2016-03-17 00:00:00                 0       91074  2016-03-17 17:40:17  \n",
       "4  2016-03-31 00:00:00                 0       60437  2016-04-06 10:17:21  "
      ]
     },
     "execution_count": 4,
     "metadata": {},
     "output_type": "execute_result"
    }
   ],
   "source": [
    "df.head()"
   ]
  },
  {
   "cell_type": "markdown",
   "metadata": {},
   "source": [
    "Согласно заданию столбцы имеют следующее назначение \n",
    "\n",
    "Признаки\n",
    "- `DateCrawled` — дата скачивания анкеты из базы\n",
    "- `VehicleType` — тип автомобильного кузова\n",
    "- `RegistrationYear` — год регистрации автомобиля\n",
    "- `Gearbox` — тип коробки передач\n",
    "- `Power` — мощность (л. с.)\n",
    "- `Model` — модель автомобиля\n",
    "- `Kilometer` — пробег (км)\n",
    "- `RegistrationMont` — месяц регистрации автомобиля\n",
    "- `FuelType` — тип топлива\n",
    "- `Brand` — марка автомобиля\n",
    "- `NotRepaired` — была машина в ремонте или нет\n",
    "- `DateCreated` — дата создания анкеты\n",
    "- `NumberOfPictures` — количество фотографий автомобиля\n",
    "- `PostalCode` — почтовый индекс владельца анкеты (пользователя)\n",
    "- `LastSeen` — дата последней активности пользователя\n",
    "\n",
    "Целевой признак\n",
    "`Price` — цена (евро)"
   ]
  },
  {
   "cell_type": "markdown",
   "metadata": {},
   "source": [
    "Посмотрим, есть ли дубликаты"
   ]
  },
  {
   "cell_type": "code",
   "execution_count": 5,
   "metadata": {
    "scrolled": false
   },
   "outputs": [
    {
     "data": {
      "text/plain": [
       "4"
      ]
     },
     "execution_count": 5,
     "metadata": {},
     "output_type": "execute_result"
    }
   ],
   "source": [
    "df.duplicated().sum()"
   ]
  },
  {
   "cell_type": "markdown",
   "metadata": {},
   "source": [
    "Да, дубликаты есть. Маловероятно, что при таком построении таблицы возникли записи с идентичными наборами параметров. Удалим дубликаты и обновим индекс"
   ]
  },
  {
   "cell_type": "code",
   "execution_count": 5,
   "metadata": {},
   "outputs": [],
   "source": [
    "df = df.drop_duplicates().reset_index(drop=True)"
   ]
  },
  {
   "cell_type": "markdown",
   "metadata": {},
   "source": [
    "Теперь выведем статистику по числовым признакам."
   ]
  },
  {
   "cell_type": "code",
   "execution_count": 6,
   "metadata": {
    "scrolled": false
   },
   "outputs": [
    {
     "data": {
      "text/html": [
       "<div>\n",
       "<style scoped>\n",
       "    .dataframe tbody tr th:only-of-type {\n",
       "        vertical-align: middle;\n",
       "    }\n",
       "\n",
       "    .dataframe tbody tr th {\n",
       "        vertical-align: top;\n",
       "    }\n",
       "\n",
       "    .dataframe thead th {\n",
       "        text-align: right;\n",
       "    }\n",
       "</style>\n",
       "<table border=\"1\" class=\"dataframe\">\n",
       "  <thead>\n",
       "    <tr style=\"text-align: right;\">\n",
       "      <th></th>\n",
       "      <th>Price</th>\n",
       "      <th>RegistrationYear</th>\n",
       "      <th>Power</th>\n",
       "      <th>Kilometer</th>\n",
       "      <th>RegistrationMonth</th>\n",
       "      <th>NumberOfPictures</th>\n",
       "      <th>PostalCode</th>\n",
       "    </tr>\n",
       "  </thead>\n",
       "  <tbody>\n",
       "    <tr>\n",
       "      <th>count</th>\n",
       "      <td>354365.000000</td>\n",
       "      <td>354365.000000</td>\n",
       "      <td>354365.000000</td>\n",
       "      <td>354365.000000</td>\n",
       "      <td>354365.000000</td>\n",
       "      <td>354365.0</td>\n",
       "      <td>354365.000000</td>\n",
       "    </tr>\n",
       "    <tr>\n",
       "      <th>mean</th>\n",
       "      <td>4416.679830</td>\n",
       "      <td>2004.234481</td>\n",
       "      <td>110.093816</td>\n",
       "      <td>128211.363989</td>\n",
       "      <td>5.714650</td>\n",
       "      <td>0.0</td>\n",
       "      <td>50508.503800</td>\n",
       "    </tr>\n",
       "    <tr>\n",
       "      <th>std</th>\n",
       "      <td>4514.176349</td>\n",
       "      <td>90.228466</td>\n",
       "      <td>189.851330</td>\n",
       "      <td>37905.083858</td>\n",
       "      <td>3.726432</td>\n",
       "      <td>0.0</td>\n",
       "      <td>25783.100078</td>\n",
       "    </tr>\n",
       "    <tr>\n",
       "      <th>min</th>\n",
       "      <td>0.000000</td>\n",
       "      <td>1000.000000</td>\n",
       "      <td>0.000000</td>\n",
       "      <td>5000.000000</td>\n",
       "      <td>0.000000</td>\n",
       "      <td>0.0</td>\n",
       "      <td>1067.000000</td>\n",
       "    </tr>\n",
       "    <tr>\n",
       "      <th>25%</th>\n",
       "      <td>1050.000000</td>\n",
       "      <td>1999.000000</td>\n",
       "      <td>69.000000</td>\n",
       "      <td>125000.000000</td>\n",
       "      <td>3.000000</td>\n",
       "      <td>0.0</td>\n",
       "      <td>30165.000000</td>\n",
       "    </tr>\n",
       "    <tr>\n",
       "      <th>50%</th>\n",
       "      <td>2700.000000</td>\n",
       "      <td>2003.000000</td>\n",
       "      <td>105.000000</td>\n",
       "      <td>150000.000000</td>\n",
       "      <td>6.000000</td>\n",
       "      <td>0.0</td>\n",
       "      <td>49413.000000</td>\n",
       "    </tr>\n",
       "    <tr>\n",
       "      <th>75%</th>\n",
       "      <td>6400.000000</td>\n",
       "      <td>2008.000000</td>\n",
       "      <td>143.000000</td>\n",
       "      <td>150000.000000</td>\n",
       "      <td>9.000000</td>\n",
       "      <td>0.0</td>\n",
       "      <td>71083.000000</td>\n",
       "    </tr>\n",
       "    <tr>\n",
       "      <th>max</th>\n",
       "      <td>20000.000000</td>\n",
       "      <td>9999.000000</td>\n",
       "      <td>20000.000000</td>\n",
       "      <td>150000.000000</td>\n",
       "      <td>12.000000</td>\n",
       "      <td>0.0</td>\n",
       "      <td>99998.000000</td>\n",
       "    </tr>\n",
       "  </tbody>\n",
       "</table>\n",
       "</div>"
      ],
      "text/plain": [
       "               Price  RegistrationYear          Power      Kilometer  \\\n",
       "count  354365.000000     354365.000000  354365.000000  354365.000000   \n",
       "mean     4416.679830       2004.234481     110.093816  128211.363989   \n",
       "std      4514.176349         90.228466     189.851330   37905.083858   \n",
       "min         0.000000       1000.000000       0.000000    5000.000000   \n",
       "25%      1050.000000       1999.000000      69.000000  125000.000000   \n",
       "50%      2700.000000       2003.000000     105.000000  150000.000000   \n",
       "75%      6400.000000       2008.000000     143.000000  150000.000000   \n",
       "max     20000.000000       9999.000000   20000.000000  150000.000000   \n",
       "\n",
       "       RegistrationMonth  NumberOfPictures     PostalCode  \n",
       "count      354365.000000          354365.0  354365.000000  \n",
       "mean            5.714650               0.0   50508.503800  \n",
       "std             3.726432               0.0   25783.100078  \n",
       "min             0.000000               0.0    1067.000000  \n",
       "25%             3.000000               0.0   30165.000000  \n",
       "50%             6.000000               0.0   49413.000000  \n",
       "75%             9.000000               0.0   71083.000000  \n",
       "max            12.000000               0.0   99998.000000  "
      ]
     },
     "execution_count": 6,
     "metadata": {},
     "output_type": "execute_result"
    }
   ],
   "source": [
    "df.describe()"
   ]
  },
  {
   "cell_type": "markdown",
   "metadata": {},
   "source": [
    "Построим гистограммы для удобства."
   ]
  },
  {
   "cell_type": "code",
   "execution_count": 7,
   "metadata": {},
   "outputs": [
    {
     "data": {
      "image/png": "[encoded data removed]",
      "text/plain": [
       "<Figure size 1080x720 with 9 Axes>"
      ]
     },
     "metadata": {
      "needs_background": "light"
     },
     "output_type": "display_data"
    }
   ],
   "source": [
    "df.hist(figsize = (15,10));"
   ]
  },
  {
   "cell_type": "markdown",
   "metadata": {},
   "source": [
    "- Сразу бросается в глаза, что `NumberOfPictures` равны нулю.\n",
    "- `Kilometer`видно, что максимальный пробег - 150000км. Это не так и много. Вероятно просто стоит ограничение на вводе значений и нельзя указать больше 150000км. Таком образом при значении более 150000 автомобиль попадает в категорию *150 тыс. и более*.\n",
    "- `PostalCode` - более-менее нормальне распределение без отрицательных и нулевых значений.\n",
    "- `Power` - Основная масса машин сосредоточена в области небольших значений, но есть и явные выбросы, так как 1000 л.с. уже огромная мощность, а значение 0 -вызывает вопросы. Здесь понадобится доп. исследование.\n",
    "- `Price` - большое к-во околонулевых значений. Возможно кто-то готов отдать машину даром, за 0 евро. Также проведём доп. исследование.\n",
    "- `RegistrationMonth` - неожиданно появление нулевых значений месяца. Вероятно это указывали тогда, когда месяц не определён. Так как большее значение имеет год, а не месяц, то оставим нулевые значения месяца.\n",
    "- `RegistrationYear` - также неожиданное появление больших значений года регистрации. Требуется доп. исследование"
   ]
  },
  {
   "cell_type": "markdown",
   "metadata": {},
   "source": [
    "Для начала удалим столбец с фотографиями, как незначащий признак."
   ]
  },
  {
   "cell_type": "code",
   "execution_count": 8,
   "metadata": {},
   "outputs": [],
   "source": [
    "df = df.drop(['NumberOfPictures'], axis=1)"
   ]
  },
  {
   "cell_type": "markdown",
   "metadata": {},
   "source": [
    "Далее попробуем разобраться с целевым признаком `Price`. Посмотрим гистограмму в области значений меньше 10 евро."
   ]
  },
  {
   "cell_type": "code",
   "execution_count": 9,
   "metadata": {
    "scrolled": false
   },
   "outputs": [
    {
     "data": {
      "image/png": "[encoded data removed]",
      "text/plain": [
       "<Figure size 432x288 with 1 Axes>"
      ]
     },
     "metadata": {
      "needs_background": "light"
     },
     "output_type": "display_data"
    }
   ],
   "source": [
    "df[df['Price']<=10]['Price'].hist(bins=50);"
   ]
  },
  {
   "cell_type": "markdown",
   "metadata": {},
   "source": [
    "Много значений 0 и 1 евро."
   ]
  },
  {
   "cell_type": "code",
   "execution_count": 10,
   "metadata": {},
   "outputs": [
    {
     "data": {
      "text/plain": [
       "0.0337533334273983"
      ]
     },
     "execution_count": 10,
     "metadata": {},
     "output_type": "execute_result"
    }
   ],
   "source": [
    "(df['Price'] <=1).sum()/len(df)"
   ]
  },
  {
   "cell_type": "markdown",
   "metadata": {},
   "source": [
    "Маловероятно, что в бизнес-задачи входит получения 0 или 1 как результата оценки стоимости. Вероятно 0 и 1 в этой графе стоит трактовать как **цена не указана**, а это значит, что фактически цена не указана и эти записи стоит удалить из датасета. Их около 3%, что в принципе считаю не критичным для удаления."
   ]
  },
  {
   "cell_type": "code",
   "execution_count": 11,
   "metadata": {},
   "outputs": [],
   "source": [
    "df = df.drop(df[df['Price']<=1].index).reset_index(drop=True)"
   ]
  },
  {
   "cell_type": "markdown",
   "metadata": {},
   "source": [
    "Посмотрим на даты скачивания анкет"
   ]
  },
  {
   "cell_type": "code",
   "execution_count": 12,
   "metadata": {
    "scrolled": true
   },
   "outputs": [
    {
     "data": {
      "text/plain": [
       "318366    2016-03-05 14:06:22\n",
       "213050    2016-03-05 14:06:23\n",
       "313806    2016-03-05 14:06:24\n",
       "96489     2016-03-05 14:06:24\n",
       "170811    2016-03-05 14:06:24\n",
       "                 ...         \n",
       "197266    2016-04-07 14:36:53\n",
       "51931     2016-04-07 14:36:54\n",
       "290833    2016-04-07 14:36:55\n",
       "328173    2016-04-07 14:36:56\n",
       "87646     2016-04-07 14:36:58\n",
       "Name: DateCrawled, Length: 342404, dtype: object"
      ]
     },
     "execution_count": 12,
     "metadata": {},
     "output_type": "execute_result"
    }
   ],
   "source": [
    "df['DateCrawled'].sort_values()"
   ]
  },
  {
   "cell_type": "markdown",
   "metadata": {},
   "source": [
    "Все анкеты скачены в в марте-апреле 2016 года. Посмотрим, сколько автомобилей имеют год регистрации после 2016."
   ]
  },
  {
   "cell_type": "code",
   "execution_count": 13,
   "metadata": {
    "scrolled": true
   },
   "outputs": [
    {
     "data": {
      "text/plain": [
       "13713"
      ]
     },
     "execution_count": 13,
     "metadata": {},
     "output_type": "execute_result"
    }
   ],
   "source": [
    "len(df[df['RegistrationYear'] > 2016])"
   ]
  },
  {
   "cell_type": "markdown",
   "metadata": {},
   "source": [
    "Таких значений достаточно много. Сложно объяснить, почему год регистрации автомобилей больше года скачивания из базы. Возможно это особенность работы системы. Посмотрим на к-во автомобилей, имеющих регистрацию до 1900 года и после 2022."
   ]
  },
  {
   "cell_type": "code",
   "execution_count": 14,
   "metadata": {
    "scrolled": true
   },
   "outputs": [
    {
     "data": {
      "text/plain": [
       "131"
      ]
     },
     "execution_count": 14,
     "metadata": {},
     "output_type": "execute_result"
    }
   ],
   "source": [
    "len(df[(df['RegistrationYear'] > 2022) | (df['RegistrationYear'] < 1900)])"
   ]
  },
  {
   "cell_type": "markdown",
   "metadata": {},
   "source": [
    "Таких записей не много. Удалим их."
   ]
  },
  {
   "cell_type": "code",
   "execution_count": 15,
   "metadata": {},
   "outputs": [],
   "source": [
    "df=df.drop(df[(df['RegistrationYear'] > 2022) | (df['RegistrationYear'] < 1900)].index).reset_index(drop=True)"
   ]
  },
  {
   "cell_type": "markdown",
   "metadata": {},
   "source": [
    "Посмотрим на марки автомобилей с мощностью более 1000 л.с."
   ]
  },
  {
   "cell_type": "code",
   "execution_count": 17,
   "metadata": {
    "scrolled": true
   },
   "outputs": [
    {
     "data": {
      "text/plain": [
       "Brand\n",
       "alfa_romeo         2\n",
       "audi              17\n",
       "bmw               26\n",
       "chevrolet          2\n",
       "chrysler           1\n",
       "citroen            8\n",
       "daewoo             1\n",
       "fiat               5\n",
       "ford              19\n",
       "honda              0\n",
       "kia                2\n",
       "lancia             1\n",
       "mazda              1\n",
       "mercedes_benz     22\n",
       "mini               3\n",
       "mitsubishi         3\n",
       "nissan             3\n",
       "opel              41\n",
       "peugeot            3\n",
       "renault           15\n",
       "seat               4\n",
       "skoda              2\n",
       "smart              2\n",
       "sonstige_autos     0\n",
       "suzuki             1\n",
       "toyota             4\n",
       "volkswagen        59\n",
       "volvo              3\n",
       "Name: Model, dtype: int64"
      ]
     },
     "execution_count": 17,
     "metadata": {},
     "output_type": "execute_result"
    }
   ],
   "source": [
    "df[df['Power']>=1000].groupby('Brand')['Model'].count()"
   ]
  },
  {
   "cell_type": "markdown",
   "metadata": {},
   "source": [
    "Видно, что производителей суперкаров нет и количество таких автомобилей не большое. Выведем первый 5 строк"
   ]
  },
  {
   "cell_type": "code",
   "execution_count": 18,
   "metadata": {
    "scrolled": false
   },
   "outputs": [
    {
     "data": {
      "text/html": [
       "<div>\n",
       "<style scoped>\n",
       "    .dataframe tbody tr th:only-of-type {\n",
       "        vertical-align: middle;\n",
       "    }\n",
       "\n",
       "    .dataframe tbody tr th {\n",
       "        vertical-align: top;\n",
       "    }\n",
       "\n",
       "    .dataframe thead th {\n",
       "        text-align: right;\n",
       "    }\n",
       "</style>\n",
       "<table border=\"1\" class=\"dataframe\">\n",
       "  <thead>\n",
       "    <tr style=\"text-align: right;\">\n",
       "      <th></th>\n",
       "      <th>DateCrawled</th>\n",
       "      <th>Price</th>\n",
       "      <th>VehicleType</th>\n",
       "      <th>RegistrationYear</th>\n",
       "      <th>Gearbox</th>\n",
       "      <th>Power</th>\n",
       "      <th>Model</th>\n",
       "      <th>Kilometer</th>\n",
       "      <th>RegistrationMonth</th>\n",
       "      <th>FuelType</th>\n",
       "      <th>Brand</th>\n",
       "      <th>NotRepaired</th>\n",
       "      <th>DateCreated</th>\n",
       "      <th>PostalCode</th>\n",
       "      <th>LastSeen</th>\n",
       "    </tr>\n",
       "  </thead>\n",
       "  <tbody>\n",
       "    <tr>\n",
       "      <th>1756</th>\n",
       "      <td>2016-03-22 20:52:00</td>\n",
       "      <td>3200</td>\n",
       "      <td>small</td>\n",
       "      <td>2004</td>\n",
       "      <td>manual</td>\n",
       "      <td>1398</td>\n",
       "      <td>corolla</td>\n",
       "      <td>5000</td>\n",
       "      <td>6</td>\n",
       "      <td>petrol</td>\n",
       "      <td>toyota</td>\n",
       "      <td>no</td>\n",
       "      <td>2016-03-22 00:00:00</td>\n",
       "      <td>22043</td>\n",
       "      <td>2016-03-22 21:43:26</td>\n",
       "    </tr>\n",
       "    <tr>\n",
       "      <th>5138</th>\n",
       "      <td>2016-03-29 19:44:48</td>\n",
       "      <td>500</td>\n",
       "      <td>wagon</td>\n",
       "      <td>1999</td>\n",
       "      <td>manual</td>\n",
       "      <td>1001</td>\n",
       "      <td>astra</td>\n",
       "      <td>150000</td>\n",
       "      <td>7</td>\n",
       "      <td>petrol</td>\n",
       "      <td>opel</td>\n",
       "      <td>NaN</td>\n",
       "      <td>2016-03-29 00:00:00</td>\n",
       "      <td>33154</td>\n",
       "      <td>2016-04-06 05:44:36</td>\n",
       "    </tr>\n",
       "    <tr>\n",
       "      <th>7397</th>\n",
       "      <td>2016-04-02 19:25:25</td>\n",
       "      <td>1499</td>\n",
       "      <td>small</td>\n",
       "      <td>1999</td>\n",
       "      <td>manual</td>\n",
       "      <td>7515</td>\n",
       "      <td>lupo</td>\n",
       "      <td>150000</td>\n",
       "      <td>4</td>\n",
       "      <td>petrol</td>\n",
       "      <td>volkswagen</td>\n",
       "      <td>NaN</td>\n",
       "      <td>2016-04-02 00:00:00</td>\n",
       "      <td>65830</td>\n",
       "      <td>2016-04-06 11:46:49</td>\n",
       "    </tr>\n",
       "    <tr>\n",
       "      <th>7455</th>\n",
       "      <td>2016-04-02 11:48:54</td>\n",
       "      <td>1500</td>\n",
       "      <td>small</td>\n",
       "      <td>2000</td>\n",
       "      <td>manual</td>\n",
       "      <td>1400</td>\n",
       "      <td>NaN</td>\n",
       "      <td>150000</td>\n",
       "      <td>0</td>\n",
       "      <td>petrol</td>\n",
       "      <td>honda</td>\n",
       "      <td>NaN</td>\n",
       "      <td>2016-04-02 00:00:00</td>\n",
       "      <td>21509</td>\n",
       "      <td>2016-04-04 09:15:26</td>\n",
       "    </tr>\n",
       "    <tr>\n",
       "      <th>9347</th>\n",
       "      <td>2016-03-14 20:06:19</td>\n",
       "      <td>2599</td>\n",
       "      <td>NaN</td>\n",
       "      <td>2016</td>\n",
       "      <td>manual</td>\n",
       "      <td>1779</td>\n",
       "      <td>zafira</td>\n",
       "      <td>150000</td>\n",
       "      <td>0</td>\n",
       "      <td>petrol</td>\n",
       "      <td>opel</td>\n",
       "      <td>no</td>\n",
       "      <td>2016-03-14 00:00:00</td>\n",
       "      <td>60326</td>\n",
       "      <td>2016-04-07 09:45:27</td>\n",
       "    </tr>\n",
       "  </tbody>\n",
       "</table>\n",
       "</div>"
      ],
      "text/plain": [
       "              DateCrawled  Price VehicleType  RegistrationYear Gearbox  Power  \\\n",
       "1756  2016-03-22 20:52:00   3200       small              2004  manual   1398   \n",
       "5138  2016-03-29 19:44:48    500       wagon              1999  manual   1001   \n",
       "7397  2016-04-02 19:25:25   1499       small              1999  manual   7515   \n",
       "7455  2016-04-02 11:48:54   1500       small              2000  manual   1400   \n",
       "9347  2016-03-14 20:06:19   2599         NaN              2016  manual   1779   \n",
       "\n",
       "        Model  Kilometer  RegistrationMonth FuelType       Brand NotRepaired  \\\n",
       "1756  corolla       5000                  6   petrol      toyota          no   \n",
       "5138    astra     150000                  7   petrol        opel         NaN   \n",
       "7397     lupo     150000                  4   petrol  volkswagen         NaN   \n",
       "7455      NaN     150000                  0   petrol       honda         NaN   \n",
       "9347   zafira     150000                  0   petrol        opel          no   \n",
       "\n",
       "              DateCreated  PostalCode             LastSeen  \n",
       "1756  2016-03-22 00:00:00       22043  2016-03-22 21:43:26  \n",
       "5138  2016-03-29 00:00:00       33154  2016-04-06 05:44:36  \n",
       "7397  2016-04-02 00:00:00       65830  2016-04-06 11:46:49  \n",
       "7455  2016-04-02 00:00:00       21509  2016-04-04 09:15:26  \n",
       "9347  2016-03-14 00:00:00       60326  2016-04-07 09:45:27  "
      ]
     },
     "execution_count": 18,
     "metadata": {},
     "output_type": "execute_result"
    }
   ],
   "source": [
    "df[df['Power']>=1000].head()"
   ]
  },
  {
   "cell_type": "markdown",
   "metadata": {},
   "source": [
    "Опель астра имеет мощность, согласно Википедии, не более 240 л.с. Вероятно в записи ошибка в запятой. Фольксваген лупо имеет мощность 75,15 л.с. - тоже на лицо ошибка в запятой. Считаем записи с мощностьб более 1000 л.с. выбросами и удалим их из датасета."
   ]
  },
  {
   "cell_type": "code",
   "execution_count": 19,
   "metadata": {},
   "outputs": [],
   "source": [
    "df =df.drop(df[df['Power']>=1000].index).reset_index(drop=True)"
   ]
  },
  {
   "cell_type": "markdown",
   "metadata": {},
   "source": [
    "Взглянем на дату создания анкеты `DateCreated` и даты последних активностей пользователя `LastSeen`."
   ]
  },
  {
   "cell_type": "code",
   "execution_count": 20,
   "metadata": {
    "scrolled": true
   },
   "outputs": [
    {
     "data": {
      "text/plain": [
       "59065     2014-03-10 00:00:00\n",
       "3856      2015-03-20 00:00:00\n",
       "330314    2015-06-18 00:00:00\n",
       "83588     2015-08-07 00:00:00\n",
       "168966    2015-08-10 00:00:00\n",
       "                 ...         \n",
       "64531     2016-04-07 00:00:00\n",
       "234285    2016-04-07 00:00:00\n",
       "162914    2016-04-07 00:00:00\n",
       "122249    2016-04-07 00:00:00\n",
       "320846    2016-04-07 00:00:00\n",
       "Name: DateCreated, Length: 341991, dtype: object"
      ]
     },
     "execution_count": 20,
     "metadata": {},
     "output_type": "execute_result"
    }
   ],
   "source": [
    "df['DateCreated'].sort_values()"
   ]
  },
  {
   "cell_type": "code",
   "execution_count": 21,
   "metadata": {
    "scrolled": true
   },
   "outputs": [
    {
     "data": {
      "text/plain": [
       "286397    2016-03-05 14:15:08\n",
       "253128    2016-03-05 14:15:16\n",
       "125880    2016-03-05 14:15:39\n",
       "275717    2016-03-05 14:18:30\n",
       "163126    2016-03-05 14:25:59\n",
       "                 ...         \n",
       "236951    2016-04-07 14:58:50\n",
       "314248    2016-04-07 14:58:50\n",
       "280155    2016-04-07 14:58:50\n",
       "57428     2016-04-07 14:58:50\n",
       "315870    2016-04-07 14:58:51\n",
       "Name: LastSeen, Length: 341991, dtype: object"
      ]
     },
     "execution_count": 21,
     "metadata": {},
     "output_type": "execute_result"
    }
   ],
   "source": [
    "df['LastSeen'].sort_values()"
   ]
  },
  {
   "cell_type": "markdown",
   "metadata": {},
   "source": [
    "Даты последних активностей имеют тот же временной промежуток, что и даты скачивания анкет из базы. Этот промежуток достаточно небольшой, поэтому можем говорить, что цены были актуальными и архивных объявлений нет. Следует также заметить, что в модели, которую мы планируем обучить влияние фактора времени скачивания, регистрации анкеты и последней активности на столь небольшом промежутке времени будет невелико, поэтому с хорошей точностью можем игнорировать эти столбцы и удалить их из таблицы, тем самым упростив модель и увеличить её скорость."
   ]
  },
  {
   "cell_type": "code",
   "execution_count": 22,
   "metadata": {},
   "outputs": [],
   "source": [
    "df = df.drop(['LastSeen', 'DateCrawled', 'DateCreated'], axis=1).reset_index(drop=True)"
   ]
  },
  {
   "cell_type": "markdown",
   "metadata": {},
   "source": [
    "Посмотрим в каких колонках есть пропуски"
   ]
  },
  {
   "cell_type": "code",
   "execution_count": 23,
   "metadata": {
    "scrolled": true
   },
   "outputs": [
    {
     "data": {
      "text/plain": [
       "Price                0.000000\n",
       "RegistrationYear     0.000000\n",
       "Power                0.000000\n",
       "Kilometer            0.000000\n",
       "RegistrationMonth    0.000000\n",
       "Brand                0.000000\n",
       "PostalCode           0.000000\n",
       "Gearbox              0.049320\n",
       "Model                0.050247\n",
       "FuelType             0.084412\n",
       "VehicleType          0.096833\n",
       "NotRepaired          0.190122\n",
       "dtype: float64"
      ]
     },
     "execution_count": 23,
     "metadata": {},
     "output_type": "execute_result"
    }
   ],
   "source": [
    "df.isna().sum().sort_values()/len(df)"
   ]
  },
  {
   "cell_type": "markdown",
   "metadata": {},
   "source": [
    "Пропусков достаточно много и их надо будет обработать. Больше всего пропусков (19%) в графе `NotRepaired`. Посмотрим, сколько пропусков суммарно встречается в записях"
   ]
  },
  {
   "cell_type": "code",
   "execution_count": 24,
   "metadata": {
    "scrolled": true
   },
   "outputs": [
    {
     "data": {
      "text/plain": [
       "0    241963\n",
       "1     61068\n",
       "2     24178\n",
       "3      8853\n",
       "4      4573\n",
       "5      1356\n",
       "dtype: int64"
      ]
     },
     "execution_count": 24,
     "metadata": {},
     "output_type": "execute_result"
    }
   ],
   "source": [
    "df.isna().sum(axis=1).value_counts()"
   ]
  },
  {
   "cell_type": "markdown",
   "metadata": {},
   "source": [
    "Вообще без пропусков 241963 записей. В 1356 записях пропуски есть в 5-ти категориях."
   ]
  },
  {
   "cell_type": "markdown",
   "metadata": {},
   "source": [
    "Пропуски пока не заполняем, это действие будем выполнять на этапе обучения данных."
   ]
  },
  {
   "cell_type": "markdown",
   "metadata": {},
   "source": [
    "Посмотрим на корреляцию признаков"
   ]
  },
  {
   "cell_type": "code",
   "execution_count": 25,
   "metadata": {
    "scrolled": true
   },
   "outputs": [
    {
     "data": {
      "image/png": "[encoded data removed]",
      "text/plain": [
       "<Figure size 432x288 with 2 Axes>"
      ]
     },
     "metadata": {
      "needs_background": "light"
     },
     "output_type": "display_data"
    }
   ],
   "source": [
    "sns.heatmap(df.corr(), annot=True);"
   ]
  },
  {
   "cell_type": "markdown",
   "metadata": {},
   "source": [
    "Видим, что между собой признаки коррелируют слабо, но на стоимость больше всего влияют `Power`, `RegistrationYear` и `Kilometer`. Что касается года регистрации и пробега, то зависимость интуитивна - чем больше год регистрации, тем моложе и дороже автомобиль. Чем больше пробег - тем автомобиль дешевле. Однако зависимость от мощности неожиданна, причём достаточно сильная.  "
   ]
  },
  {
   "cell_type": "markdown",
   "metadata": {},
   "source": [
    "### Выводы\n",
    "\n",
    "Файл открылся без проблем, колонки соответствуют заявленным. Были выявлены некоторые незначащие признаки, которые были удалены из датасета. Также были удалены записи с явными аномальными значениями в целевом признаке."
   ]
  },
  {
   "cell_type": "markdown",
   "metadata": {},
   "source": [
    "## Обучение моделей"
   ]
  },
  {
   "cell_type": "markdown",
   "metadata": {},
   "source": [
    "Для моделирования используем следующие модели:\n",
    "- RandomForesRegressor\n",
    "- LightGBM\n",
    "- CatBoost\n",
    "- LinearRegression\n",
    "\n",
    "Каждая модель имееь свои особенности. Например для линейной регресии важно использовать масштабирование признаков, а для моделей на основе деревьев - нет. Кроме того не каждая модель работает с пропусками и на прямую с категориальными признаками. Это тоже надо учитывать."
   ]
  },
  {
   "cell_type": "markdown",
   "metadata": {},
   "source": [
    "Выделим целевой признак"
   ]
  },
  {
   "cell_type": "code",
   "execution_count": 26,
   "metadata": {},
   "outputs": [],
   "source": [
    "y = df.pop('Price')"
   ]
  },
  {
   "cell_type": "code",
   "execution_count": 27,
   "metadata": {},
   "outputs": [],
   "source": [
    "X = df"
   ]
  },
  {
   "cell_type": "markdown",
   "metadata": {},
   "source": [
    "Разделим фрейм на тестовую и тренировочную выборку, чтобы проводить кросс-валидацию моделей, а затем сравним модели на тестовой выборке."
   ]
  },
  {
   "cell_type": "code",
   "execution_count": 28,
   "metadata": {},
   "outputs": [],
   "source": [
    "X_train, X_test, y_train, y_test = train_test_split(X,y, test_size=0.2, random_state=42)"
   ]
  },
  {
   "cell_type": "code",
   "execution_count": 29,
   "metadata": {},
   "outputs": [
    {
     "data": {
      "text/plain": [
       "(273592, 68399, 273592, 68399)"
      ]
     },
     "execution_count": 29,
     "metadata": {},
     "output_type": "execute_result"
    }
   ],
   "source": [
    "len(X_train), len(X_test), len(y_train), len(y_test)"
   ]
  },
  {
   "cell_type": "markdown",
   "metadata": {},
   "source": [
    "Для работы моделей понадобится заполнение пропусков. Используем `SimpleImputer` и заполнм пропуски строкой *None*, так как у нас пропуски в категориальных значениях."
   ]
  },
  {
   "cell_type": "code",
   "execution_count": 30,
   "metadata": {},
   "outputs": [],
   "source": [
    "imputer = SimpleImputer(strategy='constant', fill_value='None')"
   ]
  },
  {
   "cell_type": "markdown",
   "metadata": {},
   "source": [
    "Для преобразования категориальных переменных в числовые, используем `OneHotEncoder`"
   ]
  },
  {
   "cell_type": "code",
   "execution_count": 31,
   "metadata": {},
   "outputs": [],
   "source": [
    "ohe = OneHotEncoder(handle_unknown='ignore')"
   ]
  },
  {
   "cell_type": "markdown",
   "metadata": {},
   "source": [
    "Количество батчей для кросс-валидации зададим 4 "
   ]
  },
  {
   "cell_type": "code",
   "execution_count": 32,
   "metadata": {},
   "outputs": [],
   "source": [
    "CV=4"
   ]
  },
  {
   "cell_type": "markdown",
   "metadata": {},
   "source": [
    "Модели будем записывать в словарь"
   ]
  },
  {
   "cell_type": "code",
   "execution_count": 33,
   "metadata": {},
   "outputs": [],
   "source": [
    "models={}"
   ]
  },
  {
   "cell_type": "markdown",
   "metadata": {},
   "source": [
    "### Случайный лес"
   ]
  },
  {
   "cell_type": "markdown",
   "metadata": {},
   "source": [
    "Создадим пайплайн для модель случайного леса. Туда включим заполнение пропусков, кодирование катеогриальных переменных и саму модель случайного леса. Чтобы ускорить работу модели, количество деревьев зададим 100, а глубину будем задавать небольшую (5, 7, 9). Такие же параметры зададим и для других алгоритмов."
   ]
  },
  {
   "cell_type": "code",
   "execution_count": 34,
   "metadata": {},
   "outputs": [],
   "source": [
    "forest_model = RandomForestRegressor(random_state=42, n_estimators=10)"
   ]
  },
  {
   "cell_type": "code",
   "execution_count": 35,
   "metadata": {},
   "outputs": [],
   "source": [
    "forest_pipeline = Pipeline(steps=[\n",
    "    ('imputer', imputer),\n",
    "    ('onehot', ohe),\n",
    "    ('model', forest_model)\n",
    "])"
   ]
  },
  {
   "cell_type": "markdown",
   "metadata": {},
   "source": [
    "Для перебора параметров будем использовать `GridSearch`. Зададим параметры"
   ]
  },
  {
   "cell_type": "code",
   "execution_count": 36,
   "metadata": {},
   "outputs": [],
   "source": [
    "param_grid={'model__max_depth':[5, 7, 9]}"
   ]
  },
  {
   "cell_type": "markdown",
   "metadata": {},
   "source": [
    "Запустим `GridSearch`. Установим к-во фолдов для сросс-валидации CV. Скоринг - *neg_mean_squared_error*."
   ]
  },
  {
   "cell_type": "code",
   "execution_count": 37,
   "metadata": {
    "scrolled": true
   },
   "outputs": [],
   "source": [
    "forest_grid_search = GridSearchCV(forest_pipeline, param_grid, cv=CV, scoring='neg_mean_squared_error', verbose=1,n_jobs=-1)"
   ]
  },
  {
   "cell_type": "code",
   "execution_count": 38,
   "metadata": {
    "scrolled": false
   },
   "outputs": [
    {
     "name": "stdout",
     "output_type": "stream",
     "text": [
      "Fitting 4 folds for each of 3 candidates, totalling 12 fits\n"
     ]
    },
    {
     "data": {
      "text/plain": [
       "GridSearchCV(cv=4,\n",
       "             estimator=Pipeline(steps=[('imputer',\n",
       "                                        SimpleImputer(fill_value='None',\n",
       "                                                      strategy='constant')),\n",
       "                                       ('onehot',\n",
       "                                        OneHotEncoder(handle_unknown='ignore')),\n",
       "                                       ('model',\n",
       "                                        RandomForestRegressor(n_estimators=10,\n",
       "                                                              random_state=42))]),\n",
       "             n_jobs=-1, param_grid={'model__max_depth': [5, 7, 9]},\n",
       "             scoring='neg_mean_squared_error', verbose=1)"
      ]
     },
     "execution_count": 38,
     "metadata": {},
     "output_type": "execute_result"
    }
   ],
   "source": [
    "forest_grid_search.fit(X_train, y_train)"
   ]
  },
  {
   "cell_type": "markdown",
   "metadata": {},
   "source": [
    "Получим результаты и представим их как *DataFrame*"
   ]
  },
  {
   "cell_type": "code",
   "execution_count": 39,
   "metadata": {
    "scrolled": true
   },
   "outputs": [
    {
     "data": {
      "text/html": [
       "<div>\n",
       "<style scoped>\n",
       "    .dataframe tbody tr th:only-of-type {\n",
       "        vertical-align: middle;\n",
       "    }\n",
       "\n",
       "    .dataframe tbody tr th {\n",
       "        vertical-align: top;\n",
       "    }\n",
       "\n",
       "    .dataframe thead th {\n",
       "        text-align: right;\n",
       "    }\n",
       "</style>\n",
       "<table border=\"1\" class=\"dataframe\">\n",
       "  <thead>\n",
       "    <tr style=\"text-align: right;\">\n",
       "      <th></th>\n",
       "      <th>mean_fit_time</th>\n",
       "      <th>std_fit_time</th>\n",
       "      <th>mean_score_time</th>\n",
       "      <th>std_score_time</th>\n",
       "      <th>param_model__max_depth</th>\n",
       "      <th>params</th>\n",
       "      <th>split0_test_score</th>\n",
       "      <th>split1_test_score</th>\n",
       "      <th>split2_test_score</th>\n",
       "      <th>split3_test_score</th>\n",
       "      <th>mean_test_score</th>\n",
       "      <th>std_test_score</th>\n",
       "      <th>rank_test_score</th>\n",
       "    </tr>\n",
       "  </thead>\n",
       "  <tbody>\n",
       "    <tr>\n",
       "      <th>0</th>\n",
       "      <td>9.507780</td>\n",
       "      <td>0.190028</td>\n",
       "      <td>0.591530</td>\n",
       "      <td>0.105265</td>\n",
       "      <td>5</td>\n",
       "      <td>{'model__max_depth': 5}</td>\n",
       "      <td>-1.180836e+07</td>\n",
       "      <td>-1.177420e+07</td>\n",
       "      <td>-1.173420e+07</td>\n",
       "      <td>-1.157413e+07</td>\n",
       "      <td>-1.172272e+07</td>\n",
       "      <td>89716.479978</td>\n",
       "      <td>3</td>\n",
       "    </tr>\n",
       "    <tr>\n",
       "      <th>1</th>\n",
       "      <td>21.473277</td>\n",
       "      <td>2.941715</td>\n",
       "      <td>0.783612</td>\n",
       "      <td>0.170818</td>\n",
       "      <td>7</td>\n",
       "      <td>{'model__max_depth': 7}</td>\n",
       "      <td>-1.007662e+07</td>\n",
       "      <td>-1.005866e+07</td>\n",
       "      <td>-1.005084e+07</td>\n",
       "      <td>-9.847527e+06</td>\n",
       "      <td>-1.000841e+07</td>\n",
       "      <td>93356.805404</td>\n",
       "      <td>2</td>\n",
       "    </tr>\n",
       "    <tr>\n",
       "      <th>2</th>\n",
       "      <td>29.637664</td>\n",
       "      <td>1.356557</td>\n",
       "      <td>0.561151</td>\n",
       "      <td>0.080281</td>\n",
       "      <td>9</td>\n",
       "      <td>{'model__max_depth': 9}</td>\n",
       "      <td>-8.586445e+06</td>\n",
       "      <td>-8.555006e+06</td>\n",
       "      <td>-8.470879e+06</td>\n",
       "      <td>-8.396232e+06</td>\n",
       "      <td>-8.502140e+06</td>\n",
       "      <td>74323.398231</td>\n",
       "      <td>1</td>\n",
       "    </tr>\n",
       "  </tbody>\n",
       "</table>\n",
       "</div>"
      ],
      "text/plain": [
       "   mean_fit_time  std_fit_time  mean_score_time  std_score_time  \\\n",
       "0       9.507780      0.190028         0.591530        0.105265   \n",
       "1      21.473277      2.941715         0.783612        0.170818   \n",
       "2      29.637664      1.356557         0.561151        0.080281   \n",
       "\n",
       "  param_model__max_depth                   params  split0_test_score  \\\n",
       "0                      5  {'model__max_depth': 5}      -1.180836e+07   \n",
       "1                      7  {'model__max_depth': 7}      -1.007662e+07   \n",
       "2                      9  {'model__max_depth': 9}      -8.586445e+06   \n",
       "\n",
       "   split1_test_score  split2_test_score  split3_test_score  mean_test_score  \\\n",
       "0      -1.177420e+07      -1.173420e+07      -1.157413e+07    -1.172272e+07   \n",
       "1      -1.005866e+07      -1.005084e+07      -9.847527e+06    -1.000841e+07   \n",
       "2      -8.555006e+06      -8.470879e+06      -8.396232e+06    -8.502140e+06   \n",
       "\n",
       "   std_test_score  rank_test_score  \n",
       "0    89716.479978                3  \n",
       "1    93356.805404                2  \n",
       "2    74323.398231                1  "
      ]
     },
     "execution_count": 39,
     "metadata": {},
     "output_type": "execute_result"
    }
   ],
   "source": [
    "pd.DataFrame(forest_grid_search.cv_results_)"
   ]
  },
  {
   "cell_type": "markdown",
   "metadata": {},
   "source": [
    "Из таблицы видно, что с увеличением глубины, *MSE* на кросс валидации-улучшается, но увеличивается и время обучения"
   ]
  },
  {
   "cell_type": "markdown",
   "metadata": {},
   "source": [
    "Лучший результат следующий *(-MSE)*"
   ]
  },
  {
   "cell_type": "code",
   "execution_count": 42,
   "metadata": {},
   "outputs": [
    {
     "data": {
      "text/plain": [
       "-8502140.477653844"
      ]
     },
     "execution_count": 42,
     "metadata": {},
     "output_type": "execute_result"
    }
   ],
   "source": [
    "forest_grid_search.best_score_"
   ]
  },
  {
   "cell_type": "markdown",
   "metadata": {},
   "source": [
    "Лучшая модель случайного леса имеет следующие параметры."
   ]
  },
  {
   "cell_type": "code",
   "execution_count": 43,
   "metadata": {
    "scrolled": false
   },
   "outputs": [
    {
     "data": {
      "text/plain": [
       "Pipeline(steps=[('imputer',\n",
       "                 SimpleImputer(fill_value='None', strategy='constant')),\n",
       "                ('onehot', OneHotEncoder(handle_unknown='ignore')),\n",
       "                ('model',\n",
       "                 RandomForestRegressor(max_depth=9, n_estimators=10,\n",
       "                                       random_state=42))])"
      ]
     },
     "execution_count": 43,
     "metadata": {},
     "output_type": "execute_result"
    }
   ],
   "source": [
    "forest_grid_search.best_estimator_"
   ]
  },
  {
   "cell_type": "markdown",
   "metadata": {},
   "source": [
    "Была выбрана модель с глубиной 9. Запишем модель в словарь для финального анализа"
   ]
  },
  {
   "cell_type": "code",
   "execution_count": 44,
   "metadata": {},
   "outputs": [],
   "source": [
    "models={'forest':forest_grid_search.best_estimator_}"
   ]
  },
  {
   "cell_type": "markdown",
   "metadata": {},
   "source": [
    "### LightGBM"
   ]
  },
  {
   "cell_type": "markdown",
   "metadata": {},
   "source": [
    "Следующим алгоритмом используем `LightGBM`. Он может работать с пропусками, но для работы с категориальными данными ему необходимо пробразовать тип из *object* в *category*. Для преобразования определим столбцы со строковым типом."
   ]
  },
  {
   "cell_type": "code",
   "execution_count": 45,
   "metadata": {},
   "outputs": [],
   "source": [
    "cat_features = list(X_train.select_dtypes('object').columns)"
   ]
  },
  {
   "cell_type": "code",
   "execution_count": 46,
   "metadata": {
    "scrolled": true
   },
   "outputs": [
    {
     "data": {
      "text/plain": [
       "['VehicleType', 'Gearbox', 'Model', 'FuelType', 'Brand', 'NotRepaired']"
      ]
     },
     "execution_count": 46,
     "metadata": {},
     "output_type": "execute_result"
    }
   ],
   "source": [
    "cat_features"
   ]
  },
  {
   "cell_type": "markdown",
   "metadata": {},
   "source": [
    "Определим функцию для преобразования типа"
   ]
  },
  {
   "cell_type": "code",
   "execution_count": 47,
   "metadata": {},
   "outputs": [],
   "source": [
    "def to_category(x):\n",
    "    df_copy=x.copy()\n",
    "    df_copy[cat_features] =df_copy[cat_features].astype('category')\n",
    "    return pd.DataFrame(df_copy)"
   ]
  },
  {
   "cell_type": "markdown",
   "metadata": {},
   "source": [
    "Для использования в пайплайне возьмём `FunctionTransformer`"
   ]
  },
  {
   "cell_type": "code",
   "execution_count": 48,
   "metadata": {
    "scrolled": true
   },
   "outputs": [],
   "source": [
    "fun_tr = FunctionTransformer(to_category, validate=False)"
   ]
  },
  {
   "cell_type": "markdown",
   "metadata": {},
   "source": [
    "Создадим модель регрессора на основе `LGBMRegressor`"
   ]
  },
  {
   "cell_type": "code",
   "execution_count": 49,
   "metadata": {},
   "outputs": [],
   "source": [
    "lgbm_model = LGBMRegressor(random_state=42, metric='rmse', n_estimators=10, zero_as_missing=False)"
   ]
  },
  {
   "cell_type": "markdown",
   "metadata": {},
   "source": [
    "Создадим пайплайн, который сначала преобразует тип в категорию, а затем использует модель"
   ]
  },
  {
   "cell_type": "code",
   "execution_count": 50,
   "metadata": {},
   "outputs": [],
   "source": [
    "lgbm_pipeline = Pipeline(steps=[\n",
    "    ('fun_tr', fun_tr),\n",
    "    ('model', lgbm_model)\n",
    "])"
   ]
  },
  {
   "cell_type": "markdown",
   "metadata": {},
   "source": [
    "Параметры для GridSearch оставим такие же"
   ]
  },
  {
   "cell_type": "code",
   "execution_count": 51,
   "metadata": {
    "scrolled": true
   },
   "outputs": [
    {
     "data": {
      "text/plain": [
       "{'model__max_depth': [5, 7, 9]}"
      ]
     },
     "execution_count": 51,
     "metadata": {},
     "output_type": "execute_result"
    }
   ],
   "source": [
    "param_grid"
   ]
  },
  {
   "cell_type": "code",
   "execution_count": 52,
   "metadata": {},
   "outputs": [],
   "source": [
    "lgmb_grid_search = GridSearchCV(lgbm_pipeline, param_grid, cv=CV, scoring='neg_mean_squared_error', verbose=1,n_jobs=-1)"
   ]
  },
  {
   "cell_type": "code",
   "execution_count": 53,
   "metadata": {
    "scrolled": true
   },
   "outputs": [
    {
     "name": "stdout",
     "output_type": "stream",
     "text": [
      "Fitting 4 folds for each of 3 candidates, totalling 12 fits\n"
     ]
    },
    {
     "data": {
      "text/plain": [
       "GridSearchCV(cv=4,\n",
       "             estimator=Pipeline(steps=[('fun_tr',\n",
       "                                        FunctionTransformer(func=<function to_category at 0x7f3a1cf54550>)),\n",
       "                                       ('model',\n",
       "                                        LGBMRegressor(metric='rmse',\n",
       "                                                      n_estimators=10,\n",
       "                                                      random_state=42,\n",
       "                                                      zero_as_missing=False))]),\n",
       "             n_jobs=-1, param_grid={'model__max_depth': [5, 7, 9]},\n",
       "             scoring='neg_mean_squared_error', verbose=1)"
      ]
     },
     "execution_count": 53,
     "metadata": {},
     "output_type": "execute_result"
    }
   ],
   "source": [
    "lgmb_grid_search.fit(X_train, y_train)"
   ]
  },
  {
   "cell_type": "markdown",
   "metadata": {},
   "source": [
    "Получим результаты"
   ]
  },
  {
   "cell_type": "code",
   "execution_count": 54,
   "metadata": {
    "scrolled": false
   },
   "outputs": [
    {
     "data": {
      "text/html": [
       "<div>\n",
       "<style scoped>\n",
       "    .dataframe tbody tr th:only-of-type {\n",
       "        vertical-align: middle;\n",
       "    }\n",
       "\n",
       "    .dataframe tbody tr th {\n",
       "        vertical-align: top;\n",
       "    }\n",
       "\n",
       "    .dataframe thead th {\n",
       "        text-align: right;\n",
       "    }\n",
       "</style>\n",
       "<table border=\"1\" class=\"dataframe\">\n",
       "  <thead>\n",
       "    <tr style=\"text-align: right;\">\n",
       "      <th></th>\n",
       "      <th>mean_fit_time</th>\n",
       "      <th>std_fit_time</th>\n",
       "      <th>mean_score_time</th>\n",
       "      <th>std_score_time</th>\n",
       "      <th>param_model__max_depth</th>\n",
       "      <th>params</th>\n",
       "      <th>split0_test_score</th>\n",
       "      <th>split1_test_score</th>\n",
       "      <th>split2_test_score</th>\n",
       "      <th>split3_test_score</th>\n",
       "      <th>mean_test_score</th>\n",
       "      <th>std_test_score</th>\n",
       "      <th>rank_test_score</th>\n",
       "    </tr>\n",
       "  </thead>\n",
       "  <tbody>\n",
       "    <tr>\n",
       "      <th>0</th>\n",
       "      <td>34.990419</td>\n",
       "      <td>0.130106</td>\n",
       "      <td>0.227527</td>\n",
       "      <td>0.033864</td>\n",
       "      <td>5</td>\n",
       "      <td>{'model__max_depth': 5}</td>\n",
       "      <td>-6.813803e+06</td>\n",
       "      <td>-6.942692e+06</td>\n",
       "      <td>-6.775993e+06</td>\n",
       "      <td>-6.783814e+06</td>\n",
       "      <td>-6.829076e+06</td>\n",
       "      <td>67097.568284</td>\n",
       "      <td>3</td>\n",
       "    </tr>\n",
       "    <tr>\n",
       "      <th>1</th>\n",
       "      <td>43.274547</td>\n",
       "      <td>2.591592</td>\n",
       "      <td>0.255028</td>\n",
       "      <td>0.043125</td>\n",
       "      <td>7</td>\n",
       "      <td>{'model__max_depth': 7}</td>\n",
       "      <td>-6.660675e+06</td>\n",
       "      <td>-6.722022e+06</td>\n",
       "      <td>-6.612869e+06</td>\n",
       "      <td>-6.641861e+06</td>\n",
       "      <td>-6.659356e+06</td>\n",
       "      <td>39987.270002</td>\n",
       "      <td>2</td>\n",
       "    </tr>\n",
       "    <tr>\n",
       "      <th>2</th>\n",
       "      <td>44.920825</td>\n",
       "      <td>10.711826</td>\n",
       "      <td>0.293915</td>\n",
       "      <td>0.059624</td>\n",
       "      <td>9</td>\n",
       "      <td>{'model__max_depth': 9}</td>\n",
       "      <td>-6.664335e+06</td>\n",
       "      <td>-6.719813e+06</td>\n",
       "      <td>-6.594170e+06</td>\n",
       "      <td>-6.635101e+06</td>\n",
       "      <td>-6.653355e+06</td>\n",
       "      <td>45752.852854</td>\n",
       "      <td>1</td>\n",
       "    </tr>\n",
       "  </tbody>\n",
       "</table>\n",
       "</div>"
      ],
      "text/plain": [
       "   mean_fit_time  std_fit_time  mean_score_time  std_score_time  \\\n",
       "0      34.990419      0.130106         0.227527        0.033864   \n",
       "1      43.274547      2.591592         0.255028        0.043125   \n",
       "2      44.920825     10.711826         0.293915        0.059624   \n",
       "\n",
       "  param_model__max_depth                   params  split0_test_score  \\\n",
       "0                      5  {'model__max_depth': 5}      -6.813803e+06   \n",
       "1                      7  {'model__max_depth': 7}      -6.660675e+06   \n",
       "2                      9  {'model__max_depth': 9}      -6.664335e+06   \n",
       "\n",
       "   split1_test_score  split2_test_score  split3_test_score  mean_test_score  \\\n",
       "0      -6.942692e+06      -6.775993e+06      -6.783814e+06    -6.829076e+06   \n",
       "1      -6.722022e+06      -6.612869e+06      -6.641861e+06    -6.659356e+06   \n",
       "2      -6.719813e+06      -6.594170e+06      -6.635101e+06    -6.653355e+06   \n",
       "\n",
       "   std_test_score  rank_test_score  \n",
       "0    67097.568284                3  \n",
       "1    39987.270002                2  \n",
       "2    45752.852854                1  "
      ]
     },
     "execution_count": 54,
     "metadata": {},
     "output_type": "execute_result"
    }
   ],
   "source": [
    "pd.DataFrame(lgmb_grid_search.cv_results_)"
   ]
  },
  {
   "cell_type": "markdown",
   "metadata": {},
   "source": [
    "Из таблицы видно, что также с увеличением глубины, *MSE* на кросс валидации-улучшается, но увеличивается и время обучения. Заметно, что время обучения больше, чем для случайного леса. Однако и метрика лучше."
   ]
  },
  {
   "cell_type": "markdown",
   "metadata": {},
   "source": [
    "Лучший результат следующий"
   ]
  },
  {
   "cell_type": "code",
   "execution_count": 55,
   "metadata": {
    "scrolled": true
   },
   "outputs": [
    {
     "data": {
      "text/plain": [
       "-6653354.641572965"
      ]
     },
     "execution_count": 55,
     "metadata": {},
     "output_type": "execute_result"
    }
   ],
   "source": [
    "lgmb_grid_search.best_score_"
   ]
  },
  {
   "cell_type": "markdown",
   "metadata": {},
   "source": [
    "Лучшая модель"
   ]
  },
  {
   "cell_type": "code",
   "execution_count": 56,
   "metadata": {
    "scrolled": false
   },
   "outputs": [
    {
     "data": {
      "text/plain": [
       "Pipeline(steps=[('fun_tr',\n",
       "                 FunctionTransformer(func=<function to_category at 0x7f3a1cf54550>)),\n",
       "                ('model',\n",
       "                 LGBMRegressor(max_depth=9, metric='rmse', n_estimators=10,\n",
       "                               random_state=42, zero_as_missing=False))])"
      ]
     },
     "execution_count": 56,
     "metadata": {},
     "output_type": "execute_result"
    }
   ],
   "source": [
    "lgmb_grid_search.best_estimator_"
   ]
  },
  {
   "cell_type": "markdown",
   "metadata": {},
   "source": [
    "Была выбрана модель с глубиной 9. Запишем модель в словарь для финального анализа"
   ]
  },
  {
   "cell_type": "code",
   "execution_count": 71,
   "metadata": {},
   "outputs": [],
   "source": [
    "models['lightgbm'] = lgmb_grid_search.best_estimator_"
   ]
  },
  {
   "cell_type": "markdown",
   "metadata": {},
   "source": [
    "### CatBoost"
   ]
  },
  {
   "cell_type": "markdown",
   "metadata": {},
   "source": [
    "Следующим алгоритмом используем CatBoost. Он может работать с категориями типом *object*. А пропуски надо заполнить. Параметры инициализации модели оставим аналогичные другим моделям."
   ]
  },
  {
   "cell_type": "code",
   "execution_count": 58,
   "metadata": {},
   "outputs": [],
   "source": [
    "columns = list(X_train.columns)"
   ]
  },
  {
   "cell_type": "markdown",
   "metadata": {},
   "source": [
    "Для CatBoost нужен список индексов столбцов, которые будут обрабатываться как категориальные."
   ]
  },
  {
   "cell_type": "code",
   "execution_count": 59,
   "metadata": {},
   "outputs": [],
   "source": [
    "cat_features_index = [columns.index(i) for i in cat_features]"
   ]
  },
  {
   "cell_type": "code",
   "execution_count": 60,
   "metadata": {
    "scrolled": true
   },
   "outputs": [
    {
     "data": {
      "text/plain": [
       "[0, 2, 4, 7, 8, 9]"
      ]
     },
     "execution_count": 60,
     "metadata": {},
     "output_type": "execute_result"
    }
   ],
   "source": [
    "cat_features_index"
   ]
  },
  {
   "cell_type": "markdown",
   "metadata": {},
   "source": [
    "Создадим модель, параметры примем аналогичные предыдущим моделям."
   ]
  },
  {
   "cell_type": "code",
   "execution_count": 61,
   "metadata": {},
   "outputs": [],
   "source": [
    "cat_model =CatBoostRegressor(random_seed=42, num_trees = 10, cat_features = cat_features_index)"
   ]
  },
  {
   "cell_type": "markdown",
   "metadata": {},
   "source": [
    "Создадим пайплайн с заполнением пропусками и моделью."
   ]
  },
  {
   "cell_type": "code",
   "execution_count": 62,
   "metadata": {},
   "outputs": [],
   "source": [
    "cat_pipeline = Pipeline(steps=[\n",
    "    ('imputer', imputer),\n",
    "    ('model', cat_model)\n",
    "])"
   ]
  },
  {
   "cell_type": "code",
   "execution_count": 63,
   "metadata": {},
   "outputs": [],
   "source": [
    "cat_grid_search = GridSearchCV(cat_pipeline, param_grid, cv=CV, scoring='neg_mean_squared_error')"
   ]
  },
  {
   "cell_type": "markdown",
   "metadata": {},
   "source": [
    "Запустим поиск"
   ]
  },
  {
   "cell_type": "code",
   "execution_count": 64,
   "metadata": {
    "scrolled": false
   },
   "outputs": [
    {
     "name": "stdout",
     "output_type": "stream",
     "text": [
      "Learning rate set to 0.5\n",
      "0:\tlearn: 3347.5047912\ttotal: 295ms\tremaining: 2.66s\n",
      "1:\tlearn: 2705.0214020\ttotal: 525ms\tremaining: 2.1s\n",
      "2:\tlearn: 2473.5344563\ttotal: 766ms\tremaining: 1.79s\n",
      "3:\tlearn: 2318.7682974\ttotal: 975ms\tremaining: 1.46s\n",
      "4:\tlearn: 2216.0639850\ttotal: 1.19s\tremaining: 1.19s\n",
      "5:\tlearn: 2160.9992805\ttotal: 1.39s\tremaining: 925ms\n",
      "6:\tlearn: 2109.4002841\ttotal: 1.6s\tremaining: 685ms\n",
      "7:\tlearn: 2079.3502885\ttotal: 1.8s\tremaining: 450ms\n",
      "8:\tlearn: 2054.8150634\ttotal: 1.97s\tremaining: 219ms\n",
      "9:\tlearn: 2030.1112661\ttotal: 2.16s\tremaining: 0us\n",
      "Learning rate set to 0.5\n",
      "0:\tlearn: 3339.0370768\ttotal: 205ms\tremaining: 1.85s\n",
      "1:\tlearn: 2704.3910924\ttotal: 425ms\tremaining: 1.7s\n",
      "2:\tlearn: 2443.1537661\ttotal: 639ms\tremaining: 1.49s\n",
      "3:\tlearn: 2289.3451298\ttotal: 819ms\tremaining: 1.23s\n",
      "4:\tlearn: 2211.3455568\ttotal: 1s\tremaining: 1s\n",
      "5:\tlearn: 2139.6733824\ttotal: 1.27s\tremaining: 849ms\n",
      "6:\tlearn: 2102.8835988\ttotal: 1.45s\tremaining: 622ms\n",
      "7:\tlearn: 2075.4462053\ttotal: 1.63s\tremaining: 408ms\n",
      "8:\tlearn: 2057.7165236\ttotal: 1.81s\tremaining: 201ms\n",
      "9:\tlearn: 2038.5531964\ttotal: 1.99s\tremaining: 0us\n",
      "Learning rate set to 0.5\n",
      "0:\tlearn: 3366.6220653\ttotal: 231ms\tremaining: 2.08s\n",
      "1:\tlearn: 2725.4852381\ttotal: 449ms\tremaining: 1.8s\n",
      "2:\tlearn: 2461.0583411\ttotal: 660ms\tremaining: 1.54s\n",
      "3:\tlearn: 2306.5537721\ttotal: 838ms\tremaining: 1.26s\n",
      "4:\tlearn: 2210.9186088\ttotal: 1.03s\tremaining: 1.03s\n",
      "5:\tlearn: 2151.3456674\ttotal: 1.2s\tremaining: 801ms\n",
      "6:\tlearn: 2117.4939084\ttotal: 1.38s\tremaining: 593ms\n",
      "7:\tlearn: 2082.5860428\ttotal: 1.57s\tremaining: 392ms\n",
      "8:\tlearn: 2061.4642855\ttotal: 1.74s\tremaining: 193ms\n",
      "9:\tlearn: 2042.0201930\ttotal: 1.91s\tremaining: 0us\n",
      "Learning rate set to 0.5\n",
      "0:\tlearn: 3371.6124199\ttotal: 203ms\tremaining: 1.83s\n",
      "1:\tlearn: 2742.5516453\ttotal: 419ms\tremaining: 1.68s\n",
      "2:\tlearn: 2479.3306779\ttotal: 633ms\tremaining: 1.48s\n",
      "3:\tlearn: 2299.7834269\ttotal: 814ms\tremaining: 1.22s\n",
      "4:\tlearn: 2223.2667625\ttotal: 992ms\tremaining: 992ms\n",
      "5:\tlearn: 2148.5438654\ttotal: 1.17s\tremaining: 783ms\n",
      "6:\tlearn: 2105.3745922\ttotal: 1.35s\tremaining: 579ms\n",
      "7:\tlearn: 2083.0639766\ttotal: 1.52s\tremaining: 380ms\n",
      "8:\tlearn: 2055.3835836\ttotal: 1.7s\tremaining: 189ms\n",
      "9:\tlearn: 2038.0484868\ttotal: 1.88s\tremaining: 0us\n",
      "Learning rate set to 0.5\n",
      "0:\tlearn: 3195.1365846\ttotal: 312ms\tremaining: 2.81s\n",
      "1:\tlearn: 2592.1743025\ttotal: 625ms\tremaining: 2.5s\n",
      "2:\tlearn: 2292.9370997\ttotal: 943ms\tremaining: 2.2s\n",
      "3:\tlearn: 2157.9811142\ttotal: 1.22s\tremaining: 1.83s\n",
      "4:\tlearn: 2069.0262382\ttotal: 1.51s\tremaining: 1.51s\n",
      "5:\tlearn: 2016.8393803\ttotal: 1.78s\tremaining: 1.19s\n",
      "6:\tlearn: 1988.0785599\ttotal: 2.05s\tremaining: 878ms\n",
      "7:\tlearn: 1962.8108244\ttotal: 2.33s\tremaining: 583ms\n",
      "8:\tlearn: 1949.9834723\ttotal: 2.6s\tremaining: 289ms\n",
      "9:\tlearn: 1926.9117666\ttotal: 2.88s\tremaining: 0us\n",
      "Learning rate set to 0.5\n",
      "0:\tlearn: 3234.1579013\ttotal: 328ms\tremaining: 2.95s\n",
      "1:\tlearn: 2602.4166303\ttotal: 649ms\tremaining: 2.59s\n",
      "2:\tlearn: 2304.3345409\ttotal: 961ms\tremaining: 2.24s\n",
      "3:\tlearn: 2173.9988498\ttotal: 1.24s\tremaining: 1.86s\n",
      "4:\tlearn: 2086.6308755\ttotal: 1.51s\tremaining: 1.51s\n",
      "5:\tlearn: 2042.5716747\ttotal: 1.79s\tremaining: 1.19s\n",
      "6:\tlearn: 2007.6235501\ttotal: 2.06s\tremaining: 885ms\n",
      "7:\tlearn: 1985.9127786\ttotal: 2.34s\tremaining: 584ms\n",
      "8:\tlearn: 1958.6474424\ttotal: 2.6s\tremaining: 289ms\n",
      "9:\tlearn: 1940.1295226\ttotal: 2.88s\tremaining: 0us\n",
      "Learning rate set to 0.5\n",
      "0:\tlearn: 3219.1246553\ttotal: 264ms\tremaining: 2.38s\n",
      "1:\tlearn: 2617.5279407\ttotal: 533ms\tremaining: 2.13s\n",
      "2:\tlearn: 2313.7501978\ttotal: 813ms\tremaining: 1.9s\n",
      "3:\tlearn: 2177.1816617\ttotal: 1.07s\tremaining: 1.6s\n",
      "4:\tlearn: 2096.9863714\ttotal: 1.3s\tremaining: 1.3s\n",
      "5:\tlearn: 2035.3236588\ttotal: 1.56s\tremaining: 1.04s\n",
      "6:\tlearn: 2001.5072992\ttotal: 1.8s\tremaining: 774ms\n",
      "7:\tlearn: 1973.2866979\ttotal: 2.06s\tremaining: 514ms\n",
      "8:\tlearn: 1953.9896126\ttotal: 2.29s\tremaining: 254ms\n",
      "9:\tlearn: 1940.2972036\ttotal: 2.52s\tremaining: 0us\n",
      "Learning rate set to 0.5\n",
      "0:\tlearn: 3232.9525379\ttotal: 264ms\tremaining: 2.37s\n",
      "1:\tlearn: 2635.5432950\ttotal: 562ms\tremaining: 2.25s\n",
      "2:\tlearn: 2319.1104895\ttotal: 814ms\tremaining: 1.9s\n",
      "3:\tlearn: 2174.8136880\ttotal: 1.07s\tremaining: 1.61s\n",
      "4:\tlearn: 2069.0805745\ttotal: 1.32s\tremaining: 1.32s\n",
      "5:\tlearn: 2021.8569282\ttotal: 1.57s\tremaining: 1.05s\n",
      "6:\tlearn: 1995.5310494\ttotal: 1.82s\tremaining: 781ms\n",
      "7:\tlearn: 1967.5885749\ttotal: 2.07s\tremaining: 517ms\n",
      "8:\tlearn: 1946.0236114\ttotal: 2.31s\tremaining: 257ms\n",
      "9:\tlearn: 1925.8662834\ttotal: 2.56s\tremaining: 0us\n",
      "Learning rate set to 0.5\n",
      "0:\tlearn: 3122.6341794\ttotal: 341ms\tremaining: 3.06s\n",
      "1:\tlearn: 2517.3773587\ttotal: 704ms\tremaining: 2.82s\n",
      "2:\tlearn: 2204.2418097\ttotal: 1.04s\tremaining: 2.44s\n",
      "3:\tlearn: 2082.2436685\ttotal: 1.37s\tremaining: 2.06s\n",
      "4:\tlearn: 1989.1772229\ttotal: 1.85s\tremaining: 1.85s\n",
      "5:\tlearn: 1929.7123261\ttotal: 2.17s\tremaining: 1.45s\n",
      "6:\tlearn: 1900.7503929\ttotal: 2.49s\tremaining: 1.07s\n",
      "7:\tlearn: 1881.2215732\ttotal: 2.8s\tremaining: 701ms\n",
      "8:\tlearn: 1861.8917017\ttotal: 3.11s\tremaining: 346ms\n",
      "9:\tlearn: 1854.2615814\ttotal: 3.42s\tremaining: 0us\n",
      "Learning rate set to 0.5\n",
      "0:\tlearn: 3129.0985643\ttotal: 350ms\tremaining: 3.15s\n",
      "1:\tlearn: 2520.0282351\ttotal: 695ms\tremaining: 2.78s\n",
      "2:\tlearn: 2225.6576233\ttotal: 1.02s\tremaining: 2.38s\n",
      "3:\tlearn: 2089.8367882\ttotal: 1.34s\tremaining: 2.01s\n",
      "4:\tlearn: 1982.4771849\ttotal: 1.67s\tremaining: 1.67s\n",
      "5:\tlearn: 1938.2369738\ttotal: 1.99s\tremaining: 1.32s\n",
      "6:\tlearn: 1900.8392255\ttotal: 2.3s\tremaining: 987ms\n",
      "7:\tlearn: 1878.3033159\ttotal: 2.61s\tremaining: 653ms\n",
      "8:\tlearn: 1864.3253853\ttotal: 2.92s\tremaining: 324ms\n",
      "9:\tlearn: 1848.8942477\ttotal: 3.23s\tremaining: 0us\n",
      "Learning rate set to 0.5\n",
      "0:\tlearn: 3141.3312097\ttotal: 333ms\tremaining: 3s\n",
      "1:\tlearn: 2527.7928791\ttotal: 691ms\tremaining: 2.77s\n",
      "2:\tlearn: 2213.3057609\ttotal: 1.03s\tremaining: 2.4s\n",
      "3:\tlearn: 2086.7632068\ttotal: 1.35s\tremaining: 2.03s\n",
      "4:\tlearn: 1992.7076824\ttotal: 1.68s\tremaining: 1.68s\n",
      "5:\tlearn: 1952.2443704\ttotal: 1.99s\tremaining: 1.32s\n",
      "6:\tlearn: 1914.0687803\ttotal: 2.38s\tremaining: 1.02s\n",
      "7:\tlearn: 1892.1966618\ttotal: 2.69s\tremaining: 673ms\n",
      "8:\tlearn: 1877.5922913\ttotal: 3s\tremaining: 333ms\n",
      "9:\tlearn: 1852.2649929\ttotal: 3.54s\tremaining: 0us\n",
      "Learning rate set to 0.5\n",
      "0:\tlearn: 3158.7943681\ttotal: 336ms\tremaining: 3.02s\n",
      "1:\tlearn: 2542.8447511\ttotal: 706ms\tremaining: 2.82s\n",
      "2:\tlearn: 2243.8611610\ttotal: 1.04s\tremaining: 2.43s\n",
      "3:\tlearn: 2095.9035591\ttotal: 1.36s\tremaining: 2.03s\n",
      "4:\tlearn: 2009.3366762\ttotal: 1.66s\tremaining: 1.66s\n",
      "5:\tlearn: 1955.9005814\ttotal: 1.97s\tremaining: 1.31s\n",
      "6:\tlearn: 1920.8735846\ttotal: 2.28s\tremaining: 979ms\n",
      "7:\tlearn: 1894.3381175\ttotal: 2.6s\tremaining: 650ms\n",
      "8:\tlearn: 1874.8539663\ttotal: 2.9s\tremaining: 323ms\n",
      "9:\tlearn: 1853.7472916\ttotal: 3.22s\tremaining: 0us\n",
      "Learning rate set to 0.5\n",
      "0:\tlearn: 3133.5881929\ttotal: 499ms\tremaining: 4.49s\n",
      "1:\tlearn: 2517.5143927\ttotal: 955ms\tremaining: 3.82s\n",
      "2:\tlearn: 2223.6469770\ttotal: 1.43s\tremaining: 3.33s\n",
      "3:\tlearn: 2085.2351613\ttotal: 2.06s\tremaining: 3.09s\n",
      "4:\tlearn: 1986.8557866\ttotal: 2.57s\tremaining: 2.57s\n",
      "5:\tlearn: 1937.9983236\ttotal: 3s\tremaining: 2s\n",
      "6:\tlearn: 1908.6042403\ttotal: 3.42s\tremaining: 1.47s\n",
      "7:\tlearn: 1884.2532402\ttotal: 3.84s\tremaining: 959ms\n",
      "8:\tlearn: 1870.2273222\ttotal: 4.24s\tremaining: 471ms\n",
      "9:\tlearn: 1853.1128694\ttotal: 4.66s\tremaining: 0us\n"
     ]
    },
    {
     "data": {
      "text/plain": [
       "GridSearchCV(cv=4,\n",
       "             estimator=Pipeline(steps=[('imputer',\n",
       "                                        SimpleImputer(fill_value='None',\n",
       "                                                      strategy='constant')),\n",
       "                                       ('model',\n",
       "                                        <catboost.core.CatBoostRegressor object at 0x7f3a041cd5e0>)]),\n",
       "             param_grid={'model__max_depth': [5, 7, 9]},\n",
       "             scoring='neg_mean_squared_error')"
      ]
     },
     "execution_count": 64,
     "metadata": {},
     "output_type": "execute_result"
    }
   ],
   "source": [
    "cat_grid_search.fit(X_train, y_train)"
   ]
  },
  {
   "cell_type": "code",
   "execution_count": 65,
   "metadata": {
    "scrolled": true
   },
   "outputs": [
    {
     "data": {
      "text/html": [
       "<div>\n",
       "<style scoped>\n",
       "    .dataframe tbody tr th:only-of-type {\n",
       "        vertical-align: middle;\n",
       "    }\n",
       "\n",
       "    .dataframe tbody tr th {\n",
       "        vertical-align: top;\n",
       "    }\n",
       "\n",
       "    .dataframe thead th {\n",
       "        text-align: right;\n",
       "    }\n",
       "</style>\n",
       "<table border=\"1\" class=\"dataframe\">\n",
       "  <thead>\n",
       "    <tr style=\"text-align: right;\">\n",
       "      <th></th>\n",
       "      <th>mean_fit_time</th>\n",
       "      <th>std_fit_time</th>\n",
       "      <th>mean_score_time</th>\n",
       "      <th>std_score_time</th>\n",
       "      <th>param_model__max_depth</th>\n",
       "      <th>params</th>\n",
       "      <th>split0_test_score</th>\n",
       "      <th>split1_test_score</th>\n",
       "      <th>split2_test_score</th>\n",
       "      <th>split3_test_score</th>\n",
       "      <th>mean_test_score</th>\n",
       "      <th>std_test_score</th>\n",
       "      <th>rank_test_score</th>\n",
       "    </tr>\n",
       "  </thead>\n",
       "  <tbody>\n",
       "    <tr>\n",
       "      <th>0</th>\n",
       "      <td>4.455328</td>\n",
       "      <td>0.447949</td>\n",
       "      <td>0.390228</td>\n",
       "      <td>0.083266</td>\n",
       "      <td>5</td>\n",
       "      <td>{'model__max_depth': 5}</td>\n",
       "      <td>-4.210794e+06</td>\n",
       "      <td>-4.144606e+06</td>\n",
       "      <td>-4.184615e+06</td>\n",
       "      <td>-4.117700e+06</td>\n",
       "      <td>-4.164429e+06</td>\n",
       "      <td>35825.243016</td>\n",
       "      <td>3</td>\n",
       "    </tr>\n",
       "    <tr>\n",
       "      <th>1</th>\n",
       "      <td>5.404737</td>\n",
       "      <td>0.567815</td>\n",
       "      <td>0.393202</td>\n",
       "      <td>0.083093</td>\n",
       "      <td>7</td>\n",
       "      <td>{'model__max_depth': 7}</td>\n",
       "      <td>-3.804447e+06</td>\n",
       "      <td>-3.763295e+06</td>\n",
       "      <td>-3.775696e+06</td>\n",
       "      <td>-3.712808e+06</td>\n",
       "      <td>-3.764062e+06</td>\n",
       "      <td>33143.039079</td>\n",
       "      <td>2</td>\n",
       "    </tr>\n",
       "    <tr>\n",
       "      <th>2</th>\n",
       "      <td>5.945984</td>\n",
       "      <td>0.444804</td>\n",
       "      <td>0.397263</td>\n",
       "      <td>0.080788</td>\n",
       "      <td>9</td>\n",
       "      <td>{'model__max_depth': 9}</td>\n",
       "      <td>-3.579869e+06</td>\n",
       "      <td>-3.496008e+06</td>\n",
       "      <td>-3.456762e+06</td>\n",
       "      <td>-3.489274e+06</td>\n",
       "      <td>-3.505478e+06</td>\n",
       "      <td>45440.971315</td>\n",
       "      <td>1</td>\n",
       "    </tr>\n",
       "  </tbody>\n",
       "</table>\n",
       "</div>"
      ],
      "text/plain": [
       "   mean_fit_time  std_fit_time  mean_score_time  std_score_time  \\\n",
       "0       4.455328      0.447949         0.390228        0.083266   \n",
       "1       5.404737      0.567815         0.393202        0.083093   \n",
       "2       5.945984      0.444804         0.397263        0.080788   \n",
       "\n",
       "  param_model__max_depth                   params  split0_test_score  \\\n",
       "0                      5  {'model__max_depth': 5}      -4.210794e+06   \n",
       "1                      7  {'model__max_depth': 7}      -3.804447e+06   \n",
       "2                      9  {'model__max_depth': 9}      -3.579869e+06   \n",
       "\n",
       "   split1_test_score  split2_test_score  split3_test_score  mean_test_score  \\\n",
       "0      -4.144606e+06      -4.184615e+06      -4.117700e+06    -4.164429e+06   \n",
       "1      -3.763295e+06      -3.775696e+06      -3.712808e+06    -3.764062e+06   \n",
       "2      -3.496008e+06      -3.456762e+06      -3.489274e+06    -3.505478e+06   \n",
       "\n",
       "   std_test_score  rank_test_score  \n",
       "0    35825.243016                3  \n",
       "1    33143.039079                2  \n",
       "2    45440.971315                1  "
      ]
     },
     "execution_count": 65,
     "metadata": {},
     "output_type": "execute_result"
    }
   ],
   "source": [
    "pd.DataFrame(cat_grid_search.cv_results_)"
   ]
  },
  {
   "cell_type": "markdown",
   "metadata": {},
   "source": [
    "Из таблицы видно, что также с увеличением глубины, MSE на кросс валидации-улучшается, но увеличивается и время обучения. Заметно, что время обучения меньше, чем для случайного леса и LightGBM и метрика лучше."
   ]
  },
  {
   "cell_type": "markdown",
   "metadata": {},
   "source": [
    "Лучший результат следующий (*-MSE*)"
   ]
  },
  {
   "cell_type": "code",
   "execution_count": 69,
   "metadata": {
    "scrolled": true
   },
   "outputs": [
    {
     "data": {
      "text/plain": [
       "-3505478.1521312087"
      ]
     },
     "execution_count": 69,
     "metadata": {},
     "output_type": "execute_result"
    }
   ],
   "source": [
    "cat_grid_search.best_score_"
   ]
  },
  {
   "cell_type": "markdown",
   "metadata": {},
   "source": [
    "Лучшая модель - с глубиной 9"
   ]
  },
  {
   "cell_type": "code",
   "execution_count": 70,
   "metadata": {
    "scrolled": true
   },
   "outputs": [
    {
     "data": {
      "text/plain": [
       "Pipeline(steps=[('imputer',\n",
       "                 SimpleImputer(fill_value='None', strategy='constant')),\n",
       "                ('model',\n",
       "                 <catboost.core.CatBoostRegressor object at 0x7f3a1cedf9a0>)])"
      ]
     },
     "execution_count": 70,
     "metadata": {},
     "output_type": "execute_result"
    }
   ],
   "source": [
    "cat_grid_search.best_estimator_"
   ]
  },
  {
   "cell_type": "markdown",
   "metadata": {},
   "source": [
    "Запишем модель в словарь для финального анализа"
   ]
  },
  {
   "cell_type": "code",
   "execution_count": 73,
   "metadata": {},
   "outputs": [],
   "source": [
    "models['catboost'] = cat_grid_search.best_estimator_"
   ]
  },
  {
   "cell_type": "markdown",
   "metadata": {},
   "source": [
    "### Линейная регрессия"
   ]
  },
  {
   "cell_type": "markdown",
   "metadata": {},
   "source": [
    "Для линейной регрессии дополнительно проведём масштабирование признаков с помощью `StandardScaler`."
   ]
  },
  {
   "cell_type": "code",
   "execution_count": 74,
   "metadata": {},
   "outputs": [],
   "source": [
    "scaler = StandardScaler()"
   ]
  },
  {
   "cell_type": "markdown",
   "metadata": {},
   "source": [
    "Содадим модель линейной регресии"
   ]
  },
  {
   "cell_type": "code",
   "execution_count": 75,
   "metadata": {},
   "outputs": [],
   "source": [
    "linear_model = LinearRegression()"
   ]
  },
  {
   "cell_type": "code",
   "execution_count": 152,
   "metadata": {},
   "outputs": [],
   "source": [
    "num_features = X.select_dtypes('int').columns"
   ]
  },
  {
   "cell_type": "code",
   "execution_count": 153,
   "metadata": {
    "scrolled": true
   },
   "outputs": [
    {
     "data": {
      "text/plain": [
       "Index(['RegistrationYear', 'Power', 'Kilometer', 'RegistrationMonth',\n",
       "       'PostalCode'],\n",
       "      dtype='object')"
      ]
     },
     "execution_count": 153,
     "metadata": {},
     "output_type": "execute_result"
    }
   ],
   "source": [
    "num_features"
   ]
  },
  {
   "cell_type": "markdown",
   "metadata": {},
   "source": [
    "Создадим пайплайн, с заполнением пропускров, кодированием признаков, масштабированием и моделью."
   ]
  },
  {
   "cell_type": "code",
   "execution_count": 76,
   "metadata": {},
   "outputs": [],
   "source": [
    "linear_pipeline = Pipeline(steps=[\n",
    "    ('imputer', SimpleImputer(strategy='constant', fill_value='None')),\n",
    "    ('onehot', OneHotEncoder(handle_unknown='ignore')),\n",
    "    ('scaler', StandardScaler(with_mean=False)),\n",
    "    ('linear_model', LinearRegression())\n",
    "])"
   ]
  },
  {
   "cell_type": "markdown",
   "metadata": {},
   "source": [
    "Линейную регресиию используем как есть, без подбора параметров. Засечём время обучения. "
   ]
  },
  {
   "cell_type": "code",
   "execution_count": 77,
   "metadata": {
    "scrolled": true
   },
   "outputs": [
    {
     "name": "stdout",
     "output_type": "stream",
     "text": [
      "15.7 s ± 0 ns per loop (mean ± std. dev. of 1 run, 1 loop each)\n"
     ]
    }
   ],
   "source": [
    "result = %timeit -n1 -r1 -o linear_pipeline.fit(X_train, y_train)"
   ]
  },
  {
   "cell_type": "markdown",
   "metadata": {},
   "source": [
    "Время обучения довольно неплохое - 15,7 сек. Посмотрим на метрику. Пока используем метрику как и для других моделей (*-MSE*)"
   ]
  },
  {
   "cell_type": "code",
   "execution_count": 79,
   "metadata": {},
   "outputs": [
    {
     "data": {
      "text/plain": [
       "-4173472.3093374744"
      ]
     },
     "execution_count": 79,
     "metadata": {},
     "output_type": "execute_result"
    }
   ],
   "source": [
    "-mean_squared_error(y_test, linear_pipeline.predict(X_test))"
   ]
  },
  {
   "cell_type": "markdown",
   "metadata": {},
   "source": [
    "Метрика тоже неплоха. Посмотрим, что покажут результаты на финальном анализе."
   ]
  },
  {
   "cell_type": "markdown",
   "metadata": {},
   "source": [
    "Запишем в словарь для финального анализа"
   ]
  },
  {
   "cell_type": "code",
   "execution_count": 78,
   "metadata": {},
   "outputs": [],
   "source": [
    "models['linear_regression'] = linear_pipeline"
   ]
  },
  {
   "cell_type": "markdown",
   "metadata": {},
   "source": [
    "### Выводы"
   ]
  },
  {
   "cell_type": "markdown",
   "metadata": {},
   "source": [
    "В результате сравнили следующие модели:\n",
    "- RandomForesRegressor\n",
    "- LightGBM\n",
    "- CatBoost\n",
    "- LinearRegression\n",
    "\n",
    "Каждая модель имеет свои особенности, поэтому для каждой понадобился свой отдельный пайплайн подготавливающий данные и обучающий модели. Сравнили результаты для некоторых вариантов параметра `max_depth`. Другие параметры не изменяли, чтобы не увеличивать время расчёта. Лучший результат показала модель `Catboost`. "
   ]
  },
  {
   "cell_type": "markdown",
   "metadata": {},
   "source": [
    "## Анализ моделей"
   ]
  },
  {
   "cell_type": "markdown",
   "metadata": {},
   "source": [
    "В результате получили для анализа следующий словарь моделей"
   ]
  },
  {
   "cell_type": "code",
   "execution_count": 80,
   "metadata": {
    "scrolled": true
   },
   "outputs": [
    {
     "data": {
      "text/plain": [
       "{'forest': Pipeline(steps=[('imputer',\n",
       "                  SimpleImputer(fill_value='None', strategy='constant')),\n",
       "                 ('onehot', OneHotEncoder(handle_unknown='ignore')),\n",
       "                 ('model',\n",
       "                  RandomForestRegressor(max_depth=9, n_estimators=10,\n",
       "                                        random_state=42))]),\n",
       " 'lightgbm': Pipeline(steps=[('fun_tr',\n",
       "                  FunctionTransformer(func=<function to_category at 0x7f3a1cf54550>)),\n",
       "                 ('model',\n",
       "                  LGBMRegressor(max_depth=9, metric='rmse', n_estimators=10,\n",
       "                                random_state=42, zero_as_missing=False))]),\n",
       " 'catboost': Pipeline(steps=[('imputer',\n",
       "                  SimpleImputer(fill_value='None', strategy='constant')),\n",
       "                 ('model',\n",
       "                  <catboost.core.CatBoostRegressor object at 0x7f3a1cedf9a0>)]),\n",
       " 'linear_regression': Pipeline(steps=[('imputer',\n",
       "                  SimpleImputer(fill_value='None', strategy='constant')),\n",
       "                 ('onehot', OneHotEncoder(handle_unknown='ignore')),\n",
       "                 ('scaler', StandardScaler(with_mean=False)),\n",
       "                 ('linear_model', LinearRegression())])}"
      ]
     },
     "execution_count": 80,
     "metadata": {},
     "output_type": "execute_result"
    }
   ],
   "source": [
    "models"
   ]
  },
  {
   "cell_type": "markdown",
   "metadata": {},
   "source": [
    "Теперь проведём финальный анализ выбранных моделей. Для этого будем замерять время и качество (*RMSE*) обучения на тренировочной выборке и на тестовой. Результаты сведём в датафрейм для удобства восприятия"
   ]
  },
  {
   "cell_type": "code",
   "execution_count": 82,
   "metadata": {
    "scrolled": true
   },
   "outputs": [],
   "source": [
    "df_result = pd.DataFrame({'model':[], 'train_time':[], 'train_rmse':[], 'test_time':[], 'test_rmse':[]})"
   ]
  },
  {
   "cell_type": "code",
   "execution_count": 83,
   "metadata": {
    "scrolled": true
   },
   "outputs": [
    {
     "name": "stdout",
     "output_type": "stream",
     "text": [
      "42.7 s ± 0 ns per loop (mean ± std. dev. of 1 run, 1 loop each)\n",
      "42.9 s ± 0 ns per loop (mean ± std. dev. of 1 run, 1 loop each)\n",
      "59.5 s ± 0 ns per loop (mean ± std. dev. of 1 run, 1 loop each)\n",
      "43.8 s ± 0 ns per loop (mean ± std. dev. of 1 run, 1 loop each)\n",
      "Learning rate set to 0.5\n",
      "0:\tlearn: 3133.5881929\ttotal: 565ms\tremaining: 5.08s\n",
      "1:\tlearn: 2517.5143927\ttotal: 1.1s\tremaining: 4.4s\n",
      "2:\tlearn: 2223.6469770\ttotal: 1.65s\tremaining: 3.85s\n",
      "3:\tlearn: 2085.2351613\ttotal: 2.14s\tremaining: 3.21s\n",
      "4:\tlearn: 1986.8557866\ttotal: 2.62s\tremaining: 2.62s\n",
      "5:\tlearn: 1937.9983236\ttotal: 3.1s\tremaining: 2.07s\n",
      "6:\tlearn: 1908.6042403\ttotal: 3.58s\tremaining: 1.53s\n",
      "7:\tlearn: 1884.2532402\ttotal: 4.05s\tremaining: 1.01s\n",
      "8:\tlearn: 1870.2273222\ttotal: 4.52s\tremaining: 502ms\n",
      "9:\tlearn: 1853.1128694\ttotal: 4.99s\tremaining: 0us\n",
      "8.3 s ± 0 ns per loop (mean ± std. dev. of 1 run, 1 loop each)\n",
      "Learning rate set to 0.5\n",
      "0:\tlearn: 3133.5881929\ttotal: 468ms\tremaining: 4.21s\n",
      "1:\tlearn: 2517.5143927\ttotal: 923ms\tremaining: 3.69s\n",
      "2:\tlearn: 2223.6469770\ttotal: 1.4s\tremaining: 3.26s\n",
      "3:\tlearn: 2085.2351613\ttotal: 1.82s\tremaining: 2.73s\n",
      "4:\tlearn: 1986.8557866\ttotal: 2.26s\tremaining: 2.26s\n",
      "5:\tlearn: 1937.9983236\ttotal: 2.73s\tremaining: 1.82s\n",
      "6:\tlearn: 1908.6042403\ttotal: 3.2s\tremaining: 1.37s\n",
      "7:\tlearn: 1884.2532402\ttotal: 3.95s\tremaining: 988ms\n",
      "8:\tlearn: 1870.2273222\ttotal: 4.41s\tremaining: 490ms\n",
      "9:\tlearn: 1853.1128694\ttotal: 4.87s\tremaining: 0us\n",
      "8.5 s ± 0 ns per loop (mean ± std. dev. of 1 run, 1 loop each)\n",
      "17.4 s ± 0 ns per loop (mean ± std. dev. of 1 run, 1 loop each)\n",
      "16.2 s ± 0 ns per loop (mean ± std. dev. of 1 run, 1 loop each)\n"
     ]
    }
   ],
   "source": [
    "for model_name in models:\n",
    "    train_time = %timeit -n1 -r1 -o models[model_name].fit(X_train, y_train)\n",
    "    train_rmse = mean_squared_error(y_train, models[model_name].predict(X_train))**0.5\n",
    "    test_time = %timeit -n1 -r1 -o models[model_name].fit(X_train, y_train)\n",
    "    test_rmse = mean_squared_error(y_test, models[model_name].predict(X_test))**0.5\n",
    "    res_dict={'model':model_name, 'train_time':train_time.best, 'train_rmse':train_rmse, 'test_time':test_time.best, 'test_rmse':test_rmse}\n",
    "    df_result=df_result.append(res_dict, ignore_index=True)"
   ]
  },
  {
   "cell_type": "markdown",
   "metadata": {},
   "source": [
    "Выведем результаты, отсортированные по метрике на тестовой выборке"
   ]
  },
  {
   "cell_type": "code",
   "execution_count": 85,
   "metadata": {
    "scrolled": false
   },
   "outputs": [
    {
     "data": {
      "text/html": [
       "<div>\n",
       "<style scoped>\n",
       "    .dataframe tbody tr th:only-of-type {\n",
       "        vertical-align: middle;\n",
       "    }\n",
       "\n",
       "    .dataframe tbody tr th {\n",
       "        vertical-align: top;\n",
       "    }\n",
       "\n",
       "    .dataframe thead th {\n",
       "        text-align: right;\n",
       "    }\n",
       "</style>\n",
       "<table border=\"1\" class=\"dataframe\">\n",
       "  <thead>\n",
       "    <tr style=\"text-align: right;\">\n",
       "      <th></th>\n",
       "      <th>model</th>\n",
       "      <th>train_time</th>\n",
       "      <th>train_rmse</th>\n",
       "      <th>test_time</th>\n",
       "      <th>test_rmse</th>\n",
       "    </tr>\n",
       "  </thead>\n",
       "  <tbody>\n",
       "    <tr>\n",
       "      <th>2</th>\n",
       "      <td>catboost</td>\n",
       "      <td>8.298799</td>\n",
       "      <td>1847.622224</td>\n",
       "      <td>8.502440</td>\n",
       "      <td>1850.991141</td>\n",
       "    </tr>\n",
       "    <tr>\n",
       "      <th>3</th>\n",
       "      <td>linear_regression</td>\n",
       "      <td>17.424325</td>\n",
       "      <td>1977.424053</td>\n",
       "      <td>16.241190</td>\n",
       "      <td>2042.907807</td>\n",
       "    </tr>\n",
       "    <tr>\n",
       "      <th>1</th>\n",
       "      <td>lightgbm</td>\n",
       "      <td>59.463369</td>\n",
       "      <td>2572.564985</td>\n",
       "      <td>43.793672</td>\n",
       "      <td>2544.893756</td>\n",
       "    </tr>\n",
       "    <tr>\n",
       "      <th>0</th>\n",
       "      <td>forest</td>\n",
       "      <td>42.745433</td>\n",
       "      <td>2887.389047</td>\n",
       "      <td>42.889614</td>\n",
       "      <td>2884.597171</td>\n",
       "    </tr>\n",
       "  </tbody>\n",
       "</table>\n",
       "</div>"
      ],
      "text/plain": [
       "               model  train_time   train_rmse  test_time    test_rmse\n",
       "2           catboost    8.298799  1847.622224   8.502440  1850.991141\n",
       "3  linear_regression   17.424325  1977.424053  16.241190  2042.907807\n",
       "1           lightgbm   59.463369  2572.564985  43.793672  2544.893756\n",
       "0             forest   42.745433  2887.389047  42.889614  2884.597171"
      ]
     },
     "execution_count": 85,
     "metadata": {},
     "output_type": "execute_result"
    }
   ],
   "source": [
    "df_result.sort_values(by='test_rmse')"
   ]
  },
  {
   "cell_type": "markdown",
   "metadata": {},
   "source": [
    "### Выводы\n",
    "В результате анализа установили, что модель на основе `CatBoost` имеет лучшую скорость и лучшую метрику как на тренировочной, так и на тестовой выборке. Далее в порядке убывания метрики расположились - `LinearRegression`, `LightGBM` и `RandomForest`.\n",
    "Линейная регрессия обошла алгоритм LightGBM по скорости и по точности, но вероятно для датасетов с большим к-вом признаков линейная регрессия проиграет по времени. Кроме того, метрики качества на тренировочной и тестовой выборке у моделей отличаются незначительно (кроме регрессии) - следовательно переобучения не произошло."
   ]
  },
  {
   "cell_type": "markdown",
   "metadata": {},
   "source": [
    "## Общие выводы\n",
    "- В ходе работы провели анализ исходных данных - обпределили и удалили дубликаты и незначащие признаки. Удалили явные выбросы и проверили признаки на мультиколлинеарность\n",
    "- Обучили модели (`RandomForestRegressor`, `LGBMRegressor`, `CatBoostRegressor`, `LinearRegression`). Для некоторых пришлось заполнить пропуски (так как не все модели работают с пропусками), преобразовать категориальные данные для работы моделей (не все модели могут работать с пропусками)\n",
    "- Выполнили решётчатые поиск оптимального параметра `max_depth` для не-регрессий. Для сокращения времени выполнения ограничились к-вом деревьев 10 и глубиной 5,7,9\n",
    "- Провели анализ работы моделей:\n",
    "    - Оценили время работы моделей с лучшими параметрами\n",
    "    - Оценили время обучения лучших моделей на тренировочной и тестовой выборках\n",
    "    - Оценили качество обучения метрикой *RMSE* на тренировочной и тестовой выборках\n",
    "    \n",
    "По результатам анализа можно рекомендовать использовать модель на основе `CatBoostRegressor` как наилучшую из выбранных как по метрике *RMSE*, так и по времени обучения.\n",
    "\n"
   ]
  }
 ],
 "metadata": {
  "ExecuteTimeLog": [
   {
    "duration": 777,
    "start_time": "2022-03-10T07:18:21.838Z"
   },
   {
    "duration": 2672,
    "start_time": "2022-03-10T07:18:55.049Z"
   },
   {
    "duration": 1189,
    "start_time": "2022-03-10T07:19:00.771Z"
   },
   {
    "duration": 160,
    "start_time": "2022-03-10T07:19:05.842Z"
   },
   {
    "duration": 29,
    "start_time": "2022-03-10T07:19:26.755Z"
   },
   {
    "duration": 7,
    "start_time": "2022-03-10T07:24:18.239Z"
   },
   {
    "duration": 30,
    "start_time": "2022-03-10T07:24:45.817Z"
   },
   {
    "duration": 32,
    "start_time": "2022-03-10T07:25:00.233Z"
   },
   {
    "duration": 58,
    "start_time": "2022-03-10T07:25:20.462Z"
   },
   {
    "duration": 44,
    "start_time": "2022-03-10T07:31:36.484Z"
   },
   {
    "duration": 104587,
    "start_time": "2022-03-10T07:30:50.599Z"
   },
   {
    "duration": 61,
    "start_time": "2022-03-10T07:32:39.131Z"
   },
   {
    "duration": 164,
    "start_time": "2022-03-10T07:34:46.121Z"
   },
   {
    "duration": 155,
    "start_time": "2022-03-10T07:35:05.278Z"
   },
   {
    "duration": 2287,
    "start_time": "2022-03-10T07:35:18.481Z"
   },
   {
    "duration": 143,
    "start_time": "2022-03-10T07:35:31.572Z"
   },
   {
    "duration": 138,
    "start_time": "2022-03-10T07:35:47.663Z"
   },
   {
    "duration": 143,
    "start_time": "2022-03-10T07:36:10.860Z"
   },
   {
    "duration": 151,
    "start_time": "2022-03-10T07:36:17.942Z"
   },
   {
    "duration": 140,
    "start_time": "2022-03-10T07:36:21.725Z"
   },
   {
    "duration": 44,
    "start_time": "2022-03-10T07:38:39.723Z"
   },
   {
    "duration": 148,
    "start_time": "2022-03-10T07:39:24.385Z"
   },
   {
    "duration": 7,
    "start_time": "2022-03-10T07:40:02.663Z"
   },
   {
    "duration": 6,
    "start_time": "2022-03-10T07:40:11.140Z"
   },
   {
    "duration": 879,
    "start_time": "2022-03-10T07:40:20.279Z"
   },
   {
    "duration": 8,
    "start_time": "2022-03-10T07:40:24.316Z"
   },
   {
    "duration": 577,
    "start_time": "2022-03-10T07:40:49.934Z"
   },
   {
    "duration": 478,
    "start_time": "2022-03-10T07:40:57.357Z"
   },
   {
    "duration": 257,
    "start_time": "2022-03-10T07:41:02.353Z"
   },
   {
    "duration": 149,
    "start_time": "2022-03-10T07:41:08.930Z"
   },
   {
    "duration": 143,
    "start_time": "2022-03-10T07:41:13.728Z"
   },
   {
    "duration": 144,
    "start_time": "2022-03-10T07:41:30.653Z"
   },
   {
    "duration": 146,
    "start_time": "2022-03-10T07:41:40.834Z"
   },
   {
    "duration": 145,
    "start_time": "2022-03-10T07:41:53.972Z"
   },
   {
    "duration": 152,
    "start_time": "2022-03-10T07:42:03.188Z"
   },
   {
    "duration": 347,
    "start_time": "2022-03-10T07:42:26.301Z"
   },
   {
    "duration": 135,
    "start_time": "2022-03-10T07:42:31.426Z"
   },
   {
    "duration": 5,
    "start_time": "2022-03-10T07:43:00.061Z"
   },
   {
    "duration": 9,
    "start_time": "2022-03-10T07:43:04.646Z"
   },
   {
    "duration": 1180,
    "start_time": "2022-03-10T07:43:09.183Z"
   },
   {
    "duration": 9,
    "start_time": "2022-03-10T07:43:14.732Z"
   },
   {
    "duration": 51,
    "start_time": "2022-03-10T07:43:22.694Z"
   },
   {
    "duration": 543,
    "start_time": "2022-03-10T07:43:46.464Z"
   },
   {
    "duration": 132,
    "start_time": "2022-03-10T07:45:11.098Z"
   },
   {
    "duration": 316,
    "start_time": "2022-03-10T07:45:15.256Z"
   },
   {
    "duration": 355,
    "start_time": "2022-03-10T07:45:29.391Z"
   },
   {
    "duration": 572,
    "start_time": "2022-03-10T07:45:31.247Z"
   },
   {
    "duration": 28,
    "start_time": "2022-03-10T07:45:51.375Z"
   },
   {
    "duration": 17,
    "start_time": "2022-03-10T07:46:11.632Z"
   },
   {
    "duration": 334,
    "start_time": "2022-03-10T07:46:22.377Z"
   },
   {
    "duration": 4,
    "start_time": "2022-03-10T07:46:34.520Z"
   },
   {
    "duration": 16,
    "start_time": "2022-03-10T07:46:39.678Z"
   },
   {
    "duration": 554,
    "start_time": "2022-03-10T07:47:05.508Z"
   },
   {
    "duration": 667,
    "start_time": "2022-03-10T07:47:17.684Z"
   },
   {
    "duration": 3,
    "start_time": "2022-03-10T07:47:34.527Z"
   },
   {
    "duration": 2058,
    "start_time": "2022-03-10T07:47:36.809Z"
   },
   {
    "duration": 768,
    "start_time": "2022-03-10T07:48:30.227Z"
   },
   {
    "duration": 652,
    "start_time": "2022-03-10T07:49:36.321Z"
   },
   {
    "duration": 1452,
    "start_time": "2022-03-10T07:52:56.883Z"
   },
   {
    "duration": 1386,
    "start_time": "2022-03-10T07:53:14.460Z"
   },
   {
    "duration": 1819,
    "start_time": "2022-03-10T07:53:20.716Z"
   },
   {
    "duration": 1929,
    "start_time": "2022-03-10T07:53:31.664Z"
   },
   {
    "duration": 347,
    "start_time": "2022-03-10T07:55:29.311Z"
   },
   {
    "duration": 2171,
    "start_time": "2022-03-10T07:55:41.864Z"
   },
   {
    "duration": 45,
    "start_time": "2022-03-10T07:55:53.632Z"
   },
   {
    "duration": 66,
    "start_time": "2022-03-10T07:57:28.312Z"
   },
   {
    "duration": 14,
    "start_time": "2022-03-10T07:58:26.314Z"
   },
   {
    "duration": 498,
    "start_time": "2022-03-10T08:00:01.307Z"
   },
   {
    "duration": 165,
    "start_time": "2022-03-10T08:00:08.404Z"
   },
   {
    "duration": 150,
    "start_time": "2022-03-10T08:01:59.848Z"
   },
   {
    "duration": 329,
    "start_time": "2022-03-10T08:02:21.740Z"
   },
   {
    "duration": 340,
    "start_time": "2022-03-10T08:02:30.834Z"
   },
   {
    "duration": 114,
    "start_time": "2022-03-10T08:02:51.408Z"
   },
   {
    "duration": 330,
    "start_time": "2022-03-10T08:02:55.087Z"
   },
   {
    "duration": 594,
    "start_time": "2022-03-10T08:03:51.558Z"
   },
   {
    "duration": 588,
    "start_time": "2022-03-10T08:04:04.598Z"
   },
   {
    "duration": 9135,
    "start_time": "2022-03-10T08:04:26.304Z"
   },
   {
    "duration": 1010,
    "start_time": "2022-03-10T08:05:08.668Z"
   },
   {
    "duration": 1044,
    "start_time": "2022-03-10T08:05:18.538Z"
   },
   {
    "duration": 13506,
    "start_time": "2022-03-10T08:06:14.989Z"
   },
   {
    "duration": 440,
    "start_time": "2022-03-10T08:12:01.939Z"
   },
   {
    "duration": 811,
    "start_time": "2022-03-10T08:12:07.086Z"
   },
   {
    "duration": 596,
    "start_time": "2022-03-10T08:12:13.365Z"
   },
   {
    "duration": 393,
    "start_time": "2022-03-10T08:13:21.586Z"
   },
   {
    "duration": 1645,
    "start_time": "2022-03-10T08:13:28.814Z"
   },
   {
    "duration": 70,
    "start_time": "2022-03-10T08:14:33.616Z"
   },
   {
    "duration": 39,
    "start_time": "2022-03-10T08:15:37.641Z"
   },
   {
    "duration": 107,
    "start_time": "2022-03-10T08:16:11.124Z"
   },
   {
    "duration": 417,
    "start_time": "2022-03-10T08:16:14.422Z"
   },
   {
    "duration": 67,
    "start_time": "2022-03-10T08:16:40.251Z"
   },
   {
    "duration": 361,
    "start_time": "2022-03-10T08:17:05.461Z"
   },
   {
    "duration": 55,
    "start_time": "2022-03-10T08:17:16.555Z"
   },
   {
    "duration": 17,
    "start_time": "2022-03-10T08:18:09.910Z"
   },
   {
    "duration": 11,
    "start_time": "2022-03-10T08:18:21.093Z"
   },
   {
    "duration": 10,
    "start_time": "2022-03-10T08:18:25.004Z"
   },
   {
    "duration": 256,
    "start_time": "2022-03-10T08:18:28.455Z"
   },
   {
    "duration": 10,
    "start_time": "2022-03-10T08:18:32.241Z"
   },
   {
    "duration": 377,
    "start_time": "2022-03-10T08:19:28.465Z"
   },
   {
    "duration": 702,
    "start_time": "2022-03-10T08:19:40.837Z"
   },
   {
    "duration": 108731,
    "start_time": "2022-03-10T08:20:36.413Z"
   },
   {
    "duration": 376,
    "start_time": "2022-03-10T08:22:40.383Z"
   },
   {
    "duration": 342,
    "start_time": "2022-03-10T08:23:24.520Z"
   },
   {
    "duration": 388,
    "start_time": "2022-03-10T08:23:28.094Z"
   },
   {
    "duration": 7,
    "start_time": "2022-03-10T08:23:40.133Z"
   },
   {
    "duration": 419,
    "start_time": "2022-03-10T08:23:49.411Z"
   },
   {
    "duration": 2240,
    "start_time": "2022-03-10T08:24:15.470Z"
   },
   {
    "duration": 359,
    "start_time": "2022-03-10T08:24:25.818Z"
   },
   {
    "duration": 443,
    "start_time": "2022-03-10T08:25:05.746Z"
   },
   {
    "duration": 1957,
    "start_time": "2022-03-10T08:25:20.992Z"
   },
   {
    "duration": 306,
    "start_time": "2022-03-10T08:25:35.935Z"
   },
   {
    "duration": 38,
    "start_time": "2022-03-10T08:26:06.384Z"
   },
   {
    "duration": 1093,
    "start_time": "2022-03-10T18:17:23.183Z"
   },
   {
    "duration": 745,
    "start_time": "2022-03-10T18:17:39.777Z"
   },
   {
    "duration": 116,
    "start_time": "2022-03-10T18:17:55.225Z"
   },
   {
    "duration": 15,
    "start_time": "2022-03-10T18:20:25.278Z"
   },
   {
    "duration": 116,
    "start_time": "2022-03-10T18:23:30.615Z"
   },
   {
    "duration": 382,
    "start_time": "2022-03-10T18:24:53.425Z"
   },
   {
    "duration": 110,
    "start_time": "2022-03-10T18:24:58.144Z"
   },
   {
    "duration": 271,
    "start_time": "2022-03-10T18:25:43.228Z"
   },
   {
    "duration": 116,
    "start_time": "2022-03-10T18:25:51.486Z"
   },
   {
    "duration": 281,
    "start_time": "2022-03-10T18:26:17.204Z"
   },
   {
    "duration": 286,
    "start_time": "2022-03-10T18:26:41.758Z"
   },
   {
    "duration": 292,
    "start_time": "2022-03-10T18:27:09.019Z"
   },
   {
    "duration": 117,
    "start_time": "2022-03-10T18:27:22.133Z"
   },
   {
    "duration": 138,
    "start_time": "2022-03-10T18:27:30.049Z"
   },
   {
    "duration": 4,
    "start_time": "2022-03-10T18:27:36.213Z"
   },
   {
    "duration": 116,
    "start_time": "2022-03-10T18:29:31.963Z"
   },
   {
    "duration": 112,
    "start_time": "2022-03-10T18:29:50.152Z"
   },
   {
    "duration": 118,
    "start_time": "2022-03-10T18:30:01.972Z"
   },
   {
    "duration": 110,
    "start_time": "2022-03-10T18:34:47.044Z"
   },
   {
    "duration": 34,
    "start_time": "2022-03-10T18:38:46.191Z"
   },
   {
    "duration": 34,
    "start_time": "2022-03-10T18:39:51.707Z"
   },
   {
    "duration": 31,
    "start_time": "2022-03-10T18:39:59.417Z"
   },
   {
    "duration": 42,
    "start_time": "2022-03-10T18:40:49.213Z"
   },
   {
    "duration": 442,
    "start_time": "2022-03-10T18:41:52.050Z"
   },
   {
    "duration": 54,
    "start_time": "2022-03-10T18:42:13.487Z"
   },
   {
    "duration": 240,
    "start_time": "2022-03-10T18:42:37.681Z"
   },
   {
    "duration": 56,
    "start_time": "2022-03-10T18:42:44.291Z"
   },
   {
    "duration": 198,
    "start_time": "2022-03-10T18:42:47.108Z"
   },
   {
    "duration": 42,
    "start_time": "2022-03-10T18:42:55.950Z"
   },
   {
    "duration": 117,
    "start_time": "2022-03-10T18:43:03.611Z"
   },
   {
    "duration": 122,
    "start_time": "2022-03-10T18:43:07.820Z"
   },
   {
    "duration": 64,
    "start_time": "2022-03-10T18:43:57.532Z"
   },
   {
    "duration": 52,
    "start_time": "2022-03-10T18:43:58.496Z"
   },
   {
    "duration": 122,
    "start_time": "2022-03-10T18:43:59.714Z"
   },
   {
    "duration": 746,
    "start_time": "2022-03-10T18:44:46.487Z"
   },
   {
    "duration": 34,
    "start_time": "2022-03-10T18:44:50.677Z"
   },
   {
    "duration": 42,
    "start_time": "2022-03-10T18:44:51.266Z"
   },
   {
    "duration": 142,
    "start_time": "2022-03-10T18:44:51.783Z"
   },
   {
    "duration": 116,
    "start_time": "2022-03-10T18:44:55.980Z"
   },
   {
    "duration": 736,
    "start_time": "2022-03-10T18:45:06.211Z"
   },
   {
    "duration": 21,
    "start_time": "2022-03-10T18:45:16.241Z"
   },
   {
    "duration": 31,
    "start_time": "2022-03-10T18:45:16.886Z"
   },
   {
    "duration": 116,
    "start_time": "2022-03-10T18:45:17.460Z"
   },
   {
    "duration": 116,
    "start_time": "2022-03-10T18:45:20.502Z"
   },
   {
    "duration": 715,
    "start_time": "2022-03-10T18:45:26.734Z"
   },
   {
    "duration": 119,
    "start_time": "2022-03-10T18:46:24.524Z"
   },
   {
    "duration": 739,
    "start_time": "2022-03-10T18:46:27.734Z"
   },
   {
    "duration": 117,
    "start_time": "2022-03-10T18:46:29.059Z"
   },
   {
    "duration": 61,
    "start_time": "2022-03-10T18:46:52.004Z"
   },
   {
    "duration": 43,
    "start_time": "2022-03-10T18:46:54.907Z"
   },
   {
    "duration": 39,
    "start_time": "2022-03-10T18:46:55.555Z"
   },
   {
    "duration": 115,
    "start_time": "2022-03-10T18:46:57.976Z"
   },
   {
    "duration": 115,
    "start_time": "2022-03-10T18:47:00.595Z"
   },
   {
    "duration": 485,
    "start_time": "2022-03-10T18:49:01.802Z"
   },
   {
    "duration": 495,
    "start_time": "2022-03-10T18:49:08.008Z"
   },
   {
    "duration": 384,
    "start_time": "2022-03-10T18:49:14.261Z"
   },
   {
    "duration": 14,
    "start_time": "2022-03-10T18:49:18.649Z"
   },
   {
    "duration": 116,
    "start_time": "2022-03-10T18:49:28.989Z"
   },
   {
    "duration": 131,
    "start_time": "2022-03-10T18:49:45.155Z"
   },
   {
    "duration": 32,
    "start_time": "2022-03-10T18:50:34.703Z"
   },
   {
    "duration": 56,
    "start_time": "2022-03-10T18:52:56.541Z"
   },
   {
    "duration": 201,
    "start_time": "2022-03-10T18:54:25.104Z"
   },
   {
    "duration": 4,
    "start_time": "2022-03-10T18:55:09.090Z"
   },
   {
    "duration": 183,
    "start_time": "2022-03-10T18:56:16.792Z"
   },
   {
    "duration": 3,
    "start_time": "2022-03-10T18:56:22.663Z"
   },
   {
    "duration": 178,
    "start_time": "2022-03-10T18:56:47.853Z"
   },
   {
    "duration": 186,
    "start_time": "2022-03-10T18:57:05.928Z"
   },
   {
    "duration": 180,
    "start_time": "2022-03-10T18:57:42.164Z"
   },
   {
    "duration": 166,
    "start_time": "2022-03-10T18:57:51.675Z"
   },
   {
    "duration": 5,
    "start_time": "2022-03-10T18:57:59.748Z"
   },
   {
    "duration": 3,
    "start_time": "2022-03-10T18:59:34.637Z"
   },
   {
    "duration": 190,
    "start_time": "2022-03-10T18:59:37.204Z"
   },
   {
    "duration": 26,
    "start_time": "2022-03-10T18:59:50.971Z"
   },
   {
    "duration": 3,
    "start_time": "2022-03-10T18:59:58.005Z"
   },
   {
    "duration": 3188,
    "start_time": "2022-03-10T18:59:59.196Z"
   },
   {
    "duration": 3154,
    "start_time": "2022-03-10T19:00:06.665Z"
   },
   {
    "duration": 3166,
    "start_time": "2022-03-10T19:00:18.473Z"
   },
   {
    "duration": 4,
    "start_time": "2022-03-10T19:00:25.574Z"
   },
   {
    "duration": 8,
    "start_time": "2022-03-10T19:00:38.826Z"
   },
   {
    "duration": 1199,
    "start_time": "2022-03-10T19:00:59.379Z"
   },
   {
    "duration": 185,
    "start_time": "2022-03-10T19:01:07.989Z"
   },
   {
    "duration": 178,
    "start_time": "2022-03-10T19:01:25.402Z"
   },
   {
    "duration": 3,
    "start_time": "2022-03-10T19:01:40.001Z"
   },
   {
    "duration": 188,
    "start_time": "2022-03-10T19:01:45.966Z"
   },
   {
    "duration": 33,
    "start_time": "2022-03-10T19:01:51.702Z"
   },
   {
    "duration": 416,
    "start_time": "2022-03-11T06:33:52.817Z"
   },
   {
    "duration": 1113,
    "start_time": "2022-03-11T06:34:00.204Z"
   },
   {
    "duration": 711,
    "start_time": "2022-03-11T06:34:01.319Z"
   },
   {
    "duration": 113,
    "start_time": "2022-03-11T06:34:02.032Z"
   },
   {
    "duration": 14,
    "start_time": "2022-03-11T06:34:02.146Z"
   },
   {
    "duration": 383,
    "start_time": "2022-03-11T06:34:02.162Z"
   },
   {
    "duration": 455,
    "start_time": "2022-03-11T06:34:02.547Z"
   },
   {
    "duration": 117,
    "start_time": "2022-03-11T06:34:03.003Z"
   },
   {
    "duration": 31,
    "start_time": "2022-03-11T06:34:03.122Z"
   },
   {
    "duration": 3,
    "start_time": "2022-03-11T06:34:03.155Z"
   },
   {
    "duration": 3359,
    "start_time": "2022-03-11T06:34:03.160Z"
   },
   {
    "duration": 112,
    "start_time": "2022-03-11T06:34:06.521Z"
   },
   {
    "duration": 97323,
    "start_time": "2022-03-11T06:32:29.312Z"
   },
   {
    "duration": 3,
    "start_time": "2022-03-11T06:34:10.834Z"
   },
   {
    "duration": 367,
    "start_time": "2022-03-11T06:34:11.387Z"
   },
   {
    "duration": 31,
    "start_time": "2022-03-11T06:34:20.263Z"
   },
   {
    "duration": 34,
    "start_time": "2022-03-11T06:34:23.651Z"
   },
   {
    "duration": 108,
    "start_time": "2022-03-11T06:36:55.712Z"
   },
   {
    "duration": 114,
    "start_time": "2022-03-11T06:37:09.814Z"
   },
   {
    "duration": 107,
    "start_time": "2022-03-11T06:37:15.658Z"
   },
   {
    "duration": 113,
    "start_time": "2022-03-11T06:38:13.154Z"
   },
   {
    "duration": 31,
    "start_time": "2022-03-11T06:40:34.649Z"
   },
   {
    "duration": 31,
    "start_time": "2022-03-11T06:41:07.740Z"
   },
   {
    "duration": 41,
    "start_time": "2022-03-11T06:44:07.314Z"
   },
   {
    "duration": 53,
    "start_time": "2022-03-11T07:53:15.979Z"
   },
   {
    "duration": 435,
    "start_time": "2022-03-11T07:53:35.633Z"
   },
   {
    "duration": 313,
    "start_time": "2022-03-11T07:54:16.292Z"
   },
   {
    "duration": 183,
    "start_time": "2022-03-11T07:54:34.510Z"
   },
   {
    "duration": 26,
    "start_time": "2022-03-11T07:54:40.010Z"
   },
   {
    "duration": 29,
    "start_time": "2022-03-11T07:55:00.021Z"
   },
   {
    "duration": 39,
    "start_time": "2022-03-11T07:55:20.620Z"
   },
   {
    "duration": 39,
    "start_time": "2022-03-11T07:56:02.927Z"
   },
   {
    "duration": 117,
    "start_time": "2022-03-11T07:57:06.657Z"
   },
   {
    "duration": 32,
    "start_time": "2022-03-11T07:57:09.130Z"
   },
   {
    "duration": 103644,
    "start_time": "2022-03-11T07:56:38.532Z"
   },
   {
    "duration": 33,
    "start_time": "2022-03-11T07:58:32.170Z"
   },
   {
    "duration": 351,
    "start_time": "2022-03-11T07:59:03.860Z"
   },
   {
    "duration": 93,
    "start_time": "2022-03-11T07:59:22.155Z"
   },
   {
    "duration": 28,
    "start_time": "2022-03-11T07:59:26.579Z"
   },
   {
    "duration": 33,
    "start_time": "2022-03-11T08:00:39.672Z"
   },
   {
    "duration": 29,
    "start_time": "2022-03-11T08:00:39.847Z"
   },
   {
    "duration": 42,
    "start_time": "2022-03-11T08:01:06.672Z"
   },
   {
    "duration": 7901,
    "start_time": "2022-03-11T08:02:09.052Z"
   },
   {
    "duration": 34,
    "start_time": "2022-03-11T08:02:24.247Z"
   },
   {
    "duration": 1093,
    "start_time": "2022-03-11T18:45:11.698Z"
   },
   {
    "duration": 669,
    "start_time": "2022-03-11T18:45:12.793Z"
   },
   {
    "duration": 112,
    "start_time": "2022-03-11T18:45:13.464Z"
   },
   {
    "duration": 14,
    "start_time": "2022-03-11T18:45:13.577Z"
   },
   {
    "duration": 353,
    "start_time": "2022-03-11T18:45:13.601Z"
   },
   {
    "duration": 445,
    "start_time": "2022-03-11T18:45:13.956Z"
   },
   {
    "duration": 123,
    "start_time": "2022-03-11T18:45:14.403Z"
   },
   {
    "duration": 115,
    "start_time": "2022-03-11T18:45:14.528Z"
   },
   {
    "duration": 30,
    "start_time": "2022-03-11T18:45:14.646Z"
   },
   {
    "duration": 3,
    "start_time": "2022-03-11T18:45:14.677Z"
   },
   {
    "duration": 379,
    "start_time": "2022-03-11T18:45:38.378Z"
   },
   {
    "duration": 324,
    "start_time": "2022-03-11T18:46:20.361Z"
   },
   {
    "duration": 306,
    "start_time": "2022-03-11T18:46:31.208Z"
   },
   {
    "duration": 319,
    "start_time": "2022-03-11T18:46:35.458Z"
   },
   {
    "duration": 7920,
    "start_time": "2022-03-11T18:48:32.468Z"
   },
   {
    "duration": 333,
    "start_time": "2022-03-11T18:48:44.864Z"
   },
   {
    "duration": 1160,
    "start_time": "2022-03-11T18:48:55.372Z"
   },
   {
    "duration": 3,
    "start_time": "2022-03-11T18:49:25.856Z"
   },
   {
    "duration": 406,
    "start_time": "2022-03-11T18:49:52.232Z"
   },
   {
    "duration": 722,
    "start_time": "2022-03-11T18:50:01.756Z"
   },
   {
    "duration": 118,
    "start_time": "2022-03-11T18:50:10.234Z"
   },
   {
    "duration": 306,
    "start_time": "2022-03-11T18:50:15.362Z"
   },
   {
    "duration": 540,
    "start_time": "2022-03-11T18:50:29.532Z"
   },
   {
    "duration": 309,
    "start_time": "2022-03-11T18:51:10.886Z"
   },
   {
    "duration": 2,
    "start_time": "2022-03-11T18:52:09.446Z"
   },
   {
    "duration": 3,
    "start_time": "2022-03-11T18:52:59.552Z"
   },
   {
    "duration": 2806,
    "start_time": "2022-03-11T18:53:22.515Z"
   },
   {
    "duration": 105,
    "start_time": "2022-03-11T18:53:35.079Z"
   },
   {
    "duration": 2848,
    "start_time": "2022-03-11T18:53:43.689Z"
   },
   {
    "duration": 4,
    "start_time": "2022-03-11T18:53:54.250Z"
   },
   {
    "duration": 331,
    "start_time": "2022-03-11T18:53:54.398Z"
   },
   {
    "duration": 299,
    "start_time": "2022-03-11T18:54:46.118Z"
   },
   {
    "duration": 324,
    "start_time": "2022-03-11T18:54:50.221Z"
   },
   {
    "duration": 11676,
    "start_time": "2022-03-11T18:54:54.715Z"
   },
   {
    "duration": 38528,
    "start_time": "2022-03-11T18:54:27.865Z"
   },
   {
    "duration": 4,
    "start_time": "2022-03-11T18:55:12.093Z"
   },
   {
    "duration": 14769,
    "start_time": "2022-03-11T18:55:22.630Z"
   },
   {
    "duration": 14276,
    "start_time": "2022-03-11T18:55:49.301Z"
   },
   {
    "duration": 21,
    "start_time": "2022-03-11T18:56:17.560Z"
   },
   {
    "duration": 1564,
    "start_time": "2022-03-12T05:24:59.221Z"
   },
   {
    "duration": 28422,
    "start_time": "2022-03-12T05:25:06.283Z"
   },
   {
    "duration": 276,
    "start_time": "2022-03-12T05:25:34.707Z"
   },
   {
    "duration": 14953,
    "start_time": "2022-03-12T05:25:56.290Z"
   },
   {
    "duration": 252,
    "start_time": "2022-03-12T05:26:11.245Z"
   },
   {
    "duration": 35186,
    "start_time": "2022-03-12T05:25:36.313Z"
   },
   {
    "duration": 35181,
    "start_time": "2022-03-12T05:25:36.319Z"
   },
   {
    "duration": 35179,
    "start_time": "2022-03-12T05:25:36.322Z"
   },
   {
    "duration": 35177,
    "start_time": "2022-03-12T05:25:36.325Z"
   },
   {
    "duration": 35172,
    "start_time": "2022-03-12T05:25:36.332Z"
   },
   {
    "duration": 35169,
    "start_time": "2022-03-12T05:25:36.336Z"
   },
   {
    "duration": 285,
    "start_time": "2022-03-12T05:26:13.959Z"
   },
   {
    "duration": 37497,
    "start_time": "2022-03-12T05:27:58.527Z"
   },
   {
    "duration": 94,
    "start_time": "2022-03-12T05:28:53.209Z"
   },
   {
    "duration": 29569,
    "start_time": "2022-03-12T05:28:56.217Z"
   },
   {
    "duration": 631,
    "start_time": "2022-03-12T05:29:31.458Z"
   },
   {
    "duration": 1201,
    "start_time": "2022-03-12T05:29:33.315Z"
   },
   {
    "duration": 838,
    "start_time": "2022-03-12T05:29:37.409Z"
   },
   {
    "duration": 131,
    "start_time": "2022-03-12T05:29:38.789Z"
   },
   {
    "duration": 20,
    "start_time": "2022-03-12T05:29:41.872Z"
   },
   {
    "duration": 452,
    "start_time": "2022-03-12T05:29:44.829Z"
   },
   {
    "duration": 586,
    "start_time": "2022-03-12T05:29:45.572Z"
   },
   {
    "duration": 127,
    "start_time": "2022-03-12T05:29:46.654Z"
   },
   {
    "duration": 125,
    "start_time": "2022-03-12T05:29:49.524Z"
   },
   {
    "duration": 120,
    "start_time": "2022-03-12T05:29:58.683Z"
   },
   {
    "duration": 112,
    "start_time": "2022-03-12T05:31:05.428Z"
   },
   {
    "duration": 1369,
    "start_time": "2022-03-12T05:32:16.997Z"
   },
   {
    "duration": 1404,
    "start_time": "2022-03-12T05:33:11.647Z"
   },
   {
    "duration": 8,
    "start_time": "2022-03-12T05:34:21.580Z"
   },
   {
    "duration": 12,
    "start_time": "2022-03-12T05:36:16.304Z"
   },
   {
    "duration": 12,
    "start_time": "2022-03-12T05:36:31.901Z"
   },
   {
    "duration": 458,
    "start_time": "2022-03-12T05:36:45.481Z"
   },
   {
    "duration": 11,
    "start_time": "2022-03-12T05:36:49.656Z"
   },
   {
    "duration": 12,
    "start_time": "2022-03-12T05:37:17.387Z"
   },
   {
    "duration": 1094,
    "start_time": "2022-03-12T05:41:57.218Z"
   },
   {
    "duration": 805,
    "start_time": "2022-03-12T05:42:49.284Z"
   },
   {
    "duration": 6475,
    "start_time": "2022-03-12T05:43:06.450Z"
   },
   {
    "duration": 89,
    "start_time": "2022-03-12T05:43:21.624Z"
   },
   {
    "duration": 6458,
    "start_time": "2022-03-12T05:43:28.964Z"
   },
   {
    "duration": 261,
    "start_time": "2022-03-12T05:43:47.942Z"
   },
   {
    "duration": 653,
    "start_time": "2022-03-12T05:43:54.715Z"
   },
   {
    "duration": 253,
    "start_time": "2022-03-12T05:44:22.522Z"
   },
   {
    "duration": 339,
    "start_time": "2022-03-12T05:44:26.520Z"
   },
   {
    "duration": 187,
    "start_time": "2022-03-12T05:44:47.610Z"
   },
   {
    "duration": 235,
    "start_time": "2022-03-12T05:45:16.238Z"
   },
   {
    "duration": 8,
    "start_time": "2022-03-12T05:50:20.919Z"
   },
   {
    "duration": 9,
    "start_time": "2022-03-12T05:55:43.068Z"
   },
   {
    "duration": 9,
    "start_time": "2022-03-12T05:56:10.585Z"
   },
   {
    "duration": 25,
    "start_time": "2022-03-12T05:56:35.773Z"
   },
   {
    "duration": 23,
    "start_time": "2022-03-12T05:56:56.883Z"
   },
   {
    "duration": 98,
    "start_time": "2022-03-12T05:57:54.043Z"
   },
   {
    "duration": 23,
    "start_time": "2022-03-12T05:58:02.438Z"
   },
   {
    "duration": 5,
    "start_time": "2022-03-12T05:58:12.949Z"
   },
   {
    "duration": 5,
    "start_time": "2022-03-12T05:58:18.080Z"
   },
   {
    "duration": 122,
    "start_time": "2022-03-12T05:58:51.356Z"
   },
   {
    "duration": 32,
    "start_time": "2022-03-12T06:03:16.588Z"
   },
   {
    "duration": 86,
    "start_time": "2022-03-12T06:03:38.642Z"
   },
   {
    "duration": 24,
    "start_time": "2022-03-12T06:03:41.725Z"
   },
   {
    "duration": 314,
    "start_time": "2022-03-12T06:04:30.090Z"
   },
   {
    "duration": 297,
    "start_time": "2022-03-12T06:04:38.525Z"
   },
   {
    "duration": 5,
    "start_time": "2022-03-12T06:05:37.087Z"
   },
   {
    "duration": 5,
    "start_time": "2022-03-12T06:05:45.440Z"
   },
   {
    "duration": 6,
    "start_time": "2022-03-12T06:05:48.310Z"
   },
   {
    "duration": 6,
    "start_time": "2022-03-12T06:05:52.101Z"
   },
   {
    "duration": 6,
    "start_time": "2022-03-12T06:05:56.318Z"
   },
   {
    "duration": 32,
    "start_time": "2022-03-12T06:06:43.940Z"
   },
   {
    "duration": 275,
    "start_time": "2022-03-12T06:07:12.405Z"
   },
   {
    "duration": 282,
    "start_time": "2022-03-12T06:07:20.511Z"
   },
   {
    "duration": 35,
    "start_time": "2022-03-12T06:07:38.158Z"
   },
   {
    "duration": 339,
    "start_time": "2022-03-12T06:08:20.992Z"
   },
   {
    "duration": 279,
    "start_time": "2022-03-12T06:08:30.932Z"
   },
   {
    "duration": 33,
    "start_time": "2022-03-12T06:08:38.502Z"
   },
   {
    "duration": 30,
    "start_time": "2022-03-12T06:10:19.804Z"
   },
   {
    "duration": 5,
    "start_time": "2022-03-12T06:12:18.469Z"
   },
   {
    "duration": 5,
    "start_time": "2022-03-12T06:12:36.397Z"
   },
   {
    "duration": 21,
    "start_time": "2022-03-12T06:13:31.747Z"
   },
   {
    "duration": 128,
    "start_time": "2022-03-12T06:13:37.177Z"
   },
   {
    "duration": 343,
    "start_time": "2022-03-12T06:15:27.826Z"
   },
   {
    "duration": 80,
    "start_time": "2022-03-12T06:15:59.395Z"
   },
   {
    "duration": 6,
    "start_time": "2022-03-12T06:16:14.640Z"
   },
   {
    "duration": 74,
    "start_time": "2022-03-12T06:16:20.200Z"
   },
   {
    "duration": 6,
    "start_time": "2022-03-12T06:16:22.517Z"
   },
   {
    "duration": 7,
    "start_time": "2022-03-12T06:16:29.207Z"
   },
   {
    "duration": 28,
    "start_time": "2022-03-12T06:16:43.296Z"
   },
   {
    "duration": 73,
    "start_time": "2022-03-12T06:16:58.466Z"
   },
   {
    "duration": 5,
    "start_time": "2022-03-12T06:16:59.101Z"
   },
   {
    "duration": 123,
    "start_time": "2022-03-12T06:17:01.038Z"
   },
   {
    "duration": 119,
    "start_time": "2022-03-12T06:17:24.637Z"
   },
   {
    "duration": 126,
    "start_time": "2022-03-12T06:17:51.605Z"
   },
   {
    "duration": 307,
    "start_time": "2022-03-12T06:18:08.817Z"
   },
   {
    "duration": 259,
    "start_time": "2022-03-12T06:18:18.625Z"
   },
   {
    "duration": 19,
    "start_time": "2022-03-12T06:18:26.823Z"
   },
   {
    "duration": 5,
    "start_time": "2022-03-12T06:18:55.525Z"
   },
   {
    "duration": 5,
    "start_time": "2022-03-12T06:18:59.424Z"
   },
   {
    "duration": 5,
    "start_time": "2022-03-12T06:19:13.865Z"
   },
   {
    "duration": 5,
    "start_time": "2022-03-12T06:19:18.684Z"
   },
   {
    "duration": 5,
    "start_time": "2022-03-12T06:19:24.515Z"
   },
   {
    "duration": 5,
    "start_time": "2022-03-12T06:19:26.881Z"
   },
   {
    "duration": 94,
    "start_time": "2022-03-12T06:19:31.494Z"
   },
   {
    "duration": 6,
    "start_time": "2022-03-12T06:19:34.534Z"
   },
   {
    "duration": 6,
    "start_time": "2022-03-12T06:19:38.019Z"
   },
   {
    "duration": 5,
    "start_time": "2022-03-12T06:19:41.464Z"
   },
   {
    "duration": 6,
    "start_time": "2022-03-12T06:19:43.555Z"
   },
   {
    "duration": 6,
    "start_time": "2022-03-12T06:19:45.784Z"
   },
   {
    "duration": 5,
    "start_time": "2022-03-12T06:19:48.714Z"
   },
   {
    "duration": 546,
    "start_time": "2022-03-12T06:20:26.064Z"
   },
   {
    "duration": 1043,
    "start_time": "2022-03-12T06:21:07.532Z"
   },
   {
    "duration": 1611,
    "start_time": "2022-03-12T06:21:12.451Z"
   },
   {
    "duration": 280,
    "start_time": "2022-03-12T06:21:24.136Z"
   },
   {
    "duration": 278,
    "start_time": "2022-03-12T06:22:36.214Z"
   },
   {
    "duration": 276,
    "start_time": "2022-03-12T06:22:41.684Z"
   },
   {
    "duration": 5,
    "start_time": "2022-03-12T06:23:13.013Z"
   },
   {
    "duration": 30,
    "start_time": "2022-03-12T06:23:50.171Z"
   },
   {
    "duration": 63,
    "start_time": "2022-03-12T06:24:02.604Z"
   },
   {
    "duration": 6,
    "start_time": "2022-03-12T06:24:04.080Z"
   },
   {
    "duration": 126,
    "start_time": "2022-03-12T06:24:06.064Z"
   },
   {
    "duration": 123,
    "start_time": "2022-03-12T06:24:08.933Z"
   },
   {
    "duration": 17,
    "start_time": "2022-03-12T06:24:12.064Z"
   },
   {
    "duration": 19,
    "start_time": "2022-03-12T06:24:24.417Z"
   },
   {
    "duration": 59,
    "start_time": "2022-03-12T06:24:39.912Z"
   },
   {
    "duration": 60,
    "start_time": "2022-03-12T06:24:40.368Z"
   },
   {
    "duration": 6,
    "start_time": "2022-03-12T06:24:40.719Z"
   },
   {
    "duration": 117,
    "start_time": "2022-03-12T06:24:41.330Z"
   },
   {
    "duration": 126,
    "start_time": "2022-03-12T06:24:43.950Z"
   },
   {
    "duration": 18,
    "start_time": "2022-03-12T06:24:44.994Z"
   },
   {
    "duration": 8,
    "start_time": "2022-03-12T06:25:18.418Z"
   },
   {
    "duration": 7,
    "start_time": "2022-03-12T06:25:42.247Z"
   },
   {
    "duration": 10,
    "start_time": "2022-03-12T06:25:46.386Z"
   },
   {
    "duration": 10,
    "start_time": "2022-03-12T06:25:52.803Z"
   },
   {
    "duration": 10,
    "start_time": "2022-03-12T06:25:56.290Z"
   },
   {
    "duration": 11,
    "start_time": "2022-03-12T06:26:44.690Z"
   },
   {
    "duration": 11,
    "start_time": "2022-03-12T06:26:49.272Z"
   },
   {
    "duration": 11,
    "start_time": "2022-03-12T06:26:53.459Z"
   },
   {
    "duration": 11,
    "start_time": "2022-03-12T06:26:58.192Z"
   },
   {
    "duration": 11,
    "start_time": "2022-03-12T06:27:00.520Z"
   },
   {
    "duration": 9042,
    "start_time": "2022-03-14T16:24:45.185Z"
   },
   {
    "duration": 1485,
    "start_time": "2022-03-14T16:24:54.230Z"
   },
   {
    "duration": 1032,
    "start_time": "2022-03-14T16:24:55.718Z"
   },
   {
    "duration": 168,
    "start_time": "2022-03-14T16:24:56.753Z"
   },
   {
    "duration": 24,
    "start_time": "2022-03-14T16:24:56.923Z"
   },
   {
    "duration": 602,
    "start_time": "2022-03-14T16:24:56.949Z"
   },
   {
    "duration": 697,
    "start_time": "2022-03-14T16:24:57.553Z"
   },
   {
    "duration": 154,
    "start_time": "2022-03-14T16:25:05.646Z"
   },
   {
    "duration": 152,
    "start_time": "2022-03-14T16:25:12.091Z"
   },
   {
    "duration": 115,
    "start_time": "2022-03-14T16:25:30.208Z"
   },
   {
    "duration": 1953,
    "start_time": "2022-03-14T16:25:37.997Z"
   },
   {
    "duration": 458,
    "start_time": "2022-03-14T16:25:44.727Z"
   },
   {
    "duration": 7,
    "start_time": "2022-03-14T16:26:03.921Z"
   },
   {
    "duration": 57,
    "start_time": "2022-03-14T16:26:55.075Z"
   },
   {
    "duration": 109,
    "start_time": "2022-03-14T16:26:55.696Z"
   },
   {
    "duration": 7,
    "start_time": "2022-03-14T16:26:56.085Z"
   },
   {
    "duration": 149,
    "start_time": "2022-03-14T16:26:56.878Z"
   },
   {
    "duration": 45,
    "start_time": "2022-03-14T16:27:37.505Z"
   },
   {
    "duration": 103,
    "start_time": "2022-03-14T16:27:58.845Z"
   },
   {
    "duration": 20,
    "start_time": "2022-03-14T16:28:08.152Z"
   },
   {
    "duration": 206,
    "start_time": "2022-03-14T16:29:35.134Z"
   },
   {
    "duration": 11,
    "start_time": "2022-03-14T16:31:40.384Z"
   },
   {
    "duration": 10,
    "start_time": "2022-03-14T16:31:49.874Z"
   },
   {
    "duration": 459,
    "start_time": "2022-03-14T16:34:42.301Z"
   },
   {
    "duration": 718,
    "start_time": "2022-03-14T16:34:46.291Z"
   },
   {
    "duration": 48,
    "start_time": "2022-03-14T16:35:35.839Z"
   },
   {
    "duration": 36,
    "start_time": "2022-03-14T16:35:39.826Z"
   },
   {
    "duration": 10,
    "start_time": "2022-03-14T16:35:44.379Z"
   },
   {
    "duration": 10,
    "start_time": "2022-03-14T16:35:48.771Z"
   },
   {
    "duration": 10,
    "start_time": "2022-03-14T16:35:52.635Z"
   },
   {
    "duration": 34,
    "start_time": "2022-03-14T16:37:21.262Z"
   },
   {
    "duration": 27,
    "start_time": "2022-03-14T16:37:38.284Z"
   },
   {
    "duration": 10,
    "start_time": "2022-03-14T16:39:14.125Z"
   },
   {
    "duration": 42,
    "start_time": "2022-03-14T16:39:17.714Z"
   },
   {
    "duration": 284,
    "start_time": "2022-03-14T16:40:36.148Z"
   },
   {
    "duration": 92,
    "start_time": "2022-03-14T16:41:10.044Z"
   },
   {
    "duration": 13,
    "start_time": "2022-03-14T16:41:12.995Z"
   },
   {
    "duration": 13,
    "start_time": "2022-03-14T16:41:35.129Z"
   },
   {
    "duration": 19,
    "start_time": "2022-03-14T16:42:33.211Z"
   },
   {
    "duration": 10,
    "start_time": "2022-03-14T16:42:59.029Z"
   },
   {
    "duration": 400,
    "start_time": "2022-03-14T16:44:22.838Z"
   },
   {
    "duration": 66,
    "start_time": "2022-03-14T16:45:28.032Z"
   },
   {
    "duration": 202,
    "start_time": "2022-03-14T16:45:48.004Z"
   },
   {
    "duration": 9,
    "start_time": "2022-03-14T16:45:57.366Z"
   },
   {
    "duration": 145,
    "start_time": "2022-03-14T16:46:04.295Z"
   },
   {
    "duration": 144,
    "start_time": "2022-03-14T16:46:15.402Z"
   },
   {
    "duration": 133,
    "start_time": "2022-03-14T16:47:28.295Z"
   },
   {
    "duration": 54,
    "start_time": "2022-03-14T16:48:19.171Z"
   },
   {
    "duration": 448,
    "start_time": "2022-03-14T16:50:29.006Z"
   },
   {
    "duration": 483,
    "start_time": "2022-03-14T16:50:35.281Z"
   },
   {
    "duration": 47,
    "start_time": "2022-03-14T16:50:51.100Z"
   },
   {
    "duration": 35,
    "start_time": "2022-03-14T16:50:54.792Z"
   },
   {
    "duration": 37,
    "start_time": "2022-03-14T16:51:27.191Z"
   },
   {
    "duration": 39,
    "start_time": "2022-03-14T16:55:39.123Z"
   },
   {
    "duration": 36,
    "start_time": "2022-03-14T16:55:59.753Z"
   },
   {
    "duration": 367,
    "start_time": "2022-03-14T16:56:54.919Z"
   },
   {
    "duration": 27,
    "start_time": "2022-03-14T16:57:01.214Z"
   },
   {
    "duration": 10,
    "start_time": "2022-03-14T16:57:40.802Z"
   },
   {
    "duration": 11,
    "start_time": "2022-03-14T16:58:13.831Z"
   },
   {
    "duration": 11,
    "start_time": "2022-03-14T16:59:14.393Z"
   },
   {
    "duration": 12,
    "start_time": "2022-03-14T16:59:37.792Z"
   },
   {
    "duration": 100,
    "start_time": "2022-03-14T17:00:17.321Z"
   },
   {
    "duration": 11,
    "start_time": "2022-03-14T17:00:20.710Z"
   },
   {
    "duration": 23,
    "start_time": "2022-03-14T17:01:10.215Z"
   },
   {
    "duration": 146,
    "start_time": "2022-03-14T17:03:57.074Z"
   },
   {
    "duration": 140,
    "start_time": "2022-03-14T17:04:13.323Z"
   },
   {
    "duration": 140,
    "start_time": "2022-03-14T17:04:33.402Z"
   },
   {
    "duration": 371,
    "start_time": "2022-03-14T17:09:14.538Z"
   },
   {
    "duration": 665,
    "start_time": "2022-03-14T17:10:17.512Z"
   },
   {
    "duration": 91,
    "start_time": "2022-03-14T17:17:43.238Z"
   },
   {
    "duration": 103,
    "start_time": "2022-03-14T17:17:46.616Z"
   },
   {
    "duration": 30,
    "start_time": "2022-03-14T17:17:58.234Z"
   },
   {
    "duration": 100,
    "start_time": "2022-03-14T17:18:54.992Z"
   },
   {
    "duration": 44,
    "start_time": "2022-03-14T17:20:08.321Z"
   },
   {
    "duration": 1141,
    "start_time": "2022-03-15T05:40:19.488Z"
   },
   {
    "duration": 813,
    "start_time": "2022-03-15T05:40:22.404Z"
   },
   {
    "duration": 125,
    "start_time": "2022-03-15T05:40:23.219Z"
   },
   {
    "duration": 16,
    "start_time": "2022-03-15T05:40:28.263Z"
   },
   {
    "duration": 431,
    "start_time": "2022-03-15T05:40:31.995Z"
   },
   {
    "duration": 536,
    "start_time": "2022-03-15T05:40:33.343Z"
   },
   {
    "duration": 106,
    "start_time": "2022-03-15T05:40:34.295Z"
   },
   {
    "duration": 1270,
    "start_time": "2022-03-15T05:40:36.706Z"
   },
   {
    "duration": 55,
    "start_time": "2022-03-15T05:40:41.286Z"
   },
   {
    "duration": 254,
    "start_time": "2022-03-15T05:40:42.298Z"
   },
   {
    "duration": 5,
    "start_time": "2022-03-15T05:40:43.563Z"
   },
   {
    "duration": 133,
    "start_time": "2022-03-15T05:40:45.980Z"
   },
   {
    "duration": 553,
    "start_time": "2022-03-15T05:40:47.057Z"
   },
   {
    "duration": 15,
    "start_time": "2022-03-15T05:40:50.963Z"
   },
   {
    "duration": 8,
    "start_time": "2022-03-15T05:40:52.287Z"
   },
   {
    "duration": 79,
    "start_time": "2022-03-15T05:40:53.402Z"
   },
   {
    "duration": 9,
    "start_time": "2022-03-15T05:40:54.508Z"
   },
   {
    "duration": 14,
    "start_time": "2022-03-15T05:40:57.136Z"
   },
   {
    "duration": 76,
    "start_time": "2022-03-15T05:40:59.067Z"
   },
   {
    "duration": 279,
    "start_time": "2022-03-15T05:41:02.912Z"
   },
   {
    "duration": 540,
    "start_time": "2022-03-15T05:41:03.769Z"
   },
   {
    "duration": 41,
    "start_time": "2022-03-15T05:41:07.630Z"
   },
   {
    "duration": 151,
    "start_time": "2022-03-15T05:41:10.612Z"
   },
   {
    "duration": 84,
    "start_time": "2022-03-15T05:41:11.948Z"
   },
   {
    "duration": 3,
    "start_time": "2022-03-15T05:44:03.838Z"
   },
   {
    "duration": 494,
    "start_time": "2022-03-15T05:44:24.637Z"
   },
   {
    "duration": 32,
    "start_time": "2022-03-15T05:44:36.319Z"
   },
   {
    "duration": 125,
    "start_time": "2022-03-15T05:45:04.486Z"
   },
   {
    "duration": 33,
    "start_time": "2022-03-15T05:45:06.962Z"
   },
   {
    "duration": 82,
    "start_time": "2022-03-15T05:46:40.520Z"
   },
   {
    "duration": 31,
    "start_time": "2022-03-15T05:49:43.780Z"
   },
   {
    "duration": 40,
    "start_time": "2022-03-15T05:50:25.900Z"
   },
   {
    "duration": 44,
    "start_time": "2022-03-15T05:52:30.696Z"
   },
   {
    "duration": 17,
    "start_time": "2022-03-15T05:53:00.466Z"
   },
   {
    "duration": 299,
    "start_time": "2022-03-15T05:53:35.371Z"
   },
   {
    "duration": 4,
    "start_time": "2022-03-15T05:53:40.047Z"
   },
   {
    "duration": 502,
    "start_time": "2022-03-15T05:58:25.395Z"
   },
   {
    "duration": 516,
    "start_time": "2022-03-15T05:58:29.820Z"
   },
   {
    "duration": 3,
    "start_time": "2022-03-15T05:58:54.553Z"
   },
   {
    "duration": 746,
    "start_time": "2022-03-15T05:58:54.558Z"
   },
   {
    "duration": 125,
    "start_time": "2022-03-15T05:58:55.306Z"
   },
   {
    "duration": 13,
    "start_time": "2022-03-15T05:58:55.433Z"
   },
   {
    "duration": 359,
    "start_time": "2022-03-15T05:58:55.459Z"
   },
   {
    "duration": 452,
    "start_time": "2022-03-15T05:58:55.820Z"
   },
   {
    "duration": 108,
    "start_time": "2022-03-15T05:58:56.275Z"
   },
   {
    "duration": 1319,
    "start_time": "2022-03-15T05:58:56.386Z"
   },
   {
    "duration": 37,
    "start_time": "2022-03-15T05:58:57.707Z"
   },
   {
    "duration": 265,
    "start_time": "2022-03-15T05:58:57.746Z"
   },
   {
    "duration": 5,
    "start_time": "2022-03-15T05:58:58.013Z"
   },
   {
    "duration": 100,
    "start_time": "2022-03-15T05:58:58.019Z"
   },
   {
    "duration": 550,
    "start_time": "2022-03-15T05:58:58.121Z"
   },
   {
    "duration": 13,
    "start_time": "2022-03-15T05:58:58.673Z"
   },
   {
    "duration": 7,
    "start_time": "2022-03-15T05:58:58.688Z"
   },
   {
    "duration": 103,
    "start_time": "2022-03-15T05:58:58.696Z"
   },
   {
    "duration": 8,
    "start_time": "2022-03-15T05:58:58.801Z"
   },
   {
    "duration": 16,
    "start_time": "2022-03-15T05:58:58.811Z"
   },
   {
    "duration": 94,
    "start_time": "2022-03-15T05:58:58.830Z"
   },
   {
    "duration": 298,
    "start_time": "2022-03-15T05:58:58.926Z"
   },
   {
    "duration": 554,
    "start_time": "2022-03-15T05:58:59.226Z"
   },
   {
    "duration": 42,
    "start_time": "2022-03-15T05:58:59.782Z"
   },
   {
    "duration": 96,
    "start_time": "2022-03-15T05:58:59.825Z"
   },
   {
    "duration": 89,
    "start_time": "2022-03-15T05:58:59.922Z"
   },
   {
    "duration": 483,
    "start_time": "2022-03-15T05:59:02.175Z"
   },
   {
    "duration": 5,
    "start_time": "2022-03-15T06:02:29.944Z"
   },
   {
    "duration": 7,
    "start_time": "2022-03-15T06:05:14.124Z"
   },
   {
    "duration": 183,
    "start_time": "2022-03-15T06:05:18.257Z"
   },
   {
    "duration": 5,
    "start_time": "2022-03-15T06:05:21.563Z"
   },
   {
    "duration": 3,
    "start_time": "2022-03-15T06:06:26.442Z"
   },
   {
    "duration": 4,
    "start_time": "2022-03-15T06:08:21.217Z"
   },
   {
    "duration": 807,
    "start_time": "2022-03-15T06:08:21.223Z"
   },
   {
    "duration": 131,
    "start_time": "2022-03-15T06:08:22.033Z"
   },
   {
    "duration": 13,
    "start_time": "2022-03-15T06:08:22.166Z"
   },
   {
    "duration": 493,
    "start_time": "2022-03-15T06:08:22.181Z"
   },
   {
    "duration": 471,
    "start_time": "2022-03-15T06:08:22.676Z"
   },
   {
    "duration": 111,
    "start_time": "2022-03-15T06:08:23.149Z"
   },
   {
    "duration": 1324,
    "start_time": "2022-03-15T06:08:23.261Z"
   },
   {
    "duration": 40,
    "start_time": "2022-03-15T06:08:24.588Z"
   },
   {
    "duration": 279,
    "start_time": "2022-03-15T06:08:24.630Z"
   },
   {
    "duration": 6,
    "start_time": "2022-03-15T06:08:24.910Z"
   },
   {
    "duration": 107,
    "start_time": "2022-03-15T06:08:24.917Z"
   },
   {
    "duration": 578,
    "start_time": "2022-03-15T06:08:25.026Z"
   },
   {
    "duration": 13,
    "start_time": "2022-03-15T06:08:25.606Z"
   },
   {
    "duration": 7,
    "start_time": "2022-03-15T06:08:25.621Z"
   },
   {
    "duration": 100,
    "start_time": "2022-03-15T06:08:25.629Z"
   },
   {
    "duration": 8,
    "start_time": "2022-03-15T06:08:25.731Z"
   },
   {
    "duration": 26,
    "start_time": "2022-03-15T06:08:25.741Z"
   },
   {
    "duration": 78,
    "start_time": "2022-03-15T06:08:25.769Z"
   },
   {
    "duration": 285,
    "start_time": "2022-03-15T06:08:25.860Z"
   },
   {
    "duration": 561,
    "start_time": "2022-03-15T06:08:26.146Z"
   },
   {
    "duration": 56,
    "start_time": "2022-03-15T06:08:26.709Z"
   },
   {
    "duration": 93,
    "start_time": "2022-03-15T06:08:26.767Z"
   },
   {
    "duration": 84,
    "start_time": "2022-03-15T06:08:26.862Z"
   },
   {
    "duration": 496,
    "start_time": "2022-03-15T06:08:28.699Z"
   },
   {
    "duration": 7,
    "start_time": "2022-03-15T06:08:35.416Z"
   },
   {
    "duration": 3,
    "start_time": "2022-03-15T06:08:41.356Z"
   },
   {
    "duration": 206,
    "start_time": "2022-03-15T06:09:45.056Z"
   },
   {
    "duration": 3,
    "start_time": "2022-03-15T06:10:15.997Z"
   },
   {
    "duration": 79,
    "start_time": "2022-03-15T06:10:19.628Z"
   },
   {
    "duration": 181,
    "start_time": "2022-03-15T06:10:36.911Z"
   },
   {
    "duration": 4,
    "start_time": "2022-03-15T06:10:54.279Z"
   },
   {
    "duration": 3,
    "start_time": "2022-03-15T06:11:42.249Z"
   },
   {
    "duration": 3,
    "start_time": "2022-03-15T06:11:47.123Z"
   },
   {
    "duration": 4,
    "start_time": "2022-03-15T06:12:19.995Z"
   },
   {
    "duration": 219,
    "start_time": "2022-03-15T06:34:12.489Z"
   },
   {
    "duration": 231,
    "start_time": "2022-03-15T06:34:25.061Z"
   },
   {
    "duration": 3,
    "start_time": "2022-03-15T06:34:45.199Z"
   },
   {
    "duration": 5,
    "start_time": "2022-03-15T06:34:53.163Z"
   },
   {
    "duration": 280,
    "start_time": "2022-03-15T06:35:38.419Z"
   },
   {
    "duration": 276,
    "start_time": "2022-03-15T06:36:16.535Z"
   },
   {
    "duration": 3,
    "start_time": "2022-03-15T06:38:26.932Z"
   },
   {
    "duration": 204,
    "start_time": "2022-03-15T06:38:54.312Z"
   },
   {
    "duration": 3,
    "start_time": "2022-03-15T06:39:48.602Z"
   },
   {
    "duration": 185,
    "start_time": "2022-03-15T06:40:02.083Z"
   },
   {
    "duration": 221,
    "start_time": "2022-03-15T06:40:14.740Z"
   },
   {
    "duration": 5,
    "start_time": "2022-03-15T06:41:21.036Z"
   },
   {
    "duration": 3,
    "start_time": "2022-03-15T06:43:20.276Z"
   },
   {
    "duration": 380246,
    "start_time": "2022-03-15T06:43:30.665Z"
   },
   {
    "duration": 933781,
    "start_time": "2022-03-15T06:50:02.537Z"
   },
   {
    "duration": 5,
    "start_time": "2022-03-15T07:30:18.004Z"
   },
   {
    "duration": 3,
    "start_time": "2022-03-15T07:35:50.277Z"
   },
   {
    "duration": 220,
    "start_time": "2022-03-15T07:35:50.906Z"
   },
   {
    "duration": 3,
    "start_time": "2022-03-15T07:39:06.829Z"
   },
   {
    "duration": 177,
    "start_time": "2022-03-15T07:40:28.033Z"
   },
   {
    "duration": 3,
    "start_time": "2022-03-15T07:40:38.210Z"
   },
   {
    "duration": 216,
    "start_time": "2022-03-15T07:40:44.390Z"
   },
   {
    "duration": 4,
    "start_time": "2022-03-15T07:40:53.435Z"
   },
   {
    "duration": 35632,
    "start_time": "2022-03-15T07:40:55.933Z"
   },
   {
    "duration": 3,
    "start_time": "2022-03-15T07:41:35.143Z"
   },
   {
    "duration": 6823,
    "start_time": "2022-03-15T07:41:35.971Z"
   },
   {
    "duration": 185,
    "start_time": "2022-03-15T07:42:28.867Z"
   },
   {
    "duration": 25,
    "start_time": "2022-03-15T07:42:35.120Z"
   },
   {
    "duration": 21,
    "start_time": "2022-03-15T07:42:41.150Z"
   },
   {
    "duration": 4089,
    "start_time": "2022-03-15T07:42:53.042Z"
   },
   {
    "duration": 64,
    "start_time": "2022-03-15T07:44:29.778Z"
   },
   {
    "duration": 21,
    "start_time": "2022-03-15T07:44:45.866Z"
   },
   {
    "duration": 547,
    "start_time": "2022-03-15T07:45:01.636Z"
   },
   {
    "duration": 19,
    "start_time": "2022-03-15T07:46:07.732Z"
   },
   {
    "duration": 198,
    "start_time": "2022-03-15T07:46:15.726Z"
   },
   {
    "duration": 57,
    "start_time": "2022-03-15T07:46:43.444Z"
   },
   {
    "duration": 13,
    "start_time": "2022-03-15T07:46:47.931Z"
   },
   {
    "duration": 178,
    "start_time": "2022-03-15T07:46:52.157Z"
   },
   {
    "duration": 5538,
    "start_time": "2022-03-15T07:48:04.429Z"
   },
   {
    "duration": 3,
    "start_time": "2022-03-15T07:50:40.460Z"
   },
   {
    "duration": 4,
    "start_time": "2022-03-15T07:50:43.963Z"
   },
   {
    "duration": 5,
    "start_time": "2022-03-15T07:50:50.940Z"
   },
   {
    "duration": 3,
    "start_time": "2022-03-15T07:50:57.664Z"
   },
   {
    "duration": 199,
    "start_time": "2022-03-15T07:51:03.867Z"
   },
   {
    "duration": 4229,
    "start_time": "2022-03-15T07:51:18.832Z"
   },
   {
    "duration": 10,
    "start_time": "2022-03-15T07:52:03.724Z"
   },
   {
    "duration": 74,
    "start_time": "2022-03-15T07:52:30.495Z"
   },
   {
    "duration": 3,
    "start_time": "2022-03-15T07:52:34.660Z"
   },
   {
    "duration": 323,
    "start_time": "2022-03-15T07:52:52.882Z"
   },
   {
    "duration": 3,
    "start_time": "2022-03-15T07:53:05.326Z"
   },
   {
    "duration": 173,
    "start_time": "2022-03-15T07:53:21.980Z"
   },
   {
    "duration": 329,
    "start_time": "2022-03-15T07:53:53.746Z"
   },
   {
    "duration": 711,
    "start_time": "2022-03-15T07:53:57.698Z"
   },
   {
    "duration": 725,
    "start_time": "2022-03-15T07:54:12.377Z"
   },
   {
    "duration": 11,
    "start_time": "2022-03-15T07:54:29.746Z"
   },
   {
    "duration": 2,
    "start_time": "2022-03-15T07:54:31.674Z"
   },
   {
    "duration": 317,
    "start_time": "2022-03-15T07:54:33.446Z"
   },
   {
    "duration": 202,
    "start_time": "2022-03-15T07:54:40.392Z"
   },
   {
    "duration": 19,
    "start_time": "2022-03-15T07:54:58.617Z"
   },
   {
    "duration": 216,
    "start_time": "2022-03-15T07:55:01.828Z"
   },
   {
    "duration": 6,
    "start_time": "2022-03-15T07:55:39.831Z"
   },
   {
    "duration": 2,
    "start_time": "2022-03-15T07:55:46.972Z"
   },
   {
    "duration": 4,
    "start_time": "2022-03-15T07:55:50.932Z"
   },
   {
    "duration": 256,
    "start_time": "2022-03-15T07:55:54.312Z"
   },
   {
    "duration": 10,
    "start_time": "2022-03-15T07:56:07.365Z"
   },
   {
    "duration": 357,
    "start_time": "2022-03-15T07:56:46.823Z"
   },
   {
    "duration": 190,
    "start_time": "2022-03-15T07:56:55.192Z"
   },
   {
    "duration": 189,
    "start_time": "2022-03-15T07:56:59.163Z"
   },
   {
    "duration": 15,
    "start_time": "2022-03-15T07:57:00.922Z"
   },
   {
    "duration": 54828,
    "start_time": "2022-03-15T07:57:06.366Z"
   },
   {
    "duration": 262,
    "start_time": "2022-03-15T07:59:33.142Z"
   },
   {
    "duration": 1935,
    "start_time": "2022-03-15T07:59:37.942Z"
   },
   {
    "duration": 3,
    "start_time": "2022-03-15T07:59:43.382Z"
   },
   {
    "duration": 186,
    "start_time": "2022-03-15T07:59:55.662Z"
   },
   {
    "duration": 218,
    "start_time": "2022-03-15T08:00:09.987Z"
   },
   {
    "duration": 211,
    "start_time": "2022-03-15T08:00:28.842Z"
   },
   {
    "duration": 4,
    "start_time": "2022-03-15T08:00:31.597Z"
   },
   {
    "duration": 234,
    "start_time": "2022-03-15T08:01:16.014Z"
   },
   {
    "duration": 193,
    "start_time": "2022-03-15T08:01:19.359Z"
   },
   {
    "duration": 3,
    "start_time": "2022-03-15T08:01:37.824Z"
   },
   {
    "duration": 184,
    "start_time": "2022-03-15T08:02:53.637Z"
   },
   {
    "duration": 60,
    "start_time": "2022-03-15T08:03:37.654Z"
   },
   {
    "duration": 179,
    "start_time": "2022-03-15T08:03:39.811Z"
   },
   {
    "duration": 206,
    "start_time": "2022-03-15T08:03:44.523Z"
   },
   {
    "duration": 3,
    "start_time": "2022-03-15T08:03:50.815Z"
   },
   {
    "duration": 559,
    "start_time": "2022-03-15T08:03:58.635Z"
   },
   {
    "duration": 3,
    "start_time": "2022-03-15T08:05:19.266Z"
   },
   {
    "duration": 1259,
    "start_time": "2022-03-15T08:05:23.052Z"
   },
   {
    "duration": 3,
    "start_time": "2022-03-15T08:06:36.797Z"
   },
   {
    "duration": 11,
    "start_time": "2022-03-15T08:06:55.444Z"
   },
   {
    "duration": 404,
    "start_time": "2022-03-15T08:07:10.715Z"
   },
   {
    "duration": 464,
    "start_time": "2022-03-15T08:07:17.906Z"
   },
   {
    "duration": 206,
    "start_time": "2022-03-15T08:07:40.018Z"
   },
   {
    "duration": 191,
    "start_time": "2022-03-15T08:08:20.464Z"
   },
   {
    "duration": 190,
    "start_time": "2022-03-15T08:08:26.191Z"
   },
   {
    "duration": 17,
    "start_time": "2022-03-15T08:08:37.097Z"
   },
   {
    "duration": 26,
    "start_time": "2022-03-15T08:08:44.901Z"
   },
   {
    "duration": 5,
    "start_time": "2022-03-15T08:08:48.233Z"
   },
   {
    "duration": 208,
    "start_time": "2022-03-15T08:09:15.717Z"
   },
   {
    "duration": 394,
    "start_time": "2022-03-15T08:10:34.181Z"
   },
   {
    "duration": 24,
    "start_time": "2022-03-15T08:10:39.938Z"
   },
   {
    "duration": 189,
    "start_time": "2022-03-15T08:10:45.227Z"
   },
   {
    "duration": 6,
    "start_time": "2022-03-15T08:11:08.943Z"
   },
   {
    "duration": 4,
    "start_time": "2022-03-15T08:11:13.400Z"
   },
   {
    "duration": 13,
    "start_time": "2022-03-15T08:11:34.554Z"
   },
   {
    "duration": 4,
    "start_time": "2022-03-15T08:11:35.105Z"
   },
   {
    "duration": 216,
    "start_time": "2022-03-15T08:11:37.852Z"
   },
   {
    "duration": 4,
    "start_time": "2022-03-15T08:12:23.424Z"
   },
   {
    "duration": 940,
    "start_time": "2022-03-15T08:13:39.278Z"
   },
   {
    "duration": 292,
    "start_time": "2022-03-15T08:15:01.788Z"
   },
   {
    "duration": 85575,
    "start_time": "2022-03-15T08:15:18.608Z"
   },
   {
    "duration": 150,
    "start_time": "2022-03-15T08:25:28.432Z"
   },
   {
    "duration": 3,
    "start_time": "2022-03-15T08:25:36.459Z"
   },
   {
    "duration": 3,
    "start_time": "2022-03-15T08:29:54.682Z"
   },
   {
    "duration": 27529,
    "start_time": "2022-03-15T08:29:56.580Z"
   },
   {
    "duration": 3,
    "start_time": "2022-03-15T08:32:24.265Z"
   },
   {
    "duration": 17051,
    "start_time": "2022-03-15T08:32:26.726Z"
   },
   {
    "duration": 5,
    "start_time": "2022-03-15T08:36:24.565Z"
   },
   {
    "duration": 6500,
    "start_time": "2022-03-15T08:36:30.299Z"
   },
   {
    "duration": 17598,
    "start_time": "2022-03-15T08:36:42.287Z"
   },
   {
    "duration": 29117,
    "start_time": "2022-03-15T08:37:11.958Z"
   },
   {
    "duration": 6250,
    "start_time": "2022-03-15T08:39:52.207Z"
   },
   {
    "duration": 9134,
    "start_time": "2022-03-15T08:40:00.644Z"
   },
   {
    "duration": 4,
    "start_time": "2022-03-15T08:41:32.928Z"
   },
   {
    "duration": 8916,
    "start_time": "2022-03-15T08:41:41.918Z"
   },
   {
    "duration": 95,
    "start_time": "2022-03-15T08:42:28.175Z"
   },
   {
    "duration": 8890,
    "start_time": "2022-03-15T08:42:41.937Z"
   },
   {
    "duration": 4,
    "start_time": "2022-03-15T08:43:32.298Z"
   },
   {
    "duration": 3,
    "start_time": "2022-03-15T08:43:35.897Z"
   },
   {
    "duration": 197,
    "start_time": "2022-03-15T08:43:59.417Z"
   },
   {
    "duration": 59,
    "start_time": "2022-03-15T08:44:28.643Z"
   },
   {
    "duration": 217,
    "start_time": "2022-03-15T08:45:01.448Z"
   },
   {
    "duration": 208,
    "start_time": "2022-03-15T08:45:05.754Z"
   },
   {
    "duration": 4,
    "start_time": "2022-03-15T08:45:34.856Z"
   },
   {
    "duration": 6,
    "start_time": "2022-03-15T08:45:38.782Z"
   },
   {
    "duration": 12055,
    "start_time": "2022-03-15T08:45:42.350Z"
   },
   {
    "duration": 14067,
    "start_time": "2022-03-15T08:46:27.003Z"
   },
   {
    "duration": 3,
    "start_time": "2022-03-15T08:46:57.827Z"
   },
   {
    "duration": 15111,
    "start_time": "2022-03-15T08:46:59.970Z"
   },
   {
    "duration": 3,
    "start_time": "2022-03-15T08:47:47.604Z"
   },
   {
    "duration": 3,
    "start_time": "2022-03-15T08:47:51.701Z"
   },
   {
    "duration": 5172,
    "start_time": "2022-03-15T08:48:47.917Z"
   },
   {
    "duration": 5530,
    "start_time": "2022-03-15T08:49:16.677Z"
   },
   {
    "duration": 4,
    "start_time": "2022-03-15T08:49:58.141Z"
   },
   {
    "duration": 1212,
    "start_time": "2022-03-15T08:50:00.511Z"
   },
   {
    "duration": 4,
    "start_time": "2022-03-15T08:50:36.439Z"
   },
   {
    "duration": 213196,
    "start_time": "2022-03-15T08:50:47.721Z"
   },
   {
    "duration": 1583,
    "start_time": "2022-03-16T06:41:37.055Z"
   },
   {
    "duration": 1048,
    "start_time": "2022-03-16T06:41:38.641Z"
   },
   {
    "duration": 168,
    "start_time": "2022-03-16T06:41:39.692Z"
   },
   {
    "duration": 27,
    "start_time": "2022-03-16T06:41:39.863Z"
   },
   {
    "duration": 631,
    "start_time": "2022-03-16T06:41:39.893Z"
   },
   {
    "duration": 736,
    "start_time": "2022-03-16T06:41:40.527Z"
   },
   {
    "duration": 124,
    "start_time": "2022-03-16T06:41:41.265Z"
   },
   {
    "duration": 1943,
    "start_time": "2022-03-16T06:41:41.393Z"
   },
   {
    "duration": 74,
    "start_time": "2022-03-16T06:41:43.341Z"
   },
   {
    "duration": 412,
    "start_time": "2022-03-16T06:41:43.418Z"
   },
   {
    "duration": 18,
    "start_time": "2022-03-16T06:41:43.833Z"
   },
   {
    "duration": 192,
    "start_time": "2022-03-16T06:41:43.853Z"
   },
   {
    "duration": 778,
    "start_time": "2022-03-16T06:41:44.047Z"
   },
   {
    "duration": 31,
    "start_time": "2022-03-16T06:41:44.828Z"
   },
   {
    "duration": 9,
    "start_time": "2022-03-16T06:41:44.862Z"
   },
   {
    "duration": 150,
    "start_time": "2022-03-16T06:41:44.873Z"
   },
   {
    "duration": 11,
    "start_time": "2022-03-16T06:41:45.025Z"
   },
   {
    "duration": 33,
    "start_time": "2022-03-16T06:41:45.039Z"
   },
   {
    "duration": 137,
    "start_time": "2022-03-16T06:41:45.074Z"
   },
   {
    "duration": 416,
    "start_time": "2022-03-16T06:41:45.213Z"
   },
   {
    "duration": 762,
    "start_time": "2022-03-16T06:41:45.632Z"
   },
   {
    "duration": 78,
    "start_time": "2022-03-16T06:41:46.397Z"
   },
   {
    "duration": 117,
    "start_time": "2022-03-16T06:41:46.481Z"
   },
   {
    "duration": 118,
    "start_time": "2022-03-16T06:41:46.600Z"
   },
   {
    "duration": 600,
    "start_time": "2022-03-16T06:41:49.828Z"
   },
   {
    "duration": 92,
    "start_time": "2022-03-16T06:41:54.562Z"
   },
   {
    "duration": 9,
    "start_time": "2022-03-16T06:44:28.119Z"
   },
   {
    "duration": 3,
    "start_time": "2022-03-16T06:44:28.560Z"
   },
   {
    "duration": 153,
    "start_time": "2022-03-16T06:44:29.829Z"
   },
   {
    "duration": 5,
    "start_time": "2022-03-16T06:44:30.120Z"
   },
   {
    "duration": 4,
    "start_time": "2022-03-16T06:46:09.005Z"
   },
   {
    "duration": 4,
    "start_time": "2022-03-16T06:46:41.848Z"
   },
   {
    "duration": 5,
    "start_time": "2022-03-16T06:47:50.387Z"
   },
   {
    "duration": 112050,
    "start_time": "2022-03-16T06:47:52.957Z"
   },
   {
    "duration": 7,
    "start_time": "2022-03-16T06:49:55.873Z"
   },
   {
    "duration": 6,
    "start_time": "2022-03-16T06:52:29.751Z"
   },
   {
    "duration": 4,
    "start_time": "2022-03-16T06:53:52.821Z"
   },
   {
    "duration": 3,
    "start_time": "2022-03-16T06:53:55.292Z"
   },
   {
    "duration": 4,
    "start_time": "2022-03-16T06:53:57.122Z"
   },
   {
    "duration": 4636,
    "start_time": "2022-03-16T06:53:57.647Z"
   },
   {
    "duration": 5,
    "start_time": "2022-03-16T06:57:31.892Z"
   },
   {
    "duration": 4,
    "start_time": "2022-03-16T06:57:48.853Z"
   },
   {
    "duration": 4,
    "start_time": "2022-03-16T07:03:38.204Z"
   },
   {
    "duration": 90,
    "start_time": "2022-03-16T07:04:31.205Z"
   },
   {
    "duration": 4,
    "start_time": "2022-03-16T07:04:37.556Z"
   },
   {
    "duration": 4,
    "start_time": "2022-03-16T07:05:05.915Z"
   },
   {
    "duration": 4,
    "start_time": "2022-03-16T07:05:06.748Z"
   },
   {
    "duration": 3,
    "start_time": "2022-03-16T07:05:09.028Z"
   },
   {
    "duration": 17482,
    "start_time": "2022-03-16T07:06:05.365Z"
   },
   {
    "duration": 107070,
    "start_time": "2022-03-16T07:06:29.835Z"
   },
   {
    "duration": 320,
    "start_time": "2022-03-16T07:08:31.692Z"
   },
   {
    "duration": 5,
    "start_time": "2022-03-16T07:08:33.848Z"
   },
   {
    "duration": 4,
    "start_time": "2022-03-16T07:12:24.222Z"
   },
   {
    "duration": 4,
    "start_time": "2022-03-16T07:12:59.057Z"
   },
   {
    "duration": 4,
    "start_time": "2022-03-16T07:13:18.814Z"
   },
   {
    "duration": 28981,
    "start_time": "2022-03-16T07:13:20.324Z"
   },
   {
    "duration": 5,
    "start_time": "2022-03-16T07:13:56.987Z"
   },
   {
    "duration": 4,
    "start_time": "2022-03-16T07:15:35.428Z"
   },
   {
    "duration": 4,
    "start_time": "2022-03-16T07:17:12.595Z"
   },
   {
    "duration": 4,
    "start_time": "2022-03-16T07:17:22.347Z"
   },
   {
    "duration": 4,
    "start_time": "2022-03-16T07:19:03.127Z"
   },
   {
    "duration": 4,
    "start_time": "2022-03-16T07:19:04.439Z"
   },
   {
    "duration": 47,
    "start_time": "2022-03-16T07:19:09.160Z"
   },
   {
    "duration": 4,
    "start_time": "2022-03-16T07:19:20.061Z"
   },
   {
    "duration": 4,
    "start_time": "2022-03-16T07:19:41.953Z"
   },
   {
    "duration": 6,
    "start_time": "2022-03-16T07:20:13.879Z"
   },
   {
    "duration": 120254,
    "start_time": "2022-03-16T07:20:22.318Z"
   },
   {
    "duration": 5,
    "start_time": "2022-03-16T07:22:48.362Z"
   },
   {
    "duration": 5,
    "start_time": "2022-03-16T07:26:07.910Z"
   },
   {
    "duration": 233,
    "start_time": "2022-03-16T07:28:23.607Z"
   },
   {
    "duration": 5,
    "start_time": "2022-03-16T07:28:34.727Z"
   },
   {
    "duration": 5,
    "start_time": "2022-03-16T07:30:10.665Z"
   },
   {
    "duration": 4,
    "start_time": "2022-03-16T07:40:05.601Z"
   },
   {
    "duration": 28,
    "start_time": "2022-03-16T07:41:15.343Z"
   },
   {
    "duration": 85,
    "start_time": "2022-03-16T07:41:20.315Z"
   },
   {
    "duration": 205,
    "start_time": "2022-03-16T07:47:38.926Z"
   },
   {
    "duration": 131,
    "start_time": "2022-03-16T07:49:17.793Z"
   },
   {
    "duration": 156,
    "start_time": "2022-03-16T07:53:26.867Z"
   },
   {
    "duration": 166,
    "start_time": "2022-03-16T07:53:31.317Z"
   },
   {
    "duration": 44,
    "start_time": "2022-03-16T08:04:30.350Z"
   },
   {
    "duration": 36,
    "start_time": "2022-03-16T08:04:51.116Z"
   },
   {
    "duration": 30,
    "start_time": "2022-03-16T08:05:13.591Z"
   },
   {
    "duration": 30,
    "start_time": "2022-03-16T08:05:19.783Z"
   },
   {
    "duration": 27,
    "start_time": "2022-03-16T08:05:48.010Z"
   },
   {
    "duration": 33,
    "start_time": "2022-03-16T08:05:53.266Z"
   },
   {
    "duration": 244,
    "start_time": "2022-03-16T08:07:16.464Z"
   },
   {
    "duration": 163,
    "start_time": "2022-03-16T08:07:26.560Z"
   },
   {
    "duration": 29,
    "start_time": "2022-03-16T08:17:13.583Z"
   },
   {
    "duration": 7,
    "start_time": "2022-03-16T08:17:17.542Z"
   },
   {
    "duration": 250,
    "start_time": "2022-03-16T08:19:06.939Z"
   },
   {
    "duration": 5,
    "start_time": "2022-03-16T08:19:32.300Z"
   },
   {
    "duration": 28,
    "start_time": "2022-03-16T08:20:57.675Z"
   },
   {
    "duration": 28,
    "start_time": "2022-03-16T08:21:09.009Z"
   },
   {
    "duration": 5,
    "start_time": "2022-03-16T08:22:45.344Z"
   },
   {
    "duration": 4,
    "start_time": "2022-03-16T08:25:15.808Z"
   },
   {
    "duration": 235,
    "start_time": "2022-03-16T08:25:27.851Z"
   },
   {
    "duration": 5,
    "start_time": "2022-03-16T08:26:33.196Z"
   },
   {
    "duration": 50,
    "start_time": "2022-03-16T08:26:36.296Z"
   },
   {
    "duration": 22,
    "start_time": "2022-03-16T08:26:50.190Z"
   },
   {
    "duration": 3,
    "start_time": "2022-03-16T08:27:48.871Z"
   },
   {
    "duration": 257,
    "start_time": "2022-03-16T08:28:10.720Z"
   },
   {
    "duration": 8,
    "start_time": "2022-03-16T08:28:48.035Z"
   },
   {
    "duration": 252,
    "start_time": "2022-03-16T08:28:57.386Z"
   },
   {
    "duration": 4,
    "start_time": "2022-03-16T08:29:08.426Z"
   },
   {
    "duration": 4,
    "start_time": "2022-03-16T08:29:10.196Z"
   },
   {
    "duration": 274,
    "start_time": "2022-03-16T08:29:13.837Z"
   },
   {
    "duration": 100,
    "start_time": "2022-03-16T08:31:45.747Z"
   },
   {
    "duration": 24,
    "start_time": "2022-03-16T08:31:51.090Z"
   },
   {
    "duration": 5,
    "start_time": "2022-03-16T08:33:37.646Z"
   },
   {
    "duration": 5,
    "start_time": "2022-03-16T08:33:57.509Z"
   },
   {
    "duration": 244,
    "start_time": "2022-03-16T08:33:59.921Z"
   },
   {
    "duration": 165,
    "start_time": "2022-03-16T08:34:14.774Z"
   },
   {
    "duration": 9,
    "start_time": "2022-03-16T08:34:28.981Z"
   },
   {
    "duration": 6,
    "start_time": "2022-03-16T08:34:29.466Z"
   },
   {
    "duration": 8,
    "start_time": "2022-03-16T08:34:34.816Z"
   },
   {
    "duration": 43,
    "start_time": "2022-03-16T08:34:41.025Z"
   },
   {
    "duration": 18,
    "start_time": "2022-03-16T08:34:44.874Z"
   },
   {
    "duration": 5,
    "start_time": "2022-03-16T08:35:06.253Z"
   },
   {
    "duration": 1345,
    "start_time": "2022-03-16T08:35:06.261Z"
   },
   {
    "duration": 294,
    "start_time": "2022-03-16T08:35:07.610Z"
   },
   {
    "duration": 27,
    "start_time": "2022-03-16T08:35:07.907Z"
   },
   {
    "duration": 713,
    "start_time": "2022-03-16T08:35:07.952Z"
   },
   {
    "duration": 815,
    "start_time": "2022-03-16T08:35:08.668Z"
   },
   {
    "duration": 161,
    "start_time": "2022-03-16T08:35:09.485Z"
   },
   {
    "duration": 2659,
    "start_time": "2022-03-16T08:35:09.654Z"
   },
   {
    "duration": 82,
    "start_time": "2022-03-16T08:35:12.316Z"
   },
   {
    "duration": 550,
    "start_time": "2022-03-16T08:35:12.401Z"
   },
   {
    "duration": 8,
    "start_time": "2022-03-16T08:35:12.954Z"
   },
   {
    "duration": 160,
    "start_time": "2022-03-16T08:35:12.965Z"
   },
   {
    "duration": 679,
    "start_time": "2022-03-16T08:35:13.127Z"
   },
   {
    "duration": 18,
    "start_time": "2022-03-16T08:35:13.808Z"
   },
   {
    "duration": 29,
    "start_time": "2022-03-16T08:35:13.828Z"
   },
   {
    "duration": 138,
    "start_time": "2022-03-16T08:35:13.859Z"
   },
   {
    "duration": 12,
    "start_time": "2022-03-16T08:35:13.999Z"
   },
   {
    "duration": 44,
    "start_time": "2022-03-16T08:35:14.014Z"
   },
   {
    "duration": 131,
    "start_time": "2022-03-16T08:35:14.060Z"
   },
   {
    "duration": 394,
    "start_time": "2022-03-16T08:35:14.194Z"
   },
   {
    "duration": 752,
    "start_time": "2022-03-16T08:35:14.591Z"
   },
   {
    "duration": 65,
    "start_time": "2022-03-16T08:35:15.346Z"
   },
   {
    "duration": 114,
    "start_time": "2022-03-16T08:35:15.417Z"
   },
   {
    "duration": 119,
    "start_time": "2022-03-16T08:35:15.533Z"
   },
   {
    "duration": 696,
    "start_time": "2022-03-16T08:35:15.655Z"
   },
   {
    "duration": 8,
    "start_time": "2022-03-16T08:35:16.353Z"
   },
   {
    "duration": 16,
    "start_time": "2022-03-16T08:35:16.364Z"
   },
   {
    "duration": 180,
    "start_time": "2022-03-16T08:35:16.383Z"
   },
   {
    "duration": 7,
    "start_time": "2022-03-16T08:35:18.881Z"
   },
   {
    "duration": 14,
    "start_time": "2022-03-16T08:35:40.318Z"
   },
   {
    "duration": 33,
    "start_time": "2022-03-16T08:35:42.874Z"
   },
   {
    "duration": 6,
    "start_time": "2022-03-16T08:35:43.288Z"
   },
   {
    "duration": 4,
    "start_time": "2022-03-16T08:35:47.168Z"
   },
   {
    "duration": 202,
    "start_time": "2022-03-16T08:35:55.812Z"
   },
   {
    "duration": 16,
    "start_time": "2022-03-16T08:36:00.309Z"
   },
   {
    "duration": 4,
    "start_time": "2022-03-16T08:36:40.094Z"
   },
   {
    "duration": 14,
    "start_time": "2022-03-16T08:36:45.794Z"
   },
   {
    "duration": 84,
    "start_time": "2022-03-16T08:36:48.729Z"
   },
   {
    "duration": 235,
    "start_time": "2022-03-16T08:36:55.428Z"
   },
   {
    "duration": 3,
    "start_time": "2022-03-16T08:39:15.260Z"
   },
   {
    "duration": 312,
    "start_time": "2022-03-16T08:39:20.570Z"
   },
   {
    "duration": 37,
    "start_time": "2022-03-16T08:39:37.099Z"
   },
   {
    "duration": 277,
    "start_time": "2022-03-16T08:39:41.060Z"
   },
   {
    "duration": 199,
    "start_time": "2022-03-16T08:39:56.820Z"
   },
   {
    "duration": 194,
    "start_time": "2022-03-16T08:42:06.779Z"
   },
   {
    "duration": 49,
    "start_time": "2022-03-16T08:42:11.037Z"
   },
   {
    "duration": 32,
    "start_time": "2022-03-16T08:42:16.974Z"
   },
   {
    "duration": 18,
    "start_time": "2022-03-16T08:42:23.438Z"
   },
   {
    "duration": 4,
    "start_time": "2022-03-16T08:43:21.309Z"
   },
   {
    "duration": 16,
    "start_time": "2022-03-16T08:43:23.840Z"
   },
   {
    "duration": 140,
    "start_time": "2022-03-16T08:43:28.430Z"
   },
   {
    "duration": 253,
    "start_time": "2022-03-16T08:43:31.150Z"
   },
   {
    "duration": 209,
    "start_time": "2022-03-16T08:43:43.856Z"
   },
   {
    "duration": 24,
    "start_time": "2022-03-16T08:43:48.957Z"
   },
   {
    "duration": 64,
    "start_time": "2022-03-16T08:43:57.080Z"
   },
   {
    "duration": 14,
    "start_time": "2022-03-16T08:44:13.229Z"
   },
   {
    "duration": 137,
    "start_time": "2022-03-16T08:44:28.273Z"
   },
   {
    "duration": 234,
    "start_time": "2022-03-16T08:44:36.334Z"
   },
   {
    "duration": 19,
    "start_time": "2022-03-16T08:44:42.210Z"
   },
   {
    "duration": 4,
    "start_time": "2022-03-16T08:44:49.723Z"
   },
   {
    "duration": 219,
    "start_time": "2022-03-16T08:45:01.229Z"
   },
   {
    "duration": 5735,
    "start_time": "2022-03-16T08:45:07.724Z"
   },
   {
    "duration": 5,
    "start_time": "2022-03-16T08:46:38.682Z"
   },
   {
    "duration": 3,
    "start_time": "2022-03-16T08:46:44.524Z"
   },
   {
    "duration": 27,
    "start_time": "2022-03-16T08:46:47.069Z"
   },
   {
    "duration": 17,
    "start_time": "2022-03-16T08:46:54.552Z"
   },
   {
    "duration": 16,
    "start_time": "2022-03-16T08:46:58.609Z"
   },
   {
    "duration": 15,
    "start_time": "2022-03-16T08:47:18.010Z"
   },
   {
    "duration": 224,
    "start_time": "2022-03-16T08:47:22.641Z"
   },
   {
    "duration": 78,
    "start_time": "2022-03-16T08:47:28.543Z"
   },
   {
    "duration": 4,
    "start_time": "2022-03-16T08:48:59.604Z"
   },
   {
    "duration": 3,
    "start_time": "2022-03-16T08:49:42.157Z"
   },
   {
    "duration": 19886,
    "start_time": "2022-03-16T08:50:05.252Z"
   },
   {
    "duration": 4,
    "start_time": "2022-03-16T08:50:57.222Z"
   },
   {
    "duration": 4,
    "start_time": "2022-03-16T08:50:59.294Z"
   },
   {
    "duration": 3838,
    "start_time": "2022-03-16T08:51:01.224Z"
   },
   {
    "duration": 5,
    "start_time": "2022-03-16T09:00:12.255Z"
   },
   {
    "duration": 7,
    "start_time": "2022-03-16T09:00:54.055Z"
   },
   {
    "duration": 4,
    "start_time": "2022-03-16T09:01:02.875Z"
   },
   {
    "duration": 377,
    "start_time": "2022-03-16T09:01:20.886Z"
   },
   {
    "duration": 4,
    "start_time": "2022-03-16T09:01:41.352Z"
   },
   {
    "duration": 375,
    "start_time": "2022-03-16T09:01:47.549Z"
   },
   {
    "duration": 4,
    "start_time": "2022-03-16T09:03:12.368Z"
   },
   {
    "duration": 420,
    "start_time": "2022-03-16T09:03:20.302Z"
   },
   {
    "duration": 4,
    "start_time": "2022-03-16T09:03:43.843Z"
   },
   {
    "duration": 6,
    "start_time": "2022-03-16T09:03:45.039Z"
   },
   {
    "duration": 413,
    "start_time": "2022-03-16T09:03:51.185Z"
   },
   {
    "duration": 5,
    "start_time": "2022-03-16T09:03:55.460Z"
   },
   {
    "duration": 144034,
    "start_time": "2022-03-16T09:03:56.323Z"
   },
   {
    "duration": 4,
    "start_time": "2022-03-16T09:42:08.543Z"
   },
   {
    "duration": 4,
    "start_time": "2022-03-16T09:42:08.871Z"
   },
   {
    "duration": 4,
    "start_time": "2022-03-16T09:42:11.452Z"
   },
   {
    "duration": 147217,
    "start_time": "2022-03-16T09:42:12.148Z"
   },
   {
    "duration": 5,
    "start_time": "2022-03-16T09:45:59.282Z"
   },
   {
    "duration": 6,
    "start_time": "2022-03-16T09:46:23.627Z"
   },
   {
    "duration": 2375,
    "start_time": "2022-03-17T11:58:59.806Z"
   },
   {
    "duration": 1073,
    "start_time": "2022-03-17T11:59:02.184Z"
   },
   {
    "duration": 190,
    "start_time": "2022-03-17T11:59:03.261Z"
   },
   {
    "duration": 21,
    "start_time": "2022-03-17T11:59:03.454Z"
   },
   {
    "duration": 584,
    "start_time": "2022-03-17T11:59:03.477Z"
   },
   {
    "duration": 738,
    "start_time": "2022-03-17T11:59:04.063Z"
   },
   {
    "duration": 146,
    "start_time": "2022-03-17T11:59:04.804Z"
   },
   {
    "duration": 1567,
    "start_time": "2022-03-17T11:59:04.952Z"
   },
   {
    "duration": 56,
    "start_time": "2022-03-17T11:59:06.521Z"
   },
   {
    "duration": 250,
    "start_time": "2022-03-17T11:59:06.581Z"
   },
   {
    "duration": 6,
    "start_time": "2022-03-17T11:59:06.833Z"
   },
   {
    "duration": 154,
    "start_time": "2022-03-17T11:59:06.841Z"
   },
   {
    "duration": 684,
    "start_time": "2022-03-17T11:59:06.997Z"
   },
   {
    "duration": 30,
    "start_time": "2022-03-17T11:59:07.683Z"
   },
   {
    "duration": 9,
    "start_time": "2022-03-17T11:59:07.716Z"
   },
   {
    "duration": 244,
    "start_time": "2022-03-17T11:59:07.728Z"
   },
   {
    "duration": 9,
    "start_time": "2022-03-17T11:59:07.975Z"
   },
   {
    "duration": 29,
    "start_time": "2022-03-17T11:59:07.986Z"
   },
   {
    "duration": 103,
    "start_time": "2022-03-17T11:59:08.017Z"
   },
   {
    "duration": 596,
    "start_time": "2022-03-17T11:59:08.122Z"
   },
   {
    "duration": 705,
    "start_time": "2022-03-17T11:59:08.721Z"
   },
   {
    "duration": 41,
    "start_time": "2022-03-17T11:59:09.428Z"
   },
   {
    "duration": 111,
    "start_time": "2022-03-17T11:59:09.471Z"
   },
   {
    "duration": 110,
    "start_time": "2022-03-17T11:59:09.584Z"
   },
   {
    "duration": 683,
    "start_time": "2022-03-17T11:59:09.701Z"
   },
   {
    "duration": 17,
    "start_time": "2022-03-17T11:59:10.385Z"
   },
   {
    "duration": 9,
    "start_time": "2022-03-17T11:59:10.405Z"
   },
   {
    "duration": 137,
    "start_time": "2022-03-17T11:59:10.418Z"
   },
   {
    "duration": 5,
    "start_time": "2022-03-17T11:59:10.558Z"
   },
   {
    "duration": 6,
    "start_time": "2022-03-17T11:59:10.566Z"
   },
   {
    "duration": 27,
    "start_time": "2022-03-17T11:59:10.574Z"
   },
   {
    "duration": 4,
    "start_time": "2022-03-17T11:59:10.604Z"
   },
   {
    "duration": 8,
    "start_time": "2022-03-17T11:59:10.610Z"
   },
   {
    "duration": 11,
    "start_time": "2022-03-17T11:59:10.620Z"
   },
   {
    "duration": 12,
    "start_time": "2022-03-17T11:59:10.633Z"
   },
   {
    "duration": 23422,
    "start_time": "2022-03-17T11:59:10.647Z"
   },
   {
    "duration": 0,
    "start_time": "2022-03-17T11:59:34.073Z"
   },
   {
    "duration": 0,
    "start_time": "2022-03-17T11:59:34.074Z"
   },
   {
    "duration": 3,
    "start_time": "2022-03-17T11:59:40.764Z"
   },
   {
    "duration": 3,
    "start_time": "2022-03-17T11:59:41.976Z"
   },
   {
    "duration": 29911,
    "start_time": "2022-03-17T11:59:42.297Z"
   },
   {
    "duration": 10,
    "start_time": "2022-03-17T12:00:15.820Z"
   },
   {
    "duration": 10,
    "start_time": "2022-03-17T12:00:34.005Z"
   },
   {
    "duration": 8,
    "start_time": "2022-03-17T12:00:58.642Z"
   },
   {
    "duration": 3,
    "start_time": "2022-03-17T12:01:24.658Z"
   },
   {
    "duration": 5,
    "start_time": "2022-03-17T12:01:25.256Z"
   },
   {
    "duration": 197,
    "start_time": "2022-03-17T12:01:25.578Z"
   },
   {
    "duration": 3,
    "start_time": "2022-03-17T12:01:34.805Z"
   },
   {
    "duration": 32287,
    "start_time": "2022-03-17T12:01:36.065Z"
   },
   {
    "duration": 8,
    "start_time": "2022-03-17T12:02:29.099Z"
   },
   {
    "duration": 7,
    "start_time": "2022-03-17T12:02:29.623Z"
   },
   {
    "duration": 15,
    "start_time": "2022-03-17T12:02:43.761Z"
   },
   {
    "duration": 8,
    "start_time": "2022-03-17T12:03:01.602Z"
   },
   {
    "duration": 12,
    "start_time": "2022-03-17T12:03:10.254Z"
   },
   {
    "duration": 10,
    "start_time": "2022-03-17T12:03:13.750Z"
   },
   {
    "duration": 13,
    "start_time": "2022-03-17T12:03:22.926Z"
   },
   {
    "duration": 5,
    "start_time": "2022-03-17T12:03:50.193Z"
   },
   {
    "duration": 5,
    "start_time": "2022-03-17T12:04:35.567Z"
   },
   {
    "duration": 151847,
    "start_time": "2022-03-17T12:07:07.047Z"
   },
   {
    "duration": 0,
    "start_time": "2022-03-17T12:09:38.901Z"
   },
   {
    "duration": 9,
    "start_time": "2022-03-17T12:11:01.298Z"
   },
   {
    "duration": 3,
    "start_time": "2022-03-17T12:13:21.649Z"
   },
   {
    "duration": 9,
    "start_time": "2022-03-17T12:13:26.634Z"
   },
   {
    "duration": 11,
    "start_time": "2022-03-17T12:14:06.173Z"
   },
   {
    "duration": 11,
    "start_time": "2022-03-17T12:14:21.520Z"
   },
   {
    "duration": 8,
    "start_time": "2022-03-17T12:14:24.894Z"
   },
   {
    "duration": 3,
    "start_time": "2022-03-17T12:14:36.325Z"
   },
   {
    "duration": 7,
    "start_time": "2022-03-17T12:14:40.954Z"
   },
   {
    "duration": 9,
    "start_time": "2022-03-17T12:14:49.878Z"
   },
   {
    "duration": 11,
    "start_time": "2022-03-17T12:15:00.663Z"
   },
   {
    "duration": 13,
    "start_time": "2022-03-17T12:15:03.113Z"
   },
   {
    "duration": 4,
    "start_time": "2022-03-17T12:15:16.501Z"
   },
   {
    "duration": 7,
    "start_time": "2022-03-17T12:15:19.048Z"
   },
   {
    "duration": 6,
    "start_time": "2022-03-17T12:15:20.715Z"
   },
   {
    "duration": 8,
    "start_time": "2022-03-17T12:15:22.698Z"
   },
   {
    "duration": 8,
    "start_time": "2022-03-17T12:15:24.178Z"
   },
   {
    "duration": 3,
    "start_time": "2022-03-17T12:15:28.224Z"
   },
   {
    "duration": 8,
    "start_time": "2022-03-17T12:15:30.223Z"
   },
   {
    "duration": 5,
    "start_time": "2022-03-17T12:15:39.808Z"
   },
   {
    "duration": 17,
    "start_time": "2022-03-17T12:15:45.784Z"
   },
   {
    "duration": 10,
    "start_time": "2022-03-17T12:15:49.134Z"
   },
   {
    "duration": 9,
    "start_time": "2022-03-17T12:15:50.837Z"
   },
   {
    "duration": 174,
    "start_time": "2022-03-17T12:17:03.496Z"
   },
   {
    "duration": 11,
    "start_time": "2022-03-17T12:17:06.623Z"
   },
   {
    "duration": 12166,
    "start_time": "2022-03-17T12:19:47.998Z"
   },
   {
    "duration": 7,
    "start_time": "2022-03-17T12:21:36.133Z"
   },
   {
    "duration": 10,
    "start_time": "2022-03-17T12:21:42.260Z"
   },
   {
    "duration": 15,
    "start_time": "2022-03-17T12:21:47.366Z"
   },
   {
    "duration": 21,
    "start_time": "2022-03-17T12:23:46.992Z"
   },
   {
    "duration": 5,
    "start_time": "2022-03-17T12:23:47.388Z"
   },
   {
    "duration": 8,
    "start_time": "2022-03-17T12:23:48.212Z"
   },
   {
    "duration": 4,
    "start_time": "2022-03-17T12:23:51.218Z"
   },
   {
    "duration": 4,
    "start_time": "2022-03-17T12:23:51.847Z"
   },
   {
    "duration": 4,
    "start_time": "2022-03-17T12:23:52.753Z"
   },
   {
    "duration": 4,
    "start_time": "2022-03-17T12:24:18.963Z"
   },
   {
    "duration": 34,
    "start_time": "2022-03-17T12:24:43.277Z"
   },
   {
    "duration": 4,
    "start_time": "2022-03-17T12:26:16.225Z"
   },
   {
    "duration": 39,
    "start_time": "2022-03-17T12:26:18.885Z"
   },
   {
    "duration": 4,
    "start_time": "2022-03-17T12:26:53.252Z"
   },
   {
    "duration": 4,
    "start_time": "2022-03-17T12:26:57.182Z"
   },
   {
    "duration": 42,
    "start_time": "2022-03-17T12:26:59.919Z"
   },
   {
    "duration": 5,
    "start_time": "2022-03-17T12:27:21.418Z"
   },
   {
    "duration": 7,
    "start_time": "2022-03-18T07:09:27.406Z"
   },
   {
    "duration": 1807,
    "start_time": "2022-03-18T07:09:31.782Z"
   },
   {
    "duration": 768,
    "start_time": "2022-03-18T07:09:33.592Z"
   },
   {
    "duration": 137,
    "start_time": "2022-03-18T07:09:34.362Z"
   },
   {
    "duration": 16,
    "start_time": "2022-03-18T07:09:34.501Z"
   },
   {
    "duration": 413,
    "start_time": "2022-03-18T07:09:34.518Z"
   },
   {
    "duration": 491,
    "start_time": "2022-03-18T07:09:34.932Z"
   },
   {
    "duration": 88,
    "start_time": "2022-03-18T07:09:35.425Z"
   },
   {
    "duration": 772,
    "start_time": "2022-03-18T07:09:35.514Z"
   },
   {
    "duration": 51,
    "start_time": "2022-03-18T07:09:36.287Z"
   },
   {
    "duration": 158,
    "start_time": "2022-03-18T07:09:36.341Z"
   },
   {
    "duration": 4,
    "start_time": "2022-03-18T07:09:36.501Z"
   },
   {
    "duration": 127,
    "start_time": "2022-03-18T07:09:36.507Z"
   },
   {
    "duration": 474,
    "start_time": "2022-03-18T07:09:36.636Z"
   },
   {
    "duration": 14,
    "start_time": "2022-03-18T07:09:37.111Z"
   },
   {
    "duration": 6,
    "start_time": "2022-03-18T07:09:37.126Z"
   },
   {
    "duration": 94,
    "start_time": "2022-03-18T07:09:37.134Z"
   },
   {
    "duration": 9,
    "start_time": "2022-03-18T07:09:37.230Z"
   },
   {
    "duration": 13,
    "start_time": "2022-03-18T07:09:37.241Z"
   },
   {
    "duration": 96,
    "start_time": "2022-03-18T07:09:37.255Z"
   },
   {
    "duration": 245,
    "start_time": "2022-03-18T07:09:37.353Z"
   },
   {
    "duration": 454,
    "start_time": "2022-03-18T07:09:37.601Z"
   },
   {
    "duration": 44,
    "start_time": "2022-03-18T07:09:38.057Z"
   },
   {
    "duration": 79,
    "start_time": "2022-03-18T07:09:38.102Z"
   },
   {
    "duration": 96,
    "start_time": "2022-03-18T07:09:38.182Z"
   },
   {
    "duration": 506,
    "start_time": "2022-03-18T07:09:38.279Z"
   },
   {
    "duration": 6,
    "start_time": "2022-03-18T07:09:38.787Z"
   },
   {
    "duration": 8,
    "start_time": "2022-03-18T07:09:38.794Z"
   },
   {
    "duration": 82,
    "start_time": "2022-03-18T07:09:38.805Z"
   },
   {
    "duration": 13,
    "start_time": "2022-03-18T07:09:38.889Z"
   },
   {
    "duration": 3,
    "start_time": "2022-03-18T07:09:38.904Z"
   },
   {
    "duration": 4,
    "start_time": "2022-03-18T07:09:38.909Z"
   },
   {
    "duration": 3,
    "start_time": "2022-03-18T07:09:43.394Z"
   },
   {
    "duration": 3,
    "start_time": "2022-03-18T07:09:47.966Z"
   },
   {
    "duration": 2,
    "start_time": "2022-03-18T07:09:48.034Z"
   },
   {
    "duration": 3,
    "start_time": "2022-03-18T07:09:48.756Z"
   },
   {
    "duration": 2,
    "start_time": "2022-03-18T07:09:49.356Z"
   },
   {
    "duration": 2,
    "start_time": "2022-03-18T07:10:26.796Z"
   },
   {
    "duration": 3,
    "start_time": "2022-03-18T07:10:31.894Z"
   },
   {
    "duration": 20186,
    "start_time": "2022-03-18T07:10:53.139Z"
   },
   {
    "duration": 4,
    "start_time": "2022-03-18T07:11:18.706Z"
   },
   {
    "duration": 12,
    "start_time": "2022-03-18T07:11:48.682Z"
   },
   {
    "duration": 4,
    "start_time": "2022-03-18T07:12:13.429Z"
   },
   {
    "duration": 10,
    "start_time": "2022-03-18T07:13:07.557Z"
   },
   {
    "duration": 188,
    "start_time": "2022-03-18T07:13:22.792Z"
   },
   {
    "duration": 4,
    "start_time": "2022-03-18T07:13:53.665Z"
   },
   {
    "duration": 97,
    "start_time": "2022-03-18T07:14:00.900Z"
   },
   {
    "duration": 8144,
    "start_time": "2022-03-18T07:15:08.227Z"
   },
   {
    "duration": 3,
    "start_time": "2022-03-18T07:15:23.408Z"
   },
   {
    "duration": 3,
    "start_time": "2022-03-18T07:16:38.278Z"
   },
   {
    "duration": 8,
    "start_time": "2022-03-18T07:17:18.972Z"
   },
   {
    "duration": 8,
    "start_time": "2022-03-18T07:17:24.377Z"
   },
   {
    "duration": 894,
    "start_time": "2022-03-18T07:17:32.322Z"
   },
   {
    "duration": 874,
    "start_time": "2022-03-18T07:18:26.993Z"
   },
   {
    "duration": 4,
    "start_time": "2022-03-18T07:18:54.260Z"
   },
   {
    "duration": 8,
    "start_time": "2022-03-18T07:20:10.036Z"
   },
   {
    "duration": 20,
    "start_time": "2022-03-18T07:20:58.290Z"
   },
   {
    "duration": 3,
    "start_time": "2022-03-18T07:20:58.618Z"
   },
   {
    "duration": 2,
    "start_time": "2022-03-18T07:20:59.387Z"
   },
   {
    "duration": 2,
    "start_time": "2022-03-18T07:21:02.188Z"
   },
   {
    "duration": 3,
    "start_time": "2022-03-18T07:21:02.942Z"
   },
   {
    "duration": 2,
    "start_time": "2022-03-18T07:21:10.758Z"
   },
   {
    "duration": 3,
    "start_time": "2022-03-18T07:21:11.757Z"
   },
   {
    "duration": 9,
    "start_time": "2022-03-18T07:21:13.567Z"
   },
   {
    "duration": 3,
    "start_time": "2022-03-18T07:21:55.269Z"
   },
   {
    "duration": 4,
    "start_time": "2022-03-18T07:22:15.565Z"
   },
   {
    "duration": 4,
    "start_time": "2022-03-18T07:22:26.302Z"
   },
   {
    "duration": 9,
    "start_time": "2022-03-18T07:22:31.813Z"
   },
   {
    "duration": 3,
    "start_time": "2022-03-18T07:22:41.491Z"
   },
   {
    "duration": 20,
    "start_time": "2022-03-18T07:23:16.192Z"
   },
   {
    "duration": 174,
    "start_time": "2022-03-18T07:23:38.951Z"
   },
   {
    "duration": 153,
    "start_time": "2022-03-18T07:23:44.889Z"
   },
   {
    "duration": 16,
    "start_time": "2022-03-18T07:23:48.453Z"
   },
   {
    "duration": 71,
    "start_time": "2022-03-18T07:23:52.139Z"
   },
   {
    "duration": 5833,
    "start_time": "2022-03-18T07:24:01.079Z"
   },
   {
    "duration": 5,
    "start_time": "2022-03-18T07:25:13.374Z"
   },
   {
    "duration": 12,
    "start_time": "2022-03-18T07:25:23.772Z"
   },
   {
    "duration": 3,
    "start_time": "2022-03-18T07:27:19.961Z"
   },
   {
    "duration": 6,
    "start_time": "2022-03-18T07:27:48.251Z"
   },
   {
    "duration": 1378,
    "start_time": "2022-03-18T07:28:14.927Z"
   },
   {
    "duration": 3,
    "start_time": "2022-03-18T07:28:23.917Z"
   },
   {
    "duration": 285,
    "start_time": "2022-03-18T07:29:11.130Z"
   },
   {
    "duration": 3,
    "start_time": "2022-03-18T07:31:30.756Z"
   },
   {
    "duration": 4,
    "start_time": "2022-03-18T07:31:35.541Z"
   },
   {
    "duration": 4,
    "start_time": "2022-03-18T07:31:46.940Z"
   },
   {
    "duration": 190,
    "start_time": "2022-03-18T07:32:23.545Z"
   },
   {
    "duration": 3,
    "start_time": "2022-03-18T07:32:27.924Z"
   },
   {
    "duration": 9919,
    "start_time": "2022-03-18T07:32:39.759Z"
   },
   {
    "duration": 6368,
    "start_time": "2022-03-18T07:32:55.861Z"
   },
   {
    "duration": 66,
    "start_time": "2022-03-18T07:38:48.447Z"
   },
   {
    "duration": 63,
    "start_time": "2022-03-18T07:38:58.793Z"
   },
   {
    "duration": 19538,
    "start_time": "2022-03-18T07:40:12.964Z"
   },
   {
    "duration": 193,
    "start_time": "2022-03-18T07:42:41.260Z"
   },
   {
    "duration": 5987,
    "start_time": "2022-03-18T07:42:44.826Z"
   },
   {
    "duration": 8,
    "start_time": "2022-03-18T07:50:03.909Z"
   },
   {
    "duration": 3,
    "start_time": "2022-03-18T07:52:47.136Z"
   },
   {
    "duration": 10,
    "start_time": "2022-03-18T07:52:56.344Z"
   },
   {
    "duration": 3,
    "start_time": "2022-03-18T07:53:38.958Z"
   },
   {
    "duration": 3,
    "start_time": "2022-03-18T07:53:42.423Z"
   },
   {
    "duration": 308,
    "start_time": "2022-03-18T07:53:47.267Z"
   },
   {
    "duration": 3,
    "start_time": "2022-03-18T08:01:23.478Z"
   },
   {
    "duration": 3,
    "start_time": "2022-03-18T08:01:26.513Z"
   },
   {
    "duration": 8471,
    "start_time": "2022-03-18T08:01:27.070Z"
   },
   {
    "duration": 3,
    "start_time": "2022-03-18T08:02:22.772Z"
   },
   {
    "duration": 3,
    "start_time": "2022-03-18T08:02:32.085Z"
   },
   {
    "duration": 3438,
    "start_time": "2022-03-18T08:02:32.440Z"
   },
   {
    "duration": 9716,
    "start_time": "2022-03-18T08:02:54.656Z"
   },
   {
    "duration": 63,
    "start_time": "2022-03-18T08:04:53.260Z"
   },
   {
    "duration": 3,
    "start_time": "2022-03-18T08:04:55.784Z"
   },
   {
    "duration": 9,
    "start_time": "2022-03-18T08:04:57.720Z"
   },
   {
    "duration": 61,
    "start_time": "2022-03-18T08:05:04.330Z"
   },
   {
    "duration": 3,
    "start_time": "2022-03-18T08:08:49.451Z"
   },
   {
    "duration": 3,
    "start_time": "2022-03-18T08:08:57.504Z"
   },
   {
    "duration": 3,
    "start_time": "2022-03-18T08:09:04.282Z"
   },
   {
    "duration": 6549,
    "start_time": "2022-03-18T08:09:07.871Z"
   },
   {
    "duration": 4,
    "start_time": "2022-03-18T08:09:31.365Z"
   },
   {
    "duration": 15,
    "start_time": "2022-03-18T08:09:45.020Z"
   },
   {
    "duration": 16,
    "start_time": "2022-03-18T08:09:48.532Z"
   },
   {
    "duration": 253,
    "start_time": "2022-03-18T08:10:04.376Z"
   },
   {
    "duration": 15,
    "start_time": "2022-03-18T08:10:09.101Z"
   },
   {
    "duration": 6500,
    "start_time": "2022-03-18T08:10:11.551Z"
   },
   {
    "duration": 3,
    "start_time": "2022-03-18T08:10:36.952Z"
   },
   {
    "duration": 324,
    "start_time": "2022-03-18T08:10:42.067Z"
   },
   {
    "duration": 35,
    "start_time": "2022-03-18T08:13:52.073Z"
   },
   {
    "duration": 5,
    "start_time": "2022-03-18T08:14:22.888Z"
   },
   {
    "duration": 1694,
    "start_time": "2022-03-18T17:06:12.341Z"
   },
   {
    "duration": 757,
    "start_time": "2022-03-18T17:06:14.037Z"
   },
   {
    "duration": 134,
    "start_time": "2022-03-18T17:06:14.796Z"
   },
   {
    "duration": 15,
    "start_time": "2022-03-18T17:06:14.932Z"
   },
   {
    "duration": 424,
    "start_time": "2022-03-18T17:06:14.949Z"
   },
   {
    "duration": 506,
    "start_time": "2022-03-18T17:06:15.374Z"
   },
   {
    "duration": 86,
    "start_time": "2022-03-18T17:06:15.881Z"
   },
   {
    "duration": 785,
    "start_time": "2022-03-18T17:06:15.969Z"
   },
   {
    "duration": 59,
    "start_time": "2022-03-18T17:06:16.756Z"
   },
   {
    "duration": 154,
    "start_time": "2022-03-18T17:06:16.818Z"
   },
   {
    "duration": 5,
    "start_time": "2022-03-18T17:06:16.974Z"
   },
   {
    "duration": 139,
    "start_time": "2022-03-18T17:06:16.981Z"
   },
   {
    "duration": 465,
    "start_time": "2022-03-18T17:06:17.122Z"
   },
   {
    "duration": 19,
    "start_time": "2022-03-18T17:06:17.588Z"
   },
   {
    "duration": 5,
    "start_time": "2022-03-18T17:06:17.608Z"
   },
   {
    "duration": 95,
    "start_time": "2022-03-18T17:06:17.614Z"
   },
   {
    "duration": 8,
    "start_time": "2022-03-18T17:06:17.710Z"
   },
   {
    "duration": 13,
    "start_time": "2022-03-18T17:06:17.719Z"
   },
   {
    "duration": 88,
    "start_time": "2022-03-18T17:06:17.733Z"
   },
   {
    "duration": 238,
    "start_time": "2022-03-18T17:06:17.823Z"
   },
   {
    "duration": 464,
    "start_time": "2022-03-18T17:06:18.062Z"
   },
   {
    "duration": 38,
    "start_time": "2022-03-18T17:06:18.527Z"
   },
   {
    "duration": 91,
    "start_time": "2022-03-18T17:06:18.566Z"
   },
   {
    "duration": 90,
    "start_time": "2022-03-18T17:06:18.659Z"
   },
   {
    "duration": 542,
    "start_time": "2022-03-18T17:06:18.750Z"
   },
   {
    "duration": 11,
    "start_time": "2022-03-18T17:06:19.294Z"
   },
   {
    "duration": 2,
    "start_time": "2022-03-18T17:06:19.307Z"
   },
   {
    "duration": 70,
    "start_time": "2022-03-18T17:06:19.314Z"
   },
   {
    "duration": 4,
    "start_time": "2022-03-18T17:06:19.400Z"
   },
   {
    "duration": 4,
    "start_time": "2022-03-18T17:06:19.406Z"
   },
   {
    "duration": 5,
    "start_time": "2022-03-18T17:06:19.412Z"
   },
   {
    "duration": 4,
    "start_time": "2022-03-18T17:06:19.418Z"
   },
   {
    "duration": 8,
    "start_time": "2022-03-18T17:06:19.424Z"
   },
   {
    "duration": 9,
    "start_time": "2022-03-18T17:06:19.434Z"
   },
   {
    "duration": 7,
    "start_time": "2022-03-18T17:06:19.444Z"
   },
   {
    "duration": 9,
    "start_time": "2022-03-18T17:06:19.452Z"
   },
   {
    "duration": 20521,
    "start_time": "2022-03-18T17:06:19.463Z"
   },
   {
    "duration": 18,
    "start_time": "2022-03-18T17:06:39.985Z"
   },
   {
    "duration": 6,
    "start_time": "2022-03-18T17:06:40.005Z"
   },
   {
    "duration": 8,
    "start_time": "2022-03-18T17:06:40.012Z"
   },
   {
    "duration": 7728,
    "start_time": "2022-03-18T17:06:40.021Z"
   },
   {
    "duration": 3,
    "start_time": "2022-03-18T17:06:47.751Z"
   },
   {
    "duration": 956,
    "start_time": "2022-03-18T17:06:47.756Z"
   },
   {
    "duration": 17,
    "start_time": "2022-03-18T17:06:48.714Z"
   },
   {
    "duration": 4,
    "start_time": "2022-03-18T17:06:48.733Z"
   },
   {
    "duration": 5,
    "start_time": "2022-03-18T17:06:48.738Z"
   },
   {
    "duration": 4,
    "start_time": "2022-03-18T17:06:48.745Z"
   },
   {
    "duration": 4,
    "start_time": "2022-03-18T17:06:48.751Z"
   },
   {
    "duration": 9,
    "start_time": "2022-03-18T17:06:48.757Z"
   },
   {
    "duration": 34,
    "start_time": "2022-03-18T17:06:48.768Z"
   },
   {
    "duration": 5,
    "start_time": "2022-03-18T17:06:48.804Z"
   },
   {
    "duration": 38895,
    "start_time": "2022-03-18T17:06:48.811Z"
   },
   {
    "duration": 16,
    "start_time": "2022-03-18T17:07:27.708Z"
   },
   {
    "duration": 5,
    "start_time": "2022-03-18T17:07:27.726Z"
   },
   {
    "duration": 10,
    "start_time": "2022-03-18T17:07:27.732Z"
   },
   {
    "duration": 20968,
    "start_time": "2022-03-18T17:07:27.743Z"
   },
   {
    "duration": 4,
    "start_time": "2022-03-18T17:07:48.713Z"
   },
   {
    "duration": 5,
    "start_time": "2022-03-18T17:08:12.490Z"
   },
   {
    "duration": 96,
    "start_time": "2022-03-18T17:08:24.888Z"
   },
   {
    "duration": 3,
    "start_time": "2022-03-18T17:08:40.222Z"
   },
   {
    "duration": 3,
    "start_time": "2022-03-18T17:08:45.822Z"
   },
   {
    "duration": 4,
    "start_time": "2022-03-18T17:08:50.113Z"
   },
   {
    "duration": 3,
    "start_time": "2022-03-18T17:09:06.645Z"
   },
   {
    "duration": 4,
    "start_time": "2022-03-18T17:09:11.558Z"
   },
   {
    "duration": 3,
    "start_time": "2022-03-18T17:09:18.898Z"
   },
   {
    "duration": 3,
    "start_time": "2022-03-18T17:09:33.704Z"
   },
   {
    "duration": 3,
    "start_time": "2022-03-18T17:09:41.808Z"
   },
   {
    "duration": 3719,
    "start_time": "2022-03-18T17:09:46.051Z"
   },
   {
    "duration": 3,
    "start_time": "2022-03-18T17:10:31.647Z"
   },
   {
    "duration": 23,
    "start_time": "2022-03-18T17:10:44.811Z"
   },
   {
    "duration": 3,
    "start_time": "2022-03-18T17:11:07.334Z"
   },
   {
    "duration": 3,
    "start_time": "2022-03-18T17:12:11.022Z"
   },
   {
    "duration": 2,
    "start_time": "2022-03-18T17:12:11.980Z"
   },
   {
    "duration": 22,
    "start_time": "2022-03-18T17:12:12.415Z"
   },
   {
    "duration": 9,
    "start_time": "2022-03-18T17:12:38.096Z"
   },
   {
    "duration": 9,
    "start_time": "2022-03-18T17:12:48.480Z"
   },
   {
    "duration": 4,
    "start_time": "2022-03-18T17:12:55.520Z"
   },
   {
    "duration": 3,
    "start_time": "2022-03-18T17:13:07.285Z"
   },
   {
    "duration": 3,
    "start_time": "2022-03-18T17:13:09.771Z"
   },
   {
    "duration": 3,
    "start_time": "2022-03-18T17:13:10.231Z"
   },
   {
    "duration": 3,
    "start_time": "2022-03-18T17:24:37.011Z"
   },
   {
    "duration": 4,
    "start_time": "2022-03-18T17:24:41.006Z"
   },
   {
    "duration": 25,
    "start_time": "2022-03-18T17:24:48.016Z"
   },
   {
    "duration": 5,
    "start_time": "2022-03-18T17:25:23.063Z"
   },
   {
    "duration": 3,
    "start_time": "2022-03-18T17:25:54.166Z"
   },
   {
    "duration": 3,
    "start_time": "2022-03-18T17:25:54.678Z"
   },
   {
    "duration": 23,
    "start_time": "2022-03-18T17:25:55.588Z"
   },
   {
    "duration": 3,
    "start_time": "2022-03-18T17:26:10.333Z"
   },
   {
    "duration": 3,
    "start_time": "2022-03-18T17:26:11.097Z"
   },
   {
    "duration": 23,
    "start_time": "2022-03-18T17:26:11.461Z"
   },
   {
    "duration": 3,
    "start_time": "2022-03-18T17:27:51.634Z"
   },
   {
    "duration": 2,
    "start_time": "2022-03-18T17:27:52.082Z"
   },
   {
    "duration": 3,
    "start_time": "2022-03-18T17:27:59.483Z"
   },
   {
    "duration": 3,
    "start_time": "2022-03-18T17:27:59.920Z"
   },
   {
    "duration": 13482,
    "start_time": "2022-03-18T17:28:00.386Z"
   },
   {
    "duration": 8,
    "start_time": "2022-03-18T17:28:35.176Z"
   },
   {
    "duration": 5,
    "start_time": "2022-03-18T17:28:42.232Z"
   },
   {
    "duration": 13,
    "start_time": "2022-03-18T17:28:57.052Z"
   },
   {
    "duration": 2,
    "start_time": "2022-03-18T17:29:21.889Z"
   },
   {
    "duration": 2,
    "start_time": "2022-03-18T17:29:28.456Z"
   },
   {
    "duration": 14142,
    "start_time": "2022-03-18T17:29:31.405Z"
   },
   {
    "duration": 11,
    "start_time": "2022-03-18T17:29:47.784Z"
   },
   {
    "duration": 4,
    "start_time": "2022-03-18T17:29:57.652Z"
   },
   {
    "duration": 8,
    "start_time": "2022-03-18T17:30:31.904Z"
   },
   {
    "duration": 8,
    "start_time": "2022-03-18T17:30:36.486Z"
   },
   {
    "duration": 5,
    "start_time": "2022-03-18T17:30:39.154Z"
   },
   {
    "duration": 8,
    "start_time": "2022-03-18T17:31:00.561Z"
   },
   {
    "duration": 10,
    "start_time": "2022-03-18T17:31:14.224Z"
   },
   {
    "duration": 4,
    "start_time": "2022-03-18T17:31:17.788Z"
   },
   {
    "duration": 3951,
    "start_time": "2022-03-18T17:31:56.934Z"
   },
   {
    "duration": 2,
    "start_time": "2022-03-18T17:35:25.780Z"
   },
   {
    "duration": 2,
    "start_time": "2022-03-18T17:35:27.939Z"
   },
   {
    "duration": 3,
    "start_time": "2022-03-18T17:35:28.374Z"
   },
   {
    "duration": 5519,
    "start_time": "2022-03-18T17:35:29.171Z"
   },
   {
    "duration": 3,
    "start_time": "2022-03-18T17:36:01.470Z"
   },
   {
    "duration": 3,
    "start_time": "2022-03-18T17:36:01.829Z"
   },
   {
    "duration": 2,
    "start_time": "2022-03-18T17:36:02.145Z"
   },
   {
    "duration": 18448,
    "start_time": "2022-03-18T17:36:02.895Z"
   },
   {
    "duration": 5,
    "start_time": "2022-03-18T17:37:02.916Z"
   },
   {
    "duration": 3,
    "start_time": "2022-03-18T17:37:03.254Z"
   },
   {
    "duration": 3964,
    "start_time": "2022-03-18T17:37:03.804Z"
   },
   {
    "duration": 932,
    "start_time": "2022-03-18T17:37:09.606Z"
   },
   {
    "duration": 4,
    "start_time": "2022-03-18T20:06:54.780Z"
   },
   {
    "duration": 267,
    "start_time": "2022-03-18T20:09:02.919Z"
   },
   {
    "duration": 8,
    "start_time": "2022-03-18T20:09:11.630Z"
   },
   {
    "duration": 66,
    "start_time": "2022-03-18T20:09:39.060Z"
   },
   {
    "duration": 202,
    "start_time": "2022-03-18T20:10:04.040Z"
   },
   {
    "duration": 3,
    "start_time": "2022-03-18T20:11:38.391Z"
   },
   {
    "duration": 9,
    "start_time": "2022-03-18T20:11:47.863Z"
   },
   {
    "duration": 3,
    "start_time": "2022-03-18T20:12:08.499Z"
   },
   {
    "duration": 7,
    "start_time": "2022-03-18T20:12:13.815Z"
   },
   {
    "duration": 4,
    "start_time": "2022-03-18T20:12:14.226Z"
   },
   {
    "duration": 2,
    "start_time": "2022-03-18T20:12:32.033Z"
   },
   {
    "duration": 991,
    "start_time": "2022-03-18T20:12:42.570Z"
   },
   {
    "duration": 3,
    "start_time": "2022-03-18T20:14:31.144Z"
   },
   {
    "duration": 931,
    "start_time": "2022-03-18T20:14:32.463Z"
   },
   {
    "duration": 9,
    "start_time": "2022-03-18T20:14:57.814Z"
   },
   {
    "duration": 9,
    "start_time": "2022-03-18T20:15:59.668Z"
   },
   {
    "duration": 8,
    "start_time": "2022-03-18T20:16:19.161Z"
   },
   {
    "duration": 350,
    "start_time": "2022-03-18T20:16:19.617Z"
   },
   {
    "duration": 132,
    "start_time": "2022-03-18T20:16:35.173Z"
   },
   {
    "duration": 7,
    "start_time": "2022-03-18T20:16:45.035Z"
   },
   {
    "duration": 3,
    "start_time": "2022-03-18T20:16:45.521Z"
   },
   {
    "duration": 116,
    "start_time": "2022-03-18T20:16:49.837Z"
   },
   {
    "duration": 812,
    "start_time": "2022-03-18T20:16:53.999Z"
   },
   {
    "duration": 4,
    "start_time": "2022-03-18T20:17:02.025Z"
   },
   {
    "duration": 10,
    "start_time": "2022-03-18T20:17:06.892Z"
   },
   {
    "duration": 13,
    "start_time": "2022-03-18T20:17:30.225Z"
   },
   {
    "duration": 10,
    "start_time": "2022-03-18T20:17:43.427Z"
   },
   {
    "duration": 9,
    "start_time": "2022-03-18T20:17:50.335Z"
   },
   {
    "duration": 364,
    "start_time": "2022-03-18T20:17:50.767Z"
   },
   {
    "duration": 7,
    "start_time": "2022-03-18T20:17:51.132Z"
   },
   {
    "duration": 4,
    "start_time": "2022-03-18T20:17:51.573Z"
   },
   {
    "duration": 135,
    "start_time": "2022-03-18T20:17:52.292Z"
   },
   {
    "duration": 11057,
    "start_time": "2022-03-18T20:18:20.840Z"
   },
   {
    "duration": 15,
    "start_time": "2022-03-18T20:18:54.160Z"
   },
   {
    "duration": 10449,
    "start_time": "2022-03-18T20:19:09.076Z"
   },
   {
    "duration": 22,
    "start_time": "2022-03-18T20:19:23.707Z"
   },
   {
    "duration": 11,
    "start_time": "2022-03-18T20:19:46.881Z"
   },
   {
    "duration": 3,
    "start_time": "2022-03-18T20:20:43.966Z"
   },
   {
    "duration": 935,
    "start_time": "2022-03-18T20:20:46.497Z"
   },
   {
    "duration": 3,
    "start_time": "2022-03-18T20:20:56.210Z"
   },
   {
    "duration": 384,
    "start_time": "2022-03-18T20:20:59.030Z"
   },
   {
    "duration": 3,
    "start_time": "2022-03-18T20:21:27.599Z"
   },
   {
    "duration": 9765,
    "start_time": "2022-03-18T20:21:28.638Z"
   },
   {
    "duration": 9529,
    "start_time": "2022-03-18T20:22:06.578Z"
   },
   {
    "duration": 9608,
    "start_time": "2022-03-18T20:22:32.003Z"
   },
   {
    "duration": 9,
    "start_time": "2022-03-18T20:23:01.079Z"
   },
   {
    "duration": 5,
    "start_time": "2022-03-18T20:23:07.084Z"
   },
   {
    "duration": 3,
    "start_time": "2022-03-18T20:23:29.948Z"
   },
   {
    "duration": 734,
    "start_time": "2022-03-18T20:24:47.882Z"
   },
   {
    "duration": 191,
    "start_time": "2022-03-18T20:25:08.249Z"
   },
   {
    "duration": 711,
    "start_time": "2022-03-18T20:25:11.797Z"
   },
   {
    "duration": 10,
    "start_time": "2022-03-18T20:25:40.135Z"
   },
   {
    "duration": 724,
    "start_time": "2022-03-18T20:25:48.621Z"
   },
   {
    "duration": 728,
    "start_time": "2022-03-18T20:26:15.651Z"
   },
   {
    "duration": 757,
    "start_time": "2022-03-18T20:26:58.216Z"
   },
   {
    "duration": 801,
    "start_time": "2022-03-18T20:27:05.360Z"
   },
   {
    "duration": 5,
    "start_time": "2022-03-18T20:27:28.568Z"
   },
   {
    "duration": 189,
    "start_time": "2022-03-18T20:27:47.337Z"
   },
   {
    "duration": 733,
    "start_time": "2022-03-18T20:27:49.896Z"
   },
   {
    "duration": 5,
    "start_time": "2022-03-18T20:28:04.175Z"
   },
   {
    "duration": 11,
    "start_time": "2022-03-18T20:28:11.812Z"
   },
   {
    "duration": 775,
    "start_time": "2022-03-18T20:28:28.781Z"
   },
   {
    "duration": 9,
    "start_time": "2022-03-18T20:29:09.607Z"
   },
   {
    "duration": 173,
    "start_time": "2022-03-18T20:29:24.582Z"
   },
   {
    "duration": 5,
    "start_time": "2022-03-18T20:29:28.564Z"
   },
   {
    "duration": 4,
    "start_time": "2022-03-18T20:29:33.700Z"
   },
   {
    "duration": 774,
    "start_time": "2022-03-18T20:29:44.227Z"
   },
   {
    "duration": 17,
    "start_time": "2022-03-18T20:30:09.387Z"
   },
   {
    "duration": 742,
    "start_time": "2022-03-18T20:30:19.205Z"
   },
   {
    "duration": 733,
    "start_time": "2022-03-18T20:31:42.322Z"
   },
   {
    "duration": 222,
    "start_time": "2022-03-18T20:32:11.077Z"
   },
   {
    "duration": 3,
    "start_time": "2022-03-18T20:33:33.536Z"
   },
   {
    "duration": 2,
    "start_time": "2022-03-18T20:33:46.480Z"
   },
   {
    "duration": 2,
    "start_time": "2022-03-18T20:33:56.951Z"
   },
   {
    "duration": 9,
    "start_time": "2022-03-18T20:34:32.001Z"
   },
   {
    "duration": 2,
    "start_time": "2022-03-18T20:34:44.467Z"
   },
   {
    "duration": 3,
    "start_time": "2022-03-18T20:36:23.221Z"
   },
   {
    "duration": 193,
    "start_time": "2022-03-18T20:39:10.326Z"
   },
   {
    "duration": 4,
    "start_time": "2022-03-18T20:39:41.932Z"
   },
   {
    "duration": 5,
    "start_time": "2022-03-18T20:39:46.239Z"
   },
   {
    "duration": 10,
    "start_time": "2022-03-18T20:40:06.835Z"
   },
   {
    "duration": 3,
    "start_time": "2022-03-18T20:40:28.374Z"
   },
   {
    "duration": 5,
    "start_time": "2022-03-18T20:40:31.943Z"
   },
   {
    "duration": 3,
    "start_time": "2022-03-18T20:42:39.159Z"
   },
   {
    "duration": 9,
    "start_time": "2022-03-18T20:42:53.441Z"
   },
   {
    "duration": 11,
    "start_time": "2022-03-18T20:43:06.385Z"
   },
   {
    "duration": 3,
    "start_time": "2022-03-18T20:43:24.373Z"
   },
   {
    "duration": 9,
    "start_time": "2022-03-18T20:43:24.875Z"
   },
   {
    "duration": 10,
    "start_time": "2022-03-18T20:45:38.014Z"
   },
   {
    "duration": 5,
    "start_time": "2022-03-18T20:45:43.082Z"
   },
   {
    "duration": 4,
    "start_time": "2022-03-18T20:45:45.685Z"
   },
   {
    "duration": 5,
    "start_time": "2022-03-18T20:45:48.694Z"
   },
   {
    "duration": 10,
    "start_time": "2022-03-18T20:45:52.685Z"
   },
   {
    "duration": 4,
    "start_time": "2022-03-18T20:47:05.678Z"
   },
   {
    "duration": 11,
    "start_time": "2022-03-18T20:47:09.515Z"
   },
   {
    "duration": 8,
    "start_time": "2022-03-18T20:47:27.081Z"
   },
   {
    "duration": 798,
    "start_time": "2022-03-18T20:48:31.394Z"
   },
   {
    "duration": 779,
    "start_time": "2022-03-18T20:48:40.145Z"
   },
   {
    "duration": 24054,
    "start_time": "2022-03-18T20:51:40.086Z"
   },
   {
    "duration": 4,
    "start_time": "2022-03-18T20:52:30.571Z"
   },
   {
    "duration": 2,
    "start_time": "2022-03-18T20:53:35.285Z"
   },
   {
    "duration": 2,
    "start_time": "2022-03-18T20:53:35.679Z"
   },
   {
    "duration": 3,
    "start_time": "2022-03-18T20:53:53.380Z"
   },
   {
    "duration": 3,
    "start_time": "2022-03-18T20:54:08.506Z"
   },
   {
    "duration": 3,
    "start_time": "2022-03-18T20:54:33.486Z"
   },
   {
    "duration": 10,
    "start_time": "2022-03-18T20:54:41.886Z"
   },
   {
    "duration": 4,
    "start_time": "2022-03-18T20:55:00.863Z"
   },
   {
    "duration": 3,
    "start_time": "2022-03-18T20:59:02.067Z"
   },
   {
    "duration": 11,
    "start_time": "2022-03-18T20:59:03.376Z"
   },
   {
    "duration": 7,
    "start_time": "2022-03-18T20:59:06.074Z"
   },
   {
    "duration": 15923,
    "start_time": "2022-03-18T20:59:32.897Z"
   },
   {
    "duration": 50490,
    "start_time": "2022-03-18T21:00:06.160Z"
   },
   {
    "duration": 9,
    "start_time": "2022-03-18T21:01:07.026Z"
   },
   {
    "duration": 11,
    "start_time": "2022-03-18T21:01:09.720Z"
   },
   {
    "duration": 9,
    "start_time": "2022-03-18T21:01:55.109Z"
   },
   {
    "duration": 12,
    "start_time": "2022-03-18T21:02:06.613Z"
   },
   {
    "duration": 146,
    "start_time": "2022-03-18T21:03:16.002Z"
   },
   {
    "duration": 233,
    "start_time": "2022-03-18T21:12:35.022Z"
   },
   {
    "duration": 2515,
    "start_time": "2022-03-19T07:50:44.746Z"
   },
   {
    "duration": 7098,
    "start_time": "2022-03-19T07:50:47.265Z"
   },
   {
    "duration": 179,
    "start_time": "2022-03-19T07:50:54.367Z"
   },
   {
    "duration": 28,
    "start_time": "2022-03-19T07:51:02.293Z"
   },
   {
    "duration": 887,
    "start_time": "2022-03-19T07:51:22.210Z"
   },
   {
    "duration": 130,
    "start_time": "2022-03-19T07:51:23.100Z"
   },
   {
    "duration": 1462,
    "start_time": "2022-03-19T07:51:28.040Z"
   },
   {
    "duration": 71,
    "start_time": "2022-03-19T07:51:57.120Z"
   },
   {
    "duration": 279,
    "start_time": "2022-03-19T07:51:58.230Z"
   },
   {
    "duration": 8,
    "start_time": "2022-03-19T07:52:01.920Z"
   },
   {
    "duration": 181,
    "start_time": "2022-03-19T07:52:13.561Z"
   },
   {
    "duration": 819,
    "start_time": "2022-03-19T07:52:16.204Z"
   },
   {
    "duration": 21,
    "start_time": "2022-03-19T07:52:22.210Z"
   },
   {
    "duration": 9,
    "start_time": "2022-03-19T07:52:26.330Z"
   },
   {
    "duration": 160,
    "start_time": "2022-03-19T07:52:29.823Z"
   },
   {
    "duration": 17,
    "start_time": "2022-03-19T07:52:31.052Z"
   },
   {
    "duration": 14,
    "start_time": "2022-03-19T07:52:56.607Z"
   },
   {
    "duration": 36,
    "start_time": "2022-03-19T07:53:01.791Z"
   },
   {
    "duration": 153,
    "start_time": "2022-03-19T07:53:10.921Z"
   },
   {
    "duration": 403,
    "start_time": "2022-03-19T07:53:11.701Z"
   },
   {
    "duration": 823,
    "start_time": "2022-03-19T07:53:14.775Z"
   },
   {
    "duration": 64,
    "start_time": "2022-03-19T07:53:26.010Z"
   },
   {
    "duration": 99,
    "start_time": "2022-03-19T07:53:30.509Z"
   },
   {
    "duration": 104,
    "start_time": "2022-03-19T07:53:34.410Z"
   },
   {
    "duration": 1219,
    "start_time": "2022-03-19T07:53:40.696Z"
   },
   {
    "duration": 8,
    "start_time": "2022-03-19T07:56:05.294Z"
   },
   {
    "duration": 3,
    "start_time": "2022-03-19T07:56:05.653Z"
   },
   {
    "duration": 171,
    "start_time": "2022-03-19T07:56:06.500Z"
   },
   {
    "duration": 6,
    "start_time": "2022-03-19T07:56:06.867Z"
   },
   {
    "duration": 5,
    "start_time": "2022-03-19T07:56:10.969Z"
   },
   {
    "duration": 5,
    "start_time": "2022-03-19T07:56:11.931Z"
   },
   {
    "duration": 4,
    "start_time": "2022-03-19T07:57:32.831Z"
   },
   {
    "duration": 4,
    "start_time": "2022-03-19T07:58:26.869Z"
   },
   {
    "duration": 4,
    "start_time": "2022-03-19T07:58:52.261Z"
   },
   {
    "duration": 3,
    "start_time": "2022-03-19T07:58:53.417Z"
   },
   {
    "duration": 4,
    "start_time": "2022-03-19T07:59:13.768Z"
   },
   {
    "duration": 5,
    "start_time": "2022-03-19T07:59:16.381Z"
   },
   {
    "duration": 291374,
    "start_time": "2022-03-19T07:59:18.084Z"
   },
   {
    "duration": 24,
    "start_time": "2022-03-19T08:04:17.787Z"
   },
   {
    "duration": 5,
    "start_time": "2022-03-19T08:04:40.575Z"
   },
   {
    "duration": 6,
    "start_time": "2022-03-19T08:04:58.351Z"
   },
   {
    "duration": 5,
    "start_time": "2022-03-19T08:05:10.760Z"
   },
   {
    "duration": 11,
    "start_time": "2022-03-19T08:05:32.453Z"
   },
   {
    "duration": 3,
    "start_time": "2022-03-19T08:06:09.783Z"
   },
   {
    "duration": 33,
    "start_time": "2022-03-19T08:08:22.480Z"
   },
   {
    "duration": 6,
    "start_time": "2022-03-19T08:08:24.422Z"
   },
   {
    "duration": 6,
    "start_time": "2022-03-19T08:08:28.608Z"
   },
   {
    "duration": 3,
    "start_time": "2022-03-19T08:08:29.345Z"
   },
   {
    "duration": 5,
    "start_time": "2022-03-19T08:08:30.129Z"
   },
   {
    "duration": 4,
    "start_time": "2022-03-19T08:08:30.885Z"
   },
   {
    "duration": 5,
    "start_time": "2022-03-19T08:08:33.177Z"
   },
   {
    "duration": 5,
    "start_time": "2022-03-19T08:08:34.196Z"
   },
   {
    "duration": 524668,
    "start_time": "2022-03-19T08:08:36.929Z"
   },
   {
    "duration": 28,
    "start_time": "2022-03-19T08:20:39.285Z"
   },
   {
    "duration": 6,
    "start_time": "2022-03-19T08:21:18.860Z"
   },
   {
    "duration": 11,
    "start_time": "2022-03-19T08:21:24.599Z"
   },
   {
    "duration": 4,
    "start_time": "2022-03-19T08:21:45.478Z"
   },
   {
    "duration": 4,
    "start_time": "2022-03-19T08:22:17.006Z"
   },
   {
    "duration": 4,
    "start_time": "2022-03-19T08:22:52.478Z"
   },
   {
    "duration": 5,
    "start_time": "2022-03-19T08:22:53.008Z"
   },
   {
    "duration": 4,
    "start_time": "2022-03-19T08:31:22.781Z"
   },
   {
    "duration": 5,
    "start_time": "2022-03-19T08:33:06.222Z"
   },
   {
    "duration": 4,
    "start_time": "2022-03-19T08:33:09.314Z"
   },
   {
    "duration": 75472,
    "start_time": "2022-03-19T08:33:38.811Z"
   },
   {
    "duration": 24,
    "start_time": "2022-03-19T08:35:10.055Z"
   },
   {
    "duration": 164,
    "start_time": "2022-03-19T08:37:13.330Z"
   },
   {
    "duration": 11,
    "start_time": "2022-03-19T08:37:16.748Z"
   },
   {
    "duration": 6,
    "start_time": "2022-03-19T08:37:36.875Z"
   },
   {
    "duration": 6,
    "start_time": "2022-03-19T08:38:15.543Z"
   },
   {
    "duration": 7,
    "start_time": "2022-03-19T08:38:38.169Z"
   },
   {
    "duration": 3,
    "start_time": "2022-03-19T08:41:04.178Z"
   },
   {
    "duration": 16,
    "start_time": "2022-03-19T08:41:09.407Z"
   },
   {
    "duration": 4,
    "start_time": "2022-03-19T08:41:30.591Z"
   },
   {
    "duration": 3,
    "start_time": "2022-03-19T08:41:35.803Z"
   },
   {
    "duration": 4,
    "start_time": "2022-03-19T08:46:46.663Z"
   },
   {
    "duration": 5,
    "start_time": "2022-03-19T08:47:18.924Z"
   },
   {
    "duration": 15663,
    "start_time": "2022-03-19T08:50:06.024Z"
   },
   {
    "duration": 4,
    "start_time": "2022-03-19T08:50:34.772Z"
   },
   {
    "duration": 400,
    "start_time": "2022-03-19T08:51:21.465Z"
   },
   {
    "duration": 22,
    "start_time": "2022-03-19T08:57:34.705Z"
   },
   {
    "duration": 87958,
    "start_time": "2022-03-19T09:00:07.882Z"
   },
   {
    "duration": 5,
    "start_time": "2022-03-19T09:01:45.850Z"
   },
   {
    "duration": 247853,
    "start_time": "2022-03-19T09:02:01.487Z"
   },
   {
    "duration": 17,
    "start_time": "2022-03-19T09:06:13.748Z"
   },
   {
    "duration": 20,
    "start_time": "2022-03-19T09:06:18.679Z"
   }
  ],
  "kernelspec": {
   "display_name": "Python 3 (ipykernel)",
   "language": "python",
   "name": "python3"
  },
  "language_info": {
   "codemirror_mode": {
    "name": "ipython",
    "version": 3
   },
   "file_extension": ".py",
   "mimetype": "text/x-python",
   "name": "python",
   "nbconvert_exporter": "python",
   "pygments_lexer": "ipython3",
   "version": "3.9.5"
  },
  "toc": {
   "base_numbering": 1,
   "nav_menu": {},
   "number_sections": true,
   "sideBar": true,
   "skip_h1_title": true,
   "title_cell": "Содержание",
   "title_sidebar": "Содержание",
   "toc_cell": true,
   "toc_position": {
    "height": "calc(100% - 180px)",
    "left": "10px",
    "top": "150px",
    "width": "202.797px"
   },
   "toc_section_display": true,
   "toc_window_display": false
  }
 },
 "nbformat": 4,
 "nbformat_minor": 2
}
