{
 "cells": [
  {
   "cell_type": "markdown",
   "metadata": {
    "cellId": "myhbntrth7j5oan1w3gh9"
   },
   "source": [
    "# Определение перспективного тарифа для телеком-компании"
   ]
  },
  {
   "cell_type": "markdown",
   "metadata": {
    "cellId": "tgszrqcohu12kf4nygui9n"
   },
   "source": [
    "## Описание проекта\n",
    "Заказчик - «Мегалайн» — федеральноый оператор сотовой связи. Клиентам предлагают два тарифных плана: «Смарт» и «Ультра». Чтобы скорректировать рекламный бюджет, коммерческий департамент хочет понять, какой тариф приносит больше денег."
   ]
  },
  {
   "cell_type": "markdown",
   "metadata": {
    "cellId": "nlkj3q8jp7iioa9wc5bolo"
   },
   "source": [
    "### Описание тарифов\n",
    "*Тариф «Смарт»*\n",
    "\n",
    "Ежемесячная плата: 550 рублей\n",
    "Включено 500 минут разговора, 50 сообщений и 15 Гб интернет-трафика\n",
    "Стоимость услуг сверх тарифного пакета: \n",
    "1. минута разговора: 3 рубля («Мегалайн» всегда округляет вверх значения минут и мегабайтов. Если пользователь проговорил всего 1 секунду, в тарифе засчитывается целая минута); \n",
    "2. сообщение: 3 рубля; \n",
    "3. 1 Гб интернет-трафика: 200 рублей.\n",
    "*Тариф «Ультра»*\n",
    "\n",
    "Ежемесячная плата: 1950 рублей\n",
    "Включено 3000 минут разговора, 1000 сообщений и 30 Гб интернет-трафика\n",
    "Стоимость услуг сверх тарифного пакета: \n",
    "1. минута разговора: 1 рубль; \n",
    "2. сообщение: 1 рубль; \n",
    "3. 1 Гб интернет-трафика: 150 рублей.\n",
    "\n",
    "\n",
    "*Примечание:\n",
    "«Мегалайн» всегда округляет секунды до минут, а мегабайты — до гигабайт. Каждый звонок округляется отдельно: даже если он длился всего 1 секунду, будет засчитан как 1 минута.\n",
    "Для веб-трафика отдельные сессии не считаются. Вместо этого общая сумма за месяц округляется в бо́льшую сторону. Если абонент использует 1025 мегабайт в этом месяце, с него возьмут плату за 2 гигабайта.*"
   ]
  },
  {
   "cell_type": "markdown",
   "metadata": {
    "cellId": "3kirct0d411ihsi7mljdz"
   },
   "source": [
    "### Цель проекта\n",
    "Проанализировать поведение клиентов и сделать вывод — какой тариф лучше."
   ]
  },
  {
   "cell_type": "markdown",
   "metadata": {
    "cellId": "j6gd7ffg19szvlrak8vc"
   },
   "source": [
    "### Объект исследования\n",
    "\n",
    "Представлена небольшая выборка клиентов. В нашем распоряжении данные 500 пользователей «Мегалайна»: кто они, откуда, каким тарифом пользуются, сколько звонков и сообщений каждый отправил за 2018 год."
   ]
  },
  {
   "cell_type": "markdown",
   "metadata": {
    "cellId": "lsiv74yabn83gqe55l1tus"
   },
   "source": [
    "### Файлы для работы: \n",
    "- `/datasets/calls.csv` - информация о звонках\n",
    "- `/datasets/internet.csv` - информация об интернет-сессиях\n",
    "- `/datasets/messages.csv` - информация о сообщениях\n",
    "- `/datasets/tariffs.csv` - информация о тарифах\n",
    "- `/datasets/users.csv` - информация о пользователях"
   ]
  },
  {
   "cell_type": "markdown",
   "metadata": {
    "cellId": "bjldjpbpjsayvndyk6x9lq"
   },
   "source": [
    "### Задачи проекта:\n",
    "\n",
    "Определить для каждого пользователя:\n",
    "- количество сделанных звонков и израсходованных минут разговора по месяцам;\n",
    "- количество отправленных сообщений по месяцам;\n",
    "- объем израсходованного интернет-трафика по месяцам;\n",
    "- помесячную выручку с каждого пользователя (вычтите бесплатный лимит из суммарного количества звонков, сообщений и интернет-трафика; остаток умножьте на значение из тарифного плана; прибавьте абонентскую плату, соответствующую тарифному плану).\n",
    "\n",
    "Описать поведение клиентов оператора, исходя из выборки:\n",
    "- Сколько минут разговора, сколько сообщений и какой объём интернет-трафика требуется пользователям каждого тарифа в месяц? \n",
    "- Определить среднее количество, дисперсию и стандартное отклонение. \n",
    "- Построить гистограммы. \n",
    "- Описать распределения.\n",
    "\n",
    "Проверить гипотезы:\n",
    "- средняя выручка пользователей тарифов «Ультра» и «Смарт» различаются;\n",
    "- средняя выручка пользователей из Москвы отличается от выручки пользователей из других регионов."
   ]
  },
  {
   "cell_type": "markdown",
   "metadata": {},
   "source": [
    "**План исследования**\n",
    "\n",
    "- [2. Обзор данных](#section_2)\n",
    "- [3. Предобработка данных](#section_3)\n",
    "- [4. Анализ данных](#section_4)\n",
    "    - [Группировка данных](#section_4_1)\n",
    "    - [Объединение данных](#section_4_2)\n",
    "    - [Построение гистограмм](#section_4_3)\n",
    "    - [Определение выручки от абонента](#section_4_4)\n",
    "    - [Проверка гипотез](#section_4_5)\n",
    "- [5. Общие Выводы](#section_5)\n"
   ]
  },
  {
   "cell_type": "markdown",
   "metadata": {
    "cellId": "zw4ke3rarz59yfisivwaf"
   },
   "source": [
    "<a id='section_2'></a>\n",
    "## Обзор данных"
   ]
  },
  {
   "cell_type": "markdown",
   "metadata": {
    "cellId": "884ygttnenj5j2gw2vncnk"
   },
   "source": [
    "Импортируем `pandas`"
   ]
  },
  {
   "cell_type": "code",
   "execution_count": 3,
   "metadata": {
    "cellId": "nkp3yecycejtlfu7jyyk1c"
   },
   "outputs": [],
   "source": [
    "import pandas as pd"
   ]
  },
  {
   "cell_type": "markdown",
   "metadata": {
    "cellId": "o1kqv8cw76sdvht1q3b39"
   },
   "source": [
    "Успешно. Прочитаем и выведем на экран информацию о звонках"
   ]
  },
  {
   "cell_type": "code",
   "execution_count": 4,
   "metadata": {
    "cellId": "x7lsp30dschcwgl97zdct"
   },
   "outputs": [],
   "source": [
    "df_calls = pd.read_csv('/datasets/calls.csv')"
   ]
  },
  {
   "cell_type": "code",
   "execution_count": 5,
   "metadata": {
    "cellId": "9p2u5o0iyi69s132f5j849"
   },
   "outputs": [
    {
     "name": "stdout",
     "output_type": "stream",
     "text": [
      "<class 'pandas.core.frame.DataFrame'>\n",
      "RangeIndex: 202607 entries, 0 to 202606\n",
      "Data columns (total 4 columns):\n",
      "id           202607 non-null object\n",
      "call_date    202607 non-null object\n",
      "duration     202607 non-null float64\n",
      "user_id      202607 non-null int64\n",
      "dtypes: float64(1), int64(1), object(2)\n",
      "memory usage: 6.2+ MB\n"
     ]
    }
   ],
   "source": [
    "df_calls.info()"
   ]
  },
  {
   "cell_type": "markdown",
   "metadata": {
    "cellId": "anyubjm73frwi3w65k40o7"
   },
   "source": [
    "Файл прочитался без ошибок. В нем 202607 записей, без пропусков. Посмотрим первый записи таблицы."
   ]
  },
  {
   "cell_type": "code",
   "execution_count": 6,
   "metadata": {
    "cellId": "ss5n32phcupywkv16g5k"
   },
   "outputs": [
    {
     "data": {
      "text/html": [
       "<div>\n",
       "<style scoped>\n",
       "    .dataframe tbody tr th:only-of-type {\n",
       "        vertical-align: middle;\n",
       "    }\n",
       "\n",
       "    .dataframe tbody tr th {\n",
       "        vertical-align: top;\n",
       "    }\n",
       "\n",
       "    .dataframe thead th {\n",
       "        text-align: right;\n",
       "    }\n",
       "</style>\n",
       "<table border=\"1\" class=\"dataframe\">\n",
       "  <thead>\n",
       "    <tr style=\"text-align: right;\">\n",
       "      <th></th>\n",
       "      <th>id</th>\n",
       "      <th>call_date</th>\n",
       "      <th>duration</th>\n",
       "      <th>user_id</th>\n",
       "    </tr>\n",
       "  </thead>\n",
       "  <tbody>\n",
       "    <tr>\n",
       "      <td>0</td>\n",
       "      <td>1000_0</td>\n",
       "      <td>2018-07-25</td>\n",
       "      <td>0.00</td>\n",
       "      <td>1000</td>\n",
       "    </tr>\n",
       "    <tr>\n",
       "      <td>1</td>\n",
       "      <td>1000_1</td>\n",
       "      <td>2018-08-17</td>\n",
       "      <td>0.00</td>\n",
       "      <td>1000</td>\n",
       "    </tr>\n",
       "    <tr>\n",
       "      <td>2</td>\n",
       "      <td>1000_2</td>\n",
       "      <td>2018-06-11</td>\n",
       "      <td>2.85</td>\n",
       "      <td>1000</td>\n",
       "    </tr>\n",
       "    <tr>\n",
       "      <td>3</td>\n",
       "      <td>1000_3</td>\n",
       "      <td>2018-09-21</td>\n",
       "      <td>13.80</td>\n",
       "      <td>1000</td>\n",
       "    </tr>\n",
       "    <tr>\n",
       "      <td>4</td>\n",
       "      <td>1000_4</td>\n",
       "      <td>2018-12-15</td>\n",
       "      <td>5.18</td>\n",
       "      <td>1000</td>\n",
       "    </tr>\n",
       "  </tbody>\n",
       "</table>\n",
       "</div>"
      ],
      "text/plain": [
       "       id   call_date  duration  user_id\n",
       "0  1000_0  2018-07-25      0.00     1000\n",
       "1  1000_1  2018-08-17      0.00     1000\n",
       "2  1000_2  2018-06-11      2.85     1000\n",
       "3  1000_3  2018-09-21     13.80     1000\n",
       "4  1000_4  2018-12-15      5.18     1000"
      ]
     },
     "execution_count": 6,
     "metadata": {},
     "output_type": "execute_result"
    }
   ],
   "source": [
    "df_calls.head()"
   ]
  },
  {
   "cell_type": "markdown",
   "metadata": {
    "cellId": "nhaeg82rycmlzbhptug3a"
   },
   "source": [
    "Согласно представленной информации в таблице следующая информация:\n",
    "- `id` — уникальный номер звонка\n",
    "- `call_date` — дата звонка\n",
    "- `duration` — длительность звонка в минутах\n",
    "- `user_id` — идентификатор пользователя, сделавшего звонок\n",
    "\n",
    "Указано, что 0 в длительности звонка - это пропущенный звонок."
   ]
  },
  {
   "cell_type": "markdown",
   "metadata": {
    "cellId": "v7knmdep2i6uaa0zw46lm"
   },
   "source": [
    " Прочитаем и выведем информацию об интернет-сессиях:"
   ]
  },
  {
   "cell_type": "code",
   "execution_count": 7,
   "metadata": {
    "cellId": "1okss5boxov3rtjp8umsxp"
   },
   "outputs": [],
   "source": [
    "df_internet = pd.read_csv('/datasets/internet.csv')"
   ]
  },
  {
   "cell_type": "code",
   "execution_count": 8,
   "metadata": {
    "cellId": "m80cq6edsze0boll1ry66"
   },
   "outputs": [
    {
     "name": "stdout",
     "output_type": "stream",
     "text": [
      "<class 'pandas.core.frame.DataFrame'>\n",
      "RangeIndex: 149396 entries, 0 to 149395\n",
      "Data columns (total 5 columns):\n",
      "Unnamed: 0      149396 non-null int64\n",
      "id              149396 non-null object\n",
      "mb_used         149396 non-null float64\n",
      "session_date    149396 non-null object\n",
      "user_id         149396 non-null int64\n",
      "dtypes: float64(1), int64(2), object(2)\n",
      "memory usage: 5.7+ MB\n"
     ]
    }
   ],
   "source": [
    "df_internet.info()"
   ]
  },
  {
   "cell_type": "markdown",
   "metadata": {
    "cellId": "p6qyroq4k4aspr75re3l8"
   },
   "source": [
    "Файл прочитался без ошибок. В нем 149396 записей, без пропусков. Выведем первые 5 строк."
   ]
  },
  {
   "cell_type": "code",
   "execution_count": 9,
   "metadata": {
    "cellId": "8i0kvi51skmvudynrdvsl"
   },
   "outputs": [
    {
     "data": {
      "text/html": [
       "<div>\n",
       "<style scoped>\n",
       "    .dataframe tbody tr th:only-of-type {\n",
       "        vertical-align: middle;\n",
       "    }\n",
       "\n",
       "    .dataframe tbody tr th {\n",
       "        vertical-align: top;\n",
       "    }\n",
       "\n",
       "    .dataframe thead th {\n",
       "        text-align: right;\n",
       "    }\n",
       "</style>\n",
       "<table border=\"1\" class=\"dataframe\">\n",
       "  <thead>\n",
       "    <tr style=\"text-align: right;\">\n",
       "      <th></th>\n",
       "      <th>Unnamed: 0</th>\n",
       "      <th>id</th>\n",
       "      <th>mb_used</th>\n",
       "      <th>session_date</th>\n",
       "      <th>user_id</th>\n",
       "    </tr>\n",
       "  </thead>\n",
       "  <tbody>\n",
       "    <tr>\n",
       "      <td>0</td>\n",
       "      <td>0</td>\n",
       "      <td>1000_0</td>\n",
       "      <td>112.95</td>\n",
       "      <td>2018-11-25</td>\n",
       "      <td>1000</td>\n",
       "    </tr>\n",
       "    <tr>\n",
       "      <td>1</td>\n",
       "      <td>1</td>\n",
       "      <td>1000_1</td>\n",
       "      <td>1052.81</td>\n",
       "      <td>2018-09-07</td>\n",
       "      <td>1000</td>\n",
       "    </tr>\n",
       "    <tr>\n",
       "      <td>2</td>\n",
       "      <td>2</td>\n",
       "      <td>1000_2</td>\n",
       "      <td>1197.26</td>\n",
       "      <td>2018-06-25</td>\n",
       "      <td>1000</td>\n",
       "    </tr>\n",
       "    <tr>\n",
       "      <td>3</td>\n",
       "      <td>3</td>\n",
       "      <td>1000_3</td>\n",
       "      <td>550.27</td>\n",
       "      <td>2018-08-22</td>\n",
       "      <td>1000</td>\n",
       "    </tr>\n",
       "    <tr>\n",
       "      <td>4</td>\n",
       "      <td>4</td>\n",
       "      <td>1000_4</td>\n",
       "      <td>302.56</td>\n",
       "      <td>2018-09-24</td>\n",
       "      <td>1000</td>\n",
       "    </tr>\n",
       "  </tbody>\n",
       "</table>\n",
       "</div>"
      ],
      "text/plain": [
       "   Unnamed: 0      id  mb_used session_date  user_id\n",
       "0           0  1000_0   112.95   2018-11-25     1000\n",
       "1           1  1000_1  1052.81   2018-09-07     1000\n",
       "2           2  1000_2  1197.26   2018-06-25     1000\n",
       "3           3  1000_3   550.27   2018-08-22     1000\n",
       "4           4  1000_4   302.56   2018-09-24     1000"
      ]
     },
     "execution_count": 9,
     "metadata": {},
     "output_type": "execute_result"
    }
   ],
   "source": [
    "df_internet.head()"
   ]
  },
  {
   "cell_type": "markdown",
   "metadata": {
    "cellId": "fa69jzhhp9a2giot0mcnob"
   },
   "source": [
    "Как и в прошлой таблице, даты имеют строковый тип. Наметим преобразовать его в предобработке. "
   ]
  },
  {
   "cell_type": "markdown",
   "metadata": {
    "cellId": "902rabt7dbwaxedk70qfyq"
   },
   "source": [
    "Согласно представленной информации в таблице следующая информация:\n",
    "- `id` — уникальный номер сессии\n",
    "- `mb_used` — объём потраченного за сессию интернет-трафика (в мегабайтах)\n",
    "- `session_date` — дата интернет-сессии\n",
    "- `user_id`— идентификатор пользователя\n",
    "\n",
    "В таблице предствален недокументированный столбец `\tUnnamed: 0` . Возможно просто дублируется индекс датафрейма. Проверим на предобработке и при необходимости удалим."
   ]
  },
  {
   "cell_type": "markdown",
   "metadata": {
    "cellId": "ddjt93eib6p8t7q8p44f8"
   },
   "source": [
    "Выведем информацию о сообщениях:"
   ]
  },
  {
   "cell_type": "code",
   "execution_count": 10,
   "metadata": {
    "cellId": "9lulu8vuscixrm623esj6n"
   },
   "outputs": [],
   "source": [
    "df_messages = pd.read_csv('/datasets/messages.csv')"
   ]
  },
  {
   "cell_type": "code",
   "execution_count": 11,
   "metadata": {
    "cellId": "73po47tx2duytvr4dom7ns"
   },
   "outputs": [
    {
     "name": "stdout",
     "output_type": "stream",
     "text": [
      "<class 'pandas.core.frame.DataFrame'>\n",
      "RangeIndex: 123036 entries, 0 to 123035\n",
      "Data columns (total 3 columns):\n",
      "id              123036 non-null object\n",
      "message_date    123036 non-null object\n",
      "user_id         123036 non-null int64\n",
      "dtypes: int64(1), object(2)\n",
      "memory usage: 2.8+ MB\n"
     ]
    }
   ],
   "source": [
    "df_messages.info()"
   ]
  },
  {
   "cell_type": "markdown",
   "metadata": {
    "cellId": "urp4wmc9md8em8c15jf75"
   },
   "source": [
    "Файл также прочитался без ошибок. В нем 123036 записей, без пропусков. Выведем первые строки"
   ]
  },
  {
   "cell_type": "code",
   "execution_count": 12,
   "metadata": {
    "cellId": "ws9fotpr0o84mitk7tofkn"
   },
   "outputs": [
    {
     "data": {
      "text/html": [
       "<div>\n",
       "<style scoped>\n",
       "    .dataframe tbody tr th:only-of-type {\n",
       "        vertical-align: middle;\n",
       "    }\n",
       "\n",
       "    .dataframe tbody tr th {\n",
       "        vertical-align: top;\n",
       "    }\n",
       "\n",
       "    .dataframe thead th {\n",
       "        text-align: right;\n",
       "    }\n",
       "</style>\n",
       "<table border=\"1\" class=\"dataframe\">\n",
       "  <thead>\n",
       "    <tr style=\"text-align: right;\">\n",
       "      <th></th>\n",
       "      <th>id</th>\n",
       "      <th>message_date</th>\n",
       "      <th>user_id</th>\n",
       "    </tr>\n",
       "  </thead>\n",
       "  <tbody>\n",
       "    <tr>\n",
       "      <td>0</td>\n",
       "      <td>1000_0</td>\n",
       "      <td>2018-06-27</td>\n",
       "      <td>1000</td>\n",
       "    </tr>\n",
       "    <tr>\n",
       "      <td>1</td>\n",
       "      <td>1000_1</td>\n",
       "      <td>2018-10-08</td>\n",
       "      <td>1000</td>\n",
       "    </tr>\n",
       "    <tr>\n",
       "      <td>2</td>\n",
       "      <td>1000_2</td>\n",
       "      <td>2018-08-04</td>\n",
       "      <td>1000</td>\n",
       "    </tr>\n",
       "    <tr>\n",
       "      <td>3</td>\n",
       "      <td>1000_3</td>\n",
       "      <td>2018-06-16</td>\n",
       "      <td>1000</td>\n",
       "    </tr>\n",
       "    <tr>\n",
       "      <td>4</td>\n",
       "      <td>1000_4</td>\n",
       "      <td>2018-12-05</td>\n",
       "      <td>1000</td>\n",
       "    </tr>\n",
       "  </tbody>\n",
       "</table>\n",
       "</div>"
      ],
      "text/plain": [
       "       id message_date  user_id\n",
       "0  1000_0   2018-06-27     1000\n",
       "1  1000_1   2018-10-08     1000\n",
       "2  1000_2   2018-08-04     1000\n",
       "3  1000_3   2018-06-16     1000\n",
       "4  1000_4   2018-12-05     1000"
      ]
     },
     "execution_count": 12,
     "metadata": {},
     "output_type": "execute_result"
    }
   ],
   "source": [
    "df_messages.head()"
   ]
  },
  {
   "cell_type": "markdown",
   "metadata": {
    "cellId": "srpv4gzrp3jsy1zzghmvxb"
   },
   "source": [
    "Опять даты. Согласно документации:\n",
    "- `id` — уникальный номер сообщения\n",
    "- `message_date` — дата сообщения\n",
    "- `user_id` — идентификатор пользователя, отправившего сообщение\n",
    "\n",
    "Прочитаем информацию о тарифах"
   ]
  },
  {
   "cell_type": "code",
   "execution_count": 13,
   "metadata": {
    "cellId": "28p21j6i6khuaberi0pap"
   },
   "outputs": [],
   "source": [
    "df_tariffs = pd.read_csv('/datasets/tariffs.csv')"
   ]
  },
  {
   "cell_type": "code",
   "execution_count": 14,
   "metadata": {
    "cellId": "xy2gbrtffbs0e6ve9nno106"
   },
   "outputs": [
    {
     "name": "stdout",
     "output_type": "stream",
     "text": [
      "<class 'pandas.core.frame.DataFrame'>\n",
      "RangeIndex: 2 entries, 0 to 1\n",
      "Data columns (total 8 columns):\n",
      "messages_included        2 non-null int64\n",
      "mb_per_month_included    2 non-null int64\n",
      "minutes_included         2 non-null int64\n",
      "rub_monthly_fee          2 non-null int64\n",
      "rub_per_gb               2 non-null int64\n",
      "rub_per_message          2 non-null int64\n",
      "rub_per_minute           2 non-null int64\n",
      "tariff_name              2 non-null object\n",
      "dtypes: int64(7), object(1)\n",
      "memory usage: 256.0+ bytes\n"
     ]
    }
   ],
   "source": [
    "df_tariffs.info()"
   ]
  },
  {
   "cell_type": "markdown",
   "metadata": {
    "cellId": "zc66s9e7yklqzpwr52unjq"
   },
   "source": [
    "Здесь также без неожиданностей.  Выведем весь фрейм"
   ]
  },
  {
   "cell_type": "code",
   "execution_count": 15,
   "metadata": {
    "cellId": "zn7f13nwihpf1pp86i11j"
   },
   "outputs": [
    {
     "data": {
      "text/html": [
       "<div>\n",
       "<style scoped>\n",
       "    .dataframe tbody tr th:only-of-type {\n",
       "        vertical-align: middle;\n",
       "    }\n",
       "\n",
       "    .dataframe tbody tr th {\n",
       "        vertical-align: top;\n",
       "    }\n",
       "\n",
       "    .dataframe thead th {\n",
       "        text-align: right;\n",
       "    }\n",
       "</style>\n",
       "<table border=\"1\" class=\"dataframe\">\n",
       "  <thead>\n",
       "    <tr style=\"text-align: right;\">\n",
       "      <th></th>\n",
       "      <th>messages_included</th>\n",
       "      <th>mb_per_month_included</th>\n",
       "      <th>minutes_included</th>\n",
       "      <th>rub_monthly_fee</th>\n",
       "      <th>rub_per_gb</th>\n",
       "      <th>rub_per_message</th>\n",
       "      <th>rub_per_minute</th>\n",
       "      <th>tariff_name</th>\n",
       "    </tr>\n",
       "  </thead>\n",
       "  <tbody>\n",
       "    <tr>\n",
       "      <td>0</td>\n",
       "      <td>50</td>\n",
       "      <td>15360</td>\n",
       "      <td>500</td>\n",
       "      <td>550</td>\n",
       "      <td>200</td>\n",
       "      <td>3</td>\n",
       "      <td>3</td>\n",
       "      <td>smart</td>\n",
       "    </tr>\n",
       "    <tr>\n",
       "      <td>1</td>\n",
       "      <td>1000</td>\n",
       "      <td>30720</td>\n",
       "      <td>3000</td>\n",
       "      <td>1950</td>\n",
       "      <td>150</td>\n",
       "      <td>1</td>\n",
       "      <td>1</td>\n",
       "      <td>ultra</td>\n",
       "    </tr>\n",
       "  </tbody>\n",
       "</table>\n",
       "</div>"
      ],
      "text/plain": [
       "   messages_included  mb_per_month_included  minutes_included  \\\n",
       "0                 50                  15360               500   \n",
       "1               1000                  30720              3000   \n",
       "\n",
       "   rub_monthly_fee  rub_per_gb  rub_per_message  rub_per_minute tariff_name  \n",
       "0              550         200                3               3       smart  \n",
       "1             1950         150                1               1       ultra  "
      ]
     },
     "execution_count": 15,
     "metadata": {},
     "output_type": "execute_result"
    }
   ],
   "source": [
    "df_tariffs"
   ]
  },
  {
   "cell_type": "markdown",
   "metadata": {
    "cellId": "zha8peh3rqcvom9bd32pkq"
   },
   "source": [
    "Согласно описанию: \n",
    "\n",
    "- `tariff_name` — название тарифа\n",
    "- `rub_monthly_fee` — ежемесячная абонентская плата в рублях\n",
    "- `minutes_included` — количество минут разговора в месяц, включённых в абонентскую плату\n",
    "- `messages_included` — количество сообщений в месяц, включённых в абонентскую плату\n",
    "- `mb_per_month_included` — объём интернет-трафика, включённого в абонентскую плату (в мегабайтах)\n",
    "- `rub_per_minute` — стоимость минуты разговора сверх тарифного пакета (например, если в тарифе 100 минут разговора в месяц, то со 101 минуты будет взиматься плата)\n",
    "- `rub_per_message` — стоимость отправки сообщения сверх тарифного пакета\n",
    "- `rub_per_gb` — стоимость дополнительного гигабайта интернет-трафика сверх тарифного пакета (1 гигабайт = 1024 мегабайта)\n",
    "\n",
    "Теперь выведем информацию о пользователях"
   ]
  },
  {
   "cell_type": "code",
   "execution_count": 16,
   "metadata": {
    "cellId": "9r7isd3s24jmz5v3afn92j"
   },
   "outputs": [],
   "source": [
    "df_users = pd.read_csv('/datasets/users.csv')"
   ]
  },
  {
   "cell_type": "code",
   "execution_count": 17,
   "metadata": {
    "cellId": "b5vtx1jpvdou4c6novd8"
   },
   "outputs": [
    {
     "name": "stdout",
     "output_type": "stream",
     "text": [
      "<class 'pandas.core.frame.DataFrame'>\n",
      "RangeIndex: 500 entries, 0 to 499\n",
      "Data columns (total 8 columns):\n",
      "user_id       500 non-null int64\n",
      "age           500 non-null int64\n",
      "churn_date    38 non-null object\n",
      "city          500 non-null object\n",
      "first_name    500 non-null object\n",
      "last_name     500 non-null object\n",
      "reg_date      500 non-null object\n",
      "tariff        500 non-null object\n",
      "dtypes: int64(2), object(6)\n",
      "memory usage: 31.4+ KB\n"
     ]
    }
   ],
   "source": [
    "df_users.info()"
   ]
  },
  {
   "cell_type": "markdown",
   "metadata": {
    "cellId": "1k3iklyhbf6vrblhv4e31p"
   },
   "source": [
    "Здесь уже есть пропуски. С ними разберёмся на этапе предобработки. Выведем первые строки"
   ]
  },
  {
   "cell_type": "code",
   "execution_count": 18,
   "metadata": {
    "cellId": "mjx5mgp6loflgbzs6kywa"
   },
   "outputs": [
    {
     "data": {
      "text/html": [
       "<div>\n",
       "<style scoped>\n",
       "    .dataframe tbody tr th:only-of-type {\n",
       "        vertical-align: middle;\n",
       "    }\n",
       "\n",
       "    .dataframe tbody tr th {\n",
       "        vertical-align: top;\n",
       "    }\n",
       "\n",
       "    .dataframe thead th {\n",
       "        text-align: right;\n",
       "    }\n",
       "</style>\n",
       "<table border=\"1\" class=\"dataframe\">\n",
       "  <thead>\n",
       "    <tr style=\"text-align: right;\">\n",
       "      <th></th>\n",
       "      <th>user_id</th>\n",
       "      <th>age</th>\n",
       "      <th>churn_date</th>\n",
       "      <th>city</th>\n",
       "      <th>first_name</th>\n",
       "      <th>last_name</th>\n",
       "      <th>reg_date</th>\n",
       "      <th>tariff</th>\n",
       "    </tr>\n",
       "  </thead>\n",
       "  <tbody>\n",
       "    <tr>\n",
       "      <td>0</td>\n",
       "      <td>1000</td>\n",
       "      <td>52</td>\n",
       "      <td>NaN</td>\n",
       "      <td>Краснодар</td>\n",
       "      <td>Рафаил</td>\n",
       "      <td>Верещагин</td>\n",
       "      <td>2018-05-25</td>\n",
       "      <td>ultra</td>\n",
       "    </tr>\n",
       "    <tr>\n",
       "      <td>1</td>\n",
       "      <td>1001</td>\n",
       "      <td>41</td>\n",
       "      <td>NaN</td>\n",
       "      <td>Москва</td>\n",
       "      <td>Иван</td>\n",
       "      <td>Ежов</td>\n",
       "      <td>2018-11-01</td>\n",
       "      <td>smart</td>\n",
       "    </tr>\n",
       "    <tr>\n",
       "      <td>2</td>\n",
       "      <td>1002</td>\n",
       "      <td>59</td>\n",
       "      <td>NaN</td>\n",
       "      <td>Стерлитамак</td>\n",
       "      <td>Евгений</td>\n",
       "      <td>Абрамович</td>\n",
       "      <td>2018-06-17</td>\n",
       "      <td>smart</td>\n",
       "    </tr>\n",
       "    <tr>\n",
       "      <td>3</td>\n",
       "      <td>1003</td>\n",
       "      <td>23</td>\n",
       "      <td>NaN</td>\n",
       "      <td>Москва</td>\n",
       "      <td>Белла</td>\n",
       "      <td>Белякова</td>\n",
       "      <td>2018-08-17</td>\n",
       "      <td>ultra</td>\n",
       "    </tr>\n",
       "    <tr>\n",
       "      <td>4</td>\n",
       "      <td>1004</td>\n",
       "      <td>68</td>\n",
       "      <td>NaN</td>\n",
       "      <td>Новокузнецк</td>\n",
       "      <td>Татьяна</td>\n",
       "      <td>Авдеенко</td>\n",
       "      <td>2018-05-14</td>\n",
       "      <td>ultra</td>\n",
       "    </tr>\n",
       "  </tbody>\n",
       "</table>\n",
       "</div>"
      ],
      "text/plain": [
       "   user_id  age churn_date         city first_name  last_name    reg_date  \\\n",
       "0     1000   52        NaN    Краснодар     Рафаил  Верещагин  2018-05-25   \n",
       "1     1001   41        NaN       Москва       Иван       Ежов  2018-11-01   \n",
       "2     1002   59        NaN  Стерлитамак    Евгений  Абрамович  2018-06-17   \n",
       "3     1003   23        NaN       Москва      Белла   Белякова  2018-08-17   \n",
       "4     1004   68        NaN  Новокузнецк    Татьяна   Авдеенко  2018-05-14   \n",
       "\n",
       "  tariff  \n",
       "0  ultra  \n",
       "1  smart  \n",
       "2  smart  \n",
       "3  ultra  \n",
       "4  ultra  "
      ]
     },
     "execution_count": 18,
     "metadata": {},
     "output_type": "execute_result"
    }
   ],
   "source": [
    "df_users.head()"
   ]
  },
  {
   "cell_type": "markdown",
   "metadata": {
    "cellId": "tfwu2cwgtak3fctlur5w"
   },
   "source": [
    "Согласно описанию:\n",
    "- `user_id` — уникальный идентификатор пользователя\n",
    "- `first_name` — имя пользователя\n",
    "- `last_name` — фамилия пользователя\n",
    "- `age` — возраст пользователя (годы)\n",
    "- `reg_date` — дата подключения тарифа (день, месяц, год)\n",
    "- `churn_date` — дата прекращения пользования тарифом (если значение пропущено, то тариф ещё действовал на момент выгрузки данных)\n",
    "- `city` — город проживания пользователя\n",
    "- `tarif` — название тарифного плана"
   ]
  },
  {
   "cell_type": "markdown",
   "metadata": {
    "cellId": "bbrmti3inf9zvnmtyl9fg"
   },
   "source": [
    "### Выводы\n",
    "\n",
    "Файлы прочитались без ошибок. Пропуски обнаружены только в файле с пользователями. Даты указаны как `object`. Лучше будет их пробразовать в `datetime` для удобства работы. Подозрительный столбец в таблице с интернет-сессиями. Возможно от него избавимся."
   ]
  },
  {
   "cell_type": "markdown",
   "metadata": {
    "cellId": "0dlpf45dy18fakedpg7ht6u"
   },
   "source": [
    "<a id='section_3'></a>\n",
    "## Предобработка данных"
   ]
  },
  {
   "cell_type": "markdown",
   "metadata": {
    "cellId": "vbm08xweqddip09p2idc38"
   },
   "source": [
    "Для начала попробуем проверить предположение, что столбец `Unnamed: 0` дублирует индекс датафрейма `df_internet`"
   ]
  },
  {
   "cell_type": "code",
   "execution_count": 19,
   "metadata": {
    "cellId": "wo24a9jt51d4u6q5w2zgsj"
   },
   "outputs": [
    {
     "data": {
      "text/plain": [
       "149396"
      ]
     },
     "execution_count": 19,
     "metadata": {},
     "output_type": "execute_result"
    }
   ],
   "source": [
    "sum(df_internet['Unnamed: 0'] == df_internet.index)"
   ]
  },
  {
   "cell_type": "markdown",
   "metadata": {
    "cellId": "84y4it5v0mbmgbos1pu5ho"
   },
   "source": [
    "Значение суммы соответствует длине фрейма. Учитывая, что True обрабатывается как единица, можем утверждать, что `Unnamed: 0` дублирует индекс датафрейма `df_internet`. Удалим столбец."
   ]
  },
  {
   "cell_type": "code",
   "execution_count": 20,
   "metadata": {
    "cellId": "6afw0wxrksr3vckcjrc2kv"
   },
   "outputs": [],
   "source": [
    "df_internet = df_internet.drop('Unnamed: 0', axis=1)"
   ]
  },
  {
   "cell_type": "code",
   "execution_count": 21,
   "metadata": {
    "cellId": "o9kgiuh2hhemyesjlmdvd"
   },
   "outputs": [
    {
     "data": {
      "text/html": [
       "<div>\n",
       "<style scoped>\n",
       "    .dataframe tbody tr th:only-of-type {\n",
       "        vertical-align: middle;\n",
       "    }\n",
       "\n",
       "    .dataframe tbody tr th {\n",
       "        vertical-align: top;\n",
       "    }\n",
       "\n",
       "    .dataframe thead th {\n",
       "        text-align: right;\n",
       "    }\n",
       "</style>\n",
       "<table border=\"1\" class=\"dataframe\">\n",
       "  <thead>\n",
       "    <tr style=\"text-align: right;\">\n",
       "      <th></th>\n",
       "      <th>id</th>\n",
       "      <th>mb_used</th>\n",
       "      <th>session_date</th>\n",
       "      <th>user_id</th>\n",
       "    </tr>\n",
       "  </thead>\n",
       "  <tbody>\n",
       "    <tr>\n",
       "      <td>0</td>\n",
       "      <td>1000_0</td>\n",
       "      <td>112.95</td>\n",
       "      <td>2018-11-25</td>\n",
       "      <td>1000</td>\n",
       "    </tr>\n",
       "    <tr>\n",
       "      <td>1</td>\n",
       "      <td>1000_1</td>\n",
       "      <td>1052.81</td>\n",
       "      <td>2018-09-07</td>\n",
       "      <td>1000</td>\n",
       "    </tr>\n",
       "    <tr>\n",
       "      <td>2</td>\n",
       "      <td>1000_2</td>\n",
       "      <td>1197.26</td>\n",
       "      <td>2018-06-25</td>\n",
       "      <td>1000</td>\n",
       "    </tr>\n",
       "    <tr>\n",
       "      <td>3</td>\n",
       "      <td>1000_3</td>\n",
       "      <td>550.27</td>\n",
       "      <td>2018-08-22</td>\n",
       "      <td>1000</td>\n",
       "    </tr>\n",
       "    <tr>\n",
       "      <td>4</td>\n",
       "      <td>1000_4</td>\n",
       "      <td>302.56</td>\n",
       "      <td>2018-09-24</td>\n",
       "      <td>1000</td>\n",
       "    </tr>\n",
       "  </tbody>\n",
       "</table>\n",
       "</div>"
      ],
      "text/plain": [
       "       id  mb_used session_date  user_id\n",
       "0  1000_0   112.95   2018-11-25     1000\n",
       "1  1000_1  1052.81   2018-09-07     1000\n",
       "2  1000_2  1197.26   2018-06-25     1000\n",
       "3  1000_3   550.27   2018-08-22     1000\n",
       "4  1000_4   302.56   2018-09-24     1000"
      ]
     },
     "execution_count": 21,
     "metadata": {},
     "output_type": "execute_result"
    }
   ],
   "source": [
    "df_internet.head()"
   ]
  },
  {
   "cell_type": "markdown",
   "metadata": {
    "cellId": "y7cu9w8vb1kn13g1nulss"
   },
   "source": [
    "Удаление вышло. Теперь преобразуем даты в тип `datetime`"
   ]
  },
  {
   "cell_type": "code",
   "execution_count": 22,
   "metadata": {
    "cellId": "x2pww8oh2s89zfwcyywavo"
   },
   "outputs": [],
   "source": [
    "df_calls['call_date'] = pd.to_datetime(df_calls['call_date'], format = ('%Y-%m-%d'))"
   ]
  },
  {
   "cell_type": "code",
   "execution_count": 23,
   "metadata": {
    "cellId": "79wxudp8jud7gl0thrff9"
   },
   "outputs": [
    {
     "name": "stdout",
     "output_type": "stream",
     "text": [
      "<class 'pandas.core.frame.DataFrame'>\n",
      "RangeIndex: 202607 entries, 0 to 202606\n",
      "Data columns (total 4 columns):\n",
      "id           202607 non-null object\n",
      "call_date    202607 non-null datetime64[ns]\n",
      "duration     202607 non-null float64\n",
      "user_id      202607 non-null int64\n",
      "dtypes: datetime64[ns](1), float64(1), int64(1), object(1)\n",
      "memory usage: 6.2+ MB\n"
     ]
    }
   ],
   "source": [
    "df_calls.info()"
   ]
  },
  {
   "cell_type": "markdown",
   "metadata": {
    "cellId": "fo923kiyai72lyzf50b1o"
   },
   "source": [
    "Вышло. Аналогично поступим для интернет - сессий"
   ]
  },
  {
   "cell_type": "code",
   "execution_count": 24,
   "metadata": {
    "cellId": "6mld7mtbm5jjwo2a8maj29"
   },
   "outputs": [],
   "source": [
    "df_internet['session_date'] = pd.to_datetime(df_internet['session_date'], format = ('%Y-%m-%d'))"
   ]
  },
  {
   "cell_type": "code",
   "execution_count": 25,
   "metadata": {
    "cellId": "qrsqcf51tfrri7f85hg2nq"
   },
   "outputs": [
    {
     "name": "stdout",
     "output_type": "stream",
     "text": [
      "<class 'pandas.core.frame.DataFrame'>\n",
      "RangeIndex: 149396 entries, 0 to 149395\n",
      "Data columns (total 4 columns):\n",
      "id              149396 non-null object\n",
      "mb_used         149396 non-null float64\n",
      "session_date    149396 non-null datetime64[ns]\n",
      "user_id         149396 non-null int64\n",
      "dtypes: datetime64[ns](1), float64(1), int64(1), object(1)\n",
      "memory usage: 4.6+ MB\n"
     ]
    }
   ],
   "source": [
    "df_internet.info()"
   ]
  },
  {
   "cell_type": "markdown",
   "metadata": {
    "cellId": "yiaiv3zi1xvh3wblqt97"
   },
   "source": [
    "Вышло. Аналогично для сообщений"
   ]
  },
  {
   "cell_type": "code",
   "execution_count": 26,
   "metadata": {
    "cellId": "94f8cv80nrk0k3w0ckmtajh"
   },
   "outputs": [],
   "source": [
    "df_messages['message_date'] = pd.to_datetime(df_messages['message_date'], format = ('%Y-%m-%d'))"
   ]
  },
  {
   "cell_type": "code",
   "execution_count": 27,
   "metadata": {
    "cellId": "22ktg01ue8z9phi17m032l"
   },
   "outputs": [
    {
     "name": "stdout",
     "output_type": "stream",
     "text": [
      "<class 'pandas.core.frame.DataFrame'>\n",
      "RangeIndex: 123036 entries, 0 to 123035\n",
      "Data columns (total 3 columns):\n",
      "id              123036 non-null object\n",
      "message_date    123036 non-null datetime64[ns]\n",
      "user_id         123036 non-null int64\n",
      "dtypes: datetime64[ns](1), int64(1), object(1)\n",
      "memory usage: 2.8+ MB\n"
     ]
    }
   ],
   "source": [
    "df_messages.info()"
   ]
  },
  {
   "cell_type": "markdown",
   "metadata": {
    "cellId": "ljev9noikwt0ly60stc4"
   },
   "source": [
    "Аналогично для пользователей."
   ]
  },
  {
   "cell_type": "code",
   "execution_count": 28,
   "metadata": {
    "cellId": "g0zwnxlqjd7r2su7t785ui"
   },
   "outputs": [],
   "source": [
    "df_users['reg_date'] = pd.to_datetime(df_users['reg_date'], format = ('%Y-%m-%d'))"
   ]
  },
  {
   "cell_type": "code",
   "execution_count": 29,
   "metadata": {
    "cellId": "nr7xk0gshkhgh98il6h2m"
   },
   "outputs": [
    {
     "name": "stdout",
     "output_type": "stream",
     "text": [
      "<class 'pandas.core.frame.DataFrame'>\n",
      "RangeIndex: 500 entries, 0 to 499\n",
      "Data columns (total 8 columns):\n",
      "user_id       500 non-null int64\n",
      "age           500 non-null int64\n",
      "churn_date    38 non-null object\n",
      "city          500 non-null object\n",
      "first_name    500 non-null object\n",
      "last_name     500 non-null object\n",
      "reg_date      500 non-null datetime64[ns]\n",
      "tariff        500 non-null object\n",
      "dtypes: datetime64[ns](1), int64(2), object(5)\n",
      "memory usage: 31.4+ KB\n"
     ]
    }
   ],
   "source": [
    "df_users.info()"
   ]
  },
  {
   "cell_type": "markdown",
   "metadata": {
    "cellId": "h2ytzc3tioizhpe3bo1cva"
   },
   "source": [
    "Пропуск записей - значит от тарифа не отказались в момент выгрузки данных. Для заполнения пропущенных значений используем последнюю (максимальную) дату в записях звоноков, сообщений и интернет сессий. "
   ]
  },
  {
   "cell_type": "code",
   "execution_count": 30,
   "metadata": {
    "cellId": "32pcqntldkhcirw2x6qt6e"
   },
   "outputs": [
    {
     "data": {
      "text/plain": [
       "Timestamp('2018-12-31 00:00:00')"
      ]
     },
     "execution_count": 30,
     "metadata": {},
     "output_type": "execute_result"
    }
   ],
   "source": [
    "df_calls['call_date'].max()"
   ]
  },
  {
   "cell_type": "code",
   "execution_count": 31,
   "metadata": {
    "cellId": "esswiae8a2z4t62e0itt"
   },
   "outputs": [
    {
     "data": {
      "text/plain": [
       "Timestamp('2018-12-31 00:00:00')"
      ]
     },
     "execution_count": 31,
     "metadata": {},
     "output_type": "execute_result"
    }
   ],
   "source": [
    "df_internet['session_date'].max()"
   ]
  },
  {
   "cell_type": "code",
   "execution_count": 32,
   "metadata": {
    "cellId": "njymy7h8w7tt9ddizesnr"
   },
   "outputs": [
    {
     "data": {
      "text/plain": [
       "Timestamp('2018-12-31 00:00:00')"
      ]
     },
     "execution_count": 32,
     "metadata": {},
     "output_type": "execute_result"
    }
   ],
   "source": [
    "df_messages['message_date'].max()"
   ]
  },
  {
   "cell_type": "markdown",
   "metadata": {
    "cellId": "wat2l7yv7ko2mhxhc5btyi"
   },
   "source": [
    "Получили одну дату .Её и используем для заполнения пропуска в `charn_date`"
   ]
  },
  {
   "cell_type": "code",
   "execution_count": 33,
   "metadata": {
    "cellId": "f0eo8wdti2e2uj4xwnz2pp"
   },
   "outputs": [],
   "source": [
    "df_users['churn_date'] = df_users['churn_date'].fillna('2018-12-31')"
   ]
  },
  {
   "cell_type": "markdown",
   "metadata": {
    "cellId": "t8ovd6o5f6o2q0lcfs30m"
   },
   "source": [
    "И преобразуем тип"
   ]
  },
  {
   "cell_type": "code",
   "execution_count": 34,
   "metadata": {
    "cellId": "19z8lhjw4egkbxmzc4o4rc"
   },
   "outputs": [],
   "source": [
    "df_users['churn_date'] = pd.to_datetime(df_users['churn_date'], format = ('%Y-%m-%d'))"
   ]
  },
  {
   "cell_type": "code",
   "execution_count": 35,
   "metadata": {
    "cellId": "twr5x5jt7nkoc9ivkx6h"
   },
   "outputs": [
    {
     "name": "stdout",
     "output_type": "stream",
     "text": [
      "<class 'pandas.core.frame.DataFrame'>\n",
      "RangeIndex: 500 entries, 0 to 499\n",
      "Data columns (total 8 columns):\n",
      "user_id       500 non-null int64\n",
      "age           500 non-null int64\n",
      "churn_date    500 non-null datetime64[ns]\n",
      "city          500 non-null object\n",
      "first_name    500 non-null object\n",
      "last_name     500 non-null object\n",
      "reg_date      500 non-null datetime64[ns]\n",
      "tariff        500 non-null object\n",
      "dtypes: datetime64[ns](2), int64(2), object(4)\n",
      "memory usage: 31.4+ KB\n"
     ]
    }
   ],
   "source": [
    "df_users.info()"
   ]
  },
  {
   "cell_type": "markdown",
   "metadata": {
    "cellId": "wjr5kybpyykhm0coie65i4"
   },
   "source": [
    "Всё вышло."
   ]
  },
  {
   "cell_type": "markdown",
   "metadata": {
    "cellId": "ll7658bdz5e311htl284e"
   },
   "source": [
    "В задании интересует статистика по месяцам. Месяц отсчитываем от даты регистрации тарифа для пользователя. Для этого создадим временную таблицу, объединив пользователей и звонки. "
   ]
  },
  {
   "cell_type": "code",
   "execution_count": 36,
   "metadata": {
    "cellId": "5e79qps6iskfjh5xs2ek5v"
   },
   "outputs": [],
   "source": [
    "df_temp=df_calls.merge(df_users, on='user_id', how='left')"
   ]
  },
  {
   "cell_type": "code",
   "execution_count": 37,
   "metadata": {
    "cellId": "6jp898je1hqfibj8q3obrw",
    "scrolled": true
   },
   "outputs": [
    {
     "data": {
      "text/html": [
       "<div>\n",
       "<style scoped>\n",
       "    .dataframe tbody tr th:only-of-type {\n",
       "        vertical-align: middle;\n",
       "    }\n",
       "\n",
       "    .dataframe tbody tr th {\n",
       "        vertical-align: top;\n",
       "    }\n",
       "\n",
       "    .dataframe thead th {\n",
       "        text-align: right;\n",
       "    }\n",
       "</style>\n",
       "<table border=\"1\" class=\"dataframe\">\n",
       "  <thead>\n",
       "    <tr style=\"text-align: right;\">\n",
       "      <th></th>\n",
       "      <th>id</th>\n",
       "      <th>call_date</th>\n",
       "      <th>duration</th>\n",
       "      <th>user_id</th>\n",
       "      <th>age</th>\n",
       "      <th>churn_date</th>\n",
       "      <th>city</th>\n",
       "      <th>first_name</th>\n",
       "      <th>last_name</th>\n",
       "      <th>reg_date</th>\n",
       "      <th>tariff</th>\n",
       "    </tr>\n",
       "  </thead>\n",
       "  <tbody>\n",
       "    <tr>\n",
       "      <td>0</td>\n",
       "      <td>1000_0</td>\n",
       "      <td>2018-07-25</td>\n",
       "      <td>0.00</td>\n",
       "      <td>1000</td>\n",
       "      <td>52</td>\n",
       "      <td>2018-12-31</td>\n",
       "      <td>Краснодар</td>\n",
       "      <td>Рафаил</td>\n",
       "      <td>Верещагин</td>\n",
       "      <td>2018-05-25</td>\n",
       "      <td>ultra</td>\n",
       "    </tr>\n",
       "    <tr>\n",
       "      <td>1</td>\n",
       "      <td>1000_1</td>\n",
       "      <td>2018-08-17</td>\n",
       "      <td>0.00</td>\n",
       "      <td>1000</td>\n",
       "      <td>52</td>\n",
       "      <td>2018-12-31</td>\n",
       "      <td>Краснодар</td>\n",
       "      <td>Рафаил</td>\n",
       "      <td>Верещагин</td>\n",
       "      <td>2018-05-25</td>\n",
       "      <td>ultra</td>\n",
       "    </tr>\n",
       "    <tr>\n",
       "      <td>2</td>\n",
       "      <td>1000_2</td>\n",
       "      <td>2018-06-11</td>\n",
       "      <td>2.85</td>\n",
       "      <td>1000</td>\n",
       "      <td>52</td>\n",
       "      <td>2018-12-31</td>\n",
       "      <td>Краснодар</td>\n",
       "      <td>Рафаил</td>\n",
       "      <td>Верещагин</td>\n",
       "      <td>2018-05-25</td>\n",
       "      <td>ultra</td>\n",
       "    </tr>\n",
       "    <tr>\n",
       "      <td>3</td>\n",
       "      <td>1000_3</td>\n",
       "      <td>2018-09-21</td>\n",
       "      <td>13.80</td>\n",
       "      <td>1000</td>\n",
       "      <td>52</td>\n",
       "      <td>2018-12-31</td>\n",
       "      <td>Краснодар</td>\n",
       "      <td>Рафаил</td>\n",
       "      <td>Верещагин</td>\n",
       "      <td>2018-05-25</td>\n",
       "      <td>ultra</td>\n",
       "    </tr>\n",
       "    <tr>\n",
       "      <td>4</td>\n",
       "      <td>1000_4</td>\n",
       "      <td>2018-12-15</td>\n",
       "      <td>5.18</td>\n",
       "      <td>1000</td>\n",
       "      <td>52</td>\n",
       "      <td>2018-12-31</td>\n",
       "      <td>Краснодар</td>\n",
       "      <td>Рафаил</td>\n",
       "      <td>Верещагин</td>\n",
       "      <td>2018-05-25</td>\n",
       "      <td>ultra</td>\n",
       "    </tr>\n",
       "  </tbody>\n",
       "</table>\n",
       "</div>"
      ],
      "text/plain": [
       "       id  call_date  duration  user_id  age churn_date       city first_name  \\\n",
       "0  1000_0 2018-07-25      0.00     1000   52 2018-12-31  Краснодар     Рафаил   \n",
       "1  1000_1 2018-08-17      0.00     1000   52 2018-12-31  Краснодар     Рафаил   \n",
       "2  1000_2 2018-06-11      2.85     1000   52 2018-12-31  Краснодар     Рафаил   \n",
       "3  1000_3 2018-09-21     13.80     1000   52 2018-12-31  Краснодар     Рафаил   \n",
       "4  1000_4 2018-12-15      5.18     1000   52 2018-12-31  Краснодар     Рафаил   \n",
       "\n",
       "   last_name   reg_date tariff  \n",
       "0  Верещагин 2018-05-25  ultra  \n",
       "1  Верещагин 2018-05-25  ultra  \n",
       "2  Верещагин 2018-05-25  ultra  \n",
       "3  Верещагин 2018-05-25  ultra  \n",
       "4  Верещагин 2018-05-25  ultra  "
      ]
     },
     "execution_count": 37,
     "metadata": {},
     "output_type": "execute_result"
    }
   ],
   "source": [
    "df_temp.head()"
   ]
  },
  {
   "cell_type": "markdown",
   "metadata": {
    "cellId": "i9dyp2x4ll9ljhey3mi9g"
   },
   "source": [
    "Импортируем NumPy для округления  и работы c `datetime`"
   ]
  },
  {
   "cell_type": "code",
   "execution_count": 38,
   "metadata": {
    "cellId": "a6aiuxbn4rtogw76ctesh9"
   },
   "outputs": [],
   "source": [
    "import numpy as np"
   ]
  },
  {
   "cell_type": "markdown",
   "metadata": {
    "cellId": "72xuclytwi779eqf8lk76c"
   },
   "source": [
    "Добавим столбец `month` в который будем записывать в какой месяц произошёл звонок"
   ]
  },
  {
   "cell_type": "code",
   "execution_count": 39,
   "metadata": {
    "cellId": "nymmw1dssy8424wxc2t2r4"
   },
   "outputs": [],
   "source": [
    "df_temp['month'] = pd.to_timedelta((df_temp['call_date']-df_temp['reg_date']))/np.timedelta64(1, 'M')"
   ]
  },
  {
   "cell_type": "code",
   "execution_count": 40,
   "metadata": {
    "cellId": "xp20bwczc9oav7u5gau6n8",
    "scrolled": true
   },
   "outputs": [
    {
     "data": {
      "text/html": [
       "<div>\n",
       "<style scoped>\n",
       "    .dataframe tbody tr th:only-of-type {\n",
       "        vertical-align: middle;\n",
       "    }\n",
       "\n",
       "    .dataframe tbody tr th {\n",
       "        vertical-align: top;\n",
       "    }\n",
       "\n",
       "    .dataframe thead th {\n",
       "        text-align: right;\n",
       "    }\n",
       "</style>\n",
       "<table border=\"1\" class=\"dataframe\">\n",
       "  <thead>\n",
       "    <tr style=\"text-align: right;\">\n",
       "      <th></th>\n",
       "      <th>id</th>\n",
       "      <th>call_date</th>\n",
       "      <th>duration</th>\n",
       "      <th>user_id</th>\n",
       "      <th>age</th>\n",
       "      <th>churn_date</th>\n",
       "      <th>city</th>\n",
       "      <th>first_name</th>\n",
       "      <th>last_name</th>\n",
       "      <th>reg_date</th>\n",
       "      <th>tariff</th>\n",
       "      <th>month</th>\n",
       "    </tr>\n",
       "  </thead>\n",
       "  <tbody>\n",
       "    <tr>\n",
       "      <td>0</td>\n",
       "      <td>1000_0</td>\n",
       "      <td>2018-07-25</td>\n",
       "      <td>0.00</td>\n",
       "      <td>1000</td>\n",
       "      <td>52</td>\n",
       "      <td>2018-12-31</td>\n",
       "      <td>Краснодар</td>\n",
       "      <td>Рафаил</td>\n",
       "      <td>Верещагин</td>\n",
       "      <td>2018-05-25</td>\n",
       "      <td>ultra</td>\n",
       "      <td>2.004148</td>\n",
       "    </tr>\n",
       "    <tr>\n",
       "      <td>1</td>\n",
       "      <td>1000_1</td>\n",
       "      <td>2018-08-17</td>\n",
       "      <td>0.00</td>\n",
       "      <td>1000</td>\n",
       "      <td>52</td>\n",
       "      <td>2018-12-31</td>\n",
       "      <td>Краснодар</td>\n",
       "      <td>Рафаил</td>\n",
       "      <td>Верещагин</td>\n",
       "      <td>2018-05-25</td>\n",
       "      <td>ultra</td>\n",
       "      <td>2.759810</td>\n",
       "    </tr>\n",
       "    <tr>\n",
       "      <td>2</td>\n",
       "      <td>1000_2</td>\n",
       "      <td>2018-06-11</td>\n",
       "      <td>2.85</td>\n",
       "      <td>1000</td>\n",
       "      <td>52</td>\n",
       "      <td>2018-12-31</td>\n",
       "      <td>Краснодар</td>\n",
       "      <td>Рафаил</td>\n",
       "      <td>Верещагин</td>\n",
       "      <td>2018-05-25</td>\n",
       "      <td>ultra</td>\n",
       "      <td>0.558533</td>\n",
       "    </tr>\n",
       "    <tr>\n",
       "      <td>3</td>\n",
       "      <td>1000_3</td>\n",
       "      <td>2018-09-21</td>\n",
       "      <td>13.80</td>\n",
       "      <td>1000</td>\n",
       "      <td>52</td>\n",
       "      <td>2018-12-31</td>\n",
       "      <td>Краснодар</td>\n",
       "      <td>Рафаил</td>\n",
       "      <td>Верещагин</td>\n",
       "      <td>2018-05-25</td>\n",
       "      <td>ultra</td>\n",
       "      <td>3.909731</td>\n",
       "    </tr>\n",
       "    <tr>\n",
       "      <td>4</td>\n",
       "      <td>1000_4</td>\n",
       "      <td>2018-12-15</td>\n",
       "      <td>5.18</td>\n",
       "      <td>1000</td>\n",
       "      <td>52</td>\n",
       "      <td>2018-12-31</td>\n",
       "      <td>Краснодар</td>\n",
       "      <td>Рафаил</td>\n",
       "      <td>Верещагин</td>\n",
       "      <td>2018-05-25</td>\n",
       "      <td>ultra</td>\n",
       "      <td>6.702396</td>\n",
       "    </tr>\n",
       "  </tbody>\n",
       "</table>\n",
       "</div>"
      ],
      "text/plain": [
       "       id  call_date  duration  user_id  age churn_date       city first_name  \\\n",
       "0  1000_0 2018-07-25      0.00     1000   52 2018-12-31  Краснодар     Рафаил   \n",
       "1  1000_1 2018-08-17      0.00     1000   52 2018-12-31  Краснодар     Рафаил   \n",
       "2  1000_2 2018-06-11      2.85     1000   52 2018-12-31  Краснодар     Рафаил   \n",
       "3  1000_3 2018-09-21     13.80     1000   52 2018-12-31  Краснодар     Рафаил   \n",
       "4  1000_4 2018-12-15      5.18     1000   52 2018-12-31  Краснодар     Рафаил   \n",
       "\n",
       "   last_name   reg_date tariff     month  \n",
       "0  Верещагин 2018-05-25  ultra  2.004148  \n",
       "1  Верещагин 2018-05-25  ultra  2.759810  \n",
       "2  Верещагин 2018-05-25  ultra  0.558533  \n",
       "3  Верещагин 2018-05-25  ultra  3.909731  \n",
       "4  Верещагин 2018-05-25  ultra  6.702396  "
      ]
     },
     "execution_count": 40,
     "metadata": {},
     "output_type": "execute_result"
    }
   ],
   "source": [
    "df_temp.head()"
   ]
  },
  {
   "cell_type": "markdown",
   "metadata": {
    "cellId": "shtwcujjk6l4vzin4qdsf"
   },
   "source": [
    "Округлим месяц звонка в большую сторону. Т.о. считаем, что звонки сделанные в промежуток до месяца от даты регистрации были оплачены в первый месяц."
   ]
  },
  {
   "cell_type": "code",
   "execution_count": 41,
   "metadata": {
    "cellId": "00sf81l8zleavuvgzvsg23"
   },
   "outputs": [],
   "source": [
    "df_temp['month']= np.ceil(df_temp['month'])"
   ]
  },
  {
   "cell_type": "code",
   "execution_count": 42,
   "metadata": {
    "cellId": "epvvwqvbiu7odir6af0de7",
    "scrolled": true
   },
   "outputs": [
    {
     "data": {
      "text/html": [
       "<div>\n",
       "<style scoped>\n",
       "    .dataframe tbody tr th:only-of-type {\n",
       "        vertical-align: middle;\n",
       "    }\n",
       "\n",
       "    .dataframe tbody tr th {\n",
       "        vertical-align: top;\n",
       "    }\n",
       "\n",
       "    .dataframe thead th {\n",
       "        text-align: right;\n",
       "    }\n",
       "</style>\n",
       "<table border=\"1\" class=\"dataframe\">\n",
       "  <thead>\n",
       "    <tr style=\"text-align: right;\">\n",
       "      <th></th>\n",
       "      <th>id</th>\n",
       "      <th>call_date</th>\n",
       "      <th>duration</th>\n",
       "      <th>user_id</th>\n",
       "      <th>age</th>\n",
       "      <th>churn_date</th>\n",
       "      <th>city</th>\n",
       "      <th>first_name</th>\n",
       "      <th>last_name</th>\n",
       "      <th>reg_date</th>\n",
       "      <th>tariff</th>\n",
       "      <th>month</th>\n",
       "    </tr>\n",
       "  </thead>\n",
       "  <tbody>\n",
       "    <tr>\n",
       "      <td>0</td>\n",
       "      <td>1000_0</td>\n",
       "      <td>2018-07-25</td>\n",
       "      <td>0.00</td>\n",
       "      <td>1000</td>\n",
       "      <td>52</td>\n",
       "      <td>2018-12-31</td>\n",
       "      <td>Краснодар</td>\n",
       "      <td>Рафаил</td>\n",
       "      <td>Верещагин</td>\n",
       "      <td>2018-05-25</td>\n",
       "      <td>ultra</td>\n",
       "      <td>3.0</td>\n",
       "    </tr>\n",
       "    <tr>\n",
       "      <td>1</td>\n",
       "      <td>1000_1</td>\n",
       "      <td>2018-08-17</td>\n",
       "      <td>0.00</td>\n",
       "      <td>1000</td>\n",
       "      <td>52</td>\n",
       "      <td>2018-12-31</td>\n",
       "      <td>Краснодар</td>\n",
       "      <td>Рафаил</td>\n",
       "      <td>Верещагин</td>\n",
       "      <td>2018-05-25</td>\n",
       "      <td>ultra</td>\n",
       "      <td>3.0</td>\n",
       "    </tr>\n",
       "    <tr>\n",
       "      <td>2</td>\n",
       "      <td>1000_2</td>\n",
       "      <td>2018-06-11</td>\n",
       "      <td>2.85</td>\n",
       "      <td>1000</td>\n",
       "      <td>52</td>\n",
       "      <td>2018-12-31</td>\n",
       "      <td>Краснодар</td>\n",
       "      <td>Рафаил</td>\n",
       "      <td>Верещагин</td>\n",
       "      <td>2018-05-25</td>\n",
       "      <td>ultra</td>\n",
       "      <td>1.0</td>\n",
       "    </tr>\n",
       "    <tr>\n",
       "      <td>3</td>\n",
       "      <td>1000_3</td>\n",
       "      <td>2018-09-21</td>\n",
       "      <td>13.80</td>\n",
       "      <td>1000</td>\n",
       "      <td>52</td>\n",
       "      <td>2018-12-31</td>\n",
       "      <td>Краснодар</td>\n",
       "      <td>Рафаил</td>\n",
       "      <td>Верещагин</td>\n",
       "      <td>2018-05-25</td>\n",
       "      <td>ultra</td>\n",
       "      <td>4.0</td>\n",
       "    </tr>\n",
       "    <tr>\n",
       "      <td>4</td>\n",
       "      <td>1000_4</td>\n",
       "      <td>2018-12-15</td>\n",
       "      <td>5.18</td>\n",
       "      <td>1000</td>\n",
       "      <td>52</td>\n",
       "      <td>2018-12-31</td>\n",
       "      <td>Краснодар</td>\n",
       "      <td>Рафаил</td>\n",
       "      <td>Верещагин</td>\n",
       "      <td>2018-05-25</td>\n",
       "      <td>ultra</td>\n",
       "      <td>7.0</td>\n",
       "    </tr>\n",
       "  </tbody>\n",
       "</table>\n",
       "</div>"
      ],
      "text/plain": [
       "       id  call_date  duration  user_id  age churn_date       city first_name  \\\n",
       "0  1000_0 2018-07-25      0.00     1000   52 2018-12-31  Краснодар     Рафаил   \n",
       "1  1000_1 2018-08-17      0.00     1000   52 2018-12-31  Краснодар     Рафаил   \n",
       "2  1000_2 2018-06-11      2.85     1000   52 2018-12-31  Краснодар     Рафаил   \n",
       "3  1000_3 2018-09-21     13.80     1000   52 2018-12-31  Краснодар     Рафаил   \n",
       "4  1000_4 2018-12-15      5.18     1000   52 2018-12-31  Краснодар     Рафаил   \n",
       "\n",
       "   last_name   reg_date tariff  month  \n",
       "0  Верещагин 2018-05-25  ultra    3.0  \n",
       "1  Верещагин 2018-05-25  ultra    3.0  \n",
       "2  Верещагин 2018-05-25  ultra    1.0  \n",
       "3  Верещагин 2018-05-25  ultra    4.0  \n",
       "4  Верещагин 2018-05-25  ultra    7.0  "
      ]
     },
     "execution_count": 42,
     "metadata": {},
     "output_type": "execute_result"
    }
   ],
   "source": [
    "df_temp.head()"
   ]
  },
  {
   "cell_type": "markdown",
   "metadata": {
    "cellId": "vbm5tdcmpmhqwn1c2b0y8"
   },
   "source": [
    "Посмотрим,какое распределение имеют записи по месяцам"
   ]
  },
  {
   "cell_type": "code",
   "execution_count": 43,
   "metadata": {
    "cellId": "a48ma3z57anyguumm00sn",
    "scrolled": true
   },
   "outputs": [
    {
     "data": {
      "text/plain": [
       "1.0     33668\n",
       "2.0     30298\n",
       "3.0     27626\n",
       "4.0     23493\n",
       "5.0     21239\n",
       "6.0     17358\n",
       "7.0     15074\n",
       "8.0     12020\n",
       "9.0      9049\n",
       "10.0     6506\n",
       "11.0     3447\n",
       "0.0      1500\n",
       "12.0     1329\n",
       "Name: month, dtype: int64"
      ]
     },
     "execution_count": 43,
     "metadata": {},
     "output_type": "execute_result"
    }
   ],
   "source": [
    "df_temp['month'].value_counts(dropna=False)"
   ]
  },
  {
   "cell_type": "markdown",
   "metadata": {
    "cellId": "dkd5q0wd3npryyl6z3qm0e"
   },
   "source": [
    "Видим записи с нулевым месяцем - такое возможно, когда звонки совершались в тот же день, что и регистрация. Их отнесём в первый месяц"
   ]
  },
  {
   "cell_type": "code",
   "execution_count": 44,
   "metadata": {
    "cellId": "5onrn2qvgai4x8admr7sh7"
   },
   "outputs": [],
   "source": [
    "df_temp['month'] = df_temp['month'].apply(lambda x: 1 if x==0 else x)"
   ]
  },
  {
   "cell_type": "markdown",
   "metadata": {
    "cellId": "uetgld1w9se468kxd3y2s9"
   },
   "source": [
    "Проверим"
   ]
  },
  {
   "cell_type": "code",
   "execution_count": 45,
   "metadata": {
    "cellId": "aregr00j8582rz02twn517"
   },
   "outputs": [
    {
     "data": {
      "text/plain": [
       "1.0     35168\n",
       "2.0     30298\n",
       "3.0     27626\n",
       "4.0     23493\n",
       "5.0     21239\n",
       "6.0     17358\n",
       "7.0     15074\n",
       "8.0     12020\n",
       "9.0      9049\n",
       "10.0     6506\n",
       "11.0     3447\n",
       "12.0     1329\n",
       "Name: month, dtype: int64"
      ]
     },
     "execution_count": 45,
     "metadata": {},
     "output_type": "execute_result"
    }
   ],
   "source": [
    "df_temp['month'].value_counts(dropna=False)"
   ]
  },
  {
   "cell_type": "markdown",
   "metadata": {
    "cellId": "5t7pbw6lcigekfvpu9g76q"
   },
   "source": [
    "Таблицу для звонков перезапишем из временной, оставив только требуемые колонки"
   ]
  },
  {
   "cell_type": "code",
   "execution_count": 46,
   "metadata": {
    "cellId": "ms9vp648ogbrtv2eqe1jk"
   },
   "outputs": [],
   "source": [
    "df_calls = df_temp[['id', 'call_date', 'duration', 'user_id', 'month']]"
   ]
  },
  {
   "cell_type": "code",
   "execution_count": 47,
   "metadata": {
    "cellId": "4lzzejtii1x3vciaju3ciz"
   },
   "outputs": [
    {
     "name": "stdout",
     "output_type": "stream",
     "text": [
      "<class 'pandas.core.frame.DataFrame'>\n",
      "Int64Index: 202607 entries, 0 to 202606\n",
      "Data columns (total 5 columns):\n",
      "id           202607 non-null object\n",
      "call_date    202607 non-null datetime64[ns]\n",
      "duration     202607 non-null float64\n",
      "user_id      202607 non-null int64\n",
      "month        202607 non-null float64\n",
      "dtypes: datetime64[ns](1), float64(2), int64(1), object(1)\n",
      "memory usage: 9.3+ MB\n"
     ]
    }
   ],
   "source": [
    "df_calls.info()"
   ]
  },
  {
   "cell_type": "markdown",
   "metadata": {
    "cellId": "874jyyn4i8y4pm3j73k41q"
   },
   "source": [
    "Выполним те же операции для интернет-сессий"
   ]
  },
  {
   "cell_type": "code",
   "execution_count": 48,
   "metadata": {
    "cellId": "c9f9yrdonvcp56jsvgd6"
   },
   "outputs": [],
   "source": [
    "df_temp = df_internet.merge(df_users, on='user_id', how='left')"
   ]
  },
  {
   "cell_type": "code",
   "execution_count": 49,
   "metadata": {
    "cellId": "91acm820p96z0f438g7ds"
   },
   "outputs": [
    {
     "data": {
      "text/html": [
       "<div>\n",
       "<style scoped>\n",
       "    .dataframe tbody tr th:only-of-type {\n",
       "        vertical-align: middle;\n",
       "    }\n",
       "\n",
       "    .dataframe tbody tr th {\n",
       "        vertical-align: top;\n",
       "    }\n",
       "\n",
       "    .dataframe thead th {\n",
       "        text-align: right;\n",
       "    }\n",
       "</style>\n",
       "<table border=\"1\" class=\"dataframe\">\n",
       "  <thead>\n",
       "    <tr style=\"text-align: right;\">\n",
       "      <th></th>\n",
       "      <th>id</th>\n",
       "      <th>mb_used</th>\n",
       "      <th>session_date</th>\n",
       "      <th>user_id</th>\n",
       "      <th>age</th>\n",
       "      <th>churn_date</th>\n",
       "      <th>city</th>\n",
       "      <th>first_name</th>\n",
       "      <th>last_name</th>\n",
       "      <th>reg_date</th>\n",
       "      <th>tariff</th>\n",
       "    </tr>\n",
       "  </thead>\n",
       "  <tbody>\n",
       "    <tr>\n",
       "      <td>0</td>\n",
       "      <td>1000_0</td>\n",
       "      <td>112.95</td>\n",
       "      <td>2018-11-25</td>\n",
       "      <td>1000</td>\n",
       "      <td>52</td>\n",
       "      <td>2018-12-31</td>\n",
       "      <td>Краснодар</td>\n",
       "      <td>Рафаил</td>\n",
       "      <td>Верещагин</td>\n",
       "      <td>2018-05-25</td>\n",
       "      <td>ultra</td>\n",
       "    </tr>\n",
       "    <tr>\n",
       "      <td>1</td>\n",
       "      <td>1000_1</td>\n",
       "      <td>1052.81</td>\n",
       "      <td>2018-09-07</td>\n",
       "      <td>1000</td>\n",
       "      <td>52</td>\n",
       "      <td>2018-12-31</td>\n",
       "      <td>Краснодар</td>\n",
       "      <td>Рафаил</td>\n",
       "      <td>Верещагин</td>\n",
       "      <td>2018-05-25</td>\n",
       "      <td>ultra</td>\n",
       "    </tr>\n",
       "    <tr>\n",
       "      <td>2</td>\n",
       "      <td>1000_2</td>\n",
       "      <td>1197.26</td>\n",
       "      <td>2018-06-25</td>\n",
       "      <td>1000</td>\n",
       "      <td>52</td>\n",
       "      <td>2018-12-31</td>\n",
       "      <td>Краснодар</td>\n",
       "      <td>Рафаил</td>\n",
       "      <td>Верещагин</td>\n",
       "      <td>2018-05-25</td>\n",
       "      <td>ultra</td>\n",
       "    </tr>\n",
       "    <tr>\n",
       "      <td>3</td>\n",
       "      <td>1000_3</td>\n",
       "      <td>550.27</td>\n",
       "      <td>2018-08-22</td>\n",
       "      <td>1000</td>\n",
       "      <td>52</td>\n",
       "      <td>2018-12-31</td>\n",
       "      <td>Краснодар</td>\n",
       "      <td>Рафаил</td>\n",
       "      <td>Верещагин</td>\n",
       "      <td>2018-05-25</td>\n",
       "      <td>ultra</td>\n",
       "    </tr>\n",
       "    <tr>\n",
       "      <td>4</td>\n",
       "      <td>1000_4</td>\n",
       "      <td>302.56</td>\n",
       "      <td>2018-09-24</td>\n",
       "      <td>1000</td>\n",
       "      <td>52</td>\n",
       "      <td>2018-12-31</td>\n",
       "      <td>Краснодар</td>\n",
       "      <td>Рафаил</td>\n",
       "      <td>Верещагин</td>\n",
       "      <td>2018-05-25</td>\n",
       "      <td>ultra</td>\n",
       "    </tr>\n",
       "  </tbody>\n",
       "</table>\n",
       "</div>"
      ],
      "text/plain": [
       "       id  mb_used session_date  user_id  age churn_date       city  \\\n",
       "0  1000_0   112.95   2018-11-25     1000   52 2018-12-31  Краснодар   \n",
       "1  1000_1  1052.81   2018-09-07     1000   52 2018-12-31  Краснодар   \n",
       "2  1000_2  1197.26   2018-06-25     1000   52 2018-12-31  Краснодар   \n",
       "3  1000_3   550.27   2018-08-22     1000   52 2018-12-31  Краснодар   \n",
       "4  1000_4   302.56   2018-09-24     1000   52 2018-12-31  Краснодар   \n",
       "\n",
       "  first_name  last_name   reg_date tariff  \n",
       "0     Рафаил  Верещагин 2018-05-25  ultra  \n",
       "1     Рафаил  Верещагин 2018-05-25  ultra  \n",
       "2     Рафаил  Верещагин 2018-05-25  ultra  \n",
       "3     Рафаил  Верещагин 2018-05-25  ultra  \n",
       "4     Рафаил  Верещагин 2018-05-25  ultra  "
      ]
     },
     "execution_count": 49,
     "metadata": {},
     "output_type": "execute_result"
    }
   ],
   "source": [
    "df_temp.head()"
   ]
  },
  {
   "cell_type": "code",
   "execution_count": 50,
   "metadata": {
    "cellId": "qywdvmj8d4idda3zbr9ma"
   },
   "outputs": [],
   "source": [
    "df_temp['month'] = pd.to_timedelta((df_temp['session_date']-df_temp['reg_date']))/np.timedelta64(1, 'M')"
   ]
  },
  {
   "cell_type": "code",
   "execution_count": 51,
   "metadata": {
    "cellId": "7raed4mx72ohitwtavhx8l"
   },
   "outputs": [],
   "source": [
    "df_temp['month'] = np.ceil(df_temp['month'])"
   ]
  },
  {
   "cell_type": "code",
   "execution_count": 52,
   "metadata": {
    "cellId": "kywdt1msdydl5lt2soriv"
   },
   "outputs": [
    {
     "data": {
      "text/plain": [
       "1.0     24989\n",
       "2.0     22390\n",
       "3.0     20642\n",
       "4.0     17241\n",
       "5.0     15590\n",
       "6.0     12915\n",
       "7.0     11182\n",
       "8.0      8771\n",
       "9.0      6381\n",
       "10.0     4530\n",
       "11.0     2726\n",
       "0.0      1069\n",
       "12.0      970\n",
       "Name: month, dtype: int64"
      ]
     },
     "execution_count": 52,
     "metadata": {},
     "output_type": "execute_result"
    }
   ],
   "source": [
    "df_temp['month'].value_counts(dropna=False)"
   ]
  },
  {
   "cell_type": "code",
   "execution_count": 53,
   "metadata": {
    "cellId": "hh0cxx4rhx8mkgblv0nf4"
   },
   "outputs": [],
   "source": [
    "df_temp['month'] = df_temp['month'].apply(lambda x: 1 if x==0 else x)"
   ]
  },
  {
   "cell_type": "code",
   "execution_count": 54,
   "metadata": {
    "cellId": "a64unim4v8whqkrt4aq9k"
   },
   "outputs": [],
   "source": [
    "df_internet = df_temp[['id', 'mb_used', 'session_date', 'user_id', 'month']]"
   ]
  },
  {
   "cell_type": "code",
   "execution_count": 55,
   "metadata": {
    "cellId": "vptsmq48wfsl6j97ubm5l"
   },
   "outputs": [
    {
     "name": "stdout",
     "output_type": "stream",
     "text": [
      "<class 'pandas.core.frame.DataFrame'>\n",
      "Int64Index: 149396 entries, 0 to 149395\n",
      "Data columns (total 5 columns):\n",
      "id              149396 non-null object\n",
      "mb_used         149396 non-null float64\n",
      "session_date    149396 non-null datetime64[ns]\n",
      "user_id         149396 non-null int64\n",
      "month           149396 non-null float64\n",
      "dtypes: datetime64[ns](1), float64(2), int64(1), object(1)\n",
      "memory usage: 6.8+ MB\n"
     ]
    }
   ],
   "source": [
    "df_internet.info()"
   ]
  },
  {
   "cell_type": "markdown",
   "metadata": {
    "cellId": "kyw6qx35joo5cd3u23g22t"
   },
   "source": [
    "Аналогично и для сообщений."
   ]
  },
  {
   "cell_type": "code",
   "execution_count": 56,
   "metadata": {
    "cellId": "j2l3jna7t3s96lv4hmrtu4"
   },
   "outputs": [],
   "source": [
    "df_temp = df_messages.merge(df_users, on='user_id', how='left')"
   ]
  },
  {
   "cell_type": "code",
   "execution_count": 57,
   "metadata": {
    "cellId": "exo45kd6zanm9f8vgq3ygq"
   },
   "outputs": [
    {
     "data": {
      "text/html": [
       "<div>\n",
       "<style scoped>\n",
       "    .dataframe tbody tr th:only-of-type {\n",
       "        vertical-align: middle;\n",
       "    }\n",
       "\n",
       "    .dataframe tbody tr th {\n",
       "        vertical-align: top;\n",
       "    }\n",
       "\n",
       "    .dataframe thead th {\n",
       "        text-align: right;\n",
       "    }\n",
       "</style>\n",
       "<table border=\"1\" class=\"dataframe\">\n",
       "  <thead>\n",
       "    <tr style=\"text-align: right;\">\n",
       "      <th></th>\n",
       "      <th>id</th>\n",
       "      <th>message_date</th>\n",
       "      <th>user_id</th>\n",
       "      <th>age</th>\n",
       "      <th>churn_date</th>\n",
       "      <th>city</th>\n",
       "      <th>first_name</th>\n",
       "      <th>last_name</th>\n",
       "      <th>reg_date</th>\n",
       "      <th>tariff</th>\n",
       "    </tr>\n",
       "  </thead>\n",
       "  <tbody>\n",
       "    <tr>\n",
       "      <td>0</td>\n",
       "      <td>1000_0</td>\n",
       "      <td>2018-06-27</td>\n",
       "      <td>1000</td>\n",
       "      <td>52</td>\n",
       "      <td>2018-12-31</td>\n",
       "      <td>Краснодар</td>\n",
       "      <td>Рафаил</td>\n",
       "      <td>Верещагин</td>\n",
       "      <td>2018-05-25</td>\n",
       "      <td>ultra</td>\n",
       "    </tr>\n",
       "    <tr>\n",
       "      <td>1</td>\n",
       "      <td>1000_1</td>\n",
       "      <td>2018-10-08</td>\n",
       "      <td>1000</td>\n",
       "      <td>52</td>\n",
       "      <td>2018-12-31</td>\n",
       "      <td>Краснодар</td>\n",
       "      <td>Рафаил</td>\n",
       "      <td>Верещагин</td>\n",
       "      <td>2018-05-25</td>\n",
       "      <td>ultra</td>\n",
       "    </tr>\n",
       "    <tr>\n",
       "      <td>2</td>\n",
       "      <td>1000_2</td>\n",
       "      <td>2018-08-04</td>\n",
       "      <td>1000</td>\n",
       "      <td>52</td>\n",
       "      <td>2018-12-31</td>\n",
       "      <td>Краснодар</td>\n",
       "      <td>Рафаил</td>\n",
       "      <td>Верещагин</td>\n",
       "      <td>2018-05-25</td>\n",
       "      <td>ultra</td>\n",
       "    </tr>\n",
       "    <tr>\n",
       "      <td>3</td>\n",
       "      <td>1000_3</td>\n",
       "      <td>2018-06-16</td>\n",
       "      <td>1000</td>\n",
       "      <td>52</td>\n",
       "      <td>2018-12-31</td>\n",
       "      <td>Краснодар</td>\n",
       "      <td>Рафаил</td>\n",
       "      <td>Верещагин</td>\n",
       "      <td>2018-05-25</td>\n",
       "      <td>ultra</td>\n",
       "    </tr>\n",
       "    <tr>\n",
       "      <td>4</td>\n",
       "      <td>1000_4</td>\n",
       "      <td>2018-12-05</td>\n",
       "      <td>1000</td>\n",
       "      <td>52</td>\n",
       "      <td>2018-12-31</td>\n",
       "      <td>Краснодар</td>\n",
       "      <td>Рафаил</td>\n",
       "      <td>Верещагин</td>\n",
       "      <td>2018-05-25</td>\n",
       "      <td>ultra</td>\n",
       "    </tr>\n",
       "  </tbody>\n",
       "</table>\n",
       "</div>"
      ],
      "text/plain": [
       "       id message_date  user_id  age churn_date       city first_name  \\\n",
       "0  1000_0   2018-06-27     1000   52 2018-12-31  Краснодар     Рафаил   \n",
       "1  1000_1   2018-10-08     1000   52 2018-12-31  Краснодар     Рафаил   \n",
       "2  1000_2   2018-08-04     1000   52 2018-12-31  Краснодар     Рафаил   \n",
       "3  1000_3   2018-06-16     1000   52 2018-12-31  Краснодар     Рафаил   \n",
       "4  1000_4   2018-12-05     1000   52 2018-12-31  Краснодар     Рафаил   \n",
       "\n",
       "   last_name   reg_date tariff  \n",
       "0  Верещагин 2018-05-25  ultra  \n",
       "1  Верещагин 2018-05-25  ultra  \n",
       "2  Верещагин 2018-05-25  ultra  \n",
       "3  Верещагин 2018-05-25  ultra  \n",
       "4  Верещагин 2018-05-25  ultra  "
      ]
     },
     "execution_count": 57,
     "metadata": {},
     "output_type": "execute_result"
    }
   ],
   "source": [
    "df_temp.head()"
   ]
  },
  {
   "cell_type": "code",
   "execution_count": 58,
   "metadata": {
    "cellId": "lr9flgjeetko9761t5xwi"
   },
   "outputs": [],
   "source": [
    "df_temp['month'] = pd.to_timedelta((df_temp['message_date']-df_temp['reg_date']))/np.timedelta64(1, 'M')"
   ]
  },
  {
   "cell_type": "code",
   "execution_count": 59,
   "metadata": {
    "cellId": "51nhqqpv4yt5kvb1em3qm8"
   },
   "outputs": [],
   "source": [
    "df_temp['month'] = np.ceil(df_temp['month'])"
   ]
  },
  {
   "cell_type": "code",
   "execution_count": 60,
   "metadata": {
    "cellId": "do3ux9up2gnb7a0nezucnp"
   },
   "outputs": [
    {
     "data": {
      "text/plain": [
       "1.0     20756\n",
       "2.0     18660\n",
       "3.0     17303\n",
       "4.0     14505\n",
       "5.0     12835\n",
       "6.0     10230\n",
       "7.0      9129\n",
       "8.0      6862\n",
       "9.0      5180\n",
       "10.0     3733\n",
       "11.0     2191\n",
       "12.0      851\n",
       "0.0       801\n",
       "Name: month, dtype: int64"
      ]
     },
     "execution_count": 60,
     "metadata": {},
     "output_type": "execute_result"
    }
   ],
   "source": [
    "df_temp['month'].value_counts(dropna=False)"
   ]
  },
  {
   "cell_type": "code",
   "execution_count": 61,
   "metadata": {
    "cellId": "7kkczkx9txvv0xvf7hg8ua"
   },
   "outputs": [],
   "source": [
    "df_temp['month'] = df_temp['month'].apply(lambda x: 1 if x==0 else x)"
   ]
  },
  {
   "cell_type": "code",
   "execution_count": 62,
   "metadata": {
    "cellId": "rhjq2jvpcihwev9bwx4m4h"
   },
   "outputs": [],
   "source": [
    "df_messages = df_temp[['id', 'message_date', 'user_id', 'month']]"
   ]
  },
  {
   "cell_type": "markdown",
   "metadata": {
    "cellId": "v0q11kzynm7meoxltjhwnc"
   },
   "source": [
    "Проверим результат"
   ]
  },
  {
   "cell_type": "code",
   "execution_count": 63,
   "metadata": {
    "cellId": "s00mm3m91s3zbn9kgghcb",
    "scrolled": true
   },
   "outputs": [
    {
     "name": "stdout",
     "output_type": "stream",
     "text": [
      "<class 'pandas.core.frame.DataFrame'>\n",
      "Int64Index: 123036 entries, 0 to 123035\n",
      "Data columns (total 4 columns):\n",
      "id              123036 non-null object\n",
      "message_date    123036 non-null datetime64[ns]\n",
      "user_id         123036 non-null int64\n",
      "month           123036 non-null float64\n",
      "dtypes: datetime64[ns](1), float64(1), int64(1), object(1)\n",
      "memory usage: 4.7+ MB\n"
     ]
    }
   ],
   "source": [
    "df_messages.info()"
   ]
  },
  {
   "cell_type": "markdown",
   "metadata": {
    "cellId": "dk5k6mji1zqaf6pmli7h4n"
   },
   "source": [
    "Проверим, есть ли явные дубликаты в таблицах"
   ]
  },
  {
   "cell_type": "code",
   "execution_count": 64,
   "metadata": {
    "cellId": "vt0zjr2abofhnazxsto069",
    "scrolled": true
   },
   "outputs": [
    {
     "data": {
      "text/plain": [
       "0"
      ]
     },
     "execution_count": 64,
     "metadata": {},
     "output_type": "execute_result"
    }
   ],
   "source": [
    "df_calls.duplicated().sum()+df_internet.duplicated().sum()+df_messages.duplicated().sum()+df_users.duplicated().sum()"
   ]
  },
  {
   "cell_type": "markdown",
   "metadata": {
    "cellId": "5a8qkmvioi70wllxnhnw4bc"
   },
   "source": [
    "Дубликатов нет"
   ]
  },
  {
   "cell_type": "markdown",
   "metadata": {},
   "source": [
    "Теперь округлим значения минут в разговорах до большего целого числа"
   ]
  },
  {
   "cell_type": "code",
   "execution_count": 65,
   "metadata": {},
   "outputs": [],
   "source": [
    "df_calls.loc[:,'duration'] = np.ceil(df_calls['duration'])"
   ]
  },
  {
   "cell_type": "code",
   "execution_count": 66,
   "metadata": {
    "scrolled": true
   },
   "outputs": [
    {
     "data": {
      "text/html": [
       "<div>\n",
       "<style scoped>\n",
       "    .dataframe tbody tr th:only-of-type {\n",
       "        vertical-align: middle;\n",
       "    }\n",
       "\n",
       "    .dataframe tbody tr th {\n",
       "        vertical-align: top;\n",
       "    }\n",
       "\n",
       "    .dataframe thead th {\n",
       "        text-align: right;\n",
       "    }\n",
       "</style>\n",
       "<table border=\"1\" class=\"dataframe\">\n",
       "  <thead>\n",
       "    <tr style=\"text-align: right;\">\n",
       "      <th></th>\n",
       "      <th>id</th>\n",
       "      <th>call_date</th>\n",
       "      <th>duration</th>\n",
       "      <th>user_id</th>\n",
       "      <th>month</th>\n",
       "    </tr>\n",
       "  </thead>\n",
       "  <tbody>\n",
       "    <tr>\n",
       "      <td>0</td>\n",
       "      <td>1000_0</td>\n",
       "      <td>2018-07-25</td>\n",
       "      <td>0.0</td>\n",
       "      <td>1000</td>\n",
       "      <td>3.0</td>\n",
       "    </tr>\n",
       "    <tr>\n",
       "      <td>1</td>\n",
       "      <td>1000_1</td>\n",
       "      <td>2018-08-17</td>\n",
       "      <td>0.0</td>\n",
       "      <td>1000</td>\n",
       "      <td>3.0</td>\n",
       "    </tr>\n",
       "    <tr>\n",
       "      <td>2</td>\n",
       "      <td>1000_2</td>\n",
       "      <td>2018-06-11</td>\n",
       "      <td>3.0</td>\n",
       "      <td>1000</td>\n",
       "      <td>1.0</td>\n",
       "    </tr>\n",
       "    <tr>\n",
       "      <td>3</td>\n",
       "      <td>1000_3</td>\n",
       "      <td>2018-09-21</td>\n",
       "      <td>14.0</td>\n",
       "      <td>1000</td>\n",
       "      <td>4.0</td>\n",
       "    </tr>\n",
       "    <tr>\n",
       "      <td>4</td>\n",
       "      <td>1000_4</td>\n",
       "      <td>2018-12-15</td>\n",
       "      <td>6.0</td>\n",
       "      <td>1000</td>\n",
       "      <td>7.0</td>\n",
       "    </tr>\n",
       "  </tbody>\n",
       "</table>\n",
       "</div>"
      ],
      "text/plain": [
       "       id  call_date  duration  user_id  month\n",
       "0  1000_0 2018-07-25       0.0     1000    3.0\n",
       "1  1000_1 2018-08-17       0.0     1000    3.0\n",
       "2  1000_2 2018-06-11       3.0     1000    1.0\n",
       "3  1000_3 2018-09-21      14.0     1000    4.0\n",
       "4  1000_4 2018-12-15       6.0     1000    7.0"
      ]
     },
     "execution_count": 66,
     "metadata": {},
     "output_type": "execute_result"
    }
   ],
   "source": [
    "df_calls.head()"
   ]
  },
  {
   "cell_type": "markdown",
   "metadata": {},
   "source": [
    "Округление вышло"
   ]
  },
  {
   "cell_type": "markdown",
   "metadata": {
    "cellId": "3e27jcgphma0p7hbq9cuyjr"
   },
   "source": [
    "### Вывод\n",
    "\n",
    "В ходе предобработки привели данты к типу datetime, добавили столбцы с месяцем для звоноков, интерент-сессий и сообщений. Пропущеннные значения для даты прекращения пользования тарифом в таблице с пользователями заменили последним днём 2018 года. Длительность звонков округлили до минут в большую сторону. Дубликаты значений не обнаружены"
   ]
  },
  {
   "cell_type": "markdown",
   "metadata": {
    "cellId": "il52si03s1312rtmkya3l"
   },
   "source": [
    "<a id='section_4'></a>\n",
    "## Анализ данных"
   ]
  },
  {
   "cell_type": "markdown",
   "metadata": {},
   "source": [
    "<a id='section_4_1'></a>\n",
    "### Группировка данных"
   ]
  },
  {
   "cell_type": "markdown",
   "metadata": {
    "cellId": "4lahfsrl80e8tgaz0mjpmi"
   },
   "source": [
    "Определим количество звонков и длительность по месяцам для каждого абонента. Сгруппируем по пользователям и месяцам."
   ]
  },
  {
   "cell_type": "code",
   "execution_count": 67,
   "metadata": {
    "cellId": "1n73arhk4yvranaziyhg7"
   },
   "outputs": [],
   "source": [
    "df_сalls_grouped = df_calls.groupby(['user_id', 'month']).agg({'duration':['count', 'sum']})"
   ]
  },
  {
   "cell_type": "code",
   "execution_count": 68,
   "metadata": {
    "cellId": "m4468ierl8svkc3m0i4r"
   },
   "outputs": [
    {
     "data": {
      "text/html": [
       "<div>\n",
       "<style scoped>\n",
       "    .dataframe tbody tr th:only-of-type {\n",
       "        vertical-align: middle;\n",
       "    }\n",
       "\n",
       "    .dataframe tbody tr th {\n",
       "        vertical-align: top;\n",
       "    }\n",
       "\n",
       "    .dataframe thead tr th {\n",
       "        text-align: left;\n",
       "    }\n",
       "\n",
       "    .dataframe thead tr:last-of-type th {\n",
       "        text-align: right;\n",
       "    }\n",
       "</style>\n",
       "<table border=\"1\" class=\"dataframe\">\n",
       "  <thead>\n",
       "    <tr>\n",
       "      <th></th>\n",
       "      <th></th>\n",
       "      <th colspan=\"2\" halign=\"left\">duration</th>\n",
       "    </tr>\n",
       "    <tr>\n",
       "      <th></th>\n",
       "      <th></th>\n",
       "      <th>count</th>\n",
       "      <th>sum</th>\n",
       "    </tr>\n",
       "    <tr>\n",
       "      <th>user_id</th>\n",
       "      <th>month</th>\n",
       "      <th></th>\n",
       "      <th></th>\n",
       "    </tr>\n",
       "  </thead>\n",
       "  <tbody>\n",
       "    <tr>\n",
       "      <td rowspan=\"5\" valign=\"top\">1000</td>\n",
       "      <td>1.0</td>\n",
       "      <td>54</td>\n",
       "      <td>299.0</td>\n",
       "    </tr>\n",
       "    <tr>\n",
       "      <td>2.0</td>\n",
       "      <td>46</td>\n",
       "      <td>284.0</td>\n",
       "    </tr>\n",
       "    <tr>\n",
       "      <td>3.0</td>\n",
       "      <td>54</td>\n",
       "      <td>403.0</td>\n",
       "    </tr>\n",
       "    <tr>\n",
       "      <td>4.0</td>\n",
       "      <td>54</td>\n",
       "      <td>470.0</td>\n",
       "    </tr>\n",
       "    <tr>\n",
       "      <td>5.0</td>\n",
       "      <td>56</td>\n",
       "      <td>380.0</td>\n",
       "    </tr>\n",
       "  </tbody>\n",
       "</table>\n",
       "</div>"
      ],
      "text/plain": [
       "              duration       \n",
       "                 count    sum\n",
       "user_id month                \n",
       "1000    1.0         54  299.0\n",
       "        2.0         46  284.0\n",
       "        3.0         54  403.0\n",
       "        4.0         54  470.0\n",
       "        5.0         56  380.0"
      ]
     },
     "execution_count": 68,
     "metadata": {},
     "output_type": "execute_result"
    }
   ],
   "source": [
    "df_сalls_grouped.head()"
   ]
  },
  {
   "cell_type": "markdown",
   "metadata": {
    "cellId": "1pbzsrmasosr86on2ky24"
   },
   "source": [
    "Определим количество отправленных сообщений по месяцам."
   ]
  },
  {
   "cell_type": "code",
   "execution_count": 76,
   "metadata": {
    "cellId": "rpodrzxef2azpeyv9p6wwa"
   },
   "outputs": [],
   "source": [
    "df_messages_grouped = df_messages.groupby(['user_id', 'month']).agg({'id':['count']})"
   ]
  },
  {
   "cell_type": "markdown",
   "metadata": {
    "cellId": "bza01l17vgh0kghj6v9od"
   },
   "source": [
    "Для удобства переименуем столбец с показателем кол-ва сообщений в `message_count`"
   ]
  },
  {
   "cell_type": "code",
   "execution_count": 77,
   "metadata": {
    "cellId": "oprqd3bws4ldx6upa6r33g"
   },
   "outputs": [],
   "source": [
    "df_messages_grouped.columns=['message_count']"
   ]
  },
  {
   "cell_type": "code",
   "execution_count": 78,
   "metadata": {
    "cellId": "rqc7yz8qrqqeqt6sr6ot9n"
   },
   "outputs": [
    {
     "data": {
      "text/html": [
       "<div>\n",
       "<style scoped>\n",
       "    .dataframe tbody tr th:only-of-type {\n",
       "        vertical-align: middle;\n",
       "    }\n",
       "\n",
       "    .dataframe tbody tr th {\n",
       "        vertical-align: top;\n",
       "    }\n",
       "\n",
       "    .dataframe thead th {\n",
       "        text-align: right;\n",
       "    }\n",
       "</style>\n",
       "<table border=\"1\" class=\"dataframe\">\n",
       "  <thead>\n",
       "    <tr style=\"text-align: right;\">\n",
       "      <th></th>\n",
       "      <th></th>\n",
       "      <th>message_count</th>\n",
       "    </tr>\n",
       "    <tr>\n",
       "      <th>user_id</th>\n",
       "      <th>month</th>\n",
       "      <th></th>\n",
       "    </tr>\n",
       "  </thead>\n",
       "  <tbody>\n",
       "    <tr>\n",
       "      <td rowspan=\"5\" valign=\"top\">1000</td>\n",
       "      <td>1.0</td>\n",
       "      <td>63</td>\n",
       "    </tr>\n",
       "    <tr>\n",
       "      <td>2.0</td>\n",
       "      <td>70</td>\n",
       "    </tr>\n",
       "    <tr>\n",
       "      <td>3.0</td>\n",
       "      <td>81</td>\n",
       "    </tr>\n",
       "    <tr>\n",
       "      <td>4.0</td>\n",
       "      <td>71</td>\n",
       "    </tr>\n",
       "    <tr>\n",
       "      <td>5.0</td>\n",
       "      <td>59</td>\n",
       "    </tr>\n",
       "  </tbody>\n",
       "</table>\n",
       "</div>"
      ],
      "text/plain": [
       "               message_count\n",
       "user_id month               \n",
       "1000    1.0               63\n",
       "        2.0               70\n",
       "        3.0               81\n",
       "        4.0               71\n",
       "        5.0               59"
      ]
     },
     "execution_count": 78,
     "metadata": {},
     "output_type": "execute_result"
    }
   ],
   "source": [
    "df_messages_grouped.head()"
   ]
  },
  {
   "cell_type": "markdown",
   "metadata": {
    "cellId": "l3glojovezh6hewmz14jm"
   },
   "source": [
    "Теперь проведём группировку для интернет-сессий"
   ]
  },
  {
   "cell_type": "code",
   "execution_count": 79,
   "metadata": {
    "cellId": "k9euxb9o4lq9evi4v9f6fo"
   },
   "outputs": [],
   "source": [
    "df_internet_grouped = df_internet.groupby(['user_id', 'month']).agg({'mb_used':'sum'})"
   ]
  },
  {
   "cell_type": "code",
   "execution_count": 81,
   "metadata": {
    "cellId": "ik5dvy0u1e90qixr63o8jfo"
   },
   "outputs": [
    {
     "data": {
      "text/html": [
       "<div>\n",
       "<style scoped>\n",
       "    .dataframe tbody tr th:only-of-type {\n",
       "        vertical-align: middle;\n",
       "    }\n",
       "\n",
       "    .dataframe tbody tr th {\n",
       "        vertical-align: top;\n",
       "    }\n",
       "\n",
       "    .dataframe thead th {\n",
       "        text-align: right;\n",
       "    }\n",
       "</style>\n",
       "<table border=\"1\" class=\"dataframe\">\n",
       "  <thead>\n",
       "    <tr style=\"text-align: right;\">\n",
       "      <th></th>\n",
       "      <th></th>\n",
       "      <th>mb_used</th>\n",
       "    </tr>\n",
       "    <tr>\n",
       "      <th>user_id</th>\n",
       "      <th>month</th>\n",
       "      <th></th>\n",
       "    </tr>\n",
       "  </thead>\n",
       "  <tbody>\n",
       "    <tr>\n",
       "      <td rowspan=\"5\" valign=\"top\">1000</td>\n",
       "      <td>1.0</td>\n",
       "      <td>17821.04</td>\n",
       "    </tr>\n",
       "    <tr>\n",
       "      <td>2.0</td>\n",
       "      <td>18727.60</td>\n",
       "    </tr>\n",
       "    <tr>\n",
       "      <td>3.0</td>\n",
       "      <td>11440.52</td>\n",
       "    </tr>\n",
       "    <tr>\n",
       "      <td>4.0</td>\n",
       "      <td>16078.19</td>\n",
       "    </tr>\n",
       "    <tr>\n",
       "      <td>5.0</td>\n",
       "      <td>16778.95</td>\n",
       "    </tr>\n",
       "  </tbody>\n",
       "</table>\n",
       "</div>"
      ],
      "text/plain": [
       "                mb_used\n",
       "user_id month          \n",
       "1000    1.0    17821.04\n",
       "        2.0    18727.60\n",
       "        3.0    11440.52\n",
       "        4.0    16078.19\n",
       "        5.0    16778.95"
      ]
     },
     "execution_count": 81,
     "metadata": {},
     "output_type": "execute_result"
    }
   ],
   "source": [
    "df_internet_grouped.head()"
   ]
  },
  {
   "cell_type": "markdown",
   "metadata": {
    "cellId": "vc8rhpwnuus5azy1bihj8o"
   },
   "source": [
    "Теперь переведём мегабайты в гигабайты и округлим вверх"
   ]
  },
  {
   "cell_type": "code",
   "execution_count": 82,
   "metadata": {
    "cellId": "kdg0f5ben5wqbgehddr0p"
   },
   "outputs": [],
   "source": [
    "df_internet_grouped['gb_used']=np.ceil(df_internet_grouped['mb_used']/1024)"
   ]
  },
  {
   "cell_type": "code",
   "execution_count": 83,
   "metadata": {
    "cellId": "0cvpqnka8t8nyh6gjmvjlk",
    "scrolled": true
   },
   "outputs": [
    {
     "data": {
      "text/html": [
       "<div>\n",
       "<style scoped>\n",
       "    .dataframe tbody tr th:only-of-type {\n",
       "        vertical-align: middle;\n",
       "    }\n",
       "\n",
       "    .dataframe tbody tr th {\n",
       "        vertical-align: top;\n",
       "    }\n",
       "\n",
       "    .dataframe thead th {\n",
       "        text-align: right;\n",
       "    }\n",
       "</style>\n",
       "<table border=\"1\" class=\"dataframe\">\n",
       "  <thead>\n",
       "    <tr style=\"text-align: right;\">\n",
       "      <th></th>\n",
       "      <th></th>\n",
       "      <th>mb_used</th>\n",
       "      <th>gb_used</th>\n",
       "    </tr>\n",
       "    <tr>\n",
       "      <th>user_id</th>\n",
       "      <th>month</th>\n",
       "      <th></th>\n",
       "      <th></th>\n",
       "    </tr>\n",
       "  </thead>\n",
       "  <tbody>\n",
       "    <tr>\n",
       "      <td rowspan=\"5\" valign=\"top\">1000</td>\n",
       "      <td>1.0</td>\n",
       "      <td>17821.04</td>\n",
       "      <td>18.0</td>\n",
       "    </tr>\n",
       "    <tr>\n",
       "      <td>2.0</td>\n",
       "      <td>18727.60</td>\n",
       "      <td>19.0</td>\n",
       "    </tr>\n",
       "    <tr>\n",
       "      <td>3.0</td>\n",
       "      <td>11440.52</td>\n",
       "      <td>12.0</td>\n",
       "    </tr>\n",
       "    <tr>\n",
       "      <td>4.0</td>\n",
       "      <td>16078.19</td>\n",
       "      <td>16.0</td>\n",
       "    </tr>\n",
       "    <tr>\n",
       "      <td>5.0</td>\n",
       "      <td>16778.95</td>\n",
       "      <td>17.0</td>\n",
       "    </tr>\n",
       "  </tbody>\n",
       "</table>\n",
       "</div>"
      ],
      "text/plain": [
       "                mb_used  gb_used\n",
       "user_id month                   \n",
       "1000    1.0    17821.04     18.0\n",
       "        2.0    18727.60     19.0\n",
       "        3.0    11440.52     12.0\n",
       "        4.0    16078.19     16.0\n",
       "        5.0    16778.95     17.0"
      ]
     },
     "execution_count": 83,
     "metadata": {},
     "output_type": "execute_result"
    }
   ],
   "source": [
    "df_internet_grouped.head()"
   ]
  },
  {
   "cell_type": "markdown",
   "metadata": {},
   "source": [
    "<a id='section_4_2'></a>\n",
    "### Объединение данных"
   ]
  },
  {
   "cell_type": "markdown",
   "metadata": {
    "cellId": "2nf0fsprxbbs6rrvh82wc"
   },
   "source": [
    "Объединим информацию о звонках с информацией о сообщениях"
   ]
  },
  {
   "cell_type": "code",
   "execution_count": 84,
   "metadata": {
    "cellId": "czkpkgfbypsnqvkwzri9",
    "scrolled": true
   },
   "outputs": [
    {
     "name": "stderr",
     "output_type": "stream",
     "text": [
      "/opt/conda/lib/python3.7/site-packages/pandas/core/reshape/merge.py:617: UserWarning: merging between different levels can give an unintended result (2 levels on the left, 1 on the right)\n",
      "  warnings.warn(msg, UserWarning)\n"
     ]
    }
   ],
   "source": [
    "df_general=df_сalls_grouped.merge(df_messages_grouped, on=['user_id', 'month'], how = 'outer')"
   ]
  },
  {
   "cell_type": "markdown",
   "metadata": {},
   "source": [
    "Посмотрим на данные"
   ]
  },
  {
   "cell_type": "code",
   "execution_count": 87,
   "metadata": {
    "cellId": "gqujgqjc0lunmqhtab47x"
   },
   "outputs": [
    {
     "data": {
      "text/html": [
       "<div>\n",
       "<style scoped>\n",
       "    .dataframe tbody tr th:only-of-type {\n",
       "        vertical-align: middle;\n",
       "    }\n",
       "\n",
       "    .dataframe tbody tr th {\n",
       "        vertical-align: top;\n",
       "    }\n",
       "\n",
       "    .dataframe thead th {\n",
       "        text-align: right;\n",
       "    }\n",
       "</style>\n",
       "<table border=\"1\" class=\"dataframe\">\n",
       "  <thead>\n",
       "    <tr style=\"text-align: right;\">\n",
       "      <th></th>\n",
       "      <th></th>\n",
       "      <th>(duration, count)</th>\n",
       "      <th>(duration, sum)</th>\n",
       "      <th>message_count</th>\n",
       "    </tr>\n",
       "    <tr>\n",
       "      <th>user_id</th>\n",
       "      <th>month</th>\n",
       "      <th></th>\n",
       "      <th></th>\n",
       "      <th></th>\n",
       "    </tr>\n",
       "  </thead>\n",
       "  <tbody>\n",
       "    <tr>\n",
       "      <td rowspan=\"5\" valign=\"top\">1000</td>\n",
       "      <td>1.0</td>\n",
       "      <td>54.0</td>\n",
       "      <td>299.0</td>\n",
       "      <td>63.0</td>\n",
       "    </tr>\n",
       "    <tr>\n",
       "      <td>2.0</td>\n",
       "      <td>46.0</td>\n",
       "      <td>284.0</td>\n",
       "      <td>70.0</td>\n",
       "    </tr>\n",
       "    <tr>\n",
       "      <td>3.0</td>\n",
       "      <td>54.0</td>\n",
       "      <td>403.0</td>\n",
       "      <td>81.0</td>\n",
       "    </tr>\n",
       "    <tr>\n",
       "      <td>4.0</td>\n",
       "      <td>54.0</td>\n",
       "      <td>470.0</td>\n",
       "      <td>71.0</td>\n",
       "    </tr>\n",
       "    <tr>\n",
       "      <td>5.0</td>\n",
       "      <td>56.0</td>\n",
       "      <td>380.0</td>\n",
       "      <td>59.0</td>\n",
       "    </tr>\n",
       "    <tr>\n",
       "      <td>...</td>\n",
       "      <td>...</td>\n",
       "      <td>...</td>\n",
       "      <td>...</td>\n",
       "      <td>...</td>\n",
       "    </tr>\n",
       "    <tr>\n",
       "      <td rowspan=\"5\" valign=\"top\">1489</td>\n",
       "      <td>1.0</td>\n",
       "      <td>NaN</td>\n",
       "      <td>NaN</td>\n",
       "      <td>30.0</td>\n",
       "    </tr>\n",
       "    <tr>\n",
       "      <td>2.0</td>\n",
       "      <td>NaN</td>\n",
       "      <td>NaN</td>\n",
       "      <td>30.0</td>\n",
       "    </tr>\n",
       "    <tr>\n",
       "      <td>3.0</td>\n",
       "      <td>NaN</td>\n",
       "      <td>NaN</td>\n",
       "      <td>20.0</td>\n",
       "    </tr>\n",
       "    <tr>\n",
       "      <td>4.0</td>\n",
       "      <td>NaN</td>\n",
       "      <td>NaN</td>\n",
       "      <td>23.0</td>\n",
       "    </tr>\n",
       "    <tr>\n",
       "      <td>5.0</td>\n",
       "      <td>NaN</td>\n",
       "      <td>NaN</td>\n",
       "      <td>22.0</td>\n",
       "    </tr>\n",
       "  </tbody>\n",
       "</table>\n",
       "<p>3204 rows × 3 columns</p>\n",
       "</div>"
      ],
      "text/plain": [
       "               (duration, count)  (duration, sum)  message_count\n",
       "user_id month                                                   \n",
       "1000    1.0                 54.0            299.0           63.0\n",
       "        2.0                 46.0            284.0           70.0\n",
       "        3.0                 54.0            403.0           81.0\n",
       "        4.0                 54.0            470.0           71.0\n",
       "        5.0                 56.0            380.0           59.0\n",
       "...                          ...              ...            ...\n",
       "1489    1.0                  NaN              NaN           30.0\n",
       "        2.0                  NaN              NaN           30.0\n",
       "        3.0                  NaN              NaN           20.0\n",
       "        4.0                  NaN              NaN           23.0\n",
       "        5.0                  NaN              NaN           22.0\n",
       "\n",
       "[3204 rows x 3 columns]"
      ]
     },
     "execution_count": 87,
     "metadata": {},
     "output_type": "execute_result"
    }
   ],
   "source": [
    "df_general"
   ]
  },
  {
   "cell_type": "markdown",
   "metadata": {
    "cellId": "ld3ul6bejjkbvnmcirdodf"
   },
   "source": [
    "Из таблицы видно, что есть пользователи, которые не пользовались звонками, но отправляли сообщения. Учтём это впоследствии. Объединим полученную таблицу с информацией об интернет-сессиях"
   ]
  },
  {
   "cell_type": "code",
   "execution_count": 88,
   "metadata": {
    "cellId": "7hxf1mp7qf7j8yt8wfmwzo"
   },
   "outputs": [],
   "source": [
    "df_general=df_general.merge(df_internet_grouped, on=['user_id', 'month'], how = 'outer')"
   ]
  },
  {
   "cell_type": "code",
   "execution_count": 90,
   "metadata": {
    "cellId": "then7h7wzhh2fbhx9x5uvx"
   },
   "outputs": [
    {
     "data": {
      "text/html": [
       "<div>\n",
       "<style scoped>\n",
       "    .dataframe tbody tr th:only-of-type {\n",
       "        vertical-align: middle;\n",
       "    }\n",
       "\n",
       "    .dataframe tbody tr th {\n",
       "        vertical-align: top;\n",
       "    }\n",
       "\n",
       "    .dataframe thead th {\n",
       "        text-align: right;\n",
       "    }\n",
       "</style>\n",
       "<table border=\"1\" class=\"dataframe\">\n",
       "  <thead>\n",
       "    <tr style=\"text-align: right;\">\n",
       "      <th></th>\n",
       "      <th></th>\n",
       "      <th>(duration, count)</th>\n",
       "      <th>(duration, sum)</th>\n",
       "      <th>message_count</th>\n",
       "      <th>mb_used</th>\n",
       "      <th>gb_used</th>\n",
       "    </tr>\n",
       "    <tr>\n",
       "      <th>user_id</th>\n",
       "      <th>month</th>\n",
       "      <th></th>\n",
       "      <th></th>\n",
       "      <th></th>\n",
       "      <th></th>\n",
       "      <th></th>\n",
       "    </tr>\n",
       "  </thead>\n",
       "  <tbody>\n",
       "    <tr>\n",
       "      <td rowspan=\"5\" valign=\"top\">1000</td>\n",
       "      <td>1.0</td>\n",
       "      <td>54.0</td>\n",
       "      <td>299.0</td>\n",
       "      <td>63.0</td>\n",
       "      <td>17821.04</td>\n",
       "      <td>18.0</td>\n",
       "    </tr>\n",
       "    <tr>\n",
       "      <td>2.0</td>\n",
       "      <td>46.0</td>\n",
       "      <td>284.0</td>\n",
       "      <td>70.0</td>\n",
       "      <td>18727.60</td>\n",
       "      <td>19.0</td>\n",
       "    </tr>\n",
       "    <tr>\n",
       "      <td>3.0</td>\n",
       "      <td>54.0</td>\n",
       "      <td>403.0</td>\n",
       "      <td>81.0</td>\n",
       "      <td>11440.52</td>\n",
       "      <td>12.0</td>\n",
       "    </tr>\n",
       "    <tr>\n",
       "      <td>4.0</td>\n",
       "      <td>54.0</td>\n",
       "      <td>470.0</td>\n",
       "      <td>71.0</td>\n",
       "      <td>16078.19</td>\n",
       "      <td>16.0</td>\n",
       "    </tr>\n",
       "    <tr>\n",
       "      <td>5.0</td>\n",
       "      <td>56.0</td>\n",
       "      <td>380.0</td>\n",
       "      <td>59.0</td>\n",
       "      <td>16778.95</td>\n",
       "      <td>17.0</td>\n",
       "    </tr>\n",
       "    <tr>\n",
       "      <td>...</td>\n",
       "      <td>...</td>\n",
       "      <td>...</td>\n",
       "      <td>...</td>\n",
       "      <td>...</td>\n",
       "      <td>...</td>\n",
       "      <td>...</td>\n",
       "    </tr>\n",
       "    <tr>\n",
       "      <td rowspan=\"5\" valign=\"top\">1489</td>\n",
       "      <td>1.0</td>\n",
       "      <td>NaN</td>\n",
       "      <td>NaN</td>\n",
       "      <td>30.0</td>\n",
       "      <td>19560.81</td>\n",
       "      <td>20.0</td>\n",
       "    </tr>\n",
       "    <tr>\n",
       "      <td>2.0</td>\n",
       "      <td>NaN</td>\n",
       "      <td>NaN</td>\n",
       "      <td>30.0</td>\n",
       "      <td>16731.67</td>\n",
       "      <td>17.0</td>\n",
       "    </tr>\n",
       "    <tr>\n",
       "      <td>3.0</td>\n",
       "      <td>NaN</td>\n",
       "      <td>NaN</td>\n",
       "      <td>20.0</td>\n",
       "      <td>16871.26</td>\n",
       "      <td>17.0</td>\n",
       "    </tr>\n",
       "    <tr>\n",
       "      <td>4.0</td>\n",
       "      <td>NaN</td>\n",
       "      <td>NaN</td>\n",
       "      <td>23.0</td>\n",
       "      <td>22559.24</td>\n",
       "      <td>23.0</td>\n",
       "    </tr>\n",
       "    <tr>\n",
       "      <td>5.0</td>\n",
       "      <td>NaN</td>\n",
       "      <td>NaN</td>\n",
       "      <td>22.0</td>\n",
       "      <td>6907.39</td>\n",
       "      <td>7.0</td>\n",
       "    </tr>\n",
       "  </tbody>\n",
       "</table>\n",
       "<p>3204 rows × 5 columns</p>\n",
       "</div>"
      ],
      "text/plain": [
       "               (duration, count)  (duration, sum)  message_count   mb_used  \\\n",
       "user_id month                                                                \n",
       "1000    1.0                 54.0            299.0           63.0  17821.04   \n",
       "        2.0                 46.0            284.0           70.0  18727.60   \n",
       "        3.0                 54.0            403.0           81.0  11440.52   \n",
       "        4.0                 54.0            470.0           71.0  16078.19   \n",
       "        5.0                 56.0            380.0           59.0  16778.95   \n",
       "...                          ...              ...            ...       ...   \n",
       "1489    1.0                  NaN              NaN           30.0  19560.81   \n",
       "        2.0                  NaN              NaN           30.0  16731.67   \n",
       "        3.0                  NaN              NaN           20.0  16871.26   \n",
       "        4.0                  NaN              NaN           23.0  22559.24   \n",
       "        5.0                  NaN              NaN           22.0   6907.39   \n",
       "\n",
       "               gb_used  \n",
       "user_id month           \n",
       "1000    1.0       18.0  \n",
       "        2.0       19.0  \n",
       "        3.0       12.0  \n",
       "        4.0       16.0  \n",
       "        5.0       17.0  \n",
       "...                ...  \n",
       "1489    1.0       20.0  \n",
       "        2.0       17.0  \n",
       "        3.0       17.0  \n",
       "        4.0       23.0  \n",
       "        5.0        7.0  \n",
       "\n",
       "[3204 rows x 5 columns]"
      ]
     },
     "execution_count": 90,
     "metadata": {},
     "output_type": "execute_result"
    }
   ],
   "source": [
    "df_general"
   ]
  },
  {
   "cell_type": "markdown",
   "metadata": {
    "cellId": "e056odzqebcq3rrw1tvugj"
   },
   "source": [
    "Посмотрим, в каких запсях появились пропуски"
   ]
  },
  {
   "cell_type": "code",
   "execution_count": 91,
   "metadata": {
    "scrolled": true
   },
   "outputs": [
    {
     "name": "stdout",
     "output_type": "stream",
     "text": [
      "<class 'pandas.core.frame.DataFrame'>\n",
      "MultiIndex: 3204 entries, (1000, 1.0) to (1489, 5.0)\n",
      "Data columns (total 5 columns):\n",
      "(duration, count)    3163 non-null float64\n",
      "(duration, sum)      3163 non-null float64\n",
      "message_count        2712 non-null float64\n",
      "mb_used              3190 non-null float64\n",
      "gb_used              3190 non-null float64\n",
      "dtypes: float64(5)\n",
      "memory usage: 138.6 KB\n"
     ]
    }
   ],
   "source": [
    "df_general.info()"
   ]
  },
  {
   "cell_type": "markdown",
   "metadata": {},
   "source": [
    "Вероятно одни абоненты не пользовались звонками, другие - сообщениями, третьи - не использовали интернет. Логично пропуски заполнить нулями."
   ]
  },
  {
   "cell_type": "code",
   "execution_count": 92,
   "metadata": {
    "scrolled": true
   },
   "outputs": [],
   "source": [
    "df_general = df_general.fillna(0)"
   ]
  },
  {
   "cell_type": "code",
   "execution_count": 93,
   "metadata": {
    "scrolled": true
   },
   "outputs": [
    {
     "name": "stdout",
     "output_type": "stream",
     "text": [
      "<class 'pandas.core.frame.DataFrame'>\n",
      "MultiIndex: 3204 entries, (1000, 1.0) to (1489, 5.0)\n",
      "Data columns (total 5 columns):\n",
      "(duration, count)    3204 non-null float64\n",
      "(duration, sum)      3204 non-null float64\n",
      "message_count        3204 non-null float64\n",
      "mb_used              3204 non-null float64\n",
      "gb_used              3204 non-null float64\n",
      "dtypes: float64(5)\n",
      "memory usage: 138.6 KB\n"
     ]
    }
   ],
   "source": [
    "df_general.info()"
   ]
  },
  {
   "cell_type": "markdown",
   "metadata": {},
   "source": [
    "Для удобства объединения с юзерами, сбросим индекс"
   ]
  },
  {
   "cell_type": "code",
   "execution_count": 94,
   "metadata": {
    "cellId": "r31r7ka16d35ofjtpvrnd"
   },
   "outputs": [],
   "source": [
    "df_general=df_general.reset_index()"
   ]
  },
  {
   "cell_type": "markdown",
   "metadata": {
    "cellId": "bnkjrwm5qopeg3by0tam58"
   },
   "source": [
    "Объединим теперь информацию о пользователях с информацией о звонках, сообщениях и интернет-сессиях."
   ]
  },
  {
   "cell_type": "code",
   "execution_count": 96,
   "metadata": {
    "cellId": "upln6lomtluuijr8huu"
   },
   "outputs": [],
   "source": [
    "df_general = df_users.merge(df_general, on='user_id', how='left')"
   ]
  },
  {
   "cell_type": "code",
   "execution_count": 97,
   "metadata": {
    "cellId": "dzx23g5ij1nf5is4rn0r68",
    "scrolled": false
   },
   "outputs": [
    {
     "data": {
      "text/html": [
       "<div>\n",
       "<style scoped>\n",
       "    .dataframe tbody tr th:only-of-type {\n",
       "        vertical-align: middle;\n",
       "    }\n",
       "\n",
       "    .dataframe tbody tr th {\n",
       "        vertical-align: top;\n",
       "    }\n",
       "\n",
       "    .dataframe thead th {\n",
       "        text-align: right;\n",
       "    }\n",
       "</style>\n",
       "<table border=\"1\" class=\"dataframe\">\n",
       "  <thead>\n",
       "    <tr style=\"text-align: right;\">\n",
       "      <th></th>\n",
       "      <th>user_id</th>\n",
       "      <th>age</th>\n",
       "      <th>churn_date</th>\n",
       "      <th>city</th>\n",
       "      <th>first_name</th>\n",
       "      <th>last_name</th>\n",
       "      <th>reg_date</th>\n",
       "      <th>tariff</th>\n",
       "      <th>month</th>\n",
       "      <th>(duration, count)</th>\n",
       "      <th>(duration, sum)</th>\n",
       "      <th>message_count</th>\n",
       "      <th>mb_used</th>\n",
       "      <th>gb_used</th>\n",
       "    </tr>\n",
       "  </thead>\n",
       "  <tbody>\n",
       "    <tr>\n",
       "      <td>0</td>\n",
       "      <td>1000</td>\n",
       "      <td>52</td>\n",
       "      <td>2018-12-31</td>\n",
       "      <td>Краснодар</td>\n",
       "      <td>Рафаил</td>\n",
       "      <td>Верещагин</td>\n",
       "      <td>2018-05-25</td>\n",
       "      <td>ultra</td>\n",
       "      <td>1.0</td>\n",
       "      <td>54.0</td>\n",
       "      <td>299.0</td>\n",
       "      <td>63.0</td>\n",
       "      <td>17821.04</td>\n",
       "      <td>18.0</td>\n",
       "    </tr>\n",
       "    <tr>\n",
       "      <td>1</td>\n",
       "      <td>1000</td>\n",
       "      <td>52</td>\n",
       "      <td>2018-12-31</td>\n",
       "      <td>Краснодар</td>\n",
       "      <td>Рафаил</td>\n",
       "      <td>Верещагин</td>\n",
       "      <td>2018-05-25</td>\n",
       "      <td>ultra</td>\n",
       "      <td>2.0</td>\n",
       "      <td>46.0</td>\n",
       "      <td>284.0</td>\n",
       "      <td>70.0</td>\n",
       "      <td>18727.60</td>\n",
       "      <td>19.0</td>\n",
       "    </tr>\n",
       "    <tr>\n",
       "      <td>2</td>\n",
       "      <td>1000</td>\n",
       "      <td>52</td>\n",
       "      <td>2018-12-31</td>\n",
       "      <td>Краснодар</td>\n",
       "      <td>Рафаил</td>\n",
       "      <td>Верещагин</td>\n",
       "      <td>2018-05-25</td>\n",
       "      <td>ultra</td>\n",
       "      <td>3.0</td>\n",
       "      <td>54.0</td>\n",
       "      <td>403.0</td>\n",
       "      <td>81.0</td>\n",
       "      <td>11440.52</td>\n",
       "      <td>12.0</td>\n",
       "    </tr>\n",
       "    <tr>\n",
       "      <td>3</td>\n",
       "      <td>1000</td>\n",
       "      <td>52</td>\n",
       "      <td>2018-12-31</td>\n",
       "      <td>Краснодар</td>\n",
       "      <td>Рафаил</td>\n",
       "      <td>Верещагин</td>\n",
       "      <td>2018-05-25</td>\n",
       "      <td>ultra</td>\n",
       "      <td>4.0</td>\n",
       "      <td>54.0</td>\n",
       "      <td>470.0</td>\n",
       "      <td>71.0</td>\n",
       "      <td>16078.19</td>\n",
       "      <td>16.0</td>\n",
       "    </tr>\n",
       "    <tr>\n",
       "      <td>4</td>\n",
       "      <td>1000</td>\n",
       "      <td>52</td>\n",
       "      <td>2018-12-31</td>\n",
       "      <td>Краснодар</td>\n",
       "      <td>Рафаил</td>\n",
       "      <td>Верещагин</td>\n",
       "      <td>2018-05-25</td>\n",
       "      <td>ultra</td>\n",
       "      <td>5.0</td>\n",
       "      <td>56.0</td>\n",
       "      <td>380.0</td>\n",
       "      <td>59.0</td>\n",
       "      <td>16778.95</td>\n",
       "      <td>17.0</td>\n",
       "    </tr>\n",
       "  </tbody>\n",
       "</table>\n",
       "</div>"
      ],
      "text/plain": [
       "   user_id  age churn_date       city first_name  last_name   reg_date tariff  \\\n",
       "0     1000   52 2018-12-31  Краснодар     Рафаил  Верещагин 2018-05-25  ultra   \n",
       "1     1000   52 2018-12-31  Краснодар     Рафаил  Верещагин 2018-05-25  ultra   \n",
       "2     1000   52 2018-12-31  Краснодар     Рафаил  Верещагин 2018-05-25  ultra   \n",
       "3     1000   52 2018-12-31  Краснодар     Рафаил  Верещагин 2018-05-25  ultra   \n",
       "4     1000   52 2018-12-31  Краснодар     Рафаил  Верещагин 2018-05-25  ultra   \n",
       "\n",
       "   month  (duration, count)  (duration, sum)  message_count   mb_used  gb_used  \n",
       "0    1.0               54.0            299.0           63.0  17821.04     18.0  \n",
       "1    2.0               46.0            284.0           70.0  18727.60     19.0  \n",
       "2    3.0               54.0            403.0           81.0  11440.52     12.0  \n",
       "3    4.0               54.0            470.0           71.0  16078.19     16.0  \n",
       "4    5.0               56.0            380.0           59.0  16778.95     17.0  "
      ]
     },
     "execution_count": 97,
     "metadata": {},
     "output_type": "execute_result"
    }
   ],
   "source": [
    "df_general.head()"
   ]
  },
  {
   "cell_type": "markdown",
   "metadata": {},
   "source": [
    "Посмотрим, появились ли пропуски, то есть абоненты, которые не пользовались ничем."
   ]
  },
  {
   "cell_type": "code",
   "execution_count": 98,
   "metadata": {
    "scrolled": true
   },
   "outputs": [
    {
     "name": "stdout",
     "output_type": "stream",
     "text": [
      "<class 'pandas.core.frame.DataFrame'>\n",
      "Int64Index: 3206 entries, 0 to 3205\n",
      "Data columns (total 14 columns):\n",
      "user_id              3206 non-null int64\n",
      "age                  3206 non-null int64\n",
      "churn_date           3206 non-null datetime64[ns]\n",
      "city                 3206 non-null object\n",
      "first_name           3206 non-null object\n",
      "last_name            3206 non-null object\n",
      "reg_date             3206 non-null datetime64[ns]\n",
      "tariff               3206 non-null object\n",
      "month                3204 non-null float64\n",
      "(duration, count)    3204 non-null float64\n",
      "(duration, sum)      3204 non-null float64\n",
      "message_count        3204 non-null float64\n",
      "mb_used              3204 non-null float64\n",
      "gb_used              3204 non-null float64\n",
      "dtypes: datetime64[ns](2), float64(6), int64(2), object(4)\n",
      "memory usage: 375.7+ KB\n"
     ]
    }
   ],
   "source": [
    "df_general.info()"
   ]
  },
  {
   "cell_type": "markdown",
   "metadata": {},
   "source": [
    "Есть такие абоненты. Посмотрим на них"
   ]
  },
  {
   "cell_type": "code",
   "execution_count": 99,
   "metadata": {
    "scrolled": true
   },
   "outputs": [
    {
     "data": {
      "text/html": [
       "<div>\n",
       "<style scoped>\n",
       "    .dataframe tbody tr th:only-of-type {\n",
       "        vertical-align: middle;\n",
       "    }\n",
       "\n",
       "    .dataframe tbody tr th {\n",
       "        vertical-align: top;\n",
       "    }\n",
       "\n",
       "    .dataframe thead th {\n",
       "        text-align: right;\n",
       "    }\n",
       "</style>\n",
       "<table border=\"1\" class=\"dataframe\">\n",
       "  <thead>\n",
       "    <tr style=\"text-align: right;\">\n",
       "      <th></th>\n",
       "      <th>user_id</th>\n",
       "      <th>age</th>\n",
       "      <th>churn_date</th>\n",
       "      <th>city</th>\n",
       "      <th>first_name</th>\n",
       "      <th>last_name</th>\n",
       "      <th>reg_date</th>\n",
       "      <th>tariff</th>\n",
       "      <th>month</th>\n",
       "      <th>(duration, count)</th>\n",
       "      <th>(duration, sum)</th>\n",
       "      <th>message_count</th>\n",
       "      <th>mb_used</th>\n",
       "      <th>gb_used</th>\n",
       "    </tr>\n",
       "  </thead>\n",
       "  <tbody>\n",
       "    <tr>\n",
       "      <td>821</td>\n",
       "      <td>1128</td>\n",
       "      <td>51</td>\n",
       "      <td>2018-12-23</td>\n",
       "      <td>Волжский</td>\n",
       "      <td>Ксения</td>\n",
       "      <td>Агаева</td>\n",
       "      <td>2018-12-15</td>\n",
       "      <td>ultra</td>\n",
       "      <td>NaN</td>\n",
       "      <td>NaN</td>\n",
       "      <td>NaN</td>\n",
       "      <td>NaN</td>\n",
       "      <td>NaN</td>\n",
       "      <td>NaN</td>\n",
       "    </tr>\n",
       "    <tr>\n",
       "      <td>2326</td>\n",
       "      <td>1371</td>\n",
       "      <td>50</td>\n",
       "      <td>2018-12-30</td>\n",
       "      <td>Омск</td>\n",
       "      <td>Ириней</td>\n",
       "      <td>Трофимов</td>\n",
       "      <td>2018-12-25</td>\n",
       "      <td>smart</td>\n",
       "      <td>NaN</td>\n",
       "      <td>NaN</td>\n",
       "      <td>NaN</td>\n",
       "      <td>NaN</td>\n",
       "      <td>NaN</td>\n",
       "      <td>NaN</td>\n",
       "    </tr>\n",
       "  </tbody>\n",
       "</table>\n",
       "</div>"
      ],
      "text/plain": [
       "      user_id  age churn_date      city first_name last_name   reg_date  \\\n",
       "821      1128   51 2018-12-23  Волжский     Ксения    Агаева 2018-12-15   \n",
       "2326     1371   50 2018-12-30      Омск     Ириней  Трофимов 2018-12-25   \n",
       "\n",
       "     tariff  month  (duration, count)  (duration, sum)  message_count  \\\n",
       "821   ultra    NaN                NaN              NaN            NaN   \n",
       "2326  smart    NaN                NaN              NaN            NaN   \n",
       "\n",
       "      mb_used  gb_used  \n",
       "821       NaN      NaN  \n",
       "2326      NaN      NaN  "
      ]
     },
     "execution_count": 99,
     "metadata": {},
     "output_type": "execute_result"
    }
   ],
   "source": [
    "df_general[df_general['month'].isna()]"
   ]
  },
  {
   "cell_type": "markdown",
   "metadata": {},
   "source": [
    "Указанные пользователи не использовали ни звонки, ни интернет, ни сообщения. Но считаем, что абонплату с них списали. Заполним пропуск в `month` как 1, а в отсальных колонках - как 0"
   ]
  },
  {
   "cell_type": "code",
   "execution_count": 100,
   "metadata": {},
   "outputs": [],
   "source": [
    "df_general['month'] = df_general['month'].fillna(1)"
   ]
  },
  {
   "cell_type": "code",
   "execution_count": 101,
   "metadata": {},
   "outputs": [],
   "source": [
    "df_general = df_general.fillna(0)"
   ]
  },
  {
   "cell_type": "code",
   "execution_count": 102,
   "metadata": {
    "scrolled": true
   },
   "outputs": [
    {
     "name": "stdout",
     "output_type": "stream",
     "text": [
      "<class 'pandas.core.frame.DataFrame'>\n",
      "Int64Index: 3206 entries, 0 to 3205\n",
      "Data columns (total 14 columns):\n",
      "user_id              3206 non-null int64\n",
      "age                  3206 non-null int64\n",
      "churn_date           3206 non-null datetime64[ns]\n",
      "city                 3206 non-null object\n",
      "first_name           3206 non-null object\n",
      "last_name            3206 non-null object\n",
      "reg_date             3206 non-null datetime64[ns]\n",
      "tariff               3206 non-null object\n",
      "month                3206 non-null float64\n",
      "(duration, count)    3206 non-null float64\n",
      "(duration, sum)      3206 non-null float64\n",
      "message_count        3206 non-null float64\n",
      "mb_used              3206 non-null float64\n",
      "gb_used              3206 non-null float64\n",
      "dtypes: datetime64[ns](2), float64(6), int64(2), object(4)\n",
      "memory usage: 375.7+ KB\n"
     ]
    }
   ],
   "source": [
    "df_general.info()"
   ]
  },
  {
   "cell_type": "markdown",
   "metadata": {},
   "source": [
    "Пропусков больше нет, но возможно, какие-то пользователи не использовали звонки, интеренет и сообщения в каком-то одном месяце. Чтобы это проверить определим на остновании `churn_date` и `reg_date` количество месяцев регистрации и добавим в таблицу"
   ]
  },
  {
   "cell_type": "code",
   "execution_count": 103,
   "metadata": {},
   "outputs": [],
   "source": [
    "df_general['max_month'] = (df_general['churn_date']-df_general['reg_date'])/np.timedelta64(1, 'M')"
   ]
  },
  {
   "cell_type": "markdown",
   "metadata": {},
   "source": [
    "Округлим до ближайшего большего"
   ]
  },
  {
   "cell_type": "code",
   "execution_count": 104,
   "metadata": {},
   "outputs": [],
   "source": [
    "df_general['max_month'] = np.ceil(df_general['max_month'])"
   ]
  },
  {
   "cell_type": "markdown",
   "metadata": {},
   "source": [
    "Сделаем новый фрейм в котором сравним количество записей по месяцам с количеством месяцев регистрации."
   ]
  },
  {
   "cell_type": "code",
   "execution_count": 105,
   "metadata": {},
   "outputs": [],
   "source": [
    "df_temp = df_general.groupby('user_id').agg({'month':'count', 'max_month':'max'})"
   ]
  },
  {
   "cell_type": "code",
   "execution_count": 107,
   "metadata": {
    "scrolled": true
   },
   "outputs": [
    {
     "data": {
      "text/html": [
       "<div>\n",
       "<style scoped>\n",
       "    .dataframe tbody tr th:only-of-type {\n",
       "        vertical-align: middle;\n",
       "    }\n",
       "\n",
       "    .dataframe tbody tr th {\n",
       "        vertical-align: top;\n",
       "    }\n",
       "\n",
       "    .dataframe thead th {\n",
       "        text-align: right;\n",
       "    }\n",
       "</style>\n",
       "<table border=\"1\" class=\"dataframe\">\n",
       "  <thead>\n",
       "    <tr style=\"text-align: right;\">\n",
       "      <th></th>\n",
       "      <th>month</th>\n",
       "      <th>max_month</th>\n",
       "    </tr>\n",
       "    <tr>\n",
       "      <th>user_id</th>\n",
       "      <th></th>\n",
       "      <th></th>\n",
       "    </tr>\n",
       "  </thead>\n",
       "  <tbody>\n",
       "    <tr>\n",
       "      <td>1000</td>\n",
       "      <td>8</td>\n",
       "      <td>8.0</td>\n",
       "    </tr>\n",
       "    <tr>\n",
       "      <td>1001</td>\n",
       "      <td>2</td>\n",
       "      <td>2.0</td>\n",
       "    </tr>\n",
       "    <tr>\n",
       "      <td>1002</td>\n",
       "      <td>7</td>\n",
       "      <td>7.0</td>\n",
       "    </tr>\n",
       "    <tr>\n",
       "      <td>1003</td>\n",
       "      <td>5</td>\n",
       "      <td>5.0</td>\n",
       "    </tr>\n",
       "    <tr>\n",
       "      <td>1004</td>\n",
       "      <td>8</td>\n",
       "      <td>8.0</td>\n",
       "    </tr>\n",
       "  </tbody>\n",
       "</table>\n",
       "</div>"
      ],
      "text/plain": [
       "         month  max_month\n",
       "user_id                  \n",
       "1000         8        8.0\n",
       "1001         2        2.0\n",
       "1002         7        7.0\n",
       "1003         5        5.0\n",
       "1004         8        8.0"
      ]
     },
     "execution_count": 107,
     "metadata": {},
     "output_type": "execute_result"
    }
   ],
   "source": [
    "df_temp.head()"
   ]
  },
  {
   "cell_type": "markdown",
   "metadata": {},
   "source": [
    "Проверим, есть ли пользователи, которые не пользовались в каком-то месяцем ни звонками, ни сообщениями, ни интернетом. У таких пользоателей `max_month` должен быть больше количества `month`"
   ]
  },
  {
   "cell_type": "code",
   "execution_count": 108,
   "metadata": {
    "scrolled": true
   },
   "outputs": [
    {
     "data": {
      "text/html": [
       "<div>\n",
       "<style scoped>\n",
       "    .dataframe tbody tr th:only-of-type {\n",
       "        vertical-align: middle;\n",
       "    }\n",
       "\n",
       "    .dataframe tbody tr th {\n",
       "        vertical-align: top;\n",
       "    }\n",
       "\n",
       "    .dataframe thead th {\n",
       "        text-align: right;\n",
       "    }\n",
       "</style>\n",
       "<table border=\"1\" class=\"dataframe\">\n",
       "  <thead>\n",
       "    <tr style=\"text-align: right;\">\n",
       "      <th></th>\n",
       "      <th>month</th>\n",
       "      <th>max_month</th>\n",
       "    </tr>\n",
       "    <tr>\n",
       "      <th>user_id</th>\n",
       "      <th></th>\n",
       "      <th></th>\n",
       "    </tr>\n",
       "  </thead>\n",
       "  <tbody>\n",
       "    <tr>\n",
       "      <td>1271</td>\n",
       "      <td>4</td>\n",
       "      <td>5.0</td>\n",
       "    </tr>\n",
       "  </tbody>\n",
       "</table>\n",
       "</div>"
      ],
      "text/plain": [
       "         month  max_month\n",
       "user_id                  \n",
       "1271         4        5.0"
      ]
     },
     "execution_count": 108,
     "metadata": {},
     "output_type": "execute_result"
    }
   ],
   "source": [
    "df_temp[df_temp['month']<df_temp['max_month']]"
   ]
  },
  {
   "cell_type": "markdown",
   "metadata": {},
   "source": [
    "Есть пользователь. Посмотрим на него"
   ]
  },
  {
   "cell_type": "code",
   "execution_count": 109,
   "metadata": {
    "cellId": "e1a6jljjsquxspvnacrg",
    "scrolled": false
   },
   "outputs": [
    {
     "data": {
      "text/html": [
       "<div>\n",
       "<style scoped>\n",
       "    .dataframe tbody tr th:only-of-type {\n",
       "        vertical-align: middle;\n",
       "    }\n",
       "\n",
       "    .dataframe tbody tr th {\n",
       "        vertical-align: top;\n",
       "    }\n",
       "\n",
       "    .dataframe thead th {\n",
       "        text-align: right;\n",
       "    }\n",
       "</style>\n",
       "<table border=\"1\" class=\"dataframe\">\n",
       "  <thead>\n",
       "    <tr style=\"text-align: right;\">\n",
       "      <th></th>\n",
       "      <th>user_id</th>\n",
       "      <th>age</th>\n",
       "      <th>churn_date</th>\n",
       "      <th>city</th>\n",
       "      <th>first_name</th>\n",
       "      <th>last_name</th>\n",
       "      <th>reg_date</th>\n",
       "      <th>tariff</th>\n",
       "      <th>month</th>\n",
       "      <th>(duration, count)</th>\n",
       "      <th>(duration, sum)</th>\n",
       "      <th>message_count</th>\n",
       "      <th>mb_used</th>\n",
       "      <th>gb_used</th>\n",
       "      <th>max_month</th>\n",
       "    </tr>\n",
       "  </thead>\n",
       "  <tbody>\n",
       "    <tr>\n",
       "      <td>1705</td>\n",
       "      <td>1271</td>\n",
       "      <td>69</td>\n",
       "      <td>2018-11-13</td>\n",
       "      <td>Челябинск</td>\n",
       "      <td>Аурелия</td>\n",
       "      <td>Чижова</td>\n",
       "      <td>2018-07-14</td>\n",
       "      <td>ultra</td>\n",
       "      <td>1.0</td>\n",
       "      <td>70.0</td>\n",
       "      <td>531.0</td>\n",
       "      <td>128.0</td>\n",
       "      <td>21347.50</td>\n",
       "      <td>21.0</td>\n",
       "      <td>5.0</td>\n",
       "    </tr>\n",
       "    <tr>\n",
       "      <td>1706</td>\n",
       "      <td>1271</td>\n",
       "      <td>69</td>\n",
       "      <td>2018-11-13</td>\n",
       "      <td>Челябинск</td>\n",
       "      <td>Аурелия</td>\n",
       "      <td>Чижова</td>\n",
       "      <td>2018-07-14</td>\n",
       "      <td>ultra</td>\n",
       "      <td>2.0</td>\n",
       "      <td>55.0</td>\n",
       "      <td>396.0</td>\n",
       "      <td>107.0</td>\n",
       "      <td>23944.69</td>\n",
       "      <td>24.0</td>\n",
       "      <td>5.0</td>\n",
       "    </tr>\n",
       "    <tr>\n",
       "      <td>1707</td>\n",
       "      <td>1271</td>\n",
       "      <td>69</td>\n",
       "      <td>2018-11-13</td>\n",
       "      <td>Челябинск</td>\n",
       "      <td>Аурелия</td>\n",
       "      <td>Чижова</td>\n",
       "      <td>2018-07-14</td>\n",
       "      <td>ultra</td>\n",
       "      <td>3.0</td>\n",
       "      <td>59.0</td>\n",
       "      <td>357.0</td>\n",
       "      <td>93.0</td>\n",
       "      <td>21489.64</td>\n",
       "      <td>21.0</td>\n",
       "      <td>5.0</td>\n",
       "    </tr>\n",
       "    <tr>\n",
       "      <td>1708</td>\n",
       "      <td>1271</td>\n",
       "      <td>69</td>\n",
       "      <td>2018-11-13</td>\n",
       "      <td>Челябинск</td>\n",
       "      <td>Аурелия</td>\n",
       "      <td>Чижова</td>\n",
       "      <td>2018-07-14</td>\n",
       "      <td>ultra</td>\n",
       "      <td>4.0</td>\n",
       "      <td>68.0</td>\n",
       "      <td>523.0</td>\n",
       "      <td>104.0</td>\n",
       "      <td>22796.87</td>\n",
       "      <td>23.0</td>\n",
       "      <td>5.0</td>\n",
       "    </tr>\n",
       "  </tbody>\n",
       "</table>\n",
       "</div>"
      ],
      "text/plain": [
       "      user_id  age churn_date       city first_name last_name   reg_date  \\\n",
       "1705     1271   69 2018-11-13  Челябинск    Аурелия    Чижова 2018-07-14   \n",
       "1706     1271   69 2018-11-13  Челябинск    Аурелия    Чижова 2018-07-14   \n",
       "1707     1271   69 2018-11-13  Челябинск    Аурелия    Чижова 2018-07-14   \n",
       "1708     1271   69 2018-11-13  Челябинск    Аурелия    Чижова 2018-07-14   \n",
       "\n",
       "     tariff  month  (duration, count)  (duration, sum)  message_count  \\\n",
       "1705  ultra    1.0               70.0            531.0          128.0   \n",
       "1706  ultra    2.0               55.0            396.0          107.0   \n",
       "1707  ultra    3.0               59.0            357.0           93.0   \n",
       "1708  ultra    4.0               68.0            523.0          104.0   \n",
       "\n",
       "       mb_used  gb_used  max_month  \n",
       "1705  21347.50     21.0        5.0  \n",
       "1706  23944.69     24.0        5.0  \n",
       "1707  21489.64     21.0        5.0  \n",
       "1708  22796.87     23.0        5.0  "
      ]
     },
     "execution_count": 109,
     "metadata": {},
     "output_type": "execute_result"
    }
   ],
   "source": [
    "df_general[df_general['user_id']==1271]"
   ]
  },
  {
   "cell_type": "markdown",
   "metadata": {},
   "source": [
    "В пятом месяце пользователь не использовал звонки и остальное. Добавим запись для 5-го месяца."
   ]
  },
  {
   "cell_type": "code",
   "execution_count": 132,
   "metadata": {},
   "outputs": [],
   "source": [
    "new_record = dict(df_general.loc[1705])"
   ]
  },
  {
   "cell_type": "code",
   "execution_count": 133,
   "metadata": {
    "scrolled": false
   },
   "outputs": [
    {
     "data": {
      "text/plain": [
       "{'user_id': 1271,\n",
       " 'age': 69,\n",
       " 'churn_date': Timestamp('2018-11-13 00:00:00'),\n",
       " 'city': 'Челябинск',\n",
       " 'first_name': 'Аурелия',\n",
       " 'last_name': 'Чижова',\n",
       " 'reg_date': Timestamp('2018-07-14 00:00:00'),\n",
       " 'tariff': 'ultra',\n",
       " 'month': 1.0,\n",
       " ('duration', 'count'): 70.0,\n",
       " ('duration', 'sum'): 531.0,\n",
       " 'message_count': 128.0,\n",
       " 'mb_used': 21347.500000000004,\n",
       " 'gb_used': 21.0,\n",
       " 'max_month': 5.0}"
      ]
     },
     "execution_count": 133,
     "metadata": {},
     "output_type": "execute_result"
    }
   ],
   "source": [
    "new_record"
   ]
  },
  {
   "cell_type": "code",
   "execution_count": 134,
   "metadata": {
    "scrolled": true
   },
   "outputs": [],
   "source": [
    "new_record[('duration' ,'count')]=0\n",
    "new_record[('duration' ,'sum')]=0\n",
    "new_record['message_count']=0\n",
    "new_record['mb_used']=0\n",
    "new_record['gb_used']=0\n",
    "new_record['month']=5"
   ]
  },
  {
   "cell_type": "code",
   "execution_count": 137,
   "metadata": {},
   "outputs": [],
   "source": [
    "new_record=pd.Series(new_record)"
   ]
  },
  {
   "cell_type": "code",
   "execution_count": 139,
   "metadata": {},
   "outputs": [],
   "source": [
    "df_general = df_general.append(new_record, ignore_index=True)"
   ]
  },
  {
   "cell_type": "code",
   "execution_count": 140,
   "metadata": {
    "scrolled": false
   },
   "outputs": [
    {
     "name": "stdout",
     "output_type": "stream",
     "text": [
      "<class 'pandas.core.frame.DataFrame'>\n",
      "RangeIndex: 3207 entries, 0 to 3206\n",
      "Data columns (total 15 columns):\n",
      "user_id              3207 non-null int64\n",
      "age                  3207 non-null int64\n",
      "churn_date           3207 non-null datetime64[ns]\n",
      "city                 3207 non-null object\n",
      "first_name           3207 non-null object\n",
      "last_name            3207 non-null object\n",
      "reg_date             3207 non-null datetime64[ns]\n",
      "tariff               3207 non-null object\n",
      "month                3207 non-null float64\n",
      "(duration, count)    3207 non-null float64\n",
      "(duration, sum)      3207 non-null float64\n",
      "message_count        3207 non-null float64\n",
      "mb_used              3207 non-null float64\n",
      "gb_used              3207 non-null float64\n",
      "max_month            3207 non-null float64\n",
      "dtypes: datetime64[ns](2), float64(7), int64(2), object(4)\n",
      "memory usage: 375.9+ KB\n"
     ]
    }
   ],
   "source": [
    "df_general.info()"
   ]
  },
  {
   "cell_type": "markdown",
   "metadata": {},
   "source": [
    "<a id='section_4_3'></a>\n",
    "### Построение гистограмм"
   ]
  },
  {
   "cell_type": "markdown",
   "metadata": {},
   "source": [
    "Разделим таблицу на 2 по тарифам для удобства работы"
   ]
  },
  {
   "cell_type": "code",
   "execution_count": 143,
   "metadata": {},
   "outputs": [],
   "source": [
    "df_ultra = df_general[df_general['tariff'] == 'ultra']"
   ]
  },
  {
   "cell_type": "code",
   "execution_count": 144,
   "metadata": {},
   "outputs": [],
   "source": [
    "df_smart = df_general[df_general['tariff'] == 'smart']"
   ]
  },
  {
   "cell_type": "markdown",
   "metadata": {},
   "source": [
    "Импортируем библиотеку `matplotlib` для работы"
   ]
  },
  {
   "cell_type": "code",
   "execution_count": 145,
   "metadata": {},
   "outputs": [],
   "source": [
    "import matplotlib.pyplot as plt"
   ]
  },
  {
   "cell_type": "markdown",
   "metadata": {},
   "source": [
    "Построим распределение количества звонков для абонентов тарифный планов"
   ]
  },
  {
   "cell_type": "code",
   "execution_count": 146,
   "metadata": {},
   "outputs": [
    {
     "data": {
      "image/png": "[encoded data removed]",
      "text/plain": [
       "<Figure size 720x360 with 1 Axes>"
      ]
     },
     "metadata": {
      "needs_background": "light"
     },
     "output_type": "display_data"
    }
   ],
   "source": [
    "hist = df_ultra[('duration', 'count')].hist(bins=30, figsize=(10,5))\n",
    "hist.set_xlabel('Количество звонков в месяц')\n",
    "hist.set_ylabel(\"Количество записей\")\n",
    "plt.title('Распределение количества звонков по месяцам')\n",
    "hist = df_smart[('duration', 'count')].hist(bins=30, figsize=(10,5), alpha = 0.5)\n",
    "plt.legend(['Ультра','Смарт'])\n",
    "plt.show()"
   ]
  },
  {
   "cell_type": "markdown",
   "metadata": {},
   "source": [
    "Видим, что пользователи тарифа Ультра совершают большее количество звонков в среднем. В задании требуется найти среднее, стандартное отклонение и дисперсию для двух тарифов."
   ]
  },
  {
   "cell_type": "code",
   "execution_count": 147,
   "metadata": {
    "scrolled": false
   },
   "outputs": [
    {
     "data": {
      "text/plain": [
       "(73.7673469387755, 58.51594072743601)"
      ]
     },
     "execution_count": 147,
     "metadata": {},
     "output_type": "execute_result"
    }
   ],
   "source": [
    "np.mean(df_ultra[('duration', 'count')]), np.mean(df_smart[('duration', 'count')])"
   ]
  },
  {
   "cell_type": "markdown",
   "metadata": {},
   "source": [
    "Ожидаемо среднее к-во звонков больше у Ультра"
   ]
  },
  {
   "cell_type": "code",
   "execution_count": 154,
   "metadata": {},
   "outputs": [
    {
     "data": {
      "text/plain": [
       "(1901.6209960184276, 667.8239820773478)"
      ]
     },
     "execution_count": 154,
     "metadata": {},
     "output_type": "execute_result"
    }
   ],
   "source": [
    "np.var(df_ultra[('duration', 'count')], ddof=1), np.var(df_smart[('duration', 'count')], ddof=1)"
   ]
  },
  {
   "cell_type": "code",
   "execution_count": 149,
   "metadata": {},
   "outputs": [
    {
     "data": {
      "text/plain": [
       "(43.60757957074008, 25.842290573347938)"
      ]
     },
     "execution_count": 149,
     "metadata": {},
     "output_type": "execute_result"
    }
   ],
   "source": [
    "np.std(df_ultra[('duration', 'count')], ddof=1), np.std(df_smart[('duration', 'count')], ddof=1)"
   ]
  },
  {
   "cell_type": "markdown",
   "metadata": {
    "scrolled": true
   },
   "source": [
    "Дисперсия и среднеквадратичное отклонение больше у Ультра. Что говорит от том, к-во звонков в Ультра умеет больший разброс относительно среднего."
   ]
  },
  {
   "cell_type": "markdown",
   "metadata": {},
   "source": [
    "Построим распределение длительности звонков для абонентов тарифных планов"
   ]
  },
  {
   "cell_type": "code",
   "execution_count": 150,
   "metadata": {
    "scrolled": true
   },
   "outputs": [
    {
     "data": {
      "image/png": "[encoded data removed]",
      "text/plain": [
       "<Figure size 720x360 with 1 Axes>"
      ]
     },
     "metadata": {
      "needs_background": "light"
     },
     "output_type": "display_data"
    }
   ],
   "source": [
    "hist = df_ultra[('duration', 'sum')].hist(bins=30, figsize=(10,5))\n",
    "hist.set_xlabel('Длительность звонков в месяц, минут')\n",
    "hist.set_ylabel(\"Количество записей\")\n",
    "plt.title('Распределение длительности звонков по месяцам')\n",
    "hist = df_smart[('duration', 'sum')].hist(bins=30, figsize=(10,5), alpha = 0.5)\n",
    "plt.legend(['Ультра','Смарт'])\n",
    "plt.show()"
   ]
  },
  {
   "cell_type": "markdown",
   "metadata": {},
   "source": [
    "Посмотрим на основные показатели "
   ]
  },
  {
   "cell_type": "code",
   "execution_count": 151,
   "metadata": {},
   "outputs": [
    {
     "data": {
      "text/plain": [
       "(529.3102040816326, 418.31028289178266)"
      ]
     },
     "execution_count": 151,
     "metadata": {},
     "output_type": "execute_result"
    }
   ],
   "source": [
    "np.mean(df_ultra[('duration', 'sum')]), np.mean(df_smart[('duration', 'sum')])"
   ]
  },
  {
   "cell_type": "markdown",
   "metadata": {},
   "source": [
    "Здесь также средний показатель выше у тарифа Ультра"
   ]
  },
  {
   "cell_type": "code",
   "execution_count": 152,
   "metadata": {},
   "outputs": [
    {
     "data": {
      "text/plain": [
       "(99470.83115215442, 35841.333600414095)"
      ]
     },
     "execution_count": 152,
     "metadata": {},
     "output_type": "execute_result"
    }
   ],
   "source": [
    "np.var(df_ultra[('duration', 'sum')], ddof=1), np.var(df_smart[('duration', 'sum')], ddof=1)"
   ]
  },
  {
   "cell_type": "code",
   "execution_count": 155,
   "metadata": {},
   "outputs": [
    {
     "data": {
      "text/plain": [
       "(315.3899667905662, 189.31807520787362)"
      ]
     },
     "execution_count": 155,
     "metadata": {},
     "output_type": "execute_result"
    }
   ],
   "source": [
    "np.std(df_ultra[('duration', 'sum')], ddof=1), np.std(df_smart[('duration', 'sum')], ddof=1)"
   ]
  },
  {
   "cell_type": "markdown",
   "metadata": {},
   "source": [
    "Видим, что средняя длительность звонков  больше у т.п. Ультра. Разброс также больше у Ультра."
   ]
  },
  {
   "cell_type": "markdown",
   "metadata": {},
   "source": [
    "Построим распределение количества сообщений для абонентов тарифных планов"
   ]
  },
  {
   "cell_type": "code",
   "execution_count": 156,
   "metadata": {},
   "outputs": [
    {
     "data": {
      "image/png": "[encoded data removed]",
      "text/plain": [
       "<Figure size 720x360 with 1 Axes>"
      ]
     },
     "metadata": {
      "needs_background": "light"
     },
     "output_type": "display_data"
    }
   ],
   "source": [
    "hist = df_ultra['message_count'].hist(bins=30, figsize=(10,5))\n",
    "hist.set_xlabel('Количество сообщений в месяц')\n",
    "hist.set_ylabel(\"Количество записей\")\n",
    "plt.title('Распределение количество сообщений по месяцам')\n",
    "hist = df_smart['message_count'].hist(bins=30, figsize=(10,5), alpha = 0.5)\n",
    "plt.legend(['Ультра','Смарт'])\n",
    "plt.show()"
   ]
  },
  {
   "cell_type": "markdown",
   "metadata": {},
   "source": [
    "Посмотрим на основные показатели"
   ]
  },
  {
   "cell_type": "code",
   "execution_count": 160,
   "metadata": {},
   "outputs": [
    {
     "data": {
      "text/plain": [
       "(49.61530612244898, 33.414009878760666)"
      ]
     },
     "execution_count": 160,
     "metadata": {},
     "output_type": "execute_result"
    }
   ],
   "source": [
    "np.mean(df_ultra['message_count']), np.mean(df_smart['message_count'])"
   ]
  },
  {
   "cell_type": "code",
   "execution_count": 161,
   "metadata": {},
   "outputs": [
    {
     "data": {
      "text/plain": [
       "(2285.144867763432, 789.4657758831534)"
      ]
     },
     "execution_count": 161,
     "metadata": {},
     "output_type": "execute_result"
    }
   ],
   "source": [
    "np.var(df_ultra['message_count']), np.var(df_smart['message_count'])"
   ]
  },
  {
   "cell_type": "code",
   "execution_count": 162,
   "metadata": {},
   "outputs": [
    {
     "data": {
      "text/plain": [
       "(47.80318888697104, 28.09743361738138)"
      ]
     },
     "execution_count": 162,
     "metadata": {},
     "output_type": "execute_result"
    }
   ],
   "source": [
    "np.std(df_ultra['message_count']), np.std(df_smart['message_count'])"
   ]
  },
  {
   "cell_type": "markdown",
   "metadata": {},
   "source": [
    "Среднее количество сообщений больше у тарифа Ультра. У него же больше и разброс. Тенденция как и выше"
   ]
  },
  {
   "cell_type": "markdown",
   "metadata": {},
   "source": [
    "Построим распределение суммарное к-во интернет трафика за месяц. Считаем к-во гигибайт"
   ]
  },
  {
   "cell_type": "code",
   "execution_count": 163,
   "metadata": {},
   "outputs": [
    {
     "data": {
      "image/png": "[encoded data removed]",
      "text/plain": [
       "<Figure size 720x360 with 1 Axes>"
      ]
     },
     "metadata": {
      "needs_background": "light"
     },
     "output_type": "display_data"
    }
   ],
   "source": [
    "hist = df_ultra['gb_used'].hist(bins=30, figsize=(10,5))\n",
    "hist.set_xlabel('Траффик в месяц, ГБ')\n",
    "hist.set_ylabel(\"Количество записей\")\n",
    "plt.title('Распределение траффика по месяцам')\n",
    "hist = df_smart['gb_used'].hist(bins=30, figsize=(10,5), alpha = 0.5)\n",
    "plt.legend(['Ультра','Смарт'])\n",
    "plt.show()"
   ]
  },
  {
   "cell_type": "code",
   "execution_count": 164,
   "metadata": {},
   "outputs": [
    {
     "data": {
      "text/plain": [
       "(19.581632653061224, 16.333183655141447)"
      ]
     },
     "execution_count": 164,
     "metadata": {},
     "output_type": "execute_result"
    }
   ],
   "source": [
    "np.mean(df_ultra['gb_used']), np.mean(df_smart['gb_used'])"
   ]
  },
  {
   "cell_type": "code",
   "execution_count": 165,
   "metadata": {},
   "outputs": [
    {
     "data": {
      "text/plain": [
       "(96.26578508954603, 32.00932991822409)"
      ]
     },
     "execution_count": 165,
     "metadata": {},
     "output_type": "execute_result"
    }
   ],
   "source": [
    "np.var(df_ultra['gb_used']), np.var(df_smart['gb_used'])"
   ]
  },
  {
   "cell_type": "code",
   "execution_count": 166,
   "metadata": {},
   "outputs": [
    {
     "data": {
      "text/plain": [
       "(9.811512884848392, 5.657678845447494)"
      ]
     },
     "execution_count": 166,
     "metadata": {},
     "output_type": "execute_result"
    }
   ],
   "source": [
    "np.std(df_ultra['gb_used']), np.std(df_smart['gb_used'])"
   ]
  },
  {
   "cell_type": "markdown",
   "metadata": {},
   "source": [
    "Здесь тенденции аналогичны рассмотренным выше. У тарифного плана Ультра выше средний показатель и выше стандартное отклонение."
   ]
  },
  {
   "cell_type": "markdown",
   "metadata": {},
   "source": [
    "<a id='section_4_4'></a>\n",
    "### Определение выручки от абонента"
   ]
  },
  {
   "cell_type": "markdown",
   "metadata": {},
   "source": [
    "Определим выручку для тарифных планов по месяцам. Для удобства сделаем названием тарифа индексом"
   ]
  },
  {
   "cell_type": "code",
   "execution_count": 168,
   "metadata": {
    "scrolled": true
   },
   "outputs": [],
   "source": [
    "df_tariffs=df_tariffs.set_index('tariff_name')"
   ]
  },
  {
   "cell_type": "code",
   "execution_count": 169,
   "metadata": {
    "scrolled": false
   },
   "outputs": [
    {
     "data": {
      "text/html": [
       "<div>\n",
       "<style scoped>\n",
       "    .dataframe tbody tr th:only-of-type {\n",
       "        vertical-align: middle;\n",
       "    }\n",
       "\n",
       "    .dataframe tbody tr th {\n",
       "        vertical-align: top;\n",
       "    }\n",
       "\n",
       "    .dataframe thead th {\n",
       "        text-align: right;\n",
       "    }\n",
       "</style>\n",
       "<table border=\"1\" class=\"dataframe\">\n",
       "  <thead>\n",
       "    <tr style=\"text-align: right;\">\n",
       "      <th></th>\n",
       "      <th>messages_included</th>\n",
       "      <th>mb_per_month_included</th>\n",
       "      <th>minutes_included</th>\n",
       "      <th>rub_monthly_fee</th>\n",
       "      <th>rub_per_gb</th>\n",
       "      <th>rub_per_message</th>\n",
       "      <th>rub_per_minute</th>\n",
       "    </tr>\n",
       "    <tr>\n",
       "      <th>tariff_name</th>\n",
       "      <th></th>\n",
       "      <th></th>\n",
       "      <th></th>\n",
       "      <th></th>\n",
       "      <th></th>\n",
       "      <th></th>\n",
       "      <th></th>\n",
       "    </tr>\n",
       "  </thead>\n",
       "  <tbody>\n",
       "    <tr>\n",
       "      <td>smart</td>\n",
       "      <td>50</td>\n",
       "      <td>15360</td>\n",
       "      <td>500</td>\n",
       "      <td>550</td>\n",
       "      <td>200</td>\n",
       "      <td>3</td>\n",
       "      <td>3</td>\n",
       "    </tr>\n",
       "    <tr>\n",
       "      <td>ultra</td>\n",
       "      <td>1000</td>\n",
       "      <td>30720</td>\n",
       "      <td>3000</td>\n",
       "      <td>1950</td>\n",
       "      <td>150</td>\n",
       "      <td>1</td>\n",
       "      <td>1</td>\n",
       "    </tr>\n",
       "  </tbody>\n",
       "</table>\n",
       "</div>"
      ],
      "text/plain": [
       "             messages_included  mb_per_month_included  minutes_included  \\\n",
       "tariff_name                                                               \n",
       "smart                       50                  15360               500   \n",
       "ultra                     1000                  30720              3000   \n",
       "\n",
       "             rub_monthly_fee  rub_per_gb  rub_per_message  rub_per_minute  \n",
       "tariff_name                                                                \n",
       "smart                    550         200                3               3  \n",
       "ultra                   1950         150                1               1  "
      ]
     },
     "execution_count": 169,
     "metadata": {},
     "output_type": "execute_result"
    }
   ],
   "source": [
    "df_tariffs"
   ]
  },
  {
   "cell_type": "markdown",
   "metadata": {},
   "source": [
    "Определим функцию расчёта выручки от абонента"
   ]
  },
  {
   "cell_type": "code",
   "execution_count": 170,
   "metadata": {},
   "outputs": [],
   "source": [
    "def income_calc(var):\n",
    "    tariff = var['tariff']\n",
    "    current_tariff = df_tarrifs.loc[tariff]\n",
    "    sum_ = current_tariff['rub_monthly_fee']\n",
    "    duration_to_pay = (var[('duration', 'sum')]-current_tariff['minutes_included'])*current_tariff['rub_per_minute']\n",
    "    if duration_to_pay>0:\n",
    "        sum_+=duration_to_pay\n",
    "    messages_to_pay = (var['message_count']-current_tariff['messages_included'])*current_tariff['rub_per_message']\n",
    "    if messages_to_pay>0:\n",
    "        sum_+=messages_to_pay\n",
    "    gb_to_pay = np.ceil((var['mb_used']-current_tariff['mb_per_month_included'])/1024)*current_tariff['rub_per_gb']\n",
    "    if gb_to_pay>0:\n",
    "        sum_+=gb_to_pay\n",
    "    return  sum_"
   ]
  },
  {
   "cell_type": "markdown",
   "metadata": {},
   "source": [
    "Применим функцию расчёта выручки к абонентам т.п. Ультра"
   ]
  },
  {
   "cell_type": "code",
   "execution_count": 183,
   "metadata": {},
   "outputs": [],
   "source": [
    "df_general.loc[:,'income'] = df_general.apply(income_calc, axis=1)"
   ]
  },
  {
   "cell_type": "code",
   "execution_count": 184,
   "metadata": {
    "scrolled": false
   },
   "outputs": [
    {
     "data": {
      "text/html": [
       "<div>\n",
       "<style scoped>\n",
       "    .dataframe tbody tr th:only-of-type {\n",
       "        vertical-align: middle;\n",
       "    }\n",
       "\n",
       "    .dataframe tbody tr th {\n",
       "        vertical-align: top;\n",
       "    }\n",
       "\n",
       "    .dataframe thead th {\n",
       "        text-align: right;\n",
       "    }\n",
       "</style>\n",
       "<table border=\"1\" class=\"dataframe\">\n",
       "  <thead>\n",
       "    <tr style=\"text-align: right;\">\n",
       "      <th></th>\n",
       "      <th>user_id</th>\n",
       "      <th>age</th>\n",
       "      <th>churn_date</th>\n",
       "      <th>city</th>\n",
       "      <th>first_name</th>\n",
       "      <th>last_name</th>\n",
       "      <th>reg_date</th>\n",
       "      <th>tariff</th>\n",
       "      <th>month</th>\n",
       "      <th>(duration, count)</th>\n",
       "      <th>(duration, sum)</th>\n",
       "      <th>message_count</th>\n",
       "      <th>mb_used</th>\n",
       "      <th>gb_used</th>\n",
       "      <th>max_month</th>\n",
       "      <th>income</th>\n",
       "    </tr>\n",
       "  </thead>\n",
       "  <tbody>\n",
       "    <tr>\n",
       "      <td>0</td>\n",
       "      <td>1000</td>\n",
       "      <td>52</td>\n",
       "      <td>2018-12-31</td>\n",
       "      <td>Краснодар</td>\n",
       "      <td>Рафаил</td>\n",
       "      <td>Верещагин</td>\n",
       "      <td>2018-05-25</td>\n",
       "      <td>ultra</td>\n",
       "      <td>1.0</td>\n",
       "      <td>54.0</td>\n",
       "      <td>299.0</td>\n",
       "      <td>63.0</td>\n",
       "      <td>17821.04</td>\n",
       "      <td>18.0</td>\n",
       "      <td>8.0</td>\n",
       "      <td>1950.0</td>\n",
       "    </tr>\n",
       "    <tr>\n",
       "      <td>1</td>\n",
       "      <td>1000</td>\n",
       "      <td>52</td>\n",
       "      <td>2018-12-31</td>\n",
       "      <td>Краснодар</td>\n",
       "      <td>Рафаил</td>\n",
       "      <td>Верещагин</td>\n",
       "      <td>2018-05-25</td>\n",
       "      <td>ultra</td>\n",
       "      <td>2.0</td>\n",
       "      <td>46.0</td>\n",
       "      <td>284.0</td>\n",
       "      <td>70.0</td>\n",
       "      <td>18727.60</td>\n",
       "      <td>19.0</td>\n",
       "      <td>8.0</td>\n",
       "      <td>1950.0</td>\n",
       "    </tr>\n",
       "    <tr>\n",
       "      <td>2</td>\n",
       "      <td>1000</td>\n",
       "      <td>52</td>\n",
       "      <td>2018-12-31</td>\n",
       "      <td>Краснодар</td>\n",
       "      <td>Рафаил</td>\n",
       "      <td>Верещагин</td>\n",
       "      <td>2018-05-25</td>\n",
       "      <td>ultra</td>\n",
       "      <td>3.0</td>\n",
       "      <td>54.0</td>\n",
       "      <td>403.0</td>\n",
       "      <td>81.0</td>\n",
       "      <td>11440.52</td>\n",
       "      <td>12.0</td>\n",
       "      <td>8.0</td>\n",
       "      <td>1950.0</td>\n",
       "    </tr>\n",
       "    <tr>\n",
       "      <td>3</td>\n",
       "      <td>1000</td>\n",
       "      <td>52</td>\n",
       "      <td>2018-12-31</td>\n",
       "      <td>Краснодар</td>\n",
       "      <td>Рафаил</td>\n",
       "      <td>Верещагин</td>\n",
       "      <td>2018-05-25</td>\n",
       "      <td>ultra</td>\n",
       "      <td>4.0</td>\n",
       "      <td>54.0</td>\n",
       "      <td>470.0</td>\n",
       "      <td>71.0</td>\n",
       "      <td>16078.19</td>\n",
       "      <td>16.0</td>\n",
       "      <td>8.0</td>\n",
       "      <td>1950.0</td>\n",
       "    </tr>\n",
       "    <tr>\n",
       "      <td>4</td>\n",
       "      <td>1000</td>\n",
       "      <td>52</td>\n",
       "      <td>2018-12-31</td>\n",
       "      <td>Краснодар</td>\n",
       "      <td>Рафаил</td>\n",
       "      <td>Верещагин</td>\n",
       "      <td>2018-05-25</td>\n",
       "      <td>ultra</td>\n",
       "      <td>5.0</td>\n",
       "      <td>56.0</td>\n",
       "      <td>380.0</td>\n",
       "      <td>59.0</td>\n",
       "      <td>16778.95</td>\n",
       "      <td>17.0</td>\n",
       "      <td>8.0</td>\n",
       "      <td>1950.0</td>\n",
       "    </tr>\n",
       "  </tbody>\n",
       "</table>\n",
       "</div>"
      ],
      "text/plain": [
       "   user_id  age churn_date       city first_name  last_name   reg_date tariff  \\\n",
       "0     1000   52 2018-12-31  Краснодар     Рафаил  Верещагин 2018-05-25  ultra   \n",
       "1     1000   52 2018-12-31  Краснодар     Рафаил  Верещагин 2018-05-25  ultra   \n",
       "2     1000   52 2018-12-31  Краснодар     Рафаил  Верещагин 2018-05-25  ultra   \n",
       "3     1000   52 2018-12-31  Краснодар     Рафаил  Верещагин 2018-05-25  ultra   \n",
       "4     1000   52 2018-12-31  Краснодар     Рафаил  Верещагин 2018-05-25  ultra   \n",
       "\n",
       "   month  (duration, count)  (duration, sum)  message_count   mb_used  \\\n",
       "0    1.0               54.0            299.0           63.0  17821.04   \n",
       "1    2.0               46.0            284.0           70.0  18727.60   \n",
       "2    3.0               54.0            403.0           81.0  11440.52   \n",
       "3    4.0               54.0            470.0           71.0  16078.19   \n",
       "4    5.0               56.0            380.0           59.0  16778.95   \n",
       "\n",
       "   gb_used  max_month  income  \n",
       "0     18.0        8.0  1950.0  \n",
       "1     19.0        8.0  1950.0  \n",
       "2     12.0        8.0  1950.0  \n",
       "3     16.0        8.0  1950.0  \n",
       "4     17.0        8.0  1950.0  "
      ]
     },
     "execution_count": 184,
     "metadata": {},
     "output_type": "execute_result"
    }
   ],
   "source": [
    "df_general.head()"
   ]
  },
  {
   "cell_type": "markdown",
   "metadata": {},
   "source": [
    "<a id='section_4_5'></a>\n",
    "### Проверка гипотез"
   ]
  },
  {
   "cell_type": "markdown",
   "metadata": {},
   "source": [
    "Сформулируем нулевую гипотезу. Средняя выручка абонентов т.п. Ультра и Смарт не отличается. Альтернативная гипотеза - средняя выручка абонентов отличается. Проверим нулевую гипотезу. Считаем, что имеем 2 генеральные совокупности: абоненты Ультра и абоненты Смарт. Импортируем библиотеку."
   ]
  },
  {
   "cell_type": "code",
   "execution_count": 175,
   "metadata": {},
   "outputs": [],
   "source": [
    "from scipy import stats as st"
   ]
  },
  {
   "cell_type": "markdown",
   "metadata": {},
   "source": [
    "Примем значение статистической значимости 0.05"
   ]
  },
  {
   "cell_type": "code",
   "execution_count": 179,
   "metadata": {},
   "outputs": [],
   "source": [
    "alpha = 0.05"
   ]
  },
  {
   "cell_type": "code",
   "execution_count": 187,
   "metadata": {},
   "outputs": [],
   "source": [
    "results = st.ttest_ind(df_general[df_general['tariff']=='ultra']['income'], df_general[df_general['tariff']=='smart']['income'])"
   ]
  },
  {
   "cell_type": "code",
   "execution_count": 188,
   "metadata": {},
   "outputs": [
    {
     "data": {
      "text/plain": [
       "3.364324444330259e-170"
      ]
     },
     "execution_count": 188,
     "metadata": {},
     "output_type": "execute_result"
    }
   ],
   "source": [
    "results.pvalue"
   ]
  },
  {
   "cell_type": "markdown",
   "metadata": {},
   "source": [
    "так как `p-value` получилось меньше уровня статистической значимости (0.05), то отвергаем гипотезу о равенстве средней выручки абонентов т.п. Ультра и Смарт. Значит средняя выручка пользователей тарифов «Ультра» и «Смарт» различается."
   ]
  },
  {
   "cell_type": "markdown",
   "metadata": {},
   "source": [
    "Теперь проверим гипотезу о зависимости выручки от региона. Сформулируем нулевую гипотезу. Средняя выручка абонентов из Москвы и абонентов из других регионов не отличается. Альтернативная гипотеза - средняя выручка абонентов из Москвы и абонентов из других регионов отличается. Проверим нулевую гипотезу"
   ]
  },
  {
   "cell_type": "code",
   "execution_count": 189,
   "metadata": {},
   "outputs": [],
   "source": [
    "results = st.ttest_ind(df_general[df_general['city']=='Москва']['income'], df_general[df_general['city']!='Москва']['income'])"
   ]
  },
  {
   "cell_type": "code",
   "execution_count": 190,
   "metadata": {
    "scrolled": false
   },
   "outputs": [
    {
     "data": {
      "text/plain": [
       "0.5898701490853284"
      ]
     },
     "execution_count": 190,
     "metadata": {},
     "output_type": "execute_result"
    }
   ],
   "source": [
    "results.pvalue"
   ]
  },
  {
   "cell_type": "markdown",
   "metadata": {},
   "source": [
    "Получили, что `p-value` больше порогового значения статистической значимости. Значит не удалось опровергнуть гипотезу о равенстве средней выручки в Москве и регионах."
   ]
  },
  {
   "cell_type": "markdown",
   "metadata": {},
   "source": [
    "### Выводы\n",
    "\n",
    "В ходе анализа данных определили для каждого пользователя по месяцам:\n",
    "- количество сделанных звоноков\n",
    "- количество израсходованных минут\n",
    "- объем интернет-траффика\n",
    "- количество сообщений\n",
    "\n",
    "Построили гистограммы вышеуказанных величин для пользователей 2 тарифов и установили:\n",
    "- среднемесячное количество израсходованных минут больше у тарифа Ультра (529), чем у тарифа Смарт (418)\n",
    "- среднемесячный объем интернет-траффика также больше у тарифа Ультра (20Гб), чем у Смарт (16Гб)\n",
    "- среднемесячное количество сообщений  также больше у тарифа Ультра (50), чем у Смарт (33)\n",
    "\n",
    "Установили, что средняя выручка пользователей тарифов различается. Гипотезу о том, что средняя выручка пользователей Москвы равна выручке пользователей из регионов отвергнуть не смогли."
   ]
  },
  {
   "cell_type": "markdown",
   "metadata": {},
   "source": [
    "<a id='section_5'></a>\n",
    "## Общие выводы\n",
    "\n",
    "В ходе исследования выполнили предобработку данных, где преобразовали тепы данных и определили месяц для звонков, интернет-сессий и сообщений. Построили гистограммы распределения длительности и к-ва звонков, к-ва сообщений и объёма интернет-сессий для пользователей тарифов \"Ультра\" и \"Смарт\". Установили, что у тарифа ультра больше средние показатели для все услуг. Определили выручку с абонента по месяцам. Установили, что средняя выручка пользователей тарифов различается. Гипотезу о том, что средняя выручка пользователей Москвы равна выручке пользователей из регионов отвергнуть не смогли.\n",
    "\n",
    "\n"
   ]
  }
 ],
 "metadata": {
  "ExecuteTimeLog": [
   {
    "duration": 1651,
    "start_time": "2021-12-04T05:24:31.873Z"
   },
   {
    "duration": 265,
    "start_time": "2021-12-04T05:24:49.198Z"
   },
   {
    "duration": 230,
    "start_time": "2021-12-04T05:24:57.009Z"
   },
   {
    "duration": 528,
    "start_time": "2021-12-04T05:25:00.446Z"
   },
   {
    "duration": 1793,
    "start_time": "2021-12-04T05:25:05.015Z"
   },
   {
    "duration": 137,
    "start_time": "2021-12-04T05:25:14.450Z"
   },
   {
    "duration": 19,
    "start_time": "2021-12-04T05:25:16.722Z"
   },
   {
    "duration": 13,
    "start_time": "2021-12-04T05:25:19.864Z"
   },
   {
    "duration": 117,
    "start_time": "2021-12-04T05:25:25.583Z"
   },
   {
    "duration": 15,
    "start_time": "2021-12-04T05:25:28.842Z"
   },
   {
    "duration": 7,
    "start_time": "2021-12-04T05:25:32.215Z"
   },
   {
    "duration": 75,
    "start_time": "2021-12-04T05:25:41.022Z"
   },
   {
    "duration": 247,
    "start_time": "2021-12-04T05:37:04.854Z"
   },
   {
    "duration": 1713,
    "start_time": "2021-12-04T05:37:12.796Z"
   },
   {
    "duration": 80,
    "start_time": "2021-12-04T05:37:32.797Z"
   },
   {
    "duration": 226,
    "start_time": "2021-12-04T05:37:36.052Z"
   },
   {
    "duration": 76,
    "start_time": "2021-12-04T05:37:41.854Z"
   },
   {
    "duration": 13,
    "start_time": "2021-12-04T05:37:43.559Z"
   },
   {
    "duration": 6,
    "start_time": "2021-12-04T05:37:46.538Z"
   },
   {
    "duration": 16,
    "start_time": "2021-12-04T05:37:52.454Z"
   },
   {
    "duration": 5,
    "start_time": "2021-12-04T05:37:54.639Z"
   },
   {
    "duration": 7,
    "start_time": "2021-12-04T05:37:56.973Z"
   },
   {
    "duration": 29,
    "start_time": "2021-12-04T05:38:01.988Z"
   },
   {
    "duration": 6,
    "start_time": "2021-12-04T05:38:04.076Z"
   },
   {
    "duration": 9,
    "start_time": "2021-12-04T05:38:06.732Z"
   },
   {
    "duration": 14,
    "start_time": "2021-12-04T05:38:13.870Z"
   },
   {
    "duration": 8,
    "start_time": "2021-12-04T05:38:15.958Z"
   },
   {
    "duration": 7,
    "start_time": "2021-12-04T05:38:16.615Z"
   },
   {
    "duration": 29,
    "start_time": "2021-12-04T05:38:20.383Z"
   },
   {
    "duration": 14,
    "start_time": "2021-12-04T05:38:20.913Z"
   },
   {
    "duration": 21,
    "start_time": "2021-12-04T05:38:23.159Z"
   },
   {
    "duration": 11,
    "start_time": "2021-12-04T05:38:23.577Z"
   },
   {
    "duration": 16,
    "start_time": "2021-12-04T05:38:25.891Z"
   },
   {
    "duration": 10,
    "start_time": "2021-12-04T05:38:26.263Z"
   },
   {
    "duration": 4,
    "start_time": "2021-12-04T05:38:28.693Z"
   },
   {
    "duration": 6,
    "start_time": "2021-12-04T05:38:29.072Z"
   },
   {
    "duration": 5,
    "start_time": "2021-12-04T05:38:32.189Z"
   },
   {
    "duration": 4,
    "start_time": "2021-12-04T05:38:32.666Z"
   },
   {
    "duration": 4,
    "start_time": "2021-12-04T05:38:33.058Z"
   },
   {
    "duration": 3,
    "start_time": "2021-12-04T05:38:35.689Z"
   },
   {
    "duration": 5,
    "start_time": "2021-12-04T05:38:37.052Z"
   },
   {
    "duration": 6,
    "start_time": "2021-12-04T05:38:37.925Z"
   },
   {
    "duration": 61,
    "start_time": "2021-12-04T05:38:41.051Z"
   },
   {
    "duration": 11,
    "start_time": "2021-12-04T05:38:41.580Z"
   },
   {
    "duration": 3,
    "start_time": "2021-12-04T05:38:45.285Z"
   },
   {
    "duration": 7,
    "start_time": "2021-12-04T05:38:48.446Z"
   },
   {
    "duration": 76,
    "start_time": "2021-12-04T05:39:06.324Z"
   },
   {
    "duration": 56,
    "start_time": "2021-12-04T05:39:10.873Z"
   },
   {
    "duration": 13,
    "start_time": "2021-12-04T05:39:12.714Z"
   },
   {
    "duration": 8,
    "start_time": "2021-12-04T05:39:19.777Z"
   },
   {
    "duration": 14,
    "start_time": "2021-12-04T05:39:20.629Z"
   },
   {
    "duration": 4,
    "start_time": "2021-12-04T05:39:25.065Z"
   },
   {
    "duration": 13,
    "start_time": "2021-12-04T05:39:25.597Z"
   },
   {
    "duration": 8,
    "start_time": "2021-12-04T05:39:28.540Z"
   },
   {
    "duration": 2046,
    "start_time": "2021-12-04T05:39:38.015Z"
   },
   {
    "duration": 8,
    "start_time": "2021-12-04T05:39:42.639Z"
   },
   {
    "duration": 80,
    "start_time": "2021-12-04T05:39:49.211Z"
   },
   {
    "duration": 24,
    "start_time": "2021-12-04T05:39:51.516Z"
   },
   {
    "duration": 72,
    "start_time": "2021-12-04T05:40:11.195Z"
   },
   {
    "duration": 79,
    "start_time": "2021-12-04T05:40:30.026Z"
   },
   {
    "duration": 12,
    "start_time": "2021-12-04T05:40:32.555Z"
   },
   {
    "duration": 68,
    "start_time": "2021-12-04T05:40:41.442Z"
   },
   {
    "duration": 44,
    "start_time": "2021-12-04T05:40:53.804Z"
   },
   {
    "duration": 38,
    "start_time": "2021-12-04T05:41:01.455Z"
   },
   {
    "duration": 6645,
    "start_time": "2021-12-04T05:41:06.181Z"
   },
   {
    "duration": 42,
    "start_time": "2021-12-04T05:41:17.203Z"
   },
   {
    "duration": 13,
    "start_time": "2021-12-04T05:41:18.245Z"
   },
   {
    "duration": 8,
    "start_time": "2021-12-04T05:41:20.956Z"
   },
   {
    "duration": 14,
    "start_time": "2021-12-04T05:41:21.407Z"
   },
   {
    "duration": 4,
    "start_time": "2021-12-04T05:41:23.571Z"
   },
   {
    "duration": 13,
    "start_time": "2021-12-04T05:41:23.990Z"
   },
   {
    "duration": 8,
    "start_time": "2021-12-04T05:41:26.974Z"
   },
   {
    "duration": 75,
    "start_time": "2021-12-04T05:41:33.694Z"
   },
   {
    "duration": 2057,
    "start_time": "2021-12-04T05:41:38.123Z"
   },
   {
    "duration": 125,
    "start_time": "2021-12-04T05:41:45.501Z"
   },
   {
    "duration": 74,
    "start_time": "2021-12-04T05:41:57.575Z"
   },
   {
    "duration": 13,
    "start_time": "2021-12-04T05:41:58.023Z"
   },
   {
    "duration": 8,
    "start_time": "2021-12-04T05:42:00.792Z"
   },
   {
    "duration": 13,
    "start_time": "2021-12-04T05:42:01.477Z"
   },
   {
    "duration": 4,
    "start_time": "2021-12-04T05:42:03.704Z"
   },
   {
    "duration": 12,
    "start_time": "2021-12-04T05:42:04.116Z"
   },
   {
    "duration": 8,
    "start_time": "2021-12-04T05:42:06.304Z"
   },
   {
    "duration": 2006,
    "start_time": "2021-12-04T05:42:13.146Z"
   },
   {
    "duration": 111,
    "start_time": "2021-12-04T05:42:16.499Z"
   },
   {
    "duration": 9,
    "start_time": "2021-12-04T05:42:30.095Z"
   },
   {
    "duration": 8,
    "start_time": "2021-12-04T05:42:47.200Z"
   },
   {
    "duration": 75,
    "start_time": "2021-12-04T05:43:42.882Z"
   },
   {
    "duration": 13,
    "start_time": "2021-12-04T05:43:43.426Z"
   },
   {
    "duration": 8,
    "start_time": "2021-12-04T05:43:45.645Z"
   },
   {
    "duration": 12,
    "start_time": "2021-12-04T05:43:46.400Z"
   },
   {
    "duration": 4,
    "start_time": "2021-12-04T05:43:49.036Z"
   },
   {
    "duration": 13,
    "start_time": "2021-12-04T05:43:49.322Z"
   },
   {
    "duration": 8,
    "start_time": "2021-12-04T05:43:53.299Z"
   },
   {
    "duration": 44,
    "start_time": "2021-12-04T05:43:55.843Z"
   },
   {
    "duration": 57,
    "start_time": "2021-12-04T05:44:02.570Z"
   },
   {
    "duration": 8,
    "start_time": "2021-12-04T05:44:04.898Z"
   },
   {
    "duration": 62,
    "start_time": "2021-12-04T05:44:25.455Z"
   },
   {
    "duration": 40,
    "start_time": "2021-12-04T05:44:28.460Z"
   },
   {
    "duration": 9,
    "start_time": "2021-12-04T05:44:30.356Z"
   },
   {
    "duration": 56,
    "start_time": "2021-12-04T05:44:34.560Z"
   },
   {
    "duration": 38,
    "start_time": "2021-12-04T05:44:43.145Z"
   },
   {
    "duration": 9,
    "start_time": "2021-12-04T05:45:14.006Z"
   },
   {
    "duration": 16,
    "start_time": "2021-12-04T05:45:16.222Z"
   },
   {
    "duration": 38,
    "start_time": "2021-12-04T05:45:23.091Z"
   },
   {
    "duration": 12,
    "start_time": "2021-12-04T05:45:23.585Z"
   },
   {
    "duration": 7,
    "start_time": "2021-12-04T05:45:26.376Z"
   },
   {
    "duration": 234,
    "start_time": "2021-12-04T05:45:26.790Z"
   },
   {
    "duration": 8,
    "start_time": "2021-12-04T05:45:27.179Z"
   },
   {
    "duration": 4,
    "start_time": "2021-12-04T05:45:41.238Z"
   },
   {
    "duration": 7,
    "start_time": "2021-12-04T05:45:43.454Z"
   },
   {
    "duration": 35,
    "start_time": "2021-12-04T05:46:06.885Z"
   },
   {
    "duration": 12,
    "start_time": "2021-12-04T05:46:07.413Z"
   },
   {
    "duration": 7,
    "start_time": "2021-12-04T05:46:10.212Z"
   },
   {
    "duration": 4,
    "start_time": "2021-12-04T05:46:10.549Z"
   },
   {
    "duration": 7,
    "start_time": "2021-12-04T05:46:10.936Z"
   },
   {
    "duration": 29,
    "start_time": "2021-12-04T05:46:24.336Z"
   },
   {
    "duration": 20,
    "start_time": "2021-12-04T05:46:28.861Z"
   },
   {
    "duration": 17,
    "start_time": "2021-12-04T05:46:29.550Z"
   },
   {
    "duration": 256,
    "start_time": "2021-12-04T05:48:29.184Z"
   },
   {
    "duration": 224,
    "start_time": "2021-12-04T05:48:39.291Z"
   },
   {
    "duration": 229,
    "start_time": "2021-12-04T05:48:48.832Z"
   },
   {
    "duration": 2,
    "start_time": "2021-12-04T05:49:32.871Z"
   },
   {
    "duration": 560,
    "start_time": "2021-12-04T05:49:32.903Z"
   },
   {
    "duration": 137,
    "start_time": "2021-12-04T05:49:33.465Z"
   },
   {
    "duration": 18,
    "start_time": "2021-12-04T05:49:33.604Z"
   },
   {
    "duration": 12,
    "start_time": "2021-12-04T05:49:33.624Z"
   },
   {
    "duration": 121,
    "start_time": "2021-12-04T05:49:33.637Z"
   },
   {
    "duration": 15,
    "start_time": "2021-12-04T05:49:33.760Z"
   },
   {
    "duration": 15,
    "start_time": "2021-12-04T05:49:33.776Z"
   },
   {
    "duration": 90,
    "start_time": "2021-12-04T05:49:33.793Z"
   },
   {
    "duration": 13,
    "start_time": "2021-12-04T05:49:33.884Z"
   },
   {
    "duration": 7,
    "start_time": "2021-12-04T05:49:33.898Z"
   },
   {
    "duration": 20,
    "start_time": "2021-12-04T05:49:33.906Z"
   },
   {
    "duration": 10,
    "start_time": "2021-12-04T05:49:33.927Z"
   },
   {
    "duration": 8,
    "start_time": "2021-12-04T05:49:33.939Z"
   },
   {
    "duration": 40,
    "start_time": "2021-12-04T05:49:33.949Z"
   },
   {
    "duration": 9,
    "start_time": "2021-12-04T05:49:33.990Z"
   },
   {
    "duration": 18,
    "start_time": "2021-12-04T05:49:34.000Z"
   },
   {
    "duration": 24,
    "start_time": "2021-12-04T05:49:34.019Z"
   },
   {
    "duration": 8,
    "start_time": "2021-12-04T05:49:34.045Z"
   },
   {
    "duration": 18,
    "start_time": "2021-12-04T05:49:34.054Z"
   },
   {
    "duration": 36,
    "start_time": "2021-12-04T05:49:34.073Z"
   },
   {
    "duration": 12,
    "start_time": "2021-12-04T05:49:34.111Z"
   },
   {
    "duration": 20,
    "start_time": "2021-12-04T05:49:34.125Z"
   },
   {
    "duration": 10,
    "start_time": "2021-12-04T05:49:34.148Z"
   },
   {
    "duration": 35,
    "start_time": "2021-12-04T05:49:34.160Z"
   },
   {
    "duration": 8,
    "start_time": "2021-12-04T05:49:34.197Z"
   },
   {
    "duration": 3,
    "start_time": "2021-12-04T05:49:34.207Z"
   },
   {
    "duration": 12,
    "start_time": "2021-12-04T05:49:34.212Z"
   },
   {
    "duration": 14,
    "start_time": "2021-12-04T05:49:34.225Z"
   },
   {
    "duration": 15,
    "start_time": "2021-12-04T05:49:34.241Z"
   },
   {
    "duration": 13,
    "start_time": "2021-12-04T05:49:34.258Z"
   },
   {
    "duration": 9,
    "start_time": "2021-12-04T05:49:34.272Z"
   },
   {
    "duration": 16,
    "start_time": "2021-12-04T05:49:34.282Z"
   },
   {
    "duration": 15,
    "start_time": "2021-12-04T05:49:34.300Z"
   },
   {
    "duration": 68,
    "start_time": "2021-12-04T05:49:34.317Z"
   },
   {
    "duration": 13,
    "start_time": "2021-12-04T05:49:34.386Z"
   },
   {
    "duration": 7,
    "start_time": "2021-12-04T05:49:34.401Z"
   },
   {
    "duration": 13,
    "start_time": "2021-12-04T05:49:34.409Z"
   },
   {
    "duration": 15,
    "start_time": "2021-12-04T05:49:34.423Z"
   },
   {
    "duration": 9,
    "start_time": "2021-12-04T05:49:34.440Z"
   },
   {
    "duration": 18,
    "start_time": "2021-12-04T05:49:34.450Z"
   },
   {
    "duration": 18,
    "start_time": "2021-12-04T05:49:34.470Z"
   },
   {
    "duration": 42,
    "start_time": "2021-12-04T05:49:34.490Z"
   },
   {
    "duration": 9,
    "start_time": "2021-12-04T05:49:34.534Z"
   },
   {
    "duration": 95,
    "start_time": "2021-12-04T05:49:34.545Z"
   },
   {
    "duration": 7,
    "start_time": "2021-12-04T05:49:34.642Z"
   },
   {
    "duration": 17,
    "start_time": "2021-12-04T05:49:34.651Z"
   },
   {
    "duration": 51,
    "start_time": "2021-12-04T05:49:34.670Z"
   },
   {
    "duration": 15,
    "start_time": "2021-12-04T05:49:34.722Z"
   },
   {
    "duration": 9,
    "start_time": "2021-12-04T05:49:34.739Z"
   },
   {
    "duration": 3,
    "start_time": "2021-12-04T05:49:34.749Z"
   },
   {
    "duration": 11,
    "start_time": "2021-12-04T05:49:34.754Z"
   },
   {
    "duration": 46,
    "start_time": "2021-12-04T05:49:34.767Z"
   },
   {
    "duration": 33,
    "start_time": "2021-12-04T05:49:34.815Z"
   },
   {
    "duration": 11,
    "start_time": "2021-12-04T05:49:36.633Z"
   },
   {
    "duration": 29,
    "start_time": "2021-12-04T05:49:39.112Z"
   },
   {
    "duration": 10,
    "start_time": "2021-12-04T05:49:41.141Z"
   },
   {
    "duration": 5689,
    "start_time": "2021-12-04T05:49:58.727Z"
   },
   {
    "duration": -1612,
    "start_time": "2021-12-04T05:50:06.030Z"
   },
   {
    "duration": 6,
    "start_time": "2021-12-04T05:50:06.878Z"
   },
   {
    "duration": 4,
    "start_time": "2021-12-04T05:50:09.428Z"
   },
   {
    "duration": 9,
    "start_time": "2021-12-04T05:50:11.403Z"
   },
   {
    "duration": 25,
    "start_time": "2021-12-04T05:50:29.036Z"
   },
   {
    "duration": 17,
    "start_time": "2021-12-04T05:50:31.713Z"
   },
   {
    "duration": 8,
    "start_time": "2021-12-04T05:50:33.255Z"
   },
   {
    "duration": 10,
    "start_time": "2021-12-04T05:50:57.597Z"
   },
   {
    "duration": 123,
    "start_time": "2021-12-04T05:51:02.537Z"
   },
   {
    "duration": 21,
    "start_time": "2021-12-04T05:51:17.861Z"
   },
   {
    "duration": 14,
    "start_time": "2021-12-04T05:51:18.837Z"
   },
   {
    "duration": 14,
    "start_time": "2021-12-04T05:52:35.667Z"
   },
   {
    "duration": 8,
    "start_time": "2021-12-04T05:52:42.017Z"
   },
   {
    "duration": 4,
    "start_time": "2021-12-04T05:53:29.679Z"
   },
   {
    "duration": 9,
    "start_time": "2021-12-04T05:53:43.289Z"
   },
   {
    "duration": 15,
    "start_time": "2021-12-04T05:54:07.855Z"
   },
   {
    "duration": 13,
    "start_time": "2021-12-04T05:54:09.707Z"
   },
   {
    "duration": 8,
    "start_time": "2021-12-04T05:54:22.481Z"
   },
   {
    "duration": 17,
    "start_time": "2021-12-04T05:54:26.983Z"
   },
   {
    "duration": 3,
    "start_time": "2021-12-04T05:54:33.794Z"
   },
   {
    "duration": 14,
    "start_time": "2021-12-04T05:54:34.641Z"
   },
   {
    "duration": 11,
    "start_time": "2021-12-04T05:54:40.738Z"
   },
   {
    "duration": 11,
    "start_time": "2021-12-04T05:54:42.687Z"
   },
   {
    "duration": 8,
    "start_time": "2021-12-04T05:55:22.443Z"
   },
   {
    "duration": 13,
    "start_time": "2021-12-04T05:55:23.739Z"
   },
   {
    "duration": 4,
    "start_time": "2021-12-04T05:56:17.689Z"
   },
   {
    "duration": 13,
    "start_time": "2021-12-04T05:56:18.418Z"
   },
   {
    "duration": 6,
    "start_time": "2021-12-04T05:56:54.388Z"
   },
   {
    "duration": 14,
    "start_time": "2021-12-04T05:56:56.305Z"
   },
   {
    "duration": 4,
    "start_time": "2021-12-04T05:57:07.269Z"
   },
   {
    "duration": 13,
    "start_time": "2021-12-04T05:57:08.335Z"
   },
   {
    "duration": 3,
    "start_time": "2021-12-04T05:57:46.376Z"
   },
   {
    "duration": 14,
    "start_time": "2021-12-04T05:58:07.929Z"
   },
   {
    "duration": 4,
    "start_time": "2021-12-04T05:58:48.392Z"
   },
   {
    "duration": 15,
    "start_time": "2021-12-04T05:58:49.117Z"
   },
   {
    "duration": 8,
    "start_time": "2021-12-04T05:59:30.017Z"
   },
   {
    "duration": 7,
    "start_time": "2021-12-04T05:59:37.478Z"
   },
   {
    "duration": 8,
    "start_time": "2021-12-04T05:59:41.312Z"
   },
   {
    "duration": 10,
    "start_time": "2021-12-04T06:01:15.750Z"
   },
   {
    "duration": 14,
    "start_time": "2021-12-04T06:01:21.964Z"
   },
   {
    "duration": 9,
    "start_time": "2021-12-04T06:02:59.022Z"
   },
   {
    "duration": 15,
    "start_time": "2021-12-04T06:03:03.252Z"
   },
   {
    "duration": 8,
    "start_time": "2021-12-04T06:03:30.428Z"
   },
   {
    "duration": 15,
    "start_time": "2021-12-04T06:05:35.304Z"
   },
   {
    "duration": 7,
    "start_time": "2021-12-04T06:05:44.770Z"
   },
   {
    "duration": 3,
    "start_time": "2021-12-04T06:06:21.159Z"
   },
   {
    "duration": 8,
    "start_time": "2021-12-04T06:06:23.888Z"
   },
   {
    "duration": 5,
    "start_time": "2021-12-04T06:06:45.770Z"
   },
   {
    "duration": 7,
    "start_time": "2021-12-04T06:06:54.946Z"
   },
   {
    "duration": 19,
    "start_time": "2021-12-04T06:06:57.937Z"
   },
   {
    "duration": 244,
    "start_time": "2021-12-04T06:07:35.549Z"
   },
   {
    "duration": 12,
    "start_time": "2021-12-04T06:07:41.655Z"
   },
   {
    "duration": 15,
    "start_time": "2021-12-04T06:08:55.461Z"
   },
   {
    "duration": 6,
    "start_time": "2021-12-04T06:10:19.280Z"
   },
   {
    "duration": 20,
    "start_time": "2021-12-04T06:10:23.969Z"
   },
   {
    "duration": 5,
    "start_time": "2021-12-04T06:10:42.214Z"
   },
   {
    "duration": 22,
    "start_time": "2021-12-04T06:10:44.921Z"
   },
   {
    "duration": 3,
    "start_time": "2021-12-04T06:11:49.441Z"
   },
   {
    "duration": 20,
    "start_time": "2021-12-04T06:11:54.196Z"
   },
   {
    "duration": 6,
    "start_time": "2021-12-04T06:14:53.671Z"
   },
   {
    "duration": 9,
    "start_time": "2021-12-04T06:14:58.269Z"
   },
   {
    "duration": 6,
    "start_time": "2021-12-04T06:16:06.075Z"
   },
   {
    "duration": 8,
    "start_time": "2021-12-04T06:16:07.269Z"
   },
   {
    "duration": 3,
    "start_time": "2021-12-04T06:16:52.415Z"
   },
   {
    "duration": 5,
    "start_time": "2021-12-04T06:17:10.641Z"
   },
   {
    "duration": 9,
    "start_time": "2021-12-04T06:17:39.994Z"
   },
   {
    "duration": 5,
    "start_time": "2021-12-04T06:17:48.936Z"
   },
   {
    "duration": 14,
    "start_time": "2021-12-04T06:18:41.912Z"
   },
   {
    "duration": 6,
    "start_time": "2021-12-04T06:19:47.140Z"
   },
   {
    "duration": 9,
    "start_time": "2021-12-04T06:20:20.229Z"
   },
   {
    "duration": 14,
    "start_time": "2021-12-04T06:21:06.067Z"
   },
   {
    "duration": 245,
    "start_time": "2021-12-04T06:22:45.280Z"
   },
   {
    "duration": 6,
    "start_time": "2021-12-04T06:22:59.936Z"
   },
   {
    "duration": 10,
    "start_time": "2021-12-04T06:24:29.856Z"
   },
   {
    "duration": 3,
    "start_time": "2021-12-04T06:25:15.045Z"
   },
   {
    "duration": 3,
    "start_time": "2021-12-04T06:25:29.150Z"
   },
   {
    "duration": 5,
    "start_time": "2021-12-04T06:25:38.238Z"
   },
   {
    "duration": 14,
    "start_time": "2021-12-04T06:26:30.170Z"
   },
   {
    "duration": 264,
    "start_time": "2021-12-04T06:35:15.243Z"
   },
   {
    "duration": 14,
    "start_time": "2021-12-04T06:35:26.936Z"
   },
   {
    "duration": 6215,
    "start_time": "2021-12-04T06:35:55.604Z"
   },
   {
    "duration": 4,
    "start_time": "2021-12-04T06:36:08.655Z"
   },
   {
    "duration": 9,
    "start_time": "2021-12-04T06:37:11.439Z"
   },
   {
    "duration": 211,
    "start_time": "2021-12-04T06:37:19.468Z"
   },
   {
    "duration": 147,
    "start_time": "2021-12-04T06:37:36.497Z"
   },
   {
    "duration": 459,
    "start_time": "2021-12-04T06:37:39.430Z"
   },
   {
    "duration": 160,
    "start_time": "2021-12-04T06:37:45.766Z"
   },
   {
    "duration": 3,
    "start_time": "2021-12-04T06:38:29.324Z"
   },
   {
    "duration": 191,
    "start_time": "2021-12-04T06:42:15.645Z"
   },
   {
    "duration": 212,
    "start_time": "2021-12-04T06:42:21.375Z"
   },
   {
    "duration": 249,
    "start_time": "2021-12-04T06:42:41.076Z"
   },
   {
    "duration": 237,
    "start_time": "2021-12-04T06:42:44.646Z"
   },
   {
    "duration": 231,
    "start_time": "2021-12-04T06:42:49.794Z"
   },
   {
    "duration": 234,
    "start_time": "2021-12-04T06:44:32.517Z"
   },
   {
    "duration": 88,
    "start_time": "2021-12-04T06:46:53.289Z"
   },
   {
    "duration": 220,
    "start_time": "2021-12-04T06:53:04.956Z"
   },
   {
    "duration": 8,
    "start_time": "2021-12-04T06:59:15.342Z"
   },
   {
    "duration": 10,
    "start_time": "2021-12-04T07:04:57.688Z"
   },
   {
    "duration": 16,
    "start_time": "2021-12-04T07:04:59.494Z"
   },
   {
    "duration": 10,
    "start_time": "2021-12-04T07:05:06.257Z"
   },
   {
    "duration": 15,
    "start_time": "2021-12-04T07:05:17.040Z"
   },
   {
    "duration": 6,
    "start_time": "2021-12-04T07:05:22.232Z"
   },
   {
    "duration": 3,
    "start_time": "2021-12-04T07:05:25.701Z"
   },
   {
    "duration": 6,
    "start_time": "2021-12-04T07:05:26.119Z"
   },
   {
    "duration": 4,
    "start_time": "2021-12-04T07:05:29.116Z"
   },
   {
    "duration": 7,
    "start_time": "2021-12-04T07:05:30.037Z"
   },
   {
    "duration": 14,
    "start_time": "2021-12-04T07:05:30.649Z"
   },
   {
    "duration": 8,
    "start_time": "2021-12-04T07:06:25.242Z"
   },
   {
    "duration": 13,
    "start_time": "2021-12-04T07:07:01.799Z"
   },
   {
    "duration": 4,
    "start_time": "2021-12-04T07:08:59.736Z"
   },
   {
    "duration": 8,
    "start_time": "2021-12-04T07:09:05.861Z"
   },
   {
    "duration": 19,
    "start_time": "2021-12-04T07:09:16.225Z"
   },
   {
    "duration": 7,
    "start_time": "2021-12-04T07:09:23.745Z"
   },
   {
    "duration": 7,
    "start_time": "2021-12-04T07:09:29.801Z"
   },
   {
    "duration": 5,
    "start_time": "2021-12-04T07:10:26.781Z"
   },
   {
    "duration": 3,
    "start_time": "2021-12-04T07:10:28.041Z"
   },
   {
    "duration": 6,
    "start_time": "2021-12-04T07:10:28.930Z"
   },
   {
    "duration": 7,
    "start_time": "2021-12-04T07:10:34.882Z"
   },
   {
    "duration": 7,
    "start_time": "2021-12-04T07:10:47.317Z"
   },
   {
    "duration": 84,
    "start_time": "2021-12-04T07:11:53.472Z"
   },
   {
    "duration": 5639,
    "start_time": "2021-12-04T07:11:56.458Z"
   },
   {
    "duration": 15,
    "start_time": "2021-12-04T07:12:07.712Z"
   },
   {
    "duration": 239,
    "start_time": "2021-12-04T07:14:18.542Z"
   },
   {
    "duration": 15,
    "start_time": "2021-12-04T07:14:28.279Z"
   },
   {
    "duration": 239,
    "start_time": "2021-12-04T07:14:35.282Z"
   },
   {
    "duration": 242,
    "start_time": "2021-12-04T07:15:17.224Z"
   },
   {
    "duration": 78,
    "start_time": "2021-12-04T07:15:45.164Z"
   },
   {
    "duration": 237,
    "start_time": "2021-12-04T07:15:47.243Z"
   },
   {
    "duration": 7,
    "start_time": "2021-12-04T07:17:20.487Z"
   },
   {
    "duration": 3,
    "start_time": "2021-12-04T07:17:40.953Z"
   },
   {
    "duration": 4,
    "start_time": "2021-12-04T07:17:45.239Z"
   },
   {
    "duration": 296,
    "start_time": "2021-12-04T07:17:50.939Z"
   },
   {
    "duration": 4,
    "start_time": "2021-12-04T07:17:54.893Z"
   },
   {
    "duration": 4,
    "start_time": "2021-12-04T07:19:00.143Z"
   },
   {
    "duration": 5,
    "start_time": "2021-12-04T07:19:14.848Z"
   },
   {
    "duration": 6532,
    "start_time": "2021-12-04T07:20:01.965Z"
   },
   {
    "duration": 234,
    "start_time": "2021-12-04T07:20:12.679Z"
   },
   {
    "duration": 829,
    "start_time": "2021-12-04T07:20:16.278Z"
   },
   {
    "duration": 234,
    "start_time": "2021-12-04T07:20:27.192Z"
   },
   {
    "duration": 79,
    "start_time": "2021-12-04T07:20:40.512Z"
   },
   {
    "duration": 6352,
    "start_time": "2021-12-04T07:20:43.215Z"
   },
   {
    "duration": 4,
    "start_time": "2021-12-04T07:21:10.316Z"
   },
   {
    "duration": 4,
    "start_time": "2021-12-04T07:21:25.972Z"
   },
   {
    "duration": 245,
    "start_time": "2021-12-04T07:21:38.547Z"
   },
   {
    "duration": 246,
    "start_time": "2021-12-04T07:21:53.088Z"
   },
   {
    "duration": 5,
    "start_time": "2021-12-04T07:36:39.546Z"
   },
   {
    "duration": 5,
    "start_time": "2021-12-04T07:36:50.104Z"
   },
   {
    "duration": 25,
    "start_time": "2021-12-04T07:37:00.370Z"
   },
   {
    "duration": 20,
    "start_time": "2021-12-04T07:37:55.195Z"
   },
   {
    "duration": 10,
    "start_time": "2021-12-04T07:38:06.555Z"
   },
   {
    "duration": 21,
    "start_time": "2021-12-04T07:38:10.358Z"
   },
   {
    "duration": 2,
    "start_time": "2021-12-04T07:38:43.198Z"
   },
   {
    "duration": 236,
    "start_time": "2021-12-04T07:40:43.909Z"
   },
   {
    "duration": 6,
    "start_time": "2021-12-04T07:40:48.353Z"
   },
   {
    "duration": 4,
    "start_time": "2021-12-04T07:41:03.794Z"
   },
   {
    "duration": 4,
    "start_time": "2021-12-04T07:41:23.325Z"
   },
   {
    "duration": 7,
    "start_time": "2021-12-04T07:45:12.459Z"
   },
   {
    "duration": 222,
    "start_time": "2021-12-04T07:45:39.949Z"
   },
   {
    "duration": 468,
    "start_time": "2021-12-04T07:45:55.832Z"
   },
   {
    "duration": 420,
    "start_time": "2021-12-04T07:46:11.744Z"
   },
   {
    "duration": 253,
    "start_time": "2021-12-04T07:46:21.838Z"
   },
   {
    "duration": 255,
    "start_time": "2021-12-04T07:47:01.093Z"
   },
   {
    "duration": 452,
    "start_time": "2021-12-04T07:47:22.715Z"
   },
   {
    "duration": 265,
    "start_time": "2021-12-04T07:47:25.825Z"
   },
   {
    "duration": 358,
    "start_time": "2021-12-04T07:52:17.629Z"
   },
   {
    "duration": 281,
    "start_time": "2021-12-04T07:52:27.280Z"
   },
   {
    "duration": 79,
    "start_time": "2021-12-04T07:52:42.525Z"
   },
   {
    "duration": 291,
    "start_time": "2021-12-04T07:52:45.040Z"
   },
   {
    "duration": 286,
    "start_time": "2021-12-04T07:52:58.476Z"
   },
   {
    "duration": 292,
    "start_time": "2021-12-04T07:53:16.604Z"
   },
   {
    "duration": 8,
    "start_time": "2021-12-04T07:54:25.639Z"
   },
   {
    "duration": 8,
    "start_time": "2021-12-04T07:54:36.556Z"
   },
   {
    "duration": 4,
    "start_time": "2021-12-04T07:57:29.411Z"
   },
   {
    "duration": 4,
    "start_time": "2021-12-04T07:58:36.675Z"
   },
   {
    "duration": 4,
    "start_time": "2021-12-04T07:58:46.567Z"
   },
   {
    "duration": 4,
    "start_time": "2021-12-04T07:59:52.872Z"
   },
   {
    "duration": 5,
    "start_time": "2021-12-04T08:00:01.925Z"
   },
   {
    "duration": 5,
    "start_time": "2021-12-04T08:00:11.378Z"
   },
   {
    "duration": 74,
    "start_time": "2021-12-04T08:00:43.752Z"
   },
   {
    "duration": 330,
    "start_time": "2021-12-04T09:11:02.342Z"
   },
   {
    "duration": 4,
    "start_time": "2021-12-04T09:11:10.872Z"
   },
   {
    "duration": 828,
    "start_time": "2021-12-04T09:11:10.878Z"
   },
   {
    "duration": 208,
    "start_time": "2021-12-04T09:11:11.710Z"
   },
   {
    "duration": 28,
    "start_time": "2021-12-04T09:11:11.921Z"
   },
   {
    "duration": 34,
    "start_time": "2021-12-04T09:11:11.951Z"
   },
   {
    "duration": 191,
    "start_time": "2021-12-04T09:11:11.988Z"
   },
   {
    "duration": 25,
    "start_time": "2021-12-04T09:11:12.181Z"
   },
   {
    "duration": 11,
    "start_time": "2021-12-04T09:11:12.208Z"
   },
   {
    "duration": 144,
    "start_time": "2021-12-04T09:11:12.223Z"
   },
   {
    "duration": 20,
    "start_time": "2021-12-04T09:11:12.370Z"
   },
   {
    "duration": 11,
    "start_time": "2021-12-04T09:11:12.392Z"
   },
   {
    "duration": 15,
    "start_time": "2021-12-04T09:11:12.405Z"
   },
   {
    "duration": 10,
    "start_time": "2021-12-04T09:11:12.422Z"
   },
   {
    "duration": 11,
    "start_time": "2021-12-04T09:11:12.468Z"
   },
   {
    "duration": 34,
    "start_time": "2021-12-04T09:11:12.481Z"
   },
   {
    "duration": 9,
    "start_time": "2021-12-04T09:11:12.517Z"
   },
   {
    "duration": 25,
    "start_time": "2021-12-04T09:11:12.528Z"
   },
   {
    "duration": 35,
    "start_time": "2021-12-04T09:11:12.555Z"
   },
   {
    "duration": 18,
    "start_time": "2021-12-04T09:11:12.593Z"
   },
   {
    "duration": 15,
    "start_time": "2021-12-04T09:11:12.613Z"
   },
   {
    "duration": 65,
    "start_time": "2021-12-04T09:11:12.630Z"
   },
   {
    "duration": 20,
    "start_time": "2021-12-04T09:11:12.697Z"
   },
   {
    "duration": 54,
    "start_time": "2021-12-04T09:11:12.719Z"
   },
   {
    "duration": 18,
    "start_time": "2021-12-04T09:11:12.775Z"
   },
   {
    "duration": 27,
    "start_time": "2021-12-04T09:11:12.795Z"
   },
   {
    "duration": 43,
    "start_time": "2021-12-04T09:11:12.825Z"
   },
   {
    "duration": 5,
    "start_time": "2021-12-04T09:11:12.875Z"
   },
   {
    "duration": 13,
    "start_time": "2021-12-04T09:11:12.884Z"
   },
   {
    "duration": 6,
    "start_time": "2021-12-04T09:11:12.900Z"
   },
   {
    "duration": 5,
    "start_time": "2021-12-04T09:11:12.909Z"
   },
   {
    "duration": 53,
    "start_time": "2021-12-04T09:11:12.917Z"
   },
   {
    "duration": 6,
    "start_time": "2021-12-04T09:11:12.973Z"
   },
   {
    "duration": 8,
    "start_time": "2021-12-04T09:11:12.982Z"
   },
   {
    "duration": 16,
    "start_time": "2021-12-04T09:11:12.993Z"
   },
   {
    "duration": 136,
    "start_time": "2021-12-04T09:11:13.012Z"
   },
   {
    "duration": 24,
    "start_time": "2021-12-04T09:11:13.151Z"
   },
   {
    "duration": 6,
    "start_time": "2021-12-04T09:11:13.179Z"
   },
   {
    "duration": 22,
    "start_time": "2021-12-04T09:11:13.187Z"
   },
   {
    "duration": 22,
    "start_time": "2021-12-04T09:11:13.212Z"
   },
   {
    "duration": 6,
    "start_time": "2021-12-04T09:11:13.266Z"
   },
   {
    "duration": 31,
    "start_time": "2021-12-04T09:11:13.275Z"
   },
   {
    "duration": 14,
    "start_time": "2021-12-04T09:11:13.308Z"
   },
   {
    "duration": 105,
    "start_time": "2021-12-04T09:11:13.325Z"
   },
   {
    "duration": 14,
    "start_time": "2021-12-04T09:11:13.432Z"
   },
   {
    "duration": 136,
    "start_time": "2021-12-04T09:11:13.449Z"
   },
   {
    "duration": 14,
    "start_time": "2021-12-04T09:11:13.588Z"
   },
   {
    "duration": 28,
    "start_time": "2021-12-04T09:11:13.605Z"
   },
   {
    "duration": 92,
    "start_time": "2021-12-04T09:11:13.636Z"
   },
   {
    "duration": 37,
    "start_time": "2021-12-04T09:11:13.730Z"
   },
   {
    "duration": 12,
    "start_time": "2021-12-04T09:11:13.770Z"
   },
   {
    "duration": 8,
    "start_time": "2021-12-04T09:11:13.785Z"
   },
   {
    "duration": 14,
    "start_time": "2021-12-04T09:11:13.796Z"
   },
   {
    "duration": 96,
    "start_time": "2021-12-04T09:11:13.813Z"
   },
   {
    "duration": 59,
    "start_time": "2021-12-04T09:11:13.912Z"
   },
   {
    "duration": 17,
    "start_time": "2021-12-04T09:11:13.974Z"
   },
   {
    "duration": 52,
    "start_time": "2021-12-04T09:11:13.993Z"
   },
   {
    "duration": 35,
    "start_time": "2021-12-04T09:11:14.048Z"
   },
   {
    "duration": 10,
    "start_time": "2021-12-04T09:11:14.085Z"
   },
   {
    "duration": 4,
    "start_time": "2021-12-04T09:11:14.097Z"
   },
   {
    "duration": 16,
    "start_time": "2021-12-04T09:11:14.104Z"
   },
   {
    "duration": 81,
    "start_time": "2021-12-04T09:11:14.123Z"
   },
   {
    "duration": 24,
    "start_time": "2021-12-04T09:11:14.207Z"
   },
   {
    "duration": 36,
    "start_time": "2021-12-04T09:11:14.233Z"
   },
   {
    "duration": 238,
    "start_time": "2021-12-04T09:11:14.271Z"
   },
   {
    "duration": 5,
    "start_time": "2021-12-04T09:11:14.511Z"
   },
   {
    "duration": 18,
    "start_time": "2021-12-04T09:11:14.519Z"
   },
   {
    "duration": 62,
    "start_time": "2021-12-04T09:11:14.540Z"
   },
   {
    "duration": 16,
    "start_time": "2021-12-04T09:11:14.604Z"
   },
   {
    "duration": 56,
    "start_time": "2021-12-04T09:11:14.623Z"
   },
   {
    "duration": 4,
    "start_time": "2021-12-04T09:11:14.681Z"
   },
   {
    "duration": 16,
    "start_time": "2021-12-04T09:11:14.687Z"
   },
   {
    "duration": 28,
    "start_time": "2021-12-04T09:11:14.705Z"
   },
   {
    "duration": 38,
    "start_time": "2021-12-04T09:11:14.736Z"
   },
   {
    "duration": 15,
    "start_time": "2021-12-04T09:11:14.776Z"
   },
   {
    "duration": 14,
    "start_time": "2021-12-04T09:11:14.794Z"
   },
   {
    "duration": 21,
    "start_time": "2021-12-04T09:11:14.811Z"
   },
   {
    "duration": 54,
    "start_time": "2021-12-04T09:11:14.834Z"
   },
   {
    "duration": 16,
    "start_time": "2021-12-04T09:11:14.891Z"
   },
   {
    "duration": 58,
    "start_time": "2021-12-04T09:11:14.909Z"
   },
   {
    "duration": 10,
    "start_time": "2021-12-04T09:11:14.970Z"
   },
   {
    "duration": 7,
    "start_time": "2021-12-04T09:11:14.990Z"
   },
   {
    "duration": 37,
    "start_time": "2021-12-04T09:11:15.000Z"
   },
   {
    "duration": 13,
    "start_time": "2021-12-04T09:11:15.040Z"
   },
   {
    "duration": 24,
    "start_time": "2021-12-04T09:11:15.055Z"
   },
   {
    "duration": 24,
    "start_time": "2021-12-04T09:11:15.082Z"
   },
   {
    "duration": 14,
    "start_time": "2021-12-04T09:11:15.110Z"
   },
   {
    "duration": 50,
    "start_time": "2021-12-04T09:11:15.126Z"
   },
   {
    "duration": 11,
    "start_time": "2021-12-04T09:11:15.178Z"
   },
   {
    "duration": 9,
    "start_time": "2021-12-04T09:11:15.192Z"
   },
   {
    "duration": 14,
    "start_time": "2021-12-04T09:11:15.204Z"
   },
   {
    "duration": 9,
    "start_time": "2021-12-04T09:11:15.221Z"
   },
   {
    "duration": 5,
    "start_time": "2021-12-04T09:11:15.268Z"
   },
   {
    "duration": 14,
    "start_time": "2021-12-04T09:11:15.277Z"
   },
   {
    "duration": 11,
    "start_time": "2021-12-04T09:11:15.294Z"
   },
   {
    "duration": 15,
    "start_time": "2021-12-04T09:11:15.308Z"
   },
   {
    "duration": 62,
    "start_time": "2021-12-04T09:11:15.325Z"
   },
   {
    "duration": 4,
    "start_time": "2021-12-04T09:11:15.389Z"
   },
   {
    "duration": 11,
    "start_time": "2021-12-04T09:11:15.395Z"
   },
   {
    "duration": 13,
    "start_time": "2021-12-04T09:11:15.408Z"
   },
   {
    "duration": 14,
    "start_time": "2021-12-04T09:11:15.423Z"
   },
   {
    "duration": 14,
    "start_time": "2021-12-04T09:11:15.468Z"
   },
   {
    "duration": 15,
    "start_time": "2021-12-04T09:11:15.484Z"
   },
   {
    "duration": 6,
    "start_time": "2021-12-04T09:11:15.501Z"
   },
   {
    "duration": 10,
    "start_time": "2021-12-04T09:11:15.509Z"
   },
   {
    "duration": 155,
    "start_time": "2021-12-04T09:11:15.521Z"
   },
   {
    "duration": 583,
    "start_time": "2021-12-04T09:11:15.679Z"
   },
   {
    "duration": 8,
    "start_time": "2021-12-04T09:11:16.267Z"
   },
   {
    "duration": 10,
    "start_time": "2021-12-04T09:11:16.277Z"
   },
   {
    "duration": 7,
    "start_time": "2021-12-04T09:11:16.290Z"
   },
   {
    "duration": 14,
    "start_time": "2021-12-04T09:11:16.299Z"
   },
   {
    "duration": 10,
    "start_time": "2021-12-04T09:11:16.315Z"
   },
   {
    "duration": 7,
    "start_time": "2021-12-04T09:11:20.391Z"
   },
   {
    "duration": 592,
    "start_time": "2021-12-04T09:12:15.526Z"
   },
   {
    "duration": 546,
    "start_time": "2021-12-04T09:12:45.991Z"
   },
   {
    "duration": 6,
    "start_time": "2021-12-04T09:13:07.870Z"
   },
   {
    "duration": 6,
    "start_time": "2021-12-04T09:13:20.191Z"
   },
   {
    "duration": 6,
    "start_time": "2021-12-04T09:13:26.437Z"
   },
   {
    "duration": 6,
    "start_time": "2021-12-04T09:13:56.303Z"
   },
   {
    "duration": 7,
    "start_time": "2021-12-04T09:14:04.982Z"
   },
   {
    "duration": 6,
    "start_time": "2021-12-04T09:14:12.983Z"
   },
   {
    "duration": 106,
    "start_time": "2021-12-04T09:15:57.991Z"
   },
   {
    "duration": 573,
    "start_time": "2021-12-04T09:16:45.662Z"
   },
   {
    "duration": 569,
    "start_time": "2021-12-04T09:17:15.221Z"
   },
   {
    "duration": 7,
    "start_time": "2021-12-04T09:17:58.686Z"
   },
   {
    "duration": 8,
    "start_time": "2021-12-04T09:18:03.393Z"
   },
   {
    "duration": 5,
    "start_time": "2021-12-04T09:18:05.447Z"
   },
   {
    "duration": 7,
    "start_time": "2021-12-04T09:18:25.473Z"
   },
   {
    "duration": 7,
    "start_time": "2021-12-04T09:18:54.506Z"
   },
   {
    "duration": 7,
    "start_time": "2021-12-04T09:19:17.035Z"
   },
   {
    "duration": 610,
    "start_time": "2021-12-04T09:21:46.306Z"
   },
   {
    "duration": 619,
    "start_time": "2021-12-04T09:21:54.921Z"
   },
   {
    "duration": 752,
    "start_time": "2021-12-04T09:22:40.025Z"
   },
   {
    "duration": 6,
    "start_time": "2021-12-04T09:22:52.615Z"
   },
   {
    "duration": 513,
    "start_time": "2021-12-04T09:23:19.961Z"
   },
   {
    "duration": 11,
    "start_time": "2021-12-04T09:23:26.056Z"
   },
   {
    "duration": 6,
    "start_time": "2021-12-04T09:23:47.155Z"
   },
   {
    "duration": 284,
    "start_time": "2021-12-04T09:24:00.816Z"
   },
   {
    "duration": 7,
    "start_time": "2021-12-04T09:24:03.015Z"
   },
   {
    "duration": 7,
    "start_time": "2021-12-04T09:24:13.755Z"
   },
   {
    "duration": 41,
    "start_time": "2021-12-04T09:28:27.854Z"
   },
   {
    "duration": 47,
    "start_time": "2021-12-04T09:28:36.246Z"
   },
   {
    "duration": 34,
    "start_time": "2021-12-04T09:28:46.675Z"
   },
   {
    "duration": 4828,
    "start_time": "2021-12-04T09:28:56.875Z"
   },
   {
    "duration": 46,
    "start_time": "2021-12-04T09:29:28.875Z"
   },
   {
    "duration": 4577,
    "start_time": "2021-12-04T09:30:32.464Z"
   },
   {
    "duration": 266,
    "start_time": "2021-12-04T09:31:23.196Z"
   },
   {
    "duration": 5030,
    "start_time": "2021-12-04T09:31:27.849Z"
   },
   {
    "duration": 35,
    "start_time": "2021-12-04T09:31:47.896Z"
   },
   {
    "duration": 264,
    "start_time": "2021-12-04T09:31:57.414Z"
   },
   {
    "duration": 7807,
    "start_time": "2021-12-04T09:32:29.496Z"
   },
   {
    "duration": 51,
    "start_time": "2021-12-04T09:32:54.076Z"
   },
   {
    "duration": 49,
    "start_time": "2021-12-04T09:33:12.493Z"
   },
   {
    "duration": 34,
    "start_time": "2021-12-04T09:33:38.713Z"
   },
   {
    "duration": 36,
    "start_time": "2021-12-04T09:33:42.985Z"
   },
   {
    "duration": 39,
    "start_time": "2021-12-04T09:34:27.715Z"
   },
   {
    "duration": 6,
    "start_time": "2021-12-04T09:34:49.403Z"
   },
   {
    "duration": 39,
    "start_time": "2021-12-04T09:34:57.786Z"
   },
   {
    "duration": 4,
    "start_time": "2021-12-04T09:35:05.456Z"
   },
   {
    "duration": 267,
    "start_time": "2021-12-04T09:35:21.456Z"
   },
   {
    "duration": 26,
    "start_time": "2021-12-04T09:35:31.773Z"
   },
   {
    "duration": 36,
    "start_time": "2021-12-04T09:35:36.855Z"
   },
   {
    "duration": 308,
    "start_time": "2021-12-04T09:35:50.516Z"
   },
   {
    "duration": 303,
    "start_time": "2021-12-04T09:36:10.882Z"
   },
   {
    "duration": 4333,
    "start_time": "2021-12-04T09:36:26.113Z"
   },
   {
    "duration": 4371,
    "start_time": "2021-12-04T09:36:41.716Z"
   },
   {
    "duration": 6,
    "start_time": "2021-12-04T09:37:16.438Z"
   },
   {
    "duration": 33,
    "start_time": "2021-12-04T09:37:26.076Z"
   },
   {
    "duration": 6,
    "start_time": "2021-12-04T09:37:48.485Z"
   },
   {
    "duration": 36,
    "start_time": "2021-12-04T09:37:55.746Z"
   },
   {
    "duration": 4,
    "start_time": "2021-12-04T09:38:19.174Z"
   },
   {
    "duration": 4,
    "start_time": "2021-12-04T09:38:26.515Z"
   },
   {
    "duration": 279,
    "start_time": "2021-12-04T09:38:33.468Z"
   },
   {
    "duration": 33,
    "start_time": "2021-12-04T09:38:37.286Z"
   },
   {
    "duration": 4872,
    "start_time": "2021-12-04T09:39:02.577Z"
   },
   {
    "duration": 24,
    "start_time": "2021-12-04T09:39:10.935Z"
   },
   {
    "duration": 31,
    "start_time": "2021-12-04T09:39:14.473Z"
   },
   {
    "duration": 25,
    "start_time": "2021-12-04T09:39:27.921Z"
   },
   {
    "duration": 41,
    "start_time": "2021-12-04T09:39:30.050Z"
   },
   {
    "duration": 12,
    "start_time": "2021-12-04T09:40:30.032Z"
   },
   {
    "duration": 26,
    "start_time": "2021-12-04T09:41:04.649Z"
   },
   {
    "duration": 35,
    "start_time": "2021-12-04T09:41:13.329Z"
   },
   {
    "duration": 24,
    "start_time": "2021-12-04T09:42:33.271Z"
   },
   {
    "duration": 13,
    "start_time": "2021-12-04T09:42:43.201Z"
   },
   {
    "duration": 29,
    "start_time": "2021-12-04T09:42:52.529Z"
   },
   {
    "duration": 5,
    "start_time": "2021-12-04T09:43:19.269Z"
   },
   {
    "duration": 36,
    "start_time": "2021-12-04T09:43:29.889Z"
   },
   {
    "duration": 8,
    "start_time": "2021-12-04T09:43:59.441Z"
   },
   {
    "duration": 31,
    "start_time": "2021-12-04T09:44:10.740Z"
   },
   {
    "duration": 25,
    "start_time": "2021-12-04T09:44:45.012Z"
   },
   {
    "duration": 25,
    "start_time": "2021-12-04T09:44:47.509Z"
   },
   {
    "duration": 6,
    "start_time": "2021-12-04T09:54:54.050Z"
   },
   {
    "duration": 7,
    "start_time": "2021-12-04T09:56:34.329Z"
   },
   {
    "duration": 8001,
    "start_time": "2021-12-04T09:56:56.781Z"
   },
   {
    "duration": 8,
    "start_time": "2021-12-04T09:58:11.076Z"
   },
   {
    "duration": 7135,
    "start_time": "2021-12-04T09:58:14.229Z"
   },
   {
    "duration": 8,
    "start_time": "2021-12-04T09:58:35.010Z"
   },
   {
    "duration": 6847,
    "start_time": "2021-12-04T09:58:37.129Z"
   },
   {
    "duration": 7,
    "start_time": "2021-12-04T09:58:59.681Z"
   },
   {
    "duration": 558,
    "start_time": "2021-12-04T09:59:02.049Z"
   },
   {
    "duration": 6,
    "start_time": "2021-12-04T09:59:14.651Z"
   },
   {
    "duration": 7702,
    "start_time": "2021-12-04T09:59:16.501Z"
   },
   {
    "duration": 7,
    "start_time": "2021-12-04T09:59:34.809Z"
   },
   {
    "duration": 682,
    "start_time": "2021-12-04T09:59:42.389Z"
   },
   {
    "duration": 4,
    "start_time": "2021-12-04T10:00:22.770Z"
   },
   {
    "duration": 560,
    "start_time": "2021-12-04T10:00:25.042Z"
   },
   {
    "duration": 4,
    "start_time": "2021-12-04T10:00:37.130Z"
   },
   {
    "duration": 1314,
    "start_time": "2021-12-04T10:00:39.421Z"
   },
   {
    "duration": 25,
    "start_time": "2021-12-04T10:00:54.498Z"
   },
   {
    "duration": 5,
    "start_time": "2021-12-04T10:01:34.552Z"
   },
   {
    "duration": 545,
    "start_time": "2021-12-04T10:01:35.569Z"
   },
   {
    "duration": 5,
    "start_time": "2021-12-04T10:01:53.652Z"
   },
   {
    "duration": 931,
    "start_time": "2021-12-04T10:01:55.850Z"
   },
   {
    "duration": 26,
    "start_time": "2021-12-04T10:01:58.409Z"
   },
   {
    "duration": 4,
    "start_time": "2021-12-04T10:02:57.662Z"
   },
   {
    "duration": 555,
    "start_time": "2021-12-04T10:02:58.650Z"
   },
   {
    "duration": 4,
    "start_time": "2021-12-04T10:03:07.569Z"
   },
   {
    "duration": 1275,
    "start_time": "2021-12-04T10:03:08.449Z"
   },
   {
    "duration": 24,
    "start_time": "2021-12-04T10:03:11.689Z"
   },
   {
    "duration": 4,
    "start_time": "2021-12-04T10:03:26.326Z"
   },
   {
    "duration": 1354,
    "start_time": "2021-12-04T10:03:28.368Z"
   },
   {
    "duration": 24,
    "start_time": "2021-12-04T10:03:30.362Z"
   },
   {
    "duration": 16,
    "start_time": "2021-12-04T10:03:40.729Z"
   },
   {
    "duration": 4,
    "start_time": "2021-12-04T10:04:22.190Z"
   },
   {
    "duration": 1338,
    "start_time": "2021-12-04T10:04:22.889Z"
   },
   {
    "duration": 24,
    "start_time": "2021-12-04T10:04:26.089Z"
   },
   {
    "duration": 5,
    "start_time": "2021-12-04T10:05:06.231Z"
   },
   {
    "duration": 1831,
    "start_time": "2021-12-04T10:05:07.190Z"
   },
   {
    "duration": 34,
    "start_time": "2021-12-04T10:05:10.141Z"
   },
   {
    "duration": 5,
    "start_time": "2021-12-04T10:06:45.721Z"
   },
   {
    "duration": 1286,
    "start_time": "2021-12-04T10:06:46.862Z"
   },
   {
    "duration": 25,
    "start_time": "2021-12-04T10:06:50.341Z"
   },
   {
    "duration": 4,
    "start_time": "2021-12-04T10:07:30.098Z"
   },
   {
    "duration": 335,
    "start_time": "2021-12-04T10:07:31.189Z"
   },
   {
    "duration": 4,
    "start_time": "2021-12-04T10:08:02.231Z"
   },
   {
    "duration": 4,
    "start_time": "2021-12-04T10:08:11.675Z"
   },
   {
    "duration": 2003,
    "start_time": "2021-12-04T10:08:15.131Z"
   },
   {
    "duration": 37,
    "start_time": "2021-12-04T10:08:18.701Z"
   },
   {
    "duration": 4,
    "start_time": "2021-12-04T10:08:43.829Z"
   },
   {
    "duration": 1354,
    "start_time": "2021-12-04T10:08:44.693Z"
   },
   {
    "duration": 24,
    "start_time": "2021-12-04T10:08:47.258Z"
   },
   {
    "duration": 4,
    "start_time": "2021-12-04T10:09:06.223Z"
   },
   {
    "duration": 983,
    "start_time": "2021-12-04T10:09:07.010Z"
   },
   {
    "duration": 26,
    "start_time": "2021-12-04T10:09:09.097Z"
   },
   {
    "duration": 4,
    "start_time": "2021-12-04T10:09:36.189Z"
   },
   {
    "duration": 5691,
    "start_time": "2021-12-04T10:09:36.969Z"
   },
   {
    "duration": 5,
    "start_time": "2021-12-04T10:10:06.950Z"
   },
   {
    "duration": 2067,
    "start_time": "2021-12-04T10:10:07.769Z"
   },
   {
    "duration": 36,
    "start_time": "2021-12-04T10:10:12.351Z"
   },
   {
    "duration": 4,
    "start_time": "2021-12-04T10:10:53.601Z"
   },
   {
    "duration": 631,
    "start_time": "2021-12-04T10:10:54.162Z"
   },
   {
    "duration": 5,
    "start_time": "2021-12-04T10:11:42.449Z"
   },
   {
    "duration": 96,
    "start_time": "2021-12-04T10:11:51.052Z"
   },
   {
    "duration": 11,
    "start_time": "2021-12-04T10:11:57.769Z"
   },
   {
    "duration": 5,
    "start_time": "2021-12-04T10:12:17.290Z"
   },
   {
    "duration": 8096,
    "start_time": "2021-12-04T10:12:19.869Z"
   },
   {
    "duration": -2120,
    "start_time": "2021-12-04T10:12:30.088Z"
   },
   {
    "duration": 7310,
    "start_time": "2021-12-04T10:12:56.929Z"
   },
   {
    "duration": 4,
    "start_time": "2021-12-04T10:13:17.541Z"
   },
   {
    "duration": 7,
    "start_time": "2021-12-04T10:13:25.229Z"
   },
   {
    "duration": 185,
    "start_time": "2021-12-04T10:13:34.000Z"
   },
   {
    "duration": 24,
    "start_time": "2021-12-04T10:13:36.209Z"
   },
   {
    "duration": 5,
    "start_time": "2021-12-04T10:13:51.511Z"
   },
   {
    "duration": 412,
    "start_time": "2021-12-04T10:13:52.170Z"
   },
   {
    "duration": 34,
    "start_time": "2021-12-04T10:13:54.482Z"
   },
   {
    "duration": 5,
    "start_time": "2021-12-04T10:14:37.130Z"
   },
   {
    "duration": 31,
    "start_time": "2021-12-04T10:14:37.649Z"
   },
   {
    "duration": 25,
    "start_time": "2021-12-04T10:14:39.549Z"
   },
   {
    "duration": 4,
    "start_time": "2021-12-04T10:15:06.449Z"
   },
   {
    "duration": 280,
    "start_time": "2021-12-04T10:15:07.068Z"
   },
   {
    "duration": 278,
    "start_time": "2021-12-04T10:15:17.201Z"
   },
   {
    "duration": 4,
    "start_time": "2021-12-04T10:15:27.361Z"
   },
   {
    "duration": 5,
    "start_time": "2021-12-04T10:15:32.909Z"
   },
   {
    "duration": 31,
    "start_time": "2021-12-04T10:15:35.401Z"
   },
   {
    "duration": 25,
    "start_time": "2021-12-04T10:15:37.980Z"
   },
   {
    "duration": 6,
    "start_time": "2021-12-04T10:16:12.877Z"
   },
   {
    "duration": 20,
    "start_time": "2021-12-04T10:16:14.077Z"
   },
   {
    "duration": 26,
    "start_time": "2021-12-04T10:16:15.669Z"
   },
   {
    "duration": 4,
    "start_time": "2021-12-04T10:17:00.742Z"
   },
   {
    "duration": 4,
    "start_time": "2021-12-04T10:17:07.210Z"
   },
   {
    "duration": 1352,
    "start_time": "2021-12-04T10:17:09.161Z"
   },
   {
    "duration": 38,
    "start_time": "2021-12-04T10:17:12.041Z"
   },
   {
    "duration": 6,
    "start_time": "2021-12-04T10:17:50.969Z"
   },
   {
    "duration": 105,
    "start_time": "2021-12-04T10:17:51.921Z"
   },
   {
    "duration": 26,
    "start_time": "2021-12-04T10:17:53.601Z"
   },
   {
    "duration": 4,
    "start_time": "2021-12-04T10:18:56.949Z"
   },
   {
    "duration": 545,
    "start_time": "2021-12-04T10:18:57.562Z"
   },
   {
    "duration": 4,
    "start_time": "2021-12-04T10:19:10.909Z"
   },
   {
    "duration": 258,
    "start_time": "2021-12-04T10:19:12.509Z"
   },
   {
    "duration": 25,
    "start_time": "2021-12-04T10:19:14.261Z"
   },
   {
    "duration": 5,
    "start_time": "2021-12-04T10:19:44.569Z"
   },
   {
    "duration": 248,
    "start_time": "2021-12-04T10:19:46.889Z"
   },
   {
    "duration": 25,
    "start_time": "2021-12-04T10:19:49.450Z"
   },
   {
    "duration": 4,
    "start_time": "2021-12-04T10:20:32.219Z"
   },
   {
    "duration": 1381,
    "start_time": "2021-12-04T10:20:32.861Z"
   },
   {
    "duration": 25,
    "start_time": "2021-12-04T10:20:35.877Z"
   },
   {
    "duration": 5,
    "start_time": "2021-12-04T10:20:45.629Z"
   },
   {
    "duration": 1359,
    "start_time": "2021-12-04T10:20:46.192Z"
   },
   {
    "duration": 38,
    "start_time": "2021-12-04T10:20:48.703Z"
   },
   {
    "duration": 4,
    "start_time": "2021-12-04T10:21:13.781Z"
   },
   {
    "duration": 1398,
    "start_time": "2021-12-04T10:21:14.569Z"
   },
   {
    "duration": 30,
    "start_time": "2021-12-04T10:21:16.402Z"
   },
   {
    "duration": 5,
    "start_time": "2021-12-04T10:22:46.611Z"
   },
   {
    "duration": 1762,
    "start_time": "2021-12-04T10:22:47.449Z"
   },
   {
    "duration": 34,
    "start_time": "2021-12-04T10:22:49.930Z"
   },
   {
    "duration": 269,
    "start_time": "2021-12-04T10:24:12.170Z"
   },
   {
    "duration": 13,
    "start_time": "2021-12-04T10:24:18.277Z"
   },
   {
    "duration": 5,
    "start_time": "2021-12-04T10:24:30.929Z"
   },
   {
    "duration": 1304,
    "start_time": "2021-12-04T10:24:31.881Z"
   },
   {
    "duration": 25,
    "start_time": "2021-12-04T10:24:34.841Z"
   },
   {
    "duration": 5,
    "start_time": "2021-12-04T10:26:35.470Z"
   },
   {
    "duration": 2387,
    "start_time": "2021-12-04T10:26:36.341Z"
   },
   {
    "duration": 51,
    "start_time": "2021-12-04T10:26:39.930Z"
   },
   {
    "duration": 5,
    "start_time": "2021-12-04T10:26:56.090Z"
   },
   {
    "duration": 1402,
    "start_time": "2021-12-04T10:26:58.529Z"
   },
   {
    "duration": 25,
    "start_time": "2021-12-04T10:27:00.662Z"
   },
   {
    "duration": 3,
    "start_time": "2021-12-04T11:00:35.045Z"
   },
   {
    "duration": 3,
    "start_time": "2021-12-04T11:00:35.283Z"
   },
   {
    "duration": 514,
    "start_time": "2021-12-04T11:00:35.325Z"
   },
   {
    "duration": 30,
    "start_time": "2021-12-04T11:00:35.841Z"
   },
   {
    "duration": 18,
    "start_time": "2021-12-04T11:00:35.875Z"
   },
   {
    "duration": 274,
    "start_time": "2021-12-04T11:00:35.897Z"
   },
   {
    "duration": 34,
    "start_time": "2021-12-04T11:00:36.174Z"
   },
   {
    "duration": 14,
    "start_time": "2021-12-04T11:00:36.211Z"
   },
   {
    "duration": 134,
    "start_time": "2021-12-04T11:00:36.228Z"
   },
   {
    "duration": 26,
    "start_time": "2021-12-04T11:00:36.366Z"
   },
   {
    "duration": 13,
    "start_time": "2021-12-04T11:00:36.396Z"
   },
   {
    "duration": 16,
    "start_time": "2021-12-04T11:00:36.412Z"
   },
   {
    "duration": 41,
    "start_time": "2021-12-04T11:00:36.431Z"
   },
   {
    "duration": 17,
    "start_time": "2021-12-04T11:00:36.477Z"
   },
   {
    "duration": 29,
    "start_time": "2021-12-04T11:00:36.497Z"
   },
   {
    "duration": 10,
    "start_time": "2021-12-04T11:00:36.528Z"
   },
   {
    "duration": 34,
    "start_time": "2021-12-04T11:00:36.540Z"
   },
   {
    "duration": 37,
    "start_time": "2021-12-04T11:00:36.577Z"
   },
   {
    "duration": 9,
    "start_time": "2021-12-04T11:00:36.616Z"
   },
   {
    "duration": 47,
    "start_time": "2021-12-04T11:00:36.628Z"
   },
   {
    "duration": 45,
    "start_time": "2021-12-04T11:00:36.677Z"
   },
   {
    "duration": 48,
    "start_time": "2021-12-04T11:00:36.725Z"
   },
   {
    "duration": 36,
    "start_time": "2021-12-04T11:00:36.776Z"
   },
   {
    "duration": 16,
    "start_time": "2021-12-04T11:00:36.815Z"
   },
   {
    "duration": 3,
    "start_time": "2021-12-04T11:02:09.101Z"
   },
   {
    "duration": 4,
    "start_time": "2021-12-04T11:02:09.121Z"
   },
   {
    "duration": 265,
    "start_time": "2021-12-04T11:02:09.127Z"
   },
   {
    "duration": 30,
    "start_time": "2021-12-04T11:02:09.396Z"
   },
   {
    "duration": 48,
    "start_time": "2021-12-04T11:02:09.430Z"
   },
   {
    "duration": 233,
    "start_time": "2021-12-04T11:02:09.481Z"
   },
   {
    "duration": 55,
    "start_time": "2021-12-04T11:02:09.716Z"
   },
   {
    "duration": 17,
    "start_time": "2021-12-04T11:02:09.780Z"
   },
   {
    "duration": 125,
    "start_time": "2021-12-04T11:02:09.800Z"
   },
   {
    "duration": 20,
    "start_time": "2021-12-04T11:02:09.929Z"
   },
   {
    "duration": 16,
    "start_time": "2021-12-04T11:02:09.967Z"
   },
   {
    "duration": 16,
    "start_time": "2021-12-04T11:02:09.990Z"
   },
   {
    "duration": 16,
    "start_time": "2021-12-04T11:02:10.009Z"
   },
   {
    "duration": 24,
    "start_time": "2021-12-04T11:02:10.028Z"
   },
   {
    "duration": 57,
    "start_time": "2021-12-04T11:02:10.054Z"
   },
   {
    "duration": 12,
    "start_time": "2021-12-04T11:02:10.114Z"
   },
   {
    "duration": 19,
    "start_time": "2021-12-04T11:02:10.128Z"
   },
   {
    "duration": 38,
    "start_time": "2021-12-04T11:02:10.150Z"
   },
   {
    "duration": 10,
    "start_time": "2021-12-04T11:02:10.191Z"
   },
   {
    "duration": 11,
    "start_time": "2021-12-04T11:02:10.204Z"
   },
   {
    "duration": 78,
    "start_time": "2021-12-04T11:02:10.218Z"
   },
   {
    "duration": 20,
    "start_time": "2021-12-04T11:02:10.299Z"
   },
   {
    "duration": 53,
    "start_time": "2021-12-04T11:02:10.321Z"
   },
   {
    "duration": 20,
    "start_time": "2021-12-04T11:02:10.377Z"
   },
   {
    "duration": 37,
    "start_time": "2021-12-04T11:02:10.400Z"
   },
   {
    "duration": 35,
    "start_time": "2021-12-04T11:02:10.440Z"
   },
   {
    "duration": 8,
    "start_time": "2021-12-04T11:02:10.478Z"
   },
   {
    "duration": 11,
    "start_time": "2021-12-04T11:02:10.494Z"
   },
   {
    "duration": 7,
    "start_time": "2021-12-04T11:02:10.509Z"
   },
   {
    "duration": 8,
    "start_time": "2021-12-04T11:02:10.519Z"
   },
   {
    "duration": 53,
    "start_time": "2021-12-04T11:02:10.530Z"
   },
   {
    "duration": 6,
    "start_time": "2021-12-04T11:02:10.585Z"
   },
   {
    "duration": 9,
    "start_time": "2021-12-04T11:02:10.594Z"
   },
   {
    "duration": 13,
    "start_time": "2021-12-04T11:02:10.606Z"
   },
   {
    "duration": 128,
    "start_time": "2021-12-04T11:02:10.622Z"
   },
   {
    "duration": 25,
    "start_time": "2021-12-04T11:02:10.752Z"
   },
   {
    "duration": 7,
    "start_time": "2021-12-04T11:02:10.779Z"
   },
   {
    "duration": 21,
    "start_time": "2021-12-04T11:02:10.788Z"
   },
   {
    "duration": 23,
    "start_time": "2021-12-04T11:02:10.812Z"
   },
   {
    "duration": 33,
    "start_time": "2021-12-04T11:02:10.838Z"
   },
   {
    "duration": 28,
    "start_time": "2021-12-04T11:02:10.873Z"
   },
   {
    "duration": 13,
    "start_time": "2021-12-04T11:02:10.904Z"
   },
   {
    "duration": 112,
    "start_time": "2021-12-04T11:02:10.919Z"
   },
   {
    "duration": 12,
    "start_time": "2021-12-04T11:02:11.034Z"
   },
   {
    "duration": 121,
    "start_time": "2021-12-04T11:02:11.049Z"
   },
   {
    "duration": 13,
    "start_time": "2021-12-04T11:02:11.173Z"
   },
   {
    "duration": 31,
    "start_time": "2021-12-04T11:02:11.189Z"
   },
   {
    "duration": 91,
    "start_time": "2021-12-04T11:02:11.222Z"
   },
   {
    "duration": 22,
    "start_time": "2021-12-04T11:02:11.316Z"
   },
   {
    "duration": 33,
    "start_time": "2021-12-04T11:02:11.341Z"
   },
   {
    "duration": 9,
    "start_time": "2021-12-04T11:02:11.377Z"
   },
   {
    "duration": 12,
    "start_time": "2021-12-04T11:02:11.389Z"
   },
   {
    "duration": 88,
    "start_time": "2021-12-04T11:02:11.403Z"
   },
   {
    "duration": 44,
    "start_time": "2021-12-04T11:02:11.494Z"
   },
   {
    "duration": 35,
    "start_time": "2021-12-04T11:02:11.540Z"
   },
   {
    "duration": 60,
    "start_time": "2021-12-04T11:02:11.578Z"
   },
   {
    "duration": 34,
    "start_time": "2021-12-04T11:02:11.641Z"
   },
   {
    "duration": 13,
    "start_time": "2021-12-04T11:02:11.678Z"
   },
   {
    "duration": 6,
    "start_time": "2021-12-04T11:02:11.696Z"
   },
   {
    "duration": 15,
    "start_time": "2021-12-04T11:02:11.704Z"
   },
   {
    "duration": 86,
    "start_time": "2021-12-04T11:02:11.721Z"
   },
   {
    "duration": 27,
    "start_time": "2021-12-04T11:02:11.809Z"
   },
   {
    "duration": 36,
    "start_time": "2021-12-04T11:02:11.839Z"
   },
   {
    "duration": 249,
    "start_time": "2021-12-04T11:02:11.878Z"
   },
   {
    "duration": 5,
    "start_time": "2021-12-04T11:02:12.130Z"
   },
   {
    "duration": 32,
    "start_time": "2021-12-04T11:02:12.137Z"
   },
   {
    "duration": 48,
    "start_time": "2021-12-04T11:02:12.172Z"
   },
   {
    "duration": 13,
    "start_time": "2021-12-04T11:02:12.222Z"
   },
   {
    "duration": 58,
    "start_time": "2021-12-04T11:02:12.238Z"
   },
   {
    "duration": 4,
    "start_time": "2021-12-04T11:02:12.299Z"
   },
   {
    "duration": 13,
    "start_time": "2021-12-04T11:02:12.306Z"
   },
   {
    "duration": 49,
    "start_time": "2021-12-04T11:02:12.322Z"
   },
   {
    "duration": 27,
    "start_time": "2021-12-04T11:02:12.374Z"
   },
   {
    "duration": 5,
    "start_time": "2021-12-04T11:02:12.403Z"
   },
   {
    "duration": 16,
    "start_time": "2021-12-04T11:02:12.411Z"
   },
   {
    "duration": 57,
    "start_time": "2021-12-04T11:02:12.430Z"
   },
   {
    "duration": 26,
    "start_time": "2021-12-04T11:02:12.490Z"
   },
   {
    "duration": 19,
    "start_time": "2021-12-04T11:02:12.519Z"
   },
   {
    "duration": 53,
    "start_time": "2021-12-04T11:02:12.541Z"
   },
   {
    "duration": 10,
    "start_time": "2021-12-04T11:02:12.596Z"
   },
   {
    "duration": 10,
    "start_time": "2021-12-04T11:02:12.609Z"
   },
   {
    "duration": 43,
    "start_time": "2021-12-04T11:02:12.631Z"
   },
   {
    "duration": 7,
    "start_time": "2021-12-04T11:02:12.681Z"
   },
   {
    "duration": 11,
    "start_time": "2021-12-04T11:02:12.693Z"
   },
   {
    "duration": 23,
    "start_time": "2021-12-04T11:02:12.706Z"
   },
   {
    "duration": 53,
    "start_time": "2021-12-04T11:02:12.733Z"
   },
   {
    "duration": 30,
    "start_time": "2021-12-04T11:02:12.789Z"
   },
   {
    "duration": 6,
    "start_time": "2021-12-04T11:02:12.822Z"
   },
   {
    "duration": 15,
    "start_time": "2021-12-04T11:02:12.830Z"
   },
   {
    "duration": 31,
    "start_time": "2021-12-04T11:02:12.848Z"
   },
   {
    "duration": 8,
    "start_time": "2021-12-04T11:02:12.883Z"
   },
   {
    "duration": 7,
    "start_time": "2021-12-04T11:02:12.893Z"
   },
   {
    "duration": 18,
    "start_time": "2021-12-04T11:02:12.902Z"
   },
   {
    "duration": 25,
    "start_time": "2021-12-04T11:02:12.923Z"
   },
   {
    "duration": 28,
    "start_time": "2021-12-04T11:02:12.950Z"
   },
   {
    "duration": 47,
    "start_time": "2021-12-04T11:02:12.982Z"
   },
   {
    "duration": 11,
    "start_time": "2021-12-04T11:02:13.032Z"
   },
   {
    "duration": 15,
    "start_time": "2021-12-04T11:02:13.045Z"
   },
   {
    "duration": 30,
    "start_time": "2021-12-04T11:02:13.062Z"
   },
   {
    "duration": 14,
    "start_time": "2021-12-04T11:02:13.095Z"
   },
   {
    "duration": 19,
    "start_time": "2021-12-04T11:02:13.111Z"
   },
   {
    "duration": 13,
    "start_time": "2021-12-04T11:02:13.133Z"
   },
   {
    "duration": 6,
    "start_time": "2021-12-04T11:02:13.148Z"
   },
   {
    "duration": 10,
    "start_time": "2021-12-04T11:02:13.170Z"
   },
   {
    "duration": 13,
    "start_time": "2021-12-04T11:02:13.182Z"
   },
   {
    "duration": 601,
    "start_time": "2021-12-04T11:02:13.197Z"
   },
   {
    "duration": 7,
    "start_time": "2021-12-04T11:02:13.801Z"
   },
   {
    "duration": 7,
    "start_time": "2021-12-04T11:02:13.811Z"
   },
   {
    "duration": 11,
    "start_time": "2021-12-04T11:02:13.820Z"
   },
   {
    "duration": 8,
    "start_time": "2021-12-04T11:02:13.868Z"
   },
   {
    "duration": 19,
    "start_time": "2021-12-04T11:02:13.879Z"
   },
   {
    "duration": 12,
    "start_time": "2021-12-04T11:02:13.901Z"
   },
   {
    "duration": 611,
    "start_time": "2021-12-04T11:02:13.916Z"
   },
   {
    "duration": 6,
    "start_time": "2021-12-04T11:02:14.529Z"
   },
   {
    "duration": 33,
    "start_time": "2021-12-04T11:02:14.538Z"
   },
   {
    "duration": 7,
    "start_time": "2021-12-04T11:02:14.574Z"
   },
   {
    "duration": 22,
    "start_time": "2021-12-04T11:02:14.584Z"
   },
   {
    "duration": 8,
    "start_time": "2021-12-04T11:02:14.609Z"
   },
   {
    "duration": 9,
    "start_time": "2021-12-04T11:02:14.619Z"
   },
   {
    "duration": 616,
    "start_time": "2021-12-04T11:02:14.631Z"
   },
   {
    "duration": 21,
    "start_time": "2021-12-04T11:02:15.250Z"
   },
   {
    "duration": 8,
    "start_time": "2021-12-04T11:02:15.275Z"
   },
   {
    "duration": 10,
    "start_time": "2021-12-04T11:02:15.285Z"
   },
   {
    "duration": 611,
    "start_time": "2021-12-04T11:02:15.298Z"
   },
   {
    "duration": 7,
    "start_time": "2021-12-04T11:02:15.912Z"
   },
   {
    "duration": 8,
    "start_time": "2021-12-04T11:02:15.921Z"
   },
   {
    "duration": 46,
    "start_time": "2021-12-04T11:02:15.931Z"
   },
   {
    "duration": 401,
    "start_time": "2021-12-04T11:02:15.980Z"
   },
   {
    "duration": -2420,
    "start_time": "2021-12-04T11:02:18.804Z"
   },
   {
    "duration": 24,
    "start_time": "2021-12-04T11:02:34.293Z"
   },
   {
    "duration": 14,
    "start_time": "2021-12-04T11:02:40.671Z"
   },
   {
    "duration": 8,
    "start_time": "2021-12-04T11:02:46.608Z"
   },
   {
    "duration": 1342,
    "start_time": "2021-12-04T11:02:49.071Z"
   },
   {
    "duration": 5,
    "start_time": "2021-12-04T11:03:37.349Z"
   },
   {
    "duration": 2536,
    "start_time": "2021-12-04T11:03:40.009Z"
   },
   {
    "duration": 4,
    "start_time": "2021-12-04T11:03:59.139Z"
   },
   {
    "duration": 545,
    "start_time": "2021-12-04T11:04:02.240Z"
   },
   {
    "duration": 4,
    "start_time": "2021-12-04T11:04:14.714Z"
   },
   {
    "duration": 606,
    "start_time": "2021-12-04T11:04:20.571Z"
   },
   {
    "duration": 5,
    "start_time": "2021-12-04T11:05:06.981Z"
   },
   {
    "duration": 1574,
    "start_time": "2021-12-04T11:05:10.329Z"
   },
   {
    "duration": 5,
    "start_time": "2021-12-04T11:05:34.290Z"
   },
   {
    "duration": 1250,
    "start_time": "2021-12-04T11:05:36.617Z"
   },
   {
    "duration": 4,
    "start_time": "2021-12-04T11:05:48.330Z"
   },
   {
    "duration": 1095,
    "start_time": "2021-12-04T11:05:50.609Z"
   },
   {
    "duration": 4,
    "start_time": "2021-12-04T11:06:52.441Z"
   },
   {
    "duration": 2009,
    "start_time": "2021-12-04T11:06:55.440Z"
   },
   {
    "duration": 4,
    "start_time": "2021-12-04T11:07:11.518Z"
   },
   {
    "duration": 1766,
    "start_time": "2021-12-04T11:07:15.469Z"
   },
   {
    "duration": 4,
    "start_time": "2021-12-04T11:07:51.849Z"
   },
   {
    "duration": 2422,
    "start_time": "2021-12-04T11:07:54.009Z"
   },
   {
    "duration": 5,
    "start_time": "2021-12-04T11:09:07.589Z"
   },
   {
    "duration": 2333,
    "start_time": "2021-12-04T11:09:10.009Z"
   },
   {
    "duration": 8,
    "start_time": "2021-12-04T11:09:29.470Z"
   },
   {
    "duration": 2188,
    "start_time": "2021-12-04T11:09:30.401Z"
   },
   {
    "duration": 8,
    "start_time": "2021-12-04T11:10:23.980Z"
   },
   {
    "duration": 1938,
    "start_time": "2021-12-04T11:10:29.081Z"
   },
   {
    "duration": 27,
    "start_time": "2021-12-04T11:10:32.650Z"
   },
   {
    "duration": 6,
    "start_time": "2021-12-04T11:10:45.201Z"
   },
   {
    "duration": 5,
    "start_time": "2021-12-04T11:10:46.430Z"
   },
   {
    "duration": 2091,
    "start_time": "2021-12-04T11:10:50.021Z"
   },
   {
    "duration": 38,
    "start_time": "2021-12-04T11:10:53.997Z"
   },
   {
    "duration": 6,
    "start_time": "2021-12-04T11:11:16.682Z"
   },
   {
    "duration": 14,
    "start_time": "2021-12-04T11:11:18.370Z"
   },
   {
    "duration": 1530,
    "start_time": "2021-12-04T11:11:21.140Z"
   },
   {
    "duration": 30,
    "start_time": "2021-12-04T11:11:23.481Z"
   },
   {
    "duration": 5,
    "start_time": "2021-12-04T11:11:30.009Z"
   },
   {
    "duration": 5,
    "start_time": "2021-12-04T11:11:30.897Z"
   },
   {
    "duration": 2478,
    "start_time": "2021-12-04T11:11:31.600Z"
   },
   {
    "duration": 26,
    "start_time": "2021-12-04T11:11:34.630Z"
   },
   {
    "duration": 5,
    "start_time": "2021-12-04T11:11:44.730Z"
   },
   {
    "duration": 5,
    "start_time": "2021-12-04T11:11:46.810Z"
   },
   {
    "duration": 1081,
    "start_time": "2021-12-04T11:11:47.589Z"
   },
   {
    "duration": 36,
    "start_time": "2021-12-04T11:11:49.560Z"
   },
   {
    "duration": 9,
    "start_time": "2021-12-04T11:12:14.281Z"
   },
   {
    "duration": 5,
    "start_time": "2021-12-04T11:12:15.238Z"
   },
   {
    "duration": 1430,
    "start_time": "2021-12-04T11:12:15.972Z"
   },
   {
    "duration": 35,
    "start_time": "2021-12-04T11:12:17.940Z"
   },
   {
    "duration": 4,
    "start_time": "2021-12-04T11:12:41.009Z"
   },
   {
    "duration": 4,
    "start_time": "2021-12-04T11:12:51.410Z"
   },
   {
    "duration": 4,
    "start_time": "2021-12-04T11:12:52.549Z"
   },
   {
    "duration": 294,
    "start_time": "2021-12-04T11:12:54.935Z"
   },
   {
    "duration": 29,
    "start_time": "2021-12-04T11:12:56.180Z"
   },
   {
    "duration": 280,
    "start_time": "2021-12-04T11:15:25.549Z"
   },
   {
    "duration": 13,
    "start_time": "2021-12-04T11:15:30.049Z"
   },
   {
    "duration": 21,
    "start_time": "2021-12-04T11:15:39.060Z"
   },
   {
    "duration": 4,
    "start_time": "2021-12-04T11:15:47.621Z"
   },
   {
    "duration": 15,
    "start_time": "2021-12-04T11:15:50.960Z"
   },
   {
    "duration": 4,
    "start_time": "2021-12-04T11:16:16.160Z"
   },
   {
    "duration": 5,
    "start_time": "2021-12-04T11:16:18.149Z"
   },
   {
    "duration": 37,
    "start_time": "2021-12-04T11:16:20.791Z"
   },
   {
    "duration": 24,
    "start_time": "2021-12-04T11:16:22.821Z"
   },
   {
    "duration": 5,
    "start_time": "2021-12-04T11:16:45.928Z"
   },
   {
    "duration": 5,
    "start_time": "2021-12-04T11:16:46.950Z"
   },
   {
    "duration": 272,
    "start_time": "2021-12-04T11:16:49.851Z"
   },
   {
    "duration": 29,
    "start_time": "2021-12-04T11:16:50.780Z"
   },
   {
    "duration": 6,
    "start_time": "2021-12-04T11:17:08.292Z"
   },
   {
    "duration": 5,
    "start_time": "2021-12-04T11:17:09.249Z"
   },
   {
    "duration": 325,
    "start_time": "2021-12-04T11:17:12.049Z"
   },
   {
    "duration": 24,
    "start_time": "2021-12-04T11:17:14.231Z"
   },
   {
    "duration": 5,
    "start_time": "2021-12-04T11:17:38.820Z"
   },
   {
    "duration": 5,
    "start_time": "2021-12-04T11:17:39.517Z"
   },
   {
    "duration": 355,
    "start_time": "2021-12-04T11:17:42.440Z"
   },
   {
    "duration": 29,
    "start_time": "2021-12-04T11:17:43.481Z"
   },
   {
    "duration": 48,
    "start_time": "2021-12-04T11:18:45.141Z"
   },
   {
    "duration": 10,
    "start_time": "2021-12-04T11:19:40.877Z"
   },
   {
    "duration": 5,
    "start_time": "2021-12-04T11:19:41.920Z"
   },
   {
    "duration": 360,
    "start_time": "2021-12-04T11:19:42.970Z"
   },
   {
    "duration": 37,
    "start_time": "2021-12-04T11:19:46.010Z"
   },
   {
    "duration": 5,
    "start_time": "2021-12-04T11:19:54.309Z"
   },
   {
    "duration": 5,
    "start_time": "2021-12-04T11:19:54.909Z"
   },
   {
    "duration": 350,
    "start_time": "2021-12-04T11:19:55.609Z"
   },
   {
    "duration": 48,
    "start_time": "2021-12-04T11:19:57.860Z"
   },
   {
    "duration": 4,
    "start_time": "2021-12-04T11:20:32.217Z"
   },
   {
    "duration": 6,
    "start_time": "2021-12-04T11:20:32.929Z"
   },
   {
    "duration": 334,
    "start_time": "2021-12-04T11:20:33.589Z"
   },
   {
    "duration": 43,
    "start_time": "2021-12-04T11:20:36.081Z"
   },
   {
    "duration": 6,
    "start_time": "2021-12-04T11:21:07.429Z"
   },
   {
    "duration": 6,
    "start_time": "2021-12-04T11:21:07.989Z"
   },
   {
    "duration": 370,
    "start_time": "2021-12-04T11:21:10.609Z"
   },
   {
    "duration": 37,
    "start_time": "2021-12-04T11:21:11.510Z"
   },
   {
    "duration": 13,
    "start_time": "2021-12-04T11:21:58.371Z"
   },
   {
    "duration": 5,
    "start_time": "2021-12-04T11:21:59.100Z"
   },
   {
    "duration": 368,
    "start_time": "2021-12-04T11:22:01.591Z"
   },
   {
    "duration": 49,
    "start_time": "2021-12-04T11:22:01.963Z"
   },
   {
    "duration": 7,
    "start_time": "2021-12-04T11:22:48.189Z"
   },
   {
    "duration": 5,
    "start_time": "2021-12-04T11:22:49.370Z"
   },
   {
    "duration": 425,
    "start_time": "2021-12-04T11:22:51.629Z"
   },
   {
    "duration": 40,
    "start_time": "2021-12-04T11:22:54.220Z"
   },
   {
    "duration": 7,
    "start_time": "2021-12-04T11:23:41.189Z"
   },
   {
    "duration": 5,
    "start_time": "2021-12-04T11:23:42.000Z"
   },
   {
    "duration": 7090,
    "start_time": "2021-12-04T11:23:43.817Z"
   },
   {
    "duration": 6,
    "start_time": "2021-12-04T11:25:11.852Z"
   },
   {
    "duration": 5,
    "start_time": "2021-12-04T11:25:14.320Z"
   },
   {
    "duration": 288,
    "start_time": "2021-12-04T11:25:16.871Z"
   },
   {
    "duration": 6,
    "start_time": "2021-12-04T11:25:38.050Z"
   },
   {
    "duration": 16,
    "start_time": "2021-12-04T11:25:40.978Z"
   },
   {
    "duration": 447,
    "start_time": "2021-12-04T11:25:43.061Z"
   },
   {
    "duration": 45,
    "start_time": "2021-12-04T11:25:45.541Z"
   },
   {
    "duration": 740,
    "start_time": "2021-12-04T11:26:13.360Z"
   },
   {
    "duration": 7,
    "start_time": "2021-12-04T11:26:40.783Z"
   },
   {
    "duration": 768,
    "start_time": "2021-12-04T11:26:44.892Z"
   },
   {
    "duration": 1119,
    "start_time": "2021-12-04T11:27:05.913Z"
   },
   {
    "duration": 38,
    "start_time": "2021-12-04T11:27:18.201Z"
   },
   {
    "duration": 26,
    "start_time": "2021-12-04T11:28:05.940Z"
   },
   {
    "duration": 25,
    "start_time": "2021-12-04T11:28:11.840Z"
   },
   {
    "duration": 28,
    "start_time": "2021-12-04T11:58:06.453Z"
   },
   {
    "duration": 488,
    "start_time": "2021-12-04T11:59:59.750Z"
   },
   {
    "duration": 3,
    "start_time": "2021-12-04T12:00:54.332Z"
   },
   {
    "duration": 6,
    "start_time": "2021-12-04T12:02:02.351Z"
   },
   {
    "duration": 5,
    "start_time": "2021-12-04T12:02:08.891Z"
   },
   {
    "duration": 7,
    "start_time": "2021-12-04T12:02:25.282Z"
   },
   {
    "duration": 5,
    "start_time": "2021-12-04T12:02:46.011Z"
   },
   {
    "duration": 16,
    "start_time": "2021-12-04T12:10:26.501Z"
   },
   {
    "duration": 332,
    "start_time": "2021-12-04T12:10:45.128Z"
   },
   {
    "duration": 339,
    "start_time": "2021-12-04T12:10:59.991Z"
   },
   {
    "duration": 21,
    "start_time": "2021-12-04T12:11:56.060Z"
   },
   {
    "duration": 324,
    "start_time": "2021-12-04T12:12:03.680Z"
   },
   {
    "duration": 13,
    "start_time": "2021-12-04T12:12:19.981Z"
   },
   {
    "duration": 17,
    "start_time": "2021-12-04T12:12:32.068Z"
   },
   {
    "duration": 5,
    "start_time": "2021-12-04T12:12:44.320Z"
   },
   {
    "duration": 287,
    "start_time": "2021-12-04T12:14:01.491Z"
   },
   {
    "duration": 35,
    "start_time": "2021-12-04T12:14:04.481Z"
   },
   {
    "duration": 6,
    "start_time": "2021-12-04T12:14:30.160Z"
   },
   {
    "duration": 1363,
    "start_time": "2021-12-04T12:15:11.561Z"
   },
   {
    "duration": 43,
    "start_time": "2021-12-04T12:15:20.942Z"
   },
   {
    "duration": 10,
    "start_time": "2021-12-04T12:16:17.041Z"
   },
   {
    "duration": 37,
    "start_time": "2021-12-04T12:17:04.820Z"
   },
   {
    "duration": 10,
    "start_time": "2021-12-04T12:17:16.299Z"
   },
   {
    "duration": 10,
    "start_time": "2021-12-04T12:17:36.231Z"
   },
   {
    "duration": 41,
    "start_time": "2021-12-04T12:17:39.761Z"
   },
   {
    "duration": 9,
    "start_time": "2021-12-04T12:17:46.501Z"
   },
   {
    "duration": 5,
    "start_time": "2021-12-04T12:17:56.739Z"
   },
   {
    "duration": 605,
    "start_time": "2021-12-04T17:02:48.144Z"
   },
   {
    "duration": 288,
    "start_time": "2021-12-04T17:03:13.890Z"
   },
   {
    "duration": 23,
    "start_time": "2021-12-04T17:03:16.395Z"
   },
   {
    "duration": 14,
    "start_time": "2021-12-04T17:03:21.049Z"
   },
   {
    "duration": 133,
    "start_time": "2021-12-04T17:03:32.778Z"
   },
   {
    "duration": 17,
    "start_time": "2021-12-04T17:03:34.993Z"
   },
   {
    "duration": 9,
    "start_time": "2021-12-04T17:03:38.077Z"
   },
   {
    "duration": 88,
    "start_time": "2021-12-04T17:03:54.149Z"
   },
   {
    "duration": 14,
    "start_time": "2021-12-04T17:03:54.821Z"
   },
   {
    "duration": 8,
    "start_time": "2021-12-04T17:03:57.693Z"
   },
   {
    "duration": 17,
    "start_time": "2021-12-04T17:04:02.569Z"
   },
   {
    "duration": 6,
    "start_time": "2021-12-04T17:04:03.273Z"
   },
   {
    "duration": 17,
    "start_time": "2021-12-04T17:04:23.396Z"
   },
   {
    "duration": 7,
    "start_time": "2021-12-04T17:04:27.729Z"
   },
   {
    "duration": 8,
    "start_time": "2021-12-04T17:04:32.781Z"
   },
   {
    "duration": 28,
    "start_time": "2021-12-04T17:04:39.702Z"
   },
   {
    "duration": 7,
    "start_time": "2021-12-04T17:04:41.446Z"
   },
   {
    "duration": 11,
    "start_time": "2021-12-04T17:04:45.396Z"
   },
   {
    "duration": 17,
    "start_time": "2021-12-04T17:04:54.562Z"
   },
   {
    "duration": 12,
    "start_time": "2021-12-04T17:04:59.887Z"
   },
   {
    "duration": 9,
    "start_time": "2021-12-04T17:05:01.015Z"
   },
   {
    "duration": 32,
    "start_time": "2021-12-04T17:05:05.138Z"
   },
   {
    "duration": 16,
    "start_time": "2021-12-04T17:05:05.925Z"
   },
   {
    "duration": 33,
    "start_time": "2021-12-04T17:05:08.425Z"
   },
   {
    "duration": 13,
    "start_time": "2021-12-04T17:05:08.969Z"
   },
   {
    "duration": 19,
    "start_time": "2021-12-04T17:05:11.645Z"
   },
   {
    "duration": 12,
    "start_time": "2021-12-04T17:05:12.236Z"
   },
   {
    "duration": 5,
    "start_time": "2021-12-04T17:05:14.786Z"
   },
   {
    "duration": 7,
    "start_time": "2021-12-04T17:05:15.458Z"
   },
   {
    "duration": 4,
    "start_time": "2021-12-04T17:05:24.121Z"
   },
   {
    "duration": 4,
    "start_time": "2021-12-04T17:05:25.027Z"
   },
   {
    "duration": 4,
    "start_time": "2021-12-04T17:05:25.652Z"
   },
   {
    "duration": 4,
    "start_time": "2021-12-04T17:05:28.446Z"
   },
   {
    "duration": 6,
    "start_time": "2021-12-04T17:05:30.416Z"
   },
   {
    "duration": 8,
    "start_time": "2021-12-04T17:05:31.750Z"
   },
   {
    "duration": 77,
    "start_time": "2021-12-04T17:05:38.478Z"
   },
   {
    "duration": 13,
    "start_time": "2021-12-04T17:05:39.215Z"
   },
   {
    "duration": 3,
    "start_time": "2021-12-04T17:05:51.507Z"
   },
   {
    "duration": 8,
    "start_time": "2021-12-04T17:05:58.623Z"
   },
   {
    "duration": 14,
    "start_time": "2021-12-04T17:05:59.287Z"
   },
   {
    "duration": 5,
    "start_time": "2021-12-04T17:06:21.606Z"
   },
   {
    "duration": 14,
    "start_time": "2021-12-04T17:06:22.622Z"
   },
   {
    "duration": 10,
    "start_time": "2021-12-04T17:06:26.580Z"
   },
   {
    "duration": 46,
    "start_time": "2021-12-04T17:06:30.118Z"
   },
   {
    "duration": 9,
    "start_time": "2021-12-04T17:06:31.499Z"
   },
   {
    "duration": 86,
    "start_time": "2021-12-04T17:06:34.767Z"
   },
   {
    "duration": 307,
    "start_time": "2021-12-04T17:07:17.663Z"
   },
   {
    "duration": 10,
    "start_time": "2021-12-04T17:07:21.352Z"
   },
   {
    "duration": 17,
    "start_time": "2021-12-04T17:07:23.923Z"
   },
   {
    "duration": 42,
    "start_time": "2021-12-04T17:07:27.275Z"
   },
   {
    "duration": 15,
    "start_time": "2021-12-04T17:07:27.771Z"
   },
   {
    "duration": 8,
    "start_time": "2021-12-04T17:07:31.323Z"
   },
   {
    "duration": 4,
    "start_time": "2021-12-04T17:07:31.863Z"
   },
   {
    "duration": 8,
    "start_time": "2021-12-04T17:07:32.274Z"
   },
   {
    "duration": 37,
    "start_time": "2021-12-04T17:07:34.827Z"
   },
   {
    "duration": 43,
    "start_time": "2021-12-04T17:07:35.267Z"
   },
   {
    "duration": 12,
    "start_time": "2021-12-04T17:07:35.718Z"
   },
   {
    "duration": 35,
    "start_time": "2021-12-04T17:07:40.149Z"
   },
   {
    "duration": 12,
    "start_time": "2021-12-04T17:07:40.650Z"
   },
   {
    "duration": 7,
    "start_time": "2021-12-04T17:07:41.073Z"
   },
   {
    "duration": 4,
    "start_time": "2021-12-04T17:07:42.658Z"
   },
   {
    "duration": 8,
    "start_time": "2021-12-04T17:07:43.510Z"
   },
   {
    "duration": 31,
    "start_time": "2021-12-04T17:07:46.164Z"
   },
   {
    "duration": 20,
    "start_time": "2021-12-04T17:07:46.801Z"
   },
   {
    "duration": 12,
    "start_time": "2021-12-04T17:07:48.567Z"
   },
   {
    "duration": 164,
    "start_time": "2021-12-04T17:07:52.021Z"
   },
   {
    "duration": 5,
    "start_time": "2021-12-04T17:08:04.335Z"
   },
   {
    "duration": 10,
    "start_time": "2021-12-04T17:08:32.187Z"
   },
   {
    "duration": 5,
    "start_time": "2021-12-04T17:09:00.190Z"
   },
   {
    "duration": 87,
    "start_time": "2021-12-04T17:09:26.860Z"
   },
   {
    "duration": 8,
    "start_time": "2021-12-04T17:09:30.082Z"
   },
   {
    "duration": 6,
    "start_time": "2021-12-04T17:09:37.739Z"
   },
   {
    "duration": 10,
    "start_time": "2021-12-04T17:09:40.166Z"
   },
   {
    "duration": 25,
    "start_time": "2021-12-04T17:10:02.254Z"
   },
   {
    "duration": 10,
    "start_time": "2021-12-04T17:10:03.208Z"
   },
   {
    "duration": 20,
    "start_time": "2021-12-04T17:10:06.058Z"
   },
   {
    "duration": 3,
    "start_time": "2021-12-04T17:10:08.855Z"
   },
   {
    "duration": 8,
    "start_time": "2021-12-04T17:10:13.665Z"
   },
   {
    "duration": 13,
    "start_time": "2021-12-04T17:10:20.802Z"
   },
   {
    "duration": 14,
    "start_time": "2021-12-04T17:10:22.476Z"
   },
   {
    "duration": 8,
    "start_time": "2021-12-04T17:10:29.326Z"
   },
   {
    "duration": 8,
    "start_time": "2021-12-04T17:10:37.103Z"
   },
   {
    "duration": 10,
    "start_time": "2021-12-04T17:10:43.708Z"
   },
   {
    "duration": 15,
    "start_time": "2021-12-04T17:11:13.147Z"
   },
   {
    "duration": 16,
    "start_time": "2021-12-04T17:11:30.513Z"
   },
   {
    "duration": 10,
    "start_time": "2021-12-04T17:11:35.007Z"
   },
   {
    "duration": 15,
    "start_time": "2021-12-04T17:11:41.717Z"
   },
   {
    "duration": 11,
    "start_time": "2021-12-04T17:11:55.510Z"
   },
   {
    "duration": 712,
    "start_time": "2021-12-04T17:11:58.089Z"
   },
   {
    "duration": 19,
    "start_time": "2021-12-04T17:12:01.277Z"
   },
   {
    "duration": 7,
    "start_time": "2021-12-04T17:12:08.177Z"
   },
   {
    "duration": 4,
    "start_time": "2021-12-04T17:12:17.042Z"
   },
   {
    "duration": 6,
    "start_time": "2021-12-04T17:12:20.234Z"
   },
   {
    "duration": 5,
    "start_time": "2021-12-04T17:12:43.648Z"
   },
   {
    "duration": 279,
    "start_time": "2021-12-04T17:12:46.114Z"
   },
   {
    "duration": 9,
    "start_time": "2021-12-04T17:12:56.388Z"
   },
   {
    "duration": 16,
    "start_time": "2021-12-04T17:13:01.070Z"
   },
   {
    "duration": 9,
    "start_time": "2021-12-04T17:13:11.507Z"
   },
   {
    "duration": 14,
    "start_time": "2021-12-04T17:13:18.971Z"
   },
   {
    "duration": 4,
    "start_time": "2021-12-04T17:13:33.897Z"
   },
   {
    "duration": 5,
    "start_time": "2021-12-04T17:13:39.721Z"
   },
   {
    "duration": 9,
    "start_time": "2021-12-04T17:13:42.770Z"
   },
   {
    "duration": 5,
    "start_time": "2021-12-04T17:14:15.627Z"
   },
   {
    "duration": 4,
    "start_time": "2021-12-04T17:14:24.369Z"
   },
   {
    "duration": 9,
    "start_time": "2021-12-04T17:14:37.652Z"
   },
   {
    "duration": 236,
    "start_time": "2021-12-04T17:14:40.883Z"
   },
   {
    "duration": 7,
    "start_time": "2021-12-04T17:14:47.890Z"
   },
   {
    "duration": 8,
    "start_time": "2021-12-04T17:15:12.475Z"
   },
   {
    "duration": 16,
    "start_time": "2021-12-04T17:15:21.696Z"
   },
   {
    "duration": 4,
    "start_time": "2021-12-04T17:16:06.394Z"
   },
   {
    "duration": 5,
    "start_time": "2021-12-04T17:16:14.284Z"
   },
   {
    "duration": 248,
    "start_time": "2021-12-04T17:16:52.351Z"
   },
   {
    "duration": 4,
    "start_time": "2021-12-04T17:17:02.268Z"
   },
   {
    "duration": 5,
    "start_time": "2021-12-04T17:17:08.616Z"
   },
   {
    "duration": 4,
    "start_time": "2021-12-04T17:17:54.840Z"
   },
   {
    "duration": 6,
    "start_time": "2021-12-04T17:18:21.864Z"
   },
   {
    "duration": 7163,
    "start_time": "2021-12-04T17:18:34.551Z"
   },
   {
    "duration": 6,
    "start_time": "2021-12-04T17:18:43.628Z"
   },
   {
    "duration": 8,
    "start_time": "2021-12-04T17:19:14.659Z"
   },
   {
    "duration": 5,
    "start_time": "2021-12-04T17:19:50.957Z"
   },
   {
    "duration": 5,
    "start_time": "2021-12-04T17:20:08.443Z"
   },
   {
    "duration": 3,
    "start_time": "2021-12-04T17:20:19.696Z"
   },
   {
    "duration": 4,
    "start_time": "2021-12-04T17:20:20.496Z"
   },
   {
    "duration": 3,
    "start_time": "2021-12-04T17:21:01.503Z"
   },
   {
    "duration": 4,
    "start_time": "2021-12-04T17:21:09.570Z"
   },
   {
    "duration": 237,
    "start_time": "2021-12-04T17:21:24.391Z"
   },
   {
    "duration": 1726,
    "start_time": "2021-12-04T17:21:36.020Z"
   },
   {
    "duration": 6,
    "start_time": "2021-12-04T17:21:53.194Z"
   },
   {
    "duration": 3,
    "start_time": "2021-12-04T17:22:06.012Z"
   },
   {
    "duration": 5,
    "start_time": "2021-12-04T17:22:08.011Z"
   },
   {
    "duration": 5,
    "start_time": "2021-12-04T17:22:10.521Z"
   },
   {
    "duration": 3,
    "start_time": "2021-12-04T17:22:32.209Z"
   },
   {
    "duration": 4,
    "start_time": "2021-12-04T17:22:33.436Z"
   },
   {
    "duration": 3,
    "start_time": "2021-12-04T17:22:35.369Z"
   },
   {
    "duration": 5,
    "start_time": "2021-12-04T17:22:37.955Z"
   },
   {
    "duration": 248,
    "start_time": "2021-12-04T17:22:49.948Z"
   },
   {
    "duration": 4,
    "start_time": "2021-12-04T17:24:05.407Z"
   },
   {
    "duration": 239,
    "start_time": "2021-12-04T17:24:11.240Z"
   },
   {
    "duration": 16,
    "start_time": "2021-12-04T17:24:20.633Z"
   },
   {
    "duration": 9,
    "start_time": "2021-12-04T17:24:27.091Z"
   },
   {
    "duration": 15,
    "start_time": "2021-12-04T17:25:12.159Z"
   },
   {
    "duration": 85,
    "start_time": "2021-12-04T17:26:08.919Z"
   },
   {
    "duration": 5,
    "start_time": "2021-12-04T17:26:17.778Z"
   },
   {
    "duration": 5,
    "start_time": "2021-12-04T17:26:21.677Z"
   },
   {
    "duration": 101,
    "start_time": "2021-12-04T17:26:24.783Z"
   },
   {
    "duration": 310,
    "start_time": "2021-12-04T17:26:26.398Z"
   },
   {
    "duration": 5,
    "start_time": "2021-12-04T17:28:40.422Z"
   },
   {
    "duration": 6,
    "start_time": "2021-12-04T17:29:11.985Z"
   },
   {
    "duration": 8,
    "start_time": "2021-12-04T17:29:47.098Z"
   },
   {
    "duration": 469,
    "start_time": "2021-12-04T17:31:27.486Z"
   },
   {
    "duration": 5,
    "start_time": "2021-12-04T17:31:41.770Z"
   },
   {
    "duration": 6,
    "start_time": "2021-12-04T17:32:32.734Z"
   },
   {
    "duration": 5,
    "start_time": "2021-12-04T17:32:48.492Z"
   },
   {
    "duration": 5,
    "start_time": "2021-12-04T17:32:55.229Z"
   },
   {
    "duration": 5,
    "start_time": "2021-12-04T17:33:11.526Z"
   },
   {
    "duration": 319,
    "start_time": "2021-12-04T17:33:21.077Z"
   },
   {
    "duration": 422,
    "start_time": "2021-12-04T17:33:51.359Z"
   },
   {
    "duration": 5,
    "start_time": "2021-12-04T17:33:54.749Z"
   },
   {
    "duration": 6,
    "start_time": "2021-12-04T17:33:56.322Z"
   },
   {
    "duration": 5,
    "start_time": "2021-12-04T17:34:56.056Z"
   },
   {
    "duration": 5,
    "start_time": "2021-12-04T17:34:56.995Z"
   },
   {
    "duration": 5,
    "start_time": "2021-12-04T17:34:57.638Z"
   },
   {
    "duration": 341,
    "start_time": "2021-12-04T17:35:00.844Z"
   },
   {
    "duration": 5,
    "start_time": "2021-12-04T17:35:04.042Z"
   },
   {
    "duration": 6,
    "start_time": "2021-12-04T17:35:04.662Z"
   },
   {
    "duration": 6,
    "start_time": "2021-12-04T17:35:05.275Z"
   },
   {
    "duration": 9,
    "start_time": "2021-12-04T17:35:13.076Z"
   },
   {
    "duration": 4,
    "start_time": "2021-12-04T17:35:25.820Z"
   },
   {
    "duration": 7,
    "start_time": "2021-12-04T17:35:29.773Z"
   },
   {
    "duration": 4,
    "start_time": "2021-12-04T17:35:43.311Z"
   },
   {
    "duration": 437,
    "start_time": "2021-12-04T17:35:54.640Z"
   },
   {
    "duration": 210,
    "start_time": "2021-12-04T17:36:08.202Z"
   },
   {
    "duration": 222,
    "start_time": "2021-12-04T17:36:45.872Z"
   },
   {
    "duration": 17,
    "start_time": "2021-12-04T17:37:03.863Z"
   },
   {
    "duration": 437,
    "start_time": "2021-12-04T17:37:21.441Z"
   },
   {
    "duration": 6129,
    "start_time": "2021-12-04T17:38:45.019Z"
   },
   {
    "duration": 7,
    "start_time": "2021-12-04T17:39:04.003Z"
   },
   {
    "duration": 4,
    "start_time": "2021-12-04T17:39:06.506Z"
   },
   {
    "duration": 2,
    "start_time": "2021-12-04T17:39:26.498Z"
   },
   {
    "duration": 83,
    "start_time": "2021-12-04T17:39:40.713Z"
   },
   {
    "duration": 6,
    "start_time": "2021-12-04T17:39:54.333Z"
   },
   {
    "duration": 7,
    "start_time": "2021-12-04T17:40:08.063Z"
   },
   {
    "duration": 669,
    "start_time": "2021-12-04T17:40:34.467Z"
   },
   {
    "duration": 17,
    "start_time": "2021-12-04T17:40:37.025Z"
   },
   {
    "duration": 7,
    "start_time": "2021-12-04T17:40:42.145Z"
   },
   {
    "duration": 6,
    "start_time": "2021-12-04T17:40:43.777Z"
   },
   {
    "duration": 7,
    "start_time": "2021-12-04T17:40:46.046Z"
   },
   {
    "duration": 4,
    "start_time": "2021-12-04T17:40:46.886Z"
   },
   {
    "duration": 7,
    "start_time": "2021-12-04T17:41:51.480Z"
   },
   {
    "duration": 4,
    "start_time": "2021-12-04T17:41:52.299Z"
   },
   {
    "duration": 8,
    "start_time": "2021-12-04T17:42:15.463Z"
   },
   {
    "duration": 162,
    "start_time": "2021-12-05T09:00:37.030Z"
   },
   {
    "duration": 4,
    "start_time": "2021-12-05T09:01:33.275Z"
   },
   {
    "duration": 730,
    "start_time": "2021-12-05T09:01:40.075Z"
   },
   {
    "duration": 196,
    "start_time": "2021-12-05T09:01:40.808Z"
   },
   {
    "duration": 33,
    "start_time": "2021-12-05T09:01:41.007Z"
   },
   {
    "duration": 20,
    "start_time": "2021-12-05T09:01:41.042Z"
   },
   {
    "duration": 180,
    "start_time": "2021-12-05T09:01:41.571Z"
   },
   {
    "duration": 23,
    "start_time": "2021-12-05T09:01:41.753Z"
   },
   {
    "duration": 12,
    "start_time": "2021-12-05T09:01:42.067Z"
   },
   {
    "duration": 114,
    "start_time": "2021-12-05T09:01:42.706Z"
   },
   {
    "duration": 36,
    "start_time": "2021-12-05T09:01:42.822Z"
   },
   {
    "duration": 10,
    "start_time": "2021-12-05T09:01:43.139Z"
   },
   {
    "duration": 18,
    "start_time": "2021-12-05T09:01:43.443Z"
   },
   {
    "duration": 9,
    "start_time": "2021-12-05T09:01:43.611Z"
   },
   {
    "duration": 12,
    "start_time": "2021-12-05T09:01:44.069Z"
   },
   {
    "duration": 27,
    "start_time": "2021-12-05T09:01:44.331Z"
   },
   {
    "duration": 9,
    "start_time": "2021-12-05T09:01:44.483Z"
   },
   {
    "duration": 14,
    "start_time": "2021-12-05T09:01:44.780Z"
   },
   {
    "duration": 26,
    "start_time": "2021-12-05T09:01:45.627Z"
   },
   {
    "duration": 10,
    "start_time": "2021-12-05T09:01:45.979Z"
   },
   {
    "duration": 11,
    "start_time": "2021-12-05T09:01:46.163Z"
   },
   {
    "duration": 42,
    "start_time": "2021-12-05T09:01:46.515Z"
   },
   {
    "duration": 20,
    "start_time": "2021-12-05T09:01:46.683Z"
   },
   {
    "duration": 31,
    "start_time": "2021-12-05T09:01:47.043Z"
   },
   {
    "duration": 17,
    "start_time": "2021-12-05T09:01:47.203Z"
   },
   {
    "duration": 39,
    "start_time": "2021-12-05T09:01:47.539Z"
   },
   {
    "duration": 24,
    "start_time": "2021-12-05T09:01:47.699Z"
   },
   {
    "duration": 7,
    "start_time": "2021-12-05T09:01:48.035Z"
   },
   {
    "duration": 10,
    "start_time": "2021-12-05T09:01:48.187Z"
   },
   {
    "duration": 5,
    "start_time": "2021-12-05T09:01:48.643Z"
   },
   {
    "duration": 7,
    "start_time": "2021-12-05T09:01:48.779Z"
   },
   {
    "duration": 6,
    "start_time": "2021-12-05T09:01:48.963Z"
   },
   {
    "duration": 4,
    "start_time": "2021-12-05T09:01:49.315Z"
   },
   {
    "duration": 7,
    "start_time": "2021-12-05T09:01:49.658Z"
   },
   {
    "duration": 12,
    "start_time": "2021-12-05T09:01:49.867Z"
   },
   {
    "duration": 96,
    "start_time": "2021-12-05T09:01:50.467Z"
   },
   {
    "duration": 20,
    "start_time": "2021-12-05T09:01:50.642Z"
   },
   {
    "duration": 4,
    "start_time": "2021-12-05T09:01:52.872Z"
   },
   {
    "duration": 14,
    "start_time": "2021-12-05T09:01:52.879Z"
   },
   {
    "duration": 22,
    "start_time": "2021-12-05T09:01:52.896Z"
   },
   {
    "duration": 4,
    "start_time": "2021-12-05T09:01:52.920Z"
   },
   {
    "duration": 22,
    "start_time": "2021-12-05T09:01:53.132Z"
   },
   {
    "duration": 12,
    "start_time": "2021-12-05T09:01:53.683Z"
   },
   {
    "duration": 70,
    "start_time": "2021-12-05T09:01:54.493Z"
   },
   {
    "duration": 12,
    "start_time": "2021-12-05T09:01:54.874Z"
   },
   {
    "duration": 66,
    "start_time": "2021-12-05T09:01:55.219Z"
   },
   {
    "duration": 25,
    "start_time": "2021-12-05T09:01:55.389Z"
   },
   {
    "duration": 64,
    "start_time": "2021-12-05T09:01:55.755Z"
   },
   {
    "duration": 21,
    "start_time": "2021-12-05T09:01:55.940Z"
   },
   {
    "duration": 8,
    "start_time": "2021-12-05T09:01:56.133Z"
   },
   {
    "duration": 4,
    "start_time": "2021-12-05T09:01:56.308Z"
   },
   {
    "duration": 12,
    "start_time": "2021-12-05T09:01:59.582Z"
   },
   {
    "duration": 53,
    "start_time": "2021-12-05T09:01:59.596Z"
   },
   {
    "duration": 37,
    "start_time": "2021-12-05T09:01:59.653Z"
   },
   {
    "duration": 17,
    "start_time": "2021-12-05T09:01:59.693Z"
   },
   {
    "duration": 63,
    "start_time": "2021-12-05T09:01:59.712Z"
   },
   {
    "duration": 18,
    "start_time": "2021-12-05T09:01:59.777Z"
   },
   {
    "duration": 32,
    "start_time": "2021-12-05T09:01:59.797Z"
   },
   {
    "duration": 4,
    "start_time": "2021-12-05T09:01:59.831Z"
   },
   {
    "duration": 19,
    "start_time": "2021-12-05T09:01:59.839Z"
   },
   {
    "duration": 45,
    "start_time": "2021-12-05T09:01:59.860Z"
   },
   {
    "duration": 41,
    "start_time": "2021-12-05T09:01:59.908Z"
   },
   {
    "duration": 15,
    "start_time": "2021-12-05T09:01:59.951Z"
   },
   {
    "duration": 246,
    "start_time": "2021-12-05T09:01:59.968Z"
   },
   {
    "duration": 15,
    "start_time": "2021-12-05T09:02:00.217Z"
   },
   {
    "duration": 17,
    "start_time": "2021-12-05T09:02:00.235Z"
   },
   {
    "duration": 40,
    "start_time": "2021-12-05T09:02:01.483Z"
   },
   {
    "duration": 13,
    "start_time": "2021-12-05T09:02:01.669Z"
   },
   {
    "duration": 130,
    "start_time": "2021-12-05T09:08:12.455Z"
   },
   {
    "duration": 145,
    "start_time": "2021-12-05T09:14:01.401Z"
   }
  ],
  "kernelspec": {
   "display_name": "Python 3 (ipykernel)",
   "language": "python",
   "name": "python3"
  },
  "language_info": {
   "codemirror_mode": {
    "name": "ipython",
    "version": 3
   },
   "file_extension": ".py",
   "mimetype": "text/x-python",
   "name": "python",
   "nbconvert_exporter": "python",
   "pygments_lexer": "ipython3",
   "version": "3.9.5"
  },
  "notebookId": "4c690394-647a-4bcb-86e6-043cf0baeb60",
  "notebookPath": "project4.ipynb",
  "toc": {
   "base_numbering": 1,
   "nav_menu": {
    "height": "354px",
    "width": "249px"
   },
   "number_sections": true,
   "sideBar": true,
   "skip_h1_title": true,
   "title_cell": "Table of Contents",
   "title_sidebar": "Contents",
   "toc_cell": false,
   "toc_position": {},
   "toc_section_display": true,
   "toc_window_display": false
  }
 },
 "nbformat": 4,
 "nbformat_minor": 4
}
