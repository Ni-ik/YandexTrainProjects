{
 "cells": [
  {
   "cell_type": "markdown",
   "metadata": {},
   "source": [
    "# Исследование объявлений о продаже квартир\n",
    "\n",
    "В вашем распоряжении данные сервиса Яндекс.Недвижимость — архив объявлений о продаже квартир в Санкт-Петербурге и соседних населённых пунктах за несколько лет. Нужно научиться определять рыночную стоимость объектов недвижимости. Основная задача — установить параметры. Это позволит построить автоматизированную систему: она отследит аномалии и мошенническую деятельность. \n"
   ]
  },
  {
   "cell_type": "markdown",
   "metadata": {},
   "source": [
    "**Объект исcледования** \n",
    "\n",
    "Путь к файлу: `/datasets/real_estate_data.csv`\n",
    "\n",
    "По каждой квартире на продажу доступны два вида данных. Первые вписаны пользователем, вторые получены автоматически на основе картографических данных. Например, расстояние до центра, аэропорта, ближайшего парка и водоёма. \n",
    "\n"
   ]
  },
  {
   "cell_type": "markdown",
   "metadata": {},
   "source": [
    "**Цель исследования**\n",
    "\n",
    "Научиться определять рыночную стоимость объектов недвижимости."
   ]
  },
  {
   "cell_type": "markdown",
   "metadata": {},
   "source": [
    "**Сформулируем задачи, которые предполагается решить для достижения цели исследования**\n",
    "\n",
    "- Изучить время продажи квартиры\n",
    "- Определить, зависит ли цена от квадратного метра, числа комнат, этажа (первого или последнего), удалённости от центра. \n",
    "- Изучить зависимость от даты размещения: дня недели, месяца и года.\n",
    "- Определить 10 населённых пунктов с наибольшим числом объявлений. Посчитать среднюю цену квадратного метра в этих населённых пунктах. \n",
    "- Выделить населённые пункты с самой высокой и низкой стоимостью жилья.\n",
    "- Выяснить, какая область входит в центр Санкт-петербурга.Опредлить как цена зависит от удалённости от центра.\n",
    "- Выделить сегмент квартир в центре. Проанализировать эту территорию и изучить следующие параметры: площадь, цена, число комнат, высота потолков.\n",
    "- Также выделите факторы, которые влияют на стоимость квартиры (число комнат, этаж, удалённость от центра, дата размещения объявления)\n",
    "- Сравнить результаты для квартир в центре с общими результатами"
   ]
  },
  {
   "cell_type": "markdown",
   "metadata": {
    "toc": true
   },
   "source": [
    "<h1>Содержание<span class=\"tocSkip\"></span></h1>\n",
    "<div class=\"toc\"><ul class=\"toc-item\"><li><span><a href=\"#Изучение-данных-из-файла\" data-toc-modified-id=\"Изучение-данных-из-файла-1\"><span class=\"toc-item-num\">1&nbsp;&nbsp;</span>Изучение данных из файла</a></span><ul class=\"toc-item\"><li><span><a href=\"#Вывод\" data-toc-modified-id=\"Вывод-1.1\"><span class=\"toc-item-num\">1.1&nbsp;&nbsp;</span>Вывод</a></span></li></ul></li><li><span><a href=\"#Предобработка-данных\" data-toc-modified-id=\"Предобработка-данных-2\"><span class=\"toc-item-num\">2&nbsp;&nbsp;</span>Предобработка данных</a></span><ul class=\"toc-item\"><li><span><a href=\"#Вывод\" data-toc-modified-id=\"Вывод-2.1\"><span class=\"toc-item-num\">2.1&nbsp;&nbsp;</span>Вывод</a></span></li></ul></li><li><span><a href=\"#Расчёты-и-добавление-результатов-в-таблицу\" data-toc-modified-id=\"Расчёты-и-добавление-результатов-в-таблицу-3\"><span class=\"toc-item-num\">3&nbsp;&nbsp;</span>Расчёты и добавление результатов в таблицу</a></span><ul class=\"toc-item\"><li><span><a href=\"#Вывод\" data-toc-modified-id=\"Вывод-3.1\"><span class=\"toc-item-num\">3.1&nbsp;&nbsp;</span>Вывод</a></span></li></ul></li><li><span><a href=\"#Исследовательский-анализ-данных\" data-toc-modified-id=\"Исследовательский-анализ-данных-4\"><span class=\"toc-item-num\">4&nbsp;&nbsp;</span>Исследовательский анализ данных</a></span><ul class=\"toc-item\"><li><span><a href=\"#Общее-исследование\" data-toc-modified-id=\"Общее-исследование-4.1\"><span class=\"toc-item-num\">4.1&nbsp;&nbsp;</span>Общее исследование</a></span></li><li><span><a href=\"#Исследование-для-квартир-в-центре\" data-toc-modified-id=\"Исследование-для-квартир-в-центре-4.2\"><span class=\"toc-item-num\">4.2&nbsp;&nbsp;</span>Исследование для квартир в центре</a></span></li><li><span><a href=\"#Вывод\" data-toc-modified-id=\"Вывод-4.3\"><span class=\"toc-item-num\">4.3&nbsp;&nbsp;</span>Вывод</a></span></li></ul></li><li><span><a href=\"#Общий-вывод\" data-toc-modified-id=\"Общий-вывод-5\"><span class=\"toc-item-num\">5&nbsp;&nbsp;</span>Общий вывод</a></span></li><li><span><a href=\"#Чек-лист-готовности-проекта\" data-toc-modified-id=\"Чек-лист-готовности-проекта-6\"><span class=\"toc-item-num\">6&nbsp;&nbsp;</span>Чек-лист готовности проекта</a></span></li></ul></div>"
   ]
  },
  {
   "cell_type": "markdown",
   "metadata": {},
   "source": [
    "## Изучение данных из файла"
   ]
  },
  {
   "cell_type": "markdown",
   "metadata": {},
   "source": [
    "Импортируем `pandas`"
   ]
  },
  {
   "cell_type": "code",
   "execution_count": 2,
   "metadata": {},
   "outputs": [],
   "source": [
    "import pandas as pd"
   ]
  },
  {
   "cell_type": "markdown",
   "metadata": {},
   "source": [
    "Прочитаем файл `/datasets/real_estate_data.csv`"
   ]
  },
  {
   "cell_type": "code",
   "execution_count": 3,
   "metadata": {},
   "outputs": [],
   "source": [
    "df = pd.read_csv('/datasets/real_estate_data.csv', sep='\\t')"
   ]
  },
  {
   "cell_type": "markdown",
   "metadata": {},
   "source": [
    "Файл прочитался. Выведем на экран первые 5  строк файла."
   ]
  },
  {
   "cell_type": "code",
   "execution_count": 4,
   "metadata": {
    "scrolled": true
   },
   "outputs": [
    {
     "data": {
      "text/html": [
       "<div>\n",
       "<style scoped>\n",
       "    .dataframe tbody tr th:only-of-type {\n",
       "        vertical-align: middle;\n",
       "    }\n",
       "\n",
       "    .dataframe tbody tr th {\n",
       "        vertical-align: top;\n",
       "    }\n",
       "\n",
       "    .dataframe thead th {\n",
       "        text-align: right;\n",
       "    }\n",
       "</style>\n",
       "<table border=\"1\" class=\"dataframe\">\n",
       "  <thead>\n",
       "    <tr style=\"text-align: right;\">\n",
       "      <th></th>\n",
       "      <th>total_images</th>\n",
       "      <th>last_price</th>\n",
       "      <th>total_area</th>\n",
       "      <th>first_day_exposition</th>\n",
       "      <th>rooms</th>\n",
       "      <th>ceiling_height</th>\n",
       "      <th>floors_total</th>\n",
       "      <th>living_area</th>\n",
       "      <th>floor</th>\n",
       "      <th>is_apartment</th>\n",
       "      <th>...</th>\n",
       "      <th>kitchen_area</th>\n",
       "      <th>balcony</th>\n",
       "      <th>locality_name</th>\n",
       "      <th>airports_nearest</th>\n",
       "      <th>cityCenters_nearest</th>\n",
       "      <th>parks_around3000</th>\n",
       "      <th>parks_nearest</th>\n",
       "      <th>ponds_around3000</th>\n",
       "      <th>ponds_nearest</th>\n",
       "      <th>days_exposition</th>\n",
       "    </tr>\n",
       "  </thead>\n",
       "  <tbody>\n",
       "    <tr>\n",
       "      <td>0</td>\n",
       "      <td>20</td>\n",
       "      <td>13000000.0</td>\n",
       "      <td>108.0</td>\n",
       "      <td>2019-03-07T00:00:00</td>\n",
       "      <td>3</td>\n",
       "      <td>2.70</td>\n",
       "      <td>16.0</td>\n",
       "      <td>51.0</td>\n",
       "      <td>8</td>\n",
       "      <td>NaN</td>\n",
       "      <td>...</td>\n",
       "      <td>25.0</td>\n",
       "      <td>NaN</td>\n",
       "      <td>Санкт-Петербург</td>\n",
       "      <td>18863.0</td>\n",
       "      <td>16028.0</td>\n",
       "      <td>1.0</td>\n",
       "      <td>482.0</td>\n",
       "      <td>2.0</td>\n",
       "      <td>755.0</td>\n",
       "      <td>NaN</td>\n",
       "    </tr>\n",
       "    <tr>\n",
       "      <td>1</td>\n",
       "      <td>7</td>\n",
       "      <td>3350000.0</td>\n",
       "      <td>40.4</td>\n",
       "      <td>2018-12-04T00:00:00</td>\n",
       "      <td>1</td>\n",
       "      <td>NaN</td>\n",
       "      <td>11.0</td>\n",
       "      <td>18.6</td>\n",
       "      <td>1</td>\n",
       "      <td>NaN</td>\n",
       "      <td>...</td>\n",
       "      <td>11.0</td>\n",
       "      <td>2.0</td>\n",
       "      <td>посёлок Шушары</td>\n",
       "      <td>12817.0</td>\n",
       "      <td>18603.0</td>\n",
       "      <td>0.0</td>\n",
       "      <td>NaN</td>\n",
       "      <td>0.0</td>\n",
       "      <td>NaN</td>\n",
       "      <td>81.0</td>\n",
       "    </tr>\n",
       "    <tr>\n",
       "      <td>2</td>\n",
       "      <td>10</td>\n",
       "      <td>5196000.0</td>\n",
       "      <td>56.0</td>\n",
       "      <td>2015-08-20T00:00:00</td>\n",
       "      <td>2</td>\n",
       "      <td>NaN</td>\n",
       "      <td>5.0</td>\n",
       "      <td>34.3</td>\n",
       "      <td>4</td>\n",
       "      <td>NaN</td>\n",
       "      <td>...</td>\n",
       "      <td>8.3</td>\n",
       "      <td>0.0</td>\n",
       "      <td>Санкт-Петербург</td>\n",
       "      <td>21741.0</td>\n",
       "      <td>13933.0</td>\n",
       "      <td>1.0</td>\n",
       "      <td>90.0</td>\n",
       "      <td>2.0</td>\n",
       "      <td>574.0</td>\n",
       "      <td>558.0</td>\n",
       "    </tr>\n",
       "    <tr>\n",
       "      <td>3</td>\n",
       "      <td>0</td>\n",
       "      <td>64900000.0</td>\n",
       "      <td>159.0</td>\n",
       "      <td>2015-07-24T00:00:00</td>\n",
       "      <td>3</td>\n",
       "      <td>NaN</td>\n",
       "      <td>14.0</td>\n",
       "      <td>NaN</td>\n",
       "      <td>9</td>\n",
       "      <td>NaN</td>\n",
       "      <td>...</td>\n",
       "      <td>NaN</td>\n",
       "      <td>0.0</td>\n",
       "      <td>Санкт-Петербург</td>\n",
       "      <td>28098.0</td>\n",
       "      <td>6800.0</td>\n",
       "      <td>2.0</td>\n",
       "      <td>84.0</td>\n",
       "      <td>3.0</td>\n",
       "      <td>234.0</td>\n",
       "      <td>424.0</td>\n",
       "    </tr>\n",
       "    <tr>\n",
       "      <td>4</td>\n",
       "      <td>2</td>\n",
       "      <td>10000000.0</td>\n",
       "      <td>100.0</td>\n",
       "      <td>2018-06-19T00:00:00</td>\n",
       "      <td>2</td>\n",
       "      <td>3.03</td>\n",
       "      <td>14.0</td>\n",
       "      <td>32.0</td>\n",
       "      <td>13</td>\n",
       "      <td>NaN</td>\n",
       "      <td>...</td>\n",
       "      <td>41.0</td>\n",
       "      <td>NaN</td>\n",
       "      <td>Санкт-Петербург</td>\n",
       "      <td>31856.0</td>\n",
       "      <td>8098.0</td>\n",
       "      <td>2.0</td>\n",
       "      <td>112.0</td>\n",
       "      <td>1.0</td>\n",
       "      <td>48.0</td>\n",
       "      <td>121.0</td>\n",
       "    </tr>\n",
       "  </tbody>\n",
       "</table>\n",
       "<p>5 rows × 22 columns</p>\n",
       "</div>"
      ],
      "text/plain": [
       "   total_images  last_price  total_area first_day_exposition  rooms  \\\n",
       "0            20  13000000.0       108.0  2019-03-07T00:00:00      3   \n",
       "1             7   3350000.0        40.4  2018-12-04T00:00:00      1   \n",
       "2            10   5196000.0        56.0  2015-08-20T00:00:00      2   \n",
       "3             0  64900000.0       159.0  2015-07-24T00:00:00      3   \n",
       "4             2  10000000.0       100.0  2018-06-19T00:00:00      2   \n",
       "\n",
       "   ceiling_height  floors_total  living_area  floor is_apartment  ...  \\\n",
       "0            2.70          16.0         51.0      8          NaN  ...   \n",
       "1             NaN          11.0         18.6      1          NaN  ...   \n",
       "2             NaN           5.0         34.3      4          NaN  ...   \n",
       "3             NaN          14.0          NaN      9          NaN  ...   \n",
       "4            3.03          14.0         32.0     13          NaN  ...   \n",
       "\n",
       "   kitchen_area  balcony    locality_name  airports_nearest  \\\n",
       "0          25.0      NaN  Санкт-Петербург           18863.0   \n",
       "1          11.0      2.0   посёлок Шушары           12817.0   \n",
       "2           8.3      0.0  Санкт-Петербург           21741.0   \n",
       "3           NaN      0.0  Санкт-Петербург           28098.0   \n",
       "4          41.0      NaN  Санкт-Петербург           31856.0   \n",
       "\n",
       "  cityCenters_nearest  parks_around3000  parks_nearest  ponds_around3000  \\\n",
       "0             16028.0               1.0          482.0               2.0   \n",
       "1             18603.0               0.0            NaN               0.0   \n",
       "2             13933.0               1.0           90.0               2.0   \n",
       "3              6800.0               2.0           84.0               3.0   \n",
       "4              8098.0               2.0          112.0               1.0   \n",
       "\n",
       "   ponds_nearest  days_exposition  \n",
       "0          755.0              NaN  \n",
       "1            NaN             81.0  \n",
       "2          574.0            558.0  \n",
       "3          234.0            424.0  \n",
       "4           48.0            121.0  \n",
       "\n",
       "[5 rows x 22 columns]"
      ]
     },
     "execution_count": 4,
     "metadata": {},
     "output_type": "execute_result"
    }
   ],
   "source": [
    "df.head()"
   ]
  },
  {
   "cell_type": "markdown",
   "metadata": {},
   "source": [
    "Согласно исходным данным, в стобцах содержится следующая информация:"
   ]
  },
  {
   "cell_type": "markdown",
   "metadata": {},
   "source": [
    "`total_images` — число фотографий квартиры в объявлении\n",
    "\n",
    "`last_price` — цена на момент снятия с публикации\n",
    "\n",
    "`total_area` — площадь квартиры в квадратных метрах (м²)\n",
    "\n",
    "`first_day_exposition` — дата публикации\n",
    "\n",
    "`rooms` — число комнат\n",
    "\n",
    "`ceiling_height` — высота потолков (м)\n",
    "\n",
    "`floors_total` — всего этажей в доме\n",
    "\n",
    "`living_area` — жилая площадь в квадратных метрах (м²)\n",
    "\n",
    "`floor` — этаж\n",
    "\n",
    "`is_apartment` — апартаменты (булев тип)\n",
    "\n",
    "`studio` — квартира-студия (булев тип)\n",
    "\n",
    "`open_plan` — свободная планировка (булев тип)\n",
    "\n",
    "`kitchen_area` — площадь кухни в квадратных метрах (м²)\n",
    "\n",
    "`balcony` — число балконов\n",
    "\n",
    "`locality_name` — название населённого пункта\n",
    "\n",
    "`airports_nearest` — расстояние до ближайшего аэропорта в метрах (м)\n",
    "\n",
    "`cityCenters_nearest` — расстояние до центра города (м)\n",
    "\n",
    "`parks_around3000` — число парков в радиусе 3 км\n",
    "\n",
    "`parks_nearest` — расстояние до ближайшего парка (м)\n",
    "\n",
    "`ponds_around3000` — число водоёмов в радиусе 3 км\n",
    "\n",
    "`ponds_nearest` — расстояние до ближайшего водоёма (м)\n",
    "\n",
    "`days_exposition` — сколько дней было размещено объявление (от публикации до снятия)\n"
   ]
  },
  {
   "cell_type": "markdown",
   "metadata": {},
   "source": [
    "Видно, что в столбцах встречаются пропуски. Название `cityCenters_nearest` лучше переименовать в `city_centers_nearest`. С этим будем работать на этапе предобработки данных. \n",
    "Выведем информацию о таблице."
   ]
  },
  {
   "cell_type": "code",
   "execution_count": 5,
   "metadata": {
    "scrolled": true
   },
   "outputs": [
    {
     "name": "stdout",
     "output_type": "stream",
     "text": [
      "<class 'pandas.core.frame.DataFrame'>\n",
      "RangeIndex: 23699 entries, 0 to 23698\n",
      "Data columns (total 22 columns):\n",
      "total_images            23699 non-null int64\n",
      "last_price              23699 non-null float64\n",
      "total_area              23699 non-null float64\n",
      "first_day_exposition    23699 non-null object\n",
      "rooms                   23699 non-null int64\n",
      "ceiling_height          14504 non-null float64\n",
      "floors_total            23613 non-null float64\n",
      "living_area             21796 non-null float64\n",
      "floor                   23699 non-null int64\n",
      "is_apartment            2775 non-null object\n",
      "studio                  23699 non-null bool\n",
      "open_plan               23699 non-null bool\n",
      "kitchen_area            21421 non-null float64\n",
      "balcony                 12180 non-null float64\n",
      "locality_name           23650 non-null object\n",
      "airports_nearest        18157 non-null float64\n",
      "cityCenters_nearest     18180 non-null float64\n",
      "parks_around3000        18181 non-null float64\n",
      "parks_nearest           8079 non-null float64\n",
      "ponds_around3000        18181 non-null float64\n",
      "ponds_nearest           9110 non-null float64\n",
      "days_exposition         20518 non-null float64\n",
      "dtypes: bool(2), float64(14), int64(3), object(3)\n",
      "memory usage: 3.7+ MB\n"
     ]
    }
   ],
   "source": [
    "df.info() "
   ]
  },
  {
   "cell_type": "markdown",
   "metadata": {},
   "source": [
    "Количество строк (записей) - 23699. Пригодится для проверки сумм при обработке данных. Пропусков достаточно много в разных колонках. Данные в колонке `first_day_exposition` указаны как `object`, но удобнее будет работать с `datetime`. "
   ]
  },
  {
   "cell_type": "markdown",
   "metadata": {},
   "source": [
    "### Вывод"
   ]
  },
  {
   "cell_type": "markdown",
   "metadata": {},
   "source": [
    "Файл прочитался без ошибок и названия столбцов соответствуют описанию. В таблице присутствуют пропуски. Особенно критично наличие пропусков в столбце с названием населённого пункта и расстоянием до центра. Неплохо бы изменить название столбца с расстоянием до центра города и выполнить преобразование типов в колонках для удобства работы. Этим займёмся на этапе предобработки данных."
   ]
  },
  {
   "cell_type": "markdown",
   "metadata": {},
   "source": [
    "## Предобработка данных"
   ]
  },
  {
   "cell_type": "markdown",
   "metadata": {},
   "source": [
    "Для начала переименуем столбец `cityCenters_nearest` в `city_centers_nearest`. Для этого запросим"
   ]
  },
  {
   "cell_type": "code",
   "execution_count": 6,
   "metadata": {
    "scrolled": true
   },
   "outputs": [],
   "source": [
    "df = df.rename({'cityCenters_nearest':'city_centers_nearest'}, axis=1)"
   ]
  },
  {
   "cell_type": "markdown",
   "metadata": {},
   "source": [
    "Получим список столбцов и проверим"
   ]
  },
  {
   "cell_type": "code",
   "execution_count": 7,
   "metadata": {
    "scrolled": false
   },
   "outputs": [
    {
     "data": {
      "text/plain": [
       "Index(['total_images', 'last_price', 'total_area', 'first_day_exposition',\n",
       "       'rooms', 'ceiling_height', 'floors_total', 'living_area', 'floor',\n",
       "       'is_apartment', 'studio', 'open_plan', 'kitchen_area', 'balcony',\n",
       "       'locality_name', 'airports_nearest', 'city_centers_nearest',\n",
       "       'parks_around3000', 'parks_nearest', 'ponds_around3000',\n",
       "       'ponds_nearest', 'days_exposition'],\n",
       "      dtype='object')"
      ]
     },
     "execution_count": 7,
     "metadata": {},
     "output_type": "execute_result"
    }
   ],
   "source": [
    "df.columns"
   ]
  },
  {
   "cell_type": "markdown",
   "metadata": {},
   "source": [
    "Теперь займёмся непосредственно предобработкой. Данные в колонке `first_day_exposition` указаны как `object`, но удобнее будет работать с `datetime`. Пропусков в колонке нет."
   ]
  },
  {
   "cell_type": "code",
   "execution_count": 8,
   "metadata": {},
   "outputs": [],
   "source": [
    "df['first_day_exposition'] = pd.to_datetime(df['first_day_exposition'], format='%Y-%m-%dT%H:%M:%S')"
   ]
  },
  {
   "cell_type": "markdown",
   "metadata": {},
   "source": [
    "Проверим, что получилось."
   ]
  },
  {
   "cell_type": "code",
   "execution_count": 9,
   "metadata": {
    "scrolled": false
   },
   "outputs": [
    {
     "data": {
      "text/plain": [
       "10132   2014-11-27\n",
       "8393    2014-11-27\n",
       "15857   2014-11-27\n",
       "2831    2014-11-27\n",
       "696     2014-11-27\n",
       "           ...    \n",
       "10917   2019-05-03\n",
       "5986    2019-05-03\n",
       "9217    2019-05-03\n",
       "21887   2019-05-03\n",
       "15072   2019-05-03\n",
       "Name: first_day_exposition, Length: 23699, dtype: datetime64[ns]"
      ]
     },
     "execution_count": 9,
     "metadata": {},
     "output_type": "execute_result"
    }
   ],
   "source": [
    "df['first_day_exposition'].sort_values()"
   ]
  },
  {
   "cell_type": "markdown",
   "metadata": {},
   "source": [
    "Столбец с временем размещения выглядит правдоподобно с 2014 по 2019 годы. Что касается времени, то проверим столбец `days_exposition`, в котором встрtчаются пропуски."
   ]
  },
  {
   "cell_type": "code",
   "execution_count": 10,
   "metadata": {
    "scrolled": true
   },
   "outputs": [
    {
     "data": {
      "text/plain": [
       "773.0        1\n",
       "681.0        1\n",
       "699.0        1\n",
       "1006.0       1\n",
       "1497.0       1\n",
       "          ... \n",
       "30.0       208\n",
       "7.0        234\n",
       "60.0       538\n",
       "45.0       880\n",
       "NaN       3181\n",
       "Name: days_exposition, Length: 1142, dtype: int64"
      ]
     },
     "execution_count": 10,
     "metadata": {},
     "output_type": "execute_result"
    }
   ],
   "source": [
    "df['days_exposition'].value_counts(dropna=False).sort_values()"
   ]
  },
  {
   "cell_type": "markdown",
   "metadata": {},
   "source": [
    "Из записи выше видно, что отсутствуют объявления, у которых время от выставления до продажи 0 дней. Т.е. не прошло и суток с выставления до продажи. Так отсутствует доступ к логике работы объявлений, то можем предполагать следующее. \n",
    "Либо 0 заменили NaN при расчёте параметра, либо квартира так и не была куплена и продолжала быть в активном объявлении. Либо была куплена, но объявление не сняли."
   ]
  },
  {
   "cell_type": "markdown",
   "metadata": {},
   "source": [
    "Для начала предположим, что эти квартиры покупались быстро, значит логично ожидать, что стоимость таких квартир в основной своей массе должна быть ниже средней по рынку. Для этого добавим показатель `price_per_area`, который показывает стоимость за м.кв. общей площади квартиры"
   ]
  },
  {
   "cell_type": "code",
   "execution_count": 11,
   "metadata": {},
   "outputs": [],
   "source": [
    "df['price_per_area']=df['last_price']/df['total_area']"
   ]
  },
  {
   "cell_type": "markdown",
   "metadata": {},
   "source": [
    "Если квартиры продались очень быстро, то их показатель стоимости за м.кв. ожидается ниже, чем средние показатели для квартир, которые продали за 5 дней. Сравним основные показатели для квартир с пропусками в `days_exposition` и без пропусков."
   ]
  },
  {
   "cell_type": "code",
   "execution_count": 12,
   "metadata": {
    "scrolled": false
   },
   "outputs": [
    {
     "data": {
      "text/plain": [
       "count    2.691000e+03\n",
       "mean     8.300213e+03\n",
       "std      2.182371e+04\n",
       "min     -6.002040e+03\n",
       "25%     -1.888500e+03\n",
       "50%      7.083289e+03\n",
       "75%      1.596418e+04\n",
       "max      1.079860e+06\n",
       "Name: price_per_area, dtype: float64"
      ]
     },
     "execution_count": 12,
     "metadata": {},
     "output_type": "execute_result"
    }
   ],
   "source": [
    "df[df['days_exposition'].isna()]['price_per_area'].describe()-df[df['days_exposition']<=5]['price_per_area'].describe()"
   ]
  },
  {
   "cell_type": "markdown",
   "metadata": {},
   "source": [
    "Положительные показатели указывают на то, что цена за метр в строках с пропущенным к-вом дней несколько завышена. Дополнительно проверим распределение продаж квартир по дням. Для примера рассмотрим, как квартиры продавались в течение года"
   ]
  },
  {
   "cell_type": "code",
   "execution_count": 13,
   "metadata": {
    "scrolled": true
   },
   "outputs": [
    {
     "data": {
      "text/plain": [
       "<matplotlib.axes._subplots.AxesSubplot at 0x7f8de57d2390>"
      ]
     },
     "execution_count": 13,
     "metadata": {},
     "output_type": "execute_result"
    },
    {
     "data": {
      "image/png": "[encoded data removed]",
      "text/plain": [
       "<Figure size 432x288 with 1 Axes>"
      ]
     },
     "metadata": {
      "needs_background": "light"
     },
     "output_type": "display_data"
    }
   ],
   "source": [
    "df['days_exposition'].hist(bins=100, range=(0,365))"
   ]
  },
  {
   "cell_type": "markdown",
   "metadata": {},
   "source": [
    "Видим, что есть несколько значений, которые выбиваются из общей картины. \n",
    "Но если бы большое к-во квартир продалось за время, равное 0 дням, то общая картина испортилась ещё хуже.\n",
    "Поэтому логично предполагаем, что обявления с пропусками в `days_exposition` были активными на момент выгрузки данных. Это могут быть как свежие объявления, так и старые объявления у которых завышены цены. Заменим такие значения на медиану. При проведении аналитики далее, учтём эту замену."
   ]
  },
  {
   "cell_type": "code",
   "execution_count": 14,
   "metadata": {},
   "outputs": [],
   "source": [
    "df.loc[df['days_exposition'].isna(), 'days_exposition'] = df['days_exposition'].median()"
   ]
  },
  {
   "cell_type": "markdown",
   "metadata": {},
   "source": [
    "Теперь займёмся данными ,которые получили автоматически из картографических сервисов - расстояния и к-во прудов и парков."
   ]
  },
  {
   "cell_type": "markdown",
   "metadata": {},
   "source": [
    "Посмотрим, какое количество водоёмов у квартир, у которых пропуски в стобце `ponds_nearest` - расстояние до водоёма."
   ]
  },
  {
   "cell_type": "code",
   "execution_count": 15,
   "metadata": {
    "scrolled": false
   },
   "outputs": [
    {
     "data": {
      "text/plain": [
       "0.0    9071\n",
       "NaN    5518\n",
       "Name: ponds_around3000, dtype: int64"
      ]
     },
     "execution_count": 15,
     "metadata": {},
     "output_type": "execute_result"
    }
   ],
   "source": [
    "df[df['ponds_nearest'].isna()]['ponds_around3000'].value_counts(dropna=False)"
   ]
  },
  {
   "cell_type": "markdown",
   "metadata": {},
   "source": [
    "Видим, что если есть пропуск в столбце `ponds_nearest`, то имеем либо пропуск либо 0 в солбце с к-вом водоёмов. Логично заменить пропуски на 0. Если расстояние до парка превышает 3000м, значит вдоёмов поблизости нет. Пропуски судя по всему обусловлены работой сайта с объявлениями."
   ]
  },
  {
   "cell_type": "code",
   "execution_count": 16,
   "metadata": {
    "scrolled": true
   },
   "outputs": [],
   "source": [
    "df['ponds_around3000'] = df['ponds_around3000'].fillna(0)"
   ]
  },
  {
   "cell_type": "markdown",
   "metadata": {},
   "source": [
    "Для того, чтобы заменить пропуски в столбце с расстоянием до водоёма, посмотрим информацию о столбце"
   ]
  },
  {
   "cell_type": "code",
   "execution_count": 17,
   "metadata": {},
   "outputs": [
    {
     "data": {
      "text/plain": [
       "count    9110.000000\n",
       "mean      517.980900\n",
       "std       277.720643\n",
       "min        13.000000\n",
       "25%       294.000000\n",
       "50%       502.000000\n",
       "75%       729.000000\n",
       "max      1344.000000\n",
       "Name: ponds_nearest, dtype: float64"
      ]
     },
     "execution_count": 17,
     "metadata": {},
     "output_type": "execute_result"
    }
   ],
   "source": [
    "df['ponds_nearest'].describe()"
   ]
  },
  {
   "cell_type": "markdown",
   "metadata": {},
   "source": [
    "Максимальное расстояние не превышает 1344м. Значит заменим пропуски числом 3000. И будем учитывать как 3000 и более метров до водоёма. "
   ]
  },
  {
   "cell_type": "code",
   "execution_count": 18,
   "metadata": {},
   "outputs": [],
   "source": [
    "df['ponds_nearest'] = df['ponds_nearest'].fillna(3000)"
   ]
  },
  {
   "cell_type": "markdown",
   "metadata": {},
   "source": [
    "Аналогично поступаем с парками. Посмотрим, какое количество парков у квартир, у которых пропуски в стобце `parks_nearest` - расстояние до парка."
   ]
  },
  {
   "cell_type": "code",
   "execution_count": 19,
   "metadata": {
    "scrolled": false
   },
   "outputs": [
    {
     "data": {
      "text/plain": [
       "0.0    10102\n",
       "NaN     5518\n",
       "Name: parks_around3000, dtype: int64"
      ]
     },
     "execution_count": 19,
     "metadata": {},
     "output_type": "execute_result"
    }
   ],
   "source": [
    "df[df['parks_nearest'].isna()]['parks_around3000'].value_counts(dropna=False)"
   ]
  },
  {
   "cell_type": "markdown",
   "metadata": {},
   "source": [
    "Аналогичными рассуждениями с водоёмами заменям пропуски прудов нулями"
   ]
  },
  {
   "cell_type": "code",
   "execution_count": 20,
   "metadata": {},
   "outputs": [],
   "source": [
    "df['parks_around3000'] = df['parks_around3000'].fillna(0)"
   ]
  },
  {
   "cell_type": "code",
   "execution_count": 21,
   "metadata": {
    "scrolled": true
   },
   "outputs": [
    {
     "data": {
      "text/plain": [
       "0.0    15620\n",
       "Name: parks_around3000, dtype: int64"
      ]
     },
     "execution_count": 21,
     "metadata": {},
     "output_type": "execute_result"
    }
   ],
   "source": [
    "df[df['parks_nearest'].isna()]['parks_around3000'].value_counts(dropna=False)"
   ]
  },
  {
   "cell_type": "markdown",
   "metadata": {},
   "source": [
    "Просмотрим информацию о расстоянии до парка"
   ]
  },
  {
   "cell_type": "code",
   "execution_count": 22,
   "metadata": {
    "scrolled": false
   },
   "outputs": [
    {
     "data": {
      "text/plain": [
       "count    8079.000000\n",
       "mean      490.804555\n",
       "std       342.317995\n",
       "min         1.000000\n",
       "25%       288.000000\n",
       "50%       455.000000\n",
       "75%       612.000000\n",
       "max      3190.000000\n",
       "Name: parks_nearest, dtype: float64"
      ]
     },
     "execution_count": 22,
     "metadata": {},
     "output_type": "execute_result"
    }
   ],
   "source": [
    "df['parks_nearest'].describe()"
   ]
  },
  {
   "cell_type": "markdown",
   "metadata": {},
   "source": [
    "Интересно, что есть расстояния больше 3000м. Посмотрим, сколько их и сколько там указано парков."
   ]
  },
  {
   "cell_type": "code",
   "execution_count": 23,
   "metadata": {
    "scrolled": true
   },
   "outputs": [
    {
     "data": {
      "text/plain": [
       "0.0    4\n",
       "Name: parks_around3000, dtype: int64"
      ]
     },
     "execution_count": 23,
     "metadata": {},
     "output_type": "execute_result"
    }
   ],
   "source": [
    "df[df['parks_nearest']>3000]['parks_around3000'].value_counts()"
   ]
  },
  {
   "cell_type": "markdown",
   "metadata": {},
   "source": [
    "4 записи в которых 0 парков. Записей не много. Тогда пропуски с расстоянием до парка заполним расстоянием 3200м, а при анализе эти 4 попадут в группу (более 3000м до парка)."
   ]
  },
  {
   "cell_type": "code",
   "execution_count": 24,
   "metadata": {},
   "outputs": [],
   "source": [
    "df['parks_nearest'] = df['parks_nearest'].fillna(3200)"
   ]
  },
  {
   "cell_type": "markdown",
   "metadata": {},
   "source": [
    "Далее разберёмся с пропусками в солбце с балконами. Посмотрим, какие значения принимает параметр."
   ]
  },
  {
   "cell_type": "code",
   "execution_count": 25,
   "metadata": {},
   "outputs": [
    {
     "data": {
      "text/plain": [
       "NaN    11519\n",
       "1.0     4195\n",
       "0.0     3758\n",
       "2.0     3659\n",
       "5.0      304\n",
       "4.0      183\n",
       "3.0       81\n",
       "Name: balcony, dtype: int64"
      ]
     },
     "execution_count": 25,
     "metadata": {},
     "output_type": "execute_result"
    }
   ],
   "source": [
    "df['balcony'].value_counts(dropna=False)"
   ]
  },
  {
   "cell_type": "markdown",
   "metadata": {},
   "source": [
    "Получается, что квартир, где 1 балкон больше, квартир без балкона. Судя по всему поле балкон оставили незаполненным при отсутствии балкона. Заполним пропуск"
   ]
  },
  {
   "cell_type": "code",
   "execution_count": 26,
   "metadata": {},
   "outputs": [],
   "source": [
    "df['balcony'] = df['balcony'].fillna(0)"
   ]
  },
  {
   "cell_type": "markdown",
   "metadata": {},
   "source": [
    "Заполним пропуск в столбце `is_apartment`. Посмотрим, какие значения принмает параметр."
   ]
  },
  {
   "cell_type": "code",
   "execution_count": 27,
   "metadata": {
    "scrolled": true
   },
   "outputs": [
    {
     "data": {
      "text/plain": [
       "NaN      20924\n",
       "False     2725\n",
       "True        50\n",
       "Name: is_apartment, dtype: int64"
      ]
     },
     "execution_count": 27,
     "metadata": {},
     "output_type": "execute_result"
    }
   ],
   "source": [
    "df['is_apartment'].value_counts(dropna=False)"
   ]
  },
  {
   "cell_type": "markdown",
   "metadata": {},
   "source": [
    "Судя по всему в поле опять не выбрано значение. Вероятно, что по умолчанию значение должно быть `False`"
   ]
  },
  {
   "cell_type": "code",
   "execution_count": 28,
   "metadata": {},
   "outputs": [],
   "source": [
    "df['is_apartment'] = df['is_apartment'].fillna(False)"
   ]
  },
  {
   "cell_type": "code",
   "execution_count": 29,
   "metadata": {
    "scrolled": true
   },
   "outputs": [
    {
     "data": {
      "text/plain": [
       "26.00    1\n",
       "3.88     1\n",
       "3.29     1\n",
       "3.83     1\n",
       "3.58     1\n",
       "Name: ceiling_height, dtype: int64"
      ]
     },
     "execution_count": 29,
     "metadata": {},
     "output_type": "execute_result"
    }
   ],
   "source": [
    "df['ceiling_height'].value_counts(dropna=False).tail()"
   ]
  },
  {
   "cell_type": "markdown",
   "metadata": {},
   "source": [
    "Посмотрим какие занчения принимает высота потолков"
   ]
  },
  {
   "cell_type": "code",
   "execution_count": 30,
   "metadata": {
    "scrolled": true
   },
   "outputs": [
    {
     "data": {
      "text/plain": [
       "array([  1.  ,   1.2 ,   1.75,   2.  ,   2.2 ,   2.25,   2.3 ,   2.34,\n",
       "         2.4 ,   2.45,   2.46,   2.47,   2.48,   2.49,   2.5 ,   2.51,\n",
       "         2.52,   2.53,   2.54,   2.55,   2.56,   2.57,   2.58,   2.59,\n",
       "         2.6 ,   2.61,   2.62,   2.63,   2.64,   2.65,   2.66,   2.67,\n",
       "         2.68,   2.69,   2.7 ,   2.71,   2.72,   2.73,   2.74,   2.75,\n",
       "         2.76,   2.77,   2.78,   2.79,   2.8 ,   2.81,   2.82,   2.83,\n",
       "         2.84,   2.85,   2.86,   2.87,   2.88,   2.89,   2.9 ,   2.91,\n",
       "         2.92,   2.93,   2.94,   2.95,   2.96,   2.97,   2.98,   2.99,\n",
       "         3.  ,   3.01,   3.02,   3.03,   3.04,   3.05,   3.06,   3.07,\n",
       "         3.08,   3.09,   3.1 ,   3.11,   3.12,   3.13,   3.14,   3.15,\n",
       "         3.16,   3.17,   3.18,   3.2 ,   3.21,   3.22,   3.23,   3.24,\n",
       "         3.25,   3.26,   3.27,   3.28,   3.29,   3.3 ,   3.31,   3.32,\n",
       "         3.33,   3.34,   3.35,   3.36,   3.37,   3.38,   3.39,   3.4 ,\n",
       "         3.42,   3.43,   3.44,   3.45,   3.46,   3.47,   3.48,   3.49,\n",
       "         3.5 ,   3.51,   3.52,   3.53,   3.54,   3.55,   3.56,   3.57,\n",
       "         3.58,   3.59,   3.6 ,   3.62,   3.63,   3.65,   3.66,   3.67,\n",
       "         3.68,   3.69,   3.7 ,   3.75,   3.76,   3.78,   3.8 ,   3.82,\n",
       "         3.83,   3.84,   3.85,   3.86,   3.87,   3.88,   3.9 ,   3.93,\n",
       "         3.95,   3.98,   4.  ,   4.06,   4.1 ,   4.14,   4.15,   4.19,\n",
       "         4.2 ,   4.25,   4.3 ,   4.37,   4.4 ,   4.45,   4.5 ,   4.65,\n",
       "         4.7 ,   4.8 ,   4.9 ,   5.  ,   5.2 ,   5.3 ,   5.5 ,   5.6 ,\n",
       "         5.8 ,   6.  ,   8.  ,   8.3 ,  10.3 ,  14.  ,  20.  ,  22.6 ,\n",
       "        24.  ,  25.  ,  26.  ,  27.  ,  27.5 ,  32.  , 100.  ,    nan])"
      ]
     },
     "execution_count": 30,
     "metadata": {},
     "output_type": "execute_result"
    }
   ],
   "source": [
    "df['ceiling_height'].sort_values().unique()"
   ]
  },
  {
   "cell_type": "markdown",
   "metadata": {},
   "source": [
    "Есть странные значения - 1 м. Думаю следует заменить высоту потолков медианным занчением, если она ниже 2 метров.\n",
    "Также есть очень большие значения - 14 и более метров. Судя по всему какая-то ошибка. Значения 20, 22.6 и так далее скорее всего ошиблись в записи на разряд. Заменим эти значения следующим образом. Для начала все значения, где высота более 20 метров поделим  на 10. "
   ]
  },
  {
   "cell_type": "code",
   "execution_count": 31,
   "metadata": {},
   "outputs": [],
   "source": [
    "df.loc[df['ceiling_height']>=20, 'ceiling_height'] = df['ceiling_height']/10"
   ]
  },
  {
   "cell_type": "markdown",
   "metadata": {},
   "source": [
    "Потом все значения, что меньше 2 метров и больше 10 заменим медианным значением. "
   ]
  },
  {
   "cell_type": "code",
   "execution_count": 32,
   "metadata": {},
   "outputs": [],
   "source": [
    "df.loc[(df['ceiling_height']>=10) | (df['ceiling_height']<2) , 'ceiling_height'] = df['ceiling_height'].median()"
   ]
  },
  {
   "cell_type": "code",
   "execution_count": 33,
   "metadata": {},
   "outputs": [],
   "source": [
    "df['ceiling_height'] = df['ceiling_height'].fillna(df['ceiling_height'].median())"
   ]
  },
  {
   "cell_type": "markdown",
   "metadata": {},
   "source": [
    "Проверяем результат"
   ]
  },
  {
   "cell_type": "code",
   "execution_count": 34,
   "metadata": {
    "scrolled": false
   },
   "outputs": [
    {
     "data": {
      "text/plain": [
       "array([2.  , 2.2 , 2.25, 2.26, 2.3 , 2.34, 2.4 , 2.45, 2.46, 2.47, 2.48,\n",
       "       2.49, 2.5 , 2.51, 2.52, 2.53, 2.54, 2.55, 2.56, 2.57, 2.58, 2.59,\n",
       "       2.6 , 2.61, 2.62, 2.63, 2.64, 2.65, 2.66, 2.67, 2.68, 2.69, 2.7 ,\n",
       "       2.71, 2.72, 2.73, 2.74, 2.75, 2.76, 2.77, 2.78, 2.79, 2.8 , 2.81,\n",
       "       2.82, 2.83, 2.84, 2.85, 2.86, 2.87, 2.88, 2.89, 2.9 , 2.91, 2.92,\n",
       "       2.93, 2.94, 2.95, 2.96, 2.97, 2.98, 2.99, 3.  , 3.01, 3.02, 3.03,\n",
       "       3.04, 3.05, 3.06, 3.07, 3.08, 3.09, 3.1 , 3.11, 3.12, 3.13, 3.14,\n",
       "       3.15, 3.16, 3.17, 3.18, 3.2 , 3.21, 3.22, 3.23, 3.24, 3.25, 3.26,\n",
       "       3.27, 3.28, 3.29, 3.3 , 3.31, 3.32, 3.33, 3.34, 3.35, 3.36, 3.37,\n",
       "       3.38, 3.39, 3.4 , 3.42, 3.43, 3.44, 3.45, 3.46, 3.47, 3.48, 3.49,\n",
       "       3.5 , 3.51, 3.52, 3.53, 3.54, 3.55, 3.56, 3.57, 3.58, 3.59, 3.6 ,\n",
       "       3.62, 3.63, 3.65, 3.66, 3.67, 3.68, 3.69, 3.7 , 3.75, 3.76, 3.78,\n",
       "       3.8 , 3.82, 3.83, 3.84, 3.85, 3.86, 3.87, 3.88, 3.9 , 3.93, 3.95,\n",
       "       3.98, 4.  , 4.06, 4.1 , 4.14, 4.15, 4.19, 4.2 , 4.25, 4.3 , 4.37,\n",
       "       4.4 , 4.45, 4.5 , 4.65, 4.7 , 4.8 , 4.9 , 5.  , 5.2 , 5.3 , 5.5 ,\n",
       "       5.6 , 5.8 , 6.  , 8.  , 8.3 ])"
      ]
     },
     "execution_count": 34,
     "metadata": {},
     "output_type": "execute_result"
    }
   ],
   "source": [
    "df['ceiling_height'].sort_values().unique()"
   ]
  },
  {
   "cell_type": "markdown",
   "metadata": {},
   "source": [
    "Всё вышло. Теперь посмотрим значения в столбце с высотами этажей."
   ]
  },
  {
   "cell_type": "code",
   "execution_count": 35,
   "metadata": {
    "scrolled": false
   },
   "outputs": [
    {
     "data": {
      "text/plain": [
       "array([ 1.,  2.,  3.,  4.,  5.,  6.,  7.,  8.,  9., 10., 11., 12., 13.,\n",
       "       14., 15., 16., 17., 18., 19., 20., 21., 22., 23., 24., 25., 26.,\n",
       "       27., 28., 29., 33., 34., 35., 36., 37., 52., 60., nan])"
      ]
     },
     "execution_count": 35,
     "metadata": {},
     "output_type": "execute_result"
    }
   ],
   "source": [
    "df['floors_total'].sort_values().unique()"
   ]
  },
  {
   "cell_type": "markdown",
   "metadata": {},
   "source": [
    "Бывают здания и высотой в 60 этажей. Здесь скорее всего придётся заменить количество этажей значением, которое будет явно выбиваться. Например -1. Это даст возможно исключить эти значения при аналитических расчётах."
   ]
  },
  {
   "cell_type": "code",
   "execution_count": 36,
   "metadata": {
    "scrolled": true
   },
   "outputs": [],
   "source": [
    "df['floors_total'] = df['floors_total'].fillna(-1)"
   ]
  },
  {
   "cell_type": "markdown",
   "metadata": {},
   "source": [
    "Посмотрим на значения в графе жилая площадь. "
   ]
  },
  {
   "cell_type": "code",
   "execution_count": 37,
   "metadata": {
    "scrolled": true
   },
   "outputs": [
    {
     "data": {
      "text/plain": [
       "array([  2. ,   3. ,   5. , ..., 409. , 409.7,   nan])"
      ]
     },
     "execution_count": 37,
     "metadata": {},
     "output_type": "execute_result"
    }
   ],
   "source": [
    "df['living_area'].sort_values().unique()"
   ]
  },
  {
   "cell_type": "markdown",
   "metadata": {},
   "source": [
    "Значения разняться от 2 до 409.7. И есть пропуски. Допускаем, что такие площади могут быть. Столбец для нас не самый критичный. Какие-то данные мы сожем из него получит. Пропуски заменим на -1. Это также даст возможно исключить эти значения при аналитических расчётах, которые связаны с жилой площадью."
   ]
  },
  {
   "cell_type": "code",
   "execution_count": 38,
   "metadata": {},
   "outputs": [],
   "source": [
    "df['living_area'] = df['living_area'].fillna(-1)"
   ]
  },
  {
   "cell_type": "markdown",
   "metadata": {},
   "source": [
    "Посмотрим на значения в графе площадь кухни."
   ]
  },
  {
   "cell_type": "code",
   "execution_count": 39,
   "metadata": {},
   "outputs": [
    {
     "data": {
      "text/plain": [
       "array([  1.3 ,   2.  ,   2.3 ,   2.4 ,   2.89,   3.  ,   3.2 ,   3.3 ,\n",
       "         3.4 ,   3.5 ,   3.7 ,   3.8 ,   4.  ,   4.1 ,   4.2 ,   4.3 ,\n",
       "         4.4 ,   4.5 ,   4.6 ,   4.7 ,   4.8 ,   4.9 ,   5.  ,   5.04,\n",
       "         5.06,   5.1 ,   5.14,   5.2 ,   5.21,   5.23,   5.25,   5.28,\n",
       "         5.29,   5.3 ,   5.31,   5.33,   5.35,   5.4 ,   5.42,   5.44,\n",
       "         5.47,   5.49,   5.5 ,   5.53,   5.59,   5.6 ,   5.61,   5.62,\n",
       "         5.64,   5.65,   5.68,   5.7 ,   5.74,   5.75,   5.78,   5.8 ,\n",
       "         5.82,   5.85,   5.86,   5.9 ,   5.91,   6.  ,   6.02,   6.03,\n",
       "         6.1 ,   6.16,   6.19,   6.2 ,   6.22,   6.23,   6.24,   6.25,\n",
       "         6.26,   6.27,   6.28,   6.3 ,   6.31,   6.33,   6.35,   6.36,\n",
       "         6.37,   6.4 ,   6.47,   6.5 ,   6.55,   6.58,   6.6 ,   6.61,\n",
       "         6.62,   6.65,   6.7 ,   6.72,   6.73,   6.76,   6.77,   6.8 ,\n",
       "         6.82,   6.83,   6.84,   6.86,   6.9 ,   6.91,   6.93,   6.95,\n",
       "         7.  ,   7.02,   7.03,   7.06,   7.09,   7.1 ,   7.12,   7.15,\n",
       "         7.17,   7.18,   7.19,   7.2 ,   7.3 ,   7.36,   7.4 ,   7.41,\n",
       "         7.48,   7.5 ,   7.54,   7.6 ,   7.63,   7.65,   7.7 ,   7.71,\n",
       "         7.78,   7.8 ,   7.84,   7.85,   7.86,   7.87,   7.89,   7.9 ,\n",
       "         7.92,   7.94,   7.95,   7.97,   8.  ,   8.01,   8.02,   8.03,\n",
       "         8.05,   8.06,   8.07,   8.08,   8.09,   8.1 ,   8.11,   8.12,\n",
       "         8.13,   8.15,   8.18,   8.19,   8.2 ,   8.21,   8.23,   8.25,\n",
       "         8.29,   8.3 ,   8.31,   8.32,   8.34,   8.35,   8.38,   8.4 ,\n",
       "         8.43,   8.44,   8.45,   8.47,   8.48,   8.5 ,   8.52,   8.54,\n",
       "         8.57,   8.58,   8.6 ,   8.61,   8.63,   8.65,   8.66,   8.67,\n",
       "         8.69,   8.7 ,   8.71,   8.73,   8.76,   8.77,   8.8 ,   8.81,\n",
       "         8.82,   8.84,   8.85,   8.87,   8.9 ,   8.93,   8.94,   8.95,\n",
       "         8.96,   8.98,   9.  ,   9.01,   9.04,   9.05,   9.06,   9.08,\n",
       "         9.09,   9.1 ,   9.11,   9.13,   9.16,   9.17,   9.18,   9.19,\n",
       "         9.2 ,   9.22,   9.24,   9.25,   9.26,   9.27,   9.28,   9.3 ,\n",
       "         9.31,   9.32,   9.34,   9.35,   9.36,   9.37,   9.38,   9.39,\n",
       "         9.4 ,   9.42,   9.43,   9.44,   9.45,   9.46,   9.48,   9.5 ,\n",
       "         9.51,   9.52,   9.57,   9.58,   9.59,   9.6 ,   9.62,   9.65,\n",
       "         9.66,   9.67,   9.68,   9.7 ,   9.71,   9.72,   9.73,   9.75,\n",
       "         9.76,   9.77,   9.79,   9.8 ,   9.82,   9.83,   9.85,   9.89,\n",
       "         9.9 ,   9.91,   9.93,   9.95,   9.97,   9.98,  10.  ,  10.01,\n",
       "        10.02,  10.03,  10.05,  10.06,  10.08,  10.09,  10.1 ,  10.12,\n",
       "        10.13,  10.15,  10.17,  10.18,  10.19,  10.2 ,  10.22,  10.24,\n",
       "        10.25,  10.26,  10.27,  10.29,  10.3 ,  10.32,  10.33,  10.34,\n",
       "        10.35,  10.36,  10.37,  10.38,  10.39,  10.4 ,  10.42,  10.43,\n",
       "        10.44,  10.45,  10.46,  10.47,  10.49,  10.5 ,  10.51,  10.52,\n",
       "        10.54,  10.55,  10.56,  10.58,  10.59,  10.6 ,  10.62,  10.63,\n",
       "        10.64,  10.68,  10.69,  10.7 ,  10.71,  10.72,  10.73,  10.74,\n",
       "        10.75,  10.78,  10.79,  10.8 ,  10.84,  10.86,  10.87,  10.88,\n",
       "        10.89,  10.9 ,  10.91,  10.92,  10.94,  10.95,  10.99,  11.  ,\n",
       "        11.04,  11.05,  11.06,  11.07,  11.09,  11.1 ,  11.11,  11.12,\n",
       "        11.13,  11.14,  11.16,  11.17,  11.18,  11.2 ,  11.22,  11.24,\n",
       "        11.25,  11.26,  11.27,  11.28,  11.29,  11.3 ,  11.31,  11.33,\n",
       "        11.34,  11.35,  11.36,  11.37,  11.39,  11.4 ,  11.41,  11.42,\n",
       "        11.43,  11.44,  11.45,  11.46,  11.47,  11.49,  11.5 ,  11.51,\n",
       "        11.52,  11.53,  11.55,  11.56,  11.57,  11.59,  11.6 ,  11.62,\n",
       "        11.63,  11.64,  11.65,  11.67,  11.69,  11.7 ,  11.71,  11.73,\n",
       "        11.74,  11.78,  11.8 ,  11.81,  11.84,  11.85,  11.87,  11.9 ,\n",
       "        11.92,  11.93,  11.95,  11.98,  12.  ,  12.01,  12.02,  12.03,\n",
       "        12.05,  12.08,  12.1 ,  12.11,  12.14,  12.15,  12.17,  12.18,\n",
       "        12.2 ,  12.23,  12.24,  12.25,  12.27,  12.29,  12.3 ,  12.32,\n",
       "        12.35,  12.37,  12.38,  12.39,  12.4 ,  12.43,  12.44,  12.45,\n",
       "        12.47,  12.5 ,  12.52,  12.53,  12.55,  12.56,  12.57,  12.58,\n",
       "        12.6 ,  12.63,  12.66,  12.69,  12.7 ,  12.71,  12.72,  12.75,\n",
       "        12.76,  12.8 ,  12.83,  12.84,  12.85,  12.86,  12.87,  12.88,\n",
       "        12.89,  12.9 ,  12.92,  12.93,  12.96,  13.  ,  13.02,  13.04,\n",
       "        13.05,  13.06,  13.1 ,  13.11,  13.14,  13.16,  13.17,  13.2 ,\n",
       "        13.21,  13.24,  13.25,  13.26,  13.27,  13.28,  13.29,  13.3 ,\n",
       "        13.31,  13.32,  13.33,  13.35,  13.38,  13.39,  13.4 ,  13.41,\n",
       "        13.42,  13.43,  13.47,  13.49,  13.5 ,  13.52,  13.53,  13.55,\n",
       "        13.58,  13.6 ,  13.63,  13.64,  13.65,  13.67,  13.69,  13.7 ,\n",
       "        13.73,  13.74,  13.77,  13.79,  13.8 ,  13.81,  13.83,  13.84,\n",
       "        13.86,  13.9 ,  13.93,  13.95,  14.  ,  14.02,  14.04,  14.05,\n",
       "        14.06,  14.1 ,  14.14,  14.17,  14.2 ,  14.24,  14.27,  14.29,\n",
       "        14.3 ,  14.31,  14.33,  14.4 ,  14.43,  14.46,  14.49,  14.5 ,\n",
       "        14.51,  14.55,  14.56,  14.57,  14.58,  14.6 ,  14.61,  14.64,\n",
       "        14.65,  14.7 ,  14.72,  14.74,  14.77,  14.8 ,  14.84,  14.85,\n",
       "        14.9 ,  14.93,  14.95,  14.97,  14.98,  15.  ,  15.03,  15.07,\n",
       "        15.09,  15.1 ,  15.15,  15.18,  15.2 ,  15.24,  15.26,  15.3 ,\n",
       "        15.33,  15.35,  15.37,  15.39,  15.4 ,  15.42,  15.43,  15.5 ,\n",
       "        15.54,  15.55,  15.57,  15.6 ,  15.61,  15.62,  15.69,  15.7 ,\n",
       "        15.72,  15.78,  15.8 ,  15.83,  15.85,  15.9 ,  16.  ,  16.03,\n",
       "        16.05,  16.07,  16.1 ,  16.2 ,  16.25,  16.26,  16.27,  16.3 ,\n",
       "        16.32,  16.38,  16.4 ,  16.42,  16.45,  16.46,  16.47,  16.48,\n",
       "        16.5 ,  16.6 ,  16.66,  16.7 ,  16.72,  16.74,  16.77,  16.8 ,\n",
       "        16.83,  16.88,  16.89,  16.9 ,  16.92,  17.  ,  17.06,  17.1 ,\n",
       "        17.12,  17.2 ,  17.28,  17.3 ,  17.4 ,  17.44,  17.5 ,  17.53,\n",
       "        17.55,  17.59,  17.6 ,  17.61,  17.64,  17.7 ,  17.8 ,  17.85,\n",
       "        17.87,  17.9 ,  18.  ,  18.07,  18.1 ,  18.16,  18.2 ,  18.25,\n",
       "        18.3 ,  18.34,  18.4 ,  18.45,  18.5 ,  18.55,  18.59,  18.6 ,\n",
       "        18.7 ,  18.78,  18.8 ,  18.88,  18.9 ,  18.93,  19.  ,  19.1 ,\n",
       "        19.19,  19.2 ,  19.21,  19.28,  19.3 ,  19.35,  19.39,  19.4 ,\n",
       "        19.42,  19.45,  19.5 ,  19.51,  19.6 ,  19.61,  19.7 ,  19.8 ,\n",
       "        19.9 ,  19.92,  19.94,  20.  ,  20.07,  20.1 ,  20.16,  20.2 ,\n",
       "        20.24,  20.3 ,  20.31,  20.38,  20.4 ,  20.5 ,  20.52,  20.56,\n",
       "        20.6 ,  20.7 ,  20.77,  20.8 ,  20.9 ,  20.91,  20.92,  21.  ,\n",
       "        21.1 ,  21.2 ,  21.22,  21.25,  21.3 ,  21.4 ,  21.5 ,  21.53,\n",
       "        21.55,  21.6 ,  21.7 ,  21.74,  21.76,  21.8 ,  21.82,  21.87,\n",
       "        21.9 ,  22.  ,  22.1 ,  22.15,  22.2 ,  22.22,  22.3 ,  22.31,\n",
       "        22.4 ,  22.43,  22.46,  22.5 ,  22.6 ,  22.7 ,  22.72,  22.78,\n",
       "        22.8 ,  22.9 ,  23.  ,  23.1 ,  23.2 ,  23.25,  23.28,  23.3 ,\n",
       "        23.38,  23.4 ,  23.42,  23.43,  23.5 ,  23.53,  23.6 ,  23.7 ,\n",
       "        23.71,  23.8 ,  23.9 ,  24.  ,  24.03,  24.1 ,  24.2 ,  24.3 ,\n",
       "        24.4 ,  24.5 ,  24.6 ,  24.7 ,  24.8 ,  24.89,  24.9 ,  25.  ,\n",
       "        25.02,  25.1 ,  25.11,  25.2 ,  25.3 ,  25.34,  25.4 ,  25.5 ,\n",
       "        25.6 ,  25.7 ,  25.86,  25.9 ,  26.  ,  26.1 ,  26.2 ,  26.4 ,\n",
       "        26.5 ,  26.6 ,  26.7 ,  26.8 ,  26.85,  26.9 ,  27.  ,  27.1 ,\n",
       "        27.2 ,  27.3 ,  27.4 ,  27.5 ,  27.57,  27.6 ,  27.76,  27.9 ,\n",
       "        28.  ,  28.1 ,  28.2 ,  28.3 ,  28.4 ,  28.5 ,  28.52,  28.56,\n",
       "        28.6 ,  28.63,  28.64,  28.7 ,  28.8 ,  29.  ,  29.09,  29.1 ,\n",
       "        29.2 ,  29.3 ,  29.4 ,  29.5 ,  29.7 ,  29.8 ,  29.86,  29.9 ,\n",
       "        30.  ,  30.2 ,  30.5 ,  30.59,  30.6 ,  30.8 ,  30.9 ,  31.  ,\n",
       "        31.2 ,  31.3 ,  31.4 ,  31.47,  31.5 ,  31.6 ,  31.7 ,  31.73,\n",
       "        31.8 ,  32.  ,  32.1 ,  32.3 ,  32.4 ,  32.55,  32.6 ,  32.7 ,\n",
       "        32.8 ,  32.9 ,  33.  ,  33.1 ,  33.6 ,  33.8 ,  33.9 ,  34.  ,\n",
       "        34.1 ,  34.19,  34.3 ,  34.4 ,  34.51,  34.6 ,  34.7 ,  34.78,\n",
       "        34.8 ,  35.  ,  35.05,  35.1 ,  35.35,  35.4 ,  35.5 ,  35.6 ,\n",
       "        35.7 ,  35.9 ,  36.  ,  36.2 ,  36.3 ,  36.4 ,  36.5 ,  36.6 ,\n",
       "        37.  ,  37.5 ,  37.6 ,  37.7 ,  37.78,  37.8 ,  37.9 ,  38.  ,\n",
       "        38.1 ,  38.86,  39.  ,  39.1 ,  39.7 ,  39.9 ,  40.  ,  40.1 ,\n",
       "        40.2 ,  40.3 ,  40.4 ,  40.5 ,  40.7 ,  41.  ,  41.1 ,  41.3 ,\n",
       "        41.6 ,  41.9 ,  42.  ,  42.4 ,  42.5 ,  42.6 ,  42.7 ,  42.8 ,\n",
       "        43.  ,  43.2 ,  43.4 ,  43.8 ,  44.  ,  44.7 ,  44.9 ,  45.  ,\n",
       "        45.5 ,  46.  ,  46.8 ,  47.  ,  48.  ,  48.3 ,  48.5 ,  49.2 ,\n",
       "        49.4 ,  50.  ,  50.2 ,  51.  ,  51.8 ,  53.  ,  53.1 ,  54.  ,\n",
       "        54.2 ,  54.3 ,  55.5 ,  55.7 ,  56.  ,  56.2 ,  58.  ,  58.4 ,\n",
       "        60.  ,  62.  ,  62.5 ,  63.  ,  63.4 ,  64.  ,  65.  ,  66.  ,\n",
       "        70.  ,  72.  ,  75.  ,  77.  ,  87.2 ,  93.  ,  93.2 , 100.  ,\n",
       "       100.7 , 107.  , 112.  ,    nan])"
      ]
     },
     "execution_count": 39,
     "metadata": {},
     "output_type": "execute_result"
    }
   ],
   "source": [
    "df['kitchen_area'].sort_values().unique()"
   ]
  },
  {
   "cell_type": "markdown",
   "metadata": {},
   "source": [
    "Значения разняться от 1,3 до 112. И есть пропуски. Аналогично. Пропуски заменим на -1. Это также даст возможно исключить эти значения при аналитических расчётах, которые связаны с площадью кухни."
   ]
  },
  {
   "cell_type": "code",
   "execution_count": 40,
   "metadata": {},
   "outputs": [],
   "source": [
    "df['kitchen_area'] = df['kitchen_area'].fillna(-1)"
   ]
  },
  {
   "cell_type": "markdown",
   "metadata": {},
   "source": [
    "Посмотрим, есть ли записи у которых площадь кухни больше жилой."
   ]
  },
  {
   "cell_type": "code",
   "execution_count": 41,
   "metadata": {
    "scrolled": true
   },
   "outputs": [
    {
     "data": {
      "text/plain": [
       "794"
      ]
     },
     "execution_count": 41,
     "metadata": {},
     "output_type": "execute_result"
    }
   ],
   "source": [
    "df.query('kitchen_area>living_area')['kitchen_area'].count()"
   ]
  },
  {
   "cell_type": "markdown",
   "metadata": {},
   "source": [
    "Странно, есть такие значения. Но оставим как есть. Может в этом есть какой-то смысл."
   ]
  },
  {
   "cell_type": "markdown",
   "metadata": {},
   "source": [
    "Посмотрим на столбец с названием населённого пункта"
   ]
  },
  {
   "cell_type": "code",
   "execution_count": 42,
   "metadata": {},
   "outputs": [
    {
     "data": {
      "text/plain": [
       "365"
      ]
     },
     "execution_count": 42,
     "metadata": {},
     "output_type": "execute_result"
    }
   ],
   "source": [
    "len(df['locality_name'].unique())"
   ]
  },
  {
   "cell_type": "markdown",
   "metadata": {},
   "source": [
    "Значений достаточно много. Посмотрим, сколько пропусков."
   ]
  },
  {
   "cell_type": "code",
   "execution_count": 43,
   "metadata": {},
   "outputs": [
    {
     "data": {
      "text/plain": [
       "49"
      ]
     },
     "execution_count": 43,
     "metadata": {},
     "output_type": "execute_result"
    }
   ],
   "source": [
    "df['locality_name'].isna().sum()"
   ]
  },
  {
   "cell_type": "markdown",
   "metadata": {},
   "source": [
    "Пропусков не много, и теоретически названия некоторых н.п. можно было восстановить по расстоянию до центра, но так как не понятно в какой стороне и знаяений не много, то проще всего их заменить на значения `Неизвестный н.п.`"
   ]
  },
  {
   "cell_type": "code",
   "execution_count": 44,
   "metadata": {},
   "outputs": [],
   "source": [
    "df['locality_name'] = df['locality_name'].fillna('Неизвестный н.п.')"
   ]
  },
  {
   "cell_type": "markdown",
   "metadata": {},
   "source": [
    "Посмотрим, на значения, которые имеют населённый пункты."
   ]
  },
  {
   "cell_type": "code",
   "execution_count": 45,
   "metadata": {},
   "outputs": [
    {
     "data": {
      "text/plain": [
       "array(['Бокситогорск', 'Волосово', 'Волхов', 'Всеволожск', 'Выборг',\n",
       "       'Высоцк', 'Гатчина', 'Зеленогорск', 'Ивангород', 'Каменногорск',\n",
       "       'Кингисепп', 'Кириши', 'Кировск', 'Колпино', 'Коммунар',\n",
       "       'Красное Село', 'Кронштадт', 'Кудрово', 'Лодейное Поле',\n",
       "       'Ломоносов', 'Луга', 'Любань', 'Мурино', 'Неизвестный н.п.',\n",
       "       'Никольское', 'Новая Ладога', 'Отрадное', 'Павловск', 'Петергоф',\n",
       "       'Пикалёво', 'Подпорожье', 'Приморск', 'Приозерск', 'Пушкин',\n",
       "       'Санкт-Петербург', 'Светогорск', 'Сертолово', 'Сестрорецк',\n",
       "       'Сланцы', 'Сосновый Бор', 'Сясьстрой', 'Тихвин', 'Тосно',\n",
       "       'Шлиссельбург', 'городской поселок Большая Ижора',\n",
       "       'городской поселок Янино-1', 'городской посёлок Будогощь',\n",
       "       'городской посёлок Виллози', 'городской посёлок Лесогорский',\n",
       "       'городской посёлок Мга', 'городской посёлок Назия',\n",
       "       'городской посёлок Новоселье', 'городской посёлок Павлово',\n",
       "       'городской посёлок Рощино', 'городской посёлок Свирьстрой',\n",
       "       'городской посёлок Советский', 'городской посёлок Фёдоровское',\n",
       "       'городской посёлок Янино-1', 'деревня Агалатово', 'деревня Аро',\n",
       "       'деревня Батово', 'деревня Бегуницы', 'деревня Белогорка',\n",
       "       'деревня Большая Вруда', 'деревня Большая Пустомержа',\n",
       "       'деревня Большие Колпаны', 'деревня Большое Рейзино',\n",
       "       'деревня Большой Сабск', 'деревня Бор', 'деревня Борисова Грива',\n",
       "       'деревня Ваганово', 'деревня Вартемяги', 'деревня Вахнова Кара',\n",
       "       'деревня Выскатка', 'деревня Гарболово', 'деревня Глинка',\n",
       "       'деревня Горбунки', 'деревня Гостилицы', 'деревня Заклинье',\n",
       "       'деревня Заневка', 'деревня Зимитицы', 'деревня Извара',\n",
       "       'деревня Иссад', 'деревня Калитино', 'деревня Кальтино',\n",
       "       'деревня Камышовка', 'деревня Каськово', 'деревня Келози',\n",
       "       'деревня Кипень', 'деревня Кисельня', 'деревня Колтуши',\n",
       "       'деревня Коркино', 'деревня Котлы', 'деревня Кривко',\n",
       "       'деревня Кудрово', 'деревня Кузьмолово', 'деревня Курковицы',\n",
       "       'деревня Куровицы', 'деревня Куттузи', 'деревня Лаврики',\n",
       "       'деревня Лаголово', 'деревня Лампово', 'деревня Лесколово',\n",
       "       'деревня Лопухинка', 'деревня Лупполово',\n",
       "       'деревня Малая Романовка', 'деревня Малое Верево',\n",
       "       'деревня Малое Карлино', 'деревня Малые Колпаны',\n",
       "       'деревня Мануйлово', 'деревня Меньково', 'деревня Мины',\n",
       "       'деревня Мистолово', 'деревня Ненимяки', 'деревня Нижние Осельки',\n",
       "       'деревня Нижняя', 'деревня Низино', 'деревня Новое Девяткино',\n",
       "       'деревня Новолисино', 'деревня Нурма', 'деревня Оржицы',\n",
       "       'деревня Парицы', 'деревня Пельгора', 'деревня Пеники',\n",
       "       'деревня Пижма', 'деревня Пикколово', 'деревня Пудомяги',\n",
       "       'деревня Пустынка', 'деревня Пчева', 'деревня Рабитицы',\n",
       "       'деревня Разбегаево', 'деревня Раздолье', 'деревня Разметелево',\n",
       "       'деревня Рапполово', 'деревня Реброво', 'деревня Русско',\n",
       "       'деревня Сижно', 'деревня Снегирёвка', 'деревня Старая',\n",
       "       'деревня Старая Пустошь', 'деревня Старое Хинколово',\n",
       "       'деревня Старополье', 'деревня Старосиверская',\n",
       "       'деревня Старые Бегуницы', 'деревня Суоранда',\n",
       "       'деревня Сяськелево', 'деревня Тарасово', 'деревня Терпилицы',\n",
       "       'деревня Тихковицы', 'деревня Тойворово', 'деревня Торосово',\n",
       "       'деревня Торошковичи', 'деревня Трубников Бор',\n",
       "       'деревня Фалилеево', 'деревня Фёдоровское', 'деревня Хапо-Ое',\n",
       "       'деревня Хязельки', 'деревня Чудской Бор', 'деревня Шпаньково',\n",
       "       'деревня Щеглово', 'деревня Юкки', 'деревня Ялгино',\n",
       "       'деревня Яльгелево', 'деревня Ям-Тесово',\n",
       "       'коттеджный поселок Кивеннапа Север', 'коттеджный поселок Счастье',\n",
       "       'коттеджный посёлок Лесное', 'поселок Аннино', 'поселок Барышево',\n",
       "       'поселок Бугры', 'поселок Возрождение', 'поселок Войсковицы',\n",
       "       'поселок Володарское', 'поселок Гаврилово', 'поселок Гарболово',\n",
       "       'поселок Гладкое', 'поселок Глажево', 'поселок Глебычево',\n",
       "       'поселок Гончарово', 'поселок Громово', 'поселок Дружноселье',\n",
       "       'поселок Елизаветино', 'поселок Жилгородок', 'поселок Жилпосёлок',\n",
       "       'поселок Житково', 'поселок Заводской', 'поселок Запорожское',\n",
       "       'поселок Зимитицы', 'поселок Ильичёво', 'поселок Калитино',\n",
       "       'поселок Каложицы', 'поселок Кингисеппский', 'поселок Кирпичное',\n",
       "       'поселок Кобралово', 'поселок Кобринское', 'поселок Коммунары',\n",
       "       'поселок Коробицыно', 'поселок Котельский',\n",
       "       'поселок Красная Долина', 'поселок Красносельское',\n",
       "       'поселок Лесное', 'поселок Лисий Нос', 'поселок Лукаши',\n",
       "       'поселок Любань', 'поселок Мельниково', 'поселок Мичуринское',\n",
       "       'поселок Молодцово', 'поселок Мурино', 'поселок Новый Свет',\n",
       "       'поселок Новый Учхоз', 'поселок Оредеж',\n",
       "       'поселок Пансионат Зелёный Бор', 'поселок Первомайское',\n",
       "       'поселок Перово', 'поселок Петровское', 'поселок Победа',\n",
       "       'поселок Поляны', 'поселок Почап', 'поселок Починок',\n",
       "       'поселок Пушное', 'поселок Пчевжа', 'поселок Рабитицы',\n",
       "       'поселок Романовка', 'поселок Ромашки', 'поселок Рябово',\n",
       "       'поселок Севастьяново', 'поселок Селезнёво', 'поселок Сельцо',\n",
       "       'поселок Семиозерье', 'поселок Семрино', 'поселок Серебрянский',\n",
       "       'поселок Совхозный', 'поселок Старая Малукса',\n",
       "       'поселок Стеклянный', 'поселок Сумино', 'поселок Суходолье',\n",
       "       'поселок Тельмана', 'поселок Терволово', 'поселок Торковичи',\n",
       "       'поселок Тёсово-4', 'поселок Углово', 'поселок Усть-Луга',\n",
       "       'поселок Ушаки', 'поселок Цвелодубово', 'поселок Цвылёво',\n",
       "       'поселок городского типа Большая Ижора',\n",
       "       'поселок городского типа Вырица',\n",
       "       'поселок городского типа Дружная Горка',\n",
       "       'поселок городского типа Дубровка',\n",
       "       'поселок городского типа Ефимовский',\n",
       "       'поселок городского типа Кондратьево',\n",
       "       'поселок городского типа Красный Бор',\n",
       "       'поселок городского типа Кузьмоловский',\n",
       "       'поселок городского типа Лебяжье',\n",
       "       'поселок городского типа Лесогорский',\n",
       "       'поселок городского типа Назия',\n",
       "       'поселок городского типа Никольский',\n",
       "       'поселок городского типа Приладожский',\n",
       "       'поселок городского типа Рахья', 'поселок городского типа Рощино',\n",
       "       'поселок городского типа Рябово',\n",
       "       'поселок городского типа Синявино',\n",
       "       'поселок городского типа Советский',\n",
       "       'поселок городского типа Токсово',\n",
       "       'поселок городского типа Форносово',\n",
       "       'поселок городского типа имени Свердлова',\n",
       "       'поселок станции Вещево', 'поселок станции Корнево',\n",
       "       'поселок станции Лужайка', 'поселок станции Приветнинское',\n",
       "       'посёлок Александровская', 'посёлок Алексеевка', 'посёлок Аннино',\n",
       "       'посёлок Белоостров', 'посёлок Бугры', 'посёлок Возрождение',\n",
       "       'посёлок Войскорово', 'посёлок Высокоключевой',\n",
       "       'посёлок Гаврилово', 'посёлок Дзержинского', 'посёлок Жилгородок',\n",
       "       'посёлок Ильичёво', 'посёлок Кикерино', 'посёлок Кобралово',\n",
       "       'посёлок Коробицыно', 'посёлок Левашово', 'посёлок Ленинское',\n",
       "       'посёлок Лисий Нос', 'посёлок Мельниково', 'посёлок Металлострой',\n",
       "       'посёлок Мичуринское', 'посёлок Молодёжное', 'посёлок Мурино',\n",
       "       'посёлок Мыза-Ивановка', 'посёлок Новогорелово',\n",
       "       'посёлок Новый Свет', 'посёлок Пансионат Зелёный Бор',\n",
       "       'посёлок Парголово', 'посёлок Перово', 'посёлок Песочный',\n",
       "       'посёлок Петро-Славянка', 'посёлок Петровское',\n",
       "       'посёлок Платформа 69-й километр', 'посёлок Плодовое',\n",
       "       'посёлок Плоское', 'посёлок Победа', 'посёлок Поляны',\n",
       "       'посёлок Понтонный', 'посёлок Пригородный', 'посёлок Пудость',\n",
       "       'посёлок Репино', 'посёлок Ропша', 'посёлок Сапёрное',\n",
       "       'посёлок Сапёрный', 'посёлок Сосново', 'посёлок Старая Малукса',\n",
       "       'посёлок Стеклянный', 'посёлок Стрельна', 'посёлок Суйда',\n",
       "       'посёлок Сумино', 'посёлок Тельмана', 'посёлок Терволово',\n",
       "       'посёлок Торфяное', 'посёлок Усть-Ижора', 'посёлок Усть-Луга',\n",
       "       'посёлок Форт Красная Горка', 'посёлок Шугозеро', 'посёлок Шушары',\n",
       "       'посёлок Щеглово', 'посёлок городского типа Важины',\n",
       "       'посёлок городского типа Вознесенье',\n",
       "       'посёлок городского типа Вырица',\n",
       "       'посёлок городского типа Красный Бор',\n",
       "       'посёлок городского типа Кузнечное',\n",
       "       'посёлок городского типа Кузьмоловский',\n",
       "       'посёлок городского типа Лебяжье', 'посёлок городского типа Мга',\n",
       "       'посёлок городского типа Павлово',\n",
       "       'посёлок городского типа Рощино', 'посёлок городского типа Рябово',\n",
       "       'посёлок городского типа Сиверский',\n",
       "       'посёлок городского типа Тайцы', 'посёлок городского типа Токсово',\n",
       "       'посёлок городского типа Ульяновка',\n",
       "       'посёлок городского типа Форносово',\n",
       "       'посёлок городского типа имени Морозова',\n",
       "       'посёлок городского типа имени Свердлова',\n",
       "       'посёлок при железнодорожной станции Вещево',\n",
       "       'посёлок при железнодорожной станции Приветнинское',\n",
       "       'посёлок станции Громово', 'посёлок станции Свирь',\n",
       "       'садоводческое некоммерческое товарищество Лесная Поляна',\n",
       "       'садовое товарищество Новая Ропша',\n",
       "       'садовое товарищество Приладожский', 'садовое товарищество Рахья',\n",
       "       'садовое товарищество Садко', 'село Копорье', 'село Никольское',\n",
       "       'село Павлово', 'село Паша', 'село Путилово', 'село Рождествено',\n",
       "       'село Русско-Высоцкое', 'село Старая Ладога', 'село Шум'],\n",
       "      dtype=object)"
      ]
     },
     "execution_count": 45,
     "metadata": {},
     "output_type": "execute_result"
    }
   ],
   "source": [
    "df['locality_name'].sort_values().unique()"
   ]
  },
  {
   "cell_type": "markdown",
   "metadata": {},
   "source": [
    "Видим, что некоторые значение имеют неявное дублирование. Например `посёлок Мурино` и `поселок Мурино`. Логично от этого избавиться. Уберём все лишние слова, оставим только названия. Список слов, которые будем удалять:"
   ]
  },
  {
   "cell_type": "code",
   "execution_count": 46,
   "metadata": {},
   "outputs": [],
   "source": [
    "words=(\n",
    "    ['поселок ', 'посёлок ', 'деревня ', 'село ', 'садовое товарищество ',\n",
    "     'поселок городского типа ', 'городской поселок ', 'городской ', 'Станции ', \n",
    "     'садоводческое некоммерческое товарищество ','при железнодорожной станции ',\n",
    "     'коттеджный поселок ', 'Пансионат ', 'Форт ', 'городского типа ', 'коттеджный ', 'станции '  ]\n",
    ")"
   ]
  },
  {
   "cell_type": "markdown",
   "metadata": {},
   "source": [
    "Функция, которая будет удалять:"
   ]
  },
  {
   "cell_type": "code",
   "execution_count": 47,
   "metadata": {},
   "outputs": [],
   "source": [
    "def del_word(element):\n",
    "    element=str(element)\n",
    "    for word in words:\n",
    "        if word in element:\n",
    "            element=element.replace(word,'')\n",
    "    return element"
   ]
  },
  {
   "cell_type": "markdown",
   "metadata": {},
   "source": [
    "Применим функцию к столбцу с названиями населённых пунктов"
   ]
  },
  {
   "cell_type": "code",
   "execution_count": 48,
   "metadata": {},
   "outputs": [],
   "source": [
    "df['locality_name']=df['locality_name'].apply(del_word)"
   ]
  },
  {
   "cell_type": "markdown",
   "metadata": {},
   "source": [
    "Посмотрим, как изменился список населённых пунктов"
   ]
  },
  {
   "cell_type": "code",
   "execution_count": 49,
   "metadata": {},
   "outputs": [
    {
     "data": {
      "text/plain": [
       "306"
      ]
     },
     "execution_count": 49,
     "metadata": {},
     "output_type": "execute_result"
    }
   ],
   "source": [
    "len(df['locality_name'].unique())"
   ]
  },
  {
   "cell_type": "markdown",
   "metadata": {},
   "source": [
    "Значений стало меньше. Посмотрим на значения"
   ]
  },
  {
   "cell_type": "code",
   "execution_count": 50,
   "metadata": {
    "scrolled": true
   },
   "outputs": [
    {
     "data": {
      "text/plain": [
       "array(['Агалатово', 'Александровская', 'Алексеевка', 'Аннино', 'Аро',\n",
       "       'Барышево', 'Батово', 'Бегуницы', 'Белогорка', 'Белоостров',\n",
       "       'Бокситогорск', 'Большая Вруда', 'Большая Ижора',\n",
       "       'Большая Пустомержа', 'Большие Колпаны', 'Большое Рейзино',\n",
       "       'Большой Сабск', 'Бор', 'Борисова Грива', 'Бугры', 'Будогощь',\n",
       "       'Ваганово', 'Важины', 'Вартемяги', 'Вахнова Кара', 'Вещево',\n",
       "       'Виллози', 'Вознесенье', 'Возрождение', 'Войсковицы', 'Войскорово',\n",
       "       'Володарское', 'Волосово', 'Волхов', 'Всеволожск', 'Выборг',\n",
       "       'Вырица', 'Выскатка', 'Высокоключевой', 'Высоцк', 'Гаврилово',\n",
       "       'Гарболово', 'Гатчина', 'Гладкое', 'Глажево', 'Глебычево',\n",
       "       'Глинка', 'Гончарово', 'Горбунки', 'Гостилицы', 'Громово',\n",
       "       'Дзержинского', 'Дружная Горка', 'Дружноселье', 'Дубровка',\n",
       "       'Елизаветино', 'Ефимовский', 'Жилгородок', 'Жилпосёлок', 'Житково',\n",
       "       'Заводской', 'Заклинье', 'Заневка', 'Запорожское', 'Зеленогорск',\n",
       "       'Зелёный Бор', 'Зимитицы', 'Ивангород', 'Извара', 'Ильичёво',\n",
       "       'Иссад', 'Калитино', 'Каложицы', 'Кальтино', 'Каменногорск',\n",
       "       'Камышовка', 'Каськово', 'Келози', 'Кивеннапа Север', 'Кикерино',\n",
       "       'Кингисепп', 'Кингисеппский', 'Кипень', 'Кириши', 'Кировск',\n",
       "       'Кирпичное', 'Кисельня', 'Кобралово', 'Кобринское', 'Колпино',\n",
       "       'Колтуши', 'Коммунар', 'Коммунары', 'Кондратьево', 'Копорье',\n",
       "       'Коркино', 'Корнево', 'Коробицыно', 'Котельский', 'Котлы',\n",
       "       'Красная Горка', 'Красная Долина', 'Красное Село',\n",
       "       'Красносельское', 'Красный Бор', 'Кривко', 'Кронштадт', 'Кудрово',\n",
       "       'Кузнечное', 'Кузьмолово', 'Кузьмоловский', 'Курковицы',\n",
       "       'Куровицы', 'Куттузи', 'Лаврики', 'Лаголово', 'Лампово', 'Лебяжье',\n",
       "       'Левашово', 'Ленинское', 'Лесколово', 'Лесная Поляна', 'Лесное',\n",
       "       'Лесогорский', 'Лисий Нос', 'Лодейное Поле', 'Ломоносов',\n",
       "       'Лопухинка', 'Луга', 'Лужайка', 'Лукаши', 'Лупполово', 'Любань',\n",
       "       'Малая Романовка', 'Малое Верево', 'Малое Карлино',\n",
       "       'Малые Колпаны', 'Мануйлово', 'Мга', 'Мельниково', 'Меньково',\n",
       "       'Металлострой', 'Мины', 'Мистолово', 'Мичуринское', 'Молодцово',\n",
       "       'Молодёжное', 'Мурино', 'Мыза-Ивановка', 'Назия',\n",
       "       'Неизвестный н.п.', 'Ненимяки', 'Нижние Осельки', 'Нижняя',\n",
       "       'Низино', 'Никольский', 'Никольское', 'Новая Ладога',\n",
       "       'Новая Ропша', 'Новогорелово', 'Новое Девяткино', 'Новолисино',\n",
       "       'Новоселье', 'Новый Свет', 'Новый Учхоз', 'Нурма', 'Оредеж',\n",
       "       'Оржицы', 'Отрадное', 'Павлово', 'Павловск', 'Парголово', 'Парицы',\n",
       "       'Паша', 'Пельгора', 'Пеники', 'Первомайское', 'Перово', 'Песочный',\n",
       "       'Петергоф', 'Петро-Славянка', 'Петровское', 'Пижма', 'Пикалёво',\n",
       "       'Пикколово', 'Платформа 69-й километр', 'Плодовое', 'Плоское',\n",
       "       'Победа', 'Подпорожье', 'Поляны', 'Понтонный', 'Почап', 'Починок',\n",
       "       'Приветнинское', 'Пригородный', 'Приладожский', 'Приморск',\n",
       "       'Приозерск', 'Пудомяги', 'Пудость', 'Пустынка', 'Путилово',\n",
       "       'Пушкин', 'Пушное', 'Пчева', 'Пчевжа', 'Рабитицы', 'Разбегаево',\n",
       "       'Раздолье', 'Разметелево', 'Рапполово', 'Рахья', 'Реброво',\n",
       "       'Репино', 'Рождествено', 'Романовка', 'Ромашки', 'Ропша', 'Рощино',\n",
       "       'Русско', 'Русско-Высоцкое', 'Рябово', 'Садко', 'Санкт-Петербург',\n",
       "       'Сапёрное', 'Сапёрный', 'Светогорск', 'Свирь', 'Свирьстрой',\n",
       "       'Севастьяново', 'Селезнёво', 'Сельцо', 'Семиозерье', 'Семрино',\n",
       "       'Серебрянский', 'Сертолово', 'Сестрорецк', 'Сиверский', 'Сижно',\n",
       "       'Синявино', 'Сланцы', 'Снегирёвка', 'Советский', 'Совхозный',\n",
       "       'Сосново', 'Сосновый Бор', 'Старая', 'Старая Ладога',\n",
       "       'Старая Малукса', 'Старая Пустошь', 'Старое Хинколово',\n",
       "       'Старополье', 'Старосиверская', 'Старые Бегуницы', 'Стеклянный',\n",
       "       'Стрельна', 'Суйда', 'Сумино', 'Суоранда', 'Суходолье', 'Счастье',\n",
       "       'Сяськелево', 'Сясьстрой', 'Тайцы', 'Тарасово', 'Тельмана',\n",
       "       'Терволово', 'Терпилицы', 'Тихвин', 'Тихковицы', 'Тойворово',\n",
       "       'Токсово', 'Торковичи', 'Торосово', 'Торошковичи', 'Торфяное',\n",
       "       'Тосно', 'Трубников Бор', 'Тёсово-4', 'Углово', 'Ульяновка',\n",
       "       'Усть-Ижора', 'Усть-Луга', 'Ушаки', 'Фалилеево', 'Форносово',\n",
       "       'Фёдоровское', 'Хапо-Ое', 'Хязельки', 'Цвелодубово', 'Цвылёво',\n",
       "       'Чудской Бор', 'Шлиссельбург', 'Шпаньково', 'Шугозеро', 'Шум',\n",
       "       'Шушары', 'Щеглово', 'Юкки', 'Ялгино', 'Яльгелево', 'Ям-Тесово',\n",
       "       'Янино-1', 'имени Морозова', 'имени Свердлова'], dtype=object)"
      ]
     },
     "execution_count": 50,
     "metadata": {},
     "output_type": "execute_result"
    }
   ],
   "source": [
    "df['locality_name'].sort_values().unique()"
   ]
  },
  {
   "cell_type": "markdown",
   "metadata": {},
   "source": [
    "Уже лучше. Неявные дубликаты были удалены. Теперь посмотрим, какой населённый пункт стоит у записей, у которых не указано расстояние до центра. "
   ]
  },
  {
   "cell_type": "code",
   "execution_count": 51,
   "metadata": {
    "scrolled": true
   },
   "outputs": [
    {
     "data": {
      "text/plain": [
       "Мурино        588\n",
       "Кудрово       472\n",
       "Всеволожск    398\n",
       "Гатчина       307\n",
       "Выборг        237\n",
       "             ... \n",
       "Пикколово       1\n",
       "Ялгино          1\n",
       "Кирпичное       1\n",
       "Нижняя          1\n",
       "Хапо-Ое         1\n",
       "Name: locality_name, Length: 288, dtype: int64"
      ]
     },
     "execution_count": 51,
     "metadata": {},
     "output_type": "execute_result"
    }
   ],
   "source": [
    "df[df['city_centers_nearest'].isna()]['locality_name'].value_counts(dropna=False)"
   ]
  },
  {
   "cell_type": "markdown",
   "metadata": {},
   "source": [
    "Фактически можно скруппировать по населёным рунктам и пропуски заполнить средними значениями для населённых пунктов"
   ]
  },
  {
   "cell_type": "code",
   "execution_count": 52,
   "metadata": {},
   "outputs": [],
   "source": [
    "mean_distance=df.groupby('locality_name')['city_centers_nearest'].mean().sort_values()"
   ]
  },
  {
   "cell_type": "code",
   "execution_count": 53,
   "metadata": {
    "scrolled": true
   },
   "outputs": [
    {
     "data": {
      "text/plain": [
       "locality_name\n",
       "Неизвестный н.п.    11278.902439\n",
       "Санкт-Петербург     11601.291571\n",
       "Парголово           19924.776758\n",
       "Мурино              21888.000000\n",
       "Стрельна            23376.113636\n",
       "                        ...     \n",
       "Яльгелево                    NaN\n",
       "Ям-Тесово                    NaN\n",
       "Янино-1                      NaN\n",
       "имени Морозова               NaN\n",
       "имени Свердлова              NaN\n",
       "Name: city_centers_nearest, Length: 306, dtype: float64"
      ]
     },
     "execution_count": 53,
     "metadata": {},
     "output_type": "execute_result"
    }
   ],
   "source": [
    "mean_distance"
   ]
  },
  {
   "cell_type": "markdown",
   "metadata": {},
   "source": [
    "Проверим количество пропусков."
   ]
  },
  {
   "cell_type": "code",
   "execution_count": 54,
   "metadata": {},
   "outputs": [
    {
     "data": {
      "text/plain": [
       "5519"
      ]
     },
     "execution_count": 54,
     "metadata": {},
     "output_type": "execute_result"
    }
   ],
   "source": [
    "df['city_centers_nearest'].isna().sum()"
   ]
  },
  {
   "cell_type": "markdown",
   "metadata": {},
   "source": [
    "Неоторые значения так и остануться пустыми, но некотрые сможем заполнить. Напишем цикл, который сможет заполнить пропуcки средними значениями по населённому пункту."
   ]
  },
  {
   "cell_type": "code",
   "execution_count": 55,
   "metadata": {},
   "outputs": [],
   "source": [
    "for i in mean_distance.index:\n",
    "    df.loc[(df['city_centers_nearest'].isna()==True) & (df['locality_name']==i), 'city_centers_nearest']=mean_distance[i]"
   ]
  },
  {
   "cell_type": "code",
   "execution_count": 56,
   "metadata": {
    "scrolled": true
   },
   "outputs": [
    {
     "data": {
      "text/plain": [
       "4829"
      ]
     },
     "execution_count": 56,
     "metadata": {},
     "output_type": "execute_result"
    }
   ],
   "source": [
    "df['city_centers_nearest'].isna().sum()"
   ]
  },
  {
   "cell_type": "markdown",
   "metadata": {},
   "source": [
    "Посмотрим, какие н.п. остались"
   ]
  },
  {
   "cell_type": "code",
   "execution_count": 57,
   "metadata": {},
   "outputs": [
    {
     "data": {
      "text/plain": [
       "Кудрово            472\n",
       "Всеволожск         398\n",
       "Гатчина            307\n",
       "Выборг             237\n",
       "Новое Девяткино    144\n",
       "Сертолово          142\n",
       "Кириши             125\n",
       "Бугры              114\n",
       "Сланцы             112\n",
       "Волхов             111\n",
       "Name: locality_name, dtype: int64"
      ]
     },
     "execution_count": 57,
     "metadata": {},
     "output_type": "execute_result"
    }
   ],
   "source": [
    "df[df['city_centers_nearest'].isna()]['locality_name'].value_counts().head(10)"
   ]
  },
  {
   "cell_type": "markdown",
   "metadata": {},
   "source": [
    "Количество пропусков уменьшилось. Для остальных пропусков можем поискать населённые пункты на карте и записать значения, либо пометить их -1. Проще всего заполнить -1, но столбец важный и поэтому заполним хотя бы первые 3 строки. Расстояния до Кудрова, Всеволожса и Гатчины принмаем 21000, 23000, и 42000м. Для остальных заполним -1."
   ]
  },
  {
   "cell_type": "code",
   "execution_count": 58,
   "metadata": {},
   "outputs": [],
   "source": [
    "dict1={'Кудрово':21000, 'Всеволожск':23000, 'Гатчина':42000}"
   ]
  },
  {
   "cell_type": "code",
   "execution_count": 59,
   "metadata": {},
   "outputs": [],
   "source": [
    "for i in dict1.keys():\n",
    "    df.loc[(df['city_centers_nearest'].isna()==True) & (df['locality_name']==i), 'city_centers_nearest']=dict1[i]"
   ]
  },
  {
   "cell_type": "markdown",
   "metadata": {},
   "source": [
    "Уже лучше. Остальные пока заменим -1."
   ]
  },
  {
   "cell_type": "code",
   "execution_count": 60,
   "metadata": {},
   "outputs": [],
   "source": [
    "df['city_centers_nearest'] = df['city_centers_nearest'].fillna(-1)"
   ]
  },
  {
   "cell_type": "markdown",
   "metadata": {},
   "source": [
    "С расстоянием до аэропорта поступим проще. Так как не планируем использовать колонку в дальнейшем анализе, то заменим пропуски сразу на -1, хоть и могли поступить аналогично с расстоянием до центра."
   ]
  },
  {
   "cell_type": "code",
   "execution_count": 61,
   "metadata": {},
   "outputs": [],
   "source": [
    "df['airports_nearest'] = df['airports_nearest'].fillna(-1)"
   ]
  },
  {
   "cell_type": "markdown",
   "metadata": {},
   "source": [
    "С пропусками разобрались. Посмотрим, что вышло."
   ]
  },
  {
   "cell_type": "code",
   "execution_count": 62,
   "metadata": {
    "scrolled": true
   },
   "outputs": [
    {
     "name": "stdout",
     "output_type": "stream",
     "text": [
      "<class 'pandas.core.frame.DataFrame'>\n",
      "RangeIndex: 23699 entries, 0 to 23698\n",
      "Data columns (total 23 columns):\n",
      "total_images            23699 non-null int64\n",
      "last_price              23699 non-null float64\n",
      "total_area              23699 non-null float64\n",
      "first_day_exposition    23699 non-null datetime64[ns]\n",
      "rooms                   23699 non-null int64\n",
      "ceiling_height          23699 non-null float64\n",
      "floors_total            23699 non-null float64\n",
      "living_area             23699 non-null float64\n",
      "floor                   23699 non-null int64\n",
      "is_apartment            23699 non-null bool\n",
      "studio                  23699 non-null bool\n",
      "open_plan               23699 non-null bool\n",
      "kitchen_area            23699 non-null float64\n",
      "balcony                 23699 non-null float64\n",
      "locality_name           23699 non-null object\n",
      "airports_nearest        23699 non-null float64\n",
      "city_centers_nearest    23699 non-null float64\n",
      "parks_around3000        23699 non-null float64\n",
      "parks_nearest           23699 non-null float64\n",
      "ponds_around3000        23699 non-null float64\n",
      "ponds_nearest           23699 non-null float64\n",
      "days_exposition         23699 non-null float64\n",
      "price_per_area          23699 non-null float64\n",
      "dtypes: bool(3), datetime64[ns](1), float64(15), int64(3), object(1)\n",
      "memory usage: 3.7+ MB\n"
     ]
    }
   ],
   "source": [
    "df.info()"
   ]
  },
  {
   "cell_type": "code",
   "execution_count": null,
   "metadata": {},
   "outputs": [],
   "source": []
  },
  {
   "cell_type": "code",
   "execution_count": 63,
   "metadata": {},
   "outputs": [
    {
     "name": "stdout",
     "output_type": "stream",
     "text": [
      "<class 'pandas.core.frame.DataFrame'>\n",
      "RangeIndex: 23699 entries, 0 to 23698\n",
      "Data columns (total 23 columns):\n",
      "total_images            23699 non-null int64\n",
      "last_price              23699 non-null float64\n",
      "total_area              23699 non-null float64\n",
      "first_day_exposition    23699 non-null datetime64[ns]\n",
      "rooms                   23699 non-null int64\n",
      "ceiling_height          23699 non-null float64\n",
      "floors_total            23699 non-null float64\n",
      "living_area             23699 non-null float64\n",
      "floor                   23699 non-null int64\n",
      "is_apartment            23699 non-null bool\n",
      "studio                  23699 non-null bool\n",
      "open_plan               23699 non-null bool\n",
      "kitchen_area            23699 non-null float64\n",
      "balcony                 23699 non-null float64\n",
      "locality_name           23699 non-null object\n",
      "airports_nearest        23699 non-null float64\n",
      "city_centers_nearest    23699 non-null float64\n",
      "parks_around3000        23699 non-null float64\n",
      "parks_nearest           23699 non-null float64\n",
      "ponds_around3000        23699 non-null float64\n",
      "ponds_nearest           23699 non-null float64\n",
      "days_exposition         23699 non-null float64\n",
      "price_per_area          23699 non-null float64\n",
      "dtypes: bool(3), datetime64[ns](1), float64(15), int64(3), object(1)\n",
      "memory usage: 3.7+ MB\n"
     ]
    }
   ],
   "source": [
    "df.info()"
   ]
  },
  {
   "cell_type": "markdown",
   "metadata": {},
   "source": [
    "Пропуски отсутсвуют. Проверим дубликаты, на всякий случай."
   ]
  },
  {
   "cell_type": "code",
   "execution_count": 64,
   "metadata": {},
   "outputs": [
    {
     "data": {
      "text/plain": [
       "0"
      ]
     },
     "execution_count": 64,
     "metadata": {},
     "output_type": "execute_result"
    }
   ],
   "source": [
    "df.duplicated().sum()"
   ]
  },
  {
   "cell_type": "markdown",
   "metadata": {},
   "source": [
    "Дубликатов нет. Тем проще."
   ]
  },
  {
   "cell_type": "markdown",
   "metadata": {},
   "source": [
    "### Вывод\n",
    "\n",
    "В ходе предобработки данных изаменили тим данных в столбце с датой первого размещения. \n",
    "- Пропуски в столбце `days_exposition` заменили медианными занчениями. \n",
    "- Пропуске в графе с населённым пунктом заполнили как `Неизвестный н.п.`. \n",
    "- Пропуске в стобцах `ponds_around3000`, `parks_around3000`,`balcony` заменили на 0. \n",
    "- Пропуски для парков записали как 3200, для прудов -3000. \n",
    "- Пропущенные расстояния до аэропорта пометили как -1. \n",
    "- Пропуски в `ceiling_height` заполнили медианными значениями. \n",
    "- Пропущенные значения в графе `is_apartment` заменили на False.\n",
    "- Пропуски в `balcony` записали как 0.\n",
    "- Пропуски в `kitchen_area`, `living_area` и `floors_total` заменили на -1.\n",
    "- Названия населённых пунктов привели к однообразию.\n",
    "- Пропуски в расстоянии до населённых пунктов взяли по среднему для населённых пунктов. Для некоторых задали вручную на основании расстояний по карте. Остальные записали как -1.\n",
    "- Добавили колонку с ценой квадратного метра."
   ]
  },
  {
   "cell_type": "code",
   "execution_count": 65,
   "metadata": {
    "scrolled": true
   },
   "outputs": [
    {
     "name": "stdout",
     "output_type": "stream",
     "text": [
      "<class 'pandas.core.frame.DataFrame'>\n",
      "RangeIndex: 23699 entries, 0 to 23698\n",
      "Data columns (total 23 columns):\n",
      "total_images            23699 non-null int64\n",
      "last_price              23699 non-null float64\n",
      "total_area              23699 non-null float64\n",
      "first_day_exposition    23699 non-null datetime64[ns]\n",
      "rooms                   23699 non-null int64\n",
      "ceiling_height          23699 non-null float64\n",
      "floors_total            23699 non-null float64\n",
      "living_area             23699 non-null float64\n",
      "floor                   23699 non-null int64\n",
      "is_apartment            23699 non-null bool\n",
      "studio                  23699 non-null bool\n",
      "open_plan               23699 non-null bool\n",
      "kitchen_area            23699 non-null float64\n",
      "balcony                 23699 non-null float64\n",
      "locality_name           23699 non-null object\n",
      "airports_nearest        23699 non-null float64\n",
      "city_centers_nearest    23699 non-null float64\n",
      "parks_around3000        23699 non-null float64\n",
      "parks_nearest           23699 non-null float64\n",
      "ponds_around3000        23699 non-null float64\n",
      "ponds_nearest           23699 non-null float64\n",
      "days_exposition         23699 non-null float64\n",
      "price_per_area          23699 non-null float64\n",
      "dtypes: bool(3), datetime64[ns](1), float64(15), int64(3), object(1)\n",
      "memory usage: 3.7+ MB\n"
     ]
    }
   ],
   "source": [
    "df.info()"
   ]
  },
  {
   "cell_type": "markdown",
   "metadata": {},
   "source": [
    "## Расчёты и добавление результатов в таблицу"
   ]
  },
  {
   "cell_type": "markdown",
   "metadata": {},
   "source": [
    "Согласно заданию, следует добавить в таблицу стоимость квадратного метра (что уже сделали), а также день недели, месяц и год публикации объявления. Это сделаем с помощью колонки `first_day_exposition`. Добавим день"
   ]
  },
  {
   "cell_type": "code",
   "execution_count": 66,
   "metadata": {},
   "outputs": [],
   "source": [
    "df['week_day'] = pd.DatetimeIndex(df['first_day_exposition']).day_name()"
   ]
  },
  {
   "cell_type": "markdown",
   "metadata": {},
   "source": [
    "Добавим месяц."
   ]
  },
  {
   "cell_type": "code",
   "execution_count": 67,
   "metadata": {},
   "outputs": [],
   "source": [
    "df['month'] = pd.DatetimeIndex(df['first_day_exposition']).month_name()"
   ]
  },
  {
   "cell_type": "markdown",
   "metadata": {},
   "source": [
    "Добавим год."
   ]
  },
  {
   "cell_type": "code",
   "execution_count": 68,
   "metadata": {},
   "outputs": [],
   "source": [
    "df['year'] = df['first_day_exposition'].dt.year"
   ]
  },
  {
   "cell_type": "markdown",
   "metadata": {},
   "source": [
    "Посмотрим, что получилось"
   ]
  },
  {
   "cell_type": "code",
   "execution_count": 69,
   "metadata": {
    "scrolled": true
   },
   "outputs": [
    {
     "data": {
      "text/html": [
       "<div>\n",
       "<style scoped>\n",
       "    .dataframe tbody tr th:only-of-type {\n",
       "        vertical-align: middle;\n",
       "    }\n",
       "\n",
       "    .dataframe tbody tr th {\n",
       "        vertical-align: top;\n",
       "    }\n",
       "\n",
       "    .dataframe thead th {\n",
       "        text-align: right;\n",
       "    }\n",
       "</style>\n",
       "<table border=\"1\" class=\"dataframe\">\n",
       "  <thead>\n",
       "    <tr style=\"text-align: right;\">\n",
       "      <th></th>\n",
       "      <th>year</th>\n",
       "      <th>month</th>\n",
       "      <th>week_day</th>\n",
       "    </tr>\n",
       "  </thead>\n",
       "  <tbody>\n",
       "    <tr>\n",
       "      <td>0</td>\n",
       "      <td>2019</td>\n",
       "      <td>March</td>\n",
       "      <td>Thursday</td>\n",
       "    </tr>\n",
       "    <tr>\n",
       "      <td>1</td>\n",
       "      <td>2018</td>\n",
       "      <td>December</td>\n",
       "      <td>Tuesday</td>\n",
       "    </tr>\n",
       "    <tr>\n",
       "      <td>2</td>\n",
       "      <td>2015</td>\n",
       "      <td>August</td>\n",
       "      <td>Thursday</td>\n",
       "    </tr>\n",
       "    <tr>\n",
       "      <td>3</td>\n",
       "      <td>2015</td>\n",
       "      <td>July</td>\n",
       "      <td>Friday</td>\n",
       "    </tr>\n",
       "    <tr>\n",
       "      <td>4</td>\n",
       "      <td>2018</td>\n",
       "      <td>June</td>\n",
       "      <td>Tuesday</td>\n",
       "    </tr>\n",
       "  </tbody>\n",
       "</table>\n",
       "</div>"
      ],
      "text/plain": [
       "   year     month  week_day\n",
       "0  2019     March  Thursday\n",
       "1  2018  December   Tuesday\n",
       "2  2015    August  Thursday\n",
       "3  2015      July    Friday\n",
       "4  2018      June   Tuesday"
      ]
     },
     "execution_count": 69,
     "metadata": {},
     "output_type": "execute_result"
    }
   ],
   "source": [
    "df[['year', 'month', 'week_day']].head(5)"
   ]
  },
  {
   "cell_type": "markdown",
   "metadata": {},
   "source": [
    "Теперь посчитаем и добавим в таблицу: этаж квартиры; варианты — `первый`, `последний`, `другой`. Значения для записей, у которых не было указано, сколько всего этажей (если это не первый этаж) запишем с параметром `другой`. Для начала запишем в колонку `res_floor` отношение этажа ко всем этажам в здании"
   ]
  },
  {
   "cell_type": "code",
   "execution_count": 70,
   "metadata": {},
   "outputs": [],
   "source": [
    "df['res_floor'] = df['floor']/df['floors_total']"
   ]
  },
  {
   "cell_type": "markdown",
   "metadata": {},
   "source": [
    "Если отношение единица, то тогда этаж последний"
   ]
  },
  {
   "cell_type": "code",
   "execution_count": 71,
   "metadata": {},
   "outputs": [],
   "source": [
    "df['res_floor'] = df['res_floor'].apply(lambda x: 'последний' if x == 1 else 'другой')"
   ]
  },
  {
   "cell_type": "markdown",
   "metadata": {},
   "source": [
    "Ecли этаж первый, то запишем в `res_floor` значение *первый*"
   ]
  },
  {
   "cell_type": "code",
   "execution_count": 72,
   "metadata": {},
   "outputs": [],
   "source": [
    "df.loc[df['floor']==1,'res_floor'] = 'первый'"
   ]
  },
  {
   "cell_type": "markdown",
   "metadata": {},
   "source": [
    "Посмотрим результат"
   ]
  },
  {
   "cell_type": "code",
   "execution_count": 73,
   "metadata": {
    "scrolled": true
   },
   "outputs": [
    {
     "data": {
      "text/plain": [
       "другой       17446\n",
       "последний     3336\n",
       "первый        2917\n",
       "Name: res_floor, dtype: int64"
      ]
     },
     "execution_count": 73,
     "metadata": {},
     "output_type": "execute_result"
    }
   ],
   "source": [
    "df['res_floor'].value_counts()"
   ]
  },
  {
   "cell_type": "markdown",
   "metadata": {},
   "source": [
    "Теперь требуется определить соотношение жилой и общей площади."
   ]
  },
  {
   "cell_type": "code",
   "execution_count": 74,
   "metadata": {},
   "outputs": [],
   "source": [
    "df['living_per_total'] = df['living_area']/df['total_area']"
   ]
  },
  {
   "cell_type": "markdown",
   "metadata": {},
   "source": [
    "В столбце могут возникнуть отрицательные значения - это результат того, что не во всех записях была указана жилая площадь. Аналогично определим соотношение площади кухни к общей."
   ]
  },
  {
   "cell_type": "code",
   "execution_count": 75,
   "metadata": {},
   "outputs": [],
   "source": [
    "df['kitchen_per_total'] = df['kitchen_area']/df['total_area']"
   ]
  },
  {
   "cell_type": "markdown",
   "metadata": {},
   "source": [
    "Выведем первый строки добавленных столбцов."
   ]
  },
  {
   "cell_type": "code",
   "execution_count": 76,
   "metadata": {
    "scrolled": true
   },
   "outputs": [
    {
     "data": {
      "text/html": [
       "<div>\n",
       "<style scoped>\n",
       "    .dataframe tbody tr th:only-of-type {\n",
       "        vertical-align: middle;\n",
       "    }\n",
       "\n",
       "    .dataframe tbody tr th {\n",
       "        vertical-align: top;\n",
       "    }\n",
       "\n",
       "    .dataframe thead th {\n",
       "        text-align: right;\n",
       "    }\n",
       "</style>\n",
       "<table border=\"1\" class=\"dataframe\">\n",
       "  <thead>\n",
       "    <tr style=\"text-align: right;\">\n",
       "      <th></th>\n",
       "      <th>res_floor</th>\n",
       "      <th>living_per_total</th>\n",
       "      <th>kitchen_per_total</th>\n",
       "    </tr>\n",
       "  </thead>\n",
       "  <tbody>\n",
       "    <tr>\n",
       "      <td>0</td>\n",
       "      <td>другой</td>\n",
       "      <td>0.472222</td>\n",
       "      <td>0.231481</td>\n",
       "    </tr>\n",
       "    <tr>\n",
       "      <td>1</td>\n",
       "      <td>первый</td>\n",
       "      <td>0.460396</td>\n",
       "      <td>0.272277</td>\n",
       "    </tr>\n",
       "    <tr>\n",
       "      <td>2</td>\n",
       "      <td>другой</td>\n",
       "      <td>0.612500</td>\n",
       "      <td>0.148214</td>\n",
       "    </tr>\n",
       "    <tr>\n",
       "      <td>3</td>\n",
       "      <td>другой</td>\n",
       "      <td>-0.006289</td>\n",
       "      <td>-0.006289</td>\n",
       "    </tr>\n",
       "    <tr>\n",
       "      <td>4</td>\n",
       "      <td>другой</td>\n",
       "      <td>0.320000</td>\n",
       "      <td>0.410000</td>\n",
       "    </tr>\n",
       "  </tbody>\n",
       "</table>\n",
       "</div>"
      ],
      "text/plain": [
       "  res_floor  living_per_total  kitchen_per_total\n",
       "0    другой          0.472222           0.231481\n",
       "1    первый          0.460396           0.272277\n",
       "2    другой          0.612500           0.148214\n",
       "3    другой         -0.006289          -0.006289\n",
       "4    другой          0.320000           0.410000"
      ]
     },
     "execution_count": 76,
     "metadata": {},
     "output_type": "execute_result"
    }
   ],
   "source": [
    "df[['res_floor', 'living_per_total', 'kitchen_per_total']].head()"
   ]
  },
  {
   "cell_type": "markdown",
   "metadata": {},
   "source": [
    "### Вывод\n",
    "\n",
    "Вычислили и добавили в таблицу следующие данные:\n",
    "- Год публикации объявления\n",
    "- День недели публикации объявления\n",
    "- Месяц публикации объявления\n",
    "- Этажность (*первый, последний, другой*)\n",
    "- Соотношение жилой площади к общей\n",
    "- Соотношение площади кухни к общей"
   ]
  },
  {
   "cell_type": "markdown",
   "metadata": {},
   "source": [
    "## Исследовательский анализ данных"
   ]
  },
  {
   "cell_type": "markdown",
   "metadata": {},
   "source": [
    "### Общее исследование"
   ]
  },
  {
   "cell_type": "markdown",
   "metadata": {},
   "source": [
    "Построим и исследуем гистограммы распределения квартир по площади, цене за квадратный метр, к-ву комнат, высоте потолков и к-ву дней продажи. Для этого создадим словарь по требуемым гистограммам, в которых ключ-параметр, значение - подпись графика"
   ]
  },
  {
   "cell_type": "code",
   "execution_count": 210,
   "metadata": {},
   "outputs": [],
   "source": [
    "hists={'total_area':'Распределение количества квартир в зависимости от общей площади',\n",
    "      'price_per_area':'Распределение количества квартир в зависимости от стоимоcти метра',\n",
    "      'rooms':'Распределение количества квартир в зависимости от количества комнат',\n",
    "       'ceiling_height':'Распределение количества квартир в зависимости от высоты потолков',\n",
    "       'days_exposition': 'Распределение количества квартир в зависимости от длительности продажи'\n",
    "      }"
   ]
  },
  {
   "cell_type": "markdown",
   "metadata": {},
   "source": [
    "Импортируем библиотеку `matplotlib.pyplot`"
   ]
  },
  {
   "cell_type": "code",
   "execution_count": 229,
   "metadata": {},
   "outputs": [],
   "source": [
    "import matplotlib.pyplot as plt"
   ]
  },
  {
   "cell_type": "markdown",
   "metadata": {},
   "source": [
    "Создадим функцию-генератор, которая последовательно будет выводить гистограммы"
   ]
  },
  {
   "cell_type": "code",
   "execution_count": 381,
   "metadata": {},
   "outputs": [],
   "source": [
    "def drow_hist(df,hists):\n",
    "    for key,title in hists.items():\n",
    "        hist=df[key].hist(bins=50, figsize=(12,4))\n",
    "        hist.set_xlabel(key)\n",
    "        hist.set_ylabel(\"Quantity\")\n",
    "        plt.title(title)\n",
    "        plt.show()\n",
    "        yield "
   ]
  },
  {
   "cell_type": "code",
   "execution_count": 382,
   "metadata": {},
   "outputs": [],
   "source": [
    "drow=drow_hist(df,hists)"
   ]
  },
  {
   "cell_type": "code",
   "execution_count": 383,
   "metadata": {},
   "outputs": [
    {
     "data": {
      "image/png": "[encoded data removed]",
      "text/plain": [
       "<Figure size 864x288 with 1 Axes>"
      ]
     },
     "metadata": {
      "needs_background": "light"
     },
     "output_type": "display_data"
    }
   ],
   "source": [
    "next(drow)"
   ]
  },
  {
   "cell_type": "markdown",
   "metadata": {},
   "source": [
    "Видим, что основная масса квартир имеет площади да 100м.кв., однако есть квартиры c площадью превышающей 800м. кв.\n",
    "Выведем статистику по показателю"
   ]
  },
  {
   "cell_type": "code",
   "execution_count": 375,
   "metadata": {
    "scrolled": true
   },
   "outputs": [
    {
     "data": {
      "text/plain": [
       "count    23699.000000\n",
       "mean        60.348651\n",
       "std         35.654083\n",
       "min         12.000000\n",
       "25%         40.000000\n",
       "50%         52.000000\n",
       "75%         69.900000\n",
       "max        900.000000\n",
       "Name: total_area, dtype: float64"
      ]
     },
     "execution_count": 375,
     "metadata": {},
     "output_type": "execute_result"
    }
   ],
   "source": [
    "df['total_area'].describe()"
   ]
  },
  {
   "cell_type": "markdown",
   "metadata": {},
   "source": [
    "Построим и исследуем гистограмму распределения квартир по цене за метр"
   ]
  },
  {
   "cell_type": "code",
   "execution_count": 376,
   "metadata": {
    "scrolled": true
   },
   "outputs": [
    {
     "data": {
      "image/png": "[encoded data removed]",
      "text/plain": [
       "<Figure size 864x288 with 1 Axes>"
      ]
     },
     "metadata": {
      "needs_background": "light"
     },
     "output_type": "display_data"
    }
   ],
   "source": [
    "next(drow)"
   ]
  },
  {
   "cell_type": "markdown",
   "metadata": {},
   "source": [
    "Основная масса квартир имеет стоимость метра в до 115000 за метр. Однако есть и аномальные значения со стоимостью более 1500000 за метр. Выведем статистику по показателю."
   ]
  },
  {
   "cell_type": "code",
   "execution_count": 359,
   "metadata": {
    "scrolled": true
   },
   "outputs": [
    {
     "data": {
      "text/plain": [
       "count    2.369900e+04\n",
       "mean     9.942166e+04\n",
       "std      5.030680e+04\n",
       "min      1.118349e+02\n",
       "25%      7.658547e+04\n",
       "50%      9.500000e+04\n",
       "75%      1.142563e+05\n",
       "max      1.907500e+06\n",
       "Name: price_per_area, dtype: float64"
      ]
     },
     "execution_count": 359,
     "metadata": {},
     "output_type": "execute_result"
    }
   ],
   "source": [
    "df['price_per_area'].describe()"
   ]
  },
  {
   "cell_type": "markdown",
   "metadata": {},
   "source": [
    "Построим и исследуем гистограмму распределения квартир по количеству комнат"
   ]
  },
  {
   "cell_type": "code",
   "execution_count": 377,
   "metadata": {
    "scrolled": true
   },
   "outputs": [
    {
     "data": {
      "image/png": "[encoded data removed]",
      "text/plain": [
       "<Figure size 864x288 with 1 Axes>"
      ]
     },
     "metadata": {
      "needs_background": "light"
     },
     "output_type": "display_data"
    }
   ],
   "source": [
    "next(drow)"
   ]
  },
  {
   "cell_type": "markdown",
   "metadata": {},
   "source": [
    "Видим, что основная масса имеет 1-2 комнаты. Некоторые имеет более 15 комнат. Есть также некоторые значения, где 0 комнат - это могут быть квартиры-студии, где ещё нет внутренних стен и пока неизвестно, сколько там будет комнат."
   ]
  },
  {
   "cell_type": "code",
   "execution_count": 360,
   "metadata": {},
   "outputs": [
    {
     "data": {
      "text/plain": [
       "8886      15.5\n",
       "9412      16.0\n",
       "716       17.0\n",
       "12996     18.0\n",
       "8755      18.8\n",
       "         ...  \n",
       "13613     58.4\n",
       "21227     71.0\n",
       "3458      73.6\n",
       "20082     98.4\n",
       "19392    371.0\n",
       "Name: total_area, Length: 197, dtype: float64"
      ]
     },
     "execution_count": 360,
     "metadata": {},
     "output_type": "execute_result"
    }
   ],
   "source": [
    "df[df['rooms']==0]['total_area'].sort_values()"
   ]
  },
  {
   "cell_type": "markdown",
   "metadata": {},
   "source": [
    "Да, некоторые из них большой площади. Логично, чтов таких квартирах не будет указана площадт кухни. Проверим"
   ]
  },
  {
   "cell_type": "code",
   "execution_count": 82,
   "metadata": {},
   "outputs": [
    {
     "data": {
      "text/plain": [
       "-1.0    197\n",
       "Name: kitchen_area, dtype: int64"
      ]
     },
     "execution_count": 82,
     "metadata": {},
     "output_type": "execute_result"
    }
   ],
   "source": [
    "df[df['rooms']==0]['kitchen_area'].value_counts()"
   ]
  },
  {
   "cell_type": "markdown",
   "metadata": {},
   "source": [
    "Действительно. Похоже на правду. -1 мы заменили пропуски в площадях кухни. Вероятно среди них будут записи и о продажи комнат в квартире. Можно исследовать дальше, но это не входит в наши задачи.\n",
    "\n",
    "Выведем статистику по к-ву комнат"
   ]
  },
  {
   "cell_type": "code",
   "execution_count": 361,
   "metadata": {
    "scrolled": true
   },
   "outputs": [
    {
     "data": {
      "text/plain": [
       "count    23699.000000\n",
       "mean         2.070636\n",
       "std          1.078405\n",
       "min          0.000000\n",
       "25%          1.000000\n",
       "50%          2.000000\n",
       "75%          3.000000\n",
       "max         19.000000\n",
       "Name: rooms, dtype: float64"
      ]
     },
     "execution_count": 361,
     "metadata": {},
     "output_type": "execute_result"
    }
   ],
   "source": [
    "df['rooms'].describe()"
   ]
  },
  {
   "cell_type": "markdown",
   "metadata": {},
   "source": [
    "Построим и исследуем гистограмму распределения квартир по высоте потолков"
   ]
  },
  {
   "cell_type": "code",
   "execution_count": 378,
   "metadata": {
    "scrolled": false
   },
   "outputs": [
    {
     "data": {
      "image/png": "[encoded data removed]",
      "text/plain": [
       "<Figure size 864x288 with 1 Axes>"
      ]
     },
     "metadata": {
      "needs_background": "light"
     },
     "output_type": "display_data"
    }
   ],
   "source": [
    "next(drow)"
   ]
  },
  {
   "cell_type": "markdown",
   "metadata": {},
   "source": [
    "Основная масса имеет потолки от 2.5 до 3 метров. Выведем статистику по параметру. Существенный пик наблюдается при значении 2.65- что соответствует медианному значению, которым заполняли пропуски."
   ]
  },
  {
   "cell_type": "code",
   "execution_count": 85,
   "metadata": {},
   "outputs": [
    {
     "data": {
      "text/plain": [
       "count    23699.000000\n",
       "mean         2.697778\n",
       "std          0.231910\n",
       "min          2.000000\n",
       "25%          2.600000\n",
       "50%          2.650000\n",
       "75%          2.700000\n",
       "max          8.300000\n",
       "Name: ceiling_height, dtype: float64"
      ]
     },
     "execution_count": 85,
     "metadata": {},
     "output_type": "execute_result"
    }
   ],
   "source": [
    "df['ceiling_height'].describe()"
   ]
  },
  {
   "cell_type": "markdown",
   "metadata": {},
   "source": [
    "Построим гистограмму и изучим распределения времени продажи квартиры"
   ]
  },
  {
   "cell_type": "code",
   "execution_count": 379,
   "metadata": {
    "scrolled": true
   },
   "outputs": [
    {
     "data": {
      "image/png": "[encoded data removed]",
      "text/plain": [
       "<Figure size 864x288 with 1 Axes>"
      ]
     },
     "metadata": {
      "needs_background": "light"
     },
     "output_type": "display_data"
    }
   ],
   "source": [
    "next(drow)"
   ]
  },
  {
   "cell_type": "code",
   "execution_count": 364,
   "metadata": {
    "scrolled": true
   },
   "outputs": [
    {
     "data": {
      "text/plain": [
       "count    23699.000000\n",
       "mean       169.360226\n",
       "std        206.535633\n",
       "min          1.000000\n",
       "25%         45.000000\n",
       "50%         95.000000\n",
       "75%        199.000000\n",
       "max       1580.000000\n",
       "Name: days_exposition, dtype: float64"
      ]
     },
     "execution_count": 364,
     "metadata": {},
     "output_type": "execute_result"
    }
   ],
   "source": [
    "df['days_exposition'].describe()"
   ]
  },
  {
   "cell_type": "markdown",
   "metadata": {},
   "source": [
    "Квартиры в среднем продаются за 169 дней и 75 процентов квартир продаётся за срок до 200 дней. Определим,какие квартиры продавались быстрее и медленнее всего. Для этого определим срок, за который продали только 5% всех квартир"
   ]
  },
  {
   "cell_type": "code",
   "execution_count": 88,
   "metadata": {
    "scrolled": true
   },
   "outputs": [
    {
     "data": {
      "text/plain": [
       "10.0"
      ]
     },
     "execution_count": 88,
     "metadata": {},
     "output_type": "execute_result"
    }
   ],
   "source": [
    "df['days_exposition'].quantile(0.05)"
   ]
  },
  {
   "cell_type": "markdown",
   "metadata": {},
   "source": [
    "Значит если квартиру продали менее, чем за 10 дней - она попала в эти 5%, что считаем быстрой продажей. Определим, квартиры, которые продавались дольше всего."
   ]
  },
  {
   "cell_type": "code",
   "execution_count": 89,
   "metadata": {
    "scrolled": true
   },
   "outputs": [
    {
     "data": {
      "text/plain": [
       "603.0"
      ]
     },
     "execution_count": 89,
     "metadata": {},
     "output_type": "execute_result"
    }
   ],
   "source": [
    "df['days_exposition'].quantile(0.95)"
   ]
  },
  {
   "cell_type": "markdown",
   "metadata": {},
   "source": [
    "Таким образом, если квартира продавалась более 603 дней, то это необычайно долго. Это считаем долгой продажей."
   ]
  },
  {
   "cell_type": "markdown",
   "metadata": {},
   "source": [
    "Для анализа из исходных данных сформируем DataFrame, в котором уберём выбивающиеся значения. Рассмотрим записи, где площадь квартиры менее 200м, цена за квадрат менее 200000, количество комнат не более 10 и есть данные о расстоянии до центра."
   ]
  },
  {
   "cell_type": "code",
   "execution_count": 93,
   "metadata": {},
   "outputs": [],
   "source": [
    "good_df=df.loc[(df['total_area']<=200) & \n",
    "                (df['price_per_area']<200000) & (df['rooms']<=10) & (df['city_centers_nearest']>0)]"
   ]
  },
  {
   "cell_type": "markdown",
   "metadata": {},
   "source": [
    "Посмотрим, насколько изменился размер фрейма"
   ]
  },
  {
   "cell_type": "code",
   "execution_count": 94,
   "metadata": {},
   "outputs": [
    {
     "data": {
      "text/plain": [
       "19368"
      ]
     },
     "execution_count": 94,
     "metadata": {},
     "output_type": "execute_result"
    }
   ],
   "source": [
    "len(good_df)"
   ]
  },
  {
   "cell_type": "markdown",
   "metadata": {},
   "source": [
    " Изучим, зависит ли цена от квадратного метра, числа комнат, этажа (первого или последнего), удалённости от центра."
   ]
  },
  {
   "cell_type": "code",
   "execution_count": 92,
   "metadata": {
    "scrolled": true
   },
   "outputs": [
    {
     "data": {
      "text/plain": [
       "<matplotlib.axes._subplots.AxesSubplot at 0x7f1200d71350>"
      ]
     },
     "execution_count": 92,
     "metadata": {},
     "output_type": "execute_result"
    },
    {
     "data": {
      "image/png": "[encoded data removed]",
      "text/plain": [
       "<Figure size 864x432 with 2 Axes>"
      ]
     },
     "metadata": {
      "needs_background": "light"
     },
     "output_type": "display_data"
    }
   ],
   "source": [
    "good_df.plot(x='total_area', y='price_per_area', kind='hexbin', gridsize=50, figsize=(12, 6), sharex=False, grid=True)"
   ]
  },
  {
   "cell_type": "markdown",
   "metadata": {},
   "source": [
    "Из диаграммы видно, что c увеличинием общей площади цена за квадрат незначительно изменяется. Проверим корреляцию."
   ]
  },
  {
   "cell_type": "code",
   "execution_count": 93,
   "metadata": {},
   "outputs": [
    {
     "data": {
      "text/plain": [
       "0.09654260734767936"
      ]
     },
     "execution_count": 93,
     "metadata": {},
     "output_type": "execute_result"
    }
   ],
   "source": [
    "good_df['total_area'].corr(good_df['price_per_area'])"
   ]
  },
  {
   "cell_type": "markdown",
   "metadata": {},
   "source": [
    "Корреляция говорит о очень слабой связи параметров.\n",
    "\n",
    "Посмотрим как влияет к-во комнат на стоимость квадратного метра."
   ]
  },
  {
   "cell_type": "code",
   "execution_count": 94,
   "metadata": {
    "scrolled": true
   },
   "outputs": [
    {
     "data": {
      "text/html": [
       "<div>\n",
       "<style scoped>\n",
       "    .dataframe tbody tr th:only-of-type {\n",
       "        vertical-align: middle;\n",
       "    }\n",
       "\n",
       "    .dataframe tbody tr th {\n",
       "        vertical-align: top;\n",
       "    }\n",
       "\n",
       "    .dataframe thead tr th {\n",
       "        text-align: left;\n",
       "    }\n",
       "\n",
       "    .dataframe thead tr:last-of-type th {\n",
       "        text-align: right;\n",
       "    }\n",
       "</style>\n",
       "<table border=\"1\" class=\"dataframe\">\n",
       "  <thead>\n",
       "    <tr>\n",
       "      <th></th>\n",
       "      <th>mean</th>\n",
       "      <th>count</th>\n",
       "    </tr>\n",
       "    <tr>\n",
       "      <th></th>\n",
       "      <th>price_per_area</th>\n",
       "      <th>price_per_area</th>\n",
       "    </tr>\n",
       "    <tr>\n",
       "      <th>rooms</th>\n",
       "      <th></th>\n",
       "      <th></th>\n",
       "    </tr>\n",
       "  </thead>\n",
       "  <tbody>\n",
       "    <tr>\n",
       "      <td>0</td>\n",
       "      <td>111978.255747</td>\n",
       "      <td>172</td>\n",
       "    </tr>\n",
       "    <tr>\n",
       "      <td>1</td>\n",
       "      <td>106856.800223</td>\n",
       "      <td>6745</td>\n",
       "    </tr>\n",
       "    <tr>\n",
       "      <td>2</td>\n",
       "      <td>102027.831077</td>\n",
       "      <td>6356</td>\n",
       "    </tr>\n",
       "    <tr>\n",
       "      <td>3</td>\n",
       "      <td>98082.486339</td>\n",
       "      <td>4801</td>\n",
       "    </tr>\n",
       "    <tr>\n",
       "      <td>4</td>\n",
       "      <td>100090.905430</td>\n",
       "      <td>979</td>\n",
       "    </tr>\n",
       "    <tr>\n",
       "      <td>5</td>\n",
       "      <td>101159.871604</td>\n",
       "      <td>236</td>\n",
       "    </tr>\n",
       "    <tr>\n",
       "      <td>6</td>\n",
       "      <td>98326.910752</td>\n",
       "      <td>57</td>\n",
       "    </tr>\n",
       "    <tr>\n",
       "      <td>7</td>\n",
       "      <td>119583.061090</td>\n",
       "      <td>20</td>\n",
       "    </tr>\n",
       "    <tr>\n",
       "      <td>8</td>\n",
       "      <td>111694.909344</td>\n",
       "      <td>2</td>\n",
       "    </tr>\n",
       "  </tbody>\n",
       "</table>\n",
       "</div>"
      ],
      "text/plain": [
       "                mean          count\n",
       "      price_per_area price_per_area\n",
       "rooms                              \n",
       "0      111978.255747            172\n",
       "1      106856.800223           6745\n",
       "2      102027.831077           6356\n",
       "3       98082.486339           4801\n",
       "4      100090.905430            979\n",
       "5      101159.871604            236\n",
       "6       98326.910752             57\n",
       "7      119583.061090             20\n",
       "8      111694.909344              2"
      ]
     },
     "execution_count": 94,
     "metadata": {},
     "output_type": "execute_result"
    }
   ],
   "source": [
    "good_df.pivot_table(index='rooms', values='price_per_area', aggfunc=['mean','count'])"
   ]
  },
  {
   "cell_type": "markdown",
   "metadata": {},
   "source": [
    "Из таблицы видно, что цена квадрата для квартир без планировки, (возможно) комнат и однокомнатных, потом идёт спад при увеличении количества комнат и при количестве комнат больше 4 опять наблюдается рост.\n",
    "\n",
    "Посмотрим как влияет этаж на цену"
   ]
  },
  {
   "cell_type": "code",
   "execution_count": 95,
   "metadata": {
    "scrolled": true
   },
   "outputs": [
    {
     "data": {
      "text/html": [
       "<div>\n",
       "<style scoped>\n",
       "    .dataframe tbody tr th:only-of-type {\n",
       "        vertical-align: middle;\n",
       "    }\n",
       "\n",
       "    .dataframe tbody tr th {\n",
       "        vertical-align: top;\n",
       "    }\n",
       "\n",
       "    .dataframe thead tr th {\n",
       "        text-align: left;\n",
       "    }\n",
       "\n",
       "    .dataframe thead tr:last-of-type th {\n",
       "        text-align: right;\n",
       "    }\n",
       "</style>\n",
       "<table border=\"1\" class=\"dataframe\">\n",
       "  <thead>\n",
       "    <tr>\n",
       "      <th></th>\n",
       "      <th>mean</th>\n",
       "      <th>count</th>\n",
       "    </tr>\n",
       "    <tr>\n",
       "      <th></th>\n",
       "      <th>price_per_area</th>\n",
       "      <th>price_per_area</th>\n",
       "    </tr>\n",
       "    <tr>\n",
       "      <th>res_floor</th>\n",
       "      <th></th>\n",
       "      <th></th>\n",
       "    </tr>\n",
       "  </thead>\n",
       "  <tbody>\n",
       "    <tr>\n",
       "      <td>другой</td>\n",
       "      <td>104821.577147</td>\n",
       "      <td>14824</td>\n",
       "    </tr>\n",
       "    <tr>\n",
       "      <td>первый</td>\n",
       "      <td>91737.312420</td>\n",
       "      <td>2142</td>\n",
       "    </tr>\n",
       "    <tr>\n",
       "      <td>последний</td>\n",
       "      <td>99541.347612</td>\n",
       "      <td>2402</td>\n",
       "    </tr>\n",
       "  </tbody>\n",
       "</table>\n",
       "</div>"
      ],
      "text/plain": [
       "                    mean          count\n",
       "          price_per_area price_per_area\n",
       "res_floor                              \n",
       "другой     104821.577147          14824\n",
       "первый      91737.312420           2142\n",
       "последний   99541.347612           2402"
      ]
     },
     "execution_count": 95,
     "metadata": {},
     "output_type": "execute_result"
    }
   ],
   "source": [
    "good_df.pivot_table(index='res_floor', values='price_per_area', aggfunc=['mean','count'])"
   ]
  },
  {
   "cell_type": "markdown",
   "metadata": {},
   "source": [
    "Видим, что самые дешёвые квартиры на первом этаже, потом на последнем и самые дорогие в колонке другой"
   ]
  },
  {
   "cell_type": "markdown",
   "metadata": {},
   "source": [
    "Посмотрим, как влияет на стоимость удалённость от центра."
   ]
  },
  {
   "cell_type": "code",
   "execution_count": 96,
   "metadata": {
    "scrolled": false
   },
   "outputs": [
    {
     "data": {
      "text/plain": [
       "<matplotlib.axes._subplots.AxesSubplot at 0x7f1200aee290>"
      ]
     },
     "execution_count": 96,
     "metadata": {},
     "output_type": "execute_result"
    },
    {
     "data": {
      "image/png": "[encoded data removed]",
      "text/plain": [
       "<Figure size 864x432 with 2 Axes>"
      ]
     },
     "metadata": {
      "needs_background": "light"
     },
     "output_type": "display_data"
    }
   ],
   "source": [
    "good_df.plot(x='city_centers_nearest', y='price_per_area', kind='hexbin', gridsize=50, figsize=(12, 6), sharex=False, grid=True)"
   ]
  },
  {
   "cell_type": "markdown",
   "metadata": {},
   "source": [
    "Видим, что с увеличением расстояния цена снижается. Посмотрим корреляцию параметров"
   ]
  },
  {
   "cell_type": "code",
   "execution_count": 97,
   "metadata": {},
   "outputs": [
    {
     "data": {
      "text/plain": [
       "-0.4553131125274006"
      ]
     },
     "execution_count": 97,
     "metadata": {},
     "output_type": "execute_result"
    }
   ],
   "source": [
    "good_df['city_centers_nearest'].corr(good_df['price_per_area'])"
   ]
  },
  {
   "cell_type": "markdown",
   "metadata": {},
   "source": [
    "Корреляция отражает достаточно существенную отрицательную зависимость."
   ]
  },
  {
   "cell_type": "markdown",
   "metadata": {},
   "source": [
    "Посмотрим как зависит стоимость от года размещения"
   ]
  },
  {
   "cell_type": "code",
   "execution_count": 98,
   "metadata": {},
   "outputs": [
    {
     "data": {
      "text/html": [
       "<div>\n",
       "<style scoped>\n",
       "    .dataframe tbody tr th:only-of-type {\n",
       "        vertical-align: middle;\n",
       "    }\n",
       "\n",
       "    .dataframe tbody tr th {\n",
       "        vertical-align: top;\n",
       "    }\n",
       "\n",
       "    .dataframe thead tr th {\n",
       "        text-align: left;\n",
       "    }\n",
       "\n",
       "    .dataframe thead tr:last-of-type th {\n",
       "        text-align: right;\n",
       "    }\n",
       "</style>\n",
       "<table border=\"1\" class=\"dataframe\">\n",
       "  <thead>\n",
       "    <tr>\n",
       "      <th></th>\n",
       "      <th>mean</th>\n",
       "      <th>count</th>\n",
       "    </tr>\n",
       "    <tr>\n",
       "      <th></th>\n",
       "      <th>price_per_area</th>\n",
       "      <th>price_per_area</th>\n",
       "    </tr>\n",
       "    <tr>\n",
       "      <th>year</th>\n",
       "      <th></th>\n",
       "      <th></th>\n",
       "    </tr>\n",
       "  </thead>\n",
       "  <tbody>\n",
       "    <tr>\n",
       "      <td>2014</td>\n",
       "      <td>116724.128101</td>\n",
       "      <td>111</td>\n",
       "    </tr>\n",
       "    <tr>\n",
       "      <td>2015</td>\n",
       "      <td>101175.310681</td>\n",
       "      <td>991</td>\n",
       "    </tr>\n",
       "    <tr>\n",
       "      <td>2016</td>\n",
       "      <td>98778.172225</td>\n",
       "      <td>2289</td>\n",
       "    </tr>\n",
       "    <tr>\n",
       "      <td>2017</td>\n",
       "      <td>99809.344600</td>\n",
       "      <td>6808</td>\n",
       "    </tr>\n",
       "    <tr>\n",
       "      <td>2018</td>\n",
       "      <td>103979.903685</td>\n",
       "      <td>6857</td>\n",
       "    </tr>\n",
       "    <tr>\n",
       "      <td>2019</td>\n",
       "      <td>111443.829961</td>\n",
       "      <td>2312</td>\n",
       "    </tr>\n",
       "  </tbody>\n",
       "</table>\n",
       "</div>"
      ],
      "text/plain": [
       "               mean          count\n",
       "     price_per_area price_per_area\n",
       "year                              \n",
       "2014  116724.128101            111\n",
       "2015  101175.310681            991\n",
       "2016   98778.172225           2289\n",
       "2017   99809.344600           6808\n",
       "2018  103979.903685           6857\n",
       "2019  111443.829961           2312"
      ]
     },
     "execution_count": 98,
     "metadata": {},
     "output_type": "execute_result"
    }
   ],
   "source": [
    "good_df.pivot_table(index='year', values='price_per_area', aggfunc=['mean','count'])"
   ]
  },
  {
   "cell_type": "markdown",
   "metadata": {},
   "source": [
    "Видно, что наибольшую стоимость имели квартиры, которые выставлялись в 2014 году, хоть их было и немного. Потом с ростом числа квартир цена снижалась до 2016 года, а затем опять несколько повысилась. \n",
    "\n",
    "Посмотрим зависимость по месяцам."
   ]
  },
  {
   "cell_type": "code",
   "execution_count": 99,
   "metadata": {
    "scrolled": true
   },
   "outputs": [
    {
     "data": {
      "text/html": [
       "<div>\n",
       "<style scoped>\n",
       "    .dataframe tbody tr th:only-of-type {\n",
       "        vertical-align: middle;\n",
       "    }\n",
       "\n",
       "    .dataframe tbody tr th {\n",
       "        vertical-align: top;\n",
       "    }\n",
       "\n",
       "    .dataframe thead tr th {\n",
       "        text-align: left;\n",
       "    }\n",
       "\n",
       "    .dataframe thead tr:last-of-type th {\n",
       "        text-align: right;\n",
       "    }\n",
       "</style>\n",
       "<table border=\"1\" class=\"dataframe\">\n",
       "  <thead>\n",
       "    <tr>\n",
       "      <th></th>\n",
       "      <th>mean</th>\n",
       "      <th>count</th>\n",
       "    </tr>\n",
       "    <tr>\n",
       "      <th></th>\n",
       "      <th>price_per_area</th>\n",
       "      <th>price_per_area</th>\n",
       "    </tr>\n",
       "    <tr>\n",
       "      <th>month</th>\n",
       "      <th></th>\n",
       "      <th></th>\n",
       "    </tr>\n",
       "  </thead>\n",
       "  <tbody>\n",
       "    <tr>\n",
       "      <td>April</td>\n",
       "      <td>104020.622411</td>\n",
       "      <td>1960</td>\n",
       "    </tr>\n",
       "    <tr>\n",
       "      <td>August</td>\n",
       "      <td>103549.700398</td>\n",
       "      <td>1456</td>\n",
       "    </tr>\n",
       "    <tr>\n",
       "      <td>December</td>\n",
       "      <td>103637.684866</td>\n",
       "      <td>1284</td>\n",
       "    </tr>\n",
       "    <tr>\n",
       "      <td>February</td>\n",
       "      <td>102560.624681</td>\n",
       "      <td>2126</td>\n",
       "    </tr>\n",
       "    <tr>\n",
       "      <td>January</td>\n",
       "      <td>103770.952481</td>\n",
       "      <td>1204</td>\n",
       "    </tr>\n",
       "    <tr>\n",
       "      <td>July</td>\n",
       "      <td>101873.572549</td>\n",
       "      <td>1403</td>\n",
       "    </tr>\n",
       "    <tr>\n",
       "      <td>June</td>\n",
       "      <td>99550.609656</td>\n",
       "      <td>1428</td>\n",
       "    </tr>\n",
       "    <tr>\n",
       "      <td>March</td>\n",
       "      <td>103760.874669</td>\n",
       "      <td>2069</td>\n",
       "    </tr>\n",
       "    <tr>\n",
       "      <td>May</td>\n",
       "      <td>101335.301997</td>\n",
       "      <td>1068</td>\n",
       "    </tr>\n",
       "    <tr>\n",
       "      <td>November</td>\n",
       "      <td>102034.871792</td>\n",
       "      <td>1963</td>\n",
       "    </tr>\n",
       "    <tr>\n",
       "      <td>October</td>\n",
       "      <td>102380.296570</td>\n",
       "      <td>1758</td>\n",
       "    </tr>\n",
       "    <tr>\n",
       "      <td>September</td>\n",
       "      <td>103394.635582</td>\n",
       "      <td>1649</td>\n",
       "    </tr>\n",
       "  </tbody>\n",
       "</table>\n",
       "</div>"
      ],
      "text/plain": [
       "                    mean          count\n",
       "          price_per_area price_per_area\n",
       "month                                  \n",
       "April      104020.622411           1960\n",
       "August     103549.700398           1456\n",
       "December   103637.684866           1284\n",
       "February   102560.624681           2126\n",
       "January    103770.952481           1204\n",
       "July       101873.572549           1403\n",
       "June        99550.609656           1428\n",
       "March      103760.874669           2069\n",
       "May        101335.301997           1068\n",
       "November   102034.871792           1963\n",
       "October    102380.296570           1758\n",
       "September  103394.635582           1649"
      ]
     },
     "execution_count": 99,
     "metadata": {},
     "output_type": "execute_result"
    }
   ],
   "source": [
    "good_df.pivot_table(index='month', values='price_per_area', aggfunc=['mean','count'])"
   ]
  },
  {
   "cell_type": "markdown",
   "metadata": {},
   "source": [
    "Видим, что цена более-менее равномерна по месяцам. Наименьшее значение имеет в мае-июне-июле. Это не самое лучшее время для продажи квартиры. Посмотрим зависимость от дня недели."
   ]
  },
  {
   "cell_type": "code",
   "execution_count": 100,
   "metadata": {
    "scrolled": true
   },
   "outputs": [
    {
     "data": {
      "text/html": [
       "<div>\n",
       "<style scoped>\n",
       "    .dataframe tbody tr th:only-of-type {\n",
       "        vertical-align: middle;\n",
       "    }\n",
       "\n",
       "    .dataframe tbody tr th {\n",
       "        vertical-align: top;\n",
       "    }\n",
       "\n",
       "    .dataframe thead tr th {\n",
       "        text-align: left;\n",
       "    }\n",
       "\n",
       "    .dataframe thead tr:last-of-type th {\n",
       "        text-align: right;\n",
       "    }\n",
       "</style>\n",
       "<table border=\"1\" class=\"dataframe\">\n",
       "  <thead>\n",
       "    <tr>\n",
       "      <th></th>\n",
       "      <th>mean</th>\n",
       "      <th>count</th>\n",
       "    </tr>\n",
       "    <tr>\n",
       "      <th></th>\n",
       "      <th>price_per_area</th>\n",
       "      <th>price_per_area</th>\n",
       "    </tr>\n",
       "    <tr>\n",
       "      <th>week_day</th>\n",
       "      <th></th>\n",
       "      <th></th>\n",
       "    </tr>\n",
       "  </thead>\n",
       "  <tbody>\n",
       "    <tr>\n",
       "      <td>Friday</td>\n",
       "      <td>102218.949217</td>\n",
       "      <td>3298</td>\n",
       "    </tr>\n",
       "    <tr>\n",
       "      <td>Monday</td>\n",
       "      <td>102808.462665</td>\n",
       "      <td>2953</td>\n",
       "    </tr>\n",
       "    <tr>\n",
       "      <td>Saturday</td>\n",
       "      <td>102231.673438</td>\n",
       "      <td>1533</td>\n",
       "    </tr>\n",
       "    <tr>\n",
       "      <td>Sunday</td>\n",
       "      <td>102246.140664</td>\n",
       "      <td>1389</td>\n",
       "    </tr>\n",
       "    <tr>\n",
       "      <td>Thursday</td>\n",
       "      <td>102903.219141</td>\n",
       "      <td>3480</td>\n",
       "    </tr>\n",
       "    <tr>\n",
       "      <td>Tuesday</td>\n",
       "      <td>102802.081903</td>\n",
       "      <td>3472</td>\n",
       "    </tr>\n",
       "    <tr>\n",
       "      <td>Wednesday</td>\n",
       "      <td>103296.373510</td>\n",
       "      <td>3243</td>\n",
       "    </tr>\n",
       "  </tbody>\n",
       "</table>\n",
       "</div>"
      ],
      "text/plain": [
       "                    mean          count\n",
       "          price_per_area price_per_area\n",
       "week_day                               \n",
       "Friday     102218.949217           3298\n",
       "Monday     102808.462665           2953\n",
       "Saturday   102231.673438           1533\n",
       "Sunday     102246.140664           1389\n",
       "Thursday   102903.219141           3480\n",
       "Tuesday    102802.081903           3472\n",
       "Wednesday  103296.373510           3243"
      ]
     },
     "execution_count": 100,
     "metadata": {},
     "output_type": "execute_result"
    }
   ],
   "source": [
    "good_df.pivot_table(index='week_day', values='price_per_area', aggfunc=['mean','count'])"
   ]
  },
  {
   "cell_type": "markdown",
   "metadata": {},
   "source": [
    "Видим, что цена практически не зависит от дня недели, однако количество обявлений на выходные меньше, чем в рабочие дни."
   ]
  },
  {
   "cell_type": "markdown",
   "metadata": {},
   "source": [
    "Выберем 10 населённых пунктов с наибольшим числом объявлений и посчитаем среднюю цену квадратного метра в этих населённых пунктах."
   ]
  },
  {
   "cell_type": "code",
   "execution_count": 101,
   "metadata": {
    "scrolled": true
   },
   "outputs": [
    {
     "data": {
      "text/html": [
       "<div>\n",
       "<style scoped>\n",
       "    .dataframe tbody tr th:only-of-type {\n",
       "        vertical-align: middle;\n",
       "    }\n",
       "\n",
       "    .dataframe tbody tr th {\n",
       "        vertical-align: top;\n",
       "    }\n",
       "\n",
       "    .dataframe thead tr th {\n",
       "        text-align: left;\n",
       "    }\n",
       "\n",
       "    .dataframe thead tr:last-of-type th {\n",
       "        text-align: right;\n",
       "    }\n",
       "</style>\n",
       "<table border=\"1\" class=\"dataframe\">\n",
       "  <thead>\n",
       "    <tr>\n",
       "      <th></th>\n",
       "      <th>mean</th>\n",
       "      <th>count</th>\n",
       "    </tr>\n",
       "    <tr>\n",
       "      <th></th>\n",
       "      <th>price_per_area</th>\n",
       "      <th>price_per_area</th>\n",
       "    </tr>\n",
       "    <tr>\n",
       "      <th>locality_name</th>\n",
       "      <th></th>\n",
       "      <th></th>\n",
       "    </tr>\n",
       "  </thead>\n",
       "  <tbody>\n",
       "    <tr>\n",
       "      <td>Санкт-Петербург</td>\n",
       "      <td>108263.747597</td>\n",
       "      <td>15061</td>\n",
       "    </tr>\n",
       "    <tr>\n",
       "      <td>Мурино</td>\n",
       "      <td>86087.512050</td>\n",
       "      <td>590</td>\n",
       "    </tr>\n",
       "    <tr>\n",
       "      <td>Кудрово</td>\n",
       "      <td>95324.930544</td>\n",
       "      <td>472</td>\n",
       "    </tr>\n",
       "    <tr>\n",
       "      <td>Шушары</td>\n",
       "      <td>78677.364217</td>\n",
       "      <td>440</td>\n",
       "    </tr>\n",
       "    <tr>\n",
       "      <td>Всеволожск</td>\n",
       "      <td>67214.252635</td>\n",
       "      <td>397</td>\n",
       "    </tr>\n",
       "    <tr>\n",
       "      <td>Пушкин</td>\n",
       "      <td>102131.358546</td>\n",
       "      <td>361</td>\n",
       "    </tr>\n",
       "    <tr>\n",
       "      <td>Колпино</td>\n",
       "      <td>75333.295801</td>\n",
       "      <td>337</td>\n",
       "    </tr>\n",
       "    <tr>\n",
       "      <td>Парголово</td>\n",
       "      <td>90332.263023</td>\n",
       "      <td>326</td>\n",
       "    </tr>\n",
       "    <tr>\n",
       "      <td>Гатчина</td>\n",
       "      <td>68746.146763</td>\n",
       "      <td>307</td>\n",
       "    </tr>\n",
       "    <tr>\n",
       "      <td>Петергоф</td>\n",
       "      <td>84051.488831</td>\n",
       "      <td>200</td>\n",
       "    </tr>\n",
       "  </tbody>\n",
       "</table>\n",
       "</div>"
      ],
      "text/plain": [
       "                          mean          count\n",
       "                price_per_area price_per_area\n",
       "locality_name                                \n",
       "Санкт-Петербург  108263.747597          15061\n",
       "Мурино            86087.512050            590\n",
       "Кудрово           95324.930544            472\n",
       "Шушары            78677.364217            440\n",
       "Всеволожск        67214.252635            397\n",
       "Пушкин           102131.358546            361\n",
       "Колпино           75333.295801            337\n",
       "Парголово         90332.263023            326\n",
       "Гатчина           68746.146763            307\n",
       "Петергоф          84051.488831            200"
      ]
     },
     "execution_count": 101,
     "metadata": {},
     "output_type": "execute_result"
    }
   ],
   "source": [
    "(good_df.pivot_table(index='locality_name', values='price_per_area', aggfunc=['mean','count'])\n",
    ".sort_values(by=('count', 'price_per_area'), ascending=False).head(10))"
   ]
  },
  {
   "cell_type": "markdown",
   "metadata": {},
   "source": [
    "Больше всего объявлений в Санк-Петербурге и замыкает десятку Петергоф.\n",
    "\n",
    "Выделим населённые пункты с самой высокой стоимостью жилья."
   ]
  },
  {
   "cell_type": "code",
   "execution_count": 102,
   "metadata": {
    "scrolled": true
   },
   "outputs": [
    {
     "data": {
      "text/html": [
       "<div>\n",
       "<style scoped>\n",
       "    .dataframe tbody tr th:only-of-type {\n",
       "        vertical-align: middle;\n",
       "    }\n",
       "\n",
       "    .dataframe tbody tr th {\n",
       "        vertical-align: top;\n",
       "    }\n",
       "\n",
       "    .dataframe thead tr th {\n",
       "        text-align: left;\n",
       "    }\n",
       "\n",
       "    .dataframe thead tr:last-of-type th {\n",
       "        text-align: right;\n",
       "    }\n",
       "</style>\n",
       "<table border=\"1\" class=\"dataframe\">\n",
       "  <thead>\n",
       "    <tr>\n",
       "      <th></th>\n",
       "      <th>mean</th>\n",
       "      <th>count</th>\n",
       "    </tr>\n",
       "    <tr>\n",
       "      <th></th>\n",
       "      <th>price_per_area</th>\n",
       "      <th>price_per_area</th>\n",
       "    </tr>\n",
       "    <tr>\n",
       "      <th>locality_name</th>\n",
       "      <th></th>\n",
       "      <th></th>\n",
       "    </tr>\n",
       "  </thead>\n",
       "  <tbody>\n",
       "    <tr>\n",
       "      <td>Санкт-Петербург</td>\n",
       "      <td>108263.747597</td>\n",
       "      <td>15061</td>\n",
       "    </tr>\n",
       "    <tr>\n",
       "      <td>Репино</td>\n",
       "      <td>104238.614786</td>\n",
       "      <td>4</td>\n",
       "    </tr>\n",
       "    <tr>\n",
       "      <td>Пушкин</td>\n",
       "      <td>102131.358546</td>\n",
       "      <td>361</td>\n",
       "    </tr>\n",
       "    <tr>\n",
       "      <td>Сестрорецк</td>\n",
       "      <td>101912.339326</td>\n",
       "      <td>182</td>\n",
       "    </tr>\n",
       "    <tr>\n",
       "      <td>Лисий Нос</td>\n",
       "      <td>100660.814239</td>\n",
       "      <td>3</td>\n",
       "    </tr>\n",
       "    <tr>\n",
       "      <td>Зеленогорск</td>\n",
       "      <td>100636.523580</td>\n",
       "      <td>22</td>\n",
       "    </tr>\n",
       "    <tr>\n",
       "      <td>Левашово</td>\n",
       "      <td>96997.690531</td>\n",
       "      <td>1</td>\n",
       "    </tr>\n",
       "    <tr>\n",
       "      <td>Кудрово</td>\n",
       "      <td>95324.930544</td>\n",
       "      <td>472</td>\n",
       "    </tr>\n",
       "    <tr>\n",
       "      <td>Неизвестный н.п.</td>\n",
       "      <td>94309.994932</td>\n",
       "      <td>49</td>\n",
       "    </tr>\n",
       "    <tr>\n",
       "      <td>Парголово</td>\n",
       "      <td>90332.263023</td>\n",
       "      <td>326</td>\n",
       "    </tr>\n",
       "  </tbody>\n",
       "</table>\n",
       "</div>"
      ],
      "text/plain": [
       "                           mean          count\n",
       "                 price_per_area price_per_area\n",
       "locality_name                                 \n",
       "Санкт-Петербург   108263.747597          15061\n",
       "Репино            104238.614786              4\n",
       "Пушкин            102131.358546            361\n",
       "Сестрорецк        101912.339326            182\n",
       "Лисий Нос         100660.814239              3\n",
       "Зеленогорск       100636.523580             22\n",
       "Левашово           96997.690531              1\n",
       "Кудрово            95324.930544            472\n",
       "Неизвестный н.п.   94309.994932             49\n",
       "Парголово          90332.263023            326"
      ]
     },
     "execution_count": 102,
     "metadata": {},
     "output_type": "execute_result"
    }
   ],
   "source": [
    "(good_df.pivot_table(index='locality_name', values='price_per_area', aggfunc=['mean','count'])\n",
    ".sort_values(by=('mean', 'price_per_area'), ascending=False).head(10))"
   ]
  },
  {
   "cell_type": "markdown",
   "metadata": {},
   "source": [
    "Самая дорогая стоимость квадрата в Санкт-Петербурге, далее идёт Зеленогорск (хоть там и малое число объявлений). Замыкает десятку Паргалово. \n",
    "\n",
    "Выделим населённые пункты с самой низкой стоимостью жилья."
   ]
  },
  {
   "cell_type": "code",
   "execution_count": 103,
   "metadata": {
    "scrolled": true
   },
   "outputs": [
    {
     "data": {
      "text/html": [
       "<div>\n",
       "<style scoped>\n",
       "    .dataframe tbody tr th:only-of-type {\n",
       "        vertical-align: middle;\n",
       "    }\n",
       "\n",
       "    .dataframe tbody tr th {\n",
       "        vertical-align: top;\n",
       "    }\n",
       "\n",
       "    .dataframe thead tr th {\n",
       "        text-align: left;\n",
       "    }\n",
       "\n",
       "    .dataframe thead tr:last-of-type th {\n",
       "        text-align: right;\n",
       "    }\n",
       "</style>\n",
       "<table border=\"1\" class=\"dataframe\">\n",
       "  <thead>\n",
       "    <tr>\n",
       "      <th></th>\n",
       "      <th>mean</th>\n",
       "      <th>count</th>\n",
       "    </tr>\n",
       "    <tr>\n",
       "      <th></th>\n",
       "      <th>price_per_area</th>\n",
       "      <th>price_per_area</th>\n",
       "    </tr>\n",
       "    <tr>\n",
       "      <th>locality_name</th>\n",
       "      <th></th>\n",
       "      <th></th>\n",
       "    </tr>\n",
       "  </thead>\n",
       "  <tbody>\n",
       "    <tr>\n",
       "      <td>Щеглово</td>\n",
       "      <td>53133.818808</td>\n",
       "      <td>24</td>\n",
       "    </tr>\n",
       "    <tr>\n",
       "      <td>Усть-Ижора</td>\n",
       "      <td>65935.672515</td>\n",
       "      <td>2</td>\n",
       "    </tr>\n",
       "    <tr>\n",
       "      <td>Белоостров</td>\n",
       "      <td>66666.666667</td>\n",
       "      <td>1</td>\n",
       "    </tr>\n",
       "    <tr>\n",
       "      <td>Всеволожск</td>\n",
       "      <td>67214.252635</td>\n",
       "      <td>397</td>\n",
       "    </tr>\n",
       "    <tr>\n",
       "      <td>Сапёрный</td>\n",
       "      <td>67243.016954</td>\n",
       "      <td>6</td>\n",
       "    </tr>\n",
       "    <tr>\n",
       "      <td>Гатчина</td>\n",
       "      <td>68746.146763</td>\n",
       "      <td>307</td>\n",
       "    </tr>\n",
       "    <tr>\n",
       "      <td>Понтонный</td>\n",
       "      <td>70104.528056</td>\n",
       "      <td>20</td>\n",
       "    </tr>\n",
       "    <tr>\n",
       "      <td>Александровская</td>\n",
       "      <td>70262.807084</td>\n",
       "      <td>2</td>\n",
       "    </tr>\n",
       "    <tr>\n",
       "      <td>Красное Село</td>\n",
       "      <td>72164.910777</td>\n",
       "      <td>176</td>\n",
       "    </tr>\n",
       "    <tr>\n",
       "      <td>Ломоносов</td>\n",
       "      <td>72724.046741</td>\n",
       "      <td>133</td>\n",
       "    </tr>\n",
       "  </tbody>\n",
       "</table>\n",
       "</div>"
      ],
      "text/plain": [
       "                          mean          count\n",
       "                price_per_area price_per_area\n",
       "locality_name                                \n",
       "Щеглово           53133.818808             24\n",
       "Усть-Ижора        65935.672515              2\n",
       "Белоостров        66666.666667              1\n",
       "Всеволожск        67214.252635            397\n",
       "Сапёрный          67243.016954              6\n",
       "Гатчина           68746.146763            307\n",
       "Понтонный         70104.528056             20\n",
       "Александровская   70262.807084              2\n",
       "Красное Село      72164.910777            176\n",
       "Ломоносов         72724.046741            133"
      ]
     },
     "execution_count": 103,
     "metadata": {},
     "output_type": "execute_result"
    }
   ],
   "source": [
    "(good_df.pivot_table(index='locality_name', values='price_per_area', aggfunc=['mean','count'])\n",
    ".sort_values(by=('mean', 'price_per_area')).head(10))"
   ]
  },
  {
   "cell_type": "markdown",
   "metadata": {},
   "source": [
    "Самая низкая стоимость в Щеглово"
   ]
  },
  {
   "cell_type": "markdown",
   "metadata": {},
   "source": [
    "### Исследование для квартир в центре"
   ]
  },
  {
   "cell_type": "markdown",
   "metadata": {},
   "source": [
    "Выделим квартиры в Санкт-Петербурге. Выясним, какая область входит в центр. Создадим столбец с расстоянием до центра в километрах: округлим до целых значений. "
   ]
  },
  {
   "cell_type": "code",
   "execution_count": 96,
   "metadata": {},
   "outputs": [],
   "source": [
    "df['distance']=(df['city_centers_nearest']*0.001).round()"
   ]
  },
  {
   "cell_type": "markdown",
   "metadata": {},
   "source": [
    "Для тех записей, где не было указано расстояние до центра в графе укажем -1"
   ]
  },
  {
   "cell_type": "code",
   "execution_count": 97,
   "metadata": {},
   "outputs": [],
   "source": [
    "df.loc[df['city_centers_nearest']==-1,'distance'] = -1"
   ]
  },
  {
   "cell_type": "markdown",
   "metadata": {},
   "source": [
    "Посмотрим результат"
   ]
  },
  {
   "cell_type": "code",
   "execution_count": 98,
   "metadata": {
    "scrolled": true
   },
   "outputs": [
    {
     "data": {
      "text/html": [
       "<div>\n",
       "<style scoped>\n",
       "    .dataframe tbody tr th:only-of-type {\n",
       "        vertical-align: middle;\n",
       "    }\n",
       "\n",
       "    .dataframe tbody tr th {\n",
       "        vertical-align: top;\n",
       "    }\n",
       "\n",
       "    .dataframe thead th {\n",
       "        text-align: right;\n",
       "    }\n",
       "</style>\n",
       "<table border=\"1\" class=\"dataframe\">\n",
       "  <thead>\n",
       "    <tr style=\"text-align: right;\">\n",
       "      <th></th>\n",
       "      <th>distance</th>\n",
       "      <th>city_centers_nearest</th>\n",
       "    </tr>\n",
       "  </thead>\n",
       "  <tbody>\n",
       "    <tr>\n",
       "      <td>0</td>\n",
       "      <td>16.0</td>\n",
       "      <td>16028.0</td>\n",
       "    </tr>\n",
       "    <tr>\n",
       "      <td>1</td>\n",
       "      <td>19.0</td>\n",
       "      <td>18603.0</td>\n",
       "    </tr>\n",
       "    <tr>\n",
       "      <td>2</td>\n",
       "      <td>14.0</td>\n",
       "      <td>13933.0</td>\n",
       "    </tr>\n",
       "    <tr>\n",
       "      <td>3</td>\n",
       "      <td>7.0</td>\n",
       "      <td>6800.0</td>\n",
       "    </tr>\n",
       "    <tr>\n",
       "      <td>4</td>\n",
       "      <td>8.0</td>\n",
       "      <td>8098.0</td>\n",
       "    </tr>\n",
       "  </tbody>\n",
       "</table>\n",
       "</div>"
      ],
      "text/plain": [
       "   distance  city_centers_nearest\n",
       "0      16.0               16028.0\n",
       "1      19.0               18603.0\n",
       "2      14.0               13933.0\n",
       "3       7.0                6800.0\n",
       "4       8.0                8098.0"
      ]
     },
     "execution_count": 98,
     "metadata": {},
     "output_type": "execute_result"
    }
   ],
   "source": [
    "df[['distance','city_centers_nearest']].head()"
   ]
  },
  {
   "cell_type": "markdown",
   "metadata": {},
   "source": [
    "После этого посчитаем среднюю цену для каждого километра и построим график: он должен показывать, как цена зависит от удалённости от центра и определите границу, где график сильно меняется — это и будет центральная зона."
   ]
  },
  {
   "cell_type": "code",
   "execution_count": 99,
   "metadata": {
    "scrolled": true
   },
   "outputs": [
    {
     "data": {
      "text/plain": [
       "<matplotlib.axes._subplots.AxesSubplot at 0x7f8ddc6e0510>"
      ]
     },
     "execution_count": 99,
     "metadata": {},
     "output_type": "execute_result"
    },
    {
     "data": {
      "image/png": "[encoded data removed]",
      "text/plain": [
       "<Figure size 432x288 with 1 Axes>"
      ]
     },
     "metadata": {
      "needs_background": "light"
     },
     "output_type": "display_data"
    }
   ],
   "source": [
    "df.pivot_table(index='distance', values='price_per_area').plot(grid=True)"
   ]
  },
  {
   "cell_type": "markdown",
   "metadata": {},
   "source": [
    "Видим, что цена сильно снижается на расстоянии в 8км. Это условно и определим как центральную зону. "
   ]
  },
  {
   "cell_type": "markdown",
   "metadata": {},
   "source": [
    "Выделим сегмент квартир в центре."
   ]
  },
  {
   "cell_type": "code",
   "execution_count": 365,
   "metadata": {},
   "outputs": [],
   "source": [
    "center_df=df.loc[(df['distance']<8) & (df['distance']>0)]"
   ]
  },
  {
   "cell_type": "markdown",
   "metadata": {},
   "source": [
    "Проанализируем эту территорию и изучим площадь."
   ]
  },
  {
   "cell_type": "code",
   "execution_count": 393,
   "metadata": {
    "scrolled": false
   },
   "outputs": [],
   "source": [
    "draw=drow_hist(center_df,hists)"
   ]
  },
  {
   "cell_type": "code",
   "execution_count": 394,
   "metadata": {
    "scrolled": true
   },
   "outputs": [
    {
     "data": {
      "image/png": "[encoded data removed]",
      "text/plain": [
       "<Figure size 864x288 with 1 Axes>"
      ]
     },
     "metadata": {
      "needs_background": "light"
     },
     "output_type": "display_data"
    }
   ],
   "source": [
    "next(draw)"
   ]
  },
  {
   "cell_type": "code",
   "execution_count": 397,
   "metadata": {
    "scrolled": false
   },
   "outputs": [
    {
     "data": {
      "text/plain": [
       "count    3514.000000\n",
       "mean       92.945435\n",
       "std        59.379594\n",
       "min        12.000000\n",
       "25%        56.900000\n",
       "50%        78.400000\n",
       "75%       110.000000\n",
       "max       631.200000\n",
       "Name: total_area, dtype: float64"
      ]
     },
     "execution_count": 397,
     "metadata": {},
     "output_type": "execute_result"
    }
   ],
   "source": [
    "center_df['total_area'].describe()"
   ]
  },
  {
   "cell_type": "markdown",
   "metadata": {},
   "source": [
    "Основная масса квартир имеет среднее значение показателя 93. Это выше результатов общего исследования.\n",
    "\n",
    "Исследуем стоимость квадрата в центре"
   ]
  },
  {
   "cell_type": "code",
   "execution_count": 398,
   "metadata": {
    "scrolled": true
   },
   "outputs": [
    {
     "data": {
      "image/png": "[encoded data removed]",
      "text/plain": [
       "<Figure size 864x288 with 1 Axes>"
      ]
     },
     "metadata": {
      "needs_background": "light"
     },
     "output_type": "display_data"
    }
   ],
   "source": [
    "next(draw)"
   ]
  },
  {
   "cell_type": "code",
   "execution_count": 399,
   "metadata": {
    "scrolled": true
   },
   "outputs": [
    {
     "data": {
      "text/plain": [
       "count    3.514000e+03\n",
       "mean     1.443035e+05\n",
       "std      9.224731e+04\n",
       "min      1.534527e+04\n",
       "25%      9.983923e+04\n",
       "50%      1.235137e+05\n",
       "75%      1.551994e+05\n",
       "max      1.907500e+06\n",
       "Name: price_per_area, dtype: float64"
      ]
     },
     "execution_count": 399,
     "metadata": {},
     "output_type": "execute_result"
    }
   ],
   "source": [
    "center_df['price_per_area'].describe()"
   ]
  },
  {
   "cell_type": "markdown",
   "metadata": {},
   "source": [
    "Средняя стоимость квадрата в центре - 144304. Это выше общего показателя.\n",
    "\n",
    "Исследуем число комнат в центре"
   ]
  },
  {
   "cell_type": "code",
   "execution_count": 400,
   "metadata": {},
   "outputs": [
    {
     "data": {
      "image/png": "[encoded data removed]",
      "text/plain": [
       "<Figure size 864x288 with 1 Axes>"
      ]
     },
     "metadata": {
      "needs_background": "light"
     },
     "output_type": "display_data"
    }
   ],
   "source": [
    "next(draw)"
   ]
  },
  {
   "cell_type": "code",
   "execution_count": 401,
   "metadata": {
    "scrolled": true
   },
   "outputs": [
    {
     "data": {
      "text/plain": [
       "3     1090\n",
       "2     1028\n",
       "1      518\n",
       "4      491\n",
       "5      213\n",
       "6       83\n",
       "7       53\n",
       "0       17\n",
       "8       10\n",
       "9        3\n",
       "11       2\n",
       "10       2\n",
       "19       1\n",
       "15       1\n",
       "16       1\n",
       "14       1\n",
       "Name: rooms, dtype: int64"
      ]
     },
     "execution_count": 401,
     "metadata": {},
     "output_type": "execute_result"
    }
   ],
   "source": [
    "center_df['rooms'].value_counts()"
   ]
  },
  {
   "cell_type": "markdown",
   "metadata": {},
   "source": [
    "Больше всего квартир в центре имеею 2-3 комнаты. Что отличается от результатов общего исследования, где больше квартир с 1-2 комантами.\n",
    "\n",
    "Посмотрим, какая высота потолков у квартир в центре."
   ]
  },
  {
   "cell_type": "code",
   "execution_count": 402,
   "metadata": {
    "scrolled": true
   },
   "outputs": [
    {
     "data": {
      "image/png": "[encoded data removed]",
      "text/plain": [
       "<Figure size 864x288 with 1 Axes>"
      ]
     },
     "metadata": {
      "needs_background": "light"
     },
     "output_type": "display_data"
    }
   ],
   "source": [
    "next(draw)"
   ]
  },
  {
   "cell_type": "code",
   "execution_count": 403,
   "metadata": {
    "scrolled": true
   },
   "outputs": [
    {
     "data": {
      "text/plain": [
       "count    3514.000000\n",
       "mean        2.936799\n",
       "std         0.371610\n",
       "min         2.400000\n",
       "25%         2.650000\n",
       "50%         2.800000\n",
       "75%         3.130000\n",
       "max         6.000000\n",
       "Name: ceiling_height, dtype: float64"
      ]
     },
     "execution_count": 403,
     "metadata": {},
     "output_type": "execute_result"
    }
   ],
   "source": [
    "center_df['ceiling_height'].describe()"
   ]
  },
  {
   "cell_type": "markdown",
   "metadata": {},
   "source": [
    "Cредняя высота почти 3 метра. и у основной массы до 3.5м. В общем исследовании получили среднюю высоту 2.69м.\n",
    "\n",
    "Посмотрим, как число комнат влияет на стоимость квадратного метра."
   ]
  },
  {
   "cell_type": "code",
   "execution_count": 121,
   "metadata": {
    "scrolled": false
   },
   "outputs": [
    {
     "data": {
      "text/html": [
       "<div>\n",
       "<style scoped>\n",
       "    .dataframe tbody tr th:only-of-type {\n",
       "        vertical-align: middle;\n",
       "    }\n",
       "\n",
       "    .dataframe tbody tr th {\n",
       "        vertical-align: top;\n",
       "    }\n",
       "\n",
       "    .dataframe thead tr th {\n",
       "        text-align: left;\n",
       "    }\n",
       "\n",
       "    .dataframe thead tr:last-of-type th {\n",
       "        text-align: right;\n",
       "    }\n",
       "</style>\n",
       "<table border=\"1\" class=\"dataframe\">\n",
       "  <thead>\n",
       "    <tr>\n",
       "      <th></th>\n",
       "      <th>mean</th>\n",
       "      <th>count</th>\n",
       "    </tr>\n",
       "    <tr>\n",
       "      <th></th>\n",
       "      <th>price_per_area</th>\n",
       "      <th>price_per_area</th>\n",
       "    </tr>\n",
       "    <tr>\n",
       "      <th>rooms</th>\n",
       "      <th></th>\n",
       "      <th></th>\n",
       "    </tr>\n",
       "  </thead>\n",
       "  <tbody>\n",
       "    <tr>\n",
       "      <td>0</td>\n",
       "      <td>145109.260527</td>\n",
       "      <td>17</td>\n",
       "    </tr>\n",
       "    <tr>\n",
       "      <td>1</td>\n",
       "      <td>153769.846750</td>\n",
       "      <td>518</td>\n",
       "    </tr>\n",
       "    <tr>\n",
       "      <td>2</td>\n",
       "      <td>140253.166402</td>\n",
       "      <td>1028</td>\n",
       "    </tr>\n",
       "    <tr>\n",
       "      <td>3</td>\n",
       "      <td>143363.172865</td>\n",
       "      <td>1090</td>\n",
       "    </tr>\n",
       "    <tr>\n",
       "      <td>4</td>\n",
       "      <td>139857.367746</td>\n",
       "      <td>491</td>\n",
       "    </tr>\n",
       "    <tr>\n",
       "      <td>5</td>\n",
       "      <td>145666.958063</td>\n",
       "      <td>213</td>\n",
       "    </tr>\n",
       "    <tr>\n",
       "      <td>6</td>\n",
       "      <td>153806.536436</td>\n",
       "      <td>83</td>\n",
       "    </tr>\n",
       "    <tr>\n",
       "      <td>7</td>\n",
       "      <td>166814.684887</td>\n",
       "      <td>53</td>\n",
       "    </tr>\n",
       "    <tr>\n",
       "      <td>8</td>\n",
       "      <td>192737.020244</td>\n",
       "      <td>10</td>\n",
       "    </tr>\n",
       "    <tr>\n",
       "      <td>9</td>\n",
       "      <td>130529.172188</td>\n",
       "      <td>3</td>\n",
       "    </tr>\n",
       "    <tr>\n",
       "      <td>10</td>\n",
       "      <td>104828.543618</td>\n",
       "      <td>2</td>\n",
       "    </tr>\n",
       "    <tr>\n",
       "      <td>11</td>\n",
       "      <td>132639.736685</td>\n",
       "      <td>2</td>\n",
       "    </tr>\n",
       "    <tr>\n",
       "      <td>14</td>\n",
       "      <td>116784.841076</td>\n",
       "      <td>1</td>\n",
       "    </tr>\n",
       "    <tr>\n",
       "      <td>15</td>\n",
       "      <td>110169.491525</td>\n",
       "      <td>1</td>\n",
       "    </tr>\n",
       "    <tr>\n",
       "      <td>16</td>\n",
       "      <td>105555.555556</td>\n",
       "      <td>1</td>\n",
       "    </tr>\n",
       "    <tr>\n",
       "      <td>19</td>\n",
       "      <td>86091.831287</td>\n",
       "      <td>1</td>\n",
       "    </tr>\n",
       "  </tbody>\n",
       "</table>\n",
       "</div>"
      ],
      "text/plain": [
       "                mean          count\n",
       "      price_per_area price_per_area\n",
       "rooms                              \n",
       "0      145109.260527             17\n",
       "1      153769.846750            518\n",
       "2      140253.166402           1028\n",
       "3      143363.172865           1090\n",
       "4      139857.367746            491\n",
       "5      145666.958063            213\n",
       "6      153806.536436             83\n",
       "7      166814.684887             53\n",
       "8      192737.020244             10\n",
       "9      130529.172188              3\n",
       "10     104828.543618              2\n",
       "11     132639.736685              2\n",
       "14     116784.841076              1\n",
       "15     110169.491525              1\n",
       "16     105555.555556              1\n",
       "19      86091.831287              1"
      ]
     },
     "execution_count": 121,
     "metadata": {},
     "output_type": "execute_result"
    }
   ],
   "source": [
    "center_df.pivot_table(index='rooms', values='price_per_area', aggfunc=['mean','count'])"
   ]
  },
  {
   "cell_type": "markdown",
   "metadata": {},
   "source": [
    "Самые дорогие - однокомнатные.Затем цена снижается с увеличинием комнат, но для 3-х комнатных она выше, чем для 2-х комнатных. Если комнат больше 4-х, то цена снова возрастает. Квартир с числом комнат больше 8 недостаточно, чтобы делать окончательные выводы."
   ]
  },
  {
   "cell_type": "markdown",
   "metadata": {},
   "source": [
    "Посмотрим как этажность влияет на стоимость"
   ]
  },
  {
   "cell_type": "code",
   "execution_count": 122,
   "metadata": {
    "scrolled": false
   },
   "outputs": [
    {
     "data": {
      "text/html": [
       "<div>\n",
       "<style scoped>\n",
       "    .dataframe tbody tr th:only-of-type {\n",
       "        vertical-align: middle;\n",
       "    }\n",
       "\n",
       "    .dataframe tbody tr th {\n",
       "        vertical-align: top;\n",
       "    }\n",
       "\n",
       "    .dataframe thead tr th {\n",
       "        text-align: left;\n",
       "    }\n",
       "\n",
       "    .dataframe thead tr:last-of-type th {\n",
       "        text-align: right;\n",
       "    }\n",
       "</style>\n",
       "<table border=\"1\" class=\"dataframe\">\n",
       "  <thead>\n",
       "    <tr>\n",
       "      <th></th>\n",
       "      <th>mean</th>\n",
       "      <th>count</th>\n",
       "    </tr>\n",
       "    <tr>\n",
       "      <th></th>\n",
       "      <th>price_per_area</th>\n",
       "      <th>price_per_area</th>\n",
       "    </tr>\n",
       "    <tr>\n",
       "      <th>res_floor</th>\n",
       "      <th></th>\n",
       "      <th></th>\n",
       "    </tr>\n",
       "  </thead>\n",
       "  <tbody>\n",
       "    <tr>\n",
       "      <td>другой</td>\n",
       "      <td>147893.007963</td>\n",
       "      <td>2502</td>\n",
       "    </tr>\n",
       "    <tr>\n",
       "      <td>первый</td>\n",
       "      <td>122107.241597</td>\n",
       "      <td>384</td>\n",
       "    </tr>\n",
       "    <tr>\n",
       "      <td>последний</td>\n",
       "      <td>143574.699499</td>\n",
       "      <td>628</td>\n",
       "    </tr>\n",
       "  </tbody>\n",
       "</table>\n",
       "</div>"
      ],
      "text/plain": [
       "                    mean          count\n",
       "          price_per_area price_per_area\n",
       "res_floor                              \n",
       "другой     147893.007963           2502\n",
       "первый     122107.241597            384\n",
       "последний  143574.699499            628"
      ]
     },
     "execution_count": 122,
     "metadata": {},
     "output_type": "execute_result"
    }
   ],
   "source": [
    "center_df.pivot_table(index='res_floor', values='price_per_area', aggfunc=['mean','count'])"
   ]
  },
  {
   "cell_type": "markdown",
   "metadata": {},
   "source": [
    "Самый дешёвый квадрат на первом этаже, затем на последнем и самый дорогой с параметром другой. Аналогично общему исследованию.\n",
    "\n",
    "Посмотрим как влияет расстояние до центра."
   ]
  },
  {
   "cell_type": "code",
   "execution_count": 123,
   "metadata": {
    "scrolled": true
   },
   "outputs": [
    {
     "data": {
      "text/html": [
       "<div>\n",
       "<style scoped>\n",
       "    .dataframe tbody tr th:only-of-type {\n",
       "        vertical-align: middle;\n",
       "    }\n",
       "\n",
       "    .dataframe tbody tr th {\n",
       "        vertical-align: top;\n",
       "    }\n",
       "\n",
       "    .dataframe thead tr th {\n",
       "        text-align: left;\n",
       "    }\n",
       "\n",
       "    .dataframe thead tr:last-of-type th {\n",
       "        text-align: right;\n",
       "    }\n",
       "</style>\n",
       "<table border=\"1\" class=\"dataframe\">\n",
       "  <thead>\n",
       "    <tr>\n",
       "      <th></th>\n",
       "      <th>mean</th>\n",
       "      <th>count</th>\n",
       "    </tr>\n",
       "    <tr>\n",
       "      <th></th>\n",
       "      <th>price_per_area</th>\n",
       "      <th>price_per_area</th>\n",
       "    </tr>\n",
       "    <tr>\n",
       "      <th>distance</th>\n",
       "      <th></th>\n",
       "      <th></th>\n",
       "    </tr>\n",
       "  </thead>\n",
       "  <tbody>\n",
       "    <tr>\n",
       "      <td>1.0</td>\n",
       "      <td>176640.649827</td>\n",
       "      <td>193</td>\n",
       "    </tr>\n",
       "    <tr>\n",
       "      <td>2.0</td>\n",
       "      <td>157944.348141</td>\n",
       "      <td>311</td>\n",
       "    </tr>\n",
       "    <tr>\n",
       "      <td>3.0</td>\n",
       "      <td>121299.669876</td>\n",
       "      <td>352</td>\n",
       "    </tr>\n",
       "    <tr>\n",
       "      <td>4.0</td>\n",
       "      <td>133035.838239</td>\n",
       "      <td>696</td>\n",
       "    </tr>\n",
       "    <tr>\n",
       "      <td>5.0</td>\n",
       "      <td>140324.467496</td>\n",
       "      <td>924</td>\n",
       "    </tr>\n",
       "    <tr>\n",
       "      <td>6.0</td>\n",
       "      <td>151012.193621</td>\n",
       "      <td>618</td>\n",
       "    </tr>\n",
       "    <tr>\n",
       "      <td>7.0</td>\n",
       "      <td>156176.879664</td>\n",
       "      <td>420</td>\n",
       "    </tr>\n",
       "  </tbody>\n",
       "</table>\n",
       "</div>"
      ],
      "text/plain": [
       "                   mean          count\n",
       "         price_per_area price_per_area\n",
       "distance                              \n",
       "1.0       176640.649827            193\n",
       "2.0       157944.348141            311\n",
       "3.0       121299.669876            352\n",
       "4.0       133035.838239            696\n",
       "5.0       140324.467496            924\n",
       "6.0       151012.193621            618\n",
       "7.0       156176.879664            420"
      ]
     },
     "execution_count": 123,
     "metadata": {},
     "output_type": "execute_result"
    }
   ],
   "source": [
    "center_df.pivot_table(index='distance', values='price_per_area', aggfunc=['mean','count'])"
   ]
  },
  {
   "cell_type": "markdown",
   "metadata": {},
   "source": [
    "С увеличением расстояния цена квадрата снижается. Однако после 4-х километров стоимость повышается.\n",
    "\n",
    "Посмотрим, как влияет год размещения объявления на стоимость квадрата."
   ]
  },
  {
   "cell_type": "code",
   "execution_count": 124,
   "metadata": {
    "scrolled": true
   },
   "outputs": [
    {
     "data": {
      "text/html": [
       "<div>\n",
       "<style scoped>\n",
       "    .dataframe tbody tr th:only-of-type {\n",
       "        vertical-align: middle;\n",
       "    }\n",
       "\n",
       "    .dataframe tbody tr th {\n",
       "        vertical-align: top;\n",
       "    }\n",
       "\n",
       "    .dataframe thead tr th {\n",
       "        text-align: left;\n",
       "    }\n",
       "\n",
       "    .dataframe thead tr:last-of-type th {\n",
       "        text-align: right;\n",
       "    }\n",
       "</style>\n",
       "<table border=\"1\" class=\"dataframe\">\n",
       "  <thead>\n",
       "    <tr>\n",
       "      <th></th>\n",
       "      <th>mean</th>\n",
       "      <th>count</th>\n",
       "    </tr>\n",
       "    <tr>\n",
       "      <th></th>\n",
       "      <th>price_per_area</th>\n",
       "      <th>price_per_area</th>\n",
       "    </tr>\n",
       "    <tr>\n",
       "      <th>year</th>\n",
       "      <th></th>\n",
       "      <th></th>\n",
       "    </tr>\n",
       "  </thead>\n",
       "  <tbody>\n",
       "    <tr>\n",
       "      <td>2014</td>\n",
       "      <td>177416.021863</td>\n",
       "      <td>26</td>\n",
       "    </tr>\n",
       "    <tr>\n",
       "      <td>2015</td>\n",
       "      <td>143848.218456</td>\n",
       "      <td>319</td>\n",
       "    </tr>\n",
       "    <tr>\n",
       "      <td>2016</td>\n",
       "      <td>145077.724915</td>\n",
       "      <td>500</td>\n",
       "    </tr>\n",
       "    <tr>\n",
       "      <td>2017</td>\n",
       "      <td>142348.063790</td>\n",
       "      <td>1252</td>\n",
       "    </tr>\n",
       "    <tr>\n",
       "      <td>2018</td>\n",
       "      <td>140439.127304</td>\n",
       "      <td>1038</td>\n",
       "    </tr>\n",
       "    <tr>\n",
       "      <td>2019</td>\n",
       "      <td>158436.800163</td>\n",
       "      <td>379</td>\n",
       "    </tr>\n",
       "  </tbody>\n",
       "</table>\n",
       "</div>"
      ],
      "text/plain": [
       "               mean          count\n",
       "     price_per_area price_per_area\n",
       "year                              \n",
       "2014  177416.021863             26\n",
       "2015  143848.218456            319\n",
       "2016  145077.724915            500\n",
       "2017  142348.063790           1252\n",
       "2018  140439.127304           1038\n",
       "2019  158436.800163            379"
      ]
     },
     "execution_count": 124,
     "metadata": {},
     "output_type": "execute_result"
    }
   ],
   "source": [
    "center_df.pivot_table(index='year', values='price_per_area', aggfunc=['mean','count'])"
   ]
  },
  {
   "cell_type": "markdown",
   "metadata": {},
   "source": [
    "Видно, что наибольшую стоимость имели квартиры, которые выставлялись в 2014 году, хоть их было и немного. Потом цена снижалась до 2018 года, а затем опять несколько повысилась. Несколько отличается от общей тенденции.\n",
    "\n",
    "Посмотрим зависимость по месяцам."
   ]
  },
  {
   "cell_type": "code",
   "execution_count": 125,
   "metadata": {
    "scrolled": true
   },
   "outputs": [
    {
     "data": {
      "text/html": [
       "<div>\n",
       "<style scoped>\n",
       "    .dataframe tbody tr th:only-of-type {\n",
       "        vertical-align: middle;\n",
       "    }\n",
       "\n",
       "    .dataframe tbody tr th {\n",
       "        vertical-align: top;\n",
       "    }\n",
       "\n",
       "    .dataframe thead tr th {\n",
       "        text-align: left;\n",
       "    }\n",
       "\n",
       "    .dataframe thead tr:last-of-type th {\n",
       "        text-align: right;\n",
       "    }\n",
       "</style>\n",
       "<table border=\"1\" class=\"dataframe\">\n",
       "  <thead>\n",
       "    <tr>\n",
       "      <th></th>\n",
       "      <th>mean</th>\n",
       "      <th>count</th>\n",
       "    </tr>\n",
       "    <tr>\n",
       "      <th></th>\n",
       "      <th>price_per_area</th>\n",
       "      <th>price_per_area</th>\n",
       "    </tr>\n",
       "    <tr>\n",
       "      <th>month</th>\n",
       "      <th></th>\n",
       "      <th></th>\n",
       "    </tr>\n",
       "  </thead>\n",
       "  <tbody>\n",
       "    <tr>\n",
       "      <td>April</td>\n",
       "      <td>153069.051688</td>\n",
       "      <td>333</td>\n",
       "    </tr>\n",
       "    <tr>\n",
       "      <td>August</td>\n",
       "      <td>145647.773936</td>\n",
       "      <td>259</td>\n",
       "    </tr>\n",
       "    <tr>\n",
       "      <td>December</td>\n",
       "      <td>145336.852940</td>\n",
       "      <td>240</td>\n",
       "    </tr>\n",
       "    <tr>\n",
       "      <td>February</td>\n",
       "      <td>143817.859776</td>\n",
       "      <td>386</td>\n",
       "    </tr>\n",
       "    <tr>\n",
       "      <td>January</td>\n",
       "      <td>144825.883336</td>\n",
       "      <td>215</td>\n",
       "    </tr>\n",
       "    <tr>\n",
       "      <td>July</td>\n",
       "      <td>143258.606504</td>\n",
       "      <td>275</td>\n",
       "    </tr>\n",
       "    <tr>\n",
       "      <td>June</td>\n",
       "      <td>144783.013155</td>\n",
       "      <td>289</td>\n",
       "    </tr>\n",
       "    <tr>\n",
       "      <td>March</td>\n",
       "      <td>146252.719851</td>\n",
       "      <td>371</td>\n",
       "    </tr>\n",
       "    <tr>\n",
       "      <td>May</td>\n",
       "      <td>139223.320740</td>\n",
       "      <td>201</td>\n",
       "    </tr>\n",
       "    <tr>\n",
       "      <td>November</td>\n",
       "      <td>140109.383545</td>\n",
       "      <td>352</td>\n",
       "    </tr>\n",
       "    <tr>\n",
       "      <td>October</td>\n",
       "      <td>139323.672904</td>\n",
       "      <td>292</td>\n",
       "    </tr>\n",
       "    <tr>\n",
       "      <td>September</td>\n",
       "      <td>144094.542210</td>\n",
       "      <td>301</td>\n",
       "    </tr>\n",
       "  </tbody>\n",
       "</table>\n",
       "</div>"
      ],
      "text/plain": [
       "                    mean          count\n",
       "          price_per_area price_per_area\n",
       "month                                  \n",
       "April      153069.051688            333\n",
       "August     145647.773936            259\n",
       "December   145336.852940            240\n",
       "February   143817.859776            386\n",
       "January    144825.883336            215\n",
       "July       143258.606504            275\n",
       "June       144783.013155            289\n",
       "March      146252.719851            371\n",
       "May        139223.320740            201\n",
       "November   140109.383545            352\n",
       "October    139323.672904            292\n",
       "September  144094.542210            301"
      ]
     },
     "execution_count": 125,
     "metadata": {},
     "output_type": "execute_result"
    }
   ],
   "source": [
    "center_df.pivot_table(index='month', values='price_per_area', aggfunc=['mean','count'])"
   ]
  },
  {
   "cell_type": "markdown",
   "metadata": {},
   "source": [
    "Видим, что цена имеет наибольшее значение в апреле, а наименьшее значение имеет в ма и октябре-ноябре. Эти результаты несколько отличаются от результатов, что были получены для всех квартир.\n",
    "\n",
    "Посмотрим зависимость от дня недели."
   ]
  },
  {
   "cell_type": "code",
   "execution_count": 121,
   "metadata": {
    "scrolled": true
   },
   "outputs": [
    {
     "data": {
      "text/html": [
       "<div>\n",
       "<style scoped>\n",
       "    .dataframe tbody tr th:only-of-type {\n",
       "        vertical-align: middle;\n",
       "    }\n",
       "\n",
       "    .dataframe tbody tr th {\n",
       "        vertical-align: top;\n",
       "    }\n",
       "\n",
       "    .dataframe thead tr th {\n",
       "        text-align: left;\n",
       "    }\n",
       "\n",
       "    .dataframe thead tr:last-of-type th {\n",
       "        text-align: right;\n",
       "    }\n",
       "</style>\n",
       "<table border=\"1\" class=\"dataframe\">\n",
       "  <thead>\n",
       "    <tr>\n",
       "      <th></th>\n",
       "      <th>mean</th>\n",
       "      <th>count</th>\n",
       "    </tr>\n",
       "    <tr>\n",
       "      <th></th>\n",
       "      <th>price_per_area</th>\n",
       "      <th>price_per_area</th>\n",
       "    </tr>\n",
       "    <tr>\n",
       "      <th>week_day</th>\n",
       "      <th></th>\n",
       "      <th></th>\n",
       "    </tr>\n",
       "  </thead>\n",
       "  <tbody>\n",
       "    <tr>\n",
       "      <td>Friday</td>\n",
       "      <td>151606.405175</td>\n",
       "      <td>106</td>\n",
       "    </tr>\n",
       "    <tr>\n",
       "      <td>Monday</td>\n",
       "      <td>174798.179635</td>\n",
       "      <td>78</td>\n",
       "    </tr>\n",
       "    <tr>\n",
       "      <td>Saturday</td>\n",
       "      <td>151368.437336</td>\n",
       "      <td>41</td>\n",
       "    </tr>\n",
       "    <tr>\n",
       "      <td>Sunday</td>\n",
       "      <td>167928.998023</td>\n",
       "      <td>29</td>\n",
       "    </tr>\n",
       "    <tr>\n",
       "      <td>Thursday</td>\n",
       "      <td>185408.540548</td>\n",
       "      <td>114</td>\n",
       "    </tr>\n",
       "    <tr>\n",
       "      <td>Tuesday</td>\n",
       "      <td>188132.857864</td>\n",
       "      <td>75</td>\n",
       "    </tr>\n",
       "    <tr>\n",
       "      <td>Wednesday</td>\n",
       "      <td>157076.377394</td>\n",
       "      <td>88</td>\n",
       "    </tr>\n",
       "  </tbody>\n",
       "</table>\n",
       "</div>"
      ],
      "text/plain": [
       "                    mean          count\n",
       "          price_per_area price_per_area\n",
       "week_day                               \n",
       "Friday     151606.405175            106\n",
       "Monday     174798.179635             78\n",
       "Saturday   151368.437336             41\n",
       "Sunday     167928.998023             29\n",
       "Thursday   185408.540548            114\n",
       "Tuesday    188132.857864             75\n",
       "Wednesday  157076.377394             88"
      ]
     },
     "execution_count": 121,
     "metadata": {},
     "output_type": "execute_result"
    }
   ],
   "source": [
    "center_df.pivot_table(index='week_day', values='price_per_area', aggfunc=['mean','count'])"
   ]
  },
  {
   "cell_type": "markdown",
   "metadata": {},
   "source": [
    "Видим, что количество обявлений на выходные меньше, чем в рабочие дни. \n",
    "При этом, квартиры, которые были выставлены на продажу во вторник и четверг имеют большую стоимость квадрата."
   ]
  },
  {
   "cell_type": "markdown",
   "metadata": {},
   "source": [
    "### Вывод"
   ]
  },
  {
   "cell_type": "markdown",
   "metadata": {},
   "source": [
    "В ходе исследователького анализа решались задачи как для всех квартир в таблице, так и для квартир в центре.\n",
    "- Определили, какая зона входит в условный центр. Приняли, что центральная область - это расстояние меньше 8 км.\n",
    "- Установили, что для квартир в центральной зоне расстояние до центра влияет сильно на цену. С ростом расстояния цена падает, потом растёт. Для общей совокупности такой зависимости не наблюдалось\n",
    "- Определили, что общая площадь для квартир в центре больше, чем общая площадь квартир в генеральном исследовании.\n",
    "- Стоимость квадрата для квартир в центре выше, чем для квартир во всей выборке. \n",
    "- Установили, что основная масса квартир в центре имеет 2-3 комнаты, а в общей выборке 1-2.\n",
    "- Высота потолков в среднем по всем объявлениям составляет 2.69м, а для центра - 2.9м.\n",
    "- Самые дорогие квартиры в центре - это однокомнатные. Для общей выборки - квартиры со свободной планировкой. С ростом к-ва цена несколько снижается, потом растёт.\n",
    "- Самые дешёвые квартиры на первом этаже, потом на последнем и самые дорогие в колонке *другой* для обеих выборок.\n",
    "- Наибольшую стоимость имели квартиры, которые выставлялись в 2014 году, хоть их было и немного. Потом с ростом числа квартир цена снижалась до 2016 года для общей выборки, для квартир в центре снижение было до 2018 года.\n",
    "- Для квартир в центре цена имеет наибльшее значение в апреле, а наименьшее значение имеет в маеи октябре-ноябре. Эти результаты несколько отличаются от результатов, что были получены для всех квартир. Там стоимосоть более равномерна и миниму достигается в мае-июне-июле.\n",
    "- Количество обявлений на выходные меньше, чем в рабочие дни. При этом, квартиры, которые были выставлены на продажу во вторник и четверг имеют большую стоимость квадрата для квартир в центре. Для квартир и из общей совокупности имеем более равномерную цену по дням.\n",
    "- Установили, что больше всего объявлений в Санкт-Петербурге, там же самые дорогие квартира. Самые дешёвые квартиры в Щеглово.\n",
    "- Установили, что если квартира была продана мене чем за 10 дней, то это довольно быстро, если не продана за 603 - то это очень медленно."
   ]
  },
  {
   "cell_type": "markdown",
   "metadata": {},
   "source": [
    "## Общий вывод\n",
    "\n",
    "В ходе исследования выполнили предобработку данных, где заполнили пропуски и обосновали целесообразность замены. \n",
    "Добавили некоторые показатели: цену квадратного метра, отношение жилой площади и площади кухни к общей, месяц, год, день недели публикации объвления, этажность (первый, последний, другой). Выделили центральную зону в Санкт-Петербурге и провели исследование основных влияющих факторов на стоимость квадратного метра для всех объявлений и объявлений в центральной зоне. Некоторые показатели в двух совокупностях имели сходные характеристики (например год пуюликации объявления), некоторые отличались. Определили, что можно считать быстрой продажей, что медленной."
   ]
  }
 ],
 "metadata": {
  "ExecuteTimeLog": [
   {
    "duration": 714,
    "start_time": "2021-11-15T19:06:55.250Z"
   },
   {
    "duration": 77,
    "start_time": "2021-11-15T19:07:43.868Z"
   },
   {
    "duration": 13,
    "start_time": "2021-11-15T19:07:52.263Z"
   },
   {
    "duration": 59,
    "start_time": "2021-11-15T19:08:41.598Z"
   },
   {
    "duration": 36,
    "start_time": "2021-11-15T19:08:43.063Z"
   },
   {
    "duration": 20,
    "start_time": "2021-11-15T19:08:59.499Z"
   },
   {
    "duration": 10,
    "start_time": "2021-11-15T19:09:07.282Z"
   },
   {
    "duration": 54,
    "start_time": "2021-11-15T19:10:30.612Z"
   },
   {
    "duration": 9,
    "start_time": "2021-11-15T19:10:42.804Z"
   },
   {
    "duration": 3,
    "start_time": "2021-11-15T19:10:52.387Z"
   },
   {
    "duration": 4,
    "start_time": "2021-11-15T19:11:06.691Z"
   },
   {
    "duration": 10,
    "start_time": "2021-11-15T19:11:22.720Z"
   },
   {
    "duration": 5,
    "start_time": "2021-11-15T19:11:38.458Z"
   },
   {
    "duration": 9,
    "start_time": "2021-11-15T19:11:49.392Z"
   },
   {
    "duration": 12,
    "start_time": "2021-11-15T19:48:09.295Z"
   },
   {
    "duration": 86,
    "start_time": "2021-11-15T19:49:34.209Z"
   },
   {
    "duration": 4,
    "start_time": "2021-11-15T19:50:11.391Z"
   },
   {
    "duration": 6,
    "start_time": "2021-11-15T19:51:37.135Z"
   },
   {
    "duration": 4,
    "start_time": "2021-11-15T19:52:26.028Z"
   },
   {
    "duration": 3,
    "start_time": "2021-11-15T19:52:43.364Z"
   },
   {
    "duration": 10,
    "start_time": "2021-11-15T19:52:53.349Z"
   },
   {
    "duration": 19,
    "start_time": "2021-11-15T19:53:18.236Z"
   },
   {
    "duration": 61,
    "start_time": "2021-11-15T19:53:48.746Z"
   },
   {
    "duration": 20,
    "start_time": "2021-11-15T19:53:49.719Z"
   },
   {
    "duration": 6,
    "start_time": "2021-11-15T19:54:11.738Z"
   },
   {
    "duration": 68,
    "start_time": "2021-11-15T19:54:21.806Z"
   },
   {
    "duration": 19,
    "start_time": "2021-11-15T19:54:23.719Z"
   },
   {
    "duration": 6,
    "start_time": "2021-11-15T19:54:38.992Z"
   },
   {
    "duration": 3,
    "start_time": "2021-11-15T19:54:47.469Z"
   },
   {
    "duration": 20,
    "start_time": "2021-11-15T19:54:48.711Z"
   },
   {
    "duration": 6,
    "start_time": "2021-11-15T19:55:15.396Z"
   },
   {
    "duration": 62,
    "start_time": "2021-11-15T19:55:33.536Z"
   },
   {
    "duration": 27,
    "start_time": "2021-11-15T19:55:34.742Z"
   },
   {
    "duration": 7,
    "start_time": "2021-11-15T19:55:58.930Z"
   },
   {
    "duration": 9,
    "start_time": "2021-11-15T19:56:18.461Z"
   },
   {
    "duration": 7,
    "start_time": "2021-11-15T19:56:37.539Z"
   },
   {
    "duration": 4,
    "start_time": "2021-11-15T19:56:41.277Z"
   },
   {
    "duration": 20,
    "start_time": "2021-11-15T19:56:43.074Z"
   },
   {
    "duration": 7,
    "start_time": "2021-11-15T19:56:55.510Z"
   },
   {
    "duration": 67,
    "start_time": "2021-11-15T19:58:04.817Z"
   },
   {
    "duration": 13,
    "start_time": "2021-11-15T19:58:20.565Z"
   },
   {
    "duration": 3,
    "start_time": "2021-11-15T19:58:23.583Z"
   },
   {
    "duration": 29,
    "start_time": "2021-11-15T19:58:25.489Z"
   },
   {
    "duration": 61,
    "start_time": "2021-11-15T19:59:32.824Z"
   },
   {
    "duration": 10,
    "start_time": "2021-11-15T19:59:36.498Z"
   },
   {
    "duration": 4,
    "start_time": "2021-11-15T19:59:47.983Z"
   },
   {
    "duration": 21,
    "start_time": "2021-11-15T19:59:49.197Z"
   },
   {
    "duration": 7,
    "start_time": "2021-11-15T19:59:56.856Z"
   },
   {
    "duration": 65,
    "start_time": "2021-11-15T20:00:01.321Z"
   },
   {
    "duration": 10,
    "start_time": "2021-11-15T20:00:08.883Z"
   },
   {
    "duration": 13,
    "start_time": "2021-11-15T20:00:12.201Z"
   },
   {
    "duration": 21,
    "start_time": "2021-11-15T20:00:23.930Z"
   },
   {
    "duration": 12,
    "start_time": "2021-11-15T20:00:32.300Z"
   },
   {
    "duration": 19,
    "start_time": "2021-11-15T20:00:35.255Z"
   },
   {
    "duration": 6,
    "start_time": "2021-11-15T20:00:48.730Z"
   },
   {
    "duration": 20,
    "start_time": "2021-11-15T20:00:52.220Z"
   },
   {
    "duration": 6,
    "start_time": "2021-11-15T20:00:59.718Z"
   },
   {
    "duration": 20,
    "start_time": "2021-11-15T20:01:02.818Z"
   },
   {
    "duration": 7,
    "start_time": "2021-11-15T20:01:14.104Z"
   },
   {
    "duration": 3,
    "start_time": "2021-11-15T20:01:27.080Z"
   },
   {
    "duration": 4,
    "start_time": "2021-11-15T20:01:29.402Z"
   },
   {
    "duration": 4,
    "start_time": "2021-11-15T20:01:35.741Z"
   },
   {
    "duration": 7,
    "start_time": "2021-11-15T20:01:39.704Z"
   },
   {
    "duration": 6,
    "start_time": "2021-11-15T20:01:47.563Z"
   },
   {
    "duration": 62,
    "start_time": "2021-11-15T20:02:12.384Z"
   },
   {
    "duration": 8,
    "start_time": "2021-11-15T20:02:16.664Z"
   },
   {
    "duration": 12,
    "start_time": "2021-11-15T20:02:25.124Z"
   },
   {
    "duration": 1831,
    "start_time": "2021-11-15T20:02:30.222Z"
   },
   {
    "duration": 3,
    "start_time": "2021-11-15T20:02:47.602Z"
   },
   {
    "duration": 5,
    "start_time": "2021-11-15T20:02:48.893Z"
   },
   {
    "duration": 95,
    "start_time": "2021-11-15T20:06:35.530Z"
   },
   {
    "duration": 99,
    "start_time": "2021-11-15T20:06:41.749Z"
   },
   {
    "duration": 88,
    "start_time": "2021-11-15T20:07:14.783Z"
   },
   {
    "duration": 7,
    "start_time": "2021-11-15T20:07:53.635Z"
   },
   {
    "duration": 10,
    "start_time": "2021-11-15T20:08:05.535Z"
   },
   {
    "duration": 9,
    "start_time": "2021-11-15T20:08:22.745Z"
   },
   {
    "duration": 1035,
    "start_time": "2021-11-15T20:08:35.132Z"
   },
   {
    "duration": 6,
    "start_time": "2021-11-15T20:11:07.793Z"
   },
   {
    "duration": 6,
    "start_time": "2021-11-15T20:11:14.682Z"
   },
   {
    "duration": 5,
    "start_time": "2021-11-15T20:11:23.521Z"
   },
   {
    "duration": 7,
    "start_time": "2021-11-15T20:11:26.616Z"
   },
   {
    "duration": 4,
    "start_time": "2021-11-15T20:11:45.882Z"
   },
   {
    "duration": 6,
    "start_time": "2021-11-15T20:11:56.793Z"
   },
   {
    "duration": 63,
    "start_time": "2021-11-15T20:12:08.850Z"
   },
   {
    "duration": 5,
    "start_time": "2021-11-15T20:12:19.935Z"
   },
   {
    "duration": 7,
    "start_time": "2021-11-15T20:12:24.623Z"
   },
   {
    "duration": 59,
    "start_time": "2021-11-15T20:12:34.488Z"
   },
   {
    "duration": 5,
    "start_time": "2021-11-15T20:12:37.241Z"
   },
   {
    "duration": 6,
    "start_time": "2021-11-15T20:12:39.586Z"
   },
   {
    "duration": 3,
    "start_time": "2021-11-15T20:12:43.694Z"
   },
   {
    "duration": 6,
    "start_time": "2021-11-15T20:12:45.445Z"
   },
   {
    "duration": 9,
    "start_time": "2021-11-15T20:14:22.827Z"
   },
   {
    "duration": 538,
    "start_time": "2021-11-16T18:43:22.412Z"
   },
   {
    "duration": 66,
    "start_time": "2021-11-16T18:46:14.389Z"
   },
   {
    "duration": 39,
    "start_time": "2021-11-16T18:48:23.893Z"
   },
   {
    "duration": 14,
    "start_time": "2021-11-16T19:05:37.142Z"
   },
   {
    "duration": 7,
    "start_time": "2021-11-16T19:19:01.496Z"
   },
   {
    "duration": 313,
    "start_time": "2021-11-16T19:19:32.579Z"
   },
   {
    "duration": 7,
    "start_time": "2021-11-16T19:19:43.520Z"
   },
   {
    "duration": 9,
    "start_time": "2021-11-16T19:23:33.596Z"
   },
   {
    "duration": 7,
    "start_time": "2021-11-16T19:24:07.941Z"
   },
   {
    "duration": 312,
    "start_time": "2021-11-17T09:26:40.320Z"
   },
   {
    "duration": 577,
    "start_time": "2021-11-17T09:26:45.199Z"
   },
   {
    "duration": 74,
    "start_time": "2021-11-17T09:26:47.421Z"
   },
   {
    "duration": 14,
    "start_time": "2021-11-17T09:27:26.905Z"
   },
   {
    "duration": 5,
    "start_time": "2021-11-17T09:30:03.950Z"
   },
   {
    "duration": 7,
    "start_time": "2021-11-17T09:30:10.760Z"
   },
   {
    "duration": 6,
    "start_time": "2021-11-17T09:30:34.199Z"
   },
   {
    "duration": 8,
    "start_time": "2021-11-17T09:30:46.843Z"
   },
   {
    "duration": 7,
    "start_time": "2021-11-17T09:31:10.007Z"
   },
   {
    "duration": 6,
    "start_time": "2021-11-17T09:31:17.726Z"
   },
   {
    "duration": 7,
    "start_time": "2021-11-17T09:31:30.581Z"
   },
   {
    "duration": 6,
    "start_time": "2021-11-17T09:31:36.538Z"
   },
   {
    "duration": 3,
    "start_time": "2021-11-17T09:31:54.657Z"
   },
   {
    "duration": 7,
    "start_time": "2021-11-17T09:32:01.166Z"
   },
   {
    "duration": 8,
    "start_time": "2021-11-17T09:32:23.624Z"
   },
   {
    "duration": 9,
    "start_time": "2021-11-17T09:32:54.868Z"
   },
   {
    "duration": 67,
    "start_time": "2021-11-17T09:34:42.483Z"
   },
   {
    "duration": 89,
    "start_time": "2021-11-17T09:35:06.915Z"
   },
   {
    "duration": 62,
    "start_time": "2021-11-17T09:40:14.631Z"
   },
   {
    "duration": 11,
    "start_time": "2021-11-17T09:40:29.896Z"
   },
   {
    "duration": 44,
    "start_time": "2021-11-17T09:41:32.010Z"
   },
   {
    "duration": 11,
    "start_time": "2021-11-17T09:41:34.806Z"
   },
   {
    "duration": 14,
    "start_time": "2021-11-17T09:42:35.151Z"
   },
   {
    "duration": 16,
    "start_time": "2021-11-17T09:42:37.482Z"
   },
   {
    "duration": 11,
    "start_time": "2021-11-17T09:42:50.555Z"
   },
   {
    "duration": 6,
    "start_time": "2021-11-17T09:43:00.240Z"
   },
   {
    "duration": 12,
    "start_time": "2021-11-17T09:43:01.817Z"
   },
   {
    "duration": 4,
    "start_time": "2021-11-17T09:43:40.699Z"
   },
   {
    "duration": 146,
    "start_time": "2021-11-17T09:49:42.917Z"
   },
   {
    "duration": 8,
    "start_time": "2021-11-17T09:50:05.251Z"
   },
   {
    "duration": 5,
    "start_time": "2021-11-17T09:50:12.027Z"
   },
   {
    "duration": 477,
    "start_time": "2021-11-17T09:53:20.493Z"
   },
   {
    "duration": 257,
    "start_time": "2021-11-17T09:53:28.536Z"
   },
   {
    "duration": 258,
    "start_time": "2021-11-17T09:53:42.833Z"
   },
   {
    "duration": 7,
    "start_time": "2021-11-17T09:53:45.972Z"
   },
   {
    "duration": 6,
    "start_time": "2021-11-17T09:54:00.676Z"
   },
   {
    "duration": 7,
    "start_time": "2021-11-17T09:54:06.032Z"
   },
   {
    "duration": 6,
    "start_time": "2021-11-17T09:54:31.751Z"
   },
   {
    "duration": 13,
    "start_time": "2021-11-17T09:55:04.825Z"
   },
   {
    "duration": 270,
    "start_time": "2021-11-17T09:55:19.931Z"
   },
   {
    "duration": 17,
    "start_time": "2021-11-17T09:55:22.197Z"
   },
   {
    "duration": 10,
    "start_time": "2021-11-17T10:00:37.526Z"
   },
   {
    "duration": 7752,
    "start_time": "2021-11-17T10:02:12.381Z"
   },
   {
    "duration": 6,
    "start_time": "2021-11-17T10:02:25.443Z"
   },
   {
    "duration": 8,
    "start_time": "2021-11-17T10:13:16.706Z"
   },
   {
    "duration": 276,
    "start_time": "2021-11-17T10:13:43.181Z"
   },
   {
    "duration": 6,
    "start_time": "2021-11-17T10:13:48.330Z"
   },
   {
    "duration": 7,
    "start_time": "2021-11-17T10:14:57.783Z"
   },
   {
    "duration": 9,
    "start_time": "2021-11-17T10:15:30.406Z"
   },
   {
    "duration": 98,
    "start_time": "2021-11-17T10:15:52.748Z"
   },
   {
    "duration": 275,
    "start_time": "2021-11-17T10:15:58.016Z"
   },
   {
    "duration": 298,
    "start_time": "2021-11-17T10:16:08.912Z"
   },
   {
    "duration": 276,
    "start_time": "2021-11-17T10:16:51.853Z"
   },
   {
    "duration": 356,
    "start_time": "2021-11-17T10:17:24.117Z"
   },
   {
    "duration": 8,
    "start_time": "2021-11-17T10:17:37.378Z"
   },
   {
    "duration": 268,
    "start_time": "2021-11-17T10:18:16.268Z"
   },
   {
    "duration": 8,
    "start_time": "2021-11-17T10:18:19.931Z"
   },
   {
    "duration": 279,
    "start_time": "2021-11-17T10:18:32.452Z"
   },
   {
    "duration": 270,
    "start_time": "2021-11-17T10:18:44.175Z"
   },
   {
    "duration": 268,
    "start_time": "2021-11-17T10:19:22.936Z"
   },
   {
    "duration": 417,
    "start_time": "2021-11-17T10:19:27.880Z"
   },
   {
    "duration": 25,
    "start_time": "2021-11-17T10:19:41.113Z"
   },
   {
    "duration": 282,
    "start_time": "2021-11-17T10:22:01.746Z"
   },
   {
    "duration": 335,
    "start_time": "2021-11-17T10:23:12.576Z"
   },
   {
    "duration": 7,
    "start_time": "2021-11-17T10:23:20.971Z"
   },
   {
    "duration": 278,
    "start_time": "2021-11-17T10:23:55.683Z"
   },
   {
    "duration": 7,
    "start_time": "2021-11-17T10:24:12.345Z"
   },
   {
    "duration": 303,
    "start_time": "2021-11-17T10:24:25.330Z"
   },
   {
    "duration": 272,
    "start_time": "2021-11-17T10:24:46.782Z"
   },
   {
    "duration": 311,
    "start_time": "2021-11-17T10:24:50.372Z"
   },
   {
    "duration": 276,
    "start_time": "2021-11-17T10:25:03.787Z"
   },
   {
    "duration": 353,
    "start_time": "2021-11-17T10:25:06.535Z"
   },
   {
    "duration": 8,
    "start_time": "2021-11-17T10:25:17.421Z"
   },
   {
    "duration": 356,
    "start_time": "2021-11-17T10:25:23.982Z"
   },
   {
    "duration": 7,
    "start_time": "2021-11-17T10:25:40.851Z"
   },
   {
    "duration": 8,
    "start_time": "2021-11-17T10:26:40.570Z"
   },
   {
    "duration": 7,
    "start_time": "2021-11-17T10:27:49.775Z"
   },
   {
    "duration": 94,
    "start_time": "2021-11-17T10:28:45.377Z"
   },
   {
    "duration": 338,
    "start_time": "2021-11-17T10:28:51.152Z"
   },
   {
    "duration": 75,
    "start_time": "2021-11-17T10:30:16.458Z"
   },
   {
    "duration": 76,
    "start_time": "2021-11-17T10:36:28.924Z"
   },
   {
    "duration": 273,
    "start_time": "2021-11-17T10:37:12.944Z"
   },
   {
    "duration": 31,
    "start_time": "2021-11-17T10:38:13.892Z"
   },
   {
    "duration": 33,
    "start_time": "2021-11-17T10:40:11.175Z"
   },
   {
    "duration": 5,
    "start_time": "2021-11-17T10:41:24.405Z"
   },
   {
    "duration": 7,
    "start_time": "2021-11-17T10:45:17.295Z"
   },
   {
    "duration": 39,
    "start_time": "2021-11-17T10:51:38.832Z"
   },
   {
    "duration": 8,
    "start_time": "2021-11-17T10:52:35.396Z"
   },
   {
    "duration": 8,
    "start_time": "2021-11-17T10:52:43.101Z"
   },
   {
    "duration": 9,
    "start_time": "2021-11-17T10:53:38.008Z"
   },
   {
    "duration": 34,
    "start_time": "2021-11-17T10:55:09.211Z"
   },
   {
    "duration": 27,
    "start_time": "2021-11-17T10:57:04.081Z"
   },
   {
    "duration": 26,
    "start_time": "2021-11-17T10:57:11.717Z"
   },
   {
    "duration": 28,
    "start_time": "2021-11-17T10:57:49.355Z"
   },
   {
    "duration": 9,
    "start_time": "2021-11-17T10:59:01.438Z"
   },
   {
    "duration": 36,
    "start_time": "2021-11-17T10:59:43.659Z"
   },
   {
    "duration": 12,
    "start_time": "2021-11-17T11:00:43.634Z"
   },
   {
    "duration": 9,
    "start_time": "2021-11-17T11:01:08.897Z"
   },
   {
    "duration": 37,
    "start_time": "2021-11-17T11:01:28.062Z"
   },
   {
    "duration": 9,
    "start_time": "2021-11-17T11:01:55.753Z"
   },
   {
    "duration": 33,
    "start_time": "2021-11-17T11:02:17.291Z"
   },
   {
    "duration": 8,
    "start_time": "2021-11-17T11:03:04.473Z"
   },
   {
    "duration": 17,
    "start_time": "2021-11-17T11:05:00.904Z"
   },
   {
    "duration": 16,
    "start_time": "2021-11-17T11:05:05.954Z"
   },
   {
    "duration": 40,
    "start_time": "2021-11-17T11:05:59.647Z"
   },
   {
    "duration": 8,
    "start_time": "2021-11-17T11:09:38.722Z"
   },
   {
    "duration": 9,
    "start_time": "2021-11-17T11:11:33.320Z"
   },
   {
    "duration": 93,
    "start_time": "2021-11-17T11:13:57.251Z"
   },
   {
    "duration": 298,
    "start_time": "2021-11-17T11:14:04.065Z"
   },
   {
    "duration": 8,
    "start_time": "2021-11-17T11:14:10.699Z"
   },
   {
    "duration": 819,
    "start_time": "2021-11-18T13:57:18.988Z"
   },
   {
    "duration": 98,
    "start_time": "2021-11-18T13:57:22.327Z"
   },
   {
    "duration": 4,
    "start_time": "2021-11-18T13:59:05.073Z"
   },
   {
    "duration": 92,
    "start_time": "2021-11-18T13:59:09.040Z"
   },
   {
    "duration": 40,
    "start_time": "2021-11-18T13:59:11.242Z"
   },
   {
    "duration": 4,
    "start_time": "2021-11-18T14:00:35.395Z"
   },
   {
    "duration": 29,
    "start_time": "2021-11-18T14:00:40.338Z"
   },
   {
    "duration": 15,
    "start_time": "2021-11-18T14:00:58.005Z"
   },
   {
    "duration": 7,
    "start_time": "2021-11-18T14:00:59.676Z"
   },
   {
    "duration": 7934,
    "start_time": "2021-11-18T14:02:00.923Z"
   },
   {
    "duration": 18,
    "start_time": "2021-11-18T14:02:23.424Z"
   },
   {
    "duration": 4136,
    "start_time": "2021-11-18T14:07:37.023Z"
   },
   {
    "duration": 39,
    "start_time": "2021-11-18T14:08:00.086Z"
   },
   {
    "duration": 7,
    "start_time": "2021-11-18T14:09:08.667Z"
   },
   {
    "duration": 32,
    "start_time": "2021-11-18T14:09:23.316Z"
   },
   {
    "duration": 1416,
    "start_time": "2021-11-18T14:10:01.029Z"
   },
   {
    "duration": 12,
    "start_time": "2021-11-18T14:11:13.870Z"
   },
   {
    "duration": 5,
    "start_time": "2021-11-18T14:15:52.041Z"
   },
   {
    "duration": 7,
    "start_time": "2021-11-18T14:16:07.461Z"
   },
   {
    "duration": 336,
    "start_time": "2021-11-18T14:16:36.720Z"
   },
   {
    "duration": 1272,
    "start_time": "2021-11-18T14:16:48.024Z"
   },
   {
    "duration": 4,
    "start_time": "2021-11-18T14:18:03.737Z"
   },
   {
    "duration": 8,
    "start_time": "2021-11-18T14:18:10.423Z"
   },
   {
    "duration": 1351,
    "start_time": "2021-11-18T14:18:15.246Z"
   },
   {
    "duration": 4,
    "start_time": "2021-11-18T14:18:53.639Z"
   },
   {
    "duration": 7,
    "start_time": "2021-11-18T14:18:54.809Z"
   },
   {
    "duration": 1293,
    "start_time": "2021-11-18T14:19:03.415Z"
   },
   {
    "duration": 7,
    "start_time": "2021-11-18T14:20:20.843Z"
   },
   {
    "duration": 6,
    "start_time": "2021-11-18T14:20:23.069Z"
   },
   {
    "duration": 7,
    "start_time": "2021-11-18T14:20:25.081Z"
   },
   {
    "duration": 330,
    "start_time": "2021-11-18T14:21:09.298Z"
   },
   {
    "duration": 504,
    "start_time": "2021-11-18T14:21:30.421Z"
   },
   {
    "duration": 46,
    "start_time": "2021-11-18T14:21:55.935Z"
   },
   {
    "duration": 52,
    "start_time": "2021-11-18T14:22:26.394Z"
   },
   {
    "duration": 637,
    "start_time": "2021-11-19T09:42:22.270Z"
   },
   {
    "duration": 74,
    "start_time": "2021-11-19T09:42:24.741Z"
   },
   {
    "duration": 29,
    "start_time": "2021-11-19T09:42:28.510Z"
   },
   {
    "duration": 10,
    "start_time": "2021-11-19T09:42:41.250Z"
   },
   {
    "duration": 6,
    "start_time": "2021-11-19T09:42:43.390Z"
   },
   {
    "duration": 13,
    "start_time": "2021-11-19T09:43:11.670Z"
   },
   {
    "duration": 12,
    "start_time": "2021-11-19T09:45:40.870Z"
   },
   {
    "duration": 13,
    "start_time": "2021-11-19T09:46:04.151Z"
   },
   {
    "duration": 3,
    "start_time": "2021-11-19T09:46:25.750Z"
   },
   {
    "duration": 19,
    "start_time": "2021-11-19T09:46:33.289Z"
   },
   {
    "duration": 5,
    "start_time": "2021-11-19T09:47:03.131Z"
   },
   {
    "duration": 22,
    "start_time": "2021-11-19T09:47:26.870Z"
   },
   {
    "duration": 5,
    "start_time": "2021-11-19T09:48:41.114Z"
   },
   {
    "duration": 9,
    "start_time": "2021-11-19T09:48:51.858Z"
   },
   {
    "duration": 22,
    "start_time": "2021-11-19T09:49:03.001Z"
   },
   {
    "duration": 8,
    "start_time": "2021-11-19T09:49:57.062Z"
   },
   {
    "duration": 3,
    "start_time": "2021-11-19T10:41:39.057Z"
   },
   {
    "duration": 3,
    "start_time": "2021-11-19T10:43:41.848Z"
   },
   {
    "duration": 121,
    "start_time": "2021-11-19T10:44:58.217Z"
   },
   {
    "duration": 2,
    "start_time": "2021-11-19T10:45:05.584Z"
   },
   {
    "duration": 8,
    "start_time": "2021-11-19T10:45:37.307Z"
   },
   {
    "duration": 4,
    "start_time": "2021-11-19T10:46:06.068Z"
   },
   {
    "duration": 628,
    "start_time": "2021-11-19T10:46:07.636Z"
   },
   {
    "duration": 3,
    "start_time": "2021-11-19T10:46:13.455Z"
   },
   {
    "duration": 4,
    "start_time": "2021-11-19T10:46:14.556Z"
   },
   {
    "duration": 3,
    "start_time": "2021-11-19T10:48:14.048Z"
   },
   {
    "duration": 550,
    "start_time": "2021-11-19T10:48:16.947Z"
   },
   {
    "duration": 4,
    "start_time": "2021-11-19T10:48:26.467Z"
   },
   {
    "duration": 5,
    "start_time": "2021-11-19T10:48:27.987Z"
   },
   {
    "duration": 3,
    "start_time": "2021-11-19T10:48:39.155Z"
   },
   {
    "duration": 6,
    "start_time": "2021-11-19T10:48:40.123Z"
   },
   {
    "duration": 5,
    "start_time": "2021-11-19T10:49:00.637Z"
   },
   {
    "duration": 5,
    "start_time": "2021-11-19T10:49:02.815Z"
   },
   {
    "duration": 3,
    "start_time": "2021-11-19T10:49:05.208Z"
   },
   {
    "duration": 4,
    "start_time": "2021-11-19T10:49:06.987Z"
   },
   {
    "duration": 603,
    "start_time": "2021-11-19T12:43:05.707Z"
   },
   {
    "duration": 67,
    "start_time": "2021-11-19T12:43:07.758Z"
   },
   {
    "duration": 3,
    "start_time": "2021-11-19T12:43:09.747Z"
   },
   {
    "duration": 3,
    "start_time": "2021-11-19T12:44:09.907Z"
   },
   {
    "duration": 3,
    "start_time": "2021-11-19T12:44:26.607Z"
   },
   {
    "duration": 9,
    "start_time": "2021-11-19T12:44:27.627Z"
   },
   {
    "duration": 1573,
    "start_time": "2021-11-19T12:45:00.208Z"
   },
   {
    "duration": 312,
    "start_time": "2021-11-19T12:49:42.127Z"
   },
   {
    "duration": 317,
    "start_time": "2021-11-19T12:50:27.567Z"
   },
   {
    "duration": 260,
    "start_time": "2021-11-19T12:51:17.147Z"
   },
   {
    "duration": 3,
    "start_time": "2021-11-19T12:51:59.238Z"
   },
   {
    "duration": 556,
    "start_time": "2021-11-19T12:52:00.587Z"
   },
   {
    "duration": 3,
    "start_time": "2021-11-19T12:52:16.409Z"
   },
   {
    "duration": 3,
    "start_time": "2021-11-19T12:52:18.767Z"
   },
   {
    "duration": 281,
    "start_time": "2021-11-19T12:52:25.958Z"
   },
   {
    "duration": 31,
    "start_time": "2021-11-19T12:53:15.227Z"
   },
   {
    "duration": 2,
    "start_time": "2021-11-19T12:53:40.568Z"
   },
   {
    "duration": 28,
    "start_time": "2021-11-19T12:53:44.479Z"
   },
   {
    "duration": 30,
    "start_time": "2021-11-19T12:54:23.667Z"
   },
   {
    "duration": 6,
    "start_time": "2021-11-19T12:55:23.831Z"
   },
   {
    "duration": 8,
    "start_time": "2021-11-19T12:55:46.791Z"
   },
   {
    "duration": 7,
    "start_time": "2021-11-19T12:56:00.808Z"
   },
   {
    "duration": 8,
    "start_time": "2021-11-19T12:56:09.798Z"
   },
   {
    "duration": 8,
    "start_time": "2021-11-19T12:57:30.367Z"
   },
   {
    "duration": 29,
    "start_time": "2021-11-19T12:57:39.958Z"
   },
   {
    "duration": 31,
    "start_time": "2021-11-19T12:57:43.588Z"
   },
   {
    "duration": 9,
    "start_time": "2021-11-19T12:58:23.948Z"
   },
   {
    "duration": 294,
    "start_time": "2021-11-19T13:00:13.247Z"
   },
   {
    "duration": 355,
    "start_time": "2021-11-19T13:00:47.638Z"
   },
   {
    "duration": 281,
    "start_time": "2021-11-19T13:01:35.768Z"
   },
   {
    "duration": 5,
    "start_time": "2021-11-19T13:01:41.847Z"
   },
   {
    "duration": 6,
    "start_time": "2021-11-19T13:02:06.452Z"
   },
   {
    "duration": 5,
    "start_time": "2021-11-19T13:02:24.008Z"
   },
   {
    "duration": 15,
    "start_time": "2021-11-19T13:04:12.387Z"
   },
   {
    "duration": 26,
    "start_time": "2021-11-19T13:05:09.647Z"
   },
   {
    "duration": 215,
    "start_time": "2021-11-19T13:19:18.853Z"
   },
   {
    "duration": 9,
    "start_time": "2021-11-19T13:26:25.602Z"
   },
   {
    "duration": 8,
    "start_time": "2021-11-19T13:26:41.134Z"
   },
   {
    "duration": 11,
    "start_time": "2021-11-19T13:47:32.545Z"
   },
   {
    "duration": 8,
    "start_time": "2021-11-19T13:48:10.046Z"
   },
   {
    "duration": 4,
    "start_time": "2021-11-19T13:48:20.686Z"
   },
   {
    "duration": 6,
    "start_time": "2021-11-19T13:49:59.635Z"
   },
   {
    "duration": 7,
    "start_time": "2021-11-19T13:51:20.354Z"
   },
   {
    "duration": 10814,
    "start_time": "2021-11-19T13:52:20.785Z"
   },
   {
    "duration": 572,
    "start_time": "2021-11-19T13:52:52.595Z"
   },
   {
    "duration": 6,
    "start_time": "2021-11-19T13:53:07.865Z"
   },
   {
    "duration": 8,
    "start_time": "2021-11-19T13:53:59.845Z"
   },
   {
    "duration": 53,
    "start_time": "2021-11-19T13:54:20.385Z"
   },
   {
    "duration": 3609,
    "start_time": "2021-11-19T13:55:14.685Z"
   },
   {
    "duration": 50,
    "start_time": "2021-11-19T14:04:21.796Z"
   },
   {
    "duration": 49,
    "start_time": "2021-11-19T14:05:38.664Z"
   },
   {
    "duration": 204,
    "start_time": "2021-11-19T14:06:15.916Z"
   },
   {
    "duration": 8,
    "start_time": "2021-11-19T14:07:11.163Z"
   },
   {
    "duration": 15,
    "start_time": "2021-11-19T14:08:07.875Z"
   },
   {
    "duration": 807,
    "start_time": "2021-11-19T16:45:50.632Z"
   },
   {
    "duration": 93,
    "start_time": "2021-11-19T16:45:54.547Z"
   },
   {
    "duration": 45,
    "start_time": "2021-11-19T16:45:58.104Z"
   },
   {
    "duration": 10,
    "start_time": "2021-11-19T16:46:39.157Z"
   },
   {
    "duration": 5,
    "start_time": "2021-11-19T16:46:40.737Z"
   },
   {
    "duration": 4744,
    "start_time": "2021-11-19T16:47:04.030Z"
   },
   {
    "duration": 4259,
    "start_time": "2021-11-19T16:47:39.033Z"
   },
   {
    "duration": 9,
    "start_time": "2021-11-19T16:48:00.151Z"
   },
   {
    "duration": 112,
    "start_time": "2021-11-19T16:48:12.325Z"
   },
   {
    "duration": 13,
    "start_time": "2021-11-19T16:48:16.501Z"
   },
   {
    "duration": 8,
    "start_time": "2021-11-19T16:48:22.717Z"
   },
   {
    "duration": 9,
    "start_time": "2021-11-19T16:48:37.490Z"
   },
   {
    "duration": 9,
    "start_time": "2021-11-19T16:48:53.529Z"
   },
   {
    "duration": 7,
    "start_time": "2021-11-19T16:49:16.186Z"
   },
   {
    "duration": 12,
    "start_time": "2021-11-19T16:49:31.098Z"
   },
   {
    "duration": 56,
    "start_time": "2021-11-19T16:49:56.083Z"
   },
   {
    "duration": 10,
    "start_time": "2021-11-19T16:50:41.340Z"
   },
   {
    "duration": 13,
    "start_time": "2021-11-19T16:51:20.463Z"
   },
   {
    "duration": 13,
    "start_time": "2021-11-19T16:52:33.749Z"
   },
   {
    "duration": 7,
    "start_time": "2021-11-19T16:53:01.558Z"
   },
   {
    "duration": 363,
    "start_time": "2021-11-19T16:53:12.584Z"
   },
   {
    "duration": 10,
    "start_time": "2021-11-19T16:53:17.281Z"
   },
   {
    "duration": 11,
    "start_time": "2021-11-19T16:53:36.470Z"
   },
   {
    "duration": 11,
    "start_time": "2021-11-19T16:53:45.795Z"
   },
   {
    "duration": 13,
    "start_time": "2021-11-19T16:53:55.242Z"
   },
   {
    "duration": 13,
    "start_time": "2021-11-19T16:54:05.418Z"
   },
   {
    "duration": 13,
    "start_time": "2021-11-19T16:54:14.110Z"
   },
   {
    "duration": 332,
    "start_time": "2021-11-19T16:54:40.087Z"
   },
   {
    "duration": 12,
    "start_time": "2021-11-19T16:55:08.722Z"
   },
   {
    "duration": 9,
    "start_time": "2021-11-19T16:55:40.773Z"
   },
   {
    "duration": 13,
    "start_time": "2021-11-19T16:56:03.711Z"
   },
   {
    "duration": 4,
    "start_time": "2021-11-19T16:57:08.226Z"
   },
   {
    "duration": 4,
    "start_time": "2021-11-19T16:57:09.251Z"
   },
   {
    "duration": 11,
    "start_time": "2021-11-19T16:57:30.762Z"
   },
   {
    "duration": 10,
    "start_time": "2021-11-19T16:57:58.680Z"
   },
   {
    "duration": 11,
    "start_time": "2021-11-19T16:58:02.618Z"
   },
   {
    "duration": 85,
    "start_time": "2021-11-19T16:58:11.733Z"
   },
   {
    "duration": 11,
    "start_time": "2021-11-19T16:58:16.679Z"
   },
   {
    "duration": 11,
    "start_time": "2021-11-19T16:58:33.632Z"
   },
   {
    "duration": 12,
    "start_time": "2021-11-19T16:58:43.662Z"
   },
   {
    "duration": 12,
    "start_time": "2021-11-19T16:58:51.900Z"
   },
   {
    "duration": 12,
    "start_time": "2021-11-19T16:59:00.397Z"
   },
   {
    "duration": 7,
    "start_time": "2021-11-19T16:59:54.485Z"
   },
   {
    "duration": 12,
    "start_time": "2021-11-19T17:01:43.637Z"
   },
   {
    "duration": 12,
    "start_time": "2021-11-19T17:03:36.247Z"
   },
   {
    "duration": 15,
    "start_time": "2021-11-19T17:04:51.614Z"
   },
   {
    "duration": 16,
    "start_time": "2021-11-19T17:05:00.408Z"
   },
   {
    "duration": 10,
    "start_time": "2021-11-19T17:05:24.768Z"
   },
   {
    "duration": 10,
    "start_time": "2021-11-19T17:05:34.569Z"
   },
   {
    "duration": 12,
    "start_time": "2021-11-19T17:05:39.744Z"
   },
   {
    "duration": 14,
    "start_time": "2021-11-19T17:05:48.926Z"
   },
   {
    "duration": 13,
    "start_time": "2021-11-19T17:05:52.978Z"
   },
   {
    "duration": 12,
    "start_time": "2021-11-19T17:06:16.291Z"
   },
   {
    "duration": 16,
    "start_time": "2021-11-19T17:06:22.792Z"
   },
   {
    "duration": 12,
    "start_time": "2021-11-19T17:06:25.889Z"
   },
   {
    "duration": 13,
    "start_time": "2021-11-19T17:06:30.241Z"
   },
   {
    "duration": 14,
    "start_time": "2021-11-19T17:06:39.078Z"
   },
   {
    "duration": 13,
    "start_time": "2021-11-19T17:06:45.149Z"
   },
   {
    "duration": 109,
    "start_time": "2021-11-19T17:06:56.956Z"
   },
   {
    "duration": 11,
    "start_time": "2021-11-19T17:07:00.246Z"
   },
   {
    "duration": 11,
    "start_time": "2021-11-19T17:08:13.513Z"
   },
   {
    "duration": 19,
    "start_time": "2021-11-19T17:08:17.402Z"
   },
   {
    "duration": 16,
    "start_time": "2021-11-19T17:10:52.008Z"
   },
   {
    "duration": 12,
    "start_time": "2021-11-19T17:11:22.639Z"
   },
   {
    "duration": 11,
    "start_time": "2021-11-19T17:11:38.744Z"
   },
   {
    "duration": -13022,
    "start_time": "2021-11-19T17:12:14.926Z"
   },
   {
    "duration": 11,
    "start_time": "2021-11-19T17:13:05.662Z"
   },
   {
    "duration": 13,
    "start_time": "2021-11-19T17:13:18.001Z"
   },
   {
    "duration": 13,
    "start_time": "2021-11-19T17:13:21.676Z"
   },
   {
    "duration": 13,
    "start_time": "2021-11-19T17:13:27.946Z"
   },
   {
    "duration": 12,
    "start_time": "2021-11-19T17:13:31.958Z"
   },
   {
    "duration": 12,
    "start_time": "2021-11-19T17:13:34.442Z"
   },
   {
    "duration": 4,
    "start_time": "2021-11-19T17:14:50.023Z"
   },
   {
    "duration": 4,
    "start_time": "2021-11-19T17:14:51.691Z"
   },
   {
    "duration": 42,
    "start_time": "2021-11-19T17:14:53.929Z"
   },
   {
    "duration": 17,
    "start_time": "2021-11-19T17:15:02.093Z"
   },
   {
    "duration": 56,
    "start_time": "2021-11-19T17:15:24.978Z"
   },
   {
    "duration": 19,
    "start_time": "2021-11-19T17:15:31.686Z"
   },
   {
    "duration": 12,
    "start_time": "2021-11-19T17:15:42.326Z"
   },
   {
    "duration": 11,
    "start_time": "2021-11-19T17:15:47.687Z"
   },
   {
    "duration": 6,
    "start_time": "2021-11-19T17:16:14.943Z"
   },
   {
    "duration": 9,
    "start_time": "2021-11-19T17:16:24.483Z"
   },
   {
    "duration": 44,
    "start_time": "2021-11-19T17:19:29.492Z"
   },
   {
    "duration": 13,
    "start_time": "2021-11-19T17:19:36.779Z"
   },
   {
    "duration": 93,
    "start_time": "2021-11-19T17:19:50.796Z"
   },
   {
    "duration": 8,
    "start_time": "2021-11-19T17:19:54.883Z"
   },
   {
    "duration": 4,
    "start_time": "2021-11-19T17:20:05.231Z"
   },
   {
    "duration": 42,
    "start_time": "2021-11-19T17:20:06.840Z"
   },
   {
    "duration": 14,
    "start_time": "2021-11-19T17:21:00.933Z"
   },
   {
    "duration": 9,
    "start_time": "2021-11-19T17:21:19.991Z"
   },
   {
    "duration": 18,
    "start_time": "2021-11-19T17:21:31.454Z"
   },
   {
    "duration": 17,
    "start_time": "2021-11-19T17:22:25.883Z"
   },
   {
    "duration": 13,
    "start_time": "2021-11-19T17:23:01.171Z"
   },
   {
    "duration": 11,
    "start_time": "2021-11-19T17:23:24.172Z"
   },
   {
    "duration": 10,
    "start_time": "2021-11-19T17:23:34.034Z"
   },
   {
    "duration": 17,
    "start_time": "2021-11-19T17:23:41.683Z"
   },
   {
    "duration": 24,
    "start_time": "2021-11-19T17:24:24.012Z"
   },
   {
    "duration": 13,
    "start_time": "2021-11-19T17:25:20.965Z"
   },
   {
    "duration": 5,
    "start_time": "2021-11-19T17:25:47.714Z"
   },
   {
    "duration": 6,
    "start_time": "2021-11-19T17:25:59.765Z"
   },
   {
    "duration": 8,
    "start_time": "2021-11-19T17:26:21.166Z"
   },
   {
    "duration": 51,
    "start_time": "2021-11-19T17:26:46.518Z"
   },
   {
    "duration": 87,
    "start_time": "2021-11-19T17:27:12.169Z"
   },
   {
    "duration": 12,
    "start_time": "2021-11-19T17:30:14.866Z"
   },
   {
    "duration": 34,
    "start_time": "2021-11-19T17:30:49.554Z"
   },
   {
    "duration": 11,
    "start_time": "2021-11-19T17:33:49.197Z"
   },
   {
    "duration": 11,
    "start_time": "2021-11-19T17:34:09.039Z"
   },
   {
    "duration": 12,
    "start_time": "2021-11-19T17:34:32.434Z"
   },
   {
    "duration": 353,
    "start_time": "2021-11-19T17:34:37.587Z"
   },
   {
    "duration": 6,
    "start_time": "2021-11-19T17:34:48.016Z"
   },
   {
    "duration": 10,
    "start_time": "2021-11-19T17:34:52.624Z"
   },
   {
    "duration": 12,
    "start_time": "2021-11-19T17:36:23.611Z"
   },
   {
    "duration": 11,
    "start_time": "2021-11-19T17:36:37.270Z"
   },
   {
    "duration": 354,
    "start_time": "2021-11-19T17:37:07.915Z"
   },
   {
    "duration": 2279,
    "start_time": "2021-11-19T17:38:51.277Z"
   },
   {
    "duration": 2492,
    "start_time": "2021-11-19T17:41:25.124Z"
   },
   {
    "duration": 2562,
    "start_time": "2021-11-19T17:41:43.588Z"
   },
   {
    "duration": 1309,
    "start_time": "2021-11-19T17:41:58.544Z"
   },
   {
    "duration": 371,
    "start_time": "2021-11-19T17:42:18.040Z"
   },
   {
    "duration": 11,
    "start_time": "2021-11-19T17:43:32.038Z"
   },
   {
    "duration": 10,
    "start_time": "2021-11-19T17:44:00.594Z"
   },
   {
    "duration": 12,
    "start_time": "2021-11-19T17:44:10.924Z"
   },
   {
    "duration": 10,
    "start_time": "2021-11-19T17:44:54.068Z"
   },
   {
    "duration": 10,
    "start_time": "2021-11-19T17:45:22.275Z"
   },
   {
    "duration": 8188,
    "start_time": "2021-11-19T17:47:00.868Z"
   },
   {
    "duration": 397,
    "start_time": "2021-11-19T17:47:11.697Z"
   },
   {
    "duration": 45,
    "start_time": "2021-11-19T17:48:00.784Z"
   },
   {
    "duration": 13,
    "start_time": "2021-11-19T17:48:34.927Z"
   },
   {
    "duration": 352,
    "start_time": "2021-11-19T17:48:59.118Z"
   },
   {
    "duration": 13,
    "start_time": "2021-11-19T17:49:16.411Z"
   },
   {
    "duration": 6,
    "start_time": "2021-11-19T17:54:43.173Z"
   },
   {
    "duration": 367,
    "start_time": "2021-11-19T17:55:34.642Z"
   },
   {
    "duration": 331,
    "start_time": "2021-11-19T17:55:45.620Z"
   },
   {
    "duration": 400,
    "start_time": "2021-11-19T17:55:50.652Z"
   },
   {
    "duration": 325,
    "start_time": "2021-11-19T17:55:55.630Z"
   },
   {
    "duration": 338,
    "start_time": "2021-11-19T17:56:05.078Z"
   },
   {
    "duration": 373,
    "start_time": "2021-11-19T17:56:24.538Z"
   },
   {
    "duration": 418,
    "start_time": "2021-11-19T17:56:59.774Z"
   },
   {
    "duration": 15,
    "start_time": "2021-11-19T17:57:20.894Z"
   },
   {
    "duration": 11,
    "start_time": "2021-11-19T17:58:13.265Z"
   },
   {
    "duration": 13,
    "start_time": "2021-11-19T17:58:28.967Z"
   },
   {
    "duration": 13,
    "start_time": "2021-11-19T17:59:21.140Z"
   },
   {
    "duration": 16,
    "start_time": "2021-11-19T17:59:35.996Z"
   },
   {
    "duration": 14,
    "start_time": "2021-11-19T17:59:49.989Z"
   },
   {
    "duration": 9,
    "start_time": "2021-11-19T18:00:08.757Z"
   },
   {
    "duration": 15,
    "start_time": "2021-11-19T18:00:17.304Z"
   },
   {
    "duration": 6,
    "start_time": "2021-11-19T18:01:16.851Z"
   },
   {
    "duration": 69,
    "start_time": "2021-11-19T18:01:25.511Z"
   },
   {
    "duration": 14,
    "start_time": "2021-11-19T18:02:02.904Z"
   },
   {
    "duration": 17,
    "start_time": "2021-11-19T18:02:17.515Z"
   },
   {
    "duration": 11,
    "start_time": "2021-11-19T18:04:53.685Z"
   },
   {
    "duration": 13,
    "start_time": "2021-11-19T18:05:40.517Z"
   },
   {
    "duration": 13,
    "start_time": "2021-11-19T18:05:52.147Z"
   },
   {
    "duration": 12,
    "start_time": "2021-11-19T18:06:11.952Z"
   },
   {
    "duration": 13,
    "start_time": "2021-11-19T18:07:33.651Z"
   },
   {
    "duration": 12,
    "start_time": "2021-11-19T18:07:37.078Z"
   },
   {
    "duration": 12,
    "start_time": "2021-11-19T18:07:42.270Z"
   },
   {
    "duration": 14,
    "start_time": "2021-11-19T18:07:52.755Z"
   },
   {
    "duration": 60,
    "start_time": "2021-11-19T18:08:22.007Z"
   },
   {
    "duration": 11,
    "start_time": "2021-11-19T18:09:28.315Z"
   },
   {
    "duration": 12,
    "start_time": "2021-11-19T18:09:56.910Z"
   },
   {
    "duration": 8669,
    "start_time": "2021-11-19T18:11:25.757Z"
   },
   {
    "duration": 10,
    "start_time": "2021-11-19T18:11:39.024Z"
   },
   {
    "duration": 12,
    "start_time": "2021-11-19T18:11:59.018Z"
   },
   {
    "duration": 18,
    "start_time": "2021-11-19T18:15:27.971Z"
   },
   {
    "duration": 13,
    "start_time": "2021-11-19T18:17:27.041Z"
   },
   {
    "duration": 25,
    "start_time": "2021-11-19T18:17:40.591Z"
   },
   {
    "duration": 20,
    "start_time": "2021-11-19T18:17:55.293Z"
   },
   {
    "duration": 7,
    "start_time": "2021-11-19T18:20:22.499Z"
   },
   {
    "duration": 14,
    "start_time": "2021-11-19T18:22:42.282Z"
   },
   {
    "duration": 18,
    "start_time": "2021-11-19T18:23:31.694Z"
   },
   {
    "duration": 13,
    "start_time": "2021-11-19T18:23:41.737Z"
   },
   {
    "duration": 14,
    "start_time": "2021-11-19T18:23:50.339Z"
   },
   {
    "duration": 12,
    "start_time": "2021-11-19T18:24:28.140Z"
   },
   {
    "duration": 16,
    "start_time": "2021-11-19T18:24:34.904Z"
   },
   {
    "duration": 11,
    "start_time": "2021-11-19T18:24:56.564Z"
   },
   {
    "duration": 402,
    "start_time": "2021-11-19T18:25:23.427Z"
   },
   {
    "duration": 1799,
    "start_time": "2021-11-19T18:25:39.054Z"
   },
   {
    "duration": 18,
    "start_time": "2021-11-19T18:26:22.596Z"
   },
   {
    "duration": 8,
    "start_time": "2021-11-19T18:27:17.934Z"
   },
   {
    "duration": 6,
    "start_time": "2021-11-19T18:27:27.726Z"
   },
   {
    "duration": 4321,
    "start_time": "2021-11-19T18:28:30.962Z"
   },
   {
    "duration": 461,
    "start_time": "2021-11-19T18:28:46.975Z"
   },
   {
    "duration": 293,
    "start_time": "2021-11-19T18:29:23.801Z"
   },
   {
    "duration": 9,
    "start_time": "2021-11-19T18:30:02.311Z"
   },
   {
    "duration": 8,
    "start_time": "2021-11-19T18:30:51.588Z"
   },
   {
    "duration": 154,
    "start_time": "2021-11-19T18:30:56.819Z"
   },
   {
    "duration": 355,
    "start_time": "2021-11-19T18:31:04.459Z"
   },
   {
    "duration": 124,
    "start_time": "2021-11-19T18:31:14.195Z"
   },
   {
    "duration": 348,
    "start_time": "2021-11-19T18:31:39.502Z"
   },
   {
    "duration": 348,
    "start_time": "2021-11-19T18:31:52.025Z"
   },
   {
    "duration": 332,
    "start_time": "2021-11-19T18:31:58.778Z"
   },
   {
    "duration": 319,
    "start_time": "2021-11-19T18:32:06.954Z"
   },
   {
    "duration": 317,
    "start_time": "2021-11-19T18:32:14.681Z"
   },
   {
    "duration": 311,
    "start_time": "2021-11-19T18:32:18.068Z"
   },
   {
    "duration": 318,
    "start_time": "2021-11-19T18:32:38.299Z"
   },
   {
    "duration": 338,
    "start_time": "2021-11-19T18:32:50.166Z"
   },
   {
    "duration": 356,
    "start_time": "2021-11-19T18:32:55.053Z"
   },
   {
    "duration": 359,
    "start_time": "2021-11-19T18:33:17.850Z"
   },
   {
    "duration": 697,
    "start_time": "2021-11-19T18:33:50.678Z"
   },
   {
    "duration": 686,
    "start_time": "2021-11-19T18:33:57.051Z"
   },
   {
    "duration": 458,
    "start_time": "2021-11-19T18:34:00.538Z"
   },
   {
    "duration": 9,
    "start_time": "2021-11-19T18:35:06.741Z"
   },
   {
    "duration": 8,
    "start_time": "2021-11-19T18:35:19.217Z"
   },
   {
    "duration": 884,
    "start_time": "2021-11-19T18:36:14.512Z"
   },
   {
    "duration": 843,
    "start_time": "2021-11-19T18:36:23.713Z"
   },
   {
    "duration": 375,
    "start_time": "2021-11-19T18:37:15.935Z"
   },
   {
    "duration": 18,
    "start_time": "2021-11-19T18:37:33.927Z"
   },
   {
    "duration": 354,
    "start_time": "2021-11-19T18:37:48.393Z"
   },
   {
    "duration": 13,
    "start_time": "2021-11-19T18:37:52.339Z"
   },
   {
    "duration": 22,
    "start_time": "2021-11-19T18:38:04.381Z"
   },
   {
    "duration": 17,
    "start_time": "2021-11-19T18:38:26.030Z"
   },
   {
    "duration": 388,
    "start_time": "2021-11-19T18:44:12.189Z"
   },
   {
    "duration": 278,
    "start_time": "2021-11-19T18:44:23.980Z"
   },
   {
    "duration": 312,
    "start_time": "2021-11-19T18:44:32.303Z"
   },
   {
    "duration": 14,
    "start_time": "2021-11-19T18:45:15.245Z"
   },
   {
    "duration": 298,
    "start_time": "2021-11-19T18:45:45.857Z"
   },
   {
    "duration": 394,
    "start_time": "2021-11-19T18:45:52.910Z"
   },
   {
    "duration": 14,
    "start_time": "2021-11-19T18:46:14.908Z"
   },
   {
    "duration": 315,
    "start_time": "2021-11-19T18:46:16.357Z"
   },
   {
    "duration": 7,
    "start_time": "2021-11-19T18:46:39.557Z"
   },
   {
    "duration": 10,
    "start_time": "2021-11-19T18:46:44.130Z"
   },
   {
    "duration": 303,
    "start_time": "2021-11-19T18:46:45.919Z"
   },
   {
    "duration": 25,
    "start_time": "2021-11-19T18:48:04.420Z"
   },
   {
    "duration": 14,
    "start_time": "2021-11-19T18:48:23.051Z"
   },
   {
    "duration": 14,
    "start_time": "2021-11-19T18:48:37.491Z"
   },
   {
    "duration": 17,
    "start_time": "2021-11-19T18:48:49.260Z"
   },
   {
    "duration": 149,
    "start_time": "2021-11-19T18:50:05.973Z"
   },
   {
    "duration": 105,
    "start_time": "2021-11-19T18:50:11.879Z"
   },
   {
    "duration": 109,
    "start_time": "2021-11-19T18:50:16.486Z"
   },
   {
    "duration": 106,
    "start_time": "2021-11-19T18:50:56.404Z"
   },
   {
    "duration": 179,
    "start_time": "2021-11-19T18:50:59.786Z"
   },
   {
    "duration": 117,
    "start_time": "2021-11-19T18:51:09.769Z"
   },
   {
    "duration": 304,
    "start_time": "2021-11-19T18:51:15.068Z"
   },
   {
    "duration": 39,
    "start_time": "2021-11-19T18:53:46.408Z"
   },
   {
    "duration": 42,
    "start_time": "2021-11-19T18:53:53.945Z"
   },
   {
    "duration": 23,
    "start_time": "2021-11-19T18:54:07.008Z"
   },
   {
    "duration": 26,
    "start_time": "2021-11-19T18:56:29.669Z"
   },
   {
    "duration": 377,
    "start_time": "2021-11-19T18:58:20.329Z"
   },
   {
    "duration": 14,
    "start_time": "2021-11-19T18:58:38.319Z"
   },
   {
    "duration": 299,
    "start_time": "2021-11-19T18:58:59.066Z"
   },
   {
    "duration": 13,
    "start_time": "2021-11-19T19:00:09.482Z"
   },
   {
    "duration": 3996,
    "start_time": "2021-11-19T19:01:49.829Z"
   },
   {
    "duration": 388,
    "start_time": "2021-11-19T19:02:05.073Z"
   },
   {
    "duration": 567,
    "start_time": "2021-11-19T19:02:18.960Z"
   },
   {
    "duration": 582,
    "start_time": "2021-11-19T19:02:41.993Z"
   },
   {
    "duration": 3443,
    "start_time": "2021-11-19T19:03:24.800Z"
   },
   {
    "duration": 606,
    "start_time": "2021-11-19T19:03:37.459Z"
   },
   {
    "duration": 6,
    "start_time": "2021-11-19T19:05:12.900Z"
   },
   {
    "duration": 5,
    "start_time": "2021-11-19T19:07:24.595Z"
   },
   {
    "duration": 10,
    "start_time": "2021-11-19T19:07:50.130Z"
   },
   {
    "duration": 386,
    "start_time": "2021-11-19T19:09:33.207Z"
   },
   {
    "duration": 11,
    "start_time": "2021-11-19T19:09:38.987Z"
   },
   {
    "duration": 382,
    "start_time": "2021-11-19T19:11:16.813Z"
   },
   {
    "duration": 15,
    "start_time": "2021-11-19T19:11:47.268Z"
   },
   {
    "duration": 15,
    "start_time": "2021-11-19T19:12:02.668Z"
   },
   {
    "duration": 12,
    "start_time": "2021-11-19T19:12:24.268Z"
   },
   {
    "duration": 6,
    "start_time": "2021-11-19T19:12:48.857Z"
   },
   {
    "duration": 12,
    "start_time": "2021-11-19T19:13:23.726Z"
   },
   {
    "duration": 14,
    "start_time": "2021-11-19T19:13:42.231Z"
   },
   {
    "duration": 550,
    "start_time": "2021-11-19T19:17:46.355Z"
   },
   {
    "duration": 1072,
    "start_time": "2021-11-19T19:18:53.288Z"
   },
   {
    "duration": 884,
    "start_time": "2021-11-19T19:19:07.191Z"
   },
   {
    "duration": 546,
    "start_time": "2021-11-19T19:19:09.975Z"
   },
   {
    "duration": 613,
    "start_time": "2021-11-19T19:19:32.756Z"
   },
   {
    "duration": 128,
    "start_time": "2021-11-19T19:25:03.777Z"
   },
   {
    "duration": 28,
    "start_time": "2021-11-19T19:25:10.557Z"
   },
   {
    "duration": 17,
    "start_time": "2021-11-19T19:27:33.965Z"
   },
   {
    "duration": 89,
    "start_time": "2021-11-19T19:34:45.296Z"
   },
   {
    "duration": 9,
    "start_time": "2021-11-19T19:34:50.071Z"
   },
   {
    "duration": 12,
    "start_time": "2021-11-19T19:34:52.819Z"
   },
   {
    "duration": 11,
    "start_time": "2021-11-19T19:34:54.754Z"
   },
   {
    "duration": 6,
    "start_time": "2021-11-19T19:35:00.209Z"
   },
   {
    "duration": 132,
    "start_time": "2021-11-19T19:35:06.010Z"
   },
   {
    "duration": 26,
    "start_time": "2021-11-19T19:35:08.825Z"
   },
   {
    "duration": 12,
    "start_time": "2021-11-19T19:36:17.554Z"
   },
   {
    "duration": 13,
    "start_time": "2021-11-19T19:36:34.833Z"
   },
   {
    "duration": 12,
    "start_time": "2021-11-19T19:44:17.271Z"
   },
   {
    "duration": 8,
    "start_time": "2021-11-19T19:44:49.957Z"
   },
   {
    "duration": 54,
    "start_time": "2021-11-19T19:45:26.886Z"
   },
   {
    "duration": 88,
    "start_time": "2021-11-19T19:46:11.538Z"
   },
   {
    "duration": 9,
    "start_time": "2021-11-19T19:46:18.278Z"
   },
   {
    "duration": 23,
    "start_time": "2021-11-19T19:46:24.002Z"
   },
   {
    "duration": 21,
    "start_time": "2021-11-19T19:46:38.225Z"
   },
   {
    "duration": 8,
    "start_time": "2021-11-19T19:46:43.654Z"
   },
   {
    "duration": 6,
    "start_time": "2021-11-19T19:46:46.257Z"
   },
   {
    "duration": 12,
    "start_time": "2021-11-19T19:46:49.564Z"
   },
   {
    "duration": 11,
    "start_time": "2021-11-19T19:46:52.276Z"
   },
   {
    "duration": 7,
    "start_time": "2021-11-19T19:47:00.911Z"
   },
   {
    "duration": 6,
    "start_time": "2021-11-19T19:47:06.149Z"
   },
   {
    "duration": 17,
    "start_time": "2021-11-19T19:47:12.273Z"
   },
   {
    "duration": 778,
    "start_time": "2021-11-19T19:47:23.195Z"
   },
   {
    "duration": 8,
    "start_time": "2021-11-19T19:47:54.342Z"
   },
   {
    "duration": 41,
    "start_time": "2021-11-19T19:48:55.830Z"
   },
   {
    "duration": 22,
    "start_time": "2021-11-19T19:48:59.908Z"
   },
   {
    "duration": 13,
    "start_time": "2021-11-19T19:49:20.482Z"
   },
   {
    "duration": 3,
    "start_time": "2021-11-19T19:51:11.323Z"
   },
   {
    "duration": 97,
    "start_time": "2021-11-19T19:51:11.329Z"
   },
   {
    "duration": 4,
    "start_time": "2021-11-19T19:51:11.429Z"
   },
   {
    "duration": 37,
    "start_time": "2021-11-19T19:51:11.435Z"
   },
   {
    "duration": 34,
    "start_time": "2021-11-19T19:51:11.475Z"
   },
   {
    "duration": 8,
    "start_time": "2021-11-19T19:51:11.511Z"
   },
   {
    "duration": 7,
    "start_time": "2021-11-19T19:51:11.522Z"
   },
   {
    "duration": 22,
    "start_time": "2021-11-19T19:51:11.531Z"
   },
   {
    "duration": 424,
    "start_time": "2021-11-19T19:51:11.556Z"
   },
   {
    "duration": 502,
    "start_time": "2021-11-19T19:51:11.982Z"
   },
   {
    "duration": 15,
    "start_time": "2021-11-19T19:51:12.487Z"
   },
   {
    "duration": 6,
    "start_time": "2021-11-19T19:51:12.504Z"
   },
   {
    "duration": 27,
    "start_time": "2021-11-19T19:51:12.512Z"
   },
   {
    "duration": 622,
    "start_time": "2021-11-19T19:51:12.541Z"
   },
   {
    "duration": 325,
    "start_time": "2021-11-19T19:51:24.582Z"
   },
   {
    "duration": 15,
    "start_time": "2021-11-19T19:51:26.868Z"
   },
   {
    "duration": 12,
    "start_time": "2021-11-19T19:51:45.974Z"
   },
   {
    "duration": 8,
    "start_time": "2021-11-19T19:52:02.358Z"
   },
   {
    "duration": 13,
    "start_time": "2021-11-19T19:53:14.916Z"
   },
   {
    "duration": 6,
    "start_time": "2021-11-19T19:56:49.992Z"
   },
   {
    "duration": 9,
    "start_time": "2021-11-19T19:57:16.347Z"
   },
   {
    "duration": 12,
    "start_time": "2021-11-19T20:00:55.501Z"
   },
   {
    "duration": 5,
    "start_time": "2021-11-19T20:03:15.031Z"
   },
   {
    "duration": 14,
    "start_time": "2021-11-19T20:03:27.152Z"
   },
   {
    "duration": 12,
    "start_time": "2021-11-19T20:04:36.498Z"
   },
   {
    "duration": 113,
    "start_time": "2021-11-19T20:05:35.015Z"
   },
   {
    "duration": 5,
    "start_time": "2021-11-19T20:06:23.345Z"
   },
   {
    "duration": 6,
    "start_time": "2021-11-19T20:06:35.563Z"
   },
   {
    "duration": 17,
    "start_time": "2021-11-19T20:06:42.097Z"
   },
   {
    "duration": 349,
    "start_time": "2021-11-19T20:07:02.873Z"
   },
   {
    "duration": 9,
    "start_time": "2021-11-19T20:07:10.031Z"
   },
   {
    "duration": 12,
    "start_time": "2021-11-19T20:07:43.847Z"
   },
   {
    "duration": 11,
    "start_time": "2021-11-19T20:08:24.066Z"
   },
   {
    "duration": 10,
    "start_time": "2021-11-19T20:08:33.055Z"
   },
   {
    "duration": 355,
    "start_time": "2021-11-19T20:09:26.014Z"
   },
   {
    "duration": 328,
    "start_time": "2021-11-19T20:09:38.494Z"
   },
   {
    "duration": 11,
    "start_time": "2021-11-19T20:10:21.683Z"
   },
   {
    "duration": 3,
    "start_time": "2021-11-19T20:25:11.277Z"
   },
   {
    "duration": 91,
    "start_time": "2021-11-19T20:25:11.283Z"
   },
   {
    "duration": 5,
    "start_time": "2021-11-19T20:25:11.377Z"
   },
   {
    "duration": 32,
    "start_time": "2021-11-19T20:25:11.402Z"
   },
   {
    "duration": 18,
    "start_time": "2021-11-19T20:25:11.437Z"
   },
   {
    "duration": 46,
    "start_time": "2021-11-19T20:25:11.458Z"
   },
   {
    "duration": 7,
    "start_time": "2021-11-19T20:25:11.509Z"
   },
   {
    "duration": 16,
    "start_time": "2021-11-19T20:25:11.520Z"
   },
   {
    "duration": 435,
    "start_time": "2021-11-19T20:25:11.538Z"
   },
   {
    "duration": 614,
    "start_time": "2021-11-19T20:25:11.976Z"
   },
   {
    "duration": 9,
    "start_time": "2021-11-19T20:25:12.593Z"
   },
   {
    "duration": 7,
    "start_time": "2021-11-19T20:25:12.605Z"
   },
   {
    "duration": 24,
    "start_time": "2021-11-19T20:25:12.614Z"
   },
   {
    "duration": 597,
    "start_time": "2021-11-19T20:25:12.641Z"
   },
   {
    "duration": 316,
    "start_time": "2021-11-19T20:25:13.241Z"
   },
   {
    "duration": 13,
    "start_time": "2021-11-19T20:25:13.559Z"
   },
   {
    "duration": 5,
    "start_time": "2021-11-19T20:25:13.574Z"
   },
   {
    "duration": 16,
    "start_time": "2021-11-19T20:25:13.601Z"
   },
   {
    "duration": 6,
    "start_time": "2021-11-19T20:25:13.621Z"
   },
   {
    "duration": 16,
    "start_time": "2021-11-19T20:25:19.367Z"
   },
   {
    "duration": 16,
    "start_time": "2021-11-19T20:25:28.391Z"
   },
   {
    "duration": 10,
    "start_time": "2021-11-19T20:25:34.110Z"
   },
   {
    "duration": 3,
    "start_time": "2021-11-19T20:25:43.191Z"
   },
   {
    "duration": 93,
    "start_time": "2021-11-19T20:25:43.197Z"
   },
   {
    "duration": 7,
    "start_time": "2021-11-19T20:25:43.293Z"
   },
   {
    "duration": 29,
    "start_time": "2021-11-19T20:25:43.303Z"
   },
   {
    "duration": 18,
    "start_time": "2021-11-19T20:25:43.334Z"
   },
   {
    "duration": 7,
    "start_time": "2021-11-19T20:25:43.354Z"
   },
   {
    "duration": 39,
    "start_time": "2021-11-19T20:25:43.363Z"
   },
   {
    "duration": 13,
    "start_time": "2021-11-19T20:25:43.405Z"
   },
   {
    "duration": 415,
    "start_time": "2021-11-19T20:25:43.421Z"
   },
   {
    "duration": 488,
    "start_time": "2021-11-19T20:25:43.839Z"
   },
   {
    "duration": 6,
    "start_time": "2021-11-19T20:25:44.329Z"
   },
   {
    "duration": 8,
    "start_time": "2021-11-19T20:25:44.338Z"
   },
   {
    "duration": 63,
    "start_time": "2021-11-19T20:25:44.348Z"
   },
   {
    "duration": 566,
    "start_time": "2021-11-19T20:25:44.413Z"
   },
   {
    "duration": 334,
    "start_time": "2021-11-19T20:25:44.982Z"
   },
   {
    "duration": 12,
    "start_time": "2021-11-19T20:25:45.319Z"
   },
   {
    "duration": 5,
    "start_time": "2021-11-19T20:25:45.333Z"
   },
   {
    "duration": 13,
    "start_time": "2021-11-19T20:25:45.340Z"
   },
   {
    "duration": 5,
    "start_time": "2021-11-19T20:25:45.355Z"
   },
   {
    "duration": 12,
    "start_time": "2021-11-19T20:25:49.791Z"
   },
   {
    "duration": 9,
    "start_time": "2021-11-19T20:25:52.541Z"
   },
   {
    "duration": 16,
    "start_time": "2021-11-19T20:25:58.036Z"
   },
   {
    "duration": 11,
    "start_time": "2021-11-19T20:26:05.201Z"
   },
   {
    "duration": 345,
    "start_time": "2021-11-19T20:27:21.220Z"
   },
   {
    "duration": 12,
    "start_time": "2021-11-19T20:27:43.672Z"
   },
   {
    "duration": 31,
    "start_time": "2021-11-19T20:28:35.419Z"
   },
   {
    "duration": 11,
    "start_time": "2021-11-19T20:28:42.137Z"
   },
   {
    "duration": 30,
    "start_time": "2021-11-19T20:28:57.396Z"
   },
   {
    "duration": 23,
    "start_time": "2021-11-19T20:29:10.178Z"
   },
   {
    "duration": 17,
    "start_time": "2021-11-19T20:29:16.819Z"
   },
   {
    "duration": 32,
    "start_time": "2021-11-19T20:29:27.309Z"
   },
   {
    "duration": 33,
    "start_time": "2021-11-19T20:30:21.403Z"
   },
   {
    "duration": 13,
    "start_time": "2021-11-19T20:30:24.856Z"
   },
   {
    "duration": 12,
    "start_time": "2021-11-19T20:31:44.786Z"
   },
   {
    "duration": 14,
    "start_time": "2021-11-19T20:31:54.428Z"
   },
   {
    "duration": 12,
    "start_time": "2021-11-19T20:32:18.631Z"
   },
   {
    "duration": 6,
    "start_time": "2021-11-19T20:32:25.298Z"
   },
   {
    "duration": 11,
    "start_time": "2021-11-19T20:32:27.911Z"
   },
   {
    "duration": 13,
    "start_time": "2021-11-19T20:32:57.227Z"
   },
   {
    "duration": 11,
    "start_time": "2021-11-19T20:33:17.028Z"
   },
   {
    "duration": 10,
    "start_time": "2021-11-19T20:33:23.848Z"
   },
   {
    "duration": 392,
    "start_time": "2021-11-19T20:33:36.667Z"
   },
   {
    "duration": 10,
    "start_time": "2021-11-19T20:33:41.923Z"
   },
   {
    "duration": 11,
    "start_time": "2021-11-19T20:34:28.874Z"
   },
   {
    "duration": 11,
    "start_time": "2021-11-19T20:34:44.627Z"
   },
   {
    "duration": 12,
    "start_time": "2021-11-19T20:34:52.423Z"
   },
   {
    "duration": 11,
    "start_time": "2021-11-19T20:35:37.442Z"
   },
   {
    "duration": 11,
    "start_time": "2021-11-19T20:36:28.511Z"
   },
   {
    "duration": 10,
    "start_time": "2021-11-19T20:36:34.121Z"
   },
   {
    "duration": 10,
    "start_time": "2021-11-19T20:36:38.703Z"
   },
   {
    "duration": 11,
    "start_time": "2021-11-19T20:37:13.751Z"
   },
   {
    "duration": 11,
    "start_time": "2021-11-19T20:37:19.572Z"
   },
   {
    "duration": 5,
    "start_time": "2021-11-19T20:38:10.068Z"
   },
   {
    "duration": 14,
    "start_time": "2021-11-19T20:38:11.347Z"
   },
   {
    "duration": 4,
    "start_time": "2021-11-19T20:40:51.562Z"
   },
   {
    "duration": 32,
    "start_time": "2021-11-19T20:40:54.831Z"
   },
   {
    "duration": 503,
    "start_time": "2021-11-19T20:42:04.939Z"
   },
   {
    "duration": 38,
    "start_time": "2021-11-19T20:42:35.006Z"
   },
   {
    "duration": 11,
    "start_time": "2021-11-19T20:42:44.631Z"
   },
   {
    "duration": 3,
    "start_time": "2021-11-19T20:43:49.516Z"
   },
   {
    "duration": 7,
    "start_time": "2021-11-19T20:43:49.522Z"
   },
   {
    "duration": 6,
    "start_time": "2021-11-19T20:43:49.532Z"
   },
   {
    "duration": 35,
    "start_time": "2021-11-19T20:43:49.540Z"
   },
   {
    "duration": 32,
    "start_time": "2021-11-19T20:43:49.577Z"
   },
   {
    "duration": 7,
    "start_time": "2021-11-19T20:43:49.611Z"
   },
   {
    "duration": 8,
    "start_time": "2021-11-19T20:43:49.622Z"
   },
   {
    "duration": 7,
    "start_time": "2021-11-19T20:43:49.633Z"
   },
   {
    "duration": 436,
    "start_time": "2021-11-19T20:43:49.643Z"
   },
   {
    "duration": 42,
    "start_time": "2021-11-19T20:43:50.081Z"
   },
   {
    "duration": 6,
    "start_time": "2021-11-19T20:43:50.125Z"
   },
   {
    "duration": 6,
    "start_time": "2021-11-19T20:43:50.134Z"
   },
   {
    "duration": 33,
    "start_time": "2021-11-19T20:43:50.142Z"
   },
   {
    "duration": 682,
    "start_time": "2021-11-19T20:43:50.201Z"
   },
   {
    "duration": 324,
    "start_time": "2021-11-19T20:43:50.886Z"
   },
   {
    "duration": 9,
    "start_time": "2021-11-19T20:43:51.213Z"
   },
   {
    "duration": 6,
    "start_time": "2021-11-19T20:43:51.224Z"
   },
   {
    "duration": 11,
    "start_time": "2021-11-19T20:43:51.234Z"
   },
   {
    "duration": 4,
    "start_time": "2021-11-19T20:43:51.248Z"
   },
   {
    "duration": 48,
    "start_time": "2021-11-19T20:43:51.254Z"
   },
   {
    "duration": 6,
    "start_time": "2021-11-19T20:43:51.304Z"
   },
   {
    "duration": 10,
    "start_time": "2021-11-19T20:43:51.312Z"
   },
   {
    "duration": 12,
    "start_time": "2021-11-19T20:43:51.324Z"
   },
   {
    "duration": 4,
    "start_time": "2021-11-19T20:44:06.649Z"
   },
   {
    "duration": 21,
    "start_time": "2021-11-19T20:44:07.713Z"
   },
   {
    "duration": 11,
    "start_time": "2021-11-19T20:47:51.747Z"
   },
   {
    "duration": 9429,
    "start_time": "2021-11-19T20:49:14.284Z"
   },
   {
    "duration": 4,
    "start_time": "2021-11-19T20:50:30.321Z"
   },
   {
    "duration": 38,
    "start_time": "2021-11-19T20:50:30.338Z"
   },
   {
    "duration": 61,
    "start_time": "2021-11-19T20:50:30.412Z"
   },
   {
    "duration": 31,
    "start_time": "2021-11-19T20:50:30.476Z"
   },
   {
    "duration": 11,
    "start_time": "2021-11-19T20:50:30.510Z"
   },
   {
    "duration": 19,
    "start_time": "2021-11-19T20:50:30.524Z"
   },
   {
    "duration": 26,
    "start_time": "2021-11-19T20:50:30.546Z"
   },
   {
    "duration": 434,
    "start_time": "2021-11-19T20:50:30.574Z"
   },
   {
    "duration": 32,
    "start_time": "2021-11-19T20:50:31.011Z"
   },
   {
    "duration": 6,
    "start_time": "2021-11-19T20:50:31.045Z"
   },
   {
    "duration": 69,
    "start_time": "2021-11-19T20:50:31.053Z"
   },
   {
    "duration": 44,
    "start_time": "2021-11-19T20:50:31.125Z"
   },
   {
    "duration": 591,
    "start_time": "2021-11-19T20:50:31.171Z"
   },
   {
    "duration": 336,
    "start_time": "2021-11-19T20:50:31.764Z"
   },
   {
    "duration": 9,
    "start_time": "2021-11-19T20:50:32.103Z"
   },
   {
    "duration": 8,
    "start_time": "2021-11-19T20:50:32.115Z"
   },
   {
    "duration": 24,
    "start_time": "2021-11-19T20:50:32.126Z"
   },
   {
    "duration": 5,
    "start_time": "2021-11-19T20:50:32.152Z"
   },
   {
    "duration": 40,
    "start_time": "2021-11-19T20:50:32.160Z"
   },
   {
    "duration": 4,
    "start_time": "2021-11-19T20:50:32.203Z"
   },
   {
    "duration": 18,
    "start_time": "2021-11-19T20:50:32.209Z"
   },
   {
    "duration": 19,
    "start_time": "2021-11-19T20:50:32.229Z"
   },
   {
    "duration": 11,
    "start_time": "2021-11-19T20:50:32.250Z"
   },
   {
    "duration": 9,
    "start_time": "2021-11-19T20:50:32.263Z"
   },
   {
    "duration": 32,
    "start_time": "2021-11-19T20:50:32.274Z"
   },
   {
    "duration": 9421,
    "start_time": "2021-11-19T20:50:57.055Z"
   },
   {
    "duration": 18,
    "start_time": "2021-11-19T20:51:11.894Z"
   },
   {
    "duration": 4,
    "start_time": "2021-11-19T20:53:09.502Z"
   },
   {
    "duration": 333,
    "start_time": "2021-11-19T20:53:09.534Z"
   },
   {
    "duration": -13891,
    "start_time": "2021-11-19T20:53:23.761Z"
   },
   {
    "duration": -14350,
    "start_time": "2021-11-19T20:53:24.221Z"
   },
   {
    "duration": -14382,
    "start_time": "2021-11-19T20:53:24.255Z"
   },
   {
    "duration": -14436,
    "start_time": "2021-11-19T20:53:24.310Z"
   },
   {
    "duration": -14473,
    "start_time": "2021-11-19T20:53:24.348Z"
   },
   {
    "duration": -14515,
    "start_time": "2021-11-19T20:53:24.392Z"
   },
   {
    "duration": -14556,
    "start_time": "2021-11-19T20:53:24.434Z"
   },
   {
    "duration": -14599,
    "start_time": "2021-11-19T20:53:24.479Z"
   },
   {
    "duration": -14633,
    "start_time": "2021-11-19T20:53:24.514Z"
   },
   {
    "duration": -14683,
    "start_time": "2021-11-19T20:53:24.566Z"
   },
   {
    "duration": -14717,
    "start_time": "2021-11-19T20:53:24.601Z"
   },
   {
    "duration": -14750,
    "start_time": "2021-11-19T20:53:24.635Z"
   },
   {
    "duration": 332,
    "start_time": "2021-11-19T20:53:09.888Z"
   },
   {
    "duration": 9,
    "start_time": "2021-11-19T20:53:10.223Z"
   },
   {
    "duration": 13,
    "start_time": "2021-11-19T20:53:10.235Z"
   },
   {
    "duration": 17,
    "start_time": "2021-11-19T20:53:10.251Z"
   },
   {
    "duration": 9,
    "start_time": "2021-11-19T20:53:10.270Z"
   },
   {
    "duration": 22,
    "start_time": "2021-11-19T20:53:10.282Z"
   },
   {
    "duration": 18,
    "start_time": "2021-11-19T20:53:10.306Z"
   },
   {
    "duration": 23,
    "start_time": "2021-11-19T20:53:10.328Z"
   },
   {
    "duration": 13,
    "start_time": "2021-11-19T20:53:10.353Z"
   },
   {
    "duration": 10,
    "start_time": "2021-11-19T20:53:10.368Z"
   },
   {
    "duration": 22,
    "start_time": "2021-11-19T20:53:10.380Z"
   },
   {
    "duration": 9,
    "start_time": "2021-11-19T20:53:16.774Z"
   },
   {
    "duration": 9397,
    "start_time": "2021-11-19T20:53:21.357Z"
   },
   {
    "duration": 5,
    "start_time": "2021-11-19T20:57:19.146Z"
   },
   {
    "duration": 15,
    "start_time": "2021-11-19T20:57:22.681Z"
   },
   {
    "duration": 17594,
    "start_time": "2021-11-19T20:59:33.747Z"
   },
   {
    "duration": 4,
    "start_time": "2021-11-19T21:05:01.803Z"
   },
   {
    "duration": 85,
    "start_time": "2021-11-19T21:05:04.553Z"
   },
   {
    "duration": 4,
    "start_time": "2021-11-19T21:05:25.386Z"
   },
   {
    "duration": 84,
    "start_time": "2021-11-19T21:05:25.424Z"
   },
   {
    "duration": 5,
    "start_time": "2021-11-19T21:05:25.511Z"
   },
   {
    "duration": 32,
    "start_time": "2021-11-19T21:05:25.520Z"
   },
   {
    "duration": 21,
    "start_time": "2021-11-19T21:05:25.555Z"
   },
   {
    "duration": 10,
    "start_time": "2021-11-19T21:05:25.607Z"
   },
   {
    "duration": 6,
    "start_time": "2021-11-19T21:05:25.636Z"
   },
   {
    "duration": 12,
    "start_time": "2021-11-19T21:05:25.678Z"
   },
   {
    "duration": 421,
    "start_time": "2021-11-19T21:05:25.740Z"
   },
   {
    "duration": 65,
    "start_time": "2021-11-19T21:05:26.164Z"
   },
   {
    "duration": 6,
    "start_time": "2021-11-19T21:05:26.233Z"
   },
   {
    "duration": 10,
    "start_time": "2021-11-19T21:05:26.242Z"
   },
   {
    "duration": 61,
    "start_time": "2021-11-19T21:05:26.255Z"
   },
   {
    "duration": 844,
    "start_time": "2021-11-19T21:05:26.319Z"
   },
   {
    "duration": 344,
    "start_time": "2021-11-19T21:05:27.166Z"
   },
   {
    "duration": 13,
    "start_time": "2021-11-19T21:05:27.517Z"
   },
   {
    "duration": 5,
    "start_time": "2021-11-19T21:05:27.533Z"
   },
   {
    "duration": 17,
    "start_time": "2021-11-19T21:05:27.540Z"
   },
   {
    "duration": 5,
    "start_time": "2021-11-19T21:05:27.559Z"
   },
   {
    "duration": 51,
    "start_time": "2021-11-19T21:05:27.566Z"
   },
   {
    "duration": 5,
    "start_time": "2021-11-19T21:05:27.619Z"
   },
   {
    "duration": 19,
    "start_time": "2021-11-19T21:05:27.626Z"
   },
   {
    "duration": 12,
    "start_time": "2021-11-19T21:05:27.648Z"
   },
   {
    "duration": 46,
    "start_time": "2021-11-19T21:05:27.663Z"
   },
   {
    "duration": 8,
    "start_time": "2021-11-19T21:05:27.711Z"
   },
   {
    "duration": 12,
    "start_time": "2021-11-19T21:05:27.723Z"
   },
   {
    "duration": 5,
    "start_time": "2021-11-19T21:05:50.721Z"
   },
   {
    "duration": 15,
    "start_time": "2021-11-19T21:06:00.802Z"
   },
   {
    "duration": 18244,
    "start_time": "2021-11-19T21:06:58.945Z"
   },
   {
    "duration": 36,
    "start_time": "2021-11-19T21:07:26.038Z"
   },
   {
    "duration": 13,
    "start_time": "2021-11-19T21:09:27.084Z"
   },
   {
    "duration": 12,
    "start_time": "2021-11-19T21:09:57.917Z"
   },
   {
    "duration": 10,
    "start_time": "2021-11-19T21:10:35.338Z"
   },
   {
    "duration": 368,
    "start_time": "2021-11-19T21:15:00.826Z"
   },
   {
    "duration": 30,
    "start_time": "2021-11-19T21:15:22.477Z"
   },
   {
    "duration": 8,
    "start_time": "2021-11-19T21:16:08.555Z"
   },
   {
    "duration": 16,
    "start_time": "2021-11-19T21:16:11.191Z"
   },
   {
    "duration": 38,
    "start_time": "2021-11-19T21:17:24.302Z"
   },
   {
    "duration": 11,
    "start_time": "2021-11-19T21:19:16.759Z"
   },
   {
    "duration": 374,
    "start_time": "2021-11-19T21:20:34.378Z"
   },
   {
    "duration": 11,
    "start_time": "2021-11-19T21:20:39.558Z"
   },
   {
    "duration": 12,
    "start_time": "2021-11-19T21:21:10.650Z"
   },
   {
    "duration": 361,
    "start_time": "2021-11-19T21:22:09.601Z"
   },
   {
    "duration": 11,
    "start_time": "2021-11-19T21:24:11.805Z"
   },
   {
    "duration": 9,
    "start_time": "2021-11-19T21:24:21.001Z"
   },
   {
    "duration": 10,
    "start_time": "2021-11-19T21:24:25.305Z"
   },
   {
    "duration": 8,
    "start_time": "2021-11-19T21:25:00.471Z"
   },
   {
    "duration": 9,
    "start_time": "2021-11-19T21:25:14.385Z"
   },
   {
    "duration": 11,
    "start_time": "2021-11-19T21:25:33.944Z"
   },
   {
    "duration": 380,
    "start_time": "2021-11-19T21:26:03.219Z"
   },
   {
    "duration": 13,
    "start_time": "2021-11-19T21:26:15.840Z"
   },
   {
    "duration": 123,
    "start_time": "2021-11-19T21:35:36.523Z"
   },
   {
    "duration": 376,
    "start_time": "2021-11-19T21:35:41.593Z"
   },
   {
    "duration": 11,
    "start_time": "2021-11-19T21:35:50.964Z"
   },
   {
    "duration": 160,
    "start_time": "2021-11-19T21:35:55.353Z"
   },
   {
    "duration": 320,
    "start_time": "2021-11-19T21:36:56.064Z"
   },
   {
    "duration": 11,
    "start_time": "2021-11-19T21:37:04.438Z"
   },
   {
    "duration": 299,
    "start_time": "2021-11-19T21:37:13.953Z"
   },
   {
    "duration": 14,
    "start_time": "2021-11-19T21:37:17.072Z"
   },
   {
    "duration": 341,
    "start_time": "2021-11-19T21:39:11.828Z"
   },
   {
    "duration": 297,
    "start_time": "2021-11-19T21:39:24.716Z"
   },
   {
    "duration": 110,
    "start_time": "2021-11-19T21:39:26.792Z"
   },
   {
    "duration": 14,
    "start_time": "2021-11-19T21:39:39.812Z"
   },
   {
    "duration": 6,
    "start_time": "2021-11-19T21:40:02.795Z"
   },
   {
    "duration": 15,
    "start_time": "2021-11-19T21:40:15.528Z"
   },
   {
    "duration": 110,
    "start_time": "2021-11-19T21:40:42.867Z"
   },
   {
    "duration": 19,
    "start_time": "2021-11-19T21:40:47.802Z"
   },
   {
    "duration": 336,
    "start_time": "2021-11-19T21:41:52.523Z"
   },
   {
    "duration": 360,
    "start_time": "2021-11-19T21:42:03.364Z"
   },
   {
    "duration": 9,
    "start_time": "2021-11-19T21:42:09.758Z"
   },
   {
    "duration": 9,
    "start_time": "2021-11-19T21:42:17.378Z"
   },
   {
    "duration": 13,
    "start_time": "2021-11-19T21:44:24.974Z"
   },
   {
    "duration": 108,
    "start_time": "2021-11-19T21:45:32.331Z"
   },
   {
    "duration": 103,
    "start_time": "2021-11-19T21:45:40.947Z"
   },
   {
    "duration": 7,
    "start_time": "2021-11-19T21:45:46.285Z"
   },
   {
    "duration": 17,
    "start_time": "2021-11-19T21:46:26.781Z"
   },
   {
    "duration": 10,
    "start_time": "2021-11-19T21:48:41.777Z"
   },
   {
    "duration": 5,
    "start_time": "2021-11-19T21:49:10.974Z"
   },
   {
    "duration": 14,
    "start_time": "2021-11-19T21:49:16.244Z"
   },
   {
    "duration": 4,
    "start_time": "2021-11-19T21:50:24.628Z"
   },
   {
    "duration": 32,
    "start_time": "2021-11-19T21:51:35.450Z"
   },
   {
    "duration": 7,
    "start_time": "2021-11-19T21:54:16.101Z"
   },
   {
    "duration": 8,
    "start_time": "2021-11-19T21:54:48.365Z"
   },
   {
    "duration": 8,
    "start_time": "2021-11-19T21:55:06.266Z"
   },
   {
    "duration": 203,
    "start_time": "2021-11-19T21:55:23.901Z"
   },
   {
    "duration": 32,
    "start_time": "2021-11-19T21:56:16.570Z"
   },
   {
    "duration": 11,
    "start_time": "2021-11-19T21:56:40.839Z"
   },
   {
    "duration": 36,
    "start_time": "2021-11-19T21:57:03.861Z"
   },
   {
    "duration": 770,
    "start_time": "2021-11-20T08:25:52.062Z"
   },
   {
    "duration": 87,
    "start_time": "2021-11-20T08:25:55.277Z"
   },
   {
    "duration": 46,
    "start_time": "2021-11-20T08:25:59.432Z"
   },
   {
    "duration": 16,
    "start_time": "2021-11-20T08:26:32.221Z"
   },
   {
    "duration": 11258,
    "start_time": "2021-11-20T08:27:07.381Z"
   },
   {
    "duration": 10338,
    "start_time": "2021-11-20T08:27:42.682Z"
   },
   {
    "duration": 13,
    "start_time": "2021-11-20T08:28:31.502Z"
   },
   {
    "duration": 9,
    "start_time": "2021-11-20T08:32:26.232Z"
   },
   {
    "duration": 10,
    "start_time": "2021-11-20T08:32:34.252Z"
   },
   {
    "duration": 10,
    "start_time": "2021-11-20T08:32:39.984Z"
   },
   {
    "duration": 12,
    "start_time": "2021-11-20T08:33:55.192Z"
   },
   {
    "duration": 11,
    "start_time": "2021-11-20T08:34:58.342Z"
   },
   {
    "duration": 13,
    "start_time": "2021-11-20T08:35:18.792Z"
   },
   {
    "duration": 3,
    "start_time": "2021-11-20T08:36:10.183Z"
   },
   {
    "duration": 93,
    "start_time": "2021-11-20T08:36:10.188Z"
   },
   {
    "duration": 4,
    "start_time": "2021-11-20T08:36:10.285Z"
   },
   {
    "duration": 72,
    "start_time": "2021-11-20T08:36:10.292Z"
   },
   {
    "duration": 18,
    "start_time": "2021-11-20T08:36:10.367Z"
   },
   {
    "duration": 11,
    "start_time": "2021-11-20T08:36:10.388Z"
   },
   {
    "duration": 7,
    "start_time": "2021-11-20T08:36:10.401Z"
   },
   {
    "duration": 58,
    "start_time": "2021-11-20T08:36:10.411Z"
   },
   {
    "duration": 19,
    "start_time": "2021-11-20T08:36:10.473Z"
   },
   {
    "duration": 10,
    "start_time": "2021-11-20T08:36:10.495Z"
   },
   {
    "duration": 6,
    "start_time": "2021-11-20T08:36:10.507Z"
   },
   {
    "duration": 43,
    "start_time": "2021-11-20T08:36:10.516Z"
   },
   {
    "duration": 26,
    "start_time": "2021-11-20T08:36:10.562Z"
   },
   {
    "duration": 751,
    "start_time": "2021-11-20T08:36:10.591Z"
   },
   {
    "duration": 16,
    "start_time": "2021-11-20T08:36:11.345Z"
   },
   {
    "duration": 12,
    "start_time": "2021-11-20T08:36:11.363Z"
   },
   {
    "duration": 5,
    "start_time": "2021-11-20T08:36:11.377Z"
   },
   {
    "duration": 12,
    "start_time": "2021-11-20T08:36:11.384Z"
   },
   {
    "duration": 4,
    "start_time": "2021-11-20T08:36:11.398Z"
   },
   {
    "duration": 57,
    "start_time": "2021-11-20T08:36:11.404Z"
   },
   {
    "duration": 5,
    "start_time": "2021-11-20T08:36:11.463Z"
   },
   {
    "duration": 18,
    "start_time": "2021-11-20T08:36:11.470Z"
   },
   {
    "duration": 11,
    "start_time": "2021-11-20T08:36:11.490Z"
   },
   {
    "duration": 9,
    "start_time": "2021-11-20T08:36:11.503Z"
   },
   {
    "duration": 44,
    "start_time": "2021-11-20T08:36:11.515Z"
   },
   {
    "duration": 9,
    "start_time": "2021-11-20T08:36:11.562Z"
   },
   {
    "duration": 4,
    "start_time": "2021-11-20T08:36:11.575Z"
   },
   {
    "duration": 14,
    "start_time": "2021-11-20T08:36:11.581Z"
   },
   {
    "duration": 7,
    "start_time": "2021-11-20T08:36:11.597Z"
   },
   {
    "duration": 11,
    "start_time": "2021-11-20T08:36:11.606Z"
   },
   {
    "duration": 50,
    "start_time": "2021-11-20T08:36:11.619Z"
   },
   {
    "duration": 9,
    "start_time": "2021-11-20T08:36:11.672Z"
   },
   {
    "duration": 11,
    "start_time": "2021-11-20T08:36:11.684Z"
   },
   {
    "duration": 9,
    "start_time": "2021-11-20T08:36:11.697Z"
   },
   {
    "duration": 57,
    "start_time": "2021-11-20T08:36:11.708Z"
   },
   {
    "duration": 11,
    "start_time": "2021-11-20T08:36:11.768Z"
   },
   {
    "duration": 5,
    "start_time": "2021-11-20T08:36:15.461Z"
   },
   {
    "duration": 26,
    "start_time": "2021-11-20T08:36:55.641Z"
   },
   {
    "duration": 9,
    "start_time": "2021-11-20T08:37:07.661Z"
   },
   {
    "duration": 8,
    "start_time": "2021-11-20T08:39:58.382Z"
   },
   {
    "duration": 122,
    "start_time": "2021-11-20T08:40:22.521Z"
   },
   {
    "duration": 4,
    "start_time": "2021-11-20T08:41:26.782Z"
   },
   {
    "duration": 2132,
    "start_time": "2021-11-20T08:42:59.942Z"
   },
   {
    "duration": 771,
    "start_time": "2021-11-20T08:45:02.940Z"
   },
   {
    "duration": 1171,
    "start_time": "2021-11-20T08:45:12.951Z"
   },
   {
    "duration": 4,
    "start_time": "2021-11-20T08:45:19.121Z"
   },
   {
    "duration": 726,
    "start_time": "2021-11-20T08:45:26.561Z"
   },
   {
    "duration": 5,
    "start_time": "2021-11-20T08:46:23.741Z"
   },
   {
    "duration": 5,
    "start_time": "2021-11-20T08:46:27.262Z"
   },
   {
    "duration": 870,
    "start_time": "2021-11-20T08:46:29.361Z"
   },
   {
    "duration": 5,
    "start_time": "2021-11-20T08:47:54.471Z"
   },
   {
    "duration": 761,
    "start_time": "2021-11-20T08:47:57.342Z"
   },
   {
    "duration": 5,
    "start_time": "2021-11-20T08:48:35.172Z"
   },
   {
    "duration": 769,
    "start_time": "2021-11-20T08:48:36.723Z"
   },
   {
    "duration": 4,
    "start_time": "2021-11-20T08:49:02.313Z"
   },
   {
    "duration": 754,
    "start_time": "2021-11-20T08:49:05.797Z"
   },
   {
    "duration": 8,
    "start_time": "2021-11-20T08:49:13.473Z"
   },
   {
    "duration": 6,
    "start_time": "2021-11-20T08:49:15.932Z"
   },
   {
    "duration": 4,
    "start_time": "2021-11-20T08:49:23.153Z"
   },
   {
    "duration": 5,
    "start_time": "2021-11-20T08:49:24.901Z"
   },
   {
    "duration": 43,
    "start_time": "2021-11-20T08:49:32.854Z"
   },
   {
    "duration": 641,
    "start_time": "2021-11-20T08:50:05.341Z"
   },
   {
    "duration": 7,
    "start_time": "2021-11-20T08:50:26.292Z"
   },
   {
    "duration": 6,
    "start_time": "2021-11-20T08:50:35.333Z"
   },
   {
    "duration": 3,
    "start_time": "2021-11-20T08:50:59.143Z"
   },
   {
    "duration": 99,
    "start_time": "2021-11-20T08:50:59.149Z"
   },
   {
    "duration": 5,
    "start_time": "2021-11-20T08:50:59.261Z"
   },
   {
    "duration": 47,
    "start_time": "2021-11-20T08:50:59.270Z"
   },
   {
    "duration": 43,
    "start_time": "2021-11-20T08:50:59.321Z"
   },
   {
    "duration": 12,
    "start_time": "2021-11-20T08:50:59.367Z"
   },
   {
    "duration": 7,
    "start_time": "2021-11-20T08:50:59.382Z"
   },
   {
    "duration": 14,
    "start_time": "2021-11-20T08:50:59.392Z"
   },
   {
    "duration": 56,
    "start_time": "2021-11-20T08:50:59.410Z"
   },
   {
    "duration": 10,
    "start_time": "2021-11-20T08:50:59.471Z"
   },
   {
    "duration": 7,
    "start_time": "2021-11-20T08:50:59.484Z"
   },
   {
    "duration": 6,
    "start_time": "2021-11-20T08:50:59.493Z"
   },
   {
    "duration": 69,
    "start_time": "2021-11-20T08:50:59.501Z"
   },
   {
    "duration": 650,
    "start_time": "2021-11-20T08:50:59.573Z"
   },
   {
    "duration": 8,
    "start_time": "2021-11-20T08:51:00.226Z"
   },
   {
    "duration": 34,
    "start_time": "2021-11-20T08:51:00.236Z"
   },
   {
    "duration": 5,
    "start_time": "2021-11-20T08:51:00.273Z"
   },
   {
    "duration": 23,
    "start_time": "2021-11-20T08:51:00.281Z"
   },
   {
    "duration": 7,
    "start_time": "2021-11-20T08:51:00.307Z"
   },
   {
    "duration": 27,
    "start_time": "2021-11-20T08:51:00.316Z"
   },
   {
    "duration": 13,
    "start_time": "2021-11-20T08:51:00.359Z"
   },
   {
    "duration": 27,
    "start_time": "2021-11-20T08:51:00.375Z"
   },
   {
    "duration": 20,
    "start_time": "2021-11-20T08:51:00.404Z"
   },
   {
    "duration": 21,
    "start_time": "2021-11-20T08:51:00.427Z"
   },
   {
    "duration": 28,
    "start_time": "2021-11-20T08:51:00.450Z"
   },
   {
    "duration": 24,
    "start_time": "2021-11-20T08:51:00.480Z"
   },
   {
    "duration": 11,
    "start_time": "2021-11-20T08:51:00.509Z"
   },
   {
    "duration": 26,
    "start_time": "2021-11-20T08:51:00.523Z"
   },
   {
    "duration": 28,
    "start_time": "2021-11-20T08:51:00.552Z"
   },
   {
    "duration": 29,
    "start_time": "2021-11-20T08:51:00.583Z"
   },
   {
    "duration": 37,
    "start_time": "2021-11-20T08:51:00.615Z"
   },
   {
    "duration": 38,
    "start_time": "2021-11-20T08:51:00.655Z"
   },
   {
    "duration": 33,
    "start_time": "2021-11-20T08:51:00.696Z"
   },
   {
    "duration": 28,
    "start_time": "2021-11-20T08:51:00.731Z"
   },
   {
    "duration": 36,
    "start_time": "2021-11-20T08:51:00.767Z"
   },
   {
    "duration": 24,
    "start_time": "2021-11-20T08:51:00.806Z"
   },
   {
    "duration": 6,
    "start_time": "2021-11-20T08:51:00.832Z"
   },
   {
    "duration": 8,
    "start_time": "2021-11-20T08:51:06.953Z"
   },
   {
    "duration": 12,
    "start_time": "2021-11-20T08:51:09.866Z"
   },
   {
    "duration": 9,
    "start_time": "2021-11-20T08:51:32.816Z"
   },
   {
    "duration": 42,
    "start_time": "2021-11-20T08:51:39.743Z"
   },
   {
    "duration": 11,
    "start_time": "2021-11-20T08:51:47.462Z"
   },
   {
    "duration": 12,
    "start_time": "2021-11-20T08:52:33.424Z"
   },
   {
    "duration": 7,
    "start_time": "2021-11-20T08:52:56.082Z"
   },
   {
    "duration": 158,
    "start_time": "2021-11-20T08:53:30.853Z"
   },
   {
    "duration": 8,
    "start_time": "2021-11-20T08:53:44.152Z"
   },
   {
    "duration": 10,
    "start_time": "2021-11-20T08:55:28.303Z"
   },
   {
    "duration": 10,
    "start_time": "2021-11-20T08:55:50.080Z"
   },
   {
    "duration": 16,
    "start_time": "2021-11-20T08:55:56.632Z"
   },
   {
    "duration": 137,
    "start_time": "2021-11-20T08:56:36.982Z"
   },
   {
    "duration": 13,
    "start_time": "2021-11-20T08:56:41.552Z"
   },
   {
    "duration": 4,
    "start_time": "2021-11-20T08:57:28.305Z"
   },
   {
    "duration": 94,
    "start_time": "2021-11-20T08:57:28.312Z"
   },
   {
    "duration": 3,
    "start_time": "2021-11-20T08:57:28.409Z"
   },
   {
    "duration": 68,
    "start_time": "2021-11-20T08:57:28.415Z"
   },
   {
    "duration": 15,
    "start_time": "2021-11-20T08:57:28.486Z"
   },
   {
    "duration": 6,
    "start_time": "2021-11-20T08:57:28.504Z"
   },
   {
    "duration": 6,
    "start_time": "2021-11-20T08:57:28.513Z"
   },
   {
    "duration": 55,
    "start_time": "2021-11-20T08:57:28.521Z"
   },
   {
    "duration": 12,
    "start_time": "2021-11-20T08:57:28.581Z"
   },
   {
    "duration": 9,
    "start_time": "2021-11-20T08:57:28.596Z"
   },
   {
    "duration": 6,
    "start_time": "2021-11-20T08:57:28.607Z"
   },
   {
    "duration": 45,
    "start_time": "2021-11-20T08:57:28.615Z"
   },
   {
    "duration": 37,
    "start_time": "2021-11-20T08:57:28.663Z"
   },
   {
    "duration": 610,
    "start_time": "2021-11-20T08:57:28.702Z"
   },
   {
    "duration": 8,
    "start_time": "2021-11-20T08:57:29.314Z"
   },
   {
    "duration": 12,
    "start_time": "2021-11-20T08:57:29.324Z"
   },
   {
    "duration": 6,
    "start_time": "2021-11-20T08:57:29.359Z"
   },
   {
    "duration": 21,
    "start_time": "2021-11-20T08:57:29.368Z"
   },
   {
    "duration": 4,
    "start_time": "2021-11-20T08:57:29.391Z"
   },
   {
    "duration": 16,
    "start_time": "2021-11-20T08:57:29.397Z"
   },
   {
    "duration": 4,
    "start_time": "2021-11-20T08:57:29.416Z"
   },
   {
    "duration": 51,
    "start_time": "2021-11-20T08:57:29.422Z"
   },
   {
    "duration": 14,
    "start_time": "2021-11-20T08:57:29.476Z"
   },
   {
    "duration": 10,
    "start_time": "2021-11-20T08:57:29.492Z"
   },
   {
    "duration": 6,
    "start_time": "2021-11-20T08:57:29.504Z"
   },
   {
    "duration": 55,
    "start_time": "2021-11-20T08:57:29.513Z"
   },
   {
    "duration": 5,
    "start_time": "2021-11-20T08:57:29.576Z"
   },
   {
    "duration": 11,
    "start_time": "2021-11-20T08:57:29.584Z"
   },
   {
    "duration": 9,
    "start_time": "2021-11-20T08:57:29.598Z"
   },
   {
    "duration": 11,
    "start_time": "2021-11-20T08:57:29.609Z"
   },
   {
    "duration": 46,
    "start_time": "2021-11-20T08:57:29.622Z"
   },
   {
    "duration": 10,
    "start_time": "2021-11-20T08:57:29.671Z"
   },
   {
    "duration": 10,
    "start_time": "2021-11-20T08:57:29.683Z"
   },
   {
    "duration": 5,
    "start_time": "2021-11-20T08:57:29.695Z"
   },
   {
    "duration": 13,
    "start_time": "2021-11-20T08:57:29.702Z"
   },
   {
    "duration": 15,
    "start_time": "2021-11-20T08:57:29.759Z"
   },
   {
    "duration": 4,
    "start_time": "2021-11-20T08:57:29.777Z"
   },
   {
    "duration": 9,
    "start_time": "2021-11-20T08:57:29.783Z"
   },
   {
    "duration": 27,
    "start_time": "2021-11-20T08:57:33.102Z"
   },
   {
    "duration": 6,
    "start_time": "2021-11-20T08:57:58.160Z"
   },
   {
    "duration": 4,
    "start_time": "2021-11-20T08:57:59.442Z"
   },
   {
    "duration": 36,
    "start_time": "2021-11-20T08:58:05.483Z"
   },
   {
    "duration": 9,
    "start_time": "2021-11-20T08:58:07.170Z"
   },
   {
    "duration": 9,
    "start_time": "2021-11-20T08:58:10.072Z"
   },
   {
    "duration": 26,
    "start_time": "2021-11-20T08:58:42.322Z"
   },
   {
    "duration": 12,
    "start_time": "2021-11-20T08:59:11.481Z"
   },
   {
    "duration": 13,
    "start_time": "2021-11-20T09:05:22.242Z"
   },
   {
    "duration": 4,
    "start_time": "2021-11-20T09:05:41.483Z"
   },
   {
    "duration": 106,
    "start_time": "2021-11-20T09:05:41.490Z"
   },
   {
    "duration": 2,
    "start_time": "2021-11-20T09:05:41.600Z"
   },
   {
    "duration": 68,
    "start_time": "2021-11-20T09:05:41.604Z"
   },
   {
    "duration": 50,
    "start_time": "2021-11-20T09:05:41.675Z"
   },
   {
    "duration": 12,
    "start_time": "2021-11-20T09:05:41.728Z"
   },
   {
    "duration": 31,
    "start_time": "2021-11-20T09:05:41.742Z"
   },
   {
    "duration": 33,
    "start_time": "2021-11-20T09:05:41.776Z"
   },
   {
    "duration": 22,
    "start_time": "2021-11-20T09:05:41.813Z"
   },
   {
    "duration": 43,
    "start_time": "2021-11-20T09:05:41.839Z"
   },
   {
    "duration": 26,
    "start_time": "2021-11-20T09:05:41.885Z"
   },
   {
    "duration": 16,
    "start_time": "2021-11-20T09:05:41.914Z"
   },
   {
    "duration": 61,
    "start_time": "2021-11-20T09:05:41.932Z"
   },
   {
    "duration": 548,
    "start_time": "2021-11-20T09:05:41.995Z"
   },
   {
    "duration": 14,
    "start_time": "2021-11-20T09:05:42.545Z"
   },
   {
    "duration": 24,
    "start_time": "2021-11-20T09:05:42.561Z"
   },
   {
    "duration": 13,
    "start_time": "2021-11-20T09:05:42.588Z"
   },
   {
    "duration": 17,
    "start_time": "2021-11-20T09:05:42.603Z"
   },
   {
    "duration": 10,
    "start_time": "2021-11-20T09:05:42.623Z"
   },
   {
    "duration": 36,
    "start_time": "2021-11-20T09:05:42.636Z"
   },
   {
    "duration": 4,
    "start_time": "2021-11-20T09:05:42.675Z"
   },
   {
    "duration": 20,
    "start_time": "2021-11-20T09:05:42.682Z"
   },
   {
    "duration": 16,
    "start_time": "2021-11-20T09:05:42.704Z"
   },
   {
    "duration": 10,
    "start_time": "2021-11-20T09:05:42.722Z"
   },
   {
    "duration": 46,
    "start_time": "2021-11-20T09:05:42.734Z"
   },
   {
    "duration": 13,
    "start_time": "2021-11-20T09:05:42.782Z"
   },
   {
    "duration": 6,
    "start_time": "2021-11-20T09:05:42.800Z"
   },
   {
    "duration": 13,
    "start_time": "2021-11-20T09:05:42.809Z"
   },
   {
    "duration": 14,
    "start_time": "2021-11-20T09:05:42.824Z"
   },
   {
    "duration": 28,
    "start_time": "2021-11-20T09:05:42.840Z"
   },
   {
    "duration": 14,
    "start_time": "2021-11-20T09:05:42.872Z"
   },
   {
    "duration": 8,
    "start_time": "2021-11-20T09:05:42.888Z"
   },
   {
    "duration": 10,
    "start_time": "2021-11-20T09:05:42.899Z"
   },
   {
    "duration": 5,
    "start_time": "2021-11-20T09:05:42.912Z"
   },
   {
    "duration": 46,
    "start_time": "2021-11-20T09:05:42.920Z"
   },
   {
    "duration": 10,
    "start_time": "2021-11-20T09:05:42.969Z"
   },
   {
    "duration": 7,
    "start_time": "2021-11-20T09:05:42.981Z"
   },
   {
    "duration": 18,
    "start_time": "2021-11-20T09:05:42.990Z"
   },
   {
    "duration": 28,
    "start_time": "2021-11-20T09:05:45.801Z"
   },
   {
    "duration": 7,
    "start_time": "2021-11-20T09:07:42.183Z"
   },
   {
    "duration": 6,
    "start_time": "2021-11-20T09:09:34.703Z"
   },
   {
    "duration": 7,
    "start_time": "2021-11-20T09:09:43.532Z"
   },
   {
    "duration": 33,
    "start_time": "2021-11-20T09:10:07.049Z"
   },
   {
    "duration": 5,
    "start_time": "2021-11-20T09:10:14.013Z"
   },
   {
    "duration": 4,
    "start_time": "2021-11-20T09:10:15.710Z"
   },
   {
    "duration": 44,
    "start_time": "2021-11-20T09:10:16.852Z"
   },
   {
    "duration": 8,
    "start_time": "2021-11-20T09:10:18.882Z"
   },
   {
    "duration": 5,
    "start_time": "2021-11-20T09:10:47.349Z"
   },
   {
    "duration": 4,
    "start_time": "2021-11-20T09:10:48.323Z"
   },
   {
    "duration": 40,
    "start_time": "2021-11-20T09:10:49.812Z"
   },
   {
    "duration": 7,
    "start_time": "2021-11-20T09:10:52.800Z"
   },
   {
    "duration": 9,
    "start_time": "2021-11-20T09:10:54.812Z"
   },
   {
    "duration": 5,
    "start_time": "2021-11-20T09:11:17.910Z"
   },
   {
    "duration": 4,
    "start_time": "2021-11-20T09:11:18.611Z"
   },
   {
    "duration": 43,
    "start_time": "2021-11-20T09:11:19.343Z"
   },
   {
    "duration": 8,
    "start_time": "2021-11-20T09:11:20.313Z"
   },
   {
    "duration": 25,
    "start_time": "2021-11-20T09:11:51.912Z"
   },
   {
    "duration": 18,
    "start_time": "2021-11-20T09:12:57.652Z"
   },
   {
    "duration": 9,
    "start_time": "2021-11-20T09:14:31.381Z"
   },
   {
    "duration": 11,
    "start_time": "2021-11-20T09:15:08.369Z"
   },
   {
    "duration": 400,
    "start_time": "2021-11-20T09:15:27.081Z"
   },
   {
    "duration": 9,
    "start_time": "2021-11-20T09:15:42.618Z"
   },
   {
    "duration": 10,
    "start_time": "2021-11-20T09:17:57.632Z"
   },
   {
    "duration": 24,
    "start_time": "2021-11-20T09:19:33.761Z"
   },
   {
    "duration": 7,
    "start_time": "2021-11-20T09:21:33.854Z"
   },
   {
    "duration": 12,
    "start_time": "2021-11-20T09:21:49.422Z"
   },
   {
    "duration": 137,
    "start_time": "2021-11-20T09:22:10.062Z"
   },
   {
    "duration": 22,
    "start_time": "2021-11-20T09:24:00.461Z"
   },
   {
    "duration": 25,
    "start_time": "2021-11-20T09:25:36.550Z"
   },
   {
    "duration": 56,
    "start_time": "2021-11-20T09:25:45.581Z"
   },
   {
    "duration": 5,
    "start_time": "2021-11-20T09:26:41.901Z"
   },
   {
    "duration": 13,
    "start_time": "2021-11-20T09:27:33.333Z"
   },
   {
    "duration": 9,
    "start_time": "2021-11-20T09:27:47.301Z"
   },
   {
    "duration": 17,
    "start_time": "2021-11-20T09:28:41.173Z"
   },
   {
    "duration": 5061,
    "start_time": "2021-11-20T09:30:20.581Z"
   },
   {
    "duration": 5021,
    "start_time": "2021-11-20T09:30:35.413Z"
   },
   {
    "duration": 13,
    "start_time": "2021-11-20T09:30:58.534Z"
   },
   {
    "duration": 9,
    "start_time": "2021-11-20T09:40:23.401Z"
   },
   {
    "duration": 8,
    "start_time": "2021-11-20T09:40:29.174Z"
   },
   {
    "duration": 6,
    "start_time": "2021-11-20T09:40:55.585Z"
   },
   {
    "duration": 9,
    "start_time": "2021-11-20T09:41:15.904Z"
   },
   {
    "duration": 7,
    "start_time": "2021-11-20T09:41:19.303Z"
   },
   {
    "duration": 14,
    "start_time": "2021-11-20T09:43:27.585Z"
   },
   {
    "duration": 14,
    "start_time": "2021-11-20T09:44:02.225Z"
   },
   {
    "duration": 386,
    "start_time": "2021-11-20T09:47:47.215Z"
   },
   {
    "duration": 6,
    "start_time": "2021-11-20T09:47:49.311Z"
   },
   {
    "duration": 7,
    "start_time": "2021-11-20T09:48:15.263Z"
   },
   {
    "duration": 11023,
    "start_time": "2021-11-20T09:53:45.610Z"
   },
   {
    "duration": 500,
    "start_time": "2021-11-20T09:54:33.290Z"
   },
   {
    "duration": 5,
    "start_time": "2021-11-20T09:54:55.937Z"
   },
   {
    "duration": 4,
    "start_time": "2021-11-20T09:55:45.414Z"
   },
   {
    "duration": 5528,
    "start_time": "2021-11-20T09:56:01.950Z"
   },
   {
    "duration": 9,
    "start_time": "2021-11-20T10:03:26.531Z"
   },
   {
    "duration": 376,
    "start_time": "2021-11-20T10:03:31.140Z"
   },
   {
    "duration": 8,
    "start_time": "2021-11-20T10:03:34.492Z"
   },
   {
    "duration": 1994,
    "start_time": "2021-11-20T10:04:47.379Z"
   },
   {
    "duration": 7,
    "start_time": "2021-11-20T10:05:09.651Z"
   },
   {
    "duration": 1571,
    "start_time": "2021-11-20T10:06:40.053Z"
   },
   {
    "duration": 6,
    "start_time": "2021-11-20T10:06:44.852Z"
   },
   {
    "duration": 1456,
    "start_time": "2021-11-20T10:06:49.291Z"
   },
   {
    "duration": 6,
    "start_time": "2021-11-20T10:06:52.523Z"
   },
   {
    "duration": 3,
    "start_time": "2021-11-20T10:07:00.693Z"
   },
   {
    "duration": 109,
    "start_time": "2021-11-20T10:07:00.699Z"
   },
   {
    "duration": 3,
    "start_time": "2021-11-20T10:07:00.811Z"
   },
   {
    "duration": 50,
    "start_time": "2021-11-20T10:07:00.817Z"
   },
   {
    "duration": 17,
    "start_time": "2021-11-20T10:07:00.870Z"
   },
   {
    "duration": 23,
    "start_time": "2021-11-20T10:07:00.889Z"
   },
   {
    "duration": 11,
    "start_time": "2021-11-20T10:07:00.914Z"
   },
   {
    "duration": 32,
    "start_time": "2021-11-20T10:07:00.928Z"
   },
   {
    "duration": 17,
    "start_time": "2021-11-20T10:07:00.966Z"
   },
   {
    "duration": 10,
    "start_time": "2021-11-20T10:07:00.986Z"
   },
   {
    "duration": 7,
    "start_time": "2021-11-20T10:07:00.998Z"
   },
   {
    "duration": 10,
    "start_time": "2021-11-20T10:07:01.007Z"
   },
   {
    "duration": 80,
    "start_time": "2021-11-20T10:07:01.019Z"
   },
   {
    "duration": 700,
    "start_time": "2021-11-20T10:07:01.101Z"
   },
   {
    "duration": 8,
    "start_time": "2021-11-20T10:07:01.803Z"
   },
   {
    "duration": 17,
    "start_time": "2021-11-20T10:07:01.813Z"
   },
   {
    "duration": 27,
    "start_time": "2021-11-20T10:07:01.832Z"
   },
   {
    "duration": 15,
    "start_time": "2021-11-20T10:07:01.862Z"
   },
   {
    "duration": 8,
    "start_time": "2021-11-20T10:07:01.879Z"
   },
   {
    "duration": 16,
    "start_time": "2021-11-20T10:07:01.890Z"
   },
   {
    "duration": 5,
    "start_time": "2021-11-20T10:07:01.912Z"
   },
   {
    "duration": 51,
    "start_time": "2021-11-20T10:07:01.921Z"
   },
   {
    "duration": 18,
    "start_time": "2021-11-20T10:07:01.974Z"
   },
   {
    "duration": 11,
    "start_time": "2021-11-20T10:07:01.995Z"
   },
   {
    "duration": 17,
    "start_time": "2021-11-20T10:07:02.008Z"
   },
   {
    "duration": 32,
    "start_time": "2021-11-20T10:07:02.028Z"
   },
   {
    "duration": 9,
    "start_time": "2021-11-20T10:07:02.063Z"
   },
   {
    "duration": 15,
    "start_time": "2021-11-20T10:07:02.076Z"
   },
   {
    "duration": 14,
    "start_time": "2021-11-20T10:07:02.093Z"
   },
   {
    "duration": 23,
    "start_time": "2021-11-20T10:07:02.110Z"
   },
   {
    "duration": 31,
    "start_time": "2021-11-20T10:07:02.136Z"
   },
   {
    "duration": 10,
    "start_time": "2021-11-20T10:07:02.170Z"
   },
   {
    "duration": 12,
    "start_time": "2021-11-20T10:07:02.182Z"
   },
   {
    "duration": 9,
    "start_time": "2021-11-20T10:07:02.196Z"
   },
   {
    "duration": 24,
    "start_time": "2021-11-20T10:07:02.208Z"
   },
   {
    "duration": 35,
    "start_time": "2021-11-20T10:07:02.234Z"
   },
   {
    "duration": 17,
    "start_time": "2021-11-20T10:07:02.272Z"
   },
   {
    "duration": 24,
    "start_time": "2021-11-20T10:07:02.292Z"
   },
   {
    "duration": 34,
    "start_time": "2021-11-20T10:07:02.319Z"
   },
   {
    "duration": 20,
    "start_time": "2021-11-20T10:07:02.356Z"
   },
   {
    "duration": 21,
    "start_time": "2021-11-20T10:07:02.381Z"
   },
   {
    "duration": 5,
    "start_time": "2021-11-20T10:07:02.404Z"
   },
   {
    "duration": 17,
    "start_time": "2021-11-20T10:07:02.411Z"
   },
   {
    "duration": 13,
    "start_time": "2021-11-20T10:07:02.430Z"
   },
   {
    "duration": 10,
    "start_time": "2021-11-20T10:07:02.459Z"
   },
   {
    "duration": 14,
    "start_time": "2021-11-20T10:07:02.472Z"
   },
   {
    "duration": 30,
    "start_time": "2021-11-20T10:07:02.488Z"
   },
   {
    "duration": 3,
    "start_time": "2021-11-20T10:07:02.521Z"
   },
   {
    "duration": 40,
    "start_time": "2021-11-20T10:07:02.526Z"
   },
   {
    "duration": 50,
    "start_time": "2021-11-20T10:07:02.569Z"
   },
   {
    "duration": 7,
    "start_time": "2021-11-20T10:07:02.621Z"
   },
   {
    "duration": 35,
    "start_time": "2021-11-20T10:07:02.630Z"
   },
   {
    "duration": 15,
    "start_time": "2021-11-20T10:07:02.669Z"
   },
   {
    "duration": 10,
    "start_time": "2021-11-20T10:07:06.572Z"
   },
   {
    "duration": 7,
    "start_time": "2021-11-20T10:07:07.220Z"
   },
   {
    "duration": 1637,
    "start_time": "2021-11-20T10:07:26.252Z"
   },
   {
    "duration": 7,
    "start_time": "2021-11-20T10:07:48.691Z"
   },
   {
    "duration": 1732,
    "start_time": "2021-11-20T10:08:12.852Z"
   },
   {
    "duration": 3,
    "start_time": "2021-11-20T10:08:34.324Z"
   },
   {
    "duration": 95,
    "start_time": "2021-11-20T10:08:34.330Z"
   },
   {
    "duration": 3,
    "start_time": "2021-11-20T10:08:34.428Z"
   },
   {
    "duration": 59,
    "start_time": "2021-11-20T10:08:34.433Z"
   },
   {
    "duration": 14,
    "start_time": "2021-11-20T10:08:34.494Z"
   },
   {
    "duration": 7,
    "start_time": "2021-11-20T10:08:34.511Z"
   },
   {
    "duration": 46,
    "start_time": "2021-11-20T10:08:34.520Z"
   },
   {
    "duration": 26,
    "start_time": "2021-11-20T10:08:34.571Z"
   },
   {
    "duration": 14,
    "start_time": "2021-11-20T10:08:34.600Z"
   },
   {
    "duration": 12,
    "start_time": "2021-11-20T10:08:34.616Z"
   },
   {
    "duration": 31,
    "start_time": "2021-11-20T10:08:34.630Z"
   },
   {
    "duration": 8,
    "start_time": "2021-11-20T10:08:34.663Z"
   },
   {
    "duration": 37,
    "start_time": "2021-11-20T10:08:34.674Z"
   },
   {
    "duration": 768,
    "start_time": "2021-11-20T10:08:34.714Z"
   },
   {
    "duration": 8,
    "start_time": "2021-11-20T10:08:35.486Z"
   },
   {
    "duration": 12,
    "start_time": "2021-11-20T10:08:35.496Z"
   },
   {
    "duration": 4,
    "start_time": "2021-11-20T10:08:35.510Z"
   },
   {
    "duration": 47,
    "start_time": "2021-11-20T10:08:35.516Z"
   },
   {
    "duration": 6,
    "start_time": "2021-11-20T10:08:35.566Z"
   },
   {
    "duration": 22,
    "start_time": "2021-11-20T10:08:35.575Z"
   },
   {
    "duration": 5,
    "start_time": "2021-11-20T10:08:35.600Z"
   },
   {
    "duration": 20,
    "start_time": "2021-11-20T10:08:35.607Z"
   },
   {
    "duration": 41,
    "start_time": "2021-11-20T10:08:35.633Z"
   },
   {
    "duration": 9,
    "start_time": "2021-11-20T10:08:35.678Z"
   },
   {
    "duration": 6,
    "start_time": "2021-11-20T10:08:35.690Z"
   },
   {
    "duration": 23,
    "start_time": "2021-11-20T10:08:35.698Z"
   },
   {
    "duration": 4,
    "start_time": "2021-11-20T10:08:35.724Z"
   },
   {
    "duration": 34,
    "start_time": "2021-11-20T10:08:35.730Z"
   },
   {
    "duration": 14,
    "start_time": "2021-11-20T10:08:35.767Z"
   },
   {
    "duration": 28,
    "start_time": "2021-11-20T10:08:35.783Z"
   },
   {
    "duration": 21,
    "start_time": "2021-11-20T10:08:35.813Z"
   },
   {
    "duration": 23,
    "start_time": "2021-11-20T10:08:35.836Z"
   },
   {
    "duration": 19,
    "start_time": "2021-11-20T10:08:35.861Z"
   },
   {
    "duration": 11,
    "start_time": "2021-11-20T10:08:35.883Z"
   },
   {
    "duration": 15,
    "start_time": "2021-11-20T10:08:35.897Z"
   },
   {
    "duration": 14,
    "start_time": "2021-11-20T10:08:35.915Z"
   },
   {
    "duration": 13,
    "start_time": "2021-11-20T10:08:35.931Z"
   },
   {
    "duration": 37,
    "start_time": "2021-11-20T10:08:35.946Z"
   },
   {
    "duration": 27,
    "start_time": "2021-11-20T10:08:35.986Z"
   },
   {
    "duration": 6,
    "start_time": "2021-11-20T10:08:36.016Z"
   },
   {
    "duration": 59,
    "start_time": "2021-11-20T10:08:36.025Z"
   },
   {
    "duration": 6,
    "start_time": "2021-11-20T10:08:36.086Z"
   },
   {
    "duration": 13,
    "start_time": "2021-11-20T10:08:36.094Z"
   },
   {
    "duration": 13,
    "start_time": "2021-11-20T10:08:36.109Z"
   },
   {
    "duration": 9,
    "start_time": "2021-11-20T10:08:36.124Z"
   },
   {
    "duration": 8,
    "start_time": "2021-11-20T10:08:36.161Z"
   },
   {
    "duration": 37,
    "start_time": "2021-11-20T10:08:36.173Z"
   },
   {
    "duration": 4,
    "start_time": "2021-11-20T10:08:36.212Z"
   },
   {
    "duration": 5,
    "start_time": "2021-11-20T10:08:36.219Z"
   },
   {
    "duration": 70,
    "start_time": "2021-11-20T10:08:36.227Z"
   },
   {
    "duration": 8,
    "start_time": "2021-11-20T10:08:36.299Z"
   },
   {
    "duration": 57,
    "start_time": "2021-11-20T10:08:36.309Z"
   },
   {
    "duration": 17,
    "start_time": "2021-11-20T10:08:36.369Z"
   },
   {
    "duration": 9,
    "start_time": "2021-11-20T10:08:36.389Z"
   },
   {
    "duration": 11,
    "start_time": "2021-11-20T10:08:39.651Z"
   },
   {
    "duration": 7,
    "start_time": "2021-11-20T10:08:40.203Z"
   },
   {
    "duration": 8,
    "start_time": "2021-11-20T10:08:50.331Z"
   },
   {
    "duration": 1444,
    "start_time": "2021-11-20T10:08:56.651Z"
   },
   {
    "duration": 7,
    "start_time": "2021-11-20T10:09:43.572Z"
   },
   {
    "duration": 3,
    "start_time": "2021-11-20T10:09:49.283Z"
   },
   {
    "duration": 102,
    "start_time": "2021-11-20T10:09:49.292Z"
   },
   {
    "duration": 3,
    "start_time": "2021-11-20T10:09:49.397Z"
   },
   {
    "duration": 59,
    "start_time": "2021-11-20T10:09:49.403Z"
   },
   {
    "duration": 20,
    "start_time": "2021-11-20T10:09:49.465Z"
   },
   {
    "duration": 6,
    "start_time": "2021-11-20T10:09:49.488Z"
   },
   {
    "duration": 5,
    "start_time": "2021-11-20T10:09:49.497Z"
   },
   {
    "duration": 60,
    "start_time": "2021-11-20T10:09:49.504Z"
   },
   {
    "duration": 16,
    "start_time": "2021-11-20T10:09:49.568Z"
   },
   {
    "duration": 9,
    "start_time": "2021-11-20T10:09:49.588Z"
   },
   {
    "duration": 8,
    "start_time": "2021-11-20T10:09:49.600Z"
   },
   {
    "duration": 9,
    "start_time": "2021-11-20T10:09:49.610Z"
   },
   {
    "duration": 29,
    "start_time": "2021-11-20T10:09:49.659Z"
   },
   {
    "duration": 587,
    "start_time": "2021-11-20T10:09:49.690Z"
   },
   {
    "duration": 7,
    "start_time": "2021-11-20T10:09:50.280Z"
   },
   {
    "duration": 12,
    "start_time": "2021-11-20T10:09:50.290Z"
   },
   {
    "duration": 5,
    "start_time": "2021-11-20T10:09:50.304Z"
   },
   {
    "duration": 49,
    "start_time": "2021-11-20T10:09:50.312Z"
   },
   {
    "duration": 6,
    "start_time": "2021-11-20T10:09:50.365Z"
   },
   {
    "duration": 35,
    "start_time": "2021-11-20T10:09:50.374Z"
   },
   {
    "duration": 24,
    "start_time": "2021-11-20T10:09:50.412Z"
   },
   {
    "duration": 23,
    "start_time": "2021-11-20T10:09:50.439Z"
   },
   {
    "duration": 34,
    "start_time": "2021-11-20T10:09:50.465Z"
   },
   {
    "duration": 14,
    "start_time": "2021-11-20T10:09:50.501Z"
   },
   {
    "duration": 24,
    "start_time": "2021-11-20T10:09:50.517Z"
   },
   {
    "duration": 46,
    "start_time": "2021-11-20T10:09:50.544Z"
   },
   {
    "duration": 12,
    "start_time": "2021-11-20T10:09:50.592Z"
   },
   {
    "duration": 34,
    "start_time": "2021-11-20T10:09:50.610Z"
   },
   {
    "duration": 34,
    "start_time": "2021-11-20T10:09:50.647Z"
   },
   {
    "duration": 29,
    "start_time": "2021-11-20T10:09:50.683Z"
   },
   {
    "duration": 39,
    "start_time": "2021-11-20T10:09:50.715Z"
   },
   {
    "duration": 39,
    "start_time": "2021-11-20T10:09:50.756Z"
   },
   {
    "duration": 29,
    "start_time": "2021-11-20T10:09:50.797Z"
   },
   {
    "duration": 47,
    "start_time": "2021-11-20T10:09:50.828Z"
   },
   {
    "duration": 41,
    "start_time": "2021-11-20T10:09:50.878Z"
   },
   {
    "duration": 29,
    "start_time": "2021-11-20T10:09:50.922Z"
   },
   {
    "duration": 29,
    "start_time": "2021-11-20T10:09:50.953Z"
   },
   {
    "duration": 37,
    "start_time": "2021-11-20T10:09:50.985Z"
   },
   {
    "duration": 51,
    "start_time": "2021-11-20T10:09:51.025Z"
   },
   {
    "duration": 5,
    "start_time": "2021-11-20T10:09:51.079Z"
   },
   {
    "duration": 51,
    "start_time": "2021-11-20T10:09:51.086Z"
   },
   {
    "duration": 5,
    "start_time": "2021-11-20T10:09:51.140Z"
   },
   {
    "duration": 45,
    "start_time": "2021-11-20T10:09:51.147Z"
   },
   {
    "duration": 27,
    "start_time": "2021-11-20T10:09:51.194Z"
   },
   {
    "duration": 35,
    "start_time": "2021-11-20T10:09:51.224Z"
   },
   {
    "duration": 32,
    "start_time": "2021-11-20T10:09:51.262Z"
   },
   {
    "duration": 41,
    "start_time": "2021-11-20T10:09:51.296Z"
   },
   {
    "duration": 25,
    "start_time": "2021-11-20T10:09:51.340Z"
   },
   {
    "duration": 26,
    "start_time": "2021-11-20T10:09:51.368Z"
   },
   {
    "duration": 64,
    "start_time": "2021-11-20T10:09:51.396Z"
   },
   {
    "duration": 10,
    "start_time": "2021-11-20T10:09:51.463Z"
   },
   {
    "duration": 41,
    "start_time": "2021-11-20T10:09:51.475Z"
   },
   {
    "duration": 39,
    "start_time": "2021-11-20T10:09:51.519Z"
   },
   {
    "duration": 32,
    "start_time": "2021-11-20T10:09:51.561Z"
   },
   {
    "duration": 28,
    "start_time": "2021-11-20T10:09:51.596Z"
   },
   {
    "duration": 7,
    "start_time": "2021-11-20T10:09:54.291Z"
   },
   {
    "duration": 1528,
    "start_time": "2021-11-20T10:10:01.179Z"
   },
   {
    "duration": 5,
    "start_time": "2021-11-20T10:10:02.710Z"
   },
   {
    "duration": 13,
    "start_time": "2021-11-20T10:12:32.411Z"
   },
   {
    "duration": 15,
    "start_time": "2021-11-20T10:12:50.931Z"
   },
   {
    "duration": 15,
    "start_time": "2021-11-20T10:13:01.330Z"
   },
   {
    "duration": 14,
    "start_time": "2021-11-20T10:13:16.571Z"
   },
   {
    "duration": 11,
    "start_time": "2021-11-20T10:13:51.331Z"
   },
   {
    "duration": 12,
    "start_time": "2021-11-20T10:18:21.011Z"
   },
   {
    "duration": 10,
    "start_time": "2021-11-20T10:18:55.419Z"
   },
   {
    "duration": 4,
    "start_time": "2021-11-20T10:20:41.811Z"
   },
   {
    "duration": 3,
    "start_time": "2021-11-20T10:20:49.763Z"
   },
   {
    "duration": 394,
    "start_time": "2021-11-20T10:21:19.891Z"
   },
   {
    "duration": 399,
    "start_time": "2021-11-20T10:21:34.651Z"
   },
   {
    "duration": 21,
    "start_time": "2021-11-20T10:21:47.323Z"
   },
   {
    "duration": 12,
    "start_time": "2021-11-20T10:23:48.571Z"
   },
   {
    "duration": 7,
    "start_time": "2021-11-20T10:24:00.141Z"
   },
   {
    "duration": 5,
    "start_time": "2021-11-20T10:24:55.611Z"
   },
   {
    "duration": 13,
    "start_time": "2021-11-20T10:24:58.451Z"
   },
   {
    "duration": 162,
    "start_time": "2021-11-20T10:39:03.135Z"
   },
   {
    "duration": 13,
    "start_time": "2021-11-20T10:39:10.406Z"
   },
   {
    "duration": 9,
    "start_time": "2021-11-20T10:40:16.554Z"
   },
   {
    "duration": 6,
    "start_time": "2021-11-20T10:43:54.289Z"
   },
   {
    "duration": 15,
    "start_time": "2021-11-20T10:44:03.495Z"
   },
   {
    "duration": 36,
    "start_time": "2021-11-20T10:45:30.954Z"
   },
   {
    "duration": 4,
    "start_time": "2021-11-20T10:46:11.816Z"
   },
   {
    "duration": 23,
    "start_time": "2021-11-20T10:48:50.306Z"
   },
   {
    "duration": 18,
    "start_time": "2021-11-20T10:48:57.686Z"
   },
   {
    "duration": 14,
    "start_time": "2021-11-20T10:49:18.917Z"
   },
   {
    "duration": 9987,
    "start_time": "2021-11-20T10:50:25.446Z"
   },
   {
    "duration": 370,
    "start_time": "2021-11-20T10:50:36.994Z"
   },
   {
    "duration": 11,
    "start_time": "2021-11-20T10:51:05.106Z"
   },
   {
    "duration": 27,
    "start_time": "2021-11-20T10:51:33.547Z"
   },
   {
    "duration": 15,
    "start_time": "2021-11-20T10:51:50.314Z"
   },
   {
    "duration": 531,
    "start_time": "2021-11-20T10:54:33.507Z"
   },
   {
    "duration": 382,
    "start_time": "2021-11-20T10:55:20.706Z"
   },
   {
    "duration": 9,
    "start_time": "2021-11-20T10:55:26.354Z"
   },
   {
    "duration": 16,
    "start_time": "2021-11-20T10:56:00.106Z"
   },
   {
    "duration": 5,
    "start_time": "2021-11-20T11:14:33.989Z"
   },
   {
    "duration": 36,
    "start_time": "2021-11-20T11:14:44.229Z"
   },
   {
    "duration": 170,
    "start_time": "2021-11-20T11:16:24.929Z"
   },
   {
    "duration": 126,
    "start_time": "2021-11-20T11:17:20.701Z"
   },
   {
    "duration": 17,
    "start_time": "2021-11-20T11:17:33.448Z"
   },
   {
    "duration": 34,
    "start_time": "2021-11-20T11:17:36.621Z"
   },
   {
    "duration": 139,
    "start_time": "2021-11-20T11:17:49.940Z"
   },
   {
    "duration": 19,
    "start_time": "2021-11-20T11:18:00.961Z"
   },
   {
    "duration": 52,
    "start_time": "2021-11-20T11:18:02.669Z"
   },
   {
    "duration": 16,
    "start_time": "2021-11-20T11:19:49.529Z"
   },
   {
    "duration": 35,
    "start_time": "2021-11-20T11:19:51.906Z"
   },
   {
    "duration": 5483,
    "start_time": "2021-11-20T11:21:20.918Z"
   },
   {
    "duration": 204,
    "start_time": "2021-11-20T11:22:18.138Z"
   },
   {
    "duration": 958,
    "start_time": "2021-11-20T11:22:32.850Z"
   },
   {
    "duration": 449,
    "start_time": "2021-11-20T11:23:24.309Z"
   },
   {
    "duration": 911,
    "start_time": "2021-11-20T11:23:43.497Z"
   },
   {
    "duration": 18,
    "start_time": "2021-11-20T11:25:38.518Z"
   },
   {
    "duration": 10,
    "start_time": "2021-11-20T11:26:06.479Z"
   },
   {
    "duration": 33,
    "start_time": "2021-11-20T11:26:11.660Z"
   },
   {
    "duration": 11,
    "start_time": "2021-11-20T11:26:24.749Z"
   },
   {
    "duration": 53,
    "start_time": "2021-11-20T11:26:26.080Z"
   },
   {
    "duration": 15,
    "start_time": "2021-11-20T11:26:31.141Z"
   },
   {
    "duration": 36,
    "start_time": "2021-11-20T11:26:31.759Z"
   },
   {
    "duration": 6024,
    "start_time": "2021-11-20T11:26:45.948Z"
   },
   {
    "duration": -14044,
    "start_time": "2021-11-20T11:27:06.019Z"
   },
   {
    "duration": 9,
    "start_time": "2021-11-20T11:27:16.920Z"
   },
   {
    "duration": 36,
    "start_time": "2021-11-20T11:27:22.320Z"
   },
   {
    "duration": 11,
    "start_time": "2021-11-20T11:27:31.969Z"
   },
   {
    "duration": 36,
    "start_time": "2021-11-20T11:27:32.520Z"
   },
   {
    "duration": 401,
    "start_time": "2021-11-20T11:27:50.319Z"
   },
   {
    "duration": 477,
    "start_time": "2021-11-20T11:28:05.680Z"
   },
   {
    "duration": 403,
    "start_time": "2021-11-20T11:28:26.728Z"
   },
   {
    "duration": 430,
    "start_time": "2021-11-20T11:28:35.140Z"
   },
   {
    "duration": 407,
    "start_time": "2021-11-20T11:29:04.539Z"
   },
   {
    "duration": 514,
    "start_time": "2021-11-20T11:29:10.060Z"
   },
   {
    "duration": 382,
    "start_time": "2021-11-20T11:29:17.419Z"
   },
   {
    "duration": 476,
    "start_time": "2021-11-20T11:29:22.680Z"
   },
   {
    "duration": 540,
    "start_time": "2021-11-20T11:29:47.588Z"
   },
   {
    "duration": 12,
    "start_time": "2021-11-20T11:30:41.541Z"
   },
   {
    "duration": 37,
    "start_time": "2021-11-20T11:30:49.579Z"
   },
   {
    "duration": 1792,
    "start_time": "2021-11-20T11:31:13.480Z"
   },
   {
    "duration": 12,
    "start_time": "2021-11-20T11:31:21.999Z"
   },
   {
    "duration": 35,
    "start_time": "2021-11-20T11:31:24.369Z"
   },
   {
    "duration": 38,
    "start_time": "2021-11-20T11:31:30.380Z"
   },
   {
    "duration": 11014,
    "start_time": "2021-11-20T11:32:26.221Z"
   },
   {
    "duration": 1841,
    "start_time": "2021-11-20T11:33:24.865Z"
   },
   {
    "duration": 139,
    "start_time": "2021-11-20T11:33:38.549Z"
   },
   {
    "duration": 143,
    "start_time": "2021-11-20T11:33:44.281Z"
   },
   {
    "duration": 157,
    "start_time": "2021-11-20T11:33:47.480Z"
   },
   {
    "duration": 1804,
    "start_time": "2021-11-20T11:33:54.849Z"
   },
   {
    "duration": 17,
    "start_time": "2021-11-20T11:33:58.207Z"
   },
   {
    "duration": 34,
    "start_time": "2021-11-20T11:34:03.549Z"
   },
   {
    "duration": 136,
    "start_time": "2021-11-20T11:35:32.898Z"
   },
   {
    "duration": 11,
    "start_time": "2021-11-20T11:35:52.339Z"
   },
   {
    "duration": 39,
    "start_time": "2021-11-20T11:35:53.569Z"
   },
   {
    "duration": 2610,
    "start_time": "2021-11-20T11:37:44.339Z"
   },
   {
    "duration": 377,
    "start_time": "2021-11-20T11:37:51.757Z"
   },
   {
    "duration": 15,
    "start_time": "2021-11-20T11:38:21.530Z"
   },
   {
    "duration": 12,
    "start_time": "2021-11-20T11:38:42.702Z"
   },
   {
    "duration": 37,
    "start_time": "2021-11-20T11:38:45.817Z"
   },
   {
    "duration": 449,
    "start_time": "2021-11-20T11:38:53.658Z"
   },
   {
    "duration": 395,
    "start_time": "2021-11-20T11:38:58.986Z"
   },
   {
    "duration": 6,
    "start_time": "2021-11-20T11:39:26.397Z"
   },
   {
    "duration": 12,
    "start_time": "2021-11-20T11:39:33.857Z"
   },
   {
    "duration": 4,
    "start_time": "2021-11-20T11:40:41.139Z"
   },
   {
    "duration": 8,
    "start_time": "2021-11-20T11:40:59.991Z"
   },
   {
    "duration": 7,
    "start_time": "2021-11-20T11:41:28.499Z"
   },
   {
    "duration": 11,
    "start_time": "2021-11-20T11:41:36.508Z"
   },
   {
    "duration": 4,
    "start_time": "2021-11-20T11:42:09.379Z"
   },
   {
    "duration": 6,
    "start_time": "2021-11-20T11:42:12.680Z"
   },
   {
    "duration": 10,
    "start_time": "2021-11-20T11:42:13.508Z"
   },
   {
    "duration": 5636,
    "start_time": "2021-11-20T11:42:18.641Z"
   },
   {
    "duration": -14391,
    "start_time": "2021-11-20T11:42:38.670Z"
   },
   {
    "duration": 6,
    "start_time": "2021-11-20T11:44:42.339Z"
   },
   {
    "duration": 35,
    "start_time": "2021-11-20T11:44:52.288Z"
   },
   {
    "duration": 15,
    "start_time": "2021-11-20T11:47:36.761Z"
   },
   {
    "duration": 36,
    "start_time": "2021-11-20T11:47:40.279Z"
   },
   {
    "duration": 10,
    "start_time": "2021-11-20T11:47:59.780Z"
   },
   {
    "duration": 121,
    "start_time": "2021-11-20T11:49:10.328Z"
   },
   {
    "duration": 167,
    "start_time": "2021-11-20T11:51:03.085Z"
   },
   {
    "duration": 134,
    "start_time": "2021-11-20T11:51:46.998Z"
   },
   {
    "duration": 133,
    "start_time": "2021-11-20T11:52:18.050Z"
   },
   {
    "duration": 12,
    "start_time": "2021-11-20T11:54:15.273Z"
   },
   {
    "duration": 9,
    "start_time": "2021-11-20T11:54:37.838Z"
   },
   {
    "duration": 5,
    "start_time": "2021-11-20T11:55:32.249Z"
   },
   {
    "duration": 13,
    "start_time": "2021-11-20T11:55:34.165Z"
   },
   {
    "duration": 10,
    "start_time": "2021-11-20T11:55:35.910Z"
   },
   {
    "duration": 6,
    "start_time": "2021-11-20T12:18:36.125Z"
   },
   {
    "duration": 14,
    "start_time": "2021-11-20T12:18:36.976Z"
   },
   {
    "duration": 10,
    "start_time": "2021-11-20T12:19:08.457Z"
   },
   {
    "duration": 14,
    "start_time": "2021-11-20T12:19:58.038Z"
   },
   {
    "duration": 10,
    "start_time": "2021-11-20T12:19:58.688Z"
   },
   {
    "duration": 10,
    "start_time": "2021-11-20T12:20:48.388Z"
   },
   {
    "duration": 10,
    "start_time": "2021-11-20T12:20:52.708Z"
   },
   {
    "duration": 11,
    "start_time": "2021-11-20T12:24:56.068Z"
   },
   {
    "duration": 6,
    "start_time": "2021-11-20T12:25:13.645Z"
   },
   {
    "duration": 5,
    "start_time": "2021-11-20T12:28:02.997Z"
   },
   {
    "duration": 19,
    "start_time": "2021-11-20T12:29:21.657Z"
   },
   {
    "duration": 264,
    "start_time": "2021-11-20T13:10:33.904Z"
   },
   {
    "duration": 378,
    "start_time": "2021-11-20T13:10:51.947Z"
   },
   {
    "duration": 2116,
    "start_time": "2021-11-20T13:12:02.510Z"
   },
   {
    "duration": 1986,
    "start_time": "2021-11-20T13:12:09.979Z"
   },
   {
    "duration": 2103,
    "start_time": "2021-11-20T13:12:15.989Z"
   },
   {
    "duration": 2370,
    "start_time": "2021-11-20T13:12:44.740Z"
   },
   {
    "duration": 1734,
    "start_time": "2021-11-20T13:14:56.187Z"
   },
   {
    "duration": 791,
    "start_time": "2021-11-20T13:15:20.827Z"
   },
   {
    "duration": 687,
    "start_time": "2021-11-20T13:16:18.460Z"
   },
   {
    "duration": 389,
    "start_time": "2021-11-20T13:16:27.284Z"
   },
   {
    "duration": 12,
    "start_time": "2021-11-20T13:17:32.747Z"
   },
   {
    "duration": 397,
    "start_time": "2021-11-20T13:17:53.430Z"
   },
   {
    "duration": 372,
    "start_time": "2021-11-20T13:17:59.109Z"
   },
   {
    "duration": 653,
    "start_time": "2021-11-20T13:18:07.022Z"
   },
   {
    "duration": 698,
    "start_time": "2021-11-20T13:18:17.828Z"
   },
   {
    "duration": 30,
    "start_time": "2021-11-20T13:21:01.757Z"
   },
   {
    "duration": 690,
    "start_time": "2021-11-20T13:21:54.709Z"
   },
   {
    "duration": 627,
    "start_time": "2021-11-20T13:22:35.308Z"
   },
   {
    "duration": 454,
    "start_time": "2021-11-20T13:23:02.108Z"
   },
   {
    "duration": 460,
    "start_time": "2021-11-20T13:23:07.108Z"
   },
   {
    "duration": 15,
    "start_time": "2021-11-20T13:23:54.067Z"
   },
   {
    "duration": 387,
    "start_time": "2021-11-20T13:28:26.030Z"
   },
   {
    "duration": 425,
    "start_time": "2021-11-20T13:28:30.942Z"
   },
   {
    "duration": 8,
    "start_time": "2021-11-20T13:28:37.118Z"
   },
   {
    "duration": 343,
    "start_time": "2021-11-20T13:31:20.623Z"
   },
   {
    "duration": 353,
    "start_time": "2021-11-20T13:31:29.671Z"
   },
   {
    "duration": 129,
    "start_time": "2021-11-20T13:31:52.110Z"
   },
   {
    "duration": 392,
    "start_time": "2021-11-20T13:31:55.022Z"
   },
   {
    "duration": 371,
    "start_time": "2021-11-20T13:32:12.781Z"
   },
   {
    "duration": 380,
    "start_time": "2021-11-20T13:32:17.791Z"
   },
   {
    "duration": 361,
    "start_time": "2021-11-20T13:33:36.765Z"
   },
   {
    "duration": 497,
    "start_time": "2021-11-20T13:33:42.458Z"
   },
   {
    "duration": 390,
    "start_time": "2021-11-20T13:33:47.217Z"
   },
   {
    "duration": 13,
    "start_time": "2021-11-20T13:37:32.066Z"
   },
   {
    "duration": 375,
    "start_time": "2021-11-20T13:38:54.313Z"
   },
   {
    "duration": 386,
    "start_time": "2021-11-20T13:39:40.794Z"
   },
   {
    "duration": 484,
    "start_time": "2021-11-20T13:40:00.193Z"
   },
   {
    "duration": 11,
    "start_time": "2021-11-20T13:41:07.080Z"
   },
   {
    "duration": 621,
    "start_time": "2021-11-20T13:44:55.131Z"
   },
   {
    "duration": 11,
    "start_time": "2021-11-20T13:45:32.461Z"
   },
   {
    "duration": 443,
    "start_time": "2021-11-20T13:50:32.382Z"
   },
   {
    "duration": 242,
    "start_time": "2021-11-20T13:51:28.828Z"
   },
   {
    "duration": 235,
    "start_time": "2021-11-20T13:51:32.060Z"
   },
   {
    "duration": 383,
    "start_time": "2021-11-20T13:55:34.940Z"
   },
   {
    "duration": 8,
    "start_time": "2021-11-20T13:55:44.851Z"
   },
   {
    "duration": 8,
    "start_time": "2021-11-20T13:56:02.662Z"
   },
   {
    "duration": 8,
    "start_time": "2021-11-20T13:56:13.782Z"
   },
   {
    "duration": 8,
    "start_time": "2021-11-20T13:56:18.221Z"
   },
   {
    "duration": 8,
    "start_time": "2021-11-20T13:56:25.173Z"
   },
   {
    "duration": 8,
    "start_time": "2021-11-20T13:56:30.461Z"
   },
   {
    "duration": 8,
    "start_time": "2021-11-20T13:59:13.333Z"
   },
   {
    "duration": 9,
    "start_time": "2021-11-20T14:00:12.348Z"
   },
   {
    "duration": 7,
    "start_time": "2021-11-20T14:03:33.943Z"
   },
   {
    "duration": 9,
    "start_time": "2021-11-20T14:03:37.309Z"
   },
   {
    "duration": 9,
    "start_time": "2021-11-20T14:03:50.172Z"
   },
   {
    "duration": 9,
    "start_time": "2021-11-20T14:03:53.871Z"
   },
   {
    "duration": 9,
    "start_time": "2021-11-20T14:05:09.028Z"
   },
   {
    "duration": 836,
    "start_time": "2021-11-21T05:05:17.726Z"
   },
   {
    "duration": 88,
    "start_time": "2021-11-21T05:05:18.565Z"
   },
   {
    "duration": 4,
    "start_time": "2021-11-21T05:05:18.656Z"
   },
   {
    "duration": 56,
    "start_time": "2021-11-21T05:05:18.662Z"
   },
   {
    "duration": 21,
    "start_time": "2021-11-21T05:05:18.720Z"
   },
   {
    "duration": 11,
    "start_time": "2021-11-21T05:05:18.743Z"
   },
   {
    "duration": 8,
    "start_time": "2021-11-21T05:05:18.756Z"
   },
   {
    "duration": 12,
    "start_time": "2021-11-21T05:05:18.768Z"
   },
   {
    "duration": 48,
    "start_time": "2021-11-21T05:05:18.783Z"
   },
   {
    "duration": 11,
    "start_time": "2021-11-21T05:05:18.833Z"
   },
   {
    "duration": 7,
    "start_time": "2021-11-21T05:05:18.846Z"
   },
   {
    "duration": 19,
    "start_time": "2021-11-21T05:05:18.855Z"
   },
   {
    "duration": 67,
    "start_time": "2021-11-21T05:05:18.876Z"
   },
   {
    "duration": 764,
    "start_time": "2021-11-21T05:05:18.946Z"
   },
   {
    "duration": 23,
    "start_time": "2021-11-21T05:05:19.713Z"
   },
   {
    "duration": 23,
    "start_time": "2021-11-21T05:05:19.739Z"
   },
   {
    "duration": 15,
    "start_time": "2021-11-21T05:05:19.765Z"
   },
   {
    "duration": 24,
    "start_time": "2021-11-21T05:05:19.782Z"
   },
   {
    "duration": 22,
    "start_time": "2021-11-21T05:05:19.809Z"
   },
   {
    "duration": 19,
    "start_time": "2021-11-21T05:05:19.834Z"
   },
   {
    "duration": 6,
    "start_time": "2021-11-21T05:05:19.856Z"
   },
   {
    "duration": 17,
    "start_time": "2021-11-21T05:05:19.865Z"
   },
   {
    "duration": 45,
    "start_time": "2021-11-21T05:05:19.890Z"
   },
   {
    "duration": 12,
    "start_time": "2021-11-21T05:05:19.940Z"
   },
   {
    "duration": 7,
    "start_time": "2021-11-21T05:05:19.955Z"
   },
   {
    "duration": 15,
    "start_time": "2021-11-21T05:05:19.965Z"
   },
   {
    "duration": 46,
    "start_time": "2021-11-21T05:05:19.983Z"
   },
   {
    "duration": 18,
    "start_time": "2021-11-21T05:05:20.032Z"
   },
   {
    "duration": 17,
    "start_time": "2021-11-21T05:05:20.053Z"
   },
   {
    "duration": 20,
    "start_time": "2021-11-21T05:05:20.073Z"
   },
   {
    "duration": 19,
    "start_time": "2021-11-21T05:05:20.096Z"
   },
   {
    "duration": 9,
    "start_time": "2021-11-21T05:05:20.130Z"
   },
   {
    "duration": 29,
    "start_time": "2021-11-21T05:05:20.142Z"
   },
   {
    "duration": 11,
    "start_time": "2021-11-21T05:05:20.174Z"
   },
   {
    "duration": 20,
    "start_time": "2021-11-21T05:05:20.188Z"
   },
   {
    "duration": 18,
    "start_time": "2021-11-21T05:05:20.211Z"
   },
   {
    "duration": 4,
    "start_time": "2021-11-21T05:05:20.231Z"
   },
   {
    "duration": 11,
    "start_time": "2021-11-21T05:05:20.238Z"
   },
   {
    "duration": 25,
    "start_time": "2021-11-21T05:05:20.251Z"
   },
   {
    "duration": 5,
    "start_time": "2021-11-21T05:05:20.278Z"
   },
   {
    "duration": 60,
    "start_time": "2021-11-21T05:05:20.285Z"
   },
   {
    "duration": 5,
    "start_time": "2021-11-21T05:05:20.347Z"
   },
   {
    "duration": 16,
    "start_time": "2021-11-21T05:05:20.354Z"
   },
   {
    "duration": 6,
    "start_time": "2021-11-21T05:05:20.372Z"
   },
   {
    "duration": 9,
    "start_time": "2021-11-21T05:05:20.380Z"
   },
   {
    "duration": 40,
    "start_time": "2021-11-21T05:05:20.391Z"
   },
   {
    "duration": 27,
    "start_time": "2021-11-21T05:05:20.433Z"
   },
   {
    "duration": 5,
    "start_time": "2021-11-21T05:05:20.463Z"
   },
   {
    "duration": 11,
    "start_time": "2021-11-21T05:05:20.470Z"
   },
   {
    "duration": 66,
    "start_time": "2021-11-21T05:05:20.483Z"
   },
   {
    "duration": 8,
    "start_time": "2021-11-21T05:05:20.552Z"
   },
   {
    "duration": 39,
    "start_time": "2021-11-21T05:05:20.563Z"
   },
   {
    "duration": 30,
    "start_time": "2021-11-21T05:05:20.604Z"
   },
   {
    "duration": 9,
    "start_time": "2021-11-21T05:05:20.636Z"
   },
   {
    "duration": 23,
    "start_time": "2021-11-21T05:05:20.647Z"
   },
   {
    "duration": 56,
    "start_time": "2021-11-21T05:05:20.672Z"
   },
   {
    "duration": 1384,
    "start_time": "2021-11-21T05:05:20.730Z"
   },
   {
    "duration": 14,
    "start_time": "2021-11-21T05:05:22.116Z"
   },
   {
    "duration": 17,
    "start_time": "2021-11-21T05:05:22.132Z"
   },
   {
    "duration": 4,
    "start_time": "2021-11-21T05:05:22.151Z"
   },
   {
    "duration": 25,
    "start_time": "2021-11-21T05:05:22.157Z"
   },
   {
    "duration": 6,
    "start_time": "2021-11-21T05:05:22.184Z"
   },
   {
    "duration": 39,
    "start_time": "2021-11-21T05:05:22.192Z"
   },
   {
    "duration": 23,
    "start_time": "2021-11-21T05:05:22.233Z"
   },
   {
    "duration": 48,
    "start_time": "2021-11-21T05:05:22.258Z"
   },
   {
    "duration": 25,
    "start_time": "2021-11-21T05:05:22.308Z"
   },
   {
    "duration": 17,
    "start_time": "2021-11-21T05:05:22.336Z"
   },
   {
    "duration": 14,
    "start_time": "2021-11-21T05:05:22.361Z"
   },
   {
    "duration": 12,
    "start_time": "2021-11-21T05:05:22.378Z"
   },
   {
    "duration": 47,
    "start_time": "2021-11-21T05:05:22.392Z"
   },
   {
    "duration": 16,
    "start_time": "2021-11-21T05:05:22.441Z"
   },
   {
    "duration": 18,
    "start_time": "2021-11-21T05:05:22.460Z"
   },
   {
    "duration": 14,
    "start_time": "2021-11-21T05:05:22.481Z"
   },
   {
    "duration": 22,
    "start_time": "2021-11-21T05:05:22.497Z"
   },
   {
    "duration": 9,
    "start_time": "2021-11-21T05:05:22.530Z"
   },
   {
    "duration": 10,
    "start_time": "2021-11-21T05:05:22.542Z"
   },
   {
    "duration": 27,
    "start_time": "2021-11-21T05:05:22.554Z"
   },
   {
    "duration": 491,
    "start_time": "2021-11-21T05:05:22.584Z"
   },
   {
    "duration": 14,
    "start_time": "2021-11-21T05:05:23.078Z"
   },
   {
    "duration": 511,
    "start_time": "2021-11-21T05:05:23.095Z"
   },
   {
    "duration": 24,
    "start_time": "2021-11-21T05:05:23.608Z"
   },
   {
    "duration": 397,
    "start_time": "2021-11-21T05:05:23.635Z"
   },
   {
    "duration": 11,
    "start_time": "2021-11-21T05:05:24.034Z"
   },
   {
    "duration": 459,
    "start_time": "2021-11-21T05:05:24.047Z"
   },
   {
    "duration": 24,
    "start_time": "2021-11-21T05:05:24.509Z"
   },
   {
    "duration": 461,
    "start_time": "2021-11-21T05:05:24.535Z"
   },
   {
    "duration": 11,
    "start_time": "2021-11-21T05:05:24.998Z"
   },
   {
    "duration": 23,
    "start_time": "2021-11-21T05:05:25.011Z"
   },
   {
    "duration": 8,
    "start_time": "2021-11-21T05:05:28.387Z"
   },
   {
    "duration": 639,
    "start_time": "2021-11-21T05:09:56.141Z"
   },
   {
    "duration": 621,
    "start_time": "2021-11-21T05:10:39.335Z"
   },
   {
    "duration": 508,
    "start_time": "2021-11-21T05:13:24.534Z"
   },
   {
    "duration": 1795,
    "start_time": "2021-11-21T05:13:41.160Z"
   },
   {
    "duration": 410,
    "start_time": "2021-11-21T05:14:18.588Z"
   },
   {
    "duration": 13,
    "start_time": "2021-11-21T05:14:24.657Z"
   },
   {
    "duration": 13,
    "start_time": "2021-11-21T05:14:54.965Z"
   },
   {
    "duration": 1428,
    "start_time": "2021-11-21T05:15:19.795Z"
   },
   {
    "duration": 622,
    "start_time": "2021-11-21T05:15:33.038Z"
   },
   {
    "duration": 657,
    "start_time": "2021-11-21T05:15:42.049Z"
   },
   {
    "duration": 97,
    "start_time": "2021-11-21T05:17:30.022Z"
   },
   {
    "duration": 6,
    "start_time": "2021-11-21T05:17:39.956Z"
   },
   {
    "duration": 580,
    "start_time": "2021-11-21T05:18:11.012Z"
   },
   {
    "duration": 743,
    "start_time": "2021-11-21T05:18:24.974Z"
   },
   {
    "duration": 506,
    "start_time": "2021-11-21T05:18:31.727Z"
   },
   {
    "duration": 5503,
    "start_time": "2021-11-21T05:18:36.512Z"
   },
   {
    "duration": 565,
    "start_time": "2021-11-21T05:18:43.414Z"
   },
   {
    "duration": 618,
    "start_time": "2021-11-21T05:18:51.827Z"
   },
   {
    "duration": 6,
    "start_time": "2021-11-21T05:20:44.846Z"
   },
   {
    "duration": 6,
    "start_time": "2021-11-21T05:23:34.280Z"
   },
   {
    "duration": 583,
    "start_time": "2021-11-21T05:24:39.350Z"
   },
   {
    "duration": 311,
    "start_time": "2021-11-21T05:26:01.509Z"
   },
   {
    "duration": 508,
    "start_time": "2021-11-21T05:26:05.914Z"
   },
   {
    "duration": 892,
    "start_time": "2021-11-21T05:27:00.105Z"
   },
   {
    "duration": 596,
    "start_time": "2021-11-21T05:27:27.096Z"
   },
   {
    "duration": 17,
    "start_time": "2021-11-21T05:27:40.416Z"
   },
   {
    "duration": 29,
    "start_time": "2021-11-21T05:28:01.168Z"
   },
   {
    "duration": 29,
    "start_time": "2021-11-21T05:28:28.017Z"
   },
   {
    "duration": 13,
    "start_time": "2021-11-21T05:29:20.716Z"
   },
   {
    "duration": 5,
    "start_time": "2021-11-21T05:29:22.846Z"
   },
   {
    "duration": 29,
    "start_time": "2021-11-21T05:29:26.289Z"
   },
   {
    "duration": 332,
    "start_time": "2021-11-21T05:30:07.230Z"
   },
   {
    "duration": 29,
    "start_time": "2021-11-21T05:30:17.086Z"
   },
   {
    "duration": 326,
    "start_time": "2021-11-21T05:31:08.307Z"
   },
   {
    "duration": 7595,
    "start_time": "2021-11-21T05:31:28.976Z"
   },
   {
    "duration": 30,
    "start_time": "2021-11-21T05:31:55.414Z"
   },
   {
    "duration": 30,
    "start_time": "2021-11-21T05:32:10.592Z"
   },
   {
    "duration": 15,
    "start_time": "2021-11-21T05:34:51.219Z"
   },
   {
    "duration": 5,
    "start_time": "2021-11-21T05:34:52.691Z"
   },
   {
    "duration": 666,
    "start_time": "2021-11-21T05:34:54.484Z"
   },
   {
    "duration": 7,
    "start_time": "2021-11-21T05:35:42.493Z"
   },
   {
    "duration": 14,
    "start_time": "2021-11-21T05:36:29.624Z"
   },
   {
    "duration": 6,
    "start_time": "2021-11-21T05:36:30.813Z"
   },
   {
    "duration": 17,
    "start_time": "2021-11-21T05:36:56.299Z"
   },
   {
    "duration": 6,
    "start_time": "2021-11-21T05:36:57.245Z"
   },
   {
    "duration": 774,
    "start_time": "2021-11-21T05:37:01.848Z"
   },
   {
    "duration": 13,
    "start_time": "2021-11-21T05:37:12.838Z"
   },
   {
    "duration": 5,
    "start_time": "2021-11-21T05:37:13.588Z"
   },
   {
    "duration": 624,
    "start_time": "2021-11-21T05:37:14.806Z"
   },
   {
    "duration": 35,
    "start_time": "2021-11-21T05:38:45.120Z"
   },
   {
    "duration": 29,
    "start_time": "2021-11-21T05:40:26.214Z"
   },
   {
    "duration": 31,
    "start_time": "2021-11-21T05:40:34.197Z"
   },
   {
    "duration": 7749,
    "start_time": "2021-11-21T05:41:49.409Z"
   },
   {
    "duration": 643,
    "start_time": "2021-11-21T05:42:07.424Z"
   },
   {
    "duration": 12,
    "start_time": "2021-11-21T05:42:32.733Z"
   },
   {
    "duration": 421,
    "start_time": "2021-11-21T05:43:30.687Z"
   },
   {
    "duration": 14,
    "start_time": "2021-11-21T05:43:36.098Z"
   },
   {
    "duration": 5,
    "start_time": "2021-11-21T05:43:38.239Z"
   },
   {
    "duration": 614,
    "start_time": "2021-11-21T05:43:39.877Z"
   },
   {
    "duration": 30,
    "start_time": "2021-11-21T05:43:44.180Z"
   },
   {
    "duration": 31,
    "start_time": "2021-11-21T05:43:58.390Z"
   },
   {
    "duration": 11,
    "start_time": "2021-11-21T05:44:03.805Z"
   },
   {
    "duration": 610,
    "start_time": "2021-11-21T05:44:08.694Z"
   },
   {
    "duration": 8043,
    "start_time": "2021-11-21T05:45:01.428Z"
   },
   {
    "duration": 7,
    "start_time": "2021-11-21T05:45:15.168Z"
   },
   {
    "duration": 30,
    "start_time": "2021-11-21T05:47:48.357Z"
   },
   {
    "duration": 30,
    "start_time": "2021-11-21T05:48:05.259Z"
   },
   {
    "duration": 29,
    "start_time": "2021-11-21T05:48:34.127Z"
   },
   {
    "duration": 34,
    "start_time": "2021-11-21T05:50:00.624Z"
   },
   {
    "duration": 33,
    "start_time": "2021-11-21T05:53:12.822Z"
   },
   {
    "duration": 33,
    "start_time": "2021-11-21T05:53:30.115Z"
   },
   {
    "duration": 32,
    "start_time": "2021-11-21T05:53:43.561Z"
   },
   {
    "duration": 367,
    "start_time": "2021-11-21T05:56:07.674Z"
   },
   {
    "duration": 39,
    "start_time": "2021-11-21T05:56:13.704Z"
   },
   {
    "duration": 325,
    "start_time": "2021-11-21T05:56:50.852Z"
   },
   {
    "duration": 104,
    "start_time": "2021-11-21T05:57:33.183Z"
   },
   {
    "duration": 37,
    "start_time": "2021-11-21T05:57:39.353Z"
   },
   {
    "duration": 36,
    "start_time": "2021-11-21T05:57:48.764Z"
   },
   {
    "duration": 34,
    "start_time": "2021-11-21T05:58:18.258Z"
   },
   {
    "duration": 34,
    "start_time": "2021-11-21T05:58:36.429Z"
   },
   {
    "duration": 110,
    "start_time": "2021-11-21T05:58:58.610Z"
   },
   {
    "duration": 33,
    "start_time": "2021-11-21T05:59:07.443Z"
   },
   {
    "duration": 35,
    "start_time": "2021-11-21T05:59:24.945Z"
   },
   {
    "duration": 33,
    "start_time": "2021-11-21T06:01:44.928Z"
   },
   {
    "duration": 35,
    "start_time": "2021-11-21T06:03:41.113Z"
   },
   {
    "duration": 34,
    "start_time": "2021-11-21T06:04:03.150Z"
   },
   {
    "duration": 35,
    "start_time": "2021-11-21T06:04:07.277Z"
   },
   {
    "duration": 295,
    "start_time": "2021-11-21T06:08:19.346Z"
   },
   {
    "duration": 5,
    "start_time": "2021-11-21T06:08:30.906Z"
   },
   {
    "duration": 58,
    "start_time": "2021-11-21T06:08:40.837Z"
   },
   {
    "duration": 14,
    "start_time": "2021-11-21T06:09:10.880Z"
   },
   {
    "duration": 105,
    "start_time": "2021-11-21T06:09:19.626Z"
   },
   {
    "duration": 283,
    "start_time": "2021-11-21T06:09:28.240Z"
   },
   {
    "duration": 5,
    "start_time": "2021-11-21T06:09:42.673Z"
   },
   {
    "duration": 11,
    "start_time": "2021-11-21T06:09:44.945Z"
   },
   {
    "duration": 33,
    "start_time": "2021-11-21T06:11:14.365Z"
   },
   {
    "duration": 125,
    "start_time": "2021-11-21T06:13:00.514Z"
   },
   {
    "duration": 8,
    "start_time": "2021-11-21T06:13:05.070Z"
   },
   {
    "duration": 12,
    "start_time": "2021-11-21T06:13:07.388Z"
   },
   {
    "duration": 283,
    "start_time": "2021-11-21T06:13:10.295Z"
   },
   {
    "duration": 36,
    "start_time": "2021-11-21T06:13:18.348Z"
   },
   {
    "duration": 320,
    "start_time": "2021-11-21T06:13:41.127Z"
   },
   {
    "duration": 334,
    "start_time": "2021-11-21T06:14:09.461Z"
   },
   {
    "duration": 310,
    "start_time": "2021-11-21T06:14:29.557Z"
   },
   {
    "duration": 302,
    "start_time": "2021-11-21T06:14:47.281Z"
   },
   {
    "duration": 316,
    "start_time": "2021-11-21T06:15:03.124Z"
   },
   {
    "duration": 18,
    "start_time": "2021-11-21T06:15:52.697Z"
   },
   {
    "duration": 313,
    "start_time": "2021-11-21T06:15:56.658Z"
   },
   {
    "duration": 399,
    "start_time": "2021-11-21T06:16:07.402Z"
   },
   {
    "duration": 305,
    "start_time": "2021-11-21T06:16:22.113Z"
   },
   {
    "duration": 303,
    "start_time": "2021-11-21T06:16:40.576Z"
   },
   {
    "duration": 89,
    "start_time": "2021-11-21T06:16:44.620Z"
   },
   {
    "duration": 326,
    "start_time": "2021-11-21T06:16:48.981Z"
   },
   {
    "duration": 158,
    "start_time": "2021-11-21T06:17:08.080Z"
   },
   {
    "duration": 435,
    "start_time": "2021-11-21T06:17:11.176Z"
   },
   {
    "duration": 280,
    "start_time": "2021-11-21T06:19:52.158Z"
   },
   {
    "duration": 11,
    "start_time": "2021-11-21T06:19:58.343Z"
   },
   {
    "duration": 12,
    "start_time": "2021-11-21T06:20:14.385Z"
   },
   {
    "duration": 5,
    "start_time": "2021-11-21T06:22:10.672Z"
   },
   {
    "duration": 113,
    "start_time": "2021-11-21T06:22:10.680Z"
   },
   {
    "duration": 4,
    "start_time": "2021-11-21T06:22:10.797Z"
   },
   {
    "duration": 55,
    "start_time": "2021-11-21T06:22:10.804Z"
   },
   {
    "duration": 15,
    "start_time": "2021-11-21T06:22:10.861Z"
   },
   {
    "duration": 7,
    "start_time": "2021-11-21T06:22:10.878Z"
   },
   {
    "duration": 43,
    "start_time": "2021-11-21T06:22:10.888Z"
   },
   {
    "duration": 18,
    "start_time": "2021-11-21T06:22:10.934Z"
   },
   {
    "duration": 12,
    "start_time": "2021-11-21T06:22:10.957Z"
   },
   {
    "duration": 10,
    "start_time": "2021-11-21T06:22:10.972Z"
   },
   {
    "duration": 8,
    "start_time": "2021-11-21T06:22:11.030Z"
   },
   {
    "duration": 10,
    "start_time": "2021-11-21T06:22:11.041Z"
   },
   {
    "duration": 32,
    "start_time": "2021-11-21T06:22:11.054Z"
   },
   {
    "duration": 745,
    "start_time": "2021-11-21T06:22:11.088Z"
   },
   {
    "duration": 12,
    "start_time": "2021-11-21T06:22:11.836Z"
   },
   {
    "duration": 17,
    "start_time": "2021-11-21T06:22:11.851Z"
   },
   {
    "duration": 7,
    "start_time": "2021-11-21T06:22:11.871Z"
   },
   {
    "duration": 55,
    "start_time": "2021-11-21T06:22:11.881Z"
   },
   {
    "duration": 5,
    "start_time": "2021-11-21T06:22:11.939Z"
   },
   {
    "duration": 14,
    "start_time": "2021-11-21T06:22:11.947Z"
   },
   {
    "duration": 5,
    "start_time": "2021-11-21T06:22:11.964Z"
   },
   {
    "duration": 18,
    "start_time": "2021-11-21T06:22:11.972Z"
   },
   {
    "duration": 42,
    "start_time": "2021-11-21T06:22:11.992Z"
   },
   {
    "duration": 12,
    "start_time": "2021-11-21T06:22:12.037Z"
   },
   {
    "duration": 9,
    "start_time": "2021-11-21T06:22:12.052Z"
   },
   {
    "duration": 12,
    "start_time": "2021-11-21T06:22:12.063Z"
   },
   {
    "duration": 46,
    "start_time": "2021-11-21T06:22:12.084Z"
   },
   {
    "duration": 12,
    "start_time": "2021-11-21T06:22:12.136Z"
   },
   {
    "duration": 12,
    "start_time": "2021-11-21T06:22:12.151Z"
   },
   {
    "duration": 19,
    "start_time": "2021-11-21T06:22:12.165Z"
   },
   {
    "duration": 44,
    "start_time": "2021-11-21T06:22:12.187Z"
   },
   {
    "duration": 10,
    "start_time": "2021-11-21T06:22:12.234Z"
   },
   {
    "duration": 14,
    "start_time": "2021-11-21T06:22:12.247Z"
   },
   {
    "duration": 6,
    "start_time": "2021-11-21T06:22:12.263Z"
   },
   {
    "duration": 17,
    "start_time": "2021-11-21T06:22:12.271Z"
   },
   {
    "duration": 52,
    "start_time": "2021-11-21T06:22:12.291Z"
   },
   {
    "duration": 16,
    "start_time": "2021-11-21T06:22:12.346Z"
   },
   {
    "duration": 16,
    "start_time": "2021-11-21T06:22:12.364Z"
   },
   {
    "duration": 47,
    "start_time": "2021-11-21T06:22:12.383Z"
   },
   {
    "duration": 6,
    "start_time": "2021-11-21T06:22:12.433Z"
   },
   {
    "duration": 30,
    "start_time": "2021-11-21T06:22:12.443Z"
   },
   {
    "duration": 7,
    "start_time": "2021-11-21T06:22:12.476Z"
   },
   {
    "duration": 17,
    "start_time": "2021-11-21T06:22:12.485Z"
   },
   {
    "duration": 38,
    "start_time": "2021-11-21T06:22:12.504Z"
   },
   {
    "duration": 25,
    "start_time": "2021-11-21T06:22:12.544Z"
   },
   {
    "duration": 10,
    "start_time": "2021-11-21T06:22:12.572Z"
   },
   {
    "duration": 35,
    "start_time": "2021-11-21T06:22:12.585Z"
   },
   {
    "duration": 11,
    "start_time": "2021-11-21T06:22:12.622Z"
   },
   {
    "duration": 16,
    "start_time": "2021-11-21T06:22:12.635Z"
   },
   {
    "duration": 59,
    "start_time": "2021-11-21T06:22:12.653Z"
   },
   {
    "duration": 7,
    "start_time": "2021-11-21T06:22:12.714Z"
   },
   {
    "duration": 34,
    "start_time": "2021-11-21T06:22:12.723Z"
   },
   {
    "duration": 22,
    "start_time": "2021-11-21T06:22:12.759Z"
   },
   {
    "duration": 31,
    "start_time": "2021-11-21T06:22:12.784Z"
   },
   {
    "duration": 23,
    "start_time": "2021-11-21T06:22:12.817Z"
   },
   {
    "duration": 22,
    "start_time": "2021-11-21T06:22:12.843Z"
   },
   {
    "duration": 1402,
    "start_time": "2021-11-21T06:22:12.868Z"
   },
   {
    "duration": 8,
    "start_time": "2021-11-21T06:22:14.272Z"
   },
   {
    "duration": 19,
    "start_time": "2021-11-21T06:22:14.283Z"
   },
   {
    "duration": 26,
    "start_time": "2021-11-21T06:22:14.305Z"
   },
   {
    "duration": 25,
    "start_time": "2021-11-21T06:22:14.334Z"
   },
   {
    "duration": 6,
    "start_time": "2021-11-21T06:22:14.362Z"
   },
   {
    "duration": 14,
    "start_time": "2021-11-21T06:22:14.371Z"
   },
   {
    "duration": 44,
    "start_time": "2021-11-21T06:22:14.387Z"
   },
   {
    "duration": 37,
    "start_time": "2021-11-21T06:22:14.434Z"
   },
   {
    "duration": 22,
    "start_time": "2021-11-21T06:22:14.474Z"
   },
   {
    "duration": 15,
    "start_time": "2021-11-21T06:22:14.530Z"
   },
   {
    "duration": 16,
    "start_time": "2021-11-21T06:22:14.548Z"
   },
   {
    "duration": 10,
    "start_time": "2021-11-21T06:22:14.567Z"
   },
   {
    "duration": 16,
    "start_time": "2021-11-21T06:22:14.580Z"
   },
   {
    "duration": 34,
    "start_time": "2021-11-21T06:22:14.598Z"
   },
   {
    "duration": 18,
    "start_time": "2021-11-21T06:22:14.635Z"
   },
   {
    "duration": 11,
    "start_time": "2021-11-21T06:22:14.656Z"
   },
   {
    "duration": 10,
    "start_time": "2021-11-21T06:22:14.670Z"
   },
   {
    "duration": 7,
    "start_time": "2021-11-21T06:22:14.682Z"
   },
   {
    "duration": 40,
    "start_time": "2021-11-21T06:22:14.691Z"
   },
   {
    "duration": 21,
    "start_time": "2021-11-21T06:22:14.733Z"
   },
   {
    "duration": 576,
    "start_time": "2021-11-21T06:22:14.756Z"
   },
   {
    "duration": 12,
    "start_time": "2021-11-21T06:22:15.335Z"
   },
   {
    "duration": 515,
    "start_time": "2021-11-21T06:22:15.350Z"
   },
   {
    "duration": 12,
    "start_time": "2021-11-21T06:22:15.874Z"
   },
   {
    "duration": 453,
    "start_time": "2021-11-21T06:22:15.889Z"
   },
   {
    "duration": 14,
    "start_time": "2021-11-21T06:22:16.345Z"
   },
   {
    "duration": 589,
    "start_time": "2021-11-21T06:22:16.361Z"
   },
   {
    "duration": 15,
    "start_time": "2021-11-21T06:22:16.953Z"
   },
   {
    "duration": 612,
    "start_time": "2021-11-21T06:22:16.971Z"
   },
   {
    "duration": 11,
    "start_time": "2021-11-21T06:22:17.585Z"
   },
   {
    "duration": 30,
    "start_time": "2021-11-21T06:22:17.599Z"
   },
   {
    "duration": 8,
    "start_time": "2021-11-21T06:22:17.631Z"
   },
   {
    "duration": 20,
    "start_time": "2021-11-21T06:22:17.641Z"
   },
   {
    "duration": 5,
    "start_time": "2021-11-21T06:22:17.664Z"
   },
   {
    "duration": 697,
    "start_time": "2021-11-21T06:22:17.672Z"
   },
   {
    "duration": 60,
    "start_time": "2021-11-21T06:22:18.372Z"
   },
   {
    "duration": 44,
    "start_time": "2021-11-21T06:22:18.435Z"
   },
   {
    "duration": 704,
    "start_time": "2021-11-21T06:22:18.482Z"
   },
   {
    "duration": 6,
    "start_time": "2021-11-21T06:22:19.188Z"
   },
   {
    "duration": 51,
    "start_time": "2021-11-21T06:22:19.196Z"
   },
   {
    "duration": 32,
    "start_time": "2021-11-21T06:22:19.250Z"
   },
   {
    "duration": 56,
    "start_time": "2021-11-21T06:22:19.284Z"
   },
   {
    "duration": 34,
    "start_time": "2021-11-21T06:22:19.342Z"
   },
   {
    "duration": 57,
    "start_time": "2021-11-21T06:22:19.379Z"
   },
   {
    "duration": 33,
    "start_time": "2021-11-21T06:22:19.439Z"
   },
   {
    "duration": 6,
    "start_time": "2021-11-21T06:22:21.949Z"
   },
   {
    "duration": 9,
    "start_time": "2021-11-21T06:22:26.135Z"
   },
   {
    "duration": 12,
    "start_time": "2021-11-21T06:22:30.764Z"
   },
   {
    "duration": 310,
    "start_time": "2021-11-21T06:22:35.189Z"
   },
   {
    "duration": 8,
    "start_time": "2021-11-21T06:22:47.171Z"
   },
   {
    "duration": 330,
    "start_time": "2021-11-21T06:23:27.882Z"
   },
   {
    "duration": 469,
    "start_time": "2021-11-21T06:23:35.927Z"
   },
   {
    "duration": 11,
    "start_time": "2021-11-21T06:23:56.574Z"
   },
   {
    "duration": 7413,
    "start_time": "2021-11-21T06:24:35.196Z"
   },
   {
    "duration": 361,
    "start_time": "2021-11-21T06:24:59.832Z"
   },
   {
    "duration": 341,
    "start_time": "2021-11-21T06:25:12.332Z"
   },
   {
    "duration": 15,
    "start_time": "2021-11-21T06:25:28.853Z"
   },
   {
    "duration": 1686,
    "start_time": "2021-11-21T06:27:00.733Z"
   },
   {
    "duration": 11,
    "start_time": "2021-11-21T06:27:39.687Z"
   },
   {
    "duration": 309,
    "start_time": "2021-11-21T06:27:42.068Z"
   },
   {
    "duration": 11,
    "start_time": "2021-11-21T06:27:45.772Z"
   },
   {
    "duration": 318,
    "start_time": "2021-11-21T06:28:02.472Z"
   },
   {
    "duration": 13,
    "start_time": "2021-11-21T06:28:07.026Z"
   },
   {
    "duration": 325,
    "start_time": "2021-11-21T07:07:29.761Z"
   },
   {
    "duration": 328,
    "start_time": "2021-11-21T07:50:07.712Z"
   },
   {
    "duration": 7,
    "start_time": "2021-11-21T07:51:03.587Z"
   },
   {
    "duration": 19,
    "start_time": "2021-11-21T07:54:09.916Z"
   },
   {
    "duration": 9,
    "start_time": "2021-11-21T07:54:27.328Z"
   },
   {
    "duration": 294,
    "start_time": "2021-11-21T07:54:49.282Z"
   },
   {
    "duration": 12,
    "start_time": "2021-11-21T07:55:34.696Z"
   },
   {
    "duration": 664,
    "start_time": "2021-11-21T07:58:18.513Z"
   },
   {
    "duration": 28,
    "start_time": "2021-11-21T07:59:06.125Z"
   },
   {
    "duration": 487,
    "start_time": "2021-11-21T07:59:35.566Z"
   },
   {
    "duration": 29,
    "start_time": "2021-11-21T08:00:11.400Z"
   },
   {
    "duration": 304,
    "start_time": "2021-11-21T08:01:35.883Z"
   },
   {
    "duration": 30,
    "start_time": "2021-11-21T08:01:47.573Z"
   },
   {
    "duration": 29,
    "start_time": "2021-11-21T08:05:40.749Z"
   },
   {
    "duration": 718,
    "start_time": "2021-11-21T08:07:33.034Z"
   },
   {
    "duration": 563,
    "start_time": "2021-11-21T08:07:40.508Z"
   },
   {
    "duration": 7,
    "start_time": "2021-11-21T08:08:55.086Z"
   },
   {
    "duration": 28,
    "start_time": "2021-11-21T08:09:19.084Z"
   },
   {
    "duration": 92,
    "start_time": "2021-11-21T08:11:16.290Z"
   },
   {
    "duration": 28,
    "start_time": "2021-11-21T08:11:21.102Z"
   },
   {
    "duration": 31,
    "start_time": "2021-11-21T08:12:28.919Z"
   },
   {
    "duration": 104,
    "start_time": "2021-11-21T08:15:17.418Z"
   },
   {
    "duration": 30,
    "start_time": "2021-11-21T08:15:21.764Z"
   },
   {
    "duration": 5,
    "start_time": "2021-11-21T08:24:49.202Z"
   },
   {
    "duration": 74,
    "start_time": "2021-11-21T08:24:52.606Z"
   },
   {
    "duration": 36,
    "start_time": "2021-11-21T08:24:57.493Z"
   },
   {
    "duration": 15,
    "start_time": "2021-11-21T08:25:19.017Z"
   },
   {
    "duration": 8,
    "start_time": "2021-11-21T08:25:50.844Z"
   },
   {
    "duration": 6,
    "start_time": "2021-11-21T08:25:52.909Z"
   },
   {
    "duration": 13,
    "start_time": "2021-11-21T08:25:59.085Z"
   },
   {
    "duration": 15,
    "start_time": "2021-11-21T08:26:00.179Z"
   },
   {
    "duration": 11,
    "start_time": "2021-11-21T08:26:09.867Z"
   },
   {
    "duration": 10,
    "start_time": "2021-11-21T08:26:21.219Z"
   },
   {
    "duration": 10,
    "start_time": "2021-11-21T08:26:39.624Z"
   },
   {
    "duration": 7,
    "start_time": "2021-11-21T08:26:55.206Z"
   },
   {
    "duration": 6,
    "start_time": "2021-11-21T08:27:11.646Z"
   },
   {
    "duration": 23,
    "start_time": "2021-11-21T08:27:25.476Z"
   },
   {
    "duration": 564,
    "start_time": "2021-11-21T08:27:43.933Z"
   },
   {
    "duration": 13,
    "start_time": "2021-11-21T08:28:47.306Z"
   },
   {
    "duration": 4,
    "start_time": "2021-11-21T08:29:37.950Z"
   },
   {
    "duration": 8,
    "start_time": "2021-11-21T08:29:48.045Z"
   },
   {
    "duration": 537,
    "start_time": "2021-11-21T08:30:04.480Z"
   },
   {
    "duration": 6,
    "start_time": "2021-11-21T08:30:57.426Z"
   },
   {
    "duration": 3,
    "start_time": "2021-11-21T08:31:58.899Z"
   },
   {
    "duration": 289,
    "start_time": "2021-11-21T08:32:41.896Z"
   },
   {
    "duration": 306,
    "start_time": "2021-11-21T08:33:16.785Z"
   },
   {
    "duration": 16,
    "start_time": "2021-11-21T08:33:58.861Z"
   },
   {
    "duration": 612,
    "start_time": "2021-11-21T08:34:02.241Z"
   },
   {
    "duration": 14,
    "start_time": "2021-11-21T08:34:33.713Z"
   },
   {
    "duration": 8,
    "start_time": "2021-11-21T08:34:53.358Z"
   },
   {
    "duration": 102,
    "start_time": "2021-11-21T08:34:59.232Z"
   },
   {
    "duration": 8,
    "start_time": "2021-11-21T08:35:01.408Z"
   },
   {
    "duration": 360,
    "start_time": "2021-11-21T08:35:36.504Z"
   },
   {
    "duration": 287,
    "start_time": "2021-11-21T08:36:15.610Z"
   },
   {
    "duration": 308,
    "start_time": "2021-11-21T08:36:25.409Z"
   },
   {
    "duration": 878,
    "start_time": "2021-11-21T08:36:35.604Z"
   },
   {
    "duration": 11,
    "start_time": "2021-11-21T08:37:26.130Z"
   },
   {
    "duration": 290,
    "start_time": "2021-11-21T08:37:35.205Z"
   },
   {
    "duration": 11,
    "start_time": "2021-11-21T08:37:43.218Z"
   },
   {
    "duration": 9,
    "start_time": "2021-11-21T08:38:21.361Z"
   },
   {
    "duration": 575,
    "start_time": "2021-11-21T08:38:32.673Z"
   },
   {
    "duration": 3,
    "start_time": "2021-11-21T08:39:15.302Z"
   },
   {
    "duration": 17,
    "start_time": "2021-11-21T08:39:42.053Z"
   },
   {
    "duration": 664,
    "start_time": "2021-11-21T08:40:00.564Z"
   },
   {
    "duration": 7,
    "start_time": "2021-11-21T08:40:11.266Z"
   },
   {
    "duration": 17,
    "start_time": "2021-11-21T08:40:54.292Z"
   },
   {
    "duration": 565,
    "start_time": "2021-11-21T08:41:00.417Z"
   },
   {
    "duration": 558,
    "start_time": "2021-11-21T08:41:22.371Z"
   },
   {
    "duration": 4,
    "start_time": "2021-11-21T08:41:41.484Z"
   },
   {
    "duration": 74,
    "start_time": "2021-11-21T08:41:41.494Z"
   },
   {
    "duration": 58,
    "start_time": "2021-11-21T08:41:41.571Z"
   },
   {
    "duration": 17,
    "start_time": "2021-11-21T08:41:41.632Z"
   },
   {
    "duration": 8,
    "start_time": "2021-11-21T08:41:41.652Z"
   },
   {
    "duration": 6,
    "start_time": "2021-11-21T08:41:41.662Z"
   },
   {
    "duration": 14,
    "start_time": "2021-11-21T08:41:41.671Z"
   },
   {
    "duration": 49,
    "start_time": "2021-11-21T08:41:41.688Z"
   },
   {
    "duration": 9,
    "start_time": "2021-11-21T08:41:41.740Z"
   },
   {
    "duration": 6,
    "start_time": "2021-11-21T08:41:41.752Z"
   },
   {
    "duration": 40,
    "start_time": "2021-11-21T08:41:41.760Z"
   },
   {
    "duration": 561,
    "start_time": "2021-11-21T08:41:44.381Z"
   },
   {
    "duration": 3,
    "start_time": "2021-11-21T08:41:50.104Z"
   },
   {
    "duration": 8,
    "start_time": "2021-11-21T08:41:50.575Z"
   },
   {
    "duration": 558,
    "start_time": "2021-11-21T08:41:51.042Z"
   },
   {
    "duration": 4,
    "start_time": "2021-11-21T08:41:56.044Z"
   },
   {
    "duration": 16,
    "start_time": "2021-11-21T08:41:56.428Z"
   },
   {
    "duration": 814,
    "start_time": "2021-11-21T08:41:56.809Z"
   },
   {
    "duration": 3,
    "start_time": "2021-11-21T08:42:05.472Z"
   },
   {
    "duration": 14,
    "start_time": "2021-11-21T08:42:10.275Z"
   },
   {
    "duration": 546,
    "start_time": "2021-11-21T08:42:10.675Z"
   },
   {
    "duration": 597,
    "start_time": "2021-11-21T08:42:20.528Z"
   },
   {
    "duration": 3,
    "start_time": "2021-11-21T08:42:29.574Z"
   },
   {
    "duration": 570,
    "start_time": "2021-11-21T08:42:52.029Z"
   },
   {
    "duration": 3,
    "start_time": "2021-11-21T08:42:59.495Z"
   },
   {
    "duration": 96,
    "start_time": "2021-11-21T08:42:59.504Z"
   },
   {
    "duration": 44,
    "start_time": "2021-11-21T08:42:59.603Z"
   },
   {
    "duration": 18,
    "start_time": "2021-11-21T08:42:59.650Z"
   },
   {
    "duration": 7,
    "start_time": "2021-11-21T08:42:59.670Z"
   },
   {
    "duration": 10,
    "start_time": "2021-11-21T08:42:59.679Z"
   },
   {
    "duration": 43,
    "start_time": "2021-11-21T08:42:59.691Z"
   },
   {
    "duration": 19,
    "start_time": "2021-11-21T08:42:59.737Z"
   },
   {
    "duration": 10,
    "start_time": "2021-11-21T08:42:59.761Z"
   },
   {
    "duration": 5,
    "start_time": "2021-11-21T08:42:59.774Z"
   },
   {
    "duration": 62,
    "start_time": "2021-11-21T08:42:59.782Z"
   },
   {
    "duration": 558,
    "start_time": "2021-11-21T08:43:01.914Z"
   },
   {
    "duration": 4,
    "start_time": "2021-11-21T08:43:06.364Z"
   },
   {
    "duration": 8,
    "start_time": "2021-11-21T08:43:11.554Z"
   },
   {
    "duration": 563,
    "start_time": "2021-11-21T08:43:12.179Z"
   },
   {
    "duration": 4,
    "start_time": "2021-11-21T08:43:17.758Z"
   },
   {
    "duration": 7,
    "start_time": "2021-11-21T08:43:22.318Z"
   },
   {
    "duration": 614,
    "start_time": "2021-11-21T08:43:23.034Z"
   },
   {
    "duration": 4,
    "start_time": "2021-11-21T08:43:31.320Z"
   },
   {
    "duration": 9,
    "start_time": "2021-11-21T08:43:38.273Z"
   },
   {
    "duration": 4,
    "start_time": "2021-11-21T08:43:42.782Z"
   },
   {
    "duration": 8,
    "start_time": "2021-11-21T08:43:43.896Z"
   },
   {
    "duration": 852,
    "start_time": "2021-11-21T08:43:57.477Z"
   },
   {
    "duration": 4,
    "start_time": "2021-11-21T08:44:01.681Z"
   },
   {
    "duration": 148,
    "start_time": "2021-11-21T08:44:01.688Z"
   },
   {
    "duration": 52,
    "start_time": "2021-11-21T08:44:01.841Z"
   },
   {
    "duration": 33,
    "start_time": "2021-11-21T08:44:01.897Z"
   },
   {
    "duration": 8,
    "start_time": "2021-11-21T08:44:01.933Z"
   },
   {
    "duration": 33,
    "start_time": "2021-11-21T08:44:01.943Z"
   },
   {
    "duration": 28,
    "start_time": "2021-11-21T08:44:01.980Z"
   },
   {
    "duration": 15,
    "start_time": "2021-11-21T08:44:02.011Z"
   },
   {
    "duration": 33,
    "start_time": "2021-11-21T08:44:02.028Z"
   },
   {
    "duration": 12,
    "start_time": "2021-11-21T08:44:02.064Z"
   },
   {
    "duration": 47,
    "start_time": "2021-11-21T08:44:02.079Z"
   },
   {
    "duration": 545,
    "start_time": "2021-11-21T08:44:05.466Z"
   },
   {
    "duration": 4,
    "start_time": "2021-11-21T08:44:33.125Z"
   },
   {
    "duration": 6,
    "start_time": "2021-11-21T08:44:34.231Z"
   },
   {
    "duration": 8,
    "start_time": "2021-11-21T08:44:36.783Z"
   },
   {
    "duration": 550,
    "start_time": "2021-11-21T08:44:37.497Z"
   },
   {
    "duration": 6,
    "start_time": "2021-11-21T08:44:43.472Z"
   },
   {
    "duration": 4,
    "start_time": "2021-11-21T08:44:45.189Z"
   },
   {
    "duration": 7,
    "start_time": "2021-11-21T08:44:45.749Z"
   },
   {
    "duration": 4,
    "start_time": "2021-11-21T08:44:52.938Z"
   },
   {
    "duration": 105,
    "start_time": "2021-11-21T08:44:52.946Z"
   },
   {
    "duration": 35,
    "start_time": "2021-11-21T08:44:53.054Z"
   },
   {
    "duration": 47,
    "start_time": "2021-11-21T08:44:53.092Z"
   },
   {
    "duration": 9,
    "start_time": "2021-11-21T08:44:53.142Z"
   },
   {
    "duration": 38,
    "start_time": "2021-11-21T08:44:53.153Z"
   },
   {
    "duration": 14,
    "start_time": "2021-11-21T08:44:53.194Z"
   },
   {
    "duration": 31,
    "start_time": "2021-11-21T08:44:53.210Z"
   },
   {
    "duration": 24,
    "start_time": "2021-11-21T08:44:53.246Z"
   },
   {
    "duration": 11,
    "start_time": "2021-11-21T08:44:53.273Z"
   },
   {
    "duration": 48,
    "start_time": "2021-11-21T08:44:53.286Z"
   },
   {
    "duration": 831,
    "start_time": "2021-11-21T08:44:56.458Z"
   },
   {
    "duration": 4,
    "start_time": "2021-11-21T08:45:01.758Z"
   },
   {
    "duration": 7,
    "start_time": "2021-11-21T08:45:02.200Z"
   },
   {
    "duration": 14,
    "start_time": "2021-11-21T08:45:47.759Z"
   },
   {
    "duration": 659,
    "start_time": "2021-11-21T08:45:48.752Z"
   },
   {
    "duration": 17,
    "start_time": "2021-11-21T08:46:47.281Z"
   },
   {
    "duration": 87,
    "start_time": "2021-11-21T08:47:10.407Z"
   },
   {
    "duration": 7,
    "start_time": "2021-11-21T08:48:06.513Z"
   },
   {
    "duration": 5,
    "start_time": "2021-11-21T08:48:11.156Z"
   },
   {
    "duration": 4,
    "start_time": "2021-11-21T08:48:18.970Z"
   },
   {
    "duration": 82,
    "start_time": "2021-11-21T08:48:18.978Z"
   },
   {
    "duration": 36,
    "start_time": "2021-11-21T08:48:19.062Z"
   },
   {
    "duration": 31,
    "start_time": "2021-11-21T08:48:19.101Z"
   },
   {
    "duration": 8,
    "start_time": "2021-11-21T08:48:19.134Z"
   },
   {
    "duration": 17,
    "start_time": "2021-11-21T08:48:19.144Z"
   },
   {
    "duration": 20,
    "start_time": "2021-11-21T08:48:19.163Z"
   },
   {
    "duration": 14,
    "start_time": "2021-11-21T08:48:19.186Z"
   },
   {
    "duration": 35,
    "start_time": "2021-11-21T08:48:19.203Z"
   },
   {
    "duration": 8,
    "start_time": "2021-11-21T08:48:19.240Z"
   },
   {
    "duration": 33,
    "start_time": "2021-11-21T08:48:19.250Z"
   },
   {
    "duration": 537,
    "start_time": "2021-11-21T08:48:21.748Z"
   },
   {
    "duration": 4,
    "start_time": "2021-11-21T08:48:25.183Z"
   },
   {
    "duration": 6,
    "start_time": "2021-11-21T08:48:25.761Z"
   },
   {
    "duration": 542,
    "start_time": "2021-11-21T08:49:14.449Z"
   },
   {
    "duration": 5,
    "start_time": "2021-11-21T08:49:19.484Z"
   },
   {
    "duration": 5,
    "start_time": "2021-11-21T08:49:22.900Z"
   },
   {
    "duration": 309,
    "start_time": "2021-11-21T08:51:32.116Z"
   },
   {
    "duration": 294,
    "start_time": "2021-11-21T08:51:38.407Z"
   },
   {
    "duration": 5,
    "start_time": "2021-11-21T08:51:54.276Z"
   },
   {
    "duration": 4,
    "start_time": "2021-11-21T08:52:15.862Z"
   },
   {
    "duration": 5,
    "start_time": "2021-11-21T08:52:21.485Z"
   },
   {
    "duration": 3,
    "start_time": "2021-11-21T08:52:21.986Z"
   },
   {
    "duration": 5,
    "start_time": "2021-11-21T08:52:27.721Z"
   },
   {
    "duration": 6,
    "start_time": "2021-11-21T08:52:28.646Z"
   },
   {
    "duration": 5,
    "start_time": "2021-11-21T08:52:29.350Z"
   },
   {
    "duration": 6,
    "start_time": "2021-11-21T08:52:29.775Z"
   },
   {
    "duration": 5,
    "start_time": "2021-11-21T08:52:39.412Z"
   },
   {
    "duration": 6,
    "start_time": "2021-11-21T08:54:23.157Z"
   },
   {
    "duration": 386,
    "start_time": "2021-11-21T08:54:25.544Z"
   },
   {
    "duration": 5,
    "start_time": "2021-11-21T08:54:27.373Z"
   },
   {
    "duration": 6,
    "start_time": "2021-11-21T08:54:52.831Z"
   },
   {
    "duration": 7,
    "start_time": "2021-11-21T08:54:59.721Z"
   },
   {
    "duration": 6,
    "start_time": "2021-11-21T08:55:07.667Z"
   },
   {
    "duration": 6,
    "start_time": "2021-11-21T08:55:14.284Z"
   },
   {
    "duration": 339,
    "start_time": "2021-11-21T08:55:31.229Z"
   },
   {
    "duration": 7,
    "start_time": "2021-11-21T08:55:37.869Z"
   },
   {
    "duration": 12,
    "start_time": "2021-11-21T08:55:45.949Z"
   },
   {
    "duration": 1133,
    "start_time": "2021-11-21T08:55:53.012Z"
   },
   {
    "duration": -13680,
    "start_time": "2021-11-21T08:56:07.827Z"
   },
   {
    "duration": 449,
    "start_time": "2021-11-21T08:56:26.522Z"
   },
   {
    "duration": 297,
    "start_time": "2021-11-21T08:56:58.716Z"
   },
   {
    "duration": 6,
    "start_time": "2021-11-21T08:57:10.219Z"
   },
   {
    "duration": 11,
    "start_time": "2021-11-21T08:57:14.496Z"
   },
   {
    "duration": 11,
    "start_time": "2021-11-21T08:57:41.360Z"
   },
   {
    "duration": 529,
    "start_time": "2021-11-21T08:59:13.929Z"
   },
   {
    "duration": 11,
    "start_time": "2021-11-21T09:01:12.096Z"
   },
   {
    "duration": 288,
    "start_time": "2021-11-21T09:02:56.350Z"
   },
   {
    "duration": 15,
    "start_time": "2021-11-21T09:03:21.262Z"
   },
   {
    "duration": 133,
    "start_time": "2021-11-21T09:06:25.277Z"
   },
   {
    "duration": 20,
    "start_time": "2021-11-21T09:06:44.183Z"
   },
   {
    "duration": 8,
    "start_time": "2021-11-21T09:12:25.322Z"
   },
   {
    "duration": 284,
    "start_time": "2021-11-21T09:12:30.942Z"
   },
   {
    "duration": 546,
    "start_time": "2021-11-21T09:12:34.013Z"
   },
   {
    "duration": 11,
    "start_time": "2021-11-21T09:12:49.554Z"
   },
   {
    "duration": 5,
    "start_time": "2021-11-21T09:13:02.828Z"
   },
   {
    "duration": 12,
    "start_time": "2021-11-21T09:13:05.189Z"
   },
   {
    "duration": 5,
    "start_time": "2021-11-21T09:13:18.331Z"
   },
   {
    "duration": 13,
    "start_time": "2021-11-21T09:13:21.099Z"
   },
   {
    "duration": 5,
    "start_time": "2021-11-21T09:13:24.127Z"
   },
   {
    "duration": 12,
    "start_time": "2021-11-21T09:13:24.854Z"
   },
   {
    "duration": 13,
    "start_time": "2021-11-21T09:13:32.386Z"
   },
   {
    "duration": 11,
    "start_time": "2021-11-21T09:13:35.465Z"
   },
   {
    "duration": 5,
    "start_time": "2021-11-21T09:13:37.665Z"
   },
   {
    "duration": 59,
    "start_time": "2021-11-21T09:14:37.818Z"
   },
   {
    "duration": 15,
    "start_time": "2021-11-21T09:15:15.292Z"
   },
   {
    "duration": 9290,
    "start_time": "2021-11-21T09:15:44.356Z"
   },
   {
    "duration": 311,
    "start_time": "2021-11-21T09:16:09.337Z"
   },
   {
    "duration": 19,
    "start_time": "2021-11-21T09:16:14.517Z"
   },
   {
    "duration": 19,
    "start_time": "2021-11-21T09:16:33.476Z"
   },
   {
    "duration": 22,
    "start_time": "2021-11-21T09:16:46.828Z"
   },
   {
    "duration": 25,
    "start_time": "2021-11-21T09:17:03.751Z"
   },
   {
    "duration": 23,
    "start_time": "2021-11-21T09:17:11.920Z"
   },
   {
    "duration": 20,
    "start_time": "2021-11-21T09:17:36.086Z"
   },
   {
    "duration": 32,
    "start_time": "2021-11-21T09:18:30.674Z"
   },
   {
    "duration": 23,
    "start_time": "2021-11-21T09:19:32.177Z"
   },
   {
    "duration": 22,
    "start_time": "2021-11-21T09:20:30.839Z"
   },
   {
    "duration": 24,
    "start_time": "2021-11-21T09:21:06.881Z"
   },
   {
    "duration": 20,
    "start_time": "2021-11-21T09:22:03.642Z"
   },
   {
    "duration": 122,
    "start_time": "2021-11-21T09:23:00.416Z"
   },
   {
    "duration": 13,
    "start_time": "2021-11-21T09:23:13.535Z"
   },
   {
    "duration": 29,
    "start_time": "2021-11-21T09:23:27.992Z"
   },
   {
    "duration": 10,
    "start_time": "2021-11-21T09:24:14.112Z"
   },
   {
    "duration": 13,
    "start_time": "2021-11-21T09:24:25.722Z"
   },
   {
    "duration": 11,
    "start_time": "2021-11-21T09:25:45.665Z"
   },
   {
    "duration": 11,
    "start_time": "2021-11-21T09:26:54.603Z"
   },
   {
    "duration": 10,
    "start_time": "2021-11-21T09:27:18.404Z"
   },
   {
    "duration": -13676,
    "start_time": "2021-11-21T09:27:51.546Z"
   },
   {
    "duration": 10,
    "start_time": "2021-11-21T09:27:39.732Z"
   },
   {
    "duration": 5,
    "start_time": "2021-11-21T09:27:59.391Z"
   },
   {
    "duration": 10,
    "start_time": "2021-11-21T09:28:01.976Z"
   },
   {
    "duration": 7,
    "start_time": "2021-11-21T09:28:09.302Z"
   },
   {
    "duration": 9,
    "start_time": "2021-11-21T09:28:13.454Z"
   },
   {
    "duration": 11,
    "start_time": "2021-11-21T09:28:17.158Z"
   },
   {
    "duration": 9,
    "start_time": "2021-11-21T09:28:25.276Z"
   },
   {
    "duration": 9,
    "start_time": "2021-11-21T09:28:33.700Z"
   },
   {
    "duration": 7,
    "start_time": "2021-11-21T09:28:34.426Z"
   },
   {
    "duration": 10,
    "start_time": "2021-11-21T09:28:37.553Z"
   },
   {
    "duration": 12,
    "start_time": "2021-11-21T09:28:38.789Z"
   },
   {
    "duration": 6,
    "start_time": "2021-11-21T09:29:01.419Z"
   },
   {
    "duration": 12,
    "start_time": "2021-11-21T09:29:03.524Z"
   },
   {
    "duration": 28,
    "start_time": "2021-11-21T09:29:05.276Z"
   },
   {
    "duration": 6,
    "start_time": "2021-11-21T09:29:17.303Z"
   },
   {
    "duration": 21,
    "start_time": "2021-11-21T09:29:19.860Z"
   },
   {
    "duration": 5,
    "start_time": "2021-11-21T09:29:23.902Z"
   },
   {
    "duration": 14,
    "start_time": "2021-11-21T09:29:40.638Z"
   },
   {
    "duration": 8,
    "start_time": "2021-11-21T09:30:00.293Z"
   },
   {
    "duration": 9,
    "start_time": "2021-11-21T09:30:01.316Z"
   },
   {
    "duration": 6,
    "start_time": "2021-11-21T09:30:04.161Z"
   },
   {
    "duration": 27,
    "start_time": "2021-11-21T09:30:05.866Z"
   },
   {
    "duration": 4,
    "start_time": "2021-11-21T09:30:11.005Z"
   },
   {
    "duration": 5,
    "start_time": "2021-11-21T09:30:11.466Z"
   },
   {
    "duration": 41,
    "start_time": "2021-11-21T09:30:12.250Z"
   },
   {
    "duration": 7,
    "start_time": "2021-11-21T09:30:15.317Z"
   },
   {
    "duration": 13,
    "start_time": "2021-11-21T09:30:55.558Z"
   },
   {
    "duration": 17,
    "start_time": "2021-11-21T09:31:01.550Z"
   },
   {
    "duration": 10,
    "start_time": "2021-11-21T09:31:06.285Z"
   },
   {
    "duration": 8,
    "start_time": "2021-11-21T09:31:06.840Z"
   },
   {
    "duration": 7,
    "start_time": "2021-11-21T09:31:10.024Z"
   },
   {
    "duration": 1371,
    "start_time": "2021-11-21T09:31:12.302Z"
   },
   {
    "duration": 6,
    "start_time": "2021-11-21T09:31:13.675Z"
   },
   {
    "duration": 12,
    "start_time": "2021-11-21T09:31:24.667Z"
   },
   {
    "duration": 4,
    "start_time": "2021-11-21T09:31:48.956Z"
   },
   {
    "duration": 20,
    "start_time": "2021-11-21T09:31:49.581Z"
   },
   {
    "duration": 6,
    "start_time": "2021-11-21T09:31:51.848Z"
   },
   {
    "duration": 6,
    "start_time": "2021-11-21T09:31:53.572Z"
   },
   {
    "duration": 14,
    "start_time": "2021-11-21T09:31:58.370Z"
   },
   {
    "duration": 36,
    "start_time": "2021-11-21T09:32:02.364Z"
   },
   {
    "duration": 13,
    "start_time": "2021-11-21T09:34:01.209Z"
   },
   {
    "duration": 12,
    "start_time": "2021-11-21T09:43:15.099Z"
   },
   {
    "duration": 15,
    "start_time": "2021-11-21T09:44:23.962Z"
   },
   {
    "duration": 15,
    "start_time": "2021-11-21T09:44:24.799Z"
   },
   {
    "duration": 9,
    "start_time": "2021-11-21T09:44:25.537Z"
   },
   {
    "duration": 14,
    "start_time": "2021-11-21T09:44:27.150Z"
   },
   {
    "duration": 6,
    "start_time": "2021-11-21T09:44:30.237Z"
   },
   {
    "duration": 12,
    "start_time": "2021-11-21T09:44:31.122Z"
   },
   {
    "duration": 11,
    "start_time": "2021-11-21T09:44:42.663Z"
   },
   {
    "duration": 10,
    "start_time": "2021-11-21T09:44:43.761Z"
   },
   {
    "duration": 6,
    "start_time": "2021-11-21T09:44:46.979Z"
   },
   {
    "duration": 6,
    "start_time": "2021-11-21T09:44:52.065Z"
   },
   {
    "duration": 16,
    "start_time": "2021-11-21T09:44:54.631Z"
   },
   {
    "duration": 10,
    "start_time": "2021-11-21T09:49:10.225Z"
   },
   {
    "duration": 11,
    "start_time": "2021-11-21T09:50:11.921Z"
   },
   {
    "duration": 10,
    "start_time": "2021-11-21T09:50:21.764Z"
   },
   {
    "duration": 11,
    "start_time": "2021-11-21T09:50:33.919Z"
   },
   {
    "duration": 97,
    "start_time": "2021-11-21T09:51:36.240Z"
   },
   {
    "duration": 36,
    "start_time": "2021-11-21T09:51:40.599Z"
   },
   {
    "duration": 9,
    "start_time": "2021-11-21T09:52:10.043Z"
   },
   {
    "duration": 9,
    "start_time": "2021-11-21T09:52:21.251Z"
   },
   {
    "duration": 9,
    "start_time": "2021-11-21T09:52:32.465Z"
   },
   {
    "duration": 34,
    "start_time": "2021-11-21T09:52:41.855Z"
   },
   {
    "duration": 11,
    "start_time": "2021-11-21T09:53:44.552Z"
   },
   {
    "duration": 12,
    "start_time": "2021-11-21T09:54:13.180Z"
   },
   {
    "duration": 10,
    "start_time": "2021-11-21T09:54:23.135Z"
   },
   {
    "duration": 11,
    "start_time": "2021-11-21T09:54:51.570Z"
   },
   {
    "duration": 59,
    "start_time": "2021-11-21T09:57:01.633Z"
   },
   {
    "duration": 39,
    "start_time": "2021-11-21T09:57:14.734Z"
   },
   {
    "duration": 11,
    "start_time": "2021-11-21T09:58:32.563Z"
   },
   {
    "duration": 458,
    "start_time": "2021-11-21T09:58:42.762Z"
   },
   {
    "duration": 14,
    "start_time": "2021-11-21T09:58:46.864Z"
   },
   {
    "duration": 459,
    "start_time": "2021-11-21T09:58:48.207Z"
   },
   {
    "duration": 16,
    "start_time": "2021-11-21T09:58:51.658Z"
   },
   {
    "duration": 8,
    "start_time": "2021-11-21T09:58:53.100Z"
   },
   {
    "duration": 9,
    "start_time": "2021-11-21T09:58:55.295Z"
   },
   {
    "duration": 16,
    "start_time": "2021-11-21T09:59:31.474Z"
   },
   {
    "duration": 5,
    "start_time": "2021-11-21T09:59:32.524Z"
   },
   {
    "duration": 633,
    "start_time": "2021-11-21T09:59:42.056Z"
   },
   {
    "duration": 8,
    "start_time": "2021-11-21T10:00:49.590Z"
   },
   {
    "duration": 17,
    "start_time": "2021-11-21T10:01:11.605Z"
   },
   {
    "duration": 6,
    "start_time": "2021-11-21T10:01:12.464Z"
   },
   {
    "duration": 703,
    "start_time": "2021-11-21T10:01:14.556Z"
   },
   {
    "duration": 8,
    "start_time": "2021-11-21T10:01:19.529Z"
   },
   {
    "duration": 15,
    "start_time": "2021-11-21T10:01:30.186Z"
   },
   {
    "duration": 6,
    "start_time": "2021-11-21T10:01:30.909Z"
   },
   {
    "duration": 794,
    "start_time": "2021-11-21T10:01:31.928Z"
   },
   {
    "duration": 8,
    "start_time": "2021-11-21T10:01:35.223Z"
   },
   {
    "duration": 30,
    "start_time": "2021-11-21T10:02:55.894Z"
   },
   {
    "duration": 103,
    "start_time": "2021-11-21T10:03:46.354Z"
   },
   {
    "duration": 12,
    "start_time": "2021-11-21T10:03:49.308Z"
   },
   {
    "duration": 12,
    "start_time": "2021-11-21T10:04:03.201Z"
   },
   {
    "duration": 11,
    "start_time": "2021-11-21T10:04:12.822Z"
   },
   {
    "duration": 32,
    "start_time": "2021-11-21T10:07:02.659Z"
   },
   {
    "duration": 660,
    "start_time": "2021-11-21T10:07:10.046Z"
   },
   {
    "duration": 7,
    "start_time": "2021-11-21T10:07:22.789Z"
   },
   {
    "duration": 30,
    "start_time": "2021-11-21T10:07:35.146Z"
   },
   {
    "duration": 33,
    "start_time": "2021-11-21T10:07:48.147Z"
   },
   {
    "duration": 36,
    "start_time": "2021-11-21T10:08:17.607Z"
   },
   {
    "duration": 35,
    "start_time": "2021-11-21T10:08:25.671Z"
   },
   {
    "duration": 35,
    "start_time": "2021-11-21T10:08:43.935Z"
   },
   {
    "duration": 10,
    "start_time": "2021-11-21T10:10:38.233Z"
   },
   {
    "duration": 11,
    "start_time": "2021-11-21T10:10:39.448Z"
   },
   {
    "duration": 9,
    "start_time": "2021-11-21T10:10:44.795Z"
   },
   {
    "duration": 11,
    "start_time": "2021-11-21T10:10:51.524Z"
   },
   {
    "duration": 5,
    "start_time": "2021-11-21T10:10:55.581Z"
   },
   {
    "duration": 9,
    "start_time": "2021-11-21T10:10:57.038Z"
   },
   {
    "duration": 8,
    "start_time": "2021-11-21T10:11:02.925Z"
   },
   {
    "duration": 12,
    "start_time": "2021-11-21T10:11:04.501Z"
   },
   {
    "duration": 60,
    "start_time": "2021-11-21T10:11:30.604Z"
   },
   {
    "duration": 298,
    "start_time": "2021-11-21T10:12:07.158Z"
   },
   {
    "duration": 12,
    "start_time": "2021-11-21T10:12:52.261Z"
   },
   {
    "duration": 322,
    "start_time": "2021-11-21T10:13:20.503Z"
   },
   {
    "duration": 321,
    "start_time": "2021-11-21T10:13:56.010Z"
   },
   {
    "duration": 16,
    "start_time": "2021-11-21T10:14:17.881Z"
   },
   {
    "duration": 12,
    "start_time": "2021-11-21T10:14:22.156Z"
   },
   {
    "duration": 374,
    "start_time": "2021-11-21T10:16:50.107Z"
   },
   {
    "duration": 8,
    "start_time": "2021-11-21T10:17:08.285Z"
   },
   {
    "duration": 295,
    "start_time": "2021-11-21T10:18:23.041Z"
   },
   {
    "duration": 12,
    "start_time": "2021-11-21T10:18:25.285Z"
   },
   {
    "duration": 36,
    "start_time": "2021-11-21T10:20:45.186Z"
   },
   {
    "duration": 30,
    "start_time": "2021-11-21T10:21:16.146Z"
   },
   {
    "duration": 29,
    "start_time": "2021-11-21T10:21:20.474Z"
   },
   {
    "duration": 32,
    "start_time": "2021-11-21T10:21:25.933Z"
   },
   {
    "duration": 36,
    "start_time": "2021-11-21T10:23:22.678Z"
   },
   {
    "duration": 29,
    "start_time": "2021-11-21T10:23:33.358Z"
   },
   {
    "duration": 757,
    "start_time": "2021-11-21T15:38:55.991Z"
   },
   {
    "duration": 74,
    "start_time": "2021-11-21T15:38:56.750Z"
   },
   {
    "duration": 31,
    "start_time": "2021-11-21T15:38:56.827Z"
   },
   {
    "duration": 11,
    "start_time": "2021-11-21T15:38:56.860Z"
   },
   {
    "duration": 8,
    "start_time": "2021-11-21T15:38:56.873Z"
   },
   {
    "duration": 3,
    "start_time": "2021-11-21T15:38:56.883Z"
   },
   {
    "duration": 10,
    "start_time": "2021-11-21T15:38:56.888Z"
   },
   {
    "duration": 9,
    "start_time": "2021-11-21T15:38:56.900Z"
   },
   {
    "duration": 8,
    "start_time": "2021-11-21T15:38:56.945Z"
   },
   {
    "duration": 5,
    "start_time": "2021-11-21T15:38:56.955Z"
   },
   {
    "duration": 18,
    "start_time": "2021-11-21T15:38:56.961Z"
   },
   {
    "duration": 427,
    "start_time": "2021-11-21T15:38:56.981Z"
   },
   {
    "duration": 8,
    "start_time": "2021-11-21T15:38:57.410Z"
   },
   {
    "duration": 27,
    "start_time": "2021-11-21T15:38:57.420Z"
   },
   {
    "duration": 4,
    "start_time": "2021-11-21T15:38:57.450Z"
   },
   {
    "duration": 10,
    "start_time": "2021-11-21T15:38:57.456Z"
   },
   {
    "duration": 5,
    "start_time": "2021-11-21T15:38:57.468Z"
   },
   {
    "duration": 10,
    "start_time": "2021-11-21T15:38:57.474Z"
   },
   {
    "duration": 4,
    "start_time": "2021-11-21T15:38:57.486Z"
   },
   {
    "duration": 52,
    "start_time": "2021-11-21T15:38:57.492Z"
   },
   {
    "duration": 10,
    "start_time": "2021-11-21T15:38:57.547Z"
   },
   {
    "duration": 8,
    "start_time": "2021-11-21T15:38:57.559Z"
   },
   {
    "duration": 4,
    "start_time": "2021-11-21T15:38:57.570Z"
   },
   {
    "duration": 7,
    "start_time": "2021-11-21T15:38:57.576Z"
   },
   {
    "duration": 4,
    "start_time": "2021-11-21T15:38:57.585Z"
   },
   {
    "duration": 57,
    "start_time": "2021-11-21T15:38:57.591Z"
   },
   {
    "duration": 6,
    "start_time": "2021-11-21T15:38:57.654Z"
   },
   {
    "duration": 7,
    "start_time": "2021-11-21T15:38:57.664Z"
   },
   {
    "duration": 8,
    "start_time": "2021-11-21T15:38:57.673Z"
   },
   {
    "duration": 7,
    "start_time": "2021-11-21T15:38:57.683Z"
   },
   {
    "duration": 7,
    "start_time": "2021-11-21T15:38:57.692Z"
   },
   {
    "duration": 46,
    "start_time": "2021-11-21T15:38:57.701Z"
   },
   {
    "duration": 14,
    "start_time": "2021-11-21T15:38:57.748Z"
   },
   {
    "duration": 6,
    "start_time": "2021-11-21T15:38:57.765Z"
   },
   {
    "duration": 3,
    "start_time": "2021-11-21T15:38:57.773Z"
   },
   {
    "duration": 9,
    "start_time": "2021-11-21T15:38:57.778Z"
   },
   {
    "duration": 4,
    "start_time": "2021-11-21T15:38:57.788Z"
   },
   {
    "duration": 15,
    "start_time": "2021-11-21T15:38:57.793Z"
   },
   {
    "duration": 34,
    "start_time": "2021-11-21T15:38:57.810Z"
   },
   {
    "duration": 10,
    "start_time": "2021-11-21T15:38:57.846Z"
   },
   {
    "duration": 4,
    "start_time": "2021-11-21T15:38:57.858Z"
   },
   {
    "duration": 6,
    "start_time": "2021-11-21T15:38:57.864Z"
   },
   {
    "duration": 4,
    "start_time": "2021-11-21T15:38:57.872Z"
   },
   {
    "duration": 19,
    "start_time": "2021-11-21T15:38:57.878Z"
   },
   {
    "duration": 3,
    "start_time": "2021-11-21T15:38:57.899Z"
   },
   {
    "duration": 42,
    "start_time": "2021-11-21T15:38:57.904Z"
   },
   {
    "duration": 23,
    "start_time": "2021-11-21T15:38:57.949Z"
   },
   {
    "duration": 6,
    "start_time": "2021-11-21T15:38:57.974Z"
   },
   {
    "duration": 19,
    "start_time": "2021-11-21T15:38:57.981Z"
   },
   {
    "duration": 8,
    "start_time": "2021-11-21T15:38:58.002Z"
   },
   {
    "duration": 35,
    "start_time": "2021-11-21T15:38:58.012Z"
   },
   {
    "duration": 5,
    "start_time": "2021-11-21T15:38:58.048Z"
   },
   {
    "duration": 6,
    "start_time": "2021-11-21T15:38:58.055Z"
   },
   {
    "duration": 898,
    "start_time": "2021-11-21T15:38:58.063Z"
   },
   {
    "duration": 4,
    "start_time": "2021-11-21T15:38:58.962Z"
   },
   {
    "duration": 21,
    "start_time": "2021-11-21T15:38:58.968Z"
   },
   {
    "duration": 6,
    "start_time": "2021-11-21T15:38:58.991Z"
   },
   {
    "duration": 28,
    "start_time": "2021-11-21T15:38:58.998Z"
   },
   {
    "duration": 3,
    "start_time": "2021-11-21T15:38:59.028Z"
   },
   {
    "duration": 5,
    "start_time": "2021-11-21T15:38:59.033Z"
   },
   {
    "duration": 11,
    "start_time": "2021-11-21T15:38:59.039Z"
   },
   {
    "duration": 8,
    "start_time": "2021-11-21T15:38:59.052Z"
   },
   {
    "duration": 24,
    "start_time": "2021-11-21T15:38:59.061Z"
   },
   {
    "duration": 9,
    "start_time": "2021-11-21T15:38:59.087Z"
   },
   {
    "duration": 13,
    "start_time": "2021-11-21T15:38:59.098Z"
   },
   {
    "duration": 39,
    "start_time": "2021-11-21T15:38:59.113Z"
   },
   {
    "duration": 7,
    "start_time": "2021-11-21T15:38:59.154Z"
   },
   {
    "duration": 12,
    "start_time": "2021-11-21T15:38:59.162Z"
   },
   {
    "duration": 4,
    "start_time": "2021-11-21T15:38:59.175Z"
   },
   {
    "duration": 11,
    "start_time": "2021-11-21T15:38:59.180Z"
   },
   {
    "duration": 8,
    "start_time": "2021-11-21T15:38:59.193Z"
   },
   {
    "duration": 7,
    "start_time": "2021-11-21T15:38:59.203Z"
   },
   {
    "duration": 35,
    "start_time": "2021-11-21T15:38:59.212Z"
   },
   {
    "duration": 6,
    "start_time": "2021-11-21T15:38:59.249Z"
   },
   {
    "duration": 15,
    "start_time": "2021-11-21T15:38:59.257Z"
   },
   {
    "duration": 313,
    "start_time": "2021-11-21T15:38:59.274Z"
   },
   {
    "duration": 8,
    "start_time": "2021-11-21T15:38:59.589Z"
   },
   {
    "duration": 282,
    "start_time": "2021-11-21T15:38:59.598Z"
   },
   {
    "duration": 8,
    "start_time": "2021-11-21T15:38:59.881Z"
   },
   {
    "duration": 269,
    "start_time": "2021-11-21T15:38:59.891Z"
   },
   {
    "duration": 8,
    "start_time": "2021-11-21T15:39:00.166Z"
   },
   {
    "duration": 7,
    "start_time": "2021-11-21T15:39:00.177Z"
   },
   {
    "duration": 11,
    "start_time": "2021-11-21T15:39:00.185Z"
   },
   {
    "duration": 288,
    "start_time": "2021-11-21T15:39:00.198Z"
   },
   {
    "duration": 8,
    "start_time": "2021-11-21T15:39:00.488Z"
   },
   {
    "duration": 292,
    "start_time": "2021-11-21T15:39:00.497Z"
   },
   {
    "duration": 8,
    "start_time": "2021-11-21T15:39:00.791Z"
   },
   {
    "duration": 15,
    "start_time": "2021-11-21T15:39:00.800Z"
   },
   {
    "duration": 6,
    "start_time": "2021-11-21T15:39:00.817Z"
   },
   {
    "duration": 30,
    "start_time": "2021-11-21T15:39:00.824Z"
   },
   {
    "duration": 7,
    "start_time": "2021-11-21T15:39:00.855Z"
   },
   {
    "duration": 443,
    "start_time": "2021-11-21T15:39:00.863Z"
   },
   {
    "duration": 6,
    "start_time": "2021-11-21T15:39:01.308Z"
   },
   {
    "duration": 33,
    "start_time": "2021-11-21T15:39:01.315Z"
   },
   {
    "duration": 21,
    "start_time": "2021-11-21T15:39:01.350Z"
   },
   {
    "duration": 425,
    "start_time": "2021-11-21T15:39:01.372Z"
   },
   {
    "duration": 6,
    "start_time": "2021-11-21T15:39:01.799Z"
   },
   {
    "duration": 20,
    "start_time": "2021-11-21T15:39:01.806Z"
   },
   {
    "duration": 21,
    "start_time": "2021-11-21T15:39:01.844Z"
   },
   {
    "duration": 21,
    "start_time": "2021-11-21T15:39:01.866Z"
   },
   {
    "duration": 24,
    "start_time": "2021-11-21T15:39:01.889Z"
   },
   {
    "duration": 51,
    "start_time": "2021-11-21T15:39:01.914Z"
   },
   {
    "duration": 24,
    "start_time": "2021-11-21T15:39:01.967Z"
   },
   {
    "duration": 4,
    "start_time": "2021-11-21T15:39:01.993Z"
   },
   {
    "duration": 16,
    "start_time": "2021-11-21T15:39:01.999Z"
   },
   {
    "duration": 29,
    "start_time": "2021-11-21T15:39:02.017Z"
   },
   {
    "duration": 212,
    "start_time": "2021-11-21T15:39:02.048Z"
   },
   {
    "duration": 8,
    "start_time": "2021-11-21T15:39:02.262Z"
   },
   {
    "duration": 210,
    "start_time": "2021-11-21T15:39:02.272Z"
   },
   {
    "duration": 8,
    "start_time": "2021-11-21T15:39:02.484Z"
   },
   {
    "duration": 211,
    "start_time": "2021-11-21T15:39:02.494Z"
   },
   {
    "duration": 8,
    "start_time": "2021-11-21T15:39:02.707Z"
   },
   {
    "duration": 6,
    "start_time": "2021-11-21T15:39:02.716Z"
   },
   {
    "duration": 261,
    "start_time": "2021-11-21T15:39:02.723Z"
   },
   {
    "duration": 8,
    "start_time": "2021-11-21T15:39:02.985Z"
   },
   {
    "duration": 19,
    "start_time": "2021-11-21T15:39:02.994Z"
   },
   {
    "duration": 40,
    "start_time": "2021-11-21T15:39:03.015Z"
   },
   {
    "duration": 22,
    "start_time": "2021-11-21T15:39:03.057Z"
   },
   {
    "duration": 19,
    "start_time": "2021-11-21T15:39:03.081Z"
   },
   {
    "duration": 19,
    "start_time": "2021-11-21T15:39:03.101Z"
   },
   {
    "duration": 19,
    "start_time": "2021-11-21T15:39:03.145Z"
   },
   {
    "duration": 334,
    "start_time": "2021-11-22T05:45:31.729Z"
   },
   {
    "duration": 825,
    "start_time": "2021-11-22T05:45:40.163Z"
   },
   {
    "duration": 89,
    "start_time": "2021-11-22T05:45:40.990Z"
   },
   {
    "duration": 45,
    "start_time": "2021-11-22T05:45:41.081Z"
   },
   {
    "duration": 15,
    "start_time": "2021-11-22T05:45:41.129Z"
   },
   {
    "duration": 9,
    "start_time": "2021-11-22T05:45:41.168Z"
   },
   {
    "duration": 5,
    "start_time": "2021-11-22T05:45:41.180Z"
   },
   {
    "duration": 13,
    "start_time": "2021-11-22T05:45:41.188Z"
   },
   {
    "duration": 11,
    "start_time": "2021-11-22T05:45:41.205Z"
   },
   {
    "duration": 51,
    "start_time": "2021-11-22T05:45:41.218Z"
   },
   {
    "duration": 11,
    "start_time": "2021-11-22T05:45:41.271Z"
   },
   {
    "duration": 22,
    "start_time": "2021-11-22T05:45:41.284Z"
   },
   {
    "duration": 689,
    "start_time": "2021-11-22T05:45:41.308Z"
   },
   {
    "duration": 8,
    "start_time": "2021-11-22T05:45:41.999Z"
   },
   {
    "duration": 15,
    "start_time": "2021-11-22T05:45:42.009Z"
   },
   {
    "duration": 5,
    "start_time": "2021-11-22T05:45:42.026Z"
   },
   {
    "duration": 42,
    "start_time": "2021-11-22T05:45:42.033Z"
   },
   {
    "duration": 5,
    "start_time": "2021-11-22T05:45:42.077Z"
   },
   {
    "duration": 13,
    "start_time": "2021-11-22T05:45:42.085Z"
   },
   {
    "duration": 5,
    "start_time": "2021-11-22T05:45:42.100Z"
   },
   {
    "duration": 24,
    "start_time": "2021-11-22T05:45:42.107Z"
   },
   {
    "duration": 43,
    "start_time": "2021-11-22T05:45:42.134Z"
   },
   {
    "duration": 10,
    "start_time": "2021-11-22T05:45:42.179Z"
   },
   {
    "duration": 4,
    "start_time": "2021-11-22T05:45:42.196Z"
   },
   {
    "duration": 10,
    "start_time": "2021-11-22T05:45:42.204Z"
   },
   {
    "duration": 5,
    "start_time": "2021-11-22T05:45:42.216Z"
   },
   {
    "duration": 10,
    "start_time": "2021-11-22T05:45:42.267Z"
   },
   {
    "duration": 9,
    "start_time": "2021-11-22T05:45:42.279Z"
   },
   {
    "duration": 13,
    "start_time": "2021-11-22T05:45:42.290Z"
   },
   {
    "duration": 18,
    "start_time": "2021-11-22T05:45:42.305Z"
   },
   {
    "duration": 8,
    "start_time": "2021-11-22T05:45:42.325Z"
   },
   {
    "duration": 9,
    "start_time": "2021-11-22T05:45:42.367Z"
   },
   {
    "duration": 10,
    "start_time": "2021-11-22T05:45:42.378Z"
   },
   {
    "duration": 13,
    "start_time": "2021-11-22T05:45:42.390Z"
   },
   {
    "duration": 9,
    "start_time": "2021-11-22T05:45:42.405Z"
   },
   {
    "duration": 4,
    "start_time": "2021-11-22T05:45:42.416Z"
   },
   {
    "duration": 50,
    "start_time": "2021-11-22T05:45:42.422Z"
   },
   {
    "duration": 8,
    "start_time": "2021-11-22T05:45:42.475Z"
   },
   {
    "duration": 23,
    "start_time": "2021-11-22T05:45:42.486Z"
   },
   {
    "duration": 4,
    "start_time": "2021-11-22T05:45:42.511Z"
   },
   {
    "duration": 17,
    "start_time": "2021-11-22T05:45:42.518Z"
   },
   {
    "duration": 8,
    "start_time": "2021-11-22T05:45:42.566Z"
   },
   {
    "duration": 9,
    "start_time": "2021-11-22T05:45:42.578Z"
   },
   {
    "duration": 9,
    "start_time": "2021-11-22T05:45:42.589Z"
   },
   {
    "duration": 69,
    "start_time": "2021-11-22T05:45:42.601Z"
   },
   {
    "duration": 4,
    "start_time": "2021-11-22T05:45:42.672Z"
   },
   {
    "duration": 8,
    "start_time": "2021-11-22T05:45:42.678Z"
   },
   {
    "duration": 40,
    "start_time": "2021-11-22T05:45:42.688Z"
   },
   {
    "duration": 7,
    "start_time": "2021-11-22T05:45:42.730Z"
   },
   {
    "duration": 51,
    "start_time": "2021-11-22T05:45:42.740Z"
   },
   {
    "duration": 12,
    "start_time": "2021-11-22T05:45:42.793Z"
   },
   {
    "duration": 10,
    "start_time": "2021-11-22T05:45:42.807Z"
   },
   {
    "duration": 6,
    "start_time": "2021-11-22T05:45:42.820Z"
   },
   {
    "duration": 6,
    "start_time": "2021-11-22T05:45:42.868Z"
   },
   {
    "duration": 1458,
    "start_time": "2021-11-22T05:45:42.876Z"
   },
   {
    "duration": 6,
    "start_time": "2021-11-22T05:45:44.336Z"
   },
   {
    "duration": 27,
    "start_time": "2021-11-22T05:45:44.344Z"
   },
   {
    "duration": 4,
    "start_time": "2021-11-22T05:45:44.373Z"
   },
   {
    "duration": 21,
    "start_time": "2021-11-22T05:45:44.379Z"
   },
   {
    "duration": 4,
    "start_time": "2021-11-22T05:45:44.402Z"
   },
   {
    "duration": 11,
    "start_time": "2021-11-22T05:45:44.409Z"
   },
   {
    "duration": 46,
    "start_time": "2021-11-22T05:45:44.422Z"
   },
   {
    "duration": 12,
    "start_time": "2021-11-22T05:45:44.471Z"
   },
   {
    "duration": 39,
    "start_time": "2021-11-22T05:45:44.485Z"
   },
   {
    "duration": 42,
    "start_time": "2021-11-22T05:45:44.526Z"
   },
   {
    "duration": 18,
    "start_time": "2021-11-22T05:45:44.571Z"
   },
   {
    "duration": 19,
    "start_time": "2021-11-22T05:45:44.592Z"
   },
   {
    "duration": 10,
    "start_time": "2021-11-22T05:45:44.613Z"
   },
   {
    "duration": 17,
    "start_time": "2021-11-22T05:45:44.669Z"
   },
   {
    "duration": 5,
    "start_time": "2021-11-22T05:45:44.689Z"
   },
   {
    "duration": 19,
    "start_time": "2021-11-22T05:45:44.696Z"
   },
   {
    "duration": 15,
    "start_time": "2021-11-22T05:45:44.717Z"
   },
   {
    "duration": 38,
    "start_time": "2021-11-22T05:45:44.735Z"
   },
   {
    "duration": 7,
    "start_time": "2021-11-22T05:45:44.776Z"
   },
   {
    "duration": 9,
    "start_time": "2021-11-22T05:45:44.786Z"
   },
   {
    "duration": 25,
    "start_time": "2021-11-22T05:45:44.797Z"
   },
   {
    "duration": 799,
    "start_time": "2021-11-22T05:45:49.561Z"
   },
   {
    "duration": 677,
    "start_time": "2021-11-22T05:46:06.569Z"
   },
   {
    "duration": 421,
    "start_time": "2021-11-22T05:47:20.284Z"
   },
   {
    "duration": 461,
    "start_time": "2021-11-22T05:48:00.021Z"
   },
   {
    "duration": 478,
    "start_time": "2021-11-22T05:49:42.335Z"
   },
   {
    "duration": 91,
    "start_time": "2021-11-22T05:50:06.766Z"
   },
   {
    "duration": 412,
    "start_time": "2021-11-22T05:50:11.951Z"
   },
   {
    "duration": 469,
    "start_time": "2021-11-22T05:50:23.270Z"
   },
   {
    "duration": 489,
    "start_time": "2021-11-22T05:50:28.221Z"
   },
   {
    "duration": 489,
    "start_time": "2021-11-22T05:50:35.731Z"
   },
   {
    "duration": 511,
    "start_time": "2021-11-22T05:50:51.593Z"
   },
   {
    "duration": 410,
    "start_time": "2021-11-22T05:51:00.901Z"
   },
   {
    "duration": 575,
    "start_time": "2021-11-22T05:51:20.468Z"
   },
   {
    "duration": 87,
    "start_time": "2021-11-22T05:55:13.816Z"
   },
   {
    "duration": 1100,
    "start_time": "2021-11-22T05:57:03.652Z"
   },
   {
    "duration": 1039,
    "start_time": "2021-11-22T05:57:35.616Z"
   },
   {
    "duration": 14,
    "start_time": "2021-11-22T05:57:54.082Z"
   },
   {
    "duration": 6,
    "start_time": "2021-11-22T05:57:57.930Z"
   },
   {
    "duration": 470,
    "start_time": "2021-11-22T06:00:59.500Z"
   },
   {
    "duration": 6,
    "start_time": "2021-11-22T06:01:07.988Z"
   },
   {
    "duration": 14,
    "start_time": "2021-11-22T06:01:09.118Z"
   },
   {
    "duration": 12,
    "start_time": "2021-11-22T06:01:09.990Z"
   },
   {
    "duration": 322,
    "start_time": "2021-11-22T06:01:12.989Z"
   },
   {
    "duration": 10418,
    "start_time": "2021-11-22T06:02:29.779Z"
   },
   {
    "duration": 15,
    "start_time": "2021-11-22T06:02:46.788Z"
   },
   {
    "duration": 14,
    "start_time": "2021-11-22T06:02:57.077Z"
   },
   {
    "duration": 14,
    "start_time": "2021-11-22T06:03:03.806Z"
   },
   {
    "duration": 13,
    "start_time": "2021-11-22T06:03:14.513Z"
   },
   {
    "duration": 13,
    "start_time": "2021-11-22T06:03:33.001Z"
   },
   {
    "duration": 13,
    "start_time": "2021-11-22T06:04:21.674Z"
   },
   {
    "duration": 12,
    "start_time": "2021-11-22T06:04:58.837Z"
   },
   {
    "duration": 13,
    "start_time": "2021-11-22T06:05:22.613Z"
   },
   {
    "duration": 16,
    "start_time": "2021-11-22T06:05:31.242Z"
   },
   {
    "duration": 15,
    "start_time": "2021-11-22T06:05:39.261Z"
   },
   {
    "duration": 11,
    "start_time": "2021-11-22T06:06:56.371Z"
   },
   {
    "duration": 7449,
    "start_time": "2021-11-22T06:07:00.818Z"
   },
   {
    "duration": 10,
    "start_time": "2021-11-22T06:07:23.765Z"
   },
   {
    "duration": 339,
    "start_time": "2021-11-22T06:07:28.467Z"
   },
   {
    "duration": 13,
    "start_time": "2021-11-22T06:07:33.334Z"
   },
   {
    "duration": 357,
    "start_time": "2021-11-22T06:08:50.195Z"
   },
   {
    "duration": 12,
    "start_time": "2021-11-22T06:09:03.910Z"
   },
   {
    "duration": 13,
    "start_time": "2021-11-22T06:09:27.190Z"
   },
   {
    "duration": 364,
    "start_time": "2021-11-22T06:09:33.384Z"
   },
   {
    "duration": 11,
    "start_time": "2021-11-22T06:09:37.098Z"
   },
   {
    "duration": 30,
    "start_time": "2021-11-22T06:09:47.272Z"
   },
   {
    "duration": 29,
    "start_time": "2021-11-22T06:12:07.616Z"
   },
   {
    "duration": 29,
    "start_time": "2021-11-22T06:12:14.058Z"
   },
   {
    "duration": 31,
    "start_time": "2021-11-22T06:13:04.684Z"
   },
   {
    "duration": 30,
    "start_time": "2021-11-22T06:14:07.751Z"
   },
   {
    "duration": 5,
    "start_time": "2021-11-22T06:18:31.923Z"
   },
   {
    "duration": 423,
    "start_time": "2021-11-22T06:18:40.369Z"
   },
   {
    "duration": 98,
    "start_time": "2021-11-22T06:19:23.401Z"
   },
   {
    "duration": 88,
    "start_time": "2021-11-22T06:19:49.270Z"
   },
   {
    "duration": 5,
    "start_time": "2021-11-22T06:20:00.467Z"
   },
   {
    "duration": 5,
    "start_time": "2021-11-22T06:20:16.436Z"
   },
   {
    "duration": 5,
    "start_time": "2021-11-22T06:20:59.152Z"
   },
   {
    "duration": 101,
    "start_time": "2021-11-22T06:21:06.509Z"
   },
   {
    "duration": 87,
    "start_time": "2021-11-22T06:21:09.533Z"
   },
   {
    "duration": 117,
    "start_time": "2021-11-22T06:21:16.686Z"
   },
   {
    "duration": 5,
    "start_time": "2021-11-22T06:21:42.861Z"
   },
   {
    "duration": 5,
    "start_time": "2021-11-22T06:21:45.279Z"
   },
   {
    "duration": 5,
    "start_time": "2021-11-22T06:22:05.414Z"
   },
   {
    "duration": 5,
    "start_time": "2021-11-22T06:22:06.488Z"
   },
   {
    "duration": 5,
    "start_time": "2021-11-22T06:22:21.189Z"
   },
   {
    "duration": 5,
    "start_time": "2021-11-22T06:22:26.267Z"
   },
   {
    "duration": 6,
    "start_time": "2021-11-22T06:22:27.081Z"
   },
   {
    "duration": 8,
    "start_time": "2021-11-22T06:22:32.858Z"
   },
   {
    "duration": 6,
    "start_time": "2021-11-22T06:22:33.518Z"
   },
   {
    "duration": 1731,
    "start_time": "2021-11-22T06:22:44.728Z"
   },
   {
    "duration": 5,
    "start_time": "2021-11-22T06:22:52.875Z"
   },
   {
    "duration": 596,
    "start_time": "2021-11-22T06:22:56.373Z"
   },
   {
    "duration": 4,
    "start_time": "2021-11-22T06:23:02.459Z"
   },
   {
    "duration": 675,
    "start_time": "2021-11-22T06:23:04.032Z"
   },
   {
    "duration": 585,
    "start_time": "2021-11-22T06:34:31.028Z"
   },
   {
    "duration": 4,
    "start_time": "2021-11-22T06:35:50.374Z"
   },
   {
    "duration": 4,
    "start_time": "2021-11-22T06:37:45.981Z"
   },
   {
    "duration": 5,
    "start_time": "2021-11-22T06:38:31.005Z"
   },
   {
    "duration": 304,
    "start_time": "2021-11-22T06:38:32.256Z"
   },
   {
    "duration": 975,
    "start_time": "2021-11-22T06:38:41.443Z"
   },
   {
    "duration": 4,
    "start_time": "2021-11-22T06:38:46.719Z"
   },
   {
    "duration": 5,
    "start_time": "2021-11-22T06:39:10.210Z"
   },
   {
    "duration": 5,
    "start_time": "2021-11-22T06:39:15.843Z"
   },
   {
    "duration": 5,
    "start_time": "2021-11-22T06:39:19.139Z"
   },
   {
    "duration": 1138,
    "start_time": "2021-11-22T06:39:23.938Z"
   },
   {
    "duration": 5,
    "start_time": "2021-11-22T06:40:20.466Z"
   },
   {
    "duration": 545,
    "start_time": "2021-11-22T06:40:22.824Z"
   },
   {
    "duration": 4,
    "start_time": "2021-11-22T06:40:35.265Z"
   },
   {
    "duration": 540,
    "start_time": "2021-11-22T06:40:36.212Z"
   },
   {
    "duration": 547,
    "start_time": "2021-11-22T06:41:05.008Z"
   },
   {
    "duration": 5,
    "start_time": "2021-11-22T06:41:25.369Z"
   },
   {
    "duration": 613,
    "start_time": "2021-11-22T06:41:26.008Z"
   },
   {
    "duration": 5,
    "start_time": "2021-11-22T06:41:35.877Z"
   },
   {
    "duration": 1035,
    "start_time": "2021-11-22T06:41:36.596Z"
   },
   {
    "duration": 5,
    "start_time": "2021-11-22T06:41:44.103Z"
   },
   {
    "duration": 440,
    "start_time": "2021-11-22T06:41:44.835Z"
   },
   {
    "duration": 5,
    "start_time": "2021-11-22T06:41:51.567Z"
   },
   {
    "duration": 1011,
    "start_time": "2021-11-22T06:41:52.917Z"
   },
   {
    "duration": 5,
    "start_time": "2021-11-22T06:42:33.053Z"
   },
   {
    "duration": 1012,
    "start_time": "2021-11-22T06:42:34.016Z"
   },
   {
    "duration": 7,
    "start_time": "2021-11-22T06:42:44.620Z"
   },
   {
    "duration": 543,
    "start_time": "2021-11-22T06:42:45.254Z"
   },
   {
    "duration": 5,
    "start_time": "2021-11-22T06:42:50.947Z"
   },
   {
    "duration": 554,
    "start_time": "2021-11-22T06:42:51.520Z"
   },
   {
    "duration": 5,
    "start_time": "2021-11-22T06:42:58.561Z"
   },
   {
    "duration": 531,
    "start_time": "2021-11-22T06:42:59.572Z"
   },
   {
    "duration": 5,
    "start_time": "2021-11-22T06:44:07.702Z"
   },
   {
    "duration": 452,
    "start_time": "2021-11-22T06:44:08.678Z"
   },
   {
    "duration": 7,
    "start_time": "2021-11-22T06:44:33.463Z"
   },
   {
    "duration": 573,
    "start_time": "2021-11-22T06:44:33.975Z"
   },
   {
    "duration": 6,
    "start_time": "2021-11-22T06:44:41.271Z"
   },
   {
    "duration": 568,
    "start_time": "2021-11-22T06:44:41.837Z"
   },
   {
    "duration": 5,
    "start_time": "2021-11-22T06:45:00.540Z"
   },
   {
    "duration": 467,
    "start_time": "2021-11-22T06:45:01.491Z"
   },
   {
    "duration": 5,
    "start_time": "2021-11-22T06:45:13.908Z"
   },
   {
    "duration": 430,
    "start_time": "2021-11-22T06:45:14.361Z"
   },
   {
    "duration": 1174,
    "start_time": "2021-11-22T06:45:21.122Z"
   },
   {
    "duration": 1043,
    "start_time": "2021-11-22T06:45:29.328Z"
   },
   {
    "duration": 5,
    "start_time": "2021-11-22T06:45:41.105Z"
   },
   {
    "duration": 1035,
    "start_time": "2021-11-22T06:45:41.740Z"
   },
   {
    "duration": 1152,
    "start_time": "2021-11-22T06:45:45.521Z"
   },
   {
    "duration": 5,
    "start_time": "2021-11-22T06:46:07.910Z"
   },
   {
    "duration": 477,
    "start_time": "2021-11-22T06:46:09.208Z"
   },
   {
    "duration": 449,
    "start_time": "2021-11-22T06:46:14.927Z"
   },
   {
    "duration": 5,
    "start_time": "2021-11-22T06:46:38.419Z"
   },
   {
    "duration": 279,
    "start_time": "2021-11-22T06:46:39.355Z"
   },
   {
    "duration": 440,
    "start_time": "2021-11-22T06:46:44.127Z"
   },
   {
    "duration": 425,
    "start_time": "2021-11-22T06:46:48.822Z"
   },
   {
    "duration": 5,
    "start_time": "2021-11-22T06:47:06.986Z"
   },
   {
    "duration": 690,
    "start_time": "2021-11-22T06:47:08.021Z"
   },
   {
    "duration": 429,
    "start_time": "2021-11-22T06:47:17.079Z"
   },
   {
    "duration": 4,
    "start_time": "2021-11-22T06:47:33.842Z"
   },
   {
    "duration": 429,
    "start_time": "2021-11-22T06:47:36.713Z"
   },
   {
    "duration": 5,
    "start_time": "2021-11-22T06:47:45.582Z"
   },
   {
    "duration": 5,
    "start_time": "2021-11-22T06:48:00.131Z"
   },
   {
    "duration": 436,
    "start_time": "2021-11-22T06:48:00.578Z"
   },
   {
    "duration": 5,
    "start_time": "2021-11-22T06:48:36.151Z"
   },
   {
    "duration": 1197,
    "start_time": "2021-11-22T06:48:43.656Z"
   },
   {
    "duration": 5,
    "start_time": "2021-11-22T06:49:05.366Z"
   },
   {
    "duration": 1111,
    "start_time": "2021-11-22T06:49:06.057Z"
   },
   {
    "duration": 4,
    "start_time": "2021-11-22T06:50:22.904Z"
   },
   {
    "duration": 563,
    "start_time": "2021-11-22T06:50:25.306Z"
   },
   {
    "duration": 4,
    "start_time": "2021-11-22T06:50:30.140Z"
   },
   {
    "duration": 1025,
    "start_time": "2021-11-22T06:50:30.787Z"
   },
   {
    "duration": 4,
    "start_time": "2021-11-22T06:50:40.380Z"
   },
   {
    "duration": 1012,
    "start_time": "2021-11-22T06:50:41.462Z"
   },
   {
    "duration": 5,
    "start_time": "2021-11-22T06:52:10.166Z"
   },
   {
    "duration": 578,
    "start_time": "2021-11-22T06:52:10.687Z"
   },
   {
    "duration": 4,
    "start_time": "2021-11-22T06:52:54.057Z"
   },
   {
    "duration": 554,
    "start_time": "2021-11-22T06:52:58.391Z"
   },
   {
    "duration": 3,
    "start_time": "2021-11-22T06:53:15.147Z"
   },
   {
    "duration": 4,
    "start_time": "2021-11-22T06:54:06.961Z"
   },
   {
    "duration": 999,
    "start_time": "2021-11-22T06:54:10.256Z"
   },
   {
    "duration": 4,
    "start_time": "2021-11-22T06:55:14.488Z"
   },
   {
    "duration": 5378,
    "start_time": "2021-11-22T06:55:17.933Z"
   },
   {
    "duration": 4,
    "start_time": "2021-11-22T06:55:45.073Z"
   },
   {
    "duration": 1754,
    "start_time": "2021-11-22T06:55:47.639Z"
   },
   {
    "duration": 4,
    "start_time": "2021-11-22T06:56:28.471Z"
   },
   {
    "duration": 4,
    "start_time": "2021-11-22T06:57:12.994Z"
   },
   {
    "duration": 540,
    "start_time": "2021-11-22T06:57:14.388Z"
   },
   {
    "duration": 5,
    "start_time": "2021-11-22T06:57:31.157Z"
   },
   {
    "duration": 769,
    "start_time": "2021-11-22T06:57:32.227Z"
   },
   {
    "duration": 5,
    "start_time": "2021-11-22T06:58:05.876Z"
   },
   {
    "duration": 909,
    "start_time": "2021-11-22T06:58:06.468Z"
   },
   {
    "duration": 5,
    "start_time": "2021-11-22T06:58:26.028Z"
   },
   {
    "duration": 957,
    "start_time": "2021-11-22T06:58:26.921Z"
   },
   {
    "duration": 4,
    "start_time": "2021-11-22T06:58:44.207Z"
   },
   {
    "duration": 7519,
    "start_time": "2021-11-22T06:58:46.499Z"
   },
   {
    "duration": 5,
    "start_time": "2021-11-22T06:59:17.295Z"
   },
   {
    "duration": 598,
    "start_time": "2021-11-22T06:59:19.132Z"
   },
   {
    "duration": 4,
    "start_time": "2021-11-22T06:59:27.691Z"
   },
   {
    "duration": 778,
    "start_time": "2021-11-22T06:59:30.309Z"
   },
   {
    "duration": 4,
    "start_time": "2021-11-22T07:01:07.245Z"
   },
   {
    "duration": 1315,
    "start_time": "2021-11-22T07:01:09.308Z"
   },
   {
    "duration": 4,
    "start_time": "2021-11-22T07:01:27.113Z"
   },
   {
    "duration": 319,
    "start_time": "2021-11-22T07:01:29.358Z"
   },
   {
    "duration": 4,
    "start_time": "2021-11-22T07:01:51.941Z"
   },
   {
    "duration": 835,
    "start_time": "2021-11-22T07:01:53.705Z"
   },
   {
    "duration": 4,
    "start_time": "2021-11-22T07:02:17.266Z"
   },
   {
    "duration": 855,
    "start_time": "2021-11-22T07:02:18.912Z"
   },
   {
    "duration": 4,
    "start_time": "2021-11-22T07:07:52.977Z"
   },
   {
    "duration": 1264,
    "start_time": "2021-11-22T07:07:57.096Z"
   },
   {
    "duration": 5,
    "start_time": "2021-11-22T07:08:08.946Z"
   },
   {
    "duration": 662,
    "start_time": "2021-11-22T07:08:09.748Z"
   },
   {
    "duration": 8,
    "start_time": "2021-11-22T07:08:25.403Z"
   },
   {
    "duration": 609,
    "start_time": "2021-11-22T07:08:26.266Z"
   },
   {
    "duration": 5,
    "start_time": "2021-11-22T07:08:37.745Z"
   },
   {
    "duration": 815,
    "start_time": "2021-11-22T07:08:38.527Z"
   },
   {
    "duration": 5,
    "start_time": "2021-11-22T07:08:48.990Z"
   },
   {
    "duration": 825,
    "start_time": "2021-11-22T07:08:49.753Z"
   },
   {
    "duration": 5,
    "start_time": "2021-11-22T07:09:19.686Z"
   },
   {
    "duration": 2274,
    "start_time": "2021-11-22T07:09:21.496Z"
   },
   {
    "duration": 5,
    "start_time": "2021-11-22T07:10:04.538Z"
   },
   {
    "duration": 2301,
    "start_time": "2021-11-22T07:10:05.097Z"
   },
   {
    "duration": 4,
    "start_time": "2021-11-22T07:10:44.327Z"
   },
   {
    "duration": 956,
    "start_time": "2021-11-22T07:10:47.644Z"
   },
   {
    "duration": 1183,
    "start_time": "2021-11-22T07:10:57.163Z"
   },
   {
    "duration": 5,
    "start_time": "2021-11-22T07:11:05.197Z"
   },
   {
    "duration": 415,
    "start_time": "2021-11-22T07:11:06.059Z"
   },
   {
    "duration": 419,
    "start_time": "2021-11-22T07:11:09.292Z"
   },
   {
    "duration": 438,
    "start_time": "2021-11-22T07:11:11.380Z"
   },
   {
    "duration": 428,
    "start_time": "2021-11-22T07:11:14.184Z"
   },
   {
    "duration": 5,
    "start_time": "2021-11-22T07:11:20.847Z"
   },
   {
    "duration": 2183,
    "start_time": "2021-11-22T07:11:21.589Z"
   },
   {
    "duration": 498,
    "start_time": "2021-11-22T07:11:23.775Z"
   },
   {
    "duration": 111,
    "start_time": "2021-11-22T07:11:36.997Z"
   },
   {
    "duration": 2321,
    "start_time": "2021-11-22T07:11:37.820Z"
   },
   {
    "duration": 5,
    "start_time": "2021-11-22T07:11:53.422Z"
   },
   {
    "duration": 431,
    "start_time": "2021-11-22T07:11:54.553Z"
   },
   {
    "duration": 434,
    "start_time": "2021-11-22T07:11:57.553Z"
   },
   {
    "duration": 538,
    "start_time": "2021-11-22T07:12:00.512Z"
   },
   {
    "duration": 441,
    "start_time": "2021-11-22T07:12:01.052Z"
   },
   {
    "duration": 5,
    "start_time": "2021-11-22T07:12:29.241Z"
   },
   {
    "duration": 432,
    "start_time": "2021-11-22T07:12:29.890Z"
   },
   {
    "duration": 5,
    "start_time": "2021-11-22T07:14:11.565Z"
   },
   {
    "duration": 441,
    "start_time": "2021-11-22T07:14:12.313Z"
   },
   {
    "duration": 648,
    "start_time": "2021-11-22T07:14:15.294Z"
   },
   {
    "duration": 444,
    "start_time": "2021-11-22T07:14:17.698Z"
   },
   {
    "duration": 5,
    "start_time": "2021-11-22T07:16:00.336Z"
   },
   {
    "duration": 111,
    "start_time": "2021-11-22T07:16:04.905Z"
   },
   {
    "duration": 5,
    "start_time": "2021-11-22T07:16:15.278Z"
   },
   {
    "duration": 414,
    "start_time": "2021-11-22T07:16:16.343Z"
   },
   {
    "duration": 420,
    "start_time": "2021-11-22T07:16:21.481Z"
   },
   {
    "duration": 439,
    "start_time": "2021-11-22T07:16:22.935Z"
   },
   {
    "duration": 418,
    "start_time": "2021-11-22T07:16:26.419Z"
   },
   {
    "duration": 87,
    "start_time": "2021-11-22T07:17:17.973Z"
   },
   {
    "duration": 90,
    "start_time": "2021-11-22T07:17:23.066Z"
   },
   {
    "duration": 5,
    "start_time": "2021-11-22T07:17:56.802Z"
   },
   {
    "duration": 2906,
    "start_time": "2021-11-22T07:18:00.432Z"
   },
   {
    "duration": 5,
    "start_time": "2021-11-22T07:18:28.539Z"
   },
   {
    "duration": 569,
    "start_time": "2021-11-22T07:18:31.084Z"
   },
   {
    "duration": 539,
    "start_time": "2021-11-22T07:18:34.160Z"
   },
   {
    "duration": 430,
    "start_time": "2021-11-22T07:20:45.838Z"
   },
   {
    "duration": 428,
    "start_time": "2021-11-22T07:20:49.396Z"
   },
   {
    "duration": 5,
    "start_time": "2021-11-22T07:21:49.767Z"
   },
   {
    "duration": 455,
    "start_time": "2021-11-22T07:21:50.682Z"
   },
   {
    "duration": 454,
    "start_time": "2021-11-22T07:21:54.570Z"
   },
   {
    "duration": 91,
    "start_time": "2021-11-22T07:22:08.035Z"
   },
   {
    "duration": 5,
    "start_time": "2021-11-22T07:22:21.176Z"
   },
   {
    "duration": 402,
    "start_time": "2021-11-22T07:22:22.127Z"
   },
   {
    "duration": 398,
    "start_time": "2021-11-22T07:22:24.935Z"
   },
   {
    "duration": 6,
    "start_time": "2021-11-22T07:23:54.099Z"
   },
   {
    "duration": 435,
    "start_time": "2021-11-22T07:23:55.763Z"
   },
   {
    "duration": 443,
    "start_time": "2021-11-22T07:24:01.734Z"
   },
   {
    "duration": 957,
    "start_time": "2021-11-22T07:27:34.263Z"
   },
   {
    "duration": 4,
    "start_time": "2021-11-22T07:27:42.849Z"
   },
   {
    "duration": 5,
    "start_time": "2021-11-22T07:28:00.510Z"
   },
   {
    "duration": 5,
    "start_time": "2021-11-22T07:28:02.829Z"
   },
   {
    "duration": 7,
    "start_time": "2021-11-22T07:28:05.160Z"
   },
   {
    "duration": 188,
    "start_time": "2021-11-22T07:28:07.482Z"
   },
   {
    "duration": 277,
    "start_time": "2021-11-22T07:28:09.249Z"
   },
   {
    "duration": 4,
    "start_time": "2021-11-22T07:29:03.294Z"
   },
   {
    "duration": 273,
    "start_time": "2021-11-22T07:29:04.113Z"
   },
   {
    "duration": 5,
    "start_time": "2021-11-22T07:29:08.275Z"
   },
   {
    "duration": 11,
    "start_time": "2021-11-22T07:29:09.296Z"
   },
   {
    "duration": 6,
    "start_time": "2021-11-22T07:29:11.515Z"
   },
   {
    "duration": 4,
    "start_time": "2021-11-22T07:36:14.343Z"
   },
   {
    "duration": 435,
    "start_time": "2021-11-22T07:36:21.735Z"
   },
   {
    "duration": 616,
    "start_time": "2021-11-22T07:36:26.451Z"
   },
   {
    "duration": 5,
    "start_time": "2021-11-22T07:39:22.305Z"
   },
   {
    "duration": 3,
    "start_time": "2021-11-22T07:39:52.610Z"
   },
   {
    "duration": 428,
    "start_time": "2021-11-22T07:40:00.577Z"
   },
   {
    "duration": 6,
    "start_time": "2021-11-22T07:40:49.172Z"
   },
   {
    "duration": 4,
    "start_time": "2021-11-22T07:40:50.441Z"
   },
   {
    "duration": 445,
    "start_time": "2021-11-22T07:40:51.212Z"
   },
   {
    "duration": 5,
    "start_time": "2021-11-22T07:41:09.164Z"
   },
   {
    "duration": 4,
    "start_time": "2021-11-22T07:41:09.834Z"
   },
   {
    "duration": 448,
    "start_time": "2021-11-22T07:41:10.375Z"
   },
   {
    "duration": 5,
    "start_time": "2021-11-22T07:41:21.216Z"
   },
   {
    "duration": 3,
    "start_time": "2021-11-22T07:41:22.240Z"
   },
   {
    "duration": 426,
    "start_time": "2021-11-22T07:41:23.725Z"
   },
   {
    "duration": 13,
    "start_time": "2021-11-22T07:41:29.912Z"
   },
   {
    "duration": 462,
    "start_time": "2021-11-22T07:41:40.863Z"
   },
   {
    "duration": 7,
    "start_time": "2021-11-22T07:42:00.683Z"
   },
   {
    "duration": 5,
    "start_time": "2021-11-22T07:42:00.924Z"
   },
   {
    "duration": 563,
    "start_time": "2021-11-22T07:42:01.672Z"
   },
   {
    "duration": 570,
    "start_time": "2021-11-22T07:42:06.059Z"
   },
   {
    "duration": 15,
    "start_time": "2021-11-22T07:42:13.927Z"
   },
   {
    "duration": 480,
    "start_time": "2021-11-22T07:42:42.196Z"
   },
   {
    "duration": 12,
    "start_time": "2021-11-22T07:43:06.554Z"
   },
   {
    "duration": 11,
    "start_time": "2021-11-22T07:43:18.404Z"
   },
   {
    "duration": 11,
    "start_time": "2021-11-22T07:43:26.906Z"
   },
   {
    "duration": 496,
    "start_time": "2021-11-22T07:43:37.384Z"
   },
   {
    "duration": 702,
    "start_time": "2021-11-22T07:46:24.531Z"
   },
   {
    "duration": 13,
    "start_time": "2021-11-22T07:46:37.252Z"
   },
   {
    "duration": 9,
    "start_time": "2021-11-22T07:48:07.979Z"
   },
   {
    "duration": 5,
    "start_time": "2021-11-22T07:50:03.990Z"
   },
   {
    "duration": 284,
    "start_time": "2021-11-22T07:50:04.830Z"
   },
   {
    "duration": 4,
    "start_time": "2021-11-22T07:50:08.557Z"
   },
   {
    "duration": 645,
    "start_time": "2021-11-22T07:50:09.685Z"
   },
   {
    "duration": 490,
    "start_time": "2021-11-22T07:50:15.717Z"
   },
   {
    "duration": 476,
    "start_time": "2021-11-22T07:50:20.328Z"
   },
   {
    "duration": 5,
    "start_time": "2021-11-22T07:50:38.735Z"
   },
   {
    "duration": 4,
    "start_time": "2021-11-22T07:50:41.220Z"
   },
   {
    "duration": 446,
    "start_time": "2021-11-22T07:50:42.787Z"
   },
   {
    "duration": 13,
    "start_time": "2021-11-22T07:50:45.659Z"
   },
   {
    "duration": 492,
    "start_time": "2021-11-22T07:50:47.821Z"
   },
   {
    "duration": 478,
    "start_time": "2021-11-22T07:50:52.245Z"
   },
   {
    "duration": 529,
    "start_time": "2021-11-22T07:50:57.369Z"
   },
   {
    "duration": 484,
    "start_time": "2021-11-22T07:51:09.661Z"
   },
   {
    "duration": 277,
    "start_time": "2021-11-22T07:53:27.159Z"
   },
   {
    "duration": 5,
    "start_time": "2021-11-22T07:53:36.233Z"
   },
   {
    "duration": 3,
    "start_time": "2021-11-22T07:53:38.273Z"
   },
   {
    "duration": 454,
    "start_time": "2021-11-22T07:53:40.084Z"
   },
   {
    "duration": 5,
    "start_time": "2021-11-22T07:55:06.762Z"
   },
   {
    "duration": 4,
    "start_time": "2021-11-22T07:55:23.386Z"
   },
   {
    "duration": 6,
    "start_time": "2021-11-22T07:55:33.349Z"
   },
   {
    "duration": 453,
    "start_time": "2021-11-22T07:55:47.959Z"
   },
   {
    "duration": 13,
    "start_time": "2021-11-22T07:56:05.093Z"
   },
   {
    "duration": 299,
    "start_time": "2021-11-22T07:57:12.433Z"
   },
   {
    "duration": 4,
    "start_time": "2021-11-22T07:57:15.979Z"
   },
   {
    "duration": 339,
    "start_time": "2021-11-22T07:57:24.307Z"
   },
   {
    "duration": 472,
    "start_time": "2021-11-22T07:57:29.977Z"
   },
   {
    "duration": 3,
    "start_time": "2021-11-22T07:57:39.676Z"
   },
   {
    "duration": 716,
    "start_time": "2021-11-22T07:57:42.174Z"
   },
   {
    "duration": 4739,
    "start_time": "2021-11-22T07:58:06.297Z"
   },
   {
    "duration": 308,
    "start_time": "2021-11-22T07:58:33.025Z"
   },
   {
    "duration": 12,
    "start_time": "2021-11-22T07:58:58.088Z"
   },
   {
    "duration": 625,
    "start_time": "2021-11-22T07:59:26.528Z"
   },
   {
    "duration": 10,
    "start_time": "2021-11-22T07:59:32.142Z"
   },
   {
    "duration": 465,
    "start_time": "2021-11-22T08:00:06.812Z"
   },
   {
    "duration": 8,
    "start_time": "2021-11-22T08:00:12.457Z"
   },
   {
    "duration": 481,
    "start_time": "2021-11-22T08:00:27.367Z"
   },
   {
    "duration": 12,
    "start_time": "2021-11-22T08:00:34.678Z"
   }
  ],
  "kernelspec": {
   "display_name": "Python 3 (ipykernel)",
   "language": "python",
   "name": "python3"
  },
  "language_info": {
   "codemirror_mode": {
    "name": "ipython",
    "version": 3
   },
   "file_extension": ".py",
   "mimetype": "text/x-python",
   "name": "python",
   "nbconvert_exporter": "python",
   "pygments_lexer": "ipython3",
   "version": "3.9.5"
  },
  "toc": {
   "base_numbering": 1,
   "nav_menu": {},
   "number_sections": true,
   "sideBar": true,
   "skip_h1_title": true,
   "title_cell": "Содержание",
   "title_sidebar": "Contents",
   "toc_cell": true,
   "toc_position": {
    "height": "calc(100% - 180px)",
    "left": "10px",
    "top": "150px",
    "width": "165px"
   },
   "toc_section_display": true,
   "toc_window_display": true
  }
 },
 "nbformat": 4,
 "nbformat_minor": 2
}
