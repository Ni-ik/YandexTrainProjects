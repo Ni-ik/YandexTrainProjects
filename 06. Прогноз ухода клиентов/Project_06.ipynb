{
 "cells": [
  {
   "cell_type": "markdown",
   "metadata": {
    "toc": true
   },
   "source": [
    "<h1>Содержание<span class=\"tocSkip\"></span></h1>\n",
    "<div class=\"toc\"><ul class=\"toc-item\"><li><ul class=\"toc-item\"><li><span><a href=\"#Общее-впечатление\" data-toc-modified-id=\"Общее-впечатление-0.1\"><span class=\"toc-item-num\">0.1&nbsp;&nbsp;</span><font color=\"orange\">Общее впечатление</font></a></span></li><li><span><a href=\"#Общее-впечатление-(ревью-2)\" data-toc-modified-id=\"Общее-впечатление-(ревью-2)-0.2\"><span class=\"toc-item-num\">0.2&nbsp;&nbsp;</span><font color=\"orange\">Общее впечатление (ревью 2)</font></a></span></li></ul></li><li><span><a href=\"#Постановка-задачи\" data-toc-modified-id=\"Постановка-задачи-1\"><span class=\"toc-item-num\">1&nbsp;&nbsp;</span>Постановка задачи</a></span><ul class=\"toc-item\"><li><span><a href=\"#Цель-проекта\" data-toc-modified-id=\"Цель-проекта-1.1\"><span class=\"toc-item-num\">1.1&nbsp;&nbsp;</span>Цель проекта</a></span></li><li><span><a href=\"#Задачи-проекта\" data-toc-modified-id=\"Задачи-проекта-1.2\"><span class=\"toc-item-num\">1.2&nbsp;&nbsp;</span>Задачи проекта</a></span></li></ul></li><li><span><a href=\"#Подготовка-данных\" data-toc-modified-id=\"Подготовка-данных-2\"><span class=\"toc-item-num\">2&nbsp;&nbsp;</span>Подготовка данных</a></span><ul class=\"toc-item\"><li><span><a href=\"#Заполнени-пропусков\" data-toc-modified-id=\"Заполнени-пропусков-2.1\"><span class=\"toc-item-num\">2.1&nbsp;&nbsp;</span>Заполнени пропусков</a></span></li><li><span><a href=\"#Удаление-незначащих-признаков\" data-toc-modified-id=\"Удаление-незначащих-признаков-2.2\"><span class=\"toc-item-num\">2.2&nbsp;&nbsp;</span>Удаление незначащих признаков</a></span></li><li><span><a href=\"#Прямое-кодирование-категориальных-признаков\" data-toc-modified-id=\"Прямое-кодирование-категориальных-признаков-2.3\"><span class=\"toc-item-num\">2.3&nbsp;&nbsp;</span>Прямое кодирование категориальных признаков</a></span></li><li><span><a href=\"#Выводы\" data-toc-modified-id=\"Выводы-2.4\"><span class=\"toc-item-num\">2.4&nbsp;&nbsp;</span>Выводы</a></span></li></ul></li><li><span><a href=\"#Исследование-задачи\" data-toc-modified-id=\"Исследование-задачи-3\"><span class=\"toc-item-num\">3&nbsp;&nbsp;</span>Исследование задачи</a></span><ul class=\"toc-item\"><li><span><a href=\"#Выделение-признаков\" data-toc-modified-id=\"Выделение-признаков-3.1\"><span class=\"toc-item-num\">3.1&nbsp;&nbsp;</span>Выделение признаков</a></span></li><li><span><a href=\"#Деление-на-выборки\" data-toc-modified-id=\"Деление-на-выборки-3.2\"><span class=\"toc-item-num\">3.2&nbsp;&nbsp;</span>Деление на выборки</a></span></li><li><span><a href=\"#Масштабирование-признаков\" data-toc-modified-id=\"Масштабирование-признаков-3.3\"><span class=\"toc-item-num\">3.3&nbsp;&nbsp;</span>Масштабирование признаков</a></span></li><li><span><a href=\"#Дерево-решений\" data-toc-modified-id=\"Дерево-решений-3.4\"><span class=\"toc-item-num\">3.4&nbsp;&nbsp;</span>Дерево решений</a></span></li><li><span><a href=\"#Случайный-лес\" data-toc-modified-id=\"Случайный-лес-3.5\"><span class=\"toc-item-num\">3.5&nbsp;&nbsp;</span>Случайный лес</a></span></li><li><span><a href=\"#Логистическая-регрессия\" data-toc-modified-id=\"Логистическая-регрессия-3.6\"><span class=\"toc-item-num\">3.6&nbsp;&nbsp;</span>Логистическая регрессия</a></span></li><li><span><a href=\"#Выводы.\" data-toc-modified-id=\"Выводы.-3.7\"><span class=\"toc-item-num\">3.7&nbsp;&nbsp;</span>Выводы.</a></span></li></ul></li><li><span><a href=\"#Борьба-с-дисбалансом\" data-toc-modified-id=\"Борьба-с-дисбалансом-4\"><span class=\"toc-item-num\">4&nbsp;&nbsp;</span>Борьба с дисбалансом</a></span><ul class=\"toc-item\"><li><span><a href=\"#Учёт-весов.\" data-toc-modified-id=\"Учёт-весов.-4.1\"><span class=\"toc-item-num\">4.1&nbsp;&nbsp;</span>Учёт весов.</a></span></li><li><span><a href=\"#Увеличение-выборки\" data-toc-modified-id=\"Увеличение-выборки-4.2\"><span class=\"toc-item-num\">4.2&nbsp;&nbsp;</span>Увеличение выборки</a></span></li><li><span><a href=\"#Уменьшение-выборки\" data-toc-modified-id=\"Уменьшение-выборки-4.3\"><span class=\"toc-item-num\">4.3&nbsp;&nbsp;</span>Уменьшение выборки</a></span></li><li><span><a href=\"#Выводы\" data-toc-modified-id=\"Выводы-4.4\"><span class=\"toc-item-num\">4.4&nbsp;&nbsp;</span>Выводы</a></span></li></ul></li><li><span><a href=\"#Тестирование-модели\" data-toc-modified-id=\"Тестирование-модели-5\"><span class=\"toc-item-num\">5&nbsp;&nbsp;</span>Тестирование модели</a></span></li><li><span><a href=\"#Общие-выводы\" data-toc-modified-id=\"Общие-выводы-6\"><span class=\"toc-item-num\">6&nbsp;&nbsp;</span>Общие выводы</a></span></li><li><span><a href=\"#Чек-лист-готовности-проекта\" data-toc-modified-id=\"Чек-лист-готовности-проекта-7\"><span class=\"toc-item-num\">7&nbsp;&nbsp;</span>Чек-лист готовности проекта</a></span></li></ul></div>"
   ]
  },
  {
   "cell_type": "markdown",
   "metadata": {},
   "source": [
    "# Отток клиентов\n",
    "## Постановка задачи"
   ]
  },
  {
   "cell_type": "markdown",
   "metadata": {},
   "source": [
    "Из «Бета-Банка» стали уходить клиенты. Каждый месяц. Немного, но заметно. Банковские маркетологи посчитали: сохранять текущих клиентов дешевле, чем привлекать новых.\n",
    "\n",
    "Нужно спрогнозировать, уйдёт клиент из банка в ближайшее время или нет. Вам предоставлены исторические данные о поведении клиентов и расторжении договоров с банком. \n",
    "\n",
    "Постройте модель с предельно большим значением *F1*-меры. Чтобы сдать проект успешно, нужно довести метрику до 0.59. Проверьте *F1*-меру на тестовой выборке самостоятельно.\n",
    "\n",
    "Дополнительно измеряйте *AUC-ROC*, сравнивайте её значение с *F1*-мерой.\n",
    "\n",
    "Источник данных: [https://www.kaggle.com/barelydedicated/bank-customer-churn-modeling](https://www.kaggle.com/barelydedicated/bank-customer-churn-modeling)"
   ]
  },
  {
   "cell_type": "markdown",
   "metadata": {},
   "source": [
    "### Цель проекта\n",
    "\n",
    "Спрогнозировать, уйдёт клиент из банка в ближайшее время или нет"
   ]
  },
  {
   "cell_type": "markdown",
   "metadata": {},
   "source": [
    "### Задачи проекта\n",
    " * Исследовать баланс классов и обучить модель без учёта дисбаланса\n",
    " * Улучшите качество модели, учитывая дисбаланс классов.\n",
    " * Обучите разные модели и найдите лучшую\n",
    " * Построить модель с предельно большим значением F1-меры (не менне 0.59)\n",
    " * Измерить AUC-ROC и сравнивать её значение с F1-мерой.\n",
    "\n",
    " "
   ]
  },
  {
   "cell_type": "markdown",
   "metadata": {},
   "source": [
    "## Подготовка данных"
   ]
  },
  {
   "cell_type": "markdown",
   "metadata": {},
   "source": [
    "Импортируем библиотеки"
   ]
  },
  {
   "cell_type": "code",
   "execution_count": 1,
   "metadata": {},
   "outputs": [],
   "source": [
    "import pandas as pd\n",
    "from sklearn.preprocessing import StandardScaler\n",
    "from sklearn.model_selection import train_test_split\n",
    "from sklearn import tree\n",
    "from sklearn.ensemble import RandomForestClassifier\n",
    "from sklearn.linear_model import LogisticRegression\n",
    "from sklearn.metrics import f1_score, roc_auc_score\n",
    "from sklearn.utils import shuffle"
   ]
  },
  {
   "cell_type": "markdown",
   "metadata": {},
   "source": [
    "Читаем файл"
   ]
  },
  {
   "cell_type": "code",
   "execution_count": 2,
   "metadata": {},
   "outputs": [],
   "source": [
    "df=pd.read_csv('/datasets/Churn.csv')"
   ]
  },
  {
   "cell_type": "markdown",
   "metadata": {},
   "source": [
    "Прочитался без ошибок. Вывеедм информацию о таблице"
   ]
  },
  {
   "cell_type": "code",
   "execution_count": 3,
   "metadata": {
    "scrolled": false
   },
   "outputs": [
    {
     "name": "stdout",
     "output_type": "stream",
     "text": [
      "<class 'pandas.core.frame.DataFrame'>\n",
      "RangeIndex: 10000 entries, 0 to 9999\n",
      "Data columns (total 14 columns):\n",
      "RowNumber          10000 non-null int64\n",
      "CustomerId         10000 non-null int64\n",
      "Surname            10000 non-null object\n",
      "CreditScore        10000 non-null int64\n",
      "Geography          10000 non-null object\n",
      "Gender             10000 non-null object\n",
      "Age                10000 non-null int64\n",
      "Tenure             9091 non-null float64\n",
      "Balance            10000 non-null float64\n",
      "NumOfProducts      10000 non-null int64\n",
      "HasCrCard          10000 non-null int64\n",
      "IsActiveMember     10000 non-null int64\n",
      "EstimatedSalary    10000 non-null float64\n",
      "Exited             10000 non-null int64\n",
      "dtypes: float64(3), int64(8), object(3)\n",
      "memory usage: 1.1+ MB\n"
     ]
    }
   ],
   "source": [
    "df.info()"
   ]
  },
  {
   "cell_type": "markdown",
   "metadata": {},
   "source": [
    "Пропуски есть только в столбце `Tenure`. \n",
    "\n",
    "Согласно заданию в столбах следующие признаки:\n",
    "* `RowNumber` — индекс строки в данных\n",
    "* `CustomerId` — уникальный идентификатор клиента\n",
    "* `Surname` — фамилия\n",
    "* `CreditScore` — кредитный рейтинг\n",
    "* `Geography` — страна проживания\n",
    "* `Gender` — пол\n",
    "* `Age` — возраст\n",
    "* `Tenure` — сколько лет человек является клиентом банка\n",
    "* `Balance` — баланс на счёте\n",
    "* `NumOfProducts` — количество продуктов банка, используемых клиентом\n",
    "* `HasCrCard` — наличие кредитной карты\n",
    "* `IsActiveMember` — активность клиента\n",
    "* `EstimatedSalary` — предполагаемая зарплата\n",
    "\n",
    "Целевой признак\n",
    "* `Exited` — факт ухода клиента"
   ]
  },
  {
   "cell_type": "markdown",
   "metadata": {},
   "source": [
    "Выведем первые 5 строк"
   ]
  },
  {
   "cell_type": "code",
   "execution_count": 4,
   "metadata": {
    "scrolled": false
   },
   "outputs": [
    {
     "data": {
      "text/html": [
       "<div>\n",
       "<style scoped>\n",
       "    .dataframe tbody tr th:only-of-type {\n",
       "        vertical-align: middle;\n",
       "    }\n",
       "\n",
       "    .dataframe tbody tr th {\n",
       "        vertical-align: top;\n",
       "    }\n",
       "\n",
       "    .dataframe thead th {\n",
       "        text-align: right;\n",
       "    }\n",
       "</style>\n",
       "<table border=\"1\" class=\"dataframe\">\n",
       "  <thead>\n",
       "    <tr style=\"text-align: right;\">\n",
       "      <th></th>\n",
       "      <th>RowNumber</th>\n",
       "      <th>CustomerId</th>\n",
       "      <th>Surname</th>\n",
       "      <th>CreditScore</th>\n",
       "      <th>Geography</th>\n",
       "      <th>Gender</th>\n",
       "      <th>Age</th>\n",
       "      <th>Tenure</th>\n",
       "      <th>Balance</th>\n",
       "      <th>NumOfProducts</th>\n",
       "      <th>HasCrCard</th>\n",
       "      <th>IsActiveMember</th>\n",
       "      <th>EstimatedSalary</th>\n",
       "      <th>Exited</th>\n",
       "    </tr>\n",
       "  </thead>\n",
       "  <tbody>\n",
       "    <tr>\n",
       "      <td>0</td>\n",
       "      <td>1</td>\n",
       "      <td>15634602</td>\n",
       "      <td>Hargrave</td>\n",
       "      <td>619</td>\n",
       "      <td>France</td>\n",
       "      <td>Female</td>\n",
       "      <td>42</td>\n",
       "      <td>2.0</td>\n",
       "      <td>0.00</td>\n",
       "      <td>1</td>\n",
       "      <td>1</td>\n",
       "      <td>1</td>\n",
       "      <td>101348.88</td>\n",
       "      <td>1</td>\n",
       "    </tr>\n",
       "    <tr>\n",
       "      <td>1</td>\n",
       "      <td>2</td>\n",
       "      <td>15647311</td>\n",
       "      <td>Hill</td>\n",
       "      <td>608</td>\n",
       "      <td>Spain</td>\n",
       "      <td>Female</td>\n",
       "      <td>41</td>\n",
       "      <td>1.0</td>\n",
       "      <td>83807.86</td>\n",
       "      <td>1</td>\n",
       "      <td>0</td>\n",
       "      <td>1</td>\n",
       "      <td>112542.58</td>\n",
       "      <td>0</td>\n",
       "    </tr>\n",
       "    <tr>\n",
       "      <td>2</td>\n",
       "      <td>3</td>\n",
       "      <td>15619304</td>\n",
       "      <td>Onio</td>\n",
       "      <td>502</td>\n",
       "      <td>France</td>\n",
       "      <td>Female</td>\n",
       "      <td>42</td>\n",
       "      <td>8.0</td>\n",
       "      <td>159660.80</td>\n",
       "      <td>3</td>\n",
       "      <td>1</td>\n",
       "      <td>0</td>\n",
       "      <td>113931.57</td>\n",
       "      <td>1</td>\n",
       "    </tr>\n",
       "    <tr>\n",
       "      <td>3</td>\n",
       "      <td>4</td>\n",
       "      <td>15701354</td>\n",
       "      <td>Boni</td>\n",
       "      <td>699</td>\n",
       "      <td>France</td>\n",
       "      <td>Female</td>\n",
       "      <td>39</td>\n",
       "      <td>1.0</td>\n",
       "      <td>0.00</td>\n",
       "      <td>2</td>\n",
       "      <td>0</td>\n",
       "      <td>0</td>\n",
       "      <td>93826.63</td>\n",
       "      <td>0</td>\n",
       "    </tr>\n",
       "    <tr>\n",
       "      <td>4</td>\n",
       "      <td>5</td>\n",
       "      <td>15737888</td>\n",
       "      <td>Mitchell</td>\n",
       "      <td>850</td>\n",
       "      <td>Spain</td>\n",
       "      <td>Female</td>\n",
       "      <td>43</td>\n",
       "      <td>2.0</td>\n",
       "      <td>125510.82</td>\n",
       "      <td>1</td>\n",
       "      <td>1</td>\n",
       "      <td>1</td>\n",
       "      <td>79084.10</td>\n",
       "      <td>0</td>\n",
       "    </tr>\n",
       "  </tbody>\n",
       "</table>\n",
       "</div>"
      ],
      "text/plain": [
       "   RowNumber  CustomerId   Surname  CreditScore Geography  Gender  Age  \\\n",
       "0          1    15634602  Hargrave          619    France  Female   42   \n",
       "1          2    15647311      Hill          608     Spain  Female   41   \n",
       "2          3    15619304      Onio          502    France  Female   42   \n",
       "3          4    15701354      Boni          699    France  Female   39   \n",
       "4          5    15737888  Mitchell          850     Spain  Female   43   \n",
       "\n",
       "   Tenure    Balance  NumOfProducts  HasCrCard  IsActiveMember  \\\n",
       "0     2.0       0.00              1          1               1   \n",
       "1     1.0   83807.86              1          0               1   \n",
       "2     8.0  159660.80              3          1               0   \n",
       "3     1.0       0.00              2          0               0   \n",
       "4     2.0  125510.82              1          1               1   \n",
       "\n",
       "   EstimatedSalary  Exited  \n",
       "0        101348.88       1  \n",
       "1        112542.58       0  \n",
       "2        113931.57       1  \n",
       "3         93826.63       0  \n",
       "4         79084.10       0  "
      ]
     },
     "execution_count": 4,
     "metadata": {},
     "output_type": "execute_result"
    }
   ],
   "source": [
    "df.head()"
   ]
  },
  {
   "cell_type": "markdown",
   "metadata": {},
   "source": [
    "И выведем к-во уникальных значений"
   ]
  },
  {
   "cell_type": "code",
   "execution_count": 5,
   "metadata": {
    "scrolled": true
   },
   "outputs": [
    {
     "data": {
      "text/plain": [
       "RowNumber          10000\n",
       "CustomerId         10000\n",
       "Surname             2932\n",
       "CreditScore          460\n",
       "Geography              3\n",
       "Gender                 2\n",
       "Age                   70\n",
       "Tenure                11\n",
       "Balance             6382\n",
       "NumOfProducts          4\n",
       "HasCrCard              2\n",
       "IsActiveMember         2\n",
       "EstimatedSalary     9999\n",
       "Exited                 2\n",
       "dtype: int64"
      ]
     },
     "execution_count": 5,
     "metadata": {},
     "output_type": "execute_result"
    }
   ],
   "source": [
    "df.nunique()"
   ]
  },
  {
   "cell_type": "markdown",
   "metadata": {},
   "source": [
    "### Заполнени пропусков"
   ]
  },
  {
   "cell_type": "markdown",
   "metadata": {},
   "source": [
    "Так как в исследовании планируем использовать дерево решений, случайный лес и логистическую регрессию, которые не умеют работать с пропусками, то необходимо заполнить пропуски пропусками. Заполним пропуски 0 в столбце `Tenure` и добавим дополнительный столбец `TenureNA` в котором будем писать True, если был попуск в столбце `Tenure`."
   ]
  },
  {
   "cell_type": "code",
   "execution_count": 6,
   "metadata": {},
   "outputs": [],
   "source": [
    "df['TenureNA'] = df['Tenure'].isna()"
   ]
  },
  {
   "cell_type": "code",
   "execution_count": 7,
   "metadata": {},
   "outputs": [],
   "source": [
    "df['Tenure'] = df['Tenure'].fillna(0)"
   ]
  },
  {
   "cell_type": "code",
   "execution_count": 8,
   "metadata": {
    "scrolled": false
   },
   "outputs": [
    {
     "name": "stdout",
     "output_type": "stream",
     "text": [
      "<class 'pandas.core.frame.DataFrame'>\n",
      "RangeIndex: 10000 entries, 0 to 9999\n",
      "Data columns (total 15 columns):\n",
      "RowNumber          10000 non-null int64\n",
      "CustomerId         10000 non-null int64\n",
      "Surname            10000 non-null object\n",
      "CreditScore        10000 non-null int64\n",
      "Geography          10000 non-null object\n",
      "Gender             10000 non-null object\n",
      "Age                10000 non-null int64\n",
      "Tenure             10000 non-null float64\n",
      "Balance            10000 non-null float64\n",
      "NumOfProducts      10000 non-null int64\n",
      "HasCrCard          10000 non-null int64\n",
      "IsActiveMember     10000 non-null int64\n",
      "EstimatedSalary    10000 non-null float64\n",
      "Exited             10000 non-null int64\n",
      "TenureNA           10000 non-null bool\n",
      "dtypes: bool(1), float64(3), int64(8), object(3)\n",
      "memory usage: 1.1+ MB\n"
     ]
    }
   ],
   "source": [
    "df.info()"
   ]
  },
  {
   "cell_type": "markdown",
   "metadata": {},
   "source": [
    "Теперь пропусков нет"
   ]
  },
  {
   "cell_type": "markdown",
   "metadata": {},
   "source": [
    "### Удаление незначащих признаков"
   ]
  },
  {
   "cell_type": "markdown",
   "metadata": {},
   "source": [
    "Видим, что столбец `RowNumber` фактически дублирует индекс. Этот столбец можно дропнуть. Также не имеющие значимости признаки - это `СustomerId` и\t`Surname`. Маловероятно, что фамилия клиента влияла на то, уйдёт он или нет."
   ]
  },
  {
   "cell_type": "code",
   "execution_count": 9,
   "metadata": {},
   "outputs": [],
   "source": [
    "df = df.drop(['RowNumber','CustomerId', 'Surname'], axis = 1 )"
   ]
  },
  {
   "cell_type": "code",
   "execution_count": 10,
   "metadata": {
    "scrolled": false
   },
   "outputs": [
    {
     "data": {
      "text/html": [
       "<div>\n",
       "<style scoped>\n",
       "    .dataframe tbody tr th:only-of-type {\n",
       "        vertical-align: middle;\n",
       "    }\n",
       "\n",
       "    .dataframe tbody tr th {\n",
       "        vertical-align: top;\n",
       "    }\n",
       "\n",
       "    .dataframe thead th {\n",
       "        text-align: right;\n",
       "    }\n",
       "</style>\n",
       "<table border=\"1\" class=\"dataframe\">\n",
       "  <thead>\n",
       "    <tr style=\"text-align: right;\">\n",
       "      <th></th>\n",
       "      <th>CreditScore</th>\n",
       "      <th>Geography</th>\n",
       "      <th>Gender</th>\n",
       "      <th>Age</th>\n",
       "      <th>Tenure</th>\n",
       "      <th>Balance</th>\n",
       "      <th>NumOfProducts</th>\n",
       "      <th>HasCrCard</th>\n",
       "      <th>IsActiveMember</th>\n",
       "      <th>EstimatedSalary</th>\n",
       "      <th>Exited</th>\n",
       "      <th>TenureNA</th>\n",
       "    </tr>\n",
       "  </thead>\n",
       "  <tbody>\n",
       "    <tr>\n",
       "      <td>0</td>\n",
       "      <td>619</td>\n",
       "      <td>France</td>\n",
       "      <td>Female</td>\n",
       "      <td>42</td>\n",
       "      <td>2.0</td>\n",
       "      <td>0.00</td>\n",
       "      <td>1</td>\n",
       "      <td>1</td>\n",
       "      <td>1</td>\n",
       "      <td>101348.88</td>\n",
       "      <td>1</td>\n",
       "      <td>False</td>\n",
       "    </tr>\n",
       "    <tr>\n",
       "      <td>1</td>\n",
       "      <td>608</td>\n",
       "      <td>Spain</td>\n",
       "      <td>Female</td>\n",
       "      <td>41</td>\n",
       "      <td>1.0</td>\n",
       "      <td>83807.86</td>\n",
       "      <td>1</td>\n",
       "      <td>0</td>\n",
       "      <td>1</td>\n",
       "      <td>112542.58</td>\n",
       "      <td>0</td>\n",
       "      <td>False</td>\n",
       "    </tr>\n",
       "    <tr>\n",
       "      <td>2</td>\n",
       "      <td>502</td>\n",
       "      <td>France</td>\n",
       "      <td>Female</td>\n",
       "      <td>42</td>\n",
       "      <td>8.0</td>\n",
       "      <td>159660.80</td>\n",
       "      <td>3</td>\n",
       "      <td>1</td>\n",
       "      <td>0</td>\n",
       "      <td>113931.57</td>\n",
       "      <td>1</td>\n",
       "      <td>False</td>\n",
       "    </tr>\n",
       "    <tr>\n",
       "      <td>3</td>\n",
       "      <td>699</td>\n",
       "      <td>France</td>\n",
       "      <td>Female</td>\n",
       "      <td>39</td>\n",
       "      <td>1.0</td>\n",
       "      <td>0.00</td>\n",
       "      <td>2</td>\n",
       "      <td>0</td>\n",
       "      <td>0</td>\n",
       "      <td>93826.63</td>\n",
       "      <td>0</td>\n",
       "      <td>False</td>\n",
       "    </tr>\n",
       "    <tr>\n",
       "      <td>4</td>\n",
       "      <td>850</td>\n",
       "      <td>Spain</td>\n",
       "      <td>Female</td>\n",
       "      <td>43</td>\n",
       "      <td>2.0</td>\n",
       "      <td>125510.82</td>\n",
       "      <td>1</td>\n",
       "      <td>1</td>\n",
       "      <td>1</td>\n",
       "      <td>79084.10</td>\n",
       "      <td>0</td>\n",
       "      <td>False</td>\n",
       "    </tr>\n",
       "  </tbody>\n",
       "</table>\n",
       "</div>"
      ],
      "text/plain": [
       "   CreditScore Geography  Gender  Age  Tenure    Balance  NumOfProducts  \\\n",
       "0          619    France  Female   42     2.0       0.00              1   \n",
       "1          608     Spain  Female   41     1.0   83807.86              1   \n",
       "2          502    France  Female   42     8.0  159660.80              3   \n",
       "3          699    France  Female   39     1.0       0.00              2   \n",
       "4          850     Spain  Female   43     2.0  125510.82              1   \n",
       "\n",
       "   HasCrCard  IsActiveMember  EstimatedSalary  Exited  TenureNA  \n",
       "0          1               1        101348.88       1     False  \n",
       "1          0               1        112542.58       0     False  \n",
       "2          1               0        113931.57       1     False  \n",
       "3          0               0         93826.63       0     False  \n",
       "4          1               1         79084.10       0     False  "
      ]
     },
     "execution_count": 10,
     "metadata": {},
     "output_type": "execute_result"
    }
   ],
   "source": [
    "df.head()"
   ]
  },
  {
   "cell_type": "markdown",
   "metadata": {},
   "source": [
    "### Прямое кодирование категориальных признаков"
   ]
  },
  {
   "cell_type": "markdown",
   "metadata": {},
   "source": [
    "Некоторые столбцы не имеют числового типа. Это `Geography`, `Gender`. Ранее показали, что уникальных значений у `Geography` 3, а у `Gender` - 2. Имеет смысл их заменить дамми-переменными. Для уменьшения к-ва столбцов в дамми-переменных первый столбец дропнем."
   ]
  },
  {
   "cell_type": "code",
   "execution_count": 11,
   "metadata": {
    "scrolled": true
   },
   "outputs": [],
   "source": [
    "df = pd.get_dummies(df, drop_first=True)"
   ]
  },
  {
   "cell_type": "code",
   "execution_count": 12,
   "metadata": {
    "scrolled": false
   },
   "outputs": [
    {
     "data": {
      "text/html": [
       "<div>\n",
       "<style scoped>\n",
       "    .dataframe tbody tr th:only-of-type {\n",
       "        vertical-align: middle;\n",
       "    }\n",
       "\n",
       "    .dataframe tbody tr th {\n",
       "        vertical-align: top;\n",
       "    }\n",
       "\n",
       "    .dataframe thead th {\n",
       "        text-align: right;\n",
       "    }\n",
       "</style>\n",
       "<table border=\"1\" class=\"dataframe\">\n",
       "  <thead>\n",
       "    <tr style=\"text-align: right;\">\n",
       "      <th></th>\n",
       "      <th>CreditScore</th>\n",
       "      <th>Age</th>\n",
       "      <th>Tenure</th>\n",
       "      <th>Balance</th>\n",
       "      <th>NumOfProducts</th>\n",
       "      <th>HasCrCard</th>\n",
       "      <th>IsActiveMember</th>\n",
       "      <th>EstimatedSalary</th>\n",
       "      <th>Exited</th>\n",
       "      <th>TenureNA</th>\n",
       "      <th>Geography_Germany</th>\n",
       "      <th>Geography_Spain</th>\n",
       "      <th>Gender_Male</th>\n",
       "    </tr>\n",
       "  </thead>\n",
       "  <tbody>\n",
       "    <tr>\n",
       "      <td>0</td>\n",
       "      <td>619</td>\n",
       "      <td>42</td>\n",
       "      <td>2.0</td>\n",
       "      <td>0.00</td>\n",
       "      <td>1</td>\n",
       "      <td>1</td>\n",
       "      <td>1</td>\n",
       "      <td>101348.88</td>\n",
       "      <td>1</td>\n",
       "      <td>False</td>\n",
       "      <td>0</td>\n",
       "      <td>0</td>\n",
       "      <td>0</td>\n",
       "    </tr>\n",
       "    <tr>\n",
       "      <td>1</td>\n",
       "      <td>608</td>\n",
       "      <td>41</td>\n",
       "      <td>1.0</td>\n",
       "      <td>83807.86</td>\n",
       "      <td>1</td>\n",
       "      <td>0</td>\n",
       "      <td>1</td>\n",
       "      <td>112542.58</td>\n",
       "      <td>0</td>\n",
       "      <td>False</td>\n",
       "      <td>0</td>\n",
       "      <td>1</td>\n",
       "      <td>0</td>\n",
       "    </tr>\n",
       "    <tr>\n",
       "      <td>2</td>\n",
       "      <td>502</td>\n",
       "      <td>42</td>\n",
       "      <td>8.0</td>\n",
       "      <td>159660.80</td>\n",
       "      <td>3</td>\n",
       "      <td>1</td>\n",
       "      <td>0</td>\n",
       "      <td>113931.57</td>\n",
       "      <td>1</td>\n",
       "      <td>False</td>\n",
       "      <td>0</td>\n",
       "      <td>0</td>\n",
       "      <td>0</td>\n",
       "    </tr>\n",
       "    <tr>\n",
       "      <td>3</td>\n",
       "      <td>699</td>\n",
       "      <td>39</td>\n",
       "      <td>1.0</td>\n",
       "      <td>0.00</td>\n",
       "      <td>2</td>\n",
       "      <td>0</td>\n",
       "      <td>0</td>\n",
       "      <td>93826.63</td>\n",
       "      <td>0</td>\n",
       "      <td>False</td>\n",
       "      <td>0</td>\n",
       "      <td>0</td>\n",
       "      <td>0</td>\n",
       "    </tr>\n",
       "    <tr>\n",
       "      <td>4</td>\n",
       "      <td>850</td>\n",
       "      <td>43</td>\n",
       "      <td>2.0</td>\n",
       "      <td>125510.82</td>\n",
       "      <td>1</td>\n",
       "      <td>1</td>\n",
       "      <td>1</td>\n",
       "      <td>79084.10</td>\n",
       "      <td>0</td>\n",
       "      <td>False</td>\n",
       "      <td>0</td>\n",
       "      <td>1</td>\n",
       "      <td>0</td>\n",
       "    </tr>\n",
       "  </tbody>\n",
       "</table>\n",
       "</div>"
      ],
      "text/plain": [
       "   CreditScore  Age  Tenure    Balance  NumOfProducts  HasCrCard  \\\n",
       "0          619   42     2.0       0.00              1          1   \n",
       "1          608   41     1.0   83807.86              1          0   \n",
       "2          502   42     8.0  159660.80              3          1   \n",
       "3          699   39     1.0       0.00              2          0   \n",
       "4          850   43     2.0  125510.82              1          1   \n",
       "\n",
       "   IsActiveMember  EstimatedSalary  Exited  TenureNA  Geography_Germany  \\\n",
       "0               1        101348.88       1     False                  0   \n",
       "1               1        112542.58       0     False                  0   \n",
       "2               0        113931.57       1     False                  0   \n",
       "3               0         93826.63       0     False                  0   \n",
       "4               1         79084.10       0     False                  0   \n",
       "\n",
       "   Geography_Spain  Gender_Male  \n",
       "0                0            0  \n",
       "1                1            0  \n",
       "2                0            0  \n",
       "3                0            0  \n",
       "4                1            0  "
      ]
     },
     "execution_count": 12,
     "metadata": {},
     "output_type": "execute_result"
    }
   ],
   "source": [
    "df.head()"
   ]
  },
  {
   "cell_type": "markdown",
   "metadata": {},
   "source": [
    "### Выводы\n",
    "\n",
    "Файл открылся без ошибок. Столбцы соответствуют заявленным. Пропуски были в одном столбце. Их земенили и ввели доп.признак. Категориальные признаки закодировали по OHE."
   ]
  },
  {
   "cell_type": "markdown",
   "metadata": {},
   "source": [
    "## Исследование задачи"
   ]
  },
  {
   "cell_type": "markdown",
   "metadata": {},
   "source": [
    "### Выделение признаков\n",
    "Для начала выделим признаки, на основании которых будет производиться кобучение. Это все признаки, кроме `Exited`."
   ]
  },
  {
   "cell_type": "code",
   "execution_count": 13,
   "metadata": {},
   "outputs": [],
   "source": [
    "features = df.drop('Exited', axis=1) "
   ]
  },
  {
   "cell_type": "markdown",
   "metadata": {},
   "source": [
    "Целевой показатель - `Exited`, который определяет ушёл клиент или нет"
   ]
  },
  {
   "cell_type": "code",
   "execution_count": 14,
   "metadata": {},
   "outputs": [],
   "source": [
    "target = df['Exited']"
   ]
  },
  {
   "cell_type": "markdown",
   "metadata": {},
   "source": [
    "Посмотрим на баланс классов"
   ]
  },
  {
   "cell_type": "code",
   "execution_count": 15,
   "metadata": {},
   "outputs": [
    {
     "data": {
      "text/plain": [
       "0    0.7963\n",
       "1    0.2037\n",
       "Name: Exited, dtype: float64"
      ]
     },
     "execution_count": 15,
     "metadata": {},
     "output_type": "execute_result"
    }
   ],
   "source": [
    "target.value_counts(normalize=True)"
   ]
  },
  {
   "cell_type": "markdown",
   "metadata": {},
   "source": [
    "Видим, что соотношение клиентов которые остались к тем, кто покинул банк примерно 80/20."
   ]
  },
  {
   "cell_type": "markdown",
   "metadata": {},
   "source": [
    "### Деление на выборки\n",
    "Разделим данные в отношении 3:1:1 на тренировочную, валидационную и тестовую выборки. На тестовой и валидационной будем выбирать лучшую модель, а зетем её проверим на тестовой. Отделим сначала тестовую выборку."
   ]
  },
  {
   "cell_type": "code",
   "execution_count": 16,
   "metadata": {},
   "outputs": [],
   "source": [
    "features_train, features_test, target_train, target_test= train_test_split(\n",
    "    features, target, test_size=0.2, random_state = 12345)"
   ]
  },
  {
   "cell_type": "markdown",
   "metadata": {},
   "source": [
    "Затем из оставшейся выборки `features_train` и `target_train` ещё раз выделим валидационную выборку. Её размер примем как размер тестовой, но с учётом уменьшения размера исходной выборки, параметр `test_size` будет равен 0.2/0.8 = 0.25"
   ]
  },
  {
   "cell_type": "code",
   "execution_count": 17,
   "metadata": {},
   "outputs": [],
   "source": [
    "features_train, features_valid, target_train, target_valid = train_test_split(\n",
    "    features_train, target_train, test_size=0.25, random_state = 12345)"
   ]
  },
  {
   "cell_type": "markdown",
   "metadata": {},
   "source": [
    "Посмотрим, как разделились данные"
   ]
  },
  {
   "cell_type": "code",
   "execution_count": 18,
   "metadata": {},
   "outputs": [
    {
     "data": {
      "text/plain": [
       "(6000, 2000, 2000)"
      ]
     },
     "execution_count": 18,
     "metadata": {},
     "output_type": "execute_result"
    }
   ],
   "source": [
    "len(features_train), len(features_valid), len(features_test)"
   ]
  },
  {
   "cell_type": "code",
   "execution_count": 19,
   "metadata": {
    "scrolled": false
   },
   "outputs": [
    {
     "data": {
      "text/plain": [
       "(6000, 2000, 2000)"
      ]
     },
     "execution_count": 19,
     "metadata": {},
     "output_type": "execute_result"
    }
   ],
   "source": [
    "len(target_train), len(target_valid), len(target_test)"
   ]
  },
  {
   "cell_type": "markdown",
   "metadata": {},
   "source": [
    "### Масштабирование признаков"
   ]
  },
  {
   "cell_type": "markdown",
   "metadata": {},
   "source": [
    "Для корректного обучения модели есть смысл масштабировать небинарные признаки: \t`CreditScore`,\t`Age`,\t`Tenure`, `Balance`, `EstimatedSalary`. Масштабируем их на тренировочной выборке"
   ]
  },
  {
   "cell_type": "code",
   "execution_count": 21,
   "metadata": {},
   "outputs": [
    {
     "data": {
      "text/plain": [
       "StandardScaler(copy=True, with_mean=True, with_std=True)"
      ]
     },
     "execution_count": 21,
     "metadata": {},
     "output_type": "execute_result"
    }
   ],
   "source": [
    "features_to_scale = ['CreditScore','Age', 'Tenure', 'Balance', 'EstimatedSalary']\n",
    "scaler = StandardScaler()\n",
    "scaler.fit(features_train[features_to_scale])"
   ]
  },
  {
   "cell_type": "markdown",
   "metadata": {},
   "source": [
    "Теперь применим скалер для всех выборок"
   ]
  },
  {
   "cell_type": "code",
   "execution_count": 22,
   "metadata": {},
   "outputs": [],
   "source": [
    "features_train[features_to_scale] = scaler.transform(features_train[features_to_scale])"
   ]
  },
  {
   "cell_type": "code",
   "execution_count": 23,
   "metadata": {},
   "outputs": [],
   "source": [
    "features_valid[features_to_scale] = scaler.transform(features_valid[features_to_scale])"
   ]
  },
  {
   "cell_type": "code",
   "execution_count": 24,
   "metadata": {
    "scrolled": false
   },
   "outputs": [
    {
     "name": "stderr",
     "output_type": "stream",
     "text": [
      "/opt/conda/lib/python3.7/site-packages/ipykernel_launcher.py:1: SettingWithCopyWarning: \n",
      "A value is trying to be set on a copy of a slice from a DataFrame.\n",
      "Try using .loc[row_indexer,col_indexer] = value instead\n",
      "\n",
      "See the caveats in the documentation: http://pandas.pydata.org/pandas-docs/stable/user_guide/indexing.html#returning-a-view-versus-a-copy\n",
      "  \"\"\"Entry point for launching an IPython kernel.\n",
      "/opt/conda/lib/python3.7/site-packages/pandas/core/indexing.py:494: SettingWithCopyWarning: \n",
      "A value is trying to be set on a copy of a slice from a DataFrame.\n",
      "Try using .loc[row_indexer,col_indexer] = value instead\n",
      "\n",
      "See the caveats in the documentation: http://pandas.pydata.org/pandas-docs/stable/user_guide/indexing.html#returning-a-view-versus-a-copy\n",
      "  self.obj[item] = s\n"
     ]
    }
   ],
   "source": [
    "features_test[features_to_scale] = scaler.transform(features_test[features_to_scale])"
   ]
  },
  {
   "cell_type": "markdown",
   "metadata": {},
   "source": [
    "Посмотрим на признаки"
   ]
  },
  {
   "cell_type": "code",
   "execution_count": 27,
   "metadata": {},
   "outputs": [
    {
     "data": {
      "text/html": [
       "<div>\n",
       "<style scoped>\n",
       "    .dataframe tbody tr th:only-of-type {\n",
       "        vertical-align: middle;\n",
       "    }\n",
       "\n",
       "    .dataframe tbody tr th {\n",
       "        vertical-align: top;\n",
       "    }\n",
       "\n",
       "    .dataframe thead th {\n",
       "        text-align: right;\n",
       "    }\n",
       "</style>\n",
       "<table border=\"1\" class=\"dataframe\">\n",
       "  <thead>\n",
       "    <tr style=\"text-align: right;\">\n",
       "      <th></th>\n",
       "      <th>CreditScore</th>\n",
       "      <th>Age</th>\n",
       "      <th>Tenure</th>\n",
       "      <th>Balance</th>\n",
       "      <th>NumOfProducts</th>\n",
       "      <th>HasCrCard</th>\n",
       "      <th>IsActiveMember</th>\n",
       "      <th>EstimatedSalary</th>\n",
       "      <th>TenureNA</th>\n",
       "      <th>Geography_Germany</th>\n",
       "      <th>Geography_Spain</th>\n",
       "      <th>Gender_Male</th>\n",
       "    </tr>\n",
       "  </thead>\n",
       "  <tbody>\n",
       "    <tr>\n",
       "      <td>2358</td>\n",
       "      <td>0.175393</td>\n",
       "      <td>0.399118</td>\n",
       "      <td>-1.131841</td>\n",
       "      <td>1.385698</td>\n",
       "      <td>1</td>\n",
       "      <td>0</td>\n",
       "      <td>1</td>\n",
       "      <td>-1.466761</td>\n",
       "      <td>False</td>\n",
       "      <td>0</td>\n",
       "      <td>0</td>\n",
       "      <td>1</td>\n",
       "    </tr>\n",
       "    <tr>\n",
       "      <td>8463</td>\n",
       "      <td>-1.299609</td>\n",
       "      <td>0.971741</td>\n",
       "      <td>-0.812608</td>\n",
       "      <td>-1.232442</td>\n",
       "      <td>1</td>\n",
       "      <td>1</td>\n",
       "      <td>0</td>\n",
       "      <td>0.254415</td>\n",
       "      <td>False</td>\n",
       "      <td>0</td>\n",
       "      <td>1</td>\n",
       "      <td>1</td>\n",
       "    </tr>\n",
       "    <tr>\n",
       "      <td>163</td>\n",
       "      <td>0.711757</td>\n",
       "      <td>-0.268942</td>\n",
       "      <td>-0.812608</td>\n",
       "      <td>-1.232442</td>\n",
       "      <td>2</td>\n",
       "      <td>1</td>\n",
       "      <td>1</td>\n",
       "      <td>0.122863</td>\n",
       "      <td>False</td>\n",
       "      <td>0</td>\n",
       "      <td>1</td>\n",
       "      <td>0</td>\n",
       "    </tr>\n",
       "    <tr>\n",
       "      <td>3074</td>\n",
       "      <td>-0.391916</td>\n",
       "      <td>0.494555</td>\n",
       "      <td>0.464325</td>\n",
       "      <td>0.672529</td>\n",
       "      <td>1</td>\n",
       "      <td>1</td>\n",
       "      <td>0</td>\n",
       "      <td>0.585847</td>\n",
       "      <td>False</td>\n",
       "      <td>1</td>\n",
       "      <td>0</td>\n",
       "      <td>0</td>\n",
       "    </tr>\n",
       "    <tr>\n",
       "      <td>5989</td>\n",
       "      <td>0.165078</td>\n",
       "      <td>1.353490</td>\n",
       "      <td>1.741257</td>\n",
       "      <td>0.536522</td>\n",
       "      <td>1</td>\n",
       "      <td>0</td>\n",
       "      <td>0</td>\n",
       "      <td>1.462457</td>\n",
       "      <td>False</td>\n",
       "      <td>0</td>\n",
       "      <td>0</td>\n",
       "      <td>0</td>\n",
       "    </tr>\n",
       "  </tbody>\n",
       "</table>\n",
       "</div>"
      ],
      "text/plain": [
       "      CreditScore       Age    Tenure   Balance  NumOfProducts  HasCrCard  \\\n",
       "2358     0.175393  0.399118 -1.131841  1.385698              1          0   \n",
       "8463    -1.299609  0.971741 -0.812608 -1.232442              1          1   \n",
       "163      0.711757 -0.268942 -0.812608 -1.232442              2          1   \n",
       "3074    -0.391916  0.494555  0.464325  0.672529              1          1   \n",
       "5989     0.165078  1.353490  1.741257  0.536522              1          0   \n",
       "\n",
       "      IsActiveMember  EstimatedSalary  TenureNA  Geography_Germany  \\\n",
       "2358               1        -1.466761     False                  0   \n",
       "8463               0         0.254415     False                  0   \n",
       "163                1         0.122863     False                  0   \n",
       "3074               0         0.585847     False                  1   \n",
       "5989               0         1.462457     False                  0   \n",
       "\n",
       "      Geography_Spain  Gender_Male  \n",
       "2358                0            1  \n",
       "8463                1            1  \n",
       "163                 1            0  \n",
       "3074                0            0  \n",
       "5989                0            0  "
      ]
     },
     "execution_count": 27,
     "metadata": {},
     "output_type": "execute_result"
    }
   ],
   "source": [
    "features_valid.head()"
   ]
  },
  {
   "cell_type": "markdown",
   "metadata": {},
   "source": [
    "### Дерево решений\n",
    "\n",
    "Воспользуемся `DecisionTreeClassifier` и будем менять глубину для получения наилучшего результата. Циклично выведем F1 и AUC_ROC. Так как для всех моделей планируем определять метрики F1 и AUC_ROC, то для упрощения определим функцию, которая на вход будет принимать модель и признаки, в теле функции будет определять метрики и будет возвращать кортеж f1, auc_roc"
   ]
  },
  {
   "cell_type": "code",
   "execution_count": 28,
   "metadata": {},
   "outputs": [],
   "source": [
    "def f1_auc(model, target_valid, predictions_valid):\n",
    "    result = f1_score(target_valid, predictions_valid)\n",
    "    \n",
    "    probabilities_valid = model.predict_proba(features_valid)\n",
    "    probabilities_one_valid = probabilities_valid[:, 1]\n",
    "    auc_roc = roc_auc_score(target_valid, probabilities_one_valid)\n",
    "    \n",
    "    return (result, auc_roc)"
   ]
  },
  {
   "cell_type": "markdown",
   "metadata": {},
   "source": [
    "Обучим дерево"
   ]
  },
  {
   "cell_type": "code",
   "execution_count": 29,
   "metadata": {
    "scrolled": false
   },
   "outputs": [
    {
     "name": "stderr",
     "output_type": "stream",
     "text": [
      "/opt/conda/lib/python3.7/site-packages/sklearn/metrics/classification.py:1437: UndefinedMetricWarning: F-score is ill-defined and being set to 0.0 due to no predicted samples.\n",
      "  'precision', 'predicted', average, warn_for)\n"
     ]
    },
    {
     "name": "stdout",
     "output_type": "stream",
     "text": [
      "depth=1 f1=0.0000 auc_roc=0.6905\n",
      "depth=2 f1=0.5037 auc_roc=0.7396\n",
      "depth=3 f1=0.3938 auc_roc=0.7939\n",
      "depth=4 f1=0.4318 auc_roc=0.8069\n",
      "depth=5 f1=0.5483 auc_roc=0.8207\n",
      "depth=6 f1=0.5070 auc_roc=0.8235\n",
      "depth=7 f1=0.5498 auc_roc=0.8281\n",
      "depth=8 f1=0.5413 auc_roc=0.8006\n",
      "depth=9 f1=0.5365 auc_roc=0.7751\n",
      "depth=10 f1=0.5335 auc_roc=0.7512\n",
      "depth=11 f1=0.5185 auc_roc=0.7460\n",
      "depth=12 f1=0.5064 auc_roc=0.7143\n",
      "depth=13 f1=0.4912 auc_roc=0.6868\n",
      "depth=14 f1=0.4973 auc_roc=0.6891\n",
      "depth=15 f1=0.4987 auc_roc=0.6859\n",
      "depth=16 f1=0.4909 auc_roc=0.6929\n",
      "depth=17 f1=0.4865 auc_roc=0.6832\n",
      "depth=18 f1=0.4745 auc_roc=0.6738\n",
      "depth=19 f1=0.4773 auc_roc=0.6797\n",
      "depth=20 f1=0.4730 auc_roc=0.6755\n",
      "depth=21 f1=0.4829 auc_roc=0.6812\n",
      "depth=22 f1=0.4776 auc_roc=0.6778\n",
      "depth=23 f1=0.4832 auc_roc=0.6811\n",
      "depth=24 f1=0.4752 auc_roc=0.6742\n",
      "depth=25 f1=0.4752 auc_roc=0.6742\n",
      "depth=26 f1=0.4752 auc_roc=0.6742\n",
      "depth=27 f1=0.4752 auc_roc=0.6742\n",
      "depth=28 f1=0.4752 auc_roc=0.6742\n",
      "depth=29 f1=0.4752 auc_roc=0.6742\n"
     ]
    }
   ],
   "source": [
    "best_result=0\n",
    "best_tree_model = None\n",
    "for i in range(1,30):\n",
    "    model = tree.DecisionTreeClassifier(max_depth = i, random_state = 12345)\n",
    "    model.fit(features_train, target_train)\n",
    "    predictions_valid = model.predict(features_valid)\n",
    "    res=f1_auc(model, target_valid, predictions_valid)   \n",
    "    print('depth={:.0f} f1={:>.4f} auc_roc={:>.4f}'.format(i, *res))\n",
    "   \n",
    "    if res[0] > best_result:\n",
    "        best_result = res[0]\n",
    "        best_tree_model = model"
   ]
  },
  {
   "cell_type": "markdown",
   "metadata": {},
   "source": [
    "Видно, чтo лучшая метрика для дерева с глубиной 7. Но при этом F1 =0.5498, что недотягивает до заданного значения 0.59. После глубины 25 метрика практически не меняется."
   ]
  },
  {
   "cell_type": "code",
   "execution_count": 30,
   "metadata": {
    "scrolled": true
   },
   "outputs": [
    {
     "data": {
      "text/plain": [
       "{'class_weight': None,\n",
       " 'criterion': 'gini',\n",
       " 'max_depth': 7,\n",
       " 'max_features': None,\n",
       " 'max_leaf_nodes': None,\n",
       " 'min_impurity_decrease': 0.0,\n",
       " 'min_impurity_split': None,\n",
       " 'min_samples_leaf': 1,\n",
       " 'min_samples_split': 2,\n",
       " 'min_weight_fraction_leaf': 0.0,\n",
       " 'presort': False,\n",
       " 'random_state': 12345,\n",
       " 'splitter': 'best'}"
      ]
     },
     "execution_count": 30,
     "metadata": {},
     "output_type": "execute_result"
    }
   ],
   "source": [
    "best_tree_model.get_params()"
   ]
  },
  {
   "cell_type": "markdown",
   "metadata": {},
   "source": [
    "### Случайный лес"
   ]
  },
  {
   "cell_type": "markdown",
   "metadata": {},
   "source": [
    "Построим модель на основании `RandomForestClassifier`. Для этого будем обучать модель на тренировочной выборке и изменять количество деревьев от 0 до 50. Сравним F1 на валидационной выборке и выберем лучший вариант."
   ]
  },
  {
   "cell_type": "code",
   "execution_count": 31,
   "metadata": {
    "scrolled": true
   },
   "outputs": [
    {
     "name": "stdout",
     "output_type": "stream",
     "text": [
      "n_estimators=1 f1=0.4477 auc_roc=0.6582\n",
      "n_estimators=2 f1=0.3792 auc_roc=0.7151\n",
      "n_estimators=3 f1=0.5000 auc_roc=0.7409\n",
      "n_estimators=4 f1=0.4860 auc_roc=0.7616\n",
      "n_estimators=5 f1=0.5175 auc_roc=0.7742\n",
      "n_estimators=6 f1=0.5122 auc_roc=0.7785\n",
      "n_estimators=7 f1=0.5303 auc_roc=0.7819\n",
      "n_estimators=8 f1=0.5182 auc_roc=0.7887\n",
      "n_estimators=9 f1=0.5469 auc_roc=0.7936\n",
      "n_estimators=10 f1=0.5277 auc_roc=0.7980\n",
      "n_estimators=11 f1=0.5581 auc_roc=0.8018\n",
      "n_estimators=12 f1=0.5413 auc_roc=0.8038\n",
      "n_estimators=13 f1=0.5617 auc_roc=0.8065\n",
      "n_estimators=14 f1=0.5340 auc_roc=0.8108\n",
      "n_estimators=15 f1=0.5514 auc_roc=0.8113\n",
      "n_estimators=16 f1=0.5372 auc_roc=0.8142\n",
      "n_estimators=17 f1=0.5432 auc_roc=0.8179\n",
      "n_estimators=18 f1=0.5367 auc_roc=0.8230\n",
      "n_estimators=19 f1=0.5437 auc_roc=0.8257\n",
      "n_estimators=20 f1=0.5340 auc_roc=0.8271\n",
      "n_estimators=21 f1=0.5443 auc_roc=0.8274\n",
      "n_estimators=22 f1=0.5366 auc_roc=0.8281\n",
      "n_estimators=23 f1=0.5420 auc_roc=0.8299\n",
      "n_estimators=24 f1=0.5390 auc_roc=0.8288\n",
      "n_estimators=25 f1=0.5501 auc_roc=0.8291\n",
      "n_estimators=26 f1=0.5405 auc_roc=0.8301\n",
      "n_estimators=27 f1=0.5503 auc_roc=0.8310\n",
      "n_estimators=28 f1=0.5490 auc_roc=0.8307\n",
      "n_estimators=29 f1=0.5515 auc_roc=0.8304\n",
      "n_estimators=30 f1=0.5452 auc_roc=0.8292\n",
      "n_estimators=31 f1=0.5466 auc_roc=0.8294\n",
      "n_estimators=32 f1=0.5484 auc_roc=0.8307\n",
      "n_estimators=33 f1=0.5460 auc_roc=0.8318\n",
      "n_estimators=34 f1=0.5437 auc_roc=0.8326\n",
      "n_estimators=35 f1=0.5446 auc_roc=0.8343\n",
      "n_estimators=36 f1=0.5372 auc_roc=0.8342\n",
      "n_estimators=37 f1=0.5486 auc_roc=0.8343\n",
      "n_estimators=38 f1=0.5443 auc_roc=0.8353\n",
      "n_estimators=39 f1=0.5486 auc_roc=0.8354\n",
      "n_estimators=40 f1=0.5396 auc_roc=0.8355\n",
      "n_estimators=41 f1=0.5521 auc_roc=0.8358\n",
      "n_estimators=42 f1=0.5372 auc_roc=0.8366\n",
      "n_estimators=43 f1=0.5423 auc_roc=0.8364\n",
      "n_estimators=44 f1=0.5372 auc_roc=0.8366\n",
      "n_estimators=45 f1=0.5463 auc_roc=0.8361\n",
      "n_estimators=46 f1=0.5472 auc_roc=0.8366\n",
      "n_estimators=47 f1=0.5481 auc_roc=0.8369\n",
      "n_estimators=48 f1=0.5398 auc_roc=0.8381\n",
      "n_estimators=49 f1=0.5507 auc_roc=0.8393\n"
     ]
    }
   ],
   "source": [
    "best_result=0\n",
    "best_forest_model = None\n",
    "for i in range(1,50):\n",
    "    model = RandomForestClassifier(random_state = 12345, n_estimators = i)\n",
    "    model.fit(features_train, target_train)\n",
    "    predictions_valid = model.predict(features_valid)\n",
    "    res=f1_auc(model, target_valid, predictions_valid)  \n",
    "    print('n_estimators={:.0f} f1={:>.4f} auc_roc={:>.4f}'.format(i, *res))\n",
    "    \n",
    "    if res[0] > best_result:\n",
    "        best_result = res[0]\n",
    "        best_forest_model = model"
   ]
  },
  {
   "cell_type": "code",
   "execution_count": 32,
   "metadata": {
    "scrolled": true
   },
   "outputs": [
    {
     "data": {
      "text/plain": [
       "{'bootstrap': True,\n",
       " 'class_weight': None,\n",
       " 'criterion': 'gini',\n",
       " 'max_depth': None,\n",
       " 'max_features': 'auto',\n",
       " 'max_leaf_nodes': None,\n",
       " 'min_impurity_decrease': 0.0,\n",
       " 'min_impurity_split': None,\n",
       " 'min_samples_leaf': 1,\n",
       " 'min_samples_split': 2,\n",
       " 'min_weight_fraction_leaf': 0.0,\n",
       " 'n_estimators': 13,\n",
       " 'n_jobs': None,\n",
       " 'oob_score': False,\n",
       " 'random_state': 12345,\n",
       " 'verbose': 0,\n",
       " 'warm_start': False}"
      ]
     },
     "execution_count": 32,
     "metadata": {},
     "output_type": "execute_result"
    }
   ],
   "source": [
    "best_forest_model.get_params()"
   ]
  },
  {
   "cell_type": "markdown",
   "metadata": {},
   "source": [
    "Видно, чтo лучшая метрика для леса с кол-вом деревьев 13. Но при этом F1 =0.5617, что тоже недотягивает до заданного значения 0.59."
   ]
  },
  {
   "cell_type": "markdown",
   "metadata": {},
   "source": [
    "### Логистическая регрессия"
   ]
  },
  {
   "cell_type": "code",
   "execution_count": 33,
   "metadata": {},
   "outputs": [
    {
     "name": "stdout",
     "output_type": "stream",
     "text": [
      "f1=0.3008 auc_roc=0.7702\n"
     ]
    }
   ],
   "source": [
    "logistic_model = LogisticRegression(random_state = 12345, solver='liblinear')\n",
    "logistic_model.fit(features_train, target_train)\n",
    "predictions_valid = logistic_model.predict(features_valid)\n",
    "\n",
    "print('f1={:>.4f} auc_roc={:>.4f}'.format(*f1_auc(logistic_model, target_valid, predictions_valid)))"
   ]
  },
  {
   "cell_type": "markdown",
   "metadata": {},
   "source": [
    "Здесь метрика значительно ниже требуемой"
   ]
  },
  {
   "cell_type": "markdown",
   "metadata": {},
   "source": [
    "### Выводы. \n",
    "Ни одна из моделей не дала желаемого результата. Наиболее близок был случайный лес."
   ]
  },
  {
   "cell_type": "markdown",
   "metadata": {},
   "source": [
    "## Борьба с дисбалансом"
   ]
  },
  {
   "cell_type": "markdown",
   "metadata": {},
   "source": [
    "### Учёт весов.\n",
    "\n",
    "Первым этапом обучим модели с учётом весов. Укажем, `class_weight`= *balanced* и повторим обучения"
   ]
  },
  {
   "cell_type": "code",
   "execution_count": 34,
   "metadata": {
    "scrolled": false
   },
   "outputs": [
    {
     "name": "stdout",
     "output_type": "stream",
     "text": [
      "depth=1 f1=0.4751 auc_roc=0.6899\n",
      "depth=2 f1=0.4976 auc_roc=0.7382\n",
      "depth=3 f1=0.4976 auc_roc=0.7909\n",
      "depth=4 f1=0.5170 auc_roc=0.8065\n",
      "depth=5 f1=0.5489 auc_roc=0.8188\n",
      "depth=6 f1=0.5587 auc_roc=0.8089\n",
      "depth=7 f1=0.5532 auc_roc=0.8005\n",
      "depth=8 f1=0.5433 auc_roc=0.7850\n",
      "depth=9 f1=0.5131 auc_roc=0.7529\n",
      "depth=10 f1=0.4895 auc_roc=0.7247\n",
      "depth=11 f1=0.4950 auc_roc=0.7250\n",
      "depth=12 f1=0.4756 auc_roc=0.6972\n",
      "depth=13 f1=0.4867 auc_roc=0.6988\n",
      "depth=14 f1=0.4750 auc_roc=0.6850\n",
      "depth=15 f1=0.4610 auc_roc=0.6765\n",
      "depth=16 f1=0.4600 auc_roc=0.6710\n",
      "depth=17 f1=0.4643 auc_roc=0.6702\n",
      "depth=18 f1=0.4759 auc_roc=0.6746\n",
      "depth=19 f1=0.4623 auc_roc=0.6654\n",
      "depth=20 f1=0.4674 auc_roc=0.6684\n",
      "depth=21 f1=0.4646 auc_roc=0.6665\n",
      "depth=22 f1=0.4611 auc_roc=0.6639\n",
      "depth=23 f1=0.4632 auc_roc=0.6649\n",
      "depth=24 f1=0.4605 auc_roc=0.6635\n",
      "depth=25 f1=0.4605 auc_roc=0.6635\n",
      "depth=26 f1=0.4605 auc_roc=0.6635\n",
      "depth=27 f1=0.4605 auc_roc=0.6635\n",
      "depth=28 f1=0.4605 auc_roc=0.6635\n",
      "depth=29 f1=0.4605 auc_roc=0.6635\n",
      "depth=30 f1=0.4605 auc_roc=0.6635\n",
      "depth=31 f1=0.4605 auc_roc=0.6635\n",
      "depth=32 f1=0.4605 auc_roc=0.6635\n",
      "depth=33 f1=0.4605 auc_roc=0.6635\n",
      "depth=34 f1=0.4605 auc_roc=0.6635\n",
      "depth=35 f1=0.4605 auc_roc=0.6635\n",
      "depth=36 f1=0.4605 auc_roc=0.6635\n",
      "depth=37 f1=0.4605 auc_roc=0.6635\n",
      "depth=38 f1=0.4605 auc_roc=0.6635\n",
      "depth=39 f1=0.4605 auc_roc=0.6635\n"
     ]
    }
   ],
   "source": [
    "best_result=0\n",
    "best_bal_tree_model = None\n",
    "for i in range(1,40):\n",
    "    model = tree.DecisionTreeClassifier(max_depth = i, random_state = 12345, class_weight='balanced')\n",
    "    model.fit(features_train, target_train)\n",
    "    predictions_valid = model.predict(features_valid)\n",
    "    res=f1_auc(model, target_valid, predictions_valid)   \n",
    "    print('depth={:.0f} f1={:>.4f} auc_roc={:>.4f}'.format(i, *res))\n",
    "   \n",
    "    if res[0] > best_result:\n",
    "        best_result = res[0]\n",
    "        best_bal_tree_model = model"
   ]
  },
  {
   "cell_type": "code",
   "execution_count": 35,
   "metadata": {},
   "outputs": [
    {
     "data": {
      "text/plain": [
       "{'class_weight': 'balanced',\n",
       " 'criterion': 'gini',\n",
       " 'max_depth': 6,\n",
       " 'max_features': None,\n",
       " 'max_leaf_nodes': None,\n",
       " 'min_impurity_decrease': 0.0,\n",
       " 'min_impurity_split': None,\n",
       " 'min_samples_leaf': 1,\n",
       " 'min_samples_split': 2,\n",
       " 'min_weight_fraction_leaf': 0.0,\n",
       " 'presort': False,\n",
       " 'random_state': 12345,\n",
       " 'splitter': 'best'}"
      ]
     },
     "execution_count": 35,
     "metadata": {},
     "output_type": "execute_result"
    }
   ],
   "source": [
    "best_bal_tree_model.get_params()"
   ]
  },
  {
   "cell_type": "markdown",
   "metadata": {},
   "source": [
    "Метрика лучше - 0,5587. Посмотрим на лес."
   ]
  },
  {
   "cell_type": "code",
   "execution_count": 36,
   "metadata": {
    "scrolled": false
   },
   "outputs": [
    {
     "name": "stdout",
     "output_type": "stream",
     "text": [
      "n_estimators=1 f1=0.4635 auc_roc=0.6658\n",
      "n_estimators=2 f1=0.3922 auc_roc=0.7213\n",
      "n_estimators=3 f1=0.5234 auc_roc=0.7416\n",
      "n_estimators=4 f1=0.4494 auc_roc=0.7599\n",
      "n_estimators=5 f1=0.5107 auc_roc=0.7702\n",
      "n_estimators=6 f1=0.4950 auc_roc=0.7810\n",
      "n_estimators=7 f1=0.5239 auc_roc=0.7941\n",
      "n_estimators=8 f1=0.5058 auc_roc=0.8013\n",
      "n_estimators=9 f1=0.5337 auc_roc=0.8059\n",
      "n_estimators=10 f1=0.5156 auc_roc=0.8123\n",
      "n_estimators=11 f1=0.5688 auc_roc=0.8178\n",
      "n_estimators=12 f1=0.5348 auc_roc=0.8221\n",
      "n_estimators=13 f1=0.5598 auc_roc=0.8277\n",
      "n_estimators=14 f1=0.5475 auc_roc=0.8306\n",
      "n_estimators=15 f1=0.5540 auc_roc=0.8284\n",
      "n_estimators=16 f1=0.5365 auc_roc=0.8285\n",
      "n_estimators=17 f1=0.5593 auc_roc=0.8301\n",
      "n_estimators=18 f1=0.5403 auc_roc=0.8334\n",
      "n_estimators=19 f1=0.5544 auc_roc=0.8343\n",
      "n_estimators=20 f1=0.5478 auc_roc=0.8348\n",
      "n_estimators=21 f1=0.5723 auc_roc=0.8321\n",
      "n_estimators=22 f1=0.5463 auc_roc=0.8300\n",
      "n_estimators=23 f1=0.5540 auc_roc=0.8320\n",
      "n_estimators=24 f1=0.5422 auc_roc=0.8346\n",
      "n_estimators=25 f1=0.5498 auc_roc=0.8345\n",
      "n_estimators=26 f1=0.5478 auc_roc=0.8345\n",
      "n_estimators=27 f1=0.5541 auc_roc=0.8357\n",
      "n_estimators=28 f1=0.5505 auc_roc=0.8347\n",
      "n_estimators=29 f1=0.5541 auc_roc=0.8345\n",
      "n_estimators=30 f1=0.5493 auc_roc=0.8350\n",
      "n_estimators=31 f1=0.5619 auc_roc=0.8343\n",
      "n_estimators=32 f1=0.5455 auc_roc=0.8352\n",
      "n_estimators=33 f1=0.5591 auc_roc=0.8364\n",
      "n_estimators=34 f1=0.5548 auc_roc=0.8364\n",
      "n_estimators=35 f1=0.5504 auc_roc=0.8372\n",
      "n_estimators=36 f1=0.5496 auc_roc=0.8369\n",
      "n_estimators=37 f1=0.5591 auc_roc=0.8358\n",
      "n_estimators=38 f1=0.5525 auc_roc=0.8346\n",
      "n_estimators=39 f1=0.5495 auc_roc=0.8355\n",
      "n_estimators=40 f1=0.5469 auc_roc=0.8364\n",
      "n_estimators=41 f1=0.5504 auc_roc=0.8363\n",
      "n_estimators=42 f1=0.5446 auc_roc=0.8376\n",
      "n_estimators=43 f1=0.5524 auc_roc=0.8380\n",
      "n_estimators=44 f1=0.5428 auc_roc=0.8375\n",
      "n_estimators=45 f1=0.5527 auc_roc=0.8378\n",
      "n_estimators=46 f1=0.5484 auc_roc=0.8383\n",
      "n_estimators=47 f1=0.5457 auc_roc=0.8391\n",
      "n_estimators=48 f1=0.5460 auc_roc=0.8394\n",
      "n_estimators=49 f1=0.5513 auc_roc=0.8397\n"
     ]
    }
   ],
   "source": [
    "best_result=0\n",
    "best_bal_forest_model = None\n",
    "for i in range(1,50):\n",
    "    model = RandomForestClassifier(random_state = 12345, n_estimators = i, class_weight='balanced')\n",
    "    model.fit(features_train, target_train)\n",
    "    predictions_valid = model.predict(features_valid)\n",
    "    \n",
    "    res =  f1_auc(model, target_valid, predictions_valid)\n",
    "    print('n_estimators={:.0f} f1={:>.4f} auc_roc={:>.4f}'.format(i, *res))\n",
    "    \n",
    "    if res[0] > best_result:\n",
    "        best_result = res[0]\n",
    "        best_bal_forest_model = model"
   ]
  },
  {
   "cell_type": "code",
   "execution_count": 37,
   "metadata": {},
   "outputs": [
    {
     "data": {
      "text/plain": [
       "{'bootstrap': True,\n",
       " 'class_weight': 'balanced',\n",
       " 'criterion': 'gini',\n",
       " 'max_depth': None,\n",
       " 'max_features': 'auto',\n",
       " 'max_leaf_nodes': None,\n",
       " 'min_impurity_decrease': 0.0,\n",
       " 'min_impurity_split': None,\n",
       " 'min_samples_leaf': 1,\n",
       " 'min_samples_split': 2,\n",
       " 'min_weight_fraction_leaf': 0.0,\n",
       " 'n_estimators': 21,\n",
       " 'n_jobs': None,\n",
       " 'oob_score': False,\n",
       " 'random_state': 12345,\n",
       " 'verbose': 0,\n",
       " 'warm_start': False}"
      ]
     },
     "execution_count": 37,
     "metadata": {},
     "output_type": "execute_result"
    }
   ],
   "source": [
    "best_bal_forest_model.get_params()"
   ]
  },
  {
   "cell_type": "markdown",
   "metadata": {},
   "source": [
    "Метрика улучшилась - 0,5723. Посмотрим на регрессию"
   ]
  },
  {
   "cell_type": "code",
   "execution_count": 38,
   "metadata": {
    "scrolled": false
   },
   "outputs": [
    {
     "name": "stdout",
     "output_type": "stream",
     "text": [
      "f1=0.4755 auc_roc=0.7724\n"
     ]
    }
   ],
   "source": [
    "bal_logistic_model = LogisticRegression(random_state = 12345, solver='liblinear', class_weight='balanced')\n",
    "bal_logistic_model.fit(features_train, target_train)\n",
    "predictions_valid = bal_logistic_model.predict(features_valid)\n",
    "\n",
    "print('f1={:>.4f} auc_roc={:>.4f}'.format(*f1_auc(bal_logistic_model, target_valid, predictions_valid)))"
   ]
  },
  {
   "cell_type": "markdown",
   "metadata": {},
   "source": [
    "Метрика возрасла, но недостаточно."
   ]
  },
  {
   "cell_type": "markdown",
   "metadata": {},
   "source": [
    "### Увеличение выборки\n",
    "\n",
    "Следующим этапом попробуем использовать апсемплинг. Определим функцию для этого"
   ]
  },
  {
   "cell_type": "code",
   "execution_count": 39,
   "metadata": {},
   "outputs": [],
   "source": [
    "def upsample(features, target, repeat):\n",
    "    features_zeros = features[target == 0]\n",
    "    features_ones = features[target == 1]\n",
    "    target_zeros = target[target == 0]\n",
    "    target_ones = target[target == 1]\n",
    "\n",
    "    features_upsampled = pd.concat([features_zeros] + [features_ones] * repeat)\n",
    "    target_upsampled = pd.concat([target_zeros] + [target_ones] * repeat)\n",
    "    features_upsampled, target_upsampled = shuffle(\n",
    "    features_upsampled, target_upsampled, random_state=12345)\n",
    "    \n",
    "    return features_upsampled, target_upsampled\n",
    "    "
   ]
  },
  {
   "cell_type": "markdown",
   "metadata": {},
   "source": [
    "Применим функцию с кратностью 4 для увеличения выборки"
   ]
  },
  {
   "cell_type": "code",
   "execution_count": 40,
   "metadata": {},
   "outputs": [],
   "source": [
    "features_upsampled, target_upsampled = upsample(features_train, target_train, 4)"
   ]
  },
  {
   "cell_type": "markdown",
   "metadata": {},
   "source": [
    "Посмотрим на баланс классов"
   ]
  },
  {
   "cell_type": "code",
   "execution_count": 41,
   "metadata": {
    "scrolled": true
   },
   "outputs": [
    {
     "data": {
      "text/plain": [
       "1    0.504919\n",
       "0    0.495081\n",
       "Name: Exited, dtype: float64"
      ]
     },
     "execution_count": 41,
     "metadata": {},
     "output_type": "execute_result"
    }
   ],
   "source": [
    "target_upsampled.value_counts(normalize=True)"
   ]
  },
  {
   "cell_type": "markdown",
   "metadata": {},
   "source": [
    "Количество более-менее одинаково. Обучим дерево"
   ]
  },
  {
   "cell_type": "code",
   "execution_count": 42,
   "metadata": {
    "scrolled": true
   },
   "outputs": [
    {
     "name": "stdout",
     "output_type": "stream",
     "text": [
      "depth=1 f1=0.4751 auc_roc=0.6899\n",
      "depth=2 f1=0.4976 auc_roc=0.7382\n",
      "depth=3 f1=0.4976 auc_roc=0.7909\n",
      "depth=4 f1=0.5170 auc_roc=0.8065\n",
      "depth=5 f1=0.5489 auc_roc=0.8188\n",
      "depth=6 f1=0.5587 auc_roc=0.8089\n",
      "depth=7 f1=0.5532 auc_roc=0.8005\n",
      "depth=8 f1=0.5424 auc_roc=0.7828\n",
      "depth=9 f1=0.5081 auc_roc=0.7459\n",
      "depth=10 f1=0.4851 auc_roc=0.7212\n",
      "depth=11 f1=0.4829 auc_roc=0.7167\n",
      "depth=12 f1=0.4752 auc_roc=0.6965\n",
      "depth=13 f1=0.4803 auc_roc=0.6934\n",
      "depth=14 f1=0.4610 auc_roc=0.6755\n",
      "depth=15 f1=0.4729 auc_roc=0.6804\n",
      "depth=16 f1=0.4635 auc_roc=0.6719\n",
      "depth=17 f1=0.4697 auc_roc=0.6726\n",
      "depth=18 f1=0.4733 auc_roc=0.6732\n",
      "depth=19 f1=0.4544 auc_roc=0.6604\n",
      "depth=20 f1=0.4535 auc_roc=0.6595\n",
      "depth=21 f1=0.4622 auc_roc=0.6644\n",
      "depth=22 f1=0.4638 auc_roc=0.6655\n",
      "depth=23 f1=0.4609 auc_roc=0.6635\n",
      "depth=24 f1=0.4636 auc_roc=0.6651\n",
      "depth=25 f1=0.4636 auc_roc=0.6651\n",
      "depth=26 f1=0.4636 auc_roc=0.6651\n",
      "depth=27 f1=0.4636 auc_roc=0.6651\n",
      "depth=28 f1=0.4636 auc_roc=0.6651\n",
      "depth=29 f1=0.4636 auc_roc=0.6651\n",
      "depth=30 f1=0.4636 auc_roc=0.6651\n",
      "depth=31 f1=0.4636 auc_roc=0.6651\n",
      "depth=32 f1=0.4636 auc_roc=0.6651\n",
      "depth=33 f1=0.4636 auc_roc=0.6651\n",
      "depth=34 f1=0.4636 auc_roc=0.6651\n",
      "depth=35 f1=0.4636 auc_roc=0.6651\n",
      "depth=36 f1=0.4636 auc_roc=0.6651\n",
      "depth=37 f1=0.4636 auc_roc=0.6651\n",
      "depth=38 f1=0.4636 auc_roc=0.6651\n",
      "depth=39 f1=0.4636 auc_roc=0.6651\n"
     ]
    }
   ],
   "source": [
    "best_result=0\n",
    "best_up_tree_model = None\n",
    "for i in range(1,40):\n",
    "    model = tree.DecisionTreeClassifier(max_depth = i, random_state = 12345)\n",
    "    model.fit(features_upsampled, target_upsampled)\n",
    "    predictions_valid = model.predict(features_valid)\n",
    "    res=f1_auc(model, target_valid, predictions_valid)   \n",
    "    print('depth={:.0f} f1={:>.4f} auc_roc={:>.4f}'.format(i, *res))\n",
    "   \n",
    "    if res[0] > best_result:\n",
    "        best_result = res[0]\n",
    "        best_up_tree_model = model"
   ]
  },
  {
   "cell_type": "markdown",
   "metadata": {},
   "source": [
    "Метрика 0.5587, однако всё равно мала. Посмотрим на лес."
   ]
  },
  {
   "cell_type": "code",
   "execution_count": 43,
   "metadata": {
    "scrolled": true
   },
   "outputs": [
    {
     "name": "stdout",
     "output_type": "stream",
     "text": [
      "n_estimators=1 f1=0.4716 auc_roc=0.6791\n",
      "n_estimators=2 f1=0.4504 auc_roc=0.7376\n",
      "n_estimators=3 f1=0.5267 auc_roc=0.7724\n",
      "n_estimators=4 f1=0.5179 auc_roc=0.7773\n",
      "n_estimators=5 f1=0.5426 auc_roc=0.7909\n",
      "n_estimators=6 f1=0.5237 auc_roc=0.7943\n",
      "n_estimators=7 f1=0.5321 auc_roc=0.7988\n",
      "n_estimators=8 f1=0.5308 auc_roc=0.8008\n",
      "n_estimators=9 f1=0.5432 auc_roc=0.8070\n",
      "n_estimators=10 f1=0.5539 auc_roc=0.8080\n",
      "n_estimators=11 f1=0.5472 auc_roc=0.8063\n",
      "n_estimators=12 f1=0.5578 auc_roc=0.8096\n",
      "n_estimators=13 f1=0.5509 auc_roc=0.8110\n",
      "n_estimators=14 f1=0.5514 auc_roc=0.8101\n",
      "n_estimators=15 f1=0.5557 auc_roc=0.8179\n",
      "n_estimators=16 f1=0.5601 auc_roc=0.8184\n",
      "n_estimators=17 f1=0.5645 auc_roc=0.8189\n",
      "n_estimators=18 f1=0.5593 auc_roc=0.8211\n",
      "n_estimators=19 f1=0.5683 auc_roc=0.8258\n",
      "n_estimators=20 f1=0.5657 auc_roc=0.8278\n",
      "n_estimators=21 f1=0.5620 auc_roc=0.8282\n",
      "n_estimators=22 f1=0.5560 auc_roc=0.8285\n",
      "n_estimators=23 f1=0.5640 auc_roc=0.8303\n",
      "n_estimators=24 f1=0.5698 auc_roc=0.8316\n",
      "n_estimators=25 f1=0.5762 auc_roc=0.8327\n",
      "n_estimators=26 f1=0.5771 auc_roc=0.8329\n",
      "n_estimators=27 f1=0.5805 auc_roc=0.8332\n",
      "n_estimators=28 f1=0.5790 auc_roc=0.8336\n",
      "n_estimators=29 f1=0.5805 auc_roc=0.8339\n",
      "n_estimators=30 f1=0.5874 auc_roc=0.8338\n",
      "n_estimators=31 f1=0.5852 auc_roc=0.8334\n",
      "n_estimators=32 f1=0.5814 auc_roc=0.8329\n",
      "n_estimators=33 f1=0.5852 auc_roc=0.8344\n",
      "n_estimators=34 f1=0.5854 auc_roc=0.8347\n",
      "n_estimators=35 f1=0.5898 auc_roc=0.8362\n",
      "n_estimators=36 f1=0.5787 auc_roc=0.8357\n",
      "n_estimators=37 f1=0.5852 auc_roc=0.8355\n",
      "n_estimators=38 f1=0.5830 auc_roc=0.8363\n",
      "n_estimators=39 f1=0.5902 auc_roc=0.8363\n",
      "n_estimators=40 f1=0.5961 auc_roc=0.8363\n",
      "n_estimators=41 f1=0.5879 auc_roc=0.8366\n",
      "n_estimators=42 f1=0.5902 auc_roc=0.8371\n",
      "n_estimators=43 f1=0.5945 auc_roc=0.8370\n",
      "n_estimators=44 f1=0.5869 auc_roc=0.8383\n",
      "n_estimators=45 f1=0.5860 auc_roc=0.8384\n",
      "n_estimators=46 f1=0.5790 auc_roc=0.8387\n",
      "n_estimators=47 f1=0.5824 auc_roc=0.8393\n",
      "n_estimators=48 f1=0.5806 auc_roc=0.8400\n",
      "n_estimators=49 f1=0.5844 auc_roc=0.8399\n"
     ]
    }
   ],
   "source": [
    "best_result=0\n",
    "best_up_forest_model = None\n",
    "for i in range(1,50):\n",
    "    model = RandomForestClassifier(random_state = 123, n_estimators = i)\n",
    "    model.fit(features_upsampled, target_upsampled)\n",
    "    predictions_valid = model.predict(features_valid)\n",
    "    \n",
    "    res =  f1_auc(model, target_valid, predictions_valid)\n",
    "    print('n_estimators={:.0f} f1={:>.4f} auc_roc={:>.4f}'.format(i, *res))\n",
    "    \n",
    "    if res[0] > best_result:\n",
    "        best_result = res[0]\n",
    "        best_up_forest_model = model"
   ]
  },
  {
   "cell_type": "markdown",
   "metadata": {},
   "source": [
    "Искомая метрика получена 0,5961. Лучшая модель с к-вом деревьев 40."
   ]
  },
  {
   "cell_type": "code",
   "execution_count": 44,
   "metadata": {
    "scrolled": true
   },
   "outputs": [
    {
     "data": {
      "text/plain": [
       "{'bootstrap': True,\n",
       " 'class_weight': None,\n",
       " 'criterion': 'gini',\n",
       " 'max_depth': None,\n",
       " 'max_features': 'auto',\n",
       " 'max_leaf_nodes': None,\n",
       " 'min_impurity_decrease': 0.0,\n",
       " 'min_impurity_split': None,\n",
       " 'min_samples_leaf': 1,\n",
       " 'min_samples_split': 2,\n",
       " 'min_weight_fraction_leaf': 0.0,\n",
       " 'n_estimators': 40,\n",
       " 'n_jobs': None,\n",
       " 'oob_score': False,\n",
       " 'random_state': 123,\n",
       " 'verbose': 0,\n",
       " 'warm_start': False}"
      ]
     },
     "execution_count": 44,
     "metadata": {},
     "output_type": "execute_result"
    }
   ],
   "source": [
    "best_up_forest_model.get_params()"
   ]
  },
  {
   "cell_type": "markdown",
   "metadata": {},
   "source": [
    "Посмотрим на регрессию"
   ]
  },
  {
   "cell_type": "code",
   "execution_count": 45,
   "metadata": {},
   "outputs": [
    {
     "name": "stdout",
     "output_type": "stream",
     "text": [
      "f1=0.4741 auc_roc=0.7724\n"
     ]
    }
   ],
   "source": [
    "up_logistic_model = LogisticRegression(random_state = 12345, solver='liblinear')\n",
    "up_logistic_model.fit(features_upsampled, target_upsampled)\n",
    "predictions_valid = up_logistic_model.predict(features_valid)\n",
    "\n",
    "print('f1={:>.4f} auc_roc={:>.4f}'.format(*f1_auc(up_logistic_model, target_valid, predictions_valid)))"
   ]
  },
  {
   "cell_type": "markdown",
   "metadata": {},
   "source": [
    "Метрика почти не изменилась."
   ]
  },
  {
   "cell_type": "markdown",
   "metadata": {},
   "source": [
    "### Уменьшение выборки\n",
    "\n",
    "Ещё попробуем уменьшение выборки как средство борьбы с дисбалансом. Объявим функцию"
   ]
  },
  {
   "cell_type": "code",
   "execution_count": 46,
   "metadata": {},
   "outputs": [],
   "source": [
    "def downsample(features, target, fraction):\n",
    "    features_zeros = features[target == 0]\n",
    "    features_ones = features[target == 1]\n",
    "    target_zeros = target[target == 0]\n",
    "    target_ones = target[target == 1]\n",
    "    \n",
    "    features_sample = features_zeros.sample(frac=fraction, random_state=12345)\n",
    "    target_sample = target_zeros.sample(frac=fraction, random_state=12345)\n",
    "    \n",
    "    features_downsampled = pd.concat([features_sample] + [features_ones])\n",
    "    target_downsampled = pd.concat([target_sample] + [target_ones])\n",
    "    \n",
    "    features_downsampled, target_downsampled = shuffle(\n",
    "    features_downsampled, target_downsampled, random_state=12345)\n",
    "    return features_downsampled, target_downsampled"
   ]
  },
  {
   "cell_type": "markdown",
   "metadata": {},
   "source": [
    "Создадим уменьшенную выборку"
   ]
  },
  {
   "cell_type": "code",
   "execution_count": 47,
   "metadata": {},
   "outputs": [],
   "source": [
    "features_downsampled, target_downsampled = downsample(features_train, target_train, 0.25)"
   ]
  },
  {
   "cell_type": "markdown",
   "metadata": {},
   "source": [
    "Посмотрим баланс"
   ]
  },
  {
   "cell_type": "code",
   "execution_count": 48,
   "metadata": {
    "scrolled": false
   },
   "outputs": [
    {
     "data": {
      "text/plain": [
       "1    0.504971\n",
       "0    0.495029\n",
       "Name: Exited, dtype: float64"
      ]
     },
     "execution_count": 48,
     "metadata": {},
     "output_type": "execute_result"
    }
   ],
   "source": [
    "target_downsampled.value_counts(normalize=True)"
   ]
  },
  {
   "cell_type": "markdown",
   "metadata": {},
   "source": [
    "Обучим дерево"
   ]
  },
  {
   "cell_type": "code",
   "execution_count": 49,
   "metadata": {
    "scrolled": true
   },
   "outputs": [
    {
     "name": "stdout",
     "output_type": "stream",
     "text": [
      "depth=1 f1=0.4751 auc_roc=0.6899\n",
      "depth=2 f1=0.4976 auc_roc=0.7382\n",
      "depth=3 f1=0.5118 auc_roc=0.7845\n",
      "depth=4 f1=0.4957 auc_roc=0.7928\n",
      "depth=5 f1=0.5328 auc_roc=0.8112\n",
      "depth=6 f1=0.5390 auc_roc=0.8087\n",
      "depth=7 f1=0.5441 auc_roc=0.8120\n",
      "depth=8 f1=0.5170 auc_roc=0.7734\n",
      "depth=9 f1=0.5009 auc_roc=0.7446\n",
      "depth=10 f1=0.4948 auc_roc=0.7194\n",
      "depth=11 f1=0.4723 auc_roc=0.7110\n",
      "depth=12 f1=0.4930 auc_roc=0.7005\n",
      "depth=13 f1=0.4908 auc_roc=0.6998\n",
      "depth=14 f1=0.4719 auc_roc=0.6967\n",
      "depth=15 f1=0.4745 auc_roc=0.6949\n",
      "depth=16 f1=0.4704 auc_roc=0.6949\n",
      "depth=17 f1=0.4541 auc_roc=0.6791\n",
      "depth=18 f1=0.4658 auc_roc=0.6894\n",
      "depth=19 f1=0.4658 auc_roc=0.6894\n",
      "depth=20 f1=0.4658 auc_roc=0.6894\n",
      "depth=21 f1=0.4658 auc_roc=0.6894\n",
      "depth=22 f1=0.4658 auc_roc=0.6894\n",
      "depth=23 f1=0.4658 auc_roc=0.6894\n",
      "depth=24 f1=0.4658 auc_roc=0.6894\n",
      "depth=25 f1=0.4658 auc_roc=0.6894\n",
      "depth=26 f1=0.4658 auc_roc=0.6894\n",
      "depth=27 f1=0.4658 auc_roc=0.6894\n",
      "depth=28 f1=0.4658 auc_roc=0.6894\n",
      "depth=29 f1=0.4658 auc_roc=0.6894\n"
     ]
    }
   ],
   "source": [
    "best_result=0\n",
    "best_down_tree_model = None\n",
    "for i in range(1,30):\n",
    "    model = tree.DecisionTreeClassifier(max_depth = i, random_state = 12345)\n",
    "    model.fit(features_downsampled, target_downsampled)\n",
    "    predictions_valid = model.predict(features_valid)\n",
    "    res=f1_auc(model, target_valid, predictions_valid)   \n",
    "    print('depth={:.0f} f1={:>.4f} auc_roc={:>.4f}'.format(i, *res))\n",
    "   \n",
    "    if res[0] > best_result:\n",
    "        best_result = res[0]\n",
    "        best_down_tree_model = model"
   ]
  },
  {
   "cell_type": "markdown",
   "metadata": {},
   "source": [
    "Уменьшение выборки плохо сказалось на метрике для дерева. Посмотрим на лес."
   ]
  },
  {
   "cell_type": "code",
   "execution_count": 50,
   "metadata": {
    "scrolled": false
   },
   "outputs": [
    {
     "name": "stdout",
     "output_type": "stream",
     "text": [
      "n_estimators=1 f1=0.4407 auc_roc=0.6681\n",
      "n_estimators=2 f1=0.4619 auc_roc=0.7271\n",
      "n_estimators=3 f1=0.5040 auc_roc=0.7690\n",
      "n_estimators=4 f1=0.5375 auc_roc=0.7717\n",
      "n_estimators=5 f1=0.4952 auc_roc=0.7751\n",
      "n_estimators=6 f1=0.5289 auc_roc=0.7857\n",
      "n_estimators=7 f1=0.5153 auc_roc=0.7969\n",
      "n_estimators=8 f1=0.5443 auc_roc=0.8062\n",
      "n_estimators=9 f1=0.5301 auc_roc=0.8101\n",
      "n_estimators=10 f1=0.5582 auc_roc=0.8173\n",
      "n_estimators=11 f1=0.5425 auc_roc=0.8214\n",
      "n_estimators=12 f1=0.5561 auc_roc=0.8205\n",
      "n_estimators=13 f1=0.5425 auc_roc=0.8217\n",
      "n_estimators=14 f1=0.5576 auc_roc=0.8250\n",
      "n_estimators=15 f1=0.5484 auc_roc=0.8253\n",
      "n_estimators=16 f1=0.5544 auc_roc=0.8268\n",
      "n_estimators=17 f1=0.5470 auc_roc=0.8286\n",
      "n_estimators=18 f1=0.5636 auc_roc=0.8301\n",
      "n_estimators=19 f1=0.5463 auc_roc=0.8327\n",
      "n_estimators=20 f1=0.5631 auc_roc=0.8333\n",
      "n_estimators=21 f1=0.5479 auc_roc=0.8324\n",
      "n_estimators=22 f1=0.5603 auc_roc=0.8336\n",
      "n_estimators=23 f1=0.5500 auc_roc=0.8353\n",
      "n_estimators=24 f1=0.5527 auc_roc=0.8336\n",
      "n_estimators=25 f1=0.5427 auc_roc=0.8335\n",
      "n_estimators=26 f1=0.5476 auc_roc=0.8335\n",
      "n_estimators=27 f1=0.5474 auc_roc=0.8343\n",
      "n_estimators=28 f1=0.5463 auc_roc=0.8351\n",
      "n_estimators=29 f1=0.5430 auc_roc=0.8351\n",
      "n_estimators=30 f1=0.5453 auc_roc=0.8346\n",
      "n_estimators=31 f1=0.5403 auc_roc=0.8345\n",
      "n_estimators=32 f1=0.5490 auc_roc=0.8354\n",
      "n_estimators=33 f1=0.5527 auc_roc=0.8353\n",
      "n_estimators=34 f1=0.5494 auc_roc=0.8362\n",
      "n_estimators=35 f1=0.5517 auc_roc=0.8357\n",
      "n_estimators=36 f1=0.5545 auc_roc=0.8370\n",
      "n_estimators=37 f1=0.5505 auc_roc=0.8381\n",
      "n_estimators=38 f1=0.5504 auc_roc=0.8375\n",
      "n_estimators=39 f1=0.5505 auc_roc=0.8372\n",
      "n_estimators=40 f1=0.5553 auc_roc=0.8369\n",
      "n_estimators=41 f1=0.5528 auc_roc=0.8375\n",
      "n_estimators=42 f1=0.5506 auc_roc=0.8390\n",
      "n_estimators=43 f1=0.5524 auc_roc=0.8399\n",
      "n_estimators=44 f1=0.5543 auc_roc=0.8394\n"
     ]
    }
   ],
   "source": [
    "best_result=0\n",
    "best_down_forest_model = None\n",
    "for i in range(1,45):\n",
    "    model = RandomForestClassifier(random_state = 12345, n_estimators = i)\n",
    "    model.fit(features_downsampled, target_downsampled)\n",
    "    predictions_valid = model.predict(features_valid)\n",
    "    res = f1_auc(model, target_valid, predictions_valid)\n",
    "    print('n_estimators={:.0f} f1={:>.4f} auc_roc={:>.4f}'.format(i, *res))\n",
    "    \n",
    "    if res[0] > best_result:\n",
    "        best_result = res[0]\n",
    "        best_down_forest_model = model"
   ]
  },
  {
   "cell_type": "markdown",
   "metadata": {},
   "source": [
    "Аналогичная ситуация и для леса - уменьшение не пошло на пользу. Посмотрим регрессию."
   ]
  },
  {
   "cell_type": "code",
   "execution_count": 51,
   "metadata": {},
   "outputs": [
    {
     "name": "stdout",
     "output_type": "stream",
     "text": [
      "f1=0.4732 auc_roc=0.7735\n"
     ]
    }
   ],
   "source": [
    "down_logistic_model = LogisticRegression(random_state = 12345, solver='liblinear')\n",
    "down_logistic_model.fit(features_downsampled, target_downsampled)\n",
    "predictions_valid = down_logistic_model.predict(features_valid)\n",
    "\n",
    "print('f1={:>.4f} auc_roc={:>.4f}'.format(*f1_auc(down_logistic_model, target_valid, predictions_valid)))"
   ]
  },
  {
   "cell_type": "markdown",
   "metadata": {},
   "source": [
    "И для логистической регрессии уменьшение выборки несколько ухудшило показатель метрики."
   ]
  },
  {
   "cell_type": "markdown",
   "metadata": {},
   "source": [
    "### Выводы\n",
    "\n",
    "Провели балансирование классов учётом весов, увеличением и уменьшением выборки. Лучший показатель дало увеличение выборки. Лучшая модель - модель случайного леса. У этой модели единственной добилисть требуемой метрики.\n"
   ]
  },
  {
   "cell_type": "markdown",
   "metadata": {},
   "source": [
    "## Тестирование модели"
   ]
  },
  {
   "cell_type": "markdown",
   "metadata": {},
   "source": [
    "Посмотрим как поведут себя модели на тестовой выборке. Объявим функцию-которая будет определять метрики по тестовой выборке и выводить информацию"
   ]
  },
  {
   "cell_type": "code",
   "execution_count": 52,
   "metadata": {},
   "outputs": [],
   "source": [
    "def func_test(model):\n",
    "    predictions_test = model.predict(features_test)\n",
    "    res = f1_auc(model, target_test, predictions_test)\n",
    "    print('f1={:>.4f} auc_roc={:>.4f}'.format(*res))\n",
    "    return None"
   ]
  },
  {
   "cell_type": "markdown",
   "metadata": {},
   "source": [
    "Будем выводить для модели результаты в порядке обучения моделей \n",
    "1) Без балансировки\n",
    "\n",
    "2) С учётом весов\n",
    "\n",
    "3) С увеличением выборки\n",
    "\n",
    "4) с уменьшением выборки"
   ]
  },
  {
   "cell_type": "markdown",
   "metadata": {},
   "source": [
    "Посмотрим на дерево"
   ]
  },
  {
   "cell_type": "code",
   "execution_count": 53,
   "metadata": {
    "scrolled": true
   },
   "outputs": [
    {
     "name": "stdout",
     "output_type": "stream",
     "text": [
      "f1=0.5620 auc_roc=0.4926\n"
     ]
    }
   ],
   "source": [
    "func_test(best_tree_model)"
   ]
  },
  {
   "cell_type": "code",
   "execution_count": 54,
   "metadata": {
    "scrolled": true
   },
   "outputs": [
    {
     "name": "stdout",
     "output_type": "stream",
     "text": [
      "f1=0.5934 auc_roc=0.4941\n"
     ]
    }
   ],
   "source": [
    "func_test(best_bal_tree_model)"
   ]
  },
  {
   "cell_type": "code",
   "execution_count": 55,
   "metadata": {},
   "outputs": [
    {
     "name": "stdout",
     "output_type": "stream",
     "text": [
      "f1=0.5934 auc_roc=0.4941\n"
     ]
    }
   ],
   "source": [
    "func_test(best_up_tree_model)"
   ]
  },
  {
   "cell_type": "code",
   "execution_count": 56,
   "metadata": {
    "scrolled": true
   },
   "outputs": [
    {
     "name": "stdout",
     "output_type": "stream",
     "text": [
      "f1=0.5842 auc_roc=0.4933\n"
     ]
    }
   ],
   "source": [
    "func_test(best_down_tree_model)"
   ]
  },
  {
   "cell_type": "markdown",
   "metadata": {},
   "source": [
    "Наилучший результат на тестировании показало дерево с балансировкой и с увеличением выборки эта одна и та же модель с глубиной 6."
   ]
  },
  {
   "cell_type": "markdown",
   "metadata": {},
   "source": [
    "Посмотрим на лес"
   ]
  },
  {
   "cell_type": "code",
   "execution_count": 57,
   "metadata": {},
   "outputs": [
    {
     "name": "stdout",
     "output_type": "stream",
     "text": [
      "f1=0.5629 auc_roc=0.4999\n"
     ]
    }
   ],
   "source": [
    "func_test(best_forest_model)"
   ]
  },
  {
   "cell_type": "code",
   "execution_count": 58,
   "metadata": {
    "scrolled": true
   },
   "outputs": [
    {
     "name": "stdout",
     "output_type": "stream",
     "text": [
      "f1=0.5524 auc_roc=0.5011\n"
     ]
    }
   ],
   "source": [
    "func_test(best_bal_forest_model)"
   ]
  },
  {
   "cell_type": "code",
   "execution_count": 59,
   "metadata": {},
   "outputs": [
    {
     "name": "stdout",
     "output_type": "stream",
     "text": [
      "f1=0.5990 auc_roc=0.4948\n"
     ]
    }
   ],
   "source": [
    "func_test(best_up_forest_model)"
   ]
  },
  {
   "cell_type": "code",
   "execution_count": 60,
   "metadata": {
    "scrolled": true
   },
   "outputs": [
    {
     "name": "stdout",
     "output_type": "stream",
     "text": [
      "f1=0.5817 auc_roc=0.5027\n"
     ]
    }
   ],
   "source": [
    "func_test(best_down_forest_model)"
   ]
  },
  {
   "cell_type": "markdown",
   "metadata": {},
   "source": [
    "Лучший результат показазал лес с увеличением выборки - несколько выше требуемого. Посмотрим на регрессию."
   ]
  },
  {
   "cell_type": "code",
   "execution_count": 61,
   "metadata": {},
   "outputs": [
    {
     "name": "stdout",
     "output_type": "stream",
     "text": [
      "f1=0.3007 auc_roc=0.4938\n"
     ]
    }
   ],
   "source": [
    "func_test(logistic_model)"
   ]
  },
  {
   "cell_type": "code",
   "execution_count": 62,
   "metadata": {},
   "outputs": [
    {
     "name": "stdout",
     "output_type": "stream",
     "text": [
      "f1=0.5034 auc_roc=0.4927\n"
     ]
    }
   ],
   "source": [
    "func_test(bal_logistic_model)"
   ]
  },
  {
   "cell_type": "code",
   "execution_count": 63,
   "metadata": {
    "scrolled": true
   },
   "outputs": [
    {
     "name": "stdout",
     "output_type": "stream",
     "text": [
      "f1=0.5029 auc_roc=0.4926\n"
     ]
    }
   ],
   "source": [
    "func_test(up_logistic_model)"
   ]
  },
  {
   "cell_type": "code",
   "execution_count": 64,
   "metadata": {},
   "outputs": [
    {
     "name": "stdout",
     "output_type": "stream",
     "text": [
      "f1=0.4988 auc_roc=0.4936\n"
     ]
    }
   ],
   "source": [
    "func_test(down_logistic_model)"
   ]
  },
  {
   "cell_type": "markdown",
   "metadata": {},
   "source": [
    "Лучший результат показала регрессия при увеличении выборки, но до требуемой метрики не дотягивает."
   ]
  },
  {
   "cell_type": "markdown",
   "metadata": {},
   "source": [
    "## Общие выводы \n",
    "\n",
    "В ходе исследования проверили баланс классов и обучили модели дерева решений, случайного леса и логистической регрессии без учёта дисбаланса. Лучший результат показал случайный лес. Однако у всех моделей метрика не достигала желаемой.\n",
    "\n",
    "Для улучшения баланса классов использовали веса, увеличение и уменьшение выборки. Лучший способ - увеличение выборки. Лучший результат опять показал лес на увеличенной выборке. У этой модели единственной на валидации метрика f1 получилась больше 0,59. \n",
    "\n",
    "В ходе тестирования лучший результат показал случайный лес с увеличенной выборки с превышением требуемой метрики.\n",
    "Также модель дерева показала на тестировании метрику больше 0,59. Вообще стоит заметить, что на тестировании у всех моделей значения получились ольше чем на валидации.\n",
    "\n",
    "Наилучшая модель - модель случайного леса, обученная на увеличенной выборке.\n",
    "\n",
    "Что касается AUC_ROC - то эта метрика на тестировании оказалась меньше, чем на валидации и кроме того - практически везде меньше, чем 0,5 (как для случайной модели).  Если сравнивать AUC_ROC, то максимумы у метрик в разных ситуация оказались. Вероятно эти метрики используются для различных задач."
   ]
  }
 ],
 "metadata": {
  "ExecuteTimeLog": [
   {
    "duration": 789,
    "start_time": "2022-01-18T18:05:32.866Z"
   },
   {
    "duration": 38,
    "start_time": "2022-01-18T18:05:51.674Z"
   },
   {
    "duration": 13,
    "start_time": "2022-01-18T18:06:01.199Z"
   },
   {
    "duration": 29,
    "start_time": "2022-01-18T18:06:18.887Z"
   },
   {
    "duration": 780,
    "start_time": "2022-01-18T18:10:29.576Z"
   },
   {
    "duration": 452,
    "start_time": "2022-01-18T18:10:40.520Z"
   },
   {
    "duration": 8,
    "start_time": "2022-01-18T18:10:57.861Z"
   },
   {
    "duration": 704,
    "start_time": "2022-01-19T07:11:14.974Z"
   },
   {
    "duration": 36,
    "start_time": "2022-01-19T07:11:16.928Z"
   },
   {
    "duration": 12,
    "start_time": "2022-01-19T07:11:18.734Z"
   },
   {
    "duration": 390,
    "start_time": "2022-01-19T07:13:45.284Z"
   },
   {
    "duration": 40,
    "start_time": "2022-01-19T07:13:55.705Z"
   },
   {
    "duration": 252,
    "start_time": "2022-01-19T07:20:53.751Z"
   },
   {
    "duration": 260,
    "start_time": "2022-01-19T07:21:10.016Z"
   },
   {
    "duration": 6,
    "start_time": "2022-01-19T07:21:29.466Z"
   },
   {
    "duration": 11,
    "start_time": "2022-01-19T07:21:36.359Z"
   },
   {
    "duration": 24,
    "start_time": "2022-01-19T07:22:20.422Z"
   },
   {
    "duration": 24,
    "start_time": "2022-01-19T07:22:30.341Z"
   },
   {
    "duration": 33,
    "start_time": "2022-01-19T07:22:40.576Z"
   },
   {
    "duration": 12,
    "start_time": "2022-01-19T07:22:41.118Z"
   },
   {
    "duration": 22,
    "start_time": "2022-01-19T07:22:42.936Z"
   },
   {
    "duration": 31,
    "start_time": "2022-01-19T07:22:44.227Z"
   },
   {
    "duration": 6,
    "start_time": "2022-01-19T07:22:46.831Z"
   },
   {
    "duration": 12,
    "start_time": "2022-01-19T07:22:47.305Z"
   },
   {
    "duration": 16,
    "start_time": "2022-01-19T07:22:53.800Z"
   },
   {
    "duration": 7,
    "start_time": "2022-01-19T07:23:58.787Z"
   },
   {
    "duration": 269,
    "start_time": "2022-01-19T07:24:09.192Z"
   },
   {
    "duration": 9,
    "start_time": "2022-01-19T07:24:17.206Z"
   },
   {
    "duration": 14,
    "start_time": "2022-01-19T07:30:39.444Z"
   },
   {
    "duration": 15,
    "start_time": "2022-01-19T07:31:00.038Z"
   },
   {
    "duration": 14,
    "start_time": "2022-01-19T07:36:51.900Z"
   },
   {
    "duration": 51,
    "start_time": "2022-01-19T07:39:17.020Z"
   },
   {
    "duration": 27,
    "start_time": "2022-01-19T07:39:39.571Z"
   },
   {
    "duration": 21,
    "start_time": "2022-01-19T07:39:48.170Z"
   },
   {
    "duration": 30,
    "start_time": "2022-01-19T07:39:49.957Z"
   },
   {
    "duration": 17,
    "start_time": "2022-01-19T07:39:53.697Z"
   },
   {
    "duration": 11,
    "start_time": "2022-01-19T07:40:00.373Z"
   },
   {
    "duration": 604,
    "start_time": "2022-01-19T07:43:10.794Z"
   },
   {
    "duration": 90,
    "start_time": "2022-01-19T07:47:53.939Z"
   },
   {
    "duration": 7489,
    "start_time": "2022-01-19T07:47:59.336Z"
   },
   {
    "duration": 18,
    "start_time": "2022-01-19T07:48:07.772Z"
   },
   {
    "duration": 3,
    "start_time": "2022-01-19T07:48:19.045Z"
   },
   {
    "duration": 6492,
    "start_time": "2022-01-19T07:48:22.608Z"
   },
   {
    "duration": 13,
    "start_time": "2022-01-19T07:48:33.763Z"
   },
   {
    "duration": 24,
    "start_time": "2022-01-19T07:48:38.317Z"
   },
   {
    "duration": 25,
    "start_time": "2022-01-19T07:48:50.703Z"
   },
   {
    "duration": 343,
    "start_time": "2022-01-19T07:49:30.751Z"
   },
   {
    "duration": 88,
    "start_time": "2022-01-19T07:49:49.828Z"
   },
   {
    "duration": 7,
    "start_time": "2022-01-19T07:49:54.242Z"
   },
   {
    "duration": 4,
    "start_time": "2022-01-19T07:49:59.165Z"
   },
   {
    "duration": 6997,
    "start_time": "2022-01-19T07:51:04.521Z"
   },
   {
    "duration": 259,
    "start_time": "2022-01-19T07:51:24.101Z"
   },
   {
    "duration": 88,
    "start_time": "2022-01-19T07:52:51.240Z"
   },
   {
    "duration": 276,
    "start_time": "2022-01-19T07:53:03.305Z"
   },
   {
    "duration": 10,
    "start_time": "2022-01-19T07:53:20.403Z"
   },
   {
    "duration": 1607,
    "start_time": "2022-01-19T07:53:23.572Z"
   },
   {
    "duration": 382,
    "start_time": "2022-01-19T07:53:59.193Z"
   },
   {
    "duration": 250,
    "start_time": "2022-01-19T07:54:10.733Z"
   },
   {
    "duration": 10,
    "start_time": "2022-01-19T07:54:37.248Z"
   },
   {
    "duration": 252,
    "start_time": "2022-01-19T07:54:42.708Z"
   },
   {
    "duration": 9,
    "start_time": "2022-01-19T07:55:07.982Z"
   },
   {
    "duration": 10,
    "start_time": "2022-01-19T07:56:17.809Z"
   },
   {
    "duration": 318,
    "start_time": "2022-01-19T07:56:56.441Z"
   },
   {
    "duration": 18,
    "start_time": "2022-01-19T07:57:11.397Z"
   },
   {
    "duration": 20,
    "start_time": "2022-01-19T07:57:17.154Z"
   },
   {
    "duration": 19,
    "start_time": "2022-01-19T07:57:56.435Z"
   },
   {
    "duration": 16,
    "start_time": "2022-01-19T08:01:06.575Z"
   },
   {
    "duration": 6,
    "start_time": "2022-01-19T08:04:42.323Z"
   },
   {
    "duration": 4,
    "start_time": "2022-01-19T08:05:32.950Z"
   },
   {
    "duration": 248,
    "start_time": "2022-01-19T08:09:15.606Z"
   },
   {
    "duration": 16,
    "start_time": "2022-01-19T08:09:36.397Z"
   },
   {
    "duration": 9,
    "start_time": "2022-01-19T08:09:40.289Z"
   },
   {
    "duration": 9,
    "start_time": "2022-01-19T08:09:45.928Z"
   },
   {
    "duration": 10,
    "start_time": "2022-01-19T08:10:03.205Z"
   },
   {
    "duration": 7,
    "start_time": "2022-01-19T08:10:59.857Z"
   },
   {
    "duration": 6,
    "start_time": "2022-01-19T08:12:01.209Z"
   },
   {
    "duration": 7,
    "start_time": "2022-01-19T08:12:12.805Z"
   },
   {
    "duration": 44,
    "start_time": "2022-01-19T08:14:27.360Z"
   },
   {
    "duration": 5,
    "start_time": "2022-01-19T08:16:38.095Z"
   },
   {
    "duration": 344,
    "start_time": "2022-01-19T08:17:59.644Z"
   },
   {
    "duration": 267,
    "start_time": "2022-01-19T08:18:46.153Z"
   },
   {
    "duration": 274,
    "start_time": "2022-01-19T08:19:46.599Z"
   },
   {
    "duration": 273,
    "start_time": "2022-01-19T08:19:53.184Z"
   },
   {
    "duration": 255,
    "start_time": "2022-01-19T08:20:48.794Z"
   },
   {
    "duration": 27,
    "start_time": "2022-01-19T08:20:58.165Z"
   },
   {
    "duration": 292,
    "start_time": "2022-01-19T08:21:46.364Z"
   },
   {
    "duration": 8,
    "start_time": "2022-01-19T08:24:17.729Z"
   },
   {
    "duration": 13,
    "start_time": "2022-01-19T08:24:32.439Z"
   },
   {
    "duration": 14,
    "start_time": "2022-01-19T08:24:39.410Z"
   },
   {
    "duration": 12,
    "start_time": "2022-01-19T08:24:43.959Z"
   },
   {
    "duration": 28,
    "start_time": "2022-01-19T08:24:53.078Z"
   },
   {
    "duration": 283,
    "start_time": "2022-01-19T08:24:57.550Z"
   },
   {
    "duration": 13,
    "start_time": "2022-01-19T08:24:59.766Z"
   },
   {
    "duration": 11,
    "start_time": "2022-01-19T08:25:06.069Z"
   },
   {
    "duration": 5,
    "start_time": "2022-01-19T08:25:50.877Z"
   },
   {
    "duration": 58,
    "start_time": "2022-01-19T08:25:50.884Z"
   },
   {
    "duration": 12,
    "start_time": "2022-01-19T08:25:50.945Z"
   },
   {
    "duration": 30,
    "start_time": "2022-01-19T08:25:50.960Z"
   },
   {
    "duration": 43,
    "start_time": "2022-01-19T08:25:50.993Z"
   },
   {
    "duration": 3,
    "start_time": "2022-01-19T08:25:55.617Z"
   },
   {
    "duration": 8,
    "start_time": "2022-01-19T08:26:10.863Z"
   },
   {
    "duration": 5,
    "start_time": "2022-01-19T08:26:14.223Z"
   },
   {
    "duration": 16,
    "start_time": "2022-01-19T08:26:14.623Z"
   },
   {
    "duration": 19,
    "start_time": "2022-01-19T08:26:15.699Z"
   },
   {
    "duration": 17,
    "start_time": "2022-01-19T08:26:15.952Z"
   },
   {
    "duration": 12,
    "start_time": "2022-01-19T08:26:16.951Z"
   },
   {
    "duration": 17,
    "start_time": "2022-01-19T08:26:17.252Z"
   },
   {
    "duration": 20,
    "start_time": "2022-01-19T08:26:17.834Z"
   },
   {
    "duration": 16,
    "start_time": "2022-01-19T08:26:18.309Z"
   },
   {
    "duration": 6,
    "start_time": "2022-01-19T08:26:21.629Z"
   },
   {
    "duration": 4,
    "start_time": "2022-01-19T08:26:23.352Z"
   },
   {
    "duration": 8,
    "start_time": "2022-01-19T08:26:24.388Z"
   },
   {
    "duration": 8,
    "start_time": "2022-01-19T08:26:25.450Z"
   },
   {
    "duration": 5,
    "start_time": "2022-01-19T08:26:26.080Z"
   },
   {
    "duration": 6,
    "start_time": "2022-01-19T08:26:26.373Z"
   },
   {
    "duration": 210,
    "start_time": "2022-01-19T08:26:38.269Z"
   },
   {
    "duration": 570,
    "start_time": "2022-01-19T08:27:12.230Z"
   },
   {
    "duration": 284,
    "start_time": "2022-01-19T08:27:34.328Z"
   },
   {
    "duration": 551,
    "start_time": "2022-01-19T08:28:10.382Z"
   },
   {
    "duration": 128,
    "start_time": "2022-01-19T08:28:53.080Z"
   },
   {
    "duration": 564,
    "start_time": "2022-01-19T08:28:59.007Z"
   },
   {
    "duration": 548,
    "start_time": "2022-01-19T08:29:49.900Z"
   },
   {
    "duration": 1863,
    "start_time": "2022-01-19T08:30:00.110Z"
   },
   {
    "duration": 2460,
    "start_time": "2022-01-19T08:30:31.984Z"
   },
   {
    "duration": 17708,
    "start_time": "2022-01-19T08:30:50.692Z"
   },
   {
    "duration": 1896,
    "start_time": "2022-01-19T08:31:12.120Z"
   },
   {
    "duration": 513,
    "start_time": "2022-01-19T08:32:10.370Z"
   },
   {
    "duration": 25,
    "start_time": "2022-01-19T08:32:55.735Z"
   },
   {
    "duration": 281,
    "start_time": "2022-01-19T08:35:03.854Z"
   },
   {
    "duration": 286,
    "start_time": "2022-01-19T08:35:10.078Z"
   },
   {
    "duration": 13,
    "start_time": "2022-01-19T08:35:13.916Z"
   },
   {
    "duration": 9,
    "start_time": "2022-01-19T08:35:19.766Z"
   },
   {
    "duration": 549,
    "start_time": "2022-01-19T08:37:04.246Z"
   },
   {
    "duration": 1777,
    "start_time": "2022-01-19T08:37:14.785Z"
   },
   {
    "duration": 34,
    "start_time": "2022-01-19T08:40:16.131Z"
   },
   {
    "duration": 10,
    "start_time": "2022-01-19T08:40:20.725Z"
   },
   {
    "duration": 525,
    "start_time": "2022-01-19T08:41:26.742Z"
   },
   {
    "duration": 533,
    "start_time": "2022-01-19T08:41:50.062Z"
   },
   {
    "duration": 540,
    "start_time": "2022-01-19T08:41:59.541Z"
   },
   {
    "duration": 563,
    "start_time": "2022-01-19T08:42:03.426Z"
   },
   {
    "duration": 515,
    "start_time": "2022-01-19T08:42:11.550Z"
   },
   {
    "duration": 30,
    "start_time": "2022-01-19T08:43:18.153Z"
   },
   {
    "duration": 30,
    "start_time": "2022-01-19T08:43:33.617Z"
   },
   {
    "duration": 31,
    "start_time": "2022-01-19T08:43:46.469Z"
   },
   {
    "duration": 11,
    "start_time": "2022-01-19T08:43:47.384Z"
   },
   {
    "duration": 9,
    "start_time": "2022-01-19T08:43:52.838Z"
   },
   {
    "duration": 6,
    "start_time": "2022-01-19T08:43:56.208Z"
   },
   {
    "duration": 17,
    "start_time": "2022-01-19T08:43:56.681Z"
   },
   {
    "duration": 20,
    "start_time": "2022-01-19T08:43:59.242Z"
   },
   {
    "duration": 18,
    "start_time": "2022-01-19T08:43:59.602Z"
   },
   {
    "duration": 7,
    "start_time": "2022-01-19T08:44:07.487Z"
   },
   {
    "duration": 4,
    "start_time": "2022-01-19T08:44:08.270Z"
   },
   {
    "duration": 9,
    "start_time": "2022-01-19T08:44:09.109Z"
   },
   {
    "duration": 9,
    "start_time": "2022-01-19T08:44:11.626Z"
   },
   {
    "duration": 8,
    "start_time": "2022-01-19T08:44:12.330Z"
   },
   {
    "duration": 6,
    "start_time": "2022-01-19T08:44:12.963Z"
   },
   {
    "duration": 6,
    "start_time": "2022-01-19T08:44:13.364Z"
   },
   {
    "duration": 6,
    "start_time": "2022-01-19T08:44:14.059Z"
   },
   {
    "duration": 526,
    "start_time": "2022-01-19T08:44:19.087Z"
   },
   {
    "duration": 1820,
    "start_time": "2022-01-19T08:44:26.703Z"
   },
   {
    "duration": 2445,
    "start_time": "2022-01-19T08:44:32.673Z"
   },
   {
    "duration": 58,
    "start_time": "2022-01-19T08:44:38.460Z"
   },
   {
    "duration": 64,
    "start_time": "2022-01-19T08:44:44.357Z"
   },
   {
    "duration": 34,
    "start_time": "2022-01-19T08:45:27.006Z"
   },
   {
    "duration": 6,
    "start_time": "2022-01-19T08:45:41.588Z"
   },
   {
    "duration": 6,
    "start_time": "2022-01-19T08:45:53.932Z"
   },
   {
    "duration": 4,
    "start_time": "2022-01-19T08:45:55.399Z"
   },
   {
    "duration": 9,
    "start_time": "2022-01-19T08:45:56.783Z"
   },
   {
    "duration": 8,
    "start_time": "2022-01-19T08:46:01.869Z"
   },
   {
    "duration": 10,
    "start_time": "2022-01-19T08:46:03.323Z"
   },
   {
    "duration": 6,
    "start_time": "2022-01-19T08:46:03.891Z"
   },
   {
    "duration": 6,
    "start_time": "2022-01-19T08:46:04.590Z"
   },
   {
    "duration": 9,
    "start_time": "2022-01-19T08:46:16.034Z"
   },
   {
    "duration": 6,
    "start_time": "2022-01-19T08:46:20.883Z"
   },
   {
    "duration": 4,
    "start_time": "2022-01-19T08:46:21.549Z"
   },
   {
    "duration": 8,
    "start_time": "2022-01-19T08:46:22.173Z"
   },
   {
    "duration": 9,
    "start_time": "2022-01-19T08:46:24.454Z"
   },
   {
    "duration": 8,
    "start_time": "2022-01-19T08:46:25.083Z"
   },
   {
    "duration": 6,
    "start_time": "2022-01-19T08:46:25.782Z"
   },
   {
    "duration": 5,
    "start_time": "2022-01-19T08:46:26.107Z"
   },
   {
    "duration": 5,
    "start_time": "2022-01-19T08:46:26.429Z"
   },
   {
    "duration": 335,
    "start_time": "2022-01-19T08:46:28.792Z"
   },
   {
    "duration": 18,
    "start_time": "2022-01-19T08:46:42.500Z"
   },
   {
    "duration": 7,
    "start_time": "2022-01-19T08:46:47.913Z"
   },
   {
    "duration": 4,
    "start_time": "2022-01-19T08:46:48.493Z"
   },
   {
    "duration": 9,
    "start_time": "2022-01-19T08:46:49.066Z"
   },
   {
    "duration": 8,
    "start_time": "2022-01-19T08:46:49.963Z"
   },
   {
    "duration": 8,
    "start_time": "2022-01-19T08:46:50.518Z"
   },
   {
    "duration": 5,
    "start_time": "2022-01-19T08:46:51.423Z"
   },
   {
    "duration": 5,
    "start_time": "2022-01-19T08:46:51.871Z"
   },
   {
    "duration": 6,
    "start_time": "2022-01-19T08:46:52.298Z"
   },
   {
    "duration": 541,
    "start_time": "2022-01-19T08:46:53.263Z"
   },
   {
    "duration": 266,
    "start_time": "2022-01-19T08:47:33.402Z"
   },
   {
    "duration": 8,
    "start_time": "2022-01-19T08:47:48.962Z"
   },
   {
    "duration": 9,
    "start_time": "2022-01-19T08:47:56.324Z"
   },
   {
    "duration": 4,
    "start_time": "2022-01-19T08:49:43.275Z"
   },
   {
    "duration": 38,
    "start_time": "2022-01-19T08:49:43.282Z"
   },
   {
    "duration": 12,
    "start_time": "2022-01-19T08:49:43.324Z"
   },
   {
    "duration": 18,
    "start_time": "2022-01-19T08:49:43.339Z"
   },
   {
    "duration": 33,
    "start_time": "2022-01-19T08:49:43.359Z"
   },
   {
    "duration": 3,
    "start_time": "2022-01-19T08:49:43.394Z"
   },
   {
    "duration": 39,
    "start_time": "2022-01-19T08:49:43.400Z"
   },
   {
    "duration": 5,
    "start_time": "2022-01-19T08:49:43.444Z"
   },
   {
    "duration": 22,
    "start_time": "2022-01-19T08:49:43.452Z"
   },
   {
    "duration": 18,
    "start_time": "2022-01-19T08:49:43.477Z"
   },
   {
    "duration": 45,
    "start_time": "2022-01-19T08:49:43.498Z"
   },
   {
    "duration": 10,
    "start_time": "2022-01-19T08:49:43.545Z"
   },
   {
    "duration": 17,
    "start_time": "2022-01-19T08:49:43.557Z"
   },
   {
    "duration": 16,
    "start_time": "2022-01-19T08:49:43.576Z"
   },
   {
    "duration": 56,
    "start_time": "2022-01-19T08:49:43.594Z"
   },
   {
    "duration": 6,
    "start_time": "2022-01-19T08:49:43.652Z"
   },
   {
    "duration": 6,
    "start_time": "2022-01-19T08:49:43.661Z"
   },
   {
    "duration": 12,
    "start_time": "2022-01-19T08:49:43.670Z"
   },
   {
    "duration": 9,
    "start_time": "2022-01-19T08:49:43.685Z"
   },
   {
    "duration": 39,
    "start_time": "2022-01-19T08:49:43.696Z"
   },
   {
    "duration": 6,
    "start_time": "2022-01-19T08:49:43.738Z"
   },
   {
    "duration": 324,
    "start_time": "2022-01-19T08:49:49.969Z"
   },
   {
    "duration": 368,
    "start_time": "2022-01-19T08:49:55.499Z"
   },
   {
    "duration": 518,
    "start_time": "2022-01-19T08:50:03.773Z"
   },
   {
    "duration": 88,
    "start_time": "2022-01-19T08:50:10.896Z"
   },
   {
    "duration": 2607,
    "start_time": "2022-01-19T08:50:22.071Z"
   },
   {
    "duration": 5879,
    "start_time": "2022-01-19T08:50:29.755Z"
   },
   {
    "duration": 5,
    "start_time": "2022-01-19T08:51:21.387Z"
   },
   {
    "duration": 38,
    "start_time": "2022-01-19T08:51:21.394Z"
   },
   {
    "duration": 11,
    "start_time": "2022-01-19T08:51:21.435Z"
   },
   {
    "duration": 17,
    "start_time": "2022-01-19T08:51:21.449Z"
   },
   {
    "duration": 34,
    "start_time": "2022-01-19T08:51:21.468Z"
   },
   {
    "duration": 5,
    "start_time": "2022-01-19T08:51:44.437Z"
   },
   {
    "duration": 42,
    "start_time": "2022-01-19T08:51:44.444Z"
   },
   {
    "duration": 12,
    "start_time": "2022-01-19T08:51:44.489Z"
   },
   {
    "duration": 39,
    "start_time": "2022-01-19T08:51:44.504Z"
   },
   {
    "duration": 36,
    "start_time": "2022-01-19T08:51:44.545Z"
   },
   {
    "duration": 3,
    "start_time": "2022-01-19T08:51:44.583Z"
   },
   {
    "duration": 10,
    "start_time": "2022-01-19T08:51:44.588Z"
   },
   {
    "duration": 34,
    "start_time": "2022-01-19T08:51:44.602Z"
   },
   {
    "duration": 19,
    "start_time": "2022-01-19T08:51:44.639Z"
   },
   {
    "duration": 20,
    "start_time": "2022-01-19T08:51:44.661Z"
   },
   {
    "duration": 19,
    "start_time": "2022-01-19T08:51:44.683Z"
   },
   {
    "duration": 34,
    "start_time": "2022-01-19T08:51:44.705Z"
   },
   {
    "duration": 15,
    "start_time": "2022-01-19T08:51:44.742Z"
   },
   {
    "duration": 28,
    "start_time": "2022-01-19T08:51:44.760Z"
   },
   {
    "duration": 16,
    "start_time": "2022-01-19T08:51:44.790Z"
   },
   {
    "duration": 24,
    "start_time": "2022-01-19T08:51:44.808Z"
   },
   {
    "duration": 11,
    "start_time": "2022-01-19T08:51:44.835Z"
   },
   {
    "duration": 11,
    "start_time": "2022-01-19T08:51:44.849Z"
   },
   {
    "duration": 10,
    "start_time": "2022-01-19T08:51:44.863Z"
   },
   {
    "duration": 8,
    "start_time": "2022-01-19T08:51:44.876Z"
   },
   {
    "duration": 50,
    "start_time": "2022-01-19T08:51:44.886Z"
   },
   {
    "duration": 25,
    "start_time": "2022-01-19T08:51:52.190Z"
   },
   {
    "duration": 6,
    "start_time": "2022-01-19T08:51:55.727Z"
   },
   {
    "duration": 5,
    "start_time": "2022-01-19T08:52:18.850Z"
   },
   {
    "duration": 37,
    "start_time": "2022-01-19T08:52:18.858Z"
   },
   {
    "duration": 11,
    "start_time": "2022-01-19T08:52:18.898Z"
   },
   {
    "duration": 23,
    "start_time": "2022-01-19T08:52:18.911Z"
   },
   {
    "duration": 29,
    "start_time": "2022-01-19T08:52:18.936Z"
   },
   {
    "duration": 3,
    "start_time": "2022-01-19T08:52:18.968Z"
   },
   {
    "duration": 8,
    "start_time": "2022-01-19T08:52:18.973Z"
   },
   {
    "duration": 12,
    "start_time": "2022-01-19T08:52:18.983Z"
   },
   {
    "duration": 45,
    "start_time": "2022-01-19T08:52:18.998Z"
   },
   {
    "duration": 23,
    "start_time": "2022-01-19T08:52:19.045Z"
   },
   {
    "duration": 18,
    "start_time": "2022-01-19T08:52:19.070Z"
   },
   {
    "duration": 11,
    "start_time": "2022-01-19T08:52:19.090Z"
   },
   {
    "duration": 40,
    "start_time": "2022-01-19T08:52:19.103Z"
   },
   {
    "duration": 16,
    "start_time": "2022-01-19T08:52:19.146Z"
   },
   {
    "duration": 16,
    "start_time": "2022-01-19T08:52:19.164Z"
   },
   {
    "duration": 24,
    "start_time": "2022-01-19T08:52:21.769Z"
   },
   {
    "duration": 6,
    "start_time": "2022-01-19T08:52:23.712Z"
   },
   {
    "duration": 4,
    "start_time": "2022-01-19T08:52:24.357Z"
   },
   {
    "duration": 8,
    "start_time": "2022-01-19T08:52:24.949Z"
   },
   {
    "duration": 9,
    "start_time": "2022-01-19T08:52:26.290Z"
   },
   {
    "duration": 8,
    "start_time": "2022-01-19T08:52:27.158Z"
   },
   {
    "duration": 6,
    "start_time": "2022-01-19T08:52:27.803Z"
   },
   {
    "duration": 5,
    "start_time": "2022-01-19T08:52:28.136Z"
   },
   {
    "duration": 276,
    "start_time": "2022-01-19T08:52:33.544Z"
   },
   {
    "duration": 4,
    "start_time": "2022-01-19T08:52:49.678Z"
   },
   {
    "duration": 36,
    "start_time": "2022-01-19T08:52:49.685Z"
   },
   {
    "duration": 11,
    "start_time": "2022-01-19T08:52:49.724Z"
   },
   {
    "duration": 18,
    "start_time": "2022-01-19T08:52:49.737Z"
   },
   {
    "duration": 32,
    "start_time": "2022-01-19T08:52:49.757Z"
   },
   {
    "duration": 3,
    "start_time": "2022-01-19T08:52:49.791Z"
   },
   {
    "duration": 36,
    "start_time": "2022-01-19T08:52:49.796Z"
   },
   {
    "duration": 7,
    "start_time": "2022-01-19T08:52:49.835Z"
   },
   {
    "duration": 22,
    "start_time": "2022-01-19T08:52:49.844Z"
   },
   {
    "duration": 19,
    "start_time": "2022-01-19T08:52:49.869Z"
   },
   {
    "duration": 16,
    "start_time": "2022-01-19T08:52:49.890Z"
   },
   {
    "duration": 11,
    "start_time": "2022-01-19T08:52:49.932Z"
   },
   {
    "duration": 18,
    "start_time": "2022-01-19T08:52:49.946Z"
   },
   {
    "duration": 20,
    "start_time": "2022-01-19T08:52:49.967Z"
   },
   {
    "duration": 56,
    "start_time": "2022-01-19T08:52:49.990Z"
   },
   {
    "duration": 5,
    "start_time": "2022-01-19T08:52:53.144Z"
   },
   {
    "duration": 6,
    "start_time": "2022-01-19T08:52:54.798Z"
   },
   {
    "duration": 3,
    "start_time": "2022-01-19T08:52:55.376Z"
   },
   {
    "duration": 8,
    "start_time": "2022-01-19T08:52:56.009Z"
   },
   {
    "duration": 9,
    "start_time": "2022-01-19T08:52:57.185Z"
   },
   {
    "duration": 8,
    "start_time": "2022-01-19T08:52:57.875Z"
   },
   {
    "duration": 6,
    "start_time": "2022-01-19T08:52:58.550Z"
   },
   {
    "duration": 5,
    "start_time": "2022-01-19T08:52:58.883Z"
   },
   {
    "duration": 579,
    "start_time": "2022-01-19T08:52:59.966Z"
   },
   {
    "duration": 4,
    "start_time": "2022-01-19T08:53:56.527Z"
   },
   {
    "duration": 35,
    "start_time": "2022-01-19T08:53:56.534Z"
   },
   {
    "duration": 10,
    "start_time": "2022-01-19T08:53:56.572Z"
   },
   {
    "duration": 18,
    "start_time": "2022-01-19T08:53:56.584Z"
   },
   {
    "duration": 56,
    "start_time": "2022-01-19T08:53:56.604Z"
   },
   {
    "duration": 4,
    "start_time": "2022-01-19T08:53:56.662Z"
   },
   {
    "duration": 11,
    "start_time": "2022-01-19T08:53:56.668Z"
   },
   {
    "duration": 5,
    "start_time": "2022-01-19T08:53:56.683Z"
   },
   {
    "duration": 46,
    "start_time": "2022-01-19T08:53:56.691Z"
   },
   {
    "duration": 21,
    "start_time": "2022-01-19T08:53:56.739Z"
   },
   {
    "duration": 19,
    "start_time": "2022-01-19T08:53:56.762Z"
   },
   {
    "duration": 12,
    "start_time": "2022-01-19T08:53:56.783Z"
   },
   {
    "duration": 16,
    "start_time": "2022-01-19T08:53:56.833Z"
   },
   {
    "duration": 16,
    "start_time": "2022-01-19T08:53:56.852Z"
   },
   {
    "duration": 17,
    "start_time": "2022-01-19T08:53:56.870Z"
   },
   {
    "duration": 6,
    "start_time": "2022-01-19T08:53:56.889Z"
   },
   {
    "duration": 36,
    "start_time": "2022-01-19T08:53:56.897Z"
   },
   {
    "duration": 10,
    "start_time": "2022-01-19T08:53:56.936Z"
   },
   {
    "duration": 8,
    "start_time": "2022-01-19T08:53:56.948Z"
   },
   {
    "duration": 8,
    "start_time": "2022-01-19T08:53:56.958Z"
   },
   {
    "duration": 5,
    "start_time": "2022-01-19T08:53:56.968Z"
   },
   {
    "duration": 8,
    "start_time": "2022-01-19T08:53:56.975Z"
   },
   {
    "duration": 594,
    "start_time": "2022-01-19T08:53:59.224Z"
   },
   {
    "duration": 4,
    "start_time": "2022-01-19T08:54:15.860Z"
   },
   {
    "duration": 42,
    "start_time": "2022-01-19T08:54:15.866Z"
   },
   {
    "duration": 11,
    "start_time": "2022-01-19T08:54:15.912Z"
   },
   {
    "duration": 20,
    "start_time": "2022-01-19T08:54:15.926Z"
   },
   {
    "duration": 30,
    "start_time": "2022-01-19T08:54:15.949Z"
   },
   {
    "duration": 3,
    "start_time": "2022-01-19T08:54:15.981Z"
   },
   {
    "duration": 12,
    "start_time": "2022-01-19T08:54:15.986Z"
   },
   {
    "duration": 34,
    "start_time": "2022-01-19T08:54:16.001Z"
   },
   {
    "duration": 20,
    "start_time": "2022-01-19T08:54:16.038Z"
   },
   {
    "duration": 27,
    "start_time": "2022-01-19T08:54:16.061Z"
   },
   {
    "duration": 17,
    "start_time": "2022-01-19T08:54:16.091Z"
   },
   {
    "duration": 14,
    "start_time": "2022-01-19T08:54:16.133Z"
   },
   {
    "duration": 16,
    "start_time": "2022-01-19T08:54:16.149Z"
   },
   {
    "duration": 16,
    "start_time": "2022-01-19T08:54:16.167Z"
   },
   {
    "duration": 52,
    "start_time": "2022-01-19T08:54:16.185Z"
   },
   {
    "duration": 7,
    "start_time": "2022-01-19T08:54:16.239Z"
   },
   {
    "duration": 5,
    "start_time": "2022-01-19T08:54:16.248Z"
   },
   {
    "duration": 10,
    "start_time": "2022-01-19T08:54:16.256Z"
   },
   {
    "duration": 16,
    "start_time": "2022-01-19T08:54:16.268Z"
   },
   {
    "duration": 10,
    "start_time": "2022-01-19T08:54:16.287Z"
   },
   {
    "duration": 35,
    "start_time": "2022-01-19T08:54:16.300Z"
   },
   {
    "duration": 7,
    "start_time": "2022-01-19T08:54:16.337Z"
   },
   {
    "duration": 583,
    "start_time": "2022-01-19T08:54:18.575Z"
   },
   {
    "duration": 3,
    "start_time": "2022-01-19T08:55:23.366Z"
   },
   {
    "duration": 4,
    "start_time": "2022-01-19T08:55:28.726Z"
   },
   {
    "duration": 35,
    "start_time": "2022-01-19T08:55:28.732Z"
   },
   {
    "duration": 11,
    "start_time": "2022-01-19T08:55:28.770Z"
   },
   {
    "duration": 21,
    "start_time": "2022-01-19T08:55:28.784Z"
   },
   {
    "duration": 277,
    "start_time": "2022-01-19T08:55:49.482Z"
   },
   {
    "duration": 32,
    "start_time": "2022-01-19T08:55:53.566Z"
   },
   {
    "duration": 10,
    "start_time": "2022-01-19T08:57:32.440Z"
   },
   {
    "duration": 4,
    "start_time": "2022-01-19T08:57:42.106Z"
   },
   {
    "duration": 35,
    "start_time": "2022-01-19T08:57:42.113Z"
   },
   {
    "duration": 10,
    "start_time": "2022-01-19T08:57:42.151Z"
   },
   {
    "duration": 17,
    "start_time": "2022-01-19T08:57:42.164Z"
   },
   {
    "duration": 67,
    "start_time": "2022-01-19T08:57:42.184Z"
   },
   {
    "duration": 3,
    "start_time": "2022-01-19T08:57:42.253Z"
   },
   {
    "duration": 11,
    "start_time": "2022-01-19T08:57:42.258Z"
   },
   {
    "duration": 5,
    "start_time": "2022-01-19T08:57:42.271Z"
   },
   {
    "duration": 19,
    "start_time": "2022-01-19T08:57:42.280Z"
   },
   {
    "duration": 43,
    "start_time": "2022-01-19T08:57:42.301Z"
   },
   {
    "duration": 17,
    "start_time": "2022-01-19T08:57:42.346Z"
   },
   {
    "duration": 12,
    "start_time": "2022-01-19T08:57:42.365Z"
   },
   {
    "duration": 12,
    "start_time": "2022-01-19T08:57:42.379Z"
   },
   {
    "duration": 52,
    "start_time": "2022-01-19T08:57:42.393Z"
   },
   {
    "duration": 15,
    "start_time": "2022-01-19T08:57:42.447Z"
   },
   {
    "duration": 9,
    "start_time": "2022-01-19T08:57:42.464Z"
   },
   {
    "duration": 6,
    "start_time": "2022-01-19T08:57:42.475Z"
   },
   {
    "duration": 12,
    "start_time": "2022-01-19T08:57:42.483Z"
   },
   {
    "duration": 42,
    "start_time": "2022-01-19T08:57:42.497Z"
   },
   {
    "duration": 8,
    "start_time": "2022-01-19T08:57:42.541Z"
   },
   {
    "duration": 5,
    "start_time": "2022-01-19T08:57:42.552Z"
   },
   {
    "duration": 5,
    "start_time": "2022-01-19T08:58:01.037Z"
   },
   {
    "duration": 621,
    "start_time": "2022-01-19T08:58:01.539Z"
   },
   {
    "duration": 4,
    "start_time": "2022-01-19T08:58:27.250Z"
   },
   {
    "duration": 38,
    "start_time": "2022-01-19T08:58:27.256Z"
   },
   {
    "duration": 12,
    "start_time": "2022-01-19T08:58:27.298Z"
   },
   {
    "duration": 26,
    "start_time": "2022-01-19T08:58:27.313Z"
   },
   {
    "duration": 37,
    "start_time": "2022-01-19T08:58:27.341Z"
   },
   {
    "duration": 3,
    "start_time": "2022-01-19T08:58:27.381Z"
   },
   {
    "duration": 14,
    "start_time": "2022-01-19T08:58:27.386Z"
   },
   {
    "duration": 5,
    "start_time": "2022-01-19T08:58:27.403Z"
   },
   {
    "duration": 16,
    "start_time": "2022-01-19T08:58:27.432Z"
   },
   {
    "duration": 21,
    "start_time": "2022-01-19T08:58:27.451Z"
   },
   {
    "duration": 17,
    "start_time": "2022-01-19T08:58:27.475Z"
   },
   {
    "duration": 39,
    "start_time": "2022-01-19T08:58:27.494Z"
   },
   {
    "duration": 12,
    "start_time": "2022-01-19T08:58:27.535Z"
   },
   {
    "duration": 14,
    "start_time": "2022-01-19T08:58:27.549Z"
   },
   {
    "duration": 15,
    "start_time": "2022-01-19T08:58:27.565Z"
   },
   {
    "duration": 8,
    "start_time": "2022-01-19T08:58:27.582Z"
   },
   {
    "duration": 47,
    "start_time": "2022-01-19T08:58:27.592Z"
   },
   {
    "duration": 17,
    "start_time": "2022-01-19T08:58:27.641Z"
   },
   {
    "duration": 8,
    "start_time": "2022-01-19T08:58:27.661Z"
   },
   {
    "duration": 9,
    "start_time": "2022-01-19T08:58:27.671Z"
   },
   {
    "duration": 8,
    "start_time": "2022-01-19T08:58:27.682Z"
   },
   {
    "duration": 6,
    "start_time": "2022-01-19T08:58:27.692Z"
   },
   {
    "duration": 525,
    "start_time": "2022-01-19T08:58:29.615Z"
   },
   {
    "duration": 9,
    "start_time": "2022-01-19T08:58:35.497Z"
   },
   {
    "duration": 542,
    "start_time": "2022-01-19T08:59:13.290Z"
   },
   {
    "duration": 513,
    "start_time": "2022-01-19T08:59:23.879Z"
   },
   {
    "duration": 393,
    "start_time": "2022-01-19T09:01:05.337Z"
   },
   {
    "duration": 385,
    "start_time": "2022-01-19T09:01:27.837Z"
   },
   {
    "duration": 263,
    "start_time": "2022-01-19T09:01:52.025Z"
   },
   {
    "duration": 306,
    "start_time": "2022-01-19T09:02:32.497Z"
   },
   {
    "duration": 362,
    "start_time": "2022-01-19T09:02:39.517Z"
   },
   {
    "duration": 576,
    "start_time": "2022-01-19T09:02:47.171Z"
   },
   {
    "duration": 770,
    "start_time": "2022-01-19T09:03:06.634Z"
   },
   {
    "duration": 549,
    "start_time": "2022-01-19T09:03:34.199Z"
   },
   {
    "duration": 532,
    "start_time": "2022-01-19T09:04:00.608Z"
   },
   {
    "duration": 382,
    "start_time": "2022-01-19T09:04:11.297Z"
   },
   {
    "duration": 404,
    "start_time": "2022-01-19T09:04:17.463Z"
   },
   {
    "duration": 538,
    "start_time": "2022-01-19T09:04:21.397Z"
   },
   {
    "duration": 831,
    "start_time": "2022-01-19T09:04:27.763Z"
   },
   {
    "duration": 1075,
    "start_time": "2022-01-19T20:35:52.579Z"
   },
   {
    "duration": 31,
    "start_time": "2022-01-19T20:35:53.656Z"
   },
   {
    "duration": 8,
    "start_time": "2022-01-19T20:35:53.689Z"
   },
   {
    "duration": 19,
    "start_time": "2022-01-19T20:35:53.699Z"
   },
   {
    "duration": 29,
    "start_time": "2022-01-19T20:35:53.720Z"
   },
   {
    "duration": 3,
    "start_time": "2022-01-19T20:35:53.751Z"
   },
   {
    "duration": 14,
    "start_time": "2022-01-19T20:35:53.755Z"
   },
   {
    "duration": 26,
    "start_time": "2022-01-19T20:35:53.771Z"
   },
   {
    "duration": 12,
    "start_time": "2022-01-19T20:35:56.882Z"
   },
   {
    "duration": 15,
    "start_time": "2022-01-19T20:36:01.482Z"
   },
   {
    "duration": 14,
    "start_time": "2022-01-19T20:36:01.915Z"
   },
   {
    "duration": 5,
    "start_time": "2022-01-19T20:37:08.669Z"
   },
   {
    "duration": 18,
    "start_time": "2022-01-19T20:37:16.668Z"
   },
   {
    "duration": 4,
    "start_time": "2022-01-19T20:37:43.895Z"
   },
   {
    "duration": 42,
    "start_time": "2022-01-19T20:37:43.901Z"
   },
   {
    "duration": 14,
    "start_time": "2022-01-19T20:37:43.946Z"
   },
   {
    "duration": 20,
    "start_time": "2022-01-19T20:37:43.962Z"
   },
   {
    "duration": 22,
    "start_time": "2022-01-19T20:37:51.191Z"
   },
   {
    "duration": 5,
    "start_time": "2022-01-19T20:37:54.243Z"
   },
   {
    "duration": 11,
    "start_time": "2022-01-19T20:37:54.743Z"
   },
   {
    "duration": 13,
    "start_time": "2022-01-19T20:37:57.595Z"
   },
   {
    "duration": 12,
    "start_time": "2022-01-19T20:37:58.161Z"
   },
   {
    "duration": 5,
    "start_time": "2022-01-19T20:38:07.882Z"
   },
   {
    "duration": 19,
    "start_time": "2022-01-19T20:38:08.672Z"
   },
   {
    "duration": 8,
    "start_time": "2022-01-19T20:38:16.718Z"
   },
   {
    "duration": 6,
    "start_time": "2022-01-19T20:38:35.869Z"
   },
   {
    "duration": 29,
    "start_time": "2022-01-19T20:38:55.826Z"
   },
   {
    "duration": 6,
    "start_time": "2022-01-19T20:39:01.606Z"
   },
   {
    "duration": 13,
    "start_time": "2022-01-19T20:39:01.977Z"
   },
   {
    "duration": 29,
    "start_time": "2022-01-19T20:39:19.660Z"
   },
   {
    "duration": 5,
    "start_time": "2022-01-19T20:39:23.769Z"
   },
   {
    "duration": 13,
    "start_time": "2022-01-19T20:39:28.673Z"
   },
   {
    "duration": 14,
    "start_time": "2022-01-19T20:39:29.725Z"
   },
   {
    "duration": 28,
    "start_time": "2022-01-19T20:40:31.084Z"
   },
   {
    "duration": 4370,
    "start_time": "2022-01-19T20:43:24.348Z"
   },
   {
    "duration": 27,
    "start_time": "2022-01-19T20:43:37.846Z"
   },
   {
    "duration": 5171,
    "start_time": "2022-01-19T20:43:44.502Z"
   },
   {
    "duration": 70,
    "start_time": "2022-01-19T20:44:24.343Z"
   },
   {
    "duration": 8,
    "start_time": "2022-01-19T20:44:32.899Z"
   },
   {
    "duration": 25,
    "start_time": "2022-01-19T20:44:41.681Z"
   },
   {
    "duration": 5,
    "start_time": "2022-01-19T20:45:14.295Z"
   },
   {
    "duration": 20,
    "start_time": "2022-01-19T20:45:17.233Z"
   },
   {
    "duration": 5,
    "start_time": "2022-01-19T20:45:28.670Z"
   },
   {
    "duration": 20,
    "start_time": "2022-01-19T20:45:30.458Z"
   },
   {
    "duration": 5,
    "start_time": "2022-01-19T20:45:53.315Z"
   },
   {
    "duration": 19,
    "start_time": "2022-01-19T20:45:55.199Z"
   },
   {
    "duration": 22,
    "start_time": "2022-01-19T20:45:57.425Z"
   },
   {
    "duration": 29,
    "start_time": "2022-01-19T20:46:20.288Z"
   },
   {
    "duration": 8,
    "start_time": "2022-01-19T20:46:21.090Z"
   },
   {
    "duration": 5,
    "start_time": "2022-01-19T20:46:44.272Z"
   },
   {
    "duration": 21,
    "start_time": "2022-01-19T20:46:45.046Z"
   },
   {
    "duration": 29,
    "start_time": "2022-01-19T20:47:00.673Z"
   },
   {
    "duration": 4667,
    "start_time": "2022-01-19T20:47:10.684Z"
   },
   {
    "duration": 10,
    "start_time": "2022-01-19T20:48:00.994Z"
   },
   {
    "duration": 27,
    "start_time": "2022-01-19T20:48:02.839Z"
   },
   {
    "duration": 57,
    "start_time": "2022-01-19T20:48:41.112Z"
   },
   {
    "duration": 14,
    "start_time": "2022-01-19T20:48:44.892Z"
   },
   {
    "duration": 22,
    "start_time": "2022-01-19T20:48:46.859Z"
   },
   {
    "duration": 28,
    "start_time": "2022-01-19T20:49:00.450Z"
   },
   {
    "duration": 23,
    "start_time": "2022-01-19T20:49:04.654Z"
   },
   {
    "duration": 4451,
    "start_time": "2022-01-19T20:49:10.391Z"
   },
   {
    "duration": 4,
    "start_time": "2022-01-19T20:49:35.253Z"
   },
   {
    "duration": 20,
    "start_time": "2022-01-19T20:49:37.247Z"
   },
   {
    "duration": 4,
    "start_time": "2022-01-19T20:49:58.799Z"
   },
   {
    "duration": 22,
    "start_time": "2022-01-19T20:50:04.322Z"
   },
   {
    "duration": 7,
    "start_time": "2022-01-19T20:50:33.771Z"
   },
   {
    "duration": 6,
    "start_time": "2022-01-19T20:50:39.590Z"
   },
   {
    "duration": 4,
    "start_time": "2022-01-19T20:50:47.222Z"
   },
   {
    "duration": 11,
    "start_time": "2022-01-19T20:50:47.729Z"
   },
   {
    "duration": 15,
    "start_time": "2022-01-19T20:50:52.750Z"
   },
   {
    "duration": 13,
    "start_time": "2022-01-19T20:50:53.801Z"
   },
   {
    "duration": 10,
    "start_time": "2022-01-19T20:51:07.834Z"
   },
   {
    "duration": 14,
    "start_time": "2022-01-19T20:51:09.110Z"
   },
   {
    "duration": 13,
    "start_time": "2022-01-19T20:51:10.107Z"
   },
   {
    "duration": 12,
    "start_time": "2022-01-19T20:51:17.650Z"
   },
   {
    "duration": 13,
    "start_time": "2022-01-19T20:51:21.780Z"
   },
   {
    "duration": 5,
    "start_time": "2022-01-19T20:51:25.200Z"
   },
   {
    "duration": 3,
    "start_time": "2022-01-19T20:51:25.922Z"
   },
   {
    "duration": 8,
    "start_time": "2022-01-19T20:51:26.576Z"
   },
   {
    "duration": 7,
    "start_time": "2022-01-19T20:51:29.986Z"
   },
   {
    "duration": 8,
    "start_time": "2022-01-19T20:51:32.225Z"
   },
   {
    "duration": 5,
    "start_time": "2022-01-19T20:51:32.893Z"
   },
   {
    "duration": 4,
    "start_time": "2022-01-19T20:51:33.194Z"
   },
   {
    "duration": 178,
    "start_time": "2022-01-19T20:51:33.532Z"
   },
   {
    "duration": 3,
    "start_time": "2022-01-19T20:51:53.441Z"
   },
   {
    "duration": 36,
    "start_time": "2022-01-19T20:51:53.446Z"
   },
   {
    "duration": 10,
    "start_time": "2022-01-19T20:51:53.484Z"
   },
   {
    "duration": 12,
    "start_time": "2022-01-19T20:51:53.496Z"
   },
   {
    "duration": 24,
    "start_time": "2022-01-19T20:51:53.511Z"
   },
   {
    "duration": 4,
    "start_time": "2022-01-19T20:51:53.571Z"
   },
   {
    "duration": 6,
    "start_time": "2022-01-19T20:51:53.577Z"
   },
   {
    "duration": 6,
    "start_time": "2022-01-19T20:51:53.585Z"
   },
   {
    "duration": 25,
    "start_time": "2022-01-19T20:51:53.593Z"
   },
   {
    "duration": 4,
    "start_time": "2022-01-19T20:51:53.620Z"
   },
   {
    "duration": 18,
    "start_time": "2022-01-19T20:51:53.626Z"
   },
   {
    "duration": 15,
    "start_time": "2022-01-19T20:51:53.647Z"
   },
   {
    "duration": 37,
    "start_time": "2022-01-19T20:51:53.664Z"
   },
   {
    "duration": 9,
    "start_time": "2022-01-19T20:51:53.703Z"
   },
   {
    "duration": 15,
    "start_time": "2022-01-19T20:51:53.714Z"
   },
   {
    "duration": 13,
    "start_time": "2022-01-19T20:51:53.731Z"
   },
   {
    "duration": 11,
    "start_time": "2022-01-19T20:51:53.745Z"
   },
   {
    "duration": 5,
    "start_time": "2022-01-19T20:51:55.459Z"
   },
   {
    "duration": 3,
    "start_time": "2022-01-19T20:51:56.313Z"
   },
   {
    "duration": 7,
    "start_time": "2022-01-19T20:51:56.999Z"
   },
   {
    "duration": 7,
    "start_time": "2022-01-19T20:51:58.218Z"
   },
   {
    "duration": 7,
    "start_time": "2022-01-19T20:51:58.824Z"
   },
   {
    "duration": 4,
    "start_time": "2022-01-19T20:51:59.560Z"
   },
   {
    "duration": 4,
    "start_time": "2022-01-19T20:51:59.902Z"
   },
   {
    "duration": 500,
    "start_time": "2022-01-19T20:52:00.522Z"
   },
   {
    "duration": 4464,
    "start_time": "2022-01-19T20:52:09.200Z"
   },
   {
    "duration": 2726,
    "start_time": "2022-01-19T20:52:30.821Z"
   },
   {
    "duration": 585,
    "start_time": "2022-01-19T20:52:46.490Z"
   },
   {
    "duration": 2737,
    "start_time": "2022-01-19T20:53:21.656Z"
   },
   {
    "duration": 4364,
    "start_time": "2022-01-19T20:53:43.020Z"
   },
   {
    "duration": 526,
    "start_time": "2022-01-19T20:53:58.840Z"
   },
   {
    "duration": 809,
    "start_time": "2022-01-19T20:54:11.454Z"
   },
   {
    "duration": 1620,
    "start_time": "2022-01-19T20:55:00.662Z"
   },
   {
    "duration": 4486,
    "start_time": "2022-01-19T20:55:23.540Z"
   },
   {
    "duration": 3021,
    "start_time": "2022-01-19T20:55:30.011Z"
   },
   {
    "duration": 1370,
    "start_time": "2022-01-19T20:55:49.781Z"
   },
   {
    "duration": 1371,
    "start_time": "2022-01-19T20:56:05.972Z"
   },
   {
    "duration": 3799,
    "start_time": "2022-01-19T20:56:16.083Z"
   },
   {
    "duration": 9268,
    "start_time": "2022-01-19T20:56:26.760Z"
   },
   {
    "duration": 4,
    "start_time": "2022-01-19T20:57:41.982Z"
   },
   {
    "duration": 41,
    "start_time": "2022-01-19T20:57:41.988Z"
   },
   {
    "duration": 8,
    "start_time": "2022-01-19T20:57:42.031Z"
   },
   {
    "duration": 12,
    "start_time": "2022-01-19T20:57:42.041Z"
   },
   {
    "duration": 22,
    "start_time": "2022-01-19T20:57:42.055Z"
   },
   {
    "duration": 4,
    "start_time": "2022-01-19T20:57:45.272Z"
   },
   {
    "duration": 21,
    "start_time": "2022-01-19T20:57:47.601Z"
   },
   {
    "duration": 4,
    "start_time": "2022-01-19T20:58:27.943Z"
   },
   {
    "duration": 22,
    "start_time": "2022-01-19T20:58:30.252Z"
   },
   {
    "duration": 9,
    "start_time": "2022-01-19T20:58:37.011Z"
   },
   {
    "duration": 6,
    "start_time": "2022-01-19T21:00:28.182Z"
   },
   {
    "duration": 8,
    "start_time": "2022-01-19T21:00:37.764Z"
   },
   {
    "duration": 4,
    "start_time": "2022-01-19T21:00:46.034Z"
   },
   {
    "duration": 9,
    "start_time": "2022-01-19T21:00:48.091Z"
   },
   {
    "duration": 822,
    "start_time": "2022-01-19T21:01:13.387Z"
   },
   {
    "duration": 4,
    "start_time": "2022-01-19T21:01:39.628Z"
   },
   {
    "duration": 12,
    "start_time": "2022-01-19T21:01:40.803Z"
   },
   {
    "duration": 14,
    "start_time": "2022-01-19T21:01:42.485Z"
   },
   {
    "duration": 13,
    "start_time": "2022-01-19T21:01:42.771Z"
   },
   {
    "duration": 9,
    "start_time": "2022-01-19T21:01:43.711Z"
   },
   {
    "duration": 12,
    "start_time": "2022-01-19T21:01:43.998Z"
   },
   {
    "duration": 14,
    "start_time": "2022-01-19T21:01:44.583Z"
   },
   {
    "duration": 12,
    "start_time": "2022-01-19T21:01:45.249Z"
   },
   {
    "duration": 4,
    "start_time": "2022-01-19T21:01:48.862Z"
   },
   {
    "duration": 2,
    "start_time": "2022-01-19T21:01:50.097Z"
   },
   {
    "duration": 6,
    "start_time": "2022-01-19T21:01:50.962Z"
   },
   {
    "duration": 8,
    "start_time": "2022-01-19T21:01:52.233Z"
   },
   {
    "duration": 6,
    "start_time": "2022-01-19T21:01:52.929Z"
   },
   {
    "duration": 4,
    "start_time": "2022-01-19T21:01:53.671Z"
   },
   {
    "duration": 4,
    "start_time": "2022-01-19T21:01:54.142Z"
   },
   {
    "duration": 745,
    "start_time": "2022-01-19T21:01:54.995Z"
   },
   {
    "duration": 2896,
    "start_time": "2022-01-19T21:02:12.045Z"
   },
   {
    "duration": 1286,
    "start_time": "2022-01-19T21:02:17.362Z"
   },
   {
    "duration": 3,
    "start_time": "2022-01-19T21:03:16.509Z"
   },
   {
    "duration": 55,
    "start_time": "2022-01-19T21:03:16.514Z"
   },
   {
    "duration": 37,
    "start_time": "2022-01-19T21:03:16.571Z"
   },
   {
    "duration": 40,
    "start_time": "2022-01-19T21:03:16.610Z"
   },
   {
    "duration": 49,
    "start_time": "2022-01-19T21:03:16.651Z"
   },
   {
    "duration": 12,
    "start_time": "2022-01-19T21:03:16.702Z"
   },
   {
    "duration": 34,
    "start_time": "2022-01-19T21:03:16.716Z"
   },
   {
    "duration": 39,
    "start_time": "2022-01-19T21:03:16.752Z"
   },
   {
    "duration": 29,
    "start_time": "2022-01-19T21:03:16.793Z"
   },
   {
    "duration": 36,
    "start_time": "2022-01-19T21:03:16.823Z"
   },
   {
    "duration": 35,
    "start_time": "2022-01-19T21:03:16.861Z"
   },
   {
    "duration": 19,
    "start_time": "2022-01-19T21:03:16.898Z"
   },
   {
    "duration": 39,
    "start_time": "2022-01-19T21:03:16.918Z"
   },
   {
    "duration": 20,
    "start_time": "2022-01-19T21:03:16.959Z"
   },
   {
    "duration": 37,
    "start_time": "2022-01-19T21:03:16.981Z"
   },
   {
    "duration": 21,
    "start_time": "2022-01-19T21:03:17.020Z"
   },
   {
    "duration": 19,
    "start_time": "2022-01-19T21:03:17.043Z"
   },
   {
    "duration": 13,
    "start_time": "2022-01-19T21:03:17.063Z"
   },
   {
    "duration": 7,
    "start_time": "2022-01-19T21:03:19.854Z"
   },
   {
    "duration": 8,
    "start_time": "2022-01-19T21:03:22.737Z"
   },
   {
    "duration": 8,
    "start_time": "2022-01-19T21:03:23.388Z"
   },
   {
    "duration": 5,
    "start_time": "2022-01-19T21:03:24.031Z"
   },
   {
    "duration": 4,
    "start_time": "2022-01-19T21:03:24.328Z"
   },
   {
    "duration": 835,
    "start_time": "2022-01-19T21:03:29.407Z"
   },
   {
    "duration": 3049,
    "start_time": "2022-01-19T21:03:42.322Z"
   },
   {
    "duration": 1153,
    "start_time": "2022-01-19T21:03:56.145Z"
   },
   {
    "duration": 2001,
    "start_time": "2022-01-19T21:04:05.424Z"
   },
   {
    "duration": 2727,
    "start_time": "2022-01-19T21:04:14.029Z"
   },
   {
    "duration": 586,
    "start_time": "2022-01-19T21:04:40.602Z"
   },
   {
    "duration": 618,
    "start_time": "2022-01-19T21:04:57.033Z"
   },
   {
    "duration": 496,
    "start_time": "2022-01-19T21:05:29.153Z"
   },
   {
    "duration": 656,
    "start_time": "2022-01-19T21:05:51.904Z"
   },
   {
    "duration": 656,
    "start_time": "2022-01-19T21:06:35.779Z"
   },
   {
    "duration": 649,
    "start_time": "2022-01-19T21:06:39.084Z"
   },
   {
    "duration": 4802,
    "start_time": "2022-01-19T21:07:04.205Z"
   },
   {
    "duration": 4600,
    "start_time": "2022-01-19T21:07:15.253Z"
   },
   {
    "duration": 4563,
    "start_time": "2022-01-19T21:07:46.934Z"
   },
   {
    "duration": 2707,
    "start_time": "2022-01-19T21:09:26.114Z"
   },
   {
    "duration": 6618,
    "start_time": "2022-01-19T21:09:38.137Z"
   },
   {
    "duration": 4539,
    "start_time": "2022-01-19T21:09:51.093Z"
   },
   {
    "duration": 4646,
    "start_time": "2022-01-19T21:11:10.723Z"
   },
   {
    "duration": 4532,
    "start_time": "2022-01-19T21:11:46.520Z"
   },
   {
    "duration": 4558,
    "start_time": "2022-01-19T21:12:07.120Z"
   },
   {
    "duration": 4678,
    "start_time": "2022-01-19T21:12:18.458Z"
   },
   {
    "duration": 1135,
    "start_time": "2022-01-21T09:11:14.979Z"
   },
   {
    "duration": 29,
    "start_time": "2022-01-21T09:11:21.185Z"
   },
   {
    "duration": 12,
    "start_time": "2022-01-21T09:11:21.869Z"
   },
   {
    "duration": 19,
    "start_time": "2022-01-21T09:11:24.130Z"
   },
   {
    "duration": 23,
    "start_time": "2022-01-21T09:11:26.350Z"
   },
   {
    "duration": 4,
    "start_time": "2022-01-21T09:11:27.401Z"
   },
   {
    "duration": 4,
    "start_time": "2022-01-21T09:11:27.736Z"
   },
   {
    "duration": 9,
    "start_time": "2022-01-21T09:11:28.061Z"
   },
   {
    "duration": 4,
    "start_time": "2022-01-21T09:11:31.378Z"
   },
   {
    "duration": 12,
    "start_time": "2022-01-21T09:11:32.072Z"
   },
   {
    "duration": 14,
    "start_time": "2022-01-21T09:11:35.503Z"
   },
   {
    "duration": 12,
    "start_time": "2022-01-21T09:11:35.843Z"
   },
   {
    "duration": 13,
    "start_time": "2022-01-21T09:11:44.677Z"
   },
   {
    "duration": 14,
    "start_time": "2022-01-21T09:11:45.348Z"
   },
   {
    "duration": 12,
    "start_time": "2022-01-21T09:11:46.371Z"
   },
   {
    "duration": 12,
    "start_time": "2022-01-21T09:11:49.710Z"
   },
   {
    "duration": 5,
    "start_time": "2022-01-21T09:11:56.650Z"
   },
   {
    "duration": 3,
    "start_time": "2022-01-21T09:11:57.306Z"
   },
   {
    "duration": 11,
    "start_time": "2022-01-21T09:11:57.935Z"
   },
   {
    "duration": 7,
    "start_time": "2022-01-21T09:12:00.690Z"
   },
   {
    "duration": 9,
    "start_time": "2022-01-21T09:12:01.871Z"
   },
   {
    "duration": 4,
    "start_time": "2022-01-21T09:12:02.778Z"
   },
   {
    "duration": 4,
    "start_time": "2022-01-21T09:12:03.451Z"
   },
   {
    "duration": 1019,
    "start_time": "2022-01-21T09:13:59.212Z"
   },
   {
    "duration": 891,
    "start_time": "2022-01-21T09:14:10.061Z"
   },
   {
    "duration": 986,
    "start_time": "2022-01-21T09:15:06.157Z"
   },
   {
    "duration": 1138,
    "start_time": "2022-01-21T09:20:15.107Z"
   },
   {
    "duration": 1038,
    "start_time": "2022-01-21T09:20:30.632Z"
   },
   {
    "duration": 1009,
    "start_time": "2022-01-21T09:20:45.696Z"
   },
   {
    "duration": 353,
    "start_time": "2022-01-21T09:20:52.802Z"
   },
   {
    "duration": 1012,
    "start_time": "2022-01-21T09:20:57.453Z"
   },
   {
    "duration": 1214,
    "start_time": "2022-01-21T09:21:27.402Z"
   },
   {
    "duration": 86,
    "start_time": "2022-01-21T09:22:56.736Z"
   },
   {
    "duration": 1010,
    "start_time": "2022-01-21T09:23:15.553Z"
   },
   {
    "duration": 999,
    "start_time": "2022-01-21T09:23:54.711Z"
   },
   {
    "duration": 1037,
    "start_time": "2022-01-21T09:24:01.553Z"
   },
   {
    "duration": 270,
    "start_time": "2022-01-21T09:24:05.374Z"
   },
   {
    "duration": 1005,
    "start_time": "2022-01-21T09:24:10.476Z"
   },
   {
    "duration": 980,
    "start_time": "2022-01-21T09:24:22.543Z"
   },
   {
    "duration": 320,
    "start_time": "2022-01-21T09:25:04.580Z"
   },
   {
    "duration": 4,
    "start_time": "2022-01-21T09:25:07.473Z"
   },
   {
    "duration": 920,
    "start_time": "2022-01-21T09:35:23.748Z"
   },
   {
    "duration": 3359,
    "start_time": "2022-01-21T09:36:46.428Z"
   },
   {
    "duration": 5,
    "start_time": "2022-01-21T09:37:53.029Z"
   },
   {
    "duration": 2981,
    "start_time": "2022-01-21T09:39:51.596Z"
   },
   {
    "duration": 5007,
    "start_time": "2022-01-21T09:40:03.819Z"
   },
   {
    "duration": 3638,
    "start_time": "2022-01-21T09:40:19.492Z"
   },
   {
    "duration": 2774,
    "start_time": "2022-01-21T09:41:02.521Z"
   },
   {
    "duration": 3648,
    "start_time": "2022-01-21T09:41:20.457Z"
   },
   {
    "duration": 3195,
    "start_time": "2022-01-21T09:41:32.046Z"
   },
   {
    "duration": 2196,
    "start_time": "2022-01-21T09:41:45.628Z"
   },
   {
    "duration": 3328,
    "start_time": "2022-01-21T09:43:22.257Z"
   },
   {
    "duration": 3397,
    "start_time": "2022-01-21T09:43:34.379Z"
   },
   {
    "duration": 3316,
    "start_time": "2022-01-21T09:43:43.350Z"
   },
   {
    "duration": 3507,
    "start_time": "2022-01-21T09:43:54.542Z"
   },
   {
    "duration": 200,
    "start_time": "2022-01-21T09:45:23.061Z"
   },
   {
    "duration": 227,
    "start_time": "2022-01-21T09:45:29.237Z"
   },
   {
    "duration": 137,
    "start_time": "2022-01-21T09:45:44.424Z"
   },
   {
    "duration": 160,
    "start_time": "2022-01-21T09:45:54.002Z"
   },
   {
    "duration": 292,
    "start_time": "2022-01-21T09:46:45.547Z"
   },
   {
    "duration": 53,
    "start_time": "2022-01-21T09:47:10.008Z"
   },
   {
    "duration": 55,
    "start_time": "2022-01-21T09:47:15.385Z"
   },
   {
    "duration": 52,
    "start_time": "2022-01-21T09:47:22.574Z"
   },
   {
    "duration": 50,
    "start_time": "2022-01-21T09:47:35.073Z"
   },
   {
    "duration": 3,
    "start_time": "2022-01-21T09:49:05.233Z"
   },
   {
    "duration": 32,
    "start_time": "2022-01-21T09:49:37.531Z"
   },
   {
    "duration": 98,
    "start_time": "2022-01-21T09:50:12.364Z"
   },
   {
    "duration": 49,
    "start_time": "2022-01-21T09:50:40.612Z"
   },
   {
    "duration": 336,
    "start_time": "2022-01-21T09:51:10.731Z"
   },
   {
    "duration": 47,
    "start_time": "2022-01-21T09:51:37.314Z"
   },
   {
    "duration": 4,
    "start_time": "2022-01-21T09:53:48.337Z"
   },
   {
    "duration": 938,
    "start_time": "2022-01-21T09:54:55.084Z"
   },
   {
    "duration": 1014,
    "start_time": "2022-01-21T09:57:11.131Z"
   },
   {
    "duration": 932,
    "start_time": "2022-01-21T09:57:15.652Z"
   },
   {
    "duration": 938,
    "start_time": "2022-01-21T09:57:29.187Z"
   },
   {
    "duration": 1172,
    "start_time": "2022-01-21T09:57:59.529Z"
   },
   {
    "duration": 4,
    "start_time": "2022-01-21T09:58:10.209Z"
   },
   {
    "duration": 1129,
    "start_time": "2022-01-21T09:58:14.434Z"
   },
   {
    "duration": 925,
    "start_time": "2022-01-21T09:58:33.093Z"
   },
   {
    "duration": 1058,
    "start_time": "2022-01-21T09:58:54.652Z"
   },
   {
    "duration": 1186,
    "start_time": "2022-01-21T09:59:37.942Z"
   },
   {
    "duration": 1072,
    "start_time": "2022-01-21T09:59:46.017Z"
   },
   {
    "duration": 1262,
    "start_time": "2022-01-21T10:01:34.766Z"
   },
   {
    "duration": 920,
    "start_time": "2022-01-21T10:01:43.072Z"
   },
   {
    "duration": 271,
    "start_time": "2022-01-21T10:02:44.334Z"
   },
   {
    "duration": 3,
    "start_time": "2022-01-21T10:02:51.181Z"
   },
   {
    "duration": 1133,
    "start_time": "2022-01-21T10:02:53.639Z"
   },
   {
    "duration": 951,
    "start_time": "2022-01-21T10:03:00.042Z"
   },
   {
    "duration": 4,
    "start_time": "2022-01-21T10:03:17.437Z"
   },
   {
    "duration": 1097,
    "start_time": "2022-01-21T10:03:22.599Z"
   },
   {
    "duration": 961,
    "start_time": "2022-01-21T10:03:32.550Z"
   },
   {
    "duration": 3,
    "start_time": "2022-01-21T10:03:40.680Z"
   },
   {
    "duration": 1126,
    "start_time": "2022-01-21T10:03:42.450Z"
   },
   {
    "duration": 4,
    "start_time": "2022-01-21T10:03:50.911Z"
   },
   {
    "duration": 927,
    "start_time": "2022-01-21T10:03:51.827Z"
   },
   {
    "duration": 87,
    "start_time": "2022-01-21T10:04:04.407Z"
   },
   {
    "duration": 1108,
    "start_time": "2022-01-21T10:04:07.627Z"
   },
   {
    "duration": 945,
    "start_time": "2022-01-21T10:04:14.751Z"
   },
   {
    "duration": 3,
    "start_time": "2022-01-21T10:04:55.262Z"
   },
   {
    "duration": 661,
    "start_time": "2022-01-21T10:04:56.853Z"
   },
   {
    "duration": 1125,
    "start_time": "2022-01-21T10:05:08.774Z"
   },
   {
    "duration": 957,
    "start_time": "2022-01-21T10:05:15.234Z"
   },
   {
    "duration": 4,
    "start_time": "2022-01-21T10:05:21.523Z"
   },
   {
    "duration": 950,
    "start_time": "2022-01-21T10:05:22.525Z"
   },
   {
    "duration": 4,
    "start_time": "2022-01-21T10:05:54.081Z"
   },
   {
    "duration": 3,
    "start_time": "2022-01-21T10:05:59.084Z"
   },
   {
    "duration": 639,
    "start_time": "2022-01-21T10:06:17.750Z"
   },
   {
    "duration": 264,
    "start_time": "2022-01-21T10:06:26.871Z"
   },
   {
    "duration": 964,
    "start_time": "2022-01-21T10:06:30.481Z"
   },
   {
    "duration": 1255,
    "start_time": "2022-01-21T10:07:17.762Z"
   },
   {
    "duration": 1063,
    "start_time": "2022-01-21T10:07:44.844Z"
   },
   {
    "duration": 961,
    "start_time": "2022-01-21T10:08:00.001Z"
   },
   {
    "duration": 960,
    "start_time": "2022-01-21T10:08:10.443Z"
   },
   {
    "duration": 923,
    "start_time": "2022-01-21T10:08:18.075Z"
   },
   {
    "duration": 3862,
    "start_time": "2022-01-21T10:09:18.052Z"
   },
   {
    "duration": 3937,
    "start_time": "2022-01-21T10:09:26.923Z"
   },
   {
    "duration": 4,
    "start_time": "2022-01-21T10:09:34.436Z"
   },
   {
    "duration": 2498,
    "start_time": "2022-01-21T10:09:58.443Z"
   },
   {
    "duration": 2514,
    "start_time": "2022-01-21T10:10:10.646Z"
   },
   {
    "duration": 47774,
    "start_time": "2022-01-21T10:10:19.224Z"
   },
   {
    "duration": 3530,
    "start_time": "2022-01-21T10:11:08.991Z"
   },
   {
    "duration": 2643,
    "start_time": "2022-01-21T10:11:15.383Z"
   },
   {
    "duration": 2202,
    "start_time": "2022-01-21T10:11:28.912Z"
   },
   {
    "duration": 49,
    "start_time": "2022-01-21T10:11:58.543Z"
   },
   {
    "duration": 38,
    "start_time": "2022-01-21T10:12:03.262Z"
   },
   {
    "duration": 37,
    "start_time": "2022-01-21T10:12:22.772Z"
   },
   {
    "duration": 3,
    "start_time": "2022-01-21T10:12:27.132Z"
   },
   {
    "duration": 39,
    "start_time": "2022-01-21T10:12:30.391Z"
   },
   {
    "duration": 259,
    "start_time": "2022-01-21T10:15:13.038Z"
   },
   {
    "duration": 275,
    "start_time": "2022-01-21T10:15:21.513Z"
   },
   {
    "duration": 9,
    "start_time": "2022-01-21T10:15:59.423Z"
   },
   {
    "duration": 254,
    "start_time": "2022-01-21T10:16:51.220Z"
   },
   {
    "duration": 257,
    "start_time": "2022-01-21T10:16:54.584Z"
   },
   {
    "duration": 38,
    "start_time": "2022-01-21T10:17:09.850Z"
   },
   {
    "duration": 38,
    "start_time": "2022-01-21T10:17:14.682Z"
   },
   {
    "duration": 39,
    "start_time": "2022-01-21T10:17:19.618Z"
   },
   {
    "duration": 38,
    "start_time": "2022-01-21T10:17:22.756Z"
   },
   {
    "duration": 134,
    "start_time": "2022-01-21T10:18:12.527Z"
   },
   {
    "duration": 53,
    "start_time": "2022-01-21T10:18:14.909Z"
   },
   {
    "duration": 6,
    "start_time": "2022-01-21T10:19:10.134Z"
   },
   {
    "duration": 260,
    "start_time": "2022-01-21T10:20:10.354Z"
   },
   {
    "duration": 11,
    "start_time": "2022-01-21T10:21:13.312Z"
   },
   {
    "duration": 4,
    "start_time": "2022-01-21T10:21:19.762Z"
   },
   {
    "duration": 114,
    "start_time": "2022-01-21T10:21:45.552Z"
   },
   {
    "duration": 929,
    "start_time": "2022-01-21T10:22:18.421Z"
   },
   {
    "duration": 278,
    "start_time": "2022-01-21T10:22:26.540Z"
   },
   {
    "duration": 3390,
    "start_time": "2022-01-21T10:22:53.189Z"
   },
   {
    "duration": 3260,
    "start_time": "2022-01-21T10:23:21.529Z"
   },
   {
    "duration": 4,
    "start_time": "2022-01-21T10:27:07.629Z"
   },
   {
    "duration": 1086,
    "start_time": "2022-01-21T10:28:14.574Z"
   },
   {
    "duration": 1102,
    "start_time": "2022-01-21T10:28:46.188Z"
   },
   {
    "duration": 937,
    "start_time": "2022-01-21T10:29:07.643Z"
   },
   {
    "duration": 3745,
    "start_time": "2022-01-21T10:29:36.672Z"
   },
   {
    "duration": 288,
    "start_time": "2022-01-21T10:30:23.633Z"
   },
   {
    "duration": 217,
    "start_time": "2022-01-21T10:30:38.645Z"
   },
   {
    "duration": 112,
    "start_time": "2022-01-21T10:30:48.248Z"
   },
   {
    "duration": 4,
    "start_time": "2022-01-21T10:31:35.777Z"
   },
   {
    "duration": 825,
    "start_time": "2022-01-21T10:32:00.017Z"
   },
   {
    "duration": 13,
    "start_time": "2022-01-21T10:32:25.206Z"
   },
   {
    "duration": 571,
    "start_time": "2022-01-21T10:32:40.823Z"
   },
   {
    "duration": 4,
    "start_time": "2022-01-21T10:33:04.256Z"
   },
   {
    "duration": 4,
    "start_time": "2022-01-21T10:33:15.666Z"
   },
   {
    "duration": 18,
    "start_time": "2022-01-21T10:33:30.440Z"
   },
   {
    "duration": 349,
    "start_time": "2022-01-21T10:33:35.730Z"
   },
   {
    "duration": 4,
    "start_time": "2022-01-21T10:33:38.287Z"
   },
   {
    "duration": 299,
    "start_time": "2022-01-21T10:34:21.662Z"
   },
   {
    "duration": 58,
    "start_time": "2022-01-21T10:34:31.337Z"
   },
   {
    "duration": 395,
    "start_time": "2022-01-21T10:35:31.566Z"
   },
   {
    "duration": 4964,
    "start_time": "2022-01-21T10:36:33.469Z"
   },
   {
    "duration": 13209,
    "start_time": "2022-01-21T10:36:46.218Z"
   },
   {
    "duration": 5,
    "start_time": "2022-01-21T10:37:35.476Z"
   },
   {
    "duration": 87,
    "start_time": "2022-01-21T10:38:54.166Z"
   },
   {
    "duration": 1143,
    "start_time": "2022-01-21T10:38:58.677Z"
   },
   {
    "duration": 1184,
    "start_time": "2022-01-21T10:39:15.187Z"
   },
   {
    "duration": 936,
    "start_time": "2022-01-21T10:39:23.912Z"
   },
   {
    "duration": 5,
    "start_time": "2022-01-21T10:40:42.986Z"
   },
   {
    "duration": 918,
    "start_time": "2022-01-21T10:40:58.315Z"
   },
   {
    "duration": 4,
    "start_time": "2022-01-21T10:41:01.212Z"
   },
   {
    "duration": 3589,
    "start_time": "2022-01-21T10:41:06.706Z"
   },
   {
    "duration": 4,
    "start_time": "2022-01-21T10:41:13.218Z"
   },
   {
    "duration": 2361,
    "start_time": "2022-01-21T10:42:35.348Z"
   },
   {
    "duration": 106,
    "start_time": "2022-01-21T10:42:43.755Z"
   },
   {
    "duration": 4,
    "start_time": "2022-01-21T10:42:48.757Z"
   },
   {
    "duration": 966,
    "start_time": "2022-01-21T10:43:12.138Z"
   },
   {
    "duration": 1098,
    "start_time": "2022-01-21T10:43:18.588Z"
   },
   {
    "duration": 3690,
    "start_time": "2022-01-21T10:43:53.116Z"
   },
   {
    "duration": 3385,
    "start_time": "2022-01-21T10:44:04.008Z"
   },
   {
    "duration": 36,
    "start_time": "2022-01-21T10:44:27.530Z"
   },
   {
    "duration": 108,
    "start_time": "2022-01-21T10:44:37.153Z"
   },
   {
    "duration": 107,
    "start_time": "2022-01-21T10:45:01.453Z"
   },
   {
    "duration": 83,
    "start_time": "2022-01-21T10:45:34.924Z"
   },
   {
    "duration": 286,
    "start_time": "2022-01-21T10:46:09.551Z"
   },
   {
    "duration": 288,
    "start_time": "2022-01-21T10:46:11.769Z"
   },
   {
    "duration": 283,
    "start_time": "2022-01-21T10:46:15.699Z"
   },
   {
    "duration": 12860,
    "start_time": "2022-01-21T10:46:21.848Z"
   },
   {
    "duration": 4,
    "start_time": "2022-01-21T10:46:36.232Z"
   },
   {
    "duration": 91,
    "start_time": "2022-01-21T10:49:58.743Z"
   },
   {
    "duration": 44,
    "start_time": "2022-01-21T10:50:05.793Z"
   },
   {
    "duration": 46,
    "start_time": "2022-01-21T10:50:14.498Z"
   },
   {
    "duration": 40,
    "start_time": "2022-01-21T10:51:18.689Z"
   },
   {
    "duration": 52606,
    "start_time": "2022-01-21T10:55:22.901Z"
   },
   {
    "duration": 5,
    "start_time": "2022-01-21T10:56:51.863Z"
   },
   {
    "duration": 776,
    "start_time": "2022-01-21T10:58:00.936Z"
   },
   {
    "duration": 601,
    "start_time": "2022-01-21T10:58:13.824Z"
   },
   {
    "duration": 350,
    "start_time": "2022-01-21T10:58:19.839Z"
   },
   {
    "duration": 356,
    "start_time": "2022-01-21T10:58:29.457Z"
   },
   {
    "duration": 356,
    "start_time": "2022-01-21T10:58:36.391Z"
   },
   {
    "duration": 361,
    "start_time": "2022-01-21T10:58:40.300Z"
   },
   {
    "duration": 356,
    "start_time": "2022-01-21T10:58:45.860Z"
   },
   {
    "duration": 27381,
    "start_time": "2022-01-21T10:59:00.082Z"
   },
   {
    "duration": 24745,
    "start_time": "2022-01-21T10:59:02.720Z"
   },
   {
    "duration": 13658,
    "start_time": "2022-01-21T10:59:29.853Z"
   },
   {
    "duration": 5,
    "start_time": "2022-01-21T10:59:47.064Z"
   },
   {
    "duration": 58,
    "start_time": "2022-01-21T10:59:50.323Z"
   },
   {
    "duration": 349,
    "start_time": "2022-01-21T10:59:54.757Z"
   },
   {
    "duration": 466,
    "start_time": "2022-01-21T11:00:05.394Z"
   },
   {
    "duration": 1437,
    "start_time": "2022-01-21T18:20:15.768Z"
   },
   {
    "duration": 51,
    "start_time": "2022-01-21T18:20:17.209Z"
   },
   {
    "duration": 13,
    "start_time": "2022-01-21T18:20:18.691Z"
   },
   {
    "duration": 27,
    "start_time": "2022-01-21T18:20:20.636Z"
   },
   {
    "duration": 30,
    "start_time": "2022-01-21T18:20:21.677Z"
   },
   {
    "duration": 5,
    "start_time": "2022-01-21T18:20:23.088Z"
   },
   {
    "duration": 6,
    "start_time": "2022-01-21T18:20:23.392Z"
   },
   {
    "duration": 14,
    "start_time": "2022-01-21T18:20:23.740Z"
   },
   {
    "duration": 7,
    "start_time": "2022-01-21T18:20:34.258Z"
   },
   {
    "duration": 16,
    "start_time": "2022-01-21T18:20:34.751Z"
   },
   {
    "duration": 28,
    "start_time": "2022-01-21T18:20:37.590Z"
   },
   {
    "duration": 24,
    "start_time": "2022-01-21T18:20:37.992Z"
   },
   {
    "duration": 15,
    "start_time": "2022-01-21T18:20:41.891Z"
   },
   {
    "duration": 23,
    "start_time": "2022-01-21T18:20:42.350Z"
   },
   {
    "duration": 22,
    "start_time": "2022-01-21T18:20:44.425Z"
   },
   {
    "duration": 21,
    "start_time": "2022-01-21T18:21:17.962Z"
   },
   {
    "duration": 7,
    "start_time": "2022-01-21T18:23:18.886Z"
   },
   {
    "duration": 5,
    "start_time": "2022-01-21T18:23:19.636Z"
   },
   {
    "duration": 18,
    "start_time": "2022-01-21T18:23:20.242Z"
   },
   {
    "duration": 13,
    "start_time": "2022-01-21T18:23:25.072Z"
   },
   {
    "duration": 11,
    "start_time": "2022-01-21T18:23:25.841Z"
   },
   {
    "duration": 7,
    "start_time": "2022-01-21T18:23:26.500Z"
   },
   {
    "duration": 5,
    "start_time": "2022-01-21T18:23:26.815Z"
   },
   {
    "duration": 539,
    "start_time": "2022-01-21T18:23:34.452Z"
   },
   {
    "duration": 4,
    "start_time": "2022-01-21T18:23:39.327Z"
   },
   {
    "duration": 1265,
    "start_time": "2022-01-21T18:23:40.361Z"
   },
   {
    "duration": 6,
    "start_time": "2022-01-21T18:23:48.940Z"
   },
   {
    "duration": 1700,
    "start_time": "2022-01-21T18:23:57.453Z"
   },
   {
    "duration": 5,
    "start_time": "2022-01-21T18:24:03.494Z"
   },
   {
    "duration": 5344,
    "start_time": "2022-01-21T18:24:08.121Z"
   },
   {
    "duration": 4745,
    "start_time": "2022-01-21T18:24:24.496Z"
   },
   {
    "duration": 16792,
    "start_time": "2022-01-21T18:25:26.504Z"
   },
   {
    "duration": 103,
    "start_time": "2022-01-21T18:25:54.347Z"
   },
   {
    "duration": 1883,
    "start_time": "2022-01-21T18:26:31.369Z"
   },
   {
    "duration": 5822,
    "start_time": "2022-01-21T18:26:55.973Z"
   },
   {
    "duration": 6850,
    "start_time": "2022-01-21T18:27:05.694Z"
   },
   {
    "duration": 5601,
    "start_time": "2022-01-21T18:27:19.244Z"
   },
   {
    "duration": 13545,
    "start_time": "2022-01-21T18:27:36.927Z"
   },
   {
    "duration": 5778,
    "start_time": "2022-01-21T18:28:04.592Z"
   },
   {
    "duration": 6,
    "start_time": "2022-01-21T18:28:13.260Z"
   },
   {
    "duration": 3554,
    "start_time": "2022-01-21T18:28:17.870Z"
   },
   {
    "duration": 292,
    "start_time": "2022-01-21T18:28:26.037Z"
   },
   {
    "duration": 34785,
    "start_time": "2022-01-21T18:28:56.942Z"
   },
   {
    "duration": 110,
    "start_time": "2022-01-21T18:29:35.764Z"
   },
   {
    "duration": 32138,
    "start_time": "2022-01-21T18:29:40.983Z"
   },
   {
    "duration": 6,
    "start_time": "2022-01-21T18:30:18.338Z"
   },
   {
    "duration": 16,
    "start_time": "2022-01-21T18:30:21.225Z"
   },
   {
    "duration": 6,
    "start_time": "2022-01-21T18:30:22.011Z"
   },
   {
    "duration": 337,
    "start_time": "2022-01-21T18:30:24.692Z"
   },
   {
    "duration": 19674,
    "start_time": "2022-01-21T18:30:27.899Z"
   },
   {
    "duration": 9980,
    "start_time": "2022-01-21T18:31:11.305Z"
   },
   {
    "duration": 14885,
    "start_time": "2022-01-21T18:31:34.958Z"
   },
   {
    "duration": 7,
    "start_time": "2022-01-21T18:31:54.327Z"
   },
   {
    "duration": 1863,
    "start_time": "2022-01-21T18:32:56.284Z"
   },
   {
    "duration": 1198,
    "start_time": "2022-01-21T18:33:09.592Z"
   },
   {
    "duration": 3131,
    "start_time": "2022-01-21T18:33:24.840Z"
   },
   {
    "duration": 1589,
    "start_time": "2022-01-21T18:33:36.438Z"
   },
   {
    "duration": 8933,
    "start_time": "2022-01-21T18:38:40.655Z"
   },
   {
    "duration": 10549,
    "start_time": "2022-01-21T18:39:02.225Z"
   },
   {
    "duration": 295,
    "start_time": "2022-01-21T18:39:26.337Z"
   },
   {
    "duration": 9888,
    "start_time": "2022-01-21T18:39:50.441Z"
   },
   {
    "duration": 23388,
    "start_time": "2022-01-21T18:40:10.020Z"
   },
   {
    "duration": 12709,
    "start_time": "2022-01-21T18:40:35.990Z"
   },
   {
    "duration": 12149,
    "start_time": "2022-01-21T18:42:16.804Z"
   },
   {
    "duration": 12391,
    "start_time": "2022-01-21T18:42:34.544Z"
   },
   {
    "duration": 12902,
    "start_time": "2022-01-21T18:42:49.660Z"
   },
   {
    "duration": 13375,
    "start_time": "2022-01-21T18:43:08.460Z"
   },
   {
    "duration": 13392,
    "start_time": "2022-01-21T18:43:25.364Z"
   },
   {
    "duration": 301,
    "start_time": "2022-01-21T18:44:07.122Z"
   },
   {
    "duration": 13248,
    "start_time": "2022-01-21T18:47:32.271Z"
   },
   {
    "duration": 17715,
    "start_time": "2022-01-21T18:48:03.112Z"
   },
   {
    "duration": 15580,
    "start_time": "2022-01-21T18:48:43.395Z"
   },
   {
    "duration": 1706,
    "start_time": "2022-01-21T18:50:47.340Z"
   },
   {
    "duration": 1167,
    "start_time": "2022-01-21T18:52:24.132Z"
   },
   {
    "duration": 13818,
    "start_time": "2022-01-21T18:54:19.647Z"
   },
   {
    "duration": 17610,
    "start_time": "2022-01-21T18:54:55.738Z"
   },
   {
    "duration": 113,
    "start_time": "2022-01-21T18:55:55.411Z"
   },
   {
    "duration": 159,
    "start_time": "2022-01-21T19:05:23.166Z"
   },
   {
    "duration": 130,
    "start_time": "2022-01-21T19:05:29.295Z"
   },
   {
    "duration": 96,
    "start_time": "2022-01-21T19:06:22.139Z"
   },
   {
    "duration": 109,
    "start_time": "2022-01-21T19:06:28.420Z"
   },
   {
    "duration": 56,
    "start_time": "2022-01-21T19:06:31.777Z"
   },
   {
    "duration": 107,
    "start_time": "2022-01-21T19:06:35.218Z"
   },
   {
    "duration": 6,
    "start_time": "2022-01-21T19:24:11.252Z"
   },
   {
    "duration": 4,
    "start_time": "2022-01-21T19:24:23.821Z"
   },
   {
    "duration": 16,
    "start_time": "2022-01-21T19:24:56.900Z"
   },
   {
    "duration": 12,
    "start_time": "2022-01-21T19:24:58.803Z"
   },
   {
    "duration": 7,
    "start_time": "2022-01-21T19:25:12.431Z"
   },
   {
    "duration": 12,
    "start_time": "2022-01-21T19:25:50.345Z"
   },
   {
    "duration": 19,
    "start_time": "2022-01-21T19:26:09.802Z"
   },
   {
    "duration": 8,
    "start_time": "2022-01-21T19:26:24.626Z"
   },
   {
    "duration": 17200,
    "start_time": "2022-01-21T19:27:24.833Z"
   },
   {
    "duration": 8,
    "start_time": "2022-01-21T19:28:16.864Z"
   },
   {
    "duration": 1548,
    "start_time": "2022-01-21T19:29:29.159Z"
   },
   {
    "duration": 190,
    "start_time": "2022-01-21T19:30:31.636Z"
   },
   {
    "duration": 125,
    "start_time": "2022-01-21T19:31:55.507Z"
   },
   {
    "duration": 113,
    "start_time": "2022-01-21T19:32:24.525Z"
   },
   {
    "duration": 180,
    "start_time": "2022-01-21T19:32:36.352Z"
   },
   {
    "duration": 80,
    "start_time": "2022-01-21T19:32:47.849Z"
   },
   {
    "duration": 6,
    "start_time": "2022-01-21T19:34:36.546Z"
   },
   {
    "duration": 6,
    "start_time": "2022-01-21T19:34:46.004Z"
   },
   {
    "duration": 21,
    "start_time": "2022-01-21T19:36:13.417Z"
   },
   {
    "duration": 5377,
    "start_time": "2022-01-21T19:36:27.230Z"
   },
   {
    "duration": 9,
    "start_time": "2022-01-21T19:37:05.695Z"
   },
   {
    "duration": 5,
    "start_time": "2022-01-21T19:38:42.544Z"
   },
   {
    "duration": 16,
    "start_time": "2022-01-21T19:39:00.141Z"
   },
   {
    "duration": 8,
    "start_time": "2022-01-21T19:39:10.157Z"
   },
   {
    "duration": 683,
    "start_time": "2022-01-21T19:39:50.781Z"
   },
   {
    "duration": 6784,
    "start_time": "2022-01-21T19:40:59.584Z"
   },
   {
    "duration": 277,
    "start_time": "2022-01-21T19:42:19.807Z"
   },
   {
    "duration": 185,
    "start_time": "2022-01-21T19:42:30.938Z"
   },
   {
    "duration": 123,
    "start_time": "2022-01-21T19:43:58.215Z"
   },
   {
    "duration": 49,
    "start_time": "2022-01-21T19:44:46.079Z"
   },
   {
    "duration": 110,
    "start_time": "2022-01-21T19:44:56.819Z"
   },
   {
    "duration": 112,
    "start_time": "2022-01-21T19:45:10.212Z"
   },
   {
    "duration": 20040,
    "start_time": "2022-01-21T19:46:16.578Z"
   },
   {
    "duration": 20301,
    "start_time": "2022-01-21T19:46:44.882Z"
   },
   {
    "duration": 379,
    "start_time": "2022-01-21T19:59:58.847Z"
   },
   {
    "duration": 498,
    "start_time": "2022-01-21T20:00:11.333Z"
   },
   {
    "duration": 358,
    "start_time": "2022-01-21T20:00:26.968Z"
   },
   {
    "duration": 357,
    "start_time": "2022-01-21T20:00:34.266Z"
   },
   {
    "duration": 478,
    "start_time": "2022-01-21T20:00:40.782Z"
   },
   {
    "duration": 372,
    "start_time": "2022-01-21T20:00:54.233Z"
   },
   {
    "duration": 284,
    "start_time": "2022-01-21T20:01:10.752Z"
   },
   {
    "duration": 246,
    "start_time": "2022-01-21T20:01:18.043Z"
   },
   {
    "duration": 188,
    "start_time": "2022-01-21T20:01:24.236Z"
   },
   {
    "duration": 350,
    "start_time": "2022-01-21T20:01:29.580Z"
   },
   {
    "duration": 472,
    "start_time": "2022-01-21T20:01:50.061Z"
   },
   {
    "duration": 343,
    "start_time": "2022-01-21T20:02:23.813Z"
   },
   {
    "duration": 578,
    "start_time": "2022-01-21T20:02:30.488Z"
   },
   {
    "duration": 457,
    "start_time": "2022-01-21T20:02:53.781Z"
   },
   {
    "duration": 458,
    "start_time": "2022-01-21T20:03:02.384Z"
   },
   {
    "duration": 391,
    "start_time": "2022-01-21T20:03:10.040Z"
   },
   {
    "duration": 506,
    "start_time": "2022-01-21T20:03:49.595Z"
   },
   {
    "duration": 375,
    "start_time": "2022-01-21T20:04:24.433Z"
   },
   {
    "duration": 273,
    "start_time": "2022-01-21T20:04:31.507Z"
   },
   {
    "duration": 46,
    "start_time": "2022-01-21T20:06:22.884Z"
   },
   {
    "duration": 19552,
    "start_time": "2022-01-21T20:06:34.675Z"
   },
   {
    "duration": 75,
    "start_time": "2022-01-21T20:07:23.033Z"
   },
   {
    "duration": 557,
    "start_time": "2022-01-21T20:07:44.504Z"
   },
   {
    "duration": 570,
    "start_time": "2022-01-21T20:07:58.158Z"
   },
   {
    "duration": 617,
    "start_time": "2022-01-21T20:08:03.834Z"
   },
   {
    "duration": 22,
    "start_time": "2022-01-21T20:08:24.225Z"
   },
   {
    "duration": 6,
    "start_time": "2022-01-21T20:08:38.441Z"
   },
   {
    "duration": 5,
    "start_time": "2022-01-21T20:09:20.709Z"
   },
   {
    "duration": 32,
    "start_time": "2022-01-21T20:09:25.246Z"
   },
   {
    "duration": 13,
    "start_time": "2022-01-21T20:09:26.401Z"
   },
   {
    "duration": 20,
    "start_time": "2022-01-21T20:09:29.424Z"
   },
   {
    "duration": 39,
    "start_time": "2022-01-21T20:09:30.286Z"
   },
   {
    "duration": 5,
    "start_time": "2022-01-21T20:09:31.969Z"
   },
   {
    "duration": 6,
    "start_time": "2022-01-21T20:09:32.225Z"
   },
   {
    "duration": 18,
    "start_time": "2022-01-21T20:09:32.868Z"
   },
   {
    "duration": 6,
    "start_time": "2022-01-21T20:09:36.814Z"
   },
   {
    "duration": 18,
    "start_time": "2022-01-21T20:09:37.125Z"
   },
   {
    "duration": 28,
    "start_time": "2022-01-21T20:09:38.158Z"
   },
   {
    "duration": 17,
    "start_time": "2022-01-21T20:09:38.458Z"
   },
   {
    "duration": 15,
    "start_time": "2022-01-21T20:09:42.588Z"
   },
   {
    "duration": 21,
    "start_time": "2022-01-21T20:09:43.109Z"
   },
   {
    "duration": 18,
    "start_time": "2022-01-21T20:09:43.933Z"
   },
   {
    "duration": 18,
    "start_time": "2022-01-21T20:09:44.536Z"
   },
   {
    "duration": 8,
    "start_time": "2022-01-21T20:09:46.852Z"
   },
   {
    "duration": 4,
    "start_time": "2022-01-21T20:09:47.731Z"
   },
   {
    "duration": 11,
    "start_time": "2022-01-21T20:09:50.517Z"
   },
   {
    "duration": 12,
    "start_time": "2022-01-21T20:09:54.333Z"
   },
   {
    "duration": 8,
    "start_time": "2022-01-21T20:09:54.954Z"
   },
   {
    "duration": 6,
    "start_time": "2022-01-21T20:09:55.555Z"
   },
   {
    "duration": 7,
    "start_time": "2022-01-21T20:09:55.955Z"
   },
   {
    "duration": 7,
    "start_time": "2022-01-21T20:10:00.172Z"
   },
   {
    "duration": 1456,
    "start_time": "2022-01-21T20:10:10.929Z"
   },
   {
    "duration": 23,
    "start_time": "2022-01-21T20:10:28.234Z"
   },
   {
    "duration": 24,
    "start_time": "2022-01-21T20:10:50.341Z"
   },
   {
    "duration": 17,
    "start_time": "2022-01-21T20:11:04.128Z"
   },
   {
    "duration": 1303,
    "start_time": "2022-01-21T20:12:03.695Z"
   },
   {
    "duration": 6,
    "start_time": "2022-01-21T20:12:21.882Z"
   },
   {
    "duration": 4649,
    "start_time": "2022-01-21T20:12:26.903Z"
   },
   {
    "duration": 6,
    "start_time": "2022-01-21T20:12:35.460Z"
   },
   {
    "duration": 13578,
    "start_time": "2022-01-21T20:12:53.820Z"
   },
   {
    "duration": 4583,
    "start_time": "2022-01-21T20:13:17.447Z"
   },
   {
    "duration": 12590,
    "start_time": "2022-01-21T20:13:36.286Z"
   },
   {
    "duration": 5,
    "start_time": "2022-01-21T20:13:48.879Z"
   },
   {
    "duration": 209,
    "start_time": "2022-01-21T20:14:44.915Z"
   },
   {
    "duration": 1788,
    "start_time": "2022-01-21T20:15:27.918Z"
   },
   {
    "duration": 6,
    "start_time": "2022-01-21T20:17:18.787Z"
   },
   {
    "duration": 14670,
    "start_time": "2022-01-21T20:18:04.655Z"
   },
   {
    "duration": 8,
    "start_time": "2022-01-21T20:18:42.819Z"
   },
   {
    "duration": 147,
    "start_time": "2022-01-21T20:19:33.178Z"
   },
   {
    "duration": 67,
    "start_time": "2022-01-21T20:19:47.363Z"
   },
   {
    "duration": 5,
    "start_time": "2022-01-21T20:20:07.083Z"
   },
   {
    "duration": 17,
    "start_time": "2022-01-21T20:20:08.697Z"
   },
   {
    "duration": 9,
    "start_time": "2022-01-21T20:20:09.301Z"
   },
   {
    "duration": 1585,
    "start_time": "2022-01-21T20:20:26.844Z"
   },
   {
    "duration": 17648,
    "start_time": "2022-01-21T20:21:10.223Z"
   },
   {
    "duration": 12106,
    "start_time": "2022-01-21T20:21:27.874Z"
   },
   {
    "duration": 17816,
    "start_time": "2022-01-21T20:22:15.296Z"
   },
   {
    "duration": 6,
    "start_time": "2022-01-21T20:22:37.149Z"
   },
   {
    "duration": 6,
    "start_time": "2022-01-21T20:22:51.542Z"
   },
   {
    "duration": 139,
    "start_time": "2022-01-21T20:23:41.188Z"
   },
   {
    "duration": 8,
    "start_time": "2022-01-21T20:23:51.520Z"
   },
   {
    "duration": 16,
    "start_time": "2022-01-21T20:23:54.452Z"
   },
   {
    "duration": 8,
    "start_time": "2022-01-21T20:23:55.149Z"
   },
   {
    "duration": 695,
    "start_time": "2022-01-21T20:24:06.777Z"
   },
   {
    "duration": 6352,
    "start_time": "2022-01-21T20:24:44.826Z"
   },
   {
    "duration": 52,
    "start_time": "2022-01-21T20:25:50.587Z"
   },
   {
    "duration": 16,
    "start_time": "2022-01-21T20:26:40.007Z"
   },
   {
    "duration": 213,
    "start_time": "2022-01-21T20:26:58.710Z"
   },
   {
    "duration": 6106,
    "start_time": "2022-01-21T20:27:03.684Z"
   },
   {
    "duration": 671,
    "start_time": "2022-01-21T20:27:27.744Z"
   },
   {
    "duration": 18,
    "start_time": "2022-01-21T20:28:19.161Z"
   },
   {
    "duration": 16,
    "start_time": "2022-01-21T20:28:31.822Z"
   },
   {
    "duration": 8,
    "start_time": "2022-01-21T20:28:49.455Z"
   },
   {
    "duration": 15,
    "start_time": "2022-01-21T20:29:25.710Z"
   },
   {
    "duration": 15,
    "start_time": "2022-01-21T20:29:44.035Z"
   },
   {
    "duration": 15,
    "start_time": "2022-01-21T20:29:47.133Z"
   },
   {
    "duration": 303,
    "start_time": "2022-01-21T20:29:55.887Z"
   },
   {
    "duration": 18,
    "start_time": "2022-01-21T20:30:03.890Z"
   },
   {
    "duration": 13,
    "start_time": "2022-01-21T20:30:25.439Z"
   },
   {
    "duration": 14,
    "start_time": "2022-01-21T20:30:46.132Z"
   },
   {
    "duration": 5,
    "start_time": "2022-01-21T20:31:01.395Z"
   },
   {
    "duration": 7,
    "start_time": "2022-01-21T20:31:09.104Z"
   },
   {
    "duration": 6,
    "start_time": "2022-01-21T20:32:14.159Z"
   },
   {
    "duration": 21,
    "start_time": "2022-01-21T20:32:29.340Z"
   },
   {
    "duration": 5,
    "start_time": "2022-01-21T20:32:49.043Z"
   },
   {
    "duration": 593,
    "start_time": "2022-01-21T20:32:51.487Z"
   },
   {
    "duration": 15,
    "start_time": "2022-01-21T20:33:04.073Z"
   },
   {
    "duration": 443,
    "start_time": "2022-01-21T20:33:15.413Z"
   },
   {
    "duration": 15,
    "start_time": "2022-01-21T20:33:20.315Z"
   },
   {
    "duration": 14,
    "start_time": "2022-01-21T20:33:34.901Z"
   },
   {
    "duration": 15,
    "start_time": "2022-01-21T20:33:43.829Z"
   },
   {
    "duration": 40,
    "start_time": "2022-01-21T20:34:00.124Z"
   },
   {
    "duration": 38,
    "start_time": "2022-01-21T20:34:12.631Z"
   },
   {
    "duration": 54,
    "start_time": "2022-01-21T20:34:24.467Z"
   },
   {
    "duration": 7,
    "start_time": "2022-01-21T20:34:40.105Z"
   },
   {
    "duration": 35,
    "start_time": "2022-01-21T20:35:06.456Z"
   },
   {
    "duration": 308,
    "start_time": "2022-01-21T20:35:38.720Z"
   },
   {
    "duration": 18,
    "start_time": "2022-01-21T20:36:08.480Z"
   },
   {
    "duration": 20,
    "start_time": "2022-01-21T20:36:15.474Z"
   },
   {
    "duration": 21,
    "start_time": "2022-01-21T20:36:23.312Z"
   },
   {
    "duration": 619,
    "start_time": "2022-01-21T20:37:14.063Z"
   },
   {
    "duration": 929,
    "start_time": "2022-01-21T20:37:21.894Z"
   },
   {
    "duration": 238,
    "start_time": "2022-01-21T20:37:29.424Z"
   },
   {
    "duration": 118,
    "start_time": "2022-01-21T20:37:33.243Z"
   },
   {
    "duration": 169,
    "start_time": "2022-01-21T20:37:36.474Z"
   },
   {
    "duration": 177,
    "start_time": "2022-01-21T20:37:41.159Z"
   },
   {
    "duration": 811,
    "start_time": "2022-01-21T20:37:44.225Z"
   },
   {
    "duration": 16900,
    "start_time": "2022-01-21T20:37:50.358Z"
   },
   {
    "duration": 15878,
    "start_time": "2022-01-21T20:38:24.793Z"
   },
   {
    "duration": 129402,
    "start_time": "2022-01-21T20:39:34.775Z"
   },
   {
    "duration": 7241,
    "start_time": "2022-01-21T20:41:54.011Z"
   },
   {
    "duration": 7512,
    "start_time": "2022-01-21T20:42:26.967Z"
   },
   {
    "duration": 6785,
    "start_time": "2022-01-21T20:42:47.405Z"
   },
   {
    "duration": 7363,
    "start_time": "2022-01-21T20:43:35.825Z"
   },
   {
    "duration": 9979,
    "start_time": "2022-01-21T20:44:01.177Z"
   },
   {
    "duration": 211,
    "start_time": "2022-01-21T20:44:24.179Z"
   },
   {
    "duration": 6,
    "start_time": "2022-01-21T20:44:40.486Z"
   },
   {
    "duration": 30,
    "start_time": "2022-01-21T20:45:11.178Z"
   },
   {
    "duration": 28,
    "start_time": "2022-01-21T20:45:52.855Z"
   },
   {
    "duration": 20,
    "start_time": "2022-01-21T20:46:12.368Z"
   },
   {
    "duration": 27,
    "start_time": "2022-01-21T20:46:38.788Z"
   },
   {
    "duration": 28,
    "start_time": "2022-01-21T20:46:57.795Z"
   },
   {
    "duration": 28,
    "start_time": "2022-01-21T20:47:09.177Z"
   },
   {
    "duration": 56,
    "start_time": "2022-01-21T20:50:45.756Z"
   },
   {
    "duration": 54,
    "start_time": "2022-01-21T20:50:55.176Z"
   },
   {
    "duration": 8,
    "start_time": "2022-01-21T20:51:20.451Z"
   },
   {
    "duration": 7,
    "start_time": "2022-01-21T20:51:41.590Z"
   },
   {
    "duration": 286,
    "start_time": "2022-01-21T20:52:14.120Z"
   },
   {
    "duration": 309,
    "start_time": "2022-01-21T20:52:17.939Z"
   },
   {
    "duration": 57,
    "start_time": "2022-01-21T20:52:28.006Z"
   },
   {
    "duration": 60,
    "start_time": "2022-01-21T20:53:18.472Z"
   },
   {
    "duration": 57,
    "start_time": "2022-01-21T20:53:42.952Z"
   },
   {
    "duration": 61,
    "start_time": "2022-01-21T20:54:18.186Z"
   },
   {
    "duration": 4,
    "start_time": "2022-01-21T20:58:45.399Z"
   },
   {
    "duration": 14,
    "start_time": "2022-01-21T20:58:49.572Z"
   },
   {
    "duration": 14,
    "start_time": "2022-01-21T20:58:50.924Z"
   },
   {
    "duration": 5,
    "start_time": "2022-01-21T20:58:56.932Z"
   },
   {
    "duration": 45,
    "start_time": "2022-01-21T20:58:56.941Z"
   },
   {
    "duration": 33,
    "start_time": "2022-01-21T20:58:56.990Z"
   },
   {
    "duration": 27,
    "start_time": "2022-01-21T20:58:57.027Z"
   },
   {
    "duration": 68,
    "start_time": "2022-01-21T20:58:57.057Z"
   },
   {
    "duration": 6,
    "start_time": "2022-01-21T20:58:57.127Z"
   },
   {
    "duration": 7,
    "start_time": "2022-01-21T20:58:57.136Z"
   },
   {
    "duration": 12,
    "start_time": "2022-01-21T20:58:57.148Z"
   },
   {
    "duration": 5,
    "start_time": "2022-01-21T20:58:57.163Z"
   },
   {
    "duration": 63,
    "start_time": "2022-01-21T20:58:57.171Z"
   },
   {
    "duration": 20,
    "start_time": "2022-01-21T20:58:57.236Z"
   },
   {
    "duration": 16,
    "start_time": "2022-01-21T20:58:57.259Z"
   },
   {
    "duration": 47,
    "start_time": "2022-01-21T20:58:57.278Z"
   },
   {
    "duration": 17,
    "start_time": "2022-01-21T20:58:57.328Z"
   },
   {
    "duration": 18,
    "start_time": "2022-01-21T20:58:57.348Z"
   },
   {
    "duration": 55,
    "start_time": "2022-01-21T20:58:57.368Z"
   },
   {
    "duration": 5,
    "start_time": "2022-01-21T20:58:57.426Z"
   },
   {
    "duration": 7,
    "start_time": "2022-01-21T20:58:57.433Z"
   },
   {
    "duration": 8,
    "start_time": "2022-01-21T20:58:57.442Z"
   },
   {
    "duration": 8,
    "start_time": "2022-01-21T20:58:57.453Z"
   },
   {
    "duration": 8,
    "start_time": "2022-01-21T20:58:57.463Z"
   },
   {
    "duration": 6,
    "start_time": "2022-01-21T20:58:57.473Z"
   },
   {
    "duration": 5,
    "start_time": "2022-01-21T20:58:57.527Z"
   },
   {
    "duration": 4,
    "start_time": "2022-01-21T20:58:57.535Z"
   },
   {
    "duration": 53,
    "start_time": "2022-01-21T20:58:57.542Z"
   },
   {
    "duration": 7,
    "start_time": "2022-01-21T20:58:57.624Z"
   },
   {
    "duration": 12828,
    "start_time": "2022-01-21T20:58:57.635Z"
   },
   {
    "duration": 7,
    "start_time": "2022-01-21T20:59:10.465Z"
   },
   {
    "duration": 249,
    "start_time": "2022-01-21T20:59:10.474Z"
   },
   {
    "duration": 56,
    "start_time": "2022-01-21T20:59:10.726Z"
   },
   {
    "duration": 6,
    "start_time": "2022-01-21T20:59:10.784Z"
   },
   {
    "duration": 12251,
    "start_time": "2022-01-21T20:59:10.792Z"
   },
   {
    "duration": 6,
    "start_time": "2022-01-21T20:59:23.045Z"
   },
   {
    "duration": 81,
    "start_time": "2022-01-21T20:59:23.054Z"
   },
   {
    "duration": 9,
    "start_time": "2022-01-21T20:59:23.223Z"
   },
   {
    "duration": 102,
    "start_time": "2022-01-21T20:59:23.235Z"
   },
   {
    "duration": 10,
    "start_time": "2022-01-21T20:59:23.339Z"
   },
   {
    "duration": 82,
    "start_time": "2022-01-21T20:59:23.352Z"
   },
   {
    "duration": 17347,
    "start_time": "2022-01-21T20:59:23.436Z"
   },
   {
    "duration": 6,
    "start_time": "2022-01-21T20:59:40.786Z"
   },
   {
    "duration": 137,
    "start_time": "2022-01-21T20:59:40.794Z"
   },
   {
    "duration": 10,
    "start_time": "2022-01-21T20:59:41.023Z"
   },
   {
    "duration": 19,
    "start_time": "2022-01-21T20:59:41.123Z"
   },
   {
    "duration": 9,
    "start_time": "2022-01-21T20:59:41.144Z"
   },
   {
    "duration": 668,
    "start_time": "2022-01-21T20:59:41.155Z"
   },
   {
    "duration": 5412,
    "start_time": "2022-01-21T20:59:41.825Z"
   },
   {
    "duration": 90,
    "start_time": "2022-01-21T20:59:47.239Z"
   },
   {
    "duration": 5,
    "start_time": "2022-01-21T20:59:51.831Z"
   },
   {
    "duration": 15,
    "start_time": "2022-01-21T20:59:53.070Z"
   },
   {
    "duration": 14,
    "start_time": "2022-01-21T20:59:53.769Z"
   },
   {
    "duration": 15,
    "start_time": "2022-01-21T20:59:54.436Z"
   },
   {
    "duration": 14,
    "start_time": "2022-01-21T20:59:57.460Z"
   },
   {
    "duration": 26,
    "start_time": "2022-01-21T20:59:59.064Z"
   },
   {
    "duration": 24,
    "start_time": "2022-01-21T21:00:00.147Z"
   },
   {
    "duration": 43,
    "start_time": "2022-01-21T21:00:06.112Z"
   },
   {
    "duration": 36,
    "start_time": "2022-01-21T21:00:06.900Z"
   },
   {
    "duration": 122,
    "start_time": "2022-01-21T21:00:08.002Z"
   },
   {
    "duration": 20,
    "start_time": "2022-01-21T21:00:11.801Z"
   },
   {
    "duration": 23,
    "start_time": "2022-01-21T21:00:12.339Z"
   },
   {
    "duration": 18,
    "start_time": "2022-01-21T21:00:12.837Z"
   },
   {
    "duration": 14,
    "start_time": "2022-01-21T21:01:15.856Z"
   },
   {
    "duration": 14,
    "start_time": "2022-01-21T21:01:17.626Z"
   },
   {
    "duration": 26,
    "start_time": "2022-01-21T21:01:20.984Z"
   },
   {
    "duration": 24,
    "start_time": "2022-01-21T21:01:21.860Z"
   },
   {
    "duration": 43,
    "start_time": "2022-01-21T21:01:22.184Z"
   },
   {
    "duration": 32,
    "start_time": "2022-01-21T21:01:22.484Z"
   },
   {
    "duration": 77,
    "start_time": "2022-01-21T21:01:22.852Z"
   },
   {
    "duration": 18,
    "start_time": "2022-01-21T21:01:23.177Z"
   },
   {
    "duration": 57,
    "start_time": "2022-01-21T21:01:40.968Z"
   },
   {
    "duration": 18,
    "start_time": "2022-01-21T21:01:41.306Z"
   },
   {
    "duration": 18,
    "start_time": "2022-01-21T21:01:41.581Z"
   },
   {
    "duration": 19,
    "start_time": "2022-01-21T21:01:42.124Z"
   },
   {
    "duration": 18076,
    "start_time": "2022-01-21T21:02:11.614Z"
   },
   {
    "duration": 15,
    "start_time": "2022-01-21T21:02:38.911Z"
   },
   {
    "duration": 57,
    "start_time": "2022-01-21T21:02:44.098Z"
   },
   {
    "duration": 14,
    "start_time": "2022-01-21T21:03:37.273Z"
   },
   {
    "duration": 110,
    "start_time": "2022-01-21T21:05:10.048Z"
   },
   {
    "duration": 15,
    "start_time": "2022-01-21T21:05:24.475Z"
   },
   {
    "duration": 14,
    "start_time": "2022-01-21T21:05:26.850Z"
   },
   {
    "duration": 15,
    "start_time": "2022-01-21T21:05:28.822Z"
   },
   {
    "duration": 27,
    "start_time": "2022-01-21T21:06:30.684Z"
   },
   {
    "duration": 24,
    "start_time": "2022-01-21T21:06:31.193Z"
   },
   {
    "duration": 89,
    "start_time": "2022-01-21T21:06:31.627Z"
   },
   {
    "duration": 45,
    "start_time": "2022-01-21T21:06:32.239Z"
   },
   {
    "duration": 202,
    "start_time": "2022-01-21T21:07:27.321Z"
   },
   {
    "duration": 102,
    "start_time": "2022-01-21T21:07:27.927Z"
   },
   {
    "duration": 18,
    "start_time": "2022-01-21T21:07:28.876Z"
   },
   {
    "duration": 102,
    "start_time": "2022-01-21T21:07:29.327Z"
   },
   {
    "duration": 6,
    "start_time": "2022-01-21T21:09:30.440Z"
   },
   {
    "duration": 8,
    "start_time": "2022-01-21T21:14:02.787Z"
   },
   {
    "duration": 635,
    "start_time": "2022-01-21T21:16:10.307Z"
   },
   {
    "duration": 1636,
    "start_time": "2022-01-21T21:16:27.601Z"
   },
   {
    "duration": 6,
    "start_time": "2022-01-21T21:16:39.834Z"
   },
   {
    "duration": 1698,
    "start_time": "2022-01-21T21:17:24.579Z"
   },
   {
    "duration": 5,
    "start_time": "2022-01-21T21:17:31.456Z"
   },
   {
    "duration": 1686,
    "start_time": "2022-01-21T21:18:15.430Z"
   },
   {
    "duration": 6,
    "start_time": "2022-01-21T21:18:19.797Z"
   },
   {
    "duration": 2331,
    "start_time": "2022-01-21T21:19:08.239Z"
   },
   {
    "duration": 4,
    "start_time": "2022-01-21T21:19:29.388Z"
   },
   {
    "duration": 16,
    "start_time": "2022-01-21T21:19:31.123Z"
   },
   {
    "duration": 15,
    "start_time": "2022-01-21T21:19:31.819Z"
   },
   {
    "duration": 14,
    "start_time": "2022-01-21T21:19:33.919Z"
   },
   {
    "duration": 14,
    "start_time": "2022-01-21T21:19:34.798Z"
   },
   {
    "duration": 58,
    "start_time": "2022-01-21T21:21:34.889Z"
   },
   {
    "duration": 8,
    "start_time": "2022-01-21T21:29:23.896Z"
   },
   {
    "duration": 11,
    "start_time": "2022-01-21T21:34:19.287Z"
   },
   {
    "duration": 14,
    "start_time": "2022-01-21T21:59:28.282Z"
   },
   {
    "duration": 25,
    "start_time": "2022-01-21T21:59:33.508Z"
   },
   {
    "duration": 26,
    "start_time": "2022-01-21T21:59:34.358Z"
   },
   {
    "duration": 61,
    "start_time": "2022-01-21T21:59:35.049Z"
   },
   {
    "duration": 33,
    "start_time": "2022-01-21T21:59:36.027Z"
   },
   {
    "duration": 10,
    "start_time": "2022-01-21T21:59:50.020Z"
   },
   {
    "duration": 7,
    "start_time": "2022-01-21T22:00:00.267Z"
   },
   {
    "duration": 8,
    "start_time": "2022-01-21T22:00:15.996Z"
   },
   {
    "duration": 8,
    "start_time": "2022-01-21T22:00:21.870Z"
   },
   {
    "duration": 1146,
    "start_time": "2022-01-23T10:30:05.149Z"
   },
   {
    "duration": 28,
    "start_time": "2022-01-23T10:30:06.296Z"
   },
   {
    "duration": 8,
    "start_time": "2022-01-23T10:30:06.326Z"
   },
   {
    "duration": 16,
    "start_time": "2022-01-23T10:30:06.336Z"
   },
   {
    "duration": 28,
    "start_time": "2022-01-23T10:30:06.353Z"
   },
   {
    "duration": 4,
    "start_time": "2022-01-23T10:30:06.382Z"
   },
   {
    "duration": 7,
    "start_time": "2022-01-23T10:30:06.387Z"
   },
   {
    "duration": 7,
    "start_time": "2022-01-23T10:30:06.396Z"
   },
   {
    "duration": 6,
    "start_time": "2022-01-23T10:30:06.405Z"
   },
   {
    "duration": 10,
    "start_time": "2022-01-23T10:30:09.973Z"
   },
   {
    "duration": 12,
    "start_time": "2022-01-23T10:30:12.571Z"
   },
   {
    "duration": 11,
    "start_time": "2022-01-23T10:30:12.897Z"
   },
   {
    "duration": 7,
    "start_time": "2022-01-23T10:30:19.975Z"
   },
   {
    "duration": 3,
    "start_time": "2022-01-23T10:30:20.993Z"
   },
   {
    "duration": 9,
    "start_time": "2022-01-23T10:30:21.822Z"
   },
   {
    "duration": 7,
    "start_time": "2022-01-23T10:30:48.868Z"
   },
   {
    "duration": 6,
    "start_time": "2022-01-23T10:30:49.798Z"
   },
   {
    "duration": 3,
    "start_time": "2022-01-23T10:30:50.433Z"
   },
   {
    "duration": 3,
    "start_time": "2022-01-23T10:30:50.734Z"
   },
   {
    "duration": 149,
    "start_time": "2022-01-23T10:31:54.247Z"
   },
   {
    "duration": 9,
    "start_time": "2022-01-23T10:34:38.047Z"
   },
   {
    "duration": 10,
    "start_time": "2022-01-23T10:35:32.556Z"
   },
   {
    "duration": 9,
    "start_time": "2022-01-23T10:35:58.631Z"
   },
   {
    "duration": 13,
    "start_time": "2022-01-23T10:36:16.777Z"
   },
   {
    "duration": 18,
    "start_time": "2022-01-23T10:37:08.616Z"
   },
   {
    "duration": 11,
    "start_time": "2022-01-23T10:38:03.519Z"
   },
   {
    "duration": 11,
    "start_time": "2022-01-23T10:38:24.757Z"
   },
   {
    "duration": 3,
    "start_time": "2022-01-23T10:38:36.367Z"
   },
   {
    "duration": 853,
    "start_time": "2022-01-23T10:38:38.065Z"
   },
   {
    "duration": 4,
    "start_time": "2022-01-23T10:40:24.467Z"
   },
   {
    "duration": 9480,
    "start_time": "2022-01-23T10:40:27.364Z"
   },
   {
    "duration": 4,
    "start_time": "2022-01-23T10:40:41.690Z"
   },
   {
    "duration": 160,
    "start_time": "2022-01-23T10:40:59.812Z"
   },
   {
    "duration": 1267,
    "start_time": "2022-01-23T10:41:11.643Z"
   },
   {
    "duration": 4,
    "start_time": "2022-01-23T10:41:20.268Z"
   },
   {
    "duration": 9252,
    "start_time": "2022-01-23T10:42:10.872Z"
   },
   {
    "duration": 5,
    "start_time": "2022-01-23T10:42:23.490Z"
   },
   {
    "duration": 31,
    "start_time": "2022-01-23T10:43:04.027Z"
   },
   {
    "duration": 5,
    "start_time": "2022-01-23T10:43:14.803Z"
   },
   {
    "duration": 12,
    "start_time": "2022-01-23T10:43:16.158Z"
   },
   {
    "duration": 6,
    "start_time": "2022-01-23T10:43:24.456Z"
   },
   {
    "duration": 1909,
    "start_time": "2022-01-23T10:43:26.137Z"
   },
   {
    "duration": 12266,
    "start_time": "2022-01-23T10:43:46.128Z"
   },
   {
    "duration": 4,
    "start_time": "2022-01-23T10:44:07.911Z"
   },
   {
    "duration": 59,
    "start_time": "2022-01-23T10:45:33.825Z"
   },
   {
    "duration": 4,
    "start_time": "2022-01-23T10:45:37.841Z"
   },
   {
    "duration": 11,
    "start_time": "2022-01-23T10:45:40.279Z"
   },
   {
    "duration": 7,
    "start_time": "2022-01-23T10:45:40.896Z"
   },
   {
    "duration": 448,
    "start_time": "2022-01-23T10:45:43.104Z"
   },
   {
    "duration": 4005,
    "start_time": "2022-01-23T10:45:50.854Z"
   },
   {
    "duration": 21,
    "start_time": "2022-01-23T10:46:05.742Z"
   },
   {
    "duration": 4,
    "start_time": "2022-01-23T10:46:54.959Z"
   },
   {
    "duration": 21,
    "start_time": "2022-01-23T10:46:57.369Z"
   },
   {
    "duration": 10,
    "start_time": "2022-01-23T10:46:58.040Z"
   },
   {
    "duration": 10,
    "start_time": "2022-01-23T10:46:58.793Z"
   },
   {
    "duration": 10,
    "start_time": "2022-01-23T10:47:00.791Z"
   },
   {
    "duration": 19,
    "start_time": "2022-01-23T10:47:02.999Z"
   },
   {
    "duration": 28,
    "start_time": "2022-01-23T10:47:12.468Z"
   },
   {
    "duration": 37,
    "start_time": "2022-01-23T10:47:13.326Z"
   },
   {
    "duration": 21,
    "start_time": "2022-01-23T10:47:14.215Z"
   },
   {
    "duration": 109,
    "start_time": "2022-01-23T10:47:20.874Z"
   },
   {
    "duration": 19,
    "start_time": "2022-01-23T10:47:21.476Z"
   },
   {
    "duration": 14,
    "start_time": "2022-01-23T10:47:22.169Z"
   },
   {
    "duration": 14,
    "start_time": "2022-01-23T10:47:24.129Z"
   },
   {
    "duration": 474,
    "start_time": "2022-01-23T10:53:06.744Z"
   },
   {
    "duration": 297,
    "start_time": "2022-01-23T10:53:50.133Z"
   },
   {
    "duration": 298,
    "start_time": "2022-01-23T10:54:19.207Z"
   },
   {
    "duration": 303,
    "start_time": "2022-01-23T10:56:45.900Z"
   },
   {
    "duration": 346,
    "start_time": "2022-01-23T10:56:51.521Z"
   },
   {
    "duration": 330,
    "start_time": "2022-01-23T10:57:23.763Z"
   },
   {
    "duration": 2,
    "start_time": "2022-01-23T10:57:46.280Z"
   },
   {
    "duration": 312,
    "start_time": "2022-01-23T10:57:51.441Z"
   },
   {
    "duration": 307,
    "start_time": "2022-01-23T10:59:02.882Z"
   },
   {
    "duration": 366,
    "start_time": "2022-01-23T11:03:01.299Z"
   },
   {
    "duration": 404,
    "start_time": "2022-01-23T11:06:08.982Z"
   },
   {
    "duration": 301,
    "start_time": "2022-01-23T11:06:26.568Z"
   }
  ],
  "kernelspec": {
   "display_name": "Python 3 (ipykernel)",
   "language": "python",
   "name": "python3"
  },
  "language_info": {
   "codemirror_mode": {
    "name": "ipython",
    "version": 3
   },
   "file_extension": ".py",
   "mimetype": "text/x-python",
   "name": "python",
   "nbconvert_exporter": "python",
   "pygments_lexer": "ipython3",
   "version": "3.9.5"
  },
  "toc": {
   "base_numbering": 1,
   "nav_menu": {},
   "number_sections": true,
   "sideBar": true,
   "skip_h1_title": true,
   "title_cell": "Содержание",
   "title_sidebar": "Contents",
   "toc_cell": true,
   "toc_position": {
    "height": "calc(100% - 180px)",
    "left": "10px",
    "top": "150px",
    "width": "374.391px"
   },
   "toc_section_display": true,
   "toc_window_display": false
  }
 },
 "nbformat": 4,
 "nbformat_minor": 2
}
