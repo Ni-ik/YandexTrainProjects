{
 "cells": [
  {
   "cell_type": "markdown",
   "metadata": {
    "cellId": "lpzueyhcbukgi9q4jt5c"
   },
   "source": [
    "# Рекомендация тарифов"
   ]
  },
  {
   "cell_type": "markdown",
   "metadata": {
    "cellId": "xo4os7k0ix8ztxz8xpp788"
   },
   "source": [
    "В нашем распоряжении данные о поведении клиентов, которые уже перешли на эти тарифы (из проекта курса «Статистический анализ данных»). Нужно построить модель для задачи классификации, которая выберет подходящий тариф. Предобработка данных не понадобится — мы её уже сделали.\n",
    "\n",
    "**Цель**\n",
    "\n",
    "Построить модель, которая выберет подходящий тариф, с максимально большим значением *accuracy*. Нужно довести долю правильных ответов по крайней мере до 0.75. Проверить *accuracy* на тестовой выборке самостоятельно."
   ]
  },
  {
   "cell_type": "markdown",
   "metadata": {
    "cellId": "1d9wir0ofjfdtctjwqq3zo"
   },
   "source": [
    "**План исследования**\n",
    "\n",
    "* [Открыть и изучить файл](#section_1)\n",
    "* [Разбить данные на выборки](#section_2)\n",
    "* [Исследовать модели](#section_3)\n",
    "* [Проверить модель на тестовой выборке](#section_4)\n",
    "* [Проверить модель на адекватность](#section_5)\n",
    "* [Общие выводы](#section_6)"
   ]
  },
  {
   "cell_type": "markdown",
   "metadata": {
    "cellId": "xwf2p2didb3la7705l2d9"
   },
   "source": [
    "<a id='section_1'></a>\n",
    "## Открыть и изучить файл"
   ]
  },
  {
   "cell_type": "markdown",
   "metadata": {
    "cellId": "6vwxywrfi4jzzhrndzemx"
   },
   "source": [
    "Импортруем необходимые библиотеки"
   ]
  },
  {
   "cell_type": "code",
   "execution_count": 4,
   "metadata": {
    "cellId": "whnp2d7jpa744fq8vqyc4"
   },
   "outputs": [],
   "source": [
    "import pandas as pd\n",
    "import sklearn as sk\n",
    "from sklearn.model_selection import train_test_split\n",
    "from sklearn import tree\n",
    "from sklearn.metrics import accuracy_score\n",
    "from sklearn.ensemble import RandomForestClassifier\n",
    "from sklearn.linear_model import LogisticRegression"
   ]
  },
  {
   "cell_type": "markdown",
   "metadata": {
    "cellId": "5kaytsorm3qmlhxa41z57"
   },
   "source": [
    "Читаем файл"
   ]
  },
  {
   "cell_type": "code",
   "execution_count": 5,
   "metadata": {
    "cellId": "evzorc41qcjbeob2oomf"
   },
   "outputs": [],
   "source": [
    "df = pd.read_csv('/datasets/users_behavior.csv')"
   ]
  },
  {
   "cell_type": "markdown",
   "metadata": {
    "cellId": "vpdrncedwi8iimbpy10pt"
   },
   "source": [
    "Посмотрим на первые строки"
   ]
  },
  {
   "cell_type": "code",
   "execution_count": 89,
   "metadata": {
    "cellId": "skau6spqd3jzic15h34o"
   },
   "outputs": [
    {
     "data": {
      "text/html": [
       "<div>\n",
       "<style scoped>\n",
       "    .dataframe tbody tr th:only-of-type {\n",
       "        vertical-align: middle;\n",
       "    }\n",
       "\n",
       "    .dataframe tbody tr th {\n",
       "        vertical-align: top;\n",
       "    }\n",
       "\n",
       "    .dataframe thead th {\n",
       "        text-align: right;\n",
       "    }\n",
       "</style>\n",
       "<table border=\"1\" class=\"dataframe\">\n",
       "  <thead>\n",
       "    <tr style=\"text-align: right;\">\n",
       "      <th></th>\n",
       "      <th>calls</th>\n",
       "      <th>minutes</th>\n",
       "      <th>messages</th>\n",
       "      <th>mb_used</th>\n",
       "      <th>is_ultra</th>\n",
       "    </tr>\n",
       "  </thead>\n",
       "  <tbody>\n",
       "    <tr>\n",
       "      <td>0</td>\n",
       "      <td>40.0</td>\n",
       "      <td>311.90</td>\n",
       "      <td>83.0</td>\n",
       "      <td>19915.42</td>\n",
       "      <td>0</td>\n",
       "    </tr>\n",
       "    <tr>\n",
       "      <td>1</td>\n",
       "      <td>85.0</td>\n",
       "      <td>516.75</td>\n",
       "      <td>56.0</td>\n",
       "      <td>22696.96</td>\n",
       "      <td>0</td>\n",
       "    </tr>\n",
       "    <tr>\n",
       "      <td>2</td>\n",
       "      <td>77.0</td>\n",
       "      <td>467.66</td>\n",
       "      <td>86.0</td>\n",
       "      <td>21060.45</td>\n",
       "      <td>0</td>\n",
       "    </tr>\n",
       "    <tr>\n",
       "      <td>3</td>\n",
       "      <td>106.0</td>\n",
       "      <td>745.53</td>\n",
       "      <td>81.0</td>\n",
       "      <td>8437.39</td>\n",
       "      <td>1</td>\n",
       "    </tr>\n",
       "    <tr>\n",
       "      <td>4</td>\n",
       "      <td>66.0</td>\n",
       "      <td>418.74</td>\n",
       "      <td>1.0</td>\n",
       "      <td>14502.75</td>\n",
       "      <td>0</td>\n",
       "    </tr>\n",
       "  </tbody>\n",
       "</table>\n",
       "</div>"
      ],
      "text/plain": [
       "   calls  minutes  messages   mb_used  is_ultra\n",
       "0   40.0   311.90      83.0  19915.42         0\n",
       "1   85.0   516.75      56.0  22696.96         0\n",
       "2   77.0   467.66      86.0  21060.45         0\n",
       "3  106.0   745.53      81.0   8437.39         1\n",
       "4   66.0   418.74       1.0  14502.75         0"
      ]
     },
     "execution_count": 89,
     "metadata": {},
     "output_type": "execute_result"
    }
   ],
   "source": [
    "df.head()"
   ]
  },
  {
   "cell_type": "markdown",
   "metadata": {
    "cellId": "o3vcnt0q2z94njm5rw5stw"
   },
   "source": [
    "Посмотрим на информацию о столбцах"
   ]
  },
  {
   "cell_type": "code",
   "execution_count": 7,
   "metadata": {
    "cellId": "0aa1w293rhfk70ekyimr8as"
   },
   "outputs": [
    {
     "name": "stdout",
     "output_type": "stream",
     "text": [
      "<class 'pandas.core.frame.DataFrame'>\n",
      "RangeIndex: 3214 entries, 0 to 3213\n",
      "Data columns (total 5 columns):\n",
      "calls       3214 non-null float64\n",
      "minutes     3214 non-null float64\n",
      "messages    3214 non-null float64\n",
      "mb_used     3214 non-null float64\n",
      "is_ultra    3214 non-null int64\n",
      "dtypes: float64(4), int64(1)\n",
      "memory usage: 125.7 KB\n"
     ]
    }
   ],
   "source": [
    "df.info()"
   ]
  },
  {
   "cell_type": "markdown",
   "metadata": {
    "cellId": "5dg54s6zzhtjntvwfefphs"
   },
   "source": [
    "Согласно описанию столбцов\n",
    "Каждый объект в наборе данных — это информация о поведении одного пользователя за месяц. Известно:\n",
    "* *сalls* — количество звонков,\n",
    "* *minutes* — суммарная длительность звонков в минутах,\n",
    "* *messages* — количество sms-сообщений,\n",
    "* *mb_used* — израсходованный интернет-трафик в Мб,\n",
    "* *is_ultra* — каким тарифом пользовался в течение месяца («Ультра» — 1, «Смарт» — 0)."
   ]
  },
  {
   "cell_type": "code",
   "execution_count": 88,
   "metadata": {
    "cellId": "a6v1bl980thfwebi7mrtuh"
   },
   "outputs": [
    {
     "data": {
      "text/html": [
       "<div>\n",
       "<style scoped>\n",
       "    .dataframe tbody tr th:only-of-type {\n",
       "        vertical-align: middle;\n",
       "    }\n",
       "\n",
       "    .dataframe tbody tr th {\n",
       "        vertical-align: top;\n",
       "    }\n",
       "\n",
       "    .dataframe thead th {\n",
       "        text-align: right;\n",
       "    }\n",
       "</style>\n",
       "<table border=\"1\" class=\"dataframe\">\n",
       "  <thead>\n",
       "    <tr style=\"text-align: right;\">\n",
       "      <th></th>\n",
       "      <th>calls</th>\n",
       "      <th>minutes</th>\n",
       "      <th>messages</th>\n",
       "      <th>mb_used</th>\n",
       "      <th>is_ultra</th>\n",
       "    </tr>\n",
       "  </thead>\n",
       "  <tbody>\n",
       "    <tr>\n",
       "      <td>count</td>\n",
       "      <td>3214.000000</td>\n",
       "      <td>3214.000000</td>\n",
       "      <td>3214.000000</td>\n",
       "      <td>3214.000000</td>\n",
       "      <td>3214.000000</td>\n",
       "    </tr>\n",
       "    <tr>\n",
       "      <td>mean</td>\n",
       "      <td>63.038892</td>\n",
       "      <td>438.208787</td>\n",
       "      <td>38.281269</td>\n",
       "      <td>17207.673836</td>\n",
       "      <td>0.306472</td>\n",
       "    </tr>\n",
       "    <tr>\n",
       "      <td>std</td>\n",
       "      <td>33.236368</td>\n",
       "      <td>234.569872</td>\n",
       "      <td>36.148326</td>\n",
       "      <td>7570.968246</td>\n",
       "      <td>0.461100</td>\n",
       "    </tr>\n",
       "    <tr>\n",
       "      <td>min</td>\n",
       "      <td>0.000000</td>\n",
       "      <td>0.000000</td>\n",
       "      <td>0.000000</td>\n",
       "      <td>0.000000</td>\n",
       "      <td>0.000000</td>\n",
       "    </tr>\n",
       "    <tr>\n",
       "      <td>25%</td>\n",
       "      <td>40.000000</td>\n",
       "      <td>274.575000</td>\n",
       "      <td>9.000000</td>\n",
       "      <td>12491.902500</td>\n",
       "      <td>0.000000</td>\n",
       "    </tr>\n",
       "    <tr>\n",
       "      <td>50%</td>\n",
       "      <td>62.000000</td>\n",
       "      <td>430.600000</td>\n",
       "      <td>30.000000</td>\n",
       "      <td>16943.235000</td>\n",
       "      <td>0.000000</td>\n",
       "    </tr>\n",
       "    <tr>\n",
       "      <td>75%</td>\n",
       "      <td>82.000000</td>\n",
       "      <td>571.927500</td>\n",
       "      <td>57.000000</td>\n",
       "      <td>21424.700000</td>\n",
       "      <td>1.000000</td>\n",
       "    </tr>\n",
       "    <tr>\n",
       "      <td>max</td>\n",
       "      <td>244.000000</td>\n",
       "      <td>1632.060000</td>\n",
       "      <td>224.000000</td>\n",
       "      <td>49745.730000</td>\n",
       "      <td>1.000000</td>\n",
       "    </tr>\n",
       "  </tbody>\n",
       "</table>\n",
       "</div>"
      ],
      "text/plain": [
       "             calls      minutes     messages       mb_used     is_ultra\n",
       "count  3214.000000  3214.000000  3214.000000   3214.000000  3214.000000\n",
       "mean     63.038892   438.208787    38.281269  17207.673836     0.306472\n",
       "std      33.236368   234.569872    36.148326   7570.968246     0.461100\n",
       "min       0.000000     0.000000     0.000000      0.000000     0.000000\n",
       "25%      40.000000   274.575000     9.000000  12491.902500     0.000000\n",
       "50%      62.000000   430.600000    30.000000  16943.235000     0.000000\n",
       "75%      82.000000   571.927500    57.000000  21424.700000     1.000000\n",
       "max     244.000000  1632.060000   224.000000  49745.730000     1.000000"
      ]
     },
     "execution_count": 88,
     "metadata": {},
     "output_type": "execute_result"
    }
   ],
   "source": [
    "df.describe()"
   ]
  },
  {
   "cell_type": "markdown",
   "metadata": {
    "cellId": "9k0sywi38bt8aij0vs40ic"
   },
   "source": [
    "### Выводы \n",
    "Файл открылся и прочитался без проблем, столбцы совпадают с заявленными. Пропусков нет, значения адекватны. С этим можно работать"
   ]
  },
  {
   "cell_type": "markdown",
   "metadata": {
    "cellId": "7pwxzy7vx9mu03w7brm2tp"
   },
   "source": [
    "<a id='section_2'></a>\n",
    "## Разбить данные на выборки"
   ]
  },
  {
   "cell_type": "markdown",
   "metadata": {
    "cellId": "ee992sro8rahhv2rfyf17m"
   },
   "source": [
    "Для начала выделим признаки, на основании которых будет производиться классификация. Это все признаки, кроме `is_ultra`"
   ]
  },
  {
   "cell_type": "code",
   "execution_count": 9,
   "metadata": {
    "cellId": "0c7cy6ybb0mwueb8wcqxob"
   },
   "outputs": [],
   "source": [
    "features = df.drop('is_ultra', axis=1)"
   ]
  },
  {
   "cell_type": "markdown",
   "metadata": {
    "cellId": "cc2x4zz0bliujogl6j6lp"
   },
   "source": [
    "Целевой показатель - `is_ultra`, который определяет тариф"
   ]
  },
  {
   "cell_type": "code",
   "execution_count": 10,
   "metadata": {
    "cellId": "7afhpf5vw2qxpt2wsbkr3n"
   },
   "outputs": [],
   "source": [
    "target = df['is_ultra']"
   ]
  },
  {
   "cell_type": "markdown",
   "metadata": {
    "cellId": "240gwa6wc5rcgvv5lsex5j"
   },
   "source": [
    "Отделим сначала тестовую выборку. Размер её определим как 20% от исходного"
   ]
  },
  {
   "cell_type": "code",
   "execution_count": 11,
   "metadata": {
    "cellId": "a5oltoyqg0as20k7ptvglq"
   },
   "outputs": [],
   "source": [
    "features_train, features_test, target_train, target_test= train_test_split(features, target, test_size=0.2, random_state = 12345)"
   ]
  },
  {
   "cell_type": "markdown",
   "metadata": {
    "cellId": "cgd6mlih3frdh5ykorge2d"
   },
   "source": [
    "Затем из оставшейся выборки `features_train` и `target_train` ещё раз выделим валидационную выборку. Её размер примем как размер тестовой, но с учётом уменьшения размера исходной выборки, параметр `test_size` будет равен 0.2/0.8 = 0.25"
   ]
  },
  {
   "cell_type": "code",
   "execution_count": 12,
   "metadata": {
    "cellId": "5dq0a4t2rrdbwlz7ussw6"
   },
   "outputs": [],
   "source": [
    "features_train, features_valid, target_train, target_valid = train_test_split(features_train, target_train, test_size=0.25, random_state = 12345)"
   ]
  },
  {
   "cell_type": "markdown",
   "metadata": {
    "cellId": "4ycg8sclz9l83yq4dsq1xp"
   },
   "source": [
    "Посмотрим, как разделились данные "
   ]
  },
  {
   "cell_type": "code",
   "execution_count": 13,
   "metadata": {
    "cellId": "3jda2dxifa198b2fjdc35r"
   },
   "outputs": [
    {
     "data": {
      "text/plain": [
       "(1928, 643, 643)"
      ]
     },
     "execution_count": 13,
     "metadata": {},
     "output_type": "execute_result"
    }
   ],
   "source": [
    "len(features_train), len(features_valid), len(features_test)"
   ]
  },
  {
   "cell_type": "code",
   "execution_count": 15,
   "metadata": {
    "cellId": "xyr0se2sptlqhr70fd99p8"
   },
   "outputs": [
    {
     "data": {
      "text/plain": [
       "(1928, 643, 643)"
      ]
     },
     "execution_count": 15,
     "metadata": {},
     "output_type": "execute_result"
    }
   ],
   "source": [
    "len(target_train), len(target_valid), len(target_test)"
   ]
  },
  {
   "cell_type": "markdown",
   "metadata": {
    "cellId": "bm7yyymvl9m8ogc8scsu9k"
   },
   "source": [
    "### Выводы\n",
    "Выполнили разделение исходных данных на тренировочную, валидационную и тестовую выборки в соотношении 3:1:1. "
   ]
  },
  {
   "cell_type": "markdown",
   "metadata": {
    "cellId": "0mmp7bq7lm5ipag957notzg"
   },
   "source": [
    "<a id='section_3'></a>\n",
    "## Исследовать модели"
   ]
  },
  {
   "cell_type": "markdown",
   "metadata": {},
   "source": [
    "### Дерево решений\n",
    "\n",
    "Для начала попробуем построить модель на основе *DecisionTreeClassifier*. Для этого будем обучать модель на тренировочной выборке и изменять глубину в цикле от 1 до 10. Сравним *accuracy* на валидациоонной выборке и выберем лучший вариант."
   ]
  },
  {
   "cell_type": "code",
   "execution_count": 45,
   "metadata": {
    "cellId": "fghb6i9kv2m8hrwpqs1ppx",
    "scrolled": false
   },
   "outputs": [],
   "source": [
    "tree_list=[]\n",
    "for i in range(1,11):\n",
    "    model = tree.DecisionTreeClassifier(max_depth = i, random_state = 12345)\n",
    "    model.fit(features_train, target_train)\n",
    "    predictions_valid = model.predict(features_valid)\n",
    "    result = accuracy_score(target_valid, predictions_valid)\n",
    "    tree_list.append(result)"
   ]
  },
  {
   "cell_type": "code",
   "execution_count": 46,
   "metadata": {
    "scrolled": true
   },
   "outputs": [
    {
     "data": {
      "text/plain": [
       "[0.7387247278382582,\n",
       " 0.7573872472783826,\n",
       " 0.7651632970451011,\n",
       " 0.7636080870917574,\n",
       " 0.7589424572317263,\n",
       " 0.7573872472783826,\n",
       " 0.7744945567651633,\n",
       " 0.7667185069984448,\n",
       " 0.7620528771384136,\n",
       " 0.7713841368584758]"
      ]
     },
     "execution_count": 46,
     "metadata": {},
     "output_type": "execute_result"
    }
   ],
   "source": [
    "tree_list"
   ]
  },
  {
   "cell_type": "markdown",
   "metadata": {},
   "source": [
    "Из этого словаря выберем глубину с лучшей метрикой"
   ]
  },
  {
   "cell_type": "code",
   "execution_count": 48,
   "metadata": {
    "scrolled": true
   },
   "outputs": [
    {
     "data": {
      "text/plain": [
       "0.7744945567651633"
      ]
     },
     "execution_count": 48,
     "metadata": {},
     "output_type": "execute_result"
    }
   ],
   "source": [
    "max(tree_list)"
   ]
  },
  {
   "cell_type": "markdown",
   "metadata": {},
   "source": [
    "Определим индекс в списке с лучшей метрикой. Учтём, что индексация в словаре начинается в 0, а глубина с 1."
   ]
  },
  {
   "cell_type": "code",
   "execution_count": 50,
   "metadata": {},
   "outputs": [],
   "source": [
    "best_depth = tree_list.index(max(tree_list))+1"
   ]
  },
  {
   "cell_type": "code",
   "execution_count": 51,
   "metadata": {
    "scrolled": false
   },
   "outputs": [
    {
     "data": {
      "text/plain": [
       "7"
      ]
     },
     "execution_count": 51,
     "metadata": {},
     "output_type": "execute_result"
    }
   ],
   "source": [
    "best_depth"
   ]
  },
  {
   "cell_type": "markdown",
   "metadata": {},
   "source": [
    "Тогда работаем с моделью с глубиной 7"
   ]
  },
  {
   "cell_type": "code",
   "execution_count": 56,
   "metadata": {},
   "outputs": [
    {
     "data": {
      "text/plain": [
       "0.7744945567651633"
      ]
     },
     "execution_count": 56,
     "metadata": {},
     "output_type": "execute_result"
    }
   ],
   "source": [
    "best_tree_model = tree.DecisionTreeClassifier(max_depth = best_depth, random_state = 12345)\n",
    "best_tree_model.fit(features_train, target_train)\n",
    "best_tree_model.score(features_valid, target_valid)"
   ]
  },
  {
   "cell_type": "code",
   "execution_count": 85,
   "metadata": {
    "scrolled": true
   },
   "outputs": [
    {
     "data": {
      "text/plain": [
       "{'class_weight': None,\n",
       " 'criterion': 'gini',\n",
       " 'max_depth': 7,\n",
       " 'max_features': None,\n",
       " 'max_leaf_nodes': None,\n",
       " 'min_impurity_decrease': 0.0,\n",
       " 'min_impurity_split': None,\n",
       " 'min_samples_leaf': 1,\n",
       " 'min_samples_split': 2,\n",
       " 'min_weight_fraction_leaf': 0.0,\n",
       " 'presort': False,\n",
       " 'random_state': 12345,\n",
       " 'splitter': 'best'}"
      ]
     },
     "execution_count": 85,
     "metadata": {},
     "output_type": "execute_result"
    }
   ],
   "source": [
    "best_tree_model.get_params()"
   ]
  },
  {
   "cell_type": "markdown",
   "metadata": {},
   "source": [
    "### Случайный лес\n",
    "\n",
    "Построим модель на основании *RandomForestClassifier*. Для этого будем обучать модель на тренировочной выборке и изменять количество деревьев от 0 до 10. Сравним accuracy на валидационной выборке и выберем лучший вариант.\n"
   ]
  },
  {
   "cell_type": "code",
   "execution_count": 58,
   "metadata": {
    "scrolled": true
   },
   "outputs": [],
   "source": [
    "forest_list = []\n",
    "for i in range(1,11):\n",
    "    model = RandomForestClassifier(random_state = 12345, n_estimators = i)\n",
    "    model.fit(features_train, target_train)\n",
    "    result = model.score(features_valid, target_valid)\n",
    "    forest_list.append(result)"
   ]
  },
  {
   "cell_type": "code",
   "execution_count": 59,
   "metadata": {
    "scrolled": true
   },
   "outputs": [
    {
     "data": {
      "text/plain": [
       "[0.702954898911353,\n",
       " 0.7573872472783826,\n",
       " 0.744945567651633,\n",
       " 0.7651632970451011,\n",
       " 0.7620528771384136,\n",
       " 0.7698289269051322,\n",
       " 0.7713841368584758,\n",
       " 0.7869362363919129,\n",
       " 0.7838258164852255,\n",
       " 0.7884914463452566]"
      ]
     },
     "execution_count": 59,
     "metadata": {},
     "output_type": "execute_result"
    }
   ],
   "source": [
    "forest_list"
   ]
  },
  {
   "cell_type": "markdown",
   "metadata": {},
   "source": [
    "Определим индекс в списке с лучшей метрикой. Учтём, что индексация в словаре начинается в 0, а параметр с 1."
   ]
  },
  {
   "cell_type": "code",
   "execution_count": 61,
   "metadata": {},
   "outputs": [],
   "source": [
    "best_estimators = forest_list.index(max(forest_list))+1"
   ]
  },
  {
   "cell_type": "code",
   "execution_count": 62,
   "metadata": {},
   "outputs": [
    {
     "data": {
      "text/plain": [
       "10"
      ]
     },
     "execution_count": 62,
     "metadata": {},
     "output_type": "execute_result"
    }
   ],
   "source": [
    "best_estimators"
   ]
  },
  {
   "cell_type": "markdown",
   "metadata": {},
   "source": [
    "Для дальнейшей работы будем использовать модель с параметром n_estimators = 10. В следующем цикле посмотрим, как метрика зависит от глубины. Можно было организовать вложенный цикл по глубине в первом, но решил что раздельными циклами проще."
   ]
  },
  {
   "cell_type": "code",
   "execution_count": 86,
   "metadata": {},
   "outputs": [],
   "source": [
    "forest_list = []\n",
    "for i in range(1,11):\n",
    "    model = RandomForestClassifier(random_state = 12345, n_estimators = best_estimators, max_depth = i)\n",
    "    model.fit(features_train, target_train)\n",
    "    result = model.score(features_valid, target_valid)\n",
    "    forest_list.append(result)"
   ]
  },
  {
   "cell_type": "code",
   "execution_count": 87,
   "metadata": {
    "scrolled": true
   },
   "outputs": [
    {
     "data": {
      "text/plain": [
       "[0.7309486780715396,\n",
       " 0.7636080870917574,\n",
       " 0.7713841368584758,\n",
       " 0.7776049766718507,\n",
       " 0.7776049766718507,\n",
       " 0.7853810264385692,\n",
       " 0.7869362363919129,\n",
       " 0.7853810264385692,\n",
       " 0.7947122861586314,\n",
       " 0.7900466562986003]"
      ]
     },
     "execution_count": 87,
     "metadata": {},
     "output_type": "execute_result"
    }
   ],
   "source": [
    "forest_list"
   ]
  },
  {
   "cell_type": "markdown",
   "metadata": {},
   "source": [
    "Определим индекс в списке с лучшей метрикой. Учтём, что индексация в словаре начинается в 0, а параметр с 1."
   ]
  },
  {
   "cell_type": "code",
   "execution_count": 65,
   "metadata": {},
   "outputs": [],
   "source": [
    "best_forest_depth = forest_list.index(max(forest_list))+1"
   ]
  },
  {
   "cell_type": "code",
   "execution_count": 66,
   "metadata": {
    "scrolled": true
   },
   "outputs": [
    {
     "data": {
      "text/plain": [
       "9"
      ]
     },
     "execution_count": 66,
     "metadata": {},
     "output_type": "execute_result"
    }
   ],
   "source": [
    "best_forest_depth"
   ]
  },
  {
   "cell_type": "markdown",
   "metadata": {},
   "source": [
    "Таким образом, лучшей моделью будет модель леса с к-вом деревьев 10 и глубиной 9."
   ]
  },
  {
   "cell_type": "code",
   "execution_count": 68,
   "metadata": {},
   "outputs": [
    {
     "data": {
      "text/plain": [
       "0.7947122861586314"
      ]
     },
     "execution_count": 68,
     "metadata": {},
     "output_type": "execute_result"
    }
   ],
   "source": [
    "best_forest_model = RandomForestClassifier(random_state = 12345, n_estimators = best_estimators, max_depth = best_forest_depth)\n",
    "best_forest_model.fit(features_train, target_train)\n",
    "best_forest_model.score(features_valid, target_valid)"
   ]
  },
  {
   "cell_type": "code",
   "execution_count": 69,
   "metadata": {
    "scrolled": true
   },
   "outputs": [
    {
     "data": {
      "text/plain": [
       "{'bootstrap': True,\n",
       " 'class_weight': None,\n",
       " 'criterion': 'gini',\n",
       " 'max_depth': 9,\n",
       " 'max_features': 'auto',\n",
       " 'max_leaf_nodes': None,\n",
       " 'min_impurity_decrease': 0.0,\n",
       " 'min_impurity_split': None,\n",
       " 'min_samples_leaf': 1,\n",
       " 'min_samples_split': 2,\n",
       " 'min_weight_fraction_leaf': 0.0,\n",
       " 'n_estimators': 10,\n",
       " 'n_jobs': None,\n",
       " 'oob_score': False,\n",
       " 'random_state': 12345,\n",
       " 'verbose': 0,\n",
       " 'warm_start': False}"
      ]
     },
     "execution_count": 69,
     "metadata": {},
     "output_type": "execute_result"
    }
   ],
   "source": [
    "best_forest_model.get_params()"
   ]
  },
  {
   "cell_type": "markdown",
   "metadata": {},
   "source": [
    "### Логистическая регрессия\n",
    "\n",
    "Построим модель на основании *LogisticRegression*."
   ]
  },
  {
   "cell_type": "code",
   "execution_count": 120,
   "metadata": {
    "scrolled": true
   },
   "outputs": [
    {
     "name": "stdout",
     "output_type": "stream",
     "text": [
      "0.7293934681181959\n"
     ]
    },
    {
     "name": "stderr",
     "output_type": "stream",
     "text": [
      "/opt/conda/lib/python3.7/site-packages/sklearn/linear_model/logistic.py:432: FutureWarning: Default solver will be changed to 'lbfgs' in 0.22. Specify a solver to silence this warning.\n",
      "  FutureWarning)\n"
     ]
    }
   ],
   "source": [
    "logistic_model = LogisticRegression(C= 0.5, random_state = 12345)\n",
    "logistic_model.fit(features_train, target_train)\n",
    "result = logistic_model.score(features_valid, target_valid)\n",
    "print(result)"
   ]
  },
  {
   "cell_type": "code",
   "execution_count": 125,
   "metadata": {
    "scrolled": false
   },
   "outputs": [
    {
     "data": {
      "text/plain": [
       "{'C': 0.5,\n",
       " 'class_weight': None,\n",
       " 'dual': False,\n",
       " 'fit_intercept': True,\n",
       " 'intercept_scaling': 1,\n",
       " 'l1_ratio': None,\n",
       " 'max_iter': 100,\n",
       " 'multi_class': 'warn',\n",
       " 'n_jobs': None,\n",
       " 'penalty': 'l2',\n",
       " 'random_state': 12345,\n",
       " 'solver': 'warn',\n",
       " 'tol': 0.0001,\n",
       " 'verbose': 0,\n",
       " 'warm_start': False}"
      ]
     },
     "execution_count": 125,
     "metadata": {},
     "output_type": "execute_result"
    }
   ],
   "source": [
    "logistic_model.get_params()"
   ]
  },
  {
   "cell_type": "markdown",
   "metadata": {},
   "source": [
    "Модель на логистической регрессии показала недопустимую *accuracy*"
   ]
  },
  {
   "cell_type": "markdown",
   "metadata": {},
   "source": [
    "### Выводы\n",
    "\n",
    "Были исследованы 3 модели:\n",
    "\n",
    "* DecisionTreeClassifier\n",
    "* RandomForestClassifier\n",
    "* LogisticRegression\n",
    "\n",
    "Для первых двух выбраны оптимальные гиперпараметры. При этом глубина дерева решения оптимальная - 7, а к-во деревьев в случайном лесe - 10. На валидационной выборке эти модели показали *accuracy* выше заданной. Модель логистической регрессии показала слишком низкую *accuracy*."
   ]
  },
  {
   "cell_type": "markdown",
   "metadata": {
    "cellId": "o1kvoia0t82m1wuah5r3e"
   },
   "source": [
    "<a id='section_4'></a>\n",
    "## Проверить модель на тестовой выборке\n",
    "\n",
    "Проверим значение метрики для использованных моделей."
   ]
  },
  {
   "cell_type": "markdown",
   "metadata": {},
   "source": [
    "### Дерево решений"
   ]
  },
  {
   "cell_type": "code",
   "execution_count": 126,
   "metadata": {},
   "outputs": [
    {
     "data": {
      "text/plain": [
       "0.7884914463452566"
      ]
     },
     "execution_count": 126,
     "metadata": {},
     "output_type": "execute_result"
    }
   ],
   "source": [
    "best_tree_model.score(features_test, target_test)"
   ]
  },
  {
   "cell_type": "markdown",
   "metadata": {},
   "source": [
    "### Случайный лес"
   ]
  },
  {
   "cell_type": "code",
   "execution_count": 127,
   "metadata": {},
   "outputs": [
    {
     "data": {
      "text/plain": [
       "0.7947122861586314"
      ]
     },
     "execution_count": 127,
     "metadata": {},
     "output_type": "execute_result"
    }
   ],
   "source": [
    "best_forest_model.score(features_test, target_test)"
   ]
  },
  {
   "cell_type": "markdown",
   "metadata": {},
   "source": [
    "### Логистическая регрессия"
   ]
  },
  {
   "cell_type": "code",
   "execution_count": 128,
   "metadata": {},
   "outputs": [
    {
     "data": {
      "text/plain": [
       "0.7527216174183515"
      ]
     },
     "execution_count": 128,
     "metadata": {},
     "output_type": "execute_result"
    }
   ],
   "source": [
    "logistic_model.score(features_test, target_test)"
   ]
  },
  {
   "cell_type": "markdown",
   "metadata": {},
   "source": [
    "### Выводы.\n",
    "На тестовой выборке все модели показали достаточный результат. Однако лучший результат выдал случайный лес. Эту модель можем рекомендовать для использования."
   ]
  },
  {
   "cell_type": "markdown",
   "metadata": {
    "cellId": "hnu7p8k88qjrcahdh0ibis"
   },
   "source": [
    "<a id='section_5'></a>\n",
    "## Проверить модели на адекватность"
   ]
  },
  {
   "cell_type": "markdown",
   "metadata": {},
   "source": [
    "Для проверки на адекватность сравним полученные ранее результаты с моделью *DummyClassifier*. Для того, чтобы выбрать лучшую стратегию посмотрим, как распределены тарифы в исходных данных."
   ]
  },
  {
   "cell_type": "code",
   "execution_count": 107,
   "metadata": {
    "scrolled": false
   },
   "outputs": [
    {
     "data": {
      "text/plain": [
       "0.30647168637212197"
      ]
     },
     "execution_count": 107,
     "metadata": {},
     "output_type": "execute_result"
    }
   ],
   "source": [
    "df['is_ultra'].mean()"
   ]
  },
  {
   "cell_type": "markdown",
   "metadata": {},
   "source": [
    "Значение порядка 0.3. Это говорит о том, что записей с тарифом \"Смарт\" (значение 0) больше."
   ]
  },
  {
   "cell_type": "code",
   "execution_count": 108,
   "metadata": {
    "scrolled": true
   },
   "outputs": [
    {
     "data": {
      "text/plain": [
       "0    2229\n",
       "1     985\n",
       "Name: is_ultra, dtype: int64"
      ]
     },
     "execution_count": 108,
     "metadata": {},
     "output_type": "execute_result"
    }
   ],
   "source": [
    "df['is_ultra'].value_counts()"
   ]
  },
  {
   "cell_type": "markdown",
   "metadata": {},
   "source": [
    "Создадим модель с параметром стратегии - наиболее частый. "
   ]
  },
  {
   "cell_type": "code",
   "execution_count": 109,
   "metadata": {},
   "outputs": [],
   "source": [
    "from sklearn.dummy import DummyClassifier\n",
    "dummy_model = DummyClassifier(strategy = 'most_frequent')"
   ]
  },
  {
   "cell_type": "markdown",
   "metadata": {},
   "source": [
    "Обучим на тестовой выборке"
   ]
  },
  {
   "cell_type": "code",
   "execution_count": 110,
   "metadata": {
    "scrolled": false
   },
   "outputs": [
    {
     "data": {
      "text/plain": [
       "DummyClassifier(constant=None, random_state=None, strategy='most_frequent')"
      ]
     },
     "execution_count": 110,
     "metadata": {},
     "output_type": "execute_result"
    }
   ],
   "source": [
    "dummy_model.fit(features_train, target_train)"
   ]
  },
  {
   "cell_type": "markdown",
   "metadata": {},
   "source": [
    "Посмотрим на результат (*accuracy*) на валидационной выборке"
   ]
  },
  {
   "cell_type": "code",
   "execution_count": 130,
   "metadata": {},
   "outputs": [
    {
     "data": {
      "text/plain": [
       "0.6889580093312597"
      ]
     },
     "execution_count": 130,
     "metadata": {},
     "output_type": "execute_result"
    }
   ],
   "source": [
    "dummy_model.score(features_valid, target_valid)"
   ]
  },
  {
   "cell_type": "markdown",
   "metadata": {},
   "source": [
    "И на тестовой"
   ]
  },
  {
   "cell_type": "code",
   "execution_count": 129,
   "metadata": {},
   "outputs": [
    {
     "data": {
      "text/plain": [
       "0.6951788491446346"
      ]
     },
     "execution_count": 129,
     "metadata": {},
     "output_type": "execute_result"
    }
   ],
   "source": [
    "dummy_model.score(features_test, target_test)"
   ]
  },
  {
   "cell_type": "markdown",
   "metadata": {},
   "source": [
    "Видим, что эта модель имеет метрику ниже, чем модели дерева, леса и регрессии. "
   ]
  },
  {
   "cell_type": "markdown",
   "metadata": {},
   "source": [
    "### Выводы\n",
    "\n",
    "Модель-манекен имеет метрику ниже, чем рассмотренные модели дерева решений, случайного леса и логистической регрессии. Это говорит о том, что модели адекватны, так как результат у них выше."
   ]
  },
  {
   "cell_type": "markdown",
   "metadata": {},
   "source": [
    "<a id='section_6'></a>\n",
    "## Общие выводы\n",
    "\n",
    "В ходе исследования изучали данные о тарифах и построили модель, которая выберает подходящий тариф, с максимально большим значением *accuracy*. Исходные данные разделили на тренировочную, валидационную и тестовую выборки. Исследовали 3 модели :\n",
    "* DecisionTreeClassifier\n",
    "* RandomForestClassifier\n",
    "* LogisticRegression\n",
    "\n",
    "На тестовой выборке все модели показали результат лучше заданного (>0.75). Однако наилучший результат показало дерево решений (0.788). При проверке на адекватность установили, что все модели имееют *accuracy* больше, чем модель-манекен. "
   ]
  }
 ],
 "metadata": {
  "ExecuteTimeLog": [
   {
    "duration": 2310,
    "start_time": "2022-01-03T07:26:31.653Z"
   },
   {
    "duration": 6487,
    "start_time": "2022-01-03T07:26:33.965Z"
   },
   {
    "duration": 1281,
    "start_time": "2022-01-03T07:26:40.456Z"
   },
   {
    "duration": 2355,
    "start_time": "2022-01-03T07:26:41.739Z"
   },
   {
    "duration": 4193,
    "start_time": "2022-01-03T07:26:39.904Z"
   },
   {
    "duration": 4192,
    "start_time": "2022-01-03T07:26:39.907Z"
   },
   {
    "duration": 4191,
    "start_time": "2022-01-03T07:26:39.909Z"
   },
   {
    "duration": 4191,
    "start_time": "2022-01-03T07:26:39.911Z"
   },
   {
    "duration": 4191,
    "start_time": "2022-01-03T07:26:39.913Z"
   },
   {
    "duration": 4190,
    "start_time": "2022-01-03T07:26:39.915Z"
   },
   {
    "duration": 4190,
    "start_time": "2022-01-03T07:26:39.917Z"
   },
   {
    "duration": 4189,
    "start_time": "2022-01-03T07:26:39.919Z"
   },
   {
    "duration": 19,
    "start_time": "2022-01-03T07:27:15.315Z"
   },
   {
    "duration": 24,
    "start_time": "2022-01-03T07:27:17.930Z"
   },
   {
    "duration": 9,
    "start_time": "2022-01-03T07:27:19.382Z"
   },
   {
    "duration": 35,
    "start_time": "2022-01-03T07:27:22.341Z"
   },
   {
    "duration": 5,
    "start_time": "2022-01-03T07:27:25.136Z"
   },
   {
    "duration": 4,
    "start_time": "2022-01-03T07:27:26.504Z"
   },
   {
    "duration": 7,
    "start_time": "2022-01-03T07:27:27.411Z"
   },
   {
    "duration": 8,
    "start_time": "2022-01-03T07:27:28.363Z"
   },
   {
    "duration": 6,
    "start_time": "2022-01-03T07:27:29.344Z"
   },
   {
    "duration": 6,
    "start_time": "2022-01-03T07:27:30.737Z"
   },
   {
    "duration": 359,
    "start_time": "2022-01-03T07:27:33.316Z"
   },
   {
    "duration": 315,
    "start_time": "2022-01-03T07:27:48.933Z"
   },
   {
    "duration": 15,
    "start_time": "2022-01-03T07:28:26.674Z"
   },
   {
    "duration": 7,
    "start_time": "2022-01-03T07:28:40.971Z"
   },
   {
    "duration": 5,
    "start_time": "2022-01-03T07:28:42.576Z"
   },
   {
    "duration": 5,
    "start_time": "2022-01-03T07:28:42.672Z"
   },
   {
    "duration": 15,
    "start_time": "2022-01-03T07:28:46.380Z"
   },
   {
    "duration": 5,
    "start_time": "2022-01-03T07:29:09.642Z"
   },
   {
    "duration": 3,
    "start_time": "2022-01-03T07:29:10.862Z"
   },
   {
    "duration": 7,
    "start_time": "2022-01-03T07:29:11.646Z"
   },
   {
    "duration": 7,
    "start_time": "2022-01-03T07:29:12.455Z"
   },
   {
    "duration": 5,
    "start_time": "2022-01-03T07:29:13.585Z"
   },
   {
    "duration": 5,
    "start_time": "2022-01-03T07:29:14.002Z"
   },
   {
    "duration": 7,
    "start_time": "2022-01-03T07:29:16.294Z"
   },
   {
    "duration": 20,
    "start_time": "2022-01-03T07:29:20.870Z"
   },
   {
    "duration": 3,
    "start_time": "2022-01-03T07:29:40.752Z"
   },
   {
    "duration": 19,
    "start_time": "2022-01-03T07:29:46.761Z"
   },
   {
    "duration": 15,
    "start_time": "2022-01-03T07:30:00.366Z"
   },
   {
    "duration": 286,
    "start_time": "2022-01-03T07:36:48.557Z"
   },
   {
    "duration": 6,
    "start_time": "2022-01-03T07:38:43.348Z"
   },
   {
    "duration": 4,
    "start_time": "2022-01-03T07:42:51.064Z"
   },
   {
    "duration": 78,
    "start_time": "2022-01-03T07:44:12.584Z"
   },
   {
    "duration": 79,
    "start_time": "2022-01-03T07:44:47.724Z"
   },
   {
    "duration": 78,
    "start_time": "2022-01-03T07:55:44.402Z"
   },
   {
    "duration": 298,
    "start_time": "2022-01-03T07:55:57.220Z"
   },
   {
    "duration": 6,
    "start_time": "2022-01-03T07:56:04.698Z"
   },
   {
    "duration": 81,
    "start_time": "2022-01-03T07:56:29.812Z"
   },
   {
    "duration": 5,
    "start_time": "2022-01-03T07:56:31.758Z"
   },
   {
    "duration": 6,
    "start_time": "2022-01-03T07:56:33.556Z"
   },
   {
    "duration": 78,
    "start_time": "2022-01-03T07:56:50.992Z"
   },
   {
    "duration": 5,
    "start_time": "2022-01-03T07:56:53.228Z"
   },
   {
    "duration": 4,
    "start_time": "2022-01-03T07:57:25.231Z"
   },
   {
    "duration": 10,
    "start_time": "2022-01-03T07:57:27.407Z"
   },
   {
    "duration": 286,
    "start_time": "2022-01-03T07:57:38.619Z"
   },
   {
    "duration": 281,
    "start_time": "2022-01-03T07:57:48.542Z"
   },
   {
    "duration": 297,
    "start_time": "2022-01-03T07:57:52.687Z"
   },
   {
    "duration": 9,
    "start_time": "2022-01-03T07:58:00.221Z"
   },
   {
    "duration": 17,
    "start_time": "2022-01-03T07:59:05.891Z"
   },
   {
    "duration": 336,
    "start_time": "2022-01-03T08:02:11.283Z"
   },
   {
    "duration": 313,
    "start_time": "2022-01-03T08:02:19.598Z"
   },
   {
    "duration": 293,
    "start_time": "2022-01-03T08:02:27.439Z"
   },
   {
    "duration": 330,
    "start_time": "2022-01-03T08:02:40.653Z"
   },
   {
    "duration": 331,
    "start_time": "2022-01-03T08:03:37.690Z"
   },
   {
    "duration": 295,
    "start_time": "2022-01-03T08:04:03.134Z"
   },
   {
    "duration": 7,
    "start_time": "2022-01-03T08:06:12.154Z"
   },
   {
    "duration": 6,
    "start_time": "2022-01-03T08:06:30.672Z"
   },
   {
    "duration": 350,
    "start_time": "2022-01-03T08:08:14.449Z"
   },
   {
    "duration": 85,
    "start_time": "2022-01-03T08:09:59.873Z"
   },
   {
    "duration": 5,
    "start_time": "2022-01-03T08:10:07.096Z"
   },
   {
    "duration": 294,
    "start_time": "2022-01-03T08:11:10.314Z"
   },
   {
    "duration": 329,
    "start_time": "2022-01-03T08:11:17.868Z"
   },
   {
    "duration": 342,
    "start_time": "2022-01-03T08:11:23.646Z"
   },
   {
    "duration": 7,
    "start_time": "2022-01-03T08:11:27.411Z"
   },
   {
    "duration": 4,
    "start_time": "2022-01-03T08:13:52.146Z"
   },
   {
    "duration": 45,
    "start_time": "2022-01-03T08:16:25.717Z"
   },
   {
    "duration": 43,
    "start_time": "2022-01-03T08:16:34.865Z"
   },
   {
    "duration": 6,
    "start_time": "2022-01-03T08:17:01.807Z"
   },
   {
    "duration": 15,
    "start_time": "2022-01-03T08:20:34.885Z"
   },
   {
    "duration": 152,
    "start_time": "2022-01-03T08:20:46.778Z"
   },
   {
    "duration": 32,
    "start_time": "2022-01-03T08:20:56.392Z"
   },
   {
    "duration": 35,
    "start_time": "2022-01-03T08:21:02.291Z"
   },
   {
    "duration": 36,
    "start_time": "2022-01-03T08:21:05.390Z"
   },
   {
    "duration": 7,
    "start_time": "2022-01-03T08:21:50.400Z"
   },
   {
    "duration": 45,
    "start_time": "2022-01-03T08:22:00.268Z"
   },
   {
    "duration": 6,
    "start_time": "2022-01-03T08:22:03.206Z"
   },
   {
    "duration": 278,
    "start_time": "2022-01-03T08:22:40.377Z"
   },
   {
    "duration": 43,
    "start_time": "2022-01-03T08:22:45.434Z"
   },
   {
    "duration": 42,
    "start_time": "2022-01-03T08:22:50.428Z"
   },
   {
    "duration": 355,
    "start_time": "2022-01-03T08:24:56.828Z"
   },
   {
    "duration": 45,
    "start_time": "2022-01-03T08:26:25.983Z"
   },
   {
    "duration": 41,
    "start_time": "2022-01-03T08:32:18.312Z"
   },
   {
    "duration": 30,
    "start_time": "2022-01-03T08:32:21.930Z"
   },
   {
    "duration": 39,
    "start_time": "2022-01-03T08:32:24.488Z"
   },
   {
    "duration": 41,
    "start_time": "2022-01-03T08:32:27.339Z"
   },
   {
    "duration": 36,
    "start_time": "2022-01-03T08:32:34.550Z"
   },
   {
    "duration": 38,
    "start_time": "2022-01-03T08:32:38.912Z"
   },
   {
    "duration": 40,
    "start_time": "2022-01-03T08:32:41.549Z"
   },
   {
    "duration": 38,
    "start_time": "2022-01-03T08:32:45.519Z"
   },
   {
    "duration": 44,
    "start_time": "2022-01-03T08:33:17.467Z"
   },
   {
    "duration": 43,
    "start_time": "2022-01-03T08:33:21.499Z"
   },
   {
    "duration": 453,
    "start_time": "2022-01-03T08:33:32.411Z"
   },
   {
    "duration": 352,
    "start_time": "2022-01-03T08:33:37.235Z"
   },
   {
    "duration": 6,
    "start_time": "2022-01-03T08:35:12.608Z"
   },
   {
    "duration": 46,
    "start_time": "2022-01-03T08:35:52.279Z"
   },
   {
    "duration": 362,
    "start_time": "2022-01-03T08:36:20.499Z"
   },
   {
    "duration": 339,
    "start_time": "2022-01-03T08:36:46.085Z"
   },
   {
    "duration": 55,
    "start_time": "2022-01-03T08:36:57.952Z"
   },
   {
    "duration": 44,
    "start_time": "2022-01-03T09:03:43.375Z"
   },
   {
    "duration": 28,
    "start_time": "2022-01-03T09:04:04.794Z"
   },
   {
    "duration": 48,
    "start_time": "2022-01-03T09:04:19.915Z"
   },
   {
    "duration": 45,
    "start_time": "2022-01-03T09:05:06.226Z"
   },
   {
    "duration": 49,
    "start_time": "2022-01-03T09:05:50.828Z"
   },
   {
    "duration": 32,
    "start_time": "2022-01-03T09:07:25.037Z"
   },
   {
    "duration": 44,
    "start_time": "2022-01-03T09:07:31.201Z"
   },
   {
    "duration": 8,
    "start_time": "2022-01-03T09:09:33.546Z"
   },
   {
    "duration": 8,
    "start_time": "2022-01-03T09:09:44.769Z"
   },
   {
    "duration": 11,
    "start_time": "2022-01-03T09:10:34.317Z"
   },
   {
    "duration": 8,
    "start_time": "2022-01-03T09:11:36.976Z"
   },
   {
    "duration": 1916,
    "start_time": "2022-01-04T16:33:47.950Z"
   },
   {
    "duration": 4471,
    "start_time": "2022-01-04T16:33:49.869Z"
   },
   {
    "duration": 989,
    "start_time": "2022-01-04T16:33:54.343Z"
   },
   {
    "duration": 21,
    "start_time": "2022-01-04T16:33:55.333Z"
   },
   {
    "duration": 13,
    "start_time": "2022-01-04T16:33:55.355Z"
   },
   {
    "duration": 6,
    "start_time": "2022-01-04T16:33:55.369Z"
   },
   {
    "duration": 19,
    "start_time": "2022-01-04T16:33:55.377Z"
   },
   {
    "duration": 3,
    "start_time": "2022-01-04T16:33:55.398Z"
   },
   {
    "duration": 3,
    "start_time": "2022-01-04T16:33:55.404Z"
   },
   {
    "duration": 23,
    "start_time": "2022-01-04T16:33:55.408Z"
   },
   {
    "duration": 5,
    "start_time": "2022-01-04T16:33:55.432Z"
   },
   {
    "duration": 4,
    "start_time": "2022-01-04T16:33:55.438Z"
   },
   {
    "duration": 4,
    "start_time": "2022-01-04T16:33:55.444Z"
   },
   {
    "duration": 54,
    "start_time": "2022-01-04T16:33:55.450Z"
   },
   {
    "duration": 24,
    "start_time": "2022-01-04T16:33:55.506Z"
   },
   {
    "duration": 233,
    "start_time": "2022-01-04T16:33:55.531Z"
   },
   {
    "duration": 4,
    "start_time": "2022-01-04T16:33:55.766Z"
   },
   {
    "duration": 27,
    "start_time": "2022-01-04T16:33:55.772Z"
   },
   {
    "duration": 4,
    "start_time": "2022-01-04T16:33:55.801Z"
   },
   {
    "duration": 24,
    "start_time": "2022-01-04T16:33:55.807Z"
   },
   {
    "duration": 7,
    "start_time": "2022-01-04T16:33:55.833Z"
   },
   {
    "duration": 5,
    "start_time": "2022-01-04T16:34:02.155Z"
   },
   {
    "duration": 4,
    "start_time": "2022-01-04T16:44:45.104Z"
   },
   {
    "duration": 398,
    "start_time": "2022-01-04T16:46:44.644Z"
   },
   {
    "duration": 2,
    "start_time": "2022-01-04T16:46:51.403Z"
   },
   {
    "duration": 5,
    "start_time": "2022-01-04T16:47:38.029Z"
   },
   {
    "duration": 5,
    "start_time": "2022-01-04T16:53:33.401Z"
   },
   {
    "duration": 5,
    "start_time": "2022-01-04T16:54:00.301Z"
   },
   {
    "duration": 3,
    "start_time": "2022-01-04T16:54:18.665Z"
   },
   {
    "duration": 4,
    "start_time": "2022-01-04T16:54:19.132Z"
   },
   {
    "duration": 5,
    "start_time": "2022-01-04T16:54:19.842Z"
   },
   {
    "duration": 5,
    "start_time": "2022-01-04T16:54:20.411Z"
   },
   {
    "duration": 4,
    "start_time": "2022-01-04T16:54:21.688Z"
   },
   {
    "duration": 2,
    "start_time": "2022-01-04T16:54:36.582Z"
   },
   {
    "duration": 4,
    "start_time": "2022-01-04T16:54:37.055Z"
   },
   {
    "duration": 5,
    "start_time": "2022-01-04T16:54:37.681Z"
   },
   {
    "duration": 5,
    "start_time": "2022-01-04T16:54:38.426Z"
   },
   {
    "duration": 4,
    "start_time": "2022-01-04T16:54:39.165Z"
   },
   {
    "duration": 3,
    "start_time": "2022-01-04T16:54:48.179Z"
   },
   {
    "duration": 328,
    "start_time": "2022-01-04T16:54:48.701Z"
   },
   {
    "duration": 2,
    "start_time": "2022-01-04T16:54:53.840Z"
   },
   {
    "duration": 6,
    "start_time": "2022-01-04T16:54:54.311Z"
   },
   {
    "duration": 4,
    "start_time": "2022-01-04T16:54:55.476Z"
   },
   {
    "duration": 4,
    "start_time": "2022-01-04T16:54:55.982Z"
   },
   {
    "duration": 4,
    "start_time": "2022-01-04T16:54:56.615Z"
   },
   {
    "duration": 2,
    "start_time": "2022-01-04T16:55:04.306Z"
   },
   {
    "duration": 328,
    "start_time": "2022-01-04T16:55:04.773Z"
   },
   {
    "duration": 103,
    "start_time": "2022-01-04T16:55:31.516Z"
   },
   {
    "duration": 2,
    "start_time": "2022-01-04T16:55:34.895Z"
   },
   {
    "duration": 4,
    "start_time": "2022-01-04T16:55:35.225Z"
   },
   {
    "duration": 5,
    "start_time": "2022-01-04T16:55:35.678Z"
   },
   {
    "duration": 5,
    "start_time": "2022-01-04T16:55:36.063Z"
   },
   {
    "duration": 4,
    "start_time": "2022-01-04T16:55:36.402Z"
   },
   {
    "duration": 5,
    "start_time": "2022-01-04T16:58:02.224Z"
   },
   {
    "duration": 4,
    "start_time": "2022-01-04T16:58:15.406Z"
   },
   {
    "duration": 385,
    "start_time": "2022-01-04T16:59:50.496Z"
   },
   {
    "duration": 319,
    "start_time": "2022-01-04T16:59:58.413Z"
   },
   {
    "duration": 5,
    "start_time": "2022-01-04T17:00:29.011Z"
   },
   {
    "duration": 6,
    "start_time": "2022-01-04T17:00:41.405Z"
   },
   {
    "duration": 4,
    "start_time": "2022-01-04T17:00:53.488Z"
   },
   {
    "duration": 5,
    "start_time": "2022-01-04T17:01:01.496Z"
   },
   {
    "duration": 7,
    "start_time": "2022-01-04T17:01:06.749Z"
   },
   {
    "duration": 6,
    "start_time": "2022-01-04T17:01:21.446Z"
   },
   {
    "duration": 2,
    "start_time": "2022-01-04T17:02:16.104Z"
   },
   {
    "duration": 324,
    "start_time": "2022-01-04T17:02:18.916Z"
   },
   {
    "duration": 4,
    "start_time": "2022-01-04T17:02:21.346Z"
   },
   {
    "duration": 5,
    "start_time": "2022-01-04T17:02:22.009Z"
   },
   {
    "duration": 5,
    "start_time": "2022-01-04T17:02:24.396Z"
   },
   {
    "duration": 6,
    "start_time": "2022-01-04T17:03:15.728Z"
   },
   {
    "duration": 5,
    "start_time": "2022-01-04T17:03:26.905Z"
   },
   {
    "duration": 6,
    "start_time": "2022-01-04T17:03:34.016Z"
   },
   {
    "duration": 314,
    "start_time": "2022-01-04T17:04:09.545Z"
   },
   {
    "duration": 328,
    "start_time": "2022-01-04T17:04:16.694Z"
   },
   {
    "duration": 4,
    "start_time": "2022-01-04T17:04:19.789Z"
   },
   {
    "duration": 5,
    "start_time": "2022-01-04T17:05:06.919Z"
   },
   {
    "duration": 5,
    "start_time": "2022-01-04T17:05:18.292Z"
   },
   {
    "duration": 72,
    "start_time": "2022-01-05T06:49:46.628Z"
   },
   {
    "duration": 6334,
    "start_time": "2022-01-05T06:52:53.284Z"
   },
   {
    "duration": 90662,
    "start_time": "2022-01-05T06:52:59.621Z"
   },
   {
    "duration": 1051,
    "start_time": "2022-01-05T06:54:30.285Z"
   },
   {
    "duration": 18,
    "start_time": "2022-01-05T06:54:31.338Z"
   },
   {
    "duration": 16,
    "start_time": "2022-01-05T06:54:31.358Z"
   },
   {
    "duration": 9,
    "start_time": "2022-01-05T06:54:31.376Z"
   },
   {
    "duration": 23,
    "start_time": "2022-01-05T06:54:31.392Z"
   },
   {
    "duration": 3,
    "start_time": "2022-01-05T06:54:31.418Z"
   },
   {
    "duration": 7,
    "start_time": "2022-01-05T06:54:31.423Z"
   },
   {
    "duration": 9,
    "start_time": "2022-01-05T06:54:31.432Z"
   },
   {
    "duration": 7,
    "start_time": "2022-01-05T06:54:31.443Z"
   },
   {
    "duration": 13,
    "start_time": "2022-01-05T06:54:31.452Z"
   },
   {
    "duration": 2,
    "start_time": "2022-01-05T06:54:31.491Z"
   },
   {
    "duration": 4,
    "start_time": "2022-01-05T06:54:49.722Z"
   },
   {
    "duration": 79,
    "start_time": "2022-01-05T06:57:15.017Z"
   },
   {
    "duration": 122,
    "start_time": "2022-01-05T06:57:23.548Z"
   },
   {
    "duration": 56,
    "start_time": "2022-01-05T06:57:31.367Z"
   },
   {
    "duration": 268,
    "start_time": "2022-01-05T06:59:23.306Z"
   },
   {
    "duration": 179,
    "start_time": "2022-01-05T06:59:28.074Z"
   },
   {
    "duration": 50,
    "start_time": "2022-01-05T06:59:45.888Z"
   },
   {
    "duration": 4,
    "start_time": "2022-01-05T06:59:57.244Z"
   },
   {
    "duration": 4,
    "start_time": "2022-01-05T07:02:49.155Z"
   },
   {
    "duration": 282,
    "start_time": "2022-01-05T07:02:54.608Z"
   },
   {
    "duration": 4,
    "start_time": "2022-01-05T07:03:03.259Z"
   },
   {
    "duration": 186,
    "start_time": "2022-01-05T07:04:09.837Z"
   },
   {
    "duration": 181,
    "start_time": "2022-01-05T07:04:18.458Z"
   },
   {
    "duration": 296,
    "start_time": "2022-01-05T07:04:28.145Z"
   },
   {
    "duration": 176,
    "start_time": "2022-01-05T07:06:09.693Z"
   },
   {
    "duration": 69,
    "start_time": "2022-01-05T07:06:15.562Z"
   },
   {
    "duration": 6,
    "start_time": "2022-01-05T07:06:20.358Z"
   },
   {
    "duration": 65,
    "start_time": "2022-01-05T07:06:28.075Z"
   },
   {
    "duration": 6,
    "start_time": "2022-01-05T07:06:29.661Z"
   },
   {
    "duration": 69,
    "start_time": "2022-01-05T07:07:06.142Z"
   },
   {
    "duration": 8,
    "start_time": "2022-01-05T07:07:07.209Z"
   },
   {
    "duration": 189,
    "start_time": "2022-01-05T07:08:22.582Z"
   },
   {
    "duration": 219,
    "start_time": "2022-01-05T07:08:34.042Z"
   },
   {
    "duration": 51,
    "start_time": "2022-01-05T07:08:43.007Z"
   },
   {
    "duration": 4,
    "start_time": "2022-01-05T07:08:48.428Z"
   },
   {
    "duration": 234,
    "start_time": "2022-01-05T07:10:32.569Z"
   },
   {
    "duration": 300,
    "start_time": "2022-01-05T07:10:36.881Z"
   },
   {
    "duration": 51,
    "start_time": "2022-01-05T07:10:40.433Z"
   },
   {
    "duration": 183,
    "start_time": "2022-01-05T07:10:44.750Z"
   },
   {
    "duration": 217,
    "start_time": "2022-01-05T07:10:53.278Z"
   },
   {
    "duration": 53,
    "start_time": "2022-01-05T07:10:57.361Z"
   },
   {
    "duration": 4,
    "start_time": "2022-01-05T07:10:58.968Z"
   },
   {
    "duration": 209,
    "start_time": "2022-01-05T07:11:09.988Z"
   },
   {
    "duration": 4,
    "start_time": "2022-01-05T07:11:21.370Z"
   },
   {
    "duration": 4,
    "start_time": "2022-01-05T07:12:07.363Z"
   },
   {
    "duration": 3,
    "start_time": "2022-01-05T07:14:08.689Z"
   },
   {
    "duration": 3,
    "start_time": "2022-01-05T07:14:14.505Z"
   },
   {
    "duration": 3,
    "start_time": "2022-01-05T07:15:44.305Z"
   },
   {
    "duration": 13,
    "start_time": "2022-01-05T07:16:05.140Z"
   },
   {
    "duration": 10,
    "start_time": "2022-01-05T07:17:54.878Z"
   },
   {
    "duration": 197,
    "start_time": "2022-01-05T07:18:39.854Z"
   },
   {
    "duration": 10,
    "start_time": "2022-01-05T07:19:21.927Z"
   },
   {
    "duration": 4,
    "start_time": "2022-01-05T07:20:31.233Z"
   },
   {
    "duration": 220,
    "start_time": "2022-01-05T07:23:18.940Z"
   },
   {
    "duration": 4,
    "start_time": "2022-01-05T07:23:24.065Z"
   },
   {
    "duration": 175,
    "start_time": "2022-01-05T07:24:41.788Z"
   },
   {
    "duration": 3,
    "start_time": "2022-01-05T07:24:48.241Z"
   },
   {
    "duration": 4,
    "start_time": "2022-01-05T07:24:54.447Z"
   },
   {
    "duration": 232,
    "start_time": "2022-01-05T07:26:52.867Z"
   },
   {
    "duration": 4,
    "start_time": "2022-01-05T07:27:00.331Z"
   },
   {
    "duration": 4,
    "start_time": "2022-01-05T07:27:50.686Z"
   },
   {
    "duration": 4,
    "start_time": "2022-01-05T07:27:55.574Z"
   },
   {
    "duration": 44,
    "start_time": "2022-01-05T07:29:02.808Z"
   },
   {
    "duration": 37,
    "start_time": "2022-01-05T07:29:40.201Z"
   },
   {
    "duration": 5,
    "start_time": "2022-01-05T07:30:48.773Z"
   },
   {
    "duration": 11,
    "start_time": "2022-01-05T07:30:56.114Z"
   },
   {
    "duration": 10,
    "start_time": "2022-01-05T07:30:59.532Z"
   },
   {
    "duration": 4,
    "start_time": "2022-01-05T07:31:10.172Z"
   },
   {
    "duration": 5,
    "start_time": "2022-01-05T07:31:13.841Z"
   },
   {
    "duration": 7,
    "start_time": "2022-01-05T07:31:15.081Z"
   },
   {
    "duration": 6,
    "start_time": "2022-01-05T07:31:16.505Z"
   },
   {
    "duration": 4,
    "start_time": "2022-01-05T07:31:22.211Z"
   },
   {
    "duration": 5,
    "start_time": "2022-01-05T07:31:23.452Z"
   },
   {
    "duration": 3,
    "start_time": "2022-01-05T07:31:24.322Z"
   },
   {
    "duration": 5,
    "start_time": "2022-01-05T07:31:25.090Z"
   },
   {
    "duration": 6,
    "start_time": "2022-01-05T07:31:25.810Z"
   },
   {
    "duration": 5,
    "start_time": "2022-01-05T07:31:26.728Z"
   },
   {
    "duration": 10,
    "start_time": "2022-01-05T07:31:35.481Z"
   },
   {
    "duration": 10,
    "start_time": "2022-01-05T07:31:42.013Z"
   },
   {
    "duration": 6,
    "start_time": "2022-01-05T07:31:50.192Z"
   },
   {
    "duration": 5,
    "start_time": "2022-01-05T07:32:49.767Z"
   },
   {
    "duration": 233,
    "start_time": "2022-01-05T07:34:14.554Z"
   },
   {
    "duration": 4,
    "start_time": "2022-01-05T07:34:15.006Z"
   },
   {
    "duration": 23,
    "start_time": "2022-01-05T07:34:20.571Z"
   },
   {
    "duration": 8,
    "start_time": "2022-01-05T07:34:23.872Z"
   },
   {
    "duration": 57,
    "start_time": "2022-01-05T07:35:25.551Z"
   },
   {
    "duration": 25,
    "start_time": "2022-01-05T07:35:31.380Z"
   },
   {
    "duration": 10,
    "start_time": "2022-01-05T07:35:40.292Z"
   },
   {
    "duration": 10,
    "start_time": "2022-01-05T07:36:15.159Z"
   },
   {
    "duration": 10,
    "start_time": "2022-01-05T07:36:21.532Z"
   },
   {
    "duration": 10,
    "start_time": "2022-01-05T07:36:29.061Z"
   },
   {
    "duration": 11,
    "start_time": "2022-01-05T07:36:30.667Z"
   },
   {
    "duration": 10,
    "start_time": "2022-01-05T07:36:32.795Z"
   },
   {
    "duration": 5,
    "start_time": "2022-01-05T07:36:34.281Z"
   },
   {
    "duration": 11,
    "start_time": "2022-01-05T07:36:37.411Z"
   },
   {
    "duration": 11,
    "start_time": "2022-01-05T07:36:40.241Z"
   },
   {
    "duration": 5,
    "start_time": "2022-01-05T07:36:41.704Z"
   },
   {
    "duration": 4,
    "start_time": "2022-01-05T07:37:13.163Z"
   },
   {
    "duration": 11,
    "start_time": "2022-01-05T07:37:25.820Z"
   },
   {
    "duration": 11,
    "start_time": "2022-01-05T07:37:30.242Z"
   },
   {
    "duration": 6,
    "start_time": "2022-01-05T07:37:43.272Z"
   },
   {
    "duration": 8,
    "start_time": "2022-01-05T07:37:44.190Z"
   },
   {
    "duration": 5,
    "start_time": "2022-01-05T07:39:30.822Z"
   },
   {
    "duration": 6,
    "start_time": "2022-01-05T07:39:31.886Z"
   },
   {
    "duration": 3,
    "start_time": "2022-01-05T07:39:32.808Z"
   },
   {
    "duration": 5,
    "start_time": "2022-01-05T07:39:33.669Z"
   },
   {
    "duration": 6,
    "start_time": "2022-01-05T07:39:34.517Z"
   },
   {
    "duration": 6,
    "start_time": "2022-01-05T07:39:35.467Z"
   },
   {
    "duration": 62,
    "start_time": "2022-01-05T07:40:40.535Z"
   },
   {
    "duration": 12,
    "start_time": "2022-01-05T07:40:46.935Z"
   },
   {
    "duration": 6,
    "start_time": "2022-01-05T07:40:52.495Z"
   },
   {
    "duration": 12,
    "start_time": "2022-01-05T07:40:56.758Z"
   },
   {
    "duration": 6,
    "start_time": "2022-01-05T07:40:59.814Z"
   },
   {
    "duration": 12,
    "start_time": "2022-01-05T07:41:03.182Z"
   },
   {
    "duration": 6,
    "start_time": "2022-01-05T07:41:06.144Z"
   },
   {
    "duration": 18,
    "start_time": "2022-01-05T07:41:12.198Z"
   },
   {
    "duration": 6,
    "start_time": "2022-01-05T07:41:16.207Z"
   },
   {
    "duration": 56,
    "start_time": "2022-01-05T07:42:21.722Z"
   },
   {
    "duration": 64,
    "start_time": "2022-01-05T07:42:27.934Z"
   },
   {
    "duration": 4,
    "start_time": "2022-01-05T07:42:38.793Z"
   },
   {
    "duration": 5,
    "start_time": "2022-01-05T07:43:05.342Z"
   },
   {
    "duration": 7,
    "start_time": "2022-01-05T07:43:14.928Z"
   },
   {
    "duration": 7,
    "start_time": "2022-01-05T07:43:15.865Z"
   },
   {
    "duration": 6,
    "start_time": "2022-01-05T07:43:16.745Z"
   },
   {
    "duration": 5,
    "start_time": "2022-01-05T07:44:21.312Z"
   },
   {
    "duration": 5,
    "start_time": "2022-01-05T07:44:24.323Z"
   },
   {
    "duration": 2,
    "start_time": "2022-01-05T07:48:25.473Z"
   },
   {
    "duration": 3,
    "start_time": "2022-01-05T07:48:25.998Z"
   }
  ],
  "kernelspec": {
   "display_name": "Python 3 (ipykernel)",
   "language": "python",
   "name": "python3"
  },
  "language_info": {
   "codemirror_mode": {
    "name": "ipython",
    "version": 3
   },
   "file_extension": ".py",
   "mimetype": "text/x-python",
   "name": "python",
   "nbconvert_exporter": "python",
   "pygments_lexer": "ipython3",
   "version": "3.9.5"
  },
  "notebookId": "6c5b0d7a-2cdc-41bb-a539-2f28c949e022",
  "notebookPath": "ds-intro-ml.ipynb",
  "toc": {
   "base_numbering": 1,
   "nav_menu": {},
   "number_sections": true,
   "sideBar": true,
   "skip_h1_title": true,
   "title_cell": "Table of Contents",
   "title_sidebar": "Contents",
   "toc_cell": false,
   "toc_position": {
    "height": "calc(100% - 180px)",
    "left": "10px",
    "top": "150px",
    "width": "374.391px"
   },
   "toc_section_display": true,
   "toc_window_display": false
  }
 },
 "nbformat": 4,
 "nbformat_minor": 4
}
