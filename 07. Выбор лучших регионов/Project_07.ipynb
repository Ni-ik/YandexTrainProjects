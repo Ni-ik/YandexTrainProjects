{
 "cells": [
  {
   "cell_type": "markdown",
   "metadata": {
    "toc": true
   },
   "source": [
    "<h1>Содержание<span class=\"tocSkip\"></span></h1>\n",
    "<div class=\"toc\"><ul class=\"toc-item\"><li><span><a href=\"#Постановка-задачи\" data-toc-modified-id=\"Постановка-задачи-1\"><span class=\"toc-item-num\">1&nbsp;&nbsp;</span>Постановка задачи</a></span></li><li><span><a href=\"#Загрузка-и-подготовка-данных\" data-toc-modified-id=\"Загрузка-и-подготовка-данных-2\"><span class=\"toc-item-num\">2&nbsp;&nbsp;</span>Загрузка и подготовка данных</a></span><ul class=\"toc-item\"><li><span><a href=\"#Выводы\" data-toc-modified-id=\"Выводы-2.1\"><span class=\"toc-item-num\">2.1&nbsp;&nbsp;</span>Выводы</a></span></li></ul></li><li><span><a href=\"#Обучение-и-проверка-модели\" data-toc-modified-id=\"Обучение-и-проверка-модели-3\"><span class=\"toc-item-num\">3&nbsp;&nbsp;</span>Обучение и проверка модели</a></span><ul class=\"toc-item\"><li><span><a href=\"#Выделение-признаков\" data-toc-modified-id=\"Выделение-признаков-3.1\"><span class=\"toc-item-num\">3.1&nbsp;&nbsp;</span>Выделение признаков</a></span></li><li><span><a href=\"#Деление-на-выборки\" data-toc-modified-id=\"Деление-на-выборки-3.2\"><span class=\"toc-item-num\">3.2&nbsp;&nbsp;</span>Деление на выборки</a></span></li><li><span><a href=\"#Масшабирование-данных\" data-toc-modified-id=\"Масшабирование-данных-3.3\"><span class=\"toc-item-num\">3.3&nbsp;&nbsp;</span>Масшабирование данных</a></span></li><li><span><a href=\"#Обучение-моделей\" data-toc-modified-id=\"Обучение-моделей-3.4\"><span class=\"toc-item-num\">3.4&nbsp;&nbsp;</span>Обучение моделей</a></span></li><li><span><a href=\"#Выводы\" data-toc-modified-id=\"Выводы-3.5\"><span class=\"toc-item-num\">3.5&nbsp;&nbsp;</span>Выводы</a></span></li></ul></li><li><span><a href=\"#Подготовка-к-расчёту-прибыли\" data-toc-modified-id=\"Подготовка-к-расчёту-прибыли-4\"><span class=\"toc-item-num\">4&nbsp;&nbsp;</span>Подготовка к расчёту прибыли</a></span><ul class=\"toc-item\"><li><span><a href=\"#Ключевые-константы-задачи\" data-toc-modified-id=\"Ключевые-константы-задачи-4.1\"><span class=\"toc-item-num\">4.1&nbsp;&nbsp;</span>Ключевые константы задачи</a></span></li><li><span><a href=\"#Объём-для-безубыточной-работы-скважины\" data-toc-modified-id=\"Объём-для-безубыточной-работы-скважины-4.2\"><span class=\"toc-item-num\">4.2&nbsp;&nbsp;</span>Объём для безубыточной работы скважины</a></span></li><li><span><a href=\"#Выводы\" data-toc-modified-id=\"Выводы-4.3\"><span class=\"toc-item-num\">4.3&nbsp;&nbsp;</span>Выводы</a></span></li></ul></li><li><span><a href=\"#Расчёт-прибыли\" data-toc-modified-id=\"Расчёт-прибыли-5\"><span class=\"toc-item-num\">5&nbsp;&nbsp;</span>Расчёт прибыли</a></span><ul class=\"toc-item\"><li><span><a href=\"#Выводы\" data-toc-modified-id=\"Выводы-5.1\"><span class=\"toc-item-num\">5.1&nbsp;&nbsp;</span>Выводы</a></span></li></ul></li><li><span><a href=\"#Расчёт-прибыли-и-рисков\" data-toc-modified-id=\"Расчёт-прибыли-и-рисков-6\"><span class=\"toc-item-num\">6&nbsp;&nbsp;</span>Расчёт прибыли и рисков</a></span><ul class=\"toc-item\"><li><span><a href=\"#Выборка-бутсрепом\" data-toc-modified-id=\"Выборка-бутсрепом-6.1\"><span class=\"toc-item-num\">6.1&nbsp;&nbsp;</span>Выборка бутсрепом</a></span></li><li><span><a href=\"#Расчёт-показателей\" data-toc-modified-id=\"Расчёт-показателей-6.2\"><span class=\"toc-item-num\">6.2&nbsp;&nbsp;</span>Расчёт показателей</a></span></li><li><span><a href=\"#Выводы\" data-toc-modified-id=\"Выводы-6.3\"><span class=\"toc-item-num\">6.3&nbsp;&nbsp;</span>Выводы</a></span></li></ul></li><li><span><a href=\"#Выводы\" data-toc-modified-id=\"Выводы-7\"><span class=\"toc-item-num\">7&nbsp;&nbsp;</span>Выводы</a></span></li></ul></div>"
   ]
  },
  {
   "cell_type": "markdown",
   "metadata": {},
   "source": [
    "# Выбор локации для скважины"
   ]
  },
  {
   "cell_type": "markdown",
   "metadata": {},
   "source": [
    "Вам предоставлены пробы нефти в трёх регионах: в каждом 100 000 месторождений, где измерили качество нефти и объём её запасов. Постройте модель машинного обучения, которая поможет определить регион, где добыча принесёт наибольшую прибыль. Проанализируйте возможную прибыль и риски техникой *Bootstrap.*\n",
    "\n",
    "Шаги для выбора локации:\n",
    "\n",
    "- В избранном регионе ищут месторождения, для каждого определяют значения признаков;\n",
    "- Строят модель и оценивают объём запасов;\n",
    "- Выбирают месторождения с самым высокими оценками значений. Количество месторождений зависит от бюджета компании и стоимости разработки одной скважины;\n",
    "- Прибыль равна суммарной прибыли отобранных месторождений."
   ]
  },
  {
   "cell_type": "markdown",
   "metadata": {},
   "source": [
    "## Постановка задачи"
   ]
  },
  {
   "cell_type": "markdown",
   "metadata": {},
   "source": [
    "**Основная цель исследования** - определить регион, где добыча принесёт наибольую прибыль."
   ]
  },
  {
   "cell_type": "markdown",
   "metadata": {},
   "source": [
    "Для достижения целинеобходимо решить следующие задачи"
   ]
  },
  {
   "cell_type": "markdown",
   "metadata": {},
   "source": [
    "**Задачи исследовани**"
   ]
  },
  {
   "cell_type": "markdown",
   "metadata": {},
   "source": [
    "* Загрузить и подготовить данные. \n",
    "* Разбить данные на обучающую и валидационную выборки в соотношении 75:25.\n",
    "* Обучить модель и сделайть предсказания на валидационной выборке.\n",
    "* Сохранить предсказания и правильные ответы на валидационной выборке.\n",
    "* Напечатайть на экране средний запас предсказанного сырья и RMSE модели.\n",
    "* Все ключевые значения для расчётов сохранить в отдельных переменных.\n",
    "* Рассчитать достаточный объём сырья для безубыточной разработки новой скважины. \n",
    "* Сравнить полученный объём сырья со средним запасом в каждом регионе.\n",
    "* Написать функцию для расчёта прибыли по выбранным скважинам и предсказаниям модели:\n",
    "* Применить технику Bootstrap с 1000 выборок, чтобы найти распределение прибыли.\n",
    "* Предложить регион для разработки скважин и обосновать выбор."
   ]
  },
  {
   "cell_type": "markdown",
   "metadata": {},
   "source": [
    "## Загрузка и подготовка данных"
   ]
  },
  {
   "cell_type": "markdown",
   "metadata": {},
   "source": [
    "Импортируем библиотеки"
   ]
  },
  {
   "cell_type": "code",
   "execution_count": 2,
   "metadata": {},
   "outputs": [],
   "source": [
    "import pandas as pd\n",
    "from sklearn.preprocessing import StandardScaler\n",
    "from sklearn.model_selection import train_test_split\n",
    "from sklearn.preprocessing import StandardScaler\n",
    "from sklearn.linear_model import LinearRegression\n",
    "from sklearn.metrics import mean_squared_error\n",
    "import numpy as np\n",
    "from ipywidgets import IntProgress\n",
    "from IPython.display import display\n",
    "from scipy import stats as st\n",
    "import matplotlib.pyplot as plt"
   ]
  },
  {
   "cell_type": "markdown",
   "metadata": {},
   "source": [
    "Загрузим файлы"
   ]
  },
  {
   "cell_type": "code",
   "execution_count": 3,
   "metadata": {},
   "outputs": [],
   "source": [
    "df0 = pd.read_csv('/datasets/geo_data_0.csv')\n",
    "df1 = pd.read_csv('/datasets/geo_data_1.csv')\n",
    "df2 = pd.read_csv('/datasets/geo_data_2.csv')"
   ]
  },
  {
   "cell_type": "markdown",
   "metadata": {},
   "source": [
    "Последовательно выведем информацию о столбцах из каждой таблицы"
   ]
  },
  {
   "cell_type": "code",
   "execution_count": 4,
   "metadata": {
    "scrolled": true
   },
   "outputs": [
    {
     "name": "stdout",
     "output_type": "stream",
     "text": [
      "<class 'pandas.core.frame.DataFrame'>\n",
      "RangeIndex: 100000 entries, 0 to 99999\n",
      "Data columns (total 5 columns):\n",
      "id         100000 non-null object\n",
      "f0         100000 non-null float64\n",
      "f1         100000 non-null float64\n",
      "f2         100000 non-null float64\n",
      "product    100000 non-null float64\n",
      "dtypes: float64(4), object(1)\n",
      "memory usage: 3.8+ MB\n"
     ]
    }
   ],
   "source": [
    "df0.info()"
   ]
  },
  {
   "cell_type": "code",
   "execution_count": 5,
   "metadata": {
    "scrolled": false
   },
   "outputs": [
    {
     "name": "stdout",
     "output_type": "stream",
     "text": [
      "<class 'pandas.core.frame.DataFrame'>\n",
      "RangeIndex: 100000 entries, 0 to 99999\n",
      "Data columns (total 5 columns):\n",
      "id         100000 non-null object\n",
      "f0         100000 non-null float64\n",
      "f1         100000 non-null float64\n",
      "f2         100000 non-null float64\n",
      "product    100000 non-null float64\n",
      "dtypes: float64(4), object(1)\n",
      "memory usage: 3.8+ MB\n"
     ]
    }
   ],
   "source": [
    "df1.info()"
   ]
  },
  {
   "cell_type": "code",
   "execution_count": 6,
   "metadata": {},
   "outputs": [
    {
     "name": "stdout",
     "output_type": "stream",
     "text": [
      "<class 'pandas.core.frame.DataFrame'>\n",
      "RangeIndex: 100000 entries, 0 to 99999\n",
      "Data columns (total 5 columns):\n",
      "id         100000 non-null object\n",
      "f0         100000 non-null float64\n",
      "f1         100000 non-null float64\n",
      "f2         100000 non-null float64\n",
      "product    100000 non-null float64\n",
      "dtypes: float64(4), object(1)\n",
      "memory usage: 3.8+ MB\n"
     ]
    }
   ],
   "source": [
    "df2.info()"
   ]
  },
  {
   "cell_type": "markdown",
   "metadata": {},
   "source": [
    "Структура столбцов одинаковая. В каждой таблице 100000 записей. Пропусков нет. Выведем головы таблиц."
   ]
  },
  {
   "cell_type": "code",
   "execution_count": 7,
   "metadata": {
    "scrolled": true
   },
   "outputs": [
    {
     "data": {
      "text/html": [
       "<div>\n",
       "<style scoped>\n",
       "    .dataframe tbody tr th:only-of-type {\n",
       "        vertical-align: middle;\n",
       "    }\n",
       "\n",
       "    .dataframe tbody tr th {\n",
       "        vertical-align: top;\n",
       "    }\n",
       "\n",
       "    .dataframe thead th {\n",
       "        text-align: right;\n",
       "    }\n",
       "</style>\n",
       "<table border=\"1\" class=\"dataframe\">\n",
       "  <thead>\n",
       "    <tr style=\"text-align: right;\">\n",
       "      <th></th>\n",
       "      <th>id</th>\n",
       "      <th>f0</th>\n",
       "      <th>f1</th>\n",
       "      <th>f2</th>\n",
       "      <th>product</th>\n",
       "    </tr>\n",
       "  </thead>\n",
       "  <tbody>\n",
       "    <tr>\n",
       "      <td>0</td>\n",
       "      <td>txEyH</td>\n",
       "      <td>0.705745</td>\n",
       "      <td>-0.497823</td>\n",
       "      <td>1.221170</td>\n",
       "      <td>105.280062</td>\n",
       "    </tr>\n",
       "    <tr>\n",
       "      <td>1</td>\n",
       "      <td>2acmU</td>\n",
       "      <td>1.334711</td>\n",
       "      <td>-0.340164</td>\n",
       "      <td>4.365080</td>\n",
       "      <td>73.037750</td>\n",
       "    </tr>\n",
       "    <tr>\n",
       "      <td>2</td>\n",
       "      <td>409Wp</td>\n",
       "      <td>1.022732</td>\n",
       "      <td>0.151990</td>\n",
       "      <td>1.419926</td>\n",
       "      <td>85.265647</td>\n",
       "    </tr>\n",
       "    <tr>\n",
       "      <td>3</td>\n",
       "      <td>iJLyR</td>\n",
       "      <td>-0.032172</td>\n",
       "      <td>0.139033</td>\n",
       "      <td>2.978566</td>\n",
       "      <td>168.620776</td>\n",
       "    </tr>\n",
       "    <tr>\n",
       "      <td>4</td>\n",
       "      <td>Xdl7t</td>\n",
       "      <td>1.988431</td>\n",
       "      <td>0.155413</td>\n",
       "      <td>4.751769</td>\n",
       "      <td>154.036647</td>\n",
       "    </tr>\n",
       "  </tbody>\n",
       "</table>\n",
       "</div>"
      ],
      "text/plain": [
       "      id        f0        f1        f2     product\n",
       "0  txEyH  0.705745 -0.497823  1.221170  105.280062\n",
       "1  2acmU  1.334711 -0.340164  4.365080   73.037750\n",
       "2  409Wp  1.022732  0.151990  1.419926   85.265647\n",
       "3  iJLyR -0.032172  0.139033  2.978566  168.620776\n",
       "4  Xdl7t  1.988431  0.155413  4.751769  154.036647"
      ]
     },
     "execution_count": 7,
     "metadata": {},
     "output_type": "execute_result"
    }
   ],
   "source": [
    "df0.head()"
   ]
  },
  {
   "cell_type": "code",
   "execution_count": 8,
   "metadata": {
    "scrolled": true
   },
   "outputs": [
    {
     "data": {
      "text/html": [
       "<div>\n",
       "<style scoped>\n",
       "    .dataframe tbody tr th:only-of-type {\n",
       "        vertical-align: middle;\n",
       "    }\n",
       "\n",
       "    .dataframe tbody tr th {\n",
       "        vertical-align: top;\n",
       "    }\n",
       "\n",
       "    .dataframe thead th {\n",
       "        text-align: right;\n",
       "    }\n",
       "</style>\n",
       "<table border=\"1\" class=\"dataframe\">\n",
       "  <thead>\n",
       "    <tr style=\"text-align: right;\">\n",
       "      <th></th>\n",
       "      <th>id</th>\n",
       "      <th>f0</th>\n",
       "      <th>f1</th>\n",
       "      <th>f2</th>\n",
       "      <th>product</th>\n",
       "    </tr>\n",
       "  </thead>\n",
       "  <tbody>\n",
       "    <tr>\n",
       "      <td>0</td>\n",
       "      <td>kBEdx</td>\n",
       "      <td>-15.001348</td>\n",
       "      <td>-8.276000</td>\n",
       "      <td>-0.005876</td>\n",
       "      <td>3.179103</td>\n",
       "    </tr>\n",
       "    <tr>\n",
       "      <td>1</td>\n",
       "      <td>62mP7</td>\n",
       "      <td>14.272088</td>\n",
       "      <td>-3.475083</td>\n",
       "      <td>0.999183</td>\n",
       "      <td>26.953261</td>\n",
       "    </tr>\n",
       "    <tr>\n",
       "      <td>2</td>\n",
       "      <td>vyE1P</td>\n",
       "      <td>6.263187</td>\n",
       "      <td>-5.948386</td>\n",
       "      <td>5.001160</td>\n",
       "      <td>134.766305</td>\n",
       "    </tr>\n",
       "    <tr>\n",
       "      <td>3</td>\n",
       "      <td>KcrkZ</td>\n",
       "      <td>-13.081196</td>\n",
       "      <td>-11.506057</td>\n",
       "      <td>4.999415</td>\n",
       "      <td>137.945408</td>\n",
       "    </tr>\n",
       "    <tr>\n",
       "      <td>4</td>\n",
       "      <td>AHL4O</td>\n",
       "      <td>12.702195</td>\n",
       "      <td>-8.147433</td>\n",
       "      <td>5.004363</td>\n",
       "      <td>134.766305</td>\n",
       "    </tr>\n",
       "  </tbody>\n",
       "</table>\n",
       "</div>"
      ],
      "text/plain": [
       "      id         f0         f1        f2     product\n",
       "0  kBEdx -15.001348  -8.276000 -0.005876    3.179103\n",
       "1  62mP7  14.272088  -3.475083  0.999183   26.953261\n",
       "2  vyE1P   6.263187  -5.948386  5.001160  134.766305\n",
       "3  KcrkZ -13.081196 -11.506057  4.999415  137.945408\n",
       "4  AHL4O  12.702195  -8.147433  5.004363  134.766305"
      ]
     },
     "execution_count": 8,
     "metadata": {},
     "output_type": "execute_result"
    }
   ],
   "source": [
    "df1.head()"
   ]
  },
  {
   "cell_type": "code",
   "execution_count": 9,
   "metadata": {
    "scrolled": true
   },
   "outputs": [
    {
     "data": {
      "text/html": [
       "<div>\n",
       "<style scoped>\n",
       "    .dataframe tbody tr th:only-of-type {\n",
       "        vertical-align: middle;\n",
       "    }\n",
       "\n",
       "    .dataframe tbody tr th {\n",
       "        vertical-align: top;\n",
       "    }\n",
       "\n",
       "    .dataframe thead th {\n",
       "        text-align: right;\n",
       "    }\n",
       "</style>\n",
       "<table border=\"1\" class=\"dataframe\">\n",
       "  <thead>\n",
       "    <tr style=\"text-align: right;\">\n",
       "      <th></th>\n",
       "      <th>id</th>\n",
       "      <th>f0</th>\n",
       "      <th>f1</th>\n",
       "      <th>f2</th>\n",
       "      <th>product</th>\n",
       "    </tr>\n",
       "  </thead>\n",
       "  <tbody>\n",
       "    <tr>\n",
       "      <td>0</td>\n",
       "      <td>fwXo0</td>\n",
       "      <td>-1.146987</td>\n",
       "      <td>0.963328</td>\n",
       "      <td>-0.828965</td>\n",
       "      <td>27.758673</td>\n",
       "    </tr>\n",
       "    <tr>\n",
       "      <td>1</td>\n",
       "      <td>WJtFt</td>\n",
       "      <td>0.262778</td>\n",
       "      <td>0.269839</td>\n",
       "      <td>-2.530187</td>\n",
       "      <td>56.069697</td>\n",
       "    </tr>\n",
       "    <tr>\n",
       "      <td>2</td>\n",
       "      <td>ovLUW</td>\n",
       "      <td>0.194587</td>\n",
       "      <td>0.289035</td>\n",
       "      <td>-5.586433</td>\n",
       "      <td>62.871910</td>\n",
       "    </tr>\n",
       "    <tr>\n",
       "      <td>3</td>\n",
       "      <td>q6cA6</td>\n",
       "      <td>2.236060</td>\n",
       "      <td>-0.553760</td>\n",
       "      <td>0.930038</td>\n",
       "      <td>114.572842</td>\n",
       "    </tr>\n",
       "    <tr>\n",
       "      <td>4</td>\n",
       "      <td>WPMUX</td>\n",
       "      <td>-0.515993</td>\n",
       "      <td>1.716266</td>\n",
       "      <td>5.899011</td>\n",
       "      <td>149.600746</td>\n",
       "    </tr>\n",
       "  </tbody>\n",
       "</table>\n",
       "</div>"
      ],
      "text/plain": [
       "      id        f0        f1        f2     product\n",
       "0  fwXo0 -1.146987  0.963328 -0.828965   27.758673\n",
       "1  WJtFt  0.262778  0.269839 -2.530187   56.069697\n",
       "2  ovLUW  0.194587  0.289035 -5.586433   62.871910\n",
       "3  q6cA6  2.236060 -0.553760  0.930038  114.572842\n",
       "4  WPMUX -0.515993  1.716266  5.899011  149.600746"
      ]
     },
     "execution_count": 9,
     "metadata": {},
     "output_type": "execute_result"
    }
   ],
   "source": [
    "df2.head()"
   ]
  },
  {
   "cell_type": "markdown",
   "metadata": {},
   "source": [
    "Согласно условию в таблицах следующие показатели:\n",
    "* `id` — уникальный идентификатор скважины;\n",
    "* `f0`, `f1`, `f2` — три признака точек (неважно, что они означают, но сами признаки значимы);\n",
    "* `product` — объём запасов в скважине (тыс. баррелей).\n",
    "\n",
    "Таблица соотвтствует описанию. Особое внимание стоит обратить на `id` скважины. Этот показатель имеет строковый тип."
   ]
  },
  {
   "cell_type": "markdown",
   "metadata": {},
   "source": [
    "### Выводы\n",
    "\n",
    "Файлы открылись без ошибок. Пропущенных данных нет. Столбцы соответствую заявленным."
   ]
  },
  {
   "cell_type": "markdown",
   "metadata": {},
   "source": [
    "## Обучение и проверка модели"
   ]
  },
  {
   "cell_type": "markdown",
   "metadata": {},
   "source": [
    "### Выделение признаков"
   ]
  },
  {
   "cell_type": "markdown",
   "metadata": {},
   "source": [
    "Для удобства работы с таблицами, объеденим их в один список"
   ]
  },
  {
   "cell_type": "code",
   "execution_count": 10,
   "metadata": {},
   "outputs": [],
   "source": [
    "df = [df0, df1, df2]"
   ]
  },
  {
   "cell_type": "markdown",
   "metadata": {},
   "source": [
    "К занчимым признакам относятся показатели `f1`, `f2`, `f3`. К целевому признаку - `product`"
   ]
  },
  {
   "cell_type": "code",
   "execution_count": 11,
   "metadata": {},
   "outputs": [],
   "source": [
    "num_features = ['f0', 'f1', 'f2']"
   ]
  },
  {
   "cell_type": "markdown",
   "metadata": {},
   "source": [
    "Используя списочные выражения для каждой таблицы выделим значимые и целевые признаки"
   ]
  },
  {
   "cell_type": "code",
   "execution_count": 12,
   "metadata": {},
   "outputs": [],
   "source": [
    "features = [df_[num_features] for df_ in df]"
   ]
  },
  {
   "cell_type": "code",
   "execution_count": 13,
   "metadata": {},
   "outputs": [],
   "source": [
    "target = [df_[['product']] for df_ in df]"
   ]
  },
  {
   "cell_type": "markdown",
   "metadata": {},
   "source": [
    "### Деление на выборки"
   ]
  },
  {
   "cell_type": "markdown",
   "metadata": {},
   "source": [
    "Разобьём данные на обучающую и валидационную выборку в соотношении 75:25. Признаки будем записывать в свои списки."
   ]
  },
  {
   "cell_type": "code",
   "execution_count": 14,
   "metadata": {},
   "outputs": [],
   "source": [
    "features_train=[]\n",
    "features_valid=[]\n",
    "target_train=[]\n",
    "target_valid=[]\n",
    "for features_, target_ in zip(features,target):\n",
    "    features_train_, features_valid_, target_train_, target_valid_= train_test_split(\n",
    "        features_, target_, test_size = 0.25, random_state=42);\n",
    "    features_train.append(features_train_)\n",
    "    features_valid.append(features_valid_)\n",
    "    target_train.append(target_train_)\n",
    "    target_valid.append(target_valid_)"
   ]
  },
  {
   "cell_type": "markdown",
   "metadata": {},
   "source": [
    "Проверим размеры для признаков"
   ]
  },
  {
   "cell_type": "code",
   "execution_count": 15,
   "metadata": {
    "scrolled": true
   },
   "outputs": [
    {
     "data": {
      "text/plain": [
       "[(75000, 25000), (75000, 25000), (75000, 25000)]"
      ]
     },
     "execution_count": 15,
     "metadata": {},
     "output_type": "execute_result"
    }
   ],
   "source": [
    "[(len(x), len(y)) for x, y in zip(features_train, features_valid)]"
   ]
  },
  {
   "cell_type": "markdown",
   "metadata": {},
   "source": [
    "И для показателей"
   ]
  },
  {
   "cell_type": "code",
   "execution_count": 16,
   "metadata": {},
   "outputs": [
    {
     "data": {
      "text/plain": [
       "[(75000, 25000), (75000, 25000), (75000, 25000)]"
      ]
     },
     "execution_count": 16,
     "metadata": {},
     "output_type": "execute_result"
    }
   ],
   "source": [
    "[(len(x), len(y)) for x, y in zip(target_train, target_valid)]"
   ]
  },
  {
   "cell_type": "markdown",
   "metadata": {},
   "source": [
    "Размеры соотносятся как 75/25."
   ]
  },
  {
   "cell_type": "markdown",
   "metadata": {},
   "source": [
    "### Масшабирование данных"
   ]
  },
  {
   "cell_type": "markdown",
   "metadata": {},
   "source": [
    "Так как планируем в качестве модели использовать линейную регрессию то признаки необходимо масштабировать. Для этого будем использовать `StandardScaler` для признаков на тренировочном наборе. Скалеры запишем в список - каждому набору полагается свой."
   ]
  },
  {
   "cell_type": "code",
   "execution_count": 17,
   "metadata": {},
   "outputs": [],
   "source": [
    "scaler = [StandardScaler(), StandardScaler(), StandardScaler()]"
   ]
  },
  {
   "cell_type": "markdown",
   "metadata": {},
   "source": [
    "Обучим скалеры каждый на своём тренировочном наборе"
   ]
  },
  {
   "cell_type": "code",
   "execution_count": 18,
   "metadata": {
    "scrolled": true
   },
   "outputs": [],
   "source": [
    "for i in range(len(features_train)):\n",
    "    scaler[i].fit(features_train[i])"
   ]
  },
  {
   "cell_type": "markdown",
   "metadata": {},
   "source": [
    "Масштабируем признаки. Причём масштабируем как тренировочные, так и валидационные выборки"
   ]
  },
  {
   "cell_type": "code",
   "execution_count": 19,
   "metadata": {
    "scrolled": true
   },
   "outputs": [
    {
     "name": "stderr",
     "output_type": "stream",
     "text": [
      "/opt/conda/lib/python3.7/site-packages/ipykernel_launcher.py:2: SettingWithCopyWarning: \n",
      "A value is trying to be set on a copy of a slice from a DataFrame.\n",
      "Try using .loc[row_indexer,col_indexer] = value instead\n",
      "\n",
      "See the caveats in the documentation: http://pandas.pydata.org/pandas-docs/stable/user_guide/indexing.html#returning-a-view-versus-a-copy\n",
      "  \n",
      "/opt/conda/lib/python3.7/site-packages/pandas/core/frame.py:3498: SettingWithCopyWarning: \n",
      "A value is trying to be set on a copy of a slice from a DataFrame\n",
      "\n",
      "See the caveats in the documentation: http://pandas.pydata.org/pandas-docs/stable/user_guide/indexing.html#returning-a-view-versus-a-copy\n",
      "  self.loc._setitem_with_indexer((slice(None), indexer), value)\n",
      "/opt/conda/lib/python3.7/site-packages/pandas/core/frame.py:3469: SettingWithCopyWarning: \n",
      "A value is trying to be set on a copy of a slice from a DataFrame\n",
      "\n",
      "See the caveats in the documentation: http://pandas.pydata.org/pandas-docs/stable/user_guide/indexing.html#returning-a-view-versus-a-copy\n",
      "  self._setitem_array(key, value)\n",
      "/opt/conda/lib/python3.7/site-packages/ipykernel_launcher.py:3: SettingWithCopyWarning: \n",
      "A value is trying to be set on a copy of a slice from a DataFrame.\n",
      "Try using .loc[row_indexer,col_indexer] = value instead\n",
      "\n",
      "See the caveats in the documentation: http://pandas.pydata.org/pandas-docs/stable/user_guide/indexing.html#returning-a-view-versus-a-copy\n",
      "  This is separate from the ipykernel package so we can avoid doing imports until\n",
      "/opt/conda/lib/python3.7/site-packages/pandas/core/frame.py:3498: SettingWithCopyWarning: \n",
      "A value is trying to be set on a copy of a slice from a DataFrame\n",
      "\n",
      "See the caveats in the documentation: http://pandas.pydata.org/pandas-docs/stable/user_guide/indexing.html#returning-a-view-versus-a-copy\n",
      "  self.loc._setitem_with_indexer((slice(None), indexer), value)\n",
      "/opt/conda/lib/python3.7/site-packages/pandas/core/frame.py:3469: SettingWithCopyWarning: \n",
      "A value is trying to be set on a copy of a slice from a DataFrame\n",
      "\n",
      "See the caveats in the documentation: http://pandas.pydata.org/pandas-docs/stable/user_guide/indexing.html#returning-a-view-versus-a-copy\n",
      "  self._setitem_array(key, value)\n",
      "/opt/conda/lib/python3.7/site-packages/ipykernel_launcher.py:2: SettingWithCopyWarning: \n",
      "A value is trying to be set on a copy of a slice from a DataFrame.\n",
      "Try using .loc[row_indexer,col_indexer] = value instead\n",
      "\n",
      "See the caveats in the documentation: http://pandas.pydata.org/pandas-docs/stable/user_guide/indexing.html#returning-a-view-versus-a-copy\n",
      "  \n",
      "/opt/conda/lib/python3.7/site-packages/pandas/core/frame.py:3498: SettingWithCopyWarning: \n",
      "A value is trying to be set on a copy of a slice from a DataFrame\n",
      "\n",
      "See the caveats in the documentation: http://pandas.pydata.org/pandas-docs/stable/user_guide/indexing.html#returning-a-view-versus-a-copy\n",
      "  self.loc._setitem_with_indexer((slice(None), indexer), value)\n",
      "/opt/conda/lib/python3.7/site-packages/pandas/core/frame.py:3469: SettingWithCopyWarning: \n",
      "A value is trying to be set on a copy of a slice from a DataFrame\n",
      "\n",
      "See the caveats in the documentation: http://pandas.pydata.org/pandas-docs/stable/user_guide/indexing.html#returning-a-view-versus-a-copy\n",
      "  self._setitem_array(key, value)\n",
      "/opt/conda/lib/python3.7/site-packages/ipykernel_launcher.py:3: SettingWithCopyWarning: \n",
      "A value is trying to be set on a copy of a slice from a DataFrame.\n",
      "Try using .loc[row_indexer,col_indexer] = value instead\n",
      "\n",
      "See the caveats in the documentation: http://pandas.pydata.org/pandas-docs/stable/user_guide/indexing.html#returning-a-view-versus-a-copy\n",
      "  This is separate from the ipykernel package so we can avoid doing imports until\n",
      "/opt/conda/lib/python3.7/site-packages/pandas/core/frame.py:3498: SettingWithCopyWarning: \n",
      "A value is trying to be set on a copy of a slice from a DataFrame\n",
      "\n",
      "See the caveats in the documentation: http://pandas.pydata.org/pandas-docs/stable/user_guide/indexing.html#returning-a-view-versus-a-copy\n",
      "  self.loc._setitem_with_indexer((slice(None), indexer), value)\n",
      "/opt/conda/lib/python3.7/site-packages/pandas/core/frame.py:3469: SettingWithCopyWarning: \n",
      "A value is trying to be set on a copy of a slice from a DataFrame\n",
      "\n",
      "See the caveats in the documentation: http://pandas.pydata.org/pandas-docs/stable/user_guide/indexing.html#returning-a-view-versus-a-copy\n",
      "  self._setitem_array(key, value)\n",
      "/opt/conda/lib/python3.7/site-packages/ipykernel_launcher.py:2: SettingWithCopyWarning: \n",
      "A value is trying to be set on a copy of a slice from a DataFrame.\n",
      "Try using .loc[row_indexer,col_indexer] = value instead\n",
      "\n",
      "See the caveats in the documentation: http://pandas.pydata.org/pandas-docs/stable/user_guide/indexing.html#returning-a-view-versus-a-copy\n",
      "  \n",
      "/opt/conda/lib/python3.7/site-packages/pandas/core/frame.py:3498: SettingWithCopyWarning: \n",
      "A value is trying to be set on a copy of a slice from a DataFrame\n",
      "\n",
      "See the caveats in the documentation: http://pandas.pydata.org/pandas-docs/stable/user_guide/indexing.html#returning-a-view-versus-a-copy\n",
      "  self.loc._setitem_with_indexer((slice(None), indexer), value)\n",
      "/opt/conda/lib/python3.7/site-packages/pandas/core/frame.py:3469: SettingWithCopyWarning: \n",
      "A value is trying to be set on a copy of a slice from a DataFrame\n",
      "\n",
      "See the caveats in the documentation: http://pandas.pydata.org/pandas-docs/stable/user_guide/indexing.html#returning-a-view-versus-a-copy\n",
      "  self._setitem_array(key, value)\n",
      "/opt/conda/lib/python3.7/site-packages/ipykernel_launcher.py:3: SettingWithCopyWarning: \n",
      "A value is trying to be set on a copy of a slice from a DataFrame.\n",
      "Try using .loc[row_indexer,col_indexer] = value instead\n",
      "\n",
      "See the caveats in the documentation: http://pandas.pydata.org/pandas-docs/stable/user_guide/indexing.html#returning-a-view-versus-a-copy\n",
      "  This is separate from the ipykernel package so we can avoid doing imports until\n",
      "/opt/conda/lib/python3.7/site-packages/pandas/core/frame.py:3498: SettingWithCopyWarning: \n",
      "A value is trying to be set on a copy of a slice from a DataFrame\n",
      "\n",
      "See the caveats in the documentation: http://pandas.pydata.org/pandas-docs/stable/user_guide/indexing.html#returning-a-view-versus-a-copy\n",
      "  self.loc._setitem_with_indexer((slice(None), indexer), value)\n",
      "/opt/conda/lib/python3.7/site-packages/pandas/core/frame.py:3469: SettingWithCopyWarning: \n",
      "A value is trying to be set on a copy of a slice from a DataFrame\n",
      "\n",
      "See the caveats in the documentation: http://pandas.pydata.org/pandas-docs/stable/user_guide/indexing.html#returning-a-view-versus-a-copy\n",
      "  self._setitem_array(key, value)\n"
     ]
    }
   ],
   "source": [
    "for i in range(len(features_train)):\n",
    "    features_train[i][num_features] = scaler[i].transform(features_train[i][num_features] )\n",
    "    features_valid[i][num_features] = scaler[i].transform(features_valid[i][num_features] )"
   ]
  },
  {
   "cell_type": "markdown",
   "metadata": {},
   "source": [
    "### Обучение моделей"
   ]
  },
  {
   "cell_type": "markdown",
   "metadata": {},
   "source": [
    "Используем `LinearRegression` для каждого региона. В качестве меры результата используем `RMSE`. Предсказания будем сохранять в отдельный список"
   ]
  },
  {
   "cell_type": "code",
   "execution_count": 20,
   "metadata": {},
   "outputs": [],
   "source": [
    "rmse=[]\n",
    "predictions=[]\n",
    "for i in range(len(df)):\n",
    "    model = LinearRegression()\n",
    "    model.fit(features_train[i], target_train[i])\n",
    "    predictions_ = model.predict(features_valid[i])\n",
    "    rmse_ = mean_squared_error(target_valid[i],predictions_)**0.5\n",
    "    rmse.append(rmse_)\n",
    "    predictions.append(pd.DataFrame(predictions_, columns=['product']))"
   ]
  },
  {
   "cell_type": "markdown",
   "metadata": {},
   "source": [
    "Выведем результаты `RMSE` для регионов"
   ]
  },
  {
   "cell_type": "code",
   "execution_count": 21,
   "metadata": {
    "scrolled": false
   },
   "outputs": [
    {
     "name": "stdout",
     "output_type": "stream",
     "text": [
      "Значение RMSE для 0-го региона =37.757\n",
      "Значение RMSE для 1-го региона =0.890\n",
      "Значение RMSE для 2-го региона =40.146\n"
     ]
    }
   ],
   "source": [
    "[print('Значение RMSE для {}-го региона ={:.3f}'.format(i, rmse[i])) for i in range(len(df))];"
   ]
  },
  {
   "cell_type": "markdown",
   "metadata": {},
   "source": [
    "Выведем среднее значение запасов в скважине, предсказанное моделями и то, которое есть на самом деле у валидационной выборки"
   ]
  },
  {
   "cell_type": "code",
   "execution_count": 22,
   "metadata": {},
   "outputs": [
    {
     "name": "stdout",
     "output_type": "stream",
     "text": [
      "Среднее значение предсказанное моделью для 0-го региона = 92.399\n",
      "Среднее значение предсказанное моделью для 1-го региона = 68.713\n",
      "Среднее значение предсказанное моделью для 2-го региона = 94.771\n"
     ]
    }
   ],
   "source": [
    "[print('Среднее значение предсказанное моделью для {}-го региона = {:.3f}'.format(i, predictions[i]['product'].mean())) for i in range(len(df))];"
   ]
  },
  {
   "cell_type": "code",
   "execution_count": 23,
   "metadata": {
    "scrolled": false
   },
   "outputs": [
    {
     "name": "stdout",
     "output_type": "stream",
     "text": [
      "product    92.325956\n",
      "dtype: float64\n",
      "product    68.725381\n",
      "dtype: float64\n",
      "product    95.150999\n",
      "dtype: float64\n"
     ]
    }
   ],
   "source": [
    "[print('{:}'.format(target_valid_.mean())) for target_valid_ in target_valid];"
   ]
  },
  {
   "cell_type": "markdown",
   "metadata": {},
   "source": [
    "Видим, что предстказанные средние значения и фактические средние для скважин в ввалидационной выборке отличаются незначительно."
   ]
  },
  {
   "cell_type": "markdown",
   "metadata": {},
   "source": [
    "### Выводы\n",
    "\n",
    "Выделили значимые признаки и целевой показатель. Разделили на тестовую и валидационную выборки в соотношении 75/25. Провели масштабирование признаков. Использовали модели линейное регрессии для каждого региона. При расчёте средних значений запасов в скважинах получили, что результаты отличаются незначительно"
   ]
  },
  {
   "cell_type": "markdown",
   "metadata": {},
   "source": [
    "## Подготовка к расчёту прибыли"
   ]
  },
  {
   "cell_type": "markdown",
   "metadata": {},
   "source": [
    "### Ключевые константы задачи"
   ]
  },
  {
   "cell_type": "markdown",
   "metadata": {},
   "source": [
    "Количество скважин для исследования"
   ]
  },
  {
   "cell_type": "code",
   "execution_count": 24,
   "metadata": {},
   "outputs": [],
   "source": [
    "explore_count = 500 "
   ]
  },
  {
   "cell_type": "markdown",
   "metadata": {},
   "source": [
    "Количество скважин, отобранных для разработки"
   ]
  },
  {
   "cell_type": "code",
   "execution_count": 25,
   "metadata": {},
   "outputs": [],
   "source": [
    "best_count = 200"
   ]
  },
  {
   "cell_type": "markdown",
   "metadata": {},
   "source": [
    "Бюджен на регион (в тыс. рублей)"
   ]
  },
  {
   "cell_type": "code",
   "execution_count": 26,
   "metadata": {},
   "outputs": [],
   "source": [
    "budget = 10_000_000"
   ]
  },
  {
   "cell_type": "markdown",
   "metadata": {},
   "source": [
    "Доход с единицы продукта (с тыс. баррелей) в тыс. рублей"
   ]
  },
  {
   "cell_type": "code",
   "execution_count": 27,
   "metadata": {},
   "outputs": [],
   "source": [
    "income_per_unit = 450"
   ]
  },
  {
   "cell_type": "markdown",
   "metadata": {},
   "source": [
    "Вероятность убытков"
   ]
  },
  {
   "cell_type": "code",
   "execution_count": 28,
   "metadata": {},
   "outputs": [],
   "source": [
    "loss_prob = 0.025"
   ]
  },
  {
   "cell_type": "markdown",
   "metadata": {},
   "source": [
    "Количество выборок для бутсрепа"
   ]
  },
  {
   "cell_type": "code",
   "execution_count": 29,
   "metadata": {},
   "outputs": [],
   "source": [
    "bootstr_count = 1000"
   ]
  },
  {
   "cell_type": "markdown",
   "metadata": {},
   "source": [
    "Доверительный интервал"
   ]
  },
  {
   "cell_type": "code",
   "execution_count": 30,
   "metadata": {},
   "outputs": [],
   "source": [
    "alpha = 0.95"
   ]
  },
  {
   "cell_type": "markdown",
   "metadata": {},
   "source": [
    "### Объём для безубыточной работы скважины"
   ]
  },
  {
   "cell_type": "markdown",
   "metadata": {},
   "source": [
    "Определим, достаточный объём сырья для безубыточной разработки скважины (тыс. баррелей). Считаем что потратиливесь бюджет, а зарабатываем только с 200"
   ]
  },
  {
   "cell_type": "code",
   "execution_count": 31,
   "metadata": {
    "scrolled": true
   },
   "outputs": [
    {
     "data": {
      "text/plain": [
       "111.11111111111111"
      ]
     },
     "execution_count": 31,
     "metadata": {},
     "output_type": "execute_result"
    }
   ],
   "source": [
    "budget/(income_per_unit*best_count)"
   ]
  },
  {
   "cell_type": "markdown",
   "metadata": {},
   "source": [
    "### Выводы\n",
    "\n",
    "Для безубыточной разработки скважины необходимо, чтобы её объём запасов был не меньше 111.11 тыс. баррелей. Если смотреть на результаты предыдущего пункта, то средние показатели запасов в скважинах ниже отметки безубыточности."
   ]
  },
  {
   "cell_type": "markdown",
   "metadata": {},
   "source": [
    "## Расчёт прибыли"
   ]
  },
  {
   "cell_type": "markdown",
   "metadata": {},
   "source": [
    "Для начала сбросим индекс у `target_valid`, чтобы индексы у прогноза и таргета совпадали."
   ]
  },
  {
   "cell_type": "code",
   "execution_count": 32,
   "metadata": {},
   "outputs": [],
   "source": [
    "for i in range(len(df)):\n",
    "    target_valid[i] = target_valid[i].reset_index(drop=True)"
   ]
  },
  {
   "cell_type": "markdown",
   "metadata": {},
   "source": [
    "Выберем скважины с максимальным значением предсказаний. Для этого прогнозный датафрейм отсортируем по убыванию и возьмём первые 200 скважин. Для удобства, все вычисления сведём в функцию"
   ]
  },
  {
   "cell_type": "code",
   "execution_count": 33,
   "metadata": {},
   "outputs": [],
   "source": [
    "def income_calc(target_valid, predictions, count):\n",
    "    predictions = predictions.sort_values(by= 'product', ascending = False)#сортируем его по убыванию\n",
    "    target_valid = target_valid.loc[predictions.index]#сортируем по индексу из предсказаний модели\n",
    "    choice = target_valid[:count]#берём первые n-скважин\n",
    "    sum_ = choice['product'].sum()#находим суммарный запас скважин\n",
    "    res = sum_*income_per_unit-budget#определяем прибыль как объём на стоимость единицы за вычетом затрат на разработку\n",
    "    return res     "
   ]
  },
  {
   "cell_type": "markdown",
   "metadata": {},
   "source": [
    "Вызовем функцию для каждого региона"
   ]
  },
  {
   "cell_type": "code",
   "execution_count": 34,
   "metadata": {
    "scrolled": true
   },
   "outputs": [
    {
     "name": "stdout",
     "output_type": "stream",
     "text": [
      "Прибыль для 0-го региона составит 3359141.114 тыс.рублей\n",
      "Прибыль для 1-го региона составит 2415086.697 тыс.рублей\n",
      "Прибыль для 2-го региона составит 2598571.759 тыс.рублей\n"
     ]
    }
   ],
   "source": [
    "[print('Прибыль для {}-го региона составит {:.3f} тыс.рублей'.format(\n",
    "    i, income_calc(target_valid[i], predictions[i], best_count)))for i in range(len(df))];"
   ]
  },
  {
   "cell_type": "markdown",
   "metadata": {},
   "source": [
    "### Выводы"
   ]
  },
  {
   "cell_type": "markdown",
   "metadata": {},
   "source": [
    "Опрделили какая будет прибыль в каждом регионе, если будем разрабатывать 200 лучших скважин, которые определили модель. Наибольшее значение у 0-го региона."
   ]
  },
  {
   "cell_type": "markdown",
   "metadata": {},
   "source": [
    "## Расчёт прибыли и рисков"
   ]
  },
  {
   "cell_type": "markdown",
   "metadata": {},
   "source": [
    "### Выборка бутсрепом"
   ]
  },
  {
   "cell_type": "markdown",
   "metadata": {},
   "source": [
    "Для расчёта рисков предполагаем, что из данных валидационной выборки нам доступны только 500 скважин. Используя *bootstrap* будем выбирать скважины случайным образом, из них находить 200 наилучших и расчитывать прибыль. По условию сказано, что случайных выборок взять 1000."
   ]
  },
  {
   "cell_type": "code",
   "execution_count": 35,
   "metadata": {
    "scrolled": false
   },
   "outputs": [
    {
     "data": {
      "application/vnd.jupyter.widget-view+json": {
       "model_id": "7707ff0654db472ebf9225e96e103c8b",
       "version_major": 2,
       "version_minor": 0
      },
      "text/plain": [
       "IntProgress(value=0, max=1000)"
      ]
     },
     "metadata": {},
     "output_type": "display_data"
    },
    {
     "name": "stdout",
     "output_type": "stream",
     "text": [
      "Процесс завершен для 0-го региона\n"
     ]
    },
    {
     "data": {
      "application/vnd.jupyter.widget-view+json": {
       "model_id": "acf11346eee746449d0795b022c4c7f2",
       "version_major": 2,
       "version_minor": 0
      },
      "text/plain": [
       "IntProgress(value=0, max=1000)"
      ]
     },
     "metadata": {},
     "output_type": "display_data"
    },
    {
     "name": "stdout",
     "output_type": "stream",
     "text": [
      "Процесс завершен для 1-го региона\n"
     ]
    },
    {
     "data": {
      "application/vnd.jupyter.widget-view+json": {
       "model_id": "051786053f7e46aa8dad78e93d107f20",
       "version_major": 2,
       "version_minor": 0
      },
      "text/plain": [
       "IntProgress(value=0, max=1000)"
      ]
     },
     "metadata": {},
     "output_type": "display_data"
    },
    {
     "name": "stdout",
     "output_type": "stream",
     "text": [
      "Процесс завершен для 2-го региона\n"
     ]
    }
   ],
   "source": [
    "total=[]\n",
    "for j in range(len(df)):\n",
    "    rez=[]\n",
    "    state=np.random.RandomState(42)\n",
    "    prgBar = IntProgress(min = 0, max = 1000) # Создаем прогрессбар\n",
    "    display(prgBar) # Выводим прогрессбар на экран \n",
    "    for i in range(bootstr_count):\n",
    "        sub_sample = target_valid[j].sample(explore_count, replace=True, random_state=state)#берём 500 случайным образом\n",
    "        rez_ = income_calc(target_valid[j].loc[sub_sample.index], predictions[j].loc[sub_sample.index], best_count)#считаем прибыль \n",
    "        rez.append(rez_)\n",
    "        prgBar.value = prgBar.value + 1   #сдвиг бара \n",
    "    total.append(pd.DataFrame(rez, columns=['profit']))\n",
    "    print('Процесс завершен для {}-го региона'.format(j))"
   ]
  },
  {
   "cell_type": "markdown",
   "metadata": {},
   "source": [
    "### Расчёт показателей"
   ]
  },
  {
   "cell_type": "markdown",
   "metadata": {},
   "source": [
    "Найдём среднюю прибыль для регионов"
   ]
  },
  {
   "cell_type": "code",
   "execution_count": 36,
   "metadata": {},
   "outputs": [
    {
     "name": "stdout",
     "output_type": "stream",
     "text": [
      "Средняя прибыль для 0-го региона составляет 427847.560 тыс.рублей\n",
      "Средняя прибыль для 1-го региона составляет 511362.776 тыс.рублей\n",
      "Средняя прибыль для 2-го региона составляет 402575.608 тыс.рублей\n"
     ]
    }
   ],
   "source": [
    "profit_mean=[]\n",
    "for i in range(len(df)):\n",
    "    profit_mean_ = total[i]['profit'].mean()\n",
    "    print('Средняя прибыль для {}-го региона составляет {:.3f} тыс.рублей'.format(i, profit_mean_))\n",
    "    profit_mean.append(profit_mean_)"
   ]
  },
  {
   "cell_type": "markdown",
   "metadata": {},
   "source": [
    "Видим, что при случайном выборе только 500 из выборки, средняя прибыль значительно снижается по сравнению с анализом всех скваин региона. Найдём 95%-й доверительный интервал."
   ]
  },
  {
   "cell_type": "code",
   "execution_count": 56,
   "metadata": {},
   "outputs": [
    {
     "name": "stdout",
     "output_type": "stream",
     "text": [
      "95% доверительный интервал для 0-го региона составляет (-97249.82956859501, 954215.1927088142) тыс. рублей\n",
      "95% доверительный интервал для 1-го региона составляет (98870.64990277814, 940720.5116508041) тыс. рублей\n",
      "95% доверительный интервал для 2-го региона составляет (-137162.22507193364, 929887.5280253207) тыс. рублей\n"
     ]
    }
   ],
   "source": [
    "confidence_interval = []\n",
    "for i in range(len(df)):\n",
    "    confidence_interval_ = (total[i]['profit'].quantile((1-alpha)/2), total[i]['profit'].quantile((1+alpha)/2))\n",
    "    print('95% доверительный интервал для {}-го региона составляет {} тыс. рублей'.format(i, confidence_interval_ ))\n",
    "    confidence_interval.append(confidence_interval_)"
   ]
  },
  {
   "cell_type": "markdown",
   "metadata": {},
   "source": [
    "Определим вероятность убытков. Для этого в выборках найдём отношение кол-ва выборок с отрицательной прибылью ко всему к-ву выборок"
   ]
  },
  {
   "cell_type": "code",
   "execution_count": 64,
   "metadata": {},
   "outputs": [
    {
     "name": "stdout",
     "output_type": "stream",
     "text": [
      "Вероятность убытков для 0-го региона составляет 5.50%\n",
      "Вероятность убытков для 1-го региона составляет 0.90%\n",
      "Вероятность убытков для 2-го региона составляет 7.40%\n"
     ]
    }
   ],
   "source": [
    "loss = []\n",
    "for i in range(len(df)):\n",
    "    loss_ = (total[i]['profit']<0).mean()\n",
    "    print('Вероятность убытков для {}-го региона составляет {:.2%}'.format(i, loss_))\n",
    "    loss.append(loss_)"
   ]
  },
  {
   "cell_type": "markdown",
   "metadata": {},
   "source": [
    "Представим информацию в графическом виде. Для этого напишем промежуточную функцию, которую будем вызывать для каждого региона."
   ]
  },
  {
   "cell_type": "code",
   "execution_count": 67,
   "metadata": {},
   "outputs": [],
   "source": [
    "def draw_inform(i):\n",
    "    hist=total[i]['profit'].hist(bins=20, figsize=(10,5));\n",
    "    hist.set_xlabel('Прибыль от разработки в тыс. руб')\n",
    "    hist.set_ylabel('Количество выборок')\n",
    "    plt.title('Распределение прибыли для {}-го региона'.format(i));\n",
    "    x1, x2 = confidence_interval[i][0], confidence_interval[i][1]\n",
    "    y1, y2 = 0, 150\n",
    "    plt.plot([x1,x1],[y1,y2],[x2,x2], [y1,y2], marker = 'x')\n",
    "    print('Средняя прибыль для региона составляет {:.3f} тыс.рублей'.format(total[i]['profit'].mean()))\n",
    "    print('95% доверительный интервал для прибьыли в регионе составляет {} тыс. рублей'.format(confidence_interval[i]))\n",
    "    print('Вероятность убытков для региона составляет {:.2%}'.format(loss[i]))\n",
    "    return None"
   ]
  },
  {
   "cell_type": "markdown",
   "metadata": {},
   "source": [
    "Для 0-го региона"
   ]
  },
  {
   "cell_type": "code",
   "execution_count": 68,
   "metadata": {
    "scrolled": true
   },
   "outputs": [
    {
     "name": "stdout",
     "output_type": "stream",
     "text": [
      "Средняя прибыль для региона составляет 427847.560 тыс.рублей\n",
      "95% доверительный интервал для прибьыли в регионе составляет (-97249.82956859501, 954215.1927088142) тыс. рублей\n",
      "Вероятность убытков для региона составляет 5.50%\n"
     ]
    },
    {
     "data": {
      "image/png": "[encoded data removed]",
      "text/plain": [
       "<Figure size 720x360 with 1 Axes>"
      ]
     },
     "metadata": {
      "needs_background": "light"
     },
     "output_type": "display_data"
    }
   ],
   "source": [
    "draw_inform(0)"
   ]
  },
  {
   "cell_type": "markdown",
   "metadata": {},
   "source": [
    "Для 1-го региона"
   ]
  },
  {
   "cell_type": "code",
   "execution_count": 69,
   "metadata": {
    "scrolled": true
   },
   "outputs": [
    {
     "name": "stdout",
     "output_type": "stream",
     "text": [
      "Средняя прибыль для региона составляет 511362.776 тыс.рублей\n",
      "95% доверительный интервал для прибьыли в регионе составляет (98870.64990277814, 940720.5116508041) тыс. рублей\n",
      "Вероятность убытков для региона составляет 0.90%\n"
     ]
    },
    {
     "data": {
      "image/png": "[encoded data removed]",
      "text/plain": [
       "<Figure size 720x360 with 1 Axes>"
      ]
     },
     "metadata": {
      "needs_background": "light"
     },
     "output_type": "display_data"
    }
   ],
   "source": [
    "draw_inform(1)"
   ]
  },
  {
   "cell_type": "markdown",
   "metadata": {},
   "source": [
    "Для 2-го региона"
   ]
  },
  {
   "cell_type": "code",
   "execution_count": 70,
   "metadata": {
    "scrolled": true
   },
   "outputs": [
    {
     "name": "stdout",
     "output_type": "stream",
     "text": [
      "Средняя прибыль для региона составляет 402575.608 тыс.рублей\n",
      "95% доверительный интервал для прибьыли в регионе составляет (-137162.22507193364, 929887.5280253207) тыс. рублей\n",
      "Вероятность убытков для региона составляет 7.40%\n"
     ]
    },
    {
     "data": {
      "image/png": "[encoded data removed]",
      "text/plain": [
       "<Figure size 720x360 with 1 Axes>"
      ]
     },
     "metadata": {
      "needs_background": "light"
     },
     "output_type": "display_data"
    }
   ],
   "source": [
    "draw_inform(2)"
   ]
  },
  {
   "cell_type": "markdown",
   "metadata": {},
   "source": [
    "### Выводы"
   ]
  },
  {
   "cell_type": "markdown",
   "metadata": {},
   "source": [
    "В результате расчётов получили, что среднее значение прибыли наибольшее для 1-го региона. При этом с 95% вероятностью прибыль будет от 155 млн до 867 млн. Для региона 0 и 2 прибыль ниже и левая граница 95% доверительного интервала имеет отрицательное значение (убытки). Вероятность убытков наименьшая для 1-го региона. Она равно 0.9% и меньше установленного порога в 2.5%. Для других регионов вероятность убытков больше. В результате - можно рекомендовать проводить разработку в 1-ом регионе"
   ]
  },
  {
   "cell_type": "markdown",
   "metadata": {},
   "source": [
    "## Выводы"
   ]
  },
  {
   "cell_type": "markdown",
   "metadata": {},
   "source": [
    "В ходе исследования обучили модели линейной регресии для каждого региона. С использованием моделей получили предсказания на ваидационных выборках для регионов. Определили RMSE моделей и средний запас предсказанног сырья. Опредлелили объём запасов в скважине для безубыточной работы. Написали функцию расчёта прибыли по выбранным скважинам. С помощью техники Bootstrap нашли распределение прибыли, определили средние значения, доверительный интервал и вероятность убытков. В результате анализа выяснили, что наилучший регион для разработки - 1-ый (из 0-го, 1-го и 2-го)."
   ]
  }
 ],
 "metadata": {
  "ExecuteTimeLog": [
   {
    "duration": 595,
    "start_time": "2022-01-30T18:37:27.961Z"
   },
   {
    "duration": 320,
    "start_time": "2022-01-30T18:38:47.318Z"
   },
   {
    "duration": 10,
    "start_time": "2022-01-30T18:39:13.236Z"
   },
   {
    "duration": 10,
    "start_time": "2022-01-30T18:39:53.056Z"
   },
   {
    "duration": 10,
    "start_time": "2022-01-30T18:40:05.447Z"
   },
   {
    "duration": 13,
    "start_time": "2022-01-30T18:41:14.474Z"
   },
   {
    "duration": 8,
    "start_time": "2022-01-30T18:41:50.086Z"
   },
   {
    "duration": 10,
    "start_time": "2022-01-30T18:41:59.231Z"
   },
   {
    "duration": 8,
    "start_time": "2022-01-30T18:42:11.026Z"
   },
   {
    "duration": 11,
    "start_time": "2022-01-30T18:42:14.980Z"
   },
   {
    "duration": 10,
    "start_time": "2022-01-30T18:43:03.026Z"
   },
   {
    "duration": 326,
    "start_time": "2022-01-30T18:43:15.245Z"
   },
   {
    "duration": 10,
    "start_time": "2022-01-30T18:43:16.837Z"
   },
   {
    "duration": 10,
    "start_time": "2022-01-30T18:43:17.170Z"
   },
   {
    "duration": 10,
    "start_time": "2022-01-30T18:43:17.499Z"
   },
   {
    "duration": 7,
    "start_time": "2022-01-30T18:43:18.965Z"
   },
   {
    "duration": 8,
    "start_time": "2022-01-30T18:43:19.959Z"
   },
   {
    "duration": 351,
    "start_time": "2022-01-30T18:43:45.748Z"
   },
   {
    "duration": 3,
    "start_time": "2022-01-30T18:43:55.116Z"
   },
   {
    "duration": 20,
    "start_time": "2022-01-30T18:44:00.876Z"
   },
   {
    "duration": 128,
    "start_time": "2022-01-30T18:44:23.046Z"
   },
   {
    "duration": 3,
    "start_time": "2022-01-30T18:44:26.194Z"
   },
   {
    "duration": 9,
    "start_time": "2022-01-30T18:44:35.401Z"
   },
   {
    "duration": 8,
    "start_time": "2022-01-30T18:44:46.130Z"
   },
   {
    "duration": 35,
    "start_time": "2022-01-30T18:52:57.080Z"
   },
   {
    "duration": 34,
    "start_time": "2022-01-30T18:53:23.688Z"
   },
   {
    "duration": 13,
    "start_time": "2022-01-30T18:57:06.409Z"
   },
   {
    "duration": 487,
    "start_time": "2022-01-30T18:59:34.891Z"
   },
   {
    "duration": 11,
    "start_time": "2022-01-30T19:01:02.307Z"
   },
   {
    "duration": 3,
    "start_time": "2022-01-30T19:04:18.710Z"
   },
   {
    "duration": 10,
    "start_time": "2022-01-30T19:05:26.057Z"
   },
   {
    "duration": 302,
    "start_time": "2022-02-01T07:12:17.445Z"
   },
   {
    "duration": 1060,
    "start_time": "2022-02-01T07:12:28.658Z"
   },
   {
    "duration": 378,
    "start_time": "2022-02-01T07:12:29.720Z"
   },
   {
    "duration": 12,
    "start_time": "2022-02-01T07:12:30.100Z"
   },
   {
    "duration": 11,
    "start_time": "2022-02-01T07:12:30.114Z"
   },
   {
    "duration": 10,
    "start_time": "2022-02-01T07:12:30.126Z"
   },
   {
    "duration": 25,
    "start_time": "2022-02-01T07:12:30.138Z"
   },
   {
    "duration": 19,
    "start_time": "2022-02-01T07:12:30.164Z"
   },
   {
    "duration": 17,
    "start_time": "2022-02-01T07:12:30.198Z"
   },
   {
    "duration": 3,
    "start_time": "2022-02-01T07:12:32.059Z"
   },
   {
    "duration": 6,
    "start_time": "2022-02-01T07:12:32.770Z"
   },
   {
    "duration": 10,
    "start_time": "2022-02-01T07:12:38.457Z"
   },
   {
    "duration": 3,
    "start_time": "2022-02-01T07:13:02.490Z"
   },
   {
    "duration": 6,
    "start_time": "2022-02-01T07:13:07.686Z"
   },
   {
    "duration": 4,
    "start_time": "2022-02-01T07:13:34.302Z"
   },
   {
    "duration": 8,
    "start_time": "2022-02-01T07:13:34.785Z"
   },
   {
    "duration": 89,
    "start_time": "2022-02-01T07:16:47.152Z"
   },
   {
    "duration": 16,
    "start_time": "2022-02-01T07:16:52.818Z"
   },
   {
    "duration": 16,
    "start_time": "2022-02-01T07:16:59.178Z"
   },
   {
    "duration": 12,
    "start_time": "2022-02-01T07:17:11.925Z"
   },
   {
    "duration": 4,
    "start_time": "2022-02-01T07:18:00.346Z"
   },
   {
    "duration": 310,
    "start_time": "2022-02-01T07:18:09.364Z"
   },
   {
    "duration": 3,
    "start_time": "2022-02-01T07:18:16.893Z"
   },
   {
    "duration": 4,
    "start_time": "2022-02-01T07:18:31.679Z"
   },
   {
    "duration": 3,
    "start_time": "2022-02-01T07:19:13.735Z"
   },
   {
    "duration": 14,
    "start_time": "2022-02-01T08:24:00.562Z"
   },
   {
    "duration": 431,
    "start_time": "2022-02-01T08:24:35.598Z"
   },
   {
    "duration": 345,
    "start_time": "2022-02-01T08:25:15.188Z"
   },
   {
    "duration": 96,
    "start_time": "2022-02-01T08:25:22.466Z"
   },
   {
    "duration": 344,
    "start_time": "2022-02-01T08:25:24.767Z"
   },
   {
    "duration": 306,
    "start_time": "2022-02-01T08:25:30.118Z"
   },
   {
    "duration": 3,
    "start_time": "2022-02-01T13:44:32.592Z"
   },
   {
    "duration": 16,
    "start_time": "2022-02-01T13:44:36.413Z"
   },
   {
    "duration": 13,
    "start_time": "2022-02-01T13:44:43.018Z"
   },
   {
    "duration": 13,
    "start_time": "2022-02-01T13:45:20.090Z"
   },
   {
    "duration": 4,
    "start_time": "2022-02-01T13:45:39.517Z"
   },
   {
    "duration": 12,
    "start_time": "2022-02-01T13:45:49.731Z"
   },
   {
    "duration": 3,
    "start_time": "2022-02-01T13:46:12.108Z"
   },
   {
    "duration": 11,
    "start_time": "2022-02-01T13:47:10.235Z"
   },
   {
    "duration": 13,
    "start_time": "2022-02-01T13:47:15.045Z"
   },
   {
    "duration": 9,
    "start_time": "2022-02-01T13:47:25.145Z"
   },
   {
    "duration": 7,
    "start_time": "2022-02-01T13:48:43.357Z"
   },
   {
    "duration": 11,
    "start_time": "2022-02-01T13:48:51.327Z"
   },
   {
    "duration": 10,
    "start_time": "2022-02-01T13:48:56.413Z"
   },
   {
    "duration": 10,
    "start_time": "2022-02-01T13:49:09.321Z"
   },
   {
    "duration": 7,
    "start_time": "2022-02-01T13:49:21.308Z"
   },
   {
    "duration": 9,
    "start_time": "2022-02-01T13:50:23.386Z"
   },
   {
    "duration": 9,
    "start_time": "2022-02-01T13:50:35.759Z"
   },
   {
    "duration": 10,
    "start_time": "2022-02-01T13:51:16.815Z"
   },
   {
    "duration": 7,
    "start_time": "2022-02-01T13:51:25.616Z"
   },
   {
    "duration": 99,
    "start_time": "2022-02-01T13:52:34.104Z"
   },
   {
    "duration": 329,
    "start_time": "2022-02-01T13:52:43.236Z"
   },
   {
    "duration": 332,
    "start_time": "2022-02-01T13:53:08.307Z"
   },
   {
    "duration": 303,
    "start_time": "2022-02-01T13:54:32.790Z"
   },
   {
    "duration": 40,
    "start_time": "2022-02-01T13:54:42.284Z"
   },
   {
    "duration": 27,
    "start_time": "2022-02-01T13:54:58.883Z"
   },
   {
    "duration": 89,
    "start_time": "2022-02-01T13:55:02.086Z"
   },
   {
    "duration": 22,
    "start_time": "2022-02-01T13:55:04.708Z"
   },
   {
    "duration": 10,
    "start_time": "2022-02-01T13:55:09.337Z"
   },
   {
    "duration": 267,
    "start_time": "2022-02-01T13:55:27.532Z"
   },
   {
    "duration": 22,
    "start_time": "2022-02-01T13:55:32.024Z"
   },
   {
    "duration": 10,
    "start_time": "2022-02-01T13:55:53.571Z"
   },
   {
    "duration": 11,
    "start_time": "2022-02-01T13:55:59.105Z"
   },
   {
    "duration": 41,
    "start_time": "2022-02-01T13:57:27.639Z"
   },
   {
    "duration": 34,
    "start_time": "2022-02-01T13:57:37.586Z"
   },
   {
    "duration": 14,
    "start_time": "2022-02-01T13:57:49.592Z"
   },
   {
    "duration": 15,
    "start_time": "2022-02-01T13:58:19.482Z"
   },
   {
    "duration": 275,
    "start_time": "2022-02-01T13:58:21.307Z"
   },
   {
    "duration": 11,
    "start_time": "2022-02-01T13:58:27.116Z"
   },
   {
    "duration": 34,
    "start_time": "2022-02-01T13:58:51.117Z"
   },
   {
    "duration": 266,
    "start_time": "2022-02-01T13:58:59.667Z"
   },
   {
    "duration": 14,
    "start_time": "2022-02-01T13:59:10.111Z"
   },
   {
    "duration": 14,
    "start_time": "2022-02-01T13:59:23.353Z"
   },
   {
    "duration": 25,
    "start_time": "2022-02-01T13:59:31.725Z"
   },
   {
    "duration": 34,
    "start_time": "2022-02-01T13:59:45.586Z"
   },
   {
    "duration": 14,
    "start_time": "2022-02-01T13:59:48.668Z"
   },
   {
    "duration": 25,
    "start_time": "2022-02-01T13:59:54.147Z"
   },
   {
    "duration": 39,
    "start_time": "2022-02-01T14:00:40.317Z"
   },
   {
    "duration": 41,
    "start_time": "2022-02-01T14:00:43.941Z"
   },
   {
    "duration": 3,
    "start_time": "2022-02-01T14:00:54.960Z"
   },
   {
    "duration": 15,
    "start_time": "2022-02-01T14:01:02.141Z"
   },
   {
    "duration": 11,
    "start_time": "2022-02-01T14:01:07.760Z"
   },
   {
    "duration": 10,
    "start_time": "2022-02-01T14:01:10.670Z"
   },
   {
    "duration": 8,
    "start_time": "2022-02-01T14:01:19.087Z"
   },
   {
    "duration": 269,
    "start_time": "2022-02-01T14:01:22.967Z"
   },
   {
    "duration": 9,
    "start_time": "2022-02-01T14:01:26.628Z"
   },
   {
    "duration": 9,
    "start_time": "2022-02-01T14:01:32.999Z"
   },
   {
    "duration": 307,
    "start_time": "2022-02-01T14:02:06.337Z"
   },
   {
    "duration": 41,
    "start_time": "2022-02-01T14:02:22.177Z"
   },
   {
    "duration": 260,
    "start_time": "2022-02-01T14:02:35.718Z"
   },
   {
    "duration": 428,
    "start_time": "2022-02-01T14:03:54.261Z"
   },
   {
    "duration": 31,
    "start_time": "2022-02-01T14:04:01.678Z"
   },
   {
    "duration": 21,
    "start_time": "2022-02-01T14:04:07.861Z"
   },
   {
    "duration": 708,
    "start_time": "2022-02-01T14:04:24.637Z"
   },
   {
    "duration": 287,
    "start_time": "2022-02-01T14:04:33.333Z"
   },
   {
    "duration": 21,
    "start_time": "2022-02-01T14:04:39.283Z"
   },
   {
    "duration": 47,
    "start_time": "2022-02-01T14:05:05.291Z"
   },
   {
    "duration": 90,
    "start_time": "2022-02-01T14:05:15.841Z"
   },
   {
    "duration": 46,
    "start_time": "2022-02-01T14:06:15.943Z"
   },
   {
    "duration": 291,
    "start_time": "2022-02-01T14:10:39.949Z"
   },
   {
    "duration": 28,
    "start_time": "2022-02-01T14:10:58.484Z"
   },
   {
    "duration": 14,
    "start_time": "2022-02-01T14:11:06.634Z"
   },
   {
    "duration": 22,
    "start_time": "2022-02-01T14:11:53.914Z"
   },
   {
    "duration": 11,
    "start_time": "2022-02-01T14:12:08.377Z"
   },
   {
    "duration": 42,
    "start_time": "2022-02-01T14:12:22.592Z"
   },
   {
    "duration": 15,
    "start_time": "2022-02-01T14:12:24.981Z"
   },
   {
    "duration": 11,
    "start_time": "2022-02-01T14:12:44.038Z"
   },
   {
    "duration": 11,
    "start_time": "2022-02-01T14:12:48.203Z"
   },
   {
    "duration": 10,
    "start_time": "2022-02-01T14:12:53.124Z"
   },
   {
    "duration": 1325,
    "start_time": "2022-02-01T14:13:53.846Z"
   },
   {
    "duration": 43,
    "start_time": "2022-02-01T14:13:59.627Z"
   },
   {
    "duration": 33,
    "start_time": "2022-02-01T14:14:04.815Z"
   },
   {
    "duration": 14,
    "start_time": "2022-02-01T14:14:17.813Z"
   },
   {
    "duration": 41,
    "start_time": "2022-02-01T14:14:50.641Z"
   },
   {
    "duration": 10,
    "start_time": "2022-02-01T14:14:54.365Z"
   },
   {
    "duration": 1218,
    "start_time": "2022-02-01T14:15:04.207Z"
   },
   {
    "duration": 41,
    "start_time": "2022-02-01T14:15:15.734Z"
   },
   {
    "duration": 91,
    "start_time": "2022-02-01T14:16:43.147Z"
   },
   {
    "duration": 273,
    "start_time": "2022-02-01T14:16:50.575Z"
   },
   {
    "duration": 40,
    "start_time": "2022-02-01T14:17:42.961Z"
   },
   {
    "duration": 10,
    "start_time": "2022-02-01T14:18:07.055Z"
   },
   {
    "duration": 86,
    "start_time": "2022-02-01T14:19:54.825Z"
   },
   {
    "duration": 4,
    "start_time": "2022-02-01T14:19:59.256Z"
   },
   {
    "duration": 92,
    "start_time": "2022-02-01T14:21:05.928Z"
   },
   {
    "duration": 125,
    "start_time": "2022-02-01T14:21:29.351Z"
   },
   {
    "duration": 91,
    "start_time": "2022-02-01T14:21:40.398Z"
   },
   {
    "duration": 90,
    "start_time": "2022-02-01T14:22:21.553Z"
   },
   {
    "duration": 82,
    "start_time": "2022-02-01T14:22:25.899Z"
   },
   {
    "duration": 5,
    "start_time": "2022-02-01T14:22:35.186Z"
   },
   {
    "duration": 4,
    "start_time": "2022-02-01T14:23:27.846Z"
   },
   {
    "duration": 3,
    "start_time": "2022-02-01T14:25:50.746Z"
   },
   {
    "duration": 88,
    "start_time": "2022-02-01T14:26:04.832Z"
   },
   {
    "duration": 14,
    "start_time": "2022-02-01T14:26:24.365Z"
   },
   {
    "duration": 11,
    "start_time": "2022-02-01T14:26:35.302Z"
   },
   {
    "duration": 3,
    "start_time": "2022-02-01T14:27:19.718Z"
   },
   {
    "duration": 12,
    "start_time": "2022-02-01T14:27:48.254Z"
   },
   {
    "duration": 14,
    "start_time": "2022-02-01T14:28:38.453Z"
   },
   {
    "duration": 11,
    "start_time": "2022-02-01T14:28:47.394Z"
   },
   {
    "duration": 10,
    "start_time": "2022-02-01T14:29:17.479Z"
   },
   {
    "duration": 6,
    "start_time": "2022-02-01T14:30:42.634Z"
   },
   {
    "duration": 271,
    "start_time": "2022-02-01T14:31:10.152Z"
   },
   {
    "duration": 2,
    "start_time": "2022-02-01T14:31:46.081Z"
   },
   {
    "duration": 4,
    "start_time": "2022-02-01T14:31:54.032Z"
   },
   {
    "duration": 4,
    "start_time": "2022-02-01T14:31:56.706Z"
   },
   {
    "duration": 4,
    "start_time": "2022-02-01T14:35:29.673Z"
   },
   {
    "duration": 15,
    "start_time": "2022-02-01T14:36:30.244Z"
   },
   {
    "duration": 11,
    "start_time": "2022-02-01T14:39:38.953Z"
   },
   {
    "duration": 5,
    "start_time": "2022-02-01T14:39:43.496Z"
   },
   {
    "duration": 5,
    "start_time": "2022-02-01T14:39:46.833Z"
   },
   {
    "duration": 6,
    "start_time": "2022-02-01T14:39:53.631Z"
   },
   {
    "duration": 6,
    "start_time": "2022-02-01T14:40:07.653Z"
   },
   {
    "duration": 4,
    "start_time": "2022-02-01T14:40:15.706Z"
   },
   {
    "duration": 4,
    "start_time": "2022-02-01T14:40:23.495Z"
   },
   {
    "duration": 2794,
    "start_time": "2022-02-01T14:40:31.498Z"
   },
   {
    "duration": 938,
    "start_time": "2022-02-01T14:40:44.660Z"
   },
   {
    "duration": 11,
    "start_time": "2022-02-01T14:41:09.868Z"
   },
   {
    "duration": 10,
    "start_time": "2022-02-01T14:41:13.657Z"
   },
   {
    "duration": 5,
    "start_time": "2022-02-01T14:41:24.817Z"
   },
   {
    "duration": 6,
    "start_time": "2022-02-01T14:41:32.885Z"
   },
   {
    "duration": 2,
    "start_time": "2022-02-01T14:41:58.685Z"
   },
   {
    "duration": 11,
    "start_time": "2022-02-01T14:41:59.287Z"
   },
   {
    "duration": 7,
    "start_time": "2022-02-01T14:41:59.572Z"
   },
   {
    "duration": 44,
    "start_time": "2022-02-01T14:42:02.257Z"
   },
   {
    "duration": 4,
    "start_time": "2022-02-01T14:42:05.498Z"
   },
   {
    "duration": 5,
    "start_time": "2022-02-01T14:42:06.152Z"
   },
   {
    "duration": 13,
    "start_time": "2022-02-01T14:42:17.680Z"
   },
   {
    "duration": 10,
    "start_time": "2022-02-01T14:42:21.978Z"
   },
   {
    "duration": 20,
    "start_time": "2022-02-01T14:42:47.613Z"
   },
   {
    "duration": 10,
    "start_time": "2022-02-01T14:42:49.505Z"
   },
   {
    "duration": 10,
    "start_time": "2022-02-01T14:42:51.633Z"
   },
   {
    "duration": 268,
    "start_time": "2022-02-01T14:43:08.143Z"
   },
   {
    "duration": 12,
    "start_time": "2022-02-01T14:43:55.998Z"
   },
   {
    "duration": 10,
    "start_time": "2022-02-01T14:43:58.363Z"
   },
   {
    "duration": 13,
    "start_time": "2022-02-01T14:44:16.056Z"
   },
   {
    "duration": 13,
    "start_time": "2022-02-01T14:44:19.312Z"
   },
   {
    "duration": 10,
    "start_time": "2022-02-01T14:44:29.785Z"
   },
   {
    "duration": 17,
    "start_time": "2022-02-01T14:45:55.955Z"
   },
   {
    "duration": 13,
    "start_time": "2022-02-01T14:47:39.164Z"
   },
   {
    "duration": 391,
    "start_time": "2022-02-01T14:48:14.698Z"
   },
   {
    "duration": 11,
    "start_time": "2022-02-01T14:48:15.271Z"
   },
   {
    "duration": 12,
    "start_time": "2022-02-01T14:48:15.534Z"
   },
   {
    "duration": 10,
    "start_time": "2022-02-01T14:48:15.785Z"
   },
   {
    "duration": 9,
    "start_time": "2022-02-01T14:48:16.986Z"
   },
   {
    "duration": 9,
    "start_time": "2022-02-01T14:48:17.271Z"
   },
   {
    "duration": 9,
    "start_time": "2022-02-01T14:48:17.557Z"
   },
   {
    "duration": 3,
    "start_time": "2022-02-01T14:48:21.218Z"
   },
   {
    "duration": 3,
    "start_time": "2022-02-01T14:48:22.297Z"
   },
   {
    "duration": 11,
    "start_time": "2022-02-01T14:48:28.903Z"
   },
   {
    "duration": 6,
    "start_time": "2022-02-01T14:48:29.181Z"
   },
   {
    "duration": 35,
    "start_time": "2022-02-01T14:48:30.101Z"
   },
   {
    "duration": 5,
    "start_time": "2022-02-01T14:48:30.712Z"
   },
   {
    "duration": 4,
    "start_time": "2022-02-01T14:48:31.998Z"
   },
   {
    "duration": 2,
    "start_time": "2022-02-01T14:48:33.425Z"
   },
   {
    "duration": 14,
    "start_time": "2022-02-01T14:48:35.002Z"
   },
   {
    "duration": 25,
    "start_time": "2022-02-01T14:49:04.755Z"
   },
   {
    "duration": 13,
    "start_time": "2022-02-01T14:49:21.349Z"
   },
   {
    "duration": 11,
    "start_time": "2022-02-01T14:49:31.918Z"
   },
   {
    "duration": 8,
    "start_time": "2022-02-01T14:49:59.377Z"
   },
   {
    "duration": 9,
    "start_time": "2022-02-01T14:50:03.925Z"
   },
   {
    "duration": 9,
    "start_time": "2022-02-01T14:50:06.594Z"
   },
   {
    "duration": 10,
    "start_time": "2022-02-01T14:50:20.187Z"
   },
   {
    "duration": 28,
    "start_time": "2022-02-01T14:50:40.230Z"
   },
   {
    "duration": 4,
    "start_time": "2022-02-01T14:50:53.649Z"
   },
   {
    "duration": 382,
    "start_time": "2022-02-01T14:50:53.654Z"
   },
   {
    "duration": 10,
    "start_time": "2022-02-01T14:50:54.039Z"
   },
   {
    "duration": 10,
    "start_time": "2022-02-01T14:50:54.051Z"
   },
   {
    "duration": 10,
    "start_time": "2022-02-01T14:50:54.063Z"
   },
   {
    "duration": 31,
    "start_time": "2022-02-01T14:50:54.075Z"
   },
   {
    "duration": 12,
    "start_time": "2022-02-01T14:50:54.108Z"
   },
   {
    "duration": 10,
    "start_time": "2022-02-01T14:50:54.123Z"
   },
   {
    "duration": 9,
    "start_time": "2022-02-01T14:50:54.134Z"
   },
   {
    "duration": 6,
    "start_time": "2022-02-01T14:50:54.145Z"
   },
   {
    "duration": 10,
    "start_time": "2022-02-01T14:50:54.153Z"
   },
   {
    "duration": 9,
    "start_time": "2022-02-01T14:50:54.165Z"
   },
   {
    "duration": 55,
    "start_time": "2022-02-01T14:50:54.176Z"
   },
   {
    "duration": 5,
    "start_time": "2022-02-01T14:50:54.233Z"
   },
   {
    "duration": 7,
    "start_time": "2022-02-01T14:50:54.239Z"
   },
   {
    "duration": 6,
    "start_time": "2022-02-01T14:50:54.247Z"
   },
   {
    "duration": 15,
    "start_time": "2022-02-01T14:50:56.069Z"
   },
   {
    "duration": 31,
    "start_time": "2022-02-01T14:50:56.877Z"
   },
   {
    "duration": 14,
    "start_time": "2022-02-01T14:51:03.193Z"
   },
   {
    "duration": 11,
    "start_time": "2022-02-01T14:51:08.478Z"
   },
   {
    "duration": 5,
    "start_time": "2022-02-01T14:53:11.903Z"
   },
   {
    "duration": 3,
    "start_time": "2022-02-01T14:56:43.684Z"
   },
   {
    "duration": 302,
    "start_time": "2022-02-01T14:57:14.949Z"
   },
   {
    "duration": 1249,
    "start_time": "2022-02-01T14:57:21.344Z"
   },
   {
    "duration": 288,
    "start_time": "2022-02-01T14:57:27.028Z"
   },
   {
    "duration": 673,
    "start_time": "2022-02-01T14:57:35.303Z"
   },
   {
    "duration": 266,
    "start_time": "2022-02-01T14:58:14.126Z"
   },
   {
    "duration": 282,
    "start_time": "2022-02-01T14:59:08.440Z"
   },
   {
    "duration": 3927,
    "start_time": "2022-02-01T14:59:26.389Z"
   },
   {
    "duration": 266,
    "start_time": "2022-02-01T14:59:42.779Z"
   },
   {
    "duration": 267,
    "start_time": "2022-02-01T15:05:33.439Z"
   },
   {
    "duration": 92401,
    "start_time": "2022-02-01T15:05:47.888Z"
   },
   {
    "duration": 26386,
    "start_time": "2022-02-01T15:06:53.908Z"
   },
   {
    "duration": 3,
    "start_time": "2022-02-01T15:07:26.008Z"
   },
   {
    "duration": 4,
    "start_time": "2022-02-01T15:07:41.442Z"
   },
   {
    "duration": 6,
    "start_time": "2022-02-01T15:07:44.896Z"
   },
   {
    "duration": 275,
    "start_time": "2022-02-01T15:07:54.499Z"
   },
   {
    "duration": 233,
    "start_time": "2022-02-01T15:07:58.643Z"
   },
   {
    "duration": 1987,
    "start_time": "2022-02-01T15:08:09.816Z"
   },
   {
    "duration": 681,
    "start_time": "2022-02-01T15:08:24.237Z"
   },
   {
    "duration": 213,
    "start_time": "2022-02-01T15:11:34.290Z"
   },
   {
    "duration": 3,
    "start_time": "2022-02-01T15:11:39.890Z"
   },
   {
    "duration": 4,
    "start_time": "2022-02-01T15:11:47.349Z"
   },
   {
    "duration": 117,
    "start_time": "2022-02-01T15:11:52.993Z"
   },
   {
    "duration": 4,
    "start_time": "2022-02-01T15:11:53.599Z"
   },
   {
    "duration": 4,
    "start_time": "2022-02-01T15:11:55.891Z"
   },
   {
    "duration": 5,
    "start_time": "2022-02-01T15:14:45.194Z"
   },
   {
    "duration": 5,
    "start_time": "2022-02-01T15:15:20.245Z"
   },
   {
    "duration": 476,
    "start_time": "2022-02-01T15:15:25.245Z"
   },
   {
    "duration": 426,
    "start_time": "2022-02-01T15:15:27.907Z"
   },
   {
    "duration": 432,
    "start_time": "2022-02-01T15:15:32.572Z"
   },
   {
    "duration": 4,
    "start_time": "2022-02-01T15:15:37.107Z"
   },
   {
    "duration": 121,
    "start_time": "2022-02-01T15:21:45.285Z"
   },
   {
    "duration": 460,
    "start_time": "2022-02-01T15:24:33.958Z"
   },
   {
    "duration": 5,
    "start_time": "2022-02-01T15:24:45.749Z"
   },
   {
    "duration": 5,
    "start_time": "2022-02-01T15:24:59.167Z"
   },
   {
    "duration": 5,
    "start_time": "2022-02-01T15:25:06.682Z"
   },
   {
    "duration": 4,
    "start_time": "2022-02-01T15:25:10.598Z"
   },
   {
    "duration": 10,
    "start_time": "2022-02-01T15:25:45.166Z"
   },
   {
    "duration": 466,
    "start_time": "2022-02-01T15:26:08.678Z"
   },
   {
    "duration": 88,
    "start_time": "2022-02-01T15:26:18.162Z"
   },
   {
    "duration": 442,
    "start_time": "2022-02-01T15:26:31.487Z"
   },
   {
    "duration": 264,
    "start_time": "2022-02-01T15:26:44.010Z"
   },
   {
    "duration": 7,
    "start_time": "2022-02-01T15:26:49.333Z"
   },
   {
    "duration": 465,
    "start_time": "2022-02-01T15:27:29.517Z"
   },
   {
    "duration": 4,
    "start_time": "2022-02-01T15:27:54.705Z"
   },
   {
    "duration": 108,
    "start_time": "2022-02-01T15:28:07.403Z"
   },
   {
    "duration": 5,
    "start_time": "2022-02-01T15:28:10.724Z"
   },
   {
    "duration": 443,
    "start_time": "2022-02-01T15:28:24.583Z"
   },
   {
    "duration": 7,
    "start_time": "2022-02-01T15:29:08.653Z"
   },
   {
    "duration": 7,
    "start_time": "2022-02-01T15:29:46.882Z"
   },
   {
    "duration": 7,
    "start_time": "2022-02-01T15:30:12.623Z"
   },
   {
    "duration": 602,
    "start_time": "2022-02-01T15:30:16.329Z"
   },
   {
    "duration": 7,
    "start_time": "2022-02-01T15:30:20.237Z"
   },
   {
    "duration": 442,
    "start_time": "2022-02-01T15:30:27.947Z"
   },
   {
    "duration": 8,
    "start_time": "2022-02-01T15:30:31.671Z"
   },
   {
    "duration": 84,
    "start_time": "2022-02-01T15:30:47.425Z"
   },
   {
    "duration": 461,
    "start_time": "2022-02-01T15:30:56.550Z"
   },
   {
    "duration": 515,
    "start_time": "2022-02-01T15:30:59.619Z"
   },
   {
    "duration": 100,
    "start_time": "2022-02-01T15:31:04.137Z"
   },
   {
    "duration": 7,
    "start_time": "2022-02-01T15:31:14.163Z"
   },
   {
    "duration": 99,
    "start_time": "2022-02-01T15:31:40.175Z"
   },
   {
    "duration": 447,
    "start_time": "2022-02-01T15:31:44.464Z"
   },
   {
    "duration": 8,
    "start_time": "2022-02-01T15:31:50.654Z"
   },
   {
    "duration": 7,
    "start_time": "2022-02-01T15:32:08.238Z"
   },
   {
    "duration": 459,
    "start_time": "2022-02-01T15:32:12.875Z"
   },
   {
    "duration": 9,
    "start_time": "2022-02-01T15:32:15.847Z"
   },
   {
    "duration": 10,
    "start_time": "2022-02-01T15:33:18.095Z"
   },
   {
    "duration": 341,
    "start_time": "2022-02-01T15:38:26.187Z"
   },
   {
    "duration": 170,
    "start_time": "2022-02-01T15:40:11.335Z"
   },
   {
    "duration": 130,
    "start_time": "2022-02-01T15:40:24.872Z"
   },
   {
    "duration": 283,
    "start_time": "2022-02-01T15:41:19.790Z"
   },
   {
    "duration": 172,
    "start_time": "2022-02-01T15:41:37.330Z"
   },
   {
    "duration": 4,
    "start_time": "2022-02-01T15:43:19.353Z"
   },
   {
    "duration": 5,
    "start_time": "2022-02-01T15:43:28.735Z"
   },
   {
    "duration": 4,
    "start_time": "2022-02-01T15:44:44.784Z"
   },
   {
    "duration": 3,
    "start_time": "2022-02-01T15:56:39.858Z"
   },
   {
    "duration": 5,
    "start_time": "2022-02-01T15:56:48.849Z"
   },
   {
    "duration": 3,
    "start_time": "2022-02-01T15:56:59.748Z"
   },
   {
    "duration": 3,
    "start_time": "2022-02-01T16:33:58.759Z"
   },
   {
    "duration": 3,
    "start_time": "2022-02-01T16:35:19.611Z"
   },
   {
    "duration": 3,
    "start_time": "2022-02-01T16:35:40.291Z"
   },
   {
    "duration": 3,
    "start_time": "2022-02-01T16:39:07.766Z"
   },
   {
    "duration": 3,
    "start_time": "2022-02-01T16:39:43.082Z"
   },
   {
    "duration": 2,
    "start_time": "2022-02-01T16:40:15.087Z"
   },
   {
    "duration": 2,
    "start_time": "2022-02-01T16:41:42.581Z"
   },
   {
    "duration": 3,
    "start_time": "2022-02-01T16:44:00.518Z"
   },
   {
    "duration": 4,
    "start_time": "2022-02-01T16:44:04.577Z"
   },
   {
    "duration": 4,
    "start_time": "2022-02-01T16:45:52.661Z"
   },
   {
    "duration": 351,
    "start_time": "2022-02-01T16:46:59.010Z"
   },
   {
    "duration": 268,
    "start_time": "2022-02-01T16:47:04.772Z"
   },
   {
    "duration": 7,
    "start_time": "2022-02-01T16:47:19.079Z"
   },
   {
    "duration": 17,
    "start_time": "2022-02-01T16:47:23.509Z"
   },
   {
    "duration": 263,
    "start_time": "2022-02-01T16:55:14.157Z"
   },
   {
    "duration": 1091,
    "start_time": "2022-02-01T16:56:36.311Z"
   },
   {
    "duration": 263,
    "start_time": "2022-02-01T16:57:33.876Z"
   },
   {
    "duration": 392,
    "start_time": "2022-02-01T16:58:07.798Z"
   },
   {
    "duration": 13,
    "start_time": "2022-02-01T16:58:23.798Z"
   },
   {
    "duration": 10,
    "start_time": "2022-02-01T16:59:28.858Z"
   },
   {
    "duration": 8,
    "start_time": "2022-02-01T16:59:33.312Z"
   },
   {
    "duration": 9,
    "start_time": "2022-02-01T16:59:44.676Z"
   },
   {
    "duration": 284,
    "start_time": "2022-02-01T17:08:37.467Z"
   },
   {
    "duration": 273,
    "start_time": "2022-02-01T17:09:02.183Z"
   },
   {
    "duration": 1114,
    "start_time": "2022-02-01T17:09:18.643Z"
   },
   {
    "duration": 26,
    "start_time": "2022-02-01T17:09:28.042Z"
   },
   {
    "duration": 1059,
    "start_time": "2022-02-01T17:09:38.881Z"
   },
   {
    "duration": 12,
    "start_time": "2022-02-01T17:10:09.077Z"
   },
   {
    "duration": 3818,
    "start_time": "2022-02-01T17:10:17.461Z"
   },
   {
    "duration": 87,
    "start_time": "2022-02-01T17:10:27.720Z"
   },
   {
    "duration": 8,
    "start_time": "2022-02-01T17:10:38.682Z"
   },
   {
    "duration": 1730,
    "start_time": "2022-02-01T17:10:52.197Z"
   },
   {
    "duration": 9,
    "start_time": "2022-02-01T17:11:03.895Z"
   },
   {
    "duration": 1706,
    "start_time": "2022-02-01T17:11:14.011Z"
   },
   {
    "duration": 9,
    "start_time": "2022-02-01T17:11:30.752Z"
   },
   {
    "duration": 9,
    "start_time": "2022-02-01T17:11:51.185Z"
   },
   {
    "duration": 5,
    "start_time": "2022-02-01T17:15:20.499Z"
   },
   {
    "duration": 5,
    "start_time": "2022-02-01T17:17:02.522Z"
   },
   {
    "duration": 9,
    "start_time": "2022-02-01T17:17:20.308Z"
   },
   {
    "duration": 9,
    "start_time": "2022-02-01T17:21:58.556Z"
   },
   {
    "duration": 9,
    "start_time": "2022-02-01T17:22:09.499Z"
   },
   {
    "duration": 4,
    "start_time": "2022-02-01T17:25:53.937Z"
   },
   {
    "duration": 3,
    "start_time": "2022-02-01T17:25:58.303Z"
   },
   {
    "duration": 3,
    "start_time": "2022-02-01T17:26:09.939Z"
   },
   {
    "duration": 3,
    "start_time": "2022-02-01T17:26:13.863Z"
   },
   {
    "duration": 3,
    "start_time": "2022-02-01T17:26:16.015Z"
   },
   {
    "duration": 277,
    "start_time": "2022-02-01T17:26:28.035Z"
   },
   {
    "duration": 287,
    "start_time": "2022-02-01T17:26:31.448Z"
   },
   {
    "duration": 288,
    "start_time": "2022-02-01T17:26:45.497Z"
   },
   {
    "duration": 298,
    "start_time": "2022-02-01T17:28:39.167Z"
   },
   {
    "duration": 266,
    "start_time": "2022-02-01T17:28:59.202Z"
   },
   {
    "duration": 15,
    "start_time": "2022-02-01T17:29:30.156Z"
   },
   {
    "duration": 11,
    "start_time": "2022-02-01T17:29:37.952Z"
   },
   {
    "duration": 82,
    "start_time": "2022-02-01T17:29:47.879Z"
   },
   {
    "duration": 8,
    "start_time": "2022-02-01T17:29:50.543Z"
   },
   {
    "duration": 16,
    "start_time": "2022-02-01T17:30:28.572Z"
   },
   {
    "duration": 9,
    "start_time": "2022-02-01T17:30:29.596Z"
   },
   {
    "duration": 10,
    "start_time": "2022-02-01T17:34:04.640Z"
   },
   {
    "duration": 14,
    "start_time": "2022-02-01T17:34:08.541Z"
   },
   {
    "duration": 5,
    "start_time": "2022-02-01T17:34:28.988Z"
   },
   {
    "duration": 6,
    "start_time": "2022-02-01T17:34:31.000Z"
   },
   {
    "duration": 13,
    "start_time": "2022-02-01T17:34:33.012Z"
   },
   {
    "duration": 17,
    "start_time": "2022-02-01T17:35:02.754Z"
   },
   {
    "duration": 3,
    "start_time": "2022-02-01T17:35:10.817Z"
   },
   {
    "duration": 10,
    "start_time": "2022-02-01T17:39:07.348Z"
   },
   {
    "duration": 83,
    "start_time": "2022-02-01T17:39:17.331Z"
   },
   {
    "duration": 5,
    "start_time": "2022-02-01T17:39:59.825Z"
   },
   {
    "duration": 12,
    "start_time": "2022-02-01T17:40:05.895Z"
   },
   {
    "duration": 8,
    "start_time": "2022-02-01T17:40:17.947Z"
   },
   {
    "duration": 280,
    "start_time": "2022-02-01T17:41:00.980Z"
   },
   {
    "duration": 281,
    "start_time": "2022-02-01T17:41:11.907Z"
   },
   {
    "duration": 5,
    "start_time": "2022-02-01T17:41:22.536Z"
   },
   {
    "duration": 265,
    "start_time": "2022-02-01T17:41:29.367Z"
   },
   {
    "duration": 4,
    "start_time": "2022-02-01T17:41:32.064Z"
   },
   {
    "duration": 274,
    "start_time": "2022-02-01T17:42:56.603Z"
   },
   {
    "duration": 282,
    "start_time": "2022-02-01T17:43:03.922Z"
   },
   {
    "duration": 11,
    "start_time": "2022-02-01T17:43:41.708Z"
   },
   {
    "duration": 10,
    "start_time": "2022-02-01T17:43:49.984Z"
   },
   {
    "duration": 5,
    "start_time": "2022-02-01T17:46:07.915Z"
   },
   {
    "duration": 11,
    "start_time": "2022-02-01T17:46:18.232Z"
   },
   {
    "duration": 10,
    "start_time": "2022-02-01T17:46:30.192Z"
   },
   {
    "duration": 4,
    "start_time": "2022-02-01T17:48:39.539Z"
   },
   {
    "duration": 4,
    "start_time": "2022-02-01T17:48:43.489Z"
   },
   {
    "duration": 4,
    "start_time": "2022-02-01T17:48:47.658Z"
   },
   {
    "duration": 5,
    "start_time": "2022-02-01T17:48:48.147Z"
   },
   {
    "duration": 4,
    "start_time": "2022-02-01T17:48:53.521Z"
   },
   {
    "duration": 5,
    "start_time": "2022-02-01T17:49:01.134Z"
   },
   {
    "duration": 3,
    "start_time": "2022-02-01T17:49:04.997Z"
   },
   {
    "duration": 271,
    "start_time": "2022-02-01T17:52:38.465Z"
   },
   {
    "duration": 5,
    "start_time": "2022-02-01T17:52:44.390Z"
   },
   {
    "duration": 8,
    "start_time": "2022-02-01T17:53:09.944Z"
   },
   {
    "duration": 448,
    "start_time": "2022-02-01T17:53:32.579Z"
   },
   {
    "duration": 8,
    "start_time": "2022-02-01T17:53:37.013Z"
   },
   {
    "duration": 5,
    "start_time": "2022-02-01T17:53:44.206Z"
   },
   {
    "duration": 95,
    "start_time": "2022-02-01T17:53:49.015Z"
   },
   {
    "duration": 272,
    "start_time": "2022-02-01T17:53:53.220Z"
   },
   {
    "duration": 4,
    "start_time": "2022-02-01T17:54:00.352Z"
   },
   {
    "duration": 4,
    "start_time": "2022-02-01T17:54:09.330Z"
   },
   {
    "duration": 6,
    "start_time": "2022-02-01T17:54:16.166Z"
   },
   {
    "duration": 6,
    "start_time": "2022-02-01T17:54:21.364Z"
   },
   {
    "duration": 6,
    "start_time": "2022-02-01T17:54:24.548Z"
   },
   {
    "duration": 4,
    "start_time": "2022-02-01T17:54:32.331Z"
   },
   {
    "duration": 4,
    "start_time": "2022-02-01T18:17:05.271Z"
   },
   {
    "duration": 5,
    "start_time": "2022-02-01T18:18:10.745Z"
   },
   {
    "duration": 4,
    "start_time": "2022-02-01T18:19:41.272Z"
   },
   {
    "duration": 6,
    "start_time": "2022-02-01T18:53:49.242Z"
   },
   {
    "duration": 6,
    "start_time": "2022-02-01T18:53:57.325Z"
   },
   {
    "duration": 6,
    "start_time": "2022-02-01T18:55:42.226Z"
   },
   {
    "duration": 5,
    "start_time": "2022-02-01T18:56:37.405Z"
   },
   {
    "duration": 7076,
    "start_time": "2022-02-01T18:57:16.325Z"
   },
   {
    "duration": 5,
    "start_time": "2022-02-01T18:58:00.091Z"
   },
   {
    "duration": 449,
    "start_time": "2022-02-01T18:58:03.555Z"
   },
   {
    "duration": 24,
    "start_time": "2022-02-01T18:58:22.134Z"
   },
   {
    "duration": 4,
    "start_time": "2022-02-01T18:58:52.024Z"
   },
   {
    "duration": 22,
    "start_time": "2022-02-01T18:58:54.485Z"
   },
   {
    "duration": 23,
    "start_time": "2022-02-01T18:59:00.968Z"
   },
   {
    "duration": 22,
    "start_time": "2022-02-01T19:01:24.349Z"
   },
   {
    "duration": 3,
    "start_time": "2022-02-01T19:06:55.277Z"
   },
   {
    "duration": 353,
    "start_time": "2022-02-01T19:06:55.282Z"
   },
   {
    "duration": 10,
    "start_time": "2022-02-01T19:06:55.637Z"
   },
   {
    "duration": 9,
    "start_time": "2022-02-01T19:06:55.649Z"
   },
   {
    "duration": 9,
    "start_time": "2022-02-01T19:06:55.660Z"
   },
   {
    "duration": 28,
    "start_time": "2022-02-01T19:06:55.671Z"
   },
   {
    "duration": 10,
    "start_time": "2022-02-01T19:06:55.701Z"
   },
   {
    "duration": 9,
    "start_time": "2022-02-01T19:06:55.714Z"
   },
   {
    "duration": 3,
    "start_time": "2022-02-01T19:06:55.725Z"
   },
   {
    "duration": 7,
    "start_time": "2022-02-01T19:06:55.730Z"
   },
   {
    "duration": 12,
    "start_time": "2022-02-01T19:06:55.738Z"
   },
   {
    "duration": 8,
    "start_time": "2022-02-01T19:06:55.752Z"
   },
   {
    "duration": 61,
    "start_time": "2022-02-01T19:06:55.761Z"
   },
   {
    "duration": 4,
    "start_time": "2022-02-01T19:06:55.824Z"
   },
   {
    "duration": 6,
    "start_time": "2022-02-01T19:06:55.830Z"
   },
   {
    "duration": 4,
    "start_time": "2022-02-01T19:06:55.838Z"
   },
   {
    "duration": 16,
    "start_time": "2022-02-01T19:06:55.844Z"
   },
   {
    "duration": 50,
    "start_time": "2022-02-01T19:06:55.862Z"
   },
   {
    "duration": 94,
    "start_time": "2022-02-01T19:07:21.496Z"
   },
   {
    "duration": 271,
    "start_time": "2022-02-01T19:07:25.831Z"
   },
   {
    "duration": 10,
    "start_time": "2022-02-01T19:07:32.223Z"
   },
   {
    "duration": 9,
    "start_time": "2022-02-01T19:07:39.065Z"
   },
   {
    "duration": 4,
    "start_time": "2022-02-01T19:07:44.590Z"
   },
   {
    "duration": 421,
    "start_time": "2022-02-01T19:07:51.513Z"
   },
   {
    "duration": 9,
    "start_time": "2022-02-01T19:08:04.606Z"
   },
   {
    "duration": 8,
    "start_time": "2022-02-01T19:08:13.365Z"
   },
   {
    "duration": 4,
    "start_time": "2022-02-01T19:09:25.966Z"
   },
   {
    "duration": 21,
    "start_time": "2022-02-01T19:09:27.282Z"
   },
   {
    "duration": 262,
    "start_time": "2022-02-01T19:10:17.722Z"
   },
   {
    "duration": 43981,
    "start_time": "2022-02-01T19:09:45.423Z"
   },
   {
    "duration": 5544,
    "start_time": "2022-02-01T19:10:32.259Z"
   },
   {
    "duration": 18,
    "start_time": "2022-02-01T19:10:45.467Z"
   },
   {
    "duration": 5668,
    "start_time": "2022-02-01T19:11:00.323Z"
   },
   {
    "duration": 18,
    "start_time": "2022-02-01T19:11:08.729Z"
   },
   {
    "duration": 270,
    "start_time": "2022-02-01T19:12:22.385Z"
   },
   {
    "duration": 545,
    "start_time": "2022-02-01T19:13:35.229Z"
   },
   {
    "duration": 5333,
    "start_time": "2022-02-01T19:14:42.282Z"
   },
   {
    "duration": 9,
    "start_time": "2022-02-01T19:14:51.040Z"
   },
   {
    "duration": 5,
    "start_time": "2022-02-01T19:14:55.862Z"
   },
   {
    "duration": 10,
    "start_time": "2022-02-01T19:15:01.111Z"
   },
   {
    "duration": 5345,
    "start_time": "2022-02-01T19:15:03.049Z"
   },
   {
    "duration": 9,
    "start_time": "2022-02-01T19:15:10.048Z"
   },
   {
    "duration": 5406,
    "start_time": "2022-02-01T19:15:34.681Z"
   },
   {
    "duration": 10,
    "start_time": "2022-02-01T19:15:40.993Z"
   },
   {
    "duration": 279,
    "start_time": "2022-02-01T19:15:55.089Z"
   },
   {
    "duration": 2269,
    "start_time": "2022-02-01T19:16:04.407Z"
   },
   {
    "duration": 10,
    "start_time": "2022-02-01T19:16:08.694Z"
   },
   {
    "duration": 9,
    "start_time": "2022-02-01T19:16:10.909Z"
   },
   {
    "duration": 16,
    "start_time": "2022-02-01T19:16:18.222Z"
   },
   {
    "duration": 262,
    "start_time": "2022-02-01T19:16:34.103Z"
   },
   {
    "duration": 257,
    "start_time": "2022-02-01T19:16:43.188Z"
   },
   {
    "duration": 5,
    "start_time": "2022-02-01T19:17:00.329Z"
   },
   {
    "duration": 2294,
    "start_time": "2022-02-01T19:17:05.656Z"
   },
   {
    "duration": 5,
    "start_time": "2022-02-01T19:17:08.427Z"
   },
   {
    "duration": 2397,
    "start_time": "2022-02-01T19:17:23.741Z"
   },
   {
    "duration": 4,
    "start_time": "2022-02-01T19:17:26.813Z"
   },
   {
    "duration": 2511,
    "start_time": "2022-02-01T19:23:41.183Z"
   },
   {
    "duration": 4,
    "start_time": "2022-02-01T19:23:45.562Z"
   },
   {
    "duration": 3318,
    "start_time": "2022-02-01T19:23:56.339Z"
   },
   {
    "duration": 4,
    "start_time": "2022-02-01T19:24:23.636Z"
   },
   {
    "duration": 2606,
    "start_time": "2022-02-01T19:24:26.533Z"
   },
   {
    "duration": 4,
    "start_time": "2022-02-01T19:24:31.343Z"
   },
   {
    "duration": 4,
    "start_time": "2022-02-01T19:24:40.849Z"
   },
   {
    "duration": 2733,
    "start_time": "2022-02-01T19:24:43.114Z"
   },
   {
    "duration": 7,
    "start_time": "2022-02-01T19:24:46.701Z"
   },
   {
    "duration": 4,
    "start_time": "2022-02-01T19:24:54.116Z"
   },
   {
    "duration": 2406,
    "start_time": "2022-02-01T19:25:24.238Z"
   },
   {
    "duration": 4,
    "start_time": "2022-02-01T19:25:28.248Z"
   },
   {
    "duration": 2465,
    "start_time": "2022-02-01T19:26:00.682Z"
   },
   {
    "duration": 4,
    "start_time": "2022-02-01T19:26:03.149Z"
   },
   {
    "duration": 1713,
    "start_time": "2022-02-01T19:26:58.655Z"
   },
   {
    "duration": 5,
    "start_time": "2022-02-01T19:27:00.935Z"
   },
   {
    "duration": 4,
    "start_time": "2022-02-01T19:29:09.344Z"
   },
   {
    "duration": 10,
    "start_time": "2022-02-01T19:32:07.132Z"
   },
   {
    "duration": 1726,
    "start_time": "2022-02-01T19:32:58.583Z"
   },
   {
    "duration": 1332,
    "start_time": "2022-02-02T18:09:24.519Z"
   },
   {
    "duration": 443,
    "start_time": "2022-02-02T18:09:25.854Z"
   },
   {
    "duration": 15,
    "start_time": "2022-02-02T18:09:26.300Z"
   },
   {
    "duration": 37,
    "start_time": "2022-02-02T18:09:26.318Z"
   },
   {
    "duration": 13,
    "start_time": "2022-02-02T18:09:26.358Z"
   },
   {
    "duration": 21,
    "start_time": "2022-02-02T18:09:26.373Z"
   },
   {
    "duration": 54,
    "start_time": "2022-02-02T18:09:26.397Z"
   },
   {
    "duration": 18,
    "start_time": "2022-02-02T18:09:26.457Z"
   },
   {
    "duration": 9,
    "start_time": "2022-02-02T18:09:26.480Z"
   },
   {
    "duration": 16,
    "start_time": "2022-02-02T18:09:26.492Z"
   },
   {
    "duration": 36,
    "start_time": "2022-02-02T18:09:26.512Z"
   },
   {
    "duration": 10,
    "start_time": "2022-02-02T18:09:26.551Z"
   },
   {
    "duration": 57,
    "start_time": "2022-02-02T18:09:26.564Z"
   },
   {
    "duration": 5,
    "start_time": "2022-02-02T18:09:26.624Z"
   },
   {
    "duration": 22,
    "start_time": "2022-02-02T18:09:26.631Z"
   },
   {
    "duration": 6,
    "start_time": "2022-02-02T18:09:26.655Z"
   },
   {
    "duration": 30,
    "start_time": "2022-02-02T18:09:26.663Z"
   },
   {
    "duration": 75,
    "start_time": "2022-02-02T18:09:26.695Z"
   },
   {
    "duration": 277,
    "start_time": "2022-02-02T18:09:26.772Z"
   },
   {
    "duration": 8,
    "start_time": "2022-02-02T18:09:27.053Z"
   },
   {
    "duration": 98,
    "start_time": "2022-02-02T18:09:27.064Z"
   },
   {
    "duration": 11,
    "start_time": "2022-02-02T18:09:27.165Z"
   },
   {
    "duration": 4,
    "start_time": "2022-02-02T18:09:27.183Z"
   },
   {
    "duration": 14,
    "start_time": "2022-02-02T18:09:27.190Z"
   },
   {
    "duration": 5,
    "start_time": "2022-02-02T18:09:27.207Z"
   },
   {
    "duration": 9,
    "start_time": "2022-02-02T18:09:27.248Z"
   },
   {
    "duration": 7,
    "start_time": "2022-02-02T18:09:27.260Z"
   },
   {
    "duration": 8,
    "start_time": "2022-02-02T18:09:27.270Z"
   },
   {
    "duration": 7,
    "start_time": "2022-02-02T18:09:29.498Z"
   },
   {
    "duration": 5,
    "start_time": "2022-02-02T18:10:12.108Z"
   },
   {
    "duration": 4,
    "start_time": "2022-02-02T18:10:19.564Z"
   },
   {
    "duration": 25,
    "start_time": "2022-02-02T18:10:21.413Z"
   },
   {
    "duration": 118,
    "start_time": "2022-02-02T18:11:01.835Z"
   },
   {
    "duration": 953,
    "start_time": "2022-02-02T18:11:14.643Z"
   },
   {
    "duration": 422,
    "start_time": "2022-02-02T18:12:15.154Z"
   },
   {
    "duration": 617,
    "start_time": "2022-02-02T18:14:33.346Z"
   },
   {
    "duration": 3499,
    "start_time": "2022-02-02T18:14:38.476Z"
   },
   {
    "duration": 7,
    "start_time": "2022-02-02T18:14:43.492Z"
   },
   {
    "duration": 25,
    "start_time": "2022-02-02T18:15:08.094Z"
   },
   {
    "duration": 4965,
    "start_time": "2022-02-02T18:18:00.492Z"
   },
   {
    "duration": 8777,
    "start_time": "2022-02-02T18:19:56.305Z"
   },
   {
    "duration": 13,
    "start_time": "2022-02-02T18:21:19.626Z"
   },
   {
    "duration": 14,
    "start_time": "2022-02-02T18:21:35.209Z"
   },
   {
    "duration": 15,
    "start_time": "2022-02-02T18:21:39.539Z"
   },
   {
    "duration": 17,
    "start_time": "2022-02-02T18:21:41.049Z"
   },
   {
    "duration": 17,
    "start_time": "2022-02-02T18:21:42.605Z"
   },
   {
    "duration": 7,
    "start_time": "2022-02-02T18:21:48.616Z"
   },
   {
    "duration": 7,
    "start_time": "2022-02-02T18:21:50.531Z"
   },
   {
    "duration": 7,
    "start_time": "2022-02-02T18:21:52.006Z"
   },
   {
    "duration": 12,
    "start_time": "2022-02-02T18:21:53.396Z"
   },
   {
    "duration": 8100,
    "start_time": "2022-02-02T18:22:12.472Z"
   },
   {
    "duration": 7543,
    "start_time": "2022-02-02T18:22:53.324Z"
   },
   {
    "duration": 336,
    "start_time": "2022-02-02T18:23:08.466Z"
   },
   {
    "duration": 25,
    "start_time": "2022-02-02T18:23:29.216Z"
   },
   {
    "duration": 415,
    "start_time": "2022-02-02T18:23:41.134Z"
   },
   {
    "duration": 4,
    "start_time": "2022-02-02T18:24:09.026Z"
   },
   {
    "duration": 325,
    "start_time": "2022-02-02T18:24:19.278Z"
   },
   {
    "duration": 311,
    "start_time": "2022-02-02T18:24:35.672Z"
   },
   {
    "duration": 20225,
    "start_time": "2022-02-02T18:27:15.167Z"
   },
   {
    "duration": 29544,
    "start_time": "2022-02-02T18:28:02.923Z"
   },
   {
    "duration": 26531,
    "start_time": "2022-02-02T18:29:03.019Z"
   },
   {
    "duration": 282,
    "start_time": "2022-02-02T18:29:53.997Z"
   },
   {
    "duration": 293,
    "start_time": "2022-02-02T18:30:16.150Z"
   },
   {
    "duration": 337,
    "start_time": "2022-02-02T18:30:20.517Z"
   },
   {
    "duration": 8367,
    "start_time": "2022-02-02T18:31:41.333Z"
   },
   {
    "duration": 8503,
    "start_time": "2022-02-02T18:32:24.984Z"
   },
   {
    "duration": 23759,
    "start_time": "2022-02-02T18:33:21.237Z"
   },
   {
    "duration": 11,
    "start_time": "2022-02-02T18:33:55.224Z"
   },
   {
    "duration": 318,
    "start_time": "2022-02-02T18:35:28.055Z"
   },
   {
    "duration": 706,
    "start_time": "2022-02-02T18:35:59.350Z"
   },
   {
    "duration": 420,
    "start_time": "2022-02-02T18:36:02.202Z"
   },
   {
    "duration": 380,
    "start_time": "2022-02-02T18:36:10.421Z"
   },
   {
    "duration": 736,
    "start_time": "2022-02-02T18:37:02.519Z"
   },
   {
    "duration": 646,
    "start_time": "2022-02-02T18:38:04.657Z"
   },
   {
    "duration": 639,
    "start_time": "2022-02-02T18:38:20.856Z"
   },
   {
    "duration": 655,
    "start_time": "2022-02-02T18:38:43.329Z"
   },
   {
    "duration": 720,
    "start_time": "2022-02-02T18:39:59.109Z"
   },
   {
    "duration": 617,
    "start_time": "2022-02-02T18:40:04.775Z"
   },
   {
    "duration": 278,
    "start_time": "2022-02-02T18:40:52.344Z"
   },
   {
    "duration": 398,
    "start_time": "2022-02-02T18:41:04.373Z"
   },
   {
    "duration": 555,
    "start_time": "2022-02-02T18:42:47.498Z"
   },
   {
    "duration": 617,
    "start_time": "2022-02-02T18:43:18.959Z"
   },
   {
    "duration": 284,
    "start_time": "2022-02-02T18:44:53.112Z"
   },
   {
    "duration": 59663,
    "start_time": "2022-02-02T18:45:21.427Z"
   },
   {
    "duration": 50014,
    "start_time": "2022-02-02T18:48:27.721Z"
   },
   {
    "duration": 394,
    "start_time": "2022-02-02T18:49:17.738Z"
   },
   {
    "duration": 576,
    "start_time": "2022-02-02T18:49:26.353Z"
   },
   {
    "duration": 418,
    "start_time": "2022-02-02T18:49:31.815Z"
   },
   {
    "duration": 516,
    "start_time": "2022-02-02T18:49:36.962Z"
   },
   {
    "duration": 378,
    "start_time": "2022-02-02T18:49:53.081Z"
   },
   {
    "duration": 6,
    "start_time": "2022-02-02T18:50:00.074Z"
   },
   {
    "duration": 346,
    "start_time": "2022-02-02T18:50:12.164Z"
   },
   {
    "duration": 318,
    "start_time": "2022-02-02T18:53:18.342Z"
   },
   {
    "duration": 646,
    "start_time": "2022-02-02T18:53:24.384Z"
   },
   {
    "duration": 446,
    "start_time": "2022-02-02T18:53:31.442Z"
   },
   {
    "duration": 366,
    "start_time": "2022-02-02T18:53:40.407Z"
   },
   {
    "duration": 367,
    "start_time": "2022-02-02T18:53:44.512Z"
   },
   {
    "duration": 377,
    "start_time": "2022-02-02T18:55:06.518Z"
   },
   {
    "duration": 660,
    "start_time": "2022-02-02T18:55:18.782Z"
   },
   {
    "duration": 518,
    "start_time": "2022-02-02T18:55:21.878Z"
   },
   {
    "duration": 386,
    "start_time": "2022-02-02T18:57:12.623Z"
   },
   {
    "duration": 378,
    "start_time": "2022-02-02T18:58:14.974Z"
   },
   {
    "duration": 428,
    "start_time": "2022-02-02T18:58:19.448Z"
   },
   {
    "duration": 654,
    "start_time": "2022-02-02T19:00:29.252Z"
   },
   {
    "duration": 605,
    "start_time": "2022-02-02T19:00:41.874Z"
   },
   {
    "duration": 553,
    "start_time": "2022-02-02T19:01:50.379Z"
   },
   {
    "duration": 93,
    "start_time": "2022-02-02T19:01:52.781Z"
   },
   {
    "duration": 384,
    "start_time": "2022-02-02T19:01:55.495Z"
   },
   {
    "duration": 429,
    "start_time": "2022-02-02T19:02:24.169Z"
   },
   {
    "duration": 561,
    "start_time": "2022-02-02T19:03:55.443Z"
   },
   {
    "duration": 415,
    "start_time": "2022-02-02T19:04:27.544Z"
   },
   {
    "duration": 400,
    "start_time": "2022-02-02T19:04:48.305Z"
   },
   {
    "duration": 408,
    "start_time": "2022-02-02T19:05:01.865Z"
   },
   {
    "duration": 409,
    "start_time": "2022-02-02T19:05:20.045Z"
   },
   {
    "duration": 394,
    "start_time": "2022-02-02T19:05:29.776Z"
   },
   {
    "duration": 546,
    "start_time": "2022-02-02T19:05:43.903Z"
   },
   {
    "duration": 422,
    "start_time": "2022-02-02T19:06:52.888Z"
   },
   {
    "duration": 413,
    "start_time": "2022-02-02T19:07:01.676Z"
   },
   {
    "duration": 404,
    "start_time": "2022-02-02T19:07:10.234Z"
   },
   {
    "duration": 4120,
    "start_time": "2022-02-02T19:07:52.936Z"
   },
   {
    "duration": 394,
    "start_time": "2022-02-02T19:08:06.720Z"
   },
   {
    "duration": 371,
    "start_time": "2022-02-02T19:08:38.280Z"
   },
   {
    "duration": 281,
    "start_time": "2022-02-02T19:15:05.780Z"
   },
   {
    "duration": 8,
    "start_time": "2022-02-02T19:15:09.068Z"
   },
   {
    "duration": 6,
    "start_time": "2022-02-02T19:15:32.288Z"
   },
   {
    "duration": 488,
    "start_time": "2022-02-02T19:17:40.261Z"
   },
   {
    "duration": 557,
    "start_time": "2022-02-02T19:17:50.517Z"
   },
   {
    "duration": 11,
    "start_time": "2022-02-02T19:18:05.658Z"
   },
   {
    "duration": 8,
    "start_time": "2022-02-02T19:18:16.672Z"
   },
   {
    "duration": 7,
    "start_time": "2022-02-02T19:18:48.122Z"
   },
   {
    "duration": 5,
    "start_time": "2022-02-02T19:21:02.389Z"
   },
   {
    "duration": 5,
    "start_time": "2022-02-02T19:23:55.504Z"
   },
   {
    "duration": 979,
    "start_time": "2022-02-02T19:25:48.882Z"
   },
   {
    "duration": 8,
    "start_time": "2022-02-02T19:26:02.980Z"
   },
   {
    "duration": 6,
    "start_time": "2022-02-02T19:26:08.623Z"
   },
   {
    "duration": 11,
    "start_time": "2022-02-02T19:48:29.780Z"
   },
   {
    "duration": 6,
    "start_time": "2022-02-02T19:48:33.309Z"
   },
   {
    "duration": 6,
    "start_time": "2022-02-02T19:48:37.644Z"
   },
   {
    "duration": 11,
    "start_time": "2022-02-02T19:48:50.066Z"
   },
   {
    "duration": 6,
    "start_time": "2022-02-02T19:48:51.426Z"
   },
   {
    "duration": 6,
    "start_time": "2022-02-02T19:48:54.804Z"
   },
   {
    "duration": 13,
    "start_time": "2022-02-02T19:50:12.792Z"
   },
   {
    "duration": 279,
    "start_time": "2022-02-02T19:50:23.768Z"
   },
   {
    "duration": 13,
    "start_time": "2022-02-02T19:50:29.374Z"
   },
   {
    "duration": 13,
    "start_time": "2022-02-02T19:50:50.330Z"
   },
   {
    "duration": 278,
    "start_time": "2022-02-02T19:51:08.164Z"
   },
   {
    "duration": 354,
    "start_time": "2022-02-02T19:51:18.738Z"
   },
   {
    "duration": 274,
    "start_time": "2022-02-02T19:51:30.585Z"
   },
   {
    "duration": 88,
    "start_time": "2022-02-02T19:51:43.996Z"
   },
   {
    "duration": 13,
    "start_time": "2022-02-02T19:52:04.293Z"
   },
   {
    "duration": 12,
    "start_time": "2022-02-02T19:52:08.740Z"
   },
   {
    "duration": 14,
    "start_time": "2022-02-02T19:52:20.158Z"
   },
   {
    "duration": 13,
    "start_time": "2022-02-02T19:52:50.645Z"
   },
   {
    "duration": 14,
    "start_time": "2022-02-02T19:55:25.947Z"
   },
   {
    "duration": 22,
    "start_time": "2022-02-02T19:55:29.483Z"
   },
   {
    "duration": 10,
    "start_time": "2022-02-02T19:55:47.030Z"
   },
   {
    "duration": 9,
    "start_time": "2022-02-02T19:56:04.648Z"
   },
   {
    "duration": 95,
    "start_time": "2022-02-02T19:56:12.891Z"
   },
   {
    "duration": 292,
    "start_time": "2022-02-02T19:56:40.436Z"
   },
   {
    "duration": 332,
    "start_time": "2022-02-02T19:56:52.052Z"
   },
   {
    "duration": 103,
    "start_time": "2022-02-02T19:57:01.750Z"
   },
   {
    "duration": 108,
    "start_time": "2022-02-02T19:57:05.073Z"
   },
   {
    "duration": 7,
    "start_time": "2022-02-02T19:57:07.890Z"
   },
   {
    "duration": 8,
    "start_time": "2022-02-02T19:57:11.567Z"
   },
   {
    "duration": 14,
    "start_time": "2022-02-02T19:57:23.491Z"
   },
   {
    "duration": 14,
    "start_time": "2022-02-02T19:57:28.242Z"
   },
   {
    "duration": 9,
    "start_time": "2022-02-02T19:57:33.630Z"
   },
   {
    "duration": 9,
    "start_time": "2022-02-02T19:57:36.125Z"
   },
   {
    "duration": 11,
    "start_time": "2022-02-02T19:57:51.282Z"
   },
   {
    "duration": 11,
    "start_time": "2022-02-02T19:57:59.992Z"
   },
   {
    "duration": 115,
    "start_time": "2022-02-02T19:58:24.728Z"
   },
   {
    "duration": 10,
    "start_time": "2022-02-02T19:58:29.076Z"
   },
   {
    "duration": 8,
    "start_time": "2022-02-02T20:01:19.984Z"
   },
   {
    "duration": 430,
    "start_time": "2022-02-02T20:04:40.829Z"
   },
   {
    "duration": 20,
    "start_time": "2022-02-02T20:04:55.856Z"
   },
   {
    "duration": 8,
    "start_time": "2022-02-02T20:05:05.160Z"
   },
   {
    "duration": 12,
    "start_time": "2022-02-02T20:05:24.160Z"
   },
   {
    "duration": 7,
    "start_time": "2022-02-02T20:05:36.610Z"
   },
   {
    "duration": 321,
    "start_time": "2022-02-02T20:05:43.557Z"
   },
   {
    "duration": 7,
    "start_time": "2022-02-02T20:05:47.795Z"
   },
   {
    "duration": 8,
    "start_time": "2022-02-02T20:06:06.210Z"
   },
   {
    "duration": 10,
    "start_time": "2022-02-02T20:06:32.570Z"
   },
   {
    "duration": 9,
    "start_time": "2022-02-02T20:06:36.535Z"
   },
   {
    "duration": 8,
    "start_time": "2022-02-02T20:06:38.950Z"
   },
   {
    "duration": 14,
    "start_time": "2022-02-02T20:07:22.630Z"
   },
   {
    "duration": 11,
    "start_time": "2022-02-02T20:07:33.212Z"
   },
   {
    "duration": 14,
    "start_time": "2022-02-02T20:08:13.880Z"
   },
   {
    "duration": 23083,
    "start_time": "2022-02-02T20:09:01.201Z"
   },
   {
    "duration": 15,
    "start_time": "2022-02-02T20:09:25.074Z"
   },
   {
    "duration": 8,
    "start_time": "2022-02-02T20:09:33.400Z"
   },
   {
    "duration": 12,
    "start_time": "2022-02-02T20:09:55.499Z"
   },
   {
    "duration": 21,
    "start_time": "2022-02-02T20:10:24.273Z"
   },
   {
    "duration": 10,
    "start_time": "2022-02-02T20:10:31.806Z"
   },
   {
    "duration": 10,
    "start_time": "2022-02-02T20:10:49.911Z"
   },
   {
    "duration": 6,
    "start_time": "2022-02-02T20:10:56.002Z"
   },
   {
    "duration": 9,
    "start_time": "2022-02-02T20:11:23.748Z"
   },
   {
    "duration": 7576,
    "start_time": "2022-02-02T20:12:25.065Z"
   },
   {
    "duration": 18,
    "start_time": "2022-02-02T20:12:32.953Z"
   },
   {
    "duration": 19,
    "start_time": "2022-02-02T20:12:39.122Z"
   },
   {
    "duration": 94,
    "start_time": "2022-02-02T20:13:43.222Z"
   },
   {
    "duration": 2261,
    "start_time": "2022-02-02T20:13:54.922Z"
   },
   {
    "duration": 2313,
    "start_time": "2022-02-02T20:14:08.318Z"
   },
   {
    "duration": 9,
    "start_time": "2022-02-02T20:15:58.172Z"
   },
   {
    "duration": 519,
    "start_time": "2022-02-02T20:16:01.870Z"
   },
   {
    "duration": 293,
    "start_time": "2022-02-02T20:17:59.033Z"
   },
   {
    "duration": 1986,
    "start_time": "2022-02-02T20:18:13.012Z"
   },
   {
    "duration": 5,
    "start_time": "2022-02-02T20:19:09.942Z"
   },
   {
    "duration": 376,
    "start_time": "2022-02-02T20:20:27.174Z"
   },
   {
    "duration": 23452,
    "start_time": "2022-02-02T20:20:33.136Z"
   },
   {
    "duration": 7,
    "start_time": "2022-02-02T20:21:05.523Z"
   },
   {
    "duration": 14,
    "start_time": "2022-02-02T20:21:08.028Z"
   },
   {
    "duration": 18,
    "start_time": "2022-02-02T20:21:11.962Z"
   },
   {
    "duration": 12,
    "start_time": "2022-02-02T20:21:21.365Z"
   },
   {
    "duration": 370,
    "start_time": "2022-02-02T20:25:28.215Z"
   },
   {
    "duration": 393,
    "start_time": "2022-02-02T20:25:37.685Z"
   },
   {
    "duration": 403,
    "start_time": "2022-02-02T20:25:50.502Z"
   },
   {
    "duration": 20,
    "start_time": "2022-02-02T20:26:09.006Z"
   },
   {
    "duration": 390,
    "start_time": "2022-02-02T20:26:10.603Z"
   },
   {
    "duration": 6,
    "start_time": "2022-02-02T20:26:47.702Z"
   },
   {
    "duration": 6,
    "start_time": "2022-02-02T20:26:58.889Z"
   },
   {
    "duration": 8,
    "start_time": "2022-02-02T20:31:12.800Z"
   },
   {
    "duration": 7,
    "start_time": "2022-02-02T20:31:22.206Z"
   },
   {
    "duration": 14,
    "start_time": "2022-02-02T20:32:54.677Z"
   },
   {
    "duration": 419,
    "start_time": "2022-02-02T20:33:13.883Z"
   },
   {
    "duration": 16,
    "start_time": "2022-02-02T20:34:02.032Z"
   },
   {
    "duration": 14,
    "start_time": "2022-02-02T20:34:05.015Z"
   },
   {
    "duration": 16,
    "start_time": "2022-02-02T20:34:08.770Z"
   },
   {
    "duration": 18,
    "start_time": "2022-02-02T20:35:45.873Z"
   },
   {
    "duration": 18,
    "start_time": "2022-02-02T20:35:50.483Z"
   },
   {
    "duration": 401,
    "start_time": "2022-02-02T20:35:52.388Z"
   },
   {
    "duration": 17,
    "start_time": "2022-02-02T20:37:23.225Z"
   },
   {
    "duration": 427,
    "start_time": "2022-02-02T20:37:32.203Z"
   },
   {
    "duration": 17,
    "start_time": "2022-02-02T20:38:52.049Z"
   },
   {
    "duration": 376,
    "start_time": "2022-02-02T20:38:57.829Z"
   },
   {
    "duration": 13,
    "start_time": "2022-02-02T20:39:06.598Z"
   },
   {
    "duration": 14,
    "start_time": "2022-02-02T20:40:10.570Z"
   },
   {
    "duration": 394,
    "start_time": "2022-02-02T20:40:18.958Z"
   },
   {
    "duration": 7,
    "start_time": "2022-02-02T20:40:32.203Z"
   },
   {
    "duration": 14,
    "start_time": "2022-02-02T20:41:15.418Z"
   },
   {
    "duration": 9,
    "start_time": "2022-02-02T20:42:44.827Z"
   },
   {
    "duration": 7,
    "start_time": "2022-02-02T20:42:47.896Z"
   },
   {
    "duration": 7,
    "start_time": "2022-02-02T20:42:52.513Z"
   },
   {
    "duration": 8,
    "start_time": "2022-02-02T20:42:54.752Z"
   },
   {
    "duration": 361,
    "start_time": "2022-02-02T20:44:26.604Z"
   },
   {
    "duration": 108,
    "start_time": "2022-02-02T20:44:31.056Z"
   },
   {
    "duration": 12,
    "start_time": "2022-02-02T20:44:37.732Z"
   },
   {
    "duration": 12,
    "start_time": "2022-02-02T20:44:51.841Z"
   },
   {
    "duration": 389,
    "start_time": "2022-02-02T20:44:55.368Z"
   },
   {
    "duration": 986,
    "start_time": "2022-02-03T07:21:40.873Z"
   },
   {
    "duration": 356,
    "start_time": "2022-02-03T07:21:41.860Z"
   },
   {
    "duration": 11,
    "start_time": "2022-02-03T07:21:42.218Z"
   },
   {
    "duration": 9,
    "start_time": "2022-02-03T07:21:42.231Z"
   },
   {
    "duration": 9,
    "start_time": "2022-02-03T07:21:42.242Z"
   },
   {
    "duration": 14,
    "start_time": "2022-02-03T07:21:42.253Z"
   },
   {
    "duration": 11,
    "start_time": "2022-02-03T07:21:42.268Z"
   },
   {
    "duration": 8,
    "start_time": "2022-02-03T07:21:42.314Z"
   },
   {
    "duration": 3,
    "start_time": "2022-02-03T07:21:42.324Z"
   },
   {
    "duration": 5,
    "start_time": "2022-02-03T07:21:42.328Z"
   },
   {
    "duration": 12,
    "start_time": "2022-02-03T07:21:42.334Z"
   },
   {
    "duration": 7,
    "start_time": "2022-02-03T07:21:42.348Z"
   },
   {
    "duration": 61,
    "start_time": "2022-02-03T07:21:42.357Z"
   },
   {
    "duration": 3,
    "start_time": "2022-02-03T07:21:42.420Z"
   },
   {
    "duration": 5,
    "start_time": "2022-02-03T07:21:42.425Z"
   },
   {
    "duration": 3,
    "start_time": "2022-02-03T07:21:42.432Z"
   },
   {
    "duration": 20,
    "start_time": "2022-02-03T07:21:42.437Z"
   },
   {
    "duration": 30,
    "start_time": "2022-02-03T07:21:42.458Z"
   },
   {
    "duration": 203,
    "start_time": "2022-02-03T07:21:42.513Z"
   },
   {
    "duration": 95,
    "start_time": "2022-02-03T07:21:42.718Z"
   },
   {
    "duration": 6,
    "start_time": "2022-02-03T07:21:42.815Z"
   },
   {
    "duration": 6,
    "start_time": "2022-02-03T07:21:42.823Z"
   },
   {
    "duration": 2,
    "start_time": "2022-02-03T07:21:42.833Z"
   },
   {
    "duration": 3,
    "start_time": "2022-02-03T07:21:42.913Z"
   },
   {
    "duration": 4,
    "start_time": "2022-02-03T07:21:42.918Z"
   },
   {
    "duration": 5,
    "start_time": "2022-02-03T07:21:42.923Z"
   },
   {
    "duration": 4,
    "start_time": "2022-02-03T07:21:42.930Z"
   },
   {
    "duration": 4,
    "start_time": "2022-02-03T07:21:42.936Z"
   },
   {
    "duration": 4,
    "start_time": "2022-02-03T07:21:42.942Z"
   },
   {
    "duration": 8,
    "start_time": "2022-02-03T07:21:42.948Z"
   },
   {
    "duration": 9,
    "start_time": "2022-02-03T07:21:42.957Z"
   },
   {
    "duration": 9,
    "start_time": "2022-02-03T07:21:42.967Z"
   },
   {
    "duration": 47,
    "start_time": "2022-02-03T07:21:42.977Z"
   },
   {
    "duration": 14535,
    "start_time": "2022-02-03T07:21:43.025Z"
   },
   {
    "duration": 5,
    "start_time": "2022-02-03T07:21:59.493Z"
   },
   {
    "duration": 6,
    "start_time": "2022-02-03T07:22:21.849Z"
   },
   {
    "duration": 6,
    "start_time": "2022-02-03T07:22:33.457Z"
   },
   {
    "duration": 9,
    "start_time": "2022-02-03T07:22:51.884Z"
   },
   {
    "duration": 5,
    "start_time": "2022-02-03T07:23:02.309Z"
   },
   {
    "duration": 4,
    "start_time": "2022-02-03T07:23:27.912Z"
   },
   {
    "duration": 7,
    "start_time": "2022-02-03T07:23:59.433Z"
   },
   {
    "duration": 291,
    "start_time": "2022-02-03T07:25:49.260Z"
   },
   {
    "duration": 7,
    "start_time": "2022-02-03T07:25:57.239Z"
   },
   {
    "duration": 8,
    "start_time": "2022-02-03T07:27:34.211Z"
   },
   {
    "duration": 5,
    "start_time": "2022-02-03T07:31:38.265Z"
   },
   {
    "duration": 6,
    "start_time": "2022-02-03T07:31:45.739Z"
   },
   {
    "duration": 8,
    "start_time": "2022-02-03T07:35:35.346Z"
   },
   {
    "duration": 513,
    "start_time": "2022-02-03T07:35:46.885Z"
   },
   {
    "duration": 4,
    "start_time": "2022-02-03T07:36:19.907Z"
   },
   {
    "duration": 278,
    "start_time": "2022-02-03T07:36:25.730Z"
   },
   {
    "duration": 260,
    "start_time": "2022-02-03T07:36:37.816Z"
   },
   {
    "duration": 8,
    "start_time": "2022-02-03T07:47:32.397Z"
   },
   {
    "duration": 13,
    "start_time": "2022-02-03T07:47:38.483Z"
   },
   {
    "duration": 4,
    "start_time": "2022-02-03T07:49:00.121Z"
   },
   {
    "duration": 84,
    "start_time": "2022-02-03T07:49:06.466Z"
   },
   {
    "duration": 76,
    "start_time": "2022-02-03T07:49:09.562Z"
   },
   {
    "duration": 4,
    "start_time": "2022-02-03T07:49:21.999Z"
   },
   {
    "duration": 268,
    "start_time": "2022-02-03T07:49:23.177Z"
   },
   {
    "duration": 4,
    "start_time": "2022-02-03T07:49:56.048Z"
   },
   {
    "duration": 257,
    "start_time": "2022-02-03T07:49:56.715Z"
   },
   {
    "duration": 268,
    "start_time": "2022-02-03T07:50:01.112Z"
   },
   {
    "duration": 333,
    "start_time": "2022-02-03T07:50:11.760Z"
   },
   {
    "duration": 4,
    "start_time": "2022-02-03T07:50:42.472Z"
   },
   {
    "duration": 288,
    "start_time": "2022-02-03T07:50:43.408Z"
   },
   {
    "duration": 4,
    "start_time": "2022-02-03T07:50:49.540Z"
   },
   {
    "duration": 280,
    "start_time": "2022-02-03T07:50:51.233Z"
   },
   {
    "duration": 5,
    "start_time": "2022-02-03T07:51:02.244Z"
   },
   {
    "duration": 656,
    "start_time": "2022-02-03T07:51:03.433Z"
   },
   {
    "duration": 4,
    "start_time": "2022-02-03T07:51:09.722Z"
   },
   {
    "duration": 5,
    "start_time": "2022-02-03T07:51:27.439Z"
   },
   {
    "duration": 293,
    "start_time": "2022-02-03T07:51:29.853Z"
   },
   {
    "duration": 5,
    "start_time": "2022-02-03T07:54:51.590Z"
   },
   {
    "duration": 668,
    "start_time": "2022-02-03T07:54:52.311Z"
   },
   {
    "duration": 5,
    "start_time": "2022-02-03T07:55:32.674Z"
   },
   {
    "duration": 643,
    "start_time": "2022-02-03T07:55:33.296Z"
   },
   {
    "duration": 4,
    "start_time": "2022-02-03T07:55:39.182Z"
   },
   {
    "duration": 745,
    "start_time": "2022-02-03T07:55:40.440Z"
   },
   {
    "duration": 5,
    "start_time": "2022-02-03T07:56:46.190Z"
   },
   {
    "duration": 667,
    "start_time": "2022-02-03T07:56:47.548Z"
   },
   {
    "duration": 5,
    "start_time": "2022-02-03T07:56:59.854Z"
   },
   {
    "duration": 294,
    "start_time": "2022-02-03T07:57:01.229Z"
   },
   {
    "duration": 5,
    "start_time": "2022-02-03T07:57:36.857Z"
   },
   {
    "duration": 648,
    "start_time": "2022-02-03T07:57:37.480Z"
   },
   {
    "duration": 5,
    "start_time": "2022-02-03T07:57:59.249Z"
   },
   {
    "duration": 730,
    "start_time": "2022-02-03T07:58:03.277Z"
   },
   {
    "duration": 341,
    "start_time": "2022-02-03T07:59:59.016Z"
   },
   {
    "duration": 5,
    "start_time": "2022-02-03T08:00:05.592Z"
   },
   {
    "duration": 402,
    "start_time": "2022-02-03T08:00:06.459Z"
   },
   {
    "duration": 5,
    "start_time": "2022-02-03T08:00:15.911Z"
   },
   {
    "duration": 335,
    "start_time": "2022-02-03T08:00:16.942Z"
   },
   {
    "duration": 68,
    "start_time": "2022-02-03T08:00:32.280Z"
   },
   {
    "duration": 4,
    "start_time": "2022-02-03T08:00:42.161Z"
   },
   {
    "duration": 302,
    "start_time": "2022-02-03T08:00:43.992Z"
   },
   {
    "duration": 5,
    "start_time": "2022-02-03T08:01:35.769Z"
   },
   {
    "duration": 293,
    "start_time": "2022-02-03T08:01:36.872Z"
   },
   {
    "duration": 5,
    "start_time": "2022-02-03T08:01:46.094Z"
   },
   {
    "duration": 361,
    "start_time": "2022-02-03T08:01:47.192Z"
   },
   {
    "duration": 7,
    "start_time": "2022-02-03T08:02:19.071Z"
   },
   {
    "duration": 307,
    "start_time": "2022-02-03T08:02:19.621Z"
   },
   {
    "duration": 5,
    "start_time": "2022-02-03T08:02:48.491Z"
   },
   {
    "duration": 289,
    "start_time": "2022-02-03T08:02:49.879Z"
   },
   {
    "duration": 64,
    "start_time": "2022-02-03T08:02:59.541Z"
   },
   {
    "duration": 301,
    "start_time": "2022-02-03T08:03:00.066Z"
   },
   {
    "duration": 57,
    "start_time": "2022-02-03T08:03:06.619Z"
   },
   {
    "duration": 294,
    "start_time": "2022-02-03T08:03:07.207Z"
   },
   {
    "duration": 7,
    "start_time": "2022-02-03T08:03:26.339Z"
   },
   {
    "duration": 301,
    "start_time": "2022-02-03T08:03:32.705Z"
   },
   {
    "duration": 5,
    "start_time": "2022-02-03T08:03:44.033Z"
   },
   {
    "duration": 279,
    "start_time": "2022-02-03T08:03:44.619Z"
   },
   {
    "duration": 74,
    "start_time": "2022-02-03T08:05:36.786Z"
   },
   {
    "duration": 5,
    "start_time": "2022-02-03T08:05:49.241Z"
   },
   {
    "duration": 637,
    "start_time": "2022-02-03T08:05:50.475Z"
   },
   {
    "duration": 190,
    "start_time": "2022-02-03T08:05:56.648Z"
   },
   {
    "duration": 5,
    "start_time": "2022-02-03T08:06:15.393Z"
   },
   {
    "duration": 636,
    "start_time": "2022-02-03T08:06:16.424Z"
   },
   {
    "duration": 5,
    "start_time": "2022-02-03T08:06:44.578Z"
   },
   {
    "duration": 662,
    "start_time": "2022-02-03T08:06:45.478Z"
   },
   {
    "duration": 5,
    "start_time": "2022-02-03T08:06:52.330Z"
   },
   {
    "duration": 719,
    "start_time": "2022-02-03T08:06:53.974Z"
   },
   {
    "duration": 4,
    "start_time": "2022-02-03T08:07:05.980Z"
   },
   {
    "duration": 5,
    "start_time": "2022-02-03T08:07:15.563Z"
   },
   {
    "duration": 5,
    "start_time": "2022-02-03T08:07:16.671Z"
   },
   {
    "duration": 282,
    "start_time": "2022-02-03T08:07:17.382Z"
   },
   {
    "duration": 270,
    "start_time": "2022-02-03T08:07:32.527Z"
   },
   {
    "duration": 5,
    "start_time": "2022-02-03T08:07:54.877Z"
   },
   {
    "duration": 295,
    "start_time": "2022-02-03T08:07:56.332Z"
   },
   {
    "duration": 5,
    "start_time": "2022-02-03T08:08:14.362Z"
   },
   {
    "duration": 274,
    "start_time": "2022-02-03T08:08:15.284Z"
   },
   {
    "duration": 280,
    "start_time": "2022-02-03T08:08:18.480Z"
   },
   {
    "duration": 267,
    "start_time": "2022-02-03T08:08:31.017Z"
   },
   {
    "duration": 263,
    "start_time": "2022-02-03T08:09:05.793Z"
   },
   {
    "duration": 276,
    "start_time": "2022-02-03T08:09:33.769Z"
   },
   {
    "duration": 382,
    "start_time": "2022-02-03T12:06:15.797Z"
   },
   {
    "duration": 1101,
    "start_time": "2022-02-03T12:06:23.313Z"
   },
   {
    "duration": 336,
    "start_time": "2022-02-03T12:06:24.416Z"
   },
   {
    "duration": 9,
    "start_time": "2022-02-03T12:06:24.754Z"
   },
   {
    "duration": 8,
    "start_time": "2022-02-03T12:06:24.764Z"
   },
   {
    "duration": 8,
    "start_time": "2022-02-03T12:06:24.774Z"
   },
   {
    "duration": 9,
    "start_time": "2022-02-03T12:06:24.783Z"
   },
   {
    "duration": 8,
    "start_time": "2022-02-03T12:06:24.794Z"
   },
   {
    "duration": 31,
    "start_time": "2022-02-03T12:06:24.803Z"
   },
   {
    "duration": 3,
    "start_time": "2022-02-03T12:06:24.836Z"
   },
   {
    "duration": 4,
    "start_time": "2022-02-03T12:06:24.841Z"
   },
   {
    "duration": 10,
    "start_time": "2022-02-03T12:06:24.846Z"
   },
   {
    "duration": 8,
    "start_time": "2022-02-03T12:06:24.857Z"
   },
   {
    "duration": 36,
    "start_time": "2022-02-03T12:06:24.866Z"
   },
   {
    "duration": 24,
    "start_time": "2022-02-03T12:06:24.903Z"
   },
   {
    "duration": 3,
    "start_time": "2022-02-03T12:06:24.929Z"
   },
   {
    "duration": 5,
    "start_time": "2022-02-03T12:06:24.933Z"
   },
   {
    "duration": 19,
    "start_time": "2022-02-03T12:06:24.939Z"
   },
   {
    "duration": 28,
    "start_time": "2022-02-03T12:06:24.959Z"
   },
   {
    "duration": 141,
    "start_time": "2022-02-03T12:06:24.989Z"
   },
   {
    "duration": 5,
    "start_time": "2022-02-03T12:06:25.132Z"
   },
   {
    "duration": 17,
    "start_time": "2022-02-03T12:06:25.227Z"
   },
   {
    "duration": 87,
    "start_time": "2022-02-03T12:06:25.246Z"
   },
   {
    "duration": 3,
    "start_time": "2022-02-03T12:06:25.334Z"
   },
   {
    "duration": 4,
    "start_time": "2022-02-03T12:06:25.339Z"
   },
   {
    "duration": 6,
    "start_time": "2022-02-03T12:06:25.344Z"
   },
   {
    "duration": 6,
    "start_time": "2022-02-03T12:06:25.352Z"
   },
   {
    "duration": 3,
    "start_time": "2022-02-03T12:06:25.361Z"
   },
   {
    "duration": 5,
    "start_time": "2022-02-03T12:06:25.366Z"
   },
   {
    "duration": 7,
    "start_time": "2022-02-03T12:06:25.372Z"
   },
   {
    "duration": 7,
    "start_time": "2022-02-03T12:06:25.380Z"
   },
   {
    "duration": 4,
    "start_time": "2022-02-03T12:06:25.389Z"
   },
   {
    "duration": 34,
    "start_time": "2022-02-03T12:06:25.394Z"
   },
   {
    "duration": 20,
    "start_time": "2022-02-03T12:06:25.430Z"
   },
   {
    "duration": 13129,
    "start_time": "2022-02-03T12:06:25.452Z"
   },
   {
    "duration": 4,
    "start_time": "2022-02-03T12:06:38.582Z"
   },
   {
    "duration": 8,
    "start_time": "2022-02-03T12:06:44.328Z"
   },
   {
    "duration": 5,
    "start_time": "2022-02-03T12:06:46.988Z"
   },
   {
    "duration": 5,
    "start_time": "2022-02-03T12:07:02.297Z"
   },
   {
    "duration": 5,
    "start_time": "2022-02-03T12:07:28.885Z"
   },
   {
    "duration": 5,
    "start_time": "2022-02-03T12:07:34.884Z"
   },
   {
    "duration": 5,
    "start_time": "2022-02-03T12:12:07.189Z"
   },
   {
    "duration": 8,
    "start_time": "2022-02-03T12:12:10.514Z"
   },
   {
    "duration": 5,
    "start_time": "2022-02-03T12:12:18.660Z"
   },
   {
    "duration": 1577,
    "start_time": "2022-02-03T16:42:29.135Z"
   },
   {
    "duration": 7,
    "start_time": "2022-02-03T18:52:01.630Z"
   },
   {
    "duration": 5,
    "start_time": "2022-02-03T18:55:42.919Z"
   },
   {
    "duration": 5,
    "start_time": "2022-02-03T18:55:46.511Z"
   },
   {
    "duration": 102,
    "start_time": "2022-02-03T18:55:57.163Z"
   },
   {
    "duration": 7,
    "start_time": "2022-02-03T18:56:07.996Z"
   },
   {
    "duration": 8,
    "start_time": "2022-02-03T18:56:47.893Z"
   },
   {
    "duration": 9,
    "start_time": "2022-02-03T18:56:58.006Z"
   },
   {
    "duration": 9,
    "start_time": "2022-02-03T18:57:07.984Z"
   },
   {
    "duration": 5,
    "start_time": "2022-02-03T18:57:32.911Z"
   },
   {
    "duration": 4,
    "start_time": "2022-02-03T19:00:52.898Z"
   },
   {
    "duration": 10,
    "start_time": "2022-02-03T19:00:59.047Z"
   },
   {
    "duration": 14,
    "start_time": "2022-02-03T19:01:26.745Z"
   },
   {
    "duration": 109,
    "start_time": "2022-02-03T19:01:55.192Z"
   },
   {
    "duration": 4,
    "start_time": "2022-02-03T19:02:07.356Z"
   },
   {
    "duration": 4,
    "start_time": "2022-02-03T19:02:12.056Z"
   },
   {
    "duration": 117,
    "start_time": "2022-02-03T19:02:49.813Z"
   },
   {
    "duration": 377,
    "start_time": "2022-02-03T19:02:57.730Z"
   },
   {
    "duration": 384,
    "start_time": "2022-02-03T19:03:20.623Z"
   },
   {
    "duration": 5,
    "start_time": "2022-02-03T19:03:29.978Z"
   },
   {
    "duration": 4,
    "start_time": "2022-02-03T19:04:15.494Z"
   },
   {
    "duration": 945,
    "start_time": "2022-02-03T19:04:18.008Z"
   },
   {
    "duration": 5,
    "start_time": "2022-02-03T19:04:27.755Z"
   },
   {
    "duration": 227,
    "start_time": "2022-02-03T19:04:29.230Z"
   },
   {
    "duration": 228,
    "start_time": "2022-02-03T19:04:36.431Z"
   },
   {
    "duration": 236,
    "start_time": "2022-02-03T19:04:41.831Z"
   },
   {
    "duration": 102,
    "start_time": "2022-02-03T19:05:38.918Z"
   },
   {
    "duration": 132,
    "start_time": "2022-02-03T19:05:49.994Z"
   },
   {
    "duration": 104,
    "start_time": "2022-02-03T19:06:05.155Z"
   }
  ],
  "kernelspec": {
   "display_name": "Python 3 (ipykernel)",
   "language": "python",
   "name": "python3"
  },
  "language_info": {
   "codemirror_mode": {
    "name": "ipython",
    "version": 3
   },
   "file_extension": ".py",
   "mimetype": "text/x-python",
   "name": "python",
   "nbconvert_exporter": "python",
   "pygments_lexer": "ipython3",
   "version": "3.9.5"
  },
  "toc": {
   "base_numbering": 1,
   "nav_menu": {},
   "number_sections": true,
   "sideBar": true,
   "skip_h1_title": true,
   "title_cell": "Содержание",
   "title_sidebar": "Contents",
   "toc_cell": true,
   "toc_position": {
    "height": "calc(100% - 180px)",
    "left": "10px",
    "top": "150px",
    "width": "374.391px"
   },
   "toc_section_display": true,
   "toc_window_display": false
  }
 },
 "nbformat": 4,
 "nbformat_minor": 2
}
