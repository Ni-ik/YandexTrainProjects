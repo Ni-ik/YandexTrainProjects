{
 "cells": [
  {
   "cell_type": "markdown",
   "metadata": {},
   "source": [
    "# Содержание\n",
    "1.  Описание задачи\n",
    "2.  Загрузка данных\n",
    "3.  Умножение матриц\n",
    "4. Алгоритм преобразования\n",
    "5. Проверка алгоритма\n",
    "6. Выводы"
   ]
  },
  {
   "cell_type": "markdown",
   "metadata": {},
   "source": [
    "# Защита персональных данных клиентов\n",
    "## Описание задачи"
   ]
  },
  {
   "cell_type": "markdown",
   "metadata": {},
   "source": [
    "Вам нужно защитить данные клиентов страховой компании. Разработайте такой метод преобразования данных, чтобы по ним было сложно восстановить персональную информацию. Обоснуйте корректность его работы.\n",
    "\n",
    "Нужно защитить данные, чтобы при преобразовании качество моделей машинного обучения не ухудшилось. Подбирать наилучшую модель не требуется."
   ]
  },
  {
   "cell_type": "markdown",
   "metadata": {},
   "source": [
    "### Для достижения целей необходимо решить следующие задачи:\n",
    "- Изменится ли качество линейной регрессии, если признаки умножают на обратимую матрицу? (Её можно обучить заново.)\n",
    "\n",
    "a. Изменится. Приведите примеры матриц.\n",
    "\n",
    "b. Не изменится. \n",
    "- Указать, как связаны параметры линейной регрессии в исходной задаче и в преобразованной.\n",
    "\n",
    "- Предложите алгоритм преобразования данных для решения задачи. \n",
    "- Обоснуйте, почему качество линейной регрессии не поменяется.\n",
    "- Запрограммируйте этот алгоритм, применив матричные операции. \n",
    "- Проверьте, что качество линейной регрессии из sklearn не отличается до и после преобразования. Примените метрику R2."
   ]
  },
  {
   "cell_type": "markdown",
   "metadata": {},
   "source": [
    "## Загрузка данных"
   ]
  },
  {
   "cell_type": "markdown",
   "metadata": {},
   "source": [
    "Импортируем библиотеки"
   ]
  },
  {
   "cell_type": "code",
   "execution_count": 1,
   "metadata": {},
   "outputs": [],
   "source": [
    "import pandas as pd\n",
    "import numpy as np\n",
    "from sklearn.linear_model import LinearRegression"
   ]
  },
  {
   "cell_type": "markdown",
   "metadata": {},
   "source": [
    "Загрузим файл"
   ]
  },
  {
   "cell_type": "code",
   "execution_count": 2,
   "metadata": {},
   "outputs": [],
   "source": [
    "df = pd.read_csv('/datasets/insurance.csv')"
   ]
  },
  {
   "cell_type": "markdown",
   "metadata": {},
   "source": [
    "Вывдем информацию о файле и первые строки"
   ]
  },
  {
   "cell_type": "code",
   "execution_count": 3,
   "metadata": {
    "scrolled": false
   },
   "outputs": [
    {
     "name": "stdout",
     "output_type": "stream",
     "text": [
      "<class 'pandas.core.frame.DataFrame'>\n",
      "RangeIndex: 5000 entries, 0 to 4999\n",
      "Data columns (total 5 columns):\n",
      "Пол                  5000 non-null int64\n",
      "Возраст              5000 non-null float64\n",
      "Зарплата             5000 non-null float64\n",
      "Члены семьи          5000 non-null int64\n",
      "Страховые выплаты    5000 non-null int64\n",
      "dtypes: float64(2), int64(3)\n",
      "memory usage: 195.4 KB\n"
     ]
    }
   ],
   "source": [
    "df.info()"
   ]
  },
  {
   "cell_type": "markdown",
   "metadata": {},
   "source": [
    "Пропусков нет, количество записей - 5000"
   ]
  },
  {
   "cell_type": "markdown",
   "metadata": {},
   "source": [
    "Согласно описанию, в таблице следующая информация:\n",
    "\n",
    "пол, возраст и зарплата застрахованного, количество членов его семьи.\n",
    "Целевой признак: количество страховых выплат клиенту за последние 5 лет."
   ]
  },
  {
   "cell_type": "code",
   "execution_count": 4,
   "metadata": {
    "scrolled": true
   },
   "outputs": [
    {
     "data": {
      "text/html": [
       "<div>\n",
       "<style scoped>\n",
       "    .dataframe tbody tr th:only-of-type {\n",
       "        vertical-align: middle;\n",
       "    }\n",
       "\n",
       "    .dataframe tbody tr th {\n",
       "        vertical-align: top;\n",
       "    }\n",
       "\n",
       "    .dataframe thead th {\n",
       "        text-align: right;\n",
       "    }\n",
       "</style>\n",
       "<table border=\"1\" class=\"dataframe\">\n",
       "  <thead>\n",
       "    <tr style=\"text-align: right;\">\n",
       "      <th></th>\n",
       "      <th>Пол</th>\n",
       "      <th>Возраст</th>\n",
       "      <th>Зарплата</th>\n",
       "      <th>Члены семьи</th>\n",
       "      <th>Страховые выплаты</th>\n",
       "    </tr>\n",
       "  </thead>\n",
       "  <tbody>\n",
       "    <tr>\n",
       "      <td>0</td>\n",
       "      <td>1</td>\n",
       "      <td>41.0</td>\n",
       "      <td>49600.0</td>\n",
       "      <td>1</td>\n",
       "      <td>0</td>\n",
       "    </tr>\n",
       "    <tr>\n",
       "      <td>1</td>\n",
       "      <td>0</td>\n",
       "      <td>46.0</td>\n",
       "      <td>38000.0</td>\n",
       "      <td>1</td>\n",
       "      <td>1</td>\n",
       "    </tr>\n",
       "    <tr>\n",
       "      <td>2</td>\n",
       "      <td>0</td>\n",
       "      <td>29.0</td>\n",
       "      <td>21000.0</td>\n",
       "      <td>0</td>\n",
       "      <td>0</td>\n",
       "    </tr>\n",
       "    <tr>\n",
       "      <td>3</td>\n",
       "      <td>0</td>\n",
       "      <td>21.0</td>\n",
       "      <td>41700.0</td>\n",
       "      <td>2</td>\n",
       "      <td>0</td>\n",
       "    </tr>\n",
       "    <tr>\n",
       "      <td>4</td>\n",
       "      <td>1</td>\n",
       "      <td>28.0</td>\n",
       "      <td>26100.0</td>\n",
       "      <td>0</td>\n",
       "      <td>0</td>\n",
       "    </tr>\n",
       "  </tbody>\n",
       "</table>\n",
       "</div>"
      ],
      "text/plain": [
       "   Пол  Возраст  Зарплата  Члены семьи  Страховые выплаты\n",
       "0    1     41.0   49600.0            1                  0\n",
       "1    0     46.0   38000.0            1                  1\n",
       "2    0     29.0   21000.0            0                  0\n",
       "3    0     21.0   41700.0            2                  0\n",
       "4    1     28.0   26100.0            0                  0"
      ]
     },
     "execution_count": 4,
     "metadata": {},
     "output_type": "execute_result"
    }
   ],
   "source": [
    "df.head()"
   ]
  },
  {
   "cell_type": "code",
   "execution_count": 5,
   "metadata": {
    "scrolled": true
   },
   "outputs": [
    {
     "data": {
      "text/plain": [
       "Пол                    2\n",
       "Возраст               46\n",
       "Зарплата             524\n",
       "Члены семьи            7\n",
       "Страховые выплаты      6\n",
       "dtype: int64"
      ]
     },
     "execution_count": 5,
     "metadata": {},
     "output_type": "execute_result"
    }
   ],
   "source": [
    "df.nunique()"
   ]
  },
  {
   "cell_type": "code",
   "execution_count": 6,
   "metadata": {
    "scrolled": true
   },
   "outputs": [
    {
     "data": {
      "text/html": [
       "<div>\n",
       "<style scoped>\n",
       "    .dataframe tbody tr th:only-of-type {\n",
       "        vertical-align: middle;\n",
       "    }\n",
       "\n",
       "    .dataframe tbody tr th {\n",
       "        vertical-align: top;\n",
       "    }\n",
       "\n",
       "    .dataframe thead th {\n",
       "        text-align: right;\n",
       "    }\n",
       "</style>\n",
       "<table border=\"1\" class=\"dataframe\">\n",
       "  <thead>\n",
       "    <tr style=\"text-align: right;\">\n",
       "      <th></th>\n",
       "      <th>Пол</th>\n",
       "      <th>Возраст</th>\n",
       "      <th>Зарплата</th>\n",
       "      <th>Члены семьи</th>\n",
       "      <th>Страховые выплаты</th>\n",
       "    </tr>\n",
       "  </thead>\n",
       "  <tbody>\n",
       "    <tr>\n",
       "      <td>count</td>\n",
       "      <td>5000.000000</td>\n",
       "      <td>5000.000000</td>\n",
       "      <td>5000.000000</td>\n",
       "      <td>5000.000000</td>\n",
       "      <td>5000.000000</td>\n",
       "    </tr>\n",
       "    <tr>\n",
       "      <td>mean</td>\n",
       "      <td>0.499000</td>\n",
       "      <td>30.952800</td>\n",
       "      <td>39916.360000</td>\n",
       "      <td>1.194200</td>\n",
       "      <td>0.148000</td>\n",
       "    </tr>\n",
       "    <tr>\n",
       "      <td>std</td>\n",
       "      <td>0.500049</td>\n",
       "      <td>8.440807</td>\n",
       "      <td>9900.083569</td>\n",
       "      <td>1.091387</td>\n",
       "      <td>0.463183</td>\n",
       "    </tr>\n",
       "    <tr>\n",
       "      <td>min</td>\n",
       "      <td>0.000000</td>\n",
       "      <td>18.000000</td>\n",
       "      <td>5300.000000</td>\n",
       "      <td>0.000000</td>\n",
       "      <td>0.000000</td>\n",
       "    </tr>\n",
       "    <tr>\n",
       "      <td>25%</td>\n",
       "      <td>0.000000</td>\n",
       "      <td>24.000000</td>\n",
       "      <td>33300.000000</td>\n",
       "      <td>0.000000</td>\n",
       "      <td>0.000000</td>\n",
       "    </tr>\n",
       "    <tr>\n",
       "      <td>50%</td>\n",
       "      <td>0.000000</td>\n",
       "      <td>30.000000</td>\n",
       "      <td>40200.000000</td>\n",
       "      <td>1.000000</td>\n",
       "      <td>0.000000</td>\n",
       "    </tr>\n",
       "    <tr>\n",
       "      <td>75%</td>\n",
       "      <td>1.000000</td>\n",
       "      <td>37.000000</td>\n",
       "      <td>46600.000000</td>\n",
       "      <td>2.000000</td>\n",
       "      <td>0.000000</td>\n",
       "    </tr>\n",
       "    <tr>\n",
       "      <td>max</td>\n",
       "      <td>1.000000</td>\n",
       "      <td>65.000000</td>\n",
       "      <td>79000.000000</td>\n",
       "      <td>6.000000</td>\n",
       "      <td>5.000000</td>\n",
       "    </tr>\n",
       "  </tbody>\n",
       "</table>\n",
       "</div>"
      ],
      "text/plain": [
       "               Пол      Возраст      Зарплата  Члены семьи  Страховые выплаты\n",
       "count  5000.000000  5000.000000   5000.000000  5000.000000        5000.000000\n",
       "mean      0.499000    30.952800  39916.360000     1.194200           0.148000\n",
       "std       0.500049     8.440807   9900.083569     1.091387           0.463183\n",
       "min       0.000000    18.000000   5300.000000     0.000000           0.000000\n",
       "25%       0.000000    24.000000  33300.000000     0.000000           0.000000\n",
       "50%       0.000000    30.000000  40200.000000     1.000000           0.000000\n",
       "75%       1.000000    37.000000  46600.000000     2.000000           0.000000\n",
       "max       1.000000    65.000000  79000.000000     6.000000           5.000000"
      ]
     },
     "execution_count": 6,
     "metadata": {},
     "output_type": "execute_result"
    }
   ],
   "source": [
    "df.describe()"
   ]
  },
  {
   "cell_type": "markdown",
   "metadata": {},
   "source": [
    "Отрицательных значений нет, что хорошо. Практически равное рапределение по полам. Возраст от 18 лет. Минимальная зарплата 5300. Максимальное к-во членов семьи - 6.\n",
    "Максимальное к-во страховых выплат за 5 лет - 5. Среднее значение страховых выплат очень мало, что говорит о том, что в датасете преобладают нулевые значения - отсутствие выплат"
   ]
  },
  {
   "cell_type": "code",
   "execution_count": 7,
   "metadata": {
    "scrolled": false
   },
   "outputs": [
    {
     "data": {
      "text/plain": [
       "<matplotlib.axes._subplots.AxesSubplot at 0x7f570235d450>"
      ]
     },
     "execution_count": 7,
     "metadata": {},
     "output_type": "execute_result"
    },
    {
     "data": {
      "image/png": "[encoded data removed]",
      "text/plain": [
       "<Figure size 432x288 with 1 Axes>"
      ]
     },
     "metadata": {
      "needs_background": "light"
     },
     "output_type": "display_data"
    }
   ],
   "source": [
    "df['Страховые выплаты'].hist()"
   ]
  },
  {
   "cell_type": "code",
   "execution_count": 8,
   "metadata": {
    "scrolled": false
   },
   "outputs": [
    {
     "data": {
      "text/plain": [
       "4436"
      ]
     },
     "execution_count": 8,
     "metadata": {},
     "output_type": "execute_result"
    }
   ],
   "source": [
    "(df['Страховые выплаты']==0).sum()"
   ]
  },
  {
   "cell_type": "markdown",
   "metadata": {},
   "source": [
    "Для удобства работы переименуем столбцы"
   ]
  },
  {
   "cell_type": "code",
   "execution_count": 9,
   "metadata": {},
   "outputs": [],
   "source": [
    "df = df.rename({'Пол':'sex','Возраст':'age','Зарплата':'salary', 'Члены семьи':'family_members','Страховые выплаты':'payments'}, axis = 1)"
   ]
  },
  {
   "cell_type": "code",
   "execution_count": 10,
   "metadata": {
    "scrolled": true
   },
   "outputs": [
    {
     "data": {
      "text/html": [
       "<div>\n",
       "<style scoped>\n",
       "    .dataframe tbody tr th:only-of-type {\n",
       "        vertical-align: middle;\n",
       "    }\n",
       "\n",
       "    .dataframe tbody tr th {\n",
       "        vertical-align: top;\n",
       "    }\n",
       "\n",
       "    .dataframe thead th {\n",
       "        text-align: right;\n",
       "    }\n",
       "</style>\n",
       "<table border=\"1\" class=\"dataframe\">\n",
       "  <thead>\n",
       "    <tr style=\"text-align: right;\">\n",
       "      <th></th>\n",
       "      <th>sex</th>\n",
       "      <th>age</th>\n",
       "      <th>salary</th>\n",
       "      <th>family_members</th>\n",
       "      <th>payments</th>\n",
       "    </tr>\n",
       "  </thead>\n",
       "  <tbody>\n",
       "    <tr>\n",
       "      <td>0</td>\n",
       "      <td>1</td>\n",
       "      <td>41.0</td>\n",
       "      <td>49600.0</td>\n",
       "      <td>1</td>\n",
       "      <td>0</td>\n",
       "    </tr>\n",
       "    <tr>\n",
       "      <td>1</td>\n",
       "      <td>0</td>\n",
       "      <td>46.0</td>\n",
       "      <td>38000.0</td>\n",
       "      <td>1</td>\n",
       "      <td>1</td>\n",
       "    </tr>\n",
       "    <tr>\n",
       "      <td>2</td>\n",
       "      <td>0</td>\n",
       "      <td>29.0</td>\n",
       "      <td>21000.0</td>\n",
       "      <td>0</td>\n",
       "      <td>0</td>\n",
       "    </tr>\n",
       "    <tr>\n",
       "      <td>3</td>\n",
       "      <td>0</td>\n",
       "      <td>21.0</td>\n",
       "      <td>41700.0</td>\n",
       "      <td>2</td>\n",
       "      <td>0</td>\n",
       "    </tr>\n",
       "    <tr>\n",
       "      <td>4</td>\n",
       "      <td>1</td>\n",
       "      <td>28.0</td>\n",
       "      <td>26100.0</td>\n",
       "      <td>0</td>\n",
       "      <td>0</td>\n",
       "    </tr>\n",
       "  </tbody>\n",
       "</table>\n",
       "</div>"
      ],
      "text/plain": [
       "   sex   age   salary  family_members  payments\n",
       "0    1  41.0  49600.0               1         0\n",
       "1    0  46.0  38000.0               1         1\n",
       "2    0  29.0  21000.0               0         0\n",
       "3    0  21.0  41700.0               2         0\n",
       "4    1  28.0  26100.0               0         0"
      ]
     },
     "execution_count": 10,
     "metadata": {},
     "output_type": "execute_result"
    }
   ],
   "source": [
    "df.head()"
   ]
  },
  {
   "cell_type": "markdown",
   "metadata": {},
   "source": [
    "Так как в задании не требуется, то не проверяем на наличие дубликатов. Дубликаты могут присутствовать - но это не говорит о том, что это не могут быть разные люди."
   ]
  },
  {
   "cell_type": "markdown",
   "metadata": {},
   "source": [
    "### Выводы\n",
    "\n",
    "Файл открылся без проблем. Содержания столбцов соответствует описанию. Записей - 5000, пропусков нет. Столбцы переименовали используя *snake_case*. В таблице указано 5 признаков, из которых целевой признак только один -  `payments`. Наблюдается дисбаланс - у целевого признака количество 0 значительно превышает к-во других значений."
   ]
  },
  {
   "cell_type": "markdown",
   "metadata": {},
   "source": [
    "## Умножение матриц"
   ]
  },
  {
   "cell_type": "markdown",
   "metadata": {},
   "source": [
    "Изменится ли качество линейной регрессии, если признаки умножают на обратимую матрицу?\n",
    "\n",
    "**Ответ** - не изменится\n",
    " "
   ]
  },
  {
   "cell_type": "markdown",
   "metadata": {},
   "source": [
    "**Обоснование**. Для обоснования воспользуемся следующими обозначениями:\n",
    "\n",
    "- $X$ — матрица признаков (нулевой столбец состоит из единиц)\n",
    "\n",
    "- $y$ — вектор целевого признака\n",
    "\n",
    "- $P$ — матрица, на которую умножаются признаки\n",
    "\n",
    "- $w$ — вектор весов линейной регрессии (нулевой элемент равен сдвигу)"
   ]
  },
  {
   "cell_type": "markdown",
   "metadata": {},
   "source": [
    "Предсказания:\n",
    "\n",
    "$$\n",
    "a = Xw\n",
    "$$\n",
    "\n",
    "$$\n",
    "w = \\arg\\min_w MSE(Xw, y)\n",
    "$$\n",
    "\n",
    "Формула обучения:\n",
    "\n",
    "$$\n",
    "w = (X^T X)^{-1} X^T y\n",
    "$$"
   ]
  },
  {
   "cell_type": "markdown",
   "metadata": {},
   "source": [
    "Для доказательства утверждения необходимо показать, что результат предсказания линейной регрессии будет иметь одинаковые значения для исходной матрицы признаков и для матрицы признаков, умноженной на обратимую матрицу. Для доказательства воспользуемся некоторыми свойствами матриц:\n",
    "\n",
    "$$ \n",
    "(AB)^{-1} = B^{-1}A^{-1}\n",
    "$$\n",
    "\n",
    "$$\n",
    "(AB)^T = B^TA^T\n",
    "$$\n",
    "\n",
    "$$\n",
    "AA^{-1}=E\n",
    "$$\n",
    "\n",
    "Покажем, чему будут равны предсказания регрессии, если вместо $X$ будем использовать $XP$:\n",
    "\n",
    "$$\n",
    "a'=XPw'=XP((XP)^T XP)^{-1} (XP)^T y\n",
    "$$\n",
    "\n",
    "Воспользововшись свойством транспонирования матриц получим:\n",
    "\n",
    "$$\n",
    "XP((XP)^T XP)^{-1} (XP)^T y = XP(P^T X^T X P)^{-1} P^T X^T y\n",
    "$$\n",
    "\n",
    "Для нахождения обратных матриц, перегруппируем множители, воспользовавшись свойством $(AB)C=A(BC)$ чтобы получить квадратные матрицы. Учитываем, что $P$-обратимая матрица, а значит квадратная\n",
    "$$\n",
    "XP(P^T X^T X P)^{-1} P^T X^T y = XP[(P^T) (X^T X P)]^{-1} P^T X^T y\n",
    "$$\n",
    "\n",
    "Далее воспользуемся свойством обратной матрицы, получим:\n",
    "\n",
    "$$\n",
    "XP[(P^T X^T X) (P)]^{-1} P^T X^T y = XP(X^T X P)^{-1} (P^T)^{-1} P^T X^T y  = \n",
    "XP P^{-1} (X^T X)^{-1} (P^T)^{-1} P^T X^T y\n",
    "$$\n",
    "\n",
    "Учитывая, что $P P^{-1} = (P^T)^{-1} P^T=E$, получим\n",
    "\n",
    "$$\n",
    "XPP^{-1} (X^T X)^{-1} (P^T)^{-1} P^T X^T y = XPP^{-1} (X^T X)^{-1} X^T y=X (X^T X)^{-1}X^T y = Xw = a\n",
    "$$\n",
    "\n",
    "$$\n",
    "a'=a\n",
    "$$"
   ]
  },
  {
   "cell_type": "markdown",
   "metadata": {},
   "source": [
    "Таким образом предсказания линейной регрессии не зависят от того, умножаются ли признаки на обратимую матрицу или нет. А если не изменяются предсказания, то и качество регрессии не зависит.\n",
    "\n",
    "Из последней формулы можем получить соотношения весов линейной регрессии для исходных признаков $w$ и преобразованных $w'$\n",
    "\n",
    "$$\n",
    "a'=a=>Xw=XPw'=>w=Pw'=>w'=P^{-1}w\n",
    "$$"
   ]
  },
  {
   "cell_type": "markdown",
   "metadata": {},
   "source": [
    "### Выводы. \n",
    "Качество линейной регрессии не зависит от умножения признаков на обратимую матрицу. Соотношение весов для преобразованной и непреобразованной матрицы определяется выражением $w'=P^{-1}w$"
   ]
  },
  {
   "cell_type": "markdown",
   "metadata": {},
   "source": [
    "## Алгоритм преобразования"
   ]
  },
  {
   "cell_type": "markdown",
   "metadata": {},
   "source": [
    "**Алгоритм**\n",
    "Для защиты персональных данных воспользуемся свойством из предыдущего пункта. Для того, чтобы хранимые данные были защищены, достаточно признаки умножить на обратимую случайную матрицу. Причём для корректности прогнозов даже "
   ]
  },
  {
   "cell_type": "markdown",
   "metadata": {},
   "source": [
    "**Обоснование**\n",
    "Если персональные данные умножить на случайную обратимую матрицу, то это скроет данные, но в то же время прогноз линейной регрессии останется без изменений. "
   ]
  },
  {
   "cell_type": "markdown",
   "metadata": {},
   "source": [
    "## Проверка алгоритма"
   ]
  },
  {
   "cell_type": "markdown",
   "metadata": {},
   "source": [
    "Разделим данные на `features` и `target`"
   ]
  },
  {
   "cell_type": "code",
   "execution_count": 11,
   "metadata": {},
   "outputs": [],
   "source": [
    "features = df.drop('payments', axis=1)"
   ]
  },
  {
   "cell_type": "code",
   "execution_count": 12,
   "metadata": {},
   "outputs": [],
   "source": [
    "target = df['payments']"
   ]
  },
  {
   "cell_type": "markdown",
   "metadata": {},
   "source": [
    "Определим размер матрицы $P$"
   ]
  },
  {
   "cell_type": "code",
   "execution_count": 13,
   "metadata": {},
   "outputs": [],
   "source": [
    "size = features.shape[1]"
   ]
  },
  {
   "cell_type": "code",
   "execution_count": 32,
   "metadata": {},
   "outputs": [
    {
     "data": {
      "text/plain": [
       "4"
      ]
     },
     "execution_count": 32,
     "metadata": {},
     "output_type": "execute_result"
    }
   ],
   "source": [
    "size"
   ]
  },
  {
   "cell_type": "markdown",
   "metadata": {},
   "source": [
    "Определим функцию, которая будет возвращать матрицу $P$ случайным образом. В функции проверим, чтобы матрица имела обратную - т.е. её определитель не был равен нулю."
   ]
  },
  {
   "cell_type": "code",
   "execution_count": 16,
   "metadata": {},
   "outputs": [],
   "source": [
    "def fun_p(size):\n",
    "    while True:\n",
    "        p=np.random.rand(size,size)\n",
    "        if np.linalg.det(p)!=0:\n",
    "            return p"
   ]
  },
  {
   "cell_type": "code",
   "execution_count": 19,
   "metadata": {
    "scrolled": true
   },
   "outputs": [
    {
     "data": {
      "text/plain": [
       "array([[0.98635196, 0.78751979, 0.09556395, 0.84682467],\n",
       "       [0.60933555, 0.86768214, 0.15604151, 0.71444855],\n",
       "       [0.40296911, 0.56781455, 0.69895871, 0.34962554],\n",
       "       [0.21025649, 0.89890051, 0.9995602 , 0.03227306]])"
      ]
     },
     "execution_count": 19,
     "metadata": {},
     "output_type": "execute_result"
    }
   ],
   "source": [
    "p=fun_p(size)\n",
    "p"
   ]
  },
  {
   "cell_type": "markdown",
   "metadata": {},
   "source": [
    "Создадим и обучим модель линейной регрессии"
   ]
  },
  {
   "cell_type": "code",
   "execution_count": 20,
   "metadata": {},
   "outputs": [
    {
     "data": {
      "text/plain": [
       "LinearRegression(copy_X=True, fit_intercept=True, n_jobs=None, normalize=False)"
      ]
     },
     "execution_count": 20,
     "metadata": {},
     "output_type": "execute_result"
    }
   ],
   "source": [
    "model=LinearRegression()\n",
    "model.fit(features,target)"
   ]
  },
  {
   "cell_type": "markdown",
   "metadata": {},
   "source": [
    "Получим значения коэффициентов модели"
   ]
  },
  {
   "cell_type": "code",
   "execution_count": 21,
   "metadata": {
    "scrolled": false
   },
   "outputs": [
    {
     "data": {
      "text/plain": [
       "array([ 7.92580543e-03,  3.57083050e-02, -1.70080492e-07, -1.35676623e-02])"
      ]
     },
     "execution_count": 21,
     "metadata": {},
     "output_type": "execute_result"
    }
   ],
   "source": [
    "model.coef_"
   ]
  },
  {
   "cell_type": "markdown",
   "metadata": {},
   "source": [
    "Определим R2-метрику модели. Для линейной регрессии эта метрика определяется методом `score`."
   ]
  },
  {
   "cell_type": "code",
   "execution_count": 22,
   "metadata": {
    "scrolled": false
   },
   "outputs": [
    {
     "data": {
      "text/plain": [
       "0.42494550286668"
      ]
     },
     "execution_count": 22,
     "metadata": {},
     "output_type": "execute_result"
    }
   ],
   "source": [
    "model.score(features,target)"
   ]
  },
  {
   "cell_type": "markdown",
   "metadata": {},
   "source": [
    "Теперь создадим новые признаки, умножив их значения на матрицу $P$"
   ]
  },
  {
   "cell_type": "code",
   "execution_count": 23,
   "metadata": {},
   "outputs": [],
   "source": [
    "features_hided = features.values @ p"
   ]
  },
  {
   "cell_type": "markdown",
   "metadata": {},
   "source": [
    "Создадим новую модель линейной регресии"
   ]
  },
  {
   "cell_type": "code",
   "execution_count": 24,
   "metadata": {},
   "outputs": [],
   "source": [
    "model_hided = LinearRegression()"
   ]
  },
  {
   "cell_type": "markdown",
   "metadata": {},
   "source": [
    "Обучим её на скрытых данных"
   ]
  },
  {
   "cell_type": "code",
   "execution_count": 25,
   "metadata": {},
   "outputs": [
    {
     "data": {
      "text/plain": [
       "LinearRegression(copy_X=True, fit_intercept=True, n_jobs=None, normalize=False)"
      ]
     },
     "execution_count": 25,
     "metadata": {},
     "output_type": "execute_result"
    }
   ],
   "source": [
    "model_hided.fit(features_hided,target)"
   ]
  },
  {
   "cell_type": "markdown",
   "metadata": {},
   "source": [
    "Посмотрим на R2-метрику"
   ]
  },
  {
   "cell_type": "code",
   "execution_count": 26,
   "metadata": {},
   "outputs": [
    {
     "data": {
      "text/plain": [
       "0.42494550286666644"
      ]
     },
     "execution_count": 26,
     "metadata": {},
     "output_type": "execute_result"
    }
   ],
   "source": [
    "model_hided.score(features_hided,target)"
   ]
  },
  {
   "cell_type": "markdown",
   "metadata": {},
   "source": [
    "Метрики для скрытых и нескрытых данных практически одинаковы. Проверим утверждения о зависимости параметров линейной регрессии $Pw'=w$"
   ]
  },
  {
   "cell_type": "code",
   "execution_count": 27,
   "metadata": {},
   "outputs": [
    {
     "data": {
      "text/plain": [
       "array([ 7.92580543e-03,  3.57083050e-02, -1.70080492e-07, -1.35676623e-02])"
      ]
     },
     "execution_count": 27,
     "metadata": {},
     "output_type": "execute_result"
    }
   ],
   "source": [
    "p @ model_hided.coef_"
   ]
  },
  {
   "cell_type": "code",
   "execution_count": 28,
   "metadata": {},
   "outputs": [
    {
     "data": {
      "text/plain": [
       "array([ 7.92580543e-03,  3.57083050e-02, -1.70080492e-07, -1.35676623e-02])"
      ]
     },
     "execution_count": 28,
     "metadata": {},
     "output_type": "execute_result"
    }
   ],
   "source": [
    "model.coef_"
   ]
  },
  {
   "cell_type": "markdown",
   "metadata": {},
   "source": [
    "Видим, что коэффициенты соответствуют утверждению."
   ]
  },
  {
   "cell_type": "markdown",
   "metadata": {},
   "source": [
    "## Выводы\n",
    "\n",
    "\n",
    "В ходе работы теоретически обосновали метод защиты персональных данных и предложили алгоритм преобразования умножением на обратимую случайную матрицу. Теоретические формулировки проверили практически с использованием моделей линейной регрессии. Результаты показали, что метрика R2 для моделей, обученных на скрытых и исходных данных одинаковы, что позволяет говорит о том, что метод умножения на обратимую матрицу не изменяет точность предсказания линейной регрессии."
   ]
  }
 ],
 "metadata": {
  "ExecuteTimeLog": [
   {
    "duration": 1024,
    "start_time": "2022-02-25T06:04:21.375Z"
   },
   {
    "duration": 366,
    "start_time": "2022-02-25T06:05:20.126Z"
   },
   {
    "duration": 21,
    "start_time": "2022-02-25T06:05:26.103Z"
   },
   {
    "duration": 10,
    "start_time": "2022-02-25T06:05:55.850Z"
   },
   {
    "duration": 22,
    "start_time": "2022-02-25T06:06:54.852Z"
   },
   {
    "duration": 11,
    "start_time": "2022-02-25T06:07:11.969Z"
   },
   {
    "duration": 37,
    "start_time": "2022-02-25T06:07:28.873Z"
   },
   {
    "duration": 123,
    "start_time": "2022-02-25T06:11:55.942Z"
   },
   {
    "duration": 383,
    "start_time": "2022-02-25T06:12:59.086Z"
   },
   {
    "duration": 6,
    "start_time": "2022-02-25T06:13:33.153Z"
   },
   {
    "duration": 5,
    "start_time": "2022-02-25T06:13:40.987Z"
   },
   {
    "duration": 6,
    "start_time": "2022-02-25T06:13:59.020Z"
   },
   {
    "duration": 295,
    "start_time": "2022-02-25T06:15:18.234Z"
   },
   {
    "duration": 18,
    "start_time": "2022-02-25T06:25:53.217Z"
   },
   {
    "duration": 408,
    "start_time": "2022-02-25T06:26:22.006Z"
   },
   {
    "duration": 5,
    "start_time": "2022-02-25T06:26:32.254Z"
   },
   {
    "duration": 18,
    "start_time": "2022-02-25T06:26:38.004Z"
   },
   {
    "duration": 23,
    "start_time": "2022-02-25T06:29:31.846Z"
   },
   {
    "duration": 10,
    "start_time": "2022-02-25T06:29:38.106Z"
   },
   {
    "duration": 13,
    "start_time": "2022-02-25T06:29:43.404Z"
   },
   {
    "duration": 6,
    "start_time": "2022-02-25T06:29:53.651Z"
   },
   {
    "duration": 12,
    "start_time": "2022-02-25T06:29:54.273Z"
   },
   {
    "duration": 6,
    "start_time": "2022-02-25T06:30:08.126Z"
   },
   {
    "duration": 17,
    "start_time": "2022-02-25T06:30:10.303Z"
   },
   {
    "duration": 12,
    "start_time": "2022-02-25T06:30:16.647Z"
   },
   {
    "duration": 735,
    "start_time": "2022-02-25T06:30:50.618Z"
   },
   {
    "duration": 4,
    "start_time": "2022-02-25T06:30:54.916Z"
   },
   {
    "duration": 15,
    "start_time": "2022-02-25T06:31:00.740Z"
   },
   {
    "duration": 6,
    "start_time": "2022-02-25T06:31:05.919Z"
   },
   {
    "duration": 11,
    "start_time": "2022-02-25T06:31:07.016Z"
   },
   {
    "duration": 9,
    "start_time": "2022-02-25T06:32:13.990Z"
   },
   {
    "duration": 346,
    "start_time": "2022-02-25T06:32:28.327Z"
   },
   {
    "duration": 7,
    "start_time": "2022-02-25T06:32:31.737Z"
   },
   {
    "duration": 899,
    "start_time": "2022-02-25T06:34:00.426Z"
   },
   {
    "duration": 4,
    "start_time": "2022-02-25T06:34:06.021Z"
   },
   {
    "duration": 6,
    "start_time": "2022-02-25T06:34:10.885Z"
   },
   {
    "duration": 385,
    "start_time": "2022-02-25T06:35:03.637Z"
   },
   {
    "duration": 6,
    "start_time": "2022-02-25T06:35:08.027Z"
   },
   {
    "duration": 4,
    "start_time": "2022-02-25T06:35:45.078Z"
   },
   {
    "duration": 5,
    "start_time": "2022-02-25T06:35:49.563Z"
   },
   {
    "duration": 6,
    "start_time": "2022-02-25T06:36:00.314Z"
   },
   {
    "duration": 4,
    "start_time": "2022-02-25T06:36:17.222Z"
   },
   {
    "duration": 423,
    "start_time": "2022-02-25T06:36:20.475Z"
   },
   {
    "duration": 5,
    "start_time": "2022-02-25T06:36:26.957Z"
   },
   {
    "duration": 7,
    "start_time": "2022-02-25T06:36:31.210Z"
   },
   {
    "duration": 358,
    "start_time": "2022-02-25T06:37:34.730Z"
   },
   {
    "duration": 5,
    "start_time": "2022-02-25T06:41:38.409Z"
   },
   {
    "duration": 4,
    "start_time": "2022-02-25T06:46:36.873Z"
   },
   {
    "duration": 5,
    "start_time": "2022-02-25T06:46:37.297Z"
   },
   {
    "duration": 5,
    "start_time": "2022-02-25T06:46:37.634Z"
   },
   {
    "duration": 6,
    "start_time": "2022-02-25T06:46:38.168Z"
   },
   {
    "duration": 6,
    "start_time": "2022-02-25T06:46:40.006Z"
   },
   {
    "duration": 5,
    "start_time": "2022-02-25T06:46:52.927Z"
   },
   {
    "duration": 4,
    "start_time": "2022-02-25T06:46:54.064Z"
   },
   {
    "duration": 4,
    "start_time": "2022-02-25T06:46:54.425Z"
   },
   {
    "duration": 6,
    "start_time": "2022-02-25T06:46:54.693Z"
   },
   {
    "duration": 6,
    "start_time": "2022-02-25T06:46:55.395Z"
   },
   {
    "duration": 543,
    "start_time": "2022-02-25T06:51:33.391Z"
   },
   {
    "duration": 5,
    "start_time": "2022-02-25T06:52:37.711Z"
   },
   {
    "duration": 6,
    "start_time": "2022-02-25T06:52:38.373Z"
   },
   {
    "duration": 8,
    "start_time": "2022-02-25T06:52:43.386Z"
   },
   {
    "duration": 3,
    "start_time": "2022-02-25T06:53:01.768Z"
   },
   {
    "duration": 7,
    "start_time": "2022-02-25T06:54:37.747Z"
   },
   {
    "duration": 4,
    "start_time": "2022-02-25T06:54:53.337Z"
   },
   {
    "duration": 8,
    "start_time": "2022-02-25T06:54:58.568Z"
   },
   {
    "duration": 4,
    "start_time": "2022-02-25T06:55:32.072Z"
   },
   {
    "duration": 4,
    "start_time": "2022-02-25T06:55:32.551Z"
   },
   {
    "duration": 4,
    "start_time": "2022-02-25T06:55:37.574Z"
   },
   {
    "duration": 3,
    "start_time": "2022-02-25T06:55:38.093Z"
   },
   {
    "duration": 6,
    "start_time": "2022-02-25T06:55:38.534Z"
   },
   {
    "duration": 6,
    "start_time": "2022-02-25T06:55:45.677Z"
   },
   {
    "duration": 4,
    "start_time": "2022-02-25T06:55:48.492Z"
   },
   {
    "duration": 828,
    "start_time": "2022-02-25T06:55:49.505Z"
   },
   {
    "duration": 4,
    "start_time": "2022-02-25T06:55:59.164Z"
   },
   {
    "duration": 4,
    "start_time": "2022-02-25T06:56:00.112Z"
   },
   {
    "duration": 8,
    "start_time": "2022-02-25T06:56:02.794Z"
   },
   {
    "duration": 4,
    "start_time": "2022-02-25T06:57:20.033Z"
   },
   {
    "duration": 515,
    "start_time": "2022-02-25T06:57:20.484Z"
   },
   {
    "duration": 4,
    "start_time": "2022-02-25T06:57:26.892Z"
   },
   {
    "duration": 4,
    "start_time": "2022-02-25T06:57:28.328Z"
   },
   {
    "duration": 1126,
    "start_time": "2022-02-27T13:14:09.051Z"
   },
   {
    "duration": 16,
    "start_time": "2022-02-27T13:14:10.179Z"
   },
   {
    "duration": 7,
    "start_time": "2022-02-27T13:14:10.197Z"
   },
   {
    "duration": 15,
    "start_time": "2022-02-27T13:14:10.205Z"
   },
   {
    "duration": 7,
    "start_time": "2022-02-27T13:14:10.221Z"
   },
   {
    "duration": 47,
    "start_time": "2022-02-27T13:14:10.230Z"
   },
   {
    "duration": 781,
    "start_time": "2022-02-27T13:14:25.357Z"
   },
   {
    "duration": 192,
    "start_time": "2022-02-27T13:16:15.943Z"
   },
   {
    "duration": 5,
    "start_time": "2022-02-27T13:16:21.666Z"
   },
   {
    "duration": 4,
    "start_time": "2022-02-27T13:16:23.827Z"
   },
   {
    "duration": 12,
    "start_time": "2022-02-27T13:16:24.253Z"
   },
   {
    "duration": 10,
    "start_time": "2022-02-27T13:29:45.830Z"
   },
   {
    "duration": 343,
    "start_time": "2022-02-27T13:30:17.046Z"
   },
   {
    "duration": 268,
    "start_time": "2022-02-27T13:30:22.433Z"
   },
   {
    "duration": 276,
    "start_time": "2022-02-27T13:30:26.461Z"
   },
   {
    "duration": 4,
    "start_time": "2022-02-27T13:30:38.460Z"
   },
   {
    "duration": 12,
    "start_time": "2022-02-27T13:30:43.855Z"
   },
   {
    "duration": 3,
    "start_time": "2022-02-27T13:31:26.966Z"
   },
   {
    "duration": 5,
    "start_time": "2022-02-27T13:39:07.293Z"
   },
   {
    "duration": 5,
    "start_time": "2022-02-27T13:39:29.055Z"
   },
   {
    "duration": 6,
    "start_time": "2022-02-27T13:39:32.210Z"
   },
   {
    "duration": 4,
    "start_time": "2022-02-27T13:39:34.838Z"
   },
   {
    "duration": 4,
    "start_time": "2022-02-27T13:39:36.410Z"
   },
   {
    "duration": 4,
    "start_time": "2022-02-27T13:39:43.625Z"
   },
   {
    "duration": 5,
    "start_time": "2022-02-27T13:39:57.395Z"
   },
   {
    "duration": 3,
    "start_time": "2022-02-27T13:40:21.312Z"
   },
   {
    "duration": 1274,
    "start_time": "2022-02-27T13:40:32.612Z"
   },
   {
    "duration": 546,
    "start_time": "2022-02-27T13:40:42.497Z"
   },
   {
    "duration": 4,
    "start_time": "2022-02-27T13:40:50.640Z"
   },
   {
    "duration": 4,
    "start_time": "2022-02-27T13:41:32.060Z"
   },
   {
    "duration": 2,
    "start_time": "2022-02-27T13:42:31.995Z"
   },
   {
    "duration": 4,
    "start_time": "2022-02-27T13:42:36.861Z"
   },
   {
    "duration": 5,
    "start_time": "2022-02-27T13:42:57.487Z"
   },
   {
    "duration": 3,
    "start_time": "2022-02-27T13:43:27.336Z"
   },
   {
    "duration": 4,
    "start_time": "2022-02-27T13:43:39.282Z"
   },
   {
    "duration": 4,
    "start_time": "2022-02-27T13:43:43.316Z"
   },
   {
    "duration": 3,
    "start_time": "2022-02-27T13:46:50.212Z"
   },
   {
    "duration": 8,
    "start_time": "2022-02-27T13:47:18.990Z"
   },
   {
    "duration": 4,
    "start_time": "2022-02-27T13:47:31.177Z"
   },
   {
    "duration": 4,
    "start_time": "2022-02-27T13:47:36.503Z"
   },
   {
    "duration": 5,
    "start_time": "2022-02-27T13:47:58.311Z"
   },
   {
    "duration": 5,
    "start_time": "2022-02-27T13:48:57.091Z"
   },
   {
    "duration": 6,
    "start_time": "2022-02-27T13:49:07.866Z"
   },
   {
    "duration": 4,
    "start_time": "2022-02-27T13:49:09.470Z"
   },
   {
    "duration": 4,
    "start_time": "2022-02-27T13:49:57.690Z"
   },
   {
    "duration": 7,
    "start_time": "2022-02-27T14:06:41.282Z"
   },
   {
    "duration": 87,
    "start_time": "2022-02-27T14:08:21.584Z"
   },
   {
    "duration": 4,
    "start_time": "2022-02-27T14:08:29.962Z"
   },
   {
    "duration": 11,
    "start_time": "2022-02-27T14:10:24.301Z"
   },
   {
    "duration": 3,
    "start_time": "2022-02-27T14:10:44.685Z"
   },
   {
    "duration": 265,
    "start_time": "2022-02-27T14:11:01.867Z"
   },
   {
    "duration": 9,
    "start_time": "2022-02-27T14:11:59.981Z"
   },
   {
    "duration": 5,
    "start_time": "2022-02-27T14:13:20.226Z"
   },
   {
    "duration": 3,
    "start_time": "2022-02-27T14:13:31.308Z"
   },
   {
    "duration": 5,
    "start_time": "2022-02-27T14:13:31.850Z"
   },
   {
    "duration": 5,
    "start_time": "2022-02-27T14:13:32.430Z"
   },
   {
    "duration": 6,
    "start_time": "2022-02-27T14:14:30.845Z"
   },
   {
    "duration": 3,
    "start_time": "2022-02-27T14:15:54.308Z"
   },
   {
    "duration": 4,
    "start_time": "2022-02-27T14:15:56.733Z"
   },
   {
    "duration": 4,
    "start_time": "2022-02-27T14:16:21.300Z"
   },
   {
    "duration": 3,
    "start_time": "2022-02-27T14:17:37.197Z"
   },
   {
    "duration": 6,
    "start_time": "2022-02-27T14:18:08.717Z"
   },
   {
    "duration": 9,
    "start_time": "2022-02-27T14:18:43.890Z"
   },
   {
    "duration": 7,
    "start_time": "2022-02-27T14:19:01.374Z"
   },
   {
    "duration": 4,
    "start_time": "2022-02-27T14:43:51.930Z"
   },
   {
    "duration": 5,
    "start_time": "2022-02-27T14:44:15.465Z"
   },
   {
    "duration": 4,
    "start_time": "2022-02-27T14:44:29.121Z"
   },
   {
    "duration": 1122,
    "start_time": "2022-02-27T16:58:48.023Z"
   },
   {
    "duration": 38,
    "start_time": "2022-02-27T16:58:49.147Z"
   },
   {
    "duration": 8,
    "start_time": "2022-02-27T16:58:49.187Z"
   },
   {
    "duration": 16,
    "start_time": "2022-02-27T16:58:49.197Z"
   },
   {
    "duration": 9,
    "start_time": "2022-02-27T16:58:49.215Z"
   },
   {
    "duration": 25,
    "start_time": "2022-02-27T16:58:49.226Z"
   },
   {
    "duration": 277,
    "start_time": "2022-02-27T16:58:49.253Z"
   },
   {
    "duration": 4,
    "start_time": "2022-02-27T16:58:49.532Z"
   },
   {
    "duration": 6,
    "start_time": "2022-02-27T16:58:49.539Z"
   },
   {
    "duration": 9,
    "start_time": "2022-02-27T16:58:49.547Z"
   },
   {
    "duration": 6,
    "start_time": "2022-02-27T16:58:49.558Z"
   },
   {
    "duration": 5,
    "start_time": "2022-02-27T16:58:49.566Z"
   },
   {
    "duration": 29,
    "start_time": "2022-02-27T16:58:49.572Z"
   },
   {
    "duration": 4,
    "start_time": "2022-02-27T17:00:37.376Z"
   },
   {
    "duration": 625,
    "start_time": "2022-02-27T17:00:52.232Z"
   },
   {
    "duration": 4,
    "start_time": "2022-02-27T17:01:10.502Z"
   },
   {
    "duration": 4,
    "start_time": "2022-02-27T17:01:10.912Z"
   },
   {
    "duration": 5,
    "start_time": "2022-02-27T17:01:16.059Z"
   },
   {
    "duration": 6,
    "start_time": "2022-02-27T17:01:18.271Z"
   },
   {
    "duration": 9,
    "start_time": "2022-02-27T17:01:28.362Z"
   },
   {
    "duration": 4,
    "start_time": "2022-02-27T17:01:29.460Z"
   },
   {
    "duration": 45,
    "start_time": "2022-02-27T17:01:30.358Z"
   },
   {
    "duration": 4,
    "start_time": "2022-02-27T17:01:31.201Z"
   },
   {
    "duration": 4,
    "start_time": "2022-02-27T17:01:31.952Z"
   },
   {
    "duration": 7,
    "start_time": "2022-02-27T17:01:32.632Z"
   },
   {
    "duration": 11,
    "start_time": "2022-02-27T17:01:33.509Z"
   },
   {
    "duration": 5,
    "start_time": "2022-02-27T17:01:41.973Z"
   },
   {
    "duration": 5,
    "start_time": "2022-02-27T17:01:43.621Z"
   },
   {
    "duration": 78,
    "start_time": "2022-02-28T06:17:15.427Z"
   },
   {
    "duration": 200,
    "start_time": "2022-02-28T18:20:34.485Z"
   },
   {
    "duration": 98,
    "start_time": "2022-02-28T18:20:58.443Z"
   },
   {
    "duration": 87,
    "start_time": "2022-02-28T18:21:05.852Z"
   },
   {
    "duration": 195,
    "start_time": "2022-02-28T18:23:45.291Z"
   },
   {
    "duration": 110,
    "start_time": "2022-05-06T12:13:45.132Z"
   }
  ],
  "kernelspec": {
   "display_name": "Python 3 (ipykernel)",
   "language": "python",
   "name": "python3"
  },
  "language_info": {
   "codemirror_mode": {
    "name": "ipython",
    "version": 3
   },
   "file_extension": ".py",
   "mimetype": "text/x-python",
   "name": "python",
   "nbconvert_exporter": "python",
   "pygments_lexer": "ipython3",
   "version": "3.9.5"
  },
  "toc": {
   "base_numbering": 1,
   "nav_menu": {},
   "number_sections": true,
   "sideBar": true,
   "skip_h1_title": true,
   "title_cell": "Содержание",
   "title_sidebar": "Contents",
   "toc_cell": true,
   "toc_position": {
    "height": "calc(100% - 180px)",
    "left": "10px",
    "top": "150px",
    "width": "255.594px"
   },
   "toc_section_display": true,
   "toc_window_display": true
  }
 },
 "nbformat": 4,
 "nbformat_minor": 2
}
