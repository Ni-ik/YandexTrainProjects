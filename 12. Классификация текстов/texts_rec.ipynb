{
 "cells": [
  {
   "cell_type": "markdown",
   "metadata": {},
   "source": [
    "# Проект для «Викишоп»"
   ]
  },
  {
   "cell_type": "markdown",
   "metadata": {},
   "source": [
    "## Введение и постановка задачи"
   ]
  },
  {
   "cell_type": "markdown",
   "metadata": {},
   "source": [
    "Интернет-магазин «Викишоп» запускает новый сервис. Теперь пользователи могут редактировать и дополнять описания товаров, как в вики-сообществах. То есть клиенты предлагают свои правки и комментируют изменения других. Магазину нужен инструмент, который будет искать токсичные комментарии и отправлять их на модерацию. \n",
    "\n",
    "Обучите модель классифицировать комментарии на позитивные и негативные. В вашем распоряжении набор данных с разметкой о токсичности правок.\n",
    "\n",
    "Постройте модель со значением метрики качества *F1* не меньше 0.75. \n",
    "\n",
    "**Инструкция по выполнению проекта**\n",
    "\n",
    "1. Загрузите и подготовьте данные.\n",
    "2. Обучите разные модели. \n",
    "3. Сделайте выводы.\n",
    "\n",
    "Для выполнения проекта применять *BERT* необязательно, но вы можете попробовать.\n",
    "\n",
    "**Описание данных**\n",
    "\n",
    "Данные находятся в файле `toxic_comments.csv`. Столбец *text* в нём содержит текст комментария, а *toxic* — целевой признак."
   ]
  },
  {
   "cell_type": "markdown",
   "metadata": {},
   "source": [
    "**Задача проекта**\n",
    "\n",
    "Разработать модель, которая сможет классифицировать комментарии на позитивные и негативные. Значение метрики качества F1 должно быть не меньше 0.75.\n",
    "\n",
    "\n",
    "**Цели проекта**\n",
    "\n",
    "Для достижения поставленной цели потребуется:\n",
    "1. Подготовить данные для обучения\n",
    "2. Выделить признаки\n",
    "3. Провести лемматизацию\n",
    "4. Провести векторизацию\n",
    "5. Обучить несколько моделей\n",
    "6. Сравнить обученные модели и выбрать наилучшую\n",
    "7. Сделать выводы."
   ]
  },
  {
   "cell_type": "markdown",
   "metadata": {},
   "source": [
    "## Подготовка"
   ]
  },
  {
   "cell_type": "markdown",
   "metadata": {},
   "source": [
    "Импортируем необходимые библиотеки"
   ]
  },
  {
   "cell_type": "code",
   "execution_count": 233,
   "metadata": {
    "scrolled": true
   },
   "outputs": [],
   "source": [
    "import pandas as pd\n",
    "import numpy as np\n",
    "import re\n",
    "from sklearn.model_selection import train_test_split, GridSearchCV, cross_val_score\n",
    "from sklearn.feature_extraction.text import TfidfVectorizer \n",
    "from sklearn.linear_model import LogisticRegression\n",
    "from sklearn.ensemble import RandomForestClassifier\n",
    "from sklearn.metrics import f1_score, roc_curve\n",
    "from tqdm import notebook\n",
    "from tqdm.notebook import tqdm\n",
    "tqdm.pandas()\n",
    "from pymystem3 import Mystem\n",
    "import nltk\n",
    "from nltk.corpus import stopwords as nltk_stopwords\n",
    "from catboost import CatBoostClassifier\n",
    "from sklearn.utils.class_weight import compute_class_weight\n",
    "import joblib"
   ]
  },
  {
   "cell_type": "markdown",
   "metadata": {},
   "source": [
    "Прочитаем файл, предварительно скопировав его в каталог с тетрадкой."
   ]
  },
  {
   "cell_type": "code",
   "execution_count": 2,
   "metadata": {},
   "outputs": [],
   "source": [
    "df = pd.read_csv('/datasets/toxic_comments.csv')"
   ]
  },
  {
   "cell_type": "markdown",
   "metadata": {},
   "source": [
    "Выведем информацию о таблице"
   ]
  },
  {
   "cell_type": "code",
   "execution_count": 3,
   "metadata": {
    "scrolled": false
   },
   "outputs": [
    {
     "name": "stdout",
     "output_type": "stream",
     "text": [
      "<class 'pandas.core.frame.DataFrame'>\n",
      "RangeIndex: 159571 entries, 0 to 159570\n",
      "Data columns (total 2 columns):\n",
      " #   Column  Non-Null Count   Dtype \n",
      "---  ------  --------------   ----- \n",
      " 0   text    159571 non-null  object\n",
      " 1   toxic   159571 non-null  int64 \n",
      "dtypes: int64(1), object(1)\n",
      "memory usage: 2.4+ MB\n"
     ]
    }
   ],
   "source": [
    "df.info()"
   ]
  },
  {
   "cell_type": "markdown",
   "metadata": {},
   "source": [
    "В таблице 159571 записей без пропусков. В столбце `text` сам комментарий, в столбце `toxic` - оценка коментария - целевой признак. Выведем первые строки."
   ]
  },
  {
   "cell_type": "code",
   "execution_count": 4,
   "metadata": {
    "scrolled": false
   },
   "outputs": [
    {
     "data": {
      "text/html": [
       "<div>\n",
       "<style scoped>\n",
       "    .dataframe tbody tr th:only-of-type {\n",
       "        vertical-align: middle;\n",
       "    }\n",
       "\n",
       "    .dataframe tbody tr th {\n",
       "        vertical-align: top;\n",
       "    }\n",
       "\n",
       "    .dataframe thead th {\n",
       "        text-align: right;\n",
       "    }\n",
       "</style>\n",
       "<table border=\"1\" class=\"dataframe\">\n",
       "  <thead>\n",
       "    <tr style=\"text-align: right;\">\n",
       "      <th></th>\n",
       "      <th>text</th>\n",
       "      <th>toxic</th>\n",
       "    </tr>\n",
       "  </thead>\n",
       "  <tbody>\n",
       "    <tr>\n",
       "      <th>0</th>\n",
       "      <td>Explanation\\nWhy the edits made under my usern...</td>\n",
       "      <td>0</td>\n",
       "    </tr>\n",
       "    <tr>\n",
       "      <th>1</th>\n",
       "      <td>D'aww! He matches this background colour I'm s...</td>\n",
       "      <td>0</td>\n",
       "    </tr>\n",
       "    <tr>\n",
       "      <th>2</th>\n",
       "      <td>Hey man, I'm really not trying to edit war. It...</td>\n",
       "      <td>0</td>\n",
       "    </tr>\n",
       "    <tr>\n",
       "      <th>3</th>\n",
       "      <td>\"\\nMore\\nI can't make any real suggestions on ...</td>\n",
       "      <td>0</td>\n",
       "    </tr>\n",
       "    <tr>\n",
       "      <th>4</th>\n",
       "      <td>You, sir, are my hero. Any chance you remember...</td>\n",
       "      <td>0</td>\n",
       "    </tr>\n",
       "  </tbody>\n",
       "</table>\n",
       "</div>"
      ],
      "text/plain": [
       "                                                text  toxic\n",
       "0  Explanation\\nWhy the edits made under my usern...      0\n",
       "1  D'aww! He matches this background colour I'm s...      0\n",
       "2  Hey man, I'm really not trying to edit war. It...      0\n",
       "3  \"\\nMore\\nI can't make any real suggestions on ...      0\n",
       "4  You, sir, are my hero. Any chance you remember...      0"
      ]
     },
     "execution_count": 4,
     "metadata": {},
     "output_type": "execute_result"
    }
   ],
   "source": [
    "df.head()"
   ]
  },
  {
   "cell_type": "markdown",
   "metadata": {},
   "source": [
    "Переведём текст в нижний регистр"
   ]
  },
  {
   "cell_type": "code",
   "execution_count": 3,
   "metadata": {},
   "outputs": [],
   "source": [
    "df['text'] = df['text'].str.lower()"
   ]
  },
  {
   "cell_type": "markdown",
   "metadata": {},
   "source": [
    "Все не буквенные символы заменим пробелами"
   ]
  },
  {
   "cell_type": "code",
   "execution_count": 4,
   "metadata": {},
   "outputs": [],
   "source": [
    "df['text'] = df['text'].apply(lambda x: ' '.join(re.sub(r'[^a-zA-Z ]', ' ', x).split()))"
   ]
  },
  {
   "cell_type": "markdown",
   "metadata": {},
   "source": [
    "Проверим на дубликаты"
   ]
  },
  {
   "cell_type": "code",
   "execution_count": 5,
   "metadata": {},
   "outputs": [
    {
     "data": {
      "text/plain": [
       "1293"
      ]
     },
     "execution_count": 5,
     "metadata": {},
     "output_type": "execute_result"
    }
   ],
   "source": [
    "df.duplicated().sum()"
   ]
  },
  {
   "cell_type": "code",
   "execution_count": 6,
   "metadata": {},
   "outputs": [
    {
     "data": {
      "text/plain": [
       "1321"
      ]
     },
     "execution_count": 6,
     "metadata": {},
     "output_type": "execute_result"
    }
   ],
   "source": [
    "df['text'].duplicated().sum()"
   ]
  },
  {
   "cell_type": "markdown",
   "metadata": {},
   "source": [
    "Любопытно. Разность дубликатов во всём фрейме и в столбце `text` может говорить о том, что одинаковые комментарии признаются как токсичными, так и не токсичными. Таких комментариев 28. Возможно в этом есть какой-то смысл. Удалим те комментарии, которые полностью дублируются."
   ]
  },
  {
   "cell_type": "code",
   "execution_count": 7,
   "metadata": {},
   "outputs": [],
   "source": [
    "df = df.drop_duplicates().reset_index(drop = True)"
   ]
  },
  {
   "cell_type": "markdown",
   "metadata": {},
   "source": [
    "Проверим баланс классов"
   ]
  },
  {
   "cell_type": "code",
   "execution_count": 8,
   "metadata": {
    "scrolled": false
   },
   "outputs": [
    {
     "data": {
      "text/plain": [
       "0    0.898261\n",
       "1    0.101739\n",
       "Name: toxic, dtype: float64"
      ]
     },
     "execution_count": 8,
     "metadata": {},
     "output_type": "execute_result"
    }
   ],
   "source": [
    "df['toxic'].value_counts(normalize=True)"
   ]
  },
  {
   "cell_type": "markdown",
   "metadata": {},
   "source": [
    "Видно, что токсичных комментариев только 10%. Надо это учесть при обучении модели."
   ]
  },
  {
   "cell_type": "markdown",
   "metadata": {},
   "source": [
    "### Выводы\n",
    "Файл открылся без проблем. Столбцы соответствуют заявленным. Пропусков нет. Дубликаты удалили. Наблюдается дисбаланс классов."
   ]
  },
  {
   "cell_type": "markdown",
   "metadata": {},
   "source": [
    "## Обучение"
   ]
  },
  {
   "cell_type": "markdown",
   "metadata": {},
   "source": [
    "### Выделение признаков"
   ]
  },
  {
   "cell_type": "markdown",
   "metadata": {},
   "source": [
    "Сначала обозначим признаки и таргет"
   ]
  },
  {
   "cell_type": "code",
   "execution_count": 9,
   "metadata": {},
   "outputs": [],
   "source": [
    "X = df.copy()"
   ]
  },
  {
   "cell_type": "code",
   "execution_count": 10,
   "metadata": {},
   "outputs": [],
   "source": [
    "y = X.pop('toxic')"
   ]
  },
  {
   "cell_type": "markdown",
   "metadata": {},
   "source": [
    "### Лемматизация"
   ]
  },
  {
   "cell_type": "code",
   "execution_count": 14,
   "metadata": {},
   "outputs": [],
   "source": [
    "m = Mystem()"
   ]
  },
  {
   "cell_type": "markdown",
   "metadata": {},
   "source": [
    "Проведём лемматизацию текста с использованием прогресс-бара"
   ]
  },
  {
   "cell_type": "code",
   "execution_count": 15,
   "metadata": {
    "scrolled": true
   },
   "outputs": [
    {
     "data": {
      "application/vnd.jupyter.widget-view+json": {
       "model_id": "7fc30047f6c445ca85a991c41fb70e2c",
       "version_major": 2,
       "version_minor": 0
      },
      "text/plain": [
       "  0%|          | 0/158278 [00:00<?, ?it/s]"
      ]
     },
     "metadata": {},
     "output_type": "display_data"
    }
   ],
   "source": [
    "lemmatized = X['text'].progress_apply(lambda x: m.lemmatize(x))"
   ]
  },
  {
   "cell_type": "markdown",
   "metadata": {},
   "source": [
    "Из списка переведём текст в строку "
   ]
  },
  {
   "cell_type": "code",
   "execution_count": 16,
   "metadata": {},
   "outputs": [
    {
     "data": {
      "application/vnd.jupyter.widget-view+json": {
       "model_id": "92c6166715864214bf94836eef555149",
       "version_major": 2,
       "version_minor": 0
      },
      "text/plain": [
       "  0%|          | 0/158278 [00:00<?, ?it/s]"
      ]
     },
     "metadata": {},
     "output_type": "display_data"
    }
   ],
   "source": [
    "joined = lemmatized.progress_apply(lambda x: ''.join(x))"
   ]
  },
  {
   "cell_type": "markdown",
   "metadata": {},
   "source": [
    "Загрузим стоп-слова для английского языка"
   ]
  },
  {
   "cell_type": "code",
   "execution_count": null,
   "metadata": {
    "scrolled": true
   },
   "outputs": [],
   "source": [
    "nltk.download('stopwords')"
   ]
  },
  {
   "cell_type": "code",
   "execution_count": 234,
   "metadata": {},
   "outputs": [],
   "source": [
    "stopwords = set(nltk_stopwords.words('english'))"
   ]
  },
  {
   "cell_type": "markdown",
   "metadata": {},
   "source": [
    "### Векторизация текста"
   ]
  },
  {
   "cell_type": "markdown",
   "metadata": {},
   "source": [
    "Для векторизации используем значение TF-IDF. Воспользуемся `TfidfVectorizer` библиотеки `sklearn`."
   ]
  },
  {
   "cell_type": "code",
   "execution_count": 18,
   "metadata": {},
   "outputs": [],
   "source": [
    "count_tf_idf = TfidfVectorizer(stop_words=stopwords) "
   ]
  },
  {
   "cell_type": "markdown",
   "metadata": {},
   "source": [
    "Разделим объединённые признаки в `joined` и `y` на тренировочную и тестовую выборки"
   ]
  },
  {
   "cell_type": "code",
   "execution_count": 18,
   "metadata": {},
   "outputs": [],
   "source": [
    "X_train, X_test, y_train, y_test = train_test_split(joined, y, test_size = 0.2, random_state = 42)"
   ]
  },
  {
   "cell_type": "code",
   "execution_count": 19,
   "metadata": {
    "scrolled": false
   },
   "outputs": [
    {
     "data": {
      "text/plain": [
       "(126622, 31656, 126622, 31656)"
      ]
     },
     "execution_count": 19,
     "metadata": {},
     "output_type": "execute_result"
    }
   ],
   "source": [
    "len(X_train), len(X_test), len(y_train), len(y_test)"
   ]
  },
  {
   "cell_type": "markdown",
   "metadata": {},
   "source": [
    "Проведём обучение на тренировочном наборе"
   ]
  },
  {
   "cell_type": "code",
   "execution_count": 21,
   "metadata": {
    "scrolled": true
   },
   "outputs": [
    {
     "data": {
      "text/plain": [
       "TfidfVectorizer(stop_words={'a', 'about', 'above', 'after', 'again', 'against',\n",
       "                            'ain', 'all', 'am', 'an', 'and', 'any', 'are',\n",
       "                            'aren', \"aren't\", 'as', 'at', 'be', 'because',\n",
       "                            'been', 'before', 'being', 'below', 'between',\n",
       "                            'both', 'but', 'by', 'can', 'couldn', \"couldn't\", ...})"
      ]
     },
     "execution_count": 21,
     "metadata": {},
     "output_type": "execute_result"
    }
   ],
   "source": [
    "count_tf_idf.fit(X_train)"
   ]
  },
  {
   "cell_type": "markdown",
   "metadata": {},
   "source": [
    "Трансформируем пренировочные признаки"
   ]
  },
  {
   "cell_type": "code",
   "execution_count": 33,
   "metadata": {},
   "outputs": [],
   "source": [
    "X_train_t = count_tf_idf.transform(X_train)"
   ]
  },
  {
   "cell_type": "markdown",
   "metadata": {},
   "source": [
    "Посмотрим на размеры"
   ]
  },
  {
   "cell_type": "code",
   "execution_count": 34,
   "metadata": {},
   "outputs": [
    {
     "data": {
      "text/plain": [
       "(126622, 148069)"
      ]
     },
     "execution_count": 34,
     "metadata": {},
     "output_type": "execute_result"
    }
   ],
   "source": [
    "X_train_t.shape"
   ]
  },
  {
   "cell_type": "markdown",
   "metadata": {},
   "source": [
    "Признаки подготовлены. Далее проведём обучение моделей:\n",
    "- Логистическая регрессия\n",
    "- Случайный лес\n",
    "- CatBostClassifier"
   ]
  },
  {
   "cell_type": "code",
   "execution_count": 11,
   "metadata": {},
   "outputs": [],
   "source": [
    "models_name = ['LogisticRegression', 'RandomForest', 'CatBoost']"
   ]
  },
  {
   "cell_type": "markdown",
   "metadata": {},
   "source": [
    "Сами модели запишем отдельно"
   ]
  },
  {
   "cell_type": "code",
   "execution_count": 60,
   "metadata": {},
   "outputs": [],
   "source": [
    "models = []"
   ]
  },
  {
   "cell_type": "markdown",
   "metadata": {},
   "source": [
    "Результаты обучения также будем записывать, для итоговой статистики"
   ]
  },
  {
   "cell_type": "code",
   "execution_count": 61,
   "metadata": {},
   "outputs": [],
   "source": [
    "f1_score_train = []"
   ]
  },
  {
   "cell_type": "code",
   "execution_count": 77,
   "metadata": {},
   "outputs": [],
   "source": [
    "f1_score_test = []"
   ]
  },
  {
   "cell_type": "markdown",
   "metadata": {},
   "source": [
    "### Логистическая регресиия"
   ]
  },
  {
   "cell_type": "markdown",
   "metadata": {},
   "source": [
    "Создадим модель, учтём, что классы необходимо отбалансировать"
   ]
  },
  {
   "cell_type": "code",
   "execution_count": 23,
   "metadata": {},
   "outputs": [],
   "source": [
    "log_model = LogisticRegression(class_weight = 'balanced')"
   ]
  },
  {
   "cell_type": "markdown",
   "metadata": {},
   "source": [
    "Зададим несколько параметров для перебора"
   ]
  },
  {
   "cell_type": "code",
   "execution_count": 33,
   "metadata": {},
   "outputs": [],
   "source": [
    "log_param = {'fit_intercept':[True, False]}"
   ]
  },
  {
   "cell_type": "markdown",
   "metadata": {},
   "source": [
    "Параметры будем перебирать по сетке"
   ]
  },
  {
   "cell_type": "code",
   "execution_count": 34,
   "metadata": {},
   "outputs": [],
   "source": [
    "log_search = GridSearchCV(log_model, param_grid = log_param, scoring = 'f1', cv=5, verbose=1)"
   ]
  },
  {
   "cell_type": "markdown",
   "metadata": {},
   "source": [
    "Запустим"
   ]
  },
  {
   "cell_type": "code",
   "execution_count": 35,
   "metadata": {
    "scrolled": true
   },
   "outputs": [
    {
     "name": "stdout",
     "output_type": "stream",
     "text": [
      "Fitting 5 folds for each of 2 candidates, totalling 10 fits\n"
     ]
    },
    {
     "name": "stderr",
     "output_type": "stream",
     "text": [
      "/opt/conda/lib/python3.9/site-packages/sklearn/linear_model/_logistic.py:763: ConvergenceWarning: lbfgs failed to converge (status=1):\n",
      "STOP: TOTAL NO. of ITERATIONS REACHED LIMIT.\n",
      "\n",
      "Increase the number of iterations (max_iter) or scale the data as shown in:\n",
      "    https://scikit-learn.org/stable/modules/preprocessing.html\n",
      "Please also refer to the documentation for alternative solver options:\n",
      "    https://scikit-learn.org/stable/modules/linear_model.html#logistic-regression\n",
      "  n_iter_i = _check_optimize_result(\n",
      "/opt/conda/lib/python3.9/site-packages/sklearn/linear_model/_logistic.py:763: ConvergenceWarning: lbfgs failed to converge (status=1):\n",
      "STOP: TOTAL NO. of ITERATIONS REACHED LIMIT.\n",
      "\n",
      "Increase the number of iterations (max_iter) or scale the data as shown in:\n",
      "    https://scikit-learn.org/stable/modules/preprocessing.html\n",
      "Please also refer to the documentation for alternative solver options:\n",
      "    https://scikit-learn.org/stable/modules/linear_model.html#logistic-regression\n",
      "  n_iter_i = _check_optimize_result(\n",
      "/opt/conda/lib/python3.9/site-packages/sklearn/linear_model/_logistic.py:763: ConvergenceWarning: lbfgs failed to converge (status=1):\n",
      "STOP: TOTAL NO. of ITERATIONS REACHED LIMIT.\n",
      "\n",
      "Increase the number of iterations (max_iter) or scale the data as shown in:\n",
      "    https://scikit-learn.org/stable/modules/preprocessing.html\n",
      "Please also refer to the documentation for alternative solver options:\n",
      "    https://scikit-learn.org/stable/modules/linear_model.html#logistic-regression\n",
      "  n_iter_i = _check_optimize_result(\n",
      "/opt/conda/lib/python3.9/site-packages/sklearn/linear_model/_logistic.py:763: ConvergenceWarning: lbfgs failed to converge (status=1):\n",
      "STOP: TOTAL NO. of ITERATIONS REACHED LIMIT.\n",
      "\n",
      "Increase the number of iterations (max_iter) or scale the data as shown in:\n",
      "    https://scikit-learn.org/stable/modules/preprocessing.html\n",
      "Please also refer to the documentation for alternative solver options:\n",
      "    https://scikit-learn.org/stable/modules/linear_model.html#logistic-regression\n",
      "  n_iter_i = _check_optimize_result(\n"
     ]
    },
    {
     "data": {
      "text/plain": [
       "GridSearchCV(cv=5, estimator=LogisticRegression(class_weight='balanced'),\n",
       "             param_grid={'fit_intercept': [True, False]}, scoring='f1',\n",
       "             verbose=1)"
      ]
     },
     "execution_count": 35,
     "metadata": {},
     "output_type": "execute_result"
    }
   ],
   "source": [
    "log_search.fit(X_train_t, y_train)"
   ]
  },
  {
   "cell_type": "markdown",
   "metadata": {},
   "source": [
    "Выведем результаты"
   ]
  },
  {
   "cell_type": "code",
   "execution_count": 37,
   "metadata": {
    "scrolled": true
   },
   "outputs": [
    {
     "data": {
      "text/html": [
       "<div>\n",
       "<style scoped>\n",
       "    .dataframe tbody tr th:only-of-type {\n",
       "        vertical-align: middle;\n",
       "    }\n",
       "\n",
       "    .dataframe tbody tr th {\n",
       "        vertical-align: top;\n",
       "    }\n",
       "\n",
       "    .dataframe thead th {\n",
       "        text-align: right;\n",
       "    }\n",
       "</style>\n",
       "<table border=\"1\" class=\"dataframe\">\n",
       "  <thead>\n",
       "    <tr style=\"text-align: right;\">\n",
       "      <th></th>\n",
       "      <th>mean_fit_time</th>\n",
       "      <th>std_fit_time</th>\n",
       "      <th>mean_score_time</th>\n",
       "      <th>std_score_time</th>\n",
       "      <th>param_fit_intercept</th>\n",
       "      <th>params</th>\n",
       "      <th>split0_test_score</th>\n",
       "      <th>split1_test_score</th>\n",
       "      <th>split2_test_score</th>\n",
       "      <th>split3_test_score</th>\n",
       "      <th>split4_test_score</th>\n",
       "      <th>mean_test_score</th>\n",
       "      <th>std_test_score</th>\n",
       "      <th>rank_test_score</th>\n",
       "    </tr>\n",
       "  </thead>\n",
       "  <tbody>\n",
       "    <tr>\n",
       "      <th>0</th>\n",
       "      <td>61.995493</td>\n",
       "      <td>9.115324</td>\n",
       "      <td>0.132740</td>\n",
       "      <td>0.036615</td>\n",
       "      <td>True</td>\n",
       "      <td>{'fit_intercept': True}</td>\n",
       "      <td>0.754167</td>\n",
       "      <td>0.746107</td>\n",
       "      <td>0.749472</td>\n",
       "      <td>0.755002</td>\n",
       "      <td>0.753797</td>\n",
       "      <td>0.751709</td>\n",
       "      <td>0.003395</td>\n",
       "      <td>1</td>\n",
       "    </tr>\n",
       "    <tr>\n",
       "      <th>1</th>\n",
       "      <td>21.098064</td>\n",
       "      <td>0.869021</td>\n",
       "      <td>0.100295</td>\n",
       "      <td>0.055210</td>\n",
       "      <td>False</td>\n",
       "      <td>{'fit_intercept': False}</td>\n",
       "      <td>0.706883</td>\n",
       "      <td>0.706927</td>\n",
       "      <td>0.706558</td>\n",
       "      <td>0.716136</td>\n",
       "      <td>0.712145</td>\n",
       "      <td>0.709730</td>\n",
       "      <td>0.003818</td>\n",
       "      <td>2</td>\n",
       "    </tr>\n",
       "  </tbody>\n",
       "</table>\n",
       "</div>"
      ],
      "text/plain": [
       "   mean_fit_time  std_fit_time  mean_score_time  std_score_time  \\\n",
       "0      61.995493      9.115324         0.132740        0.036615   \n",
       "1      21.098064      0.869021         0.100295        0.055210   \n",
       "\n",
       "  param_fit_intercept                    params  split0_test_score  \\\n",
       "0                True   {'fit_intercept': True}           0.754167   \n",
       "1               False  {'fit_intercept': False}           0.706883   \n",
       "\n",
       "   split1_test_score  split2_test_score  split3_test_score  split4_test_score  \\\n",
       "0           0.746107           0.749472           0.755002           0.753797   \n",
       "1           0.706927           0.706558           0.716136           0.712145   \n",
       "\n",
       "   mean_test_score  std_test_score  rank_test_score  \n",
       "0         0.751709        0.003395                1  \n",
       "1         0.709730        0.003818                2  "
      ]
     },
     "execution_count": 37,
     "metadata": {},
     "output_type": "execute_result"
    }
   ],
   "source": [
    "pd.DataFrame(log_search.cv_results_)"
   ]
  },
  {
   "cell_type": "markdown",
   "metadata": {},
   "source": [
    "Видим, что лучший результат показала модель с `'fit_intercept'= True`, хоть время обучения и больше. Метрика чуть больше 0.75, что в принципе нас устраивает. Будем использовать эту модель"
   ]
  },
  {
   "cell_type": "code",
   "execution_count": 38,
   "metadata": {
    "scrolled": true
   },
   "outputs": [],
   "source": [
    "log_model = log_search.best_estimator_"
   ]
  },
  {
   "cell_type": "markdown",
   "metadata": {},
   "source": [
    "Запишем модель"
   ]
  },
  {
   "cell_type": "code",
   "execution_count": 64,
   "metadata": {},
   "outputs": [],
   "source": [
    "models.append(log_model)"
   ]
  },
  {
   "cell_type": "markdown",
   "metadata": {},
   "source": [
    "Получим значение метрики на всём тренировочном датасете"
   ]
  },
  {
   "cell_type": "code",
   "execution_count": 65,
   "metadata": {},
   "outputs": [
    {
     "data": {
      "text/plain": [
       "0.8405963302752294"
      ]
     },
     "execution_count": 65,
     "metadata": {},
     "output_type": "execute_result"
    }
   ],
   "source": [
    "f1_score(y_train, log_model.predict(X_train_t))"
   ]
  },
  {
   "cell_type": "code",
   "execution_count": 66,
   "metadata": {
    "scrolled": true
   },
   "outputs": [],
   "source": [
    "f1_score_train.append(f1_score(y_train, log_model.predict(X_train_t)))"
   ]
  },
  {
   "cell_type": "markdown",
   "metadata": {},
   "source": [
    "### Случайный лес"
   ]
  },
  {
   "cell_type": "markdown",
   "metadata": {},
   "source": [
    "Следующей моделью используем случайны лес. Ограничим к-во деревьев для ускорения расчёта"
   ]
  },
  {
   "cell_type": "code",
   "execution_count": 35,
   "metadata": {},
   "outputs": [],
   "source": [
    "forest_model = RandomForestClassifier(random_state=42, class_weight = 'balanced')"
   ]
  },
  {
   "cell_type": "markdown",
   "metadata": {},
   "source": [
    "Зададим параметры "
   ]
  },
  {
   "cell_type": "code",
   "execution_count": 36,
   "metadata": {},
   "outputs": [],
   "source": [
    "forest_params = {'n_estimators':[10,20]} "
   ]
  },
  {
   "cell_type": "markdown",
   "metadata": {},
   "source": [
    "Поиск по гриду"
   ]
  },
  {
   "cell_type": "code",
   "execution_count": 37,
   "metadata": {},
   "outputs": [],
   "source": [
    "forest_search = GridSearchCV(forest_model, param_grid = forest_params, scoring = 'f1', cv=5, verbose=1)"
   ]
  },
  {
   "cell_type": "code",
   "execution_count": 38,
   "metadata": {},
   "outputs": [
    {
     "name": "stdout",
     "output_type": "stream",
     "text": [
      "Fitting 5 folds for each of 2 candidates, totalling 10 fits\n"
     ]
    },
    {
     "data": {
      "text/plain": [
       "GridSearchCV(cv=5,\n",
       "             estimator=RandomForestClassifier(class_weight='balanced',\n",
       "                                              random_state=42),\n",
       "             param_grid={'n_estimators': [10, 20]}, scoring='f1', verbose=1)"
      ]
     },
     "execution_count": 38,
     "metadata": {},
     "output_type": "execute_result"
    }
   ],
   "source": [
    "forest_search.fit(X_train_t, y_train)"
   ]
  },
  {
   "cell_type": "markdown",
   "metadata": {},
   "source": [
    "Выведем результат"
   ]
  },
  {
   "cell_type": "code",
   "execution_count": 39,
   "metadata": {
    "scrolled": false
   },
   "outputs": [
    {
     "data": {
      "text/html": [
       "<div>\n",
       "<style scoped>\n",
       "    .dataframe tbody tr th:only-of-type {\n",
       "        vertical-align: middle;\n",
       "    }\n",
       "\n",
       "    .dataframe tbody tr th {\n",
       "        vertical-align: top;\n",
       "    }\n",
       "\n",
       "    .dataframe thead th {\n",
       "        text-align: right;\n",
       "    }\n",
       "</style>\n",
       "<table border=\"1\" class=\"dataframe\">\n",
       "  <thead>\n",
       "    <tr style=\"text-align: right;\">\n",
       "      <th></th>\n",
       "      <th>mean_fit_time</th>\n",
       "      <th>std_fit_time</th>\n",
       "      <th>mean_score_time</th>\n",
       "      <th>std_score_time</th>\n",
       "      <th>param_n_estimators</th>\n",
       "      <th>params</th>\n",
       "      <th>split0_test_score</th>\n",
       "      <th>split1_test_score</th>\n",
       "      <th>split2_test_score</th>\n",
       "      <th>split3_test_score</th>\n",
       "      <th>split4_test_score</th>\n",
       "      <th>mean_test_score</th>\n",
       "      <th>std_test_score</th>\n",
       "      <th>rank_test_score</th>\n",
       "    </tr>\n",
       "  </thead>\n",
       "  <tbody>\n",
       "    <tr>\n",
       "      <th>0</th>\n",
       "      <td>84.250841</td>\n",
       "      <td>0.783575</td>\n",
       "      <td>0.291079</td>\n",
       "      <td>0.002867</td>\n",
       "      <td>10</td>\n",
       "      <td>{'n_estimators': 10}</td>\n",
       "      <td>0.600157</td>\n",
       "      <td>0.594580</td>\n",
       "      <td>0.593985</td>\n",
       "      <td>0.594499</td>\n",
       "      <td>0.577755</td>\n",
       "      <td>0.592195</td>\n",
       "      <td>0.007564</td>\n",
       "      <td>2</td>\n",
       "    </tr>\n",
       "    <tr>\n",
       "      <th>1</th>\n",
       "      <td>173.110507</td>\n",
       "      <td>1.672615</td>\n",
       "      <td>0.575899</td>\n",
       "      <td>0.013353</td>\n",
       "      <td>20</td>\n",
       "      <td>{'n_estimators': 20}</td>\n",
       "      <td>0.616701</td>\n",
       "      <td>0.615946</td>\n",
       "      <td>0.612204</td>\n",
       "      <td>0.622049</td>\n",
       "      <td>0.613237</td>\n",
       "      <td>0.616027</td>\n",
       "      <td>0.003439</td>\n",
       "      <td>1</td>\n",
       "    </tr>\n",
       "  </tbody>\n",
       "</table>\n",
       "</div>"
      ],
      "text/plain": [
       "   mean_fit_time  std_fit_time  mean_score_time  std_score_time  \\\n",
       "0      84.250841      0.783575         0.291079        0.002867   \n",
       "1     173.110507      1.672615         0.575899        0.013353   \n",
       "\n",
       "  param_n_estimators                params  split0_test_score  \\\n",
       "0                 10  {'n_estimators': 10}           0.600157   \n",
       "1                 20  {'n_estimators': 20}           0.616701   \n",
       "\n",
       "   split1_test_score  split2_test_score  split3_test_score  split4_test_score  \\\n",
       "0           0.594580           0.593985           0.594499           0.577755   \n",
       "1           0.615946           0.612204           0.622049           0.613237   \n",
       "\n",
       "   mean_test_score  std_test_score  rank_test_score  \n",
       "0         0.592195        0.007564                2  \n",
       "1         0.616027        0.003439                1  "
      ]
     },
     "execution_count": 39,
     "metadata": {},
     "output_type": "execute_result"
    }
   ],
   "source": [
    "pd.DataFrame(forest_search.cv_results_)"
   ]
  },
  {
   "cell_type": "markdown",
   "metadata": {},
   "source": [
    "Результат хучше, чем для регресии. Вероятно слишком мало деревьев."
   ]
  },
  {
   "cell_type": "code",
   "execution_count": 40,
   "metadata": {},
   "outputs": [],
   "source": [
    "forest_model = forest_search.best_estimator_"
   ]
  },
  {
   "cell_type": "markdown",
   "metadata": {},
   "source": [
    "Запишем модель"
   ]
  },
  {
   "cell_type": "code",
   "execution_count": 67,
   "metadata": {},
   "outputs": [],
   "source": [
    "models.append(forest_model)"
   ]
  },
  {
   "cell_type": "markdown",
   "metadata": {},
   "source": [
    "Получим значение метрики на всём тренировочном датасет"
   ]
  },
  {
   "cell_type": "code",
   "execution_count": 68,
   "metadata": {},
   "outputs": [],
   "source": [
    "f1_score_train.append(f1_score(y_train, forest_model.predict(X_train_t)))"
   ]
  },
  {
   "cell_type": "code",
   "execution_count": 43,
   "metadata": {},
   "outputs": [
    {
     "data": {
      "text/plain": [
       "0.9880812357876577"
      ]
     },
     "execution_count": 43,
     "metadata": {},
     "output_type": "execute_result"
    }
   ],
   "source": [
    "f1_score(y_train, forest_model.predict(X_train_t))"
   ]
  },
  {
   "cell_type": "markdown",
   "metadata": {},
   "source": [
    "### CatBoostClassifier"
   ]
  },
  {
   "cell_type": "markdown",
   "metadata": {},
   "source": [
    "Несмотря на то, что у модели есть возможность работать с текстом напрямую, проведём поиск на подготовленных признаках, и удем использовать параметры поиска аналогичный лесу. Предварительно определим веса классов для балансировки"
   ]
  },
  {
   "cell_type": "code",
   "execution_count": 47,
   "metadata": {},
   "outputs": [],
   "source": [
    "classes = np.unique(y_train)\n",
    "weights = compute_class_weight(class_weight='balanced', classes=classes, y=y_train)\n",
    "class_weights = dict(zip(classes, weights))"
   ]
  },
  {
   "cell_type": "code",
   "execution_count": 48,
   "metadata": {
    "scrolled": true
   },
   "outputs": [
    {
     "data": {
      "text/plain": [
       "{0: 0.5565900059781271, 1: 4.917741183781264}"
      ]
     },
     "execution_count": 48,
     "metadata": {},
     "output_type": "execute_result"
    }
   ],
   "source": [
    "class_weights"
   ]
  },
  {
   "cell_type": "markdown",
   "metadata": {},
   "source": [
    "Создадим модель"
   ]
  },
  {
   "cell_type": "code",
   "execution_count": 49,
   "metadata": {},
   "outputs": [],
   "source": [
    "cat_model = CatBoostClassifier(random_state = 42,class_weights = class_weights)"
   ]
  },
  {
   "cell_type": "markdown",
   "metadata": {},
   "source": [
    "Перебор по сетке"
   ]
  },
  {
   "cell_type": "code",
   "execution_count": 50,
   "metadata": {},
   "outputs": [],
   "source": [
    "cat_search = GridSearchCV(cat_model, param_grid = forest_params, scoring = 'f1', cv=5, verbose=1)"
   ]
  },
  {
   "cell_type": "markdown",
   "metadata": {},
   "source": [
    "Запустим поиск"
   ]
  },
  {
   "cell_type": "code",
   "execution_count": 51,
   "metadata": {
    "scrolled": true
   },
   "outputs": [
    {
     "name": "stdout",
     "output_type": "stream",
     "text": [
      "Fitting 5 folds for each of 2 candidates, totalling 10 fits\n",
      "Learning rate set to 0.5\n",
      "0:\tlearn: 0.5634541\ttotal: 3s\tremaining: 27s\n",
      "1:\tlearn: 0.5268993\ttotal: 5.02s\tremaining: 20.1s\n",
      "2:\tlearn: 0.4931246\ttotal: 6.98s\tremaining: 16.3s\n",
      "3:\tlearn: 0.4742579\ttotal: 8.94s\tremaining: 13.4s\n",
      "4:\tlearn: 0.4587846\ttotal: 10.9s\tremaining: 10.9s\n",
      "5:\tlearn: 0.4421423\ttotal: 12.8s\tremaining: 8.53s\n",
      "6:\tlearn: 0.4311860\ttotal: 14.7s\tremaining: 6.31s\n",
      "7:\tlearn: 0.4223865\ttotal: 16.7s\tremaining: 4.16s\n",
      "8:\tlearn: 0.4135801\ttotal: 18.5s\tremaining: 2.06s\n",
      "9:\tlearn: 0.4044771\ttotal: 20.4s\tremaining: 0us\n",
      "Learning rate set to 0.5\n",
      "0:\tlearn: 0.5663680\ttotal: 2.88s\tremaining: 25.9s\n",
      "1:\tlearn: 0.5188445\ttotal: 4.87s\tremaining: 19.5s\n",
      "2:\tlearn: 0.4930166\ttotal: 6.84s\tremaining: 16s\n",
      "3:\tlearn: 0.4691810\ttotal: 8.74s\tremaining: 13.1s\n",
      "4:\tlearn: 0.4545953\ttotal: 10.6s\tremaining: 10.6s\n",
      "5:\tlearn: 0.4419269\ttotal: 12.5s\tremaining: 8.35s\n",
      "6:\tlearn: 0.4305902\ttotal: 14.5s\tremaining: 6.22s\n",
      "7:\tlearn: 0.4226455\ttotal: 16.5s\tremaining: 4.12s\n",
      "8:\tlearn: 0.4138636\ttotal: 18.4s\tremaining: 2.05s\n",
      "9:\tlearn: 0.4061073\ttotal: 20.4s\tremaining: 0us\n",
      "Learning rate set to 0.5\n",
      "0:\tlearn: 0.5628311\ttotal: 2.84s\tremaining: 25.5s\n",
      "1:\tlearn: 0.5183185\ttotal: 4.86s\tremaining: 19.4s\n",
      "2:\tlearn: 0.4920660\ttotal: 6.88s\tremaining: 16s\n",
      "3:\tlearn: 0.4717900\ttotal: 8.8s\tremaining: 13.2s\n",
      "4:\tlearn: 0.4541731\ttotal: 10.7s\tremaining: 10.7s\n",
      "5:\tlearn: 0.4421128\ttotal: 12.7s\tremaining: 8.45s\n",
      "6:\tlearn: 0.4304311\ttotal: 14.6s\tremaining: 6.26s\n",
      "7:\tlearn: 0.4210882\ttotal: 16.5s\tremaining: 4.13s\n",
      "8:\tlearn: 0.4133020\ttotal: 18.4s\tremaining: 2.04s\n",
      "9:\tlearn: 0.4061865\ttotal: 20.3s\tremaining: 0us\n",
      "Learning rate set to 0.5\n",
      "0:\tlearn: 0.5637984\ttotal: 2.6s\tremaining: 23.4s\n",
      "1:\tlearn: 0.5217898\ttotal: 4.61s\tremaining: 18.5s\n",
      "2:\tlearn: 0.4988748\ttotal: 6.61s\tremaining: 15.4s\n",
      "3:\tlearn: 0.4735323\ttotal: 8.59s\tremaining: 12.9s\n",
      "4:\tlearn: 0.4600201\ttotal: 10.5s\tremaining: 10.5s\n",
      "5:\tlearn: 0.4484217\ttotal: 12.4s\tremaining: 8.27s\n",
      "6:\tlearn: 0.4350905\ttotal: 14.4s\tremaining: 6.16s\n",
      "7:\tlearn: 0.4249746\ttotal: 16.2s\tremaining: 4.06s\n",
      "8:\tlearn: 0.4168866\ttotal: 18.2s\tremaining: 2.02s\n",
      "9:\tlearn: 0.4102640\ttotal: 20.1s\tremaining: 0us\n",
      "Learning rate set to 0.5\n",
      "0:\tlearn: 0.5637512\ttotal: 2.64s\tremaining: 23.7s\n",
      "1:\tlearn: 0.5149682\ttotal: 4.64s\tremaining: 18.6s\n",
      "2:\tlearn: 0.4875967\ttotal: 6.63s\tremaining: 15.5s\n",
      "3:\tlearn: 0.4662281\ttotal: 8.55s\tremaining: 12.8s\n",
      "4:\tlearn: 0.4527519\ttotal: 10.5s\tremaining: 10.5s\n",
      "5:\tlearn: 0.4396570\ttotal: 12.4s\tremaining: 8.24s\n",
      "6:\tlearn: 0.4257420\ttotal: 14.3s\tremaining: 6.13s\n",
      "7:\tlearn: 0.4172070\ttotal: 16.2s\tremaining: 4.05s\n",
      "8:\tlearn: 0.4086990\ttotal: 18.1s\tremaining: 2.01s\n",
      "9:\tlearn: 0.4016360\ttotal: 20s\tremaining: 0us\n",
      "Learning rate set to 0.5\n",
      "0:\tlearn: 0.5634541\ttotal: 2.6s\tremaining: 49.5s\n",
      "1:\tlearn: 0.5268993\ttotal: 4.58s\tremaining: 41.3s\n",
      "2:\tlearn: 0.4931246\ttotal: 6.53s\tremaining: 37s\n",
      "3:\tlearn: 0.4742579\ttotal: 8.49s\tremaining: 33.9s\n",
      "4:\tlearn: 0.4587846\ttotal: 10.5s\tremaining: 31.4s\n",
      "5:\tlearn: 0.4421423\ttotal: 12.3s\tremaining: 28.7s\n",
      "6:\tlearn: 0.4311860\ttotal: 14.2s\tremaining: 26.4s\n",
      "7:\tlearn: 0.4223865\ttotal: 16.1s\tremaining: 24.2s\n",
      "8:\tlearn: 0.4135801\ttotal: 18s\tremaining: 22s\n",
      "9:\tlearn: 0.4044771\ttotal: 19.9s\tremaining: 19.9s\n",
      "10:\tlearn: 0.3962733\ttotal: 21.8s\tremaining: 17.8s\n",
      "11:\tlearn: 0.3898429\ttotal: 23.7s\tremaining: 15.8s\n",
      "12:\tlearn: 0.3843165\ttotal: 25.6s\tremaining: 13.8s\n",
      "13:\tlearn: 0.3795419\ttotal: 27.4s\tremaining: 11.7s\n",
      "14:\tlearn: 0.3751182\ttotal: 29.3s\tremaining: 9.77s\n",
      "15:\tlearn: 0.3711751\ttotal: 31.2s\tremaining: 7.81s\n",
      "16:\tlearn: 0.3666461\ttotal: 33.1s\tremaining: 5.83s\n",
      "17:\tlearn: 0.3629726\ttotal: 35.1s\tremaining: 3.9s\n",
      "18:\tlearn: 0.3587776\ttotal: 37s\tremaining: 1.95s\n",
      "19:\tlearn: 0.3555176\ttotal: 38.9s\tremaining: 0us\n",
      "Learning rate set to 0.5\n",
      "0:\tlearn: 0.5663680\ttotal: 2.65s\tremaining: 50.4s\n",
      "1:\tlearn: 0.5188445\ttotal: 4.67s\tremaining: 42s\n",
      "2:\tlearn: 0.4930166\ttotal: 6.65s\tremaining: 37.7s\n",
      "3:\tlearn: 0.4691810\ttotal: 8.54s\tremaining: 34.2s\n",
      "4:\tlearn: 0.4545953\ttotal: 10.5s\tremaining: 31.5s\n",
      "5:\tlearn: 0.4419269\ttotal: 12.4s\tremaining: 29s\n",
      "6:\tlearn: 0.4305902\ttotal: 14.3s\tremaining: 26.6s\n",
      "7:\tlearn: 0.4226455\ttotal: 16.3s\tremaining: 24.5s\n",
      "8:\tlearn: 0.4138636\ttotal: 18.2s\tremaining: 22.3s\n",
      "9:\tlearn: 0.4061073\ttotal: 20.1s\tremaining: 20.1s\n",
      "10:\tlearn: 0.3993711\ttotal: 22.1s\tremaining: 18.1s\n",
      "11:\tlearn: 0.3945104\ttotal: 24s\tremaining: 16s\n",
      "12:\tlearn: 0.3890338\ttotal: 25.9s\tremaining: 13.9s\n",
      "13:\tlearn: 0.3842500\ttotal: 27.7s\tremaining: 11.9s\n",
      "14:\tlearn: 0.3793400\ttotal: 29.6s\tremaining: 9.86s\n",
      "15:\tlearn: 0.3748874\ttotal: 31.5s\tremaining: 7.88s\n",
      "16:\tlearn: 0.3702475\ttotal: 33.4s\tremaining: 5.89s\n",
      "17:\tlearn: 0.3656934\ttotal: 35.3s\tremaining: 3.92s\n",
      "18:\tlearn: 0.3626324\ttotal: 37.1s\tremaining: 1.95s\n",
      "19:\tlearn: 0.3576553\ttotal: 39.1s\tremaining: 0us\n",
      "Learning rate set to 0.5\n",
      "0:\tlearn: 0.5628311\ttotal: 2.61s\tremaining: 49.6s\n",
      "1:\tlearn: 0.5183185\ttotal: 4.61s\tremaining: 41.5s\n",
      "2:\tlearn: 0.4920660\ttotal: 6.58s\tremaining: 37.3s\n",
      "3:\tlearn: 0.4717900\ttotal: 8.52s\tremaining: 34.1s\n",
      "4:\tlearn: 0.4541731\ttotal: 10.5s\tremaining: 31.4s\n",
      "5:\tlearn: 0.4421128\ttotal: 12.5s\tremaining: 29.1s\n",
      "6:\tlearn: 0.4304311\ttotal: 14.5s\tremaining: 26.9s\n",
      "7:\tlearn: 0.4210882\ttotal: 16.4s\tremaining: 24.6s\n",
      "8:\tlearn: 0.4133020\ttotal: 18.3s\tremaining: 22.4s\n",
      "9:\tlearn: 0.4061865\ttotal: 20.2s\tremaining: 20.2s\n",
      "10:\tlearn: 0.4004680\ttotal: 22.1s\tremaining: 18.1s\n",
      "11:\tlearn: 0.3924747\ttotal: 24s\tremaining: 16s\n",
      "12:\tlearn: 0.3870988\ttotal: 26s\tremaining: 14s\n",
      "13:\tlearn: 0.3798352\ttotal: 27.8s\tremaining: 11.9s\n",
      "14:\tlearn: 0.3763651\ttotal: 29.8s\tremaining: 9.94s\n",
      "15:\tlearn: 0.3728834\ttotal: 31.8s\tremaining: 7.95s\n",
      "16:\tlearn: 0.3672217\ttotal: 33.6s\tremaining: 5.93s\n",
      "17:\tlearn: 0.3625711\ttotal: 35.4s\tremaining: 3.94s\n",
      "18:\tlearn: 0.3599043\ttotal: 37.3s\tremaining: 1.96s\n",
      "19:\tlearn: 0.3564281\ttotal: 39.2s\tremaining: 0us\n",
      "Learning rate set to 0.5\n",
      "0:\tlearn: 0.5637984\ttotal: 2.69s\tremaining: 51.2s\n",
      "1:\tlearn: 0.5217898\ttotal: 4.71s\tremaining: 42.4s\n",
      "2:\tlearn: 0.4988748\ttotal: 6.71s\tremaining: 38s\n",
      "3:\tlearn: 0.4735323\ttotal: 8.7s\tremaining: 34.8s\n",
      "4:\tlearn: 0.4600201\ttotal: 10.6s\tremaining: 31.8s\n",
      "5:\tlearn: 0.4484217\ttotal: 12.5s\tremaining: 29.3s\n",
      "6:\tlearn: 0.4350905\ttotal: 14.5s\tremaining: 26.9s\n",
      "7:\tlearn: 0.4249746\ttotal: 16.4s\tremaining: 24.6s\n",
      "8:\tlearn: 0.4168866\ttotal: 18.4s\tremaining: 22.5s\n",
      "9:\tlearn: 0.4102640\ttotal: 20.3s\tremaining: 20.3s\n",
      "10:\tlearn: 0.4037025\ttotal: 22.1s\tremaining: 18.1s\n",
      "11:\tlearn: 0.3975258\ttotal: 24.1s\tremaining: 16s\n",
      "12:\tlearn: 0.3900122\ttotal: 25.9s\tremaining: 14s\n",
      "13:\tlearn: 0.3857061\ttotal: 27.8s\tremaining: 11.9s\n",
      "14:\tlearn: 0.3805617\ttotal: 29.7s\tremaining: 9.91s\n",
      "15:\tlearn: 0.3769924\ttotal: 31.7s\tremaining: 7.92s\n",
      "16:\tlearn: 0.3739048\ttotal: 33.6s\tremaining: 5.93s\n",
      "17:\tlearn: 0.3695093\ttotal: 35.5s\tremaining: 3.94s\n",
      "18:\tlearn: 0.3648922\ttotal: 37.4s\tremaining: 1.97s\n",
      "19:\tlearn: 0.3608215\ttotal: 39.3s\tremaining: 0us\n",
      "Learning rate set to 0.5\n",
      "0:\tlearn: 0.5637512\ttotal: 2.63s\tremaining: 50s\n",
      "1:\tlearn: 0.5149682\ttotal: 4.65s\tremaining: 41.8s\n",
      "2:\tlearn: 0.4875967\ttotal: 6.65s\tremaining: 37.7s\n",
      "3:\tlearn: 0.4662281\ttotal: 8.59s\tremaining: 34.4s\n",
      "4:\tlearn: 0.4527519\ttotal: 10.5s\tremaining: 31.6s\n",
      "5:\tlearn: 0.4396570\ttotal: 12.4s\tremaining: 29s\n",
      "6:\tlearn: 0.4257420\ttotal: 14.5s\tremaining: 26.9s\n",
      "7:\tlearn: 0.4172070\ttotal: 16.3s\tremaining: 24.5s\n",
      "8:\tlearn: 0.4086990\ttotal: 18.2s\tremaining: 22.3s\n",
      "9:\tlearn: 0.4016360\ttotal: 20.1s\tremaining: 20.1s\n",
      "10:\tlearn: 0.3943560\ttotal: 22s\tremaining: 18s\n",
      "11:\tlearn: 0.3893659\ttotal: 23.9s\tremaining: 15.9s\n",
      "12:\tlearn: 0.3840978\ttotal: 25.8s\tremaining: 13.9s\n",
      "13:\tlearn: 0.3794439\ttotal: 27.7s\tremaining: 11.9s\n",
      "14:\tlearn: 0.3740444\ttotal: 29.5s\tremaining: 9.84s\n",
      "15:\tlearn: 0.3699543\ttotal: 31.5s\tremaining: 7.86s\n",
      "16:\tlearn: 0.3667224\ttotal: 33.4s\tremaining: 5.9s\n",
      "17:\tlearn: 0.3626336\ttotal: 35.4s\tremaining: 3.93s\n",
      "18:\tlearn: 0.3583925\ttotal: 37.3s\tremaining: 1.96s\n",
      "19:\tlearn: 0.3546971\ttotal: 39.2s\tremaining: 0us\n",
      "Learning rate set to 0.5\n",
      "0:\tlearn: 0.5661239\ttotal: 3.23s\tremaining: 1m 1s\n",
      "1:\tlearn: 0.5233097\ttotal: 5.68s\tremaining: 51.2s\n",
      "2:\tlearn: 0.4952921\ttotal: 8.12s\tremaining: 46s\n",
      "3:\tlearn: 0.4721256\ttotal: 10.6s\tremaining: 42.3s\n",
      "4:\tlearn: 0.4557713\ttotal: 12.9s\tremaining: 38.6s\n",
      "5:\tlearn: 0.4426279\ttotal: 15.2s\tremaining: 35.5s\n",
      "6:\tlearn: 0.4316885\ttotal: 17.5s\tremaining: 32.6s\n",
      "7:\tlearn: 0.4233755\ttotal: 19.9s\tremaining: 29.8s\n",
      "8:\tlearn: 0.4129341\ttotal: 22.1s\tremaining: 27.1s\n",
      "9:\tlearn: 0.4058497\ttotal: 24.4s\tremaining: 24.4s\n",
      "10:\tlearn: 0.3988651\ttotal: 26.7s\tremaining: 21.9s\n",
      "11:\tlearn: 0.3925431\ttotal: 29.1s\tremaining: 19.4s\n",
      "12:\tlearn: 0.3876986\ttotal: 31.4s\tremaining: 16.9s\n",
      "13:\tlearn: 0.3806534\ttotal: 33.7s\tremaining: 14.4s\n",
      "14:\tlearn: 0.3746692\ttotal: 36s\tremaining: 12s\n",
      "15:\tlearn: 0.3702241\ttotal: 38.5s\tremaining: 9.62s\n",
      "16:\tlearn: 0.3656105\ttotal: 40.7s\tremaining: 7.18s\n",
      "17:\tlearn: 0.3621485\ttotal: 43.1s\tremaining: 4.78s\n",
      "18:\tlearn: 0.3587647\ttotal: 45.5s\tremaining: 2.4s\n",
      "19:\tlearn: 0.3561670\ttotal: 47.9s\tremaining: 0us\n"
     ]
    },
    {
     "data": {
      "text/plain": [
       "GridSearchCV(cv=5,\n",
       "             estimator=<catboost.core.CatBoostClassifier object at 0x7f8cc8b8e580>,\n",
       "             param_grid={'n_estimators': [10, 20]}, scoring='f1', verbose=1)"
      ]
     },
     "execution_count": 51,
     "metadata": {},
     "output_type": "execute_result"
    }
   ],
   "source": [
    "cat_search.fit(X_train_t, y_train)"
   ]
  },
  {
   "cell_type": "markdown",
   "metadata": {},
   "source": [
    "Выведем результат"
   ]
  },
  {
   "cell_type": "code",
   "execution_count": 52,
   "metadata": {},
   "outputs": [
    {
     "data": {
      "text/html": [
       "<div>\n",
       "<style scoped>\n",
       "    .dataframe tbody tr th:only-of-type {\n",
       "        vertical-align: middle;\n",
       "    }\n",
       "\n",
       "    .dataframe tbody tr th {\n",
       "        vertical-align: top;\n",
       "    }\n",
       "\n",
       "    .dataframe thead th {\n",
       "        text-align: right;\n",
       "    }\n",
       "</style>\n",
       "<table border=\"1\" class=\"dataframe\">\n",
       "  <thead>\n",
       "    <tr style=\"text-align: right;\">\n",
       "      <th></th>\n",
       "      <th>mean_fit_time</th>\n",
       "      <th>std_fit_time</th>\n",
       "      <th>mean_score_time</th>\n",
       "      <th>std_score_time</th>\n",
       "      <th>param_n_estimators</th>\n",
       "      <th>params</th>\n",
       "      <th>split0_test_score</th>\n",
       "      <th>split1_test_score</th>\n",
       "      <th>split2_test_score</th>\n",
       "      <th>split3_test_score</th>\n",
       "      <th>split4_test_score</th>\n",
       "      <th>mean_test_score</th>\n",
       "      <th>std_test_score</th>\n",
       "      <th>rank_test_score</th>\n",
       "    </tr>\n",
       "  </thead>\n",
       "  <tbody>\n",
       "    <tr>\n",
       "      <th>0</th>\n",
       "      <td>48.792274</td>\n",
       "      <td>0.670024</td>\n",
       "      <td>0.267991</td>\n",
       "      <td>0.003549</td>\n",
       "      <td>10</td>\n",
       "      <td>{'n_estimators': 10}</td>\n",
       "      <td>0.656700</td>\n",
       "      <td>0.650354</td>\n",
       "      <td>0.642646</td>\n",
       "      <td>0.668854</td>\n",
       "      <td>0.673205</td>\n",
       "      <td>0.658352</td>\n",
       "      <td>0.011352</td>\n",
       "      <td>2</td>\n",
       "    </tr>\n",
       "    <tr>\n",
       "      <th>1</th>\n",
       "      <td>67.549397</td>\n",
       "      <td>0.515699</td>\n",
       "      <td>0.275307</td>\n",
       "      <td>0.006982</td>\n",
       "      <td>20</td>\n",
       "      <td>{'n_estimators': 20}</td>\n",
       "      <td>0.701819</td>\n",
       "      <td>0.692756</td>\n",
       "      <td>0.699462</td>\n",
       "      <td>0.704087</td>\n",
       "      <td>0.691954</td>\n",
       "      <td>0.698016</td>\n",
       "      <td>0.004854</td>\n",
       "      <td>1</td>\n",
       "    </tr>\n",
       "  </tbody>\n",
       "</table>\n",
       "</div>"
      ],
      "text/plain": [
       "   mean_fit_time  std_fit_time  mean_score_time  std_score_time  \\\n",
       "0      48.792274      0.670024         0.267991        0.003549   \n",
       "1      67.549397      0.515699         0.275307        0.006982   \n",
       "\n",
       "  param_n_estimators                params  split0_test_score  \\\n",
       "0                 10  {'n_estimators': 10}           0.656700   \n",
       "1                 20  {'n_estimators': 20}           0.701819   \n",
       "\n",
       "   split1_test_score  split2_test_score  split3_test_score  split4_test_score  \\\n",
       "0           0.650354           0.642646           0.668854           0.673205   \n",
       "1           0.692756           0.699462           0.704087           0.691954   \n",
       "\n",
       "   mean_test_score  std_test_score  rank_test_score  \n",
       "0         0.658352        0.011352                2  \n",
       "1         0.698016        0.004854                1  "
      ]
     },
     "execution_count": 52,
     "metadata": {},
     "output_type": "execute_result"
    }
   ],
   "source": [
    "pd.DataFrame(cat_search.cv_results_)"
   ]
  },
  {
   "cell_type": "markdown",
   "metadata": {},
   "source": [
    "Результат хучше, чем для регресии, но лучше чем для леса. Вероятно слишком мало деревьев."
   ]
  },
  {
   "cell_type": "code",
   "execution_count": 53,
   "metadata": {},
   "outputs": [],
   "source": [
    "cat_model = cat_search.best_estimator_"
   ]
  },
  {
   "cell_type": "markdown",
   "metadata": {},
   "source": [
    "Запишем модель"
   ]
  },
  {
   "cell_type": "code",
   "execution_count": 69,
   "metadata": {},
   "outputs": [],
   "source": [
    "models.append(cat_model)"
   ]
  },
  {
   "cell_type": "markdown",
   "metadata": {},
   "source": [
    "Получим значение метрики на всём тренировочном датасет"
   ]
  },
  {
   "cell_type": "code",
   "execution_count": 70,
   "metadata": {},
   "outputs": [],
   "source": [
    "f1_score_train.append(f1_score(y_train, cat_model.predict(X_train_t)))"
   ]
  },
  {
   "cell_type": "code",
   "execution_count": 56,
   "metadata": {},
   "outputs": [
    {
     "data": {
      "text/plain": [
       "0.7023306627822287"
      ]
     },
     "execution_count": 56,
     "metadata": {},
     "output_type": "execute_result"
    }
   ],
   "source": [
    "f1_score(y_train, cat_model.predict(X_train_t))"
   ]
  },
  {
   "cell_type": "markdown",
   "metadata": {},
   "source": [
    "### Выводы\n",
    "\n",
    "На тренировочном датасете лучший результат показал случайный лес. Затем регрессия и CatBoost. CatBoost не показал требуемую метрику, а метрика случайного леса слишком хороша, возможно лес переобучился. Проверим это на тесте."
   ]
  },
  {
   "cell_type": "markdown",
   "metadata": {},
   "source": [
    "## Тестирование модели"
   ]
  },
  {
   "cell_type": "markdown",
   "metadata": {},
   "source": [
    "Проведём тестирование моделей на тестировочной выборке и построим ROC AUC. Предварительно преобразуем признаки"
   ]
  },
  {
   "cell_type": "code",
   "execution_count": 73,
   "metadata": {},
   "outputs": [],
   "source": [
    "X_test_t = count_tf_idf.transform(X_test)"
   ]
  },
  {
   "cell_type": "code",
   "execution_count": 74,
   "metadata": {
    "scrolled": true
   },
   "outputs": [
    {
     "data": {
      "text/plain": [
       "(31656, 148069)"
      ]
     },
     "execution_count": 74,
     "metadata": {},
     "output_type": "execute_result"
    }
   ],
   "source": [
    "X_test_t.shape"
   ]
  },
  {
   "cell_type": "markdown",
   "metadata": {},
   "source": [
    "Запустим цикл с моделями и рассчитаем для каждой модели из списка метрику F1 для тестовой выборки"
   ]
  },
  {
   "cell_type": "code",
   "execution_count": 79,
   "metadata": {},
   "outputs": [],
   "source": [
    "for model in models:\n",
    "    f1_score_test.append(f1_score(y_test, model.predict(X_test_t)))"
   ]
  },
  {
   "cell_type": "markdown",
   "metadata": {},
   "source": [
    "Представим результат в удобном виде"
   ]
  },
  {
   "cell_type": "code",
   "execution_count": 149,
   "metadata": {
    "scrolled": true
   },
   "outputs": [
    {
     "data": {
      "text/html": [
       "<div>\n",
       "<style scoped>\n",
       "    .dataframe tbody tr th:only-of-type {\n",
       "        vertical-align: middle;\n",
       "    }\n",
       "\n",
       "    .dataframe tbody tr th {\n",
       "        vertical-align: top;\n",
       "    }\n",
       "\n",
       "    .dataframe thead th {\n",
       "        text-align: right;\n",
       "    }\n",
       "</style>\n",
       "<table border=\"1\" class=\"dataframe\">\n",
       "  <thead>\n",
       "    <tr style=\"text-align: right;\">\n",
       "      <th></th>\n",
       "      <th>models_name</th>\n",
       "      <th>f1_score_train</th>\n",
       "      <th>f1_score_test</th>\n",
       "    </tr>\n",
       "  </thead>\n",
       "  <tbody>\n",
       "    <tr>\n",
       "      <th>0</th>\n",
       "      <td>LogisticRegression</td>\n",
       "      <td>0.840596</td>\n",
       "      <td>0.756951</td>\n",
       "    </tr>\n",
       "    <tr>\n",
       "      <th>2</th>\n",
       "      <td>CatBoost</td>\n",
       "      <td>0.702331</td>\n",
       "      <td>0.686848</td>\n",
       "    </tr>\n",
       "    <tr>\n",
       "      <th>1</th>\n",
       "      <td>RandomForest</td>\n",
       "      <td>0.988081</td>\n",
       "      <td>0.618340</td>\n",
       "    </tr>\n",
       "  </tbody>\n",
       "</table>\n",
       "</div>"
      ],
      "text/plain": [
       "          models_name  f1_score_train  f1_score_test\n",
       "0  LogisticRegression        0.840596       0.756951\n",
       "2            CatBoost        0.702331       0.686848\n",
       "1        RandomForest        0.988081       0.618340"
      ]
     },
     "execution_count": 149,
     "metadata": {},
     "output_type": "execute_result"
    }
   ],
   "source": [
    "pd.DataFrame({'models_name':models_name, 'f1_score_train':f1_score_train, 'f1_score_test':f1_score_test}).sort_values(\n",
    "    by='f1_score_test', ascending=False)"
   ]
  },
  {
   "cell_type": "markdown",
   "metadata": {},
   "source": [
    "### Выводы"
   ]
  },
  {
   "cell_type": "markdown",
   "metadata": {},
   "source": [
    "Из таблицы видно, что лучший результат на тестовой выборке показала логистическая регрессия, затем `CatBoost` и на последнем месте СлучайныйЛес. Все модели уходшили свои показатели, однако наибольшую разницу по показал Случайный лес."
   ]
  },
  {
   "cell_type": "markdown",
   "metadata": {},
   "source": [
    "## Общие выводы\n",
    "\n",
    "В ходе работы над проектом мы подготовили данные для обучения - удалили дубликаты и небуквенные символы. Перевели в нижний регистр. Выделели признаки и провели лемматизацию. Векторизацию провели используя *TfidfVectorizer*. Для обучения выбрали Логистическую регрессию, Случайный лес и CatBostClassifier. Грид-серчем нашли лучшие параметры для них. Поиск проводили по одному параметру, чтобы не увеличивать время. На тренировочной выборке лучшую метрику показал Случайный лес, однако на тесте лучшей моделью стала Логистическая регрессия. Эту модель и будем рекомендовать для использования в классификации комментариев."
   ]
  }
 ],
 "metadata": {
  "ExecuteTimeLog": [
   {
    "duration": 457,
    "start_time": "2022-03-31T06:04:53.043Z"
   },
   {
    "duration": 191,
    "start_time": "2022-03-31T06:05:10.362Z"
   },
   {
    "duration": 5078,
    "start_time": "2022-03-31T06:05:13.413Z"
   },
   {
    "duration": 31,
    "start_time": "2022-03-31T06:05:22.242Z"
   },
   {
    "duration": 29,
    "start_time": "2022-03-31T06:05:30.999Z"
   },
   {
    "duration": 12,
    "start_time": "2022-03-31T06:05:39.253Z"
   },
   {
    "duration": 60,
    "start_time": "2022-03-31T06:06:04.053Z"
   },
   {
    "duration": 197,
    "start_time": "2022-03-31T06:06:12.693Z"
   },
   {
    "duration": 7,
    "start_time": "2022-03-31T06:06:15.800Z"
   },
   {
    "duration": 5,
    "start_time": "2022-03-31T06:06:20.559Z"
   },
   {
    "duration": 4550,
    "start_time": "2022-04-06T06:31:20.407Z"
   },
   {
    "duration": 1751,
    "start_time": "2022-04-06T06:31:50.354Z"
   },
   {
    "duration": 42,
    "start_time": "2022-04-06T06:31:54.219Z"
   },
   {
    "duration": 21,
    "start_time": "2022-04-06T06:31:55.287Z"
   },
   {
    "duration": 366,
    "start_time": "2022-04-06T06:31:56.439Z"
   },
   {
    "duration": 3144,
    "start_time": "2022-04-06T06:31:56.971Z"
   },
   {
    "duration": 270,
    "start_time": "2022-04-06T06:32:00.117Z"
   },
   {
    "duration": 100,
    "start_time": "2022-04-06T06:32:00.389Z"
   },
   {
    "duration": 5,
    "start_time": "2022-04-06T06:33:13.898Z"
   },
   {
    "duration": 270,
    "start_time": "2022-04-06T06:33:20.251Z"
   },
   {
    "duration": 14,
    "start_time": "2022-04-06T06:33:22.201Z"
   },
   {
    "duration": 305,
    "start_time": "2022-04-06T06:34:01.307Z"
   },
   {
    "duration": 26,
    "start_time": "2022-04-06T06:34:10.054Z"
   },
   {
    "duration": 67,
    "start_time": "2022-04-06T06:34:37.617Z"
   },
   {
    "duration": 8,
    "start_time": "2022-04-06T06:34:53.355Z"
   },
   {
    "duration": 5,
    "start_time": "2022-04-06T06:34:53.600Z"
   },
   {
    "duration": 9,
    "start_time": "2022-04-06T06:35:53.301Z"
   },
   {
    "duration": 4,
    "start_time": "2022-04-06T06:36:05.735Z"
   },
   {
    "duration": 12,
    "start_time": "2022-04-06T06:36:27.261Z"
   },
   {
    "duration": 20,
    "start_time": "2022-04-06T06:36:37.948Z"
   },
   {
    "duration": 86585,
    "start_time": "2022-04-06T06:37:14.698Z"
   },
   {
    "duration": 2511,
    "start_time": "2022-04-06T06:39:04.688Z"
   },
   {
    "duration": 8,
    "start_time": "2022-04-06T06:39:10.211Z"
   },
   {
    "duration": 14,
    "start_time": "2022-04-06T06:39:54.347Z"
   },
   {
    "duration": 8,
    "start_time": "2022-04-06T06:39:59.742Z"
   },
   {
    "duration": 5,
    "start_time": "2022-04-06T06:40:00.089Z"
   },
   {
    "duration": 74,
    "start_time": "2022-04-06T06:41:06.326Z"
   },
   {
    "duration": 3598,
    "start_time": "2022-04-06T06:41:11.120Z"
   },
   {
    "duration": 1777,
    "start_time": "2022-04-06T06:41:15.550Z"
   },
   {
    "duration": 40,
    "start_time": "2022-04-06T06:41:17.329Z"
   },
   {
    "duration": 29,
    "start_time": "2022-04-06T06:41:17.371Z"
   },
   {
    "duration": 356,
    "start_time": "2022-04-06T06:41:17.623Z"
   },
   {
    "duration": 2886,
    "start_time": "2022-04-06T06:41:17.982Z"
   },
   {
    "duration": 267,
    "start_time": "2022-04-06T06:41:20.871Z"
   },
   {
    "duration": 92,
    "start_time": "2022-04-06T06:41:21.873Z"
   },
   {
    "duration": 280,
    "start_time": "2022-04-06T06:41:22.881Z"
   },
   {
    "duration": 14,
    "start_time": "2022-04-06T06:41:24.252Z"
   },
   {
    "duration": 8,
    "start_time": "2022-04-06T06:41:27.131Z"
   },
   {
    "duration": 4,
    "start_time": "2022-04-06T06:41:27.536Z"
   },
   {
    "duration": 4251,
    "start_time": "2022-04-06T06:42:07.001Z"
   },
   {
    "duration": 1731,
    "start_time": "2022-04-06T06:42:12.090Z"
   },
   {
    "duration": 43,
    "start_time": "2022-04-06T06:42:13.824Z"
   },
   {
    "duration": 20,
    "start_time": "2022-04-06T06:42:14.275Z"
   },
   {
    "duration": 376,
    "start_time": "2022-04-06T06:42:14.968Z"
   },
   {
    "duration": 2864,
    "start_time": "2022-04-06T06:42:15.568Z"
   },
   {
    "duration": 288,
    "start_time": "2022-04-06T06:42:18.435Z"
   },
   {
    "duration": 99,
    "start_time": "2022-04-06T06:42:18.726Z"
   },
   {
    "duration": 281,
    "start_time": "2022-04-06T06:42:20.456Z"
   },
   {
    "duration": 15,
    "start_time": "2022-04-06T06:42:21.013Z"
   },
   {
    "duration": 9,
    "start_time": "2022-04-06T06:42:23.425Z"
   },
   {
    "duration": 5,
    "start_time": "2022-04-06T06:42:23.791Z"
   },
   {
    "duration": 2426,
    "start_time": "2022-04-06T06:42:36.559Z"
   },
   {
    "duration": 13,
    "start_time": "2022-04-06T06:42:51.956Z"
   },
   {
    "duration": 39,
    "start_time": "2022-04-06T06:42:58.098Z"
   },
   {
    "duration": 3,
    "start_time": "2022-04-06T06:43:09.786Z"
   },
   {
    "duration": 91181,
    "start_time": "2022-04-06T06:43:55.196Z"
   },
   {
    "duration": 536,
    "start_time": "2022-04-06T06:45:29.083Z"
   },
   {
    "duration": 596,
    "start_time": "2022-04-06T06:45:37.192Z"
   },
   {
    "duration": 550,
    "start_time": "2022-04-06T06:47:23.785Z"
   },
   {
    "duration": 1664,
    "start_time": "2022-04-06T07:18:52.229Z"
   },
   {
    "duration": 5797,
    "start_time": "2022-04-06T07:19:10.076Z"
   },
   {
    "duration": 1780,
    "start_time": "2022-04-06T07:19:18.353Z"
   },
   {
    "duration": 54,
    "start_time": "2022-04-06T07:19:20.136Z"
   },
   {
    "duration": 22,
    "start_time": "2022-04-06T07:19:20.192Z"
   },
   {
    "duration": 402,
    "start_time": "2022-04-06T07:19:20.217Z"
   },
   {
    "duration": 2916,
    "start_time": "2022-04-06T07:19:20.621Z"
   },
   {
    "duration": 322,
    "start_time": "2022-04-06T07:19:23.540Z"
   },
   {
    "duration": 89,
    "start_time": "2022-04-06T07:19:23.864Z"
   },
   {
    "duration": 274,
    "start_time": "2022-04-06T07:19:23.955Z"
   },
   {
    "duration": 13,
    "start_time": "2022-04-06T07:19:24.232Z"
   },
   {
    "duration": 7,
    "start_time": "2022-04-06T07:19:30.422Z"
   },
   {
    "duration": 4,
    "start_time": "2022-04-06T07:19:30.614Z"
   },
   {
    "duration": 3,
    "start_time": "2022-04-06T07:19:35.126Z"
   },
   {
    "duration": 125333,
    "start_time": "2022-04-06T07:19:38.572Z"
   },
   {
    "duration": 14,
    "start_time": "2022-04-06T07:21:47.995Z"
   },
   {
    "duration": 7,
    "start_time": "2022-04-06T07:21:53.174Z"
   },
   {
    "duration": 15,
    "start_time": "2022-04-06T07:22:52.776Z"
   },
   {
    "duration": 7,
    "start_time": "2022-04-06T07:23:50.794Z"
   },
   {
    "duration": 205,
    "start_time": "2022-04-06T07:24:30.799Z"
   },
   {
    "duration": 6,
    "start_time": "2022-04-06T07:24:38.911Z"
   },
   {
    "duration": 7,
    "start_time": "2022-04-06T07:24:44.135Z"
   },
   {
    "duration": 15,
    "start_time": "2022-04-06T07:24:59.215Z"
   },
   {
    "duration": 5,
    "start_time": "2022-04-06T07:26:18.703Z"
   },
   {
    "duration": 4,
    "start_time": "2022-04-06T07:26:24.223Z"
   },
   {
    "duration": 4,
    "start_time": "2022-04-06T07:26:34.888Z"
   },
   {
    "duration": 27,
    "start_time": "2022-04-06T07:26:57.949Z"
   },
   {
    "duration": 113,
    "start_time": "2022-04-06T07:27:07.347Z"
   },
   {
    "duration": 22,
    "start_time": "2022-04-06T07:27:10.060Z"
   },
   {
    "duration": 22,
    "start_time": "2022-04-06T07:27:19.074Z"
   },
   {
    "duration": 12,
    "start_time": "2022-04-06T07:27:54.582Z"
   },
   {
    "duration": 6,
    "start_time": "2022-04-06T07:28:03.503Z"
   },
   {
    "duration": 3748,
    "start_time": "2022-04-06T07:28:58.584Z"
   },
   {
    "duration": 1808,
    "start_time": "2022-04-06T07:29:03.514Z"
   },
   {
    "duration": 42,
    "start_time": "2022-04-06T07:29:05.324Z"
   },
   {
    "duration": 34,
    "start_time": "2022-04-06T07:29:05.368Z"
   },
   {
    "duration": 458,
    "start_time": "2022-04-06T07:29:05.406Z"
   },
   {
    "duration": 2892,
    "start_time": "2022-04-06T07:29:05.867Z"
   },
   {
    "duration": 269,
    "start_time": "2022-04-06T07:29:08.762Z"
   },
   {
    "duration": 95,
    "start_time": "2022-04-06T07:29:09.033Z"
   },
   {
    "duration": 304,
    "start_time": "2022-04-06T07:29:09.130Z"
   },
   {
    "duration": 14,
    "start_time": "2022-04-06T07:29:09.436Z"
   },
   {
    "duration": 3597,
    "start_time": "2022-04-06T07:29:18.455Z"
   },
   {
    "duration": 1061,
    "start_time": "2022-04-06T07:29:22.055Z"
   },
   {
    "duration": 67,
    "start_time": "2022-04-06T07:29:23.118Z"
   },
   {
    "duration": 27,
    "start_time": "2022-04-06T07:29:23.189Z"
   },
   {
    "duration": 386,
    "start_time": "2022-04-06T07:29:23.218Z"
   },
   {
    "duration": 8,
    "start_time": "2022-04-06T07:29:30.262Z"
   },
   {
    "duration": 5,
    "start_time": "2022-04-06T07:29:30.426Z"
   },
   {
    "duration": 4,
    "start_time": "2022-04-06T07:29:30.675Z"
   },
   {
    "duration": 5,
    "start_time": "2022-04-06T07:29:45.780Z"
   },
   {
    "duration": 2428,
    "start_time": "2022-04-06T07:30:12.996Z"
   },
   {
    "duration": 219,
    "start_time": "2022-04-06T07:32:38.635Z"
   },
   {
    "duration": 24,
    "start_time": "2022-04-06T07:33:49.964Z"
   },
   {
    "duration": 5,
    "start_time": "2022-04-06T07:37:27.145Z"
   },
   {
    "duration": 935,
    "start_time": "2022-04-06T07:37:27.725Z"
   },
   {
    "duration": 39,
    "start_time": "2022-04-06T07:37:28.662Z"
   },
   {
    "duration": 21,
    "start_time": "2022-04-06T07:37:28.703Z"
   },
   {
    "duration": 370,
    "start_time": "2022-04-06T07:37:28.786Z"
   },
   {
    "duration": 2876,
    "start_time": "2022-04-06T07:37:29.160Z"
   },
   {
    "duration": 282,
    "start_time": "2022-04-06T07:37:32.039Z"
   },
   {
    "duration": 102,
    "start_time": "2022-04-06T07:37:32.323Z"
   },
   {
    "duration": 425,
    "start_time": "2022-04-06T07:37:32.428Z"
   },
   {
    "duration": 15,
    "start_time": "2022-04-06T07:37:32.855Z"
   },
   {
    "duration": 19,
    "start_time": "2022-04-06T07:37:32.872Z"
   },
   {
    "duration": 12,
    "start_time": "2022-04-06T07:37:32.894Z"
   },
   {
    "duration": 11,
    "start_time": "2022-04-06T07:37:37.725Z"
   },
   {
    "duration": 6,
    "start_time": "2022-04-06T07:37:44.682Z"
   },
   {
    "duration": 5431,
    "start_time": "2022-04-06T07:38:13.194Z"
   },
   {
    "duration": 1847,
    "start_time": "2022-04-06T07:38:18.628Z"
   },
   {
    "duration": 47,
    "start_time": "2022-04-06T07:38:20.478Z"
   },
   {
    "duration": 50,
    "start_time": "2022-04-06T07:38:20.528Z"
   },
   {
    "duration": 405,
    "start_time": "2022-04-06T07:38:20.580Z"
   },
   {
    "duration": 2930,
    "start_time": "2022-04-06T07:38:20.987Z"
   },
   {
    "duration": 259,
    "start_time": "2022-04-06T07:38:23.919Z"
   },
   {
    "duration": 105,
    "start_time": "2022-04-06T07:38:24.184Z"
   },
   {
    "duration": 275,
    "start_time": "2022-04-06T07:38:24.291Z"
   },
   {
    "duration": 18,
    "start_time": "2022-04-06T07:38:24.569Z"
   },
   {
    "duration": 8,
    "start_time": "2022-04-06T07:38:24.589Z"
   },
   {
    "duration": 13,
    "start_time": "2022-04-06T07:38:24.599Z"
   },
   {
    "duration": 17,
    "start_time": "2022-04-06T07:38:24.614Z"
   },
   {
    "duration": 5,
    "start_time": "2022-04-06T07:38:28.596Z"
   },
   {
    "duration": 6,
    "start_time": "2022-04-06T07:38:35.384Z"
   },
   {
    "duration": 113,
    "start_time": "2022-04-06T07:38:45.904Z"
   },
   {
    "duration": 6,
    "start_time": "2022-04-06T07:38:55.512Z"
   },
   {
    "duration": 6,
    "start_time": "2022-04-06T07:39:03.489Z"
   },
   {
    "duration": 6,
    "start_time": "2022-04-06T07:39:07.674Z"
   },
   {
    "duration": 6,
    "start_time": "2022-04-06T07:39:17.734Z"
   },
   {
    "duration": 5,
    "start_time": "2022-04-06T07:42:16.837Z"
   },
   {
    "duration": 206,
    "start_time": "2022-04-06T07:42:23.560Z"
   },
   {
    "duration": 6,
    "start_time": "2022-04-06T07:42:27.930Z"
   },
   {
    "duration": 14,
    "start_time": "2022-04-06T07:42:34.835Z"
   },
   {
    "duration": 13,
    "start_time": "2022-04-06T07:42:37.441Z"
   },
   {
    "duration": 4,
    "start_time": "2022-04-06T07:42:40.541Z"
   },
   {
    "duration": 13,
    "start_time": "2022-04-06T07:42:49.359Z"
   },
   {
    "duration": 5,
    "start_time": "2022-04-06T07:42:53.393Z"
   },
   {
    "duration": 6,
    "start_time": "2022-04-06T07:43:24.590Z"
   },
   {
    "duration": 12,
    "start_time": "2022-04-06T07:45:59.023Z"
   },
   {
    "duration": 7,
    "start_time": "2022-04-06T07:46:09.001Z"
   },
   {
    "duration": 20,
    "start_time": "2022-04-06T07:46:20.610Z"
   },
   {
    "duration": 23,
    "start_time": "2022-04-06T07:46:30.931Z"
   },
   {
    "duration": 6,
    "start_time": "2022-04-06T07:46:37.841Z"
   },
   {
    "duration": 8,
    "start_time": "2022-04-06T07:46:46.555Z"
   },
   {
    "duration": 125800,
    "start_time": "2022-04-06T07:47:09.866Z"
   },
   {
    "duration": 15,
    "start_time": "2022-04-06T07:49:22.379Z"
   },
   {
    "duration": 6,
    "start_time": "2022-04-06T07:49:27.751Z"
   },
   {
    "duration": 13,
    "start_time": "2022-04-06T07:49:30.742Z"
   },
   {
    "duration": 7,
    "start_time": "2022-04-06T07:49:52.962Z"
   },
   {
    "duration": 7,
    "start_time": "2022-04-06T07:50:29.441Z"
   },
   {
    "duration": 15,
    "start_time": "2022-04-06T07:50:47.872Z"
   },
   {
    "duration": 4,
    "start_time": "2022-04-06T07:50:55.738Z"
   },
   {
    "duration": 5,
    "start_time": "2022-04-06T07:51:00.672Z"
   },
   {
    "duration": 5,
    "start_time": "2022-04-06T07:51:19.299Z"
   },
   {
    "duration": 14,
    "start_time": "2022-04-06T07:51:56.304Z"
   },
   {
    "duration": 6,
    "start_time": "2022-04-06T07:51:58.193Z"
   },
   {
    "duration": 8,
    "start_time": "2022-04-06T07:52:02.322Z"
   },
   {
    "duration": 7,
    "start_time": "2022-04-06T07:52:09.722Z"
   },
   {
    "duration": 7,
    "start_time": "2022-04-06T07:52:17.222Z"
   },
   {
    "duration": 16,
    "start_time": "2022-04-06T07:52:20.565Z"
   },
   {
    "duration": 6,
    "start_time": "2022-04-06T07:52:24.802Z"
   },
   {
    "duration": 5,
    "start_time": "2022-04-06T07:52:59.925Z"
   },
   {
    "duration": 6,
    "start_time": "2022-04-06T07:53:04.513Z"
   },
   {
    "duration": 4,
    "start_time": "2022-04-06T07:54:02.281Z"
   },
   {
    "duration": 7,
    "start_time": "2022-04-06T07:54:06.520Z"
   },
   {
    "duration": 14,
    "start_time": "2022-04-06T07:55:25.317Z"
   },
   {
    "duration": 4,
    "start_time": "2022-04-06T07:58:34.351Z"
   },
   {
    "duration": 7,
    "start_time": "2022-04-06T07:58:52.828Z"
   },
   {
    "duration": 3,
    "start_time": "2022-04-06T07:58:57.291Z"
   },
   {
    "duration": 4,
    "start_time": "2022-04-06T07:58:59.901Z"
   },
   {
    "duration": 6,
    "start_time": "2022-04-06T07:59:04.898Z"
   },
   {
    "duration": 7,
    "start_time": "2022-04-06T07:59:22.546Z"
   },
   {
    "duration": 12,
    "start_time": "2022-04-06T07:59:42.838Z"
   },
   {
    "duration": 634,
    "start_time": "2022-04-06T07:59:50.891Z"
   },
   {
    "duration": 12,
    "start_time": "2022-04-06T08:00:01.474Z"
   },
   {
    "duration": 948,
    "start_time": "2022-04-06T08:00:57.073Z"
   },
   {
    "duration": 9,
    "start_time": "2022-04-06T08:01:02.534Z"
   },
   {
    "duration": 6,
    "start_time": "2022-04-06T08:01:12.563Z"
   },
   {
    "duration": 13,
    "start_time": "2022-04-06T08:03:10.453Z"
   },
   {
    "duration": 287,
    "start_time": "2022-04-06T08:03:23.640Z"
   },
   {
    "duration": 767,
    "start_time": "2022-04-06T08:07:06.733Z"
   },
   {
    "duration": 4,
    "start_time": "2022-04-06T08:07:12.174Z"
   },
   {
    "duration": 12,
    "start_time": "2022-04-06T08:07:38.925Z"
   },
   {
    "duration": 73,
    "start_time": "2022-04-06T08:09:52.021Z"
   },
   {
    "duration": 6,
    "start_time": "2022-04-06T08:09:54.556Z"
   },
   {
    "duration": 39,
    "start_time": "2022-04-06T08:20:25.433Z"
   },
   {
    "duration": 6,
    "start_time": "2022-04-06T08:20:55.902Z"
   },
   {
    "duration": 17,
    "start_time": "2022-04-06T08:24:22.579Z"
   },
   {
    "duration": 3,
    "start_time": "2022-04-06T08:24:27.153Z"
   },
   {
    "duration": 8337,
    "start_time": "2022-04-06T08:24:34.129Z"
   },
   {
    "duration": 7,
    "start_time": "2022-04-06T08:25:00.336Z"
   },
   {
    "duration": 8,
    "start_time": "2022-04-06T08:25:03.189Z"
   },
   {
    "duration": 8038,
    "start_time": "2022-04-06T08:26:00.716Z"
   },
   {
    "duration": 5,
    "start_time": "2022-04-06T08:26:12.766Z"
   },
   {
    "duration": 16,
    "start_time": "2022-04-06T08:27:49.561Z"
   },
   {
    "duration": 16,
    "start_time": "2022-04-06T08:27:53.631Z"
   },
   {
    "duration": 55,
    "start_time": "2022-04-06T08:28:13.848Z"
   },
   {
    "duration": 8,
    "start_time": "2022-04-06T08:28:32.245Z"
   },
   {
    "duration": 3,
    "start_time": "2022-04-06T08:29:11.710Z"
   },
   {
    "duration": 4,
    "start_time": "2022-04-06T08:29:17.625Z"
   },
   {
    "duration": 14,
    "start_time": "2022-04-06T08:29:34.698Z"
   },
   {
    "duration": 57239,
    "start_time": "2022-04-06T08:29:42.745Z"
   },
   {
    "duration": 17,
    "start_time": "2022-04-06T08:32:31.661Z"
   },
   {
    "duration": 6,
    "start_time": "2022-04-06T08:32:35.600Z"
   },
   {
    "duration": 8186,
    "start_time": "2022-04-06T08:33:58.707Z"
   },
   {
    "duration": 16,
    "start_time": "2022-04-06T08:34:30.019Z"
   },
   {
    "duration": 66,
    "start_time": "2022-04-06T08:34:40.322Z"
   },
   {
    "duration": 114,
    "start_time": "2022-04-06T08:34:58.592Z"
   },
   {
    "duration": 45,
    "start_time": "2022-04-06T08:35:01.093Z"
   },
   {
    "duration": 5,
    "start_time": "2022-04-06T08:35:32.887Z"
   },
   {
    "duration": 6,
    "start_time": "2022-04-06T08:35:44.391Z"
   },
   {
    "duration": 2107,
    "start_time": "2022-04-06T08:35:59.659Z"
   },
   {
    "duration": 5,
    "start_time": "2022-04-06T08:36:03.052Z"
   },
   {
    "duration": 21,
    "start_time": "2022-04-06T08:36:14.734Z"
   },
   {
    "duration": 16,
    "start_time": "2022-04-06T08:37:25.163Z"
   },
   {
    "duration": 3,
    "start_time": "2022-04-06T08:37:31.606Z"
   },
   {
    "duration": 14,
    "start_time": "2022-04-06T08:37:54.832Z"
   },
   {
    "duration": 700432,
    "start_time": "2022-04-06T08:38:05.030Z"
   },
   {
    "duration": 0,
    "start_time": "2022-04-06T08:49:45.466Z"
   },
   {
    "duration": 5,
    "start_time": "2022-04-06T08:49:47.284Z"
   },
   {
    "duration": 81422,
    "start_time": "2022-04-06T08:49:50.011Z"
   },
   {
    "duration": 3836,
    "start_time": "2022-04-06T08:51:34.094Z"
   },
   {
    "duration": 21,
    "start_time": "2022-04-06T08:52:27.558Z"
   },
   {
    "duration": 30,
    "start_time": "2022-04-06T08:53:49.534Z"
   },
   {
    "duration": 4,
    "start_time": "2022-04-06T08:54:14.516Z"
   },
   {
    "duration": 4,
    "start_time": "2022-04-06T08:54:42.325Z"
   },
   {
    "duration": 63681,
    "start_time": "2022-04-06T08:55:11.167Z"
   },
   {
    "duration": 4,
    "start_time": "2022-04-06T08:56:17.686Z"
   },
   {
    "duration": 63250,
    "start_time": "2022-04-06T08:56:18.880Z"
   },
   {
    "duration": 2045,
    "start_time": "2022-04-06T08:59:48.888Z"
   },
   {
    "duration": 1803,
    "start_time": "2022-04-06T08:59:50.935Z"
   },
   {
    "duration": 47,
    "start_time": "2022-04-06T08:59:52.740Z"
   },
   {
    "duration": 19,
    "start_time": "2022-04-06T08:59:52.790Z"
   },
   {
    "duration": 402,
    "start_time": "2022-04-06T08:59:52.811Z"
   },
   {
    "duration": 2932,
    "start_time": "2022-04-06T08:59:53.215Z"
   },
   {
    "duration": 272,
    "start_time": "2022-04-06T08:59:56.149Z"
   },
   {
    "duration": 97,
    "start_time": "2022-04-06T08:59:56.423Z"
   },
   {
    "duration": 452,
    "start_time": "2022-04-06T08:59:56.523Z"
   },
   {
    "duration": 9,
    "start_time": "2022-04-06T09:00:00.895Z"
   },
   {
    "duration": 5,
    "start_time": "2022-04-06T09:00:01.107Z"
   },
   {
    "duration": 4,
    "start_time": "2022-04-06T09:00:01.326Z"
   },
   {
    "duration": 124472,
    "start_time": "2022-04-06T09:00:01.721Z"
   },
   {
    "duration": 955,
    "start_time": "2022-04-06T09:02:08.032Z"
   },
   {
    "duration": 197,
    "start_time": "2022-04-06T09:02:13.481Z"
   },
   {
    "duration": 4,
    "start_time": "2022-04-06T09:02:14.308Z"
   },
   {
    "duration": 40,
    "start_time": "2022-04-06T09:02:24.376Z"
   },
   {
    "duration": 7,
    "start_time": "2022-04-06T09:02:25.533Z"
   },
   {
    "duration": 7998,
    "start_time": "2022-04-06T09:02:26.532Z"
   },
   {
    "duration": 8145,
    "start_time": "2022-04-06T09:05:01.984Z"
   },
   {
    "duration": 1980,
    "start_time": "2022-04-06T09:05:11.364Z"
   },
   {
    "duration": 4,
    "start_time": "2022-04-06T09:05:18.333Z"
   },
   {
    "duration": 50017,
    "start_time": "2022-04-06T09:05:18.569Z"
   },
   {
    "duration": 74,
    "start_time": "2022-04-06T09:06:10.410Z"
   },
   {
    "duration": 21,
    "start_time": "2022-04-06T09:06:12.228Z"
   },
   {
    "duration": 4,
    "start_time": "2022-04-06T09:06:20.156Z"
   },
   {
    "duration": 86351,
    "start_time": "2022-04-06T09:06:20.844Z"
   },
   {
    "duration": 3525,
    "start_time": "2022-04-06T09:07:50.574Z"
   },
   {
    "duration": 21,
    "start_time": "2022-04-06T09:07:57.163Z"
   },
   {
    "duration": 4,
    "start_time": "2022-04-06T09:08:03.385Z"
   },
   {
    "duration": 168193,
    "start_time": "2022-04-06T09:08:04.244Z"
   },
   {
    "duration": 163472,
    "start_time": "2022-04-06T09:13:39.714Z"
   },
   {
    "duration": 6822,
    "start_time": "2022-04-06T09:20:53.387Z"
   },
   {
    "duration": 21,
    "start_time": "2022-04-06T09:21:01.359Z"
   },
   {
    "duration": 6,
    "start_time": "2022-04-06T09:21:23.946Z"
   },
   {
    "duration": 4,
    "start_time": "2022-04-06T09:21:52.791Z"
   },
   {
    "duration": 56445,
    "start_time": "2022-04-06T09:21:53.447Z"
   },
   {
    "duration": 67,
    "start_time": "2022-04-06T09:24:27.955Z"
   },
   {
    "duration": 22,
    "start_time": "2022-04-06T09:24:29.228Z"
   },
   {
    "duration": 4,
    "start_time": "2022-04-06T09:25:41.325Z"
   },
   {
    "duration": 111987,
    "start_time": "2022-04-06T09:25:45.669Z"
   },
   {
    "duration": 2172,
    "start_time": "2022-04-06T09:31:16.880Z"
   },
   {
    "duration": 22,
    "start_time": "2022-04-06T09:31:21.250Z"
   },
   {
    "duration": 7,
    "start_time": "2022-04-06T09:33:16.342Z"
   },
   {
    "duration": 188,
    "start_time": "2022-04-06T09:34:56.497Z"
   },
   {
    "duration": 4,
    "start_time": "2022-04-06T09:34:59.282Z"
   },
   {
    "duration": 133974,
    "start_time": "2022-04-06T09:35:00.270Z"
   },
   {
    "duration": 147,
    "start_time": "2022-04-06T09:38:57.063Z"
   },
   {
    "duration": 607,
    "start_time": "2022-04-06T09:39:27.013Z"
   },
   {
    "duration": 39,
    "start_time": "2022-04-06T09:39:59.754Z"
   },
   {
    "duration": 4,
    "start_time": "2022-04-06T09:41:26.539Z"
   },
   {
    "duration": 74539,
    "start_time": "2022-04-06T09:41:26.893Z"
   },
   {
    "duration": 116,
    "start_time": "2022-04-06T09:52:53.763Z"
   },
   {
    "duration": 32,
    "start_time": "2022-04-06T09:52:54.793Z"
   },
   {
    "duration": 5,
    "start_time": "2022-04-06T09:55:14.364Z"
   },
   {
    "duration": 1557,
    "start_time": "2022-04-06T09:55:23.681Z"
   },
   {
    "duration": 5,
    "start_time": "2022-04-06T09:55:43.793Z"
   },
   {
    "duration": 141358,
    "start_time": "2022-04-06T09:55:44.264Z"
   },
   {
    "duration": 1998,
    "start_time": "2022-04-06T09:58:22.421Z"
   },
   {
    "duration": 410,
    "start_time": "2022-04-06T09:58:38.097Z"
   },
   {
    "duration": 20,
    "start_time": "2022-04-06T09:58:51.648Z"
   },
   {
    "duration": 65802,
    "start_time": "2022-04-06T09:58:52.685Z"
   },
   {
    "duration": 14,
    "start_time": "2022-04-06T10:00:01.783Z"
   },
   {
    "duration": 1739,
    "start_time": "2022-04-06T10:00:02.171Z"
   },
   {
    "duration": 7,
    "start_time": "2022-04-06T10:02:38.807Z"
   },
   {
    "duration": 43,
    "start_time": "2022-04-06T10:02:51.100Z"
   },
   {
    "duration": 61,
    "start_time": "2022-04-06T10:02:55.880Z"
   },
   {
    "duration": 547,
    "start_time": "2022-04-06T10:03:01.940Z"
   },
   {
    "duration": 30,
    "start_time": "2022-04-06T10:03:04.775Z"
   },
   {
    "duration": 9,
    "start_time": "2022-04-06T10:03:11.328Z"
   },
   {
    "duration": 20,
    "start_time": "2022-04-06T10:03:37.186Z"
   },
   {
    "duration": 139220,
    "start_time": "2022-04-06T10:03:40.779Z"
   },
   {
    "duration": 1185,
    "start_time": "2022-04-06T10:09:51.622Z"
   },
   {
    "duration": 436,
    "start_time": "2022-04-06T10:09:55.486Z"
   },
   {
    "duration": 4,
    "start_time": "2022-04-06T10:10:20.478Z"
   },
   {
    "duration": 5,
    "start_time": "2022-04-06T10:10:25.183Z"
   },
   {
    "duration": 250441,
    "start_time": "2022-04-06T10:10:26.075Z"
   },
   {
    "duration": 1302,
    "start_time": "2022-04-06T10:14:39.228Z"
   },
   {
    "duration": 425,
    "start_time": "2022-04-06T10:14:42.958Z"
   },
   {
    "duration": 6,
    "start_time": "2022-04-06T10:16:18.142Z"
   },
   {
    "duration": 127230,
    "start_time": "2022-04-06T10:16:19.869Z"
   },
   {
    "duration": 141,
    "start_time": "2022-04-06T10:20:43.119Z"
   },
   {
    "duration": 40,
    "start_time": "2022-04-06T10:20:43.974Z"
   },
   {
    "duration": 1933,
    "start_time": "2022-04-07T06:18:08.909Z"
   },
   {
    "duration": 1128,
    "start_time": "2022-04-07T06:18:12.669Z"
   },
   {
    "duration": 43,
    "start_time": "2022-04-07T06:18:13.799Z"
   },
   {
    "duration": 42,
    "start_time": "2022-04-07T06:18:13.845Z"
   },
   {
    "duration": 397,
    "start_time": "2022-04-07T06:18:13.891Z"
   },
   {
    "duration": 2919,
    "start_time": "2022-04-07T06:18:14.291Z"
   },
   {
    "duration": 271,
    "start_time": "2022-04-07T06:18:17.213Z"
   },
   {
    "duration": 99,
    "start_time": "2022-04-07T06:18:17.486Z"
   },
   {
    "duration": 281,
    "start_time": "2022-04-07T06:18:17.588Z"
   },
   {
    "duration": 22,
    "start_time": "2022-04-07T06:18:17.871Z"
   },
   {
    "duration": 8,
    "start_time": "2022-04-07T06:18:22.175Z"
   },
   {
    "duration": 4,
    "start_time": "2022-04-07T06:18:22.576Z"
   },
   {
    "duration": 4,
    "start_time": "2022-04-07T06:20:12.469Z"
   },
   {
    "duration": 3,
    "start_time": "2022-04-07T06:20:24.302Z"
   },
   {
    "duration": 123620,
    "start_time": "2022-04-07T06:20:47.039Z"
   },
   {
    "duration": 1063,
    "start_time": "2022-04-07T06:22:51.900Z"
   },
   {
    "duration": 201,
    "start_time": "2022-04-07T06:22:56.600Z"
   },
   {
    "duration": 4,
    "start_time": "2022-04-07T06:23:05.509Z"
   },
   {
    "duration": 43,
    "start_time": "2022-04-07T06:25:51.301Z"
   },
   {
    "duration": 5,
    "start_time": "2022-04-07T06:25:54.424Z"
   },
   {
    "duration": 9232,
    "start_time": "2022-04-07T06:25:59.996Z"
   },
   {
    "duration": 8043,
    "start_time": "2022-04-07T06:33:18.549Z"
   },
   {
    "duration": 3,
    "start_time": "2022-04-07T06:33:49.106Z"
   },
   {
    "duration": 102,
    "start_time": "2022-04-07T06:37:41.132Z"
   },
   {
    "duration": 4,
    "start_time": "2022-04-07T06:37:45.285Z"
   },
   {
    "duration": 8,
    "start_time": "2022-04-07T06:38:19.797Z"
   },
   {
    "duration": 4,
    "start_time": "2022-04-07T06:40:29.028Z"
   },
   {
    "duration": 5,
    "start_time": "2022-04-07T06:40:33.010Z"
   },
   {
    "duration": 57584,
    "start_time": "2022-04-07T06:41:25.213Z"
   },
   {
    "duration": 18,
    "start_time": "2022-04-07T06:42:37.357Z"
   },
   {
    "duration": 5,
    "start_time": "2022-04-07T06:42:41.624Z"
   },
   {
    "duration": 284604,
    "start_time": "2022-04-07T06:42:53.455Z"
   },
   {
    "duration": 4,
    "start_time": "2022-04-07T06:47:44.718Z"
   },
   {
    "duration": 4,
    "start_time": "2022-04-07T06:47:46.422Z"
   },
   {
    "duration": 481763,
    "start_time": "2022-04-07T06:47:47.826Z"
   },
   {
    "duration": 10,
    "start_time": "2022-04-07T06:56:08.887Z"
   },
   {
    "duration": 27,
    "start_time": "2022-04-07T06:56:22.029Z"
   },
   {
    "duration": 4,
    "start_time": "2022-04-07T06:56:38.395Z"
   },
   {
    "duration": 96,
    "start_time": "2022-04-07T06:56:44.337Z"
   },
   {
    "duration": 32,
    "start_time": "2022-04-07T07:01:30.451Z"
   },
   {
    "duration": 3,
    "start_time": "2022-04-07T07:02:11.703Z"
   },
   {
    "duration": 4,
    "start_time": "2022-04-07T07:03:12.289Z"
   },
   {
    "duration": 65,
    "start_time": "2022-04-07T07:03:32.499Z"
   },
   {
    "duration": 4,
    "start_time": "2022-04-07T07:03:42.316Z"
   },
   {
    "duration": 4,
    "start_time": "2022-04-07T07:04:22.076Z"
   },
   {
    "duration": 4,
    "start_time": "2022-04-07T07:05:34.537Z"
   },
   {
    "duration": 133,
    "start_time": "2022-04-07T07:05:48.065Z"
   },
   {
    "duration": 15,
    "start_time": "2022-04-07T07:05:51.393Z"
   },
   {
    "duration": 3,
    "start_time": "2022-04-07T07:06:01.291Z"
   },
   {
    "duration": 63,
    "start_time": "2022-04-07T07:06:06.148Z"
   },
   {
    "duration": 99,
    "start_time": "2022-04-07T07:06:17.888Z"
   },
   {
    "duration": 66,
    "start_time": "2022-04-07T07:06:20.890Z"
   },
   {
    "duration": 4,
    "start_time": "2022-04-07T07:06:34.067Z"
   },
   {
    "duration": 13,
    "start_time": "2022-04-07T07:06:38.929Z"
   },
   {
    "duration": 7,
    "start_time": "2022-04-07T07:06:57.002Z"
   },
   {
    "duration": 33377,
    "start_time": "2022-04-07T07:07:07.779Z"
   },
   {
    "duration": 571868,
    "start_time": "2022-04-07T07:07:43.140Z"
   },
   {
    "duration": 6,
    "start_time": "2022-04-07T07:21:05.950Z"
   },
   {
    "duration": 6,
    "start_time": "2022-04-07T07:21:07.813Z"
   },
   {
    "duration": 18,
    "start_time": "2022-04-07T07:21:47.453Z"
   },
   {
    "duration": 12,
    "start_time": "2022-04-07T07:26:26.285Z"
   },
   {
    "duration": 14,
    "start_time": "2022-04-07T07:26:30.834Z"
   },
   {
    "duration": 17,
    "start_time": "2022-04-07T07:26:41.704Z"
   },
   {
    "duration": 4,
    "start_time": "2022-04-07T07:26:51.390Z"
   },
   {
    "duration": 4,
    "start_time": "2022-04-07T07:27:45.458Z"
   },
   {
    "duration": 4,
    "start_time": "2022-04-07T07:28:16.867Z"
   },
   {
    "duration": 1912531,
    "start_time": "2022-04-07T07:30:56.348Z"
   },
   {
    "duration": 22,
    "start_time": "2022-04-07T08:03:25.028Z"
   },
   {
    "duration": 110,
    "start_time": "2022-04-07T08:03:32.810Z"
   },
   {
    "duration": 4,
    "start_time": "2022-04-07T08:03:33.060Z"
   },
   {
    "duration": 4,
    "start_time": "2022-04-07T08:03:40.749Z"
   },
   {
    "duration": 4,
    "start_time": "2022-04-07T08:03:41.681Z"
   },
   {
    "duration": 4713,
    "start_time": "2022-04-07T08:03:45.352Z"
   },
   {
    "duration": 4256,
    "start_time": "2022-04-07T08:03:50.997Z"
   },
   {
    "duration": 15,
    "start_time": "2022-04-07T08:04:23.612Z"
   },
   {
    "duration": 7,
    "start_time": "2022-04-07T08:04:29.242Z"
   },
   {
    "duration": 27,
    "start_time": "2022-04-07T08:04:35.203Z"
   },
   {
    "duration": 6,
    "start_time": "2022-04-07T08:04:35.838Z"
   },
   {
    "duration": 4,
    "start_time": "2022-04-07T08:04:36.897Z"
   },
   {
    "duration": 5,
    "start_time": "2022-04-07T08:04:43.213Z"
   },
   {
    "duration": 1083122,
    "start_time": "2022-04-07T08:04:44.733Z"
   },
   {
    "duration": 23,
    "start_time": "2022-04-07T08:24:54.909Z"
   },
   {
    "duration": 102,
    "start_time": "2022-04-07T08:25:32.196Z"
   },
   {
    "duration": 4,
    "start_time": "2022-04-07T08:25:40.755Z"
   },
   {
    "duration": 7,
    "start_time": "2022-04-07T08:25:43.002Z"
   },
   {
    "duration": 1164,
    "start_time": "2022-04-07T08:25:43.829Z"
   },
   {
    "duration": 1161,
    "start_time": "2022-04-07T08:25:45.691Z"
   },
   {
    "duration": 744,
    "start_time": "2022-04-07T08:26:54.252Z"
   },
   {
    "duration": 17,
    "start_time": "2022-04-07T08:28:10.368Z"
   },
   {
    "duration": 1747,
    "start_time": "2022-04-07T08:28:27.794Z"
   },
   {
    "duration": 2051,
    "start_time": "2022-04-07T08:29:09.021Z"
   },
   {
    "duration": 65,
    "start_time": "2022-04-07T08:29:25.790Z"
   },
   {
    "duration": 1451,
    "start_time": "2022-04-09T15:01:50.166Z"
   },
   {
    "duration": 2072,
    "start_time": "2022-04-09T15:01:54.085Z"
   },
   {
    "duration": 263,
    "start_time": "2022-04-09T15:02:24.487Z"
   },
   {
    "duration": 1931,
    "start_time": "2022-04-09T15:02:25.115Z"
   },
   {
    "duration": 189,
    "start_time": "2022-04-09T15:02:27.048Z"
   },
   {
    "duration": 72,
    "start_time": "2022-04-09T15:02:27.239Z"
   },
   {
    "duration": 195,
    "start_time": "2022-04-09T15:02:27.313Z"
   },
   {
    "duration": 9,
    "start_time": "2022-04-09T15:02:27.510Z"
   },
   {
    "duration": 6,
    "start_time": "2022-04-09T15:02:31.007Z"
   },
   {
    "duration": 3,
    "start_time": "2022-04-09T15:02:31.304Z"
   },
   {
    "duration": 2,
    "start_time": "2022-04-09T15:02:49.104Z"
   },
   {
    "duration": 2,
    "start_time": "2022-04-09T15:02:49.588Z"
   },
   {
    "duration": 3,
    "start_time": "2022-04-09T15:02:50.195Z"
   },
   {
    "duration": 3,
    "start_time": "2022-04-09T15:03:00.054Z"
   },
   {
    "duration": 86295,
    "start_time": "2022-04-09T15:03:01.136Z"
   },
   {
    "duration": 588,
    "start_time": "2022-04-09T15:04:28.995Z"
   },
   {
    "duration": 39062,
    "start_time": "2022-04-09T15:04:33.298Z"
   },
   {
    "duration": 51,
    "start_time": "2022-04-09T15:05:17.429Z"
   },
   {
    "duration": 5,
    "start_time": "2022-04-09T15:05:18.144Z"
   },
   {
    "duration": 63275,
    "start_time": "2022-04-09T15:05:25.974Z"
   },
   {
    "duration": 10,
    "start_time": "2022-04-09T15:06:45.925Z"
   },
   {
    "duration": 3,
    "start_time": "2022-04-09T15:06:56.243Z"
   },
   {
    "duration": 12657,
    "start_time": "2022-04-09T15:06:57.275Z"
   },
   {
    "duration": 8,
    "start_time": "2022-04-09T15:08:16.425Z"
   },
   {
    "duration": 3,
    "start_time": "2022-04-09T15:08:20.193Z"
   },
   {
    "duration": 144,
    "start_time": "2022-04-09T15:08:20.599Z"
   },
   {
    "duration": 6,
    "start_time": "2022-04-09T15:08:25.873Z"
   },
   {
    "duration": 120,
    "start_time": "2022-04-09T15:08:32.636Z"
   },
   {
    "duration": 5,
    "start_time": "2022-04-09T15:08:35.026Z"
   },
   {
    "duration": 603,
    "start_time": "2022-04-09T15:10:15.576Z"
   },
   {
    "duration": 10,
    "start_time": "2022-04-09T15:10:20.395Z"
   },
   {
    "duration": 1228,
    "start_time": "2022-04-09T15:10:41.396Z"
   },
   {
    "duration": 4778,
    "start_time": "2022-04-09T15:11:04.503Z"
   },
   {
    "duration": 4,
    "start_time": "2022-04-09T15:11:10.602Z"
   },
   {
    "duration": 3,
    "start_time": "2022-04-09T15:11:36.648Z"
   },
   {
    "duration": 2,
    "start_time": "2022-04-09T15:11:37.209Z"
   },
   {
    "duration": 3,
    "start_time": "2022-04-09T15:11:37.735Z"
   },
   {
    "duration": 1450102,
    "start_time": "2022-04-09T15:11:43.276Z"
   },
   {
    "duration": 15,
    "start_time": "2022-04-09T15:36:23.032Z"
   },
   {
    "duration": 3,
    "start_time": "2022-04-09T15:36:30.851Z"
   },
   {
    "duration": 3,
    "start_time": "2022-04-09T15:36:31.464Z"
   },
   {
    "duration": 2773,
    "start_time": "2022-04-09T15:36:32.362Z"
   },
   {
    "duration": 2770,
    "start_time": "2022-04-09T15:36:35.137Z"
   },
   {
    "duration": 5,
    "start_time": "2022-04-09T15:36:56.127Z"
   },
   {
    "duration": 5,
    "start_time": "2022-04-09T15:37:24.341Z"
   },
   {
    "duration": 871,
    "start_time": "2022-04-09T15:37:46.222Z"
   },
   {
    "duration": 16,
    "start_time": "2022-04-09T15:37:53.681Z"
   },
   {
    "duration": 3,
    "start_time": "2022-04-09T15:37:54.535Z"
   },
   {
    "duration": 3,
    "start_time": "2022-04-09T15:37:55.794Z"
   },
   {
    "duration": 3,
    "start_time": "2022-04-09T15:37:57.348Z"
   },
   {
    "duration": 672299,
    "start_time": "2022-04-09T15:37:58.911Z"
   },
   {
    "duration": 15,
    "start_time": "2022-04-09T15:49:13.972Z"
   },
   {
    "duration": 3,
    "start_time": "2022-04-09T15:49:21.016Z"
   },
   {
    "duration": 2,
    "start_time": "2022-04-09T15:49:21.633Z"
   },
   {
    "duration": 1053,
    "start_time": "2022-04-09T15:49:22.593Z"
   },
   {
    "duration": 1015,
    "start_time": "2022-04-09T15:49:24.255Z"
   },
   {
    "duration": 2393,
    "start_time": "2022-04-09T15:49:36.086Z"
   },
   {
    "duration": 4,
    "start_time": "2022-04-09T15:50:01.900Z"
   },
   {
    "duration": 3,
    "start_time": "2022-04-09T15:50:10.980Z"
   },
   {
    "duration": 3,
    "start_time": "2022-04-09T15:50:21.674Z"
   },
   {
    "duration": 3,
    "start_time": "2022-04-09T15:50:22.543Z"
   },
   {
    "duration": 10,
    "start_time": "2022-04-09T15:50:28.534Z"
   },
   {
    "duration": 125,
    "start_time": "2022-04-09T15:50:56.082Z"
   },
   {
    "duration": 3,
    "start_time": "2022-04-09T15:51:02.584Z"
   },
   {
    "duration": 49,
    "start_time": "2022-04-09T15:51:04.484Z"
   },
   {
    "duration": 48,
    "start_time": "2022-04-09T15:51:05.196Z"
   },
   {
    "duration": 3,
    "start_time": "2022-04-09T15:51:11.145Z"
   },
   {
    "duration": 2772,
    "start_time": "2022-04-09T15:51:13.095Z"
   },
   {
    "duration": 2,
    "start_time": "2022-04-09T15:51:23.422Z"
   },
   {
    "duration": 940,
    "start_time": "2022-04-09T15:51:24.573Z"
   },
   {
    "duration": 5,
    "start_time": "2022-04-09T15:51:34.114Z"
   },
   {
    "duration": 4,
    "start_time": "2022-04-09T15:51:48.180Z"
   },
   {
    "duration": 1218,
    "start_time": "2022-04-09T15:52:03.134Z"
   },
   {
    "duration": 4,
    "start_time": "2022-04-09T15:52:09.693Z"
   },
   {
    "duration": 8,
    "start_time": "2022-04-09T15:52:24.341Z"
   },
   {
    "duration": 4,
    "start_time": "2022-04-09T15:52:39.744Z"
   },
   {
    "duration": 3,
    "start_time": "2022-04-09T15:54:04.446Z"
   },
   {
    "duration": 113,
    "start_time": "2022-04-09T15:54:50.821Z"
   },
   {
    "duration": 1052,
    "start_time": "2022-04-09T15:54:56.395Z"
   },
   {
    "duration": 3,
    "start_time": "2022-04-09T15:55:04.735Z"
   },
   {
    "duration": 8,
    "start_time": "2022-04-09T15:57:44.895Z"
   },
   {
    "duration": 3,
    "start_time": "2022-04-09T15:59:27.215Z"
   },
   {
    "duration": 3,
    "start_time": "2022-04-09T15:59:47.802Z"
   },
   {
    "duration": 12,
    "start_time": "2022-04-09T16:00:25.335Z"
   },
   {
    "duration": 9,
    "start_time": "2022-04-09T16:00:31.219Z"
   },
   {
    "duration": 32,
    "start_time": "2022-04-09T16:01:06.681Z"
   },
   {
    "duration": 12,
    "start_time": "2022-04-09T16:01:23.620Z"
   },
   {
    "duration": 2,
    "start_time": "2022-04-09T16:02:06.578Z"
   },
   {
    "duration": 8,
    "start_time": "2022-04-09T16:02:07.806Z"
   },
   {
    "duration": 41,
    "start_time": "2022-04-09T16:02:08.395Z"
   },
   {
    "duration": 14,
    "start_time": "2022-04-09T16:02:09.256Z"
   },
   {
    "duration": 3,
    "start_time": "2022-04-09T16:04:53.727Z"
   },
   {
    "duration": 7,
    "start_time": "2022-04-09T16:04:54.647Z"
   },
   {
    "duration": 39,
    "start_time": "2022-04-09T16:04:55.223Z"
   },
   {
    "duration": 15,
    "start_time": "2022-04-09T16:04:56.043Z"
   },
   {
    "duration": 11,
    "start_time": "2022-04-09T16:05:58.579Z"
   },
   {
    "duration": 10,
    "start_time": "2022-04-09T16:06:12.477Z"
   },
   {
    "duration": 4,
    "start_time": "2022-04-09T16:06:19.527Z"
   },
   {
    "duration": 4,
    "start_time": "2022-04-09T16:06:25.467Z"
   },
   {
    "duration": 18,
    "start_time": "2022-04-09T16:06:38.274Z"
   },
   {
    "duration": 8,
    "start_time": "2022-04-09T16:07:45.119Z"
   },
   {
    "duration": 8,
    "start_time": "2022-04-09T16:07:52.637Z"
   },
   {
    "duration": 8,
    "start_time": "2022-04-09T16:08:12.335Z"
   },
   {
    "duration": 8,
    "start_time": "2022-04-09T16:08:17.515Z"
   },
   {
    "duration": 13,
    "start_time": "2022-04-09T16:08:29.254Z"
   },
   {
    "duration": 3,
    "start_time": "2022-04-09T16:08:31.598Z"
   },
   {
    "duration": 1125,
    "start_time": "2022-04-09T16:09:31.995Z"
   },
   {
    "duration": 120,
    "start_time": "2022-04-09T16:10:02.409Z"
   },
   {
    "duration": 5,
    "start_time": "2022-04-09T16:11:07.876Z"
   },
   {
    "duration": 105,
    "start_time": "2022-04-09T16:11:13.457Z"
   },
   {
    "duration": 4,
    "start_time": "2022-04-09T16:11:16.962Z"
   },
   {
    "duration": 120,
    "start_time": "2022-04-09T16:11:17.312Z"
   },
   {
    "duration": 117,
    "start_time": "2022-04-09T16:11:55.737Z"
   },
   {
    "duration": 739,
    "start_time": "2022-04-09T16:12:23.658Z"
   },
   {
    "duration": 125,
    "start_time": "2022-04-09T16:13:00.826Z"
   },
   {
    "duration": 130,
    "start_time": "2022-04-09T16:14:05.812Z"
   },
   {
    "duration": 355,
    "start_time": "2022-04-09T16:14:30.269Z"
   },
   {
    "duration": 146,
    "start_time": "2022-04-09T16:14:39.918Z"
   },
   {
    "duration": 143,
    "start_time": "2022-04-09T16:14:53.659Z"
   },
   {
    "duration": 1174,
    "start_time": "2022-04-09T16:16:03.869Z"
   },
   {
    "duration": 1186,
    "start_time": "2022-04-09T16:16:21.120Z"
   },
   {
    "duration": 1188,
    "start_time": "2022-04-09T16:16:35.493Z"
   },
   {
    "duration": 1191,
    "start_time": "2022-04-09T16:16:49.750Z"
   },
   {
    "duration": 11,
    "start_time": "2022-04-09T16:17:18.318Z"
   },
   {
    "duration": 10,
    "start_time": "2022-04-09T16:17:57.945Z"
   },
   {
    "duration": 9,
    "start_time": "2022-04-09T16:18:41.039Z"
   },
   {
    "duration": 9,
    "start_time": "2022-04-09T16:18:43.799Z"
   },
   {
    "duration": 9,
    "start_time": "2022-04-09T16:18:45.756Z"
   },
   {
    "duration": 9,
    "start_time": "2022-04-09T16:18:48.300Z"
   },
   {
    "duration": 1222,
    "start_time": "2022-04-09T16:18:56.164Z"
   },
   {
    "duration": 1184,
    "start_time": "2022-04-09T16:19:24.470Z"
   },
   {
    "duration": 1171,
    "start_time": "2022-04-09T16:20:02.390Z"
   },
   {
    "duration": 1405,
    "start_time": "2022-04-09T16:20:37.981Z"
   },
   {
    "duration": 1305,
    "start_time": "2022-04-09T16:20:49.950Z"
   },
   {
    "duration": 1327,
    "start_time": "2022-04-09T16:21:00.870Z"
   },
   {
    "duration": 1265,
    "start_time": "2022-04-09T16:21:44.721Z"
   },
   {
    "duration": 1315,
    "start_time": "2022-04-09T16:22:06.125Z"
   },
   {
    "duration": 1258,
    "start_time": "2022-04-09T16:22:22.990Z"
   },
   {
    "duration": 1764,
    "start_time": "2022-04-09T16:22:34.998Z"
   },
   {
    "duration": 1202,
    "start_time": "2022-04-09T16:22:39.958Z"
   },
   {
    "duration": 1216,
    "start_time": "2022-04-09T16:22:43.979Z"
   },
   {
    "duration": 5,
    "start_time": "2022-04-09T16:23:18.880Z"
   },
   {
    "duration": 3,
    "start_time": "2022-04-09T16:23:23.360Z"
   },
   {
    "duration": 4,
    "start_time": "2022-04-09T16:23:29.221Z"
   },
   {
    "duration": 12,
    "start_time": "2022-04-09T16:23:35.251Z"
   },
   {
    "duration": 4,
    "start_time": "2022-04-09T16:23:41.073Z"
   },
   {
    "duration": 11,
    "start_time": "2022-04-09T16:26:21.627Z"
   },
   {
    "duration": 9,
    "start_time": "2022-04-09T16:26:42.091Z"
   },
   {
    "duration": 9,
    "start_time": "2022-04-09T16:26:54.801Z"
   },
   {
    "duration": 1197,
    "start_time": "2022-04-09T16:34:40.010Z"
   },
   {
    "duration": 10,
    "start_time": "2022-04-09T16:39:20.599Z"
   },
   {
    "duration": 5,
    "start_time": "2022-04-09T16:39:27.205Z"
   },
   {
    "duration": 6,
    "start_time": "2022-04-09T16:39:29.763Z"
   },
   {
    "duration": 4,
    "start_time": "2022-04-09T16:41:09.362Z"
   },
   {
    "duration": 106,
    "start_time": "2022-04-09T16:41:12.946Z"
   },
   {
    "duration": 5,
    "start_time": "2022-04-09T16:41:15.561Z"
   },
   {
    "duration": 111,
    "start_time": "2022-04-09T16:41:24.456Z"
   },
   {
    "duration": 4,
    "start_time": "2022-04-09T16:41:26.879Z"
   },
   {
    "duration": 4,
    "start_time": "2022-04-09T16:41:31.579Z"
   },
   {
    "duration": 12,
    "start_time": "2022-04-09T16:41:35.945Z"
   },
   {
    "duration": 4,
    "start_time": "2022-04-09T16:41:38.848Z"
   },
   {
    "duration": 4,
    "start_time": "2022-04-09T16:41:44.990Z"
   },
   {
    "duration": 953,
    "start_time": "2022-04-09T16:42:14.633Z"
   },
   {
    "duration": 9,
    "start_time": "2022-04-09T16:42:44.015Z"
   },
   {
    "duration": 11,
    "start_time": "2022-04-09T16:43:08.702Z"
   },
   {
    "duration": 4,
    "start_time": "2022-04-09T16:43:20.397Z"
   },
   {
    "duration": 5,
    "start_time": "2022-04-09T16:43:24.127Z"
   },
   {
    "duration": 25,
    "start_time": "2022-04-09T16:43:27.282Z"
   },
   {
    "duration": 6,
    "start_time": "2022-04-09T16:43:50.321Z"
   },
   {
    "duration": 9,
    "start_time": "2022-04-09T16:44:07.514Z"
   },
   {
    "duration": 1669,
    "start_time": "2022-04-09T16:44:29.967Z"
   },
   {
    "duration": 24,
    "start_time": "2022-04-09T16:44:39.237Z"
   },
   {
    "duration": 6,
    "start_time": "2022-04-09T16:44:49.574Z"
   },
   {
    "duration": 10,
    "start_time": "2022-04-09T16:44:54.026Z"
   },
   {
    "duration": 3,
    "start_time": "2022-04-09T16:45:01.263Z"
   },
   {
    "duration": 4,
    "start_time": "2022-04-09T16:45:10.270Z"
   },
   {
    "duration": 13,
    "start_time": "2022-04-09T16:47:18.717Z"
   },
   {
    "duration": 4,
    "start_time": "2022-04-09T16:47:42.151Z"
   },
   {
    "duration": 4,
    "start_time": "2022-04-09T16:47:54.202Z"
   },
   {
    "duration": 21,
    "start_time": "2022-04-09T16:48:04.285Z"
   },
   {
    "duration": 3,
    "start_time": "2022-04-09T16:48:04.755Z"
   },
   {
    "duration": 10,
    "start_time": "2022-04-09T16:48:51.893Z"
   },
   {
    "duration": 11,
    "start_time": "2022-04-09T16:48:56.698Z"
   },
   {
    "duration": 107,
    "start_time": "2022-04-09T16:49:27.518Z"
   },
   {
    "duration": 107,
    "start_time": "2022-04-09T16:49:34.038Z"
   },
   {
    "duration": 13,
    "start_time": "2022-04-09T16:49:39.428Z"
   },
   {
    "duration": 4,
    "start_time": "2022-04-09T16:49:42.101Z"
   },
   {
    "duration": 4,
    "start_time": "2022-04-09T16:49:44.389Z"
   },
   {
    "duration": 6,
    "start_time": "2022-04-09T16:50:55.824Z"
   },
   {
    "duration": 3,
    "start_time": "2022-04-09T16:50:56.369Z"
   },
   {
    "duration": 4,
    "start_time": "2022-04-09T16:51:03.513Z"
   },
   {
    "duration": 7,
    "start_time": "2022-04-09T16:51:07.728Z"
   },
   {
    "duration": 4,
    "start_time": "2022-04-09T16:51:09.679Z"
   },
   {
    "duration": 4,
    "start_time": "2022-04-09T16:51:13.308Z"
   },
   {
    "duration": 10,
    "start_time": "2022-04-09T16:51:35.788Z"
   },
   {
    "duration": 8,
    "start_time": "2022-04-09T16:51:39.385Z"
   },
   {
    "duration": 617,
    "start_time": "2022-04-09T16:51:59.799Z"
   },
   {
    "duration": 7,
    "start_time": "2022-04-09T16:52:11.739Z"
   },
   {
    "duration": 3,
    "start_time": "2022-04-09T16:53:01.804Z"
   },
   {
    "duration": 5,
    "start_time": "2022-04-09T16:53:05.969Z"
   },
   {
    "duration": 19,
    "start_time": "2022-04-09T16:53:21.066Z"
   },
   {
    "duration": 3,
    "start_time": "2022-04-09T16:53:23.414Z"
   },
   {
    "duration": 5,
    "start_time": "2022-04-09T16:53:23.986Z"
   },
   {
    "duration": 9,
    "start_time": "2022-04-09T16:53:34.299Z"
   },
   {
    "duration": 20,
    "start_time": "2022-04-09T16:53:53.542Z"
   },
   {
    "duration": 12,
    "start_time": "2022-04-09T16:53:57.492Z"
   },
   {
    "duration": 21,
    "start_time": "2022-04-09T16:54:02.812Z"
   },
   {
    "duration": 9,
    "start_time": "2022-04-09T16:54:03.229Z"
   },
   {
    "duration": 3,
    "start_time": "2022-04-09T16:54:05.949Z"
   },
   {
    "duration": 9,
    "start_time": "2022-04-09T16:54:06.503Z"
   },
   {
    "duration": 5,
    "start_time": "2022-04-09T16:54:36.790Z"
   },
   {
    "duration": 4,
    "start_time": "2022-04-09T16:54:42.969Z"
   },
   {
    "duration": 121,
    "start_time": "2022-04-09T16:55:10.619Z"
   },
   {
    "duration": 6,
    "start_time": "2022-04-09T16:55:50.484Z"
   },
   {
    "duration": 4,
    "start_time": "2022-04-09T16:56:21.439Z"
   },
   {
    "duration": 3,
    "start_time": "2022-04-09T16:56:38.020Z"
   },
   {
    "duration": 4,
    "start_time": "2022-04-09T16:56:53.209Z"
   },
   {
    "duration": 21,
    "start_time": "2022-04-09T16:57:11.160Z"
   },
   {
    "duration": 9,
    "start_time": "2022-04-09T16:57:11.602Z"
   },
   {
    "duration": 2,
    "start_time": "2022-04-09T16:57:15.700Z"
   },
   {
    "duration": 8,
    "start_time": "2022-04-09T16:57:23.767Z"
   },
   {
    "duration": 5,
    "start_time": "2022-04-09T16:58:15.120Z"
   },
   {
    "duration": 4,
    "start_time": "2022-04-09T16:58:22.569Z"
   },
   {
    "duration": 8,
    "start_time": "2022-04-09T16:58:28.955Z"
   },
   {
    "duration": 13279,
    "start_time": "2022-04-09T16:58:41.068Z"
   },
   {
    "duration": 4,
    "start_time": "2022-04-09T16:58:55.346Z"
   },
   {
    "duration": 4,
    "start_time": "2022-04-09T16:58:57.393Z"
   },
   {
    "duration": 32,
    "start_time": "2022-04-09T16:58:59.635Z"
   },
   {
    "duration": 8872,
    "start_time": "2022-04-09T16:59:04.071Z"
   },
   {
    "duration": 562629,
    "start_time": "2022-04-09T17:01:01.921Z"
   },
   {
    "duration": 3,
    "start_time": "2022-04-09T17:13:12.192Z"
   },
   {
    "duration": 48863,
    "start_time": "2022-04-09T17:13:21.455Z"
   },
   {
    "duration": 5,
    "start_time": "2022-04-09T17:14:20.619Z"
   },
   {
    "duration": 5,
    "start_time": "2022-04-09T17:14:51.447Z"
   }
  ],
  "kernelspec": {
   "display_name": "Python 3 (ipykernel)",
   "language": "python",
   "name": "python3"
  },
  "language_info": {
   "codemirror_mode": {
    "name": "ipython",
    "version": 3
   },
   "file_extension": ".py",
   "mimetype": "text/x-python",
   "name": "python",
   "nbconvert_exporter": "python",
   "pygments_lexer": "ipython3",
   "version": "3.8.9"
  },
  "toc": {
   "base_numbering": 1,
   "nav_menu": {},
   "number_sections": true,
   "sideBar": true,
   "skip_h1_title": true,
   "title_cell": "Содержание",
   "title_sidebar": "Contents",
   "toc_cell": true,
   "toc_position": {
    "height": "calc(100% - 180px)",
    "left": "10px",
    "top": "150px",
    "width": "302.391px"
   },
   "toc_section_display": true,
   "toc_window_display": false
  }
 },
 "nbformat": 4,
 "nbformat_minor": 2
}
