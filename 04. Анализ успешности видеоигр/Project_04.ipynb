{
 "cells": [
  {
   "cell_type": "markdown",
   "metadata": {
    "cellId": "xo44t7sa95ptae0vl6a28"
   },
   "source": [
    "# Анализ рынка видеоигр\n",
    "## Описание проекта"
   ]
  },
  {
   "cell_type": "markdown",
   "metadata": {
    "cellId": "19fk71rb0y1thhromvu1l9"
   },
   "source": [
    "Заказчик - интернет-магазин «Стримчик», который продаёт по всему миру компьютерные игры. Из открытых источников доступны исторические данные о продажах игр, оценки пользователей и экспертов, жанры и платформы (например, Xbox или PlayStation). Необходимо выявить определяющие успешность игры закономерности. Это позволит сделать ставку на потенциально популярный продукт и спланировать рекламные кампании.\n",
    "Представлены данные до 2016 года. В наборе данных попадается аббревиатура ESRB (Entertainment Software Rating Board) — это ассоциация, определяющая возрастной рейтинг компьютерных игр. ESRB оценивает игровой контент и присваивает ему подходящую возрастную категорию, например, «Для взрослых», «Для детей младшего возраста» или «Для подростков»."
   ]
  },
  {
   "cell_type": "markdown",
   "metadata": {
    "cellId": "9sghuszqzrvain6pyk8q9"
   },
   "source": [
    "### Цель проекта\n",
    "Выявить определяющие успешность игры закономерности\n"
   ]
  },
  {
   "cell_type": "markdown",
   "metadata": {
    "cellId": "lfm7vbrlegmthvpdsur8m8"
   },
   "source": [
    "### Задачи проекта\n",
    "\n",
    "Провести исследовательский анализ данных и ответить на вопросы:\n",
    "- Cколько игр выпускалось в разные годы. Важны ли данные за все периоды?\n",
    "- Как менялись продажи по платформам. Выбрать платформы с наибольшими суммарными продажами и построить распределение по годам. \n",
    "- За какой характерный срок появляются новые и исчезают старые платформы?\n",
    "- Какие платформы лидируют по продажам, растут или падают? Выбрать несколько потенциально прибыльных платформ.\n",
    "- Построить график «ящик с усами» по глобальным продажам игр в разбивке по платформам. Описать результат.\n",
    "- Как влияют на продажи внутри одной популярной платформы отзывы пользователей и критиков. Построить диаграмму рассеяния и посчитать корреляцию между отзывами и продажами. \n",
    "- Что можно сказать о самых прибыльных жанрах?\n",
    "- Выделяются ли жанры с высокими и низкими продажами?\n",
    "\n",
    "Определить для пользователя каждого региона (NA, EU, JP):\n",
    "- Самые популярные платформы (топ-5). Опишите различия в долях продаж.\n",
    "- Самые популярные жанры (топ-5). Поясните разницу.\n",
    "- Влияет ли рейтинг ESRB на продажи в отдельном регионе?\n",
    "\n",
    "Проверить гипотезы:\n",
    "- Средние пользовательские рейтинги платформ Xbox One и PC одинаковые;\n",
    "- Средние пользовательские рейтинги жанров Action (англ. «действие», экшен-игры) и Sports (англ. «спортивные соревнования») разные."
   ]
  },
  {
   "cell_type": "markdown",
   "metadata": {
    "cellId": "aeztkq577b966553re5cfg"
   },
   "source": [
    "### План решения задачи\n",
    "\n",
    "- [Обзор данных](#section_2)\n",
    "- [Предобработка данных](#section_3)\n",
    "- [Анализ данных](#section_4)\n",
    "    - [Распределение игр по годам](#section_4_1)\n",
    "    - [Анализ платформ](#section_4_2)\n",
    "    - [Зависимость продаж от оценок](#section_4_3)\n",
    "    - [Анализ продаж по рынкам](#section_4_4)\n",
    "    - [Проверка гипотез](#section_4_5)\n",
    "- [Общие выводы](#section_5)"
   ]
  },
  {
   "cell_type": "markdown",
   "metadata": {
    "cellId": "v9mkc8p2z9v4170hjac"
   },
   "source": [
    "<a id='section_2'></a>\n",
    "## Обзор данных"
   ]
  },
  {
   "cell_type": "markdown",
   "metadata": {
    "cellId": "qy2xh9k4vf9ldzb9r16gg"
   },
   "source": [
    "Импортируем `pandas`, `matplotlib` и `seaborn`"
   ]
  },
  {
   "cell_type": "code",
   "execution_count": 2,
   "metadata": {
    "cellId": "1olejuhhu16l6xy9hn45gf"
   },
   "outputs": [],
   "source": [
    "import pandas as pd"
   ]
  },
  {
   "cell_type": "code",
   "execution_count": 3,
   "metadata": {
    "cellId": "ypyfnu5hrkbjg10jwo6c4e"
   },
   "outputs": [],
   "source": [
    "import matplotlib.pyplot as plt"
   ]
  },
  {
   "cell_type": "code",
   "execution_count": 4,
   "metadata": {},
   "outputs": [],
   "source": [
    "import seaborn as sns"
   ]
  },
  {
   "cell_type": "markdown",
   "metadata": {
    "cellId": "wgr4je4tm8bw5wpm4e7jvg"
   },
   "source": [
    "Прочитаем файл `games.csv`"
   ]
  },
  {
   "cell_type": "code",
   "execution_count": 5,
   "metadata": {
    "cellId": "jetulua3mal29033juaoga"
   },
   "outputs": [],
   "source": [
    "df=pd.read_csv('/datasets/games.csv')"
   ]
  },
  {
   "cell_type": "markdown",
   "metadata": {
    "cellId": "exkldhpw5bj92btcpkwxvm"
   },
   "source": [
    "Выведем информацию о таблице"
   ]
  },
  {
   "cell_type": "code",
   "execution_count": 6,
   "metadata": {
    "cellId": "jvmqby0nnjj3cjeknbps6a"
   },
   "outputs": [
    {
     "name": "stdout",
     "output_type": "stream",
     "text": [
      "<class 'pandas.core.frame.DataFrame'>\n",
      "RangeIndex: 16715 entries, 0 to 16714\n",
      "Data columns (total 11 columns):\n",
      "Name               16713 non-null object\n",
      "Platform           16715 non-null object\n",
      "Year_of_Release    16446 non-null float64\n",
      "Genre              16713 non-null object\n",
      "NA_sales           16715 non-null float64\n",
      "EU_sales           16715 non-null float64\n",
      "JP_sales           16715 non-null float64\n",
      "Other_sales        16715 non-null float64\n",
      "Critic_Score       8137 non-null float64\n",
      "User_Score         10014 non-null object\n",
      "Rating             9949 non-null object\n",
      "dtypes: float64(6), object(5)\n",
      "memory usage: 1.4+ MB\n"
     ]
    }
   ],
   "source": [
    "df.info()"
   ]
  },
  {
   "cell_type": "markdown",
   "metadata": {
    "cellId": "mmm311uejcafotjnyhs076"
   },
   "source": [
    "Видно, что есть пропуски. Названия столбцов лучше перевести в нижний регистр. С этим разберёмся на этапе предобработки данных. `User_Score` и `Critic_Score` почему-то имеют строковый тип, хотя логичнее числовой. Посмотрим на первые 5 строк"
   ]
  },
  {
   "cell_type": "code",
   "execution_count": 7,
   "metadata": {
    "cellId": "uebq6wi5cygp5gev434ooe"
   },
   "outputs": [
    {
     "data": {
      "text/html": [
       "<div>\n",
       "<style scoped>\n",
       "    .dataframe tbody tr th:only-of-type {\n",
       "        vertical-align: middle;\n",
       "    }\n",
       "\n",
       "    .dataframe tbody tr th {\n",
       "        vertical-align: top;\n",
       "    }\n",
       "\n",
       "    .dataframe thead th {\n",
       "        text-align: right;\n",
       "    }\n",
       "</style>\n",
       "<table border=\"1\" class=\"dataframe\">\n",
       "  <thead>\n",
       "    <tr style=\"text-align: right;\">\n",
       "      <th></th>\n",
       "      <th>Name</th>\n",
       "      <th>Platform</th>\n",
       "      <th>Year_of_Release</th>\n",
       "      <th>Genre</th>\n",
       "      <th>NA_sales</th>\n",
       "      <th>EU_sales</th>\n",
       "      <th>JP_sales</th>\n",
       "      <th>Other_sales</th>\n",
       "      <th>Critic_Score</th>\n",
       "      <th>User_Score</th>\n",
       "      <th>Rating</th>\n",
       "    </tr>\n",
       "  </thead>\n",
       "  <tbody>\n",
       "    <tr>\n",
       "      <td>0</td>\n",
       "      <td>Wii Sports</td>\n",
       "      <td>Wii</td>\n",
       "      <td>2006.0</td>\n",
       "      <td>Sports</td>\n",
       "      <td>41.36</td>\n",
       "      <td>28.96</td>\n",
       "      <td>3.77</td>\n",
       "      <td>8.45</td>\n",
       "      <td>76.0</td>\n",
       "      <td>8</td>\n",
       "      <td>E</td>\n",
       "    </tr>\n",
       "    <tr>\n",
       "      <td>1</td>\n",
       "      <td>Super Mario Bros.</td>\n",
       "      <td>NES</td>\n",
       "      <td>1985.0</td>\n",
       "      <td>Platform</td>\n",
       "      <td>29.08</td>\n",
       "      <td>3.58</td>\n",
       "      <td>6.81</td>\n",
       "      <td>0.77</td>\n",
       "      <td>NaN</td>\n",
       "      <td>NaN</td>\n",
       "      <td>NaN</td>\n",
       "    </tr>\n",
       "    <tr>\n",
       "      <td>2</td>\n",
       "      <td>Mario Kart Wii</td>\n",
       "      <td>Wii</td>\n",
       "      <td>2008.0</td>\n",
       "      <td>Racing</td>\n",
       "      <td>15.68</td>\n",
       "      <td>12.76</td>\n",
       "      <td>3.79</td>\n",
       "      <td>3.29</td>\n",
       "      <td>82.0</td>\n",
       "      <td>8.3</td>\n",
       "      <td>E</td>\n",
       "    </tr>\n",
       "    <tr>\n",
       "      <td>3</td>\n",
       "      <td>Wii Sports Resort</td>\n",
       "      <td>Wii</td>\n",
       "      <td>2009.0</td>\n",
       "      <td>Sports</td>\n",
       "      <td>15.61</td>\n",
       "      <td>10.93</td>\n",
       "      <td>3.28</td>\n",
       "      <td>2.95</td>\n",
       "      <td>80.0</td>\n",
       "      <td>8</td>\n",
       "      <td>E</td>\n",
       "    </tr>\n",
       "    <tr>\n",
       "      <td>4</td>\n",
       "      <td>Pokemon Red/Pokemon Blue</td>\n",
       "      <td>GB</td>\n",
       "      <td>1996.0</td>\n",
       "      <td>Role-Playing</td>\n",
       "      <td>11.27</td>\n",
       "      <td>8.89</td>\n",
       "      <td>10.22</td>\n",
       "      <td>1.00</td>\n",
       "      <td>NaN</td>\n",
       "      <td>NaN</td>\n",
       "      <td>NaN</td>\n",
       "    </tr>\n",
       "  </tbody>\n",
       "</table>\n",
       "</div>"
      ],
      "text/plain": [
       "                       Name Platform  Year_of_Release         Genre  NA_sales  \\\n",
       "0                Wii Sports      Wii           2006.0        Sports     41.36   \n",
       "1         Super Mario Bros.      NES           1985.0      Platform     29.08   \n",
       "2            Mario Kart Wii      Wii           2008.0        Racing     15.68   \n",
       "3         Wii Sports Resort      Wii           2009.0        Sports     15.61   \n",
       "4  Pokemon Red/Pokemon Blue       GB           1996.0  Role-Playing     11.27   \n",
       "\n",
       "   EU_sales  JP_sales  Other_sales  Critic_Score User_Score Rating  \n",
       "0     28.96      3.77         8.45          76.0          8      E  \n",
       "1      3.58      6.81         0.77           NaN        NaN    NaN  \n",
       "2     12.76      3.79         3.29          82.0        8.3      E  \n",
       "3     10.93      3.28         2.95          80.0          8      E  \n",
       "4      8.89     10.22         1.00           NaN        NaN    NaN  "
      ]
     },
     "execution_count": 7,
     "metadata": {},
     "output_type": "execute_result"
    }
   ],
   "source": [
    "df.head()"
   ]
  },
  {
   "cell_type": "markdown",
   "metadata": {
    "cellId": "olr6sqqu60bfb0kh7eazvl"
   },
   "source": [
    "Согласно заданию, в таблице содержится следующая информация:\n",
    "Описание данных\n",
    "- `Name` — название игры\n",
    "- `Platform` — платформа\n",
    "- `Year_of_Release` — год выпуска\n",
    "- `Genre` — жанр игры\n",
    "- `NA_sales` — продажи в Северной Америке (миллионы проданных копий)\n",
    "- `EU_sales` — продажи в Европе (миллионы проданных копий)\n",
    "- `JP_sales` — продажи в Японии (миллионы проданных копий)\n",
    "- `Other_sale` — продажи в других странах (миллионы проданных копий)\n",
    "- `Critic_Score` — оценка критиков (максимум 100)\n",
    "- `User_Score` — оценка пользователей (максимум 10)\n",
    "- `Rating` — рейтинг от организации ESRB (англ. Entertainment Software Rating Board). Эта ассоциация определяет рейтинг компьютерных игр и присваивает им подходящую возрастную категорию."
   ]
  },
  {
   "cell_type": "markdown",
   "metadata": {
    "cellId": "zwozbgk2axovcilc3p0rm"
   },
   "source": [
    "### Выводы\n",
    "\n",
    "Файл прочитался без проблем. Столбцы соответсвуют заявленным. В таблице присутствуют пропуски, с которыми требуется разобраться. Названия столбцов неплохо бы перевести в нижний регистр."
   ]
  },
  {
   "cell_type": "markdown",
   "metadata": {
    "cellId": "aovzod5xrpqh92w9gqyh0c"
   },
   "source": [
    "<a id='section_3'></a>\n",
    "## Предобработка данных"
   ]
  },
  {
   "cell_type": "markdown",
   "metadata": {
    "cellId": "m14v7ahn32rf3voajb83zr"
   },
   "source": [
    "Для удобства работы приведём названия столбцов к нижнему регистру"
   ]
  },
  {
   "cell_type": "code",
   "execution_count": 8,
   "metadata": {
    "cellId": "dk67oq25dg9273ncjujsfh"
   },
   "outputs": [],
   "source": [
    "df.columns = df.columns.str.lower()"
   ]
  },
  {
   "cell_type": "markdown",
   "metadata": {
    "cellId": "tfgqohnjoqr4epswde2uoq"
   },
   "source": [
    "Проверим на явные дубликаты"
   ]
  },
  {
   "cell_type": "code",
   "execution_count": 9,
   "metadata": {
    "cellId": "4d44egbuk1bs6n1p9id13q"
   },
   "outputs": [
    {
     "data": {
      "text/plain": [
       "0"
      ]
     },
     "execution_count": 9,
     "metadata": {},
     "output_type": "execute_result"
    }
   ],
   "source": [
    "df.duplicated().sum()"
   ]
  },
  {
   "cell_type": "markdown",
   "metadata": {
    "cellId": "y6ddcwks4a3dnsf59ats"
   },
   "source": [
    "Явных дубликатов не обнаружено."
   ]
  },
  {
   "cell_type": "code",
   "execution_count": 10,
   "metadata": {
    "cellId": "ac95xt3j05r111hne18tc"
   },
   "outputs": [
    {
     "data": {
      "text/plain": [
       "name                  2\n",
       "platform              0\n",
       "year_of_release     269\n",
       "genre                 2\n",
       "na_sales              0\n",
       "eu_sales              0\n",
       "jp_sales              0\n",
       "other_sales           0\n",
       "critic_score       8578\n",
       "user_score         6701\n",
       "rating             6766\n",
       "dtype: int64"
      ]
     },
     "execution_count": 10,
     "metadata": {},
     "output_type": "execute_result"
    }
   ],
   "source": [
    "df.isna().sum()"
   ]
  },
  {
   "cell_type": "markdown",
   "metadata": {
    "cellId": "ke9mwdwq8ikpxuecmrp2"
   },
   "source": [
    "Для начала посмотрим на пропуски в ключевом столбце `name`"
   ]
  },
  {
   "cell_type": "code",
   "execution_count": 11,
   "metadata": {
    "cellId": "an8whkjx6zpvbhbozsf5nr"
   },
   "outputs": [
    {
     "data": {
      "text/html": [
       "<div>\n",
       "<style scoped>\n",
       "    .dataframe tbody tr th:only-of-type {\n",
       "        vertical-align: middle;\n",
       "    }\n",
       "\n",
       "    .dataframe tbody tr th {\n",
       "        vertical-align: top;\n",
       "    }\n",
       "\n",
       "    .dataframe thead th {\n",
       "        text-align: right;\n",
       "    }\n",
       "</style>\n",
       "<table border=\"1\" class=\"dataframe\">\n",
       "  <thead>\n",
       "    <tr style=\"text-align: right;\">\n",
       "      <th></th>\n",
       "      <th>name</th>\n",
       "      <th>platform</th>\n",
       "      <th>year_of_release</th>\n",
       "      <th>genre</th>\n",
       "      <th>na_sales</th>\n",
       "      <th>eu_sales</th>\n",
       "      <th>jp_sales</th>\n",
       "      <th>other_sales</th>\n",
       "      <th>critic_score</th>\n",
       "      <th>user_score</th>\n",
       "      <th>rating</th>\n",
       "    </tr>\n",
       "  </thead>\n",
       "  <tbody>\n",
       "    <tr>\n",
       "      <td>659</td>\n",
       "      <td>NaN</td>\n",
       "      <td>GEN</td>\n",
       "      <td>1993.0</td>\n",
       "      <td>NaN</td>\n",
       "      <td>1.78</td>\n",
       "      <td>0.53</td>\n",
       "      <td>0.00</td>\n",
       "      <td>0.08</td>\n",
       "      <td>NaN</td>\n",
       "      <td>NaN</td>\n",
       "      <td>NaN</td>\n",
       "    </tr>\n",
       "    <tr>\n",
       "      <td>14244</td>\n",
       "      <td>NaN</td>\n",
       "      <td>GEN</td>\n",
       "      <td>1993.0</td>\n",
       "      <td>NaN</td>\n",
       "      <td>0.00</td>\n",
       "      <td>0.00</td>\n",
       "      <td>0.03</td>\n",
       "      <td>0.00</td>\n",
       "      <td>NaN</td>\n",
       "      <td>NaN</td>\n",
       "      <td>NaN</td>\n",
       "    </tr>\n",
       "  </tbody>\n",
       "</table>\n",
       "</div>"
      ],
      "text/plain": [
       "      name platform  year_of_release genre  na_sales  eu_sales  jp_sales  \\\n",
       "659    NaN      GEN           1993.0   NaN      1.78      0.53      0.00   \n",
       "14244  NaN      GEN           1993.0   NaN      0.00      0.00      0.03   \n",
       "\n",
       "       other_sales  critic_score user_score rating  \n",
       "659           0.08           NaN        NaN    NaN  \n",
       "14244         0.00           NaN        NaN    NaN  "
      ]
     },
     "execution_count": 11,
     "metadata": {},
     "output_type": "execute_result"
    }
   ],
   "source": [
    "df[df['name'].isna()]"
   ]
  },
  {
   "cell_type": "markdown",
   "metadata": {
    "cellId": "m43x11h2r6dnkqotlhnm8"
   },
   "source": [
    "Нет ни имени, ни жанра, ни рейтингов. Установить игру достаточно сложно, опираясь только на данные о продаже. Поэтому логично удалить эти записи, тем более, что записей всего 2. Удалим и перезагрузим индекс."
   ]
  },
  {
   "cell_type": "code",
   "execution_count": 12,
   "metadata": {
    "cellId": "xylwkqskammk5fuv59hhf"
   },
   "outputs": [],
   "source": [
    "df = df.dropna(subset = ['name']).reset_index(drop=True)"
   ]
  },
  {
   "cell_type": "code",
   "execution_count": 13,
   "metadata": {
    "cellId": "ccc9c19gjaovh5m0r145pt"
   },
   "outputs": [
    {
     "name": "stdout",
     "output_type": "stream",
     "text": [
      "<class 'pandas.core.frame.DataFrame'>\n",
      "RangeIndex: 16713 entries, 0 to 16712\n",
      "Data columns (total 11 columns):\n",
      "name               16713 non-null object\n",
      "platform           16713 non-null object\n",
      "year_of_release    16444 non-null float64\n",
      "genre              16713 non-null object\n",
      "na_sales           16713 non-null float64\n",
      "eu_sales           16713 non-null float64\n",
      "jp_sales           16713 non-null float64\n",
      "other_sales        16713 non-null float64\n",
      "critic_score       8137 non-null float64\n",
      "user_score         10014 non-null object\n",
      "rating             9949 non-null object\n",
      "dtypes: float64(6), object(5)\n",
      "memory usage: 1.4+ MB\n"
     ]
    }
   ],
   "source": [
    "df.info()"
   ]
  },
  {
   "cell_type": "markdown",
   "metadata": {
    "cellId": "daq69ncawv66vs2dy9thvc"
   },
   "source": [
    "Записей уменьшилось на 2. Теперь посмотрим, что с годами"
   ]
  },
  {
   "cell_type": "code",
   "execution_count": 14,
   "metadata": {
    "cellId": "7q87p7pxm8vsdznnk3d89f"
   },
   "outputs": [
    {
     "data": {
      "text/plain": [
       "1980.0       9\n",
       "1981.0      46\n",
       "1982.0      36\n",
       "1983.0      17\n",
       "1984.0      14\n",
       "1985.0      14\n",
       "1986.0      21\n",
       "1987.0      16\n",
       "1988.0      15\n",
       "1989.0      17\n",
       "1990.0      16\n",
       "1991.0      41\n",
       "1992.0      43\n",
       "1993.0      60\n",
       "1994.0     121\n",
       "1995.0     219\n",
       "1996.0     263\n",
       "1997.0     289\n",
       "1998.0     379\n",
       "1999.0     338\n",
       "2000.0     350\n",
       "2001.0     482\n",
       "2002.0     829\n",
       "2003.0     775\n",
       "2004.0     762\n",
       "2005.0     939\n",
       "2006.0    1006\n",
       "2007.0    1197\n",
       "2008.0    1427\n",
       "2009.0    1426\n",
       "2010.0    1255\n",
       "2011.0    1136\n",
       "2012.0     653\n",
       "2013.0     544\n",
       "2014.0     581\n",
       "2015.0     606\n",
       "2016.0     502\n",
       "NaN        269\n",
       "Name: year_of_release, dtype: int64"
      ]
     },
     "execution_count": 14,
     "metadata": {},
     "output_type": "execute_result"
    }
   ],
   "source": [
    "df['year_of_release'].value_counts(dropna=False).sort_index()"
   ]
  },
  {
   "cell_type": "markdown",
   "metadata": {
    "cellId": "nc5gm3q7x2arkw8zfpwchl"
   },
   "source": [
    "Получили распределние по годам. Присутствуют 269 пропусков. Взглянем на них"
   ]
  },
  {
   "cell_type": "code",
   "execution_count": 15,
   "metadata": {
    "cellId": "gu2rdd8v8sbpzeft757x4"
   },
   "outputs": [
    {
     "data": {
      "text/html": [
       "<div>\n",
       "<style scoped>\n",
       "    .dataframe tbody tr th:only-of-type {\n",
       "        vertical-align: middle;\n",
       "    }\n",
       "\n",
       "    .dataframe tbody tr th {\n",
       "        vertical-align: top;\n",
       "    }\n",
       "\n",
       "    .dataframe thead th {\n",
       "        text-align: right;\n",
       "    }\n",
       "</style>\n",
       "<table border=\"1\" class=\"dataframe\">\n",
       "  <thead>\n",
       "    <tr style=\"text-align: right;\">\n",
       "      <th></th>\n",
       "      <th>name</th>\n",
       "      <th>platform</th>\n",
       "      <th>year_of_release</th>\n",
       "      <th>genre</th>\n",
       "      <th>na_sales</th>\n",
       "      <th>eu_sales</th>\n",
       "      <th>jp_sales</th>\n",
       "      <th>other_sales</th>\n",
       "      <th>critic_score</th>\n",
       "      <th>user_score</th>\n",
       "      <th>rating</th>\n",
       "    </tr>\n",
       "  </thead>\n",
       "  <tbody>\n",
       "    <tr>\n",
       "      <td>183</td>\n",
       "      <td>Madden NFL 2004</td>\n",
       "      <td>PS2</td>\n",
       "      <td>NaN</td>\n",
       "      <td>Sports</td>\n",
       "      <td>4.26</td>\n",
       "      <td>0.26</td>\n",
       "      <td>0.01</td>\n",
       "      <td>0.71</td>\n",
       "      <td>94.0</td>\n",
       "      <td>8.5</td>\n",
       "      <td>E</td>\n",
       "    </tr>\n",
       "    <tr>\n",
       "      <td>377</td>\n",
       "      <td>FIFA Soccer 2004</td>\n",
       "      <td>PS2</td>\n",
       "      <td>NaN</td>\n",
       "      <td>Sports</td>\n",
       "      <td>0.59</td>\n",
       "      <td>2.36</td>\n",
       "      <td>0.04</td>\n",
       "      <td>0.51</td>\n",
       "      <td>84.0</td>\n",
       "      <td>6.4</td>\n",
       "      <td>E</td>\n",
       "    </tr>\n",
       "    <tr>\n",
       "      <td>456</td>\n",
       "      <td>LEGO Batman: The Videogame</td>\n",
       "      <td>Wii</td>\n",
       "      <td>NaN</td>\n",
       "      <td>Action</td>\n",
       "      <td>1.80</td>\n",
       "      <td>0.97</td>\n",
       "      <td>0.00</td>\n",
       "      <td>0.29</td>\n",
       "      <td>74.0</td>\n",
       "      <td>7.9</td>\n",
       "      <td>E10+</td>\n",
       "    </tr>\n",
       "    <tr>\n",
       "      <td>475</td>\n",
       "      <td>wwe Smackdown vs. Raw 2006</td>\n",
       "      <td>PS2</td>\n",
       "      <td>NaN</td>\n",
       "      <td>Fighting</td>\n",
       "      <td>1.57</td>\n",
       "      <td>1.02</td>\n",
       "      <td>0.00</td>\n",
       "      <td>0.41</td>\n",
       "      <td>NaN</td>\n",
       "      <td>NaN</td>\n",
       "      <td>NaN</td>\n",
       "    </tr>\n",
       "    <tr>\n",
       "      <td>609</td>\n",
       "      <td>Space Invaders</td>\n",
       "      <td>2600</td>\n",
       "      <td>NaN</td>\n",
       "      <td>Shooter</td>\n",
       "      <td>2.36</td>\n",
       "      <td>0.14</td>\n",
       "      <td>0.00</td>\n",
       "      <td>0.03</td>\n",
       "      <td>NaN</td>\n",
       "      <td>NaN</td>\n",
       "      <td>NaN</td>\n",
       "    </tr>\n",
       "    <tr>\n",
       "      <td>...</td>\n",
       "      <td>...</td>\n",
       "      <td>...</td>\n",
       "      <td>...</td>\n",
       "      <td>...</td>\n",
       "      <td>...</td>\n",
       "      <td>...</td>\n",
       "      <td>...</td>\n",
       "      <td>...</td>\n",
       "      <td>...</td>\n",
       "      <td>...</td>\n",
       "      <td>...</td>\n",
       "    </tr>\n",
       "    <tr>\n",
       "      <td>16371</td>\n",
       "      <td>PDC World Championship Darts 2008</td>\n",
       "      <td>PSP</td>\n",
       "      <td>NaN</td>\n",
       "      <td>Sports</td>\n",
       "      <td>0.01</td>\n",
       "      <td>0.00</td>\n",
       "      <td>0.00</td>\n",
       "      <td>0.00</td>\n",
       "      <td>43.0</td>\n",
       "      <td>tbd</td>\n",
       "      <td>E10+</td>\n",
       "    </tr>\n",
       "    <tr>\n",
       "      <td>16403</td>\n",
       "      <td>Freaky Flyers</td>\n",
       "      <td>GC</td>\n",
       "      <td>NaN</td>\n",
       "      <td>Racing</td>\n",
       "      <td>0.01</td>\n",
       "      <td>0.00</td>\n",
       "      <td>0.00</td>\n",
       "      <td>0.00</td>\n",
       "      <td>69.0</td>\n",
       "      <td>6.5</td>\n",
       "      <td>T</td>\n",
       "    </tr>\n",
       "    <tr>\n",
       "      <td>16446</td>\n",
       "      <td>Inversion</td>\n",
       "      <td>PC</td>\n",
       "      <td>NaN</td>\n",
       "      <td>Shooter</td>\n",
       "      <td>0.01</td>\n",
       "      <td>0.00</td>\n",
       "      <td>0.00</td>\n",
       "      <td>0.00</td>\n",
       "      <td>59.0</td>\n",
       "      <td>6.7</td>\n",
       "      <td>M</td>\n",
       "    </tr>\n",
       "    <tr>\n",
       "      <td>16456</td>\n",
       "      <td>Hakuouki: Shinsengumi Kitan</td>\n",
       "      <td>PS3</td>\n",
       "      <td>NaN</td>\n",
       "      <td>Adventure</td>\n",
       "      <td>0.01</td>\n",
       "      <td>0.00</td>\n",
       "      <td>0.00</td>\n",
       "      <td>0.00</td>\n",
       "      <td>NaN</td>\n",
       "      <td>NaN</td>\n",
       "      <td>NaN</td>\n",
       "    </tr>\n",
       "    <tr>\n",
       "      <td>16520</td>\n",
       "      <td>Virtua Quest</td>\n",
       "      <td>GC</td>\n",
       "      <td>NaN</td>\n",
       "      <td>Role-Playing</td>\n",
       "      <td>0.01</td>\n",
       "      <td>0.00</td>\n",
       "      <td>0.00</td>\n",
       "      <td>0.00</td>\n",
       "      <td>55.0</td>\n",
       "      <td>5.5</td>\n",
       "      <td>T</td>\n",
       "    </tr>\n",
       "  </tbody>\n",
       "</table>\n",
       "<p>269 rows × 11 columns</p>\n",
       "</div>"
      ],
      "text/plain": [
       "                                    name platform  year_of_release  \\\n",
       "183                      Madden NFL 2004      PS2              NaN   \n",
       "377                     FIFA Soccer 2004      PS2              NaN   \n",
       "456           LEGO Batman: The Videogame      Wii              NaN   \n",
       "475           wwe Smackdown vs. Raw 2006      PS2              NaN   \n",
       "609                       Space Invaders     2600              NaN   \n",
       "...                                  ...      ...              ...   \n",
       "16371  PDC World Championship Darts 2008      PSP              NaN   \n",
       "16403                      Freaky Flyers       GC              NaN   \n",
       "16446                          Inversion       PC              NaN   \n",
       "16456        Hakuouki: Shinsengumi Kitan      PS3              NaN   \n",
       "16520                       Virtua Quest       GC              NaN   \n",
       "\n",
       "              genre  na_sales  eu_sales  jp_sales  other_sales  critic_score  \\\n",
       "183          Sports      4.26      0.26      0.01         0.71          94.0   \n",
       "377          Sports      0.59      2.36      0.04         0.51          84.0   \n",
       "456          Action      1.80      0.97      0.00         0.29          74.0   \n",
       "475        Fighting      1.57      1.02      0.00         0.41           NaN   \n",
       "609         Shooter      2.36      0.14      0.00         0.03           NaN   \n",
       "...             ...       ...       ...       ...          ...           ...   \n",
       "16371        Sports      0.01      0.00      0.00         0.00          43.0   \n",
       "16403        Racing      0.01      0.00      0.00         0.00          69.0   \n",
       "16446       Shooter      0.01      0.00      0.00         0.00          59.0   \n",
       "16456     Adventure      0.01      0.00      0.00         0.00           NaN   \n",
       "16520  Role-Playing      0.01      0.00      0.00         0.00          55.0   \n",
       "\n",
       "      user_score rating  \n",
       "183          8.5      E  \n",
       "377          6.4      E  \n",
       "456          7.9   E10+  \n",
       "475          NaN    NaN  \n",
       "609          NaN    NaN  \n",
       "...          ...    ...  \n",
       "16371        tbd   E10+  \n",
       "16403        6.5      T  \n",
       "16446        6.7      M  \n",
       "16456        NaN    NaN  \n",
       "16520        5.5      T  \n",
       "\n",
       "[269 rows x 11 columns]"
      ]
     },
     "execution_count": 15,
     "metadata": {},
     "output_type": "execute_result"
    }
   ],
   "source": [
    "df[df['year_of_release'].isna()]"
   ]
  },
  {
   "cell_type": "markdown",
   "metadata": {
    "cellId": "443gfvayarbgzz2175esos"
   },
   "source": [
    "В принципе можно установить, в каком году была выпущена игра на основании названия и платформы. Но для всех записей это сделать не быстро. Для нас такой задачи не стоит, поэтому заполним пропупуски -1 и приведём к целому типу для удобства"
   ]
  },
  {
   "cell_type": "code",
   "execution_count": 16,
   "metadata": {
    "cellId": "w6vrmqvuwslemnlcpx2xr9"
   },
   "outputs": [],
   "source": [
    "df['year_of_release'] = df['year_of_release'].fillna(-1).astype('int64')"
   ]
  },
  {
   "cell_type": "markdown",
   "metadata": {
    "cellId": "o93o30gg9mac4aevl5mdoc"
   },
   "source": [
    "Посмотрим на каких платформах выпускались игры"
   ]
  },
  {
   "cell_type": "code",
   "execution_count": 17,
   "metadata": {
    "cellId": "bllnocqhqmim3j5mbs45f"
   },
   "outputs": [
    {
     "data": {
      "text/plain": [
       "PS2     2161\n",
       "DS      2151\n",
       "PS3     1331\n",
       "Wii     1320\n",
       "X360    1262\n",
       "PSP     1209\n",
       "PS      1197\n",
       "PC       974\n",
       "XB       824\n",
       "GBA      822\n",
       "GC       556\n",
       "3DS      520\n",
       "PSV      430\n",
       "PS4      392\n",
       "N64      319\n",
       "XOne     247\n",
       "SNES     239\n",
       "SAT      173\n",
       "WiiU     147\n",
       "2600     133\n",
       "GB        98\n",
       "NES       98\n",
       "DC        52\n",
       "GEN       27\n",
       "NG        12\n",
       "WS         6\n",
       "SCD        6\n",
       "3DO        3\n",
       "TG16       2\n",
       "PCFX       1\n",
       "GG         1\n",
       "Name: platform, dtype: int64"
      ]
     },
     "execution_count": 17,
     "metadata": {},
     "output_type": "execute_result"
    }
   ],
   "source": [
    "df['platform'].value_counts(dropna=False)"
   ]
  },
  {
   "cell_type": "markdown",
   "metadata": {
    "cellId": "prvf14sjw4pajl3kxnhw"
   },
   "source": [
    "Некоторые платформы встречаются только 1-2 раза. А некоторые имеют достаточно большое число записей-выпущенных игр."
   ]
  },
  {
   "cell_type": "markdown",
   "metadata": {
    "cellId": "ctyc3rndl9tk14su86vim"
   },
   "source": [
    "Посмотрим на продажи по регионам. В Северной Америке:"
   ]
  },
  {
   "cell_type": "code",
   "execution_count": 18,
   "metadata": {
    "cellId": "rqgl6y8wklloje5jmuqz0b"
   },
   "outputs": [
    {
     "data": {
      "text/plain": [
       "16712     0.00\n",
       "8065      0.00\n",
       "13311     0.00\n",
       "3718      0.00\n",
       "13312     0.00\n",
       "         ...  \n",
       "2        15.68\n",
       "5        23.20\n",
       "9        26.93\n",
       "1        29.08\n",
       "0        41.36\n",
       "Name: na_sales, Length: 16713, dtype: float64"
      ]
     },
     "execution_count": 18,
     "metadata": {},
     "output_type": "execute_result"
    }
   ],
   "source": [
    "df['na_sales'].sort_values()"
   ]
  },
  {
   "cell_type": "markdown",
   "metadata": {
    "cellId": "p9u83qwrhjcwoa10mrjt"
   },
   "source": [
    "В Европе"
   ]
  },
  {
   "cell_type": "code",
   "execution_count": 19,
   "metadata": {
    "cellId": "8tdhji3r17a53kmudw227m"
   },
   "outputs": [
    {
     "data": {
      "text/plain": [
       "16712     0.00\n",
       "12658     0.00\n",
       "12659     0.00\n",
       "10313     0.00\n",
       "12661     0.00\n",
       "         ...  \n",
       "19        9.20\n",
       "3        10.93\n",
       "10       10.95\n",
       "2        12.76\n",
       "0        28.96\n",
       "Name: eu_sales, Length: 16713, dtype: float64"
      ]
     },
     "execution_count": 19,
     "metadata": {},
     "output_type": "execute_result"
    }
   ],
   "source": [
    "df['eu_sales'].sort_values()"
   ]
  },
  {
   "cell_type": "markdown",
   "metadata": {
    "cellId": "fhk9qh8wr38p06kn8tcy2a"
   },
   "source": [
    "В Японии"
   ]
  },
  {
   "cell_type": "code",
   "execution_count": 20,
   "metadata": {
    "cellId": "4yah3g61p8vcdt7dqasb9"
   },
   "outputs": [
    {
     "data": {
      "text/plain": [
       "16712     0.00\n",
       "8065      0.00\n",
       "13311     0.00\n",
       "3718      0.00\n",
       "13312     0.00\n",
       "         ...  \n",
       "2        15.68\n",
       "5        23.20\n",
       "9        26.93\n",
       "1        29.08\n",
       "0        41.36\n",
       "Name: na_sales, Length: 16713, dtype: float64"
      ]
     },
     "execution_count": 20,
     "metadata": {},
     "output_type": "execute_result"
    }
   ],
   "source": [
    "df['na_sales'].sort_values()"
   ]
  },
  {
   "cell_type": "markdown",
   "metadata": {
    "cellId": "lgo2rvjd2wil8vccvf6mv"
   },
   "source": [
    "В других странах:"
   ]
  },
  {
   "cell_type": "code",
   "execution_count": 21,
   "metadata": {
    "cellId": "ev8y93f55qgr2oko026ei"
   },
   "outputs": [
    {
     "data": {
      "text/plain": [
       "8356      0.00\n",
       "12248     0.00\n",
       "12249     0.00\n",
       "12250     0.00\n",
       "12251     0.00\n",
       "         ...  \n",
       "2         3.29\n",
       "16        3.96\n",
       "48        7.53\n",
       "0         8.45\n",
       "17       10.57\n",
       "Name: other_sales, Length: 16713, dtype: float64"
      ]
     },
     "execution_count": 21,
     "metadata": {},
     "output_type": "execute_result"
    }
   ],
   "source": [
    "df['other_sales'].sort_values()"
   ]
  },
  {
   "cell_type": "markdown",
   "metadata": {
    "cellId": "hpes83i2ouljq75j68mwmc"
   },
   "source": [
    "Отрицательных значений нет. Это уже хорошо. Для дальнейшего анализа создадим столбец `total_sales` с суммаными продажами."
   ]
  },
  {
   "cell_type": "code",
   "execution_count": 22,
   "metadata": {
    "cellId": "vsft7aemuopbh6njpvc3l"
   },
   "outputs": [],
   "source": [
    "df['total_sales'] = df['na_sales']+df['eu_sales']+df['jp_sales']+df['other_sales']"
   ]
  },
  {
   "cell_type": "code",
   "execution_count": 23,
   "metadata": {
    "cellId": "1txw34zv9mormzc7wcrjh"
   },
   "outputs": [
    {
     "data": {
      "text/plain": [
       "16674     0.00\n",
       "16707     0.00\n",
       "16179     0.01\n",
       "16178     0.01\n",
       "16177     0.01\n",
       "         ...  \n",
       "4        31.38\n",
       "3        32.77\n",
       "2        35.52\n",
       "1        40.24\n",
       "0        82.54\n",
       "Name: total_sales, Length: 16713, dtype: float64"
      ]
     },
     "execution_count": 23,
     "metadata": {},
     "output_type": "execute_result"
    }
   ],
   "source": [
    "df['total_sales'].sort_values()"
   ]
  },
  {
   "cell_type": "markdown",
   "metadata": {
    "cellId": "q2jdph8xsfb3qw8n5630n"
   },
   "source": [
    "Всё вышло. Видим, что продажи изменяются от 0 до 82.54 млн.копий."
   ]
  },
  {
   "cell_type": "markdown",
   "metadata": {
    "cellId": "0e5m1qdadbuceevxt4kb8j"
   },
   "source": [
    "Пасмотрим на столбец `critic_score`"
   ]
  },
  {
   "cell_type": "code",
   "execution_count": 24,
   "metadata": {
    "cellId": "zsawdlboq1aelx9hj9fly"
   },
   "outputs": [
    {
     "data": {
      "text/plain": [
       "51       98.0\n",
       "227      98.0\n",
       "5349     98.0\n",
       "57       98.0\n",
       "97       97.0\n",
       "         ... \n",
       "16708     NaN\n",
       "16709     NaN\n",
       "16710     NaN\n",
       "16711     NaN\n",
       "16712     NaN\n",
       "Name: critic_score, Length: 16713, dtype: float64"
      ]
     },
     "execution_count": 24,
     "metadata": {},
     "output_type": "execute_result"
    }
   ],
   "source": [
    "df['critic_score'].sort_values(ascending=False)"
   ]
  },
  {
   "cell_type": "markdown",
   "metadata": {
    "cellId": "5f1clpmtk1bh11vpow91t7"
   },
   "source": [
    "Оценки содержат пропуски и максимум имеют 98 из 100. Посмотрим сводную информацию о столбце"
   ]
  },
  {
   "cell_type": "code",
   "execution_count": 25,
   "metadata": {
    "cellId": "nqpsb76lnl18f6p3tqejy"
   },
   "outputs": [
    {
     "data": {
      "text/plain": [
       "count    8137.000000\n",
       "mean       68.967679\n",
       "std        13.938165\n",
       "min        13.000000\n",
       "25%        60.000000\n",
       "50%        71.000000\n",
       "75%        79.000000\n",
       "max        98.000000\n",
       "Name: critic_score, dtype: float64"
      ]
     },
     "execution_count": 25,
     "metadata": {},
     "output_type": "execute_result"
    }
   ],
   "source": [
    "df['critic_score'].describe()"
   ]
  },
  {
   "cell_type": "markdown",
   "metadata": {
    "cellId": "wp3x3an1e401b1dbqfn6i2"
   },
   "source": [
    "Минимальная оценка 13. Максимальная 98. Пропуски в столбце могли возникнуть из-за того, что критики не оценивали игру, либо информацию просто не внесли в таблицу."
   ]
  },
  {
   "cell_type": "code",
   "execution_count": 26,
   "metadata": {
    "cellId": "bxkiiwr0a89v4q0sovzih"
   },
   "outputs": [],
   "source": [
    "df['critic_score'] = df['critic_score'].fillna(-1)"
   ]
  },
  {
   "cell_type": "markdown",
   "metadata": {
    "cellId": "8rb3vvwls3woo4sbnhjtvq"
   },
   "source": [
    "Посмотрим на столбец с `user_score`"
   ]
  },
  {
   "cell_type": "code",
   "execution_count": 27,
   "metadata": {
    "cellId": "ceo5uin82k5iydquyrzzno"
   },
   "outputs": [
    {
     "data": {
      "text/plain": [
       "16704    tbd\n",
       "10147    tbd\n",
       "10145    tbd\n",
       "10144    tbd\n",
       "10143    tbd\n",
       "        ... \n",
       "16708    NaN\n",
       "16709    NaN\n",
       "16710    NaN\n",
       "16711    NaN\n",
       "16712    NaN\n",
       "Name: user_score, Length: 16713, dtype: object"
      ]
     },
     "execution_count": 27,
     "metadata": {},
     "output_type": "execute_result"
    }
   ],
   "source": [
    "df['user_score'].sort_values(ascending=False)"
   ]
  },
  {
   "cell_type": "code",
   "execution_count": 28,
   "metadata": {
    "cellId": "vllzunl80q513xdioc0wn"
   },
   "outputs": [
    {
     "data": {
      "text/plain": [
       "NaN    6699\n",
       "tbd    2424\n",
       "7.8     324\n",
       "8       290\n",
       "8.2     282\n",
       "       ... \n",
       "0.2       2\n",
       "0.3       2\n",
       "1.1       2\n",
       "0         1\n",
       "9.7       1\n",
       "Name: user_score, Length: 97, dtype: int64"
      ]
     },
     "execution_count": 28,
     "metadata": {},
     "output_type": "execute_result"
    }
   ],
   "source": [
    "df['user_score'].value_counts(dropna=False)"
   ]
  },
  {
   "cell_type": "markdown",
   "metadata": {
    "cellId": "gazpsrwwffqfchthjsq69"
   },
   "source": [
    "Видим, что достаточно много пропусков и много значений `tbd`, что значит *to be determined* (будет определён)."
   ]
  },
  {
   "cell_type": "markdown",
   "metadata": {
    "cellId": "vqg48xors6j0eep8sfa83r7"
   },
   "source": [
    "Посмотрим на статистику столбца. Для этого сделаем выборку из значений, которые не имеют пропуски и не равны *tbd* и переведём в *flaot64*"
   ]
  },
  {
   "cell_type": "code",
   "execution_count": 29,
   "metadata": {
    "cellId": "rm115op9kff0h9d8o56to",
    "scrolled": false
   },
   "outputs": [
    {
     "data": {
      "text/plain": [
       "count    7590.000000\n",
       "mean        7.125046\n",
       "std         1.500006\n",
       "min         0.000000\n",
       "25%         6.400000\n",
       "50%         7.500000\n",
       "75%         8.200000\n",
       "max         9.700000\n",
       "Name: user_score, dtype: float64"
      ]
     },
     "execution_count": 29,
     "metadata": {},
     "output_type": "execute_result"
    }
   ],
   "source": [
    "df.loc[(df['user_score'].notna()) & (df['user_score']!='tbd')]['user_score'].astype('float64').describe()"
   ]
  },
  {
   "cell_type": "code",
   "execution_count": 30,
   "metadata": {
    "cellId": "flih1c858imrjdovi5l45"
   },
   "outputs": [],
   "source": [
    "df['user_score'] = df['user_score'].fillna(-1)"
   ]
  },
  {
   "cell_type": "code",
   "execution_count": 31,
   "metadata": {
    "cellId": "7jz5ntqxnuowd59tukkyaf"
   },
   "outputs": [],
   "source": [
    "df.loc[df['user_score']=='tbd', 'user_score'] = -1"
   ]
  },
  {
   "cell_type": "markdown",
   "metadata": {
    "cellId": "26f1a55xnbbtm7v7kw2jvo"
   },
   "source": [
    "Теперь переведём в тип *float64*"
   ]
  },
  {
   "cell_type": "code",
   "execution_count": 32,
   "metadata": {
    "cellId": "8on7lf6s8bb61aeffnzot"
   },
   "outputs": [],
   "source": [
    "df['user_score'] = df['user_score'].astype('float64')"
   ]
  },
  {
   "cell_type": "markdown",
   "metadata": {
    "cellId": "6pyiazcnr1878mg38pnccx"
   },
   "source": [
    "Посмотрим на столбец `rating`"
   ]
  },
  {
   "cell_type": "code",
   "execution_count": 33,
   "metadata": {
    "cellId": "gm339kc27iuuri1wkfak"
   },
   "outputs": [
    {
     "data": {
      "text/plain": [
       "NaN     6764\n",
       "E       3990\n",
       "T       2961\n",
       "M       1563\n",
       "E10+    1420\n",
       "EC         8\n",
       "RP         3\n",
       "K-A        3\n",
       "AO         1\n",
       "Name: rating, dtype: int64"
      ]
     },
     "execution_count": 33,
     "metadata": {},
     "output_type": "execute_result"
    }
   ],
   "source": [
    "df['rating'].value_counts(dropna=False)"
   ]
  },
  {
   "cell_type": "markdown",
   "metadata": {
    "cellId": "c2881lsjn2t0q0qyyjewli"
   },
   "source": [
    "Есть пропуски в рейтинге и их достаточно много. Заменим их на строковое значение *NR (no rating)*. Рейтинг *K-A* аналогичен рейтингу *E* (согласно википедии). А рейтинг *RP* присуждается только для рекламных презентаций. Его можно заменить на определённый исходя из данных в открытых источниках, но пока оставим как есть."
   ]
  },
  {
   "cell_type": "code",
   "execution_count": 34,
   "metadata": {
    "cellId": "5eywhg2qluatn7awk8eri"
   },
   "outputs": [],
   "source": [
    "df['rating'] = df['rating'].fillna('NR')"
   ]
  },
  {
   "cell_type": "code",
   "execution_count": 35,
   "metadata": {
    "cellId": "rjvbplfsbpcw3p2zahmzo"
   },
   "outputs": [],
   "source": [
    "df.loc[df['rating']=='K-A', 'rating'] = 'E'"
   ]
  },
  {
   "cell_type": "markdown",
   "metadata": {
    "cellId": "dns2brdi32s2m7y0n9ekd"
   },
   "source": [
    "Посмотрим на результат."
   ]
  },
  {
   "cell_type": "code",
   "execution_count": 36,
   "metadata": {
    "cellId": "bhshqqd1xzjp3ztavoixkr"
   },
   "outputs": [
    {
     "name": "stdout",
     "output_type": "stream",
     "text": [
      "<class 'pandas.core.frame.DataFrame'>\n",
      "RangeIndex: 16713 entries, 0 to 16712\n",
      "Data columns (total 12 columns):\n",
      "name               16713 non-null object\n",
      "platform           16713 non-null object\n",
      "year_of_release    16713 non-null int64\n",
      "genre              16713 non-null object\n",
      "na_sales           16713 non-null float64\n",
      "eu_sales           16713 non-null float64\n",
      "jp_sales           16713 non-null float64\n",
      "other_sales        16713 non-null float64\n",
      "critic_score       16713 non-null float64\n",
      "user_score         16713 non-null float64\n",
      "rating             16713 non-null object\n",
      "total_sales        16713 non-null float64\n",
      "dtypes: float64(7), int64(1), object(4)\n",
      "memory usage: 1.5+ MB\n"
     ]
    }
   ],
   "source": [
    "df.info()"
   ]
  },
  {
   "cell_type": "markdown",
   "metadata": {
    "cellId": "rrtgtuamryfet9z360eaet"
   },
   "source": [
    "Пропуски убрали. Типы привели к удобныйм."
   ]
  },
  {
   "cell_type": "markdown",
   "metadata": {
    "cellId": "td894z8u9pq4rtrtpqdea"
   },
   "source": [
    "### Выводы\n",
    "\n",
    "В ходе предобрадотки данных установили, что явных дубликатов нет. Пропуски в названии игр удалили (2 записи). Пропуски в годах выпуска заменили на -1. Пропуски в оценках заменили медианными значениями. Добавили столбцы-индикаторы произведения таких замен. Для рейтингов пропуски заменили на *NR (no rating)* и рейтинг *K-A* заменили на *E*."
   ]
  },
  {
   "cell_type": "markdown",
   "metadata": {
    "cellId": "qjwxt47j58pwqmy9a6ccj"
   },
   "source": [
    "<a id='section_4'></a>\n",
    "## Анализ данных\n",
    "<a id='section_4_1'></a>\n",
    "### Распределение игр по годам\n",
    "\n",
    "Определим, сколько игр выпускалось в разные годы. Для удобства значения отразим на гистограмме. Те записи, для которых не был указан год выпуска не включим в диапазон."
   ]
  },
  {
   "cell_type": "code",
   "execution_count": 37,
   "metadata": {
    "cellId": "2fqvaoflyk29nf6gqgdbif"
   },
   "outputs": [
    {
     "data": {
      "image/png": "[encoded data removed]",
      "text/plain": [
       "<Figure size 720x432 with 1 Axes>"
      ]
     },
     "metadata": {
      "needs_background": "light"
     },
     "output_type": "display_data"
    }
   ],
   "source": [
    "hist = df['year_of_release'].hist(bins=37,range=(1980,2017), figsize= (10,6))\n",
    "hist.set_xlabel('Годы')\n",
    "hist.set_ylabel(\"Количество игр\")\n",
    "plt.title('Количество выпущенных игр по годам')\n",
    "plt.show()"
   ]
  },
  {
   "cell_type": "markdown",
   "metadata": {
    "cellId": "piusvpra2mj2aocuiai7q"
   },
   "source": [
    "Количество игр по платформам возрастало с 1990 года до 2009. Затем наблюдается некоторый спад. Важны ли данные за весь период? Скорее всего нет. Большую роль играет окружение пользователей, насколько изменились технологии и среда. Игры, которые были на пике популярности в 90-е годы сейчас не смогут конкурировать с современными по уровню графики например."
   ]
  },
  {
   "cell_type": "markdown",
   "metadata": {
    "cellId": "qi3xt63lbmmaqtshbxna"
   },
   "source": [
    "Посмотрим, как менялись продажи по платформам в различные годы. Для это построим сделаем сводную талицу по платформам и годам и суммируем количество продаж. Затем построи *heatmap* с разбиением по годам"
   ]
  },
  {
   "cell_type": "code",
   "execution_count": 38,
   "metadata": {
    "cellId": "1adjlmgaoyuseyfd451imi"
   },
   "outputs": [
    {
     "data": {
      "image/png": "[encoded data removed]",
      "text/plain": [
       "<Figure size 1440x504 with 2 Axes>"
      ]
     },
     "metadata": {
      "needs_background": "light"
     },
     "output_type": "display_data"
    }
   ],
   "source": [
    "fig, heat = plt.subplots(figsize = (20,7))\n",
    "heat = sns.heatmap(pd.pivot_table(df, values=['total_sales'], index=df['platform'], columns=df['year_of_release'], aggfunc='sum'), linewidths = 1, linecolor = 'black')\n",
    "plt.title('Продажи игр на платформах по годам');"
   ]
  },
  {
   "cell_type": "markdown",
   "metadata": {
    "cellId": "vihjde6lemhmr3l2598us"
   },
   "source": [
    "Видим, что есть определённые периоды популярности платформ. Посмотрим, какие платформы имеют наибольшее число продаж за все годы."
   ]
  },
  {
   "cell_type": "code",
   "execution_count": 39,
   "metadata": {
    "cellId": "aahjicgqxzn1c85tgqub0i"
   },
   "outputs": [
    {
     "data": {
      "text/plain": [
       "platform\n",
       "PS2     1255.77\n",
       "X360     971.42\n",
       "PS3      939.65\n",
       "Wii      907.51\n",
       "DS       806.12\n",
       "PS       730.86\n",
       "GBA      317.85\n",
       "PS4      314.14\n",
       "PSP      294.05\n",
       "PC       259.52\n",
       "3DS      259.00\n",
       "XB       257.74\n",
       "GB       255.46\n",
       "NES      251.05\n",
       "N64      218.68\n",
       "SNES     200.04\n",
       "GC       198.93\n",
       "XOne     159.32\n",
       "2600      96.98\n",
       "WiiU      82.19\n",
       "PSV       54.07\n",
       "SAT       33.59\n",
       "GEN       28.35\n",
       "DC        15.95\n",
       "SCD        1.86\n",
       "NG         1.44\n",
       "WS         1.42\n",
       "TG16       0.16\n",
       "3DO        0.10\n",
       "GG         0.04\n",
       "PCFX       0.03\n",
       "Name: total_sales, dtype: float64"
      ]
     },
     "execution_count": 39,
     "metadata": {},
     "output_type": "execute_result"
    }
   ],
   "source": [
    "df.groupby('platform')['total_sales'].sum().sort_values(ascending=False)"
   ]
  },
  {
   "cell_type": "markdown",
   "metadata": {
    "cellId": "dxya4ldetfarhybob03zjk"
   },
   "source": [
    "Наиболее популярные платформы - PS2, X360 и т.д. Построим график распределения для PS2. "
   ]
  },
  {
   "cell_type": "code",
   "execution_count": 40,
   "metadata": {
    "cellId": "lqvps7ly776rr8x3pc2gq"
   },
   "outputs": [
    {
     "data": {
      "image/png": "[encoded data removed]",
      "text/plain": [
       "<Figure size 720x360 with 1 Axes>"
      ]
     },
     "metadata": {
      "needs_background": "light"
     },
     "output_type": "display_data"
    }
   ],
   "source": [
    "fig, bar1 = plt.subplots(figsize = (10,5))\n",
    "bar1 = df[df['platform'] == 'PS2'].groupby('year_of_release')['total_sales'].sum().plot(kind='bar', grid=True)\n",
    "plt.title('Количество проданных копий игр по годам для PS2, млн шт.')\n",
    "bar1.set_xlabel('Годы')\n",
    "bar1.set_ylabel(\"Количество проданных копий\")\n",
    "plt.show()"
   ]
  },
  {
   "cell_type": "markdown",
   "metadata": {
    "cellId": "4imzjybzcraql56aof5isg"
   },
   "source": [
    "Аналогично и для X360"
   ]
  },
  {
   "cell_type": "code",
   "execution_count": 41,
   "metadata": {
    "cellId": "bv6xhuypi2j0x74vo2ih54",
    "scrolled": false
   },
   "outputs": [
    {
     "data": {
      "image/png": "[encoded data removed]",
      "text/plain": [
       "<Figure size 720x360 with 1 Axes>"
      ]
     },
     "metadata": {
      "needs_background": "light"
     },
     "output_type": "display_data"
    }
   ],
   "source": [
    "fig, bar1 = plt.subplots(figsize = (10,5))\n",
    "bar1 = df[df['platform'] == 'X360'].groupby('year_of_release')['total_sales'].sum().plot(kind='bar', grid=True)\n",
    "plt.title('Количество проданных копий игр по годам для X360, млн шт.')\n",
    "bar1.set_xlabel('Годы')\n",
    "bar1.set_ylabel(\"Количество проданных копий\")\n",
    "plt.show()"
   ]
  },
  {
   "cell_type": "markdown",
   "metadata": {},
   "source": [
    "-1 на графике соответствует играм, у которых не указан год выпуска на платформе."
   ]
  },
  {
   "cell_type": "markdown",
   "metadata": {
    "cellId": "tafo3jmfjlnktfmr3b0vha"
   },
   "source": [
    "<a id='section_4_2'></a>\n",
    "### Анализ платформ\n",
    "Попробуем определить, какой срок жизни имеют платформы. Для этого сгруппируем названия игр по платформам и годам"
   ]
  },
  {
   "cell_type": "code",
   "execution_count": 42,
   "metadata": {
    "cellId": "9h3pzhsi5bqsgge6n9zuw"
   },
   "outputs": [],
   "source": [
    "df_life =  df[df['year_of_release']>0].groupby(['platform','year_of_release'])['name'].count()"
   ]
  },
  {
   "cell_type": "code",
   "execution_count": 43,
   "metadata": {
    "cellId": "z9f7kn6sxvhiztc433mz9"
   },
   "outputs": [
    {
     "data": {
      "text/plain": [
       "platform  year_of_release\n",
       "2600      1980                9\n",
       "          1981               46\n",
       "          1982               36\n",
       "          1983               11\n",
       "          1984                1\n",
       "                             ..\n",
       "XB        2008                1\n",
       "XOne      2013               19\n",
       "          2014               61\n",
       "          2015               80\n",
       "          2016               87\n",
       "Name: name, Length: 238, dtype: int64"
      ]
     },
     "execution_count": 43,
     "metadata": {},
     "output_type": "execute_result"
    }
   ],
   "source": [
    "df_life"
   ]
  },
  {
   "cell_type": "markdown",
   "metadata": {
    "cellId": "5eefd1apqampgv6ysoct6"
   },
   "source": [
    "Теперь сбросим индекс"
   ]
  },
  {
   "cell_type": "code",
   "execution_count": 44,
   "metadata": {
    "cellId": "vu3gft8hsljeg9r3nloaf"
   },
   "outputs": [],
   "source": [
    "df_life=df_life.reset_index()"
   ]
  },
  {
   "cell_type": "code",
   "execution_count": 45,
   "metadata": {
    "cellId": "f5dtb6d9rr7nbdywv6p1k"
   },
   "outputs": [
    {
     "data": {
      "text/html": [
       "<div>\n",
       "<style scoped>\n",
       "    .dataframe tbody tr th:only-of-type {\n",
       "        vertical-align: middle;\n",
       "    }\n",
       "\n",
       "    .dataframe tbody tr th {\n",
       "        vertical-align: top;\n",
       "    }\n",
       "\n",
       "    .dataframe thead th {\n",
       "        text-align: right;\n",
       "    }\n",
       "</style>\n",
       "<table border=\"1\" class=\"dataframe\">\n",
       "  <thead>\n",
       "    <tr style=\"text-align: right;\">\n",
       "      <th></th>\n",
       "      <th>platform</th>\n",
       "      <th>year_of_release</th>\n",
       "      <th>name</th>\n",
       "    </tr>\n",
       "  </thead>\n",
       "  <tbody>\n",
       "    <tr>\n",
       "      <td>0</td>\n",
       "      <td>2600</td>\n",
       "      <td>1980</td>\n",
       "      <td>9</td>\n",
       "    </tr>\n",
       "    <tr>\n",
       "      <td>1</td>\n",
       "      <td>2600</td>\n",
       "      <td>1981</td>\n",
       "      <td>46</td>\n",
       "    </tr>\n",
       "    <tr>\n",
       "      <td>2</td>\n",
       "      <td>2600</td>\n",
       "      <td>1982</td>\n",
       "      <td>36</td>\n",
       "    </tr>\n",
       "    <tr>\n",
       "      <td>3</td>\n",
       "      <td>2600</td>\n",
       "      <td>1983</td>\n",
       "      <td>11</td>\n",
       "    </tr>\n",
       "    <tr>\n",
       "      <td>4</td>\n",
       "      <td>2600</td>\n",
       "      <td>1984</td>\n",
       "      <td>1</td>\n",
       "    </tr>\n",
       "    <tr>\n",
       "      <td>...</td>\n",
       "      <td>...</td>\n",
       "      <td>...</td>\n",
       "      <td>...</td>\n",
       "    </tr>\n",
       "    <tr>\n",
       "      <td>233</td>\n",
       "      <td>XB</td>\n",
       "      <td>2008</td>\n",
       "      <td>1</td>\n",
       "    </tr>\n",
       "    <tr>\n",
       "      <td>234</td>\n",
       "      <td>XOne</td>\n",
       "      <td>2013</td>\n",
       "      <td>19</td>\n",
       "    </tr>\n",
       "    <tr>\n",
       "      <td>235</td>\n",
       "      <td>XOne</td>\n",
       "      <td>2014</td>\n",
       "      <td>61</td>\n",
       "    </tr>\n",
       "    <tr>\n",
       "      <td>236</td>\n",
       "      <td>XOne</td>\n",
       "      <td>2015</td>\n",
       "      <td>80</td>\n",
       "    </tr>\n",
       "    <tr>\n",
       "      <td>237</td>\n",
       "      <td>XOne</td>\n",
       "      <td>2016</td>\n",
       "      <td>87</td>\n",
       "    </tr>\n",
       "  </tbody>\n",
       "</table>\n",
       "<p>238 rows × 3 columns</p>\n",
       "</div>"
      ],
      "text/plain": [
       "    platform  year_of_release  name\n",
       "0       2600             1980     9\n",
       "1       2600             1981    46\n",
       "2       2600             1982    36\n",
       "3       2600             1983    11\n",
       "4       2600             1984     1\n",
       "..       ...              ...   ...\n",
       "233       XB             2008     1\n",
       "234     XOne             2013    19\n",
       "235     XOne             2014    61\n",
       "236     XOne             2015    80\n",
       "237     XOne             2016    87\n",
       "\n",
       "[238 rows x 3 columns]"
      ]
     },
     "execution_count": 45,
     "metadata": {},
     "output_type": "execute_result"
    }
   ],
   "source": [
    "df_life"
   ]
  },
  {
   "cell_type": "markdown",
   "metadata": {
    "cellId": "4k9idxg27n9jgc5zkvuds"
   },
   "source": [
    "Теперь сгруппируем по платформам и от максимального значения года отнимем минимальное. Изначально мы не учитывали записи с пропуском в поле год выпуска. Могли конечно просто посчитать к-во лет в группировке по платформам, но есть ситуации, когда в определённый год не выпускались игры для платформы, а годом ранее и годом позже выпускались. Также добавим единицу к записи. Так при выпуске игр для платформы с 2010 по 2012 год считаем что платформа жила 3 года."
   ]
  },
  {
   "cell_type": "code",
   "execution_count": 46,
   "metadata": {
    "cellId": "jed9ep3jp7z8czenuz2b"
   },
   "outputs": [
    {
     "data": {
      "text/plain": [
       "platform\n",
       "2600    10\n",
       "3DO      2\n",
       "3DS      6\n",
       "DC      11\n",
       "DS      29\n",
       "GB      14\n",
       "GBA      8\n",
       "GC       7\n",
       "GEN      5\n",
       "GG       1\n",
       "N64      7\n",
       "NES     12\n",
       "NG       4\n",
       "PC      32\n",
       "PCFX     1\n",
       "PS      10\n",
       "PS2     12\n",
       "PS3     11\n",
       "PS4      4\n",
       "PSP     12\n",
       "PSV      6\n",
       "SAT      6\n",
       "SCD      2\n",
       "SNES    10\n",
       "TG16     1\n",
       "WS       3\n",
       "Wii     11\n",
       "WiiU     5\n",
       "X360    12\n",
       "XB       9\n",
       "XOne     4\n",
       "Name: year_of_release, dtype: int64"
      ]
     },
     "execution_count": 46,
     "metadata": {},
     "output_type": "execute_result"
    }
   ],
   "source": [
    "df_life.groupby('platform')['year_of_release'].max()-df_life.groupby('platform')['year_of_release'].min()+1"
   ]
  },
  {
   "cell_type": "markdown",
   "metadata": {
    "cellId": "zhpanx0bvzzeu1yuot15e"
   },
   "source": [
    "Выведем основные показатели. "
   ]
  },
  {
   "cell_type": "code",
   "execution_count": 47,
   "metadata": {
    "cellId": "rsz6n2lwrg8azik00ptcei"
   },
   "outputs": [
    {
     "data": {
      "text/plain": [
       "count    31.000000\n",
       "mean      8.612903\n",
       "std       6.998464\n",
       "min       1.000000\n",
       "25%       4.000000\n",
       "50%       7.000000\n",
       "75%      11.000000\n",
       "max      32.000000\n",
       "Name: year_of_release, dtype: float64"
      ]
     },
     "execution_count": 47,
     "metadata": {},
     "output_type": "execute_result"
    }
   ],
   "source": [
    "(df_life.groupby('platform')['year_of_release'].max()-df_life.groupby('platform')['year_of_release'].min()+1).describe()"
   ]
  },
  {
   "cell_type": "markdown",
   "metadata": {
    "cellId": "ysrgs3xo9lhfvrh5fkcqrj"
   },
   "source": [
    "Видим, что в среднем платформы живут порядка 9 лет. При этом есть как платформы - одногодки, так и ветераны."
   ]
  },
  {
   "cell_type": "markdown",
   "metadata": {
    "cellId": "hbu2fvw395b6q8af8act1h"
   },
   "source": [
    "Период в 9 лет выглядит правдоподобным при определении актуальности платформ. Таким образом сформируем таблицу, которая будет включать данные только с 2009 года. Тогда 2017 будет входить в средний срок жизни платформ, выпущенных (если они были) в 2009 году."
   ]
  },
  {
   "cell_type": "code",
   "execution_count": 48,
   "metadata": {},
   "outputs": [
    {
     "data": {
      "image/png": "[encoded data removed]",
      "text/plain": [
       "<Figure size 720x216 with 2 Axes>"
      ]
     },
     "metadata": {
      "needs_background": "light"
     },
     "output_type": "display_data"
    }
   ],
   "source": [
    "\n",
    "platform_sales_pivot = df.query('year_of_release >= 2012').pivot_table(index = 'year_of_release', columns = 'platform', \n",
    "                  values = 'total_sales', aggfunc = 'sum')\n",
    "plt.figure(figsize = (10, 3))\n",
    "sns.heatmap(platform_sales_pivot, annot = True, fmt='.4g', cmap = \"coolwarm\")\n",
    "plt.show()"
   ]
  },
  {
   "cell_type": "code",
   "execution_count": 49,
   "metadata": {
    "cellId": "shcb0tmfomjmvpdmhz0ei8"
   },
   "outputs": [],
   "source": [
    "df_actual=df[df['year_of_release']>=2012]"
   ]
  },
  {
   "cell_type": "code",
   "execution_count": 50,
   "metadata": {
    "cellId": "c3czjxdluaoevq9k2tq2o"
   },
   "outputs": [
    {
     "data": {
      "text/html": [
       "<div>\n",
       "<style scoped>\n",
       "    .dataframe tbody tr th:only-of-type {\n",
       "        vertical-align: middle;\n",
       "    }\n",
       "\n",
       "    .dataframe tbody tr th {\n",
       "        vertical-align: top;\n",
       "    }\n",
       "\n",
       "    .dataframe thead th {\n",
       "        text-align: right;\n",
       "    }\n",
       "</style>\n",
       "<table border=\"1\" class=\"dataframe\">\n",
       "  <thead>\n",
       "    <tr style=\"text-align: right;\">\n",
       "      <th></th>\n",
       "      <th>name</th>\n",
       "      <th>platform</th>\n",
       "      <th>year_of_release</th>\n",
       "      <th>genre</th>\n",
       "      <th>na_sales</th>\n",
       "      <th>eu_sales</th>\n",
       "      <th>jp_sales</th>\n",
       "      <th>other_sales</th>\n",
       "      <th>critic_score</th>\n",
       "      <th>user_score</th>\n",
       "      <th>rating</th>\n",
       "      <th>total_sales</th>\n",
       "    </tr>\n",
       "  </thead>\n",
       "  <tbody>\n",
       "    <tr>\n",
       "      <td>16</td>\n",
       "      <td>Grand Theft Auto V</td>\n",
       "      <td>PS3</td>\n",
       "      <td>2013</td>\n",
       "      <td>Action</td>\n",
       "      <td>7.02</td>\n",
       "      <td>9.09</td>\n",
       "      <td>0.98</td>\n",
       "      <td>3.96</td>\n",
       "      <td>97.0</td>\n",
       "      <td>8.2</td>\n",
       "      <td>M</td>\n",
       "      <td>21.05</td>\n",
       "    </tr>\n",
       "    <tr>\n",
       "      <td>23</td>\n",
       "      <td>Grand Theft Auto V</td>\n",
       "      <td>X360</td>\n",
       "      <td>2013</td>\n",
       "      <td>Action</td>\n",
       "      <td>9.66</td>\n",
       "      <td>5.14</td>\n",
       "      <td>0.06</td>\n",
       "      <td>1.41</td>\n",
       "      <td>97.0</td>\n",
       "      <td>8.1</td>\n",
       "      <td>M</td>\n",
       "      <td>16.27</td>\n",
       "    </tr>\n",
       "    <tr>\n",
       "      <td>31</td>\n",
       "      <td>Call of Duty: Black Ops 3</td>\n",
       "      <td>PS4</td>\n",
       "      <td>2015</td>\n",
       "      <td>Shooter</td>\n",
       "      <td>6.03</td>\n",
       "      <td>5.86</td>\n",
       "      <td>0.36</td>\n",
       "      <td>2.38</td>\n",
       "      <td>-1.0</td>\n",
       "      <td>-1.0</td>\n",
       "      <td>NR</td>\n",
       "      <td>14.63</td>\n",
       "    </tr>\n",
       "    <tr>\n",
       "      <td>33</td>\n",
       "      <td>Pokemon X/Pokemon Y</td>\n",
       "      <td>3DS</td>\n",
       "      <td>2013</td>\n",
       "      <td>Role-Playing</td>\n",
       "      <td>5.28</td>\n",
       "      <td>4.19</td>\n",
       "      <td>4.35</td>\n",
       "      <td>0.78</td>\n",
       "      <td>-1.0</td>\n",
       "      <td>-1.0</td>\n",
       "      <td>NR</td>\n",
       "      <td>14.60</td>\n",
       "    </tr>\n",
       "    <tr>\n",
       "      <td>34</td>\n",
       "      <td>Call of Duty: Black Ops II</td>\n",
       "      <td>PS3</td>\n",
       "      <td>2012</td>\n",
       "      <td>Shooter</td>\n",
       "      <td>4.99</td>\n",
       "      <td>5.73</td>\n",
       "      <td>0.65</td>\n",
       "      <td>2.42</td>\n",
       "      <td>83.0</td>\n",
       "      <td>5.3</td>\n",
       "      <td>M</td>\n",
       "      <td>13.79</td>\n",
       "    </tr>\n",
       "  </tbody>\n",
       "</table>\n",
       "</div>"
      ],
      "text/plain": [
       "                          name platform  year_of_release         genre  \\\n",
       "16          Grand Theft Auto V      PS3             2013        Action   \n",
       "23          Grand Theft Auto V     X360             2013        Action   \n",
       "31   Call of Duty: Black Ops 3      PS4             2015       Shooter   \n",
       "33         Pokemon X/Pokemon Y      3DS             2013  Role-Playing   \n",
       "34  Call of Duty: Black Ops II      PS3             2012       Shooter   \n",
       "\n",
       "    na_sales  eu_sales  jp_sales  other_sales  critic_score  user_score  \\\n",
       "16      7.02      9.09      0.98         3.96          97.0         8.2   \n",
       "23      9.66      5.14      0.06         1.41          97.0         8.1   \n",
       "31      6.03      5.86      0.36         2.38          -1.0        -1.0   \n",
       "33      5.28      4.19      4.35         0.78          -1.0        -1.0   \n",
       "34      4.99      5.73      0.65         2.42          83.0         5.3   \n",
       "\n",
       "   rating  total_sales  \n",
       "16      M        21.05  \n",
       "23      M        16.27  \n",
       "31     NR        14.63  \n",
       "33     NR        14.60  \n",
       "34      M        13.79  "
      ]
     },
     "execution_count": 50,
     "metadata": {},
     "output_type": "execute_result"
    }
   ],
   "source": [
    "df_actual.head()"
   ]
  },
  {
   "cell_type": "code",
   "execution_count": 51,
   "metadata": {
    "cellId": "eggcbgelygsxzp8bc0dn"
   },
   "outputs": [
    {
     "name": "stdout",
     "output_type": "stream",
     "text": [
      "<class 'pandas.core.frame.DataFrame'>\n",
      "Int64Index: 2886 entries, 16 to 16712\n",
      "Data columns (total 12 columns):\n",
      "name               2886 non-null object\n",
      "platform           2886 non-null object\n",
      "year_of_release    2886 non-null int64\n",
      "genre              2886 non-null object\n",
      "na_sales           2886 non-null float64\n",
      "eu_sales           2886 non-null float64\n",
      "jp_sales           2886 non-null float64\n",
      "other_sales        2886 non-null float64\n",
      "critic_score       2886 non-null float64\n",
      "user_score         2886 non-null float64\n",
      "rating             2886 non-null object\n",
      "total_sales        2886 non-null float64\n",
      "dtypes: float64(7), int64(1), object(4)\n",
      "memory usage: 293.1+ KB\n"
     ]
    }
   ],
   "source": [
    "df_actual.info()"
   ]
  },
  {
   "cell_type": "code",
   "execution_count": 52,
   "metadata": {
    "cellId": "ew5qruubbhpo4mgkbnvra",
    "scrolled": true
   },
   "outputs": [
    {
     "data": {
      "image/png": "[encoded data removed]",
      "text/plain": [
       "<Figure size 720x360 with 1 Axes>"
      ]
     },
     "metadata": {
      "needs_background": "light"
     },
     "output_type": "display_data"
    }
   ],
   "source": [
    "fig, plot = plt.subplots(figsize = (10,5))\n",
    "df_actual.groupby('platform')['name'].count().plot(kind='bar', grid=True)\n",
    "plt.title('Количество выпушенных игр для платформ с 2012года.')\n",
    "plot.set_xlabel('Годы')\n",
    "plot.set_ylabel(\"Количество игр\")\n",
    "plt.show()"
   ]
  },
  {
   "cell_type": "markdown",
   "metadata": {
    "cellId": "cqyal0jk3rcwpji1idmrel"
   },
   "source": [
    "Посмотрим, какие платформы за актуальный период как изменяются"
   ]
  },
  {
   "cell_type": "code",
   "execution_count": 53,
   "metadata": {
    "cellId": "bupdxerqa27fq2r3fhnjmj"
   },
   "outputs": [
    {
     "data": {
      "image/png": "[encoded data removed]",
      "text/plain": [
       "<Figure size 1440x504 with 2 Axes>"
      ]
     },
     "metadata": {
      "needs_background": "light"
     },
     "output_type": "display_data"
    }
   ],
   "source": [
    "fig, heat = plt.subplots(figsize = (20,7))\n",
    "heat = sns.heatmap(pd.pivot_table(df_actual, values=['total_sales'], \n",
    "                                  index=df_actual['platform'],\n",
    "                                  columns=df_actual['year_of_release'],\n",
    "                                  aggfunc='sum'),\n",
    "                   linewidths = 1, linecolor = 'black', annot=True)\n",
    "heat.set_title('Продажи игр на платформах по годам, млн штук');"
   ]
  },
  {
   "cell_type": "code",
   "execution_count": 54,
   "metadata": {
    "cellId": "whbgms6todjafqkb6f7yo"
   },
   "outputs": [
    {
     "data": {
      "text/plain": [
       "platform\n",
       "PS4     314.14\n",
       "PS3     288.79\n",
       "X360    236.54\n",
       "3DS     194.61\n",
       "XOne    159.32\n",
       "WiiU     82.19\n",
       "PC       62.65\n",
       "PSV      49.18\n",
       "Wii      35.37\n",
       "DS       12.55\n",
       "PSP      11.19\n",
       "Name: total_sales, dtype: float64"
      ]
     },
     "execution_count": 54,
     "metadata": {},
     "output_type": "execute_result"
    }
   ],
   "source": [
    "df_actual.groupby('platform')['total_sales'].sum().sort_values(ascending=False)"
   ]
  },
  {
   "cell_type": "markdown",
   "metadata": {
    "cellId": "pzz0m7i32hco2l5y91do"
   },
   "source": [
    "По продажам лидирует PS3, затем X360. Продажи практически на всех платформах падают в абсолютных значениях. Посмотрим на данные в процентном соотношении. Для этого сгруппируем суммарные продажи по платформам и сбросим индекс."
   ]
  },
  {
   "cell_type": "code",
   "execution_count": 55,
   "metadata": {
    "cellId": "2udpcyl6iein5yvidrfdi"
   },
   "outputs": [],
   "source": [
    "df_temp = df_actual.groupby(['year_of_release','platform'])['total_sales'].sum()"
   ]
  },
  {
   "cell_type": "code",
   "execution_count": 56,
   "metadata": {
    "cellId": "vte3pidm83wvdt0zl0zlt"
   },
   "outputs": [],
   "source": [
    "df_temp = df_temp.reset_index()"
   ]
  },
  {
   "cell_type": "code",
   "execution_count": 57,
   "metadata": {
    "cellId": "sddiqsqn1nrkbkvfjyraf",
    "scrolled": true
   },
   "outputs": [
    {
     "data": {
      "text/html": [
       "<div>\n",
       "<style scoped>\n",
       "    .dataframe tbody tr th:only-of-type {\n",
       "        vertical-align: middle;\n",
       "    }\n",
       "\n",
       "    .dataframe tbody tr th {\n",
       "        vertical-align: top;\n",
       "    }\n",
       "\n",
       "    .dataframe thead th {\n",
       "        text-align: right;\n",
       "    }\n",
       "</style>\n",
       "<table border=\"1\" class=\"dataframe\">\n",
       "  <thead>\n",
       "    <tr style=\"text-align: right;\">\n",
       "      <th></th>\n",
       "      <th>year_of_release</th>\n",
       "      <th>platform</th>\n",
       "      <th>total_sales</th>\n",
       "    </tr>\n",
       "  </thead>\n",
       "  <tbody>\n",
       "    <tr>\n",
       "      <td>0</td>\n",
       "      <td>2012</td>\n",
       "      <td>3DS</td>\n",
       "      <td>51.36</td>\n",
       "    </tr>\n",
       "    <tr>\n",
       "      <td>1</td>\n",
       "      <td>2012</td>\n",
       "      <td>DS</td>\n",
       "      <td>11.01</td>\n",
       "    </tr>\n",
       "    <tr>\n",
       "      <td>2</td>\n",
       "      <td>2012</td>\n",
       "      <td>PC</td>\n",
       "      <td>23.22</td>\n",
       "    </tr>\n",
       "    <tr>\n",
       "      <td>3</td>\n",
       "      <td>2012</td>\n",
       "      <td>PS3</td>\n",
       "      <td>107.36</td>\n",
       "    </tr>\n",
       "    <tr>\n",
       "      <td>4</td>\n",
       "      <td>2012</td>\n",
       "      <td>PSP</td>\n",
       "      <td>7.69</td>\n",
       "    </tr>\n",
       "    <tr>\n",
       "      <td>5</td>\n",
       "      <td>2012</td>\n",
       "      <td>PSV</td>\n",
       "      <td>16.19</td>\n",
       "    </tr>\n",
       "    <tr>\n",
       "      <td>6</td>\n",
       "      <td>2012</td>\n",
       "      <td>Wii</td>\n",
       "      <td>21.71</td>\n",
       "    </tr>\n",
       "    <tr>\n",
       "      <td>7</td>\n",
       "      <td>2012</td>\n",
       "      <td>WiiU</td>\n",
       "      <td>17.56</td>\n",
       "    </tr>\n",
       "    <tr>\n",
       "      <td>8</td>\n",
       "      <td>2012</td>\n",
       "      <td>X360</td>\n",
       "      <td>99.74</td>\n",
       "    </tr>\n",
       "    <tr>\n",
       "      <td>9</td>\n",
       "      <td>2013</td>\n",
       "      <td>3DS</td>\n",
       "      <td>56.57</td>\n",
       "    </tr>\n",
       "    <tr>\n",
       "      <td>10</td>\n",
       "      <td>2013</td>\n",
       "      <td>DS</td>\n",
       "      <td>1.54</td>\n",
       "    </tr>\n",
       "    <tr>\n",
       "      <td>11</td>\n",
       "      <td>2013</td>\n",
       "      <td>PC</td>\n",
       "      <td>12.38</td>\n",
       "    </tr>\n",
       "    <tr>\n",
       "      <td>12</td>\n",
       "      <td>2013</td>\n",
       "      <td>PS3</td>\n",
       "      <td>113.25</td>\n",
       "    </tr>\n",
       "    <tr>\n",
       "      <td>13</td>\n",
       "      <td>2013</td>\n",
       "      <td>PS4</td>\n",
       "      <td>25.99</td>\n",
       "    </tr>\n",
       "    <tr>\n",
       "      <td>14</td>\n",
       "      <td>2013</td>\n",
       "      <td>PSP</td>\n",
       "      <td>3.14</td>\n",
       "    </tr>\n",
       "    <tr>\n",
       "      <td>15</td>\n",
       "      <td>2013</td>\n",
       "      <td>PSV</td>\n",
       "      <td>10.59</td>\n",
       "    </tr>\n",
       "    <tr>\n",
       "      <td>16</td>\n",
       "      <td>2013</td>\n",
       "      <td>Wii</td>\n",
       "      <td>8.59</td>\n",
       "    </tr>\n",
       "    <tr>\n",
       "      <td>17</td>\n",
       "      <td>2013</td>\n",
       "      <td>WiiU</td>\n",
       "      <td>21.65</td>\n",
       "    </tr>\n",
       "    <tr>\n",
       "      <td>18</td>\n",
       "      <td>2013</td>\n",
       "      <td>X360</td>\n",
       "      <td>88.58</td>\n",
       "    </tr>\n",
       "    <tr>\n",
       "      <td>19</td>\n",
       "      <td>2013</td>\n",
       "      <td>XOne</td>\n",
       "      <td>18.96</td>\n",
       "    </tr>\n",
       "    <tr>\n",
       "      <td>20</td>\n",
       "      <td>2014</td>\n",
       "      <td>3DS</td>\n",
       "      <td>43.76</td>\n",
       "    </tr>\n",
       "    <tr>\n",
       "      <td>21</td>\n",
       "      <td>2014</td>\n",
       "      <td>PC</td>\n",
       "      <td>13.28</td>\n",
       "    </tr>\n",
       "    <tr>\n",
       "      <td>22</td>\n",
       "      <td>2014</td>\n",
       "      <td>PS3</td>\n",
       "      <td>47.76</td>\n",
       "    </tr>\n",
       "    <tr>\n",
       "      <td>23</td>\n",
       "      <td>2014</td>\n",
       "      <td>PS4</td>\n",
       "      <td>100.00</td>\n",
       "    </tr>\n",
       "    <tr>\n",
       "      <td>24</td>\n",
       "      <td>2014</td>\n",
       "      <td>PSP</td>\n",
       "      <td>0.24</td>\n",
       "    </tr>\n",
       "    <tr>\n",
       "      <td>25</td>\n",
       "      <td>2014</td>\n",
       "      <td>PSV</td>\n",
       "      <td>11.90</td>\n",
       "    </tr>\n",
       "    <tr>\n",
       "      <td>26</td>\n",
       "      <td>2014</td>\n",
       "      <td>Wii</td>\n",
       "      <td>3.75</td>\n",
       "    </tr>\n",
       "    <tr>\n",
       "      <td>27</td>\n",
       "      <td>2014</td>\n",
       "      <td>WiiU</td>\n",
       "      <td>22.03</td>\n",
       "    </tr>\n",
       "    <tr>\n",
       "      <td>28</td>\n",
       "      <td>2014</td>\n",
       "      <td>X360</td>\n",
       "      <td>34.74</td>\n",
       "    </tr>\n",
       "    <tr>\n",
       "      <td>29</td>\n",
       "      <td>2014</td>\n",
       "      <td>XOne</td>\n",
       "      <td>54.07</td>\n",
       "    </tr>\n",
       "    <tr>\n",
       "      <td>30</td>\n",
       "      <td>2015</td>\n",
       "      <td>3DS</td>\n",
       "      <td>27.78</td>\n",
       "    </tr>\n",
       "    <tr>\n",
       "      <td>31</td>\n",
       "      <td>2015</td>\n",
       "      <td>PC</td>\n",
       "      <td>8.52</td>\n",
       "    </tr>\n",
       "    <tr>\n",
       "      <td>32</td>\n",
       "      <td>2015</td>\n",
       "      <td>PS3</td>\n",
       "      <td>16.82</td>\n",
       "    </tr>\n",
       "    <tr>\n",
       "      <td>33</td>\n",
       "      <td>2015</td>\n",
       "      <td>PS4</td>\n",
       "      <td>118.90</td>\n",
       "    </tr>\n",
       "    <tr>\n",
       "      <td>34</td>\n",
       "      <td>2015</td>\n",
       "      <td>PSP</td>\n",
       "      <td>0.12</td>\n",
       "    </tr>\n",
       "    <tr>\n",
       "      <td>35</td>\n",
       "      <td>2015</td>\n",
       "      <td>PSV</td>\n",
       "      <td>6.25</td>\n",
       "    </tr>\n",
       "    <tr>\n",
       "      <td>36</td>\n",
       "      <td>2015</td>\n",
       "      <td>Wii</td>\n",
       "      <td>1.14</td>\n",
       "    </tr>\n",
       "    <tr>\n",
       "      <td>37</td>\n",
       "      <td>2015</td>\n",
       "      <td>WiiU</td>\n",
       "      <td>16.35</td>\n",
       "    </tr>\n",
       "    <tr>\n",
       "      <td>38</td>\n",
       "      <td>2015</td>\n",
       "      <td>X360</td>\n",
       "      <td>11.96</td>\n",
       "    </tr>\n",
       "    <tr>\n",
       "      <td>39</td>\n",
       "      <td>2015</td>\n",
       "      <td>XOne</td>\n",
       "      <td>60.14</td>\n",
       "    </tr>\n",
       "    <tr>\n",
       "      <td>40</td>\n",
       "      <td>2016</td>\n",
       "      <td>3DS</td>\n",
       "      <td>15.14</td>\n",
       "    </tr>\n",
       "    <tr>\n",
       "      <td>41</td>\n",
       "      <td>2016</td>\n",
       "      <td>PC</td>\n",
       "      <td>5.25</td>\n",
       "    </tr>\n",
       "    <tr>\n",
       "      <td>42</td>\n",
       "      <td>2016</td>\n",
       "      <td>PS3</td>\n",
       "      <td>3.60</td>\n",
       "    </tr>\n",
       "    <tr>\n",
       "      <td>43</td>\n",
       "      <td>2016</td>\n",
       "      <td>PS4</td>\n",
       "      <td>69.25</td>\n",
       "    </tr>\n",
       "    <tr>\n",
       "      <td>44</td>\n",
       "      <td>2016</td>\n",
       "      <td>PSV</td>\n",
       "      <td>4.25</td>\n",
       "    </tr>\n",
       "    <tr>\n",
       "      <td>45</td>\n",
       "      <td>2016</td>\n",
       "      <td>Wii</td>\n",
       "      <td>0.18</td>\n",
       "    </tr>\n",
       "    <tr>\n",
       "      <td>46</td>\n",
       "      <td>2016</td>\n",
       "      <td>WiiU</td>\n",
       "      <td>4.60</td>\n",
       "    </tr>\n",
       "    <tr>\n",
       "      <td>47</td>\n",
       "      <td>2016</td>\n",
       "      <td>X360</td>\n",
       "      <td>1.52</td>\n",
       "    </tr>\n",
       "    <tr>\n",
       "      <td>48</td>\n",
       "      <td>2016</td>\n",
       "      <td>XOne</td>\n",
       "      <td>26.15</td>\n",
       "    </tr>\n",
       "  </tbody>\n",
       "</table>\n",
       "</div>"
      ],
      "text/plain": [
       "    year_of_release platform  total_sales\n",
       "0              2012      3DS        51.36\n",
       "1              2012       DS        11.01\n",
       "2              2012       PC        23.22\n",
       "3              2012      PS3       107.36\n",
       "4              2012      PSP         7.69\n",
       "5              2012      PSV        16.19\n",
       "6              2012      Wii        21.71\n",
       "7              2012     WiiU        17.56\n",
       "8              2012     X360        99.74\n",
       "9              2013      3DS        56.57\n",
       "10             2013       DS         1.54\n",
       "11             2013       PC        12.38\n",
       "12             2013      PS3       113.25\n",
       "13             2013      PS4        25.99\n",
       "14             2013      PSP         3.14\n",
       "15             2013      PSV        10.59\n",
       "16             2013      Wii         8.59\n",
       "17             2013     WiiU        21.65\n",
       "18             2013     X360        88.58\n",
       "19             2013     XOne        18.96\n",
       "20             2014      3DS        43.76\n",
       "21             2014       PC        13.28\n",
       "22             2014      PS3        47.76\n",
       "23             2014      PS4       100.00\n",
       "24             2014      PSP         0.24\n",
       "25             2014      PSV        11.90\n",
       "26             2014      Wii         3.75\n",
       "27             2014     WiiU        22.03\n",
       "28             2014     X360        34.74\n",
       "29             2014     XOne        54.07\n",
       "30             2015      3DS        27.78\n",
       "31             2015       PC         8.52\n",
       "32             2015      PS3        16.82\n",
       "33             2015      PS4       118.90\n",
       "34             2015      PSP         0.12\n",
       "35             2015      PSV         6.25\n",
       "36             2015      Wii         1.14\n",
       "37             2015     WiiU        16.35\n",
       "38             2015     X360        11.96\n",
       "39             2015     XOne        60.14\n",
       "40             2016      3DS        15.14\n",
       "41             2016       PC         5.25\n",
       "42             2016      PS3         3.60\n",
       "43             2016      PS4        69.25\n",
       "44             2016      PSV         4.25\n",
       "45             2016      Wii         0.18\n",
       "46             2016     WiiU         4.60\n",
       "47             2016     X360         1.52\n",
       "48             2016     XOne        26.15"
      ]
     },
     "execution_count": 57,
     "metadata": {},
     "output_type": "execute_result"
    }
   ],
   "source": [
    "df_temp"
   ]
  },
  {
   "cell_type": "markdown",
   "metadata": {},
   "source": [
    "Объявим функцию, которая будет определять отношения продаж на платформе к суммарным продажам за год на всех платформах"
   ]
  },
  {
   "cell_type": "code",
   "execution_count": 58,
   "metadata": {
    "cellId": "3zta3orj5bbu1w4b808cnl"
   },
   "outputs": [],
   "source": [
    "def ratio (x):\n",
    "    year_of_release=x['year_of_release']\n",
    "    total = df_temp[df_temp['year_of_release']== year_of_release]['total_sales'].sum()\n",
    "    return x['total_sales']/total"
   ]
  },
  {
   "cell_type": "code",
   "execution_count": 59,
   "metadata": {
    "cellId": "kyh5li3yijcx02uzo12tb7"
   },
   "outputs": [],
   "source": [
    "df_temp['ratio'] = df_temp.apply(ratio, axis = 1)"
   ]
  },
  {
   "cell_type": "code",
   "execution_count": 60,
   "metadata": {
    "cellId": "0x02ipzedrnn0q2a9vtvt"
   },
   "outputs": [
    {
     "data": {
      "text/html": [
       "<div>\n",
       "<style scoped>\n",
       "    .dataframe tbody tr th:only-of-type {\n",
       "        vertical-align: middle;\n",
       "    }\n",
       "\n",
       "    .dataframe tbody tr th {\n",
       "        vertical-align: top;\n",
       "    }\n",
       "\n",
       "    .dataframe thead th {\n",
       "        text-align: right;\n",
       "    }\n",
       "</style>\n",
       "<table border=\"1\" class=\"dataframe\">\n",
       "  <thead>\n",
       "    <tr style=\"text-align: right;\">\n",
       "      <th></th>\n",
       "      <th>year_of_release</th>\n",
       "      <th>platform</th>\n",
       "      <th>total_sales</th>\n",
       "      <th>ratio</th>\n",
       "    </tr>\n",
       "  </thead>\n",
       "  <tbody>\n",
       "    <tr>\n",
       "      <td>0</td>\n",
       "      <td>2012</td>\n",
       "      <td>3DS</td>\n",
       "      <td>51.36</td>\n",
       "      <td>0.144335</td>\n",
       "    </tr>\n",
       "    <tr>\n",
       "      <td>1</td>\n",
       "      <td>2012</td>\n",
       "      <td>DS</td>\n",
       "      <td>11.01</td>\n",
       "      <td>0.030941</td>\n",
       "    </tr>\n",
       "    <tr>\n",
       "      <td>2</td>\n",
       "      <td>2012</td>\n",
       "      <td>PC</td>\n",
       "      <td>23.22</td>\n",
       "      <td>0.065254</td>\n",
       "    </tr>\n",
       "    <tr>\n",
       "      <td>3</td>\n",
       "      <td>2012</td>\n",
       "      <td>PS3</td>\n",
       "      <td>107.36</td>\n",
       "      <td>0.301709</td>\n",
       "    </tr>\n",
       "    <tr>\n",
       "      <td>4</td>\n",
       "      <td>2012</td>\n",
       "      <td>PSP</td>\n",
       "      <td>7.69</td>\n",
       "      <td>0.021611</td>\n",
       "    </tr>\n",
       "  </tbody>\n",
       "</table>\n",
       "</div>"
      ],
      "text/plain": [
       "   year_of_release platform  total_sales     ratio\n",
       "0             2012      3DS        51.36  0.144335\n",
       "1             2012       DS        11.01  0.030941\n",
       "2             2012       PC        23.22  0.065254\n",
       "3             2012      PS3       107.36  0.301709\n",
       "4             2012      PSP         7.69  0.021611"
      ]
     },
     "execution_count": 60,
     "metadata": {},
     "output_type": "execute_result"
    }
   ],
   "source": [
    "df_temp.head()"
   ]
  },
  {
   "cell_type": "code",
   "execution_count": 61,
   "metadata": {
    "cellId": "fkim1w645twmadwrx2wcq"
   },
   "outputs": [
    {
     "data": {
      "image/png": "[encoded data removed]",
      "text/plain": [
       "<Figure size 1440x504 with 2 Axes>"
      ]
     },
     "metadata": {
      "needs_background": "light"
     },
     "output_type": "display_data"
    }
   ],
   "source": [
    "fig, heat = plt.subplots(figsize = (20,7))\n",
    "heat = sns.heatmap(pd.pivot_table(df_temp, values=['ratio'],\n",
    "                                  index=df_temp['platform'],\n",
    "                                  columns=df_temp['year_of_release'],\n",
    "                                  aggfunc='sum'), linewidths = 1, linecolor = 'black', annot = True)\n",
    "heat.set_title('Доли от годовых продаж игр на платформах');"
   ]
  },
  {
   "cell_type": "markdown",
   "metadata": {
    "cellId": "7aosx02i2ed3dt369w58n1"
   },
   "source": [
    "По диаграмме види, что с 2014 по 2016 год лидирует PS4, чья доля выросла к 2016 до 53%. На втором месте XOne, чья доля изменилась до 20% в 2016 году. Если планировать на 2017 год, то большая вероятность, что первые места по продажам поделят PS4, XOne и 3DS. Интересно, что у PS4 в процентном отношении выросли продажи, хоть в абсолютных цифрах и уменьшились."
   ]
  },
  {
   "cell_type": "markdown",
   "metadata": {
    "cellId": "mivc3oerauy59hs4gu0r9"
   },
   "source": [
    "Построим диаграммы размаха продаж игр по платформам в год за актуальный период."
   ]
  },
  {
   "cell_type": "code",
   "execution_count": 62,
   "metadata": {
    "cellId": "ucm28ie8qwead0v3vg90wh"
   },
   "outputs": [
    {
     "name": "stderr",
     "output_type": "stream",
     "text": [
      "/opt/conda/lib/python3.7/site-packages/numpy/core/_asarray.py:83: VisibleDeprecationWarning: Creating an ndarray from ragged nested sequences (which is a list-or-tuple of lists-or-tuples-or ndarrays with different lengths or shapes) is deprecated. If you meant to do this, you must specify 'dtype=object' when creating the ndarray\n",
      "  return array(a, dtype, copy=False, order=order)\n"
     ]
    },
    {
     "data": {
      "image/png": "[encoded data removed]",
      "text/plain": [
       "<Figure size 1440x720 with 1 Axes>"
      ]
     },
     "metadata": {
      "needs_background": "light"
     },
     "output_type": "display_data"
    }
   ],
   "source": [
    "df_temp.boxplot(column='total_sales', by='platform', figsize=(20,10))\n",
    "plt.title('Годовые продажи игр за актуальный период')\n",
    "plt.show()"
   ]
  },
  {
   "cell_type": "markdown",
   "metadata": {
    "cellId": "sojuetpq41vjs4l6iw7wg"
   },
   "source": [
    "Видим, что за актуальный период (с 2012 года) в год больше всего продаж в год имели PS3, PS4 и X360. По предыдущей тепловой карте видим, что максимумы их продаж приходились на разные годы. Медиана больше всего у PS4, затем PS4 и XOne."
   ]
  },
  {
   "cell_type": "markdown",
   "metadata": {},
   "source": [
    "<a id='section_4_3'></a>\n",
    "### Зависимость продаж от оценок"
   ]
  },
  {
   "cell_type": "markdown",
   "metadata": {
    "cellId": "4vrlirfj329c3f4wpfc5ev"
   },
   "source": [
    "Построим зависимость объёма продаж от оценок пользователей для одной популярной платформы. Например PS3. При этом не будем учитывать записи с пропущенными оценками пользователей."
   ]
  },
  {
   "cell_type": "code",
   "execution_count": 63,
   "metadata": {
    "cellId": "j07lbyauxbm9cb4jirnsx"
   },
   "outputs": [
    {
     "data": {
      "image/png": "[encoded data removed]",
      "text/plain": [
       "<Figure size 720x360 with 1 Axes>"
      ]
     },
     "metadata": {
      "needs_background": "light"
     },
     "output_type": "display_data"
    }
   ],
   "source": [
    "condition = 'platform == \\'PS3\\' and user_score!=-1'\n",
    "plot=df_actual.query(condition).plot.scatter('user_score', 'total_sales', figsize=(10,5), grid=True)\n",
    "plot.set_xlabel('Оценки пользователей')\n",
    "plot.set_ylabel(\"Количество проданных копий, млн штук\")\n",
    "plt.title('Зависимость продаж на PS3 от оценки пользователей, млн штук');"
   ]
  },
  {
   "cell_type": "markdown",
   "metadata": {
    "cellId": "95nkpcn8ysomdbobz00m"
   },
   "source": [
    "Зависимость явно не просматривается. Найдём корреляцию"
   ]
  },
  {
   "cell_type": "code",
   "execution_count": 64,
   "metadata": {
    "cellId": "qr4nblxa1ce52y8jfmnye"
   },
   "outputs": [
    {
     "data": {
      "text/plain": [
       "-0.005143522887113815"
      ]
     },
     "execution_count": 64,
     "metadata": {},
     "output_type": "execute_result"
    }
   ],
   "source": [
    "df_actual.query(condition)['user_score'].corr(df_actual.query(condition)['total_sales'])"
   ]
  },
  {
   "cell_type": "markdown",
   "metadata": {
    "cellId": "hm38kiakx953ut4g9q6i5w"
   },
   "source": [
    "Связь не обнаружена"
   ]
  },
  {
   "cell_type": "markdown",
   "metadata": {
    "cellId": "8mra6qrghya9p2fx20jv0r"
   },
   "source": [
    "Посмотрим влияние оценки критиков."
   ]
  },
  {
   "cell_type": "code",
   "execution_count": 65,
   "metadata": {
    "cellId": "cpkbg8x9myoo0ovr9exwak"
   },
   "outputs": [
    {
     "data": {
      "image/png": "[encoded data removed]",
      "text/plain": [
       "<Figure size 720x360 with 1 Axes>"
      ]
     },
     "metadata": {
      "needs_background": "light"
     },
     "output_type": "display_data"
    }
   ],
   "source": [
    "condition = 'platform == \\'PS3\\' and critic_score!=-1'\n",
    "plot=df_actual.query(condition).plot.scatter(\n",
    "    'critic_score', 'total_sales', figsize=(10,5), grid=True)\n",
    "plot.set_xlabel('Оценки критиков')\n",
    "plot.set_ylabel(\"Количество проданных копий, млн штук\")\n",
    "plt.title('Зависимость продаж на PS3 от оценки критиков, млн штук');"
   ]
  },
  {
   "cell_type": "code",
   "execution_count": 66,
   "metadata": {
    "cellId": "7p1lcvftf3jar7rzsvy1fd"
   },
   "outputs": [
    {
     "data": {
      "text/plain": [
       "0.3314972592629587"
      ]
     },
     "execution_count": 66,
     "metadata": {},
     "output_type": "execute_result"
    }
   ],
   "source": [
    "df_actual.query(condition)['critic_score'].corr(df_actual.query(condition)['total_sales'])"
   ]
  },
  {
   "cell_type": "markdown",
   "metadata": {
    "cellId": "7jrm7io135gkz7braqzcjl"
   },
   "source": [
    "Здесь зависимость продаж от оценки сильнее, но тоже слабая."
   ]
  },
  {
   "cell_type": "markdown",
   "metadata": {
    "cellId": "oo5v96tw9vgs62npckdjoj"
   },
   "source": [
    "При таком учёте зависимость несколько усиливается. Делаем вывод, что на продажи больше влияют оценики критиков, чем пользователей. \n",
    "\n",
    "Посмотрим на зависимость для других платформа. Для PS4:"
   ]
  },
  {
   "cell_type": "code",
   "execution_count": 67,
   "metadata": {
    "cellId": "uxqfuwv46xryw0r7iwqyzm"
   },
   "outputs": [
    {
     "data": {
      "image/png": "[encoded data removed]",
      "text/plain": [
       "<Figure size 720x360 with 1 Axes>"
      ]
     },
     "metadata": {
      "needs_background": "light"
     },
     "output_type": "display_data"
    }
   ],
   "source": [
    "condition = 'platform == \\'PS4\\' and user_score!=-1'\n",
    "plot = df_actual.query(condition).plot.scatter('user_score', 'total_sales', figsize=(10,5), grid=True )\n",
    "plot.set_xlabel('Оценки пользователей')\n",
    "plot.set_ylabel(\"Количество проданных копий, млн штук\")\n",
    "plt.title('Зависимость продаж на PS4 от оценки пользователей, млн штук');"
   ]
  },
  {
   "cell_type": "code",
   "execution_count": 68,
   "metadata": {
    "cellId": "kgmuha45iazaunwqp93et"
   },
   "outputs": [
    {
     "data": {
      "text/plain": [
       "-0.031957110204556424"
      ]
     },
     "execution_count": 68,
     "metadata": {},
     "output_type": "execute_result"
    }
   ],
   "source": [
    "df_actual.query(condition)['user_score'].corr(df_actual.query(condition)['total_sales'])"
   ]
  },
  {
   "cell_type": "markdown",
   "metadata": {
    "cellId": "wamsuzyek6gucmahlr1qp"
   },
   "source": [
    "Нет связи. Посмотрим на оценки критиков."
   ]
  },
  {
   "cell_type": "code",
   "execution_count": 69,
   "metadata": {
    "cellId": "jxbcqeudkqsafsdadz9ha5"
   },
   "outputs": [
    {
     "data": {
      "image/png": "[encoded data removed]",
      "text/plain": [
       "<Figure size 720x360 with 1 Axes>"
      ]
     },
     "metadata": {
      "needs_background": "light"
     },
     "output_type": "display_data"
    }
   ],
   "source": [
    "condition = 'platform == \\'PS4\\' and critic_score!=-1'\n",
    "plot = df_actual.query(condition).plot.scatter('critic_score', 'total_sales', figsize=(10,5), grid=True)\n",
    "plot.set_xlabel('Оценки критиков')\n",
    "plot.set_ylabel(\"Количество проданных копий, млн штук\")\n",
    "plt.title('Зависимость продаж на PS4 от оценки критиков, млн штук');"
   ]
  },
  {
   "cell_type": "code",
   "execution_count": 70,
   "metadata": {
    "cellId": "6hiqjnapztd6d2usy5lymn"
   },
   "outputs": [
    {
     "data": {
      "text/plain": [
       "0.40656790206178095"
      ]
     },
     "execution_count": 70,
     "metadata": {},
     "output_type": "execute_result"
    }
   ],
   "source": [
    "df_actual.query(condition)['critic_score' ].corr(df_actual.query(condition)['total_sales'])"
   ]
  },
  {
   "cell_type": "markdown",
   "metadata": {
    "cellId": "g5vd0mjocht7ix4eu0tes4"
   },
   "source": [
    "Связь имеется. Теперь аналогично для XOne"
   ]
  },
  {
   "cell_type": "code",
   "execution_count": 71,
   "metadata": {
    "cellId": "frt5t1gmnxg6q15xie1dbh"
   },
   "outputs": [
    {
     "data": {
      "image/png": "[encoded data removed]",
      "text/plain": [
       "<Figure size 720x360 with 1 Axes>"
      ]
     },
     "metadata": {
      "needs_background": "light"
     },
     "output_type": "display_data"
    }
   ],
   "source": [
    "condition = 'platform == \\'XOne\\' and user_score!=-1'\n",
    "plot = df_actual.query(condition).plot.scatter('user_score', 'total_sales', figsize=(10,5), grid=True )\n",
    "plot.set_xlabel('Оценки пользователей')\n",
    "plot.set_ylabel(\"Количество проданных копий, млн штук\")\n",
    "plt.title('Зависимость продаж на XOne от оценки пользователей, млн штук');"
   ]
  },
  {
   "cell_type": "code",
   "execution_count": 72,
   "metadata": {
    "cellId": "20n20kfhhd7832t3glnse"
   },
   "outputs": [
    {
     "data": {
      "text/plain": [
       "-0.06892505328279414"
      ]
     },
     "execution_count": 72,
     "metadata": {},
     "output_type": "execute_result"
    }
   ],
   "source": [
    "df_actual.query(condition)['user_score'].corr(df_actual.query(condition)['total_sales'])"
   ]
  },
  {
   "cell_type": "markdown",
   "metadata": {
    "cellId": "7dssdzzimr8491s5p41q5y"
   },
   "source": [
    "Связи нет."
   ]
  },
  {
   "cell_type": "code",
   "execution_count": 73,
   "metadata": {
    "cellId": "jyzp30pzw9dxglsj699dn"
   },
   "outputs": [
    {
     "data": {
      "image/png": "[encoded data removed]",
      "text/plain": [
       "<Figure size 720x360 with 1 Axes>"
      ]
     },
     "metadata": {
      "needs_background": "light"
     },
     "output_type": "display_data"
    }
   ],
   "source": [
    "condition = 'platform == \\'XOne\\' and critic_score!=-1'\n",
    "plot = df_actual.query(condition).plot.scatter('critic_score', 'total_sales', figsize=(10,5), grid=True)\n",
    "plot.set_xlabel('Оценки критиков')\n",
    "plot.set_ylabel(\"Количество проданных копий, млн штук\")\n",
    "plt.title('Зависимость продаж на XOne от оценки критиков, млн штук');"
   ]
  },
  {
   "cell_type": "code",
   "execution_count": 74,
   "metadata": {
    "cellId": "9pcbjouelsewiuvc030npk"
   },
   "outputs": [
    {
     "data": {
      "text/plain": [
       "0.4169983280084017"
      ]
     },
     "execution_count": 74,
     "metadata": {},
     "output_type": "execute_result"
    }
   ],
   "source": [
    "df_actual.query(condition)['critic_score' ].corr(df_actual.query(condition)['total_sales'])"
   ]
  },
  {
   "cell_type": "markdown",
   "metadata": {
    "cellId": "ngjnq7ll7wl8ygfkj6zas"
   },
   "source": [
    "Зависимость может и не очень сильная, но явно сильнее, чем зависимость от оценок пользователей. Это актуально для всех рассмотренных платформ."
   ]
  },
  {
   "cell_type": "markdown",
   "metadata": {
    "cellId": "ux5miynisi3souoafzno7"
   },
   "source": [
    "Посмотрим на распределение игр по жанрам за актуальный период"
   ]
  },
  {
   "cell_type": "code",
   "execution_count": 75,
   "metadata": {
    "cellId": "glycwmj0owv4uqu47lx168"
   },
   "outputs": [
    {
     "data": {
      "text/html": [
       "<div>\n",
       "<style scoped>\n",
       "    .dataframe tbody tr th:only-of-type {\n",
       "        vertical-align: middle;\n",
       "    }\n",
       "\n",
       "    .dataframe tbody tr th {\n",
       "        vertical-align: top;\n",
       "    }\n",
       "\n",
       "    .dataframe thead tr th {\n",
       "        text-align: left;\n",
       "    }\n",
       "\n",
       "    .dataframe thead tr:last-of-type th {\n",
       "        text-align: right;\n",
       "    }\n",
       "</style>\n",
       "<table border=\"1\" class=\"dataframe\">\n",
       "  <thead>\n",
       "    <tr>\n",
       "      <th></th>\n",
       "      <th>name</th>\n",
       "      <th colspan=\"2\" halign=\"left\">total_sales</th>\n",
       "    </tr>\n",
       "    <tr>\n",
       "      <th></th>\n",
       "      <th>count</th>\n",
       "      <th>median</th>\n",
       "      <th>mean</th>\n",
       "    </tr>\n",
       "    <tr>\n",
       "      <th>genre</th>\n",
       "      <th></th>\n",
       "      <th></th>\n",
       "      <th></th>\n",
       "    </tr>\n",
       "  </thead>\n",
       "  <tbody>\n",
       "    <tr>\n",
       "      <td>Adventure</td>\n",
       "      <td>302</td>\n",
       "      <td>0.030</td>\n",
       "      <td>0.097450</td>\n",
       "    </tr>\n",
       "    <tr>\n",
       "      <td>Puzzle</td>\n",
       "      <td>28</td>\n",
       "      <td>0.045</td>\n",
       "      <td>0.174643</td>\n",
       "    </tr>\n",
       "    <tr>\n",
       "      <td>Strategy</td>\n",
       "      <td>71</td>\n",
       "      <td>0.080</td>\n",
       "      <td>0.187887</td>\n",
       "    </tr>\n",
       "    <tr>\n",
       "      <td>Action</td>\n",
       "      <td>1031</td>\n",
       "      <td>0.120</td>\n",
       "      <td>0.427856</td>\n",
       "    </tr>\n",
       "    <tr>\n",
       "      <td>Misc</td>\n",
       "      <td>192</td>\n",
       "      <td>0.120</td>\n",
       "      <td>0.442917</td>\n",
       "    </tr>\n",
       "    <tr>\n",
       "      <td>Simulation</td>\n",
       "      <td>80</td>\n",
       "      <td>0.120</td>\n",
       "      <td>0.439000</td>\n",
       "    </tr>\n",
       "    <tr>\n",
       "      <td>Fighting</td>\n",
       "      <td>109</td>\n",
       "      <td>0.130</td>\n",
       "      <td>0.408165</td>\n",
       "    </tr>\n",
       "    <tr>\n",
       "      <td>Racing</td>\n",
       "      <td>115</td>\n",
       "      <td>0.140</td>\n",
       "      <td>0.465217</td>\n",
       "    </tr>\n",
       "    <tr>\n",
       "      <td>Role-Playing</td>\n",
       "      <td>370</td>\n",
       "      <td>0.140</td>\n",
       "      <td>0.521081</td>\n",
       "    </tr>\n",
       "    <tr>\n",
       "      <td>Platform</td>\n",
       "      <td>85</td>\n",
       "      <td>0.210</td>\n",
       "      <td>0.717647</td>\n",
       "    </tr>\n",
       "    <tr>\n",
       "      <td>Sports</td>\n",
       "      <td>268</td>\n",
       "      <td>0.240</td>\n",
       "      <td>0.675634</td>\n",
       "    </tr>\n",
       "    <tr>\n",
       "      <td>Shooter</td>\n",
       "      <td>235</td>\n",
       "      <td>0.440</td>\n",
       "      <td>1.296723</td>\n",
       "    </tr>\n",
       "  </tbody>\n",
       "</table>\n",
       "</div>"
      ],
      "text/plain": [
       "              name total_sales          \n",
       "             count      median      mean\n",
       "genre                                   \n",
       "Adventure      302       0.030  0.097450\n",
       "Puzzle          28       0.045  0.174643\n",
       "Strategy        71       0.080  0.187887\n",
       "Action        1031       0.120  0.427856\n",
       "Misc           192       0.120  0.442917\n",
       "Simulation      80       0.120  0.439000\n",
       "Fighting       109       0.130  0.408165\n",
       "Racing         115       0.140  0.465217\n",
       "Role-Playing   370       0.140  0.521081\n",
       "Platform        85       0.210  0.717647\n",
       "Sports         268       0.240  0.675634\n",
       "Shooter        235       0.440  1.296723"
      ]
     },
     "execution_count": 75,
     "metadata": {},
     "output_type": "execute_result"
    }
   ],
   "source": [
    "df_actual.groupby('genre').agg({'name':'count', 'total_sales':['median', 'mean']}).sort_values(by=('total_sales', 'median'))"
   ]
  },
  {
   "cell_type": "markdown",
   "metadata": {
    "cellId": "q3b0ouyjyunsajeo5cmd3"
   },
   "source": [
    "Самые популярные жанры по медиане проданных копий - это Shooter, Sports и Platform. Самые непопулярные - Adventure, Puzzle, Strategy."
   ]
  },
  {
   "cell_type": "markdown",
   "metadata": {},
   "source": [
    "<a id='section_4_4'></a>\n",
    "### Анализ продаж по рынкам"
   ]
  },
  {
   "cell_type": "markdown",
   "metadata": {
    "cellId": "b2f65wmk466d5k5t46jj3"
   },
   "source": [
    "Выведем самые топ-5 самых популярных платформ в Северной Америке. Выводим результат в процентном соотношении ко всем объёмам продаж."
   ]
  },
  {
   "cell_type": "code",
   "execution_count": 76,
   "metadata": {
    "cellId": "3rynoszlogpjg7hg0jkjur",
    "scrolled": true
   },
   "outputs": [
    {
     "data": {
      "text/html": [
       "<div>\n",
       "<style scoped>\n",
       "    .dataframe tbody tr th:only-of-type {\n",
       "        vertical-align: middle;\n",
       "    }\n",
       "\n",
       "    .dataframe tbody tr th {\n",
       "        vertical-align: top;\n",
       "    }\n",
       "\n",
       "    .dataframe thead th {\n",
       "        text-align: right;\n",
       "    }\n",
       "</style>\n",
       "<table border=\"1\" class=\"dataframe\">\n",
       "  <thead>\n",
       "    <tr style=\"text-align: right;\">\n",
       "      <th></th>\n",
       "      <th>na_sales</th>\n",
       "    </tr>\n",
       "    <tr>\n",
       "      <th>platform</th>\n",
       "      <th></th>\n",
       "    </tr>\n",
       "  </thead>\n",
       "  <tbody>\n",
       "    <tr>\n",
       "      <td>X360</td>\n",
       "      <td>0.236983</td>\n",
       "    </tr>\n",
       "    <tr>\n",
       "      <td>PS4</td>\n",
       "      <td>0.184003</td>\n",
       "    </tr>\n",
       "    <tr>\n",
       "      <td>PS3</td>\n",
       "      <td>0.174933</td>\n",
       "    </tr>\n",
       "    <tr>\n",
       "      <td>XOne</td>\n",
       "      <td>0.157571</td>\n",
       "    </tr>\n",
       "    <tr>\n",
       "      <td>3DS</td>\n",
       "      <td>0.093592</td>\n",
       "    </tr>\n",
       "  </tbody>\n",
       "</table>\n",
       "</div>"
      ],
      "text/plain": [
       "          na_sales\n",
       "platform          \n",
       "X360      0.236983\n",
       "PS4       0.184003\n",
       "PS3       0.174933\n",
       "XOne      0.157571\n",
       "3DS       0.093592"
      ]
     },
     "execution_count": 76,
     "metadata": {},
     "output_type": "execute_result"
    }
   ],
   "source": [
    "df_actual.groupby('platform').agg({'na_sales':'sum'}).sort_values(\n",
    "    by='na_sales', ascending=False).head()/df_actual['na_sales'].sum()"
   ]
  },
  {
   "cell_type": "markdown",
   "metadata": {},
   "source": [
    "Для Европы"
   ]
  },
  {
   "cell_type": "code",
   "execution_count": 77,
   "metadata": {
    "cellId": "xmo1phk34kkgr2rwf84699",
    "scrolled": true
   },
   "outputs": [
    {
     "data": {
      "text/html": [
       "<div>\n",
       "<style scoped>\n",
       "    .dataframe tbody tr th:only-of-type {\n",
       "        vertical-align: middle;\n",
       "    }\n",
       "\n",
       "    .dataframe tbody tr th {\n",
       "        vertical-align: top;\n",
       "    }\n",
       "\n",
       "    .dataframe thead th {\n",
       "        text-align: right;\n",
       "    }\n",
       "</style>\n",
       "<table border=\"1\" class=\"dataframe\">\n",
       "  <thead>\n",
       "    <tr style=\"text-align: right;\">\n",
       "      <th></th>\n",
       "      <th>eu_sales</th>\n",
       "    </tr>\n",
       "    <tr>\n",
       "      <th>platform</th>\n",
       "      <th></th>\n",
       "    </tr>\n",
       "  </thead>\n",
       "  <tbody>\n",
       "    <tr>\n",
       "      <td>PS4</td>\n",
       "      <td>0.278383</td>\n",
       "    </tr>\n",
       "    <tr>\n",
       "      <td>PS3</td>\n",
       "      <td>0.210844</td>\n",
       "    </tr>\n",
       "    <tr>\n",
       "      <td>X360</td>\n",
       "      <td>0.147034</td>\n",
       "    </tr>\n",
       "    <tr>\n",
       "      <td>XOne</td>\n",
       "      <td>0.101792</td>\n",
       "    </tr>\n",
       "    <tr>\n",
       "      <td>3DS</td>\n",
       "      <td>0.084132</td>\n",
       "    </tr>\n",
       "  </tbody>\n",
       "</table>\n",
       "</div>"
      ],
      "text/plain": [
       "          eu_sales\n",
       "platform          \n",
       "PS4       0.278383\n",
       "PS3       0.210844\n",
       "X360      0.147034\n",
       "XOne      0.101792\n",
       "3DS       0.084132"
      ]
     },
     "execution_count": 77,
     "metadata": {},
     "output_type": "execute_result"
    }
   ],
   "source": [
    "df_actual.groupby('platform').agg({'eu_sales':'sum'}).sort_values(\n",
    "    by='eu_sales', ascending=False).head()/df_actual['eu_sales'].sum()"
   ]
  },
  {
   "cell_type": "markdown",
   "metadata": {},
   "source": [
    "Для Японии"
   ]
  },
  {
   "cell_type": "code",
   "execution_count": 78,
   "metadata": {
    "cellId": "ckzhhbq5l63jaja2l9onq"
   },
   "outputs": [
    {
     "data": {
      "text/html": [
       "<div>\n",
       "<style scoped>\n",
       "    .dataframe tbody tr th:only-of-type {\n",
       "        vertical-align: middle;\n",
       "    }\n",
       "\n",
       "    .dataframe tbody tr th {\n",
       "        vertical-align: top;\n",
       "    }\n",
       "\n",
       "    .dataframe thead th {\n",
       "        text-align: right;\n",
       "    }\n",
       "</style>\n",
       "<table border=\"1\" class=\"dataframe\">\n",
       "  <thead>\n",
       "    <tr style=\"text-align: right;\">\n",
       "      <th></th>\n",
       "      <th>jp_sales</th>\n",
       "    </tr>\n",
       "    <tr>\n",
       "      <th>platform</th>\n",
       "      <th></th>\n",
       "    </tr>\n",
       "  </thead>\n",
       "  <tbody>\n",
       "    <tr>\n",
       "      <td>3DS</td>\n",
       "      <td>0.455862</td>\n",
       "    </tr>\n",
       "    <tr>\n",
       "      <td>PS3</td>\n",
       "      <td>0.183249</td>\n",
       "    </tr>\n",
       "    <tr>\n",
       "      <td>PSV</td>\n",
       "      <td>0.109253</td>\n",
       "    </tr>\n",
       "    <tr>\n",
       "      <td>PS4</td>\n",
       "      <td>0.082875</td>\n",
       "    </tr>\n",
       "    <tr>\n",
       "      <td>WiiU</td>\n",
       "      <td>0.067556</td>\n",
       "    </tr>\n",
       "  </tbody>\n",
       "</table>\n",
       "</div>"
      ],
      "text/plain": [
       "          jp_sales\n",
       "platform          \n",
       "3DS       0.455862\n",
       "PS3       0.183249\n",
       "PSV       0.109253\n",
       "PS4       0.082875\n",
       "WiiU      0.067556"
      ]
     },
     "execution_count": 78,
     "metadata": {},
     "output_type": "execute_result"
    }
   ],
   "source": [
    "df_actual.groupby('platform').agg({'jp_sales':'sum'}).sort_values(\n",
    "    by='jp_sales', ascending=False).head()/df_actual['jp_sales'].sum()"
   ]
  },
  {
   "cell_type": "markdown",
   "metadata": {
    "cellId": "se9hy908bmrt6x9snxofh9"
   },
   "source": [
    "Самая популярная в Северной Америке.- X360, в Европе - PS4, в Японии 3DS.  Посмотрим на самые популярные жанры.\n",
    "\n",
    "В Северной Америке:"
   ]
  },
  {
   "cell_type": "code",
   "execution_count": 79,
   "metadata": {
    "cellId": "pzem2eahtintxty3eugwah",
    "scrolled": true
   },
   "outputs": [
    {
     "data": {
      "text/html": [
       "<div>\n",
       "<style scoped>\n",
       "    .dataframe tbody tr th:only-of-type {\n",
       "        vertical-align: middle;\n",
       "    }\n",
       "\n",
       "    .dataframe tbody tr th {\n",
       "        vertical-align: top;\n",
       "    }\n",
       "\n",
       "    .dataframe thead th {\n",
       "        text-align: right;\n",
       "    }\n",
       "</style>\n",
       "<table border=\"1\" class=\"dataframe\">\n",
       "  <thead>\n",
       "    <tr style=\"text-align: right;\">\n",
       "      <th></th>\n",
       "      <th>na_sales</th>\n",
       "    </tr>\n",
       "    <tr>\n",
       "      <th>genre</th>\n",
       "      <th></th>\n",
       "    </tr>\n",
       "  </thead>\n",
       "  <tbody>\n",
       "    <tr>\n",
       "      <td>Action</td>\n",
       "      <td>0.300929</td>\n",
       "    </tr>\n",
       "    <tr>\n",
       "      <td>Shooter</td>\n",
       "      <td>0.244970</td>\n",
       "    </tr>\n",
       "    <tr>\n",
       "      <td>Sports</td>\n",
       "      <td>0.137960</td>\n",
       "    </tr>\n",
       "    <tr>\n",
       "      <td>Role-Playing</td>\n",
       "      <td>0.108297</td>\n",
       "    </tr>\n",
       "    <tr>\n",
       "      <td>Misc</td>\n",
       "      <td>0.064623</td>\n",
       "    </tr>\n",
       "  </tbody>\n",
       "</table>\n",
       "</div>"
      ],
      "text/plain": [
       "              na_sales\n",
       "genre                 \n",
       "Action        0.300929\n",
       "Shooter       0.244970\n",
       "Sports        0.137960\n",
       "Role-Playing  0.108297\n",
       "Misc          0.064623"
      ]
     },
     "execution_count": 79,
     "metadata": {},
     "output_type": "execute_result"
    }
   ],
   "source": [
    "df_actual.groupby('genre').agg({'na_sales':'sum'}).sort_values(\n",
    "    by='na_sales', ascending=False).head()/df_actual['na_sales'].sum()"
   ]
  },
  {
   "cell_type": "markdown",
   "metadata": {},
   "source": [
    "В Европе:"
   ]
  },
  {
   "cell_type": "code",
   "execution_count": 80,
   "metadata": {
    "cellId": "l51yoyft8orka31izm9zjp",
    "scrolled": true
   },
   "outputs": [
    {
     "data": {
      "text/html": [
       "<div>\n",
       "<style scoped>\n",
       "    .dataframe tbody tr th:only-of-type {\n",
       "        vertical-align: middle;\n",
       "    }\n",
       "\n",
       "    .dataframe tbody tr th {\n",
       "        vertical-align: top;\n",
       "    }\n",
       "\n",
       "    .dataframe thead th {\n",
       "        text-align: right;\n",
       "    }\n",
       "</style>\n",
       "<table border=\"1\" class=\"dataframe\">\n",
       "  <thead>\n",
       "    <tr style=\"text-align: right;\">\n",
       "      <th></th>\n",
       "      <th>eu_sales</th>\n",
       "    </tr>\n",
       "    <tr>\n",
       "      <th>genre</th>\n",
       "      <th></th>\n",
       "    </tr>\n",
       "  </thead>\n",
       "  <tbody>\n",
       "    <tr>\n",
       "      <td>Action</td>\n",
       "      <td>0.314392</td>\n",
       "    </tr>\n",
       "    <tr>\n",
       "      <td>Shooter</td>\n",
       "      <td>0.223886</td>\n",
       "    </tr>\n",
       "    <tr>\n",
       "      <td>Sports</td>\n",
       "      <td>0.136321</td>\n",
       "    </tr>\n",
       "    <tr>\n",
       "      <td>Role-Playing</td>\n",
       "      <td>0.095754</td>\n",
       "    </tr>\n",
       "    <tr>\n",
       "      <td>Racing</td>\n",
       "      <td>0.053846</td>\n",
       "    </tr>\n",
       "  </tbody>\n",
       "</table>\n",
       "</div>"
      ],
      "text/plain": [
       "              eu_sales\n",
       "genre                 \n",
       "Action        0.314392\n",
       "Shooter       0.223886\n",
       "Sports        0.136321\n",
       "Role-Playing  0.095754\n",
       "Racing        0.053846"
      ]
     },
     "execution_count": 80,
     "metadata": {},
     "output_type": "execute_result"
    }
   ],
   "source": [
    "df_actual.groupby('genre').agg({'eu_sales':'sum'}).sort_values(\n",
    "    by='eu_sales', ascending=False).head()/df_actual['eu_sales'].sum()"
   ]
  },
  {
   "cell_type": "markdown",
   "metadata": {},
   "source": [
    "В Японии"
   ]
  },
  {
   "cell_type": "code",
   "execution_count": 81,
   "metadata": {
    "cellId": "a3ykc4plegrs0j21jdt9m"
   },
   "outputs": [
    {
     "data": {
      "text/html": [
       "<div>\n",
       "<style scoped>\n",
       "    .dataframe tbody tr th:only-of-type {\n",
       "        vertical-align: middle;\n",
       "    }\n",
       "\n",
       "    .dataframe tbody tr th {\n",
       "        vertical-align: top;\n",
       "    }\n",
       "\n",
       "    .dataframe thead th {\n",
       "        text-align: right;\n",
       "    }\n",
       "</style>\n",
       "<table border=\"1\" class=\"dataframe\">\n",
       "  <thead>\n",
       "    <tr style=\"text-align: right;\">\n",
       "      <th></th>\n",
       "      <th>jp_sales</th>\n",
       "    </tr>\n",
       "    <tr>\n",
       "      <th>genre</th>\n",
       "      <th></th>\n",
       "    </tr>\n",
       "  </thead>\n",
       "  <tbody>\n",
       "    <tr>\n",
       "      <td>Role-Playing</td>\n",
       "      <td>0.339807</td>\n",
       "    </tr>\n",
       "    <tr>\n",
       "      <td>Action</td>\n",
       "      <td>0.274172</td>\n",
       "    </tr>\n",
       "    <tr>\n",
       "      <td>Misc</td>\n",
       "      <td>0.066777</td>\n",
       "    </tr>\n",
       "    <tr>\n",
       "      <td>Simulation</td>\n",
       "      <td>0.054055</td>\n",
       "    </tr>\n",
       "    <tr>\n",
       "      <td>Fighting</td>\n",
       "      <td>0.049019</td>\n",
       "    </tr>\n",
       "  </tbody>\n",
       "</table>\n",
       "</div>"
      ],
      "text/plain": [
       "              jp_sales\n",
       "genre                 \n",
       "Role-Playing  0.339807\n",
       "Action        0.274172\n",
       "Misc          0.066777\n",
       "Simulation    0.054055\n",
       "Fighting      0.049019"
      ]
     },
     "execution_count": 81,
     "metadata": {},
     "output_type": "execute_result"
    }
   ],
   "source": [
    "df_actual.groupby('genre').agg({'jp_sales':'sum'}).sort_values(\n",
    "    by='jp_sales', ascending=False).head()/df_actual['jp_sales'].sum()"
   ]
  },
  {
   "cell_type": "markdown",
   "metadata": {
    "cellId": "tt8ljk0sntm5wz52bx69y"
   },
   "source": [
    "Посмотрим на жанры на глобальном рынке"
   ]
  },
  {
   "cell_type": "code",
   "execution_count": 82,
   "metadata": {
    "cellId": "kbhz6kngowxtg0zej95fr"
   },
   "outputs": [
    {
     "data": {
      "text/html": [
       "<div>\n",
       "<style scoped>\n",
       "    .dataframe tbody tr th:only-of-type {\n",
       "        vertical-align: middle;\n",
       "    }\n",
       "\n",
       "    .dataframe tbody tr th {\n",
       "        vertical-align: top;\n",
       "    }\n",
       "\n",
       "    .dataframe thead th {\n",
       "        text-align: right;\n",
       "    }\n",
       "</style>\n",
       "<table border=\"1\" class=\"dataframe\">\n",
       "  <thead>\n",
       "    <tr style=\"text-align: right;\">\n",
       "      <th></th>\n",
       "      <th>total_sales</th>\n",
       "    </tr>\n",
       "    <tr>\n",
       "      <th>genre</th>\n",
       "      <th></th>\n",
       "    </tr>\n",
       "  </thead>\n",
       "  <tbody>\n",
       "    <tr>\n",
       "      <td>Action</td>\n",
       "      <td>0.304950</td>\n",
       "    </tr>\n",
       "    <tr>\n",
       "      <td>Shooter</td>\n",
       "      <td>0.210663</td>\n",
       "    </tr>\n",
       "    <tr>\n",
       "      <td>Role-Playing</td>\n",
       "      <td>0.133284</td>\n",
       "    </tr>\n",
       "    <tr>\n",
       "      <td>Sports</td>\n",
       "      <td>0.125175</td>\n",
       "    </tr>\n",
       "    <tr>\n",
       "      <td>Misc</td>\n",
       "      <td>0.058789</td>\n",
       "    </tr>\n",
       "  </tbody>\n",
       "</table>\n",
       "</div>"
      ],
      "text/plain": [
       "              total_sales\n",
       "genre                    \n",
       "Action           0.304950\n",
       "Shooter          0.210663\n",
       "Role-Playing     0.133284\n",
       "Sports           0.125175\n",
       "Misc             0.058789"
      ]
     },
     "execution_count": 82,
     "metadata": {},
     "output_type": "execute_result"
    }
   ],
   "source": [
    "df_actual.groupby('genre').agg({'total_sales':'sum'}).sort_values(\n",
    "    by='total_sales', ascending=False).head()/df_actual['total_sales'].sum()"
   ]
  },
  {
   "cell_type": "markdown",
   "metadata": {
    "cellId": "wzlj2jqfd1kg5l2hrq21bq"
   },
   "source": [
    "Видим, что тренд глобального рынка практически повторяет тренд Северной Америки и Европы. Что и не удивительно, если сравнивать объёмы продаж по жанрам в абсолютных значениях."
   ]
  },
  {
   "cell_type": "code",
   "execution_count": 83,
   "metadata": {
    "cellId": "chk4zyxtcyuhwceavuvej9"
   },
   "outputs": [
    {
     "data": {
      "text/html": [
       "<div>\n",
       "<style scoped>\n",
       "    .dataframe tbody tr th:only-of-type {\n",
       "        vertical-align: middle;\n",
       "    }\n",
       "\n",
       "    .dataframe tbody tr th {\n",
       "        vertical-align: top;\n",
       "    }\n",
       "\n",
       "    .dataframe thead th {\n",
       "        text-align: right;\n",
       "    }\n",
       "</style>\n",
       "<table border=\"1\" class=\"dataframe\">\n",
       "  <thead>\n",
       "    <tr style=\"text-align: right;\">\n",
       "      <th></th>\n",
       "      <th>total_sales</th>\n",
       "      <th>na_sales</th>\n",
       "      <th>eu_sales</th>\n",
       "      <th>jp_sales</th>\n",
       "    </tr>\n",
       "    <tr>\n",
       "      <th>genre</th>\n",
       "      <th></th>\n",
       "      <th></th>\n",
       "      <th></th>\n",
       "      <th></th>\n",
       "    </tr>\n",
       "  </thead>\n",
       "  <tbody>\n",
       "    <tr>\n",
       "      <td>Action</td>\n",
       "      <td>441.12</td>\n",
       "      <td>177.84</td>\n",
       "      <td>159.34</td>\n",
       "      <td>52.80</td>\n",
       "    </tr>\n",
       "    <tr>\n",
       "      <td>Shooter</td>\n",
       "      <td>304.73</td>\n",
       "      <td>144.77</td>\n",
       "      <td>113.47</td>\n",
       "      <td>9.23</td>\n",
       "    </tr>\n",
       "    <tr>\n",
       "      <td>Role-Playing</td>\n",
       "      <td>192.80</td>\n",
       "      <td>64.00</td>\n",
       "      <td>48.53</td>\n",
       "      <td>65.44</td>\n",
       "    </tr>\n",
       "    <tr>\n",
       "      <td>Sports</td>\n",
       "      <td>181.07</td>\n",
       "      <td>81.53</td>\n",
       "      <td>69.09</td>\n",
       "      <td>8.01</td>\n",
       "    </tr>\n",
       "    <tr>\n",
       "      <td>Misc</td>\n",
       "      <td>85.04</td>\n",
       "      <td>38.19</td>\n",
       "      <td>26.32</td>\n",
       "      <td>12.86</td>\n",
       "    </tr>\n",
       "  </tbody>\n",
       "</table>\n",
       "</div>"
      ],
      "text/plain": [
       "              total_sales  na_sales  eu_sales  jp_sales\n",
       "genre                                                  \n",
       "Action             441.12    177.84    159.34     52.80\n",
       "Shooter            304.73    144.77    113.47      9.23\n",
       "Role-Playing       192.80     64.00     48.53     65.44\n",
       "Sports             181.07     81.53     69.09      8.01\n",
       "Misc                85.04     38.19     26.32     12.86"
      ]
     },
     "execution_count": 83,
     "metadata": {},
     "output_type": "execute_result"
    }
   ],
   "source": [
    "df_actual.groupby('genre').agg(\n",
    "    {'total_sales':'sum', 'na_sales':'sum', 'eu_sales':'sum','jp_sales':'sum'}).sort_values(\n",
    "    by='total_sales', ascending=False).head()"
   ]
  },
  {
   "cell_type": "markdown",
   "metadata": {
    "cellId": "ntjxnzceeb9ngkj6q7tpf"
   },
   "source": [
    "Посмотрим, как распределяется количество продаж от рейтинга игры.\n",
    "\n",
    "Для Северной Америки:"
   ]
  },
  {
   "cell_type": "code",
   "execution_count": 84,
   "metadata": {
    "cellId": "11iccb7kkk7rs4oholzzxn",
    "scrolled": true
   },
   "outputs": [
    {
     "data": {
      "text/html": [
       "<div>\n",
       "<style scoped>\n",
       "    .dataframe tbody tr th:only-of-type {\n",
       "        vertical-align: middle;\n",
       "    }\n",
       "\n",
       "    .dataframe tbody tr th {\n",
       "        vertical-align: top;\n",
       "    }\n",
       "\n",
       "    .dataframe thead th {\n",
       "        text-align: right;\n",
       "    }\n",
       "</style>\n",
       "<table border=\"1\" class=\"dataframe\">\n",
       "  <thead>\n",
       "    <tr style=\"text-align: right;\">\n",
       "      <th></th>\n",
       "      <th>na_sales</th>\n",
       "    </tr>\n",
       "    <tr>\n",
       "      <th>rating</th>\n",
       "      <th></th>\n",
       "    </tr>\n",
       "  </thead>\n",
       "  <tbody>\n",
       "    <tr>\n",
       "      <td>M</td>\n",
       "      <td>231.57</td>\n",
       "    </tr>\n",
       "    <tr>\n",
       "      <td>E</td>\n",
       "      <td>114.37</td>\n",
       "    </tr>\n",
       "    <tr>\n",
       "      <td>NR</td>\n",
       "      <td>103.31</td>\n",
       "    </tr>\n",
       "    <tr>\n",
       "      <td>E10+</td>\n",
       "      <td>75.70</td>\n",
       "    </tr>\n",
       "    <tr>\n",
       "      <td>T</td>\n",
       "      <td>66.02</td>\n",
       "    </tr>\n",
       "  </tbody>\n",
       "</table>\n",
       "</div>"
      ],
      "text/plain": [
       "        na_sales\n",
       "rating          \n",
       "M         231.57\n",
       "E         114.37\n",
       "NR        103.31\n",
       "E10+       75.70\n",
       "T          66.02"
      ]
     },
     "execution_count": 84,
     "metadata": {},
     "output_type": "execute_result"
    }
   ],
   "source": [
    "df_actual.groupby('rating').agg({'na_sales':'sum'}).sort_values(by='na_sales', ascending=False)"
   ]
  },
  {
   "cell_type": "markdown",
   "metadata": {},
   "source": [
    "Для Европы:"
   ]
  },
  {
   "cell_type": "code",
   "execution_count": 85,
   "metadata": {
    "cellId": "b74prlxwlw8jmmm4crvk8",
    "scrolled": true
   },
   "outputs": [
    {
     "data": {
      "text/html": [
       "<div>\n",
       "<style scoped>\n",
       "    .dataframe tbody tr th:only-of-type {\n",
       "        vertical-align: middle;\n",
       "    }\n",
       "\n",
       "    .dataframe tbody tr th {\n",
       "        vertical-align: top;\n",
       "    }\n",
       "\n",
       "    .dataframe thead th {\n",
       "        text-align: right;\n",
       "    }\n",
       "</style>\n",
       "<table border=\"1\" class=\"dataframe\">\n",
       "  <thead>\n",
       "    <tr style=\"text-align: right;\">\n",
       "      <th></th>\n",
       "      <th>eu_sales</th>\n",
       "    </tr>\n",
       "    <tr>\n",
       "      <th>rating</th>\n",
       "      <th></th>\n",
       "    </tr>\n",
       "  </thead>\n",
       "  <tbody>\n",
       "    <tr>\n",
       "      <td>M</td>\n",
       "      <td>193.96</td>\n",
       "    </tr>\n",
       "    <tr>\n",
       "      <td>E</td>\n",
       "      <td>113.03</td>\n",
       "    </tr>\n",
       "    <tr>\n",
       "      <td>NR</td>\n",
       "      <td>91.50</td>\n",
       "    </tr>\n",
       "    <tr>\n",
       "      <td>E10+</td>\n",
       "      <td>55.37</td>\n",
       "    </tr>\n",
       "    <tr>\n",
       "      <td>T</td>\n",
       "      <td>52.96</td>\n",
       "    </tr>\n",
       "  </tbody>\n",
       "</table>\n",
       "</div>"
      ],
      "text/plain": [
       "        eu_sales\n",
       "rating          \n",
       "M         193.96\n",
       "E         113.03\n",
       "NR         91.50\n",
       "E10+       55.37\n",
       "T          52.96"
      ]
     },
     "execution_count": 85,
     "metadata": {},
     "output_type": "execute_result"
    }
   ],
   "source": [
    "df_actual.groupby('rating').agg({'eu_sales':'sum'}).sort_values(by='eu_sales', ascending=False)"
   ]
  },
  {
   "cell_type": "markdown",
   "metadata": {},
   "source": [
    "Для Японии:"
   ]
  },
  {
   "cell_type": "code",
   "execution_count": 86,
   "metadata": {
    "cellId": "uqxsjuiflhj99c3y6l1dh6"
   },
   "outputs": [
    {
     "data": {
      "text/html": [
       "<div>\n",
       "<style scoped>\n",
       "    .dataframe tbody tr th:only-of-type {\n",
       "        vertical-align: middle;\n",
       "    }\n",
       "\n",
       "    .dataframe tbody tr th {\n",
       "        vertical-align: top;\n",
       "    }\n",
       "\n",
       "    .dataframe thead th {\n",
       "        text-align: right;\n",
       "    }\n",
       "</style>\n",
       "<table border=\"1\" class=\"dataframe\">\n",
       "  <thead>\n",
       "    <tr style=\"text-align: right;\">\n",
       "      <th></th>\n",
       "      <th>jp_sales</th>\n",
       "    </tr>\n",
       "    <tr>\n",
       "      <th>rating</th>\n",
       "      <th></th>\n",
       "    </tr>\n",
       "  </thead>\n",
       "  <tbody>\n",
       "    <tr>\n",
       "      <td>NR</td>\n",
       "      <td>108.84</td>\n",
       "    </tr>\n",
       "    <tr>\n",
       "      <td>E</td>\n",
       "      <td>28.33</td>\n",
       "    </tr>\n",
       "    <tr>\n",
       "      <td>T</td>\n",
       "      <td>26.02</td>\n",
       "    </tr>\n",
       "    <tr>\n",
       "      <td>M</td>\n",
       "      <td>21.20</td>\n",
       "    </tr>\n",
       "    <tr>\n",
       "      <td>E10+</td>\n",
       "      <td>8.19</td>\n",
       "    </tr>\n",
       "  </tbody>\n",
       "</table>\n",
       "</div>"
      ],
      "text/plain": [
       "        jp_sales\n",
       "rating          \n",
       "NR        108.84\n",
       "E          28.33\n",
       "T          26.02\n",
       "M          21.20\n",
       "E10+        8.19"
      ]
     },
     "execution_count": 86,
     "metadata": {},
     "output_type": "execute_result"
    }
   ],
   "source": [
    "df_actual.groupby('rating').agg({'jp_sales':'sum'}).sort_values(by='jp_sales', ascending=False)"
   ]
  },
  {
   "cell_type": "markdown",
   "metadata": {
    "cellId": "g8fkaha663s72op69jiwxw"
   },
   "source": [
    "Видно, что рейтинги *RP* и *EC* слишком малочисленны по объёмам. Игры для детей от 10 лет *E10+* имеют худшую позицию для всех рынков. В лидирующих позициях есть различия. Логично предполагать, что наибольшую популярность имеют игры, у которых рейтинг *E* - для всех. Однако это верно для рынка Японии (если не учитывать игры с пропущенным рейтингом *NR*). Для Европы и Северной Америки на первом месте идёт рейтинг *M* для взрослых. Судя по всему взрослые увлекаются играми больше подростков, либо могут позволить себе их приобрести.Судя по всему аудитория здесь более возрастная. Для Японии рейтинги в порядке убывания объёмов: *E,T,M*. Это может говорить о том, что наиболее активна молодая аудитория."
   ]
  },
  {
   "cell_type": "markdown",
   "metadata": {
    "cellId": "f0x8dx6eqv3yet5mekhda"
   },
   "source": [
    "<a id='section_4_5'></a>\n",
    "### Проверка гипотез\n",
    "\n",
    "Сформулируем первую нулевую гипотезу и проверим её. Средние пользовательские рейтинги платформ *XBoxOne* и *PC* одинаковые. Альтернативная гипотеза - рейтинги отличаются. Зададимся уровнем статистической значимости 0.05. Если расчитанное т-тестом значение `p-value` будет меньше этого числа, то нулевую гипотезу отвергнем в пользу альтернативной. Для начала импортируем библиотеку."
   ]
  },
  {
   "cell_type": "code",
   "execution_count": 87,
   "metadata": {
    "cellId": "hpbqiqzborj8ppl4al81fp"
   },
   "outputs": [],
   "source": [
    "from scipy import stats as st"
   ]
  },
  {
   "cell_type": "markdown",
   "metadata": {},
   "source": [
    "В рассмотрении будем учитывать только те записи, где не оценки не заполнялись заглушками (-1)"
   ]
  },
  {
   "cell_type": "code",
   "execution_count": 88,
   "metadata": {
    "cellId": "ezpyn3zhb7tloxbma8gefe"
   },
   "outputs": [],
   "source": [
    "results = st.ttest_ind(df_actual.query('platform == \\'XOne\\' and user_score!=-1')['user_score'], \n",
    "                       df_actual.query('platform == \\'PC\\' and user_score!=-1')['user_score'])"
   ]
  },
  {
   "cell_type": "code",
   "execution_count": 89,
   "metadata": {
    "cellId": "6xtgrt4560kkmgmz7qucwj"
   },
   "outputs": [
    {
     "data": {
      "text/plain": [
       "Ttest_indResult(statistic=0.5930304646661256, pvalue=0.5535080500643661)"
      ]
     },
     "execution_count": 89,
     "metadata": {},
     "output_type": "execute_result"
    }
   ],
   "source": [
    "results"
   ]
  },
  {
   "cell_type": "markdown",
   "metadata": {
    "cellId": "9y2kx0iercoqg7zu2g1ukh"
   },
   "source": [
    "Видим, что `p-value` имеет значение несколько больше порогового значения статистической значимости. Значит нулевую гипотезу не отвергаем."
   ]
  },
  {
   "cell_type": "markdown",
   "metadata": {
    "cellId": "fie2crs5movef14nhe772j"
   },
   "source": [
    "Теперь проверим следующую нулевую гипотезу. Средние пользовательские рейтинги  жанров *Action* и *Sports* одинаковые. Альтернативная гипотеза - рейтинги отличаются. "
   ]
  },
  {
   "cell_type": "code",
   "execution_count": 90,
   "metadata": {
    "cellId": "qe8v7eqaf79zun25nbhntc"
   },
   "outputs": [],
   "source": [
    "results = st.ttest_ind(df_actual.query('genre == \\'Action\\' and user_score!=-1')['user_score'],\n",
    "                       df_actual.query('genre == \\'Sports\\' and user_score!=-1')['user_score'])"
   ]
  },
  {
   "cell_type": "code",
   "execution_count": 91,
   "metadata": {
    "cellId": "6plhf0vzddebxjomvpvyk8"
   },
   "outputs": [
    {
     "data": {
      "text/plain": [
       "Ttest_indResult(statistic=11.010635282641651, pvalue=3.7163089460934874e-26)"
      ]
     },
     "execution_count": 91,
     "metadata": {},
     "output_type": "execute_result"
    }
   ],
   "source": [
    "results"
   ]
  },
  {
   "cell_type": "markdown",
   "metadata": {
    "cellId": "3h5am08yn41vqlol8lsgzl"
   },
   "source": [
    "Видим, что `p-value` имеет значение меньше порогового значения статистической значимости. Значит нулевую гипотезу отвергаем в пользу альтернативной - средние рейтинги отличаются."
   ]
  },
  {
   "cell_type": "code",
   "execution_count": 93,
   "metadata": {},
   "outputs": [
    {
     "data": {
      "text/plain": [
       "6.825047801147227"
      ]
     },
     "execution_count": 93,
     "metadata": {},
     "output_type": "execute_result"
    }
   ],
   "source": [
    "df_actual.query('genre == \\'Action\\' and user_score!=-1')['user_score'].mean()"
   ]
  },
  {
   "cell_type": "code",
   "execution_count": 94,
   "metadata": {},
   "outputs": [
    {
     "data": {
      "text/plain": [
       "5.455897435897437"
      ]
     },
     "execution_count": 94,
     "metadata": {},
     "output_type": "execute_result"
    }
   ],
   "source": [
    "df_actual.query('genre == \\'Sports\\' and user_score!=-1')['user_score'].mean()"
   ]
  },
  {
   "cell_type": "markdown",
   "metadata": {
    "cellId": "d2rng3t1g7crkj3c78fwee"
   },
   "source": [
    "### Выводы\n",
    "\n",
    "В ходе выполнения работы установили:\n",
    "- cколько игр выпускалось в разные годы\n",
    "- как менялись продажи по платформам\n",
    "- платформы с наибольшими суммарными продажами и построили распределение по годам\n",
    "- средний срок, за который появляются новые и исчезают старые платформы (порядка 9 лет)\n",
    "\n",
    "Полученную информацию о сроке жизни платформ использовали для определения актуального периода (c 2012 года)\n",
    "\n",
    "Определили:\n",
    "- какие платформы лидируют по продажам, растут и падают\n",
    "- несколько потенциально прибыльных платформ.\n",
    "- самые прибыльные жанры (*Shooter, Sports, Platform*)\n",
    "- как влияют на продажи отзывы пользователей и критиков (критиков сильнее)\n",
    "\n",
    "Построили:\n",
    "- диаграмму размаха по глобальным продажам игр в разбивке по платформам\n",
    "- диаграмму рассеяния и посчитать корреляцию между отзывами и продажами. \n",
    "\n",
    "Определили для пользователя каждого региона (NA, EU, JP):\n",
    "\n",
    "- Самые популярные платформы (топ-5)\n",
    "- Самые популярные жанры (топ-5)\n",
    "- Влияние рейтинга ESRB на продажи в регионах\n",
    "\n",
    "Проверили гипотезы:\n",
    "- Средние пользовательские рейтинги платформ *Xbox One* и *PC* одинаковые. Эту гипотезу опровергнуть не удалось\n",
    "- Средние пользовательские рейтинги жанров *Action* и *Sports*  разные. Эту гипотезу не отвергаем."
   ]
  },
  {
   "cell_type": "markdown",
   "metadata": {
    "cellId": "qqcd9bf5cko5vl6fe9xswb"
   },
   "source": [
    "<a id='section_5'></a>\n",
    "## Общие выводы"
   ]
  },
  {
   "cell_type": "markdown",
   "metadata": {
    "cellId": "5076a8nsemyta3y50zzqe"
   },
   "source": [
    "В ходе работы выполнили обзор даных, где привели названия столбцов к нижнему регистру, предобработку данных, где убрали и заполнили пропуски значений. Определили суммарные продажи для игр во всех регионах. Построили гистограмму выхода игр в разные годы и определили наиболее популярные платформы. Определили влияние оценок критиков и пользователей не продажи. Описали вероятных пользователей из различных регионов (*NA, EU, JP*). Проверили гипотезы и установили, что рейтинги пользователей жанров *Action* и *Sports* отличаются, а рейтинги платформ *XBoxOne* и *PC* одинаковые."
   ]
  }
 ],
 "metadata": {
  "ExecuteTimeLog": [
   {
    "duration": 3,
    "start_time": "2021-12-14T17:14:35.036Z"
   },
   {
    "duration": 560,
    "start_time": "2021-12-14T17:18:07.550Z"
   },
   {
    "duration": 99,
    "start_time": "2021-12-14T17:18:09.978Z"
   },
   {
    "duration": 488,
    "start_time": "2021-12-14T17:18:23.838Z"
   },
   {
    "duration": 1860,
    "start_time": "2021-12-14T17:18:29.657Z"
   },
   {
    "duration": 36,
    "start_time": "2021-12-14T17:18:45.884Z"
   },
   {
    "duration": 10,
    "start_time": "2021-12-14T17:18:50.900Z"
   },
   {
    "duration": 15,
    "start_time": "2021-12-14T17:18:59.540Z"
   },
   {
    "duration": 3,
    "start_time": "2021-12-14T17:20:03.229Z"
   },
   {
    "duration": 15,
    "start_time": "2021-12-14T17:20:05.256Z"
   },
   {
    "duration": 9,
    "start_time": "2021-12-14T17:20:39.678Z"
   },
   {
    "duration": 9,
    "start_time": "2021-12-14T17:20:52.319Z"
   },
   {
    "duration": 8,
    "start_time": "2021-12-14T17:21:07.676Z"
   },
   {
    "duration": 11,
    "start_time": "2021-12-14T17:21:24.101Z"
   },
   {
    "duration": 8,
    "start_time": "2021-12-14T17:21:33.428Z"
   },
   {
    "duration": 10,
    "start_time": "2021-12-14T17:21:47.268Z"
   },
   {
    "duration": 6,
    "start_time": "2021-12-14T17:22:05.805Z"
   },
   {
    "duration": 20,
    "start_time": "2021-12-14T17:22:24.842Z"
   },
   {
    "duration": 4,
    "start_time": "2021-12-14T17:22:42.676Z"
   },
   {
    "duration": 7,
    "start_time": "2021-12-14T17:22:47.519Z"
   },
   {
    "duration": 6,
    "start_time": "2021-12-14T17:23:10.813Z"
   },
   {
    "duration": 7,
    "start_time": "2021-12-14T17:23:19.572Z"
   },
   {
    "duration": 8,
    "start_time": "2021-12-14T17:23:29.604Z"
   },
   {
    "duration": 6,
    "start_time": "2021-12-14T17:23:31.663Z"
   },
   {
    "duration": 8,
    "start_time": "2021-12-14T17:23:43.463Z"
   },
   {
    "duration": 7,
    "start_time": "2021-12-14T17:23:45.867Z"
   },
   {
    "duration": 7,
    "start_time": "2021-12-14T17:23:51.164Z"
   },
   {
    "duration": 10,
    "start_time": "2021-12-14T17:23:59.341Z"
   },
   {
    "duration": 3,
    "start_time": "2021-12-14T17:24:33.422Z"
   },
   {
    "duration": 7,
    "start_time": "2021-12-14T17:24:48.570Z"
   },
   {
    "duration": 4,
    "start_time": "2021-12-14T17:24:51.628Z"
   },
   {
    "duration": 11,
    "start_time": "2021-12-14T17:25:12.416Z"
   },
   {
    "duration": 8,
    "start_time": "2021-12-14T17:25:15.825Z"
   },
   {
    "duration": 12,
    "start_time": "2021-12-14T17:25:24.951Z"
   },
   {
    "duration": 3,
    "start_time": "2021-12-14T17:25:33.840Z"
   },
   {
    "duration": 8,
    "start_time": "2021-12-14T17:25:42.953Z"
   },
   {
    "duration": 4,
    "start_time": "2021-12-14T17:25:47.516Z"
   },
   {
    "duration": 6,
    "start_time": "2021-12-14T17:25:57.781Z"
   },
   {
    "duration": 5,
    "start_time": "2021-12-14T17:26:00.367Z"
   },
   {
    "duration": 7,
    "start_time": "2021-12-14T17:26:02.436Z"
   },
   {
    "duration": 4,
    "start_time": "2021-12-14T17:26:27.240Z"
   },
   {
    "duration": 7,
    "start_time": "2021-12-14T17:26:29.089Z"
   },
   {
    "duration": 9,
    "start_time": "2021-12-14T17:26:31.922Z"
   },
   {
    "duration": 255,
    "start_time": "2021-12-14T17:28:10.000Z"
   },
   {
    "duration": 928,
    "start_time": "2021-12-14T17:28:49.343Z"
   },
   {
    "duration": 8,
    "start_time": "2021-12-14T17:29:02.150Z"
   },
   {
    "duration": 296,
    "start_time": "2021-12-14T17:29:47.224Z"
   },
   {
    "duration": 217,
    "start_time": "2021-12-14T17:30:02.660Z"
   },
   {
    "duration": 248,
    "start_time": "2021-12-14T17:30:41.277Z"
   },
   {
    "duration": 270,
    "start_time": "2021-12-14T17:31:06.485Z"
   },
   {
    "duration": 191,
    "start_time": "2021-12-14T17:31:22.026Z"
   },
   {
    "duration": 213,
    "start_time": "2021-12-14T17:31:32.523Z"
   },
   {
    "duration": 225,
    "start_time": "2021-12-14T17:31:45.980Z"
   },
   {
    "duration": 218,
    "start_time": "2021-12-14T17:31:54.390Z"
   },
   {
    "duration": 10,
    "start_time": "2021-12-14T17:32:42.923Z"
   },
   {
    "duration": 7,
    "start_time": "2021-12-14T17:32:43.605Z"
   },
   {
    "duration": 5,
    "start_time": "2021-12-14T17:33:06.780Z"
   },
   {
    "duration": 11,
    "start_time": "2021-12-14T17:33:07.613Z"
   },
   {
    "duration": 8,
    "start_time": "2021-12-14T17:33:48.436Z"
   },
   {
    "duration": 10,
    "start_time": "2021-12-14T17:33:53.730Z"
   },
   {
    "duration": 5,
    "start_time": "2021-12-14T17:36:12.183Z"
   },
   {
    "duration": 14,
    "start_time": "2021-12-14T17:36:15.130Z"
   },
   {
    "duration": 8,
    "start_time": "2021-12-14T17:36:18.376Z"
   },
   {
    "duration": 246,
    "start_time": "2021-12-14T17:36:27.744Z"
   },
   {
    "duration": 246,
    "start_time": "2021-12-14T17:36:47.196Z"
   },
   {
    "duration": 265,
    "start_time": "2021-12-14T17:36:59.131Z"
   },
   {
    "duration": 270,
    "start_time": "2021-12-14T17:37:17.017Z"
   },
   {
    "duration": 288,
    "start_time": "2021-12-14T17:37:27.204Z"
   },
   {
    "duration": 587,
    "start_time": "2021-12-14T17:38:03.524Z"
   },
   {
    "duration": 705,
    "start_time": "2021-12-14T17:38:15.106Z"
   },
   {
    "duration": 653,
    "start_time": "2021-12-14T17:38:22.493Z"
   },
   {
    "duration": 110,
    "start_time": "2021-12-14T17:41:52.767Z"
   },
   {
    "duration": 286,
    "start_time": "2021-12-14T17:42:03.333Z"
   },
   {
    "duration": 296,
    "start_time": "2021-12-14T17:44:30.969Z"
   },
   {
    "duration": 216,
    "start_time": "2021-12-14T17:45:25.754Z"
   },
   {
    "duration": 222,
    "start_time": "2021-12-14T17:45:39.379Z"
   },
   {
    "duration": 725,
    "start_time": "2021-12-14T17:47:27.307Z"
   },
   {
    "duration": 665,
    "start_time": "2021-12-14T17:47:45.971Z"
   },
   {
    "duration": 620,
    "start_time": "2021-12-14T17:48:03.204Z"
   },
   {
    "duration": 568,
    "start_time": "2021-12-14T17:48:16.513Z"
   },
   {
    "duration": 615,
    "start_time": "2021-12-14T17:48:24.108Z"
   },
   {
    "duration": 878,
    "start_time": "2021-12-14T17:50:57.195Z"
   },
   {
    "duration": 713,
    "start_time": "2021-12-14T17:51:04.727Z"
   },
   {
    "duration": 702,
    "start_time": "2021-12-14T17:51:08.834Z"
   },
   {
    "duration": 524,
    "start_time": "2021-12-14T17:51:11.996Z"
   },
   {
    "duration": 637,
    "start_time": "2021-12-14T17:51:22.963Z"
   },
   {
    "duration": 7,
    "start_time": "2021-12-14T17:51:37.203Z"
   },
   {
    "duration": 6,
    "start_time": "2021-12-14T17:52:37.185Z"
   },
   {
    "duration": 5,
    "start_time": "2021-12-14T17:52:53.122Z"
   },
   {
    "duration": 14,
    "start_time": "2021-12-14T17:52:57.381Z"
   },
   {
    "duration": 3,
    "start_time": "2021-12-14T17:55:32.119Z"
   },
   {
    "duration": 3,
    "start_time": "2021-12-14T17:55:52.388Z"
   },
   {
    "duration": 230,
    "start_time": "2021-12-14T17:56:01.870Z"
   },
   {
    "duration": 65,
    "start_time": "2021-12-14T17:56:10.487Z"
   },
   {
    "duration": 12,
    "start_time": "2021-12-14T17:56:16.582Z"
   },
   {
    "duration": 472,
    "start_time": "2021-12-14T17:56:39.866Z"
   },
   {
    "duration": 459,
    "start_time": "2021-12-14T17:56:50.507Z"
   },
   {
    "duration": 915,
    "start_time": "2021-12-14T17:57:14.372Z"
   },
   {
    "duration": 744,
    "start_time": "2021-12-14T17:58:21.115Z"
   },
   {
    "duration": 460,
    "start_time": "2021-12-14T17:58:46.856Z"
   },
   {
    "duration": 10,
    "start_time": "2021-12-14T17:59:11.674Z"
   },
   {
    "duration": 20,
    "start_time": "2021-12-14T17:59:28.625Z"
   },
   {
    "duration": 720,
    "start_time": "2021-12-14T18:00:38.972Z"
   },
   {
    "duration": 247,
    "start_time": "2021-12-14T18:02:14.625Z"
   },
   {
    "duration": 341,
    "start_time": "2021-12-14T18:02:42.198Z"
   },
   {
    "duration": 313,
    "start_time": "2021-12-14T18:02:49.061Z"
   },
   {
    "duration": 433,
    "start_time": "2021-12-14T18:03:21.584Z"
   },
   {
    "duration": 316,
    "start_time": "2021-12-14T18:03:48.983Z"
   },
   {
    "duration": 369,
    "start_time": "2021-12-14T18:03:57.509Z"
   },
   {
    "duration": 312,
    "start_time": "2021-12-14T18:04:06.555Z"
   },
   {
    "duration": 447,
    "start_time": "2021-12-14T18:05:06.049Z"
   },
   {
    "duration": 8,
    "start_time": "2021-12-14T18:05:16.395Z"
   },
   {
    "duration": 280,
    "start_time": "2021-12-14T18:05:20.715Z"
   },
   {
    "duration": 288,
    "start_time": "2021-12-14T18:06:03.976Z"
   },
   {
    "duration": 86,
    "start_time": "2021-12-14T18:06:34.384Z"
   },
   {
    "duration": 347,
    "start_time": "2021-12-14T18:06:44.536Z"
   },
   {
    "duration": 307,
    "start_time": "2021-12-14T18:06:57.927Z"
   },
   {
    "duration": 7,
    "start_time": "2021-12-14T18:07:02.490Z"
   },
   {
    "duration": 29,
    "start_time": "2021-12-14T18:07:21.786Z"
   },
   {
    "duration": 30,
    "start_time": "2021-12-14T18:07:38.046Z"
   },
   {
    "duration": 303,
    "start_time": "2021-12-14T18:29:53.507Z"
   },
   {
    "duration": 35,
    "start_time": "2021-12-14T18:30:18.690Z"
   },
   {
    "duration": 8,
    "start_time": "2021-12-14T18:30:25.643Z"
   },
   {
    "duration": 9,
    "start_time": "2021-12-14T18:30:29.546Z"
   },
   {
    "duration": 313,
    "start_time": "2021-12-14T18:30:43.149Z"
   },
   {
    "duration": 365,
    "start_time": "2021-12-14T18:31:13.367Z"
   },
   {
    "duration": 29,
    "start_time": "2021-12-14T18:31:23.619Z"
   },
   {
    "duration": 401,
    "start_time": "2021-12-14T18:32:00.963Z"
   },
   {
    "duration": 388,
    "start_time": "2021-12-14T18:32:44.514Z"
   },
   {
    "duration": 5,
    "start_time": "2021-12-14T18:32:50.301Z"
   },
   {
    "duration": 497,
    "start_time": "2021-12-14T18:33:45.118Z"
   },
   {
    "duration": 6,
    "start_time": "2021-12-14T18:33:50.140Z"
   },
   {
    "duration": 386,
    "start_time": "2021-12-14T18:34:33.349Z"
   },
   {
    "duration": 5,
    "start_time": "2021-12-14T18:34:52.895Z"
   },
   {
    "duration": 328,
    "start_time": "2021-12-14T18:35:23.332Z"
   },
   {
    "duration": 296,
    "start_time": "2021-12-14T18:35:36.020Z"
   },
   {
    "duration": 315,
    "start_time": "2021-12-14T18:35:40.735Z"
   },
   {
    "duration": 338,
    "start_time": "2021-12-14T18:36:05.152Z"
   },
   {
    "duration": 348,
    "start_time": "2021-12-14T18:36:17.285Z"
   },
   {
    "duration": 9,
    "start_time": "2021-12-14T18:36:24.586Z"
   },
   {
    "duration": 319,
    "start_time": "2021-12-14T18:37:01.007Z"
   },
   {
    "duration": 334,
    "start_time": "2021-12-14T18:37:17.394Z"
   },
   {
    "duration": 341,
    "start_time": "2021-12-14T18:37:31.793Z"
   },
   {
    "duration": 368,
    "start_time": "2021-12-14T18:37:58.660Z"
   },
   {
    "duration": 11,
    "start_time": "2021-12-14T18:38:30.303Z"
   },
   {
    "duration": 10,
    "start_time": "2021-12-14T18:38:46.066Z"
   },
   {
    "duration": 15,
    "start_time": "2021-12-14T18:39:26.069Z"
   },
   {
    "duration": 10,
    "start_time": "2021-12-14T18:40:16.904Z"
   },
   {
    "duration": 11,
    "start_time": "2021-12-14T18:40:35.487Z"
   },
   {
    "duration": 11,
    "start_time": "2021-12-14T18:40:51.399Z"
   },
   {
    "duration": 10,
    "start_time": "2021-12-14T18:42:36.258Z"
   },
   {
    "duration": 10,
    "start_time": "2021-12-14T18:43:06.926Z"
   },
   {
    "duration": 11,
    "start_time": "2021-12-14T18:43:35.814Z"
   },
   {
    "duration": 12,
    "start_time": "2021-12-14T18:43:48.095Z"
   },
   {
    "duration": 13,
    "start_time": "2021-12-14T18:44:11.794Z"
   },
   {
    "duration": 11,
    "start_time": "2021-12-14T18:45:05.489Z"
   },
   {
    "duration": 12,
    "start_time": "2021-12-14T18:45:21.689Z"
   },
   {
    "duration": 8,
    "start_time": "2021-12-14T18:47:11.502Z"
   },
   {
    "duration": 2,
    "start_time": "2021-12-14T18:56:29.826Z"
   },
   {
    "duration": 7,
    "start_time": "2021-12-14T18:56:31.514Z"
   },
   {
    "duration": 4,
    "start_time": "2021-12-14T18:56:41.749Z"
   },
   {
    "duration": 10,
    "start_time": "2021-12-14T18:56:51.715Z"
   },
   {
    "duration": 5,
    "start_time": "2021-12-14T18:56:53.618Z"
   },
   {
    "duration": 3,
    "start_time": "2021-12-15T10:44:55.864Z"
   },
   {
    "duration": 648,
    "start_time": "2021-12-15T10:44:55.883Z"
   },
   {
    "duration": 80,
    "start_time": "2021-12-15T10:44:56.545Z"
   },
   {
    "duration": 500,
    "start_time": "2021-12-15T10:44:56.627Z"
   },
   {
    "duration": 38,
    "start_time": "2021-12-15T10:44:57.129Z"
   },
   {
    "duration": 10,
    "start_time": "2021-12-15T10:44:57.169Z"
   },
   {
    "duration": 36,
    "start_time": "2021-12-15T10:44:57.181Z"
   },
   {
    "duration": 8,
    "start_time": "2021-12-15T10:44:57.218Z"
   },
   {
    "duration": 43,
    "start_time": "2021-12-15T10:44:57.229Z"
   },
   {
    "duration": 10,
    "start_time": "2021-12-15T10:44:57.274Z"
   },
   {
    "duration": 38,
    "start_time": "2021-12-15T10:44:57.286Z"
   },
   {
    "duration": 16,
    "start_time": "2021-12-15T10:44:57.326Z"
   },
   {
    "duration": 25,
    "start_time": "2021-12-15T10:44:57.344Z"
   },
   {
    "duration": 21,
    "start_time": "2021-12-15T10:44:57.371Z"
   },
   {
    "duration": 32,
    "start_time": "2021-12-15T10:44:57.394Z"
   },
   {
    "duration": 12,
    "start_time": "2021-12-15T10:44:57.428Z"
   },
   {
    "duration": 29,
    "start_time": "2021-12-15T10:44:57.442Z"
   },
   {
    "duration": 36,
    "start_time": "2021-12-15T10:44:57.473Z"
   },
   {
    "duration": 22,
    "start_time": "2021-12-15T10:44:57.511Z"
   },
   {
    "duration": 25,
    "start_time": "2021-12-15T10:44:57.535Z"
   },
   {
    "duration": 27,
    "start_time": "2021-12-15T10:44:57.562Z"
   },
   {
    "duration": 19,
    "start_time": "2021-12-15T10:44:57.591Z"
   },
   {
    "duration": 27,
    "start_time": "2021-12-15T10:44:57.612Z"
   },
   {
    "duration": 13,
    "start_time": "2021-12-15T10:44:57.643Z"
   },
   {
    "duration": 34,
    "start_time": "2021-12-15T10:44:57.659Z"
   },
   {
    "duration": 4,
    "start_time": "2021-12-15T10:44:57.695Z"
   },
   {
    "duration": 27,
    "start_time": "2021-12-15T10:44:57.700Z"
   },
   {
    "duration": 24,
    "start_time": "2021-12-15T10:44:57.729Z"
   },
   {
    "duration": 33,
    "start_time": "2021-12-15T10:44:57.755Z"
   },
   {
    "duration": 17,
    "start_time": "2021-12-15T10:44:57.790Z"
   },
   {
    "duration": 21,
    "start_time": "2021-12-15T10:44:57.809Z"
   },
   {
    "duration": 12,
    "start_time": "2021-12-15T10:44:57.832Z"
   },
   {
    "duration": 22,
    "start_time": "2021-12-15T10:44:57.846Z"
   },
   {
    "duration": 28,
    "start_time": "2021-12-15T10:44:57.870Z"
   },
   {
    "duration": 17,
    "start_time": "2021-12-15T10:44:57.900Z"
   },
   {
    "duration": 25,
    "start_time": "2021-12-15T10:44:57.919Z"
   },
   {
    "duration": 18,
    "start_time": "2021-12-15T10:44:57.946Z"
   },
   {
    "duration": 35,
    "start_time": "2021-12-15T10:44:57.966Z"
   },
   {
    "duration": 23,
    "start_time": "2021-12-15T10:44:58.003Z"
   },
   {
    "duration": 28,
    "start_time": "2021-12-15T10:44:58.028Z"
   },
   {
    "duration": 318,
    "start_time": "2021-12-15T10:44:58.058Z"
   },
   {
    "duration": 983,
    "start_time": "2021-12-15T10:44:58.378Z"
   },
   {
    "duration": 10,
    "start_time": "2021-12-15T10:44:59.363Z"
   },
   {
    "duration": 271,
    "start_time": "2021-12-15T10:44:59.375Z"
   },
   {
    "duration": 264,
    "start_time": "2021-12-15T10:44:59.649Z"
   },
   {
    "duration": 12,
    "start_time": "2021-12-15T10:44:59.916Z"
   },
   {
    "duration": 40,
    "start_time": "2021-12-15T10:44:59.930Z"
   },
   {
    "duration": 78,
    "start_time": "2021-12-15T10:44:59.972Z"
   },
   {
    "duration": 79,
    "start_time": "2021-12-15T10:45:00.052Z"
   },
   {
    "duration": 70,
    "start_time": "2021-12-15T10:45:00.133Z"
   },
   {
    "duration": 35,
    "start_time": "2021-12-15T10:45:00.205Z"
   },
   {
    "duration": 108,
    "start_time": "2021-12-15T10:45:00.242Z"
   },
   {
    "duration": 88,
    "start_time": "2021-12-15T10:45:00.352Z"
   },
   {
    "duration": 85,
    "start_time": "2021-12-15T10:45:00.442Z"
   },
   {
    "duration": 530,
    "start_time": "2021-12-15T10:45:00.529Z"
   },
   {
    "duration": 721,
    "start_time": "2021-12-15T10:45:01.060Z"
   },
   {
    "duration": 7,
    "start_time": "2021-12-15T10:45:01.783Z"
   },
   {
    "duration": 23,
    "start_time": "2021-12-15T10:45:01.792Z"
   },
   {
    "duration": 35,
    "start_time": "2021-12-15T10:45:01.818Z"
   },
   {
    "duration": 25,
    "start_time": "2021-12-15T10:45:01.855Z"
   },
   {
    "duration": 15,
    "start_time": "2021-12-15T10:45:01.882Z"
   },
   {
    "duration": 68,
    "start_time": "2021-12-15T10:45:01.898Z"
   },
   {
    "duration": 12,
    "start_time": "2021-12-15T10:45:01.968Z"
   },
   {
    "duration": 737,
    "start_time": "2021-12-15T10:45:01.981Z"
   },
   {
    "duration": 528,
    "start_time": "2021-12-15T10:45:02.720Z"
   },
   {
    "duration": 376,
    "start_time": "2021-12-15T10:45:03.249Z"
   },
   {
    "duration": 19,
    "start_time": "2021-12-15T10:45:03.626Z"
   },
   {
    "duration": 344,
    "start_time": "2021-12-15T10:45:03.647Z"
   },
   {
    "duration": 36,
    "start_time": "2021-12-15T10:45:03.998Z"
   },
   {
    "duration": 344,
    "start_time": "2021-12-15T10:45:04.046Z"
   },
   {
    "duration": 9,
    "start_time": "2021-12-15T10:45:04.392Z"
   },
   {
    "duration": 373,
    "start_time": "2021-12-15T10:45:04.403Z"
   },
   {
    "duration": 34,
    "start_time": "2021-12-15T10:45:04.778Z"
   },
   {
    "duration": 519,
    "start_time": "2021-12-15T10:45:04.813Z"
   },
   {
    "duration": 6,
    "start_time": "2021-12-15T10:45:05.333Z"
   },
   {
    "duration": 385,
    "start_time": "2021-12-15T10:45:05.340Z"
   },
   {
    "duration": 7,
    "start_time": "2021-12-15T10:45:05.726Z"
   },
   {
    "duration": 401,
    "start_time": "2021-12-15T10:45:05.735Z"
   },
   {
    "duration": 7,
    "start_time": "2021-12-15T10:45:06.138Z"
   },
   {
    "duration": 368,
    "start_time": "2021-12-15T10:45:06.147Z"
   },
   {
    "duration": 7,
    "start_time": "2021-12-15T10:45:06.517Z"
   },
   {
    "duration": 32,
    "start_time": "2021-12-15T10:45:06.526Z"
   },
   {
    "duration": 12,
    "start_time": "2021-12-15T10:45:06.560Z"
   },
   {
    "duration": 26,
    "start_time": "2021-12-15T10:45:06.573Z"
   },
   {
    "duration": 31,
    "start_time": "2021-12-15T10:45:06.600Z"
   },
   {
    "duration": 19,
    "start_time": "2021-12-15T10:45:06.632Z"
   },
   {
    "duration": 31,
    "start_time": "2021-12-15T10:45:06.652Z"
   },
   {
    "duration": 23,
    "start_time": "2021-12-15T10:45:06.685Z"
   },
   {
    "duration": 11,
    "start_time": "2021-12-15T10:45:06.709Z"
   },
   {
    "duration": 13,
    "start_time": "2021-12-15T10:45:06.722Z"
   },
   {
    "duration": 33,
    "start_time": "2021-12-15T10:45:06.737Z"
   },
   {
    "duration": 20,
    "start_time": "2021-12-15T10:45:06.772Z"
   },
   {
    "duration": 16,
    "start_time": "2021-12-15T10:45:06.794Z"
   },
   {
    "duration": 11,
    "start_time": "2021-12-15T10:45:06.812Z"
   },
   {
    "duration": 24,
    "start_time": "2021-12-15T10:45:06.825Z"
   },
   {
    "duration": 24,
    "start_time": "2021-12-15T10:45:06.851Z"
   },
   {
    "duration": 32,
    "start_time": "2021-12-15T10:45:06.877Z"
   },
   {
    "duration": 23,
    "start_time": "2021-12-15T10:45:06.911Z"
   },
   {
    "duration": 3,
    "start_time": "2021-12-15T11:53:10.898Z"
   },
   {
    "duration": 631,
    "start_time": "2021-12-15T11:53:10.919Z"
   },
   {
    "duration": 73,
    "start_time": "2021-12-15T11:53:11.551Z"
   },
   {
    "duration": 469,
    "start_time": "2021-12-15T11:53:11.626Z"
   },
   {
    "duration": 36,
    "start_time": "2021-12-15T11:53:12.098Z"
   },
   {
    "duration": 10,
    "start_time": "2021-12-15T11:53:12.136Z"
   },
   {
    "duration": 37,
    "start_time": "2021-12-15T11:53:12.148Z"
   },
   {
    "duration": 13,
    "start_time": "2021-12-15T11:53:12.186Z"
   },
   {
    "duration": 49,
    "start_time": "2021-12-15T11:53:12.202Z"
   },
   {
    "duration": 24,
    "start_time": "2021-12-15T11:53:12.254Z"
   },
   {
    "duration": 38,
    "start_time": "2021-12-15T11:53:12.280Z"
   },
   {
    "duration": 38,
    "start_time": "2021-12-15T11:53:12.320Z"
   },
   {
    "duration": 31,
    "start_time": "2021-12-15T11:53:12.359Z"
   },
   {
    "duration": 33,
    "start_time": "2021-12-15T11:53:12.392Z"
   },
   {
    "duration": 42,
    "start_time": "2021-12-15T11:53:12.427Z"
   },
   {
    "duration": 15,
    "start_time": "2021-12-15T11:53:12.471Z"
   },
   {
    "duration": 32,
    "start_time": "2021-12-15T11:53:12.488Z"
   },
   {
    "duration": 31,
    "start_time": "2021-12-15T11:53:12.522Z"
   },
   {
    "duration": 23,
    "start_time": "2021-12-15T11:53:12.555Z"
   },
   {
    "duration": 36,
    "start_time": "2021-12-15T11:53:12.580Z"
   },
   {
    "duration": 22,
    "start_time": "2021-12-15T11:53:12.617Z"
   },
   {
    "duration": 28,
    "start_time": "2021-12-15T11:53:12.641Z"
   },
   {
    "duration": 30,
    "start_time": "2021-12-15T11:53:12.671Z"
   },
   {
    "duration": 35,
    "start_time": "2021-12-15T11:53:12.704Z"
   },
   {
    "duration": 34,
    "start_time": "2021-12-15T11:53:12.742Z"
   },
   {
    "duration": 32,
    "start_time": "2021-12-15T11:53:12.778Z"
   },
   {
    "duration": 34,
    "start_time": "2021-12-15T11:53:12.812Z"
   },
   {
    "duration": 31,
    "start_time": "2021-12-15T11:53:12.848Z"
   },
   {
    "duration": 40,
    "start_time": "2021-12-15T11:53:12.880Z"
   },
   {
    "duration": 34,
    "start_time": "2021-12-15T11:53:12.922Z"
   },
   {
    "duration": 40,
    "start_time": "2021-12-15T11:53:12.958Z"
   },
   {
    "duration": 34,
    "start_time": "2021-12-15T11:53:13.000Z"
   },
   {
    "duration": 38,
    "start_time": "2021-12-15T11:53:13.036Z"
   },
   {
    "duration": 35,
    "start_time": "2021-12-15T11:53:13.076Z"
   },
   {
    "duration": 37,
    "start_time": "2021-12-15T11:53:13.113Z"
   },
   {
    "duration": 25,
    "start_time": "2021-12-15T11:53:13.151Z"
   },
   {
    "duration": 39,
    "start_time": "2021-12-15T11:53:13.177Z"
   },
   {
    "duration": 31,
    "start_time": "2021-12-15T11:53:13.218Z"
   },
   {
    "duration": 35,
    "start_time": "2021-12-15T11:53:13.251Z"
   },
   {
    "duration": 38,
    "start_time": "2021-12-15T11:53:13.288Z"
   },
   {
    "duration": 284,
    "start_time": "2021-12-15T11:53:13.328Z"
   },
   {
    "duration": 963,
    "start_time": "2021-12-15T11:53:13.614Z"
   },
   {
    "duration": 8,
    "start_time": "2021-12-15T11:53:14.579Z"
   },
   {
    "duration": 262,
    "start_time": "2021-12-15T11:53:14.589Z"
   },
   {
    "duration": 248,
    "start_time": "2021-12-15T11:53:14.852Z"
   },
   {
    "duration": 10,
    "start_time": "2021-12-15T11:53:15.102Z"
   },
   {
    "duration": 25,
    "start_time": "2021-12-15T11:53:15.113Z"
   },
   {
    "duration": 10,
    "start_time": "2021-12-15T11:53:15.140Z"
   },
   {
    "duration": 26,
    "start_time": "2021-12-15T11:53:15.151Z"
   },
   {
    "duration": 18,
    "start_time": "2021-12-15T11:53:15.179Z"
   },
   {
    "duration": 28,
    "start_time": "2021-12-15T11:53:15.198Z"
   },
   {
    "duration": 11,
    "start_time": "2021-12-15T11:53:15.228Z"
   },
   {
    "duration": 23,
    "start_time": "2021-12-15T11:53:15.241Z"
   },
   {
    "duration": 20,
    "start_time": "2021-12-15T11:53:15.266Z"
   },
   {
    "duration": 387,
    "start_time": "2021-12-15T11:53:15.288Z"
   },
   {
    "duration": 709,
    "start_time": "2021-12-15T11:53:15.677Z"
   },
   {
    "duration": 8,
    "start_time": "2021-12-15T11:53:16.388Z"
   },
   {
    "duration": 7,
    "start_time": "2021-12-15T11:53:16.398Z"
   },
   {
    "duration": 6,
    "start_time": "2021-12-15T11:53:16.406Z"
   },
   {
    "duration": 32,
    "start_time": "2021-12-15T11:53:16.414Z"
   },
   {
    "duration": 3,
    "start_time": "2021-12-15T11:53:16.447Z"
   },
   {
    "duration": 71,
    "start_time": "2021-12-15T11:53:16.452Z"
   },
   {
    "duration": 28,
    "start_time": "2021-12-15T11:53:16.524Z"
   },
   {
    "duration": 693,
    "start_time": "2021-12-15T11:53:16.554Z"
   },
   {
    "duration": 504,
    "start_time": "2021-12-15T11:53:17.249Z"
   },
   {
    "duration": 338,
    "start_time": "2021-12-15T11:53:17.755Z"
   },
   {
    "duration": 8,
    "start_time": "2021-12-15T11:53:18.095Z"
   },
   {
    "duration": 372,
    "start_time": "2021-12-15T11:53:18.104Z"
   },
   {
    "duration": 31,
    "start_time": "2021-12-15T11:53:18.480Z"
   },
   {
    "duration": 375,
    "start_time": "2021-12-15T11:53:18.514Z"
   },
   {
    "duration": 8,
    "start_time": "2021-12-15T11:53:18.891Z"
   },
   {
    "duration": 384,
    "start_time": "2021-12-15T11:53:18.900Z"
   },
   {
    "duration": 32,
    "start_time": "2021-12-15T11:53:19.286Z"
   },
   {
    "duration": 520,
    "start_time": "2021-12-15T11:53:19.319Z"
   },
   {
    "duration": 4,
    "start_time": "2021-12-15T11:53:19.844Z"
   },
   {
    "duration": 363,
    "start_time": "2021-12-15T11:53:19.850Z"
   },
   {
    "duration": 6,
    "start_time": "2021-12-15T11:53:20.215Z"
   },
   {
    "duration": 411,
    "start_time": "2021-12-15T11:53:20.223Z"
   },
   {
    "duration": 10,
    "start_time": "2021-12-15T11:53:20.636Z"
   },
   {
    "duration": 354,
    "start_time": "2021-12-15T11:53:20.647Z"
   },
   {
    "duration": 7,
    "start_time": "2021-12-15T11:53:21.002Z"
   },
   {
    "duration": 12,
    "start_time": "2021-12-15T11:53:21.010Z"
   },
   {
    "duration": 26,
    "start_time": "2021-12-15T11:53:21.024Z"
   },
   {
    "duration": 9,
    "start_time": "2021-12-15T11:53:21.051Z"
   },
   {
    "duration": 9,
    "start_time": "2021-12-15T11:53:21.062Z"
   },
   {
    "duration": 10,
    "start_time": "2021-12-15T11:53:21.072Z"
   },
   {
    "duration": 9,
    "start_time": "2021-12-15T11:53:21.084Z"
   },
   {
    "duration": 9,
    "start_time": "2021-12-15T11:53:21.095Z"
   },
   {
    "duration": 47,
    "start_time": "2021-12-15T11:53:21.106Z"
   },
   {
    "duration": 12,
    "start_time": "2021-12-15T11:53:21.155Z"
   },
   {
    "duration": 8,
    "start_time": "2021-12-15T11:53:21.168Z"
   },
   {
    "duration": 8,
    "start_time": "2021-12-15T11:53:21.178Z"
   },
   {
    "duration": 9,
    "start_time": "2021-12-15T11:53:21.188Z"
   },
   {
    "duration": 4,
    "start_time": "2021-12-15T11:53:21.199Z"
   },
   {
    "duration": 43,
    "start_time": "2021-12-15T11:53:21.205Z"
   },
   {
    "duration": 4,
    "start_time": "2021-12-15T11:53:21.250Z"
   },
   {
    "duration": 11,
    "start_time": "2021-12-15T11:53:21.256Z"
   },
   {
    "duration": 5,
    "start_time": "2021-12-15T11:53:21.268Z"
   },
   {
    "duration": 508,
    "start_time": "2021-12-15T12:42:38.093Z"
   },
   {
    "duration": 377,
    "start_time": "2021-12-15T12:42:49.594Z"
   },
   {
    "duration": 468,
    "start_time": "2021-12-15T12:43:37.262Z"
   },
   {
    "duration": 3,
    "start_time": "2021-12-15T13:04:14.590Z"
   },
   {
    "duration": 615,
    "start_time": "2021-12-15T13:04:15.038Z"
   },
   {
    "duration": 89,
    "start_time": "2021-12-15T13:04:15.655Z"
   },
   {
    "duration": 468,
    "start_time": "2021-12-15T13:04:15.746Z"
   },
   {
    "duration": 40,
    "start_time": "2021-12-15T13:04:16.216Z"
   },
   {
    "duration": 10,
    "start_time": "2021-12-15T13:04:16.258Z"
   },
   {
    "duration": 18,
    "start_time": "2021-12-15T13:04:16.270Z"
   },
   {
    "duration": 3,
    "start_time": "2021-12-15T13:04:16.289Z"
   },
   {
    "duration": 19,
    "start_time": "2021-12-15T13:04:16.295Z"
   },
   {
    "duration": 34,
    "start_time": "2021-12-15T13:04:16.316Z"
   },
   {
    "duration": 13,
    "start_time": "2021-12-15T13:04:16.352Z"
   },
   {
    "duration": 11,
    "start_time": "2021-12-15T13:04:16.367Z"
   },
   {
    "duration": 10,
    "start_time": "2021-12-15T13:04:16.379Z"
   },
   {
    "duration": 7,
    "start_time": "2021-12-15T13:04:16.390Z"
   },
   {
    "duration": 47,
    "start_time": "2021-12-15T13:04:16.399Z"
   },
   {
    "duration": 4,
    "start_time": "2021-12-15T13:04:16.448Z"
   },
   {
    "duration": 12,
    "start_time": "2021-12-15T13:04:16.454Z"
   },
   {
    "duration": 8,
    "start_time": "2021-12-15T13:04:16.467Z"
   },
   {
    "duration": 8,
    "start_time": "2021-12-15T13:04:16.476Z"
   },
   {
    "duration": 6,
    "start_time": "2021-12-15T13:04:16.485Z"
   },
   {
    "duration": 6,
    "start_time": "2021-12-15T13:04:16.493Z"
   },
   {
    "duration": 47,
    "start_time": "2021-12-15T13:04:16.501Z"
   },
   {
    "duration": 7,
    "start_time": "2021-12-15T13:04:16.550Z"
   },
   {
    "duration": 6,
    "start_time": "2021-12-15T13:04:16.560Z"
   },
   {
    "duration": 8,
    "start_time": "2021-12-15T13:04:16.568Z"
   },
   {
    "duration": 3,
    "start_time": "2021-12-15T13:04:16.577Z"
   },
   {
    "duration": 9,
    "start_time": "2021-12-15T13:04:16.582Z"
   },
   {
    "duration": 10,
    "start_time": "2021-12-15T13:04:16.592Z"
   },
   {
    "duration": 41,
    "start_time": "2021-12-15T13:04:16.604Z"
   },
   {
    "duration": 7,
    "start_time": "2021-12-15T13:04:16.647Z"
   },
   {
    "duration": 30,
    "start_time": "2021-12-15T13:04:16.656Z"
   },
   {
    "duration": 3,
    "start_time": "2021-12-15T13:04:16.687Z"
   },
   {
    "duration": 9,
    "start_time": "2021-12-15T13:04:16.692Z"
   },
   {
    "duration": 8,
    "start_time": "2021-12-15T13:04:16.702Z"
   },
   {
    "duration": 8,
    "start_time": "2021-12-15T13:04:16.711Z"
   },
   {
    "duration": 8,
    "start_time": "2021-12-15T13:04:16.720Z"
   },
   {
    "duration": 20,
    "start_time": "2021-12-15T13:04:16.729Z"
   },
   {
    "duration": 7,
    "start_time": "2021-12-15T13:04:16.751Z"
   },
   {
    "duration": 10,
    "start_time": "2021-12-15T13:04:16.760Z"
   },
   {
    "duration": 9,
    "start_time": "2021-12-15T13:04:16.771Z"
   },
   {
    "duration": 313,
    "start_time": "2021-12-15T13:04:16.782Z"
   },
   {
    "duration": 1012,
    "start_time": "2021-12-15T13:04:17.097Z"
   },
   {
    "duration": 7,
    "start_time": "2021-12-15T13:04:18.111Z"
   },
   {
    "duration": 275,
    "start_time": "2021-12-15T13:04:18.120Z"
   },
   {
    "duration": 268,
    "start_time": "2021-12-15T13:04:18.396Z"
   },
   {
    "duration": 10,
    "start_time": "2021-12-15T13:04:18.666Z"
   },
   {
    "duration": 11,
    "start_time": "2021-12-15T13:04:18.678Z"
   },
   {
    "duration": 7,
    "start_time": "2021-12-15T13:04:18.691Z"
   },
   {
    "duration": 20,
    "start_time": "2021-12-15T13:04:18.699Z"
   },
   {
    "duration": 24,
    "start_time": "2021-12-15T13:04:18.721Z"
   },
   {
    "duration": 11,
    "start_time": "2021-12-15T13:04:18.747Z"
   },
   {
    "duration": 476,
    "start_time": "2021-12-15T13:04:18.762Z"
   },
   {
    "duration": 5,
    "start_time": "2021-12-15T13:04:19.245Z"
   },
   {
    "duration": 25,
    "start_time": "2021-12-15T13:04:19.252Z"
   },
   {
    "duration": 14,
    "start_time": "2021-12-15T13:04:19.279Z"
   },
   {
    "duration": 399,
    "start_time": "2021-12-15T13:04:19.294Z"
   },
   {
    "duration": 727,
    "start_time": "2021-12-15T13:04:19.695Z"
   },
   {
    "duration": 7,
    "start_time": "2021-12-15T13:04:20.423Z"
   },
   {
    "duration": 17,
    "start_time": "2021-12-15T13:04:20.432Z"
   },
   {
    "duration": 25,
    "start_time": "2021-12-15T13:04:20.451Z"
   },
   {
    "duration": 25,
    "start_time": "2021-12-15T13:04:20.478Z"
   },
   {
    "duration": 6,
    "start_time": "2021-12-15T13:04:20.505Z"
   },
   {
    "duration": 72,
    "start_time": "2021-12-15T13:04:20.513Z"
   },
   {
    "duration": 11,
    "start_time": "2021-12-15T13:04:20.587Z"
   },
   {
    "duration": 746,
    "start_time": "2021-12-15T13:04:20.599Z"
   },
   {
    "duration": 525,
    "start_time": "2021-12-15T13:04:21.347Z"
   },
   {
    "duration": 345,
    "start_time": "2021-12-15T13:04:21.874Z"
   },
   {
    "duration": 9,
    "start_time": "2021-12-15T13:04:22.221Z"
   },
   {
    "duration": 374,
    "start_time": "2021-12-15T13:04:22.231Z"
   },
   {
    "duration": 42,
    "start_time": "2021-12-15T13:04:22.607Z"
   },
   {
    "duration": 352,
    "start_time": "2021-12-15T13:04:22.651Z"
   },
   {
    "duration": 8,
    "start_time": "2021-12-15T13:04:23.005Z"
   },
   {
    "duration": 482,
    "start_time": "2021-12-15T13:04:23.014Z"
   },
   {
    "duration": 31,
    "start_time": "2021-12-15T13:04:23.498Z"
   },
   {
    "duration": 417,
    "start_time": "2021-12-15T13:04:23.531Z"
   },
   {
    "duration": 4,
    "start_time": "2021-12-15T13:04:23.950Z"
   },
   {
    "duration": 369,
    "start_time": "2021-12-15T13:04:23.956Z"
   },
   {
    "duration": 7,
    "start_time": "2021-12-15T13:04:24.327Z"
   },
   {
    "duration": 402,
    "start_time": "2021-12-15T13:04:24.344Z"
   },
   {
    "duration": 4,
    "start_time": "2021-12-15T13:04:24.748Z"
   },
   {
    "duration": 365,
    "start_time": "2021-12-15T13:04:24.754Z"
   },
   {
    "duration": 6,
    "start_time": "2021-12-15T13:04:25.121Z"
   },
   {
    "duration": 22,
    "start_time": "2021-12-15T13:04:25.129Z"
   },
   {
    "duration": 10,
    "start_time": "2021-12-15T13:04:25.153Z"
   },
   {
    "duration": 11,
    "start_time": "2021-12-15T13:04:25.165Z"
   },
   {
    "duration": 10,
    "start_time": "2021-12-15T13:04:25.177Z"
   },
   {
    "duration": 12,
    "start_time": "2021-12-15T13:04:25.188Z"
   },
   {
    "duration": 41,
    "start_time": "2021-12-15T13:04:25.202Z"
   },
   {
    "duration": 11,
    "start_time": "2021-12-15T13:04:25.245Z"
   },
   {
    "duration": 9,
    "start_time": "2021-12-15T13:04:25.258Z"
   },
   {
    "duration": 12,
    "start_time": "2021-12-15T13:04:25.269Z"
   },
   {
    "duration": 18,
    "start_time": "2021-12-15T13:04:25.282Z"
   },
   {
    "duration": 14,
    "start_time": "2021-12-15T13:04:25.301Z"
   },
   {
    "duration": 33,
    "start_time": "2021-12-15T13:04:25.317Z"
   },
   {
    "duration": 3,
    "start_time": "2021-12-15T13:04:25.352Z"
   },
   {
    "duration": 21,
    "start_time": "2021-12-15T13:04:25.356Z"
   },
   {
    "duration": 5,
    "start_time": "2021-12-15T13:04:25.379Z"
   },
   {
    "duration": 23,
    "start_time": "2021-12-15T13:04:25.386Z"
   },
   {
    "duration": 9,
    "start_time": "2021-12-15T13:04:25.411Z"
   },
   {
    "duration": 329,
    "start_time": "2021-12-15T13:32:43.349Z"
   },
   {
    "duration": 3,
    "start_time": "2021-12-15T13:32:54.437Z"
   },
   {
    "duration": 835,
    "start_time": "2021-12-15T13:32:54.447Z"
   },
   {
    "duration": 134,
    "start_time": "2021-12-15T13:32:55.285Z"
   },
   {
    "duration": 653,
    "start_time": "2021-12-15T13:32:55.422Z"
   },
   {
    "duration": 51,
    "start_time": "2021-12-15T13:32:56.078Z"
   },
   {
    "duration": 14,
    "start_time": "2021-12-15T13:32:56.132Z"
   },
   {
    "duration": 45,
    "start_time": "2021-12-15T13:32:56.149Z"
   },
   {
    "duration": 5,
    "start_time": "2021-12-15T13:32:56.197Z"
   },
   {
    "duration": 29,
    "start_time": "2021-12-15T13:32:56.208Z"
   },
   {
    "duration": 41,
    "start_time": "2021-12-15T13:32:56.241Z"
   },
   {
    "duration": 28,
    "start_time": "2021-12-15T13:32:56.284Z"
   },
   {
    "duration": 13,
    "start_time": "2021-12-15T13:32:56.314Z"
   },
   {
    "duration": 49,
    "start_time": "2021-12-15T13:32:56.330Z"
   },
   {
    "duration": 10,
    "start_time": "2021-12-15T13:32:56.381Z"
   },
   {
    "duration": 33,
    "start_time": "2021-12-15T13:32:56.393Z"
   },
   {
    "duration": 5,
    "start_time": "2021-12-15T13:32:56.428Z"
   },
   {
    "duration": 42,
    "start_time": "2021-12-15T13:32:56.435Z"
   },
   {
    "duration": 14,
    "start_time": "2021-12-15T13:32:56.479Z"
   },
   {
    "duration": 18,
    "start_time": "2021-12-15T13:32:56.495Z"
   },
   {
    "duration": 9,
    "start_time": "2021-12-15T13:32:56.516Z"
   },
   {
    "duration": 44,
    "start_time": "2021-12-15T13:32:56.528Z"
   },
   {
    "duration": 11,
    "start_time": "2021-12-15T13:32:56.575Z"
   },
   {
    "duration": 10,
    "start_time": "2021-12-15T13:32:56.589Z"
   },
   {
    "duration": 9,
    "start_time": "2021-12-15T13:32:56.603Z"
   },
   {
    "duration": 12,
    "start_time": "2021-12-15T13:32:56.615Z"
   },
   {
    "duration": 5,
    "start_time": "2021-12-15T13:33:01.003Z"
   },
   {
    "duration": 17,
    "start_time": "2021-12-15T13:33:04.218Z"
   },
   {
    "duration": 7,
    "start_time": "2021-12-15T13:34:11.637Z"
   },
   {
    "duration": 9,
    "start_time": "2021-12-15T13:34:21.404Z"
   },
   {
    "duration": 6,
    "start_time": "2021-12-15T13:34:23.840Z"
   },
   {
    "duration": 12,
    "start_time": "2021-12-15T13:34:28.097Z"
   },
   {
    "duration": 720,
    "start_time": "2021-12-15T13:36:06.262Z"
   },
   {
    "duration": 7,
    "start_time": "2021-12-15T13:36:20.991Z"
   },
   {
    "duration": 20,
    "start_time": "2021-12-15T13:36:22.943Z"
   },
   {
    "duration": 10,
    "start_time": "2021-12-15T13:36:25.454Z"
   },
   {
    "duration": 1399,
    "start_time": "2021-12-15T13:36:27.638Z"
   },
   {
    "duration": 16,
    "start_time": "2021-12-15T13:37:16.072Z"
   },
   {
    "duration": 10,
    "start_time": "2021-12-15T13:37:17.884Z"
   },
   {
    "duration": 7,
    "start_time": "2021-12-15T13:37:20.100Z"
   },
   {
    "duration": 18,
    "start_time": "2021-12-15T13:37:20.756Z"
   },
   {
    "duration": 13,
    "start_time": "2021-12-15T13:37:23.046Z"
   },
   {
    "duration": 16,
    "start_time": "2021-12-15T13:37:25.311Z"
   },
   {
    "duration": 761,
    "start_time": "2021-12-15T13:37:30.201Z"
   },
   {
    "duration": 7,
    "start_time": "2021-12-15T13:37:42.932Z"
   },
   {
    "duration": 22,
    "start_time": "2021-12-15T13:37:43.749Z"
   },
   {
    "duration": 11,
    "start_time": "2021-12-15T13:37:46.236Z"
   },
   {
    "duration": 548,
    "start_time": "2021-12-15T13:37:46.811Z"
   },
   {
    "duration": 997,
    "start_time": "2021-12-15T13:38:00.195Z"
   },
   {
    "duration": 1550,
    "start_time": "2021-12-15T13:38:09.069Z"
   },
   {
    "duration": 781,
    "start_time": "2021-12-15T13:38:20.206Z"
   },
   {
    "duration": 736,
    "start_time": "2021-12-15T13:38:26.202Z"
   },
   {
    "duration": 10,
    "start_time": "2021-12-15T13:38:49.282Z"
   },
   {
    "duration": 9,
    "start_time": "2021-12-15T13:38:51.496Z"
   },
   {
    "duration": 7,
    "start_time": "2021-12-15T13:38:51.961Z"
   },
   {
    "duration": 13,
    "start_time": "2021-12-15T13:38:52.452Z"
   },
   {
    "duration": 5,
    "start_time": "2021-12-15T13:38:57.296Z"
   },
   {
    "duration": 50,
    "start_time": "2021-12-15T13:38:57.857Z"
   },
   {
    "duration": 16,
    "start_time": "2021-12-15T13:38:58.547Z"
   },
   {
    "duration": 12,
    "start_time": "2021-12-15T13:39:11.836Z"
   },
   {
    "duration": 753,
    "start_time": "2021-12-15T13:39:14.403Z"
   },
   {
    "duration": 742,
    "start_time": "2021-12-15T13:39:19.897Z"
   },
   {
    "duration": 864,
    "start_time": "2021-12-15T13:40:22.669Z"
   },
   {
    "duration": 4,
    "start_time": "2021-12-15T16:21:13.625Z"
   },
   {
    "duration": 15,
    "start_time": "2021-12-15T16:21:13.638Z"
   },
   {
    "duration": 15,
    "start_time": "2021-12-15T16:21:13.655Z"
   },
   {
    "duration": 18,
    "start_time": "2021-12-15T16:21:13.673Z"
   },
   {
    "duration": 54,
    "start_time": "2021-12-15T16:21:13.693Z"
   },
   {
    "duration": 23,
    "start_time": "2021-12-15T16:21:13.749Z"
   },
   {
    "duration": 25,
    "start_time": "2021-12-15T16:21:13.774Z"
   },
   {
    "duration": 27,
    "start_time": "2021-12-15T16:21:13.801Z"
   },
   {
    "duration": 57,
    "start_time": "2021-12-15T16:21:13.831Z"
   },
   {
    "duration": 13,
    "start_time": "2021-12-15T16:21:13.890Z"
   },
   {
    "duration": 43,
    "start_time": "2021-12-15T16:21:13.905Z"
   },
   {
    "duration": 29,
    "start_time": "2021-12-15T16:21:13.950Z"
   },
   {
    "duration": 17,
    "start_time": "2021-12-15T16:21:13.982Z"
   },
   {
    "duration": 26,
    "start_time": "2021-12-15T16:21:14.001Z"
   },
   {
    "duration": 63,
    "start_time": "2021-12-15T16:21:14.029Z"
   },
   {
    "duration": 25,
    "start_time": "2021-12-15T16:21:14.094Z"
   },
   {
    "duration": 31,
    "start_time": "2021-12-15T16:21:14.121Z"
   },
   {
    "duration": 21,
    "start_time": "2021-12-15T16:21:14.154Z"
   },
   {
    "duration": 19,
    "start_time": "2021-12-15T16:21:14.178Z"
   },
   {
    "duration": 26,
    "start_time": "2021-12-15T16:21:14.199Z"
   },
   {
    "duration": 28,
    "start_time": "2021-12-15T16:21:14.227Z"
   },
   {
    "duration": 17,
    "start_time": "2021-12-15T16:21:14.258Z"
   },
   {
    "duration": 28,
    "start_time": "2021-12-15T16:21:14.280Z"
   },
   {
    "duration": 17,
    "start_time": "2021-12-15T16:21:14.311Z"
   },
   {
    "duration": 22,
    "start_time": "2021-12-15T16:21:14.330Z"
   },
   {
    "duration": 18,
    "start_time": "2021-12-15T16:21:14.354Z"
   },
   {
    "duration": 42,
    "start_time": "2021-12-15T16:21:14.374Z"
   },
   {
    "duration": 29,
    "start_time": "2021-12-15T16:21:14.418Z"
   },
   {
    "duration": 41,
    "start_time": "2021-12-15T16:21:14.450Z"
   },
   {
    "duration": 24,
    "start_time": "2021-12-15T16:21:14.494Z"
   },
   {
    "duration": 28,
    "start_time": "2021-12-15T16:21:14.521Z"
   },
   {
    "duration": 33,
    "start_time": "2021-12-15T16:21:14.552Z"
   },
   {
    "duration": 38,
    "start_time": "2021-12-15T16:21:14.587Z"
   },
   {
    "duration": 7,
    "start_time": "2021-12-15T16:21:18.029Z"
   },
   {
    "duration": 11,
    "start_time": "2021-12-15T16:21:18.537Z"
   },
   {
    "duration": 12,
    "start_time": "2021-12-15T16:22:34.705Z"
   },
   {
    "duration": 20,
    "start_time": "2021-12-15T16:22:49.183Z"
   },
   {
    "duration": 8,
    "start_time": "2021-12-15T16:23:23.277Z"
   },
   {
    "duration": 20,
    "start_time": "2021-12-15T16:23:24.020Z"
   },
   {
    "duration": 12,
    "start_time": "2021-12-15T16:23:26.492Z"
   },
   {
    "duration": 597,
    "start_time": "2021-12-15T16:23:29.964Z"
   },
   {
    "duration": 834,
    "start_time": "2021-12-15T16:23:36.642Z"
   },
   {
    "duration": 7,
    "start_time": "2021-12-15T16:24:39.636Z"
   },
   {
    "duration": 21,
    "start_time": "2021-12-15T16:24:40.210Z"
   },
   {
    "duration": 17,
    "start_time": "2021-12-15T16:24:43.602Z"
   },
   {
    "duration": 694,
    "start_time": "2021-12-15T16:24:51.841Z"
   },
   {
    "duration": 1036,
    "start_time": "2021-12-15T16:25:02.053Z"
   },
   {
    "duration": 13,
    "start_time": "2021-12-15T16:25:16.295Z"
   },
   {
    "duration": 9,
    "start_time": "2021-12-15T16:25:20.267Z"
   },
   {
    "duration": 11,
    "start_time": "2021-12-15T16:25:20.779Z"
   },
   {
    "duration": 24,
    "start_time": "2021-12-15T16:25:21.417Z"
   },
   {
    "duration": 4,
    "start_time": "2021-12-15T16:25:27.317Z"
   },
   {
    "duration": 111,
    "start_time": "2021-12-15T16:25:27.698Z"
   },
   {
    "duration": 24,
    "start_time": "2021-12-15T16:25:28.365Z"
   },
   {
    "duration": 981,
    "start_time": "2021-12-15T16:25:31.363Z"
   },
   {
    "duration": 1005,
    "start_time": "2021-12-15T16:26:23.226Z"
   },
   {
    "duration": 584,
    "start_time": "2021-12-15T16:28:05.073Z"
   },
   {
    "duration": 497,
    "start_time": "2021-12-15T16:28:11.651Z"
   },
   {
    "duration": 284,
    "start_time": "2021-12-15T16:29:36.480Z"
   },
   {
    "duration": 272,
    "start_time": "2021-12-15T16:29:40.994Z"
   },
   {
    "duration": 273,
    "start_time": "2021-12-15T16:29:55.389Z"
   },
   {
    "duration": 281,
    "start_time": "2021-12-15T16:30:31.936Z"
   },
   {
    "duration": 273,
    "start_time": "2021-12-15T16:30:40.642Z"
   },
   {
    "duration": 309,
    "start_time": "2021-12-15T16:30:56.057Z"
   },
   {
    "duration": 416,
    "start_time": "2021-12-15T16:31:10.155Z"
   },
   {
    "duration": 487,
    "start_time": "2021-12-15T16:32:24.460Z"
   },
   {
    "duration": 653,
    "start_time": "2021-12-15T16:33:02.332Z"
   },
   {
    "duration": 314,
    "start_time": "2021-12-15T16:33:12.022Z"
   },
   {
    "duration": 604,
    "start_time": "2021-12-15T16:33:22.587Z"
   },
   {
    "duration": 501,
    "start_time": "2021-12-15T16:33:34.729Z"
   },
   {
    "duration": 467,
    "start_time": "2021-12-15T16:34:07.787Z"
   },
   {
    "duration": 17,
    "start_time": "2021-12-15T16:35:40.166Z"
   },
   {
    "duration": 457,
    "start_time": "2021-12-15T16:36:42.069Z"
   },
   {
    "duration": 476,
    "start_time": "2021-12-15T16:36:47.941Z"
   },
   {
    "duration": 483,
    "start_time": "2021-12-15T16:37:52.429Z"
   },
   {
    "duration": 18,
    "start_time": "2021-12-15T16:38:10.653Z"
   },
   {
    "duration": 468,
    "start_time": "2021-12-15T16:38:27.891Z"
   },
   {
    "duration": 27,
    "start_time": "2021-12-15T16:39:06.061Z"
   },
   {
    "duration": 5,
    "start_time": "2021-12-15T16:40:49.009Z"
   },
   {
    "duration": 521,
    "start_time": "2021-12-15T16:41:19.201Z"
   },
   {
    "duration": 540,
    "start_time": "2021-12-15T16:41:22.194Z"
   },
   {
    "duration": 515,
    "start_time": "2021-12-15T16:41:46.174Z"
   },
   {
    "duration": 318,
    "start_time": "2021-12-15T16:42:25.292Z"
   },
   {
    "duration": 314,
    "start_time": "2021-12-15T16:42:32.045Z"
   },
   {
    "duration": 323,
    "start_time": "2021-12-15T16:42:38.329Z"
   },
   {
    "duration": 100,
    "start_time": "2021-12-15T16:42:44.773Z"
   },
   {
    "duration": 296,
    "start_time": "2021-12-15T16:42:47.345Z"
   },
   {
    "duration": 487,
    "start_time": "2021-12-15T16:42:50.713Z"
   },
   {
    "duration": 17,
    "start_time": "2021-12-15T16:43:14.091Z"
   },
   {
    "duration": 436,
    "start_time": "2021-12-15T16:44:16.105Z"
   },
   {
    "duration": 15,
    "start_time": "2021-12-15T16:44:21.474Z"
   },
   {
    "duration": 16,
    "start_time": "2021-12-15T16:44:33.519Z"
   },
   {
    "duration": 499,
    "start_time": "2021-12-15T16:44:38.314Z"
   },
   {
    "duration": 17,
    "start_time": "2021-12-15T16:44:48.409Z"
   },
   {
    "duration": 7759,
    "start_time": "2021-12-15T16:45:26.552Z"
   },
   {
    "duration": 585,
    "start_time": "2021-12-15T16:45:40.909Z"
   },
   {
    "duration": 87,
    "start_time": "2021-12-15T16:45:46.600Z"
   },
   {
    "duration": 486,
    "start_time": "2021-12-15T16:46:16.233Z"
   },
   {
    "duration": 511,
    "start_time": "2021-12-15T16:46:52.975Z"
   },
   {
    "duration": 268,
    "start_time": "2021-12-15T16:47:41.219Z"
   },
   {
    "duration": 22,
    "start_time": "2021-12-15T16:47:51.853Z"
   },
   {
    "duration": 18,
    "start_time": "2021-12-15T16:48:02.282Z"
   },
   {
    "duration": 486,
    "start_time": "2021-12-15T16:49:20.902Z"
   },
   {
    "duration": 21,
    "start_time": "2021-12-15T16:49:34.557Z"
   },
   {
    "duration": 520,
    "start_time": "2021-12-15T16:50:03.322Z"
   },
   {
    "duration": 284,
    "start_time": "2021-12-15T16:50:47.281Z"
   },
   {
    "duration": 280,
    "start_time": "2021-12-15T16:50:51.327Z"
   },
   {
    "duration": 502,
    "start_time": "2021-12-15T16:51:07.049Z"
   },
   {
    "duration": 17,
    "start_time": "2021-12-15T16:51:40.152Z"
   },
   {
    "duration": 288,
    "start_time": "2021-12-15T16:54:19.686Z"
   },
   {
    "duration": 300,
    "start_time": "2021-12-15T16:54:24.531Z"
   },
   {
    "duration": 292,
    "start_time": "2021-12-15T16:54:42.710Z"
   },
   {
    "duration": 17,
    "start_time": "2021-12-15T16:54:56.784Z"
   },
   {
    "duration": 20,
    "start_time": "2021-12-15T16:55:16.559Z"
   },
   {
    "duration": 294,
    "start_time": "2021-12-15T16:55:28.658Z"
   },
   {
    "duration": 286,
    "start_time": "2021-12-15T16:55:54.339Z"
   },
   {
    "duration": 16,
    "start_time": "2021-12-15T16:56:40.339Z"
   },
   {
    "duration": 17,
    "start_time": "2021-12-15T16:56:51.427Z"
   },
   {
    "duration": 87,
    "start_time": "2021-12-15T16:57:03.548Z"
   },
   {
    "duration": 19,
    "start_time": "2021-12-15T16:57:16.267Z"
   },
   {
    "duration": 270,
    "start_time": "2021-12-15T16:57:33.355Z"
   },
   {
    "duration": 290,
    "start_time": "2021-12-15T16:57:41.161Z"
   },
   {
    "duration": 298,
    "start_time": "2021-12-15T16:57:45.969Z"
   },
   {
    "duration": 826,
    "start_time": "2021-12-15T16:57:48.044Z"
   },
   {
    "duration": 263,
    "start_time": "2021-12-15T16:57:59.559Z"
   },
   {
    "duration": 288,
    "start_time": "2021-12-15T16:58:06.355Z"
   },
   {
    "duration": 24,
    "start_time": "2021-12-15T16:58:15.292Z"
   },
   {
    "duration": 26,
    "start_time": "2021-12-15T16:58:45.309Z"
   },
   {
    "duration": 21,
    "start_time": "2021-12-15T17:01:26.773Z"
   },
   {
    "duration": 16,
    "start_time": "2021-12-15T17:01:30.806Z"
   },
   {
    "duration": 21,
    "start_time": "2021-12-15T17:01:34.279Z"
   },
   {
    "duration": 17,
    "start_time": "2021-12-15T17:01:38.600Z"
   },
   {
    "duration": 16,
    "start_time": "2021-12-15T17:01:58.193Z"
   },
   {
    "duration": 16,
    "start_time": "2021-12-15T17:02:15.609Z"
   },
   {
    "duration": 14,
    "start_time": "2021-12-15T17:02:18.244Z"
   },
   {
    "duration": 17,
    "start_time": "2021-12-15T17:02:26.497Z"
   },
   {
    "duration": 29,
    "start_time": "2021-12-15T17:02:31.768Z"
   },
   {
    "duration": 22,
    "start_time": "2021-12-15T17:02:36.969Z"
   },
   {
    "duration": 13,
    "start_time": "2021-12-15T17:02:41.847Z"
   },
   {
    "duration": 13,
    "start_time": "2021-12-15T17:02:51.040Z"
   },
   {
    "duration": 4,
    "start_time": "2021-12-15T17:03:13.478Z"
   },
   {
    "duration": 8,
    "start_time": "2021-12-15T17:03:14.405Z"
   },
   {
    "duration": 11,
    "start_time": "2021-12-15T17:03:16.149Z"
   },
   {
    "duration": 10,
    "start_time": "2021-12-15T17:03:41.464Z"
   },
   {
    "duration": 7,
    "start_time": "2021-12-15T17:03:42.826Z"
   },
   {
    "duration": 14,
    "start_time": "2021-12-15T17:06:54.613Z"
   },
   {
    "duration": 5,
    "start_time": "2021-12-15T17:06:56.293Z"
   },
   {
    "duration": 313,
    "start_time": "2021-12-15T17:07:51.407Z"
   },
   {
    "duration": 14,
    "start_time": "2021-12-15T17:08:21.426Z"
   },
   {
    "duration": 8,
    "start_time": "2021-12-15T17:08:24.571Z"
   },
   {
    "duration": 81,
    "start_time": "2021-12-15T17:20:01.535Z"
   },
   {
    "duration": 14460,
    "start_time": "2021-12-15T17:20:12.398Z"
   },
   {
    "duration": 363,
    "start_time": "2021-12-15T17:21:13.823Z"
   },
   {
    "duration": 10,
    "start_time": "2021-12-15T17:21:23.179Z"
   },
   {
    "duration": 6,
    "start_time": "2021-12-15T17:21:29.059Z"
   },
   {
    "duration": 16,
    "start_time": "2021-12-15T17:21:33.873Z"
   },
   {
    "duration": 385,
    "start_time": "2021-12-15T20:24:37.560Z"
   },
   {
    "duration": 4,
    "start_time": "2021-12-15T20:24:48.188Z"
   },
   {
    "duration": 853,
    "start_time": "2021-12-15T20:24:48.285Z"
   },
   {
    "duration": 125,
    "start_time": "2021-12-15T20:24:49.141Z"
   },
   {
    "duration": 626,
    "start_time": "2021-12-15T20:24:49.269Z"
   },
   {
    "duration": 48,
    "start_time": "2021-12-15T20:24:49.898Z"
   },
   {
    "duration": 17,
    "start_time": "2021-12-15T20:24:49.949Z"
   },
   {
    "duration": 50,
    "start_time": "2021-12-15T20:24:49.969Z"
   },
   {
    "duration": 4,
    "start_time": "2021-12-15T20:24:50.022Z"
   },
   {
    "duration": 29,
    "start_time": "2021-12-15T20:24:50.030Z"
   },
   {
    "duration": 12,
    "start_time": "2021-12-15T20:24:50.061Z"
   },
   {
    "duration": 54,
    "start_time": "2021-12-15T20:24:50.076Z"
   },
   {
    "duration": 12,
    "start_time": "2021-12-15T20:24:50.133Z"
   },
   {
    "duration": 14,
    "start_time": "2021-12-15T20:24:50.148Z"
   },
   {
    "duration": 52,
    "start_time": "2021-12-15T20:24:50.164Z"
   },
   {
    "duration": 31,
    "start_time": "2021-12-15T20:24:50.219Z"
   },
   {
    "duration": 5,
    "start_time": "2021-12-15T20:24:50.253Z"
   },
   {
    "duration": 14,
    "start_time": "2021-12-15T20:24:50.260Z"
   },
   {
    "duration": 49,
    "start_time": "2021-12-15T20:24:50.277Z"
   },
   {
    "duration": 10,
    "start_time": "2021-12-15T20:24:50.328Z"
   },
   {
    "duration": 11,
    "start_time": "2021-12-15T20:24:50.342Z"
   },
   {
    "duration": 12,
    "start_time": "2021-12-15T20:24:50.357Z"
   },
   {
    "duration": 53,
    "start_time": "2021-12-15T20:24:50.372Z"
   },
   {
    "duration": 12,
    "start_time": "2021-12-15T20:24:50.428Z"
   },
   {
    "duration": 10,
    "start_time": "2021-12-15T20:24:50.448Z"
   },
   {
    "duration": 54,
    "start_time": "2021-12-15T20:24:50.463Z"
   },
   {
    "duration": 6,
    "start_time": "2021-12-15T20:24:50.520Z"
   },
   {
    "duration": 22,
    "start_time": "2021-12-15T20:24:50.528Z"
   },
   {
    "duration": 14,
    "start_time": "2021-12-15T20:24:50.554Z"
   },
   {
    "duration": 60,
    "start_time": "2021-12-15T20:24:50.571Z"
   },
   {
    "duration": 7,
    "start_time": "2021-12-15T20:24:50.633Z"
   },
   {
    "duration": 10,
    "start_time": "2021-12-15T20:24:50.643Z"
   },
   {
    "duration": 9,
    "start_time": "2021-12-15T20:24:50.656Z"
   },
   {
    "duration": 13,
    "start_time": "2021-12-15T20:24:50.668Z"
   },
   {
    "duration": 7,
    "start_time": "2021-12-15T20:24:50.718Z"
   },
   {
    "duration": 13,
    "start_time": "2021-12-15T20:24:50.728Z"
   },
   {
    "duration": 13,
    "start_time": "2021-12-15T20:24:50.743Z"
   },
   {
    "duration": 501,
    "start_time": "2021-12-15T20:24:50.759Z"
   },
   {
    "duration": 1474,
    "start_time": "2021-12-15T20:24:51.262Z"
   },
   {
    "duration": 12,
    "start_time": "2021-12-15T20:24:52.739Z"
   },
   {
    "duration": 415,
    "start_time": "2021-12-15T20:24:52.753Z"
   },
   {
    "duration": 394,
    "start_time": "2021-12-15T20:24:53.171Z"
   },
   {
    "duration": 14,
    "start_time": "2021-12-15T20:24:53.567Z"
   },
   {
    "duration": 9,
    "start_time": "2021-12-15T20:24:53.584Z"
   },
   {
    "duration": 28,
    "start_time": "2021-12-15T20:24:53.595Z"
   },
   {
    "duration": 17,
    "start_time": "2021-12-15T20:24:53.626Z"
   },
   {
    "duration": 12,
    "start_time": "2021-12-15T20:24:53.645Z"
   },
   {
    "duration": 58,
    "start_time": "2021-12-15T20:24:53.660Z"
   },
   {
    "duration": 712,
    "start_time": "2021-12-15T20:24:53.721Z"
   },
   {
    "duration": 6,
    "start_time": "2021-12-15T20:24:54.435Z"
   },
   {
    "duration": 23,
    "start_time": "2021-12-15T20:24:54.443Z"
   },
   {
    "duration": 14,
    "start_time": "2021-12-15T20:24:54.468Z"
   },
   {
    "duration": 480,
    "start_time": "2021-12-15T20:24:54.484Z"
   },
   {
    "duration": 910,
    "start_time": "2021-12-15T20:24:54.968Z"
   },
   {
    "duration": 10,
    "start_time": "2021-12-15T20:24:55.881Z"
   },
   {
    "duration": 7,
    "start_time": "2021-12-15T20:24:55.918Z"
   },
   {
    "duration": 7,
    "start_time": "2021-12-15T20:24:55.928Z"
   },
   {
    "duration": 17,
    "start_time": "2021-12-15T20:24:55.938Z"
   },
   {
    "duration": 7,
    "start_time": "2021-12-15T20:24:55.957Z"
   },
   {
    "duration": 122,
    "start_time": "2021-12-15T20:24:55.966Z"
   },
   {
    "duration": 12,
    "start_time": "2021-12-15T20:24:56.090Z"
   },
   {
    "duration": 979,
    "start_time": "2021-12-15T20:24:56.118Z"
   },
   {
    "duration": 1230,
    "start_time": "2021-12-15T20:24:57.100Z"
   },
   {
    "duration": 595,
    "start_time": "2021-12-15T20:24:58.333Z"
   },
   {
    "duration": 22,
    "start_time": "2021-12-15T20:24:58.931Z"
   },
   {
    "duration": 635,
    "start_time": "2021-12-15T20:24:58.956Z"
   },
   {
    "duration": 31,
    "start_time": "2021-12-15T20:24:59.594Z"
   },
   {
    "duration": 652,
    "start_time": "2021-12-15T20:24:59.628Z"
   },
   {
    "duration": 36,
    "start_time": "2021-12-15T20:25:00.283Z"
   },
   {
    "duration": 482,
    "start_time": "2021-12-15T20:25:00.328Z"
   },
   {
    "duration": 19,
    "start_time": "2021-12-15T20:25:00.813Z"
   },
   {
    "duration": 594,
    "start_time": "2021-12-15T20:25:00.835Z"
   },
   {
    "duration": 23,
    "start_time": "2021-12-15T20:25:01.433Z"
   },
   {
    "duration": 698,
    "start_time": "2021-12-15T20:25:01.459Z"
   },
   {
    "duration": 16,
    "start_time": "2021-12-15T20:25:02.159Z"
   },
   {
    "duration": 53,
    "start_time": "2021-12-15T20:25:02.178Z"
   },
   {
    "duration": 16,
    "start_time": "2021-12-15T20:25:02.234Z"
   },
   {
    "duration": 25,
    "start_time": "2021-12-15T20:25:02.253Z"
   },
   {
    "duration": 38,
    "start_time": "2021-12-15T20:25:02.281Z"
   },
   {
    "duration": 19,
    "start_time": "2021-12-15T20:25:02.322Z"
   },
   {
    "duration": 21,
    "start_time": "2021-12-15T20:25:02.344Z"
   },
   {
    "duration": 54,
    "start_time": "2021-12-15T20:25:02.368Z"
   },
   {
    "duration": 16,
    "start_time": "2021-12-15T20:25:02.424Z"
   },
   {
    "duration": 18,
    "start_time": "2021-12-15T20:25:02.442Z"
   },
   {
    "duration": 12,
    "start_time": "2021-12-15T20:25:02.462Z"
   },
   {
    "duration": 53,
    "start_time": "2021-12-15T20:25:02.477Z"
   },
   {
    "duration": 16,
    "start_time": "2021-12-15T20:25:02.532Z"
   },
   {
    "duration": 3,
    "start_time": "2021-12-15T20:25:02.550Z"
   },
   {
    "duration": 18,
    "start_time": "2021-12-15T20:25:02.555Z"
   },
   {
    "duration": 42,
    "start_time": "2021-12-15T20:25:02.576Z"
   },
   {
    "duration": 17,
    "start_time": "2021-12-15T20:25:02.621Z"
   },
   {
    "duration": 18,
    "start_time": "2021-12-15T20:25:02.640Z"
   },
   {
    "duration": 22,
    "start_time": "2021-12-15T20:25:02.660Z"
   },
   {
    "duration": 11,
    "start_time": "2021-12-15T20:26:22.509Z"
   },
   {
    "duration": 11,
    "start_time": "2021-12-15T20:26:31.023Z"
   },
   {
    "duration": 12,
    "start_time": "2021-12-15T20:27:46.155Z"
   },
   {
    "duration": 15,
    "start_time": "2021-12-15T20:27:58.183Z"
   }
  ],
  "kernelspec": {
   "display_name": "Python 3 (ipykernel)",
   "language": "python",
   "name": "python3"
  },
  "language_info": {
   "codemirror_mode": {
    "name": "ipython",
    "version": 3
   },
   "file_extension": ".py",
   "mimetype": "text/x-python",
   "name": "python",
   "nbconvert_exporter": "python",
   "pygments_lexer": "ipython3",
   "version": "3.9.5"
  },
  "notebookId": "edcbaa79-2255-4aa8-8143-5a8bc5b7047c",
  "notebookPath": "uniproject1.ipynb",
  "toc": {
   "base_numbering": 1,
   "nav_menu": {},
   "number_sections": true,
   "sideBar": true,
   "skip_h1_title": true,
   "title_cell": "Table of Contents",
   "title_sidebar": "Contents",
   "toc_cell": false,
   "toc_position": {
    "height": "calc(100% - 180px)",
    "left": "10px",
    "top": "150px",
    "width": "273.188px"
   },
   "toc_section_display": true,
   "toc_window_display": false
  }
 },
 "nbformat": 4,
 "nbformat_minor": 4
}
