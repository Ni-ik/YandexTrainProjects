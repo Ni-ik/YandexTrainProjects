{
 "cells": [
  {
   "cell_type": "markdown",
   "metadata": {
    "toc": true
   },
   "source": [
    "<h1>Содержание<span class=\"tocSkip\"></span></h1>\n",
    "<div class=\"toc\"><ul class=\"toc-item\"><li><span><a href=\"#Постановка-задачи\" data-toc-modified-id=\"Постановка-задачи-1\"><span class=\"toc-item-num\">1&nbsp;&nbsp;</span>Постановка задачи</a></span><ul class=\"toc-item\"><li><span><a href=\"#Описание-технологического-процесса\" data-toc-modified-id=\"Описание-технологического-процесса-1.1\"><span class=\"toc-item-num\">1.1&nbsp;&nbsp;</span>Описание технологического процесса</a></span></li><li><span><a href=\"#Цель-исследования\" data-toc-modified-id=\"Цель-исследования-1.2\"><span class=\"toc-item-num\">1.2&nbsp;&nbsp;</span>Цель исследования</a></span></li><li><span><a href=\"#Объект-исследования\" data-toc-modified-id=\"Объект-исследования-1.3\"><span class=\"toc-item-num\">1.3&nbsp;&nbsp;</span>Объект исследования</a></span></li><li><span><a href=\"#Описание-переменных\" data-toc-modified-id=\"Описание-переменных-1.4\"><span class=\"toc-item-num\">1.4&nbsp;&nbsp;</span>Описание переменных</a></span></li><li><span><a href=\"#Задачи-исследования\" data-toc-modified-id=\"Задачи-исследования-1.5\"><span class=\"toc-item-num\">1.5&nbsp;&nbsp;</span>Задачи исследования</a></span></li><li><span><a href=\"#Метрика-качества\" data-toc-modified-id=\"Метрика-качества-1.6\"><span class=\"toc-item-num\">1.6&nbsp;&nbsp;</span>Метрика качества</a></span></li><li><span><a href=\"#Целевые-признаки\" data-toc-modified-id=\"Целевые-признаки-1.7\"><span class=\"toc-item-num\">1.7&nbsp;&nbsp;</span>Целевые признаки</a></span></li></ul></li><li><span><a href=\"#Подготовка-данных\" data-toc-modified-id=\"Подготовка-данных-2\"><span class=\"toc-item-num\">2&nbsp;&nbsp;</span>Подготовка данных</a></span><ul class=\"toc-item\"><li><span><a href=\"#Чтение-файлов\" data-toc-modified-id=\"Чтение-файлов-2.1\"><span class=\"toc-item-num\">2.1&nbsp;&nbsp;</span>Чтение файлов</a></span></li><li><span><a href=\"#Эффективность-обогащения-флотации\" data-toc-modified-id=\"Эффективность-обогащения-флотации-2.2\"><span class=\"toc-item-num\">2.2&nbsp;&nbsp;</span>Эффективность обогащения флотации</a></span></li><li><span><a href=\"#Признаки,-недоступные-в-тестовой-выборке\" data-toc-modified-id=\"Признаки,-недоступные-в-тестовой-выборке-2.3\"><span class=\"toc-item-num\">2.3&nbsp;&nbsp;</span>Признаки, недоступные в тестовой выборке</a></span></li><li><span><a href=\"#Предобработка-данных\" data-toc-modified-id=\"Предобработка-данных-2.4\"><span class=\"toc-item-num\">2.4&nbsp;&nbsp;</span>Предобработка данных</a></span></li><li><span><a href=\"#Выводы\" data-toc-modified-id=\"Выводы-2.5\"><span class=\"toc-item-num\">2.5&nbsp;&nbsp;</span>Выводы</a></span></li></ul></li><li><span><a href=\"#Анализ-данных\" data-toc-modified-id=\"Анализ-данных-3\"><span class=\"toc-item-num\">3&nbsp;&nbsp;</span>Анализ данных</a></span><ul class=\"toc-item\"><li><span><a href=\"#Концентрации-металлов\" data-toc-modified-id=\"Концентрации-металлов-3.1\"><span class=\"toc-item-num\">3.1&nbsp;&nbsp;</span>Концентрации металлов</a></span></li><li><span><a href=\"#Распределения-размеров-гранул-сырья-на-обучающей-и-тестовой-выборках\" data-toc-modified-id=\"Распределения-размеров-гранул-сырья-на-обучающей-и-тестовой-выборках-3.2\"><span class=\"toc-item-num\">3.2&nbsp;&nbsp;</span>Распределения размеров гранул сырья на обучающей и тестовой выборках</a></span></li><li><span><a href=\"#Исследование-суммарной-концентрации-всех-веществ-на-разных-стадиях\" data-toc-modified-id=\"Исследование-суммарной-концентрации-всех-веществ-на-разных-стадиях-3.3\"><span class=\"toc-item-num\">3.3&nbsp;&nbsp;</span>Исследование суммарной концентрации всех веществ на разных стадиях</a></span></li><li><span><a href=\"#Выводы\" data-toc-modified-id=\"Выводы-3.4\"><span class=\"toc-item-num\">3.4&nbsp;&nbsp;</span>Выводы</a></span></li></ul></li><li><span><a href=\"#Модель\" data-toc-modified-id=\"Модель-4\"><span class=\"toc-item-num\">4&nbsp;&nbsp;</span>Модель</a></span><ul class=\"toc-item\"><li><span><a href=\"#Функция-sMAPE\" data-toc-modified-id=\"Функция-sMAPE-4.1\"><span class=\"toc-item-num\">4.1&nbsp;&nbsp;</span>Функция sMAPE</a></span></li><li><span><a href=\"#Выделение-признаков\" data-toc-modified-id=\"Выделение-признаков-4.2\"><span class=\"toc-item-num\">4.2&nbsp;&nbsp;</span>Выделение признаков</a></span></li><li><span><a href=\"#Масштабирование-признаков\" data-toc-modified-id=\"Масштабирование-признаков-4.3\"><span class=\"toc-item-num\">4.3&nbsp;&nbsp;</span>Масштабирование признаков</a></span></li><li><span><a href=\"#Обучение-моделей\" data-toc-modified-id=\"Обучение-моделей-4.4\"><span class=\"toc-item-num\">4.4&nbsp;&nbsp;</span>Обучение моделей</a></span></li><li><span><a href=\"#Проверка-модели-на-тестовой-выборке\" data-toc-modified-id=\"Проверка-модели-на-тестовой-выборке-4.5\"><span class=\"toc-item-num\">4.5&nbsp;&nbsp;</span>Проверка модели на тестовой выборке</a></span></li><li><span><a href=\"#Выводы\" data-toc-modified-id=\"Выводы-4.6\"><span class=\"toc-item-num\">4.6&nbsp;&nbsp;</span>Выводы</a></span></li></ul></li><li><span><a href=\"#Общие-выводы\" data-toc-modified-id=\"Общие-выводы-5\"><span class=\"toc-item-num\">5&nbsp;&nbsp;</span>Общие выводы</a></span></li><li><span><a href=\"#Чек-лист-готовности-проекта\" data-toc-modified-id=\"Чек-лист-готовности-проекта-6\"><span class=\"toc-item-num\">6&nbsp;&nbsp;</span>Чек-лист готовности проекта</a></span></li></ul></div>"
   ]
  },
  {
   "cell_type": "markdown",
   "metadata": {},
   "source": [
    "# Восстановление золота из руды"
   ]
  },
  {
   "cell_type": "markdown",
   "metadata": {},
   "source": [
    "Подготовьте прототип модели машинного обучения для «Цифры». Компания разрабатывает решения для эффективной работы промышленных предприятий.\n",
    "\n",
    "Модель должна предсказать коэффициент восстановления золота из золотосодержащей руды. Используйте данные с параметрами добычи и очистки. \n",
    "\n",
    "Модель поможет оптимизировать производство, чтобы не запускать предприятие с убыточными характеристиками.\n",
    "\n",
    "Вам нужно:\n",
    "\n",
    "1. Подготовить данные;\n",
    "2. Провести исследовательский анализ данных;\n",
    "3. Построить и обучить модель.\n",
    "\n",
    "Чтобы выполнить проект, обращайтесь к библиотекам *pandas*, *matplotlib* и *sklearn.* Вам поможет их документация."
   ]
  },
  {
   "cell_type": "markdown",
   "metadata": {},
   "source": [
    "## Постановка задачи"
   ]
  },
  {
   "cell_type": "markdown",
   "metadata": {},
   "source": [
    "### Описание технологического процесса\n",
    "\n",
    "Когда добытая руда проходит первичную обработку, получается дроблёная смесь. Её отправляют на флотацию (обогащение) и двухэтапную очистку.\n",
    "\n",
    "1. **Флотация**\n",
    "\n",
    "Во флотационную установку подаётся смесь золотосодержащей руды. После обогащения получается черновой концентрат и «отвальные хвосты», то есть остатки продукта с низкой концентрацией ценных металлов.\n",
    "На стабильность этого процесса влияет непостоянное и неоптимальное физико-химическое состояние флотационной пульпы (смеси твёрдых частиц и жидкости).\n",
    "\n",
    "2. **Очистка**\n",
    "\n",
    "Черновой концентрат проходит две очистки. На выходе получается финальный концентрат и новые отвальные хвосты."
   ]
  },
  {
   "cell_type": "markdown",
   "metadata": {},
   "source": [
    "### Цель исследования\n",
    "\n",
    "Разработать прототип модель машинного обучения для добывающей компании, которая должна предсказывать коэффициент восстановления золота из золотосодержащей руды. "
   ]
  },
  {
   "cell_type": "markdown",
   "metadata": {},
   "source": [
    "### Объект исследования"
   ]
  },
  {
   "cell_type": "markdown",
   "metadata": {},
   "source": [
    "Данные находятся в трёх файлах:\n",
    "* *gold_recovery_train_new.csv* — обучающая выборка;\n",
    "* *gold_recovery_test_new.csv* — тестовая выборка;\n",
    "* *gold_recovery_full_new.csv* — исходные данные.\n",
    "\n",
    "Данные индексируются датой и временем получения информации (признак date). Соседние по времени параметры часто похожи.\n",
    "Некоторые параметры недоступны, потому что замеряются и/или рассчитываются значительно позже. Из-за этого в тестовой выборке отсутствуют некоторые признаки, которые могут быть в обучающей. Также в тестовом наборе нет целевых признаков.\n",
    "Исходный датасет содержит обучающую и тестовую выборки со всеми признаками.\n",
    "В вашем распоряжении сырые данные: их просто выгрузили из хранилища. Прежде чем приступить к построению модели, проверьте по нашей инструкции их на корректность."
   ]
  },
  {
   "cell_type": "markdown",
   "metadata": {},
   "source": [
    "### Описание переменных\n",
    "\n",
    "\n",
    "Технологический процесс\n",
    "\n",
    "- Rougher feed — исходное сырье\n",
    "- Rougher additions (или reagent additions) — флотационные реагенты: Xanthate, Sulphate, Depressant\n",
    "- Xanthate **— ксантогенат (промотер, или активатор флотации);\n",
    "- Sulphate — сульфат (на данном производстве сульфид натрия);\n",
    "- Depressant — депрессант (силикат натрия).\n",
    "- Rougher process (англ. «грубый процесс») — флотация\n",
    "- Rougher tails — отвальные хвосты\n",
    "- Float banks — флотационная установка\n",
    "- Cleaner process — очистка\n",
    "- Rougher Au — черновой концентрат золота\n",
    "- Final Au — финальный концентрат золота\n",
    "\n",
    "Параметры этапов\n",
    "\n",
    "- air amount — объём воздуха\n",
    "- fluid levels — уровень жидкости\n",
    "- feed size — размер гранул сырья\n",
    "- feed rate — скорость подачи\n",
    "\n",
    "\n",
    "Наименование признаков должно быть такое:\n",
    "`[этап].[тип_параметра].[название_параметра]`\n",
    "\n",
    "Пример: `rougher.input.feed_ag`\n",
    "\n",
    "Возможные значения для блока [этап]:\n",
    "\n",
    "rougher — флотация\n",
    "\n",
    "primary_cleaner — первичная очистка\n",
    "\n",
    "secondary_cleaner — вторичная очистка\n",
    "\n",
    "final — финальные характеристики\n",
    "\n",
    "Возможные значения для блока [тип_параметра]:\n",
    "\n",
    "input — параметры сырья\n",
    "\n",
    "output — параметры продукта\n",
    "\n",
    "state — параметры, характеризующие текущее состояние этапа\n",
    "\n",
    "calculation — расчётные характеристики\n"
   ]
  },
  {
   "cell_type": "markdown",
   "metadata": {},
   "source": [
    "### Задачи исследования\n",
    "\n",
    "Для достижения цели необходимо решить следующие задачи:"
   ]
  },
  {
   "cell_type": "markdown",
   "metadata": {},
   "source": [
    "- Проверить, что эффективность обогащения рассчитана правильно. Вычислите её на обучающей выборке для признака rougher.output.recovery.\n",
    "- Найти MAE между расчётами и значением признака.\n",
    "- Проанализировать признаки, недоступные в тестовой выборке. Что это за параметры? К какому типу относятся?\n",
    "- Провести предобработку данных.\n",
    "- Посмотреть, как меняется концентрация металлов (Au, Ag, Pb) на различных этапах очистки.\n",
    "- Сравните распределения размеров гранул сырья на обучающей и тестовой выборках. Если распределения сильно отличаются друг от друга, оценка модели будет неправильной.\n",
    "- Исследуйте суммарную концентрацию всех веществ на разных стадиях: в сырье, в черновом и финальном концентратах.\n",
    "- Написать функцию для вычисления итоговой sMAPE.\n",
    "- Обучить разные модели и оцените их качество кросс-валидацией. \n",
    "- Выберать лучшую модель и проверьте её на тестовой выборке"
   ]
  },
  {
   "cell_type": "markdown",
   "metadata": {},
   "source": [
    "### Метрика качества\n",
    "\n",
    "Для оценки качества модели используется метрика качества — sMAPE (англ. Symmetric Mean Absolute Percentage Error, «симметричное среднее абсолютное процентное отклонение»).\n",
    "Она похожа на MAE, но выражается не в абсолютных величинах, а в относительных. Почему симметричная? Она одинаково учитывает масштаб и целевого признака, и предсказания.\n",
    "Метрика sMAPE вычисляется так:"
   ]
  },
  {
   "cell_type": "markdown",
   "metadata": {},
   "source": [
    "\\begin{equation}\n",
    "   \\label\n",
    "   \\ sMAPE= \\frac{1}{N}\\sum_{i=1}^{N}\\frac{\\mid y-\\widehat{y}_i\\mid}{(\\mid y_i\\mid + \\mid \\widehat{y}_i\\mid)/2}\\cdot100\\%\n",
    " \\end{equation}"
   ]
  },
  {
   "cell_type": "markdown",
   "metadata": {},
   "source": [
    "Где\n",
    "\n",
    "\\begin{equation}\\ N  \\end{equation} \n",
    " количество объектов в выборке;\n",
    " \n",
    " \\begin{equation}\\ y_i  \\end{equation} \n",
    " Значение целевого признака для объекта с порядковым номером i в выборке, на которой измеряется качество;\n",
    " \\begin{equation}\\widehat{y}_i  \\end{equation} \n",
    " \n",
    " Значение предсказания для объекта с порядковым номером i, например, в тестовой выборке."
   ]
  },
  {
   "cell_type": "markdown",
   "metadata": {},
   "source": [
    "Финальная метрика выражается следующим выражением"
   ]
  },
  {
   "cell_type": "markdown",
   "metadata": {},
   "source": [
    "\\begin{equation}\n",
    "\\ sMAPE_{TOTAL} = 25\\%\\cdot sMAPE(rougher) + 75\\% \\cdot sMAPE(final)\n",
    "\\end{equation} "
   ]
  },
  {
   "cell_type": "markdown",
   "metadata": {},
   "source": [
    " ### Целевые признаки\n",
    " \n",
    " Нужно спрогнозировать сразу две величины:\n",
    "- эффективность обогащения чернового концентрата `rougher.output.recovery`;\n",
    "- эффективность обогащения финального концентрата `final.output.recovery`."
   ]
  },
  {
   "cell_type": "markdown",
   "metadata": {},
   "source": [
    "## Подготовка данных"
   ]
  },
  {
   "cell_type": "markdown",
   "metadata": {},
   "source": [
    "Импортируем библиотеки"
   ]
  },
  {
   "cell_type": "code",
   "execution_count": 1,
   "metadata": {},
   "outputs": [],
   "source": [
    "import pandas as pd\n",
    "import seaborn as sns\n",
    "import matplotlib.pyplot as plt\n",
    "from sklearn.metrics import mean_absolute_error, make_scorer\n",
    "from sklearn.preprocessing import StandardScaler\n",
    "from sklearn.linear_model import LinearRegression\n",
    "from sklearn.tree import DecisionTreeRegressor\n",
    "from sklearn.ensemble import RandomForestRegressor\n",
    "from sklearn.dummy import DummyRegressor\n",
    "from sklearn.model_selection import cross_val_score"
   ]
  },
  {
   "cell_type": "markdown",
   "metadata": {},
   "source": [
    "### Чтение файлов"
   ]
  },
  {
   "cell_type": "markdown",
   "metadata": {},
   "source": [
    "Прочитаем информацию из файлов"
   ]
  },
  {
   "cell_type": "code",
   "execution_count": 2,
   "metadata": {},
   "outputs": [],
   "source": [
    "df_train = pd.read_csv('/datasets/gold_recovery_train_new.csv')\n",
    "df_test = pd.read_csv('/datasets/gold_recovery_test_new.csv')\n",
    "df_full = pd.read_csv('/datasets/gold_recovery_full_new.csv')"
   ]
  },
  {
   "cell_type": "code",
   "execution_count": 3,
   "metadata": {
    "scrolled": true
   },
   "outputs": [
    {
     "name": "stdout",
     "output_type": "stream",
     "text": [
      "<class 'pandas.core.frame.DataFrame'>\n",
      "RangeIndex: 14149 entries, 0 to 14148\n",
      "Data columns (total 87 columns):\n",
      "date                                                  14149 non-null object\n",
      "final.output.concentrate_ag                           14148 non-null float64\n",
      "final.output.concentrate_pb                           14148 non-null float64\n",
      "final.output.concentrate_sol                          13938 non-null float64\n",
      "final.output.concentrate_au                           14149 non-null float64\n",
      "final.output.recovery                                 14149 non-null float64\n",
      "final.output.tail_ag                                  14149 non-null float64\n",
      "final.output.tail_pb                                  14049 non-null float64\n",
      "final.output.tail_sol                                 14144 non-null float64\n",
      "final.output.tail_au                                  14149 non-null float64\n",
      "primary_cleaner.input.sulfate                         14129 non-null float64\n",
      "primary_cleaner.input.depressant                      14117 non-null float64\n",
      "primary_cleaner.input.feed_size                       14149 non-null float64\n",
      "primary_cleaner.input.xanthate                        14049 non-null float64\n",
      "primary_cleaner.output.concentrate_ag                 14149 non-null float64\n",
      "primary_cleaner.output.concentrate_pb                 14063 non-null float64\n",
      "primary_cleaner.output.concentrate_sol                13863 non-null float64\n",
      "primary_cleaner.output.concentrate_au                 14149 non-null float64\n",
      "primary_cleaner.output.tail_ag                        14148 non-null float64\n",
      "primary_cleaner.output.tail_pb                        14134 non-null float64\n",
      "primary_cleaner.output.tail_sol                       14103 non-null float64\n",
      "primary_cleaner.output.tail_au                        14149 non-null float64\n",
      "primary_cleaner.state.floatbank8_a_air                14145 non-null float64\n",
      "primary_cleaner.state.floatbank8_a_level              14148 non-null float64\n",
      "primary_cleaner.state.floatbank8_b_air                14145 non-null float64\n",
      "primary_cleaner.state.floatbank8_b_level              14148 non-null float64\n",
      "primary_cleaner.state.floatbank8_c_air                14147 non-null float64\n",
      "primary_cleaner.state.floatbank8_c_level              14148 non-null float64\n",
      "primary_cleaner.state.floatbank8_d_air                14146 non-null float64\n",
      "primary_cleaner.state.floatbank8_d_level              14148 non-null float64\n",
      "rougher.calculation.sulfate_to_au_concentrate         14148 non-null float64\n",
      "rougher.calculation.floatbank10_sulfate_to_au_feed    14148 non-null float64\n",
      "rougher.calculation.floatbank11_sulfate_to_au_feed    14148 non-null float64\n",
      "rougher.calculation.au_pb_ratio                       14149 non-null float64\n",
      "rougher.input.feed_ag                                 14149 non-null float64\n",
      "rougher.input.feed_pb                                 14049 non-null float64\n",
      "rougher.input.feed_rate                               14141 non-null float64\n",
      "rougher.input.feed_size                               14005 non-null float64\n",
      "rougher.input.feed_sol                                14071 non-null float64\n",
      "rougher.input.feed_au                                 14149 non-null float64\n",
      "rougher.input.floatbank10_sulfate                     14120 non-null float64\n",
      "rougher.input.floatbank10_xanthate                    14141 non-null float64\n",
      "rougher.input.floatbank11_sulfate                     14113 non-null float64\n",
      "rougher.input.floatbank11_xanthate                    13721 non-null float64\n",
      "rougher.output.concentrate_ag                         14149 non-null float64\n",
      "rougher.output.concentrate_pb                         14149 non-null float64\n",
      "rougher.output.concentrate_sol                        14127 non-null float64\n",
      "rougher.output.concentrate_au                         14149 non-null float64\n",
      "rougher.output.recovery                               14149 non-null float64\n",
      "rougher.output.tail_ag                                14148 non-null float64\n",
      "rougher.output.tail_pb                                14149 non-null float64\n",
      "rougher.output.tail_sol                               14149 non-null float64\n",
      "rougher.output.tail_au                                14149 non-null float64\n",
      "rougher.state.floatbank10_a_air                       14148 non-null float64\n",
      "rougher.state.floatbank10_a_level                     14148 non-null float64\n",
      "rougher.state.floatbank10_b_air                       14148 non-null float64\n",
      "rougher.state.floatbank10_b_level                     14148 non-null float64\n",
      "rougher.state.floatbank10_c_air                       14148 non-null float64\n",
      "rougher.state.floatbank10_c_level                     14148 non-null float64\n",
      "rougher.state.floatbank10_d_air                       14149 non-null float64\n",
      "rougher.state.floatbank10_d_level                     14149 non-null float64\n",
      "rougher.state.floatbank10_e_air                       13713 non-null float64\n",
      "rougher.state.floatbank10_e_level                     14149 non-null float64\n",
      "rougher.state.floatbank10_f_air                       14149 non-null float64\n",
      "rougher.state.floatbank10_f_level                     14149 non-null float64\n",
      "secondary_cleaner.output.tail_ag                      14147 non-null float64\n",
      "secondary_cleaner.output.tail_pb                      14139 non-null float64\n",
      "secondary_cleaner.output.tail_sol                     12544 non-null float64\n",
      "secondary_cleaner.output.tail_au                      14149 non-null float64\n",
      "secondary_cleaner.state.floatbank2_a_air              13932 non-null float64\n",
      "secondary_cleaner.state.floatbank2_a_level            14148 non-null float64\n",
      "secondary_cleaner.state.floatbank2_b_air              14128 non-null float64\n",
      "secondary_cleaner.state.floatbank2_b_level            14148 non-null float64\n",
      "secondary_cleaner.state.floatbank3_a_air              14145 non-null float64\n",
      "secondary_cleaner.state.floatbank3_a_level            14148 non-null float64\n",
      "secondary_cleaner.state.floatbank3_b_air              14148 non-null float64\n",
      "secondary_cleaner.state.floatbank3_b_level            14148 non-null float64\n",
      "secondary_cleaner.state.floatbank4_a_air              14143 non-null float64\n",
      "secondary_cleaner.state.floatbank4_a_level            14148 non-null float64\n",
      "secondary_cleaner.state.floatbank4_b_air              14148 non-null float64\n",
      "secondary_cleaner.state.floatbank4_b_level            14148 non-null float64\n",
      "secondary_cleaner.state.floatbank5_a_air              14148 non-null float64\n",
      "secondary_cleaner.state.floatbank5_a_level            14148 non-null float64\n",
      "secondary_cleaner.state.floatbank5_b_air              14148 non-null float64\n",
      "secondary_cleaner.state.floatbank5_b_level            14148 non-null float64\n",
      "secondary_cleaner.state.floatbank6_a_air              14147 non-null float64\n",
      "secondary_cleaner.state.floatbank6_a_level            14148 non-null float64\n",
      "dtypes: float64(86), object(1)\n",
      "memory usage: 9.4+ MB\n"
     ]
    }
   ],
   "source": [
    "df_train.info()"
   ]
  },
  {
   "cell_type": "markdown",
   "metadata": {},
   "source": [
    "Видим, что тренировочная таблица содержит 87 столбцов и 14149 записей. Практически все столбцы имеют тип `float` и только дата и время замера имеет тип `object`. В таблице присутствуют пропуски. Разберёмся с ними позднее. Посмотрим на тестовый набор"
   ]
  },
  {
   "cell_type": "code",
   "execution_count": 4,
   "metadata": {
    "scrolled": true
   },
   "outputs": [
    {
     "name": "stdout",
     "output_type": "stream",
     "text": [
      "<class 'pandas.core.frame.DataFrame'>\n",
      "RangeIndex: 5290 entries, 0 to 5289\n",
      "Data columns (total 53 columns):\n",
      "date                                          5290 non-null object\n",
      "primary_cleaner.input.sulfate                 5286 non-null float64\n",
      "primary_cleaner.input.depressant              5285 non-null float64\n",
      "primary_cleaner.input.feed_size               5290 non-null float64\n",
      "primary_cleaner.input.xanthate                5286 non-null float64\n",
      "primary_cleaner.state.floatbank8_a_air        5290 non-null float64\n",
      "primary_cleaner.state.floatbank8_a_level      5290 non-null float64\n",
      "primary_cleaner.state.floatbank8_b_air        5290 non-null float64\n",
      "primary_cleaner.state.floatbank8_b_level      5290 non-null float64\n",
      "primary_cleaner.state.floatbank8_c_air        5290 non-null float64\n",
      "primary_cleaner.state.floatbank8_c_level      5290 non-null float64\n",
      "primary_cleaner.state.floatbank8_d_air        5290 non-null float64\n",
      "primary_cleaner.state.floatbank8_d_level      5290 non-null float64\n",
      "rougher.input.feed_ag                         5290 non-null float64\n",
      "rougher.input.feed_pb                         5290 non-null float64\n",
      "rougher.input.feed_rate                       5287 non-null float64\n",
      "rougher.input.feed_size                       5289 non-null float64\n",
      "rougher.input.feed_sol                        5269 non-null float64\n",
      "rougher.input.feed_au                         5290 non-null float64\n",
      "rougher.input.floatbank10_sulfate             5285 non-null float64\n",
      "rougher.input.floatbank10_xanthate            5290 non-null float64\n",
      "rougher.input.floatbank11_sulfate             5282 non-null float64\n",
      "rougher.input.floatbank11_xanthate            5265 non-null float64\n",
      "rougher.state.floatbank10_a_air               5290 non-null float64\n",
      "rougher.state.floatbank10_a_level             5290 non-null float64\n",
      "rougher.state.floatbank10_b_air               5290 non-null float64\n",
      "rougher.state.floatbank10_b_level             5290 non-null float64\n",
      "rougher.state.floatbank10_c_air               5290 non-null float64\n",
      "rougher.state.floatbank10_c_level             5290 non-null float64\n",
      "rougher.state.floatbank10_d_air               5290 non-null float64\n",
      "rougher.state.floatbank10_d_level             5290 non-null float64\n",
      "rougher.state.floatbank10_e_air               5290 non-null float64\n",
      "rougher.state.floatbank10_e_level             5290 non-null float64\n",
      "rougher.state.floatbank10_f_air               5290 non-null float64\n",
      "rougher.state.floatbank10_f_level             5290 non-null float64\n",
      "secondary_cleaner.state.floatbank2_a_air      5287 non-null float64\n",
      "secondary_cleaner.state.floatbank2_a_level    5290 non-null float64\n",
      "secondary_cleaner.state.floatbank2_b_air      5288 non-null float64\n",
      "secondary_cleaner.state.floatbank2_b_level    5290 non-null float64\n",
      "secondary_cleaner.state.floatbank3_a_air      5281 non-null float64\n",
      "secondary_cleaner.state.floatbank3_a_level    5290 non-null float64\n",
      "secondary_cleaner.state.floatbank3_b_air      5290 non-null float64\n",
      "secondary_cleaner.state.floatbank3_b_level    5290 non-null float64\n",
      "secondary_cleaner.state.floatbank4_a_air      5290 non-null float64\n",
      "secondary_cleaner.state.floatbank4_a_level    5290 non-null float64\n",
      "secondary_cleaner.state.floatbank4_b_air      5290 non-null float64\n",
      "secondary_cleaner.state.floatbank4_b_level    5290 non-null float64\n",
      "secondary_cleaner.state.floatbank5_a_air      5290 non-null float64\n",
      "secondary_cleaner.state.floatbank5_a_level    5290 non-null float64\n",
      "secondary_cleaner.state.floatbank5_b_air      5290 non-null float64\n",
      "secondary_cleaner.state.floatbank5_b_level    5290 non-null float64\n",
      "secondary_cleaner.state.floatbank6_a_air      5290 non-null float64\n",
      "secondary_cleaner.state.floatbank6_a_level    5290 non-null float64\n",
      "dtypes: float64(52), object(1)\n",
      "memory usage: 2.1+ MB\n"
     ]
    }
   ],
   "source": [
    "df_test.info()"
   ]
  },
  {
   "cell_type": "markdown",
   "metadata": {},
   "source": [
    "Здесь меньшее количество столбцов-53. Вероятно в обучающем файле присутствует лишняя информация. Кроме того присутствуют пропуски и в тестовом файле. Значит модель должна уметь работать с пропусками. Посмотрим на `df_full`"
   ]
  },
  {
   "cell_type": "code",
   "execution_count": 5,
   "metadata": {
    "scrolled": true
   },
   "outputs": [
    {
     "name": "stdout",
     "output_type": "stream",
     "text": [
      "<class 'pandas.core.frame.DataFrame'>\n",
      "RangeIndex: 19439 entries, 0 to 19438\n",
      "Data columns (total 87 columns):\n",
      "date                                                  19439 non-null object\n",
      "final.output.concentrate_ag                           19438 non-null float64\n",
      "final.output.concentrate_pb                           19438 non-null float64\n",
      "final.output.concentrate_sol                          19228 non-null float64\n",
      "final.output.concentrate_au                           19439 non-null float64\n",
      "final.output.recovery                                 19439 non-null float64\n",
      "final.output.tail_ag                                  19438 non-null float64\n",
      "final.output.tail_pb                                  19338 non-null float64\n",
      "final.output.tail_sol                                 19433 non-null float64\n",
      "final.output.tail_au                                  19439 non-null float64\n",
      "primary_cleaner.input.sulfate                         19415 non-null float64\n",
      "primary_cleaner.input.depressant                      19402 non-null float64\n",
      "primary_cleaner.input.feed_size                       19439 non-null float64\n",
      "primary_cleaner.input.xanthate                        19335 non-null float64\n",
      "primary_cleaner.output.concentrate_ag                 19439 non-null float64\n",
      "primary_cleaner.output.concentrate_pb                 19323 non-null float64\n",
      "primary_cleaner.output.concentrate_sol                19069 non-null float64\n",
      "primary_cleaner.output.concentrate_au                 19439 non-null float64\n",
      "primary_cleaner.output.tail_ag                        19435 non-null float64\n",
      "primary_cleaner.output.tail_pb                        19418 non-null float64\n",
      "primary_cleaner.output.tail_sol                       19377 non-null float64\n",
      "primary_cleaner.output.tail_au                        19439 non-null float64\n",
      "primary_cleaner.state.floatbank8_a_air                19435 non-null float64\n",
      "primary_cleaner.state.floatbank8_a_level              19438 non-null float64\n",
      "primary_cleaner.state.floatbank8_b_air                19435 non-null float64\n",
      "primary_cleaner.state.floatbank8_b_level              19438 non-null float64\n",
      "primary_cleaner.state.floatbank8_c_air                19437 non-null float64\n",
      "primary_cleaner.state.floatbank8_c_level              19438 non-null float64\n",
      "primary_cleaner.state.floatbank8_d_air                19436 non-null float64\n",
      "primary_cleaner.state.floatbank8_d_level              19438 non-null float64\n",
      "rougher.calculation.sulfate_to_au_concentrate         19437 non-null float64\n",
      "rougher.calculation.floatbank10_sulfate_to_au_feed    19437 non-null float64\n",
      "rougher.calculation.floatbank11_sulfate_to_au_feed    19437 non-null float64\n",
      "rougher.calculation.au_pb_ratio                       19439 non-null float64\n",
      "rougher.input.feed_ag                                 19439 non-null float64\n",
      "rougher.input.feed_pb                                 19339 non-null float64\n",
      "rougher.input.feed_rate                               19428 non-null float64\n",
      "rougher.input.feed_size                               19294 non-null float64\n",
      "rougher.input.feed_sol                                19340 non-null float64\n",
      "rougher.input.feed_au                                 19439 non-null float64\n",
      "rougher.input.floatbank10_sulfate                     19405 non-null float64\n",
      "rougher.input.floatbank10_xanthate                    19431 non-null float64\n",
      "rougher.input.floatbank11_sulfate                     19395 non-null float64\n",
      "rougher.input.floatbank11_xanthate                    18986 non-null float64\n",
      "rougher.output.concentrate_ag                         19439 non-null float64\n",
      "rougher.output.concentrate_pb                         19439 non-null float64\n",
      "rougher.output.concentrate_sol                        19416 non-null float64\n",
      "rougher.output.concentrate_au                         19439 non-null float64\n",
      "rougher.output.recovery                               19439 non-null float64\n",
      "rougher.output.tail_ag                                19438 non-null float64\n",
      "rougher.output.tail_pb                                19439 non-null float64\n",
      "rougher.output.tail_sol                               19439 non-null float64\n",
      "rougher.output.tail_au                                19439 non-null float64\n",
      "rougher.state.floatbank10_a_air                       19438 non-null float64\n",
      "rougher.state.floatbank10_a_level                     19438 non-null float64\n",
      "rougher.state.floatbank10_b_air                       19438 non-null float64\n",
      "rougher.state.floatbank10_b_level                     19438 non-null float64\n",
      "rougher.state.floatbank10_c_air                       19438 non-null float64\n",
      "rougher.state.floatbank10_c_level                     19438 non-null float64\n",
      "rougher.state.floatbank10_d_air                       19439 non-null float64\n",
      "rougher.state.floatbank10_d_level                     19439 non-null float64\n",
      "rougher.state.floatbank10_e_air                       19003 non-null float64\n",
      "rougher.state.floatbank10_e_level                     19439 non-null float64\n",
      "rougher.state.floatbank10_f_air                       19439 non-null float64\n",
      "rougher.state.floatbank10_f_level                     19439 non-null float64\n",
      "secondary_cleaner.output.tail_ag                      19437 non-null float64\n",
      "secondary_cleaner.output.tail_pb                      19427 non-null float64\n",
      "secondary_cleaner.output.tail_sol                     17691 non-null float64\n",
      "secondary_cleaner.output.tail_au                      19439 non-null float64\n",
      "secondary_cleaner.state.floatbank2_a_air              19219 non-null float64\n",
      "secondary_cleaner.state.floatbank2_a_level            19438 non-null float64\n",
      "secondary_cleaner.state.floatbank2_b_air              19416 non-null float64\n",
      "secondary_cleaner.state.floatbank2_b_level            19438 non-null float64\n",
      "secondary_cleaner.state.floatbank3_a_air              19426 non-null float64\n",
      "secondary_cleaner.state.floatbank3_a_level            19438 non-null float64\n",
      "secondary_cleaner.state.floatbank3_b_air              19438 non-null float64\n",
      "secondary_cleaner.state.floatbank3_b_level            19438 non-null float64\n",
      "secondary_cleaner.state.floatbank4_a_air              19433 non-null float64\n",
      "secondary_cleaner.state.floatbank4_a_level            19438 non-null float64\n",
      "secondary_cleaner.state.floatbank4_b_air              19438 non-null float64\n",
      "secondary_cleaner.state.floatbank4_b_level            19438 non-null float64\n",
      "secondary_cleaner.state.floatbank5_a_air              19438 non-null float64\n",
      "secondary_cleaner.state.floatbank5_a_level            19438 non-null float64\n",
      "secondary_cleaner.state.floatbank5_b_air              19438 non-null float64\n",
      "secondary_cleaner.state.floatbank5_b_level            19438 non-null float64\n",
      "secondary_cleaner.state.floatbank6_a_air              19437 non-null float64\n",
      "secondary_cleaner.state.floatbank6_a_level            19438 non-null float64\n",
      "dtypes: float64(86), object(1)\n",
      "memory usage: 12.9+ MB\n"
     ]
    }
   ],
   "source": [
    "df_full.info()"
   ]
  },
  {
   "cell_type": "markdown",
   "metadata": {},
   "source": [
    "Снова 87 колонок и есть пропуски .Посмотрим на значения в таблицах"
   ]
  },
  {
   "cell_type": "code",
   "execution_count": 6,
   "metadata": {
    "scrolled": false
   },
   "outputs": [
    {
     "data": {
      "text/html": [
       "<div>\n",
       "<style scoped>\n",
       "    .dataframe tbody tr th:only-of-type {\n",
       "        vertical-align: middle;\n",
       "    }\n",
       "\n",
       "    .dataframe tbody tr th {\n",
       "        vertical-align: top;\n",
       "    }\n",
       "\n",
       "    .dataframe thead th {\n",
       "        text-align: right;\n",
       "    }\n",
       "</style>\n",
       "<table border=\"1\" class=\"dataframe\">\n",
       "  <thead>\n",
       "    <tr style=\"text-align: right;\">\n",
       "      <th></th>\n",
       "      <th>final.output.concentrate_ag</th>\n",
       "      <th>final.output.concentrate_pb</th>\n",
       "      <th>final.output.concentrate_sol</th>\n",
       "      <th>final.output.concentrate_au</th>\n",
       "      <th>final.output.recovery</th>\n",
       "      <th>final.output.tail_ag</th>\n",
       "      <th>final.output.tail_pb</th>\n",
       "      <th>final.output.tail_sol</th>\n",
       "      <th>final.output.tail_au</th>\n",
       "      <th>primary_cleaner.input.sulfate</th>\n",
       "      <th>...</th>\n",
       "      <th>secondary_cleaner.state.floatbank4_a_air</th>\n",
       "      <th>secondary_cleaner.state.floatbank4_a_level</th>\n",
       "      <th>secondary_cleaner.state.floatbank4_b_air</th>\n",
       "      <th>secondary_cleaner.state.floatbank4_b_level</th>\n",
       "      <th>secondary_cleaner.state.floatbank5_a_air</th>\n",
       "      <th>secondary_cleaner.state.floatbank5_a_level</th>\n",
       "      <th>secondary_cleaner.state.floatbank5_b_air</th>\n",
       "      <th>secondary_cleaner.state.floatbank5_b_level</th>\n",
       "      <th>secondary_cleaner.state.floatbank6_a_air</th>\n",
       "      <th>secondary_cleaner.state.floatbank6_a_level</th>\n",
       "    </tr>\n",
       "  </thead>\n",
       "  <tbody>\n",
       "    <tr>\n",
       "      <td>count</td>\n",
       "      <td>14148.000000</td>\n",
       "      <td>14148.000000</td>\n",
       "      <td>13938.000000</td>\n",
       "      <td>14149.000000</td>\n",
       "      <td>14149.000000</td>\n",
       "      <td>14149.000000</td>\n",
       "      <td>14049.000000</td>\n",
       "      <td>14144.000000</td>\n",
       "      <td>14149.000000</td>\n",
       "      <td>14129.000000</td>\n",
       "      <td>...</td>\n",
       "      <td>14143.000000</td>\n",
       "      <td>14148.000000</td>\n",
       "      <td>14148.000000</td>\n",
       "      <td>14148.000000</td>\n",
       "      <td>14148.000000</td>\n",
       "      <td>14148.000000</td>\n",
       "      <td>14148.000000</td>\n",
       "      <td>14148.000000</td>\n",
       "      <td>14147.000000</td>\n",
       "      <td>14148.000000</td>\n",
       "    </tr>\n",
       "    <tr>\n",
       "      <td>mean</td>\n",
       "      <td>5.142034</td>\n",
       "      <td>10.132960</td>\n",
       "      <td>9.202849</td>\n",
       "      <td>44.003792</td>\n",
       "      <td>66.518832</td>\n",
       "      <td>9.607035</td>\n",
       "      <td>2.597298</td>\n",
       "      <td>10.512122</td>\n",
       "      <td>2.918421</td>\n",
       "      <td>133.320659</td>\n",
       "      <td>...</td>\n",
       "      <td>19.985454</td>\n",
       "      <td>-478.696836</td>\n",
       "      <td>15.487065</td>\n",
       "      <td>-460.229416</td>\n",
       "      <td>16.775136</td>\n",
       "      <td>-483.956022</td>\n",
       "      <td>13.064590</td>\n",
       "      <td>-483.966564</td>\n",
       "      <td>19.577539</td>\n",
       "      <td>-506.798480</td>\n",
       "    </tr>\n",
       "    <tr>\n",
       "      <td>std</td>\n",
       "      <td>1.369586</td>\n",
       "      <td>1.654930</td>\n",
       "      <td>2.790516</td>\n",
       "      <td>4.905261</td>\n",
       "      <td>10.295402</td>\n",
       "      <td>2.319069</td>\n",
       "      <td>0.971843</td>\n",
       "      <td>3.003617</td>\n",
       "      <td>0.903712</td>\n",
       "      <td>39.431659</td>\n",
       "      <td>...</td>\n",
       "      <td>5.657723</td>\n",
       "      <td>50.736021</td>\n",
       "      <td>5.255655</td>\n",
       "      <td>58.843586</td>\n",
       "      <td>5.831906</td>\n",
       "      <td>37.892788</td>\n",
       "      <td>5.765617</td>\n",
       "      <td>39.207913</td>\n",
       "      <td>5.764417</td>\n",
       "      <td>37.079249</td>\n",
       "    </tr>\n",
       "    <tr>\n",
       "      <td>min</td>\n",
       "      <td>0.000000</td>\n",
       "      <td>0.000000</td>\n",
       "      <td>0.000000</td>\n",
       "      <td>0.000000</td>\n",
       "      <td>0.000000</td>\n",
       "      <td>0.000000</td>\n",
       "      <td>0.000000</td>\n",
       "      <td>0.000000</td>\n",
       "      <td>0.000000</td>\n",
       "      <td>0.003112</td>\n",
       "      <td>...</td>\n",
       "      <td>0.000000</td>\n",
       "      <td>-799.709069</td>\n",
       "      <td>0.000000</td>\n",
       "      <td>-799.889113</td>\n",
       "      <td>-0.372054</td>\n",
       "      <td>-797.142475</td>\n",
       "      <td>0.646208</td>\n",
       "      <td>-800.006180</td>\n",
       "      <td>0.195324</td>\n",
       "      <td>-809.398668</td>\n",
       "    </tr>\n",
       "    <tr>\n",
       "      <td>25%</td>\n",
       "      <td>4.211620</td>\n",
       "      <td>9.297355</td>\n",
       "      <td>7.484645</td>\n",
       "      <td>43.276111</td>\n",
       "      <td>62.545817</td>\n",
       "      <td>7.997429</td>\n",
       "      <td>1.905973</td>\n",
       "      <td>8.811324</td>\n",
       "      <td>2.368607</td>\n",
       "      <td>107.006651</td>\n",
       "      <td>...</td>\n",
       "      <td>14.990775</td>\n",
       "      <td>-500.628656</td>\n",
       "      <td>11.894558</td>\n",
       "      <td>-500.149000</td>\n",
       "      <td>11.083980</td>\n",
       "      <td>-500.363177</td>\n",
       "      <td>8.994405</td>\n",
       "      <td>-500.105994</td>\n",
       "      <td>14.989304</td>\n",
       "      <td>-500.745104</td>\n",
       "    </tr>\n",
       "    <tr>\n",
       "      <td>50%</td>\n",
       "      <td>4.994652</td>\n",
       "      <td>10.297144</td>\n",
       "      <td>8.845462</td>\n",
       "      <td>44.872436</td>\n",
       "      <td>67.432775</td>\n",
       "      <td>9.480270</td>\n",
       "      <td>2.592022</td>\n",
       "      <td>10.514621</td>\n",
       "      <td>2.851025</td>\n",
       "      <td>133.018328</td>\n",
       "      <td>...</td>\n",
       "      <td>20.001789</td>\n",
       "      <td>-499.681450</td>\n",
       "      <td>14.975536</td>\n",
       "      <td>-499.388738</td>\n",
       "      <td>17.932223</td>\n",
       "      <td>-499.702452</td>\n",
       "      <td>11.997547</td>\n",
       "      <td>-499.914556</td>\n",
       "      <td>19.984175</td>\n",
       "      <td>-500.061431</td>\n",
       "    </tr>\n",
       "    <tr>\n",
       "      <td>75%</td>\n",
       "      <td>5.859540</td>\n",
       "      <td>11.170603</td>\n",
       "      <td>10.487508</td>\n",
       "      <td>46.166425</td>\n",
       "      <td>72.346428</td>\n",
       "      <td>11.003707</td>\n",
       "      <td>3.241723</td>\n",
       "      <td>11.933009</td>\n",
       "      <td>3.434764</td>\n",
       "      <td>159.825396</td>\n",
       "      <td>...</td>\n",
       "      <td>24.990826</td>\n",
       "      <td>-477.472413</td>\n",
       "      <td>20.059375</td>\n",
       "      <td>-400.039008</td>\n",
       "      <td>21.346550</td>\n",
       "      <td>-487.712108</td>\n",
       "      <td>17.982903</td>\n",
       "      <td>-453.186936</td>\n",
       "      <td>24.991623</td>\n",
       "      <td>-499.536466</td>\n",
       "    </tr>\n",
       "    <tr>\n",
       "      <td>max</td>\n",
       "      <td>16.001945</td>\n",
       "      <td>17.031899</td>\n",
       "      <td>18.124851</td>\n",
       "      <td>52.756638</td>\n",
       "      <td>100.000000</td>\n",
       "      <td>19.552149</td>\n",
       "      <td>5.639565</td>\n",
       "      <td>22.317730</td>\n",
       "      <td>8.197408</td>\n",
       "      <td>250.127834</td>\n",
       "      <td>...</td>\n",
       "      <td>30.115735</td>\n",
       "      <td>-245.239184</td>\n",
       "      <td>24.007913</td>\n",
       "      <td>-145.071088</td>\n",
       "      <td>43.709931</td>\n",
       "      <td>-275.073125</td>\n",
       "      <td>27.926001</td>\n",
       "      <td>-157.396071</td>\n",
       "      <td>32.188906</td>\n",
       "      <td>-104.427459</td>\n",
       "    </tr>\n",
       "  </tbody>\n",
       "</table>\n",
       "<p>8 rows × 86 columns</p>\n",
       "</div>"
      ],
      "text/plain": [
       "       final.output.concentrate_ag  final.output.concentrate_pb  \\\n",
       "count                 14148.000000                 14148.000000   \n",
       "mean                      5.142034                    10.132960   \n",
       "std                       1.369586                     1.654930   \n",
       "min                       0.000000                     0.000000   \n",
       "25%                       4.211620                     9.297355   \n",
       "50%                       4.994652                    10.297144   \n",
       "75%                       5.859540                    11.170603   \n",
       "max                      16.001945                    17.031899   \n",
       "\n",
       "       final.output.concentrate_sol  final.output.concentrate_au  \\\n",
       "count                  13938.000000                 14149.000000   \n",
       "mean                       9.202849                    44.003792   \n",
       "std                        2.790516                     4.905261   \n",
       "min                        0.000000                     0.000000   \n",
       "25%                        7.484645                    43.276111   \n",
       "50%                        8.845462                    44.872436   \n",
       "75%                       10.487508                    46.166425   \n",
       "max                       18.124851                    52.756638   \n",
       "\n",
       "       final.output.recovery  final.output.tail_ag  final.output.tail_pb  \\\n",
       "count           14149.000000          14149.000000          14049.000000   \n",
       "mean               66.518832              9.607035              2.597298   \n",
       "std                10.295402              2.319069              0.971843   \n",
       "min                 0.000000              0.000000              0.000000   \n",
       "25%                62.545817              7.997429              1.905973   \n",
       "50%                67.432775              9.480270              2.592022   \n",
       "75%                72.346428             11.003707              3.241723   \n",
       "max               100.000000             19.552149              5.639565   \n",
       "\n",
       "       final.output.tail_sol  final.output.tail_au  \\\n",
       "count           14144.000000          14149.000000   \n",
       "mean               10.512122              2.918421   \n",
       "std                 3.003617              0.903712   \n",
       "min                 0.000000              0.000000   \n",
       "25%                 8.811324              2.368607   \n",
       "50%                10.514621              2.851025   \n",
       "75%                11.933009              3.434764   \n",
       "max                22.317730              8.197408   \n",
       "\n",
       "       primary_cleaner.input.sulfate  ...  \\\n",
       "count                   14129.000000  ...   \n",
       "mean                      133.320659  ...   \n",
       "std                        39.431659  ...   \n",
       "min                         0.003112  ...   \n",
       "25%                       107.006651  ...   \n",
       "50%                       133.018328  ...   \n",
       "75%                       159.825396  ...   \n",
       "max                       250.127834  ...   \n",
       "\n",
       "       secondary_cleaner.state.floatbank4_a_air  \\\n",
       "count                              14143.000000   \n",
       "mean                                  19.985454   \n",
       "std                                    5.657723   \n",
       "min                                    0.000000   \n",
       "25%                                   14.990775   \n",
       "50%                                   20.001789   \n",
       "75%                                   24.990826   \n",
       "max                                   30.115735   \n",
       "\n",
       "       secondary_cleaner.state.floatbank4_a_level  \\\n",
       "count                                14148.000000   \n",
       "mean                                  -478.696836   \n",
       "std                                     50.736021   \n",
       "min                                   -799.709069   \n",
       "25%                                   -500.628656   \n",
       "50%                                   -499.681450   \n",
       "75%                                   -477.472413   \n",
       "max                                   -245.239184   \n",
       "\n",
       "       secondary_cleaner.state.floatbank4_b_air  \\\n",
       "count                              14148.000000   \n",
       "mean                                  15.487065   \n",
       "std                                    5.255655   \n",
       "min                                    0.000000   \n",
       "25%                                   11.894558   \n",
       "50%                                   14.975536   \n",
       "75%                                   20.059375   \n",
       "max                                   24.007913   \n",
       "\n",
       "       secondary_cleaner.state.floatbank4_b_level  \\\n",
       "count                                14148.000000   \n",
       "mean                                  -460.229416   \n",
       "std                                     58.843586   \n",
       "min                                   -799.889113   \n",
       "25%                                   -500.149000   \n",
       "50%                                   -499.388738   \n",
       "75%                                   -400.039008   \n",
       "max                                   -145.071088   \n",
       "\n",
       "       secondary_cleaner.state.floatbank5_a_air  \\\n",
       "count                              14148.000000   \n",
       "mean                                  16.775136   \n",
       "std                                    5.831906   \n",
       "min                                   -0.372054   \n",
       "25%                                   11.083980   \n",
       "50%                                   17.932223   \n",
       "75%                                   21.346550   \n",
       "max                                   43.709931   \n",
       "\n",
       "       secondary_cleaner.state.floatbank5_a_level  \\\n",
       "count                                14148.000000   \n",
       "mean                                  -483.956022   \n",
       "std                                     37.892788   \n",
       "min                                   -797.142475   \n",
       "25%                                   -500.363177   \n",
       "50%                                   -499.702452   \n",
       "75%                                   -487.712108   \n",
       "max                                   -275.073125   \n",
       "\n",
       "       secondary_cleaner.state.floatbank5_b_air  \\\n",
       "count                              14148.000000   \n",
       "mean                                  13.064590   \n",
       "std                                    5.765617   \n",
       "min                                    0.646208   \n",
       "25%                                    8.994405   \n",
       "50%                                   11.997547   \n",
       "75%                                   17.982903   \n",
       "max                                   27.926001   \n",
       "\n",
       "       secondary_cleaner.state.floatbank5_b_level  \\\n",
       "count                                14148.000000   \n",
       "mean                                  -483.966564   \n",
       "std                                     39.207913   \n",
       "min                                   -800.006180   \n",
       "25%                                   -500.105994   \n",
       "50%                                   -499.914556   \n",
       "75%                                   -453.186936   \n",
       "max                                   -157.396071   \n",
       "\n",
       "       secondary_cleaner.state.floatbank6_a_air  \\\n",
       "count                              14147.000000   \n",
       "mean                                  19.577539   \n",
       "std                                    5.764417   \n",
       "min                                    0.195324   \n",
       "25%                                   14.989304   \n",
       "50%                                   19.984175   \n",
       "75%                                   24.991623   \n",
       "max                                   32.188906   \n",
       "\n",
       "       secondary_cleaner.state.floatbank6_a_level  \n",
       "count                                14148.000000  \n",
       "mean                                  -506.798480  \n",
       "std                                     37.079249  \n",
       "min                                   -809.398668  \n",
       "25%                                   -500.745104  \n",
       "50%                                   -500.061431  \n",
       "75%                                   -499.536466  \n",
       "max                                   -104.427459  \n",
       "\n",
       "[8 rows x 86 columns]"
      ]
     },
     "execution_count": 6,
     "metadata": {},
     "output_type": "execute_result"
    }
   ],
   "source": [
    "df_train.describe()"
   ]
  },
  {
   "cell_type": "markdown",
   "metadata": {},
   "source": [
    "Первое, что бросается в глаза - это отрицательные значения некоторых переменных. Однако, вероятно этo особенность технологического процесса."
   ]
  },
  {
   "cell_type": "code",
   "execution_count": 7,
   "metadata": {},
   "outputs": [
    {
     "data": {
      "text/html": [
       "<div>\n",
       "<style scoped>\n",
       "    .dataframe tbody tr th:only-of-type {\n",
       "        vertical-align: middle;\n",
       "    }\n",
       "\n",
       "    .dataframe tbody tr th {\n",
       "        vertical-align: top;\n",
       "    }\n",
       "\n",
       "    .dataframe thead th {\n",
       "        text-align: right;\n",
       "    }\n",
       "</style>\n",
       "<table border=\"1\" class=\"dataframe\">\n",
       "  <thead>\n",
       "    <tr style=\"text-align: right;\">\n",
       "      <th></th>\n",
       "      <th>primary_cleaner.input.sulfate</th>\n",
       "      <th>primary_cleaner.input.depressant</th>\n",
       "      <th>primary_cleaner.input.feed_size</th>\n",
       "      <th>primary_cleaner.input.xanthate</th>\n",
       "      <th>primary_cleaner.state.floatbank8_a_air</th>\n",
       "      <th>primary_cleaner.state.floatbank8_a_level</th>\n",
       "      <th>primary_cleaner.state.floatbank8_b_air</th>\n",
       "      <th>primary_cleaner.state.floatbank8_b_level</th>\n",
       "      <th>primary_cleaner.state.floatbank8_c_air</th>\n",
       "      <th>primary_cleaner.state.floatbank8_c_level</th>\n",
       "      <th>...</th>\n",
       "      <th>secondary_cleaner.state.floatbank4_a_air</th>\n",
       "      <th>secondary_cleaner.state.floatbank4_a_level</th>\n",
       "      <th>secondary_cleaner.state.floatbank4_b_air</th>\n",
       "      <th>secondary_cleaner.state.floatbank4_b_level</th>\n",
       "      <th>secondary_cleaner.state.floatbank5_a_air</th>\n",
       "      <th>secondary_cleaner.state.floatbank5_a_level</th>\n",
       "      <th>secondary_cleaner.state.floatbank5_b_air</th>\n",
       "      <th>secondary_cleaner.state.floatbank5_b_level</th>\n",
       "      <th>secondary_cleaner.state.floatbank6_a_air</th>\n",
       "      <th>secondary_cleaner.state.floatbank6_a_level</th>\n",
       "    </tr>\n",
       "  </thead>\n",
       "  <tbody>\n",
       "    <tr>\n",
       "      <td>count</td>\n",
       "      <td>5286.000000</td>\n",
       "      <td>5285.000000</td>\n",
       "      <td>5290.000000</td>\n",
       "      <td>5286.000000</td>\n",
       "      <td>5.290000e+03</td>\n",
       "      <td>5290.000000</td>\n",
       "      <td>5.290000e+03</td>\n",
       "      <td>5290.000000</td>\n",
       "      <td>5.290000e+03</td>\n",
       "      <td>5290.000000</td>\n",
       "      <td>...</td>\n",
       "      <td>5.290000e+03</td>\n",
       "      <td>5290.000000</td>\n",
       "      <td>5.290000e+03</td>\n",
       "      <td>5290.000000</td>\n",
       "      <td>5290.000000</td>\n",
       "      <td>5290.000000</td>\n",
       "      <td>5290.000000</td>\n",
       "      <td>5290.000000</td>\n",
       "      <td>5290.000000</td>\n",
       "      <td>5290.000000</td>\n",
       "    </tr>\n",
       "    <tr>\n",
       "      <td>mean</td>\n",
       "      <td>174.839652</td>\n",
       "      <td>8.683596</td>\n",
       "      <td>7.266339</td>\n",
       "      <td>1.383803</td>\n",
       "      <td>1.539494e+03</td>\n",
       "      <td>-497.665883</td>\n",
       "      <td>1.545174e+03</td>\n",
       "      <td>-500.273098</td>\n",
       "      <td>1.527272e+03</td>\n",
       "      <td>-498.330680</td>\n",
       "      <td>...</td>\n",
       "      <td>1.632007e+01</td>\n",
       "      <td>-505.144570</td>\n",
       "      <td>1.373544e+01</td>\n",
       "      <td>-463.349858</td>\n",
       "      <td>12.804186</td>\n",
       "      <td>-501.329122</td>\n",
       "      <td>9.881145</td>\n",
       "      <td>-495.663398</td>\n",
       "      <td>17.304935</td>\n",
       "      <td>-501.793193</td>\n",
       "    </tr>\n",
       "    <tr>\n",
       "      <td>std</td>\n",
       "      <td>43.027080</td>\n",
       "      <td>3.072050</td>\n",
       "      <td>0.610219</td>\n",
       "      <td>0.643474</td>\n",
       "      <td>1.167979e+02</td>\n",
       "      <td>19.952431</td>\n",
       "      <td>1.222246e+02</td>\n",
       "      <td>32.968307</td>\n",
       "      <td>1.225380e+02</td>\n",
       "      <td>21.964876</td>\n",
       "      <td>...</td>\n",
       "      <td>3.493583e+00</td>\n",
       "      <td>31.427337</td>\n",
       "      <td>3.430484e+00</td>\n",
       "      <td>86.189107</td>\n",
       "      <td>3.026591</td>\n",
       "      <td>17.951495</td>\n",
       "      <td>2.868205</td>\n",
       "      <td>34.535007</td>\n",
       "      <td>4.536544</td>\n",
       "      <td>39.044215</td>\n",
       "    </tr>\n",
       "    <tr>\n",
       "      <td>min</td>\n",
       "      <td>2.566156</td>\n",
       "      <td>0.003839</td>\n",
       "      <td>5.650000</td>\n",
       "      <td>0.004984</td>\n",
       "      <td>5.445860e-32</td>\n",
       "      <td>-795.316337</td>\n",
       "      <td>6.647490e-32</td>\n",
       "      <td>-799.997015</td>\n",
       "      <td>4.033736e-32</td>\n",
       "      <td>-799.960571</td>\n",
       "      <td>...</td>\n",
       "      <td>1.079872e-16</td>\n",
       "      <td>-799.798523</td>\n",
       "      <td>2.489718e-17</td>\n",
       "      <td>-800.836914</td>\n",
       "      <td>0.069227</td>\n",
       "      <td>-797.323986</td>\n",
       "      <td>0.528083</td>\n",
       "      <td>-800.220337</td>\n",
       "      <td>-0.079426</td>\n",
       "      <td>-809.741464</td>\n",
       "    </tr>\n",
       "    <tr>\n",
       "      <td>25%</td>\n",
       "      <td>147.121401</td>\n",
       "      <td>6.489555</td>\n",
       "      <td>6.890000</td>\n",
       "      <td>0.907623</td>\n",
       "      <td>1.498936e+03</td>\n",
       "      <td>-500.357298</td>\n",
       "      <td>1.498971e+03</td>\n",
       "      <td>-500.703002</td>\n",
       "      <td>1.473230e+03</td>\n",
       "      <td>-501.018117</td>\n",
       "      <td>...</td>\n",
       "      <td>1.403618e+01</td>\n",
       "      <td>-500.868258</td>\n",
       "      <td>1.202862e+01</td>\n",
       "      <td>-500.323028</td>\n",
       "      <td>10.914838</td>\n",
       "      <td>-500.726841</td>\n",
       "      <td>8.036719</td>\n",
       "      <td>-500.194668</td>\n",
       "      <td>13.997317</td>\n",
       "      <td>-500.690984</td>\n",
       "    </tr>\n",
       "    <tr>\n",
       "      <td>50%</td>\n",
       "      <td>177.828489</td>\n",
       "      <td>8.052207</td>\n",
       "      <td>7.250000</td>\n",
       "      <td>1.197610</td>\n",
       "      <td>1.585129e+03</td>\n",
       "      <td>-499.969164</td>\n",
       "      <td>1.595622e+03</td>\n",
       "      <td>-500.028514</td>\n",
       "      <td>1.549595e+03</td>\n",
       "      <td>-500.017711</td>\n",
       "      <td>...</td>\n",
       "      <td>1.700847e+01</td>\n",
       "      <td>-500.115727</td>\n",
       "      <td>1.496486e+01</td>\n",
       "      <td>-499.576513</td>\n",
       "      <td>12.954182</td>\n",
       "      <td>-499.990332</td>\n",
       "      <td>10.004301</td>\n",
       "      <td>-499.990535</td>\n",
       "      <td>16.014935</td>\n",
       "      <td>-500.007126</td>\n",
       "    </tr>\n",
       "    <tr>\n",
       "      <td>75%</td>\n",
       "      <td>208.125438</td>\n",
       "      <td>10.027764</td>\n",
       "      <td>7.600000</td>\n",
       "      <td>1.797819</td>\n",
       "      <td>1.602077e+03</td>\n",
       "      <td>-499.568951</td>\n",
       "      <td>1.602324e+03</td>\n",
       "      <td>-499.293257</td>\n",
       "      <td>1.601144e+03</td>\n",
       "      <td>-498.994130</td>\n",
       "      <td>...</td>\n",
       "      <td>1.803862e+01</td>\n",
       "      <td>-499.404224</td>\n",
       "      <td>1.596213e+01</td>\n",
       "      <td>-400.933805</td>\n",
       "      <td>15.097528</td>\n",
       "      <td>-499.283191</td>\n",
       "      <td>11.997467</td>\n",
       "      <td>-499.719913</td>\n",
       "      <td>21.020013</td>\n",
       "      <td>-499.373018</td>\n",
       "    </tr>\n",
       "    <tr>\n",
       "      <td>max</td>\n",
       "      <td>265.983123</td>\n",
       "      <td>40.000000</td>\n",
       "      <td>15.500000</td>\n",
       "      <td>4.102454</td>\n",
       "      <td>2.103104e+03</td>\n",
       "      <td>-57.195404</td>\n",
       "      <td>1.813084e+03</td>\n",
       "      <td>-142.527229</td>\n",
       "      <td>1.715054e+03</td>\n",
       "      <td>-150.937035</td>\n",
       "      <td>...</td>\n",
       "      <td>3.005180e+01</td>\n",
       "      <td>-401.565212</td>\n",
       "      <td>3.126971e+01</td>\n",
       "      <td>-6.506986</td>\n",
       "      <td>25.258848</td>\n",
       "      <td>-244.483566</td>\n",
       "      <td>14.086866</td>\n",
       "      <td>-137.740004</td>\n",
       "      <td>26.705889</td>\n",
       "      <td>-123.307487</td>\n",
       "    </tr>\n",
       "  </tbody>\n",
       "</table>\n",
       "<p>8 rows × 52 columns</p>\n",
       "</div>"
      ],
      "text/plain": [
       "       primary_cleaner.input.sulfate  primary_cleaner.input.depressant  \\\n",
       "count                    5286.000000                       5285.000000   \n",
       "mean                      174.839652                          8.683596   \n",
       "std                        43.027080                          3.072050   \n",
       "min                         2.566156                          0.003839   \n",
       "25%                       147.121401                          6.489555   \n",
       "50%                       177.828489                          8.052207   \n",
       "75%                       208.125438                         10.027764   \n",
       "max                       265.983123                         40.000000   \n",
       "\n",
       "       primary_cleaner.input.feed_size  primary_cleaner.input.xanthate  \\\n",
       "count                      5290.000000                     5286.000000   \n",
       "mean                          7.266339                        1.383803   \n",
       "std                           0.610219                        0.643474   \n",
       "min                           5.650000                        0.004984   \n",
       "25%                           6.890000                        0.907623   \n",
       "50%                           7.250000                        1.197610   \n",
       "75%                           7.600000                        1.797819   \n",
       "max                          15.500000                        4.102454   \n",
       "\n",
       "       primary_cleaner.state.floatbank8_a_air  \\\n",
       "count                            5.290000e+03   \n",
       "mean                             1.539494e+03   \n",
       "std                              1.167979e+02   \n",
       "min                              5.445860e-32   \n",
       "25%                              1.498936e+03   \n",
       "50%                              1.585129e+03   \n",
       "75%                              1.602077e+03   \n",
       "max                              2.103104e+03   \n",
       "\n",
       "       primary_cleaner.state.floatbank8_a_level  \\\n",
       "count                               5290.000000   \n",
       "mean                                -497.665883   \n",
       "std                                   19.952431   \n",
       "min                                 -795.316337   \n",
       "25%                                 -500.357298   \n",
       "50%                                 -499.969164   \n",
       "75%                                 -499.568951   \n",
       "max                                  -57.195404   \n",
       "\n",
       "       primary_cleaner.state.floatbank8_b_air  \\\n",
       "count                            5.290000e+03   \n",
       "mean                             1.545174e+03   \n",
       "std                              1.222246e+02   \n",
       "min                              6.647490e-32   \n",
       "25%                              1.498971e+03   \n",
       "50%                              1.595622e+03   \n",
       "75%                              1.602324e+03   \n",
       "max                              1.813084e+03   \n",
       "\n",
       "       primary_cleaner.state.floatbank8_b_level  \\\n",
       "count                               5290.000000   \n",
       "mean                                -500.273098   \n",
       "std                                   32.968307   \n",
       "min                                 -799.997015   \n",
       "25%                                 -500.703002   \n",
       "50%                                 -500.028514   \n",
       "75%                                 -499.293257   \n",
       "max                                 -142.527229   \n",
       "\n",
       "       primary_cleaner.state.floatbank8_c_air  \\\n",
       "count                            5.290000e+03   \n",
       "mean                             1.527272e+03   \n",
       "std                              1.225380e+02   \n",
       "min                              4.033736e-32   \n",
       "25%                              1.473230e+03   \n",
       "50%                              1.549595e+03   \n",
       "75%                              1.601144e+03   \n",
       "max                              1.715054e+03   \n",
       "\n",
       "       primary_cleaner.state.floatbank8_c_level  ...  \\\n",
       "count                               5290.000000  ...   \n",
       "mean                                -498.330680  ...   \n",
       "std                                   21.964876  ...   \n",
       "min                                 -799.960571  ...   \n",
       "25%                                 -501.018117  ...   \n",
       "50%                                 -500.017711  ...   \n",
       "75%                                 -498.994130  ...   \n",
       "max                                 -150.937035  ...   \n",
       "\n",
       "       secondary_cleaner.state.floatbank4_a_air  \\\n",
       "count                              5.290000e+03   \n",
       "mean                               1.632007e+01   \n",
       "std                                3.493583e+00   \n",
       "min                                1.079872e-16   \n",
       "25%                                1.403618e+01   \n",
       "50%                                1.700847e+01   \n",
       "75%                                1.803862e+01   \n",
       "max                                3.005180e+01   \n",
       "\n",
       "       secondary_cleaner.state.floatbank4_a_level  \\\n",
       "count                                 5290.000000   \n",
       "mean                                  -505.144570   \n",
       "std                                     31.427337   \n",
       "min                                   -799.798523   \n",
       "25%                                   -500.868258   \n",
       "50%                                   -500.115727   \n",
       "75%                                   -499.404224   \n",
       "max                                   -401.565212   \n",
       "\n",
       "       secondary_cleaner.state.floatbank4_b_air  \\\n",
       "count                              5.290000e+03   \n",
       "mean                               1.373544e+01   \n",
       "std                                3.430484e+00   \n",
       "min                                2.489718e-17   \n",
       "25%                                1.202862e+01   \n",
       "50%                                1.496486e+01   \n",
       "75%                                1.596213e+01   \n",
       "max                                3.126971e+01   \n",
       "\n",
       "       secondary_cleaner.state.floatbank4_b_level  \\\n",
       "count                                 5290.000000   \n",
       "mean                                  -463.349858   \n",
       "std                                     86.189107   \n",
       "min                                   -800.836914   \n",
       "25%                                   -500.323028   \n",
       "50%                                   -499.576513   \n",
       "75%                                   -400.933805   \n",
       "max                                     -6.506986   \n",
       "\n",
       "       secondary_cleaner.state.floatbank5_a_air  \\\n",
       "count                               5290.000000   \n",
       "mean                                  12.804186   \n",
       "std                                    3.026591   \n",
       "min                                    0.069227   \n",
       "25%                                   10.914838   \n",
       "50%                                   12.954182   \n",
       "75%                                   15.097528   \n",
       "max                                   25.258848   \n",
       "\n",
       "       secondary_cleaner.state.floatbank5_a_level  \\\n",
       "count                                 5290.000000   \n",
       "mean                                  -501.329122   \n",
       "std                                     17.951495   \n",
       "min                                   -797.323986   \n",
       "25%                                   -500.726841   \n",
       "50%                                   -499.990332   \n",
       "75%                                   -499.283191   \n",
       "max                                   -244.483566   \n",
       "\n",
       "       secondary_cleaner.state.floatbank5_b_air  \\\n",
       "count                               5290.000000   \n",
       "mean                                   9.881145   \n",
       "std                                    2.868205   \n",
       "min                                    0.528083   \n",
       "25%                                    8.036719   \n",
       "50%                                   10.004301   \n",
       "75%                                   11.997467   \n",
       "max                                   14.086866   \n",
       "\n",
       "       secondary_cleaner.state.floatbank5_b_level  \\\n",
       "count                                 5290.000000   \n",
       "mean                                  -495.663398   \n",
       "std                                     34.535007   \n",
       "min                                   -800.220337   \n",
       "25%                                   -500.194668   \n",
       "50%                                   -499.990535   \n",
       "75%                                   -499.719913   \n",
       "max                                   -137.740004   \n",
       "\n",
       "       secondary_cleaner.state.floatbank6_a_air  \\\n",
       "count                               5290.000000   \n",
       "mean                                  17.304935   \n",
       "std                                    4.536544   \n",
       "min                                   -0.079426   \n",
       "25%                                   13.997317   \n",
       "50%                                   16.014935   \n",
       "75%                                   21.020013   \n",
       "max                                   26.705889   \n",
       "\n",
       "       secondary_cleaner.state.floatbank6_a_level  \n",
       "count                                 5290.000000  \n",
       "mean                                  -501.793193  \n",
       "std                                     39.044215  \n",
       "min                                   -809.741464  \n",
       "25%                                   -500.690984  \n",
       "50%                                   -500.007126  \n",
       "75%                                   -499.373018  \n",
       "max                                   -123.307487  \n",
       "\n",
       "[8 rows x 52 columns]"
      ]
     },
     "execution_count": 7,
     "metadata": {},
     "output_type": "execute_result"
    }
   ],
   "source": [
    "df_test.describe()"
   ]
  },
  {
   "cell_type": "markdown",
   "metadata": {},
   "source": [
    "### Эффективность обогащения флотации"
   ]
  },
  {
   "cell_type": "markdown",
   "metadata": {},
   "source": [
    "Определим эффективность обогощения флотации расчётным путём. Для этого будем использовать формулу"
   ]
  },
  {
   "cell_type": "markdown",
   "metadata": {},
   "source": [
    "\\begin{equation}\n",
    "   \\label{eq:normal_dist}\n",
    "   \\ Recovery= \\frac{C\\cdot(F-T)}{F\\cdot(C-T)}\\cdot100\\%\n",
    " \\end{equation}"
   ]
  },
  {
   "cell_type": "markdown",
   "metadata": {},
   "source": [
    "где:\n",
    "* *C* — доля золота в концентрате после флотации/очистки;\n",
    "* *F* — доля золота в сырье/концентрате до флотации/очистки;\n",
    "* *T* — доля золота в отвальных хвостах после флотации/очистки.\n",
    "\n",
    "Результат расчёта сохраним в `rougher.calculation.recovery`"
   ]
  },
  {
   "cell_type": "code",
   "execution_count": 8,
   "metadata": {},
   "outputs": [],
   "source": [
    "df_train['rougher.calculation.recovery'] = (df_train['rougher.output.concentrate_au']*(\n",
    "    df_train['rougher.input.feed_au']-df_train['rougher.output.tail_au'])/(df_train['rougher.input.feed_au']*(\n",
    "df_train['rougher.output.concentrate_au']-df_train['rougher.output.tail_au'])))*100"
   ]
  },
  {
   "cell_type": "markdown",
   "metadata": {},
   "source": [
    "Определим MAE результата расчёта и того числа, что указанов таблице."
   ]
  },
  {
   "cell_type": "code",
   "execution_count": 9,
   "metadata": {},
   "outputs": [
    {
     "data": {
      "text/plain": [
       "9.682896147825551e-15"
      ]
     },
     "execution_count": 9,
     "metadata": {},
     "output_type": "execute_result"
    }
   ],
   "source": [
    "mean_absolute_error(df_train['rougher.calculation.recovery'],df_train['rougher.output.recovery'])"
   ]
  },
  {
   "cell_type": "markdown",
   "metadata": {},
   "source": [
    "Получили практически нулевой результат. Это говорит о том, что расчитанное значение соответствует значению в таблице."
   ]
  },
  {
   "cell_type": "markdown",
   "metadata": {},
   "source": [
    "### Признаки, недоступные в тестовой выборке"
   ]
  },
  {
   "cell_type": "markdown",
   "metadata": {},
   "source": [
    "Получим список признаков которые есть в тренировочном наборе, но нет в тестовом"
   ]
  },
  {
   "cell_type": "code",
   "execution_count": 10,
   "metadata": {},
   "outputs": [],
   "source": [
    "col=[i for i in df_train.columns if i not in df_test.columns]"
   ]
  },
  {
   "cell_type": "code",
   "execution_count": 11,
   "metadata": {},
   "outputs": [
    {
     "data": {
      "text/plain": [
       "['final.output.concentrate_ag',\n",
       " 'final.output.concentrate_pb',\n",
       " 'final.output.concentrate_sol',\n",
       " 'final.output.concentrate_au',\n",
       " 'final.output.recovery',\n",
       " 'final.output.tail_ag',\n",
       " 'final.output.tail_pb',\n",
       " 'final.output.tail_sol',\n",
       " 'final.output.tail_au',\n",
       " 'primary_cleaner.output.concentrate_ag',\n",
       " 'primary_cleaner.output.concentrate_pb',\n",
       " 'primary_cleaner.output.concentrate_sol',\n",
       " 'primary_cleaner.output.concentrate_au',\n",
       " 'primary_cleaner.output.tail_ag',\n",
       " 'primary_cleaner.output.tail_pb',\n",
       " 'primary_cleaner.output.tail_sol',\n",
       " 'primary_cleaner.output.tail_au',\n",
       " 'rougher.calculation.sulfate_to_au_concentrate',\n",
       " 'rougher.calculation.floatbank10_sulfate_to_au_feed',\n",
       " 'rougher.calculation.floatbank11_sulfate_to_au_feed',\n",
       " 'rougher.calculation.au_pb_ratio',\n",
       " 'rougher.output.concentrate_ag',\n",
       " 'rougher.output.concentrate_pb',\n",
       " 'rougher.output.concentrate_sol',\n",
       " 'rougher.output.concentrate_au',\n",
       " 'rougher.output.recovery',\n",
       " 'rougher.output.tail_ag',\n",
       " 'rougher.output.tail_pb',\n",
       " 'rougher.output.tail_sol',\n",
       " 'rougher.output.tail_au',\n",
       " 'secondary_cleaner.output.tail_ag',\n",
       " 'secondary_cleaner.output.tail_pb',\n",
       " 'secondary_cleaner.output.tail_sol',\n",
       " 'secondary_cleaner.output.tail_au',\n",
       " 'rougher.calculation.recovery']"
      ]
     },
     "execution_count": 11,
     "metadata": {},
     "output_type": "execute_result"
    }
   ],
   "source": [
    "col"
   ]
  },
  {
   "cell_type": "code",
   "execution_count": 12,
   "metadata": {},
   "outputs": [
    {
     "data": {
      "text/plain": [
       "35"
      ]
     },
     "execution_count": 12,
     "metadata": {},
     "output_type": "execute_result"
    }
   ],
   "source": [
    "len(col)"
   ]
  },
  {
   "cell_type": "markdown",
   "metadata": {},
   "source": [
    "Как можно видеть, в тестовой выборке отсутствуют результаты концентрации и хвостов после всех этапов в отдельности и после всех вместе(`final.output...`, `rougher.output...`, `primary_cleaner.output...`, `secondary_cleaner.output...`), а также расчёты целевых показателей `rougher.output.recovery`, `final.output.recovery` и некоторых других величин."
   ]
  },
  {
   "cell_type": "markdown",
   "metadata": {},
   "source": [
    "### Предобработка данных"
   ]
  },
  {
   "cell_type": "markdown",
   "metadata": {},
   "source": [
    "На всякий случай проверим наличие добликатов в таблицах."
   ]
  },
  {
   "cell_type": "code",
   "execution_count": 13,
   "metadata": {},
   "outputs": [
    {
     "data": {
      "text/plain": [
       "(0, 0, 0)"
      ]
     },
     "execution_count": 13,
     "metadata": {},
     "output_type": "execute_result"
    }
   ],
   "source": [
    "df_train.duplicated().sum(), df_test.duplicated().sum(), df_full.duplicated().sum(), "
   ]
  },
  {
   "cell_type": "markdown",
   "metadata": {},
   "source": [
    "Отлично, дубликаты отсутствуют. Для тестовой выборки необходимо добавить значения целевых признаков. Для этого для записей в тестовой выборке необходимо брать значения полного файла. Главным индикатором того, что это относится к одной записи в разных файлах будет служить дата. Логично сделать её индексом."
   ]
  },
  {
   "cell_type": "code",
   "execution_count": 14,
   "metadata": {},
   "outputs": [],
   "source": [
    "df_test=df_test.set_index('date')"
   ]
  },
  {
   "cell_type": "code",
   "execution_count": 15,
   "metadata": {},
   "outputs": [],
   "source": [
    "df_train=df_train.set_index('date')"
   ]
  },
  {
   "cell_type": "code",
   "execution_count": 16,
   "metadata": {},
   "outputs": [],
   "source": [
    "df_full=df_full.set_index('date')"
   ]
  },
  {
   "cell_type": "markdown",
   "metadata": {},
   "source": [
    "Теперь добавим в тестовую выборку значения целевых показателей"
   ]
  },
  {
   "cell_type": "code",
   "execution_count": 17,
   "metadata": {
    "scrolled": false
   },
   "outputs": [],
   "source": [
    "df_test = df_test.join(df_full[['final.output.recovery', 'rougher.output.recovery']], on='date' )"
   ]
  },
  {
   "cell_type": "code",
   "execution_count": 18,
   "metadata": {
    "scrolled": true
   },
   "outputs": [
    {
     "data": {
      "text/html": [
       "<div>\n",
       "<style scoped>\n",
       "    .dataframe tbody tr th:only-of-type {\n",
       "        vertical-align: middle;\n",
       "    }\n",
       "\n",
       "    .dataframe tbody tr th {\n",
       "        vertical-align: top;\n",
       "    }\n",
       "\n",
       "    .dataframe thead th {\n",
       "        text-align: right;\n",
       "    }\n",
       "</style>\n",
       "<table border=\"1\" class=\"dataframe\">\n",
       "  <thead>\n",
       "    <tr style=\"text-align: right;\">\n",
       "      <th></th>\n",
       "      <th>primary_cleaner.input.sulfate</th>\n",
       "      <th>primary_cleaner.input.depressant</th>\n",
       "      <th>primary_cleaner.input.feed_size</th>\n",
       "      <th>primary_cleaner.input.xanthate</th>\n",
       "      <th>primary_cleaner.state.floatbank8_a_air</th>\n",
       "      <th>primary_cleaner.state.floatbank8_a_level</th>\n",
       "      <th>primary_cleaner.state.floatbank8_b_air</th>\n",
       "      <th>primary_cleaner.state.floatbank8_b_level</th>\n",
       "      <th>primary_cleaner.state.floatbank8_c_air</th>\n",
       "      <th>primary_cleaner.state.floatbank8_c_level</th>\n",
       "      <th>...</th>\n",
       "      <th>secondary_cleaner.state.floatbank4_b_air</th>\n",
       "      <th>secondary_cleaner.state.floatbank4_b_level</th>\n",
       "      <th>secondary_cleaner.state.floatbank5_a_air</th>\n",
       "      <th>secondary_cleaner.state.floatbank5_a_level</th>\n",
       "      <th>secondary_cleaner.state.floatbank5_b_air</th>\n",
       "      <th>secondary_cleaner.state.floatbank5_b_level</th>\n",
       "      <th>secondary_cleaner.state.floatbank6_a_air</th>\n",
       "      <th>secondary_cleaner.state.floatbank6_a_level</th>\n",
       "      <th>final.output.recovery</th>\n",
       "      <th>rougher.output.recovery</th>\n",
       "    </tr>\n",
       "    <tr>\n",
       "      <th>date</th>\n",
       "      <th></th>\n",
       "      <th></th>\n",
       "      <th></th>\n",
       "      <th></th>\n",
       "      <th></th>\n",
       "      <th></th>\n",
       "      <th></th>\n",
       "      <th></th>\n",
       "      <th></th>\n",
       "      <th></th>\n",
       "      <th></th>\n",
       "      <th></th>\n",
       "      <th></th>\n",
       "      <th></th>\n",
       "      <th></th>\n",
       "      <th></th>\n",
       "      <th></th>\n",
       "      <th></th>\n",
       "      <th></th>\n",
       "      <th></th>\n",
       "      <th></th>\n",
       "    </tr>\n",
       "  </thead>\n",
       "  <tbody>\n",
       "    <tr>\n",
       "      <td>2016-09-01 00:59:59</td>\n",
       "      <td>210.800909</td>\n",
       "      <td>14.993118</td>\n",
       "      <td>8.080000</td>\n",
       "      <td>1.005021</td>\n",
       "      <td>1398.981301</td>\n",
       "      <td>-500.225577</td>\n",
       "      <td>1399.144926</td>\n",
       "      <td>-499.919735</td>\n",
       "      <td>1400.102998</td>\n",
       "      <td>-500.704369</td>\n",
       "      <td>...</td>\n",
       "      <td>8.016656</td>\n",
       "      <td>-501.289139</td>\n",
       "      <td>7.946562</td>\n",
       "      <td>-432.317850</td>\n",
       "      <td>4.872511</td>\n",
       "      <td>-500.037437</td>\n",
       "      <td>26.705889</td>\n",
       "      <td>-499.709414</td>\n",
       "      <td>70.273583</td>\n",
       "      <td>89.993421</td>\n",
       "    </tr>\n",
       "    <tr>\n",
       "      <td>2016-09-01 01:59:59</td>\n",
       "      <td>215.392455</td>\n",
       "      <td>14.987471</td>\n",
       "      <td>8.080000</td>\n",
       "      <td>0.990469</td>\n",
       "      <td>1398.777912</td>\n",
       "      <td>-500.057435</td>\n",
       "      <td>1398.055362</td>\n",
       "      <td>-499.778182</td>\n",
       "      <td>1396.151033</td>\n",
       "      <td>-499.240168</td>\n",
       "      <td>...</td>\n",
       "      <td>8.130979</td>\n",
       "      <td>-499.634209</td>\n",
       "      <td>7.958270</td>\n",
       "      <td>-525.839648</td>\n",
       "      <td>4.878850</td>\n",
       "      <td>-500.162375</td>\n",
       "      <td>25.019940</td>\n",
       "      <td>-499.819438</td>\n",
       "      <td>68.910432</td>\n",
       "      <td>88.089657</td>\n",
       "    </tr>\n",
       "    <tr>\n",
       "      <td>2016-09-01 02:59:59</td>\n",
       "      <td>215.259946</td>\n",
       "      <td>12.884934</td>\n",
       "      <td>7.786667</td>\n",
       "      <td>0.996043</td>\n",
       "      <td>1398.493666</td>\n",
       "      <td>-500.868360</td>\n",
       "      <td>1398.860436</td>\n",
       "      <td>-499.764529</td>\n",
       "      <td>1398.075709</td>\n",
       "      <td>-502.151509</td>\n",
       "      <td>...</td>\n",
       "      <td>8.096893</td>\n",
       "      <td>-500.827423</td>\n",
       "      <td>8.071056</td>\n",
       "      <td>-500.801673</td>\n",
       "      <td>4.905125</td>\n",
       "      <td>-499.828510</td>\n",
       "      <td>24.994862</td>\n",
       "      <td>-500.622559</td>\n",
       "      <td>68.143213</td>\n",
       "      <td>88.412756</td>\n",
       "    </tr>\n",
       "    <tr>\n",
       "      <td>2016-09-01 03:59:59</td>\n",
       "      <td>215.336236</td>\n",
       "      <td>12.006805</td>\n",
       "      <td>7.640000</td>\n",
       "      <td>0.863514</td>\n",
       "      <td>1399.618111</td>\n",
       "      <td>-498.863574</td>\n",
       "      <td>1397.440120</td>\n",
       "      <td>-499.211024</td>\n",
       "      <td>1400.129303</td>\n",
       "      <td>-498.355873</td>\n",
       "      <td>...</td>\n",
       "      <td>8.074946</td>\n",
       "      <td>-499.474407</td>\n",
       "      <td>7.897085</td>\n",
       "      <td>-500.868509</td>\n",
       "      <td>4.931400</td>\n",
       "      <td>-499.963623</td>\n",
       "      <td>24.948919</td>\n",
       "      <td>-498.709987</td>\n",
       "      <td>67.776393</td>\n",
       "      <td>87.360133</td>\n",
       "    </tr>\n",
       "    <tr>\n",
       "      <td>2016-09-01 04:59:59</td>\n",
       "      <td>199.099327</td>\n",
       "      <td>10.682530</td>\n",
       "      <td>7.530000</td>\n",
       "      <td>0.805575</td>\n",
       "      <td>1401.268123</td>\n",
       "      <td>-500.808305</td>\n",
       "      <td>1398.128818</td>\n",
       "      <td>-499.504543</td>\n",
       "      <td>1402.172226</td>\n",
       "      <td>-500.810606</td>\n",
       "      <td>...</td>\n",
       "      <td>8.054678</td>\n",
       "      <td>-500.397500</td>\n",
       "      <td>8.107890</td>\n",
       "      <td>-509.526725</td>\n",
       "      <td>4.957674</td>\n",
       "      <td>-500.360026</td>\n",
       "      <td>25.003331</td>\n",
       "      <td>-500.856333</td>\n",
       "      <td>61.467078</td>\n",
       "      <td>83.236367</td>\n",
       "    </tr>\n",
       "  </tbody>\n",
       "</table>\n",
       "<p>5 rows × 54 columns</p>\n",
       "</div>"
      ],
      "text/plain": [
       "                     primary_cleaner.input.sulfate  \\\n",
       "date                                                 \n",
       "2016-09-01 00:59:59                     210.800909   \n",
       "2016-09-01 01:59:59                     215.392455   \n",
       "2016-09-01 02:59:59                     215.259946   \n",
       "2016-09-01 03:59:59                     215.336236   \n",
       "2016-09-01 04:59:59                     199.099327   \n",
       "\n",
       "                     primary_cleaner.input.depressant  \\\n",
       "date                                                    \n",
       "2016-09-01 00:59:59                         14.993118   \n",
       "2016-09-01 01:59:59                         14.987471   \n",
       "2016-09-01 02:59:59                         12.884934   \n",
       "2016-09-01 03:59:59                         12.006805   \n",
       "2016-09-01 04:59:59                         10.682530   \n",
       "\n",
       "                     primary_cleaner.input.feed_size  \\\n",
       "date                                                   \n",
       "2016-09-01 00:59:59                         8.080000   \n",
       "2016-09-01 01:59:59                         8.080000   \n",
       "2016-09-01 02:59:59                         7.786667   \n",
       "2016-09-01 03:59:59                         7.640000   \n",
       "2016-09-01 04:59:59                         7.530000   \n",
       "\n",
       "                     primary_cleaner.input.xanthate  \\\n",
       "date                                                  \n",
       "2016-09-01 00:59:59                        1.005021   \n",
       "2016-09-01 01:59:59                        0.990469   \n",
       "2016-09-01 02:59:59                        0.996043   \n",
       "2016-09-01 03:59:59                        0.863514   \n",
       "2016-09-01 04:59:59                        0.805575   \n",
       "\n",
       "                     primary_cleaner.state.floatbank8_a_air  \\\n",
       "date                                                          \n",
       "2016-09-01 00:59:59                             1398.981301   \n",
       "2016-09-01 01:59:59                             1398.777912   \n",
       "2016-09-01 02:59:59                             1398.493666   \n",
       "2016-09-01 03:59:59                             1399.618111   \n",
       "2016-09-01 04:59:59                             1401.268123   \n",
       "\n",
       "                     primary_cleaner.state.floatbank8_a_level  \\\n",
       "date                                                            \n",
       "2016-09-01 00:59:59                               -500.225577   \n",
       "2016-09-01 01:59:59                               -500.057435   \n",
       "2016-09-01 02:59:59                               -500.868360   \n",
       "2016-09-01 03:59:59                               -498.863574   \n",
       "2016-09-01 04:59:59                               -500.808305   \n",
       "\n",
       "                     primary_cleaner.state.floatbank8_b_air  \\\n",
       "date                                                          \n",
       "2016-09-01 00:59:59                             1399.144926   \n",
       "2016-09-01 01:59:59                             1398.055362   \n",
       "2016-09-01 02:59:59                             1398.860436   \n",
       "2016-09-01 03:59:59                             1397.440120   \n",
       "2016-09-01 04:59:59                             1398.128818   \n",
       "\n",
       "                     primary_cleaner.state.floatbank8_b_level  \\\n",
       "date                                                            \n",
       "2016-09-01 00:59:59                               -499.919735   \n",
       "2016-09-01 01:59:59                               -499.778182   \n",
       "2016-09-01 02:59:59                               -499.764529   \n",
       "2016-09-01 03:59:59                               -499.211024   \n",
       "2016-09-01 04:59:59                               -499.504543   \n",
       "\n",
       "                     primary_cleaner.state.floatbank8_c_air  \\\n",
       "date                                                          \n",
       "2016-09-01 00:59:59                             1400.102998   \n",
       "2016-09-01 01:59:59                             1396.151033   \n",
       "2016-09-01 02:59:59                             1398.075709   \n",
       "2016-09-01 03:59:59                             1400.129303   \n",
       "2016-09-01 04:59:59                             1402.172226   \n",
       "\n",
       "                     primary_cleaner.state.floatbank8_c_level  ...  \\\n",
       "date                                                           ...   \n",
       "2016-09-01 00:59:59                               -500.704369  ...   \n",
       "2016-09-01 01:59:59                               -499.240168  ...   \n",
       "2016-09-01 02:59:59                               -502.151509  ...   \n",
       "2016-09-01 03:59:59                               -498.355873  ...   \n",
       "2016-09-01 04:59:59                               -500.810606  ...   \n",
       "\n",
       "                     secondary_cleaner.state.floatbank4_b_air  \\\n",
       "date                                                            \n",
       "2016-09-01 00:59:59                                  8.016656   \n",
       "2016-09-01 01:59:59                                  8.130979   \n",
       "2016-09-01 02:59:59                                  8.096893   \n",
       "2016-09-01 03:59:59                                  8.074946   \n",
       "2016-09-01 04:59:59                                  8.054678   \n",
       "\n",
       "                     secondary_cleaner.state.floatbank4_b_level  \\\n",
       "date                                                              \n",
       "2016-09-01 00:59:59                                 -501.289139   \n",
       "2016-09-01 01:59:59                                 -499.634209   \n",
       "2016-09-01 02:59:59                                 -500.827423   \n",
       "2016-09-01 03:59:59                                 -499.474407   \n",
       "2016-09-01 04:59:59                                 -500.397500   \n",
       "\n",
       "                     secondary_cleaner.state.floatbank5_a_air  \\\n",
       "date                                                            \n",
       "2016-09-01 00:59:59                                  7.946562   \n",
       "2016-09-01 01:59:59                                  7.958270   \n",
       "2016-09-01 02:59:59                                  8.071056   \n",
       "2016-09-01 03:59:59                                  7.897085   \n",
       "2016-09-01 04:59:59                                  8.107890   \n",
       "\n",
       "                     secondary_cleaner.state.floatbank5_a_level  \\\n",
       "date                                                              \n",
       "2016-09-01 00:59:59                                 -432.317850   \n",
       "2016-09-01 01:59:59                                 -525.839648   \n",
       "2016-09-01 02:59:59                                 -500.801673   \n",
       "2016-09-01 03:59:59                                 -500.868509   \n",
       "2016-09-01 04:59:59                                 -509.526725   \n",
       "\n",
       "                     secondary_cleaner.state.floatbank5_b_air  \\\n",
       "date                                                            \n",
       "2016-09-01 00:59:59                                  4.872511   \n",
       "2016-09-01 01:59:59                                  4.878850   \n",
       "2016-09-01 02:59:59                                  4.905125   \n",
       "2016-09-01 03:59:59                                  4.931400   \n",
       "2016-09-01 04:59:59                                  4.957674   \n",
       "\n",
       "                     secondary_cleaner.state.floatbank5_b_level  \\\n",
       "date                                                              \n",
       "2016-09-01 00:59:59                                 -500.037437   \n",
       "2016-09-01 01:59:59                                 -500.162375   \n",
       "2016-09-01 02:59:59                                 -499.828510   \n",
       "2016-09-01 03:59:59                                 -499.963623   \n",
       "2016-09-01 04:59:59                                 -500.360026   \n",
       "\n",
       "                     secondary_cleaner.state.floatbank6_a_air  \\\n",
       "date                                                            \n",
       "2016-09-01 00:59:59                                 26.705889   \n",
       "2016-09-01 01:59:59                                 25.019940   \n",
       "2016-09-01 02:59:59                                 24.994862   \n",
       "2016-09-01 03:59:59                                 24.948919   \n",
       "2016-09-01 04:59:59                                 25.003331   \n",
       "\n",
       "                     secondary_cleaner.state.floatbank6_a_level  \\\n",
       "date                                                              \n",
       "2016-09-01 00:59:59                                 -499.709414   \n",
       "2016-09-01 01:59:59                                 -499.819438   \n",
       "2016-09-01 02:59:59                                 -500.622559   \n",
       "2016-09-01 03:59:59                                 -498.709987   \n",
       "2016-09-01 04:59:59                                 -500.856333   \n",
       "\n",
       "                     final.output.recovery  rougher.output.recovery  \n",
       "date                                                                 \n",
       "2016-09-01 00:59:59              70.273583                89.993421  \n",
       "2016-09-01 01:59:59              68.910432                88.089657  \n",
       "2016-09-01 02:59:59              68.143213                88.412756  \n",
       "2016-09-01 03:59:59              67.776393                87.360133  \n",
       "2016-09-01 04:59:59              61.467078                83.236367  \n",
       "\n",
       "[5 rows x 54 columns]"
      ]
     },
     "execution_count": 18,
     "metadata": {},
     "output_type": "execute_result"
    }
   ],
   "source": [
    "df_test.head()"
   ]
  },
  {
   "cell_type": "markdown",
   "metadata": {},
   "source": [
    "Затем стоит заполнить пропуски в наборах. По условию сказано, что соседние по времени значени будут иметь схожие значения параметров, поэтому логично пропуски заполнять соседними значениями"
   ]
  },
  {
   "cell_type": "code",
   "execution_count": 19,
   "metadata": {
    "scrolled": true
   },
   "outputs": [],
   "source": [
    "df_train = df_train.fillna(method='ffill')"
   ]
  },
  {
   "cell_type": "markdown",
   "metadata": {},
   "source": [
    "Заполним и пропуски в тестовом наборе и в полном"
   ]
  },
  {
   "cell_type": "code",
   "execution_count": 20,
   "metadata": {
    "scrolled": false
   },
   "outputs": [],
   "source": [
    "df_test = df_test.fillna(method='ffill')"
   ]
  },
  {
   "cell_type": "code",
   "execution_count": 21,
   "metadata": {},
   "outputs": [],
   "source": [
    "df_full = df_full.fillna(method='ffill')"
   ]
  },
  {
   "cell_type": "markdown",
   "metadata": {},
   "source": [
    "Так как в тестовой наборе отсутствуют некоторые столбцы, которые есть в тренировочном, то следует удалить эти столбцы из тренировочного набора, кроме столбцов с целевыми показателями `final.output.recovery`, `rougher.output.recovery'`."
   ]
  },
  {
   "cell_type": "code",
   "execution_count": 22,
   "metadata": {
    "scrolled": false
   },
   "outputs": [],
   "source": [
    "df_train = df_train[list(df_test.columns)]"
   ]
  },
  {
   "cell_type": "code",
   "execution_count": 23,
   "metadata": {
    "scrolled": false
   },
   "outputs": [
    {
     "name": "stdout",
     "output_type": "stream",
     "text": [
      "<class 'pandas.core.frame.DataFrame'>\n",
      "Index: 14149 entries, 2016-01-15 00:00:00 to 2018-08-18 10:59:59\n",
      "Data columns (total 54 columns):\n",
      "primary_cleaner.input.sulfate                 14149 non-null float64\n",
      "primary_cleaner.input.depressant              14149 non-null float64\n",
      "primary_cleaner.input.feed_size               14149 non-null float64\n",
      "primary_cleaner.input.xanthate                14149 non-null float64\n",
      "primary_cleaner.state.floatbank8_a_air        14149 non-null float64\n",
      "primary_cleaner.state.floatbank8_a_level      14149 non-null float64\n",
      "primary_cleaner.state.floatbank8_b_air        14149 non-null float64\n",
      "primary_cleaner.state.floatbank8_b_level      14149 non-null float64\n",
      "primary_cleaner.state.floatbank8_c_air        14149 non-null float64\n",
      "primary_cleaner.state.floatbank8_c_level      14149 non-null float64\n",
      "primary_cleaner.state.floatbank8_d_air        14149 non-null float64\n",
      "primary_cleaner.state.floatbank8_d_level      14149 non-null float64\n",
      "rougher.input.feed_ag                         14149 non-null float64\n",
      "rougher.input.feed_pb                         14149 non-null float64\n",
      "rougher.input.feed_rate                       14149 non-null float64\n",
      "rougher.input.feed_size                       14149 non-null float64\n",
      "rougher.input.feed_sol                        14149 non-null float64\n",
      "rougher.input.feed_au                         14149 non-null float64\n",
      "rougher.input.floatbank10_sulfate             14149 non-null float64\n",
      "rougher.input.floatbank10_xanthate            14149 non-null float64\n",
      "rougher.input.floatbank11_sulfate             14149 non-null float64\n",
      "rougher.input.floatbank11_xanthate            14149 non-null float64\n",
      "rougher.state.floatbank10_a_air               14149 non-null float64\n",
      "rougher.state.floatbank10_a_level             14149 non-null float64\n",
      "rougher.state.floatbank10_b_air               14149 non-null float64\n",
      "rougher.state.floatbank10_b_level             14149 non-null float64\n",
      "rougher.state.floatbank10_c_air               14149 non-null float64\n",
      "rougher.state.floatbank10_c_level             14149 non-null float64\n",
      "rougher.state.floatbank10_d_air               14149 non-null float64\n",
      "rougher.state.floatbank10_d_level             14149 non-null float64\n",
      "rougher.state.floatbank10_e_air               14149 non-null float64\n",
      "rougher.state.floatbank10_e_level             14149 non-null float64\n",
      "rougher.state.floatbank10_f_air               14149 non-null float64\n",
      "rougher.state.floatbank10_f_level             14149 non-null float64\n",
      "secondary_cleaner.state.floatbank2_a_air      14149 non-null float64\n",
      "secondary_cleaner.state.floatbank2_a_level    14149 non-null float64\n",
      "secondary_cleaner.state.floatbank2_b_air      14149 non-null float64\n",
      "secondary_cleaner.state.floatbank2_b_level    14149 non-null float64\n",
      "secondary_cleaner.state.floatbank3_a_air      14149 non-null float64\n",
      "secondary_cleaner.state.floatbank3_a_level    14149 non-null float64\n",
      "secondary_cleaner.state.floatbank3_b_air      14149 non-null float64\n",
      "secondary_cleaner.state.floatbank3_b_level    14149 non-null float64\n",
      "secondary_cleaner.state.floatbank4_a_air      14149 non-null float64\n",
      "secondary_cleaner.state.floatbank4_a_level    14149 non-null float64\n",
      "secondary_cleaner.state.floatbank4_b_air      14149 non-null float64\n",
      "secondary_cleaner.state.floatbank4_b_level    14149 non-null float64\n",
      "secondary_cleaner.state.floatbank5_a_air      14149 non-null float64\n",
      "secondary_cleaner.state.floatbank5_a_level    14149 non-null float64\n",
      "secondary_cleaner.state.floatbank5_b_air      14149 non-null float64\n",
      "secondary_cleaner.state.floatbank5_b_level    14149 non-null float64\n",
      "secondary_cleaner.state.floatbank6_a_air      14149 non-null float64\n",
      "secondary_cleaner.state.floatbank6_a_level    14149 non-null float64\n",
      "final.output.recovery                         14149 non-null float64\n",
      "rougher.output.recovery                       14149 non-null float64\n",
      "dtypes: float64(54)\n",
      "memory usage: 5.9+ MB\n"
     ]
    }
   ],
   "source": [
    "df_train.info()"
   ]
  },
  {
   "cell_type": "markdown",
   "metadata": {},
   "source": [
    "Далее. Не понятна размерность единиц в в таблицах. Но так как мы планируем использовать в том числе и линейную регрессию, то понадобится масштабирование признаков. Это масштабирование произведём непосредственно перед обучением модели."
   ]
  },
  {
   "cell_type": "markdown",
   "metadata": {},
   "source": [
    "### Выводы\n",
    "\n",
    "Файлы открылись без проблем. Эффективность обогащения, рассчитанная по приведённой выше формуле совпала с той, что дана в таблицах. При анализе данных обнаружили пропуски, которые заполнили значением соседа. В тестовую выборку добавили значения целевых показателей. Лишние столбцы в тренировочной выборке удалили. Также определили сильную связь между некоторыми параметрами на технологических этапах. Эти параметры можно сократить, для упрощения обучения модели."
   ]
  },
  {
   "cell_type": "markdown",
   "metadata": {},
   "source": [
    "## Анализ данных"
   ]
  },
  {
   "cell_type": "markdown",
   "metadata": {},
   "source": [
    "###  Концентрации металлов"
   ]
  },
  {
   "cell_type": "markdown",
   "metadata": {},
   "source": [
    "Визуализируем концентрации металлов на каждом этапе: сырьё->флотация->первичная очистка->финальная концентрация"
   ]
  },
  {
   "cell_type": "code",
   "execution_count": 24,
   "metadata": {},
   "outputs": [],
   "source": [
    "au_conc=df_full[[\n",
    "    'rougher.input.feed_au',\n",
    "    'rougher.output.concentrate_au',\n",
    "    'primary_cleaner.output.concentrate_au',\n",
    "    'final.output.concentrate_au']]"
   ]
  },
  {
   "cell_type": "code",
   "execution_count": 25,
   "metadata": {},
   "outputs": [],
   "source": [
    "ag_conc=df_full[[\n",
    "    'rougher.input.feed_ag',\n",
    "    'rougher.output.concentrate_ag',\n",
    "    'primary_cleaner.output.concentrate_ag',\n",
    "    'final.output.concentrate_ag']]"
   ]
  },
  {
   "cell_type": "code",
   "execution_count": 26,
   "metadata": {},
   "outputs": [],
   "source": [
    "pb_conc=df_full[[\n",
    "    'rougher.input.feed_pb',\n",
    "    'rougher.output.concentrate_pb',\n",
    "    'primary_cleaner.output.concentrate_pb',\n",
    "    'final.output.concentrate_pb']]"
   ]
  },
  {
   "cell_type": "markdown",
   "metadata": {},
   "source": [
    "Определим функцию для рисования boxplotoв"
   ]
  },
  {
   "cell_type": "code",
   "execution_count": 27,
   "metadata": {
    "scrolled": true
   },
   "outputs": [],
   "source": [
    "def drow_conc(data):\n",
    "    fig, ax= plt.subplots(figsize=(15, 5))\n",
    "    ax.set_title('Концентрация на этапах')\n",
    "    ax.grid(True)\n",
    "    ax.set_xlabel('Этапы')\n",
    "    ax.set_ylabel('Концентрация')\n",
    "    sns.boxplot(data=data);"
   ]
  },
  {
   "cell_type": "markdown",
   "metadata": {},
   "source": [
    "Тогда концентрация на этапах для золота"
   ]
  },
  {
   "cell_type": "code",
   "execution_count": 28,
   "metadata": {
    "scrolled": true
   },
   "outputs": [
    {
     "data": {
      "image/png": "[encoded data removed]",
      "text/plain": [
       "<Figure size 1080x360 with 1 Axes>"
      ]
     },
     "metadata": {
      "needs_background": "light"
     },
     "output_type": "display_data"
    }
   ],
   "source": [
    "drow_conc(au_conc)"
   ]
  },
  {
   "cell_type": "markdown",
   "metadata": {},
   "source": [
    "Тогда концентрация на этапах для серебра"
   ]
  },
  {
   "cell_type": "code",
   "execution_count": 29,
   "metadata": {
    "scrolled": true
   },
   "outputs": [
    {
     "data": {
      "image/png": "[encoded data removed]",
      "text/plain": [
       "<Figure size 1080x360 with 1 Axes>"
      ]
     },
     "metadata": {
      "needs_background": "light"
     },
     "output_type": "display_data"
    }
   ],
   "source": [
    "drow_conc(ag_conc)"
   ]
  },
  {
   "cell_type": "markdown",
   "metadata": {},
   "source": [
    "Свинца"
   ]
  },
  {
   "cell_type": "code",
   "execution_count": 30,
   "metadata": {
    "scrolled": false
   },
   "outputs": [
    {
     "data": {
      "image/png": "[encoded data removed]",
      "text/plain": [
       "<Figure size 1080x360 with 1 Axes>"
      ]
     },
     "metadata": {
      "needs_background": "light"
     },
     "output_type": "display_data"
    }
   ],
   "source": [
    "drow_conc(pb_conc)"
   ]
  },
  {
   "cell_type": "markdown",
   "metadata": {},
   "source": [
    "Из диаграмм видно, что концентрация золота и свинца растёт с максимумом в финальном концентрате, для серебра - максимальная концентрация после флотации. Больше всего растёт концентрация золота, что вполне соответствует пониманию задачи обогащения."
   ]
  },
  {
   "cell_type": "markdown",
   "metadata": {},
   "source": [
    "### Распределения размеров гранул сырья на обучающей и тестовой выборках\n",
    "\n",
    "Cравним распределения размеров гранул сырья на обучающей и тестовой выборках. Если распределения сильно отличаются друг от друга, оценка модели будет неправильной. За размер до флотации отвечает признак `rougher.input.feed_size`. За размер до первичной очистки отвечает признак `primary_cleaner.input.feed_size`."
   ]
  },
  {
   "cell_type": "code",
   "execution_count": 31,
   "metadata": {
    "scrolled": false
   },
   "outputs": [
    {
     "data": {
      "image/png": "[encoded data removed]",
      "text/plain": [
       "<Figure size 1080x360 with 1 Axes>"
      ]
     },
     "metadata": {
      "needs_background": "light"
     },
     "output_type": "display_data"
    }
   ],
   "source": [
    "fig, ax= plt.subplots(figsize=(15, 5))\n",
    "df_train[['rougher.input.feed_size']].hist(bins=40, ax=ax, density=True, alpha=0.6)\n",
    "df_test[['rougher.input.feed_size']].hist(bins=40, ax=ax, density=True, alpha=0.6)\n",
    "ax.legend(labels=['В обучающей выборке','В тестовой выборке'])\n",
    "ax.set_title('Плотность распределения размера гранул перед флотацией')\n",
    "plt.show()"
   ]
  },
  {
   "cell_type": "code",
   "execution_count": 32,
   "metadata": {
    "scrolled": true
   },
   "outputs": [
    {
     "data": {
      "image/png": "[encoded data removed]",
      "text/plain": [
       "<Figure size 1080x360 with 1 Axes>"
      ]
     },
     "metadata": {
      "needs_background": "light"
     },
     "output_type": "display_data"
    }
   ],
   "source": [
    "fig, ax= plt.subplots(figsize=(15, 5))\n",
    "df_train[['primary_cleaner.input.feed_size']].hist(bins=40, ax=ax, density=True, alpha=0.6)\n",
    "df_test[['primary_cleaner.input.feed_size']].hist(bins=40, ax=ax, density=True, alpha=0.6)\n",
    "ax.legend(labels=['В обучающей выборке','В тестовой выборке'])\n",
    "ax.set_title('Плотность распределения размера гранул перед первым этапом очистки')\n",
    "plt.show()"
   ]
  },
  {
   "cell_type": "markdown",
   "metadata": {},
   "source": [
    "Видим, что плотность распределения гранул похожи для исходного сырья и практически идентичны перед первичной очисткой. Это позволяет говорить, что предложенное разделение на тестовую и обучающую выборку корректно. Также следует заметить, что перед первичной очисткой размер гранул уменьшается примерно в 10 раз по сравнению с исходным."
   ]
  },
  {
   "cell_type": "markdown",
   "metadata": {},
   "source": [
    "### Исследование суммарной концентрации всех веществ на разных стадиях\n",
    "Исследуем суммарную концентрацию всех веществ на разных стадиях: в сырье, в черновом и финальном концентратах."
   ]
  },
  {
   "cell_type": "code",
   "execution_count": 33,
   "metadata": {},
   "outputs": [],
   "source": [
    "sum_concentrate={'rougher.input':['rougher.input.feed_pb',\n",
    "        'rougher.input.feed_ag',\n",
    "        'rougher.input.feed_sol',\n",
    "       'rougher.input.feed_au'],\n",
    "                'rougher.output':['rougher.output.concentrate_ag',\n",
    "       'rougher.output.concentrate_pb', 'rougher.output.concentrate_sol',\n",
    "       'rougher.output.concentrate_au'],\n",
    "                'primary_cleaner.output':['primary_cleaner.output.concentrate_ag',\n",
    "       'primary_cleaner.output.concentrate_pb',\n",
    "       'primary_cleaner.output.concentrate_sol',\n",
    "       'primary_cleaner.output.concentrate_au'],\n",
    "                'final.output':['final.output.concentrate_ag', 'final.output.concentrate_pb',\n",
    "       'final.output.concentrate_sol', 'final.output.concentrate_au']}"
   ]
  },
  {
   "cell_type": "code",
   "execution_count": 34,
   "metadata": {},
   "outputs": [],
   "source": [
    "data=[df_full[sum_concentrate[x]].sum(axis=1) for x in sum_concentrate]"
   ]
  },
  {
   "cell_type": "markdown",
   "metadata": {},
   "source": [
    "Построим boxplot для суммарных концентраций"
   ]
  },
  {
   "cell_type": "code",
   "execution_count": 35,
   "metadata": {
    "scrolled": true
   },
   "outputs": [
    {
     "data": {
      "image/png": "[encoded data removed]",
      "text/plain": [
       "<Figure size 1080x360 with 1 Axes>"
      ]
     },
     "metadata": {
      "needs_background": "light"
     },
     "output_type": "display_data"
    }
   ],
   "source": [
    "drow_conc(data)"
   ]
  },
  {
   "cell_type": "markdown",
   "metadata": {},
   "source": [
    "Как видно из диаграммы, при прохождении по тех.процессу суммарная концентрация имеет тенденцию к увеличению и межквартильный размах имеет тенденцию к сужению. Однако видим большое количество выбрросов (не вошедших в межквартильные размахи) особенно в малых значениях. Об этом говорит большое количество точек. Посмотрим на гистограммы концентраций по этапам."
   ]
  },
  {
   "cell_type": "code",
   "execution_count": 36,
   "metadata": {},
   "outputs": [
    {
     "data": {
      "image/png": "[encoded data removed]",
      "text/plain": [
       "<Figure size 1080x360 with 1 Axes>"
      ]
     },
     "metadata": {
      "needs_background": "light"
     },
     "output_type": "display_data"
    }
   ],
   "source": [
    "fig, ax= plt.subplots(figsize=(15, 5))\n",
    "df_full[sum_concentrate['rougher.input']].sum(axis=1).hist(bins=40, ax=ax, density=True, alpha=0.6)\n",
    "df_full[sum_concentrate['rougher.output']].sum(axis=1).hist(bins=40, ax=ax, density=True, alpha=0.6)\n",
    "df_full[sum_concentrate['primary_cleaner.output']].sum(axis=1).hist(bins=40, ax=ax, density=True, alpha=0.6)\n",
    "df_full[sum_concentrate['final.output']].sum(axis=1).hist(bins=40, ax=ax, density=True, alpha=0.6)\n",
    "ax.legend(labels=['Сырьё','Флотация', 'Первичная очистка', 'Финал'])\n",
    "ax.set_title('Плотность распределения суммарной концентрации на этапах')\n",
    "plt.show()"
   ]
  },
  {
   "cell_type": "markdown",
   "metadata": {},
   "source": [
    "Из гистограмм видим, подтвержение написанного ранее - пик суммарной концентрации сужается и смещается вправо-увеличивается. Кроме того видим значительное число околонулевых значений для всех этапов, кроме сырья. Это явные выбросы, которые стоит удалить"
   ]
  },
  {
   "cell_type": "code",
   "execution_count": 37,
   "metadata": {
    "scrolled": false
   },
   "outputs": [],
   "source": [
    "for key in sum_concentrate:\n",
    "    df_test = df_test.drop(index=df_full[df_full[sum_concentrate[key]].sum(axis=1)==0].index, errors='ignore')\n",
    "    df_train = df_train.drop(index=df_full[df_full[sum_concentrate[key]].sum(axis=1)==0].index, errors='ignore')\n",
    "    df_full = df_full.drop(index=df_full[df_full[sum_concentrate[key]].sum(axis=1)==0].index)"
   ]
  },
  {
   "cell_type": "code",
   "execution_count": 38,
   "metadata": {
    "scrolled": true
   },
   "outputs": [
    {
     "name": "stdout",
     "output_type": "stream",
     "text": [
      "<class 'pandas.core.frame.DataFrame'>\n",
      "Index: 18848 entries, 2016-01-15 00:00:00 to 2018-08-18 10:59:59\n",
      "Data columns (total 86 columns):\n",
      "final.output.concentrate_ag                           18848 non-null float64\n",
      "final.output.concentrate_pb                           18848 non-null float64\n",
      "final.output.concentrate_sol                          18848 non-null float64\n",
      "final.output.concentrate_au                           18848 non-null float64\n",
      "final.output.recovery                                 18848 non-null float64\n",
      "final.output.tail_ag                                  18848 non-null float64\n",
      "final.output.tail_pb                                  18848 non-null float64\n",
      "final.output.tail_sol                                 18848 non-null float64\n",
      "final.output.tail_au                                  18848 non-null float64\n",
      "primary_cleaner.input.sulfate                         18848 non-null float64\n",
      "primary_cleaner.input.depressant                      18848 non-null float64\n",
      "primary_cleaner.input.feed_size                       18848 non-null float64\n",
      "primary_cleaner.input.xanthate                        18848 non-null float64\n",
      "primary_cleaner.output.concentrate_ag                 18848 non-null float64\n",
      "primary_cleaner.output.concentrate_pb                 18848 non-null float64\n",
      "primary_cleaner.output.concentrate_sol                18848 non-null float64\n",
      "primary_cleaner.output.concentrate_au                 18848 non-null float64\n",
      "primary_cleaner.output.tail_ag                        18848 non-null float64\n",
      "primary_cleaner.output.tail_pb                        18848 non-null float64\n",
      "primary_cleaner.output.tail_sol                       18848 non-null float64\n",
      "primary_cleaner.output.tail_au                        18848 non-null float64\n",
      "primary_cleaner.state.floatbank8_a_air                18848 non-null float64\n",
      "primary_cleaner.state.floatbank8_a_level              18848 non-null float64\n",
      "primary_cleaner.state.floatbank8_b_air                18848 non-null float64\n",
      "primary_cleaner.state.floatbank8_b_level              18848 non-null float64\n",
      "primary_cleaner.state.floatbank8_c_air                18848 non-null float64\n",
      "primary_cleaner.state.floatbank8_c_level              18848 non-null float64\n",
      "primary_cleaner.state.floatbank8_d_air                18848 non-null float64\n",
      "primary_cleaner.state.floatbank8_d_level              18848 non-null float64\n",
      "rougher.calculation.sulfate_to_au_concentrate         18848 non-null float64\n",
      "rougher.calculation.floatbank10_sulfate_to_au_feed    18848 non-null float64\n",
      "rougher.calculation.floatbank11_sulfate_to_au_feed    18848 non-null float64\n",
      "rougher.calculation.au_pb_ratio                       18848 non-null float64\n",
      "rougher.input.feed_ag                                 18848 non-null float64\n",
      "rougher.input.feed_pb                                 18848 non-null float64\n",
      "rougher.input.feed_rate                               18848 non-null float64\n",
      "rougher.input.feed_size                               18848 non-null float64\n",
      "rougher.input.feed_sol                                18848 non-null float64\n",
      "rougher.input.feed_au                                 18848 non-null float64\n",
      "rougher.input.floatbank10_sulfate                     18848 non-null float64\n",
      "rougher.input.floatbank10_xanthate                    18848 non-null float64\n",
      "rougher.input.floatbank11_sulfate                     18848 non-null float64\n",
      "rougher.input.floatbank11_xanthate                    18848 non-null float64\n",
      "rougher.output.concentrate_ag                         18848 non-null float64\n",
      "rougher.output.concentrate_pb                         18848 non-null float64\n",
      "rougher.output.concentrate_sol                        18848 non-null float64\n",
      "rougher.output.concentrate_au                         18848 non-null float64\n",
      "rougher.output.recovery                               18848 non-null float64\n",
      "rougher.output.tail_ag                                18848 non-null float64\n",
      "rougher.output.tail_pb                                18848 non-null float64\n",
      "rougher.output.tail_sol                               18848 non-null float64\n",
      "rougher.output.tail_au                                18848 non-null float64\n",
      "rougher.state.floatbank10_a_air                       18848 non-null float64\n",
      "rougher.state.floatbank10_a_level                     18848 non-null float64\n",
      "rougher.state.floatbank10_b_air                       18848 non-null float64\n",
      "rougher.state.floatbank10_b_level                     18848 non-null float64\n",
      "rougher.state.floatbank10_c_air                       18848 non-null float64\n",
      "rougher.state.floatbank10_c_level                     18848 non-null float64\n",
      "rougher.state.floatbank10_d_air                       18848 non-null float64\n",
      "rougher.state.floatbank10_d_level                     18848 non-null float64\n",
      "rougher.state.floatbank10_e_air                       18848 non-null float64\n",
      "rougher.state.floatbank10_e_level                     18848 non-null float64\n",
      "rougher.state.floatbank10_f_air                       18848 non-null float64\n",
      "rougher.state.floatbank10_f_level                     18848 non-null float64\n",
      "secondary_cleaner.output.tail_ag                      18848 non-null float64\n",
      "secondary_cleaner.output.tail_pb                      18848 non-null float64\n",
      "secondary_cleaner.output.tail_sol                     18848 non-null float64\n",
      "secondary_cleaner.output.tail_au                      18848 non-null float64\n",
      "secondary_cleaner.state.floatbank2_a_air              18848 non-null float64\n",
      "secondary_cleaner.state.floatbank2_a_level            18848 non-null float64\n",
      "secondary_cleaner.state.floatbank2_b_air              18848 non-null float64\n",
      "secondary_cleaner.state.floatbank2_b_level            18848 non-null float64\n",
      "secondary_cleaner.state.floatbank3_a_air              18848 non-null float64\n",
      "secondary_cleaner.state.floatbank3_a_level            18848 non-null float64\n",
      "secondary_cleaner.state.floatbank3_b_air              18848 non-null float64\n",
      "secondary_cleaner.state.floatbank3_b_level            18848 non-null float64\n",
      "secondary_cleaner.state.floatbank4_a_air              18848 non-null float64\n",
      "secondary_cleaner.state.floatbank4_a_level            18848 non-null float64\n",
      "secondary_cleaner.state.floatbank4_b_air              18848 non-null float64\n",
      "secondary_cleaner.state.floatbank4_b_level            18848 non-null float64\n",
      "secondary_cleaner.state.floatbank5_a_air              18848 non-null float64\n",
      "secondary_cleaner.state.floatbank5_a_level            18848 non-null float64\n",
      "secondary_cleaner.state.floatbank5_b_air              18848 non-null float64\n",
      "secondary_cleaner.state.floatbank5_b_level            18848 non-null float64\n",
      "secondary_cleaner.state.floatbank6_a_air              18848 non-null float64\n",
      "secondary_cleaner.state.floatbank6_a_level            18848 non-null float64\n",
      "dtypes: float64(86)\n",
      "memory usage: 12.5+ MB\n"
     ]
    }
   ],
   "source": [
    "df_full.info()"
   ]
  },
  {
   "cell_type": "code",
   "execution_count": 39,
   "metadata": {
    "scrolled": true
   },
   "outputs": [
    {
     "name": "stdout",
     "output_type": "stream",
     "text": [
      "<class 'pandas.core.frame.DataFrame'>\n",
      "Index: 13725 entries, 2016-01-15 00:00:00 to 2018-08-18 10:59:59\n",
      "Data columns (total 54 columns):\n",
      "primary_cleaner.input.sulfate                 13725 non-null float64\n",
      "primary_cleaner.input.depressant              13725 non-null float64\n",
      "primary_cleaner.input.feed_size               13725 non-null float64\n",
      "primary_cleaner.input.xanthate                13725 non-null float64\n",
      "primary_cleaner.state.floatbank8_a_air        13725 non-null float64\n",
      "primary_cleaner.state.floatbank8_a_level      13725 non-null float64\n",
      "primary_cleaner.state.floatbank8_b_air        13725 non-null float64\n",
      "primary_cleaner.state.floatbank8_b_level      13725 non-null float64\n",
      "primary_cleaner.state.floatbank8_c_air        13725 non-null float64\n",
      "primary_cleaner.state.floatbank8_c_level      13725 non-null float64\n",
      "primary_cleaner.state.floatbank8_d_air        13725 non-null float64\n",
      "primary_cleaner.state.floatbank8_d_level      13725 non-null float64\n",
      "rougher.input.feed_ag                         13725 non-null float64\n",
      "rougher.input.feed_pb                         13725 non-null float64\n",
      "rougher.input.feed_rate                       13725 non-null float64\n",
      "rougher.input.feed_size                       13725 non-null float64\n",
      "rougher.input.feed_sol                        13725 non-null float64\n",
      "rougher.input.feed_au                         13725 non-null float64\n",
      "rougher.input.floatbank10_sulfate             13725 non-null float64\n",
      "rougher.input.floatbank10_xanthate            13725 non-null float64\n",
      "rougher.input.floatbank11_sulfate             13725 non-null float64\n",
      "rougher.input.floatbank11_xanthate            13725 non-null float64\n",
      "rougher.state.floatbank10_a_air               13725 non-null float64\n",
      "rougher.state.floatbank10_a_level             13725 non-null float64\n",
      "rougher.state.floatbank10_b_air               13725 non-null float64\n",
      "rougher.state.floatbank10_b_level             13725 non-null float64\n",
      "rougher.state.floatbank10_c_air               13725 non-null float64\n",
      "rougher.state.floatbank10_c_level             13725 non-null float64\n",
      "rougher.state.floatbank10_d_air               13725 non-null float64\n",
      "rougher.state.floatbank10_d_level             13725 non-null float64\n",
      "rougher.state.floatbank10_e_air               13725 non-null float64\n",
      "rougher.state.floatbank10_e_level             13725 non-null float64\n",
      "rougher.state.floatbank10_f_air               13725 non-null float64\n",
      "rougher.state.floatbank10_f_level             13725 non-null float64\n",
      "secondary_cleaner.state.floatbank2_a_air      13725 non-null float64\n",
      "secondary_cleaner.state.floatbank2_a_level    13725 non-null float64\n",
      "secondary_cleaner.state.floatbank2_b_air      13725 non-null float64\n",
      "secondary_cleaner.state.floatbank2_b_level    13725 non-null float64\n",
      "secondary_cleaner.state.floatbank3_a_air      13725 non-null float64\n",
      "secondary_cleaner.state.floatbank3_a_level    13725 non-null float64\n",
      "secondary_cleaner.state.floatbank3_b_air      13725 non-null float64\n",
      "secondary_cleaner.state.floatbank3_b_level    13725 non-null float64\n",
      "secondary_cleaner.state.floatbank4_a_air      13725 non-null float64\n",
      "secondary_cleaner.state.floatbank4_a_level    13725 non-null float64\n",
      "secondary_cleaner.state.floatbank4_b_air      13725 non-null float64\n",
      "secondary_cleaner.state.floatbank4_b_level    13725 non-null float64\n",
      "secondary_cleaner.state.floatbank5_a_air      13725 non-null float64\n",
      "secondary_cleaner.state.floatbank5_a_level    13725 non-null float64\n",
      "secondary_cleaner.state.floatbank5_b_air      13725 non-null float64\n",
      "secondary_cleaner.state.floatbank5_b_level    13725 non-null float64\n",
      "secondary_cleaner.state.floatbank6_a_air      13725 non-null float64\n",
      "secondary_cleaner.state.floatbank6_a_level    13725 non-null float64\n",
      "final.output.recovery                         13725 non-null float64\n",
      "rougher.output.recovery                       13725 non-null float64\n",
      "dtypes: float64(54)\n",
      "memory usage: 5.8+ MB\n"
     ]
    }
   ],
   "source": [
    "df_train.info()"
   ]
  },
  {
   "cell_type": "code",
   "execution_count": 40,
   "metadata": {
    "scrolled": true
   },
   "outputs": [
    {
     "name": "stdout",
     "output_type": "stream",
     "text": [
      "<class 'pandas.core.frame.DataFrame'>\n",
      "Index: 5123 entries, 2016-09-01 00:59:59 to 2017-12-31 23:59:59\n",
      "Data columns (total 54 columns):\n",
      "primary_cleaner.input.sulfate                 5123 non-null float64\n",
      "primary_cleaner.input.depressant              5123 non-null float64\n",
      "primary_cleaner.input.feed_size               5123 non-null float64\n",
      "primary_cleaner.input.xanthate                5123 non-null float64\n",
      "primary_cleaner.state.floatbank8_a_air        5123 non-null float64\n",
      "primary_cleaner.state.floatbank8_a_level      5123 non-null float64\n",
      "primary_cleaner.state.floatbank8_b_air        5123 non-null float64\n",
      "primary_cleaner.state.floatbank8_b_level      5123 non-null float64\n",
      "primary_cleaner.state.floatbank8_c_air        5123 non-null float64\n",
      "primary_cleaner.state.floatbank8_c_level      5123 non-null float64\n",
      "primary_cleaner.state.floatbank8_d_air        5123 non-null float64\n",
      "primary_cleaner.state.floatbank8_d_level      5123 non-null float64\n",
      "rougher.input.feed_ag                         5123 non-null float64\n",
      "rougher.input.feed_pb                         5123 non-null float64\n",
      "rougher.input.feed_rate                       5123 non-null float64\n",
      "rougher.input.feed_size                       5123 non-null float64\n",
      "rougher.input.feed_sol                        5123 non-null float64\n",
      "rougher.input.feed_au                         5123 non-null float64\n",
      "rougher.input.floatbank10_sulfate             5123 non-null float64\n",
      "rougher.input.floatbank10_xanthate            5123 non-null float64\n",
      "rougher.input.floatbank11_sulfate             5123 non-null float64\n",
      "rougher.input.floatbank11_xanthate            5123 non-null float64\n",
      "rougher.state.floatbank10_a_air               5123 non-null float64\n",
      "rougher.state.floatbank10_a_level             5123 non-null float64\n",
      "rougher.state.floatbank10_b_air               5123 non-null float64\n",
      "rougher.state.floatbank10_b_level             5123 non-null float64\n",
      "rougher.state.floatbank10_c_air               5123 non-null float64\n",
      "rougher.state.floatbank10_c_level             5123 non-null float64\n",
      "rougher.state.floatbank10_d_air               5123 non-null float64\n",
      "rougher.state.floatbank10_d_level             5123 non-null float64\n",
      "rougher.state.floatbank10_e_air               5123 non-null float64\n",
      "rougher.state.floatbank10_e_level             5123 non-null float64\n",
      "rougher.state.floatbank10_f_air               5123 non-null float64\n",
      "rougher.state.floatbank10_f_level             5123 non-null float64\n",
      "secondary_cleaner.state.floatbank2_a_air      5123 non-null float64\n",
      "secondary_cleaner.state.floatbank2_a_level    5123 non-null float64\n",
      "secondary_cleaner.state.floatbank2_b_air      5123 non-null float64\n",
      "secondary_cleaner.state.floatbank2_b_level    5123 non-null float64\n",
      "secondary_cleaner.state.floatbank3_a_air      5123 non-null float64\n",
      "secondary_cleaner.state.floatbank3_a_level    5123 non-null float64\n",
      "secondary_cleaner.state.floatbank3_b_air      5123 non-null float64\n",
      "secondary_cleaner.state.floatbank3_b_level    5123 non-null float64\n",
      "secondary_cleaner.state.floatbank4_a_air      5123 non-null float64\n",
      "secondary_cleaner.state.floatbank4_a_level    5123 non-null float64\n",
      "secondary_cleaner.state.floatbank4_b_air      5123 non-null float64\n",
      "secondary_cleaner.state.floatbank4_b_level    5123 non-null float64\n",
      "secondary_cleaner.state.floatbank5_a_air      5123 non-null float64\n",
      "secondary_cleaner.state.floatbank5_a_level    5123 non-null float64\n",
      "secondary_cleaner.state.floatbank5_b_air      5123 non-null float64\n",
      "secondary_cleaner.state.floatbank5_b_level    5123 non-null float64\n",
      "secondary_cleaner.state.floatbank6_a_air      5123 non-null float64\n",
      "secondary_cleaner.state.floatbank6_a_level    5123 non-null float64\n",
      "final.output.recovery                         5123 non-null float64\n",
      "rougher.output.recovery                       5123 non-null float64\n",
      "dtypes: float64(54)\n",
      "memory usage: 2.1+ MB\n"
     ]
    }
   ],
   "source": [
    "df_test.info()"
   ]
  },
  {
   "cell_type": "markdown",
   "metadata": {},
   "source": [
    "### Выводы\n",
    "\n",
    "Провели анализ данных и выяснили: \n",
    "\n",
    "1. Концентрация золота растёт на этапах обогащения. Концентрация серебра уменьшается, а концентрация свинца также увеличиввается, но не так значительно, как золота.\n",
    "2. Размеры гранул для тестовой и обучающей выборки схожи, и размер уменьшается после флотации.\n",
    "3. Суммарная концентрация вешеств также несколько увеличивается при технологическом процессе и имеет более однородный характер (пик более узкий)\n",
    "4. Также были обнаружены нулевые суммарные концентрации. Это явные выбросы, которые были удалены из датасетов."
   ]
  },
  {
   "cell_type": "markdown",
   "metadata": {},
   "source": [
    "## Модель"
   ]
  },
  {
   "cell_type": "markdown",
   "metadata": {},
   "source": [
    "### Функция sMAPE\n",
    "\n",
    "Напишем функцию для вычисления итоговой sMAPE"
   ]
  },
  {
   "cell_type": "code",
   "execution_count": 88,
   "metadata": {},
   "outputs": [],
   "source": [
    "def smape(predict, target):\n",
    "    res = (abs(target-predict)*100/((abs(target)+abs(predict))/2)).sum()\n",
    "    return res/len(target)"
   ]
  },
  {
   "cell_type": "markdown",
   "metadata": {},
   "source": [
    "### Выделение признаков\n",
    "\n",
    "По условию необходимо найти 2 целевых признака `rougher.output.recovery`, `final.output.recovery`. Логичным видится декомпозиция задачи на 2 раздельные. Для оценки эффективности обогащения после флотации очевидным кажется использовать только параметры флотации. Т.е. обогащение после флотации не зависит от параметров дальнейшего техпроцесса. Для начала выделим признаки для масштабирования. Удалим целевые признаки"
   ]
  },
  {
   "cell_type": "code",
   "execution_count": 76,
   "metadata": {},
   "outputs": [],
   "source": [
    "train_target_rougher = df_train['rougher.output.recovery']\n",
    "train_target_final = df_train['final.output.recovery']\n",
    "test_target_rougher = df_test['rougher.output.recovery']\n",
    "test_target_final = df_test['final.output.recovery']"
   ]
  },
  {
   "cell_type": "code",
   "execution_count": 79,
   "metadata": {},
   "outputs": [],
   "source": [
    "train_features_final = df_train.drop(['rougher.output.recovery', 'final.output.recovery'], axis=1)\n",
    "test_features_final = df_test.drop(['rougher.output.recovery', 'final.output.recovery'], axis=1)"
   ]
  },
  {
   "cell_type": "markdown",
   "metadata": {},
   "source": [
    "Выделим признаки, которые относятся только к флотации"
   ]
  },
  {
   "cell_type": "code",
   "execution_count": 80,
   "metadata": {},
   "outputs": [],
   "source": [
    "rougher_columns=[col for col in df_train.columns if col.find('rougher')>-1 ]"
   ]
  },
  {
   "cell_type": "code",
   "execution_count": 81,
   "metadata": {
    "scrolled": true
   },
   "outputs": [
    {
     "data": {
      "text/plain": [
       "['rougher.input.feed_ag',\n",
       " 'rougher.input.feed_pb',\n",
       " 'rougher.input.feed_rate',\n",
       " 'rougher.input.feed_size',\n",
       " 'rougher.input.feed_sol',\n",
       " 'rougher.input.feed_au',\n",
       " 'rougher.input.floatbank10_sulfate',\n",
       " 'rougher.input.floatbank10_xanthate',\n",
       " 'rougher.input.floatbank11_sulfate',\n",
       " 'rougher.input.floatbank11_xanthate',\n",
       " 'rougher.state.floatbank10_a_air',\n",
       " 'rougher.state.floatbank10_a_level',\n",
       " 'rougher.state.floatbank10_b_air',\n",
       " 'rougher.state.floatbank10_b_level',\n",
       " 'rougher.state.floatbank10_c_air',\n",
       " 'rougher.state.floatbank10_c_level',\n",
       " 'rougher.state.floatbank10_d_air',\n",
       " 'rougher.state.floatbank10_d_level',\n",
       " 'rougher.state.floatbank10_e_air',\n",
       " 'rougher.state.floatbank10_e_level',\n",
       " 'rougher.state.floatbank10_f_air',\n",
       " 'rougher.state.floatbank10_f_level',\n",
       " 'rougher.output.recovery']"
      ]
     },
     "execution_count": 81,
     "metadata": {},
     "output_type": "execute_result"
    }
   ],
   "source": [
    "rougher_columns"
   ]
  },
  {
   "cell_type": "markdown",
   "metadata": {},
   "source": [
    "На основании списка сфоромируем таблицу с признаками"
   ]
  },
  {
   "cell_type": "code",
   "execution_count": 82,
   "metadata": {},
   "outputs": [],
   "source": [
    "train_features_rougher = df_train[rougher_columns].drop(['rougher.output.recovery'], axis=1)\n",
    "test_features_rougher = df_test[rougher_columns].drop(['rougher.output.recovery'], axis=1)"
   ]
  },
  {
   "cell_type": "markdown",
   "metadata": {},
   "source": [
    "### Масштабирование признаков"
   ]
  },
  {
   "cell_type": "markdown",
   "metadata": {},
   "source": [
    "Так как планируем использовать регрессионные модели, то признаки необходимо масштабировать"
   ]
  },
  {
   "cell_type": "code",
   "execution_count": 83,
   "metadata": {
    "scrolled": false
   },
   "outputs": [
    {
     "data": {
      "text/plain": [
       "StandardScaler(copy=True, with_mean=True, with_std=True)"
      ]
     },
     "execution_count": 83,
     "metadata": {},
     "output_type": "execute_result"
    }
   ],
   "source": [
    "rougher_scaler = StandardScaler()\n",
    "rougher_scaler.fit(train_features_rougher)\n",
    "final_scaler = StandardScaler()\n",
    "final_scaler.fit(train_features_final)"
   ]
  },
  {
   "cell_type": "code",
   "execution_count": 84,
   "metadata": {
    "scrolled": true
   },
   "outputs": [],
   "source": [
    "train_features_rougher=pd.DataFrame(rougher_scaler.transform(train_features_rougher), columns=train_features_rougher.columns)\n",
    "test_features_rougher=pd.DataFrame(rougher_scaler.transform(test_features_rougher), columns=test_features_rougher.columns)\n",
    "\n",
    "train_features_final=pd.DataFrame(final_scaler.transform(train_features_final), columns=train_features_final.columns)\n",
    "test_features_final=pd.DataFrame(final_scaler.transform(test_features_final), columns=test_features_final.columns)"
   ]
  },
  {
   "cell_type": "markdown",
   "metadata": {},
   "source": [
    "### Обучение моделей\n",
    "\n",
    "Для задачи наметим использование нескольких моделей:\n",
    "- LinearRegression()\n",
    "- DecisionTreeRegressor()\n",
    "- RandomForestRegressor()\n",
    "- DummyRegressor() - для проверки адекватности предсказаний\n",
    "\n",
    "Исходя из условия, необходимо найти одну такую модель, которая даст лучшую финальную метрику."
   ]
  },
  {
   "cell_type": "code",
   "execution_count": 85,
   "metadata": {
    "scrolled": true
   },
   "outputs": [],
   "source": [
    "models = [LinearRegression(), DecisionTreeRegressor(random_state=42), RandomForestRegressor(random_state=42), DummyRegressor()]"
   ]
  },
  {
   "cell_type": "markdown",
   "metadata": {},
   "source": [
    "Опредедлим функцию, которой будем передавать модель, а на выходе получим оценку для моделей по метрике sMAPE"
   ]
  },
  {
   "cell_type": "code",
   "execution_count": 86,
   "metadata": {},
   "outputs": [],
   "source": [
    "def scoring(model, features_rougher, target_rougher, features_final, target_final):\n",
    "    scores_rougher = cross_val_score(model, \n",
    "                         features_rougher, \n",
    "                         target_rougher, \n",
    "                         scoring=make_scorer(smape, greater_is_better=True),\n",
    "                         cv=5)\n",
    "    scores_final = cross_val_score(model, \n",
    "                         features_final, \n",
    "                         target_final, \n",
    "                         scoring=make_scorer(smape, greater_is_better=True),\n",
    "                         cv=5)\n",
    "    print('Модель: ', type(model))\n",
    "    print('Метрика для флотации sMAPE=', scores_rougher.mean())\n",
    "    print('Метрика для финальной очистки sMAPE=', scores_final.mean())\n",
    "    print('Итоговая метрика sMAPE=',scores_rougher.mean()*0.25+scores_final.mean()*0.75)\n",
    "    print('\\n')\n",
    "    return scores_rougher.mean()*0.25+scores_final.mean()*0.75"
   ]
  },
  {
   "cell_type": "code",
   "execution_count": 55,
   "metadata": {
    "scrolled": true
   },
   "outputs": [
    {
     "name": "stdout",
     "output_type": "stream",
     "text": [
      "Модель:  <class 'sklearn.linear_model.base.LinearRegression'>\n",
      "Метрика для флотации sMAPE= 6.677118661212697\n",
      "Метрика для финальной очистки sMAPE= 10.950532500993138\n",
      "Итоговая метрика sMAPE= 9.882179041048028\n",
      "\n",
      "\n",
      "Модель:  <class 'sklearn.tree.tree.DecisionTreeRegressor'>\n",
      "Метрика для флотации sMAPE= 8.985942932494646\n",
      "Метрика для финальной очистки sMAPE= 15.680462284259312\n",
      "Итоговая метрика sMAPE= 14.006832446318144\n",
      "\n",
      "\n"
     ]
    },
    {
     "name": "stderr",
     "output_type": "stream",
     "text": [
      "/opt/conda/lib/python3.7/site-packages/sklearn/ensemble/forest.py:245: FutureWarning: The default value of n_estimators will change from 10 in version 0.20 to 100 in 0.22.\n",
      "  \"10 in version 0.20 to 100 in 0.22.\", FutureWarning)\n",
      "/opt/conda/lib/python3.7/site-packages/sklearn/ensemble/forest.py:245: FutureWarning: The default value of n_estimators will change from 10 in version 0.20 to 100 in 0.22.\n",
      "  \"10 in version 0.20 to 100 in 0.22.\", FutureWarning)\n",
      "/opt/conda/lib/python3.7/site-packages/sklearn/ensemble/forest.py:245: FutureWarning: The default value of n_estimators will change from 10 in version 0.20 to 100 in 0.22.\n",
      "  \"10 in version 0.20 to 100 in 0.22.\", FutureWarning)\n",
      "/opt/conda/lib/python3.7/site-packages/sklearn/ensemble/forest.py:245: FutureWarning: The default value of n_estimators will change from 10 in version 0.20 to 100 in 0.22.\n",
      "  \"10 in version 0.20 to 100 in 0.22.\", FutureWarning)\n",
      "/opt/conda/lib/python3.7/site-packages/sklearn/ensemble/forest.py:245: FutureWarning: The default value of n_estimators will change from 10 in version 0.20 to 100 in 0.22.\n",
      "  \"10 in version 0.20 to 100 in 0.22.\", FutureWarning)\n",
      "/opt/conda/lib/python3.7/site-packages/sklearn/ensemble/forest.py:245: FutureWarning: The default value of n_estimators will change from 10 in version 0.20 to 100 in 0.22.\n",
      "  \"10 in version 0.20 to 100 in 0.22.\", FutureWarning)\n",
      "/opt/conda/lib/python3.7/site-packages/sklearn/ensemble/forest.py:245: FutureWarning: The default value of n_estimators will change from 10 in version 0.20 to 100 in 0.22.\n",
      "  \"10 in version 0.20 to 100 in 0.22.\", FutureWarning)\n",
      "/opt/conda/lib/python3.7/site-packages/sklearn/ensemble/forest.py:245: FutureWarning: The default value of n_estimators will change from 10 in version 0.20 to 100 in 0.22.\n",
      "  \"10 in version 0.20 to 100 in 0.22.\", FutureWarning)\n",
      "/opt/conda/lib/python3.7/site-packages/sklearn/ensemble/forest.py:245: FutureWarning: The default value of n_estimators will change from 10 in version 0.20 to 100 in 0.22.\n",
      "  \"10 in version 0.20 to 100 in 0.22.\", FutureWarning)\n",
      "/opt/conda/lib/python3.7/site-packages/sklearn/ensemble/forest.py:245: FutureWarning: The default value of n_estimators will change from 10 in version 0.20 to 100 in 0.22.\n",
      "  \"10 in version 0.20 to 100 in 0.22.\", FutureWarning)\n"
     ]
    },
    {
     "name": "stdout",
     "output_type": "stream",
     "text": [
      "Модель:  <class 'sklearn.ensemble.forest.RandomForestRegressor'>\n",
      "Метрика для флотации sMAPE= 7.187694104833703\n",
      "Метрика для финальной очистки sMAPE= 10.06534706187923\n",
      "Итоговая метрика sMAPE= 9.345933822617848\n",
      "\n",
      "\n",
      "Модель:  <class 'sklearn.dummy.DummyRegressor'>\n",
      "Метрика для флотации sMAPE= 7.803961504107102\n",
      "Метрика для финальной очистки sMAPE= 10.412752300489277\n",
      "Итоговая метрика sMAPE= 9.760554601393734\n",
      "\n",
      "\n"
     ]
    }
   ],
   "source": [
    "for model in models:\n",
    "    scoring(model, train_features_rougher, train_target_rougher, train_features_final, train_target_final)"
   ]
  },
  {
   "cell_type": "markdown",
   "metadata": {},
   "source": [
    "Видим, что лучший результат получил случайный лес. Его метрика 9.35%. Случайная модель показала метрику 9.77%. Таким образом случайный лес единственный показал метрику выше простого заполнения значений средним."
   ]
  },
  {
   "cell_type": "markdown",
   "metadata": {},
   "source": [
    "### Проверка модели на тестовой выборке"
   ]
  },
  {
   "cell_type": "markdown",
   "metadata": {},
   "source": [
    "Модель случайного леса проверим на тестовой выборке"
   ]
  },
  {
   "cell_type": "code",
   "execution_count": 56,
   "metadata": {
    "scrolled": true
   },
   "outputs": [
    {
     "name": "stderr",
     "output_type": "stream",
     "text": [
      "/opt/conda/lib/python3.7/site-packages/sklearn/ensemble/forest.py:245: FutureWarning: The default value of n_estimators will change from 10 in version 0.20 to 100 in 0.22.\n",
      "  \"10 in version 0.20 to 100 in 0.22.\", FutureWarning)\n",
      "/opt/conda/lib/python3.7/site-packages/sklearn/ensemble/forest.py:245: FutureWarning: The default value of n_estimators will change from 10 in version 0.20 to 100 in 0.22.\n",
      "  \"10 in version 0.20 to 100 in 0.22.\", FutureWarning)\n",
      "/opt/conda/lib/python3.7/site-packages/sklearn/ensemble/forest.py:245: FutureWarning: The default value of n_estimators will change from 10 in version 0.20 to 100 in 0.22.\n",
      "  \"10 in version 0.20 to 100 in 0.22.\", FutureWarning)\n",
      "/opt/conda/lib/python3.7/site-packages/sklearn/ensemble/forest.py:245: FutureWarning: The default value of n_estimators will change from 10 in version 0.20 to 100 in 0.22.\n",
      "  \"10 in version 0.20 to 100 in 0.22.\", FutureWarning)\n",
      "/opt/conda/lib/python3.7/site-packages/sklearn/ensemble/forest.py:245: FutureWarning: The default value of n_estimators will change from 10 in version 0.20 to 100 in 0.22.\n",
      "  \"10 in version 0.20 to 100 in 0.22.\", FutureWarning)\n",
      "/opt/conda/lib/python3.7/site-packages/sklearn/ensemble/forest.py:245: FutureWarning: The default value of n_estimators will change from 10 in version 0.20 to 100 in 0.22.\n",
      "  \"10 in version 0.20 to 100 in 0.22.\", FutureWarning)\n",
      "/opt/conda/lib/python3.7/site-packages/sklearn/ensemble/forest.py:245: FutureWarning: The default value of n_estimators will change from 10 in version 0.20 to 100 in 0.22.\n",
      "  \"10 in version 0.20 to 100 in 0.22.\", FutureWarning)\n",
      "/opt/conda/lib/python3.7/site-packages/sklearn/ensemble/forest.py:245: FutureWarning: The default value of n_estimators will change from 10 in version 0.20 to 100 in 0.22.\n",
      "  \"10 in version 0.20 to 100 in 0.22.\", FutureWarning)\n",
      "/opt/conda/lib/python3.7/site-packages/sklearn/ensemble/forest.py:245: FutureWarning: The default value of n_estimators will change from 10 in version 0.20 to 100 in 0.22.\n",
      "  \"10 in version 0.20 to 100 in 0.22.\", FutureWarning)\n",
      "/opt/conda/lib/python3.7/site-packages/sklearn/ensemble/forest.py:245: FutureWarning: The default value of n_estimators will change from 10 in version 0.20 to 100 in 0.22.\n",
      "  \"10 in version 0.20 to 100 in 0.22.\", FutureWarning)\n"
     ]
    },
    {
     "name": "stdout",
     "output_type": "stream",
     "text": [
      "Модель:  <class 'sklearn.ensemble.forest.RandomForestRegressor'>\n",
      "Метрика для флотации sMAPE= 4.448782055369702\n",
      "Метрика для финальной очистки sMAPE= 8.976257899157053\n",
      "Итоговая метрика sMAPE= 7.844388938210215\n",
      "\n",
      "\n"
     ]
    }
   ],
   "source": [
    "model = RandomForestRegressor(random_state=42)\n",
    "scoring(model, test_features_rougher, test_target_rougher, test_features_final, test_target_final);"
   ]
  },
  {
   "cell_type": "markdown",
   "metadata": {},
   "source": [
    "Метрка несколько снизилась для тестовой выборки. Результат на тестовой выборке оказался лучше результата на обучающей."
   ]
  },
  {
   "cell_type": "markdown",
   "metadata": {},
   "source": [
    "### Выводы\n",
    "\n",
    "В этом пункте определили функцию sMape, которая рассчитывет итоговую метрику и используется как метрика для кросс-валидации. Выделили целевые признаки. Целевый признаки по условию\n",
    "- эффективность обогащения чернового концентрата `rougher.output.recovery`;\n",
    "- эффективность обогащения финального концентрата `final.output.recovery`.\n",
    "\n",
    "Нецелевые признаки были масштабированы с помощью StandardScaler. \n",
    "Рассмотрены модели линейной регрессии, дерева решений и случайного леса. Для проверки адекватности использовали DummyRegressor. Лучший результат показал случайный лес. Результат модели на тренировочной выборке 9.35%, результат на тестовой 7.88%\n"
   ]
  },
  {
   "cell_type": "markdown",
   "metadata": {},
   "source": [
    "## Общие выводы\n",
    "\n",
    "- Было проверено, что эффективность обогащения рассчитана правильно. \n",
    "- Были проанализированы признаки, недоступные в тестовой выборке. В тестовую выборку добавлены целевые признаки из общего файла, а в тренировочной выборке были удалены столбцы, недоступные в тесте.\n",
    "- Выяснено, как меняется концентрация металлов (Au, Ag, Pb) на различных этапах очистки. Установлено ,что концентрация золота растёт к концу этапов очистки, что является вполне логичным.\n",
    "- Установлено, что распределения размеров гранул сырья на обучающей и тестовой выборках схоже, что позволяет говорить о допустимости разделения на тестовую и обучающую выборку.\n",
    "- Была исследована суммарная концентрация всех веществ на разных стадиях: в сырье, в черновом и финальном концентратах. Установлено, что суммарная концентрация веществ растёт, но существуют в выборках нулевые значения суммарной концентрации, которые были удалены.\n",
    "- Была определена функция для вычисления итоговой sMAPE.\n",
    "- Были обучены модели линейной регрессии, дерева решений и случайного леса. Для проверки адекватности использовали DummyRegressor. Их качество было оценено кросс-валидацией. \n",
    "- Лучший результат показал случайный лес."
   ]
  }
 ],
 "metadata": {
  "ExecuteTimeLog": [
   {
    "duration": 637,
    "start_time": "2022-02-08T13:58:10.303Z"
   },
   {
    "duration": 2114,
    "start_time": "2022-02-08T14:01:53.686Z"
   },
   {
    "duration": 780,
    "start_time": "2022-02-08T14:02:29.016Z"
   },
   {
    "duration": 17,
    "start_time": "2022-02-08T14:02:47.036Z"
   },
   {
    "duration": 11,
    "start_time": "2022-02-08T14:03:47.985Z"
   },
   {
    "duration": 20,
    "start_time": "2022-02-08T14:05:06.164Z"
   },
   {
    "duration": 11,
    "start_time": "2022-02-08T14:05:41.021Z"
   },
   {
    "duration": 5,
    "start_time": "2022-02-08T14:05:57.810Z"
   },
   {
    "duration": 298,
    "start_time": "2022-02-08T14:06:23.662Z"
   },
   {
    "duration": 19,
    "start_time": "2022-02-08T14:07:10.029Z"
   },
   {
    "duration": 15,
    "start_time": "2022-02-08T14:07:20.843Z"
   },
   {
    "duration": 16,
    "start_time": "2022-02-08T14:07:31.561Z"
   },
   {
    "duration": 15,
    "start_time": "2022-02-08T14:07:42.428Z"
   },
   {
    "duration": 4,
    "start_time": "2022-02-08T15:12:28.600Z"
   },
   {
    "duration": 3,
    "start_time": "2022-02-08T15:13:06.251Z"
   },
   {
    "duration": 6,
    "start_time": "2022-02-08T15:13:22.621Z"
   },
   {
    "duration": 98,
    "start_time": "2022-02-08T15:14:49.062Z"
   },
   {
    "duration": 130,
    "start_time": "2022-02-08T15:14:58.883Z"
   },
   {
    "duration": 3,
    "start_time": "2022-02-08T15:17:12.110Z"
   },
   {
    "duration": 4,
    "start_time": "2022-02-08T15:17:20.338Z"
   },
   {
    "duration": 23,
    "start_time": "2022-02-08T15:18:16.674Z"
   },
   {
    "duration": 3,
    "start_time": "2022-02-08T15:18:56.386Z"
   },
   {
    "duration": 5,
    "start_time": "2022-02-08T15:18:57.182Z"
   },
   {
    "duration": 11,
    "start_time": "2022-02-08T15:20:15.950Z"
   },
   {
    "duration": 3,
    "start_time": "2022-02-08T15:23:19.901Z"
   },
   {
    "duration": 3,
    "start_time": "2022-02-08T15:23:22.370Z"
   },
   {
    "duration": 1485,
    "start_time": "2022-02-08T15:23:40.530Z"
   },
   {
    "duration": 321,
    "start_time": "2022-02-08T15:24:12.535Z"
   },
   {
    "duration": 4,
    "start_time": "2022-02-08T15:24:42.645Z"
   },
   {
    "duration": 23,
    "start_time": "2022-02-08T15:24:51.040Z"
   },
   {
    "duration": 18,
    "start_time": "2022-02-08T15:25:01.606Z"
   },
   {
    "duration": 473,
    "start_time": "2022-02-08T15:25:17.789Z"
   },
   {
    "duration": 894,
    "start_time": "2022-02-08T15:25:39.364Z"
   },
   {
    "duration": 1440,
    "start_time": "2022-02-08T15:28:37.886Z"
   },
   {
    "duration": 875,
    "start_time": "2022-02-08T15:31:14.706Z"
   },
   {
    "duration": 478,
    "start_time": "2022-02-08T15:31:37.016Z"
   },
   {
    "duration": 888,
    "start_time": "2022-02-08T15:32:01.521Z"
   },
   {
    "duration": 3,
    "start_time": "2022-02-08T15:32:20.217Z"
   },
   {
    "duration": 5,
    "start_time": "2022-02-08T15:32:22.303Z"
   },
   {
    "duration": 7,
    "start_time": "2022-02-08T15:32:28.503Z"
   },
   {
    "duration": 4954,
    "start_time": "2022-02-08T15:32:29.269Z"
   },
   {
    "duration": 653,
    "start_time": "2022-02-08T15:32:45.702Z"
   },
   {
    "duration": 77,
    "start_time": "2022-02-08T15:33:22.624Z"
   },
   {
    "duration": 4,
    "start_time": "2022-02-08T15:36:34.207Z"
   },
   {
    "duration": 5,
    "start_time": "2022-02-08T15:36:35.227Z"
   },
   {
    "duration": 6,
    "start_time": "2022-02-08T15:36:40.957Z"
   },
   {
    "duration": 21,
    "start_time": "2022-02-08T15:36:41.715Z"
   },
   {
    "duration": 523,
    "start_time": "2022-02-08T15:36:50.503Z"
   },
   {
    "duration": 14,
    "start_time": "2022-02-08T15:37:40.301Z"
   },
   {
    "duration": 11,
    "start_time": "2022-02-08T15:39:34.228Z"
   },
   {
    "duration": 22,
    "start_time": "2022-02-08T15:39:40.394Z"
   },
   {
    "duration": 29,
    "start_time": "2022-02-08T15:46:32.153Z"
   },
   {
    "duration": 12,
    "start_time": "2022-02-08T15:46:45.299Z"
   },
   {
    "duration": 9,
    "start_time": "2022-02-08T15:47:17.548Z"
   },
   {
    "duration": 10,
    "start_time": "2022-02-08T15:47:28.969Z"
   },
   {
    "duration": 13,
    "start_time": "2022-02-08T15:49:00.182Z"
   },
   {
    "duration": 4,
    "start_time": "2022-02-08T15:49:16.413Z"
   },
   {
    "duration": 18,
    "start_time": "2022-02-08T15:52:28.667Z"
   },
   {
    "duration": 3,
    "start_time": "2022-02-08T15:55:02.015Z"
   },
   {
    "duration": 4,
    "start_time": "2022-02-08T15:55:09.353Z"
   },
   {
    "duration": 6,
    "start_time": "2022-02-08T15:56:41.241Z"
   },
   {
    "duration": 17,
    "start_time": "2022-02-08T15:57:25.905Z"
   },
   {
    "duration": 5,
    "start_time": "2022-02-08T15:57:27.820Z"
   },
   {
    "duration": 6,
    "start_time": "2022-02-08T15:57:33.005Z"
   },
   {
    "duration": 5,
    "start_time": "2022-02-08T16:26:11.233Z"
   },
   {
    "duration": 22,
    "start_time": "2022-02-08T16:26:19.956Z"
   },
   {
    "duration": 6,
    "start_time": "2022-02-08T16:26:45.521Z"
   },
   {
    "duration": 6977,
    "start_time": "2022-02-08T16:27:28.794Z"
   },
   {
    "duration": 6,
    "start_time": "2022-02-08T16:27:43.520Z"
   },
   {
    "duration": 4,
    "start_time": "2022-02-08T16:29:03.583Z"
   },
   {
    "duration": 4,
    "start_time": "2022-02-08T16:29:08.793Z"
   },
   {
    "duration": 8,
    "start_time": "2022-02-08T16:29:39.085Z"
   },
   {
    "duration": 283,
    "start_time": "2022-02-08T16:31:17.619Z"
   },
   {
    "duration": 5,
    "start_time": "2022-02-08T16:43:07.408Z"
   },
   {
    "duration": 13,
    "start_time": "2022-02-08T16:43:13.489Z"
   },
   {
    "duration": 15,
    "start_time": "2022-02-08T16:55:01.542Z"
   },
   {
    "duration": 13,
    "start_time": "2022-02-08T16:58:13.122Z"
   },
   {
    "duration": 11,
    "start_time": "2022-02-08T16:58:25.788Z"
   },
   {
    "duration": 8,
    "start_time": "2022-02-08T16:59:04.854Z"
   },
   {
    "duration": 84,
    "start_time": "2022-02-08T17:03:28.588Z"
   },
   {
    "duration": 8,
    "start_time": "2022-02-08T17:03:36.268Z"
   },
   {
    "duration": 6,
    "start_time": "2022-02-08T17:03:57.971Z"
   },
   {
    "duration": 8,
    "start_time": "2022-02-08T17:06:36.322Z"
   },
   {
    "duration": 8,
    "start_time": "2022-02-08T17:08:30.752Z"
   },
   {
    "duration": 15,
    "start_time": "2022-02-08T17:09:42.378Z"
   },
   {
    "duration": 6,
    "start_time": "2022-02-08T17:10:14.871Z"
   },
   {
    "duration": 18,
    "start_time": "2022-02-08T17:11:19.006Z"
   },
   {
    "duration": 8,
    "start_time": "2022-02-08T17:18:41.812Z"
   },
   {
    "duration": 8,
    "start_time": "2022-02-08T17:19:06.318Z"
   },
   {
    "duration": 9,
    "start_time": "2022-02-08T17:19:13.866Z"
   },
   {
    "duration": 8,
    "start_time": "2022-02-08T17:19:33.577Z"
   },
   {
    "duration": 9,
    "start_time": "2022-02-08T17:26:05.467Z"
   },
   {
    "duration": 7,
    "start_time": "2022-02-08T17:27:21.500Z"
   },
   {
    "duration": 6,
    "start_time": "2022-02-08T17:28:44.215Z"
   },
   {
    "duration": 86,
    "start_time": "2022-02-08T17:29:12.255Z"
   },
   {
    "duration": 443,
    "start_time": "2022-02-08T17:29:16.132Z"
   },
   {
    "duration": 19,
    "start_time": "2022-02-08T17:29:22.731Z"
   },
   {
    "duration": 28,
    "start_time": "2022-02-08T17:32:25.389Z"
   },
   {
    "duration": 6,
    "start_time": "2022-02-08T17:34:01.661Z"
   },
   {
    "duration": 270,
    "start_time": "2022-02-08T17:39:35.928Z"
   },
   {
    "duration": 5,
    "start_time": "2022-02-08T17:39:38.952Z"
   },
   {
    "duration": 6,
    "start_time": "2022-02-08T17:40:01.162Z"
   },
   {
    "duration": 5,
    "start_time": "2022-02-08T17:40:16.140Z"
   },
   {
    "duration": 3,
    "start_time": "2022-02-08T17:40:19.681Z"
   },
   {
    "duration": 6,
    "start_time": "2022-02-08T17:40:38.543Z"
   },
   {
    "duration": 5,
    "start_time": "2022-02-08T17:40:52.808Z"
   },
   {
    "duration": 305,
    "start_time": "2022-02-08T17:41:09.097Z"
   },
   {
    "duration": 3,
    "start_time": "2022-02-08T17:42:24.030Z"
   },
   {
    "duration": 5,
    "start_time": "2022-02-08T17:42:30.368Z"
   },
   {
    "duration": 5,
    "start_time": "2022-02-08T17:42:56.171Z"
   },
   {
    "duration": 5,
    "start_time": "2022-02-08T17:43:07.609Z"
   },
   {
    "duration": 837,
    "start_time": "2022-02-08T17:43:34.197Z"
   },
   {
    "duration": 21,
    "start_time": "2022-02-08T17:43:35.397Z"
   },
   {
    "duration": 25,
    "start_time": "2022-02-08T17:43:41.200Z"
   },
   {
    "duration": 4,
    "start_time": "2022-02-08T17:43:41.558Z"
   },
   {
    "duration": 6,
    "start_time": "2022-02-08T17:43:47.355Z"
   },
   {
    "duration": 6,
    "start_time": "2022-02-08T17:43:48.367Z"
   },
   {
    "duration": 4,
    "start_time": "2022-02-08T17:43:50.609Z"
   },
   {
    "duration": 5,
    "start_time": "2022-02-08T17:43:51.340Z"
   },
   {
    "duration": 5,
    "start_time": "2022-02-08T17:43:57.434Z"
   },
   {
    "duration": 5,
    "start_time": "2022-02-08T17:44:28.210Z"
   },
   {
    "duration": 5,
    "start_time": "2022-02-08T17:44:35.739Z"
   },
   {
    "duration": 3,
    "start_time": "2022-02-08T18:00:12.158Z"
   },
   {
    "duration": 4,
    "start_time": "2022-02-08T18:00:13.460Z"
   },
   {
    "duration": 23,
    "start_time": "2022-02-08T18:37:41.587Z"
   },
   {
    "duration": 11,
    "start_time": "2022-02-08T18:38:07.099Z"
   },
   {
    "duration": 12,
    "start_time": "2022-02-08T18:39:09.097Z"
   },
   {
    "duration": 6,
    "start_time": "2022-02-08T18:49:11.360Z"
   },
   {
    "duration": 3,
    "start_time": "2022-02-08T18:49:58.880Z"
   },
   {
    "duration": 11,
    "start_time": "2022-02-08T18:50:29.309Z"
   },
   {
    "duration": 13,
    "start_time": "2022-02-08T18:51:28.833Z"
   },
   {
    "duration": 652,
    "start_time": "2022-02-08T18:52:31.102Z"
   },
   {
    "duration": 594,
    "start_time": "2022-02-08T18:52:49.018Z"
   },
   {
    "duration": 275,
    "start_time": "2022-02-08T18:53:25.535Z"
   },
   {
    "duration": 7,
    "start_time": "2022-02-08T18:53:36.181Z"
   },
   {
    "duration": 16,
    "start_time": "2022-02-08T18:53:49.248Z"
   },
   {
    "duration": 17,
    "start_time": "2022-02-08T18:54:15.944Z"
   },
   {
    "duration": 237,
    "start_time": "2022-02-08T18:54:27.787Z"
   },
   {
    "duration": 4,
    "start_time": "2022-02-08T18:54:52.822Z"
   },
   {
    "duration": 148,
    "start_time": "2022-02-08T18:55:13.378Z"
   },
   {
    "duration": 143,
    "start_time": "2022-02-08T18:57:38.133Z"
   },
   {
    "duration": 272,
    "start_time": "2022-02-08T18:58:41.440Z"
   },
   {
    "duration": 260,
    "start_time": "2022-02-08T18:58:52.233Z"
   },
   {
    "duration": 146,
    "start_time": "2022-02-08T18:59:08.167Z"
   },
   {
    "duration": 243,
    "start_time": "2022-02-08T19:00:42.451Z"
   },
   {
    "duration": 225,
    "start_time": "2022-02-08T19:01:06.840Z"
   },
   {
    "duration": 491,
    "start_time": "2022-02-08T19:01:24.301Z"
   },
   {
    "duration": 496,
    "start_time": "2022-02-08T19:01:36.740Z"
   },
   {
    "duration": 808,
    "start_time": "2022-02-08T19:01:52.860Z"
   },
   {
    "duration": 498,
    "start_time": "2022-02-08T19:03:39.516Z"
   },
   {
    "duration": 100,
    "start_time": "2022-02-08T19:04:03.094Z"
   },
   {
    "duration": 255,
    "start_time": "2022-02-08T19:04:09.258Z"
   },
   {
    "duration": 263,
    "start_time": "2022-02-08T19:04:52.069Z"
   },
   {
    "duration": 90,
    "start_time": "2022-02-08T19:05:31.977Z"
   },
   {
    "duration": 90,
    "start_time": "2022-02-08T19:05:36.423Z"
   },
   {
    "duration": 449,
    "start_time": "2022-02-08T19:05:40.758Z"
   },
   {
    "duration": 344,
    "start_time": "2022-02-08T19:05:47.496Z"
   },
   {
    "duration": 497,
    "start_time": "2022-02-08T19:07:18.437Z"
   },
   {
    "duration": 541,
    "start_time": "2022-02-08T19:08:07.691Z"
   },
   {
    "duration": 261,
    "start_time": "2022-02-08T19:08:20.187Z"
   },
   {
    "duration": 290,
    "start_time": "2022-02-08T19:08:27.300Z"
   },
   {
    "duration": 300,
    "start_time": "2022-02-08T19:09:28.900Z"
   },
   {
    "duration": 285,
    "start_time": "2022-02-08T19:09:40.051Z"
   },
   {
    "duration": 210,
    "start_time": "2022-02-08T19:09:51.974Z"
   },
   {
    "duration": 307,
    "start_time": "2022-02-08T19:10:50.858Z"
   },
   {
    "duration": 306,
    "start_time": "2022-02-08T19:11:24.316Z"
   },
   {
    "duration": 505,
    "start_time": "2022-02-08T19:13:51.988Z"
   },
   {
    "duration": 514,
    "start_time": "2022-02-08T19:14:53.892Z"
   },
   {
    "duration": 527,
    "start_time": "2022-02-08T19:15:00.737Z"
   },
   {
    "duration": 1287,
    "start_time": "2022-02-08T19:15:05.518Z"
   },
   {
    "duration": 517,
    "start_time": "2022-02-08T19:15:09.332Z"
   },
   {
    "duration": 666,
    "start_time": "2022-02-08T19:15:24.717Z"
   },
   {
    "duration": 345,
    "start_time": "2022-02-08T19:18:19.017Z"
   },
   {
    "duration": 51715,
    "start_time": "2022-02-08T19:18:38.858Z"
   },
   {
    "duration": 739,
    "start_time": "2022-02-08T19:20:01.507Z"
   },
   {
    "duration": 6990,
    "start_time": "2022-02-08T19:20:13.602Z"
   },
   {
    "duration": 310,
    "start_time": "2022-02-08T19:20:28.567Z"
   },
   {
    "duration": 308,
    "start_time": "2022-02-08T19:20:45.659Z"
   },
   {
    "duration": 532,
    "start_time": "2022-02-08T19:21:02.011Z"
   },
   {
    "duration": 301,
    "start_time": "2022-02-08T19:21:53.260Z"
   },
   {
    "duration": 305,
    "start_time": "2022-02-08T19:22:12.555Z"
   },
   {
    "duration": 315,
    "start_time": "2022-02-08T19:22:26.561Z"
   },
   {
    "duration": 326,
    "start_time": "2022-02-08T19:22:34.158Z"
   },
   {
    "duration": 921,
    "start_time": "2022-02-08T19:22:42.024Z"
   },
   {
    "duration": 501,
    "start_time": "2022-02-08T19:30:13.054Z"
   },
   {
    "duration": 292,
    "start_time": "2022-02-08T19:30:36.879Z"
   },
   {
    "duration": 301,
    "start_time": "2022-02-08T19:32:22.119Z"
   },
   {
    "duration": 645,
    "start_time": "2022-02-08T19:32:32.833Z"
   },
   {
    "duration": 296,
    "start_time": "2022-02-08T19:32:41.191Z"
   },
   {
    "duration": 313,
    "start_time": "2022-02-08T19:34:51.836Z"
   },
   {
    "duration": 292,
    "start_time": "2022-02-08T19:35:55.477Z"
   },
   {
    "duration": 83,
    "start_time": "2022-02-08T19:37:22.954Z"
   },
   {
    "duration": 515,
    "start_time": "2022-02-08T19:37:29.083Z"
   },
   {
    "duration": 54267,
    "start_time": "2022-02-08T19:44:53.343Z"
   },
   {
    "duration": 14328,
    "start_time": "2022-02-08T19:46:32.792Z"
   },
   {
    "duration": 15780,
    "start_time": "2022-02-08T19:46:58.747Z"
   },
   {
    "duration": 386,
    "start_time": "2022-02-08T19:47:34.277Z"
   },
   {
    "duration": 364,
    "start_time": "2022-02-08T19:47:48.275Z"
   },
   {
    "duration": 794,
    "start_time": "2022-02-08T19:48:54.661Z"
   },
   {
    "duration": 12910,
    "start_time": "2022-02-08T19:49:17.822Z"
   },
   {
    "duration": 11,
    "start_time": "2022-02-08T19:49:33.803Z"
   },
   {
    "duration": 216,
    "start_time": "2022-02-08T19:49:50.547Z"
   },
   {
    "duration": 7661,
    "start_time": "2022-02-08T19:50:37.189Z"
   },
   {
    "duration": 6693,
    "start_time": "2022-02-08T19:51:24.766Z"
   },
   {
    "duration": 221,
    "start_time": "2022-02-08T19:51:56.818Z"
   },
   {
    "duration": 6865,
    "start_time": "2022-02-08T19:52:03.078Z"
   },
   {
    "duration": 909,
    "start_time": "2022-02-08T19:52:18.104Z"
   },
   {
    "duration": 218,
    "start_time": "2022-02-08T19:52:43.924Z"
   },
   {
    "duration": 8254,
    "start_time": "2022-02-08T19:53:16.330Z"
   },
   {
    "duration": 7246,
    "start_time": "2022-02-08T19:53:34.943Z"
   },
   {
    "duration": -392,
    "start_time": "2022-02-08T19:54:15.815Z"
   },
   {
    "duration": 80,
    "start_time": "2022-02-08T19:55:11.821Z"
   },
   {
    "duration": 241,
    "start_time": "2022-02-08T19:55:18.497Z"
   },
   {
    "duration": 693,
    "start_time": "2022-02-08T19:56:22.313Z"
   },
   {
    "duration": 231,
    "start_time": "2022-02-08T19:57:17.835Z"
   },
   {
    "duration": 236,
    "start_time": "2022-02-08T19:59:12.924Z"
   },
   {
    "duration": 234,
    "start_time": "2022-02-08T19:59:38.185Z"
   },
   {
    "duration": 241,
    "start_time": "2022-02-08T20:00:24.962Z"
   },
   {
    "duration": 88,
    "start_time": "2022-02-08T20:01:50.687Z"
   },
   {
    "duration": 506,
    "start_time": "2022-02-08T20:01:55.067Z"
   },
   {
    "duration": 689,
    "start_time": "2022-02-08T20:02:36.166Z"
   },
   {
    "duration": 6988,
    "start_time": "2022-02-08T20:03:19.125Z"
   },
   {
    "duration": 230,
    "start_time": "2022-02-08T20:03:58.234Z"
   },
   {
    "duration": 306,
    "start_time": "2022-02-08T20:04:59.771Z"
   },
   {
    "duration": 323,
    "start_time": "2022-02-08T20:05:35.985Z"
   },
   {
    "duration": 329,
    "start_time": "2022-02-08T20:06:02.681Z"
   },
   {
    "duration": 315,
    "start_time": "2022-02-08T20:06:33.909Z"
   },
   {
    "duration": 3,
    "start_time": "2022-02-08T20:06:56.073Z"
   },
   {
    "duration": 300,
    "start_time": "2022-02-08T20:07:27.128Z"
   },
   {
    "duration": 241,
    "start_time": "2022-02-08T20:08:16.556Z"
   },
   {
    "duration": 3,
    "start_time": "2022-02-08T20:09:04.964Z"
   },
   {
    "duration": 4,
    "start_time": "2022-02-08T20:09:05.513Z"
   },
   {
    "duration": 1176,
    "start_time": "2022-02-08T20:09:36.417Z"
   },
   {
    "duration": 675,
    "start_time": "2022-02-08T20:10:15.606Z"
   },
   {
    "duration": 314,
    "start_time": "2022-02-08T20:10:42.438Z"
   },
   {
    "duration": 317,
    "start_time": "2022-02-08T20:11:06.145Z"
   },
   {
    "duration": 254,
    "start_time": "2022-02-08T20:11:26.260Z"
   },
   {
    "duration": 254,
    "start_time": "2022-02-08T20:11:30.339Z"
   },
   {
    "duration": 715,
    "start_time": "2022-02-08T20:12:00.621Z"
   },
   {
    "duration": 724,
    "start_time": "2022-02-08T20:12:19.259Z"
   },
   {
    "duration": 945,
    "start_time": "2022-02-08T20:12:32.489Z"
   },
   {
    "duration": 720,
    "start_time": "2022-02-08T20:12:39.958Z"
   },
   {
    "duration": 5,
    "start_time": "2022-02-08T20:14:05.389Z"
   },
   {
    "duration": 5,
    "start_time": "2022-02-08T20:15:02.158Z"
   },
   {
    "duration": 4,
    "start_time": "2022-02-08T20:15:08.325Z"
   },
   {
    "duration": 4,
    "start_time": "2022-02-08T20:15:15.042Z"
   },
   {
    "duration": 4,
    "start_time": "2022-02-08T20:16:23.965Z"
   },
   {
    "duration": 313,
    "start_time": "2022-02-08T20:16:41.996Z"
   },
   {
    "duration": 314,
    "start_time": "2022-02-08T20:19:28.881Z"
   },
   {
    "duration": 316,
    "start_time": "2022-02-08T20:20:01.383Z"
   },
   {
    "duration": 299,
    "start_time": "2022-02-08T20:20:38.338Z"
   },
   {
    "duration": 85,
    "start_time": "2022-02-09T17:58:56.685Z"
   },
   {
    "duration": 1911,
    "start_time": "2022-02-10T12:29:09.225Z"
   },
   {
    "duration": 1277,
    "start_time": "2022-02-10T12:29:14.898Z"
   },
   {
    "duration": 34,
    "start_time": "2022-02-10T12:29:18.296Z"
   },
   {
    "duration": 416,
    "start_time": "2022-02-10T12:30:09.173Z"
   },
   {
    "duration": 17,
    "start_time": "2022-02-10T12:30:24.155Z"
   },
   {
    "duration": 11,
    "start_time": "2022-02-10T12:34:56.173Z"
   },
   {
    "duration": 27,
    "start_time": "2022-02-10T12:36:56.943Z"
   },
   {
    "duration": 369,
    "start_time": "2022-02-10T12:37:35.486Z"
   },
   {
    "duration": 17,
    "start_time": "2022-02-10T12:38:48.259Z"
   },
   {
    "duration": 12,
    "start_time": "2022-02-10T12:39:01.585Z"
   },
   {
    "duration": 367,
    "start_time": "2022-02-10T12:40:35.783Z"
   },
   {
    "duration": 317,
    "start_time": "2022-02-10T12:41:53.445Z"
   },
   {
    "duration": 369,
    "start_time": "2022-02-10T12:42:07.361Z"
   },
   {
    "duration": 365,
    "start_time": "2022-02-10T12:42:48.463Z"
   },
   {
    "duration": 365,
    "start_time": "2022-02-10T12:43:58.748Z"
   },
   {
    "duration": 282,
    "start_time": "2022-02-10T12:44:11.462Z"
   },
   {
    "duration": 11,
    "start_time": "2022-02-10T12:44:28.474Z"
   },
   {
    "duration": 7,
    "start_time": "2022-02-10T12:44:30.259Z"
   },
   {
    "duration": 4,
    "start_time": "2022-02-10T12:44:39.940Z"
   },
   {
    "duration": 6,
    "start_time": "2022-02-10T12:44:40.448Z"
   },
   {
    "duration": 5,
    "start_time": "2022-02-10T12:44:43.625Z"
   },
   {
    "duration": 239,
    "start_time": "2022-02-10T12:49:16.423Z"
   },
   {
    "duration": 14,
    "start_time": "2022-02-10T12:49:25.223Z"
   },
   {
    "duration": 18,
    "start_time": "2022-02-10T12:49:31.097Z"
   },
   {
    "duration": 18,
    "start_time": "2022-02-10T12:50:14.283Z"
   },
   {
    "duration": 10,
    "start_time": "2022-02-10T12:50:31.600Z"
   },
   {
    "duration": 6,
    "start_time": "2022-02-10T12:55:37.544Z"
   },
   {
    "duration": 7,
    "start_time": "2022-02-10T12:55:38.133Z"
   },
   {
    "duration": 6,
    "start_time": "2022-02-10T12:55:38.557Z"
   },
   {
    "duration": 5,
    "start_time": "2022-02-10T12:55:41.055Z"
   },
   {
    "duration": 498,
    "start_time": "2022-02-10T12:55:42.093Z"
   },
   {
    "duration": 413,
    "start_time": "2022-02-10T12:55:45.068Z"
   },
   {
    "duration": 420,
    "start_time": "2022-02-10T12:55:47.922Z"
   },
   {
    "duration": 66,
    "start_time": "2022-02-10T12:56:49.091Z"
   },
   {
    "duration": 47,
    "start_time": "2022-02-10T12:57:17.760Z"
   },
   {
    "duration": 39,
    "start_time": "2022-02-10T12:57:34.090Z"
   },
   {
    "duration": 124,
    "start_time": "2022-02-10T12:57:48.719Z"
   },
   {
    "duration": 39,
    "start_time": "2022-02-10T12:57:58.664Z"
   },
   {
    "duration": 97,
    "start_time": "2022-02-10T12:58:08.246Z"
   },
   {
    "duration": 12,
    "start_time": "2022-02-10T12:59:09.510Z"
   },
   {
    "duration": 313,
    "start_time": "2022-02-10T12:59:20.635Z"
   },
   {
    "duration": 261,
    "start_time": "2022-02-10T12:59:35.112Z"
   },
   {
    "duration": 1221,
    "start_time": "2022-02-10T13:00:04.272Z"
   },
   {
    "duration": 1021,
    "start_time": "2022-02-10T13:00:27.953Z"
   },
   {
    "duration": 241,
    "start_time": "2022-02-10T13:00:37.948Z"
   },
   {
    "duration": 1719,
    "start_time": "2022-02-10T13:00:59.581Z"
   },
   {
    "duration": 1704,
    "start_time": "2022-02-10T13:01:04.817Z"
   },
   {
    "duration": 2713,
    "start_time": "2022-02-10T13:01:35.823Z"
   },
   {
    "duration": 3071,
    "start_time": "2022-02-10T13:02:23.910Z"
   },
   {
    "duration": 4183,
    "start_time": "2022-02-10T13:03:12.063Z"
   },
   {
    "duration": 4262,
    "start_time": "2022-02-10T13:03:39.615Z"
   },
   {
    "duration": 15,
    "start_time": "2022-02-10T13:05:42.056Z"
   },
   {
    "duration": 240,
    "start_time": "2022-02-10T13:05:55.791Z"
   },
   {
    "duration": 14,
    "start_time": "2022-02-10T13:06:09.477Z"
   },
   {
    "duration": 9,
    "start_time": "2022-02-10T13:06:13.830Z"
   },
   {
    "duration": 12,
    "start_time": "2022-02-10T13:06:24.067Z"
   },
   {
    "duration": 32,
    "start_time": "2022-02-10T13:06:27.204Z"
   },
   {
    "duration": 191,
    "start_time": "2022-02-10T13:08:51.990Z"
   },
   {
    "duration": 179,
    "start_time": "2022-02-10T13:08:55.987Z"
   },
   {
    "duration": 349,
    "start_time": "2022-02-10T13:09:13.176Z"
   },
   {
    "duration": 7,
    "start_time": "2022-02-10T13:10:13.943Z"
   },
   {
    "duration": 29,
    "start_time": "2022-02-10T13:10:19.878Z"
   },
   {
    "duration": 91,
    "start_time": "2022-02-10T13:12:24.896Z"
   },
   {
    "duration": 5964,
    "start_time": "2022-02-10T13:12:29.345Z"
   },
   {
    "duration": 29,
    "start_time": "2022-02-10T13:12:42.907Z"
   },
   {
    "duration": 248,
    "start_time": "2022-02-10T13:13:18.107Z"
   },
   {
    "duration": 296,
    "start_time": "2022-02-10T13:13:21.761Z"
   },
   {
    "duration": 42,
    "start_time": "2022-02-10T13:13:23.865Z"
   },
   {
    "duration": 10,
    "start_time": "2022-02-10T13:13:40.364Z"
   },
   {
    "duration": 5,
    "start_time": "2022-02-10T13:14:01.464Z"
   },
   {
    "duration": 56,
    "start_time": "2022-02-10T13:14:08.119Z"
   },
   {
    "duration": 25,
    "start_time": "2022-02-10T13:15:01.230Z"
   },
   {
    "duration": 6,
    "start_time": "2022-02-10T13:15:19.947Z"
   },
   {
    "duration": 7,
    "start_time": "2022-02-10T13:15:27.684Z"
   },
   {
    "duration": 6,
    "start_time": "2022-02-10T13:15:36.317Z"
   },
   {
    "duration": 7,
    "start_time": "2022-02-10T13:16:11.887Z"
   },
   {
    "duration": 10,
    "start_time": "2022-02-10T13:16:20.023Z"
   },
   {
    "duration": 10,
    "start_time": "2022-02-10T13:16:32.220Z"
   },
   {
    "duration": 11,
    "start_time": "2022-02-10T13:16:48.741Z"
   },
   {
    "duration": 11,
    "start_time": "2022-02-10T13:24:52.335Z"
   },
   {
    "duration": 11,
    "start_time": "2022-02-10T13:25:20.415Z"
   },
   {
    "duration": 6,
    "start_time": "2022-02-10T13:27:26.752Z"
   },
   {
    "duration": 8,
    "start_time": "2022-02-10T13:27:44.124Z"
   },
   {
    "duration": 14,
    "start_time": "2022-02-10T13:27:55.952Z"
   },
   {
    "duration": 32,
    "start_time": "2022-02-10T13:28:05.990Z"
   },
   {
    "duration": 10,
    "start_time": "2022-02-10T13:30:08.630Z"
   },
   {
    "duration": 82,
    "start_time": "2022-02-10T13:34:42.394Z"
   },
   {
    "duration": 320,
    "start_time": "2022-02-10T13:34:52.743Z"
   },
   {
    "duration": 252,
    "start_time": "2022-02-10T13:35:20.434Z"
   },
   {
    "duration": 250,
    "start_time": "2022-02-10T13:36:58.972Z"
   },
   {
    "duration": 256,
    "start_time": "2022-02-10T13:37:12.187Z"
   },
   {
    "duration": 293,
    "start_time": "2022-02-10T13:37:49.127Z"
   },
   {
    "duration": 250,
    "start_time": "2022-02-10T13:39:19.367Z"
   },
   {
    "duration": 105,
    "start_time": "2022-02-10T13:39:28.998Z"
   },
   {
    "duration": 336,
    "start_time": "2022-02-10T13:39:30.724Z"
   },
   {
    "duration": 246,
    "start_time": "2022-02-10T13:39:45.473Z"
   },
   {
    "duration": 92,
    "start_time": "2022-02-10T13:40:27.074Z"
   },
   {
    "duration": 267,
    "start_time": "2022-02-10T13:40:39.548Z"
   },
   {
    "duration": 319,
    "start_time": "2022-02-10T13:42:05.989Z"
   },
   {
    "duration": 246,
    "start_time": "2022-02-10T13:46:04.444Z"
   },
   {
    "duration": 16,
    "start_time": "2022-02-10T13:46:15.453Z"
   },
   {
    "duration": 20,
    "start_time": "2022-02-10T13:46:57.384Z"
   },
   {
    "duration": 255,
    "start_time": "2022-02-10T13:47:19.766Z"
   },
   {
    "duration": 18,
    "start_time": "2022-02-10T13:47:27.477Z"
   },
   {
    "duration": 14,
    "start_time": "2022-02-10T13:47:38.533Z"
   },
   {
    "duration": 12,
    "start_time": "2022-02-10T13:47:50.191Z"
   },
   {
    "duration": 50,
    "start_time": "2022-02-10T13:49:50.831Z"
   },
   {
    "duration": 42,
    "start_time": "2022-02-10T13:50:05.226Z"
   },
   {
    "duration": 40,
    "start_time": "2022-02-10T13:50:30.393Z"
   },
   {
    "duration": 6563,
    "start_time": "2022-02-10T13:50:52.700Z"
   },
   {
    "duration": 11,
    "start_time": "2022-02-10T13:51:20.570Z"
   },
   {
    "duration": 6661,
    "start_time": "2022-02-10T13:51:29.199Z"
   },
   {
    "duration": 8,
    "start_time": "2022-02-10T13:51:41.714Z"
   },
   {
    "duration": 7418,
    "start_time": "2022-02-10T13:52:02.458Z"
   },
   {
    "duration": 10,
    "start_time": "2022-02-10T13:52:11.260Z"
   },
   {
    "duration": 15,
    "start_time": "2022-02-10T13:53:11.582Z"
   },
   {
    "duration": 33,
    "start_time": "2022-02-10T13:53:33.298Z"
   },
   {
    "duration": 13,
    "start_time": "2022-02-10T13:54:09.115Z"
   },
   {
    "duration": 14,
    "start_time": "2022-02-10T13:54:27.144Z"
   },
   {
    "duration": 11,
    "start_time": "2022-02-10T13:54:36.899Z"
   },
   {
    "duration": 9,
    "start_time": "2022-02-10T13:54:55.317Z"
   },
   {
    "duration": 12,
    "start_time": "2022-02-10T13:55:04.180Z"
   },
   {
    "duration": 97,
    "start_time": "2022-02-10T13:55:09.041Z"
   },
   {
    "duration": 11,
    "start_time": "2022-02-10T13:55:11.469Z"
   },
   {
    "duration": 91,
    "start_time": "2022-02-10T13:55:13.768Z"
   },
   {
    "duration": 11,
    "start_time": "2022-02-10T13:55:18.859Z"
   },
   {
    "duration": 52,
    "start_time": "2022-02-10T13:55:30.735Z"
   },
   {
    "duration": 13,
    "start_time": "2022-02-10T13:55:35.353Z"
   },
   {
    "duration": 59,
    "start_time": "2022-02-10T13:55:54.497Z"
   },
   {
    "duration": 40,
    "start_time": "2022-02-10T13:56:36.133Z"
   },
   {
    "duration": 11,
    "start_time": "2022-02-10T14:00:30.305Z"
   },
   {
    "duration": 29,
    "start_time": "2022-02-10T14:00:45.165Z"
   },
   {
    "duration": 29,
    "start_time": "2022-02-10T14:01:01.576Z"
   },
   {
    "duration": 31,
    "start_time": "2022-02-10T14:01:10.189Z"
   },
   {
    "duration": 11,
    "start_time": "2022-02-10T14:03:41.887Z"
   },
   {
    "duration": 266,
    "start_time": "2022-02-10T14:04:11.351Z"
   },
   {
    "duration": 64,
    "start_time": "2022-02-10T14:04:24.130Z"
   },
   {
    "duration": 18,
    "start_time": "2022-02-10T14:05:30.294Z"
   },
   {
    "duration": 17,
    "start_time": "2022-02-10T14:05:35.832Z"
   },
   {
    "duration": 10,
    "start_time": "2022-02-10T14:08:10.513Z"
   },
   {
    "duration": 39,
    "start_time": "2022-02-10T14:08:17.163Z"
   },
   {
    "duration": 11,
    "start_time": "2022-02-10T14:08:21.805Z"
   },
   {
    "duration": 47,
    "start_time": "2022-02-10T14:10:08.207Z"
   },
   {
    "duration": 79,
    "start_time": "2022-02-10T14:10:20.540Z"
   },
   {
    "duration": 11,
    "start_time": "2022-02-10T14:10:59.978Z"
   },
   {
    "duration": 9,
    "start_time": "2022-02-10T14:11:10.713Z"
   },
   {
    "duration": 1297,
    "start_time": "2022-02-10T14:14:51.538Z"
   },
   {
    "duration": 9,
    "start_time": "2022-02-10T14:15:30.568Z"
   },
   {
    "duration": 274,
    "start_time": "2022-02-10T14:15:39.556Z"
   },
   {
    "duration": 16,
    "start_time": "2022-02-10T14:15:48.041Z"
   },
   {
    "duration": 8,
    "start_time": "2022-02-10T14:16:00.654Z"
   },
   {
    "duration": 7,
    "start_time": "2022-02-10T14:16:01.470Z"
   },
   {
    "duration": 4,
    "start_time": "2022-02-10T14:16:02.867Z"
   },
   {
    "duration": 7,
    "start_time": "2022-02-10T14:16:03.564Z"
   },
   {
    "duration": 13,
    "start_time": "2022-02-10T14:16:06.637Z"
   },
   {
    "duration": 15,
    "start_time": "2022-02-10T14:16:06.899Z"
   },
   {
    "duration": 8,
    "start_time": "2022-02-10T14:16:07.166Z"
   },
   {
    "duration": 16,
    "start_time": "2022-02-10T14:16:07.975Z"
   },
   {
    "duration": 33,
    "start_time": "2022-02-10T14:16:08.260Z"
   },
   {
    "duration": 12,
    "start_time": "2022-02-10T14:16:12.104Z"
   },
   {
    "duration": 7,
    "start_time": "2022-02-10T14:16:12.756Z"
   },
   {
    "duration": 58,
    "start_time": "2022-02-10T14:16:13.542Z"
   },
   {
    "duration": 41,
    "start_time": "2022-02-10T14:16:33.951Z"
   },
   {
    "duration": 6,
    "start_time": "2022-02-10T14:18:17.110Z"
   },
   {
    "duration": 257,
    "start_time": "2022-02-10T14:18:29.074Z"
   },
   {
    "duration": 9,
    "start_time": "2022-02-10T14:18:34.807Z"
   },
   {
    "duration": 6,
    "start_time": "2022-02-10T14:18:48.425Z"
   },
   {
    "duration": 58,
    "start_time": "2022-02-10T14:18:58.222Z"
   },
   {
    "duration": 9,
    "start_time": "2022-02-10T14:19:09.547Z"
   },
   {
    "duration": 23,
    "start_time": "2022-02-10T14:19:18.249Z"
   },
   {
    "duration": 323,
    "start_time": "2022-02-10T17:36:23.215Z"
   },
   {
    "duration": 1525,
    "start_time": "2022-02-10T17:36:27.945Z"
   },
   {
    "duration": 2280,
    "start_time": "2022-02-10T17:36:29.473Z"
   },
   {
    "duration": 25,
    "start_time": "2022-02-10T17:36:31.756Z"
   },
   {
    "duration": 15,
    "start_time": "2022-02-10T17:36:31.784Z"
   },
   {
    "duration": 70,
    "start_time": "2022-02-10T17:36:31.801Z"
   },
   {
    "duration": 391,
    "start_time": "2022-02-10T17:36:31.873Z"
   },
   {
    "duration": 288,
    "start_time": "2022-02-10T17:36:32.267Z"
   },
   {
    "duration": 17,
    "start_time": "2022-02-10T17:36:32.561Z"
   },
   {
    "duration": 9,
    "start_time": "2022-02-10T17:36:32.582Z"
   },
   {
    "duration": 6,
    "start_time": "2022-02-10T17:36:32.594Z"
   },
   {
    "duration": 50,
    "start_time": "2022-02-10T17:36:32.604Z"
   },
   {
    "duration": 7,
    "start_time": "2022-02-10T17:36:32.656Z"
   },
   {
    "duration": 395,
    "start_time": "2022-02-10T17:36:32.665Z"
   },
   {
    "duration": 5,
    "start_time": "2022-02-10T17:36:33.062Z"
   },
   {
    "duration": 21,
    "start_time": "2022-02-10T17:36:33.069Z"
   },
   {
    "duration": 12,
    "start_time": "2022-02-10T17:36:33.092Z"
   },
   {
    "duration": 47,
    "start_time": "2022-02-10T17:36:33.107Z"
   },
   {
    "duration": 31,
    "start_time": "2022-02-10T17:36:33.157Z"
   },
   {
    "duration": 14,
    "start_time": "2022-02-10T17:36:33.190Z"
   },
   {
    "duration": 43,
    "start_time": "2022-02-10T17:36:33.206Z"
   },
   {
    "duration": 8,
    "start_time": "2022-02-10T17:36:33.252Z"
   },
   {
    "duration": 19,
    "start_time": "2022-02-10T17:36:33.263Z"
   },
   {
    "duration": 104,
    "start_time": "2022-02-10T17:36:36.975Z"
   },
   {
    "duration": 354,
    "start_time": "2022-02-10T17:37:17.966Z"
   },
   {
    "duration": 968,
    "start_time": "2022-02-10T17:37:28.808Z"
   },
   {
    "duration": 187,
    "start_time": "2022-02-10T17:38:04.143Z"
   },
   {
    "duration": 100,
    "start_time": "2022-02-10T17:38:18.430Z"
   },
   {
    "duration": 106,
    "start_time": "2022-02-10T17:38:25.234Z"
   },
   {
    "duration": 191,
    "start_time": "2022-02-10T17:38:50.773Z"
   },
   {
    "duration": 100,
    "start_time": "2022-02-10T17:39:26.675Z"
   },
   {
    "duration": 11,
    "start_time": "2022-02-10T17:39:31.633Z"
   },
   {
    "duration": 20,
    "start_time": "2022-02-10T17:39:42.498Z"
   },
   {
    "duration": 306,
    "start_time": "2022-02-10T17:39:58.763Z"
   },
   {
    "duration": 12,
    "start_time": "2022-02-10T17:40:11.335Z"
   },
   {
    "duration": 9,
    "start_time": "2022-02-10T17:40:25.233Z"
   },
   {
    "duration": 10,
    "start_time": "2022-02-10T17:40:37.086Z"
   },
   {
    "duration": 11,
    "start_time": "2022-02-10T17:40:45.809Z"
   },
   {
    "duration": 13,
    "start_time": "2022-02-10T17:40:51.158Z"
   },
   {
    "duration": 16,
    "start_time": "2022-02-10T17:41:00.200Z"
   },
   {
    "duration": 11,
    "start_time": "2022-02-10T17:41:12.157Z"
   },
   {
    "duration": 275,
    "start_time": "2022-02-10T17:41:50.762Z"
   },
   {
    "duration": 12,
    "start_time": "2022-02-10T17:41:55.244Z"
   },
   {
    "duration": 13,
    "start_time": "2022-02-10T17:42:06.792Z"
   },
   {
    "duration": 99,
    "start_time": "2022-02-10T17:42:36.936Z"
   },
   {
    "duration": 288,
    "start_time": "2022-02-10T17:42:39.371Z"
   },
   {
    "duration": 22,
    "start_time": "2022-02-10T17:42:44.506Z"
   },
   {
    "duration": 21,
    "start_time": "2022-02-10T17:43:30.794Z"
   },
   {
    "duration": 20,
    "start_time": "2022-02-10T17:43:45.648Z"
   },
   {
    "duration": 20,
    "start_time": "2022-02-10T17:43:56.572Z"
   },
   {
    "duration": 134,
    "start_time": "2022-02-10T17:44:42.069Z"
   },
   {
    "duration": 167,
    "start_time": "2022-02-10T17:45:07.207Z"
   },
   {
    "duration": 101,
    "start_time": "2022-02-10T17:46:00.626Z"
   },
   {
    "duration": 165,
    "start_time": "2022-02-10T17:46:05.888Z"
   },
   {
    "duration": 2982,
    "start_time": "2022-02-10T17:46:48.327Z"
   },
   {
    "duration": 4950,
    "start_time": "2022-02-10T17:46:56.828Z"
   },
   {
    "duration": 6,
    "start_time": "2022-02-10T17:53:14.958Z"
   },
   {
    "duration": 4,
    "start_time": "2022-02-10T17:53:22.106Z"
   },
   {
    "duration": 5,
    "start_time": "2022-02-10T17:53:26.139Z"
   },
   {
    "duration": 62,
    "start_time": "2022-02-10T17:53:46.964Z"
   },
   {
    "duration": 77,
    "start_time": "2022-02-10T17:54:06.729Z"
   },
   {
    "duration": 840,
    "start_time": "2022-02-10T17:54:27.593Z"
   },
   {
    "duration": 63,
    "start_time": "2022-02-10T17:54:41.349Z"
   },
   {
    "duration": 32,
    "start_time": "2022-02-10T17:54:51.894Z"
   },
   {
    "duration": 33,
    "start_time": "2022-02-10T17:54:58.368Z"
   },
   {
    "duration": 63,
    "start_time": "2022-02-10T17:55:04.469Z"
   },
   {
    "duration": 820,
    "start_time": "2022-02-10T17:55:21.936Z"
   },
   {
    "duration": 64,
    "start_time": "2022-02-10T17:55:41.764Z"
   },
   {
    "duration": 1542,
    "start_time": "2022-02-10T17:56:27.749Z"
   },
   {
    "duration": 3896,
    "start_time": "2022-02-10T17:56:39.883Z"
   },
   {
    "duration": 5,
    "start_time": "2022-02-10T17:58:35.178Z"
   },
   {
    "duration": 6,
    "start_time": "2022-02-10T17:58:38.034Z"
   },
   {
    "duration": 878,
    "start_time": "2022-02-10T17:58:50.651Z"
   },
   {
    "duration": 901,
    "start_time": "2022-02-10T17:59:03.513Z"
   },
   {
    "duration": 1933,
    "start_time": "2022-02-10T17:59:16.474Z"
   },
   {
    "duration": 4,
    "start_time": "2022-02-10T18:00:26.556Z"
   },
   {
    "duration": 2934,
    "start_time": "2022-02-10T18:00:42.551Z"
   },
   {
    "duration": 279,
    "start_time": "2022-02-10T18:11:48.130Z"
   },
   {
    "duration": 7,
    "start_time": "2022-02-10T18:11:54.827Z"
   },
   {
    "duration": 296,
    "start_time": "2022-02-10T18:12:46.913Z"
   },
   {
    "duration": 326,
    "start_time": "2022-02-10T18:12:52.503Z"
   },
   {
    "duration": 386,
    "start_time": "2022-02-10T18:13:09.100Z"
   },
   {
    "duration": 6,
    "start_time": "2022-02-10T18:14:10.983Z"
   },
   {
    "duration": 281,
    "start_time": "2022-02-10T18:14:43.859Z"
   },
   {
    "duration": 289,
    "start_time": "2022-02-10T18:14:50.333Z"
   },
   {
    "duration": 283,
    "start_time": "2022-02-10T18:15:36.303Z"
   },
   {
    "duration": 272,
    "start_time": "2022-02-10T18:15:40.774Z"
   },
   {
    "duration": 719,
    "start_time": "2022-02-10T18:15:56.021Z"
   },
   {
    "duration": 750,
    "start_time": "2022-02-10T18:16:02.784Z"
   },
   {
    "duration": 94,
    "start_time": "2022-02-10T18:17:20.211Z"
   },
   {
    "duration": 284,
    "start_time": "2022-02-10T18:17:24.537Z"
   },
   {
    "duration": 450,
    "start_time": "2022-02-10T18:18:33.780Z"
   },
   {
    "duration": 502,
    "start_time": "2022-02-10T18:18:52.734Z"
   },
   {
    "duration": 532,
    "start_time": "2022-02-10T18:19:20.895Z"
   },
   {
    "duration": 336,
    "start_time": "2022-02-10T18:20:40.385Z"
   },
   {
    "duration": 92664,
    "start_time": "2022-02-10T18:20:44.935Z"
   },
   {
    "duration": 9516,
    "start_time": "2022-02-10T18:22:08.090Z"
   },
   {
    "duration": 508,
    "start_time": "2022-02-10T18:23:08.944Z"
   },
   {
    "duration": 384,
    "start_time": "2022-02-10T18:23:27.876Z"
   },
   {
    "duration": 417,
    "start_time": "2022-02-10T18:23:43.445Z"
   },
   {
    "duration": 415,
    "start_time": "2022-02-10T18:24:34.501Z"
   },
   {
    "duration": 407,
    "start_time": "2022-02-10T18:25:24.303Z"
   },
   {
    "duration": 410,
    "start_time": "2022-02-10T18:25:34.604Z"
   },
   {
    "duration": 421,
    "start_time": "2022-02-10T18:25:41.256Z"
   },
   {
    "duration": 459,
    "start_time": "2022-02-10T18:26:14.915Z"
   },
   {
    "duration": 432,
    "start_time": "2022-02-10T18:26:32.574Z"
   },
   {
    "duration": 428,
    "start_time": "2022-02-10T18:27:12.903Z"
   },
   {
    "duration": 2565,
    "start_time": "2022-02-10T18:27:21.047Z"
   },
   {
    "duration": 611,
    "start_time": "2022-02-10T18:27:31.428Z"
   },
   {
    "duration": 542,
    "start_time": "2022-02-10T18:27:54.576Z"
   },
   {
    "duration": 546,
    "start_time": "2022-02-10T18:28:03.267Z"
   },
   {
    "duration": 640,
    "start_time": "2022-02-10T18:28:17.435Z"
   },
   {
    "duration": 1040,
    "start_time": "2022-02-10T18:30:16.241Z"
   },
   {
    "duration": 726,
    "start_time": "2022-02-10T18:30:49.338Z"
   },
   {
    "duration": 739,
    "start_time": "2022-02-10T18:31:24.787Z"
   },
   {
    "duration": 834,
    "start_time": "2022-02-10T18:31:59.637Z"
   },
   {
    "duration": 875,
    "start_time": "2022-02-10T18:32:30.405Z"
   },
   {
    "duration": 1043,
    "start_time": "2022-02-10T18:33:21.588Z"
   },
   {
    "duration": 860,
    "start_time": "2022-02-10T18:33:54.798Z"
   },
   {
    "duration": 861,
    "start_time": "2022-02-10T18:34:03.618Z"
   },
   {
    "duration": 860,
    "start_time": "2022-02-10T18:34:08.902Z"
   },
   {
    "duration": 614,
    "start_time": "2022-02-10T18:34:24.578Z"
   },
   {
    "duration": 672,
    "start_time": "2022-02-10T18:34:28.853Z"
   },
   {
    "duration": 1038,
    "start_time": "2022-02-10T18:34:50.698Z"
   },
   {
    "duration": 635,
    "start_time": "2022-02-10T18:35:09.048Z"
   },
   {
    "duration": 658,
    "start_time": "2022-02-10T18:36:01.478Z"
   },
   {
    "duration": 666,
    "start_time": "2022-02-10T18:36:23.924Z"
   },
   {
    "duration": 616,
    "start_time": "2022-02-10T18:37:19.902Z"
   },
   {
    "duration": 672,
    "start_time": "2022-02-10T18:37:22.979Z"
   },
   {
    "duration": 640,
    "start_time": "2022-02-10T18:38:02.675Z"
   },
   {
    "duration": 677,
    "start_time": "2022-02-10T18:38:18.861Z"
   },
   {
    "duration": 674,
    "start_time": "2022-02-10T18:38:54.738Z"
   },
   {
    "duration": 660,
    "start_time": "2022-02-10T18:38:58.302Z"
   },
   {
    "duration": 654,
    "start_time": "2022-02-10T18:39:50.414Z"
   },
   {
    "duration": 655,
    "start_time": "2022-02-10T18:39:52.946Z"
   },
   {
    "duration": 650,
    "start_time": "2022-02-10T18:40:35.382Z"
   },
   {
    "duration": 673,
    "start_time": "2022-02-10T18:40:47.337Z"
   },
   {
    "duration": 9,
    "start_time": "2022-02-10T18:43:49.840Z"
   },
   {
    "duration": 10,
    "start_time": "2022-02-10T18:44:01.965Z"
   },
   {
    "duration": 1477,
    "start_time": "2022-02-11T07:06:49.141Z"
   },
   {
    "duration": 843,
    "start_time": "2022-02-11T07:06:50.620Z"
   },
   {
    "duration": 25,
    "start_time": "2022-02-11T07:06:51.466Z"
   },
   {
    "duration": 32,
    "start_time": "2022-02-11T07:06:51.494Z"
   },
   {
    "duration": 25,
    "start_time": "2022-02-11T07:06:51.528Z"
   },
   {
    "duration": 384,
    "start_time": "2022-02-11T07:06:51.555Z"
   },
   {
    "duration": 216,
    "start_time": "2022-02-11T07:06:51.941Z"
   },
   {
    "duration": 13,
    "start_time": "2022-02-11T07:06:52.161Z"
   },
   {
    "duration": 6,
    "start_time": "2022-02-11T07:06:52.177Z"
   },
   {
    "duration": 4,
    "start_time": "2022-02-11T07:06:52.186Z"
   },
   {
    "duration": 35,
    "start_time": "2022-02-11T07:06:52.192Z"
   },
   {
    "duration": 5,
    "start_time": "2022-02-11T07:06:52.230Z"
   },
   {
    "duration": 386,
    "start_time": "2022-02-11T07:06:52.238Z"
   },
   {
    "duration": 5,
    "start_time": "2022-02-11T07:06:52.627Z"
   },
   {
    "duration": 16,
    "start_time": "2022-02-11T07:06:52.634Z"
   },
   {
    "duration": 11,
    "start_time": "2022-02-11T07:06:52.653Z"
   },
   {
    "duration": 15,
    "start_time": "2022-02-11T07:06:52.666Z"
   },
   {
    "duration": 66,
    "start_time": "2022-02-11T07:06:52.683Z"
   },
   {
    "duration": 11,
    "start_time": "2022-02-11T07:06:52.752Z"
   },
   {
    "duration": 5,
    "start_time": "2022-02-11T07:06:52.765Z"
   },
   {
    "duration": 6,
    "start_time": "2022-02-11T07:06:52.773Z"
   },
   {
    "duration": 56,
    "start_time": "2022-02-11T07:06:52.781Z"
   },
   {
    "duration": 168,
    "start_time": "2022-02-11T07:06:52.842Z"
   },
   {
    "duration": 4,
    "start_time": "2022-02-11T07:06:53.013Z"
   },
   {
    "duration": 14,
    "start_time": "2022-02-11T07:06:53.019Z"
   },
   {
    "duration": 4170,
    "start_time": "2022-02-11T07:06:53.035Z"
   },
   {
    "duration": 17,
    "start_time": "2022-02-11T07:06:57.207Z"
   },
   {
    "duration": 8,
    "start_time": "2022-02-11T07:06:57.226Z"
   },
   {
    "duration": 1924,
    "start_time": "2022-02-11T07:06:57.236Z"
   },
   {
    "duration": 5,
    "start_time": "2022-02-11T07:06:59.162Z"
   },
   {
    "duration": 2932,
    "start_time": "2022-02-11T07:06:59.169Z"
   },
   {
    "duration": 451,
    "start_time": "2022-02-11T07:07:02.103Z"
   },
   {
    "duration": 3615,
    "start_time": "2022-02-11T07:06:58.942Z"
   },
   {
    "duration": 3611,
    "start_time": "2022-02-11T07:06:58.948Z"
   },
   {
    "duration": 3611,
    "start_time": "2022-02-11T07:06:58.951Z"
   },
   {
    "duration": 3606,
    "start_time": "2022-02-11T07:06:58.958Z"
   },
   {
    "duration": 3605,
    "start_time": "2022-02-11T07:06:58.961Z"
   },
   {
    "duration": 3605,
    "start_time": "2022-02-11T07:06:58.964Z"
   },
   {
    "duration": 3604,
    "start_time": "2022-02-11T07:06:58.967Z"
   },
   {
    "duration": 3602,
    "start_time": "2022-02-11T07:06:58.971Z"
   },
   {
    "duration": 330,
    "start_time": "2022-02-11T07:07:16.553Z"
   },
   {
    "duration": 40,
    "start_time": "2022-02-11T07:08:15.690Z"
   },
   {
    "duration": 289,
    "start_time": "2022-02-11T07:08:20.046Z"
   },
   {
    "duration": 329,
    "start_time": "2022-02-11T07:08:29.625Z"
   },
   {
    "duration": 6,
    "start_time": "2022-02-11T07:08:33.081Z"
   },
   {
    "duration": 14,
    "start_time": "2022-02-11T07:08:46.603Z"
   },
   {
    "duration": 7,
    "start_time": "2022-02-11T07:09:14.325Z"
   },
   {
    "duration": 6,
    "start_time": "2022-02-11T07:09:26.195Z"
   },
   {
    "duration": 6,
    "start_time": "2022-02-11T07:09:26.621Z"
   },
   {
    "duration": 5,
    "start_time": "2022-02-11T07:09:28.574Z"
   },
   {
    "duration": 429,
    "start_time": "2022-02-11T07:09:29.281Z"
   },
   {
    "duration": 407,
    "start_time": "2022-02-11T07:09:30.169Z"
   },
   {
    "duration": 424,
    "start_time": "2022-02-11T07:09:32.154Z"
   },
   {
    "duration": 772,
    "start_time": "2022-02-11T07:09:43.375Z"
   },
   {
    "duration": 689,
    "start_time": "2022-02-11T07:09:45.223Z"
   },
   {
    "duration": 7,
    "start_time": "2022-02-11T07:11:30.108Z"
   },
   {
    "duration": 4,
    "start_time": "2022-02-11T07:14:41.441Z"
   },
   {
    "duration": 20,
    "start_time": "2022-02-11T07:15:29.137Z"
   },
   {
    "duration": 352,
    "start_time": "2022-02-11T07:15:40.936Z"
   },
   {
    "duration": 430,
    "start_time": "2022-02-11T07:16:05.744Z"
   },
   {
    "duration": 96,
    "start_time": "2022-02-11T07:16:58.597Z"
   },
   {
    "duration": 511,
    "start_time": "2022-02-11T07:17:02.036Z"
   },
   {
    "duration": 290,
    "start_time": "2022-02-11T07:22:09.328Z"
   },
   {
    "duration": 317,
    "start_time": "2022-02-11T07:22:12.921Z"
   },
   {
    "duration": 25,
    "start_time": "2022-02-11T07:22:18.778Z"
   },
   {
    "duration": 336,
    "start_time": "2022-02-11T07:22:29.993Z"
   },
   {
    "duration": 4847,
    "start_time": "2022-02-11T07:23:24.130Z"
   },
   {
    "duration": 24,
    "start_time": "2022-02-11T07:23:33.729Z"
   },
   {
    "duration": 15,
    "start_time": "2022-02-11T07:24:00.469Z"
   },
   {
    "duration": 8,
    "start_time": "2022-02-11T07:24:04.666Z"
   },
   {
    "duration": 349,
    "start_time": "2022-02-11T07:24:44.874Z"
   },
   {
    "duration": 495,
    "start_time": "2022-02-11T07:24:50.805Z"
   },
   {
    "duration": 12,
    "start_time": "2022-02-11T07:25:45.668Z"
   },
   {
    "duration": 293,
    "start_time": "2022-02-11T07:25:51.613Z"
   },
   {
    "duration": 303,
    "start_time": "2022-02-11T07:26:40.323Z"
   },
   {
    "duration": 324,
    "start_time": "2022-02-11T07:26:51.899Z"
   },
   {
    "duration": 6,
    "start_time": "2022-02-11T07:27:27.491Z"
   },
   {
    "duration": 13,
    "start_time": "2022-02-11T07:27:29.659Z"
   },
   {
    "duration": 315,
    "start_time": "2022-02-11T07:27:33.769Z"
   },
   {
    "duration": 5,
    "start_time": "2022-02-11T07:27:46.565Z"
   },
   {
    "duration": 289,
    "start_time": "2022-02-11T07:27:47.461Z"
   },
   {
    "duration": 292,
    "start_time": "2022-02-11T07:27:53.747Z"
   },
   {
    "duration": 400,
    "start_time": "2022-02-11T07:28:19.281Z"
   },
   {
    "duration": 15,
    "start_time": "2022-02-11T07:28:36.108Z"
   },
   {
    "duration": 290,
    "start_time": "2022-02-11T07:28:37.047Z"
   },
   {
    "duration": 385,
    "start_time": "2022-02-11T07:28:39.874Z"
   },
   {
    "duration": 19,
    "start_time": "2022-02-11T07:33:28.405Z"
   },
   {
    "duration": 15,
    "start_time": "2022-02-11T07:33:35.479Z"
   },
   {
    "duration": 403,
    "start_time": "2022-02-11T07:34:31.415Z"
   },
   {
    "duration": 520,
    "start_time": "2022-02-11T07:34:44.156Z"
   },
   {
    "duration": 362,
    "start_time": "2022-02-11T07:38:00.902Z"
   },
   {
    "duration": 418,
    "start_time": "2022-02-11T07:38:10.874Z"
   },
   {
    "duration": 405,
    "start_time": "2022-02-11T07:38:21.415Z"
   },
   {
    "duration": 443,
    "start_time": "2022-02-11T07:38:37.642Z"
   },
   {
    "duration": 625,
    "start_time": "2022-02-11T07:38:47.111Z"
   },
   {
    "duration": 730,
    "start_time": "2022-02-11T07:39:51.170Z"
   },
   {
    "duration": 678,
    "start_time": "2022-02-11T07:40:14.652Z"
   },
   {
    "duration": 459,
    "start_time": "2022-02-11T07:40:17.437Z"
   },
   {
    "duration": 969,
    "start_time": "2022-02-11T07:41:15.943Z"
   },
   {
    "duration": 1555,
    "start_time": "2022-02-11T07:42:18.850Z"
   },
   {
    "duration": 1653,
    "start_time": "2022-02-11T07:43:10.683Z"
   },
   {
    "duration": 18,
    "start_time": "2022-02-11T07:49:17.563Z"
   },
   {
    "duration": 6,
    "start_time": "2022-02-11T07:49:25.484Z"
   },
   {
    "duration": 8,
    "start_time": "2022-02-11T07:49:32.119Z"
   },
   {
    "duration": 8,
    "start_time": "2022-02-11T07:49:40.328Z"
   },
   {
    "duration": 11,
    "start_time": "2022-02-11T07:49:46.093Z"
   },
   {
    "duration": 38,
    "start_time": "2022-02-11T07:51:10.133Z"
   },
   {
    "duration": 43,
    "start_time": "2022-02-11T07:51:18.394Z"
   },
   {
    "duration": 15,
    "start_time": "2022-02-11T07:53:30.706Z"
   },
   {
    "duration": 5,
    "start_time": "2022-02-11T07:53:42.187Z"
   },
   {
    "duration": 6,
    "start_time": "2022-02-11T07:53:42.523Z"
   },
   {
    "duration": 5,
    "start_time": "2022-02-11T07:53:42.808Z"
   },
   {
    "duration": 5,
    "start_time": "2022-02-11T07:53:43.449Z"
   },
   {
    "duration": 416,
    "start_time": "2022-02-11T07:53:44.357Z"
   },
   {
    "duration": 421,
    "start_time": "2022-02-11T07:53:47.344Z"
   },
   {
    "duration": 453,
    "start_time": "2022-02-11T07:53:51.289Z"
   },
   {
    "duration": 664,
    "start_time": "2022-02-11T07:53:56.425Z"
   },
   {
    "duration": 687,
    "start_time": "2022-02-11T07:53:58.595Z"
   },
   {
    "duration": 4,
    "start_time": "2022-02-11T07:54:01.508Z"
   },
   {
    "duration": 17,
    "start_time": "2022-02-11T07:54:01.873Z"
   },
   {
    "duration": 587,
    "start_time": "2022-02-11T07:54:02.693Z"
   },
   {
    "duration": 1165,
    "start_time": "2022-02-11T07:54:16.601Z"
   },
   {
    "duration": 44,
    "start_time": "2022-02-11T07:54:20.515Z"
   },
   {
    "duration": 13,
    "start_time": "2022-02-11T07:55:24.094Z"
   },
   {
    "duration": 41,
    "start_time": "2022-02-11T07:55:49.585Z"
   },
   {
    "duration": 309,
    "start_time": "2022-02-11T07:57:42.876Z"
   },
   {
    "duration": 114,
    "start_time": "2022-02-11T07:58:24.936Z"
   },
   {
    "duration": 303,
    "start_time": "2022-02-11T07:58:29.686Z"
   },
   {
    "duration": 9,
    "start_time": "2022-02-11T07:58:59.275Z"
   },
   {
    "duration": 41,
    "start_time": "2022-02-11T07:59:02.760Z"
   },
   {
    "duration": 289,
    "start_time": "2022-02-11T07:59:18.826Z"
   },
   {
    "duration": 6,
    "start_time": "2022-02-11T08:01:29.919Z"
   },
   {
    "duration": 101,
    "start_time": "2022-02-11T08:01:41.143Z"
   },
   {
    "duration": 74,
    "start_time": "2022-02-11T08:01:43.809Z"
   },
   {
    "duration": 308,
    "start_time": "2022-02-11T08:03:43.088Z"
   },
   {
    "duration": 312,
    "start_time": "2022-02-11T08:03:47.280Z"
   },
   {
    "duration": 314,
    "start_time": "2022-02-11T08:03:50.850Z"
   },
   {
    "duration": 312,
    "start_time": "2022-02-11T08:04:11.115Z"
   },
   {
    "duration": 4,
    "start_time": "2022-02-11T08:04:15.841Z"
   },
   {
    "duration": 315,
    "start_time": "2022-02-11T08:04:20.428Z"
   },
   {
    "duration": 6,
    "start_time": "2022-02-11T08:04:24.565Z"
   },
   {
    "duration": 11,
    "start_time": "2022-02-11T08:09:36.299Z"
   },
   {
    "duration": 75,
    "start_time": "2022-02-11T08:09:45.886Z"
   },
   {
    "duration": 8,
    "start_time": "2022-02-11T08:10:25.178Z"
   },
   {
    "duration": 13,
    "start_time": "2022-02-11T08:11:22.609Z"
   },
   {
    "duration": 58,
    "start_time": "2022-02-11T08:13:41.741Z"
   },
   {
    "duration": 23,
    "start_time": "2022-02-11T08:14:16.509Z"
   },
   {
    "duration": 17,
    "start_time": "2022-02-11T08:22:06.140Z"
   },
   {
    "duration": 64,
    "start_time": "2022-02-11T08:22:22.231Z"
   },
   {
    "duration": 29,
    "start_time": "2022-02-11T08:23:12.163Z"
   },
   {
    "duration": 24,
    "start_time": "2022-02-11T08:23:29.399Z"
   },
   {
    "duration": 23,
    "start_time": "2022-02-11T08:23:50.206Z"
   },
   {
    "duration": 5,
    "start_time": "2022-02-11T10:08:33.903Z"
   },
   {
    "duration": 587,
    "start_time": "2022-02-11T10:08:54.262Z"
   },
   {
    "duration": 5,
    "start_time": "2022-02-11T10:09:48.026Z"
   },
   {
    "duration": 596,
    "start_time": "2022-02-11T10:09:49.877Z"
   },
   {
    "duration": 6,
    "start_time": "2022-02-11T10:10:21.890Z"
   },
   {
    "duration": 5,
    "start_time": "2022-02-11T10:10:22.938Z"
   },
   {
    "duration": 665,
    "start_time": "2022-02-11T10:10:29.807Z"
   },
   {
    "duration": 6,
    "start_time": "2022-02-11T10:10:37.817Z"
   },
   {
    "duration": 7,
    "start_time": "2022-02-11T10:10:40.173Z"
   },
   {
    "duration": 6,
    "start_time": "2022-02-11T10:10:43.377Z"
   },
   {
    "duration": 6,
    "start_time": "2022-02-11T10:14:18.232Z"
   },
   {
    "duration": 35,
    "start_time": "2022-02-11T10:15:14.107Z"
   },
   {
    "duration": 15,
    "start_time": "2022-02-11T10:15:27.859Z"
   },
   {
    "duration": 39,
    "start_time": "2022-02-11T10:15:42.257Z"
   },
   {
    "duration": 11,
    "start_time": "2022-02-11T10:16:25.814Z"
   },
   {
    "duration": 24,
    "start_time": "2022-02-11T10:16:32.201Z"
   },
   {
    "duration": 4,
    "start_time": "2022-02-11T10:16:40.237Z"
   },
   {
    "duration": 838,
    "start_time": "2022-02-11T10:16:40.244Z"
   },
   {
    "duration": 24,
    "start_time": "2022-02-11T10:16:41.086Z"
   },
   {
    "duration": 17,
    "start_time": "2022-02-11T10:16:41.124Z"
   },
   {
    "duration": 26,
    "start_time": "2022-02-11T10:16:41.144Z"
   },
   {
    "duration": 410,
    "start_time": "2022-02-11T10:16:41.173Z"
   },
   {
    "duration": 240,
    "start_time": "2022-02-11T10:16:41.585Z"
   },
   {
    "duration": 7,
    "start_time": "2022-02-11T10:16:41.829Z"
   },
   {
    "duration": 12,
    "start_time": "2022-02-11T10:16:41.838Z"
   },
   {
    "duration": 5,
    "start_time": "2022-02-11T10:16:41.852Z"
   },
   {
    "duration": 10,
    "start_time": "2022-02-11T10:16:41.859Z"
   },
   {
    "duration": 7,
    "start_time": "2022-02-11T10:16:41.871Z"
   },
   {
    "duration": 399,
    "start_time": "2022-02-11T10:16:41.881Z"
   },
   {
    "duration": 5,
    "start_time": "2022-02-11T10:16:42.283Z"
   },
   {
    "duration": 35,
    "start_time": "2022-02-11T10:16:42.290Z"
   },
   {
    "duration": 7,
    "start_time": "2022-02-11T10:16:42.328Z"
   },
   {
    "duration": 18,
    "start_time": "2022-02-11T10:16:42.337Z"
   },
   {
    "duration": 33,
    "start_time": "2022-02-11T10:16:42.357Z"
   },
   {
    "duration": 11,
    "start_time": "2022-02-11T10:16:42.424Z"
   },
   {
    "duration": 10,
    "start_time": "2022-02-11T10:16:42.438Z"
   },
   {
    "duration": 17,
    "start_time": "2022-02-11T10:16:42.451Z"
   },
   {
    "duration": 8,
    "start_time": "2022-02-11T10:16:42.471Z"
   },
   {
    "duration": 18,
    "start_time": "2022-02-11T10:16:42.524Z"
   },
   {
    "duration": 181,
    "start_time": "2022-02-11T10:16:42.545Z"
   },
   {
    "duration": 5,
    "start_time": "2022-02-11T10:16:42.729Z"
   },
   {
    "duration": 23,
    "start_time": "2022-02-11T10:16:42.737Z"
   },
   {
    "duration": 4123,
    "start_time": "2022-02-11T10:16:42.763Z"
   },
   {
    "duration": 5,
    "start_time": "2022-02-11T10:16:46.889Z"
   },
   {
    "duration": 29,
    "start_time": "2022-02-11T10:16:46.897Z"
   },
   {
    "duration": 1984,
    "start_time": "2022-02-11T10:16:46.929Z"
   },
   {
    "duration": 4,
    "start_time": "2022-02-11T10:16:48.923Z"
   },
   {
    "duration": 3274,
    "start_time": "2022-02-11T10:16:48.931Z"
   },
   {
    "duration": 18,
    "start_time": "2022-02-11T10:16:52.207Z"
   },
   {
    "duration": 10,
    "start_time": "2022-02-11T10:16:52.228Z"
   },
   {
    "duration": 7,
    "start_time": "2022-02-11T10:16:52.241Z"
   },
   {
    "duration": 11,
    "start_time": "2022-02-11T10:16:52.251Z"
   },
   {
    "duration": 445,
    "start_time": "2022-02-11T10:16:52.264Z"
   },
   {
    "duration": 426,
    "start_time": "2022-02-11T10:16:52.712Z"
   },
   {
    "duration": 496,
    "start_time": "2022-02-11T10:16:53.140Z"
   },
   {
    "duration": 679,
    "start_time": "2022-02-11T10:16:53.639Z"
   },
   {
    "duration": 817,
    "start_time": "2022-02-11T10:16:54.322Z"
   },
   {
    "duration": 4,
    "start_time": "2022-02-11T10:16:55.142Z"
   },
   {
    "duration": 25,
    "start_time": "2022-02-11T10:16:55.149Z"
   },
   {
    "duration": 550,
    "start_time": "2022-02-11T10:16:55.177Z"
   },
   {
    "duration": 1181,
    "start_time": "2022-02-11T10:16:55.729Z"
   },
   {
    "duration": 52,
    "start_time": "2022-02-11T10:16:56.924Z"
   },
   {
    "duration": 24,
    "start_time": "2022-02-11T10:17:00.869Z"
   },
   {
    "duration": 67,
    "start_time": "2022-02-11T10:17:06.233Z"
   },
   {
    "duration": 65,
    "start_time": "2022-02-11T10:17:34.832Z"
   },
   {
    "duration": 39,
    "start_time": "2022-02-11T10:17:42.949Z"
   },
   {
    "duration": 114,
    "start_time": "2022-02-11T10:18:30.481Z"
   },
   {
    "duration": 72,
    "start_time": "2022-02-11T10:19:30.088Z"
   },
   {
    "duration": 12014,
    "start_time": "2022-02-11T10:20:02.023Z"
   },
   {
    "duration": 38,
    "start_time": "2022-02-11T10:20:22.570Z"
   },
   {
    "duration": 26,
    "start_time": "2022-02-11T10:20:47.651Z"
   },
   {
    "duration": 42,
    "start_time": "2022-02-11T10:20:48.711Z"
   },
   {
    "duration": 368,
    "start_time": "2022-02-11T10:21:17.929Z"
   },
   {
    "duration": 71,
    "start_time": "2022-02-11T10:21:35.435Z"
   },
   {
    "duration": 68,
    "start_time": "2022-02-11T10:21:41.203Z"
   },
   {
    "duration": 4,
    "start_time": "2022-02-11T10:21:48.724Z"
   },
   {
    "duration": 864,
    "start_time": "2022-02-11T10:21:48.730Z"
   },
   {
    "duration": 31,
    "start_time": "2022-02-11T10:21:49.597Z"
   },
   {
    "duration": 15,
    "start_time": "2022-02-11T10:21:49.631Z"
   },
   {
    "duration": 25,
    "start_time": "2022-02-11T10:21:49.648Z"
   },
   {
    "duration": 381,
    "start_time": "2022-02-11T10:21:49.675Z"
   },
   {
    "duration": 297,
    "start_time": "2022-02-11T10:21:50.061Z"
   },
   {
    "duration": 8,
    "start_time": "2022-02-11T10:21:50.361Z"
   },
   {
    "duration": 9,
    "start_time": "2022-02-11T10:21:50.372Z"
   },
   {
    "duration": 4,
    "start_time": "2022-02-11T10:21:50.385Z"
   },
   {
    "duration": 36,
    "start_time": "2022-02-11T10:21:50.392Z"
   },
   {
    "duration": 8,
    "start_time": "2022-02-11T10:21:50.431Z"
   },
   {
    "duration": 384,
    "start_time": "2022-02-11T10:21:50.442Z"
   },
   {
    "duration": 5,
    "start_time": "2022-02-11T10:21:50.828Z"
   },
   {
    "duration": 13,
    "start_time": "2022-02-11T10:21:50.836Z"
   },
   {
    "duration": 13,
    "start_time": "2022-02-11T10:21:50.852Z"
   },
   {
    "duration": 17,
    "start_time": "2022-02-11T10:21:50.868Z"
   },
   {
    "duration": 33,
    "start_time": "2022-02-11T10:21:50.924Z"
   },
   {
    "duration": 9,
    "start_time": "2022-02-11T10:21:50.962Z"
   },
   {
    "duration": 49,
    "start_time": "2022-02-11T10:21:50.974Z"
   },
   {
    "duration": 12,
    "start_time": "2022-02-11T10:21:51.025Z"
   },
   {
    "duration": 7,
    "start_time": "2022-02-11T10:21:51.039Z"
   },
   {
    "duration": 20,
    "start_time": "2022-02-11T10:21:51.049Z"
   },
   {
    "duration": 204,
    "start_time": "2022-02-11T10:21:51.071Z"
   },
   {
    "duration": 4,
    "start_time": "2022-02-11T10:21:51.278Z"
   },
   {
    "duration": 12,
    "start_time": "2022-02-11T10:21:51.284Z"
   },
   {
    "duration": 4108,
    "start_time": "2022-02-11T10:21:51.323Z"
   },
   {
    "duration": 4,
    "start_time": "2022-02-11T10:21:55.433Z"
   },
   {
    "duration": 10,
    "start_time": "2022-02-11T10:21:55.439Z"
   },
   {
    "duration": 1998,
    "start_time": "2022-02-11T10:21:55.452Z"
   },
   {
    "duration": 6,
    "start_time": "2022-02-11T10:21:57.453Z"
   },
   {
    "duration": 3273,
    "start_time": "2022-02-11T10:21:57.461Z"
   },
   {
    "duration": 5,
    "start_time": "2022-02-11T10:22:00.736Z"
   },
   {
    "duration": 19,
    "start_time": "2022-02-11T10:22:00.743Z"
   },
   {
    "duration": 24,
    "start_time": "2022-02-11T10:22:00.765Z"
   },
   {
    "duration": 27,
    "start_time": "2022-02-11T10:22:00.792Z"
   },
   {
    "duration": 442,
    "start_time": "2022-02-11T10:22:00.822Z"
   },
   {
    "duration": 441,
    "start_time": "2022-02-11T10:22:01.267Z"
   },
   {
    "duration": 449,
    "start_time": "2022-02-11T10:22:01.711Z"
   },
   {
    "duration": 683,
    "start_time": "2022-02-11T10:22:02.163Z"
   },
   {
    "duration": 766,
    "start_time": "2022-02-11T10:22:02.850Z"
   },
   {
    "duration": 4,
    "start_time": "2022-02-11T10:22:03.623Z"
   },
   {
    "duration": 20,
    "start_time": "2022-02-11T10:22:03.630Z"
   },
   {
    "duration": 410,
    "start_time": "2022-02-11T10:22:03.652Z"
   },
   {
    "duration": 983,
    "start_time": "2022-02-11T10:22:04.064Z"
   },
   {
    "duration": 55,
    "start_time": "2022-02-11T10:22:05.049Z"
   },
   {
    "duration": 40,
    "start_time": "2022-02-11T10:22:10.446Z"
   },
   {
    "duration": 39,
    "start_time": "2022-02-11T10:22:11.201Z"
   },
   {
    "duration": 71,
    "start_time": "2022-02-11T10:22:15.760Z"
   },
   {
    "duration": 14,
    "start_time": "2022-02-11T10:22:37.310Z"
   },
   {
    "duration": 69,
    "start_time": "2022-02-11T10:22:59.490Z"
   },
   {
    "duration": 8714,
    "start_time": "2022-02-11T10:24:28.761Z"
   },
   {
    "duration": 7555,
    "start_time": "2022-02-11T10:24:43.977Z"
   },
   {
    "duration": 54153,
    "start_time": "2022-02-11T10:25:54.361Z"
   },
   {
    "duration": 73,
    "start_time": "2022-02-11T10:26:58.167Z"
   },
   {
    "duration": 4,
    "start_time": "2022-02-11T10:28:12.055Z"
   },
   {
    "duration": 838,
    "start_time": "2022-02-11T10:28:12.061Z"
   },
   {
    "duration": 35,
    "start_time": "2022-02-11T10:28:12.902Z"
   },
   {
    "duration": 16,
    "start_time": "2022-02-11T10:28:12.940Z"
   },
   {
    "duration": 26,
    "start_time": "2022-02-11T10:28:12.958Z"
   },
   {
    "duration": 385,
    "start_time": "2022-02-11T10:28:12.986Z"
   },
   {
    "duration": 283,
    "start_time": "2022-02-11T10:28:13.374Z"
   },
   {
    "duration": 9,
    "start_time": "2022-02-11T10:28:13.660Z"
   },
   {
    "duration": 7,
    "start_time": "2022-02-11T10:28:13.673Z"
   },
   {
    "duration": 4,
    "start_time": "2022-02-11T10:28:13.683Z"
   },
   {
    "duration": 7,
    "start_time": "2022-02-11T10:28:13.725Z"
   },
   {
    "duration": 6,
    "start_time": "2022-02-11T10:28:13.735Z"
   },
   {
    "duration": 504,
    "start_time": "2022-02-11T10:28:13.744Z"
   },
   {
    "duration": 8,
    "start_time": "2022-02-11T10:28:14.251Z"
   },
   {
    "duration": 21,
    "start_time": "2022-02-11T10:28:14.262Z"
   },
   {
    "duration": 38,
    "start_time": "2022-02-11T10:28:14.286Z"
   },
   {
    "duration": 27,
    "start_time": "2022-02-11T10:28:14.329Z"
   },
   {
    "duration": 40,
    "start_time": "2022-02-11T10:28:14.360Z"
   },
   {
    "duration": 11,
    "start_time": "2022-02-11T10:28:14.424Z"
   },
   {
    "duration": 8,
    "start_time": "2022-02-11T10:28:14.438Z"
   },
   {
    "duration": 14,
    "start_time": "2022-02-11T10:28:14.448Z"
   },
   {
    "duration": 6,
    "start_time": "2022-02-11T10:28:14.465Z"
   },
   {
    "duration": 59,
    "start_time": "2022-02-11T10:28:14.474Z"
   },
   {
    "duration": 173,
    "start_time": "2022-02-11T10:28:14.536Z"
   },
   {
    "duration": 13,
    "start_time": "2022-02-11T10:28:14.712Z"
   },
   {
    "duration": 8,
    "start_time": "2022-02-11T10:28:14.728Z"
   },
   {
    "duration": 4294,
    "start_time": "2022-02-11T10:28:14.742Z"
   },
   {
    "duration": 4,
    "start_time": "2022-02-11T10:28:19.039Z"
   },
   {
    "duration": 6,
    "start_time": "2022-02-11T10:28:19.046Z"
   },
   {
    "duration": 1902,
    "start_time": "2022-02-11T10:28:19.055Z"
   },
   {
    "duration": 4,
    "start_time": "2022-02-11T10:28:20.960Z"
   },
   {
    "duration": 2989,
    "start_time": "2022-02-11T10:28:20.967Z"
   },
   {
    "duration": 6,
    "start_time": "2022-02-11T10:28:23.958Z"
   },
   {
    "duration": 7,
    "start_time": "2022-02-11T10:28:23.966Z"
   },
   {
    "duration": 8,
    "start_time": "2022-02-11T10:28:23.975Z"
   },
   {
    "duration": 37,
    "start_time": "2022-02-11T10:28:23.986Z"
   },
   {
    "duration": 427,
    "start_time": "2022-02-11T10:28:24.026Z"
   },
   {
    "duration": 435,
    "start_time": "2022-02-11T10:28:24.455Z"
   },
   {
    "duration": 436,
    "start_time": "2022-02-11T10:28:24.892Z"
   },
   {
    "duration": 1040,
    "start_time": "2022-02-11T10:28:25.331Z"
   },
   {
    "duration": 1098,
    "start_time": "2022-02-11T10:28:26.374Z"
   },
   {
    "duration": 6,
    "start_time": "2022-02-11T10:28:27.475Z"
   },
   {
    "duration": 39,
    "start_time": "2022-02-11T10:28:27.484Z"
   },
   {
    "duration": 411,
    "start_time": "2022-02-11T10:28:27.526Z"
   },
   {
    "duration": 1003,
    "start_time": "2022-02-11T10:28:30.991Z"
   },
   {
    "duration": 50,
    "start_time": "2022-02-11T10:31:38.947Z"
   },
   {
    "duration": 284,
    "start_time": "2022-02-11T10:31:42.622Z"
   },
   {
    "duration": 291,
    "start_time": "2022-02-11T10:31:58.482Z"
   },
   {
    "duration": 383,
    "start_time": "2022-02-11T10:32:06.934Z"
   },
   {
    "duration": 19883,
    "start_time": "2022-02-11T10:32:19.488Z"
   },
   {
    "duration": 20,
    "start_time": "2022-02-11T10:32:49.002Z"
   },
   {
    "duration": 65,
    "start_time": "2022-02-11T10:33:14.212Z"
   },
   {
    "duration": 438,
    "start_time": "2022-02-11T10:35:02.903Z"
   },
   {
    "duration": 125,
    "start_time": "2022-02-11T10:35:15.786Z"
   },
   {
    "duration": 319,
    "start_time": "2022-02-11T10:35:18.284Z"
   },
   {
    "duration": 19,
    "start_time": "2022-02-11T10:35:42.913Z"
   },
   {
    "duration": 55,
    "start_time": "2022-02-11T10:36:03.854Z"
   },
   {
    "duration": 24,
    "start_time": "2022-02-11T10:36:05.224Z"
   },
   {
    "duration": 326,
    "start_time": "2022-02-11T10:36:11.472Z"
   },
   {
    "duration": 49,
    "start_time": "2022-02-11T10:36:28.368Z"
   },
   {
    "duration": 7,
    "start_time": "2022-02-11T10:37:06.850Z"
   },
   {
    "duration": 368,
    "start_time": "2022-02-11T10:37:11.316Z"
   },
   {
    "duration": 6,
    "start_time": "2022-02-11T10:37:16.458Z"
   },
   {
    "duration": 10,
    "start_time": "2022-02-11T10:37:26.273Z"
   },
   {
    "duration": 6,
    "start_time": "2022-02-11T10:37:26.642Z"
   },
   {
    "duration": 27,
    "start_time": "2022-02-11T10:38:38.225Z"
   },
   {
    "duration": 7,
    "start_time": "2022-02-11T10:38:47.318Z"
   },
   {
    "duration": 9,
    "start_time": "2022-02-11T10:39:06.913Z"
   },
   {
    "duration": 302,
    "start_time": "2022-02-11T10:40:46.076Z"
   },
   {
    "duration": 35,
    "start_time": "2022-02-11T10:41:27.594Z"
   },
   {
    "duration": 16,
    "start_time": "2022-02-11T10:41:35.384Z"
   },
   {
    "duration": 40,
    "start_time": "2022-02-11T10:42:27.125Z"
   },
   {
    "duration": 23,
    "start_time": "2022-02-11T10:42:32.665Z"
   },
   {
    "duration": 115,
    "start_time": "2022-02-11T10:42:54.702Z"
   },
   {
    "duration": 18,
    "start_time": "2022-02-11T10:42:58.851Z"
   },
   {
    "duration": 25,
    "start_time": "2022-02-11T10:43:06.304Z"
   },
   {
    "duration": 18,
    "start_time": "2022-02-11T10:43:13.068Z"
   },
   {
    "duration": 292,
    "start_time": "2022-02-11T10:43:32.618Z"
   },
   {
    "duration": 19,
    "start_time": "2022-02-11T10:43:35.131Z"
   },
   {
    "duration": 14,
    "start_time": "2022-02-11T10:44:48.695Z"
   },
   {
    "duration": 8,
    "start_time": "2022-02-11T10:47:47.730Z"
   },
   {
    "duration": 6,
    "start_time": "2022-02-11T10:56:43.146Z"
   },
   {
    "duration": 5,
    "start_time": "2022-02-11T10:57:05.078Z"
   },
   {
    "duration": 8,
    "start_time": "2022-02-11T10:58:50.291Z"
   },
   {
    "duration": 96,
    "start_time": "2022-02-11T10:59:08.419Z"
   },
   {
    "duration": 28,
    "start_time": "2022-02-11T10:59:18.514Z"
   },
   {
    "duration": 11,
    "start_time": "2022-02-11T11:00:13.838Z"
   },
   {
    "duration": 38,
    "start_time": "2022-02-11T11:00:19.989Z"
   },
   {
    "duration": 8,
    "start_time": "2022-02-11T11:00:32.228Z"
   },
   {
    "duration": 7,
    "start_time": "2022-02-11T11:00:34.749Z"
   },
   {
    "duration": 7,
    "start_time": "2022-02-11T11:02:21.238Z"
   },
   {
    "duration": 9,
    "start_time": "2022-02-11T11:02:59.748Z"
   },
   {
    "duration": 12,
    "start_time": "2022-02-11T11:08:30.462Z"
   },
   {
    "duration": 7,
    "start_time": "2022-02-11T11:08:32.637Z"
   },
   {
    "duration": 317,
    "start_time": "2022-02-11T11:08:37.367Z"
   },
   {
    "duration": 9,
    "start_time": "2022-02-11T11:08:46.744Z"
   },
   {
    "duration": 6,
    "start_time": "2022-02-11T11:10:11.336Z"
   },
   {
    "duration": 288,
    "start_time": "2022-02-11T11:10:24.753Z"
   },
   {
    "duration": 282,
    "start_time": "2022-02-11T11:10:42.251Z"
   },
   {
    "duration": 1912,
    "start_time": "2022-02-11T11:10:53.652Z"
   },
   {
    "duration": 22,
    "start_time": "2022-02-11T11:11:06.518Z"
   },
   {
    "duration": 813,
    "start_time": "2022-02-11T11:11:15.195Z"
   },
   {
    "duration": 9,
    "start_time": "2022-02-11T11:18:22.977Z"
   },
   {
    "duration": 9,
    "start_time": "2022-02-11T11:18:52.533Z"
   },
   {
    "duration": 17,
    "start_time": "2022-02-11T11:19:01.853Z"
   },
   {
    "duration": 8,
    "start_time": "2022-02-11T11:20:00.274Z"
   },
   {
    "duration": 4,
    "start_time": "2022-02-11T11:20:43.882Z"
   },
   {
    "duration": 4,
    "start_time": "2022-02-11T11:21:00.159Z"
   },
   {
    "duration": 5,
    "start_time": "2022-02-11T11:21:04.035Z"
   },
   {
    "duration": 9,
    "start_time": "2022-02-11T11:22:20.434Z"
   },
   {
    "duration": 7,
    "start_time": "2022-02-11T11:24:54.434Z"
   },
   {
    "duration": 15,
    "start_time": "2022-02-11T11:25:55.295Z"
   },
   {
    "duration": 48,
    "start_time": "2022-02-11T11:26:00.372Z"
   },
   {
    "duration": 23,
    "start_time": "2022-02-11T11:28:13.816Z"
   },
   {
    "duration": 16,
    "start_time": "2022-02-11T11:30:42.308Z"
   },
   {
    "duration": 274,
    "start_time": "2022-02-11T11:35:42.371Z"
   },
   {
    "duration": 33,
    "start_time": "2022-02-11T11:35:46.471Z"
   },
   {
    "duration": 24,
    "start_time": "2022-02-11T11:36:13.614Z"
   },
   {
    "duration": 16,
    "start_time": "2022-02-11T11:38:13.906Z"
   },
   {
    "duration": 304,
    "start_time": "2022-02-11T11:38:47.856Z"
   },
   {
    "duration": 4,
    "start_time": "2022-02-11T11:38:53.412Z"
   },
   {
    "duration": 31,
    "start_time": "2022-02-11T11:39:52.293Z"
   },
   {
    "duration": 6,
    "start_time": "2022-02-11T11:42:02.643Z"
   },
   {
    "duration": 4,
    "start_time": "2022-02-11T11:52:55.816Z"
   },
   {
    "duration": 964,
    "start_time": "2022-02-11T11:53:24.964Z"
   },
   {
    "duration": 7,
    "start_time": "2022-02-11T11:53:32.755Z"
   },
   {
    "duration": 331,
    "start_time": "2022-02-11T11:54:37.229Z"
   },
   {
    "duration": 6,
    "start_time": "2022-02-11T11:55:14.051Z"
   },
   {
    "duration": 7994,
    "start_time": "2022-02-11T11:55:18.215Z"
   },
   {
    "duration": 5,
    "start_time": "2022-02-11T11:56:21.022Z"
   },
   {
    "duration": 7576,
    "start_time": "2022-02-11T11:56:24.382Z"
   },
   {
    "duration": 5,
    "start_time": "2022-02-11T11:56:36.952Z"
   },
   {
    "duration": 6,
    "start_time": "2022-02-11T11:56:41.562Z"
   },
   {
    "duration": 306,
    "start_time": "2022-02-11T11:56:57.245Z"
   },
   {
    "duration": 6,
    "start_time": "2022-02-11T12:00:01.153Z"
   },
   {
    "duration": 287,
    "start_time": "2022-02-11T12:00:23.595Z"
   },
   {
    "duration": 18,
    "start_time": "2022-02-11T12:00:43.019Z"
   },
   {
    "duration": 8,
    "start_time": "2022-02-11T12:00:57.253Z"
   },
   {
    "duration": 323,
    "start_time": "2022-02-11T12:01:28.750Z"
   },
   {
    "duration": 4,
    "start_time": "2022-02-11T12:02:44.299Z"
   },
   {
    "duration": 309,
    "start_time": "2022-02-11T12:02:48.463Z"
   },
   {
    "duration": 176,
    "start_time": "2022-02-11T12:03:00.883Z"
   },
   {
    "duration": 24,
    "start_time": "2022-02-11T12:03:04.599Z"
   },
   {
    "duration": 12,
    "start_time": "2022-02-11T12:03:43.053Z"
   },
   {
    "duration": 5,
    "start_time": "2022-02-11T12:04:01.277Z"
   },
   {
    "duration": 318,
    "start_time": "2022-02-11T12:04:38.502Z"
   },
   {
    "duration": 305,
    "start_time": "2022-02-11T12:04:50.890Z"
   },
   {
    "duration": 7987,
    "start_time": "2022-02-11T12:05:11.533Z"
   },
   {
    "duration": 11,
    "start_time": "2022-02-11T12:05:40.515Z"
   },
   {
    "duration": 311,
    "start_time": "2022-02-11T12:06:01.335Z"
   },
   {
    "duration": 12,
    "start_time": "2022-02-11T12:06:12.975Z"
   },
   {
    "duration": 5,
    "start_time": "2022-02-11T12:07:09.891Z"
   },
   {
    "duration": 575,
    "start_time": "2022-02-11T12:07:13.527Z"
   },
   {
    "duration": 15,
    "start_time": "2022-02-11T12:08:31.174Z"
   },
   {
    "duration": 14,
    "start_time": "2022-02-11T12:10:06.355Z"
   },
   {
    "duration": 4,
    "start_time": "2022-02-11T12:10:49.316Z"
   },
   {
    "duration": 718,
    "start_time": "2022-02-11T12:10:56.925Z"
   },
   {
    "duration": 4,
    "start_time": "2022-02-11T12:11:11.577Z"
   },
   {
    "duration": 17,
    "start_time": "2022-02-11T12:11:14.920Z"
   },
   {
    "duration": 4,
    "start_time": "2022-02-11T12:11:37.430Z"
   },
   {
    "duration": 21,
    "start_time": "2022-02-11T12:11:39.150Z"
   },
   {
    "duration": 15,
    "start_time": "2022-02-11T12:11:44.676Z"
   },
   {
    "duration": 15,
    "start_time": "2022-02-11T12:11:49.337Z"
   },
   {
    "duration": 4,
    "start_time": "2022-02-11T12:11:59.715Z"
   },
   {
    "duration": 18,
    "start_time": "2022-02-11T12:12:01.638Z"
   },
   {
    "duration": 17,
    "start_time": "2022-02-11T12:12:18.647Z"
   },
   {
    "duration": 1125,
    "start_time": "2022-02-11T12:12:32.505Z"
   },
   {
    "duration": 5,
    "start_time": "2022-02-11T12:12:36.815Z"
   },
   {
    "duration": 4,
    "start_time": "2022-02-11T12:13:27.615Z"
   },
   {
    "duration": 4,
    "start_time": "2022-02-11T12:15:14.977Z"
   },
   {
    "duration": 1017,
    "start_time": "2022-02-11T12:16:16.207Z"
   },
   {
    "duration": 6,
    "start_time": "2022-02-11T12:16:19.409Z"
   },
   {
    "duration": 98,
    "start_time": "2022-02-11T12:16:29.327Z"
   },
   {
    "duration": 996,
    "start_time": "2022-02-11T12:16:35.528Z"
   },
   {
    "duration": 5,
    "start_time": "2022-02-11T12:16:38.347Z"
   },
   {
    "duration": 917,
    "start_time": "2022-02-11T12:17:05.007Z"
   },
   {
    "duration": 6,
    "start_time": "2022-02-11T12:17:08.078Z"
   },
   {
    "duration": 1111,
    "start_time": "2022-02-11T12:50:23.216Z"
   },
   {
    "duration": 6,
    "start_time": "2022-02-11T12:50:26.640Z"
   },
   {
    "duration": 1380,
    "start_time": "2022-02-11T12:57:12.832Z"
   },
   {
    "duration": 1397,
    "start_time": "2022-02-11T12:57:28.737Z"
   },
   {
    "duration": 5,
    "start_time": "2022-02-11T12:57:57.205Z"
   },
   {
    "duration": 5,
    "start_time": "2022-02-11T13:16:46.710Z"
   },
   {
    "duration": 7,
    "start_time": "2022-02-11T13:29:21.596Z"
   },
   {
    "duration": 98,
    "start_time": "2022-02-11T13:30:12.396Z"
   },
   {
    "duration": 3621,
    "start_time": "2022-02-11T13:30:24.414Z"
   },
   {
    "duration": 8,
    "start_time": "2022-02-11T13:34:17.744Z"
   },
   {
    "duration": 5,
    "start_time": "2022-02-11T13:37:22.351Z"
   },
   {
    "duration": 5,
    "start_time": "2022-02-11T13:37:43.193Z"
   },
   {
    "duration": 320,
    "start_time": "2022-02-11T13:38:37.555Z"
   },
   {
    "duration": 6,
    "start_time": "2022-02-11T13:39:18.846Z"
   },
   {
    "duration": 629,
    "start_time": "2022-02-11T13:39:55.246Z"
   },
   {
    "duration": 5,
    "start_time": "2022-02-11T13:40:16.656Z"
   },
   {
    "duration": 4386,
    "start_time": "2022-02-11T13:40:17.276Z"
   },
   {
    "duration": 5,
    "start_time": "2022-02-11T13:40:56.005Z"
   },
   {
    "duration": 6615,
    "start_time": "2022-02-11T13:40:58.258Z"
   },
   {
    "duration": 1334,
    "start_time": "2022-02-11T13:41:21.817Z"
   },
   {
    "duration": 1355,
    "start_time": "2022-02-11T13:41:45.326Z"
   },
   {
    "duration": 5,
    "start_time": "2022-02-11T13:42:49.591Z"
   },
   {
    "duration": 1459,
    "start_time": "2022-02-11T13:42:50.141Z"
   },
   {
    "duration": 6,
    "start_time": "2022-02-11T13:42:56.617Z"
   },
   {
    "duration": 302,
    "start_time": "2022-02-11T13:44:43.225Z"
   },
   {
    "duration": 293,
    "start_time": "2022-02-11T13:45:10.150Z"
   },
   {
    "duration": 364,
    "start_time": "2022-02-11T13:45:13.284Z"
   },
   {
    "duration": 1013,
    "start_time": "2022-02-11T13:45:20.157Z"
   },
   {
    "duration": 5,
    "start_time": "2022-02-11T13:45:53.477Z"
   },
   {
    "duration": 1215,
    "start_time": "2022-02-11T13:45:58.297Z"
   },
   {
    "duration": 5,
    "start_time": "2022-02-11T13:46:50.727Z"
   },
   {
    "duration": 1074,
    "start_time": "2022-02-11T13:47:03.467Z"
   },
   {
    "duration": 1005,
    "start_time": "2022-02-11T13:47:42.665Z"
   },
   {
    "duration": 1085,
    "start_time": "2022-02-11T13:47:47.688Z"
   },
   {
    "duration": 6,
    "start_time": "2022-02-11T13:48:08.097Z"
   },
   {
    "duration": 6,
    "start_time": "2022-02-11T13:48:27.386Z"
   },
   {
    "duration": 20,
    "start_time": "2022-02-11T13:49:08.448Z"
   },
   {
    "duration": 35,
    "start_time": "2022-02-11T13:49:14.285Z"
   },
   {
    "duration": 1004,
    "start_time": "2022-02-11T13:49:46.761Z"
   },
   {
    "duration": 19,
    "start_time": "2022-02-11T13:50:27.545Z"
   },
   {
    "duration": 6,
    "start_time": "2022-02-11T13:50:34.029Z"
   },
   {
    "duration": 1272,
    "start_time": "2022-02-11T13:50:48.568Z"
   },
   {
    "duration": 3167,
    "start_time": "2022-02-11T13:51:20.744Z"
   },
   {
    "duration": 334,
    "start_time": "2022-02-11T13:51:46.049Z"
   },
   {
    "duration": 2850,
    "start_time": "2022-02-11T13:51:57.735Z"
   },
   {
    "duration": 12,
    "start_time": "2022-02-11T13:52:18.898Z"
   },
   {
    "duration": 6,
    "start_time": "2022-02-11T13:52:29.314Z"
   },
   {
    "duration": 6,
    "start_time": "2022-02-11T13:52:50.139Z"
   },
   {
    "duration": 395,
    "start_time": "2022-02-11T13:52:56.069Z"
   },
   {
    "duration": 7,
    "start_time": "2022-02-11T13:52:59.387Z"
   },
   {
    "duration": 1345,
    "start_time": "2022-02-11T18:10:51.592Z"
   },
   {
    "duration": 788,
    "start_time": "2022-02-11T18:10:52.939Z"
   },
   {
    "duration": 18,
    "start_time": "2022-02-11T18:10:53.730Z"
   },
   {
    "duration": 13,
    "start_time": "2022-02-11T18:10:53.750Z"
   },
   {
    "duration": 15,
    "start_time": "2022-02-11T18:10:53.764Z"
   },
   {
    "duration": 270,
    "start_time": "2022-02-11T18:10:53.780Z"
   },
   {
    "duration": 155,
    "start_time": "2022-02-11T18:10:54.053Z"
   },
   {
    "duration": 10,
    "start_time": "2022-02-11T18:10:54.210Z"
   },
   {
    "duration": 7,
    "start_time": "2022-02-11T18:10:54.222Z"
   },
   {
    "duration": 5,
    "start_time": "2022-02-11T18:10:54.232Z"
   },
   {
    "duration": 8,
    "start_time": "2022-02-11T18:10:54.239Z"
   },
   {
    "duration": 7,
    "start_time": "2022-02-11T18:10:54.248Z"
   },
   {
    "duration": 226,
    "start_time": "2022-02-11T18:10:54.257Z"
   },
   {
    "duration": 4,
    "start_time": "2022-02-11T18:10:54.484Z"
   },
   {
    "duration": 16,
    "start_time": "2022-02-11T18:10:54.490Z"
   },
   {
    "duration": 26,
    "start_time": "2022-02-11T18:10:54.507Z"
   },
   {
    "duration": 14,
    "start_time": "2022-02-11T18:10:54.534Z"
   },
   {
    "duration": 19,
    "start_time": "2022-02-11T18:10:54.550Z"
   },
   {
    "duration": 9,
    "start_time": "2022-02-11T18:10:54.571Z"
   },
   {
    "duration": 9,
    "start_time": "2022-02-11T18:10:54.582Z"
   },
   {
    "duration": 12,
    "start_time": "2022-02-11T18:10:54.592Z"
   },
   {
    "duration": 26,
    "start_time": "2022-02-11T18:10:54.605Z"
   },
   {
    "duration": 14,
    "start_time": "2022-02-11T18:10:54.633Z"
   },
   {
    "duration": 135,
    "start_time": "2022-02-11T18:10:54.649Z"
   },
   {
    "duration": 4,
    "start_time": "2022-02-11T18:10:54.786Z"
   },
   {
    "duration": 6,
    "start_time": "2022-02-11T18:10:54.792Z"
   },
   {
    "duration": 2518,
    "start_time": "2022-02-11T18:10:54.801Z"
   },
   {
    "duration": 7,
    "start_time": "2022-02-11T18:10:57.321Z"
   },
   {
    "duration": 7,
    "start_time": "2022-02-11T18:10:57.329Z"
   },
   {
    "duration": 1081,
    "start_time": "2022-02-11T18:10:57.337Z"
   },
   {
    "duration": 7,
    "start_time": "2022-02-11T18:10:58.420Z"
   },
   {
    "duration": 1803,
    "start_time": "2022-02-11T18:10:58.428Z"
   },
   {
    "duration": 4,
    "start_time": "2022-02-11T18:11:00.232Z"
   },
   {
    "duration": 8,
    "start_time": "2022-02-11T18:11:00.237Z"
   },
   {
    "duration": 7,
    "start_time": "2022-02-11T18:11:00.247Z"
   },
   {
    "duration": 7,
    "start_time": "2022-02-11T18:11:00.256Z"
   },
   {
    "duration": 251,
    "start_time": "2022-02-11T18:11:00.264Z"
   },
   {
    "duration": 241,
    "start_time": "2022-02-11T18:11:00.517Z"
   },
   {
    "duration": 253,
    "start_time": "2022-02-11T18:11:00.760Z"
   },
   {
    "duration": 444,
    "start_time": "2022-02-11T18:11:01.014Z"
   },
   {
    "duration": 375,
    "start_time": "2022-02-11T18:11:01.460Z"
   },
   {
    "duration": 3,
    "start_time": "2022-02-11T18:11:01.837Z"
   },
   {
    "duration": 25,
    "start_time": "2022-02-11T18:11:01.842Z"
   },
   {
    "duration": 214,
    "start_time": "2022-02-11T18:11:01.869Z"
   },
   {
    "duration": 523,
    "start_time": "2022-02-11T18:11:02.085Z"
   },
   {
    "duration": 82,
    "start_time": "2022-02-11T18:11:02.610Z"
   },
   {
    "duration": 14,
    "start_time": "2022-02-11T18:11:02.693Z"
   },
   {
    "duration": 22,
    "start_time": "2022-02-11T18:11:02.709Z"
   },
   {
    "duration": 10,
    "start_time": "2022-02-11T18:11:02.733Z"
   },
   {
    "duration": 3,
    "start_time": "2022-02-11T18:11:12.768Z"
   },
   {
    "duration": 5,
    "start_time": "2022-02-11T18:11:15.105Z"
   },
   {
    "duration": 6,
    "start_time": "2022-02-11T18:11:15.480Z"
   },
   {
    "duration": 3,
    "start_time": "2022-02-11T18:11:16.506Z"
   },
   {
    "duration": 3,
    "start_time": "2022-02-11T18:11:17.260Z"
   },
   {
    "duration": 8,
    "start_time": "2022-02-11T18:11:19.967Z"
   },
   {
    "duration": 18,
    "start_time": "2022-02-11T18:11:21.502Z"
   },
   {
    "duration": 11,
    "start_time": "2022-02-11T18:11:23.182Z"
   },
   {
    "duration": 2657,
    "start_time": "2022-02-11T18:11:34.762Z"
   },
   {
    "duration": 9305,
    "start_time": "2022-02-11T18:11:48.352Z"
   },
   {
    "duration": 3,
    "start_time": "2022-02-11T18:13:49.176Z"
   },
   {
    "duration": 2503,
    "start_time": "2022-02-11T18:14:01.653Z"
   },
   {
    "duration": 6,
    "start_time": "2022-02-11T18:15:30.464Z"
   },
   {
    "duration": 8,
    "start_time": "2022-02-11T18:15:32.912Z"
   },
   {
    "duration": 3,
    "start_time": "2022-02-11T18:15:35.242Z"
   },
   {
    "duration": 4,
    "start_time": "2022-02-11T18:15:35.520Z"
   },
   {
    "duration": 9,
    "start_time": "2022-02-11T18:15:39.241Z"
   },
   {
    "duration": 21,
    "start_time": "2022-02-11T18:15:44.138Z"
   },
   {
    "duration": 5,
    "start_time": "2022-02-11T18:17:23.496Z"
   },
   {
    "duration": 31,
    "start_time": "2022-02-11T18:17:34.924Z"
   },
   {
    "duration": 2543,
    "start_time": "2022-02-11T18:17:49.675Z"
   },
   {
    "duration": 7,
    "start_time": "2022-02-11T18:18:28.184Z"
   },
   {
    "duration": 3,
    "start_time": "2022-02-11T18:19:25.933Z"
   },
   {
    "duration": 2549,
    "start_time": "2022-02-11T18:19:30.290Z"
   },
   {
    "duration": 3,
    "start_time": "2022-02-11T18:20:37.148Z"
   },
   {
    "duration": 111,
    "start_time": "2022-02-11T18:21:12.794Z"
   },
   {
    "duration": 2355,
    "start_time": "2022-02-11T18:21:20.289Z"
   },
   {
    "duration": 8884,
    "start_time": "2022-02-11T18:21:41.054Z"
   },
   {
    "duration": 314,
    "start_time": "2022-02-11T18:22:13.125Z"
   },
   {
    "duration": 2528,
    "start_time": "2022-02-11T18:22:33.174Z"
   },
   {
    "duration": 3,
    "start_time": "2022-02-11T18:22:57.767Z"
   },
   {
    "duration": 7,
    "start_time": "2022-02-11T18:23:00.309Z"
   },
   {
    "duration": 3,
    "start_time": "2022-02-11T18:23:02.885Z"
   },
   {
    "duration": 4,
    "start_time": "2022-02-11T18:23:03.871Z"
   },
   {
    "duration": 9,
    "start_time": "2022-02-11T18:23:09.290Z"
   },
   {
    "duration": 19,
    "start_time": "2022-02-11T18:23:11.775Z"
   },
   {
    "duration": 4,
    "start_time": "2022-02-11T18:23:12.635Z"
   },
   {
    "duration": 9736,
    "start_time": "2022-02-11T18:23:23.641Z"
   },
   {
    "duration": 9175,
    "start_time": "2022-02-11T18:23:43.123Z"
   },
   {
    "duration": 6,
    "start_time": "2022-02-11T18:24:01.364Z"
   },
   {
    "duration": 4,
    "start_time": "2022-02-11T18:24:08.070Z"
   },
   {
    "duration": 4,
    "start_time": "2022-02-11T18:24:21.524Z"
   },
   {
    "duration": 8815,
    "start_time": "2022-02-11T18:24:43.317Z"
   },
   {
    "duration": 12693,
    "start_time": "2022-02-11T18:24:55.211Z"
   },
   {
    "duration": 330,
    "start_time": "2022-02-11T18:25:48.514Z"
   },
   {
    "duration": 421,
    "start_time": "2022-02-11T18:26:30.705Z"
   },
   {
    "duration": 15,
    "start_time": "2022-02-11T18:27:11.898Z"
   },
   {
    "duration": 9421,
    "start_time": "2022-02-11T18:27:18.755Z"
   },
   {
    "duration": 368,
    "start_time": "2022-02-11T18:28:42.875Z"
   },
   {
    "duration": 314,
    "start_time": "2022-02-11T18:29:23.465Z"
   },
   {
    "duration": 115,
    "start_time": "2022-02-11T18:29:55.316Z"
   },
   {
    "duration": 324,
    "start_time": "2022-02-11T18:29:59.186Z"
   },
   {
    "duration": 3,
    "start_time": "2022-02-11T18:30:50.767Z"
   },
   {
    "duration": 3,
    "start_time": "2022-02-11T18:31:23.146Z"
   },
   {
    "duration": 8,
    "start_time": "2022-02-11T18:32:06.877Z"
   },
   {
    "duration": 3,
    "start_time": "2022-02-11T18:32:10.199Z"
   },
   {
    "duration": 3,
    "start_time": "2022-02-11T18:32:15.690Z"
   },
   {
    "duration": 7,
    "start_time": "2022-02-11T18:32:37.806Z"
   },
   {
    "duration": 20,
    "start_time": "2022-02-11T18:33:16.647Z"
   },
   {
    "duration": 12,
    "start_time": "2022-02-11T18:35:38.378Z"
   },
   {
    "duration": 1154,
    "start_time": "2022-02-11T18:35:42.603Z"
   },
   {
    "duration": 24440,
    "start_time": "2022-02-11T18:36:00.957Z"
   },
   {
    "duration": 3,
    "start_time": "2022-02-11T18:37:11.075Z"
   },
   {
    "duration": 2,
    "start_time": "2022-02-11T18:37:16.278Z"
   },
   {
    "duration": 132,
    "start_time": "2022-02-11T18:38:19.395Z"
   },
   {
    "duration": 41369,
    "start_time": "2022-02-11T18:38:23.659Z"
   },
   {
    "duration": 4,
    "start_time": "2022-02-11T18:47:25.640Z"
   },
   {
    "duration": 41345,
    "start_time": "2022-02-11T18:47:28.719Z"
   },
   {
    "duration": 6608,
    "start_time": "2022-02-11T18:49:59.456Z"
   },
   {
    "duration": 623,
    "start_time": "2022-02-11T18:50:28.199Z"
   },
   {
    "duration": 10,
    "start_time": "2022-02-11T18:50:44.987Z"
   },
   {
    "duration": 10,
    "start_time": "2022-02-11T18:50:50.131Z"
   },
   {
    "duration": 10,
    "start_time": "2022-02-11T18:51:00.893Z"
   },
   {
    "duration": 9,
    "start_time": "2022-02-11T18:51:10.223Z"
   },
   {
    "duration": 3,
    "start_time": "2022-02-11T18:51:24.951Z"
   },
   {
    "duration": 4,
    "start_time": "2022-02-11T18:51:40.112Z"
   },
   {
    "duration": 41217,
    "start_time": "2022-02-11T18:51:43.816Z"
   },
   {
    "duration": 24278,
    "start_time": "2022-02-11T18:52:48.011Z"
   },
   {
    "duration": 23536,
    "start_time": "2022-02-11T18:53:28.884Z"
   },
   {
    "duration": 4,
    "start_time": "2022-02-11T18:55:57.897Z"
   },
   {
    "duration": 3,
    "start_time": "2022-02-11T18:56:09.285Z"
   },
   {
    "duration": 664,
    "start_time": "2022-02-11T18:56:13.934Z"
   },
   {
    "duration": 40885,
    "start_time": "2022-02-11T18:56:32.919Z"
   },
   {
    "duration": 2,
    "start_time": "2022-02-11T18:57:55.901Z"
   },
   {
    "duration": 402,
    "start_time": "2022-02-11T18:58:05.241Z"
   },
   {
    "duration": 4,
    "start_time": "2022-02-11T18:58:13.411Z"
   },
   {
    "duration": 4,
    "start_time": "2022-02-11T18:58:36.320Z"
   },
   {
    "duration": 41085,
    "start_time": "2022-02-11T18:58:39.743Z"
   },
   {
    "duration": 3,
    "start_time": "2022-02-11T19:00:30.358Z"
   },
   {
    "duration": 40926,
    "start_time": "2022-02-11T19:00:33.488Z"
   },
   {
    "duration": 5,
    "start_time": "2022-02-11T19:02:06.691Z"
   },
   {
    "duration": 41239,
    "start_time": "2022-02-11T19:02:15.588Z"
   },
   {
    "duration": 6493,
    "start_time": "2022-02-11T19:03:01.209Z"
   },
   {
    "duration": 4,
    "start_time": "2022-02-11T19:11:28.421Z"
   },
   {
    "duration": 4,
    "start_time": "2022-02-11T19:11:48.206Z"
   },
   {
    "duration": 4,
    "start_time": "2022-02-11T19:12:37.199Z"
   },
   {
    "duration": 312,
    "start_time": "2022-02-11T19:12:42.946Z"
   },
   {
    "duration": 4,
    "start_time": "2022-02-11T19:15:28.925Z"
   },
   {
    "duration": 6659,
    "start_time": "2022-02-11T19:15:55.548Z"
   },
   {
    "duration": 6474,
    "start_time": "2022-02-11T19:16:13.006Z"
   },
   {
    "duration": 1222,
    "start_time": "2022-02-12T13:30:38.602Z"
   },
   {
    "duration": 739,
    "start_time": "2022-02-12T13:30:39.826Z"
   },
   {
    "duration": 17,
    "start_time": "2022-02-12T13:30:40.568Z"
   },
   {
    "duration": 11,
    "start_time": "2022-02-12T13:30:40.587Z"
   },
   {
    "duration": 18,
    "start_time": "2022-02-12T13:30:40.619Z"
   },
   {
    "duration": 258,
    "start_time": "2022-02-12T13:30:40.639Z"
   },
   {
    "duration": 153,
    "start_time": "2022-02-12T13:30:40.899Z"
   },
   {
    "duration": 24,
    "start_time": "2022-02-12T13:30:41.056Z"
   },
   {
    "duration": 6,
    "start_time": "2022-02-12T13:30:41.082Z"
   },
   {
    "duration": 6,
    "start_time": "2022-02-12T13:30:41.089Z"
   },
   {
    "duration": 11,
    "start_time": "2022-02-12T13:30:41.096Z"
   },
   {
    "duration": 11,
    "start_time": "2022-02-12T13:30:41.108Z"
   },
   {
    "duration": 239,
    "start_time": "2022-02-12T13:30:41.121Z"
   },
   {
    "duration": 4,
    "start_time": "2022-02-12T13:30:41.361Z"
   },
   {
    "duration": 44,
    "start_time": "2022-02-12T13:30:41.367Z"
   },
   {
    "duration": 14,
    "start_time": "2022-02-12T13:30:41.413Z"
   },
   {
    "duration": 18,
    "start_time": "2022-02-12T13:30:41.429Z"
   },
   {
    "duration": 50,
    "start_time": "2022-02-12T13:30:41.449Z"
   },
   {
    "duration": 49,
    "start_time": "2022-02-12T13:30:41.501Z"
   },
   {
    "duration": 5,
    "start_time": "2022-02-12T13:30:41.552Z"
   },
   {
    "duration": 30,
    "start_time": "2022-02-12T13:30:41.559Z"
   },
   {
    "duration": 6,
    "start_time": "2022-02-12T13:30:41.591Z"
   },
   {
    "duration": 11,
    "start_time": "2022-02-12T13:30:41.602Z"
   },
   {
    "duration": 4,
    "start_time": "2022-02-12T13:30:41.615Z"
   },
   {
    "duration": 7,
    "start_time": "2022-02-12T13:30:41.620Z"
   },
   {
    "duration": 11,
    "start_time": "2022-02-12T13:30:41.629Z"
   },
   {
    "duration": 11,
    "start_time": "2022-02-12T13:30:41.641Z"
   },
   {
    "duration": 280,
    "start_time": "2022-02-12T13:30:41.654Z"
   },
   {
    "duration": 277,
    "start_time": "2022-02-12T13:30:41.936Z"
   },
   {
    "duration": 378,
    "start_time": "2022-02-12T13:30:42.219Z"
   },
   {
    "duration": 537,
    "start_time": "2022-02-12T13:30:42.599Z"
   },
   {
    "duration": 437,
    "start_time": "2022-02-12T13:30:43.138Z"
   },
   {
    "duration": 4,
    "start_time": "2022-02-12T13:30:43.577Z"
   },
   {
    "duration": 18,
    "start_time": "2022-02-12T13:30:43.582Z"
   },
   {
    "duration": 269,
    "start_time": "2022-02-12T13:30:43.602Z"
   },
   {
    "duration": 701,
    "start_time": "2022-02-12T13:30:43.873Z"
   },
   {
    "duration": 91,
    "start_time": "2022-02-12T13:30:44.576Z"
   },
   {
    "duration": 15,
    "start_time": "2022-02-12T13:30:44.669Z"
   },
   {
    "duration": 10,
    "start_time": "2022-02-12T13:30:44.685Z"
   },
   {
    "duration": 29,
    "start_time": "2022-02-12T13:30:44.697Z"
   },
   {
    "duration": 3,
    "start_time": "2022-02-12T13:30:44.728Z"
   },
   {
    "duration": 9,
    "start_time": "2022-02-12T13:30:44.732Z"
   },
   {
    "duration": 13,
    "start_time": "2022-02-12T13:30:44.742Z"
   },
   {
    "duration": 7,
    "start_time": "2022-02-12T13:30:44.757Z"
   },
   {
    "duration": 17,
    "start_time": "2022-02-12T13:30:44.766Z"
   },
   {
    "duration": 8,
    "start_time": "2022-02-12T13:30:44.785Z"
   },
   {
    "duration": 9,
    "start_time": "2022-02-12T13:30:44.794Z"
   },
   {
    "duration": 18,
    "start_time": "2022-02-12T13:30:44.804Z"
   },
   {
    "duration": 23,
    "start_time": "2022-02-12T13:30:44.824Z"
   },
   {
    "duration": 367,
    "start_time": "2022-02-12T13:30:44.849Z"
   },
   {
    "duration": 41655,
    "start_time": "2022-02-12T13:30:03.563Z"
   },
   {
    "duration": 292,
    "start_time": "2022-02-12T13:31:04.975Z"
   },
   {
    "duration": 14,
    "start_time": "2022-02-12T13:31:19.951Z"
   },
   {
    "duration": 3,
    "start_time": "2022-02-12T13:31:24.063Z"
   },
   {
    "duration": 5,
    "start_time": "2022-02-12T13:31:25.827Z"
   },
   {
    "duration": 46488,
    "start_time": "2022-02-12T13:31:27.992Z"
   },
   {
    "duration": 3,
    "start_time": "2022-02-12T13:35:20.910Z"
   },
   {
    "duration": 17999,
    "start_time": "2022-02-12T13:36:15.734Z"
   },
   {
    "duration": 4,
    "start_time": "2022-02-12T13:37:20.215Z"
   },
   {
    "duration": 3,
    "start_time": "2022-02-12T13:42:32.855Z"
   },
   {
    "duration": 3,
    "start_time": "2022-02-12T13:42:58.401Z"
   },
   {
    "duration": 3,
    "start_time": "2022-02-12T13:46:03.986Z"
   },
   {
    "duration": 3,
    "start_time": "2022-02-12T13:46:33.915Z"
   },
   {
    "duration": 427,
    "start_time": "2022-02-12T13:47:34.688Z"
   },
   {
    "duration": 3,
    "start_time": "2022-02-12T13:47:45.438Z"
   },
   {
    "duration": 382,
    "start_time": "2022-02-12T13:47:46.910Z"
   },
   {
    "duration": 87,
    "start_time": "2022-02-12T13:48:29.217Z"
   },
   {
    "duration": 300,
    "start_time": "2022-02-12T13:48:32.963Z"
   },
   {
    "duration": 140853,
    "start_time": "2022-02-12T13:49:03.898Z"
   },
   {
    "duration": 13342,
    "start_time": "2022-02-12T13:51:57.055Z"
   },
   {
    "duration": 14287,
    "start_time": "2022-02-12T13:52:55.739Z"
   },
   {
    "duration": 13865,
    "start_time": "2022-02-12T13:53:15.042Z"
   },
   {
    "duration": 32,
    "start_time": "2022-02-12T13:53:47.519Z"
   },
   {
    "duration": 4,
    "start_time": "2022-02-12T13:55:08.793Z"
   },
   {
    "duration": 280,
    "start_time": "2022-02-12T13:55:18.869Z"
   },
   {
    "duration": 13521,
    "start_time": "2022-02-12T13:55:26.336Z"
   },
   {
    "duration": 89,
    "start_time": "2022-02-12T13:56:37.037Z"
   },
   {
    "duration": 139230,
    "start_time": "2022-02-12T13:56:46.995Z"
   },
   {
    "duration": 13349,
    "start_time": "2022-02-12T13:59:30.825Z"
   },
   {
    "duration": 6,
    "start_time": "2022-02-12T14:02:21.354Z"
   },
   {
    "duration": 5,
    "start_time": "2022-02-12T14:02:57.201Z"
   },
   {
    "duration": 265,
    "start_time": "2022-02-12T14:03:23.403Z"
   },
   {
    "duration": 4,
    "start_time": "2022-02-12T14:18:31.021Z"
   },
   {
    "duration": 4,
    "start_time": "2022-02-12T14:21:13.708Z"
   },
   {
    "duration": 703,
    "start_time": "2022-02-12T14:21:13.714Z"
   },
   {
    "duration": 16,
    "start_time": "2022-02-12T14:21:14.419Z"
   },
   {
    "duration": 11,
    "start_time": "2022-02-12T14:21:14.437Z"
   },
   {
    "duration": 18,
    "start_time": "2022-02-12T14:21:14.449Z"
   },
   {
    "duration": 259,
    "start_time": "2022-02-12T14:21:14.468Z"
   },
   {
    "duration": 134,
    "start_time": "2022-02-12T14:21:14.730Z"
   },
   {
    "duration": 5,
    "start_time": "2022-02-12T14:21:14.866Z"
   },
   {
    "duration": 8,
    "start_time": "2022-02-12T14:21:14.872Z"
   },
   {
    "duration": 4,
    "start_time": "2022-02-12T14:21:14.881Z"
   },
   {
    "duration": 7,
    "start_time": "2022-02-12T14:21:14.886Z"
   },
   {
    "duration": 24,
    "start_time": "2022-02-12T14:21:14.895Z"
   },
   {
    "duration": 218,
    "start_time": "2022-02-12T14:21:14.920Z"
   },
   {
    "duration": 5,
    "start_time": "2022-02-12T14:21:15.140Z"
   },
   {
    "duration": 19,
    "start_time": "2022-02-12T14:21:15.147Z"
   },
   {
    "duration": 12,
    "start_time": "2022-02-12T14:21:15.169Z"
   },
   {
    "duration": 15,
    "start_time": "2022-02-12T14:21:15.183Z"
   },
   {
    "duration": 47,
    "start_time": "2022-02-12T14:21:15.199Z"
   },
   {
    "duration": 9,
    "start_time": "2022-02-12T14:21:15.251Z"
   },
   {
    "duration": 6,
    "start_time": "2022-02-12T14:21:15.263Z"
   },
   {
    "duration": 11,
    "start_time": "2022-02-12T14:21:15.271Z"
   },
   {
    "duration": 40,
    "start_time": "2022-02-12T14:21:15.284Z"
   },
   {
    "duration": 16,
    "start_time": "2022-02-12T14:21:15.326Z"
   },
   {
    "duration": 4,
    "start_time": "2022-02-12T14:21:15.345Z"
   },
   {
    "duration": 8,
    "start_time": "2022-02-12T14:21:15.351Z"
   },
   {
    "duration": 9,
    "start_time": "2022-02-12T14:21:15.361Z"
   },
   {
    "duration": 8,
    "start_time": "2022-02-12T14:21:15.371Z"
   },
   {
    "duration": 365,
    "start_time": "2022-02-12T14:21:15.381Z"
   },
   {
    "duration": 255,
    "start_time": "2022-02-12T14:21:15.748Z"
   },
   {
    "duration": 282,
    "start_time": "2022-02-12T14:21:16.005Z"
   },
   {
    "duration": 395,
    "start_time": "2022-02-12T14:21:16.289Z"
   },
   {
    "duration": 419,
    "start_time": "2022-02-12T14:21:16.686Z"
   },
   {
    "duration": 3,
    "start_time": "2022-02-12T14:21:17.107Z"
   },
   {
    "duration": 18,
    "start_time": "2022-02-12T14:21:17.111Z"
   },
   {
    "duration": 243,
    "start_time": "2022-02-12T14:21:17.131Z"
   },
   {
    "duration": 571,
    "start_time": "2022-02-12T14:21:17.376Z"
   },
   {
    "duration": 93,
    "start_time": "2022-02-12T14:21:17.948Z"
   },
   {
    "duration": 120,
    "start_time": "2022-02-12T14:21:18.043Z"
   },
   {
    "duration": 10,
    "start_time": "2022-02-12T14:21:18.165Z"
   },
   {
    "duration": 10,
    "start_time": "2022-02-12T14:21:18.177Z"
   },
   {
    "duration": 4,
    "start_time": "2022-02-12T14:21:18.188Z"
   },
   {
    "duration": 27,
    "start_time": "2022-02-12T14:21:18.193Z"
   },
   {
    "duration": 10,
    "start_time": "2022-02-12T14:21:18.222Z"
   },
   {
    "duration": 9,
    "start_time": "2022-02-12T14:21:18.234Z"
   },
   {
    "duration": 9,
    "start_time": "2022-02-12T14:21:18.244Z"
   },
   {
    "duration": 20,
    "start_time": "2022-02-12T14:21:18.254Z"
   },
   {
    "duration": 33,
    "start_time": "2022-02-12T14:21:18.276Z"
   },
   {
    "duration": 13,
    "start_time": "2022-02-12T14:21:18.310Z"
   },
   {
    "duration": 5,
    "start_time": "2022-02-12T14:21:18.324Z"
   },
   {
    "duration": 8,
    "start_time": "2022-02-12T14:21:18.330Z"
   },
   {
    "duration": 46211,
    "start_time": "2022-02-12T14:21:18.340Z"
   },
   {
    "duration": 14459,
    "start_time": "2022-02-12T14:22:17.717Z"
   },
   {
    "duration": 270,
    "start_time": "2022-02-12T14:23:34.121Z"
   },
   {
    "duration": 390,
    "start_time": "2022-02-12T14:23:40.107Z"
   },
   {
    "duration": 261,
    "start_time": "2022-02-12T14:23:47.377Z"
   },
   {
    "duration": 5,
    "start_time": "2022-02-12T14:25:36.535Z"
   },
   {
    "duration": 274,
    "start_time": "2022-02-12T14:25:55.354Z"
   },
   {
    "duration": 3,
    "start_time": "2022-02-12T14:25:58.945Z"
   },
   {
    "duration": 262,
    "start_time": "2022-02-12T14:26:04.642Z"
   },
   {
    "duration": 3,
    "start_time": "2022-02-12T14:26:08.022Z"
   },
   {
    "duration": 13960,
    "start_time": "2022-02-12T14:27:21.791Z"
   },
   {
    "duration": 27356,
    "start_time": "2022-02-12T14:27:41.970Z"
   },
   {
    "duration": 134325,
    "start_time": "2022-02-12T14:28:20.648Z"
   },
   {
    "duration": 1624,
    "start_time": "2022-02-12T16:17:46.208Z"
   },
   {
    "duration": 1105,
    "start_time": "2022-02-12T16:17:47.834Z"
   },
   {
    "duration": 47,
    "start_time": "2022-02-12T16:17:48.943Z"
   },
   {
    "duration": 17,
    "start_time": "2022-02-12T16:17:50.634Z"
   },
   {
    "duration": 25,
    "start_time": "2022-02-12T16:17:52.033Z"
   },
   {
    "duration": 379,
    "start_time": "2022-02-12T16:17:59.836Z"
   },
   {
    "duration": 305,
    "start_time": "2022-02-12T16:18:03.191Z"
   },
   {
    "duration": 13,
    "start_time": "2022-02-12T16:18:47.578Z"
   },
   {
    "duration": 7,
    "start_time": "2022-02-12T16:18:48.040Z"
   },
   {
    "duration": 4,
    "start_time": "2022-02-12T16:19:03.016Z"
   },
   {
    "duration": 7,
    "start_time": "2022-02-12T16:19:03.448Z"
   },
   {
    "duration": 6,
    "start_time": "2022-02-12T16:19:05.992Z"
   },
   {
    "duration": 489,
    "start_time": "2022-02-12T16:21:41.699Z"
   },
   {
    "duration": 7,
    "start_time": "2022-02-12T16:21:42.539Z"
   },
   {
    "duration": 18,
    "start_time": "2022-02-12T16:21:42.721Z"
   },
   {
    "duration": 13,
    "start_time": "2022-02-12T16:21:43.237Z"
   },
   {
    "duration": 15,
    "start_time": "2022-02-12T16:22:14.949Z"
   },
   {
    "duration": 34,
    "start_time": "2022-02-12T16:22:15.698Z"
   },
   {
    "duration": 11,
    "start_time": "2022-02-12T16:23:51.025Z"
   },
   {
    "duration": 6,
    "start_time": "2022-02-12T16:23:52.041Z"
   },
   {
    "duration": 11,
    "start_time": "2022-02-12T16:23:52.280Z"
   },
   {
    "duration": 9,
    "start_time": "2022-02-12T16:24:19.723Z"
   },
   {
    "duration": 23,
    "start_time": "2022-02-12T16:24:20.280Z"
   },
   {
    "duration": 5,
    "start_time": "2022-02-12T16:25:15.615Z"
   },
   {
    "duration": 5,
    "start_time": "2022-02-12T16:25:16.151Z"
   },
   {
    "duration": 5,
    "start_time": "2022-02-12T16:25:16.390Z"
   },
   {
    "duration": 5,
    "start_time": "2022-02-12T16:25:18.973Z"
   },
   {
    "duration": 424,
    "start_time": "2022-02-12T16:25:20.047Z"
   },
   {
    "duration": 598,
    "start_time": "2022-02-12T16:25:20.644Z"
   },
   {
    "duration": 434,
    "start_time": "2022-02-12T16:25:21.902Z"
   },
   {
    "duration": 742,
    "start_time": "2022-02-12T16:25:52.597Z"
   },
   {
    "duration": 711,
    "start_time": "2022-02-12T16:25:53.342Z"
   },
   {
    "duration": 6,
    "start_time": "2022-02-12T16:26:30.969Z"
   },
   {
    "duration": 16,
    "start_time": "2022-02-12T16:26:31.395Z"
   },
   {
    "duration": 407,
    "start_time": "2022-02-12T16:26:31.904Z"
   },
   {
    "duration": 978,
    "start_time": "2022-02-12T16:26:33.906Z"
   },
   {
    "duration": 128,
    "start_time": "2022-02-12T16:26:36.398Z"
   },
   {
    "duration": 26,
    "start_time": "2022-02-12T16:26:37.030Z"
   },
   {
    "duration": 16,
    "start_time": "2022-02-12T16:26:37.610Z"
   },
   {
    "duration": 19,
    "start_time": "2022-02-12T16:26:38.142Z"
   },
   {
    "duration": 4,
    "start_time": "2022-02-12T16:27:50.775Z"
   },
   {
    "duration": 4,
    "start_time": "2022-02-12T16:27:51.590Z"
   },
   {
    "duration": 9,
    "start_time": "2022-02-12T16:27:52.264Z"
   },
   {
    "duration": 4,
    "start_time": "2022-02-12T16:27:53.631Z"
   },
   {
    "duration": 5,
    "start_time": "2022-02-12T16:27:53.827Z"
   },
   {
    "duration": 11,
    "start_time": "2022-02-12T16:27:55.272Z"
   },
   {
    "duration": 8,
    "start_time": "2022-02-12T16:28:16.558Z"
   },
   {
    "duration": 7,
    "start_time": "2022-02-12T16:28:32.095Z"
   },
   {
    "duration": 25,
    "start_time": "2022-02-12T16:29:05.570Z"
   },
   {
    "duration": 19,
    "start_time": "2022-02-12T16:29:06.235Z"
   },
   {
    "duration": 5,
    "start_time": "2022-02-12T16:29:49.667Z"
   },
   {
    "duration": 7,
    "start_time": "2022-02-12T16:29:50.754Z"
   },
   {
    "duration": 920,
    "start_time": "2022-02-12T16:29:52.142Z"
   },
   {
    "duration": 5,
    "start_time": "2022-02-12T16:30:14.677Z"
   },
   {
    "duration": 58406,
    "start_time": "2022-02-12T16:30:21.725Z"
   },
   {
    "duration": 17076,
    "start_time": "2022-02-12T16:31:20.134Z"
   },
   {
    "duration": 1636,
    "start_time": "2022-02-13T10:59:29.196Z"
   },
   {
    "duration": 933,
    "start_time": "2022-02-13T10:59:30.834Z"
   },
   {
    "duration": 25,
    "start_time": "2022-02-13T10:59:31.770Z"
   },
   {
    "duration": 37,
    "start_time": "2022-02-13T10:59:31.798Z"
   },
   {
    "duration": 28,
    "start_time": "2022-02-13T10:59:31.838Z"
   },
   {
    "duration": 394,
    "start_time": "2022-02-13T10:59:31.869Z"
   },
   {
    "duration": 231,
    "start_time": "2022-02-13T10:59:32.265Z"
   },
   {
    "duration": 12,
    "start_time": "2022-02-13T10:59:32.500Z"
   },
   {
    "duration": 21,
    "start_time": "2022-02-13T10:59:32.516Z"
   },
   {
    "duration": 5,
    "start_time": "2022-02-13T10:59:32.539Z"
   },
   {
    "duration": 9,
    "start_time": "2022-02-13T10:59:32.546Z"
   },
   {
    "duration": 7,
    "start_time": "2022-02-13T10:59:32.558Z"
   },
   {
    "duration": 428,
    "start_time": "2022-02-13T10:59:32.567Z"
   },
   {
    "duration": 5,
    "start_time": "2022-02-13T10:59:32.998Z"
   },
   {
    "duration": 38,
    "start_time": "2022-02-13T10:59:33.005Z"
   },
   {
    "duration": 13,
    "start_time": "2022-02-13T10:59:33.046Z"
   },
   {
    "duration": 16,
    "start_time": "2022-02-13T10:59:33.062Z"
   },
   {
    "duration": 59,
    "start_time": "2022-02-13T10:59:33.081Z"
   },
   {
    "duration": 12,
    "start_time": "2022-02-13T10:59:33.143Z"
   },
   {
    "duration": 6,
    "start_time": "2022-02-13T10:59:33.157Z"
   },
   {
    "duration": 17,
    "start_time": "2022-02-13T10:59:33.165Z"
   },
   {
    "duration": 7,
    "start_time": "2022-02-13T10:59:33.185Z"
   },
   {
    "duration": 18,
    "start_time": "2022-02-13T10:59:33.234Z"
   },
   {
    "duration": 5,
    "start_time": "2022-02-13T10:59:33.255Z"
   },
   {
    "duration": 7,
    "start_time": "2022-02-13T10:59:33.263Z"
   },
   {
    "duration": 10,
    "start_time": "2022-02-13T10:59:33.273Z"
   },
   {
    "duration": 6,
    "start_time": "2022-02-13T10:59:33.286Z"
   },
   {
    "duration": 465,
    "start_time": "2022-02-13T10:59:33.295Z"
   },
   {
    "duration": 429,
    "start_time": "2022-02-13T10:59:33.762Z"
   },
   {
    "duration": 648,
    "start_time": "2022-02-13T10:59:34.193Z"
   },
   {
    "duration": 1131,
    "start_time": "2022-02-13T10:59:34.844Z"
   },
   {
    "duration": 730,
    "start_time": "2022-02-13T10:59:35.977Z"
   },
   {
    "duration": 5,
    "start_time": "2022-02-13T10:59:36.710Z"
   },
   {
    "duration": 33,
    "start_time": "2022-02-13T10:59:36.717Z"
   },
   {
    "duration": 608,
    "start_time": "2022-02-13T10:59:36.752Z"
   },
   {
    "duration": 1591,
    "start_time": "2022-02-13T10:59:37.363Z"
   },
   {
    "duration": 134,
    "start_time": "2022-02-13T10:59:38.957Z"
   },
   {
    "duration": 24,
    "start_time": "2022-02-13T10:59:39.094Z"
   },
   {
    "duration": 16,
    "start_time": "2022-02-13T10:59:39.133Z"
   },
   {
    "duration": 16,
    "start_time": "2022-02-13T10:59:39.151Z"
   },
   {
    "duration": 402,
    "start_time": "2022-02-13T11:00:23.264Z"
   },
   {
    "duration": 381,
    "start_time": "2022-02-13T11:00:29.297Z"
   },
   {
    "duration": 397,
    "start_time": "2022-02-13T11:00:46.322Z"
   },
   {
    "duration": 503,
    "start_time": "2022-02-13T11:00:53.775Z"
   },
   {
    "duration": 386,
    "start_time": "2022-02-13T11:02:16.795Z"
   },
   {
    "duration": 15,
    "start_time": "2022-02-13T11:04:51.731Z"
   },
   {
    "duration": 384,
    "start_time": "2022-02-13T11:04:52.506Z"
   },
   {
    "duration": 1116,
    "start_time": "2022-02-13T11:05:26.305Z"
   },
   {
    "duration": 6,
    "start_time": "2022-02-13T11:06:06.707Z"
   },
   {
    "duration": 12,
    "start_time": "2022-02-13T11:06:13.245Z"
   },
   {
    "duration": 431,
    "start_time": "2022-02-13T11:12:36.957Z"
   },
   {
    "duration": 6,
    "start_time": "2022-02-13T11:12:50.208Z"
   },
   {
    "duration": 9,
    "start_time": "2022-02-13T11:12:52.816Z"
   },
   {
    "duration": 4,
    "start_time": "2022-02-13T11:12:56.262Z"
   },
   {
    "duration": 6,
    "start_time": "2022-02-13T11:12:56.668Z"
   },
   {
    "duration": 11,
    "start_time": "2022-02-13T11:13:00.364Z"
   },
   {
    "duration": 3126,
    "start_time": "2022-02-13T11:13:12.361Z"
   },
   {
    "duration": 270,
    "start_time": "2022-02-13T11:15:15.931Z"
   },
   {
    "duration": 311,
    "start_time": "2022-02-13T11:15:29.421Z"
   },
   {
    "duration": 3698,
    "start_time": "2022-02-13T11:15:35.196Z"
   },
   {
    "duration": 3638,
    "start_time": "2022-02-13T11:15:46.658Z"
   },
   {
    "duration": 39,
    "start_time": "2022-02-13T11:16:02.542Z"
   },
   {
    "duration": 5,
    "start_time": "2022-02-13T11:16:15.602Z"
   },
   {
    "duration": 38,
    "start_time": "2022-02-13T11:17:26.609Z"
   },
   {
    "duration": 7,
    "start_time": "2022-02-13T11:17:33.894Z"
   },
   {
    "duration": 262,
    "start_time": "2022-02-13T11:17:49.781Z"
   },
   {
    "duration": 2632,
    "start_time": "2022-02-13T11:17:54.679Z"
   },
   {
    "duration": 1390,
    "start_time": "2022-02-13T11:18:07.249Z"
   },
   {
    "duration": 1792,
    "start_time": "2022-02-13T11:18:17.613Z"
   },
   {
    "duration": 3887,
    "start_time": "2022-02-13T11:18:31.008Z"
   },
   {
    "duration": 7,
    "start_time": "2022-02-13T11:22:24.805Z"
   },
   {
    "duration": 7,
    "start_time": "2022-02-13T11:22:38.222Z"
   },
   {
    "duration": 7,
    "start_time": "2022-02-13T11:22:40.824Z"
   },
   {
    "duration": 3003,
    "start_time": "2022-02-13T11:22:47.030Z"
   },
   {
    "duration": 309,
    "start_time": "2022-02-13T11:24:33.309Z"
   },
   {
    "duration": 4,
    "start_time": "2022-02-13T11:25:06.267Z"
   },
   {
    "duration": 9,
    "start_time": "2022-02-13T11:25:06.991Z"
   },
   {
    "duration": 8,
    "start_time": "2022-02-13T11:25:10.431Z"
   },
   {
    "duration": 10,
    "start_time": "2022-02-13T11:25:13.264Z"
   },
   {
    "duration": 4,
    "start_time": "2022-02-13T11:25:24.357Z"
   },
   {
    "duration": 6,
    "start_time": "2022-02-13T11:25:24.777Z"
   },
   {
    "duration": 10,
    "start_time": "2022-02-13T11:25:27.630Z"
   },
   {
    "duration": 28,
    "start_time": "2022-02-13T11:25:40.633Z"
   },
   {
    "duration": 18,
    "start_time": "2022-02-13T11:25:41.179Z"
   },
   {
    "duration": 4,
    "start_time": "2022-02-13T11:25:46.939Z"
   },
   {
    "duration": 8,
    "start_time": "2022-02-13T11:25:47.650Z"
   },
   {
    "duration": 506,
    "start_time": "2022-02-13T11:25:57.390Z"
   },
   {
    "duration": 6,
    "start_time": "2022-02-13T11:26:19.813Z"
   },
   {
    "duration": 44169,
    "start_time": "2022-02-13T11:26:26.955Z"
   },
   {
    "duration": 17618,
    "start_time": "2022-02-13T11:29:05.721Z"
   },
   {
    "duration": 5,
    "start_time": "2022-02-13T11:30:20.999Z"
   },
   {
    "duration": 294,
    "start_time": "2022-02-13T11:30:36.617Z"
   },
   {
    "duration": 6,
    "start_time": "2022-02-13T11:30:41.454Z"
   },
   {
    "duration": 19570,
    "start_time": "2022-02-13T11:30:44.100Z"
   },
   {
    "duration": 16521,
    "start_time": "2022-02-13T11:31:17.708Z"
   },
   {
    "duration": 256,
    "start_time": "2022-02-13T11:33:16.824Z"
   },
   {
    "duration": 86000,
    "start_time": "2022-02-13T11:34:29.043Z"
   }
  ],
  "kernelspec": {
   "display_name": "Python 3 (ipykernel)",
   "language": "python",
   "name": "python3"
  },
  "language_info": {
   "codemirror_mode": {
    "name": "ipython",
    "version": 3
   },
   "file_extension": ".py",
   "mimetype": "text/x-python",
   "name": "python",
   "nbconvert_exporter": "python",
   "pygments_lexer": "ipython3",
   "version": "3.9.5"
  },
  "toc": {
   "base_numbering": 1,
   "nav_menu": {},
   "number_sections": true,
   "sideBar": true,
   "skip_h1_title": true,
   "title_cell": "Содержание",
   "title_sidebar": "Contents",
   "toc_cell": true,
   "toc_position": {
    "height": "calc(100% - 180px)",
    "left": "10px",
    "top": "150px",
    "width": "240px"
   },
   "toc_section_display": true,
   "toc_window_display": true
  }
 },
 "nbformat": 4,
 "nbformat_minor": 2
}
